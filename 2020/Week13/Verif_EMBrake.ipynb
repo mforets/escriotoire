{
 "cells": [
  {
   "cell_type": "code",
   "execution_count": null,
   "metadata": {},
   "outputs": [
    {
     "name": "stderr",
     "output_type": "stream",
     "text": [
      "┌ Info: Precompiling ReachabilityAnalysis [1e97bd63-91d1-579d-8e8d-501d2b57c93f]\n",
      "└ @ Base loading.jl:1260\n",
      "┌ Info: Precompiling Plots [91a5bcdd-55d7-5caf-9e0b-520d859cae80]\n",
      "└ @ Base loading.jl:1260\n"
     ]
    }
   ],
   "source": [
    "using Revise, ReachabilityAnalysis, BenchmarkTools\n",
    "\n",
    "const RA = ReachabilityAnalysis\n",
    "RA.AbstractLazyReachSet\n",
    "using Plots"
   ]
  },
  {
   "cell_type": "code",
   "execution_count": null,
   "metadata": {},
   "outputs": [],
   "source": [
    "include(\"/home/mforets/.julia/dev/ReachabilityAnalysis/test/models/hybrid/embrake.jl\")"
   ]
  },
  {
   "cell_type": "markdown",
   "metadata": {},
   "source": [
    "# Flowpipe no pv"
   ]
  },
  {
   "cell_type": "code",
   "execution_count": null,
   "metadata": {},
   "outputs": [],
   "source": [
    "prob = embrake_no_pv(ζ=1e-5);"
   ]
  },
  {
   "cell_type": "code",
   "execution_count": null,
   "metadata": {},
   "outputs": [],
   "source": [
    "typeof(prob)"
   ]
  },
  {
   "cell_type": "code",
   "execution_count": null,
   "metadata": {},
   "outputs": [],
   "source": []
  },
  {
   "cell_type": "code",
   "execution_count": null,
   "metadata": {},
   "outputs": [],
   "source": [
    "@time sol = solve(prob, alg=GLGM06(δ=1e-6), max_jumps=1000);"
   ]
  },
  {
   "cell_type": "code",
   "execution_count": null,
   "metadata": {},
   "outputs": [],
   "source": [
    "#@time sol = solve(prob, alg=GLGM06(δ=1e-8), max_jumps=1000, force_static=false);"
   ]
  },
  {
   "cell_type": "markdown",
   "metadata": {},
   "source": [
    "## Requirements"
   ]
  },
  {
   "cell_type": "markdown",
   "metadata": {},
   "source": [
    "1) Variable $x(t)$ is such that $\\Vert x(t) - x_0 \\Vert \\leq \\varepsilon$ for all $t \\geq t_1$. We take $t_1 = 23ms$ and $x_0 = 0.05$."
   ]
  },
  {
   "cell_type": "code",
   "execution_count": null,
   "metadata": {},
   "outputs": [],
   "source": [
    "x0 = 0.05\n",
    "ε = 2e-3"
   ]
  },
  {
   "cell_type": "markdown",
   "metadata": {},
   "source": [
    "2) The speed does is not bigger than a certain threshold  value once the disc makes contact: $\\vert v(t) \\vert \\leq v_{max}$ for all $t \\geq t_1$. We take $t_1 = 23ms$ and $v_{max} = 2mm/s$."
   ]
  },
  {
   "cell_type": "markdown",
   "metadata": {},
   "source": [
    "### Requirement 1"
   ]
  },
  {
   "cell_type": "code",
   "execution_count": null,
   "metadata": {},
   "outputs": [],
   "source": [
    "Dx⁺ = [0, 1.0, 0, 0]\n",
    "Dx⁻ = [0, -1.0, 0, 0]"
   ]
  },
  {
   "cell_type": "code",
   "execution_count": null,
   "metadata": {},
   "outputs": [],
   "source": [
    "# prueba\n",
    "using LazySets.Approximations\n",
    "\n",
    "R = ReachSet(rand(Zonotope, dim=2), 0 .. 1)\n",
    "\n",
    "dirs_box = [Vector(v) for v in collect(BoxDirections(2))]\n",
    "Rbox = overapproximate(R, dirs_box)\n",
    "\n",
    "dirs_oct = [Vector(v) for v in collect(OctDirections(2))]\n",
    "Roct = overapproximate(R, dirs_oct);\n",
    "\n",
    "dirs_pol = [Vector(v) for v in collect(PolarDirections(100))]\n",
    "Rpol = overapproximate(R, dirs_pol);\n",
    "\n",
    "plot(set(R))\n",
    "plot!(set(Rpol), alpha=.3)"
   ]
  },
  {
   "cell_type": "code",
   "execution_count": null,
   "metadata": {},
   "outputs": [],
   "source": [
    "function requirement_1(sol::Vector{<:Flowpipe{N}}) where {N}\n",
    "\n",
    "    Dx⁺ = [0, 1.0, 0, 0]\n",
    "    Dx⁻ = [0, -1.0, 0, 0]\n",
    "    dirs = [Dx⁺, Dx⁻]\n",
    "\n",
    "    vtempl = Vector{TemplateReachSet{N, Vector{N}}}()\n",
    "    sizehint!(vtempl, length(sol) * length(sol[1]))\n",
    "    \n",
    "    for fp in sol\n",
    "        for X in fp\n",
    "            Rtemplate = overapproximate(X, dirs)\n",
    "            push!(vtempl, Rtemplate)\n",
    "        end\n",
    "    end\n",
    "    return Flowpipe(vtempl)\n",
    "end"
   ]
  },
  {
   "cell_type": "code",
   "execution_count": null,
   "metadata": {},
   "outputs": [],
   "source": [
    "@time r1 = requirement_1(sol);"
   ]
  },
  {
   "cell_type": "code",
   "execution_count": null,
   "metadata": {},
   "outputs": [],
   "source": [
    "typeof(t1)"
   ]
  },
  {
   "cell_type": "markdown",
   "metadata": {},
   "source": [
    "$|x(t) - x_0|$ vale $x(t) - x_0$ si $x(t) \\geq x_0$ o $x_0 - x(t)$ si $x(t) < x_0$."
   ]
  },
  {
   "cell_type": "code",
   "execution_count": null,
   "metadata": {},
   "outputs": [],
   "source": [
    "tend(r1)"
   ]
  },
  {
   "cell_type": "code",
   "execution_count": null,
   "metadata": {},
   "outputs": [],
   "source": [
    "const IA = IntervalArithmetic\n",
    "\n",
    "t1 = 98e-3 #23e-3\n",
    "tf = tend(r1)\n",
    "y = r1(IA.Interval(t1, tf))\n",
    "\n",
    "max_D⁺ = maximum(sup_func(X, 1) for X in y)\n",
    "@show max_D⁺ \n",
    "@show max_D⁺ < x0 + ε\n",
    "\n",
    "max_D⁻ = maximum(sup_func(X, 2) for X in y)\n",
    "@show max_D⁻\n",
    "@show max_D⁻ < -x0 + ε"
   ]
  },
  {
   "cell_type": "code",
   "execution_count": null,
   "metadata": {},
   "outputs": [],
   "source": [
    "-x0 + ε"
   ]
  },
  {
   "cell_type": "code",
   "execution_count": null,
   "metadata": {},
   "outputs": [],
   "source": [
    "length(sol[1])"
   ]
  },
  {
   "cell_type": "code",
   "execution_count": null,
   "metadata": {},
   "outputs": [],
   "source": [
    "plot([project(X, [0, 2]) for X in sol[600][1:100:end]], vars=(0, 2))\n",
    "plot!(x -> x0 + ε, color=:red)\n",
    "plot!(x -> x0 - ε, color=:red)"
   ]
  },
  {
   "cell_type": "code",
   "execution_count": null,
   "metadata": {},
   "outputs": [],
   "source": [
    "tspan(sol[900])"
   ]
  },
  {
   "cell_type": "code",
   "execution_count": null,
   "metadata": {},
   "outputs": [],
   "source": [
    "x0 - maximum(sup_func(X, 2) for X in y)"
   ]
  },
  {
   "cell_type": "code",
   "execution_count": null,
   "metadata": {},
   "outputs": [],
   "source": []
  },
  {
   "cell_type": "code",
   "execution_count": null,
   "metadata": {},
   "outputs": [],
   "source": [
    "[Interval(tspan(X)) × Interval(sup_func(X, 1), sup_func(X, 1)) for X in r1];"
   ]
  },
  {
   "cell_type": "code",
   "execution_count": null,
   "metadata": {},
   "outputs": [],
   "source": [
    "using Plots"
   ]
  },
  {
   "cell_type": "code",
   "execution_count": null,
   "metadata": {},
   "outputs": [],
   "source": [
    "plot([Interval(tspan(X)) × Singleton([sup_func(X, 1)]) for X in r1])"
   ]
  },
  {
   "cell_type": "code",
   "execution_count": null,
   "metadata": {},
   "outputs": [],
   "source": [
    "plot!([Interval(tspan(X)) × Singleton([-sup_func(X, 2)]) for X in r1])"
   ]
  },
  {
   "cell_type": "code",
   "execution_count": null,
   "metadata": {},
   "outputs": [],
   "source": [
    "# project(sol[1], [2]) # hacer\n",
    "# project(sol[1][1], (2)) # HACER\n",
    "\n",
    "intervalo_test = Interval(x0 - ε, x0 + ε)\n",
    "\n",
    "X = [[set(project(X, [2])) for X in sol_i] for sol_i in sol];"
   ]
  },
  {
   "cell_type": "code",
   "execution_count": null,
   "metadata": {},
   "outputs": [],
   "source": [
    "X[2][10] ⊆ intervalo_test"
   ]
  },
  {
   "cell_type": "markdown",
   "metadata": {},
   "source": [
    "### Requirement 2"
   ]
  },
  {
   "cell_type": "code",
   "execution_count": null,
   "metadata": {},
   "outputs": [],
   "source": [
    "# assumes that v = K/(i*drot) * I and\n",
    "# I is the first (1) variable in the flowpipe\n",
    "function velocity(sol, K, i, drot)\n",
    "    M = hcat(K/(i*drot))\n",
    "    if isa(M, Interval)\n",
    "        M = IntervalMatrix(M)\n",
    "    end\n",
    "\n",
    "    V_fp = Vector{SparseReachSet}()\n",
    "    for fp in sol\n",
    "        for X in fp\n",
    "            I_Δt = overapproximate(M * set(project(X, [1])), Zonotope)\n",
    "            Δt = tspan(X)\n",
    "            push!(V_fp, SparseReachSet(I_Δt, Δt, [1]))\n",
    "        end\n",
    "    end\n",
    "\n",
    "    return V_fp\n",
    "end\n",
    "\n",
    "function requirement_2(sol::Vector{<:Flowpipe{N}}) where {N}\n",
    "\n",
    "    Dx⁺ = [0, 1.0, 0, 0]\n",
    "    Dx⁻ = [0, -1.0, 0, 0]\n",
    "    dirs = [Dx⁺, Dx⁻]\n",
    "\n",
    "    vtempl = Vector{TemplateReachSet{N, Vector{N}}}()\n",
    "    sizehint!(vtempl, length(sol) * length(sol[1]))\n",
    "    \n",
    "    for fp in sol\n",
    "        for X in fp\n",
    "            sfunc = [ρ(Dx⁺, X), ρ(Dx⁻, X)]\n",
    "            Δt = tspan(X)\n",
    "            R = TemplateReachSet(dirs, sfunc, Δt)\n",
    "            push!(vtempl, R)\n",
    "        end\n",
    "    end\n",
    "    return vtempl\n",
    "end"
   ]
  }
 ],
 "metadata": {
  "kernelspec": {
   "display_name": "Julia 1.4.0",
   "language": "julia",
   "name": "julia-1.4"
  },
  "language_info": {
   "file_extension": ".jl",
   "mimetype": "application/julia",
   "name": "julia",
   "version": "1.4.0"
  }
 },
 "nbformat": 4,
 "nbformat_minor": 2
}
