{
 "cells": [
  {
   "cell_type": "code",
   "execution_count": 1,
   "metadata": {},
   "outputs": [],
   "source": [
    "import math\n",
    "\n",
    "import numpy as np\n",
    "from scipy.sparse import dia_matrix\n",
    "from scipy.linalg import expm\n",
    "\n",
    "import matplotlib.pyplot as plt"
   ]
  },
  {
   "cell_type": "code",
   "execution_count": 4,
   "metadata": {},
   "outputs": [],
   "source": [
    "def make_init(a_matrix, samples, init_temp):\n",
    "    '''returns an initial state vector'''\n",
    "\n",
    "    vec = np.zeros((a_matrix.shape[0], 1), dtype=float)\n",
    "\n",
    "    assert samples == 5 or (samples >= 10 and samples % 10 == 0), \"init region isn't evenly divided by discretization\"\n",
    "\n",
    "    # maximum z point for initial region is 0.2 for 5 samples and 0.1 otherwise\n",
    "    max_z = samples // 10 + 1 if samples >= 10 else 2 * samples // 10 + 1\n",
    "\n",
    "    for z in range(max_z):\n",
    "        zoffset = z * samples * samples\n",
    "\n",
    "        for y in range(2 * samples // 10 + 1):\n",
    "            yoffset = y * samples\n",
    "\n",
    "            for x in range(4 * samples // 10 + 1):\n",
    "                index = x + yoffset + zoffset\n",
    "\n",
    "                vec[index] = init_temp\n",
    "\n",
    "    return vec"
   ]
  },
  {
   "cell_type": "code",
   "execution_count": 5,
   "metadata": {},
   "outputs": [],
   "source": [
    "def heat3d_dia(samples, diffusity_const, heat_exchange_const):\n",
    "    'fast dia_matrix construction for heat3d dynamics'\n",
    "\n",
    "    samples_sq = samples**2\n",
    "    dims = samples**3\n",
    "    step = 1.0 / (samples + 1)\n",
    "\n",
    "    a = diffusity_const * 1.0 / step**2\n",
    "    d = -2.0 * (a + a + a)\n",
    "\n",
    "    data = np.zeros((7, dims))\n",
    "    offsets = np.array([-samples_sq, -samples, -1, 0, 1, samples, samples_sq], dtype=float)\n",
    "\n",
    "    # element with z = -1\n",
    "    data[0, :-samples_sq] = a\n",
    "\n",
    "    # element with y = -1\n",
    "    for s in range(samples):\n",
    "        start = s * samples_sq\n",
    "        end = (s + 1) * (samples_sq) - samples\n",
    "        data[1, start:end] = a\n",
    "\n",
    "    # element with x = -1\n",
    "    for s in range(samples_sq):\n",
    "        start = s * samples\n",
    "        end = (s + 1) * (samples) - 1\n",
    "        data[2, start:end] = a\n",
    "\n",
    "    #### diagonal element ####\n",
    "    data[3, :] = d     # (prefill)\n",
    "\n",
    "    # adjust when z = 0 or z = samples-1\n",
    "    data[3, :samples_sq] += a\n",
    "    data[3, -samples_sq:] += a\n",
    "\n",
    "    # adjust when y = 0 or y = samples-1\n",
    "    for z in range(samples):\n",
    "        z_offset = z * samples_sq\n",
    "\n",
    "        data[3, z_offset:z_offset + samples] += a\n",
    "        data[3, z_offset + samples_sq - samples:z_offset + samples_sq] += a\n",
    "\n",
    "    # adjust when x = 0 (and add diffusion term when x = samples-1)\n",
    "    for z in range(samples):\n",
    "        for y in range(samples):\n",
    "            offset = z * samples_sq + y * samples\n",
    "\n",
    "            data[3, offset] += a\n",
    "\n",
    "            data[3, offset + samples - 1] += a / (1+heat_exchange_const * step)\n",
    "\n",
    "    #### end diagnal element ####\n",
    "    # element with x = +1\n",
    "    for s in range(samples_sq):\n",
    "        start = 1 + s * samples\n",
    "        end = (s + 1) * samples\n",
    "        data[4, start:end] = a\n",
    "\n",
    "    # element with y = +1\n",
    "    for s in range(samples):\n",
    "        start = s * samples_sq + samples\n",
    "        end = (s + 1) * (samples_sq)\n",
    "        data[5, start:end] = a\n",
    "\n",
    "    # element with z = +1\n",
    "    data[6, samples_sq:] = a\n",
    "\n",
    "    rv = dia_matrix((data, offsets), shape=(dims, dims))\n",
    "    assert np.may_share_memory(rv.data, data)     # make sure we didn't copy memory\n",
    "\n",
    "    return rv"
   ]
  },
  {
   "cell_type": "code",
   "execution_count": 36,
   "metadata": {},
   "outputs": [],
   "source": [
    "# parameters\n",
    "samples_per_side = 5\n",
    "diffusity_const = 0.01\n",
    "heat_exchange_const = 0.5\n",
    "\n",
    "a_matrix = heat3d_dia(samples_per_side, diffusity_const, heat_exchange_const)"
   ]
  },
  {
   "cell_type": "code",
   "execution_count": 37,
   "metadata": {},
   "outputs": [],
   "source": [
    "import scipy.io"
   ]
  },
  {
   "cell_type": "code",
   "execution_count": 38,
   "metadata": {},
   "outputs": [
    {
     "data": {
      "text/plain": [
       "<125x125 sparse matrix of type '<class 'numpy.float64'>'\n",
       "\twith 813 stored elements (7 diagonals) in DIAgonal format>"
      ]
     },
     "execution_count": 38,
     "metadata": {},
     "output_type": "execute_result"
    }
   ],
   "source": [
    "a_matrix"
   ]
  },
  {
   "cell_type": "code",
   "execution_count": 39,
   "metadata": {},
   "outputs": [],
   "source": [
    "scipy.io.savemat('a_matrix.mat', {'a_matrix': a_matrix})"
   ]
  }
 ],
 "metadata": {
  "@webio": {
   "lastCommId": null,
   "lastKernelId": null
  },
  "kernelspec": {
   "display_name": "Python 3",
   "language": "python",
   "name": "python3"
  },
  "language_info": {
   "codemirror_mode": {
    "name": "ipython",
    "version": 3
   },
   "file_extension": ".py",
   "mimetype": "text/x-python",
   "name": "python",
   "nbconvert_exporter": "python",
   "pygments_lexer": "ipython3",
   "version": "3.7.6"
  }
 },
 "nbformat": 4,
 "nbformat_minor": 2
}
