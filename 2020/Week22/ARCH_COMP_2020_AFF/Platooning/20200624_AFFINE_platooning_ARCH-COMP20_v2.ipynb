{
 "cells": [
  {
   "cell_type": "markdown",
   "metadata": {},
   "source": [
    "## Model"
   ]
  },
  {
   "cell_type": "code",
   "execution_count": 8,
   "metadata": {},
   "outputs": [
    {
     "name": "stderr",
     "output_type": "stream",
     "text": [
      "┌ Info: Precompiling ReachabilityAnalysis [1e97bd63-91d1-579d-8e8d-501d2b57c93f]\n",
      "└ @ Base loading.jl:1278\n"
     ]
    },
    {
     "data": {
      "text/plain": [
       "BoxDirections{Float64,Array{Float64,1}}(10)"
      ]
     },
     "execution_count": 8,
     "metadata": {},
     "output_type": "execute_result"
    }
   ],
   "source": [
    "using Revise, ReachabilityAnalysis, SparseArrays, Plots, BenchmarkTools\n",
    "LazySets.set_rtol(Float64, 1e-14);\n",
    "LazySets.set_ztol(Float64, 1e-14);\n",
    "\n",
    "boxdirs = BoxDirections{Float64, Vector{Float64}}(10)"
   ]
  },
  {
   "cell_type": "code",
   "execution_count": 2,
   "metadata": {},
   "outputs": [],
   "source": [
    "#using SX\n",
    "#file = \"ARCH14-Platoon/Input_SpaceEx/platoon_continuous.xml\"\n",
    "#H = readsxmodel(file, raw_dict=true) # ST=ConstrainedLinearControlContinuousSystem);\n",
    "#@save \"building.jld2\" H\n",
    "#H[\"invariants\"]"
   ]
  },
  {
   "cell_type": "code",
   "execution_count": 9,
   "metadata": {},
   "outputs": [
    {
     "data": {
      "text/plain": [
       "platoon_connected (generic function with 1 method)"
      ]
     },
     "execution_count": 9,
     "metadata": {},
     "output_type": "execute_result"
    }
   ],
   "source": [
    "function platoon_connected(; deterministic_switching::Bool=true,\n",
    "                             c1=5.0)  # clock constraints\n",
    "    n = 10 # 9 dimensions + time\n",
    "    # x' = Ax + Bu + c\n",
    "    A = Matrix{Float64}(undef, n, n)\n",
    "    A[1, :] = [0, 1.0, 0, 0, 0, 0, 0, 0, 0, 0]\n",
    "    A[2, :] = [0, 0, -1.0, 0, 0, 0, 0, 0, 0, 0]\n",
    "    A[3, :] = [1.6050, 4.8680, -3.5754, -0.8198, 0.4270, -0.0450, -0.1942,  0.3626, -0.0946, 0.]\n",
    "    A[4, :] = [0, 0, 0, 0, 1.0, 0, 0, 0, 0, 0,]\n",
    "    A[5, :] = [0, 0, 1.0, 0, 0, -1.0, 0, 0, 0, 0]\n",
    "    A[6, :] = [0.8718, 3.8140, -0.0754,  1.1936, 3.6258, -3.2396, -0.5950,  0.1294, -0.0796, 0.]\n",
    "    A[7, :] = [0, 0, 0, 0, 0, 0, 0, 1.0, 0, 0]\n",
    "    A[8, :] = [0, 0, 0, 0, 0, 1.0, 0, 0, -1.0, 0]\n",
    "    A[9, :] = [0.7132, 3.5730, -0.0964,  0.8472, 3.2568, -0.0876,  1.2726,  3.0720, -3.1356, 0.]\n",
    "    A[10, :] = [0, 0, 0, 0, 0, 0, 0, 0, 0, 0.0]; # t' = 1\n",
    "\n",
    "    if deterministic_switching\n",
    "        invariant = HalfSpace(sparsevec([n], [1.], n), c1) # t <= c1\n",
    "    else\n",
    "        invariant = Universe(n)\n",
    "        # ? HalfSpace(sparsevec([n], [1.], n), tb) # t <= tb\n",
    "    end\n",
    "    \n",
    "    # acceleration of the lead vehicle + time\n",
    "    B = sparse([2], [1], [1.0], n, 1)\n",
    "    U = Hyperrectangle(low=[-9.], high=[1.])\n",
    "    c = [0, 0, 0, 0, 0, 0, 0, 0, 0, 1.0]\n",
    "    @system(x' = Ax + Bu + c, x ∈ invariant, u ∈ U)\n",
    "end"
   ]
  },
  {
   "cell_type": "code",
   "execution_count": 10,
   "metadata": {},
   "outputs": [
    {
     "data": {
      "text/plain": [
       "platoon_disconnected (generic function with 1 method)"
      ]
     },
     "execution_count": 10,
     "metadata": {},
     "output_type": "execute_result"
    }
   ],
   "source": [
    "function platoon_disconnected(; deterministic_switching::Bool=true,\n",
    "                                c2=5.0)  # clock constraints\n",
    "    n = 10 # 9 dimensions + time\n",
    "    # x' = Ax + Bu + c\n",
    "    A = Matrix{Float64}(undef, n, n)\n",
    "    A[1, :] = [0, 1.0, 0, 0, 0, 0, 0, 0, 0, 0]\n",
    "    A[2, :] = [0, 0, -1.0, 0, 0, 0, 0, 0, 0, 0]\n",
    "    A[3, :] = [1.6050, 4.8680, -3.5754, 0, 0, 0, 0, 0, 0, 0]\n",
    "    A[4, :] = [0, 0, 0, 0, 1.0, 0, 0, 0, 0, 0,]\n",
    "    A[5, :] = [0, 0, 1.0, 0, 0, -1.0, 0, 0, 0, 0]\n",
    "    A[6, :] = [0, 0, 0,  1.1936, 3.6258, -3.2396, 0, 0, 0, 0.]\n",
    "    A[7, :] = [0, 0, 0, 0, 0, 0, 0, 1.0, 0, 0]\n",
    "    A[8, :] = [0, 0, 0, 0, 0, 1.0, 0, 0, -1.0, 0]\n",
    "    A[9, :] = [0.7132, 3.5730, -0.0964,  0.8472, 3.2568, -0.0876,  1.2726,  3.0720, -3.1356, 0.]\n",
    "    A[10, :] = [0, 0, 0, 0, 0, 0, 0, 0, 0, 0.0]; # t' = 1\n",
    "\n",
    "    if deterministic_switching\n",
    "        invariant = HalfSpace(sparsevec([n], [1.], n), c2) # t <= c2\n",
    "    else\n",
    "        invariant = Universe(n) # t is not constrained\n",
    "    end\n",
    "    \n",
    "    # acceleration of the lead vehicle + time\n",
    "    B = sparse([2], [1], [1.0], n, 1)\n",
    "    U = Hyperrectangle(low=[-9.], high=[1.])\n",
    "    c = [0, 0, 0, 0, 0, 0, 0, 0, 0, 1.0]\n",
    "    @system(x' = Ax + Bu + c, x ∈ invariant, u ∈ U)\n",
    "end"
   ]
  },
  {
   "cell_type": "markdown",
   "metadata": {},
   "source": [
    "$$\n",
    "α Ac + (1-α)An\n",
    "$$"
   ]
  },
  {
   "cell_type": "code",
   "execution_count": 11,
   "metadata": {},
   "outputs": [
    {
     "data": {
      "text/plain": [
       "platoon_continuous (generic function with 1 method)"
      ]
     },
     "execution_count": 11,
     "metadata": {},
     "output_type": "execute_result"
    }
   ],
   "source": [
    "function platoon_continuous()\n",
    "    m1 = platoon_connected()\n",
    "    m2 = platoon_disconnected();\n",
    "    Ac = state_matrix(m1)\n",
    "    An = state_matrix(m2)\n",
    "    Aint = IntervalMatrix(An + interval(0, 1) .* (Ac - An));\n",
    "    # acceleration of the lead vehicle + time\n",
    "    B = sparse([2], [1], [1.0], n, 1) |> IntervalMatrix\n",
    "    U = Hyperrectangle(low=[-9.], high=[1.])\n",
    "    c = [0, 0, 0, 0, 0, 0, 0, 0, 0, 1.0]\n",
    "    invariant = Universe(n)\n",
    "    @system(x' = Aint*x, x ∈ invariant) #  + IntervalMatrix(B)*u, x ∈ invariant, u ∈ U)\n",
    "end"
   ]
  },
  {
   "cell_type": "code",
   "execution_count": 12,
   "metadata": {},
   "outputs": [
    {
     "data": {
      "text/plain": [
       "platoon (generic function with 1 method)"
      ]
     },
     "execution_count": 12,
     "metadata": {},
     "output_type": "execute_result"
    }
   ],
   "source": [
    "function platoon(; deterministic_switching::Bool=true,\n",
    "                   c1=5.0,  # clock constraints\n",
    "                   c2=5.0,  # clock constraints\n",
    "                   tb=10.0,  # lower bound for loss of communication\n",
    "                   tc=20.0, tr=20.0) # upper bound for loss of communication (tc) and reset time (tr)\n",
    "    \n",
    "    # three variables for each vehicle, (ei, d(et)/dt, ai) for\n",
    "    # (spacing error, relative velocity, speed), and the last dimension is time\n",
    "    n = 9 + 1\n",
    "\n",
    "    # transition graph\n",
    "    automaton = LightAutomaton(2)\n",
    "    add_transition!(automaton, 1, 2, 1)\n",
    "    add_transition!(automaton, 2, 1, 2)\n",
    "\n",
    "    # modes\n",
    "    mode1 = platoon_connected(deterministic_switching=deterministic_switching, c1=c1)\n",
    "    mode2 = platoon_disconnected(deterministic_switching=deterministic_switching, c2=c2)\n",
    "    modes = [mode1, mode2]\n",
    "\n",
    "    # common reset\n",
    "    reset = Dict(n => 0.)\n",
    "\n",
    "    # transition l1 -> l2\n",
    "    if deterministic_switching\n",
    "        guard = Hyperplane(sparsevec([n], [1.], n), c1) # t == c1\n",
    "    else\n",
    "        # tb <= t <= tc\n",
    "        guard = HPolyhedron([HalfSpace(sparsevec([n], [-1.], n), -tb),\n",
    "                             HalfSpace(sparsevec([n], [1.], n), tc)])\n",
    "    end\n",
    "    t1 = ConstrainedResetMap(n, guard, reset)\n",
    "\n",
    "    # transition l2 -> l1\n",
    "    if deterministic_switching\n",
    "        guard = Hyperplane(sparsevec([n], [1.], n), c2) # t == c2\n",
    "    else\n",
    "        guard = HalfSpace(sparsevec([n], [1.], n), tr) # t <= tr\n",
    "    end\n",
    "    t2 = ConstrainedResetMap(n, guard, reset)\n",
    "    resetmaps = [t1, t2]\n",
    "\n",
    "    H = HybridSystem(automaton, modes, resetmaps, [AutonomousSwitching()])\n",
    "\n",
    "    # initial condition is at the orgin in mode 1\n",
    "    X0 = BallInf(zeros(n), 0.0)\n",
    "    initial_condition = [(1, X0)]\n",
    "\n",
    "    return IVP(H, initial_condition)\n",
    "end"
   ]
  },
  {
   "cell_type": "markdown",
   "metadata": {},
   "source": [
    "# Arbitrary switching"
   ]
  },
  {
   "cell_type": "markdown",
   "metadata": {},
   "source": [
    "TODO: idea: use ASB07 as in CORA."
   ]
  },
  {
   "cell_type": "markdown",
   "metadata": {},
   "source": [
    "Currently fails because of an unsupported system."
   ]
  },
  {
   "cell_type": "code",
   "execution_count": null,
   "metadata": {},
   "outputs": [],
   "source": [
    "X0 = BallInf(zeros(n), 0.0)\n",
    "ivp = @ivp(platoon_continuous(), x(0) ∈ X0);\n",
    "sol = solve(ivp, T=20.0, alg=ASB07(δ=1e-2));\n",
    "plot(sol, vars=(0, 1))"
   ]
  },
  {
   "cell_type": "markdown",
   "metadata": {},
   "source": [
    "# Deterministic switching (PLAD01)"
   ]
  },
  {
   "cell_type": "markdown",
   "metadata": {},
   "source": [
    "## PLAD01 - BND42"
   ]
  },
  {
   "cell_type": "code",
   "execution_count": 13,
   "metadata": {},
   "outputs": [],
   "source": [
    "octdirs = CustomDirections([Vector(vi) for vi in OctDirections(10)]);"
   ]
  },
  {
   "cell_type": "code",
   "execution_count": 15,
   "metadata": {},
   "outputs": [
    {
     "name": "stdout",
     "output_type": "stream",
     "text": [
      "  0.139415 seconds (524.47 k allocations: 54.489 MiB, 15.48% gc time)\n",
      "tspan(sol) = [0, 20.01]\n",
      "-(ρ(sparsevec([1], [-1.0], 10), sol)) = -41.366377912096844\n",
      "-(ρ(sparsevec([4], [-1.0], 10), sol)) = -35.52209043201049\n",
      "-(ρ(sparsevec([7], [-1.0], 10), sol)) = -21.601435520428964\n"
     ]
    },
    {
     "data": {
      "text/plain": [
       "-21.601435520428964"
      ]
     },
     "execution_count": 15,
     "metadata": {},
     "output_type": "execute_result"
    }
   ],
   "source": [
    "prob = platoon(; deterministic_switching=true);\n",
    "@time sol = solve(prob, alg=BOX(δ=0.01), max_jumps=10_000,\n",
    "                  clustering_method=BoxClustering(1), # , [4,1,1,1,1,1,1,1,1,8]),\n",
    "                  intersection_method=TemplateHullIntersection(boxdirs),\n",
    "                  intersect_source_invariant=false,\n",
    "                  tspan = (0.0 .. 20.0));\n",
    "\n",
    "@show tspan(sol); # TODO: fix `tspan` for a hybrid flowpipe.\n",
    "@show -ρ(sparsevec([1], [-1.0], 10), sol)\n",
    "@show -ρ(sparsevec([4], [-1.0], 10), sol)\n",
    "@show -ρ(sparsevec([7], [-1.0], 10), sol)"
   ]
  },
  {
   "cell_type": "code",
   "execution_count": null,
   "metadata": {},
   "outputs": [],
   "source": [
    "#=\n",
    "prob = platoon(; deterministic_switching=true);\n",
    "@time sol = solve(prob, alg=BOX(δ=0.005), max_jumps=1000,\n",
    "                  clustering_method=BoxClustering(8, [4,1,1,1,1,1,1,1,1,8]),\n",
    "                  intersection_method=TemplateHullIntersection(boxdirs),\n",
    "                  intersect_source_invariant=false,\n",
    "                  tspan = (0.0 .. 20.0));\n",
    "\n",
    " 65.500408 seconds (188.78 M allocations: 18.336 GiB, 5.85% gc time)\n",
    "tspan(sol) = [0, 10.0001]\n",
    "-(ρ(sparsevec([1], [-1.0], 10), sol)) = -40.047833512971565\n",
    "-(ρ(sparsevec([4], [-1.0], 10), sol)) = -41.870903197620116\n",
    "-(ρ(sparsevec([7], [-1.0], 10), sol)) = -34.20598329487697\n",
    "-34.20598329487697\n",
    "=#"
   ]
  },
  {
   "cell_type": "code",
   "execution_count": null,
   "metadata": {},
   "outputs": [],
   "source": [
    "# using box template dirs\n",
    "  5.327294 seconds (16.40 M allocations: 1.657 GiB, 6.83% gc time)\n",
    "tspan(sol) = [0, 9.99901]\n",
    "-(ρ(sparsevec([1], [-1.0], 10), sol)) = -58.813378674563566\n",
    "-(ρ(sparsevec([4], [-1.0], 10), sol)) = -57.34143943229263\n",
    "-(ρ(sparsevec([7], [-1.0], 10), sol)) = -41.97304340187433\n",
    "-41.97304340187433"
   ]
  },
  {
   "cell_type": "code",
   "execution_count": null,
   "metadata": {},
   "outputs": [],
   "source": [
    "prob = platoon(; deterministic_switching=true);\n",
    "@time sol = solve(prob, alg=GLGM06(δ=0.02, max_order=400), max_jumps=1000,\n",
    "                  clustering_method=BoxClustering(6, 2), # [6,1,1,1,1,1,1,1,1,1]),\n",
    "                  intersection_method=TemplateHullIntersection(),\n",
    "                  intersect_source_invariant=false,\n",
    "                  tspan = (0.0 .. 20.0));\n",
    "\n",
    "@show tspan(sol); # TODO: fix `tspan` for a hybrid flowpipe.\n",
    "@show -ρ(sparsevec([1], [-1.0], 10), sol)\n",
    "@show -ρ(sparsevec([4], [-1.0], 10), sol)\n",
    "@show -ρ(sparsevec([7], [-1.0], 10), sol)"
   ]
  },
  {
   "cell_type": "code",
   "execution_count": null,
   "metadata": {},
   "outputs": [],
   "source": []
  },
  {
   "cell_type": "code",
   "execution_count": null,
   "metadata": {},
   "outputs": [],
   "source": [
    "plot(sol, vars=(0, 1), lw=0.0, color=:blue)"
   ]
  },
  {
   "cell_type": "code",
   "execution_count": null,
   "metadata": {},
   "outputs": [],
   "source": [
    "-ρ(sparsevec([1], [-1.0], 10), sol)"
   ]
  },
  {
   "cell_type": "code",
   "execution_count": null,
   "metadata": {},
   "outputs": [],
   "source": [
    "plot(sol[1], vars=(0, 1), lw=0.0, color=:blue)\n",
    "plot!(sol[2], vars=(0, 1), lw=0.0, color=:blue)"
   ]
  },
  {
   "cell_type": "markdown",
   "metadata": {},
   "source": [
    "### solve continuous part"
   ]
  },
  {
   "cell_type": "code",
   "execution_count": 48,
   "metadata": {},
   "outputs": [
    {
     "name": "stdout",
     "output_type": "stream",
     "text": [
      "  0.001201 seconds (5.50 k allocations: 1.717 MiB)\n"
     ]
    },
    {
     "data": {
      "text/plain": [
       "[0, 5.01001]"
      ]
     },
     "execution_count": 48,
     "metadata": {},
     "output_type": "execute_result"
    }
   ],
   "source": [
    "prob = platoon(; deterministic_switching=true);\n",
    "X0 = BallInf(zeros(10), 0.0)\n",
    "ivp1 = @ivp(platoon_connected(), x(0) ∈ X0)\n",
    "@time sol = solve(ivp1, alg=BOX(δ=0.01), tspan=(0.0 .. 20.0));\n",
    "tspan(sol)"
   ]
  },
  {
   "cell_type": "code",
   "execution_count": 49,
   "metadata": {},
   "outputs": [
    {
     "name": "stdout",
     "output_type": "stream",
     "text": [
      "  0.315823 seconds (1.44 M allocations: 178.552 MiB, 9.52% gc time)\n"
     ]
    },
    {
     "data": {
      "text/plain": [
       "[0, 5.01001]"
      ]
     },
     "execution_count": 49,
     "metadata": {},
     "output_type": "execute_result"
    }
   ],
   "source": [
    "prob = platoon(; deterministic_switching=true);\n",
    "X0 = BallInf(zeros(10), 0.0)\n",
    "ivp1 = @ivp(platoon_connected(), x(0) ∈ X0)\n",
    "@time sol = solve(ivp1, alg=LGG09(δ=0.01, template=octdirs), tspan=(0.0 .. 20.0));\n",
    "tspan(sol)"
   ]
  },
  {
   "cell_type": "code",
   "execution_count": null,
   "metadata": {},
   "outputs": [],
   "source": [
    "prob = platoon(; deterministic_switching=true);\n",
    "X0 = BallInf(zeros(10), 0.0)\n",
    "ivp1 = @ivp(platoon_connected(), x(0) ∈ X0)\n",
    "@time sol = solve(ivp1, alg=BOX(δ=0.01), tspan=(0.0 .. 20.0));\n",
    "tspan(sol)"
   ]
  },
  {
   "cell_type": "code",
   "execution_count": null,
   "metadata": {},
   "outputs": [],
   "source": [
    "setrep(sol.F)"
   ]
  },
  {
   "cell_type": "code",
   "execution_count": null,
   "metadata": {},
   "outputs": [],
   "source": []
  },
  {
   "cell_type": "code",
   "execution_count": null,
   "metadata": {},
   "outputs": [],
   "source": [
    "isempty(intersect(2.0 .. 3.0, tspan(sol[3])))"
   ]
  },
  {
   "cell_type": "code",
   "execution_count": null,
   "metadata": {},
   "outputs": [],
   "source": [
    "sol(2.0 .. 3.0)"
   ]
  },
  {
   "cell_type": "code",
   "execution_count": null,
   "metadata": {},
   "outputs": [],
   "source": [
    "plot(sol, vars=(0, 10))"
   ]
  },
  {
   "cell_type": "code",
   "execution_count": null,
   "metadata": {},
   "outputs": [],
   "source": [
    "\n",
    "@time sol = solve(prob, alg=BOX(δ=0.005), max_jumps=10_000,\n",
    "                  clustering_method=BoxClustering(8, [4,1,1,1,1,1,1,1,1,8]),\n",
    "                  intersection_method=TemplateHullIntersection(boxdirs),\n",
    "                  intersect_source_invariant=false,\n",
    "                  tspan = (0.0 .. 20.0));\n"
   ]
  },
  {
   "cell_type": "code",
   "execution_count": null,
   "metadata": {},
   "outputs": [],
   "source": [
    "\n",
    "@time sol = solve(prob, alg=BOX(δ=0.005), max_jumps=10_000,\n",
    "                  clustering_method=BoxClustering(8, [4,1,1,1,1,1,1,1,1,8]),\n",
    "                  intersection_method=TemplateHullIntersection(boxdirs),\n",
    "                  intersect_source_invariant=false,\n",
    "                  tspan = (0.0 .. 20.0));\n"
   ]
  },
  {
   "cell_type": "code",
   "execution_count": null,
   "metadata": {},
   "outputs": [],
   "source": []
  },
  {
   "cell_type": "code",
   "execution_count": null,
   "metadata": {},
   "outputs": [],
   "source": []
  },
  {
   "cell_type": "markdown",
   "metadata": {},
   "source": [
    "### PLAD01 - BND30"
   ]
  },
  {
   "cell_type": "code",
   "execution_count": 42,
   "metadata": {},
   "outputs": [
    {
     "ename": "InterruptException",
     "evalue": "InterruptException:",
     "output_type": "error",
     "traceback": [
      "InterruptException:",
      "",
      "Stacktrace:",
      " [1] Array at ./boot.jl:406 [inlined]",
      " [2] Array at ./boot.jl:415 [inlined]",
      " [3] zeros at ./array.jl:527 [inlined]",
      " [4] zeros at ./array.jl:523 [inlined]",
      " [5] Dict{Any,Any}() at ./dict.jl:90",
      " [6] Dict at ./dict.jl:117 [inlined]",
      " [7] solvelp(::GLPKMathProgInterface.GLPKInterfaceLP.GLPKMathProgModelLP) at /home/mforets/.julia/packages/MathProgBase/rr4Xh/src/HighLevelInterface/linprog.jl:80",
      " [8] linprog at /home/mforets/.julia/packages/MathProgBase/rr4Xh/src/HighLevelInterface/linprog.jl:107 [inlined]",
      " [9] σ_helper(::Array{Float64,1}, ::HPolytope{Float64,Array{Float64,1}}, ::GLPKMathProgInterface.GLPKInterfaceLP.GLPKSolverLP) at /home/mforets/.julia/dev/LazySets/src/Sets/HPolyhedron.jl:180",
      " [10] ρ(::Array{Float64,1}, ::HPolytope{Float64,Array{Float64,1}}; solver::GLPKMathProgInterface.GLPKInterfaceLP.GLPKSolverLP) at /home/mforets/.julia/dev/LazySets/src/Sets/HPolyhedron.jl:106",
      " [11] ρ at /home/mforets/.julia/dev/LazySets/src/Sets/HPolyhedron.jl:106 [inlined]",
      " [12] #ρ#208 at /home/mforets/.julia/dev/LazySets/src/LazyOperations/LinearMap.jl:283 [inlined]",
      " [13] ρ at /home/mforets/.julia/dev/LazySets/src/LazyOperations/LinearMap.jl:283 [inlined]",
      " [14] ρ(::Array{Float64,1}, ::MinkowskiSum{Float64,LinearMap{Float64,HPolytope{Float64,Array{Float64,1}},Float64,Array{Float64,2}},MinkowskiSum{Float64,AffineMap{Float64,Hyperrectangle{Float64,Array{Float64,1},Array{Float64,1}},Float64,SparseMatrixCSC{Float64,Int64},Array{Float64,1}},Hyperrectangle{Float64,Array{Float64,1},Array{Float64,1}}}}) at /home/mforets/.julia/dev/LazySets/src/LazyOperations/MinkowskiSum.jl:148 (repeats 2 times)",
      " [15] ρ(::Array{Float64,1}, ::ConvexHull{Float64,HPolytope{Float64,Array{Float64,1}},MinkowskiSum{Float64,MinkowskiSum{Float64,LinearMap{Float64,HPolytope{Float64,Array{Float64,1}},Float64,Array{Float64,2}},MinkowskiSum{Float64,AffineMap{Float64,Hyperrectangle{Float64,Array{Float64,1},Array{Float64,1}},Float64,SparseMatrixCSC{Float64,Int64},Array{Float64,1}},Hyperrectangle{Float64,Array{Float64,1},Array{Float64,1}}}},Hyperrectangle{Float64,Array{Float64,1},Array{Float64,1}}}}) at /home/mforets/.julia/dev/LazySets/src/LazyOperations/ConvexHull.jl:138",
      " [16] reach_inhomog_dir_LGG09!(::Array{Float64,2}, ::Int64, ::ConvexHull{Float64,HPolytope{Float64,Array{Float64,1}},MinkowskiSum{Float64,MinkowskiSum{Float64,LinearMap{Float64,HPolytope{Float64,Array{Float64,1}},Float64,Array{Float64,2}},MinkowskiSum{Float64,AffineMap{Float64,Hyperrectangle{Float64,Array{Float64,1},Array{Float64,1}},Float64,SparseMatrixCSC{Float64,Int64},Array{Float64,1}},Hyperrectangle{Float64,Array{Float64,1},Array{Float64,1}}}},Hyperrectangle{Float64,Array{Float64,1},Array{Float64,1}}}}, ::Array{Float64,2}, ::MinkowskiSum{Float64,AffineMap{Float64,Hyperrectangle{Float64,Array{Float64,1},Array{Float64,1}},Float64,SparseMatrixCSC{Float64,Int64},Array{Float64,1}},Hyperrectangle{Float64,Array{Float64,1},Array{Float64,1}}}, ::Array{Float64,1}, ::Int64, ::Val{true}) at /home/mforets/.julia/dev/ReachabilityAnalysis/src/Algorithms/LGG09/reach_inhomog.jl:43",
      " [17] reach_inhomog_LGG09!(::Array{TemplateReachSet{Float64,Array{Float64,1},CustomDirections{Float64,Array{Float64,1}},SubArray{Float64,1,Array{Float64,2},Tuple{Base.Slice{Base.OneTo{Int64}},Int64},true}},1}, ::CustomDirections{Float64,Array{Float64,1}}, ::ConvexHull{Float64,HPolytope{Float64,Array{Float64,1}},MinkowskiSum{Float64,MinkowskiSum{Float64,LinearMap{Float64,HPolytope{Float64,Array{Float64,1}},Float64,Array{Float64,2}},MinkowskiSum{Float64,AffineMap{Float64,Hyperrectangle{Float64,Array{Float64,1},Array{Float64,1}},Float64,SparseMatrixCSC{Float64,Int64},Array{Float64,1}},Hyperrectangle{Float64,Array{Float64,1},Array{Float64,1}}}},Hyperrectangle{Float64,Array{Float64,1},Array{Float64,1}}}}, ::Array{Float64,2}, ::Int64, ::Float64, ::HalfSpace{Float64,SparseVector{Float64,Int64}}, ::MinkowskiSum{Float64,AffineMap{Float64,Hyperrectangle{Float64,Array{Float64,1},Array{Float64,1}},Float64,SparseMatrixCSC{Float64,Int64},Array{Float64,1}},Hyperrectangle{Float64,Array{Float64,1},Array{Float64,1}}}, ::Float64, ::Val{true}) at /home/mforets/.julia/dev/ReachabilityAnalysis/src/Algorithms/LGG09/reach_inhomog.jl:161",
      " [18] post(::LGG09{Float64,Forward{Val{:base},Val{:lazy},Val{:concrete}},Array{Float64,1},CustomDirections{Float64,Array{Float64,1}},Val{false}}, ::InitialValueProblem{ConstrainedAffineControlContinuousSystem{Float64,Array{Float64,2},SparseMatrixCSC{Float64,Int64},Array{Float64,1},HalfSpace{Float64,SparseVector{Float64,Int64}},Hyperrectangle{Float64,Array{Float64,1},Array{Float64,1}}},HPolytope{Float64,Array{Float64,1}}}, ::IntervalArithmetic.Interval{Float64}; time_shift::Float64, kwargs::Base.Iterators.Pairs{Symbol,Any,Tuple{Symbol,Symbol},NamedTuple{(:alg, :tspan),Tuple{LGG09{Float64,Forward{Val{:base},Val{:lazy},Val{:concrete}},Array{Float64,1},CustomDirections{Float64,Array{Float64,1}},Val{false}},IntervalArithmetic.Interval{Float64}}}}) at /home/mforets/.julia/dev/ReachabilityAnalysis/src/Algorithms/LGG09/post.jl:45",
      " [19] solve(::InitialValueProblem{HybridSystem{LightAutomaton{LightGraphs.SimpleGraphs.SimpleDiGraph{Int64},LightGraphs.SimpleGraphs.SimpleEdge{Int64}},ConstrainedAffineControlContinuousSystem{Float64,Array{Float64,2},SparseMatrixCSC{Float64,Int64},Array{Float64,1},HalfSpace{Float64,SparseVector{Float64,Int64}},Hyperrectangle{Float64,Array{Float64,1},Array{Float64,1}}},ConstrainedResetMap{Float64,Hyperplane{Float64,SparseVector{Float64,Int64}}},AutonomousSwitching,Array{ConstrainedAffineControlContinuousSystem{Float64,Array{Float64,2},SparseMatrixCSC{Float64,Int64},Array{Float64,1},HalfSpace{Float64,SparseVector{Float64,Int64}},Hyperrectangle{Float64,Array{Float64,1},Array{Float64,1}}},1},Array{ConstrainedResetMap{Float64,Hyperplane{Float64,SparseVector{Float64,Int64}}},1},Array{AutonomousSwitching,1}},Array{Tuple{Int64,BallInf{Float64,Array{Float64,1}}},1}}; max_jumps::Int64, intersection_method::TemplateHullIntersection{Float64,Array{Float64,1},CustomDirections{Float64,Array{Float64,1}}}, clustering_method::BoxClustering{Int64,Missing}, check_invariant_initial_states::Bool, intersect_invariant_initial_states::Bool, intersection_source_invariant_method::FallbackIntersection, first_mode_representative::Bool, intersect_source_invariant::Bool, disjointness_method::NoEnclosure, kwargs::Base.Iterators.Pairs{Symbol,Any,Tuple{Symbol,Symbol},NamedTuple{(:alg, :tspan),Tuple{LGG09{Float64,Forward{Val{:base},Val{:lazy},Val{:concrete}},Array{Float64,1},CustomDirections{Float64,Array{Float64,1}},Val{false}},IntervalArithmetic.Interval{Float64}}}}) at /home/mforets/.julia/dev/ReachabilityAnalysis/src/Hybrid/solve.jl:76",
      " [20] macro expansion at ./timing.jl:174 [inlined]",
      " [21] top-level scope at ./In[42]:2"
     ]
    }
   ],
   "source": [
    "prob = platoon(; deterministic_switching=true);\n",
    "@time sol = solve(prob, alg=LGG09(δ=0.01, template=octdirs), max_jumps=10_000,\n",
    "                  clustering_method=BoxClustering(1), # , [3,1,1,1,1,1,1,1,1,1]),\n",
    "                  intersection_method=TemplateHullIntersection(octdirs),\n",
    "                  intersect_source_invariant=false,\n",
    "                  tspan = (0.0 .. 20.0));\n",
    "\n",
    "@show tspan(sol); # TODO: fix `tspan` for a hybrid flowpipe.\n",
    "@show -ρ(sparsevec([1], [-1.0], 10), sol)\n",
    "@show -ρ(sparsevec([4], [-1.0], 10), sol)\n",
    "@show -ρ(sparsevec([7], [-1.0], 10), sol)"
   ]
  },
  {
   "cell_type": "code",
   "execution_count": null,
   "metadata": {},
   "outputs": [],
   "source": []
  },
  {
   "cell_type": "markdown",
   "metadata": {},
   "source": [
    "# Non-deterministic switching  (PLAN01)"
   ]
  },
  {
   "cell_type": "code",
   "execution_count": null,
   "metadata": {},
   "outputs": [],
   "source": [
    "boxdirs = BoxDirections{Float64, Vector{Float64}}(10)\n",
    "prob = platoon(; deterministic_switching=false);\n",
    "@time sol = solve(prob, alg=BOX(δ=0.01), max_jumps=1000,\n",
    "                  clustering_method=LazyClustering(10), # , [6,1,1,1,1,1,1,1,1,1]),\n",
    "                  intersection_method=TemplateHullIntersection(boxdirs),\n",
    "                  intersect_source_invariant=false,\n",
    "                  tspan = (0.0 .. 20.));"
   ]
  },
  {
   "cell_type": "code",
   "execution_count": null,
   "metadata": {},
   "outputs": [],
   "source": [
    "@show tspan(sol);\n",
    "@show -ρ(sparsevec([1], [-1.0], 10), sol)\n",
    "@show -ρ(sparsevec([4], [-1.0], 10), sol)\n",
    "@show -ρ(sparsevec([7], [-1.0], 10), sol)"
   ]
  },
  {
   "cell_type": "code",
   "execution_count": null,
   "metadata": {},
   "outputs": [],
   "source": []
  },
  {
   "cell_type": "code",
   "execution_count": null,
   "metadata": {},
   "outputs": [],
   "source": [
    "plot(sol, vars=(0, 1), lw=0.0)"
   ]
  },
  {
   "cell_type": "code",
   "execution_count": null,
   "metadata": {},
   "outputs": [],
   "source": [
    "plot(sol, vars=(0, 1), lw=0.0, color=:lightgreen, xlab=\"x\", ylab=\"y\")"
   ]
  },
  {
   "cell_type": "markdown",
   "metadata": {},
   "source": [
    "BNDxy Bounded time (no explicit bound on the number of transitions): \n",
    "\n",
    "For all t ∈ [0, 20] [s],\n",
    "\n",
    "- x 1 (t) ≥ −d min [m], \n",
    "- x 4 (t) ≥ −d min [m], \n",
    "- x 7 (t) ≥ −d min [m], where d min =xy [m].\n",
    "\n",
    "BND50: d min = 50.\n",
    "BND42: d min = 42.\n",
    "BND30: d min = 30"
   ]
  },
  {
   "cell_type": "code",
   "execution_count": null,
   "metadata": {},
   "outputs": [],
   "source": [
    "sol = nothing\n",
    "GC.gc()\n",
    "\n",
    "boxdirs = BoxDirections{Float64, Vector{Float64}}(10)\n",
    "octdirs = CustomDirections([Vector(c) for c in OctDirections(10)])\n",
    "\n",
    "dmin = 30.0\n",
    "prob = platooning2(; deterministic_switching=true, time_horizon=20., allowed_distance=dmin)\n",
    "\n",
    "#prob = platooning(; deterministic_switching=true, time_horizon=Inf, allowed_distance=50.)\n",
    "\n",
    "@time sol = solve(prob, alg=BOX(δ=0.01),\n",
    "                  clustering_method=LazyClustering(10),\n",
    "                  intersection_method=TemplateHullIntersection(octdirs),\n",
    "                  intersect_source_invariant=false,\n",
    "                  intersect_source_invariant_method=TemplateHullIntersection(boxdirs),\n",
    "                  tspan = (0.0 .. 20.));"
   ]
  },
  {
   "cell_type": "code",
   "execution_count": null,
   "metadata": {},
   "outputs": [],
   "source": [
    "@show ρ(sparsevec([1], [-1.0], 10), sol)"
   ]
  },
  {
   "cell_type": "code",
   "execution_count": null,
   "metadata": {},
   "outputs": [],
   "source": [
    "plot(sol, vars=(0, 1), lw=0.0)"
   ]
  },
  {
   "cell_type": "code",
   "execution_count": null,
   "metadata": {},
   "outputs": [],
   "source": [
    "location.(sol)"
   ]
  },
  {
   "cell_type": "code",
   "execution_count": null,
   "metadata": {},
   "outputs": [],
   "source": [
    "@show tspan(sol);\n",
    "@show ρ(sparsevec([1], [-1.0], 10), sol) < dmin\n",
    "@show ρ(sparsevec([4], [-1.0], 10), sol) < dmin\n",
    "@show ρ(sparsevec([7], [-1.0], 10), sol) < dmin"
   ]
  },
  {
   "cell_type": "markdown",
   "metadata": {},
   "source": [
    "-----"
   ]
  },
  {
   "cell_type": "code",
   "execution_count": null,
   "metadata": {},
   "outputs": [],
   "source": [
    "sol = nothing\n",
    "GC.gc()\n",
    "\n",
    "boxdirs = BoxDirections{Float64, Vector{Float64}}(10)\n",
    "octdirs = CustomDirections([Vector(c) for c in OctDirections(10)])\n",
    "\n",
    "dmin = 30.0\n",
    "prob = platooning(; deterministic_switching=true, time_horizon=20., allowed_distance=dmin)\n",
    "\n",
    "#prob = platooning(; deterministic_switching=true, time_horizon=Inf, allowed_distance=50.)\n",
    "\n",
    "@time sol = solve(prob, alg=GLGM06(δ=0.0001, max_order=200, disjointness_method=BoxEnclosure()),\n",
    "                  clustering_method=LazyClustering(1),\n",
    "                  disjointness_metod=BoxEnclosure(),\n",
    "                  intersection_method=TemplateHullIntersection(octdirs),\n",
    "                  intersect_source_invariant=false,\n",
    "                  intersect_source_invariant_method=TemplateHullIntersection(boxdirs),\n",
    "                  tspan = (0.0 .. 20.));"
   ]
  },
  {
   "cell_type": "code",
   "execution_count": null,
   "metadata": {},
   "outputs": [],
   "source": [
    "ρ(sparsevec([1], [-1.0], 10), sol)"
   ]
  },
  {
   "cell_type": "code",
   "execution_count": null,
   "metadata": {},
   "outputs": [],
   "source": [
    "function ReachabilityAnalysis._is_intersection_empty(X::LazySet, Z::Zonotope, ::BoxEnclosure)\n",
    "    is_intersection_empty(X, overapproximate(Z, Hyperrectangle))\n",
    "end"
   ]
  },
  {
   "cell_type": "markdown",
   "metadata": {},
   "source": [
    "## Old stuff"
   ]
  },
  {
   "cell_type": "code",
   "execution_count": null,
   "metadata": {},
   "outputs": [],
   "source": [
    "    #=\n",
    "    system = InitialValueProblem(ℋ, initial_condition)\n",
    "\n",
    "    # safety property\n",
    "    d1 = zeros(n); d1[1] = -1.  # x1 >= -dmin\n",
    "    d4 = zeros(n); d4[4] = -1.  # x4 >= -dmin\n",
    "    d7 = zeros(n); d7[7] = -1.  # x7 >= -dmin\n",
    "    property = Conjunction(\n",
    "        [is_contained_in(HalfSpace(d, allowed_distance)) for d in [d1, d4, d7]])\n",
    "\n",
    "    # default options\n",
    "    options = Options(:T=>time_horizon, :property=>property)\n",
    "    =#\n"
   ]
  },
  {
   "cell_type": "code",
   "execution_count": null,
   "metadata": {},
   "outputs": [],
   "source": []
  }
 ],
 "metadata": {
  "@webio": {
   "lastCommId": null,
   "lastKernelId": null
  },
  "kernelspec": {
   "display_name": "Julia 1.5.0-beta1",
   "language": "julia",
   "name": "julia-1.5"
  },
  "language_info": {
   "file_extension": ".jl",
   "mimetype": "application/julia",
   "name": "julia",
   "version": "1.5.0"
  }
 },
 "nbformat": 4,
 "nbformat_minor": 2
}
