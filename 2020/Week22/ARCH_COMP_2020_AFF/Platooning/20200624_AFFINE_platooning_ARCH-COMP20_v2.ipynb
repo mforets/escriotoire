{
 "cells": [
  {
   "cell_type": "markdown",
   "metadata": {},
   "source": [
    "## Model"
   ]
  },
  {
   "cell_type": "code",
   "execution_count": 1,
   "metadata": {},
   "outputs": [
    {
     "name": "stderr",
     "output_type": "stream",
     "text": [
      "\u001b[32m\u001b[1m Activating\u001b[22m\u001b[39m new environment at `~/Projects/escritoire/2020/Week22/ARCH_COMP_2020_AFF/Platooning/Project.toml`\n"
     ]
    }
   ],
   "source": [
    "#] activate .\n",
    "#] dev ReachabilityAnalysis\n",
    "#] dev IntervalArithmetic\n",
    "#] add Plots BenchmarkTools "
   ]
  },
  {
   "cell_type": "code",
   "execution_count": 5,
   "metadata": {},
   "outputs": [
    {
     "name": "stderr",
     "output_type": "stream",
     "text": [
      "┌ Info: Precompiling ReachabilityAnalysis [1e97bd63-91d1-579d-8e8d-501d2b57c93f]\n",
      "└ @ Base loading.jl:1278\n",
      "┌ Info: Precompiling Plots [91a5bcdd-55d7-5caf-9e0b-520d859cae80]\n",
      "└ @ Base loading.jl:1278\n"
     ]
    }
   ],
   "source": [
    "using Revise, ReachabilityAnalysis, SparseArrays, Plots, BenchmarkTools\n",
    "LazySets.set_rtol(Float64, 1e-14);\n",
    "LazySets.set_ztol(Float64, 1e-14);\n",
    "\n",
    "boxdirs = BoxDirections{Float64, Vector{Float64}}(10)\n",
    "octdirs = CustomDirections([Vector(vi) for vi in OctDirections(10)]);"
   ]
  },
  {
   "cell_type": "code",
   "execution_count": null,
   "metadata": {},
   "outputs": [],
   "source": [
    "#using SX\n",
    "#file = \"ARCH14-Platoon/Input_SpaceEx/platoon_continuous.xml\"\n",
    "#H = readsxmodel(file, raw_dict=true) # ST=ConstrainedLinearControlContinuousSystem);\n",
    "#@save \"building.jld2\" H\n",
    "#H[\"invariants\"]"
   ]
  },
  {
   "cell_type": "code",
   "execution_count": 6,
   "metadata": {},
   "outputs": [
    {
     "data": {
      "text/plain": [
       "platoon_connected (generic function with 1 method)"
      ]
     },
     "execution_count": 6,
     "metadata": {},
     "output_type": "execute_result"
    }
   ],
   "source": [
    "function platoon_connected(; deterministic_switching::Bool=true,\n",
    "                             c1=5.0)  # clock constraints\n",
    "    n = 10 # 9 dimensions + time\n",
    "    # x' = Ax + Bu + c\n",
    "    A = Matrix{Float64}(undef, n, n)\n",
    "    A[1, :] = [0, 1.0, 0, 0, 0, 0, 0, 0, 0, 0]\n",
    "    A[2, :] = [0, 0, -1.0, 0, 0, 0, 0, 0, 0, 0]\n",
    "    A[3, :] = [1.6050, 4.8680, -3.5754, -0.8198, 0.4270, -0.0450, -0.1942,  0.3626, -0.0946, 0.]\n",
    "    A[4, :] = [0, 0, 0, 0, 1.0, 0, 0, 0, 0, 0,]\n",
    "    A[5, :] = [0, 0, 1.0, 0, 0, -1.0, 0, 0, 0, 0]\n",
    "    A[6, :] = [0.8718, 3.8140, -0.0754,  1.1936, 3.6258, -3.2396, -0.5950,  0.1294, -0.0796, 0.]\n",
    "    A[7, :] = [0, 0, 0, 0, 0, 0, 0, 1.0, 0, 0]\n",
    "    A[8, :] = [0, 0, 0, 0, 0, 1.0, 0, 0, -1.0, 0]\n",
    "    A[9, :] = [0.7132, 3.5730, -0.0964,  0.8472, 3.2568, -0.0876,  1.2726,  3.0720, -3.1356, 0.]\n",
    "    A[10, :] = [0, 0, 0, 0, 0, 0, 0, 0, 0, 0.0]; # t' = 1\n",
    "\n",
    "    if deterministic_switching\n",
    "        invariant = HalfSpace(sparsevec([n], [1.], n), c1) # t <= c1\n",
    "    else\n",
    "        invariant = Universe(n)\n",
    "        # ? HalfSpace(sparsevec([n], [1.], n), tb) # t <= tb\n",
    "    end\n",
    "    \n",
    "    # acceleration of the lead vehicle + time\n",
    "    B = sparse([2], [1], [1.0], n, 1)\n",
    "    U = Hyperrectangle(low=[-9.], high=[1.])\n",
    "    c = [0, 0, 0, 0, 0, 0, 0, 0, 0, 1.0]\n",
    "    @system(x' = Ax + Bu + c, x ∈ invariant, u ∈ U)\n",
    "end"
   ]
  },
  {
   "cell_type": "code",
   "execution_count": 7,
   "metadata": {},
   "outputs": [
    {
     "data": {
      "text/plain": [
       "platoon_disconnected (generic function with 1 method)"
      ]
     },
     "execution_count": 7,
     "metadata": {},
     "output_type": "execute_result"
    }
   ],
   "source": [
    "function platoon_disconnected(; deterministic_switching::Bool=true,\n",
    "                                c2=5.0)  # clock constraints\n",
    "    n = 10 # 9 dimensions + time\n",
    "    # x' = Ax + Bu + c\n",
    "    A = Matrix{Float64}(undef, n, n)\n",
    "    A[1, :] = [0, 1.0, 0, 0, 0, 0, 0, 0, 0, 0]\n",
    "    A[2, :] = [0, 0, -1.0, 0, 0, 0, 0, 0, 0, 0]\n",
    "    A[3, :] = [1.6050, 4.8680, -3.5754, 0, 0, 0, 0, 0, 0, 0]\n",
    "    A[4, :] = [0, 0, 0, 0, 1.0, 0, 0, 0, 0, 0,]\n",
    "    A[5, :] = [0, 0, 1.0, 0, 0, -1.0, 0, 0, 0, 0]\n",
    "    A[6, :] = [0, 0, 0,  1.1936, 3.6258, -3.2396, 0, 0, 0, 0.]\n",
    "    A[7, :] = [0, 0, 0, 0, 0, 0, 0, 1.0, 0, 0]\n",
    "    A[8, :] = [0, 0, 0, 0, 0, 1.0, 0, 0, -1.0, 0]\n",
    "    A[9, :] = [0.7132, 3.5730, -0.0964,  0.8472, 3.2568, -0.0876,  1.2726,  3.0720, -3.1356, 0.]\n",
    "    A[10, :] = [0, 0, 0, 0, 0, 0, 0, 0, 0, 0.0]; # t' = 1\n",
    "\n",
    "    if deterministic_switching\n",
    "        invariant = HalfSpace(sparsevec([n], [1.], n), c2) # t <= c2\n",
    "    else\n",
    "        invariant = Universe(n) # t is not constrained\n",
    "    end\n",
    "    \n",
    "    # acceleration of the lead vehicle + time\n",
    "    B = sparse([2], [1], [1.0], n, 1)\n",
    "    U = Hyperrectangle(low=[-9.], high=[1.])\n",
    "    c = [0, 0, 0, 0, 0, 0, 0, 0, 0, 1.0]\n",
    "    @system(x' = Ax + Bu + c, x ∈ invariant, u ∈ U)\n",
    "end"
   ]
  },
  {
   "cell_type": "markdown",
   "metadata": {},
   "source": [
    "$$\n",
    "α Ac + (1-α)An\n",
    "$$"
   ]
  },
  {
   "cell_type": "code",
   "execution_count": 51,
   "metadata": {},
   "outputs": [
    {
     "data": {
      "text/plain": [
       "platoon_continuous_split_largest (generic function with 1 method)"
      ]
     },
     "execution_count": 51,
     "metadata": {},
     "output_type": "execute_result"
    }
   ],
   "source": [
    "function platoon_continuous()\n",
    "\n",
    "    m1 = platoon_connected()\n",
    "    m2 = platoon_disconnected();\n",
    "\n",
    "    # remove the time variable\n",
    "    Ac = state_matrix(m1)[1:9, 1:9]\n",
    "    An = state_matrix(m2)[1:9, 1:9]\n",
    "    Aint = IntervalMatrix(An + interval(0.0, 1.0) .* (Ac - An));\n",
    "    \n",
    "    # acceleration of the lead vehicle + time\n",
    "    B = sparse([2], [1], [1.0], 9, 1)\n",
    "    U = Hyperrectangle(low=[-9.], high=[1.])\n",
    "    invariant = Universe(9)\n",
    "\n",
    "    @system(x' = Aint*x + B*u, x ∈ invariant, u ∈ U)\n",
    "end\n",
    "\n",
    "function platoon_continuous_split()\n",
    "\n",
    "    m1 = platoon_connected()\n",
    "    m2 = platoon_disconnected()\n",
    "\n",
    "    # remove the time variable\n",
    "    Ac = state_matrix(m1)[1:9, 1:9]\n",
    "    An = state_matrix(m2)[1:9, 1:9]\n",
    "\n",
    "    B = sparse([2], [1], [1.0], 9, 1)\n",
    "    U = Hyperrectangle(low=[-9.], high=[1.])\n",
    "    invariant = Universe(9)\n",
    "\n",
    "    Svec = []\n",
    "    for α in [interval(0.0, 0.5), interval(0.5, 1.0)]\n",
    "        Aint = IntervalMatrix(An + α .* (Ac - An));\n",
    "        Sx = @system(x' = Aint*x + B*u, x ∈ invariant, u ∈ U)\n",
    "        push!(Svec, Sx)\n",
    "    end\n",
    "    return Svec\n",
    "end\n",
    "\n",
    "function platoon_continuous_split_largest()\n",
    "\n",
    "    m1 = platoon_connected()\n",
    "    m2 = platoon_disconnected()\n",
    "\n",
    "    # remove the time variable\n",
    "    Ac = state_matrix(m1)[1:9, 1:9]\n",
    "    An = state_matrix(m2)[1:9, 1:9]\n",
    "\n",
    "    B = sparse([2], [1], [1.0], 9, 1)\n",
    "    U = Hyperrectangle(low=[-9.], high=[1.])\n",
    "    invariant = Universe(9)\n",
    "\n",
    "    # difference matrix\n",
    "    X = Ac - An\n",
    "    Xint = rand(IntervalMatrix, size(X)...)\n",
    "    for i in 1:size(X, 1)\n",
    "        for j in 1:size(X, 2)\n",
    "            Xint[i, j] = interval(0, 1) * X[i, j]\n",
    "        end\n",
    "    end\n",
    "    \n",
    "    Dvec = []\n",
    "    for α in mince(interval(0.0, 1.0), 5)\n",
    "        Xint_α = copy(Xint)\n",
    "        Xint_α[6, 2] = X[6, 2] * α\n",
    "        push!(Dvec, Xint_α)\n",
    "    end\n",
    "\n",
    "    Svec = []\n",
    "    for Di in Dvec\n",
    "        Aint = An + Di\n",
    "        Sx = @system(x' = Aint*x + B*u, x ∈ invariant, u ∈ U)\n",
    "        push!(Svec, Sx)\n",
    "    end\n",
    "    return Svec\n",
    "end"
   ]
  },
  {
   "cell_type": "code",
   "execution_count": 52,
   "metadata": {},
   "outputs": [
    {
     "data": {
      "text/plain": [
       "5-element Array{Any,1}:\n",
       " ConstrainedLinearControlContinuousSystem{IntervalArithmetic.Interval{Float64},IntervalMatrix{Float64,IntervalArithmetic.Interval{Float64},Array{IntervalArithmetic.Interval{Float64},2}},IntervalMatrix{Float64,IntervalArithmetic.Interval{Float64},SparseMatrixCSC{IntervalArithmetic.Interval{Float64},Int64}},Universe{Float64},Hyperrectangle{Float64,Array{Float64,1},Array{Float64,1}}}(IntervalArithmetic.Interval{Float64}[[0, 0] [1, 1] … [0, 0] [0, 0]; [0, 0] [0, 0] … [0, 0] [0, 0]; … ; [0, 0] [0, 0] … [0, 0] [-1, -1]; [0.713199, 0.7132] [3.57299, 3.573] … [3.072, 3.07201] [-3.13561, -3.1356]], IntervalArithmetic.Interval{Float64}[[0, 0]; [1, 1]; … ; [0, 0]; [0, 0]], Universe{Float64}(9), Hyperrectangle{Float64,Array{Float64,1},Array{Float64,1}}([-4.0], [5.0]))\n",
       " ConstrainedLinearControlContinuousSystem{IntervalArithmetic.Interval{Float64},IntervalMatrix{Float64,IntervalArithmetic.Interval{Float64},Array{IntervalArithmetic.Interval{Float64},2}},IntervalMatrix{Float64,IntervalArithmetic.Interval{Float64},SparseMatrixCSC{IntervalArithmetic.Interval{Float64},Int64}},Universe{Float64},Hyperrectangle{Float64,Array{Float64,1},Array{Float64,1}}}(IntervalArithmetic.Interval{Float64}[[0, 0] [1, 1] … [0, 0] [0, 0]; [0, 0] [0, 0] … [0, 0] [0, 0]; … ; [0, 0] [0, 0] … [0, 0] [-1, -1]; [0.713199, 0.7132] [3.57299, 3.573] … [3.072, 3.07201] [-3.13561, -3.1356]], IntervalArithmetic.Interval{Float64}[[0, 0]; [1, 1]; … ; [0, 0]; [0, 0]], Universe{Float64}(9), Hyperrectangle{Float64,Array{Float64,1},Array{Float64,1}}([-4.0], [5.0]))\n",
       " ConstrainedLinearControlContinuousSystem{IntervalArithmetic.Interval{Float64},IntervalMatrix{Float64,IntervalArithmetic.Interval{Float64},Array{IntervalArithmetic.Interval{Float64},2}},IntervalMatrix{Float64,IntervalArithmetic.Interval{Float64},SparseMatrixCSC{IntervalArithmetic.Interval{Float64},Int64}},Universe{Float64},Hyperrectangle{Float64,Array{Float64,1},Array{Float64,1}}}(IntervalArithmetic.Interval{Float64}[[0, 0] [1, 1] … [0, 0] [0, 0]; [0, 0] [0, 0] … [0, 0] [0, 0]; … ; [0, 0] [0, 0] … [0, 0] [-1, -1]; [0.713199, 0.7132] [3.57299, 3.573] … [3.072, 3.07201] [-3.13561, -3.1356]], IntervalArithmetic.Interval{Float64}[[0, 0]; [1, 1]; … ; [0, 0]; [0, 0]], Universe{Float64}(9), Hyperrectangle{Float64,Array{Float64,1},Array{Float64,1}}([-4.0], [5.0]))\n",
       " ConstrainedLinearControlContinuousSystem{IntervalArithmetic.Interval{Float64},IntervalMatrix{Float64,IntervalArithmetic.Interval{Float64},Array{IntervalArithmetic.Interval{Float64},2}},IntervalMatrix{Float64,IntervalArithmetic.Interval{Float64},SparseMatrixCSC{IntervalArithmetic.Interval{Float64},Int64}},Universe{Float64},Hyperrectangle{Float64,Array{Float64,1},Array{Float64,1}}}(IntervalArithmetic.Interval{Float64}[[0, 0] [1, 1] … [0, 0] [0, 0]; [0, 0] [0, 0] … [0, 0] [0, 0]; … ; [0, 0] [0, 0] … [0, 0] [-1, -1]; [0.713199, 0.7132] [3.57299, 3.573] … [3.072, 3.07201] [-3.13561, -3.1356]], IntervalArithmetic.Interval{Float64}[[0, 0]; [1, 1]; … ; [0, 0]; [0, 0]], Universe{Float64}(9), Hyperrectangle{Float64,Array{Float64,1},Array{Float64,1}}([-4.0], [5.0]))\n",
       " ConstrainedLinearControlContinuousSystem{IntervalArithmetic.Interval{Float64},IntervalMatrix{Float64,IntervalArithmetic.Interval{Float64},Array{IntervalArithmetic.Interval{Float64},2}},IntervalMatrix{Float64,IntervalArithmetic.Interval{Float64},SparseMatrixCSC{IntervalArithmetic.Interval{Float64},Int64}},Universe{Float64},Hyperrectangle{Float64,Array{Float64,1},Array{Float64,1}}}(IntervalArithmetic.Interval{Float64}[[0, 0] [1, 1] … [0, 0] [0, 0]; [0, 0] [0, 0] … [0, 0] [0, 0]; … ; [0, 0] [0, 0] … [0, 0] [-1, -1]; [0.713199, 0.7132] [3.57299, 3.573] … [3.072, 3.07201] [-3.13561, -3.1356]], IntervalArithmetic.Interval{Float64}[[0, 0]; [1, 1]; … ; [0, 0]; [0, 0]], Universe{Float64}(9), Hyperrectangle{Float64,Array{Float64,1},Array{Float64,1}}([-4.0], [5.0]))"
      ]
     },
     "execution_count": 52,
     "metadata": {},
     "output_type": "execute_result"
    }
   ],
   "source": [
    "platoon_continuous_split_largest()"
   ]
  },
  {
   "cell_type": "code",
   "execution_count": 53,
   "metadata": {},
   "outputs": [
    {
     "data": {
      "text/plain": [
       "platoon (generic function with 1 method)"
      ]
     },
     "execution_count": 53,
     "metadata": {},
     "output_type": "execute_result"
    }
   ],
   "source": [
    "function platoon(; deterministic_switching::Bool=true,\n",
    "                   c1=5.0,  # clock constraints\n",
    "                   c2=5.0,  # clock constraints\n",
    "                   tb=10.0,  # lower bound for loss of communication\n",
    "                   tc=20.0, tr=20.0) # upper bound for loss of communication (tc) and reset time (tr)\n",
    "    \n",
    "    # three variables for each vehicle, (ei, d(et)/dt, ai) for\n",
    "    # (spacing error, relative velocity, speed), and the last dimension is time\n",
    "    n = 9 + 1\n",
    "\n",
    "    # transition graph\n",
    "    automaton = LightAutomaton(2)\n",
    "    add_transition!(automaton, 1, 2, 1)\n",
    "    add_transition!(automaton, 2, 1, 2)\n",
    "\n",
    "    # modes\n",
    "    mode1 = platoon_connected(deterministic_switching=deterministic_switching, c1=c1)\n",
    "    mode2 = platoon_disconnected(deterministic_switching=deterministic_switching, c2=c2)\n",
    "    modes = [mode1, mode2]\n",
    "\n",
    "    # common reset\n",
    "    reset = Dict(n => 0.)\n",
    "\n",
    "    # transition l1 -> l2\n",
    "    if deterministic_switching\n",
    "        guard = Hyperplane(sparsevec([n], [1.], n), c1) # t == c1\n",
    "    else\n",
    "        # tb <= t <= tc\n",
    "        guard = HPolyhedron([HalfSpace(sparsevec([n], [-1.], n), -tb),\n",
    "                             HalfSpace(sparsevec([n], [1.], n), tc)])\n",
    "    end\n",
    "    t1 = ConstrainedResetMap(n, guard, reset)\n",
    "\n",
    "    # transition l2 -> l1\n",
    "    if deterministic_switching\n",
    "        guard = Hyperplane(sparsevec([n], [1.], n), c2) # t == c2\n",
    "    else\n",
    "        guard = HalfSpace(sparsevec([n], [1.], n), tr) # t <= tr\n",
    "    end\n",
    "    t2 = ConstrainedResetMap(n, guard, reset)\n",
    "    resetmaps = [t1, t2]\n",
    "\n",
    "    H = HybridSystem(automaton, modes, resetmaps, [AutonomousSwitching()])\n",
    "\n",
    "    # initial condition is at the orgin in mode 1\n",
    "    X0 = BallInf(zeros(n), 0.0)\n",
    "    initial_condition = [(1, X0)]\n",
    "\n",
    "    return IVP(H, initial_condition)\n",
    "end"
   ]
  },
  {
   "cell_type": "markdown",
   "metadata": {},
   "source": [
    "# Arbitrary switching"
   ]
  },
  {
   "cell_type": "code",
   "execution_count": 54,
   "metadata": {},
   "outputs": [
    {
     "data": {
      "text/plain": [
       "solve_platoon_continuous_split (generic function with 1 method)"
      ]
     },
     "execution_count": 54,
     "metadata": {},
     "output_type": "execute_result"
    }
   ],
   "source": [
    "function solve_platoon_continuous_split(δ, max_order)\n",
    "    X0 = BallInf(zeros(9), 0.0)\n",
    "    Svec = platoon_continuous_split_largest()\n",
    "    alg = ASB07(δ=δ, max_order=max_order, approx_model=CorrectionHull(order=10))\n",
    "    sol = []\n",
    "    for Si in Svec\n",
    "        ivpx = @ivp(Si, x(0) ∈ X0)\n",
    "        si = solve(@ivp(Si, x(0) ∈ X0), T=20.0, alg=alg)\n",
    "        push!(sol, si)\n",
    "    end\n",
    "    MixedFlowpipe([sol[i].F for i in 1:length(sol)])\n",
    "end"
   ]
  },
  {
   "cell_type": "code",
   "execution_count": null,
   "metadata": {},
   "outputs": [],
   "source": [
    "# Settings for PLAA01 - BND50\n",
    "@time sol = solve_platoon_continuous_split(0.01, 1200);\n",
    "#@show tspan(sol);\n",
    "@show numrsets(sol)\n",
    "@show -ρ(sparsevec([1], [-1.0], 9), sol)\n",
    "@show -ρ(sparsevec([4], [-1.0], 9), sol)\n",
    "@show -ρ(sparsevec([7], [-1.0], 9), sol)"
   ]
  },
  {
   "cell_type": "code",
   "execution_count": 56,
   "metadata": {},
   "outputs": [],
   "source": [
    "sol = nothing\n",
    "GC.gc()"
   ]
  },
  {
   "cell_type": "code",
   "execution_count": null,
   "metadata": {},
   "outputs": [],
   "source": [
    "length(sol)"
   ]
  },
  {
   "cell_type": "code",
   "execution_count": null,
   "metadata": {},
   "outputs": [],
   "source": [
    "plot(sol[2], vars=(0, 1), color=:green, lw=0.0, alpha=1.)\n",
    "plot!(sol[1], vars=(0, 1), color=:cyan, lw=0.0, alpha=1.)"
   ]
  },
  {
   "cell_type": "code",
   "execution_count": null,
   "metadata": {},
   "outputs": [],
   "source": [
    "# Settings for PLAA01 - BND42\n",
    "@time sol = solve_platoon_continuous_split(0.01, 400);\n",
    "#@show tspan(sol);\n",
    "@show numrsets(sol)\n",
    "@show -ρ(sparsevec([1], [-1.0], 9), sol)\n",
    "@show -ρ(sparsevec([4], [-1.0], 9), sol)\n",
    "@show -ρ(sparsevec([7], [-1.0], 9), sol)"
   ]
  },
  {
   "cell_type": "code",
   "execution_count": null,
   "metadata": {},
   "outputs": [],
   "source": [
    "plot(sol[2], vars=(0, 1), color=:green, lw=0.0, alpha=1.)\n",
    "plot!(sol[1], vars=(0, 1), color=:cyan, lw=0.0, alpha=1.)"
   ]
  },
  {
   "cell_type": "code",
   "execution_count": null,
   "metadata": {},
   "outputs": [],
   "source": [
    "sol = nothing\n",
    "GC.gc()"
   ]
  },
  {
   "cell_type": "code",
   "execution_count": null,
   "metadata": {},
   "outputs": [],
   "source": [
    "#=\n",
    "# without splitting\n",
    "\n",
    "X0 = BallInf(zeros(9), 0.0)\n",
    "ivp = @ivp(platoon_continuous(), x(0) ∈ X0);\n",
    "alg = ASB07(δ=0.001, max_order=800, approx_model=CorrectionHull(order=10))\n",
    "@time sol = solve(ivp, T=20.0, alg=alg);\n",
    "\n",
    "@show tspan(sol);\n",
    "@show -ρ(sparsevec([1], [-1.0], 9), sol)\n",
    "@show -ρ(sparsevec([4], [-1.0], 9), sol)\n",
    "@show -ρ(sparsevec([7], [-1.0], 9), sol)\n",
    "=#"
   ]
  },
  {
   "cell_type": "markdown",
   "metadata": {},
   "source": [
    "### PLAA01 - discrete time"
   ]
  },
  {
   "cell_type": "code",
   "execution_count": null,
   "metadata": {},
   "outputs": [],
   "source": [
    "# Settings for PLAA01 - BND50\n",
    "@time sol = solve_platoon_continuous_split(0.1, 400);\n",
    "@show numrsets(sol)\n",
    "@show -ρ(sparsevec([1], [-1.0], 9), sol)\n",
    "@show -ρ(sparsevec([4], [-1.0], 9), sol)\n",
    "@show -ρ(sparsevec([7], [-1.0], 9), sol)"
   ]
  },
  {
   "cell_type": "code",
   "execution_count": null,
   "metadata": {},
   "outputs": [],
   "source": [
    "# Settings for PLAA01 - BND42\n",
    "@time sol = solve_platoon_continuous_split(0.1, 1100);\n",
    "@show numrsets(sol)\n",
    "@show -ρ(sparsevec([1], [-1.0], 9), sol)\n",
    "@show -ρ(sparsevec([4], [-1.0], 9), sol)\n",
    "@show -ρ(sparsevec([7], [-1.0], 9), sol)"
   ]
  },
  {
   "cell_type": "markdown",
   "metadata": {},
   "source": [
    "# Deterministic switching (PLAD01)"
   ]
  },
  {
   "cell_type": "markdown",
   "metadata": {},
   "source": [
    "## PLAD01 - BND42 (dense time)"
   ]
  },
  {
   "cell_type": "code",
   "execution_count": null,
   "metadata": {},
   "outputs": [],
   "source": [
    "# Settings for PLAD01 - BND42\n",
    "prob = platoon(; deterministic_switching=true);\n",
    "@time sol = solve(prob, alg=BOX(δ=0.01), max_jumps=10_000,\n",
    "                  clustering_method=BoxClustering(1),\n",
    "                  intersection_method=TemplateHullIntersection(boxdirs),\n",
    "                  intersect_source_invariant=false,\n",
    "                  tspan = (0.0 .. 20.0));\n",
    "\n",
    "@show tspan(sol);\n",
    "@show -ρ(sparsevec([1], [-1.0], 10), sol)\n",
    "@show -ρ(sparsevec([4], [-1.0], 10), sol)\n",
    "@show -ρ(sparsevec([7], [-1.0], 10), sol)"
   ]
  },
  {
   "cell_type": "code",
   "execution_count": null,
   "metadata": {},
   "outputs": [],
   "source": [
    "# Settings for PLAD01 - BND42 in discrete time\n",
    "prob = platoon(; deterministic_switching=true);\n",
    "@time sol = solve(prob, alg=GLGM06(δ=0.1, max_order=1000), max_jumps=10_000,\n",
    "                  clustering_method=BoxClustering(1),\n",
    "                  intersection_method=TemplateHullIntersection(boxdirs),\n",
    "                  intersect_source_invariant=false,\n",
    "                  tspan = (0.0 .. 20.0));\n",
    "\n",
    "@show tspan(sol);\n",
    "@show -ρ(sparsevec([1], [-1.0], 10), sol)\n",
    "@show -ρ(sparsevec([4], [-1.0], 10), sol)\n",
    "@show -ρ(sparsevec([7], [-1.0], 10), sol)"
   ]
  },
  {
   "cell_type": "code",
   "execution_count": null,
   "metadata": {},
   "outputs": [],
   "source": [
    "#=\n",
    "prob = platoon(; deterministic_switching=true);\n",
    "@time sol = solve(prob, alg=BOX(δ=0.005), max_jumps=1000,\n",
    "                  clustering_method=BoxClustering(8, [4,1,1,1,1,1,1,1,1,8]),\n",
    "                  intersection_method=TemplateHullIntersection(boxdirs),\n",
    "                  intersect_source_invariant=false,\n",
    "                  tspan = (0.0 .. 20.0));\n",
    "\n",
    " 65.500408 seconds (188.78 M allocations: 18.336 GiB, 5.85% gc time)\n",
    "tspan(sol) = [0, 10.0001]\n",
    "-(ρ(sparsevec([1], [-1.0], 10), sol)) = -40.047833512971565\n",
    "-(ρ(sparsevec([4], [-1.0], 10), sol)) = -41.870903197620116\n",
    "-(ρ(sparsevec([7], [-1.0], 10), sol)) = -34.20598329487697\n",
    "-34.20598329487697\n",
    "=#"
   ]
  },
  {
   "cell_type": "code",
   "execution_count": null,
   "metadata": {},
   "outputs": [],
   "source": [
    "# using box template dirs\n",
    "  5.327294 seconds (16.40 M allocations: 1.657 GiB, 6.83% gc time)\n",
    "tspan(sol) = [0, 9.99901]\n",
    "-(ρ(sparsevec([1], [-1.0], 10), sol)) = -58.813378674563566\n",
    "-(ρ(sparsevec([4], [-1.0], 10), sol)) = -57.34143943229263\n",
    "-(ρ(sparsevec([7], [-1.0], 10), sol)) = -41.97304340187433\n",
    "-41.97304340187433"
   ]
  },
  {
   "cell_type": "code",
   "execution_count": null,
   "metadata": {},
   "outputs": [],
   "source": [
    "prob = platoon(; deterministic_switching=true);\n",
    "@time sol = solve(prob, alg=GLGM06(δ=0.02, max_order=400), max_jumps=1000,\n",
    "                  clustering_method=BoxClustering(6, 2), # [6,1,1,1,1,1,1,1,1,1]),\n",
    "                  intersection_method=TemplateHullIntersection(),\n",
    "                  intersect_source_invariant=false,\n",
    "                  tspan = (0.0 .. 20.0));\n",
    "\n",
    "@show tspan(sol); # TODO: fix `tspan` for a hybrid flowpipe.\n",
    "@show -ρ(sparsevec([1], [-1.0], 10), sol)\n",
    "@show -ρ(sparsevec([4], [-1.0], 10), sol)\n",
    "@show -ρ(sparsevec([7], [-1.0], 10), sol)"
   ]
  },
  {
   "cell_type": "code",
   "execution_count": null,
   "metadata": {},
   "outputs": [],
   "source": [
    "plot(sol, vars=(0, 1), lw=0.0, color=:blue)"
   ]
  },
  {
   "cell_type": "code",
   "execution_count": null,
   "metadata": {},
   "outputs": [],
   "source": [
    "-ρ(sparsevec([1], [-1.0], 10), sol)"
   ]
  },
  {
   "cell_type": "code",
   "execution_count": null,
   "metadata": {},
   "outputs": [],
   "source": [
    "plot(sol[1], vars=(0, 1), lw=0.0, color=:blue)\n",
    "plot!(sol[2], vars=(0, 1), lw=0.0, color=:blue)"
   ]
  },
  {
   "cell_type": "markdown",
   "metadata": {},
   "source": [
    "## Intersections - Continuous part"
   ]
  },
  {
   "cell_type": "code",
   "execution_count": null,
   "metadata": {},
   "outputs": [],
   "source": [
    "prob = platoon(; deterministic_switching=true);\n",
    "X0 = BallInf(zeros(10), 0.0)\n",
    "ivp1 = @ivp(platoon_connected(), x(0) ∈ X0)\n",
    "@time sol = solve(ivp1, alg=GLGM06(δ=0.01, max_order=100), tspan=(0.0 .. 20.0));\n",
    "tspan(sol)"
   ]
  },
  {
   "cell_type": "code",
   "execution_count": null,
   "metadata": {},
   "outputs": [],
   "source": [
    "Z = sol(5.0)[1]"
   ]
  },
  {
   "cell_type": "markdown",
   "metadata": {},
   "source": [
    "## PLAD01 - BND42 (discrete time)"
   ]
  },
  {
   "cell_type": "code",
   "execution_count": null,
   "metadata": {},
   "outputs": [],
   "source": [
    "# Settings for PLAD01 - BND42 in discrete time\n",
    "prob = platoon(; deterministic_switching=true);\n",
    "@time sol = solve(prob, alg=BOX(δ=0.1, approx_model=NoBloating()), max_jumps=10_000,\n",
    "                  clustering_method=BoxClustering(1, [3,1,1,1,1,1,1,1,1,1]),\n",
    "                  intersection_method=TemplateHullIntersection(octdirs),\n",
    "                  intersect_source_invariant=false,\n",
    "                  tspan = (0.0 .. 20.0));\n",
    "\n",
    "\n",
    "@show tspan(sol);\n",
    "@show -ρ(sparsevec([1], [-1.0], 10), sol)\n",
    "@show -ρ(sparsevec([4], [-1.0], 10), sol)\n",
    "@show -ρ(sparsevec([7], [-1.0], 10), sol)"
   ]
  },
  {
   "cell_type": "markdown",
   "metadata": {},
   "source": [
    "## PLAD01 - BND30 (dense time)"
   ]
  },
  {
   "cell_type": "code",
   "execution_count": null,
   "metadata": {},
   "outputs": [],
   "source": [
    "prob = platoon(; deterministic_switching=true);\n",
    "@time sol = solve(prob, alg=GLGM06(δ=0.01, max_order=100), \n",
    "                  max_jumps=10_000,\n",
    "                  clustering_method=BoxClustering(1),\n",
    "                  intersection_method=TemplateHullIntersection(boxdirs),\n",
    "                  intersect_source_invariant=false,\n",
    "                  tspan = (0.0 .. 20.0));\n",
    "\n",
    "@show tspan(sol);\n",
    "@show -ρ(sparsevec([1], [-1.0], 10), sol)\n",
    "@show -ρ(sparsevec([4], [-1.0], 10), sol)\n",
    "@show -ρ(sparsevec([7], [-1.0], 10), sol)"
   ]
  },
  {
   "cell_type": "markdown",
   "metadata": {},
   "source": [
    "---"
   ]
  },
  {
   "cell_type": "code",
   "execution_count": null,
   "metadata": {},
   "outputs": [],
   "source": [
    "prob = platoon(; deterministic_switching=true);\n",
    "@time sol = solve(prob, alg=BOX(δ=0.01), max_jumps=10_000,\n",
    "                  clustering_method=BoxClustering(10, [3,1,1,1,1,1,1,1,1,3]),\n",
    "                  intersection_method=TemplateHullIntersection(octdirs),\n",
    "                  intersect_source_invariant=false,\n",
    "                  tspan = (0.0 .. 20.0));\n",
    "\n",
    "@show tspan(sol); # TODO: fix `tspan` for a hybrid flowpipe.\n",
    "@show -ρ(sparsevec([1], [-1.0], 10), sol)\n",
    "@show -ρ(sparsevec([4], [-1.0], 10), sol)\n",
    "@show -ρ(sparsevec([7], [-1.0], 10), sol)"
   ]
  },
  {
   "cell_type": "code",
   "execution_count": null,
   "metadata": {},
   "outputs": [],
   "source": [
    "prob = platoon(; deterministic_switching=true);\n",
    "@time sol = solve(prob, alg=LGG09(δ=0.01), max_jumps=10_000,\n",
    "                  clustering_method=BoxClustering(10, [3,1,1,1,1,1,1,1,1,3]),\n",
    "                  intersection_method=TemplateHullIntersection(octdirs),\n",
    "                  intersect_source_invariant=false,\n",
    "                  tspan = (0.0 .. 20.0));\n",
    "\n",
    "@show tspan(sol); # TODO: fix `tspan` for a hybrid flowpipe.\n",
    "@show -ρ(sparsevec([1], [-1.0], 10), sol)\n",
    "@show -ρ(sparsevec([4], [-1.0], 10), sol)\n",
    "@show -ρ(sparsevec([7], [-1.0], 10), sol)"
   ]
  },
  {
   "cell_type": "markdown",
   "metadata": {},
   "source": [
    "## PLAD01 - BND30 (discrete time)"
   ]
  },
  {
   "cell_type": "code",
   "execution_count": null,
   "metadata": {},
   "outputs": [],
   "source": []
  },
  {
   "cell_type": "code",
   "execution_count": null,
   "metadata": {},
   "outputs": [],
   "source": [
    "# Settings for PLAD01 - BND30 in discrete time\n",
    "prob = platoon(; deterministic_switching=true);\n",
    "@time sol = solve(prob, alg=GLGM06(δ=0.1, approx_model=NoBloating()), max_jumps=10_000,\n",
    "                  clustering_method=BoxClustering(1, [3,1,1,1,1,1,1,1,1,1]),\n",
    "                  intersection_method=TemplateHullIntersection(octdirs),\n",
    "                  intersect_source_invariant=false,\n",
    "                  tspan = (0.0 .. 20.0));\n",
    "\n",
    "\n",
    "@show tspan(sol);\n",
    "@show -ρ(sparsevec([1], [-1.0], 10), sol)\n",
    "@show -ρ(sparsevec([4], [-1.0], 10), sol)\n",
    "@show -ρ(sparsevec([7], [-1.0], 10), sol)"
   ]
  },
  {
   "cell_type": "code",
   "execution_count": null,
   "metadata": {},
   "outputs": [],
   "source": [
    "Z = Zonotope(zeros(2), Array{Float64}(undef,2,0))\n",
    "H = Hyperplane([1.0, 0.0], 0.0)\n",
    "is_intersection_empty(Z, H)"
   ]
  },
  {
   "cell_type": "markdown",
   "metadata": {},
   "source": [
    "# Non-deterministic switching  (PLAN01)"
   ]
  },
  {
   "cell_type": "markdown",
   "metadata": {},
   "source": [
    "## PLAN01 - UNB50"
   ]
  },
  {
   "cell_type": "code",
   "execution_count": null,
   "metadata": {},
   "outputs": [],
   "source": [
    "prob = platoon(; deterministic_switching=false);\n",
    "@time sol = solve(prob, alg=BOX(δ=0.01), max_jumps=1000,\n",
    "                  clustering_method=BoxClustering(1), \n",
    "                  intersection_method=TemplateHullIntersection(boxdirs),\n",
    "                  intersect_source_invariant=false,\n",
    "                  tspan = (0.0 .. 5000.));\n",
    "\n",
    "@show tspan(sol);\n",
    "@show -ρ(sparsevec([1], [-1.0], 10), sol)\n",
    "@show -ρ(sparsevec([4], [-1.0], 10), sol)\n",
    "@show -ρ(sparsevec([7], [-1.0], 10), sol)"
   ]
  },
  {
   "cell_type": "code",
   "execution_count": null,
   "metadata": {},
   "outputs": [],
   "source": [
    "tspan(sol)"
   ]
  },
  {
   "cell_type": "code",
   "execution_count": null,
   "metadata": {},
   "outputs": [],
   "source": [
    "sol[1]"
   ]
  },
  {
   "cell_type": "code",
   "execution_count": null,
   "metadata": {},
   "outputs": [],
   "source": [
    "plot(sol, vars=(0, 1), lw=0.0)"
   ]
  },
  {
   "cell_type": "code",
   "execution_count": null,
   "metadata": {},
   "outputs": [],
   "source": [
    "plot(sol, vars=(0, 1), lw=0.0, color=:lightgreen, xlab=\"x\", ylab=\"y\")"
   ]
  },
  {
   "cell_type": "markdown",
   "metadata": {},
   "source": [
    "BNDxy Bounded time (no explicit bound on the number of transitions): \n",
    "\n",
    "For all t ∈ [0, 20] [s],\n",
    "\n",
    "- x 1 (t) ≥ −d min [m], \n",
    "- x 4 (t) ≥ −d min [m], \n",
    "- x 7 (t) ≥ −d min [m], where d min =xy [m].\n",
    "\n",
    "BND50: d min = 50.\n",
    "BND42: d min = 42.\n",
    "BND30: d min = 30"
   ]
  },
  {
   "cell_type": "code",
   "execution_count": null,
   "metadata": {},
   "outputs": [],
   "source": [
    "sol = nothing\n",
    "GC.gc()\n",
    "\n",
    "boxdirs = BoxDirections{Float64, Vector{Float64}}(10)\n",
    "octdirs = CustomDirections([Vector(c) for c in OctDirections(10)])\n",
    "\n",
    "dmin = 30.0\n",
    "prob = platooning2(; deterministic_switching=true, time_horizon=20., allowed_distance=dmin)\n",
    "\n",
    "#prob = platooning(; deterministic_switching=true, time_horizon=Inf, allowed_distance=50.)\n",
    "\n",
    "@time sol = solve(prob, alg=BOX(δ=0.01),\n",
    "                  clustering_method=LazyClustering(10),\n",
    "                  intersection_method=TemplateHullIntersection(octdirs),\n",
    "                  intersect_source_invariant=false,\n",
    "                  intersect_source_invariant_method=TemplateHullIntersection(boxdirs),\n",
    "                  tspan = (0.0 .. 20.));"
   ]
  },
  {
   "cell_type": "code",
   "execution_count": null,
   "metadata": {},
   "outputs": [],
   "source": [
    "@show ρ(sparsevec([1], [-1.0], 10), sol)"
   ]
  },
  {
   "cell_type": "code",
   "execution_count": null,
   "metadata": {},
   "outputs": [],
   "source": [
    "plot(sol, vars=(0, 1), lw=0.0)"
   ]
  },
  {
   "cell_type": "code",
   "execution_count": null,
   "metadata": {},
   "outputs": [],
   "source": [
    "location.(sol)"
   ]
  },
  {
   "cell_type": "code",
   "execution_count": null,
   "metadata": {},
   "outputs": [],
   "source": [
    "@show tspan(sol);\n",
    "@show ρ(sparsevec([1], [-1.0], 10), sol) < dmin\n",
    "@show ρ(sparsevec([4], [-1.0], 10), sol) < dmin\n",
    "@show ρ(sparsevec([7], [-1.0], 10), sol) < dmin"
   ]
  },
  {
   "cell_type": "markdown",
   "metadata": {},
   "source": [
    "-----"
   ]
  },
  {
   "cell_type": "code",
   "execution_count": null,
   "metadata": {},
   "outputs": [],
   "source": [
    "sol = nothing\n",
    "GC.gc()\n",
    "\n",
    "boxdirs = BoxDirections{Float64, Vector{Float64}}(10)\n",
    "octdirs = CustomDirections([Vector(c) for c in OctDirections(10)])\n",
    "\n",
    "dmin = 30.0\n",
    "prob = platooning(; deterministic_switching=true, time_horizon=20., allowed_distance=dmin)\n",
    "\n",
    "#prob = platooning(; deterministic_switching=true, time_horizon=Inf, allowed_distance=50.)\n",
    "\n",
    "@time sol = solve(prob, alg=GLGM06(δ=0.0001, max_order=200, disjointness_method=BoxEnclosure()),\n",
    "                  clustering_method=LazyClustering(1),\n",
    "                  disjointness_metod=BoxEnclosure(),\n",
    "                  intersection_method=TemplateHullIntersection(octdirs),\n",
    "                  intersect_source_invariant=false,\n",
    "                  intersect_source_invariant_method=TemplateHullIntersection(boxdirs),\n",
    "                  tspan = (0.0 .. 20.));"
   ]
  },
  {
   "cell_type": "code",
   "execution_count": null,
   "metadata": {},
   "outputs": [],
   "source": [
    "ρ(sparsevec([1], [-1.0], 10), sol)"
   ]
  },
  {
   "cell_type": "code",
   "execution_count": null,
   "metadata": {},
   "outputs": [],
   "source": [
    "function ReachabilityAnalysis._is_intersection_empty(X::LazySet, Z::Zonotope, ::BoxEnclosure)\n",
    "    is_intersection_empty(X, overapproximate(Z, Hyperrectangle))\n",
    "end"
   ]
  },
  {
   "cell_type": "markdown",
   "metadata": {},
   "source": [
    "## Old stuff"
   ]
  },
  {
   "cell_type": "code",
   "execution_count": null,
   "metadata": {},
   "outputs": [],
   "source": [
    "    #=\n",
    "    system = InitialValueProblem(ℋ, initial_condition)\n",
    "\n",
    "    # safety property\n",
    "    d1 = zeros(n); d1[1] = -1.  # x1 >= -dmin\n",
    "    d4 = zeros(n); d4[4] = -1.  # x4 >= -dmin\n",
    "    d7 = zeros(n); d7[7] = -1.  # x7 >= -dmin\n",
    "    property = Conjunction(\n",
    "        [is_contained_in(HalfSpace(d, allowed_distance)) for d in [d1, d4, d7]])\n",
    "\n",
    "    # default options\n",
    "    options = Options(:T=>time_horizon, :property=>property)\n",
    "    =#\n"
   ]
  },
  {
   "cell_type": "code",
   "execution_count": null,
   "metadata": {},
   "outputs": [],
   "source": []
  }
 ],
 "metadata": {
  "@webio": {
   "lastCommId": null,
   "lastKernelId": null
  },
  "kernelspec": {
   "display_name": "Julia 1.5.0-beta1",
   "language": "julia",
   "name": "julia-1.5"
  },
  "language_info": {
   "file_extension": ".jl",
   "mimetype": "application/julia",
   "name": "julia",
   "version": "1.5.0"
  }
 },
 "nbformat": 4,
 "nbformat_minor": 2
}
