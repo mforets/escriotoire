{
 "cells": [
  {
   "cell_type": "markdown",
   "metadata": {},
   "source": [
    "## Description"
   ]
  },
  {
   "cell_type": "markdown",
   "metadata": {},
   "source": [
    "Given $x'(t) = Ax(t)$. Let\n",
    "\n",
    "$$\n",
    " x_c^* := \\max_{0 \\leq t \\leq T} x_c(t) \n",
    "$$\n",
    "where $x_c(t)$ is the temperature at the center of the domain. \n",
    "\n",
    "We are interested in the safety problem\n",
    "$$\n",
    "u_f-\\delta \\leq  x_c^* \\leq u_f+\\delta\n",
    "$$\n",
    "where $u_f$ is the final temperature, $\\delta = 1e-4$."
   ]
  },
  {
   "cell_type": "markdown",
   "metadata": {},
   "source": [
    "## Approach"
   ]
  },
  {
   "cell_type": "markdown",
   "metadata": {},
   "source": [
    "First we apply an approximation model, getting the recurrence\n",
    "\n",
    "$$\n",
    "X_{k+1} = \\Phi X_k, \\qquad k \\geq 0\n",
    "$$\n",
    "where $X_0 := \\Omega_0$ is the discretized initial condition, and $\\Phi := e^{A\\delta}$ is the matrix exponential."
   ]
  },
  {
   "cell_type": "markdown",
   "metadata": {},
   "source": [
    "To compute the min and max values of $x_c(t)$ over the interval $[0, \\delta]$, we can compute the support function we do as follows. Let $e_c$ the canonical vector along the center direction. Then, we compute \n",
    "\n",
    "$$\n",
    "(-\\rho(-e_c, X_k), \\rho(e_c, X_k)),\\qquad k \\geq 0.\n",
    "$$"
   ]
  },
  {
   "cell_type": "markdown",
   "metadata": {},
   "source": [
    "This is achieved using the LGG09 algorithm with custom directions $e_c$ and $-e_c$."
   ]
  },
  {
   "cell_type": "code",
   "execution_count": 4,
   "metadata": {},
   "outputs": [],
   "source": [
    "using MAT, SparseArrays, ReachabilityAnalysis\n",
    "using ExponentialUtilities\n",
    "using LazySets.Arrays: SingleEntryVector"
   ]
  },
  {
   "cell_type": "code",
   "execution_count": 152,
   "metadata": {},
   "outputs": [
    {
     "data": {
      "text/plain": [
       "reach_homog_dir_LGG09h! (generic function with 1 method)"
      ]
     },
     "execution_count": 152,
     "metadata": {},
     "output_type": "execute_result"
    }
   ],
   "source": [
    "# recursive version, default expv\n",
    "function reach_homog_dir_LGG09!(out, Ω₀, Aᵀ, ℓ, NSTEPS, recursive::Val{:true})\n",
    "    rᵢ = copy(ℓ) # this is a Vector (!)\n",
    "    rᵢ₊₁ = similar(rᵢ)\n",
    "\n",
    "    @inbounds for i in 1:NSTEPS\n",
    "        out[i] = ρ(rᵢ, Ω₀)\n",
    "\n",
    "        # update cache for the next iteration\n",
    "        rᵢ₊₁ = expv(1.0, Aᵀ, rᵢ) # computes exp(Aᵀ * 1.0) * rᵢ\n",
    "        copy!(rᵢ, rᵢ₊₁)\n",
    "    end\n",
    "    return out\n",
    "end\n",
    "\n",
    "# ρ(ℓ, Ω₀)\n",
    "# ρ(exp(Aᵀ) * ℓ, Ω₀)\n",
    "# ρ(exp(2Aᵀ) * ℓ, Ω₀)\n",
    "function reach_homog_dir_LGG09!(out, Ω₀, Aᵀ, ℓ, NSTEPS, recursive::Val{:false})\n",
    "    rᵢ = deepcopy(ℓ) # if ℓ is a sev => this is a sev\n",
    "\n",
    "    @inbounds for i in 1:NSTEPS\n",
    "        out[i] = ρ(rᵢ, Ω₀)\n",
    "\n",
    "        # update cache for the next iteration\n",
    "        rᵢ = expv(i*1.0, Aᵀ, ℓ)\n",
    "    end\n",
    "    return out\n",
    "end\n",
    "\n",
    "# non-recursive version using precomputed Krylov subspace\n",
    "function reach_homog_dir_LGG09c!(out, Ω₀, Aᵀ, ℓ, NSTEPS, recursive::Val{:false})\n",
    "    rᵢ = deepcopy(ℓ) # if ℓ is a sev => this is a sev\n",
    "    Ks = arnoldi(Aᵀ, ℓ, tol=1e-18)\n",
    "\n",
    "    @inbounds for i in 1:NSTEPS\n",
    "        out[i] = ρ(rᵢ, Ω₀)\n",
    "\n",
    "        # update cache for the next iteration\n",
    "        expv!(rᵢ, i*1.0, Ks)\n",
    "    end\n",
    "    return out\n",
    "end\n",
    "\n",
    "function reach_homog_dir_LGG09h!(out, Ω₀, Aᵀ, ℓ, NSTEPS, recursive::Val{:false};\n",
    "                                 m=min(30, size(Aᵀ, 1)), tol=1e-7)\n",
    "    \n",
    "    TA, Tb = eltype(Aᵀ), eltype(ℓ)\n",
    "    T = promote_type(TA, Tb)\n",
    "    Ks = KrylovSubspace{T, real(T)}(length(ℓ), m)\n",
    "    arnoldi!(Ks, Aᵀ, ℓ; m=m, ishermitian=true, tol=tol)\n",
    "\n",
    "    rᵢ = deepcopy(ℓ) # if ℓ is a sev => this is a sev\n",
    "\n",
    "    @inbounds for i in 1:NSTEPS\n",
    "        out[i] = ρ(rᵢ, Ω₀) # MEJORAR (?)\n",
    "\n",
    "        # update cache for the next iteration\n",
    "        expv!(rᵢ, i*1.0, Ks)\n",
    "    end\n",
    "    return out\n",
    "end"
   ]
  },
  {
   "cell_type": "markdown",
   "metadata": {},
   "source": [
    "## HEAT01 (5x5x5 grid)"
   ]
  },
  {
   "cell_type": "code",
   "execution_count": 6,
   "metadata": {},
   "outputs": [],
   "source": [
    "out = matread(\"A5.mat\");\n",
    "A = out[\"A5\"]\n",
    "n = size(A, 1)\n",
    "xind = sparsevec(out[\"X0\"][:])\n",
    "x0ind = xind.nzind;\n",
    "xc = 62 + 1;\n",
    "NSTEPS = 2_000\n",
    "δ = 0.02 # step size\n",
    "\n",
    "c = sparsevec(x0ind, fill(1.0, length(x0ind)), n)\n",
    "r = sparsevec(x0ind, fill(0.1, length(x0ind)), n)\n",
    "Ω₀ = Hyperrectangle(c, r);\n",
    "\n",
    "Aᵀ = transpose(A .* δ); # lazy\n",
    "ℓ = SingleEntryVector(xc, n, 1.0);"
   ]
  },
  {
   "cell_type": "code",
   "execution_count": 8,
   "metadata": {},
   "outputs": [
    {
     "name": "stdout",
     "output_type": "stream",
     "text": [
      "  0.510531 seconds (278.00 k allocations: 135.439 MiB, 8.01% gc time)\n",
      "maximum(out) = 0.10369885388747664\n"
     ]
    },
    {
     "data": {
      "text/plain": [
       "0.10369885388747664"
      ]
     },
     "execution_count": 8,
     "metadata": {},
     "output_type": "execute_result"
    }
   ],
   "source": [
    "out = Vector{Float64}(undef, NSTEPS)\n",
    "@time reach_homog_dir_LGG09!(out, Ω₀, Aᵀ, ℓ, NSTEPS, Val(:true));\n",
    "@show maximum(out)"
   ]
  },
  {
   "cell_type": "code",
   "execution_count": 10,
   "metadata": {},
   "outputs": [
    {
     "name": "stdout",
     "output_type": "stream",
     "text": [
      "  0.490708 seconds (278.00 k allocations: 135.437 MiB, 2.05% gc time)\n",
      "maximum(out) = 0.10369885388747549\n"
     ]
    },
    {
     "data": {
      "text/plain": [
       "0.10369885388747549"
      ]
     },
     "execution_count": 10,
     "metadata": {},
     "output_type": "execute_result"
    }
   ],
   "source": [
    "out = Vector{Float64}(undef, NSTEPS)\n",
    "@time reach_homog_dir_LGG09!(out, Ω₀, Aᵀ, ℓ, NSTEPS, Val(:false));\n",
    "@show maximum(out)"
   ]
  },
  {
   "cell_type": "code",
   "execution_count": 12,
   "metadata": {},
   "outputs": [
    {
     "name": "stdout",
     "output_type": "stream",
     "text": [
      "  0.379944 seconds (72.13 k allocations: 49.734 MiB, 0.74% gc time)\n",
      "maximum(out) = 0.10369885388747549\n"
     ]
    },
    {
     "data": {
      "text/plain": [
       "0.10369885388747549"
      ]
     },
     "execution_count": 12,
     "metadata": {},
     "output_type": "execute_result"
    }
   ],
   "source": [
    "out = Vector{Float64}(undef, NSTEPS)\n",
    "@time reach_homog_dir_LGG09c!(out, Ω₀, Aᵀ, sparse(ℓ), NSTEPS, Val(:false));\n",
    "@show maximum(out)"
   ]
  },
  {
   "cell_type": "code",
   "execution_count": 13,
   "metadata": {},
   "outputs": [
    {
     "name": "stdout",
     "output_type": "stream",
     "text": [
      "  0.443132 seconds (125.79 k allocations: 52.605 MiB, 0.68% gc time)\n",
      "maximum(out) = 0.10369885388747549\n"
     ]
    },
    {
     "data": {
      "text/plain": [
       "0.10369885388747549"
      ]
     },
     "execution_count": 13,
     "metadata": {},
     "output_type": "execute_result"
    }
   ],
   "source": [
    "out = Vector{Float64}(undef, NSTEPS)\n",
    "@time reach_homog_dir_LGG09h!(out, Ω₀, Aᵀ, sparse(ℓ), NSTEPS, Val(:false));\n",
    "@show maximum(out)"
   ]
  },
  {
   "cell_type": "markdown",
   "metadata": {},
   "source": [
    "## HEAT02 (10x10x10 grid)"
   ]
  },
  {
   "cell_type": "code",
   "execution_count": 111,
   "metadata": {},
   "outputs": [],
   "source": [
    "GC.gc()"
   ]
  },
  {
   "cell_type": "code",
   "execution_count": 112,
   "metadata": {},
   "outputs": [],
   "source": [
    "out = matread(\"A10.mat\");\n",
    "A = out[\"A10\"]\n",
    "n = size(A, 1)\n",
    "xind = sparsevec(out[\"X0\"][:])\n",
    "x0ind = xind.nzind;\n",
    "xc = 555 + 1;\n",
    "NSTEPS = 2_000\n",
    "δ = 0.02 # step size\n",
    "\n",
    "c = sparsevec(x0ind, fill(1.0, length(x0ind)), n)\n",
    "r = sparsevec(x0ind, fill(0.1, length(x0ind)), n)\n",
    "Ω₀ = Hyperrectangle(c, r);\n",
    "\n",
    "Aᵀ = transpose(A .* δ); # lazy\n",
    "ℓ = SingleEntryVector(xc, n, 1.0);"
   ]
  },
  {
   "cell_type": "code",
   "execution_count": 113,
   "metadata": {},
   "outputs": [
    {
     "name": "stdout",
     "output_type": "stream",
     "text": [
      "  9.355580 seconds (142.03 k allocations: 289.204 MiB, 0.10% gc time)\n",
      "maximum(out) = 0.029334007070958994\n"
     ]
    },
    {
     "data": {
      "text/plain": [
       "0.029334007070958994"
      ]
     },
     "execution_count": 113,
     "metadata": {},
     "output_type": "execute_result"
    }
   ],
   "source": [
    "NSTEPS = 1000\n",
    "out = Vector{Float64}(undef, NSTEPS)\n",
    "@time reach_homog_dir_LGG09!(out, Ω₀, Aᵀ, sparse(ℓ), NSTEPS, Val(:true));\n",
    "@show maximum(out)"
   ]
  },
  {
   "cell_type": "code",
   "execution_count": 114,
   "metadata": {},
   "outputs": [
    {
     "name": "stdout",
     "output_type": "stream",
     "text": [
      "  3.379505 seconds (36.13 k allocations: 25.125 MiB, 0.09% gc time)\n",
      "maximum(out) = 0.02905704451649251\n"
     ]
    },
    {
     "data": {
      "text/plain": [
       "0.02905704451649251"
      ]
     },
     "execution_count": 114,
     "metadata": {},
     "output_type": "execute_result"
    }
   ],
   "source": [
    "out = Vector{Float64}(undef, NSTEPS)\n",
    "@time reach_homog_dir_LGG09h!(out, Ω₀, Aᵀ, sparse(ℓ), NSTEPS, Val(:false));\n",
    "@show maximum(out)"
   ]
  },
  {
   "cell_type": "code",
   "execution_count": 115,
   "metadata": {},
   "outputs": [
    {
     "name": "stdout",
     "output_type": "stream",
     "text": [
      "  3.198618 seconds (36.13 k allocations: 25.125 MiB)\n",
      "maximum(out) = 0.02905704451649251\n"
     ]
    },
    {
     "data": {
      "text/plain": [
       "0.02905704451649251"
      ]
     },
     "execution_count": 115,
     "metadata": {},
     "output_type": "execute_result"
    }
   ],
   "source": [
    "out = Vector{Float64}(undef, NSTEPS)\n",
    "@time reach_homog_dir_LGG09h!(out, Ω₀, Aᵀ, sparse(ℓ), NSTEPS, Val(:false));\n",
    "@show maximum(out)"
   ]
  },
  {
   "cell_type": "code",
   "execution_count": 110,
   "metadata": {},
   "outputs": [],
   "source": [
    "GC.gc()"
   ]
  },
  {
   "cell_type": "markdown",
   "metadata": {},
   "source": [
    "## HEAT03 (20x20x20 grid)"
   ]
  },
  {
   "cell_type": "code",
   "execution_count": 139,
   "metadata": {},
   "outputs": [
    {
     "data": {
      "text/plain": [
       "1200"
      ]
     },
     "execution_count": 139,
     "metadata": {},
     "output_type": "execute_result"
    }
   ],
   "source": [
    "out = matread(\"A20.mat\");\n",
    "A = out[\"A20\"]\n",
    "n = size(A, 1)\n",
    "xind = sparsevec(out[\"X0\"][:])\n",
    "x0ind = xind.nzind;\n",
    "xc = 4210 + 1;\n",
    "NSTEPS = 2_000\n",
    "δ = 0.02 # step size\n",
    "\n",
    "c = sparsevec(x0ind, fill(1.0, length(x0ind)), n)\n",
    "r = sparsevec(x0ind, fill(0.1, length(x0ind)), n)\n",
    "Ω₀ = Hyperrectangle(c, r);\n",
    "\n",
    "Aᵀ = transpose(A .* δ); # lazy\n",
    "ℓ = SingleEntryVector(xc, n, 1.0);\n",
    "NSTEPS = 1200"
   ]
  },
  {
   "cell_type": "code",
   "execution_count": 167,
   "metadata": {},
   "outputs": [
    {
     "data": {
      "text/plain": [
       "135"
      ]
     },
     "execution_count": 167,
     "metadata": {},
     "output_type": "execute_result"
    }
   ],
   "source": [
    "length(x0ind)"
   ]
  },
  {
   "cell_type": "code",
   "execution_count": 168,
   "metadata": {},
   "outputs": [
    {
     "data": {
      "text/plain": [
       "8000"
      ]
     },
     "execution_count": 168,
     "metadata": {},
     "output_type": "execute_result"
    }
   ],
   "source": [
    "n"
   ]
  },
  {
   "cell_type": "code",
   "execution_count": 166,
   "metadata": {},
   "outputs": [
    {
     "name": "stdout",
     "output_type": "stream",
     "text": [
      "  0.000215 seconds (1 allocation: 16 bytes)\n"
     ]
    }
   ],
   "source": [
    "q = rand(n)\n",
    "@time ρ(q, Ω₀);"
   ]
  },
  {
   "cell_type": "code",
   "execution_count": 169,
   "metadata": {},
   "outputs": [
    {
     "data": {
      "text/html": [
       "ρ(d::<b>AbstractArray{N,1}</b>, H::<b>AbstractHyperrectangle{N}</b>)<i> where N<:Real</i> in LazySets at <a href=\"https://github.com/JuliaReach/LazySets.jl/tree/17a45b9ff3f1cf963d19188fc324f837ff813130//src/Interfaces/AbstractHyperrectangle.jl#L305\" target=\"_blank\">/home/mforets/.julia/dev/LazySets/src/Interfaces/AbstractHyperrectangle.jl:305</a>"
      ],
      "text/plain": [
       "ρ(d::AbstractArray{N,1}, H::AbstractHyperrectangle{N}) where N<:Real in LazySets at /home/mforets/.julia/dev/LazySets/src/Interfaces/AbstractHyperrectangle.jl:305"
      ]
     },
     "execution_count": 169,
     "metadata": {},
     "output_type": "execute_result"
    }
   ],
   "source": [
    "@which ρ(q, Ω₀)"
   ]
  },
  {
   "cell_type": "code",
   "execution_count": null,
   "metadata": {},
   "outputs": [],
   "source": [
    "function foo(d::AbstractVector{N}, H::Hyperrectangle{N}) where {N}\n",
    "    c = center(H)\n",
    "    res = zero(N)\n",
    "    @inbounds for (i, di) in enumerate(d)\n",
    "        if di < zero(N)\n",
    "            res += di * (c[i] - radius_hyperrectangle(H, i))\n",
    "        elseif di > zero(N)\n",
    "            res += di * (c[i] + radius_hyperrectangle(H, i))\n",
    "        end\n",
    "    end\n",
    "    return res\n",
    "end"
   ]
  },
  {
   "cell_type": "code",
   "execution_count": 129,
   "metadata": {},
   "outputs": [
    {
     "name": "stdout",
     "output_type": "stream",
     "text": [
      " 42.501745 seconds (14.44 k allocations: 205.780 MiB, 0.02% gc time)\n",
      "maximum(out) = 0.0012942265383708085\n"
     ]
    },
    {
     "data": {
      "text/plain": [
       "0.0012942265383708085"
      ]
     },
     "execution_count": 129,
     "metadata": {},
     "output_type": "execute_result"
    }
   ],
   "source": [
    "out = Vector{Float64}(undef, NSTEPS)\n",
    "@time reach_homog_dir_LGG09!(out, Ω₀, Aᵀ, sparse(ℓ), NSTEPS, Val(:true));\n",
    "@show maximum(out)"
   ]
  },
  {
   "cell_type": "code",
   "execution_count": 153,
   "metadata": {},
   "outputs": [
    {
     "name": "stdout",
     "output_type": "stream",
     "text": [
      " 96.072502 seconds (88.30 k allocations: 206.125 MiB, 0.04% gc time)\n",
      "maximum(out) = 0.017165293660651358\n"
     ]
    },
    {
     "data": {
      "text/plain": [
       "0.017165293660651358"
      ]
     },
     "execution_count": 153,
     "metadata": {},
     "output_type": "execute_result"
    }
   ],
   "source": [
    "out = Vector{Float64}(undef, NSTEPS)\n",
    "@time reach_homog_dir_LGG09h!(out, Ω₀, Aᵀ, sparse(ℓ), NSTEPS, Val(:false); m=94, tol=1e-10);\n",
    "@show maximum(out)"
   ]
  },
  {
   "cell_type": "markdown",
   "metadata": {},
   "source": [
    "## HEAT04 (50 x 50 x 50)"
   ]
  },
  {
   "cell_type": "code",
   "execution_count": 175,
   "metadata": {},
   "outputs": [
    {
     "data": {
      "text/plain": [
       "1200"
      ]
     },
     "execution_count": 175,
     "metadata": {},
     "output_type": "execute_result"
    }
   ],
   "source": [
    "out = matread(\"A50.mat\");\n",
    "A = out[\"A50\"]\n",
    "n = size(A, 1)\n",
    "xind = sparsevec(out[\"X0\"][:])\n",
    "x0ind = xind.nzind;\n",
    "xc = 63775 + 1;\n",
    "δ = 0.02 # step size\n",
    "\n",
    "c = sparsevec(x0ind, fill(1.0, length(x0ind)), n)\n",
    "r = sparsevec(x0ind, fill(0.1, length(x0ind)), n)\n",
    "Ω₀ = Hyperrectangle(c, r);\n",
    "\n",
    "Aᵀ = transpose(A .* δ); # lazy\n",
    "ℓ = SingleEntryVector(xc, n, 1.0);\n",
    "NSTEPS = 1_200"
   ]
  },
  {
   "cell_type": "code",
   "execution_count": 176,
   "metadata": {},
   "outputs": [
    {
     "name": "stdout",
     "output_type": "stream",
     "text": [
      "3133.204703 seconds (46.29 k allocations: 1.073 GiB, 0.01% gc time)\n",
      "maximum(out) = 0.011611334772430324\n"
     ]
    },
    {
     "data": {
      "text/plain": [
       "0.011611334772430324"
      ]
     },
     "execution_count": 176,
     "metadata": {},
     "output_type": "execute_result"
    }
   ],
   "source": [
    "out = Vector{Float64}(undef, NSTEPS)\n",
    "@time reach_homog_dir_LGG09h!(out, Ω₀, Aᵀ, sparse(ℓ), NSTEPS, Val(:false); m=211, tol=1e-10);\n",
    "@show maximum(out)"
   ]
  },
  {
   "cell_type": "code",
   "execution_count": 177,
   "metadata": {},
   "outputs": [
    {
     "data": {
      "text/plain": [
       "52.21666666666667"
      ]
     },
     "execution_count": 177,
     "metadata": {},
     "output_type": "execute_result"
    }
   ],
   "source": [
    "3133 / 60."
   ]
  }
 ],
 "metadata": {
  "@webio": {
   "lastCommId": null,
   "lastKernelId": null
  },
  "kernelspec": {
   "display_name": "Julia 1.4.1",
   "language": "julia",
   "name": "julia-1.4"
  },
  "language_info": {
   "file_extension": ".jl",
   "mimetype": "application/julia",
   "name": "julia",
   "version": "1.4.1"
  }
 },
 "nbformat": 4,
 "nbformat_minor": 2
}
