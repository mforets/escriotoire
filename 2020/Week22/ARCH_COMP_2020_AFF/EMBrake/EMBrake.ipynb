{
 "cells": [
  {
   "cell_type": "markdown",
   "metadata": {},
   "source": [
    "# Model"
   ]
  },
  {
   "cell_type": "code",
   "execution_count": 16,
   "metadata": {},
   "outputs": [],
   "source": [
    "using Revise, ReachabilityAnalysis, BenchmarkTools, SparseArrays, Plots;"
   ]
  },
  {
   "cell_type": "code",
   "execution_count": 2,
   "metadata": {},
   "outputs": [
    {
     "data": {
      "text/plain": [
       "embrake_no_pv (generic function with 1 method)"
      ]
     },
     "execution_count": 2,
     "metadata": {},
     "output_type": "execute_result"
    }
   ],
   "source": [
    "LazySets.set_rtol(Float64, 1e-13)\n",
    "LazySets.set_ztol(Float64, 1e-13)\n",
    "\n",
    "# model without parameter variation\n",
    "function embrake_no_pv(; Tsample=1.E-4, ζ=1e-6, x0=0.05)\n",
    "    # model's constants\n",
    "    L = 1.e-3\n",
    "    KP = 10000.\n",
    "    KI = 1000.\n",
    "    R = 0.5\n",
    "    K = 0.02\n",
    "    drot = 0.1\n",
    "    i = 113.1167\n",
    "\n",
    "    # state variables: [I, x, xe, xc]\n",
    "    A = Matrix([-(R+K^2/drot)/L 0      KP/L  KI/L;\n",
    "                          K/i/drot      0      0      0;\n",
    "                          0             0      0      0;\n",
    "                          0             0      0      0])\n",
    "\n",
    "    EMbrake = @system(x' = Ax)\n",
    "\n",
    "    # initial conditions\n",
    "    I₀  = Singleton([0.0])\n",
    "    x₀  = Singleton([0.0])\n",
    "    xe₀ = Singleton([0.0])\n",
    "    xc₀ = Singleton([0.0])\n",
    "    X₀ = I₀ × x₀ × xe₀ × xc₀\n",
    "\n",
    "    # reset map\n",
    "    Ar = sparse([1, 2, 3, 4, 4], [1, 2, 2, 2, 4], [1., 1., -1., -Tsample, 1.], 4, 4)\n",
    "    br = sparsevec([3, 4], [x0, Tsample*x0], 4)\n",
    "    reset_map(X) = Ar * X + br\n",
    "\n",
    "    # hybrid system with clocked linear dynamics\n",
    "    ha = HACLD1(EMbrake, reset_map, Tsample, ζ)\n",
    "    return IVP(ha, X₀)\n",
    "end"
   ]
  },
  {
   "cell_type": "code",
   "execution_count": 3,
   "metadata": {},
   "outputs": [
    {
     "data": {
      "text/plain": [
       "embrake_pv_1 (generic function with 1 method)"
      ]
     },
     "execution_count": 3,
     "metadata": {},
     "output_type": "execute_result"
    }
   ],
   "source": [
    "# model with parameter variation changing only 1 coefficient, corresponds to the Flow* settings in [SO15]\n",
    "function embrake_pv_1(; Tsample=1.E-4, ζ=1e-6, Δ=3.0, x0=0.05)\n",
    "    # model's constants\n",
    "    L = 1.e-3\n",
    "    KP = 10000.\n",
    "    KI = 1000.\n",
    "    R = 0.5\n",
    "    K = 0.02\n",
    "    drot = 0.1\n",
    "    i = 113.1167\n",
    "    p = 504. + (-Δ .. Δ)\n",
    "\n",
    "    # state variables: [I, x, xe, xc]\n",
    "    A = IntervalMatrix([-p            0      KP/L   KI/L;\n",
    "                        K/i/drot      0      0      0;\n",
    "                        0             0      0      0;\n",
    "                        0             0      0      0])\n",
    "\n",
    "    EMbrake = @system(x' = Ax)\n",
    "\n",
    "    # initial conditions\n",
    "    I₀  = Singleton([0.0])\n",
    "    x₀  = Singleton([0.0])\n",
    "    xe₀ = Singleton([0.0])\n",
    "    xc₀ = Singleton([0.0])\n",
    "    X₀ = I₀ × x₀ × xe₀ × xc₀\n",
    "\n",
    "    # reset map\n",
    "    Ar = sparse([1, 2, 3, 4, 4], [1, 2, 2, 2, 4], [1., 1., -1., -Tsample, 1.], 4, 4)\n",
    "    br = sparsevec([3, 4], [x0, Tsample*x0], 4)\n",
    "    reset_map(X) = Ar * X + br\n",
    "\n",
    "    # hybrid system with clocked linear dynamics\n",
    "    ha = HACLD1(EMbrake, reset_map, Tsample, ζ)\n",
    "    return IVP(ha, X₀)\n",
    "end"
   ]
  },
  {
   "cell_type": "markdown",
   "metadata": {},
   "source": [
    "### Specifications"
   ]
  },
  {
   "cell_type": "markdown",
   "metadata": {},
   "source": [
    "# Reachability settings"
   ]
  },
  {
   "cell_type": "code",
   "execution_count": null,
   "metadata": {},
   "outputs": [],
   "source": []
  },
  {
   "cell_type": "code",
   "execution_count": null,
   "metadata": {},
   "outputs": [],
   "source": []
  },
  {
   "cell_type": "code",
   "execution_count": null,
   "metadata": {},
   "outputs": [],
   "source": []
  },
  {
   "cell_type": "markdown",
   "metadata": {},
   "source": [
    "# Results"
   ]
  },
  {
   "cell_type": "code",
   "execution_count": 7,
   "metadata": {},
   "outputs": [],
   "source": [
    "# definitions for the safety properties\n",
    "\n",
    "# const \n",
    "eₓ = sparsevec([2], [1.], 4);\n",
    "x0 = 0.05;"
   ]
  },
  {
   "cell_type": "markdown",
   "metadata": {},
   "source": [
    "## BRKDC01"
   ]
  },
  {
   "cell_type": "code",
   "execution_count": 18,
   "metadata": {},
   "outputs": [],
   "source": [
    "sol_no_pv_no_jit = nothing\n",
    "prob_no_pv_no_jit = embrake_no_pv(ζ=0., Tsample=1e-4);"
   ]
  },
  {
   "cell_type": "code",
   "execution_count": 17,
   "metadata": {},
   "outputs": [
    {
     "name": "stdout",
     "output_type": "stream",
     "text": [
      "  0.358709 seconds (261.72 k allocations: 228.737 MiB)\n",
      "ρ(eₓ, sol_no_pv_no_jit) < x0 = true\n"
     ]
    },
    {
     "data": {
      "text/plain": [
       "true"
      ]
     },
     "execution_count": 17,
     "metadata": {},
     "output_type": "execute_result"
    }
   ],
   "source": [
    "@time sol_no_pv_no_jit = solve(prob_no_pv_no_jit, max_jumps=1001,\n",
    "                               alg=GLGM06(δ=1e-7, max_order=1, static=true, dim=4, ngens=4));\n",
    "GC.gc()\n",
    " ρ(eₓ, sol_no_pv_no_jit)\n",
    "ρ(eₓ, sol_no_pv_no_jit) < x0"
   ]
  },
  {
   "cell_type": "code",
   "execution_count": 19,
   "metadata": {},
   "outputs": [
    {
     "name": "stdout",
     "output_type": "stream",
     "text": [
      "  1.116409 seconds (241.69 k allocations: 1.688 GiB, 5.19% gc time)\n",
      "ρ(eₓ, sol_no_pv_no_jit) < x0 = true\n"
     ]
    },
    {
     "data": {
      "text/plain": [
       "true"
      ]
     },
     "execution_count": 19,
     "metadata": {},
     "output_type": "execute_result"
    }
   ],
   "source": [
    "@time sol_no_pv_no_jit = solve(prob_no_pv_no_jit, max_jumps=1001,\n",
    "                               alg=GLGM06(δ=1e-8, max_order=1, static=true, dim=4, ngens=4));\n",
    "GC.gc()\n",
    "@show ρ(eₓ, sol_no_pv_no_jit) < x0"
   ]
  },
  {
   "cell_type": "code",
   "execution_count": null,
   "metadata": {},
   "outputs": [],
   "source": [
    "# plot(sol_no_pv_no_jit, vars=(1, 2), color=:lightblue)"
   ]
  },
  {
   "cell_type": "markdown",
   "metadata": {},
   "source": [
    "## BRKDC01 (discrete-time)"
   ]
  },
  {
   "cell_type": "code",
   "execution_count": 33,
   "metadata": {},
   "outputs": [
    {
     "name": "stdout",
     "output_type": "stream",
     "text": [
      "  0.085722 seconds (100.34 k allocations: 180.522 MiB, 10.14% gc time)\n",
      "ρ(eₓ, sol_no_pv_no_jit) = 0.04891413127211572\n"
     ]
    },
    {
     "data": {
      "text/plain": [
       "true"
      ]
     },
     "execution_count": 33,
     "metadata": {},
     "output_type": "execute_result"
    }
   ],
   "source": [
    "@time sol_no_pv_no_jit = solve(prob_no_pv_no_jit, max_jumps=1001,\n",
    "                               alg=GLGM06(δ=1e-7, max_order=1, static=true, dim=4, ngens=4,\n",
    "                                   approx_model=NoBloating()))\n",
    "GC.gc()\n",
    "@show ρ(eₓ, sol_no_pv_no_jit)\n",
    "ρ(eₓ, sol_no_pv_no_jit) < x0"
   ]
  },
  {
   "cell_type": "code",
   "execution_count": 34,
   "metadata": {},
   "outputs": [],
   "source": [
    "sol_no_pv_no_jit = nothing\n",
    "GC.gc()"
   ]
  },
  {
   "cell_type": "code",
   "execution_count": 35,
   "metadata": {},
   "outputs": [
    {
     "name": "stdout",
     "output_type": "stream",
     "text": [
      "  1.037453 seconds (90.32 k allocations: 1.652 GiB, 31.41% gc time)\n",
      "ρ(eₓ, sol_no_pv_no_jit) = 0.04891367692966815\n"
     ]
    },
    {
     "data": {
      "text/plain": [
       "true"
      ]
     },
     "execution_count": 35,
     "metadata": {},
     "output_type": "execute_result"
    }
   ],
   "source": [
    "@time sol_no_pv_no_jit = solve(prob_no_pv_no_jit, max_jumps=1001,\n",
    "                               alg=GLGM06(δ=1e-8, max_order=1, static=true, dim=4, ngens=4,\n",
    "                                   approx_model=NoBloating()))\n",
    "GC.gc()\n",
    "@show ρ(eₓ, sol_no_pv_no_jit)\n",
    "ρ(eₓ, sol_no_pv_no_jit) < x0"
   ]
  },
  {
   "cell_type": "markdown",
   "metadata": {},
   "source": [
    "## BRKNC01"
   ]
  },
  {
   "cell_type": "code",
   "execution_count": 51,
   "metadata": {},
   "outputs": [],
   "source": [
    "sol_no_pv_with_jit = nothing\n",
    "GC.gc()"
   ]
  },
  {
   "cell_type": "code",
   "execution_count": 47,
   "metadata": {},
   "outputs": [
    {
     "name": "stdout",
     "output_type": "stream",
     "text": [
      "  1.019562 seconds (268.72 k allocations: 1.696 GiB, 0.33% gc time)\n",
      "ρ(eₓ, sol_no_pv_with_jit) = 0.04939380910010891\n"
     ]
    },
    {
     "data": {
      "text/plain": [
       "0.04939380910010891"
      ]
     },
     "execution_count": 47,
     "metadata": {},
     "output_type": "execute_result"
    }
   ],
   "source": [
    "prob_no_pv_with_jit = embrake_no_pv(ζ=[-1e-8, 1e-7], Tsample=1e-4);\n",
    "@time sol_no_pv_with_jit = solve(prob_no_pv_with_jit, max_jumps=1001,\n",
    "                                 alg=GLGM06(δ=1e-8, max_order=1, static=true, dim=4, ngens=4));\n",
    "\n",
    "@show ρ(eₓ, sol_no_pv_with_jit)"
   ]
  },
  {
   "cell_type": "markdown",
   "metadata": {},
   "source": [
    "## BRKNC01 (discrete-time)"
   ]
  },
  {
   "cell_type": "code",
   "execution_count": 52,
   "metadata": {},
   "outputs": [
    {
     "name": "stdout",
     "output_type": "stream",
     "text": [
      "  0.915464 seconds (179.46 k allocations: 1.664 GiB, 0.35% gc time)\n",
      "ρ(eₓ, sol_no_pv_with_jit) = 0.04935663367632447\n"
     ]
    },
    {
     "data": {
      "text/plain": [
       "0.04935663367632447"
      ]
     },
     "execution_count": 52,
     "metadata": {},
     "output_type": "execute_result"
    }
   ],
   "source": [
    "prob_no_pv_with_jit = embrake_no_pv(ζ=[-1e-8, 1e-7], Tsample=1e-4);\n",
    "@time sol_no_pv_with_jit = solve(prob_no_pv_with_jit, max_jumps=1001,\n",
    "                                 alg=GLGM06(δ=1e-8, max_order=1, static=true, dim=4, ngens=4, approx_model=NoBloating()));\n",
    "\n",
    "@show ρ(eₓ, sol_no_pv_with_jit)"
   ]
  },
  {
   "cell_type": "markdown",
   "metadata": {},
   "source": [
    "## BRKNP01"
   ]
  },
  {
   "cell_type": "code",
   "execution_count": 12,
   "metadata": {},
   "outputs": [],
   "source": [
    "sol_no_pv_with_jit = nothing\n",
    "GC.gc()"
   ]
  },
  {
   "cell_type": "code",
   "execution_count": 11,
   "metadata": {},
   "outputs": [
    {
     "name": "stdout",
     "output_type": "stream",
     "text": [
      " 11.422489 seconds (82.67 M allocations: 9.596 GiB, 12.41% gc time)\n",
      "ρ(eₓ, sol_pv_1_with_jit) = 0.053035688704021304\n"
     ]
    },
    {
     "data": {
      "text/plain": [
       "0.053035688704021304"
      ]
     },
     "execution_count": 11,
     "metadata": {},
     "output_type": "execute_result"
    }
   ],
   "source": [
    "prob_pv_1_with_jit = embrake_pv_1(ζ=[-1e-8, 1e-7], Tsample=1e-4);\n",
    "@time sol_pv_1_with_jit = solve(prob_pv_1_with_jit,\n",
    "                                alg=ASB07(δ=1e-8, max_order=1, static=true, dim=4, ngens=4), max_jumps=1001);\n",
    "\n",
    "@show ρ(eₓ, sol_pv_1_with_jit)"
   ]
  },
  {
   "cell_type": "markdown",
   "metadata": {},
   "source": [
    "## BRKNP01 (discrete-time)"
   ]
  },
  {
   "cell_type": "code",
   "execution_count": 13,
   "metadata": {},
   "outputs": [],
   "source": [
    "sol_no_pv_with_jit = nothing\n",
    "GC.gc()"
   ]
  },
  {
   "cell_type": "code",
   "execution_count": 15,
   "metadata": {},
   "outputs": [
    {
     "name": "stdout",
     "output_type": "stream",
     "text": [
      " 13.619282 seconds (83.42 M allocations: 9.620 GiB, 29.77% gc time)\n",
      "ρ(eₓ, sol_pv_1_with_jit) = 0.05299530421184598\n"
     ]
    },
    {
     "data": {
      "text/plain": [
       "0.05299530421184598"
      ]
     },
     "execution_count": 15,
     "metadata": {},
     "output_type": "execute_result"
    }
   ],
   "source": [
    "prob_pv_1_with_jit = embrake_pv_1(ζ=[-1e-8, 1e-7], Tsample=1e-4);\n",
    "@time sol_pv_1_with_jit = solve(prob_pv_1_with_jit, max_jumps=1001,\n",
    "                                alg=ASB07(δ=1e-8, max_order=1, static=true, dim=4, ngens=4, approx_model=NoBloating()));\n",
    "\n",
    "@show ρ(eₓ, sol_pv_1_with_jit)"
   ]
  }
 ],
 "metadata": {
  "@webio": {
   "lastCommId": null,
   "lastKernelId": null
  },
  "kernelspec": {
   "display_name": "Julia 1.5.0-beta1",
   "language": "julia",
   "name": "julia-1.5"
  },
  "language_info": {
   "file_extension": ".jl",
   "mimetype": "application/julia",
   "name": "julia",
   "version": "1.5.0"
  }
 },
 "nbformat": 4,
 "nbformat_minor": 2
}
