{
 "cells": [
  {
   "cell_type": "code",
   "execution_count": 9,
   "metadata": {},
   "outputs": [],
   "source": [
    "using MAT"
   ]
  },
  {
   "cell_type": "code",
   "execution_count": 5,
   "metadata": {},
   "outputs": [],
   "source": [
    "y = matread(\"a_matrix.mat\");"
   ]
  },
  {
   "cell_type": "code",
   "execution_count": 10,
   "metadata": {},
   "outputs": [
    {
     "data": {
      "text/plain": [
       "125×125 SparseArrays.SparseMatrixCSC{Float64,Int64} with 725 stored entries:\n",
       "  [1  ,   1]  =  -1.08\n",
       "  [2  ,   1]  =  0.36\n",
       "  [6  ,   1]  =  0.36\n",
       "  [26 ,   1]  =  0.36\n",
       "  [1  ,   2]  =  0.36\n",
       "  [2  ,   2]  =  -1.44\n",
       "  [3  ,   2]  =  0.36\n",
       "  [7  ,   2]  =  0.36\n",
       "  [27 ,   2]  =  0.36\n",
       "  [2  ,   3]  =  0.36\n",
       "  [3  ,   3]  =  -1.44\n",
       "  [4  ,   3]  =  0.36\n",
       "  ⋮\n",
       "  [118, 123]  =  0.36\n",
       "  [122, 123]  =  0.36\n",
       "  [123, 123]  =  -1.44\n",
       "  [124, 123]  =  0.36\n",
       "  [99 , 124]  =  0.36\n",
       "  [119, 124]  =  0.36\n",
       "  [123, 124]  =  0.36\n",
       "  [124, 124]  =  -1.44\n",
       "  [125, 124]  =  0.36\n",
       "  [100, 125]  =  0.36\n",
       "  [120, 125]  =  0.36\n",
       "  [124, 125]  =  0.36\n",
       "  [125, 125]  =  -1.10769"
      ]
     },
     "execution_count": 10,
     "metadata": {},
     "output_type": "execute_result"
    }
   ],
   "source": [
    "y[\"a_matrix\"]"
   ]
  }
 ],
 "metadata": {
  "kernelspec": {
   "display_name": "Julia 1.4.1",
   "language": "julia",
   "name": "julia-1.4"
  },
  "language_info": {
   "file_extension": ".jl",
   "mimetype": "application/julia",
   "name": "julia",
   "version": "1.4.1"
  }
 },
 "nbformat": 4,
 "nbformat_minor": 2
}
