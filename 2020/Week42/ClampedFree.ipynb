{
 "cells": [
  {
   "cell_type": "markdown",
   "metadata": {},
   "source": [
    "# A clamped-free bar excited by end load"
   ]
  },
  {
   "cell_type": "markdown",
   "metadata": {},
   "source": [
    "Reference [1].\n",
    "\n",
    "[1] Malakiyeh, Mohammad Mahdi, Saeed Shojaee, and Klaus-Jürgen Bathe. \"The Bathe time integration method revisited for prescribing desired numerical dissipation.\" Computers & Structures 212 (2019): 289-298."
   ]
  },
  {
   "cell_type": "code",
   "execution_count": 1,
   "metadata": {},
   "outputs": [],
   "source": [
    "using LinearAlgebra"
   ]
  },
  {
   "cell_type": "code",
   "execution_count": 2,
   "metadata": {},
   "outputs": [
    {
     "data": {
      "text/plain": [
       "clamped_bar (generic function with 1 method)"
      ]
     },
     "execution_count": 2,
     "metadata": {},
     "output_type": "execute_result"
    }
   ],
   "source": [
    "function clamped_bar(; N=1000, E=30e6, ρ=7.3e-4, A=1, L=200)\n",
    "    ℓ = L / N\n",
    "    K = (E * A / ℓ) * SymTridiagonal(fill(2.0, N), fill(-1.0, N))\n",
    "    K[end, end] = E * A / ℓ\n",
    "\n",
    "    M = (ρ * A * ℓ / 2) * Diagonal(vcat(fill(2.0, N-1), 1.0))\n",
    "    M[end, end] = ρ * A * ℓ / 2\n",
    "\n",
    "    return M, K\n",
    "end"
   ]
  },
  {
   "cell_type": "code",
   "execution_count": 3,
   "metadata": {},
   "outputs": [
    {
     "data": {
      "text/plain": [
       "5×5 Diagonal{Float64,Array{Float64,1}}:\n",
       " 0.0292   ⋅       ⋅       ⋅       ⋅ \n",
       "  ⋅      0.0292   ⋅       ⋅       ⋅ \n",
       "  ⋅       ⋅      0.0292   ⋅       ⋅ \n",
       "  ⋅       ⋅       ⋅      0.0292   ⋅ \n",
       "  ⋅       ⋅       ⋅       ⋅      0.0146"
      ]
     },
     "execution_count": 3,
     "metadata": {},
     "output_type": "execute_result"
    }
   ],
   "source": [
    "M, K = clamped_bar(N=5)\n",
    "M"
   ]
  },
  {
   "cell_type": "code",
   "execution_count": 4,
   "metadata": {},
   "outputs": [
    {
     "data": {
      "text/plain": [
       "5×5 SymTridiagonal{Float64,Array{Float64,1}}:\n",
       "       1.5e6  -750000.0           ⋅            ⋅            ⋅ \n",
       " -750000.0          1.5e6  -750000.0           ⋅            ⋅ \n",
       "        ⋅     -750000.0          1.5e6  -750000.0           ⋅ \n",
       "        ⋅            ⋅     -750000.0          1.5e6  -750000.0\n",
       "        ⋅            ⋅            ⋅     -750000.0     750000.0"
      ]
     },
     "execution_count": 4,
     "metadata": {},
     "output_type": "execute_result"
    }
   ],
   "source": [
    "K"
   ]
  },
  {
   "cell_type": "markdown",
   "metadata": {},
   "source": [
    "## Problem definition"
   ]
  },
  {
   "cell_type": "code",
   "execution_count": 5,
   "metadata": {},
   "outputs": [
    {
     "name": "stderr",
     "output_type": "stream",
     "text": [
      "┌ Info: Precompiling ReachabilityAnalysis [1e97bd63-91d1-579d-8e8d-501d2b57c93f]\n",
      "└ @ Base loading.jl:1278\n"
     ]
    },
    {
     "data": {
      "text/plain": [
       "1.0e-16"
      ]
     },
     "execution_count": 5,
     "metadata": {},
     "output_type": "execute_result"
    }
   ],
   "source": [
    "using ReachabilityAnalysis, Plots\n",
    "using ReachabilityAnalysis: normalize\n",
    "using LazySets.Approximations: SingleEntryVector\n",
    "using ExponentialUtilities\n",
    "\n",
    "using BenchmarkTools\n",
    "\n",
    "const IA = IntervalArithmetic\n",
    "const RA = ReachabilityAnalysis\n",
    "\n",
    "LazySets.set_ztol(Float64, 1e-16)"
   ]
  },
  {
   "cell_type": "code",
   "execution_count": 6,
   "metadata": {},
   "outputs": [
    {
     "data": {
      "text/plain": [
       "edirs_single (generic function with 1 method)"
      ]
     },
     "execution_count": 6,
     "metadata": {},
     "output_type": "execute_result"
    }
   ],
   "source": [
    "function clamped_free(; N)\n",
    "    M, K = clamped_bar(N=N)\n",
    "    C = zeros(N, N) # no damping\n",
    "    sys = SecondOrderLinearContinuousSystem(M, C, K)\n",
    "end\n",
    "\n",
    "function clamped_forced(; N, F=10e3, E=30e6, A=1)\n",
    "    M, K = clamped_bar(N=N)\n",
    "    C = zeros(N, N) # no damping\n",
    "    \n",
    "    b = vcat(zeros(N-1), F) # the right-most node is excited\n",
    "\n",
    "    # see Mechanical Vibrations, Gerardin et al, page 250-251 < Force relates to velocity initial cond\n",
    "    # Fext = vcat(zeros(N), vcat(zeros(N-1), F / (E * A))) ??\n",
    "\n",
    "    # b = zeros(N)\n",
    "\n",
    "    sys = SecondOrderAffineContinuousSystem(M, C, K, b)\n",
    "end\n",
    "\n",
    "function edirs(i, N)\n",
    "    ei = zeros(2N)\n",
    "    ei[i] = 1.0\n",
    "    return ei, -ei\n",
    "end\n",
    "\n",
    "function edirs_single(i, N)\n",
    "    e1s = SingleEntryVector(i, 2N, 1.0)\n",
    "    e2s = SingleEntryVector(i, 2N, -1.0)\n",
    "    return e1s, e2s\n",
    "end"
   ]
  },
  {
   "cell_type": "markdown",
   "metadata": {},
   "source": [
    "## Step response with zero init cond solved with Krylov (NO BLOATING)"
   ]
  },
  {
   "cell_type": "markdown",
   "metadata": {},
   "source": [
    "In general:\n",
    "\n",
    "$X_{k+1} = \\Phi X_k \\oplus V_k$ for $k \\geq 1$, where $V_k := \\Phi_1(A, \\delta)U_k$, and $\\Phi := e^{A\\delta}$\n",
    "\n",
    "---\n",
    "\n",
    "Assume:\n",
    "\n",
    "$X_0 = 0$, $V_1 \\neq 0$, $V_k = 0$ for $k \\geq 2$.\n",
    "\n",
    "Then:\n",
    "\n",
    "- $X_0 = 0$,\n",
    "- $X_1 = V_1$,\n",
    "- $X_2 = \\Phi V_1$,\n",
    "- $X_3 = \\Phi^2 V_1$,\n",
    "- $\\vdots$\n",
    "\n",
    "Given a direction $\\ell \\in \\mathbb{R}^{2N}$, we compute the sequence:\n",
    "\n",
    "$$\n",
    "\\rho(\\ell, V_1), \\rho(\\ell, \\Phi V_1), \\rho(\\ell, \\Phi^2 V_1), \\ldots,  \\rho(\\ell, \\Phi^K V_1).\n",
    "$$"
   ]
  },
  {
   "cell_type": "code",
   "execution_count": 7,
   "metadata": {},
   "outputs": [
    {
     "name": "stdout",
     "output_type": "stream",
     "text": [
      "  2.656259 seconds (6.67 M allocations: 405.591 MiB, 5.70% gc time)\n",
      " 20.158877 seconds (4.58 M allocations: 5.611 GiB, 3.60% gc time)\n"
     ]
    }
   ],
   "source": [
    "# definitions\n",
    "δ = 1e-8\n",
    "\n",
    "# case with forcing\n",
    "N = 1000\n",
    "sysf = clamped_forced(N=N)\n",
    "@time sysnormf = normalize(sysf)\n",
    "A = state_matrix(sysnormf)\n",
    "b = sysnormf.U.U.element\n",
    "Aᵀδ = A' * δ\n",
    "\n",
    "# discretization of the input\n",
    "@time φ₁ = RA.Φ₁(A, δ, Val(:base))\n",
    "\n",
    "V = φ₁ * b |> Singleton;"
   ]
  },
  {
   "cell_type": "code",
   "execution_count": 8,
   "metadata": {},
   "outputs": [],
   "source": [
    "#maximum(V.element) # 701289.9    using δ = 1e-7\n",
    "#maximum(V.element) # 7036.7      using δ = 1e-8\n",
    "#maximum(V.element) # 70.3        using δ = 1e-9\n",
    "#maximum(V.element)"
   ]
  },
  {
   "cell_type": "code",
   "execution_count": 9,
   "metadata": {},
   "outputs": [
    {
     "name": "stdout",
     "output_type": "stream",
     "text": [
      "δ * NSTEPS = 0.0018\n"
     ]
    },
    {
     "data": {
      "text/plain": [
       "0.0018"
      ]
     },
     "execution_count": 9,
     "metadata": {},
     "output_type": "execute_result"
    }
   ],
   "source": [
    "NSTEPS = 36_000 * 5\n",
    "N = 1000\n",
    "\n",
    "k = 500 # displacement node 500\n",
    "#k = 700 # displacement node 700\n",
    "#k = 1500 # velocity node 500\n",
    "\n",
    "e1, e2 = edirs(k, N)\n",
    "\n",
    "# see Mechanical Vibrations, Gerardin et al, page 250-251 < Force relates to velocity initial cond\n",
    "Fext = 10e3\n",
    "N=1000; E=30e6; A=1; L=200;\n",
    "L0 = L / N\n",
    "#v0 = Fext / (E * A) * L0\n",
    "#X0 = vcat(vcat(zeros(N-1), v0), zeros(N))  |> Singleton\n",
    "#X0.element[1000]\n",
    "X0 = Singleton(zeros(2N));\n",
    "\n",
    "# @time Φ = exp(Matrix(Aᵀδ));\n",
    "# ρ(Φ * e1, V)\n",
    "\n",
    "@show δ  * NSTEPS"
   ]
  },
  {
   "cell_type": "code",
   "execution_count": 10,
   "metadata": {},
   "outputs": [
    {
     "name": "stdout",
     "output_type": "stream",
     "text": [
      "  4.152240 seconds (15.85 M allocations: 813.533 MiB)\n",
      "  1.772362 seconds (9.72 M allocations: 519.600 MiB, 10.02% gc time)\n"
     ]
    }
   ],
   "source": [
    "#@time out1K = forced_nobloating_krylov_2(X0, V, Afᵀδ, e1, NSTEPS; hermitian=false, m=min(30, size(Afᵀδ, 1)), tol=1e-10);\n",
    "#@time out2K = forced_nobloating_krylov_2(X0, V, Afᵀδ, e2, NSTEPS; hermitian=false, m=min(30, size(Afᵀδ, 1)), tol=1e-10);\n",
    "\n",
    "out1K = Vector{Float64}(undef, NSTEPS)\n",
    "out2K = Vector{Float64}(undef, NSTEPS)\n",
    "\n",
    "@time RA.reach_homog_krylov_LGG09!(out1K, V, Aᵀδ, e1, NSTEPS)\n",
    "@time RA.reach_homog_krylov_LGG09!(out2K, V, Aᵀδ, e2, NSTEPS);"
   ]
  },
  {
   "cell_type": "code",
   "execution_count": 11,
   "metadata": {},
   "outputs": [
    {
     "name": "stdout",
     "output_type": "stream",
     "text": [
      "minimum(out1K) = 0.0\n",
      "maximum(out1K) = 0.0\n",
      "minimum(out2K) = 0.0\n",
      "maximum(out2K) = 0.0\n"
     ]
    },
    {
     "data": {
      "text/plain": [
       "0.0"
      ]
     },
     "execution_count": 11,
     "metadata": {},
     "output_type": "execute_result"
    }
   ],
   "source": [
    "@show minimum(out1K)\n",
    "@show maximum(out1K)\n",
    "\n",
    "@show minimum(out2K)\n",
    "@show maximum(out2K)"
   ]
  },
  {
   "cell_type": "code",
   "execution_count": null,
   "metadata": {},
   "outputs": [],
   "source": [
    "@time intervalos = [ReachSet(Interval(-out2K[k+1], out1K[k+1]), IA.Interval(k*δ, (k+1)*δ)) for k in 0:NSTEPS-1]\n",
    "\n",
    "fp = Flowpipe(intervalos);\n",
    "@show numrsets(fp)\n",
    "\n",
    "plot(fp[1:1:1000], vars=(0, 1), xlab=\"time\", ylab=\"displacement $k\", lab=\"\", lw=0.1)"
   ]
  },
  {
   "cell_type": "markdown",
   "metadata": {},
   "source": [
    "## Step response with zero init cond solved with Krylov (WITH BLOATING)"
   ]
  },
  {
   "cell_type": "code",
   "execution_count": 48,
   "metadata": {},
   "outputs": [
    {
     "name": "stdout",
     "output_type": "stream",
     "text": [
      "  0.064054 seconds (101 allocations: 69.086 MiB)\n",
      " 23.740316 seconds (147 allocations: 5.395 GiB, 4.43% gc time)\n",
      "  0.381173 seconds (32.01 k allocations: 124.940 MiB, 47.93% gc time)\n"
     ]
    }
   ],
   "source": [
    "# definitions\n",
    "δ = 1e-7\n",
    "\n",
    "# case with forcing\n",
    "N = 1000\n",
    "sysf = clamped_forced(N=N)\n",
    "@time sysnormf = normalize(sysf)\n",
    "A = state_matrix(sysnormf)\n",
    "b = sysnormf.U.U.element\n",
    "U0 = Singleton(b)\n",
    "Aᵀδ = A' * δ\n",
    "\n",
    "A_abs = RA._elementwise_abs(A)\n",
    "\n",
    "@time Phi2A_abs = RA.Φ₂(A_abs, δ, Val(:base));\n",
    "\n",
    "@time Eψ0 = RA.sih(Phi2A_abs * RA.sih(A * U0, Val(:concrete)), Val(:concrete));\n",
    "\n",
    "X0 = (δ * U0) ⊕ Eψ0\n",
    "V0 = (δ * U0) ⊕ Eψ0;"
   ]
  },
  {
   "cell_type": "code",
   "execution_count": 54,
   "metadata": {},
   "outputs": [
    {
     "name": "stdout",
     "output_type": "stream",
     "text": [
      "δ * NSTEPS = 0.004\n",
      "131.647376 seconds (1.60 G allocations: 27.328 GiB, 4.76% gc time)\n",
      "126.073459 seconds (1.60 G allocations: 27.328 GiB, 4.82% gc time)\n"
     ]
    }
   ],
   "source": [
    "NSTEPS = 40_000\n",
    "\n",
    "k = 1000 # displacement node 500\n",
    "#k = 700 # displacement node 700\n",
    "#k = 1500 # velocity node 500\n",
    "\n",
    "e1, e2 = edirs(k, N)\n",
    "\n",
    "@show δ  * NSTEPS\n",
    "\n",
    "out1K = Vector{Float64}(undef, NSTEPS)\n",
    "out2K = Vector{Float64}(undef, NSTEPS)\n",
    "\n",
    "Vk = vcat(V0, fill(ZeroSet(2N), NSTEPS-1))\n",
    "@time RA.reach_inhomog_krylov_LGG09!(out1K, X0, Vk, Aᵀδ, e1, NSTEPS)\n",
    "@time RA.reach_inhomog_krylov_LGG09!(out2K, X0, Vk, Aᵀδ, e2, NSTEPS);"
   ]
  },
  {
   "cell_type": "code",
   "execution_count": 55,
   "metadata": {},
   "outputs": [
    {
     "name": "stdout",
     "output_type": "stream",
     "text": [
      "minimum(out1K) = -3.359280558352365e-5\n",
      "maximum(out1K) = 3.351011071626167e-5\n",
      "minimum(out2K) = -3.3025306718204705e-5\n",
      "maximum(out2K) = 3.408564429058464e-5\n"
     ]
    },
    {
     "data": {
      "text/plain": [
       "3.408564429058464e-5"
      ]
     },
     "execution_count": 55,
     "metadata": {},
     "output_type": "execute_result"
    }
   ],
   "source": [
    "@show minimum(out1K)\n",
    "@show maximum(out1K)\n",
    "\n",
    "@show minimum(out2K)\n",
    "@show maximum(out2K)"
   ]
  },
  {
   "cell_type": "code",
   "execution_count": null,
   "metadata": {},
   "outputs": [],
   "source": [
    "@time intervalos = [ReachSet(Interval(-out2K[k+1], out1K[k+1]), IA.Interval(k*δ, (k+1)*δ)) for k in 0:NSTEPS-1]\n",
    "\n",
    "fp = Flowpipe(intervalos);\n",
    "@show numrsets(fp)\n",
    "\n",
    "plot(fp[1:1:1000], vars=(0, 1), xlab=\"time\", ylab=\"displacement $k\", lab=\"\", lw=0.1)"
   ]
  },
  {
   "cell_type": "code",
   "execution_count": null,
   "metadata": {},
   "outputs": [],
   "source": []
  },
  {
   "cell_type": "code",
   "execution_count": null,
   "metadata": {},
   "outputs": [],
   "source": []
  },
  {
   "cell_type": "code",
   "execution_count": null,
   "metadata": {},
   "outputs": [],
   "source": []
  },
  {
   "cell_type": "code",
   "execution_count": null,
   "metadata": {},
   "outputs": [],
   "source": []
  },
  {
   "cell_type": "code",
   "execution_count": null,
   "metadata": {},
   "outputs": [],
   "source": []
  },
  {
   "cell_type": "markdown",
   "metadata": {},
   "source": [
    "## Free case, no bloating, without Krylov"
   ]
  },
  {
   "cell_type": "code",
   "execution_count": null,
   "metadata": {},
   "outputs": [],
   "source": [
    "# number of elements\n",
    "N = 1000\n",
    "sys = clamped_free(N=N)\n",
    "sysf = clamped_forced(N=N)\n",
    "\n",
    "# box initial conditions\n",
    "#X0 = BallInf(ones(2N), 0.08);\n",
    "X0 = Hyperrectangle(low=vcat(ones(N) .- 0.1, zeros(N)),\n",
    "                    high=vcat(ones(N) .+ 0.1, zeros(N)))\n",
    "\n",
    "X0f = Singleton(zeros(2N)); # origin\n",
    "\n",
    "# step size\n",
    "δ = 1e-7;\n",
    "\n",
    "# directions of interest\n",
    "k = 700 # displacement at node 700\n",
    "# kv = 1400 # velocity at node 700\n",
    "\n",
    "dirs = edirs(k, N)\n",
    "e1 = dirs.directions[1]\n",
    "e2 = dirs.directions[2]\n",
    "\n",
    "dirs_single = edirs_single(k, N)\n",
    "e1s = dirs_single.directions[1]\n",
    "e2s = dirs_single.directions[2];"
   ]
  },
  {
   "cell_type": "markdown",
   "metadata": {},
   "source": [
    "$X_{k+1} = \\Phi X_k$ for $k \\geq 0$ and since we dont consider bloating, $\\Phi = e^{A\\delta}$ and $X_0$ is the given `X0`."
   ]
  },
  {
   "cell_type": "code",
   "execution_count": null,
   "metadata": {},
   "outputs": [],
   "source": [
    "# definitions\n",
    "δ = 1e-7;\n",
    "@time sysnorm = normalize(sys)\n",
    "A = state_matrix(sysnorm);\n",
    "Aᵀ = copy(transpose(A));\n",
    "Aδ = A*δ\n",
    "Aᵀδ = Aᵀ*δ\n",
    "\n",
    "# state evolution matrix\n",
    "@time Φ = exp(Matrix(A) * δ);\n",
    "@time Φᵀ = exp(Matrix(Aᵀ) * δ);\n",
    "\n",
    "# case with forcing\n",
    "@time sysnormf = normalize(sysf)\n",
    "Af = state_matrix(sysnormf);\n",
    "Afᵀ = copy(transpose(Af));\n",
    "Afδ = Af*δ\n",
    "Afᵀδ = Afᵀ*δ;\n",
    "Φf = exp(Matrix(Af) * δ);\n",
    "Φfᵀ = exp(Matrix(Afᵀ) * δ);"
   ]
  },
  {
   "cell_type": "markdown",
   "metadata": {},
   "source": [
    "Hence, $X_{k+1} = \\Phi^k X_0$ for $k \\geq 1$. We are interested in computing the sequence\n",
    "\n",
    "$$\n",
    "\\rho(\\ell, X_0), \\rho(\\ell, \\Phi X_0), \\rho(\\ell, \\Phi^2 X_0), \\ldots,  \\rho(\\ell, \\Phi^K X_0).\n",
    "$$\n",
    "where $\\ell \\in \\mathbb{R}^{2N}$ is a given direction."
   ]
  },
  {
   "cell_type": "markdown",
   "metadata": {},
   "source": [
    "Recall that\n",
    "\n",
    "$$\n",
    "\\rho(\\ell, X_0), \\rho((\\Phi^T) \\ell,  X_0), \\rho((\\Phi^T)^2\\ell,  X_0), \\ldots,  \\rho((\\Phi^T)^K\\ell,  X_0).\n",
    "$$\n",
    "where $\\ell \\in \\mathbb{R}^{2N}$ is a given direction."
   ]
  },
  {
   "cell_type": "code",
   "execution_count": null,
   "metadata": {},
   "outputs": [],
   "source": [
    "T = 0.018\n",
    "\n",
    "T / δ # number of computation steps required"
   ]
  },
  {
   "cell_type": "code",
   "execution_count": null,
   "metadata": {},
   "outputs": [],
   "source": [
    "#spy(Φ)"
   ]
  },
  {
   "cell_type": "code",
   "execution_count": null,
   "metadata": {},
   "outputs": [],
   "source": [
    "@btime ρ($e1, $X0); # 400ns"
   ]
  },
  {
   "cell_type": "code",
   "execution_count": null,
   "metadata": {},
   "outputs": [],
   "source": [
    "@btime ρ($e1s, $X0); # 4ns"
   ]
  },
  {
   "cell_type": "code",
   "execution_count": null,
   "metadata": {},
   "outputs": [],
   "source": [
    "@btime ρ($e1, $Φ * $X0); # 800us"
   ]
  },
  {
   "cell_type": "code",
   "execution_count": null,
   "metadata": {},
   "outputs": [],
   "source": [
    "@btime ρ($e1s, $Φ * $X0); # 10us"
   ]
  },
  {
   "cell_type": "code",
   "execution_count": null,
   "metadata": {},
   "outputs": [],
   "source": [
    "@btime $Φ * $Φ; # 165ms (DENSE)"
   ]
  },
  {
   "cell_type": "code",
   "execution_count": null,
   "metadata": {},
   "outputs": [],
   "source": [
    "Φ² = Φ * Φ;"
   ]
  },
  {
   "cell_type": "code",
   "execution_count": null,
   "metadata": {},
   "outputs": [],
   "source": [
    "165e-3 * 1e6 / 60 / 60 # 45.8 hours"
   ]
  },
  {
   "cell_type": "code",
   "execution_count": null,
   "metadata": {},
   "outputs": [],
   "source": [
    "@btime $A + $A; # 20us"
   ]
  },
  {
   "cell_type": "code",
   "execution_count": null,
   "metadata": {},
   "outputs": [],
   "source": [
    "20e-6 * 1e6 / 60  # 0.2 minutes"
   ]
  },
  {
   "cell_type": "code",
   "execution_count": null,
   "metadata": {},
   "outputs": [],
   "source": [
    "@btime $Aᵀ + $Aᵀ; # "
   ]
  },
  {
   "cell_type": "code",
   "execution_count": null,
   "metadata": {},
   "outputs": [],
   "source": [
    "@btime $Φᵀ * $e1s; # 2.536 μs"
   ]
  },
  {
   "cell_type": "code",
   "execution_count": null,
   "metadata": {},
   "outputs": [],
   "source": [
    "@btime ρ($Φᵀ * $e1s, $X0); # 3.252 μs"
   ]
  },
  {
   "cell_type": "code",
   "execution_count": null,
   "metadata": {},
   "outputs": [],
   "source": [
    "# ------------------------------------------------------------\n",
    "# TODO : compare representing Φᵀ sparse vs dense\n",
    "# TODO : profile  \n",
    "# ------------------------------------------------------------\n",
    "function free_nobloating(X₀, Φᵀ, ℓ, NSTEPS)\n",
    "    rᵢ = copy(ℓ)\n",
    "    rᵢ₊₁ = similar(rᵢ)\n",
    "\n",
    "    out = Vector{Float64}(undef, NSTEPS)\n",
    "\n",
    "    @inbounds for i in 1:NSTEPS\n",
    "        out[i] = ρ(rᵢ, X₀)\n",
    "        mul!(rᵢ₊₁, Φᵀ, rᵢ)\n",
    "        copy!(rᵢ, rᵢ₊₁)\n",
    "    end\n",
    "    return out\n",
    "end"
   ]
  },
  {
   "cell_type": "code",
   "execution_count": null,
   "metadata": {},
   "outputs": [],
   "source": [
    "@btime free_nobloating($X0, $Φᵀ, $e1, 1000);"
   ]
  },
  {
   "cell_type": "code",
   "execution_count": null,
   "metadata": {},
   "outputs": [],
   "source": [
    "1.321 / 1000  # ~ 1 ms per iteration"
   ]
  },
  {
   "cell_type": "code",
   "execution_count": null,
   "metadata": {},
   "outputs": [],
   "source": [
    "@btime free_nobloating($X0, $Φᵀ, $e1s, 1000);"
   ]
  },
  {
   "cell_type": "code",
   "execution_count": null,
   "metadata": {},
   "outputs": [],
   "source": [
    "GC.gc()"
   ]
  },
  {
   "cell_type": "code",
   "execution_count": null,
   "metadata": {},
   "outputs": [],
   "source": [
    "180_000 / 5"
   ]
  },
  {
   "cell_type": "code",
   "execution_count": null,
   "metadata": {},
   "outputs": [],
   "source": [
    "NSTEPS = 36000"
   ]
  },
  {
   "cell_type": "code",
   "execution_count": null,
   "metadata": {},
   "outputs": [],
   "source": [
    "@time out1 = free_nobloating(X0, Φᵀ, e1s, NSTEPS);\n",
    "@time out2 = free_nobloating(X0, Φᵀ, e2s, NSTEPS);"
   ]
  },
  {
   "cell_type": "code",
   "execution_count": null,
   "metadata": {},
   "outputs": [],
   "source": [
    "length(out1)"
   ]
  },
  {
   "cell_type": "code",
   "execution_count": null,
   "metadata": {},
   "outputs": [],
   "source": [
    "minimum(out1)"
   ]
  },
  {
   "cell_type": "code",
   "execution_count": null,
   "metadata": {},
   "outputs": [],
   "source": [
    "maximum(out1)"
   ]
  },
  {
   "cell_type": "code",
   "execution_count": null,
   "metadata": {},
   "outputs": [],
   "source": [
    "plot([k*δ for k in 0:NSTEPS-1], out1[1:1:NSTEPS], xlab=\"time\", ylab=\"displacement $k\", lab=\"\", c=:blue)"
   ]
  },
  {
   "cell_type": "code",
   "execution_count": null,
   "metadata": {},
   "outputs": [],
   "source": [
    "plot([k*δ for k in 0:NSTEPS-1], out2[1:1:NSTEPS], xlab=\"time\", ylab=\"displacement $k\", lab=\"\", c=:red)"
   ]
  },
  {
   "cell_type": "code",
   "execution_count": null,
   "metadata": {},
   "outputs": [],
   "source": [
    "@time intervalos = [ReachSet(Interval(-out2[k+1], out1[k+1]),\n",
    "                             IA.Interval(k*δ, (k+1)*δ)) for k in 0:NSTEPS-1]\n",
    "fp = Flowpipe(intervalos);"
   ]
  },
  {
   "cell_type": "code",
   "execution_count": null,
   "metadata": {},
   "outputs": [],
   "source": [
    "plot(fp(0 .. 0.00025), vars=(0, 1), xlab=\"time\", ylab=\"displacement $k\", lab=\"\", lw=0.1)"
   ]
  },
  {
   "cell_type": "markdown",
   "metadata": {},
   "source": [
    "## Free case, no bloating, with Krylov"
   ]
  },
  {
   "cell_type": "code",
   "execution_count": null,
   "metadata": {},
   "outputs": [],
   "source": [
    "using ExponentialUtilities"
   ]
  },
  {
   "cell_type": "code",
   "execution_count": null,
   "metadata": {},
   "outputs": [],
   "source": [
    "# this function computes the sequence\n",
    "# ``ρ(ℓ, Ω₀)``, ``ρ(exp(Aᵀ) * ℓ, Ω₀)``, ``ρ(exp(2Aᵀ) * ℓ, Ω₀)`` until ``ρ(exp(NSTEPS * Aᵀ) * ℓ, Ω₀)``\n",
    "# using a precomputed Krylov subspace of Aᵀ of order m\n",
    "function free_nobloating_krylov(X₀, Aᵀ, ℓ, NSTEPS;\n",
    "                                hermitian=false, m=min(30, size(Aᵀ, 1)), tol=1e-7)\n",
    "\n",
    "    out = Vector{Float64}(undef, NSTEPS)\n",
    "\n",
    "    TA, Tb = eltype(Aᵀ), eltype(ℓ)\n",
    "    T = promote_type(TA, Tb)\n",
    "    Ks = KrylovSubspace{T, real(T)}(length(ℓ), m)\n",
    "    arnoldi!(Ks, Aᵀ, ℓ; m=m, ishermitian=hermitian, tol=tol)\n",
    "\n",
    "    rᵢ = deepcopy(ℓ)\n",
    "\n",
    "    @inbounds for i in 1:NSTEPS\n",
    "        out[i] = ρ(rᵢ, X₀)\n",
    "\n",
    "        # update cache for the next iteration\n",
    "        expv!(rᵢ, i*1.0, Ks)\n",
    "    end\n",
    "    return out\n",
    "end"
   ]
  },
  {
   "cell_type": "markdown",
   "metadata": {},
   "source": [
    "Is $A$ hermitian? "
   ]
  },
  {
   "cell_type": "code",
   "execution_count": null,
   "metadata": {},
   "outputs": [],
   "source": [
    "opnorm(Matrix(Aᵀδ) - Matrix(Aδ), Inf) # NO !"
   ]
  },
  {
   "cell_type": "code",
   "execution_count": null,
   "metadata": {},
   "outputs": [],
   "source": [
    "NSTEPS = 100\n",
    "ℓ = e1 \n",
    "#\n",
    "# NOTE e1s setindex! not defined for SingleEntryVector{Float64}\n",
    "#\n",
    "@time outK = free_nobloating_krylov(X0, Aᵀδ, ℓ, NSTEPS; hermitian=false, m=min(30, size(Aᵀδ, 1)), tol=1e-10);"
   ]
  },
  {
   "cell_type": "code",
   "execution_count": null,
   "metadata": {},
   "outputs": [],
   "source": [
    "@time out = free_nobloating(X0, Φᵀ, e1, 100);"
   ]
  },
  {
   "cell_type": "code",
   "execution_count": null,
   "metadata": {},
   "outputs": [],
   "source": [
    "norm(outK - out)"
   ]
  },
  {
   "cell_type": "code",
   "execution_count": null,
   "metadata": {},
   "outputs": [],
   "source": [
    "#=\n",
    "X0 = Hyperrectangle(low=vcat(ones(N) .- 0.1, zeros(N)),\n",
    "                    high=vcat(ones(N) .+ 0.1, zeros(N)))\n",
    "=#\n",
    "\n",
    "# definitions\n",
    "δ = 1e-6;\n",
    "\n",
    "@time sysnorm = normalize(sys)\n",
    "A = state_matrix(sysnorm);\n",
    "Aᵀ = copy(transpose(A));\n",
    "Aδ = A*δ\n",
    "Aᵀδ = Aᵀ*δ\n",
    "\n",
    "# state evolution matrix\n",
    "@time Φ = exp(Matrix(A) * δ);\n",
    "@time Φᵀ = exp(Matrix(Aᵀ) * δ);\n",
    "\n",
    "# case with forcing\n",
    "@time sysnormf = normalize(sysf)\n",
    "Af = state_matrix(sysnormf);\n",
    "Afᵀ = copy(transpose(Af));\n",
    "Afδ = Af*δ\n",
    "Afᵀδ = Afᵀ*δ;\n",
    "Φf = exp(Matrix(Af) * δ);\n",
    "Φfᵀ = exp(Matrix(Afᵀ) * δ);\n",
    "\n",
    "X0 = Hyperrectangle(low=vcat(zeros(N-1), 1.0, zeros(N)),\n",
    "                    high=vcat(zeros(N-1), 1.0, zeros(N)))\n",
    "\n",
    "NSTEPS = 36000\n",
    "k = 1000\n",
    "e1, e2 = edirs(k, N)\n",
    "\n",
    "@time out1K = free_nobloating_krylov(X0, Aᵀδ, e1, NSTEPS; hermitian=false, m=min(30, size(Aᵀδ, 1)), tol=1e-10);\n",
    "@time out2K = free_nobloating_krylov(X0, Aᵀδ, e2, NSTEPS; hermitian=false, m=min(30, size(Aᵀδ, 1)), tol=1e-10);"
   ]
  },
  {
   "cell_type": "code",
   "execution_count": null,
   "metadata": {},
   "outputs": [],
   "source": [
    "@time intervalos = [ReachSet(Interval(-out2K[k+1], out1K[k+1]),\n",
    "                             IA.Interval(k*δ, (k+1)*δ)) for k in 0:NSTEPS-1]\n",
    "\n",
    "fp = Flowpipe(intervalos);\n",
    "\n",
    "plot(fp, vars=(0, 1), xlab=\"time\", ylab=\"displacement $k\", lab=\"\", lw=0.1)"
   ]
  },
  {
   "cell_type": "markdown",
   "metadata": {},
   "source": [
    "---"
   ]
  },
  {
   "cell_type": "code",
   "execution_count": null,
   "metadata": {},
   "outputs": [],
   "source": [
    "norm(out1 - out1K)"
   ]
  },
  {
   "cell_type": "code",
   "execution_count": null,
   "metadata": {},
   "outputs": [],
   "source": [
    "norm(out2 - out2K)"
   ]
  },
  {
   "cell_type": "markdown",
   "metadata": {},
   "source": []
  },
  {
   "cell_type": "markdown",
   "metadata": {},
   "source": []
  },
  {
   "cell_type": "code",
   "execution_count": null,
   "metadata": {},
   "outputs": [],
   "source": [
    "using ExponentialUtilities\n",
    "\n",
    "# Compute the sequence:\n",
    "#\n",
    "# ρ(ℓ, V), ρ(ℓ, Φ V ⊕ V), ρ(ℓ, Φ^2 V ⊕ Φ V ⊕ V), ..,\n",
    "#\n",
    "# Method:\n",
    "#\n",
    "# out[1] <- ρ(ℓ, V)\n",
    "# \n",
    "# Given that\n",
    "# ρ(ℓ, Φ V ⊕ V) = ρ(ℓ, Φ V) + ρ(ℓ, V)\n",
    "#\n",
    "# Then,\n",
    "# aux <- ρ(ℓ, Φ V)\n",
    "#\n",
    "# out[2] <- aux + out[1]\n",
    "#\n",
    "function forced_zerostate_nobloating_krylov(V, Aᵀ, ℓ, NSTEPS;\n",
    "                                            hermitian=false, m=min(30, size(Aᵀ, 1)), tol=1e-7)\n",
    "\n",
    "    out = Vector{Float64}(undef, NSTEPS)\n",
    "\n",
    "    TA, Tb = eltype(Aᵀ), eltype(ℓ)\n",
    "    T = promote_type(TA, Tb)\n",
    "    Ks = KrylovSubspace{T, real(T)}(length(ℓ), m)\n",
    "    arnoldi!(Ks, Aᵀ, ℓ; m=m, ishermitian=hermitian, tol=tol)\n",
    "\n",
    "    rᵢ = deepcopy(ℓ)\n",
    "\n",
    "    out[1] = ρ(ℓ, V)\n",
    "\n",
    "    @inbounds for i in 2:NSTEPS\n",
    "        expv!(rᵢ, (i-1)*1.0, Ks)\n",
    "        out[i] = out[i-1] + ρ(rᵢ, V)\n",
    "    end\n",
    "    return out\n",
    "end"
   ]
  },
  {
   "cell_type": "code",
   "execution_count": null,
   "metadata": {},
   "outputs": [],
   "source": [
    "using ExponentialUtilities\n",
    "\n",
    "# Compute the sequence:\n",
    "#\n",
    "# ρ(ℓ, X0), ρ(ℓ, Φ X0 ⊕ V), ρ(ℓ, Φ^2 X0 ⊕ Φ V ⊕ V), ...\n",
    "#\n",
    "# Method:\n",
    "#\n",
    "# out[1] <- ρ(ℓ, X0) + 0\n",
    "# \n",
    "# out[2] <- ρ(ℓ, Φ X0 ⊕ V) = ρ(ℓ, Φ X0) + ρ(ℓ, V) = ρ(Φᵀ ℓ, X0) + ρ(ℓ, V)\n",
    "#\n",
    "# out[3] <- ρ(ℓ, Φ^2 X0 ⊕ Φ V ⊕ V) = ρ((Φᵀ)^2 ℓ, X0) + ρ(Φᵀ ℓ, V) + ρ(ℓ, V)\n",
    "#\n",
    "# out[4] <- ρ(ℓ, Φ^3 X0 ⊕ Φ^2 V ⊕ Φ V ⊕ V) = ρ((Φᵀ)^3 ℓ, X0) + ρ((Φᵀ)^2 ℓ, V) + ρ(Φᵀ ℓ, V) + ρ(ℓ, V)\n",
    "#\n",
    "function forced_nobloating_krylov_2(X0, V, Aᵀδ, ℓ, NSTEPS;\n",
    "                                    hermitian=false, m=min(30, size(Aᵀδ, 1)), tol=1e-7)\n",
    "\n",
    "    out = Vector{Float64}(undef, NSTEPS)\n",
    "    \n",
    "    # stores [0, ρ(ℓ, V), ρ(Φᵀ ℓ, V) + ρ(ℓ, V), ρ((Φᵀ)^2 ℓ, V) + ρ(Φᵀ ℓ, V) + ρ(ℓ, V)]\n",
    "    s = Vector{Float64}(undef, NSTEPS+1)\n",
    "\n",
    "    TA, Tb = eltype(Aᵀδ), eltype(ℓ)\n",
    "    T = promote_type(TA, Tb)\n",
    "    Ks = KrylovSubspace{T, real(T)}(length(ℓ), m)\n",
    "    arnoldi!(Ks, Aᵀδ, ℓ; m=m, ishermitian=hermitian, tol=tol)\n",
    "    rᵢ = deepcopy(ℓ)\n",
    "    rᵢ₋₁ = deepcopy(ℓ)\n",
    "\n",
    "    @inbounds for i in 1:NSTEPS\n",
    "        out[i] = ρ(rᵢ, X0) + s[i]\n",
    "        s[i+1] = s[i] + ρ(rᵢ, V)\n",
    "        expv!(rᵢ, i*1.0, Ks) # rᵢ <- (Φᵀ)^i ℓ := exp(Aᵀ * δ * i) ℓ\n",
    "    end\n",
    "    return out\n",
    "end"
   ]
  },
  {
   "cell_type": "code",
   "execution_count": null,
   "metadata": {},
   "outputs": [],
   "source": [
    "# definitions\n",
    "δ = 1e-7;\n",
    "\n",
    "# case with forcing\n",
    "N = 1000\n",
    "sysf = clamped_forced(N=N)\n",
    "@time sysnormf = normalize(sysf)\n",
    "Af = state_matrix(sysnormf);\n",
    "Afᵀ = copy(transpose(Af));\n",
    "Afδ = Af*δ\n",
    "Afᵀδ = Afᵀ*δ;\n",
    "Φf = exp(Matrix(Af) * δ);\n",
    "Φfᵀ = exp(Matrix(Afᵀ) * δ);\n",
    "\n",
    "@time M = ReachabilityAnalysis.Φ₁(Matrix(Af), δ, Val(:base));\n",
    "\n",
    "V = M * sysnormf.U.U.element;\n",
    "V = Singleton(V);\n",
    "\n",
    "NSTEPS = 36_000\n",
    "N = 1000\n",
    "k = 700\n",
    "e1, e2 = edirs(k, N)\n",
    "\n",
    "# see Mechanical Vibrations, Gerardin et al, page 250-251 < Force relates to velocity initial cond\n",
    "Fext = 10e3\n",
    "N=1000; E=30e6; A=1; L=200;\n",
    "L0 = L / N\n",
    "v0 = Fext / (E * A) * L0\n",
    "X0 = vcat(vcat(zeros(N-1), v0), zeros(N))  |> Singleton\n",
    "X0.element[1000]\n",
    "\n",
    "#@time out1K = forced_nobloating_krylov_2(X0, V, Afᵀδ, e1, NSTEPS; hermitian=false, m=min(30, size(Afᵀδ, 1)), tol=1e-10);\n",
    "#@time out2K = forced_nobloating_krylov_2(X0, V, Afᵀδ, e2, NSTEPS; hermitian=false, m=min(30, size(Afᵀδ, 1)), tol=1e-10);\n",
    "\n",
    "@time out1K = free_nobloating_krylov(V, Afᵀδ, e1, NSTEPS)\n",
    "@time out2K = free_nobloating_krylov(V, Afᵀδ, e2, NSTEPS)\n",
    "\n",
    "@time intervalos = [ReachSet(Interval(-out2K[k+1], out1K[k+1]), IA.Interval(k*δ, (k+1)*δ)) for k in 0:NSTEPS-1]\n",
    "\n",
    "fp = Flowpipe(intervalos);\n",
    "@show numrsets(fp)\n",
    "\n",
    "plot(fp[1:1:1000], vars=(0, 1), xlab=\"time\", ylab=\"displacement $k\", lab=\"\", lw=0.1)"
   ]
  },
  {
   "cell_type": "markdown",
   "metadata": {},
   "source": [
    "$$\n",
    "\\rho(d, X) = \\max_{x \\in X} \\langle d, x \\rangle\n",
    "$$"
   ]
  },
  {
   "cell_type": "code",
   "execution_count": null,
   "metadata": {},
   "outputs": [],
   "source": []
  },
  {
   "cell_type": "code",
   "execution_count": null,
   "metadata": {},
   "outputs": [],
   "source": []
  },
  {
   "cell_type": "code",
   "execution_count": null,
   "metadata": {},
   "outputs": [],
   "source": []
  },
  {
   "cell_type": "code",
   "execution_count": null,
   "metadata": {},
   "outputs": [],
   "source": []
  },
  {
   "cell_type": "code",
   "execution_count": null,
   "metadata": {},
   "outputs": [],
   "source": [
    "NSTEPS = 36_000\n",
    "\n",
    "ℓ = e1\n",
    "@time out1K = free_nobloating_krylov(X0f, Afᵀδ, ℓ, NSTEPS; hermitian=false, m=min(30, size(Afᵀδ, 1)), tol=1e-10);\n",
    "\n",
    "ℓ = e2\n",
    "@time out2K = free_nobloating_krylov(X0f, Afᵀδ, ℓ, NSTEPS; hermitian=false, m=min(30, size(Afᵀδ, 1)), tol=1e-10);"
   ]
  },
  {
   "cell_type": "code",
   "execution_count": null,
   "metadata": {},
   "outputs": [],
   "source": []
  },
  {
   "cell_type": "code",
   "execution_count": null,
   "metadata": {},
   "outputs": [],
   "source": []
  },
  {
   "cell_type": "markdown",
   "metadata": {},
   "source": [
    "## << OLD >>"
   ]
  },
  {
   "cell_type": "code",
   "execution_count": null,
   "metadata": {},
   "outputs": [],
   "source": [
    "prob = @ivp(sys, x(0) ∈ X0)\n",
    "k = 700\n",
    "dirs = edirs(k, N)\n",
    "# we should go to 0.016\n",
    "@time solL = solve(prob, tspan=(0.0, 1e-5), alg=LGG09(δ=1e-8, template=dirs));\n",
    "\n",
    "#k = 3\n",
    "#plot(solL, vars=(0, k), lw=.2, xlab=\"time\", lab=\"displacement: $k\")\n",
    "#plot!(solL, vars=(0, 2*k), lw=.2, xlab=\"time\", lab=\"velocity: $k\")\n",
    "\n",
    "GC.gc()\n",
    "\n",
    "length(solL)\n",
    "\n",
    "plot(solL[1:end], vars=(0, k), lw=0.1)"
   ]
  },
  {
   "cell_type": "code",
   "execution_count": null,
   "metadata": {},
   "outputs": [],
   "source": [
    "N = 1000\n",
    "sys = clamped_ivp(N=N)\n",
    "δ = 1e-7\n",
    "\n",
    "# ConstrainedLinearContinuousSystem\n",
    "@time sysnorm = normalize(sys)\n",
    "A = state_matrix(sysnorm);\n",
    "Aᵀ = copy(transpose(A))\n",
    "\n",
    "@time Φ = exp(Matrix(A) * δ);\n",
    "@time Φᵀ = exp(Matrix(Aᵀ) * δ);"
   ]
  },
  {
   "cell_type": "code",
   "execution_count": null,
   "metadata": {},
   "outputs": [],
   "source": [
    "X0 = BallInf(ones(2N), 0.1)\n",
    "e1 = dirs.directions[1]\n",
    "e2 = dirs.directions[2];"
   ]
  },
  {
   "cell_type": "code",
   "execution_count": null,
   "metadata": {},
   "outputs": [],
   "source": []
  },
  {
   "cell_type": "code",
   "execution_count": null,
   "metadata": {},
   "outputs": [],
   "source": []
  },
  {
   "cell_type": "code",
   "execution_count": null,
   "metadata": {},
   "outputs": [],
   "source": [
    "e1s = SingleEntryVector(k, 2N, 1.0);\n",
    "e2s = SingleEntryVector(k, 2N, -1.0);"
   ]
  },
  {
   "cell_type": "code",
   "execution_count": null,
   "metadata": {},
   "outputs": [],
   "source": [
    "@btime ρ($e1s, $X0); # 4 ns"
   ]
  },
  {
   "cell_type": "code",
   "execution_count": null,
   "metadata": {},
   "outputs": [],
   "source": []
  },
  {
   "cell_type": "code",
   "execution_count": null,
   "metadata": {},
   "outputs": [],
   "source": [
    "GC.gc()"
   ]
  },
  {
   "cell_type": "code",
   "execution_count": null,
   "metadata": {},
   "outputs": [],
   "source": [
    "ρ(exp(Aᵀ) * ℓ, Ω₀)"
   ]
  },
  {
   "cell_type": "code",
   "execution_count": null,
   "metadata": {},
   "outputs": [],
   "source": [
    "\n",
    "# prob = @ivp(sys, x(0) ∈ X0)\n",
    "#ρ(ℓ, Ω₀), ρ(exp(Aᵀ) * ℓ, Ω₀), ρ(exp(2Aᵀ) * ℓ, Ω₀)\n",
    "\n",
    "#=\n",
    "\n",
    "prob = @ivp(sys, x(0) ∈ X0)\n",
    "k = 700\n",
    "dirs = edirs(k, N)\n",
    "# we should go to 0.016\n",
    "@time solL = solve(prob, tspan=(0.0, 1e-6), alg=LGG09(δ=1e-8, template=dirs));\n",
    "\n",
    "=#\n",
    "\n",
    "#k = 3\n",
    "#plot(solL, vars=(0, k), lw=.2, xlab=\"time\", lab=\"displacement: $k\")\n",
    "#plot!(solL, vars=(0, 2*k), lw=.2, xlab=\"time\", lab=\"velocity: $k\")"
   ]
  },
  {
   "cell_type": "code",
   "execution_count": null,
   "metadata": {},
   "outputs": [],
   "source": [
    "idx += 1\n",
    "A, Aᵀδ, Ω₀, ℓ = heat03(δ=0.02)\n",
    "\n",
    "# warm-up run\n",
    "out = Vector{Float64}(undef, 1)\n",
    "reach_homog_dir_LGG09_expv_pk2!(out, Ω₀, Aᵀδ, sparse(ℓ), 1, recursive, m=94, tol=1e-8, hermitian=true)\n",
    "\n",
    "out = Vector{Float64}(undef, NSTEPS)\n",
    "results[model][cases[idx]] = @elapsed reach_homog_dir_LGG09_expv_pk2!(out, Ω₀, Aᵀδ,\n",
    "                        sparse(ℓ), NSTEPS, recursive, m=94, tol=1e-8, hermitian=true)\n",
    "max_out = maximum(out)\n",
    "max_temp[cases[idx]] = max_out\n",
    "property = max_out ∈ Tmax[3] .. Tmax[3] + Δ\n",
    "push!(validation, Int(property))\n",
    "\n",
    "out = nothing\n",
    "GC.gc()"
   ]
  },
  {
   "cell_type": "code",
   "execution_count": null,
   "metadata": {},
   "outputs": [],
   "source": [
    "N = 1000\n",
    "sys = clamped_ivp(N=N)\n",
    "X0 = BallInf(ones(2N), 0.1)\n",
    "prob = @ivp(sys, x(0) ∈ X0)\n",
    "k = 700\n",
    "dirs = edirs(k, N)\n",
    "# we should go to 0.016\n",
    "@time solL = solve(prob, tspan=(0.0, 1e-6), alg=LGG09(δ=1e-8, template=dirs));"
   ]
  },
  {
   "cell_type": "code",
   "execution_count": null,
   "metadata": {},
   "outputs": [],
   "source": []
  },
  {
   "cell_type": "code",
   "execution_count": null,
   "metadata": {},
   "outputs": [],
   "source": []
  },
  {
   "cell_type": "code",
   "execution_count": null,
   "metadata": {},
   "outputs": [],
   "source": []
  }
 ],
 "metadata": {
  "@webio": {
   "lastCommId": null,
   "lastKernelId": null
  },
  "kernelspec": {
   "display_name": "Julia 1.5.0-beta1",
   "language": "julia",
   "name": "julia-1.5"
  },
  "language_info": {
   "file_extension": ".jl",
   "mimetype": "application/julia",
   "name": "julia",
   "version": "1.5.0"
  }
 },
 "nbformat": 4,
 "nbformat_minor": 2
}
