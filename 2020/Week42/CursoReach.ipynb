{
 "cells": [
  {
   "cell_type": "markdown",
   "metadata": {},
   "source": [
    "## Fundamentos de verificación formal de sistemas dinámicos"
   ]
  },
  {
   "cell_type": "markdown",
   "metadata": {},
   "source": [
    "## Resolución de sistemas dinámicos con métodos numéricos formales"
   ]
  },
  {
   "cell_type": "markdown",
   "metadata": {},
   "source": [
    "## Métodos numéricos formales para la verificación de sistemas dinámicos"
   ]
  },
  {
   "cell_type": "markdown",
   "metadata": {},
   "source": [
    "**Resumen.** Hoy en día difícilmente casi cualquier campo científico requiere el modelado y consecuente simulación de sistemas físicos utilizando métodos numéricos. XXXXXX Los métodos numéricos formales "
   ]
  },
  {
   "cell_type": "markdown",
   "metadata": {},
   "source": [
    "**Dedicación horaria:** 2 clases de 1h30 por semana.\n",
    "\n",
    "**Modalidad:** virtual\n",
    "\n",
    "**Temario resumido:**\n",
    "\n",
    "- Motivación e introducción al curso (1 semana)\n",
    "    - Sistemas ciber-físicos. Verificación.\n",
    "    - Aplicaciones.\n",
    "    - Comparación del método frente a otras alternativas.\n",
    "\n",
    "- Introduccion a la programación en Julia (2 semanas)\n",
    "    - Entorno de trabajo. Notebooks. \n",
    "    - Iteración. Manejo de arreglos.\n",
    "    - Estructuras. Multiple dispatch.\n",
    "    - Ecosistema. Elementos de `git`.\n",
    "\n",
    "- Fundamentos (2 semanas)\n",
    "    - Geometría convexa. Distancia de Hausdorff.\n",
    "    - Función de soporte. Zonotopos. Polihedros.\n",
    "    - Representación computacional.\n",
    "    - Operaciones elementales entre conjuntos.\n",
    "    - Aritmética de intervalos.\n",
    "    - Modelos de Taylor.\n",
    "\n",
    "- Métodos para sistemas lineales (3 semanas)\n",
    "    - Métodos de discretización.\n",
    "    - Recurrencias basadas en conjuntos.\n",
    "    - Convergencia de la sobreaproximación.\n",
    "    - Implementación numérica. Ejemplos.\n",
    "\n",
    "- Métodos para sistemas no lineales (3 semanas)\n",
    "    - Iteración de Picard.\n",
    "    - Método de modelos de Taylor.\n",
    "    - Implementación numérica. Ejemplos.\n",
    "\n",
    "- Métodos para sistemas híbridos (2 semanas)\n",
    "    - Autómatas híbridos.\n",
    "    - Implementación numérica. Ejemplos.\n",
    "\n",
    "- Proyecto (2 semanas)\n",
    "    - Resolución de un proyecto de aplicación."
   ]
  }
 ],
 "metadata": {
  "kernelspec": {
   "display_name": "Julia 1.5.0-beta1",
   "language": "julia",
   "name": "julia-1.5"
  },
  "language_info": {
   "file_extension": ".jl",
   "mimetype": "application/julia",
   "name": "julia",
   "version": "1.5.0"
  }
 },
 "nbformat": 4,
 "nbformat_minor": 2
}
