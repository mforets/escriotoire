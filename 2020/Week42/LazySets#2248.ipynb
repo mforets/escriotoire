{
 "cells": [
  {
   "cell_type": "markdown",
   "metadata": {},
   "source": [
    "## New branch"
   ]
  },
  {
   "cell_type": "code",
   "execution_count": null,
   "metadata": {},
   "outputs": [],
   "source": [
    "using Revise, LazySets, StaticArrays, BenchmarkTools, Test\n",
    "using LazySets: isapproxzero"
   ]
  },
  {
   "cell_type": "code",
   "execution_count": null,
   "metadata": {},
   "outputs": [],
   "source": [
    "a = BallInf([1.0, 2.0], 2.0)\n",
    "b = BallInf(SA[1.0, 2.0], 2.0);\n",
    "\n",
    "@btime convert(Zonotope, $a)\n",
    "@btime convert(Zonotope, $b)\n",
    "@btime LazySets._convert_2D_static(Zonotope, $b)\n",
    "\n",
    "h = rand(Hyperrectangle)\n",
    "hs = Hyperrectangle(SVector{2,Float64}(h.center), SVector{2,Float64}(h.radius))\n",
    "\n",
    "@btime convert(Zonotope, $h)\n",
    "@btime convert(Zonotope, $hs)\n",
    "@btime LazySets._convert_2D_static(Zonotope, $hs)"
   ]
  },
  {
   "cell_type": "markdown",
   "metadata": {},
   "source": [
    "```julia\n",
    "  39.723 ns (1 allocation: 112 bytes)\n",
    "  68.085 ns (3 allocations: 144 bytes)\n",
    "  0.016 ns (0 allocations: 0 bytes)\n",
    "  41.247 ns (1 allocation: 112 bytes)\n",
    "  66.996 ns (3 allocations: 144 bytes)\n",
    "  0.016 ns (0 allocations: 0 bytes)\n",
    "```"
   ]
  },
  {
   "cell_type": "markdown",
   "metadata": {},
   "source": [
    "## Master"
   ]
  },
  {
   "cell_type": "code",
   "execution_count": null,
   "metadata": {},
   "outputs": [],
   "source": [
    "using Revise, LazySets, StaticArrays, BenchmarkTools, Test\n",
    "using LazySets: isapproxzero"
   ]
  },
  {
   "cell_type": "code",
   "execution_count": null,
   "metadata": {},
   "outputs": [],
   "source": [
    "a = BallInf([1.0, 2.0], 2.0)\n",
    "b = BallInf(SA[1.0, 2.0], 2.0);\n",
    "\n",
    "@btime convert(Zonotope, $a)\n",
    "@btime convert(Zonotope, $b)\n",
    "\n",
    "h = rand(Hyperrectangle)\n",
    "hs = Hyperrectangle(SVector{2,Float64}(h.center), SVector{2,Float64}(h.radius))\n",
    "\n",
    "@btime convert(Zonotope, $h)\n",
    "@btime convert(Zonotope, $hs)"
   ]
  },
  {
   "cell_type": "markdown",
   "metadata": {},
   "source": [
    "```\n",
    "  103.428 ns (3 allocations: 240 bytes)\n",
    "  97.872 ns (3 allocations: 240 bytes)\n",
    "  104.838 ns (3 allocations: 240 bytes)\n",
    "  98.872 ns (3 allocations: 240 bytes)\n",
    "Zonotope{Float64,SArray{Tuple{2},Float64,1,2},Array{Float64,2}}([-0.27985088856998697, -1.2396901825569322], [1.1510259645852767 0.0; 0.0 0.8583562373534231])\n",
    "```"
   ]
  },
  {
   "cell_type": "code",
   "execution_count": null,
   "metadata": {
    "scrolled": true
   },
   "outputs": [],
   "source": [
    "convert(Zonotope, b).generators"
   ]
  },
  {
   "cell_type": "markdown",
   "metadata": {},
   "source": [
    "----"
   ]
  },
  {
   "cell_type": "markdown",
   "metadata": {},
   "source": [
    "## Higher dimensions"
   ]
  },
  {
   "cell_type": "code",
   "execution_count": 1,
   "metadata": {},
   "outputs": [
    {
     "name": "stderr",
     "output_type": "stream",
     "text": [
      "┌ Info: Precompiling LazySets [b4f0291d-fe17-52bc-9479-3d1a343d9043]\n",
      "└ @ Base loading.jl:1278\n"
     ]
    }
   ],
   "source": [
    "using Revise, LazySets, StaticArrays, BenchmarkTools, Test\n",
    "using LazySets: isapproxzero"
   ]
  },
  {
   "cell_type": "code",
   "execution_count": 4,
   "metadata": {},
   "outputs": [
    {
     "name": "stdout",
     "output_type": "stream",
     "text": [
      "ballinf\n",
      "  116.906 ns (3 allocations: 288 bytes)\n",
      "  85.217 ns (3 allocations: 224 bytes)\n",
      "  76.655 ns (3 allocations: 208 bytes)\n",
      "  76.614 ns (3 allocations: 208 bytes)\n",
      "hyper\n",
      "  118.475 ns (3 allocations: 288 bytes)\n",
      "  1.618 μs (28 allocations: 1.69 KiB)\n",
      "  106.797 ns (3 allocations: 256 bytes)\n",
      "  1.706 μs (28 allocations: 1.64 KiB)\n",
      "hyper-no prune\n",
      "  2.455 ns (0 allocations: 0 bytes)\n",
      "  2.455 ns (0 allocations: 0 bytes)\n"
     ]
    },
    {
     "data": {
      "text/plain": [
       "Zonotope{Float64,SArray{Tuple{3},Float64,1,3},SArray{Tuple{3,3},Float64,2,9}}([1.0, 2.0, 3.0], [1.0 0.0 0.0; 0.0 0.0 0.0; 0.0 0.0 3.0])"
      ]
     },
     "execution_count": 4,
     "metadata": {},
     "output_type": "execute_result"
    }
   ],
   "source": [
    "b = BallInf([1.0, 2.0, 3.0], 2.0)\n",
    "bs = BallInf(SA[1.0, 2.0, 3.0], 2.0);\n",
    "\n",
    "bflat = BallInf([1.0, 2.0, 3.0], 0.0)\n",
    "bsflat = BallInf([1.0, 2.0, 3.0], 0.0)\n",
    "\n",
    "h = Hyperrectangle([1.0, 2.0, 3.0], [1.0, 2.0, 3.0])\n",
    "hs = Hyperrectangle(SA[1.0, 2.0, 3.0], SA[1.0, 2.0, 3.0])\n",
    "\n",
    "hflat = Hyperrectangle([1.0, 2.0, 3.0], [1.0, 0.0, 3.0])\n",
    "hsflat = Hyperrectangle(SA[1.0, 2.0, 3.0], SA[1.0, 0.0, 3.0])\n",
    "\n",
    "println(\"ballinf\")\n",
    "@btime convert(Zonotope, $b)\n",
    "@btime convert(Zonotope, $bs)\n",
    "@btime convert(Zonotope, $bflat)\n",
    "@btime convert(Zonotope, $bsflat)\n",
    "\n",
    "println(\"hyper\")\n",
    "@btime convert(Zonotope, $h)\n",
    "@btime convert(Zonotope, $hs)\n",
    "@btime convert(Zonotope, $hflat)\n",
    "@btime convert(Zonotope, $hsflat)\n",
    "\n",
    "println(\"hyper-no prune\")\n",
    "@btime LazySets._convert_static(Zonotope, $hs)\n",
    "@btime LazySets._convert_static(Zonotope, $hsflat)"
   ]
  },
  {
   "cell_type": "code",
   "execution_count": 3,
   "metadata": {},
   "outputs": [
    {
     "data": {
      "text/plain": [
       "_convert_static (generic function with 1 method)"
      ]
     },
     "execution_count": 3,
     "metadata": {},
     "output_type": "execute_result"
    }
   ],
   "source": [
    "LazySets._convert_static"
   ]
  },
  {
   "cell_type": "code",
   "execution_count": null,
   "metadata": {},
   "outputs": [],
   "source": [
    "typeof(b)"
   ]
  },
  {
   "cell_type": "code",
   "execution_count": null,
   "metadata": {},
   "outputs": [],
   "source": [
    "# problem: very slow \n",
    "#   2.195 μs (28 allocations: 1.75 KiB)\n",
    "#=\n",
    "function _genmat(B::BallInf{N, SVector{L, N}}) where {L, N}\n",
    "    G = genmat(B)\n",
    "    n, p = size(G)\n",
    "    return SMatrix{n, p, N, n*p}(G)\n",
    "end\n",
    "=#\n",
    "\n",
    "function _genmat(B::BallInf{N, SVector{L, N}}) where {L, N}\n",
    "    r = B.radius\n",
    "    if isapproxzero(B.radius)\n",
    "        return SMatrix{L, 0, N, 0}()\n",
    "    else\n",
    "        gens = zeros(MMatrix{L, L})\n",
    "        @inbounds for i in 1:L\n",
    "            gens[i, i] = r\n",
    "        end\n",
    "        return SMatrix(gens)\n",
    "    end\n",
    "end"
   ]
  },
  {
   "cell_type": "code",
   "execution_count": null,
   "metadata": {},
   "outputs": [],
   "source": [
    "b0 = BallInf(SA[1.0, 2.0, 3.0], 0.0)\n",
    "b1 = BallInf(SA[1.0, 2.0, 3.0], 2.0)\n",
    "\n",
    "@btime _genmat($b0)\n",
    "@btime _genmat($b1)"
   ]
  },
  {
   "cell_type": "code",
   "execution_count": null,
   "metadata": {},
   "outputs": [],
   "source": [
    "b0 = BallInf(SA[1.0, 2.0], 0.0)\n",
    "b1 = BallInf(SA[1.0, 2.0], 2.0)\n",
    "\n",
    "@btime _genmat($b0)\n",
    "@btime _genmat($b1)"
   ]
  },
  {
   "cell_type": "code",
   "execution_count": null,
   "metadata": {},
   "outputs": [],
   "source": [
    "function _genmat(H::Hyperrectangle{N, SVector{L, N}, SVector{L, N}}) where {L, N}   \n",
    "    gens = zeros(MMatrix{L, L})\n",
    "    @inbounds for i in 1:L\n",
    "        r = H.radius[i]\n",
    "        if !isapproxzero(r)\n",
    "            gens[i, i] = r\n",
    "        end\n",
    "    end\n",
    "    return SMatrix(gens)\n",
    "end\n",
    "\n",
    "function _new_convert()"
   ]
  },
  {
   "cell_type": "code",
   "execution_count": null,
   "metadata": {},
   "outputs": [],
   "source": [
    "h0 = Hyperrectangle(SA[1.0, 2.0, 3.0], SA[4.0, 5.0, 6.0])\n",
    "h1 = Hyperrectangle(SA[1.0, 2.0, 3.0], SA[4.0, 0.0, 1.0])\n",
    "\n",
    "@btime _genmat($h0)\n",
    "@btime _genmat($h1)"
   ]
  },
  {
   "cell_type": "code",
   "execution_count": null,
   "metadata": {},
   "outputs": [],
   "source": [
    "h0 = Hyperrectangle(SA[1.0, 2.0], SA[4.0, 5.0])\n",
    "h1 = Hyperrectangle(SA[1.0, 2.0], SA[4.0, 0.0])\n",
    "\n",
    "@btime _genmat($h0)\n",
    "@btime _genmat($h1)"
   ]
  },
  {
   "cell_type": "code",
   "execution_count": null,
   "metadata": {},
   "outputs": [],
   "source": [
    "gens = generators(a)\n",
    "@which LazySets.genmat_fallback(a, gens=gens, ngens=length(gens))"
   ]
  },
  {
   "cell_type": "code",
   "execution_count": null,
   "metadata": {},
   "outputs": [],
   "source": [
    "gb = generators(b)\n",
    "eltype(gb)"
   ]
  },
  {
   "cell_type": "code",
   "execution_count": null,
   "metadata": {},
   "outputs": [],
   "source": []
  },
  {
   "cell_type": "code",
   "execution_count": null,
   "metadata": {},
   "outputs": [],
   "source": []
  },
  {
   "cell_type": "code",
   "execution_count": null,
   "metadata": {},
   "outputs": [],
   "source": [
    "@btime Zonotope(center($a), genmat($a))"
   ]
  },
  {
   "cell_type": "code",
   "execution_count": null,
   "metadata": {},
   "outputs": [],
   "source": [
    "@which genmat(a)"
   ]
  },
  {
   "cell_type": "code",
   "execution_count": null,
   "metadata": {},
   "outputs": [],
   "source": []
  },
  {
   "cell_type": "code",
   "execution_count": null,
   "metadata": {},
   "outputs": [],
   "source": [
    "\n",
    "@btime convert(Zonotope, $a)\n",
    "@btime convert(Zonotope, $b)\n",
    "@btime LazySets._convert_2D_static(Zonotope, $b)\n",
    "\n",
    "h = rand(Hyperrectangle, dim=3)\n",
    "hs = Hyperrectangle(SVector{3,Float64}(h.center), SVector{3,Float64}(h.radius))\n",
    "\n",
    "@btime convert(Zonotope, $h)\n",
    "@btime convert(Zonotope, $hs)\n",
    "@btime LazySets._convert_2D_static(Zonotope, $hs)"
   ]
  },
  {
   "cell_type": "code",
   "execution_count": null,
   "metadata": {},
   "outputs": [],
   "source": []
  },
  {
   "cell_type": "code",
   "execution_count": null,
   "metadata": {},
   "outputs": [],
   "source": []
  },
  {
   "cell_type": "code",
   "execution_count": null,
   "metadata": {},
   "outputs": [],
   "source": []
  }
 ],
 "metadata": {
  "@webio": {
   "lastCommId": null,
   "lastKernelId": null
  },
  "kernelspec": {
   "display_name": "Julia 1.5.0-beta1",
   "language": "julia",
   "name": "julia-1.5"
  },
  "language_info": {
   "file_extension": ".jl",
   "mimetype": "application/julia",
   "name": "julia",
   "version": "1.5.0"
  }
 },
 "nbformat": 4,
 "nbformat_minor": 2
}
