{
 "cells": [
  {
   "cell_type": "markdown",
   "metadata": {},
   "source": [
    "```\n",
    "  40.322 ns (1 allocation: 112 bytes)\n",
    "  68.050 ns (3 allocations: 144 bytes)\n",
    "  41.456 ns (1 allocation: 112 bytes)\n",
    "  66.444 ns (3 allocations: 144 bytes)\n",
    "Zonotope{Float64,SArray{Tuple{2},Float64,1,2},SArray{Tuple{2,2},Float64,2,4}}([-0.37366912222059195, -0.351846244420186], [0.03381241495236589 0.0; 0.0 0.25609215760092596])\n",
    "```"
   ]
  },
  {
   "cell_type": "markdown",
   "metadata": {},
   "source": [
    "## New branch"
   ]
  },
  {
   "cell_type": "code",
   "execution_count": null,
   "metadata": {},
   "outputs": [],
   "source": [
    "using Revise, LazySets, StaticArrays, BenchmarkTools, Test\n",
    "using LazySets: isapproxzero"
   ]
  },
  {
   "cell_type": "code",
   "execution_count": null,
   "metadata": {},
   "outputs": [],
   "source": [
    "a = BallInf([1.0, 2.0], 2.0)\n",
    "b = BallInf(SA[1.0, 2.0], 2.0);\n",
    "\n",
    "@btime convert(Zonotope, $a)\n",
    "@btime convert(Zonotope, $b)\n",
    "@btime LazySets._convert_2D_static(Zonotope, $b)\n",
    "\n",
    "h = rand(Hyperrectangle)\n",
    "hs = Hyperrectangle(SVector{2,Float64}(h.center), SVector{2,Float64}(h.radius))\n",
    "\n",
    "@btime convert(Zonotope, $h)\n",
    "@btime convert(Zonotope, $hs)\n",
    "@btime LazySets._convert_2D_static(Zonotope, $hs)"
   ]
  },
  {
   "cell_type": "markdown",
   "metadata": {},
   "source": [
    "```julia\n",
    "  39.723 ns (1 allocation: 112 bytes)\n",
    "  68.085 ns (3 allocations: 144 bytes)\n",
    "  0.016 ns (0 allocations: 0 bytes)\n",
    "  41.247 ns (1 allocation: 112 bytes)\n",
    "  66.996 ns (3 allocations: 144 bytes)\n",
    "  0.016 ns (0 allocations: 0 bytes)\n",
    "```"
   ]
  },
  {
   "cell_type": "markdown",
   "metadata": {},
   "source": [
    "## Master"
   ]
  },
  {
   "cell_type": "code",
   "execution_count": 1,
   "metadata": {},
   "outputs": [
    {
     "name": "stderr",
     "output_type": "stream",
     "text": [
      "┌ Info: Precompiling LazySets [b4f0291d-fe17-52bc-9479-3d1a343d9043]\n",
      "└ @ Base loading.jl:1278\n"
     ]
    }
   ],
   "source": [
    "using Revise, LazySets, StaticArrays, BenchmarkTools, Test\n",
    "using LazySets: isapproxzero"
   ]
  },
  {
   "cell_type": "code",
   "execution_count": 3,
   "metadata": {},
   "outputs": [
    {
     "name": "stdout",
     "output_type": "stream",
     "text": [
      "  103.428 ns (3 allocations: 240 bytes)\n",
      "  97.872 ns (3 allocations: 240 bytes)\n",
      "  104.838 ns (3 allocations: 240 bytes)\n",
      "  98.872 ns (3 allocations: 240 bytes)\n"
     ]
    },
    {
     "data": {
      "text/plain": [
       "Zonotope{Float64,SArray{Tuple{2},Float64,1,2},Array{Float64,2}}([-0.27985088856998697, -1.2396901825569322], [1.1510259645852767 0.0; 0.0 0.8583562373534231])"
      ]
     },
     "execution_count": 3,
     "metadata": {},
     "output_type": "execute_result"
    }
   ],
   "source": [
    "a = BallInf([1.0, 2.0], 2.0)\n",
    "b = BallInf(SA[1.0, 2.0], 2.0);\n",
    "\n",
    "@btime convert(Zonotope, $a)\n",
    "@btime convert(Zonotope, $b)\n",
    "\n",
    "h = rand(Hyperrectangle)\n",
    "hs = Hyperrectangle(SVector{2,Float64}(h.center), SVector{2,Float64}(h.radius))\n",
    "\n",
    "@btime convert(Zonotope, $h)\n",
    "@btime convert(Zonotope, $hs)"
   ]
  },
  {
   "cell_type": "code",
   "execution_count": 5,
   "metadata": {
    "scrolled": true
   },
   "outputs": [
    {
     "data": {
      "text/plain": [
       "2×2 Array{Float64,2}:\n",
       " 2.0  0.0\n",
       " 0.0  2.0"
      ]
     },
     "execution_count": 5,
     "metadata": {},
     "output_type": "execute_result"
    }
   ],
   "source": [
    "convert(Zonotope, b).generators"
   ]
  }
 ],
 "metadata": {
  "@webio": {
   "lastCommId": null,
   "lastKernelId": null
  },
  "kernelspec": {
   "display_name": "Julia 1.5.0-beta1",
   "language": "julia",
   "name": "julia-1.5"
  },
  "language_info": {
   "file_extension": ".jl",
   "mimetype": "application/julia",
   "name": "julia",
   "version": "1.5.0"
  }
 },
 "nbformat": 4,
 "nbformat_minor": 2
}
