{
 "cells": [
  {
   "cell_type": "markdown",
   "metadata": {},
   "source": [
    "- https://github.com/JuliaReach/ReachabilityBenchmarks/pull/205"
   ]
  },
  {
   "cell_type": "code",
   "execution_count": 4,
   "metadata": {},
   "outputs": [
    {
     "name": "stdout",
     "output_type": "stream",
     "text": [
      "motor\n",
      "  0.880995 seconds (1.93 M allocations: 109.413 MiB, 3.27% gc time)\n",
      "verified"
     ]
    },
    {
     "name": "stderr",
     "output_type": "stream",
     "text": [
      "WARNING: replacing module motor.\n"
     ]
    },
    {
     "name": "stdout",
     "output_type": "stream",
     "text": [
      "\n",
      "building\n",
      "  0.421222 seconds (954.86 k allocations: 76.944 MiB, 5.42% gc time)\n"
     ]
    },
    {
     "name": "stderr",
     "output_type": "stream",
     "text": [
      "WARNING: replacing module building.\n"
     ]
    },
    {
     "name": "stdout",
     "output_type": "stream",
     "text": [
      "verified\n",
      "pde\n",
      "  0.250911 seconds (123.63 k allocations: 57.430 MiB, 9.98% gc time)\n",
      "verified"
     ]
    },
    {
     "name": "stderr",
     "output_type": "stream",
     "text": [
      "WARNING: replacing module pde.\n"
     ]
    },
    {
     "name": "stdout",
     "output_type": "stream",
     "text": [
      "\n",
      "heat\n",
      "  0.938629 seconds (959.40 k allocations: 211.311 MiB, 4.00% gc time)\n"
     ]
    },
    {
     "name": "stderr",
     "output_type": "stream",
     "text": [
      "WARNING: replacing module heat.\n"
     ]
    },
    {
     "name": "stdout",
     "output_type": "stream",
     "text": [
      "verified\n",
      "iss\n",
      "  1.181445 seconds (128.92 k allocations: 216.154 MiB, 1.35% gc time)\n",
      "not verified"
     ]
    },
    {
     "name": "stderr",
     "output_type": "stream",
     "text": [
      "WARNING: replacing module iss.\n"
     ]
    },
    {
     "name": "stdout",
     "output_type": "stream",
     "text": [
      "\n",
      "beam\n",
      "  2.879968 seconds (138.41 k allocations: 431.019 MiB, 2.79% gc time)\n"
     ]
    },
    {
     "name": "stderr",
     "output_type": "stream",
     "text": [
      "WARNING: replacing module beam.\n"
     ]
    },
    {
     "name": "stdout",
     "output_type": "stream",
     "text": [
      "not verified\n"
     ]
    }
   ],
   "source": [
    "using ReachabilityModels, SparseArrays, MAT\n",
    "\n",
    "M_pde = vec(matread(\"out_pde.mat\")[\"M\"])\n",
    "M_iss = vec(matread(\"out_iss.mat\")[\"M\"])\n",
    "\n",
    "y = [false, false, true, false, true, false]\n",
    "models = [\"motor\", \"building\", \"pde\", \"heat\", \"iss\", \"beam\"]\n",
    "dirs = [5, 25, M_pde, 133, M_iss, 89]\n",
    "conditions = [x -> isdisjoint(x, Interval(0.45, 0.6)),       # x5 < 0.45 || x5 > 0.6\n",
    "              x -> isdisjoint(x, HalfSpace([-1.], -6e-3)),   # x25 < 6e-3\n",
    "              x -> isdisjoint(x, HalfSpace([-1.], -12.)),    # y1 < 12\n",
    "              x -> isdisjoint(x, HalfSpace([-1.], -0.1)),    # x133 < 0.1\n",
    "              x -> x ⊆ (Interval(-7., 7.) * 1e-4),           # -7e-4 <= y1 <= 7e-4\n",
    "              x -> isdisjoint(x, HalfSpace([-1.], -2100.))]  # x89 < 2100\n",
    "sols = []\n",
    "ints = []\n",
    "\n",
    "for i=1:length(models)\n",
    "    println(models[i])\n",
    "    m = fetch_model(models[i])\n",
    "    meta = fetch_meta(models[i])\n",
    "    dim = meta[\"info\"][\"dim\"]\n",
    "   \n",
    "    x = y[i] ? dirs[i] : SingleEntryVector(dirs[i], dim, 1.0)\n",
    "\n",
    "    @time sol = solve(m, T=20, alg=LGG09(δ=0.001, template=[x, -x]))\n",
    "    push!(sols, sol)\n",
    "\n",
    "    if !y[i]\n",
    "        int = Interval(-ρ(sparsevec([dirs[i]], [-1.0], dim), sols[i]), ρ(sparsevec([dirs[i]], [1.0], dim), sols[i]))\n",
    "    else\n",
    "        int = Interval(-ρ(-x, sols[i]), ρ(x, sols[i]))\n",
    "    end\n",
    "    push!(ints, int)\n",
    "    if conditions[i](int)\n",
    "        println(\"verified\")\n",
    "    else\n",
    "        println(\"not verified\")\n",
    "    end\n",
    "end"
   ]
  },
  {
   "cell_type": "markdown",
   "metadata": {},
   "source": [
    "## Heat"
   ]
  },
  {
   "cell_type": "code",
   "execution_count": 29,
   "metadata": {},
   "outputs": [
    {
     "name": "stderr",
     "output_type": "stream",
     "text": [
      "WARNING: replacing module heat.\n"
     ]
    }
   ],
   "source": [
    "m = fetch_model(\"heat\");"
   ]
  },
  {
   "cell_type": "code",
   "execution_count": 30,
   "metadata": {},
   "outputs": [],
   "source": [
    "x = SingleEntryVector(133, statedim(m), 1.0);"
   ]
  },
  {
   "cell_type": "code",
   "execution_count": 28,
   "metadata": {},
   "outputs": [
    {
     "name": "stdout",
     "output_type": "stream",
     "text": [
      "  0.471040 seconds (213.34 k allocations: 135.985 MiB, 1.82% gc time)\n"
     ]
    }
   ],
   "source": [
    "@time sol = solve(m, T=20, alg=LGG09(δ=0.001, template=[x]));"
   ]
  },
  {
   "cell_type": "code",
   "execution_count": 31,
   "metadata": {},
   "outputs": [
    {
     "name": "stdout",
     "output_type": "stream",
     "text": [
      "  0.629519 seconds (126.67 k allocations: 166.682 MiB, 2.65% gc time)\n"
     ]
    }
   ],
   "source": [
    "@time sol = solve(m, T=20, alg=LGG09(δ=0.001, template=[x, -x]));"
   ]
  },
  {
   "cell_type": "code",
   "execution_count": 44,
   "metadata": {},
   "outputs": [
    {
     "data": {
      "text/plain": [
       "Interval{Float64,IntervalArithmetic.Interval{Float64}}([-0.056793, 0.056862])"
      ]
     },
     "execution_count": 44,
     "metadata": {},
     "output_type": "execute_result"
    }
   ],
   "source": [
    "using ReachabilityAnalysis: support_functions\n",
    "const sf = support_functions\n",
    "\n",
    "Interval(-sf(sol[end], 2), sf(sol[end], 1))"
   ]
  },
  {
   "cell_type": "code",
   "execution_count": 45,
   "metadata": {},
   "outputs": [
    {
     "data": {
      "text/plain": [
       "Interval{Float64,IntervalArithmetic.Interval{Float64}}([-0.056793, 0.056862])"
      ]
     },
     "execution_count": 45,
     "metadata": {},
     "output_type": "execute_result"
    }
   ],
   "source": [
    "Interval(-ρ(-x, sol[end]), ρ(x, sol[end]))"
   ]
  },
  {
   "cell_type": "code",
   "execution_count": 26,
   "metadata": {},
   "outputs": [
    {
     "name": "stdout",
     "output_type": "stream",
     "text": [
      " 98.378818 seconds (25.25 M allocations: 15.115 GiB, 2.98% gc time)\n"
     ]
    }
   ],
   "source": [
    "@time sol = solve(m, T=20, alg=LGG09(δ=0.001, template=BoxDirections(200)));"
   ]
  },
  {
   "cell_type": "code",
   "execution_count": 27,
   "metadata": {},
   "outputs": [
    {
     "data": {
      "text/plain": [
       "TemplateReachSet{Float64,SingleEntryVector{Float64},BoxDirections{Float64,SingleEntryVector{Float64}},SubArray{Float64,1,Array{Float64,2},Tuple{Base.Slice{Base.OneTo{Int64}},Int64},true}}(BoxDirections{Float64,SingleEntryVector{Float64}}(200), [0.0038693861679344682, 0.007598026817837309, 0.011053707324852856, 0.01412055108158657, 0.01670545801894523, 0.01874267703810714, 0.02019621124951963, 0.021059975094797918, 0.021355839149301514, 0.021129886361332936  …  -0.00042341234845319053, -0.0004507910575348701, -0.0004647800128299329, -0.00046289314512956654, -0.00044343128305389146, -0.00040570544437817143, -0.0003501859593940479, -0.0002785545675718009, -0.00019364651666899246, -9.928206551699323e-5], [0.0989999, 0.100001])"
      ]
     },
     "execution_count": 27,
     "metadata": {},
     "output_type": "execute_result"
    }
   ],
   "source": [
    "sol[100]"
   ]
  },
  {
   "cell_type": "code",
   "execution_count": 18,
   "metadata": {},
   "outputs": [
    {
     "data": {
      "text/plain": [
       "20000"
      ]
     },
     "execution_count": 18,
     "metadata": {},
     "output_type": "execute_result"
    }
   ],
   "source": [
    "numrsets(sol)"
   ]
  },
  {
   "cell_type": "code",
   "execution_count": 19,
   "metadata": {},
   "outputs": [],
   "source": [
    "using Plots"
   ]
  },
  {
   "cell_type": "code",
   "execution_count": 23,
   "metadata": {},
   "outputs": [],
   "source": [
    "#plot(sol, vars=(0, 133), xlab=\"t\", ylab=\"x133\")"
   ]
  },
  {
   "cell_type": "code",
   "execution_count": null,
   "metadata": {},
   "outputs": [],
   "source": []
  }
 ],
 "metadata": {
  "kernelspec": {
   "display_name": "Julia 1.5.2",
   "language": "julia",
   "name": "julia-1.5"
  },
  "language_info": {
   "file_extension": ".jl",
   "mimetype": "application/julia",
   "name": "julia",
   "version": "1.5.2"
  }
 },
 "nbformat": 4,
 "nbformat_minor": 2
}
