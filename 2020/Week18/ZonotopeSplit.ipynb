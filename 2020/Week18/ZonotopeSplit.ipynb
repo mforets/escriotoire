{
 "cells": [
  {
   "cell_type": "code",
   "execution_count": 6,
   "metadata": {},
   "outputs": [],
   "source": [
    "using Revise, LazySets, BenchmarkTools, Plots"
   ]
  },
  {
   "cell_type": "code",
   "execution_count": null,
   "metadata": {},
   "outputs": [],
   "source": [
    "function split(Z::Zonotope, j::Int)\n",
    "    @assert 1 <= j <= ngens(Z) \"cannot split a zonotope with $(ngens(Z)) generators along index $j\"\n",
    "    c, G = Z.center, Z.generators\n",
    "    Gj = G[:, j]\n",
    "    Gj_half = Gj / 2\n",
    "\n",
    "    c₁ = c - Gj_half\n",
    "    c₂ = c + Gj_half\n",
    "\n",
    "    G₁ = copy(G)\n",
    "    G₁[:, j] = Gj_half\n",
    "    G₂ = copy(G₁)\n",
    "\n",
    "    Z₁ = Zonotope(c₁, G₁)\n",
    "    Z₂ = Zonotope(c₂, G₂)\n",
    "    return Z₁, Z₂\n",
    "end"
   ]
  },
  {
   "cell_type": "code",
   "execution_count": 16,
   "metadata": {},
   "outputs": [
    {
     "data": {
      "text/plain": [
       "1×2 Array{Float64,2}:\n",
       " 2.26082  -1.18903"
      ]
     },
     "execution_count": 16,
     "metadata": {},
     "output_type": "execute_result"
    }
   ],
   "source": [
    "Matrix{Float64}(undef, (1, 2))"
   ]
  },
  {
   "cell_type": "code",
   "execution_count": null,
   "metadata": {},
   "outputs": [],
   "source": [
    "struct Zonotope{N, VN<:AbstractVector{N}, MN<:AbstractMatrix{N}}\n",
    "    center::N\n",
    "    generators::MN\n",
    "end"
   ]
  },
  {
   "cell_type": "code",
   "execution_count": 62,
   "metadata": {},
   "outputs": [
    {
     "data": {
      "text/plain": [
       "_split2 (generic function with 2 methods)"
      ]
     },
     "execution_count": 62,
     "metadata": {},
     "output_type": "execute_result"
    }
   ],
   "source": [
    "function _split2(Z::Zonotope{N}, j::Int) where {N}\n",
    "    @assert 1 <= j <= size(Z, 2) \"cannot split a zonotope with $(ngens(Z)) generators along index $j\"\n",
    "    c, G = Z.center, Z.generators\n",
    "\n",
    "    c₁ = Vector{N}(undef, length(c))\n",
    "    c₂ = Vector{N}(undef, length(c))\n",
    "    \n",
    "    G₁ = copy(G)\n",
    "    G₂ = copy(G)\n",
    "    \n",
    "    @inbounds for i in 1:size(G, 1)\n",
    "        α = G[i, j] / 2\n",
    "        c₁[i] = c[i] - α\n",
    "        c₂[i] = c[i] + α\n",
    "        G₁[i, j] = α\n",
    "        G₁[i, j] = α\n",
    "    end\n",
    "    \n",
    "    Z₁ = Zonotope(c₁, G₁)\n",
    "    Z₂ = Zonotope(c₂, G₂)\n",
    "    return Z₁, Z₂\n",
    "end"
   ]
  },
  {
   "cell_type": "code",
   "execution_count": 3,
   "metadata": {},
   "outputs": [],
   "source": [
    "Z = rand(Zonotope);"
   ]
  },
  {
   "cell_type": "code",
   "execution_count": 7,
   "metadata": {},
   "outputs": [
    {
     "data": {
      "image/svg+xml": [
       "<?xml version=\"1.0\" encoding=\"utf-8\"?>\n",
       "<svg xmlns=\"http://www.w3.org/2000/svg\" xmlns:xlink=\"http://www.w3.org/1999/xlink\" width=\"600\" height=\"400\" viewBox=\"0 0 2400 1600\">\n",
       "<defs>\n",
       "  <clipPath id=\"clip4700\">\n",
       "    <rect x=\"0\" y=\"0\" width=\"2400\" height=\"1600\"/>\n",
       "  </clipPath>\n",
       "</defs>\n",
       "<path clip-path=\"url(#clip4700)\" d=\"\n",
       "M0 1600 L2400 1600 L2400 0 L0 0  Z\n",
       "  \" fill=\"#ffffff\" fill-rule=\"evenodd\" fill-opacity=\"1\"/>\n",
       "<defs>\n",
       "  <clipPath id=\"clip4701\">\n",
       "    <rect x=\"480\" y=\"0\" width=\"1681\" height=\"1600\"/>\n",
       "  </clipPath>\n",
       "</defs>\n",
       "<path clip-path=\"url(#clip4700)\" d=\"\n",
       "M141.865 1487.47 L2352.76 1487.47 L2352.76 47.2441 L141.865 47.2441  Z\n",
       "  \" fill=\"#ffffff\" fill-rule=\"evenodd\" fill-opacity=\"1\"/>\n",
       "<defs>\n",
       "  <clipPath id=\"clip4702\">\n",
       "    <rect x=\"141\" y=\"47\" width=\"2212\" height=\"1441\"/>\n",
       "  </clipPath>\n",
       "</defs>\n",
       "<polyline clip-path=\"url(#clip4702)\" style=\"stroke:#000000; stroke-width:2; stroke-opacity:0.1; fill:none\" points=\"\n",
       "  199.081,1487.47 199.081,47.2441 \n",
       "  \"/>\n",
       "<polyline clip-path=\"url(#clip4702)\" style=\"stroke:#000000; stroke-width:2; stroke-opacity:0.1; fill:none\" points=\"\n",
       "  761.873,1487.47 761.873,47.2441 \n",
       "  \"/>\n",
       "<polyline clip-path=\"url(#clip4702)\" style=\"stroke:#000000; stroke-width:2; stroke-opacity:0.1; fill:none\" points=\"\n",
       "  1324.67,1487.47 1324.67,47.2441 \n",
       "  \"/>\n",
       "<polyline clip-path=\"url(#clip4702)\" style=\"stroke:#000000; stroke-width:2; stroke-opacity:0.1; fill:none\" points=\"\n",
       "  1887.46,1487.47 1887.46,47.2441 \n",
       "  \"/>\n",
       "<polyline clip-path=\"url(#clip4702)\" style=\"stroke:#000000; stroke-width:2; stroke-opacity:0.1; fill:none\" points=\"\n",
       "  141.865,1415.87 2352.76,1415.87 \n",
       "  \"/>\n",
       "<polyline clip-path=\"url(#clip4702)\" style=\"stroke:#000000; stroke-width:2; stroke-opacity:0.1; fill:none\" points=\"\n",
       "  141.865,999.435 2352.76,999.435 \n",
       "  \"/>\n",
       "<polyline clip-path=\"url(#clip4702)\" style=\"stroke:#000000; stroke-width:2; stroke-opacity:0.1; fill:none\" points=\"\n",
       "  141.865,583.001 2352.76,583.001 \n",
       "  \"/>\n",
       "<polyline clip-path=\"url(#clip4702)\" style=\"stroke:#000000; stroke-width:2; stroke-opacity:0.1; fill:none\" points=\"\n",
       "  141.865,166.567 2352.76,166.567 \n",
       "  \"/>\n",
       "<polyline clip-path=\"url(#clip4700)\" style=\"stroke:#000000; stroke-width:4; stroke-opacity:1; fill:none\" points=\"\n",
       "  141.865,1487.47 2352.76,1487.47 \n",
       "  \"/>\n",
       "<polyline clip-path=\"url(#clip4700)\" style=\"stroke:#000000; stroke-width:4; stroke-opacity:1; fill:none\" points=\"\n",
       "  141.865,1487.47 141.865,47.2441 \n",
       "  \"/>\n",
       "<polyline clip-path=\"url(#clip4700)\" style=\"stroke:#000000; stroke-width:4; stroke-opacity:1; fill:none\" points=\"\n",
       "  199.081,1487.47 199.081,1470.19 \n",
       "  \"/>\n",
       "<polyline clip-path=\"url(#clip4700)\" style=\"stroke:#000000; stroke-width:4; stroke-opacity:1; fill:none\" points=\"\n",
       "  761.873,1487.47 761.873,1470.19 \n",
       "  \"/>\n",
       "<polyline clip-path=\"url(#clip4700)\" style=\"stroke:#000000; stroke-width:4; stroke-opacity:1; fill:none\" points=\"\n",
       "  1324.67,1487.47 1324.67,1470.19 \n",
       "  \"/>\n",
       "<polyline clip-path=\"url(#clip4700)\" style=\"stroke:#000000; stroke-width:4; stroke-opacity:1; fill:none\" points=\"\n",
       "  1887.46,1487.47 1887.46,1470.19 \n",
       "  \"/>\n",
       "<polyline clip-path=\"url(#clip4700)\" style=\"stroke:#000000; stroke-width:4; stroke-opacity:1; fill:none\" points=\"\n",
       "  141.865,1415.87 168.395,1415.87 \n",
       "  \"/>\n",
       "<polyline clip-path=\"url(#clip4700)\" style=\"stroke:#000000; stroke-width:4; stroke-opacity:1; fill:none\" points=\"\n",
       "  141.865,999.435 168.395,999.435 \n",
       "  \"/>\n",
       "<polyline clip-path=\"url(#clip4700)\" style=\"stroke:#000000; stroke-width:4; stroke-opacity:1; fill:none\" points=\"\n",
       "  141.865,583.001 168.395,583.001 \n",
       "  \"/>\n",
       "<polyline clip-path=\"url(#clip4700)\" style=\"stroke:#000000; stroke-width:4; stroke-opacity:1; fill:none\" points=\"\n",
       "  141.865,166.567 168.395,166.567 \n",
       "  \"/>\n",
       "<g clip-path=\"url(#clip4700)\">\n",
       "<text style=\"fill:#000000; fill-opacity:1; font-family:Arial,Helvetica Neue,Helvetica,sans-serif; font-size:48px; text-anchor:middle;\" transform=\"rotate(0, 199.081, 1541.47)\" x=\"199.081\" y=\"1541.47\">0</text>\n",
       "</g>\n",
       "<g clip-path=\"url(#clip4700)\">\n",
       "<text style=\"fill:#000000; fill-opacity:1; font-family:Arial,Helvetica Neue,Helvetica,sans-serif; font-size:48px; text-anchor:middle;\" transform=\"rotate(0, 761.873, 1541.47)\" x=\"761.873\" y=\"1541.47\">1</text>\n",
       "</g>\n",
       "<g clip-path=\"url(#clip4700)\">\n",
       "<text style=\"fill:#000000; fill-opacity:1; font-family:Arial,Helvetica Neue,Helvetica,sans-serif; font-size:48px; text-anchor:middle;\" transform=\"rotate(0, 1324.67, 1541.47)\" x=\"1324.67\" y=\"1541.47\">2</text>\n",
       "</g>\n",
       "<g clip-path=\"url(#clip4700)\">\n",
       "<text style=\"fill:#000000; fill-opacity:1; font-family:Arial,Helvetica Neue,Helvetica,sans-serif; font-size:48px; text-anchor:middle;\" transform=\"rotate(0, 1887.46, 1541.47)\" x=\"1887.46\" y=\"1541.47\">3</text>\n",
       "</g>\n",
       "<g clip-path=\"url(#clip4700)\">\n",
       "<text style=\"fill:#000000; fill-opacity:1; font-family:Arial,Helvetica Neue,Helvetica,sans-serif; font-size:48px; text-anchor:end;\" transform=\"rotate(0, 117.865, 1433.37)\" x=\"117.865\" y=\"1433.37\">-3</text>\n",
       "</g>\n",
       "<g clip-path=\"url(#clip4700)\">\n",
       "<text style=\"fill:#000000; fill-opacity:1; font-family:Arial,Helvetica Neue,Helvetica,sans-serif; font-size:48px; text-anchor:end;\" transform=\"rotate(0, 117.865, 1016.94)\" x=\"117.865\" y=\"1016.94\">-2</text>\n",
       "</g>\n",
       "<g clip-path=\"url(#clip4700)\">\n",
       "<text style=\"fill:#000000; fill-opacity:1; font-family:Arial,Helvetica Neue,Helvetica,sans-serif; font-size:48px; text-anchor:end;\" transform=\"rotate(0, 117.865, 600.501)\" x=\"117.865\" y=\"600.501\">-1</text>\n",
       "</g>\n",
       "<g clip-path=\"url(#clip4700)\">\n",
       "<text style=\"fill:#000000; fill-opacity:1; font-family:Arial,Helvetica Neue,Helvetica,sans-serif; font-size:48px; text-anchor:end;\" transform=\"rotate(0, 117.865, 184.067)\" x=\"117.865\" y=\"184.067\">0</text>\n",
       "</g>\n",
       "<path clip-path=\"url(#clip4702)\" d=\"\n",
       "M204.437 510.561 L476.041 932.379 L1393.62 1446.71 L2290.18 1024.16 L2018.58 602.34 L1101 88.0053 L204.437 510.561 L204.437 510.561  Z\n",
       "  \" fill=\"#009af9\" fill-rule=\"evenodd\" fill-opacity=\"0.5\"/>\n",
       "<polyline clip-path=\"url(#clip4702)\" style=\"stroke:#000000; stroke-width:4; stroke-opacity:0.5; fill:none\" points=\"\n",
       "  204.437,510.561 476.041,932.379 1393.62,1446.71 2290.18,1024.16 2018.58,602.34 1101,88.0053 204.437,510.561 \n",
       "  \"/>\n",
       "</svg>\n"
      ]
     },
     "execution_count": 7,
     "metadata": {},
     "output_type": "execute_result"
    }
   ],
   "source": [
    "plot(Z)"
   ]
  },
  {
   "cell_type": "code",
   "execution_count": 10,
   "metadata": {},
   "outputs": [
    {
     "data": {
      "text/plain": [
       "(Zonotope{Float64,Array{Float64,1},Array{Float64,2}}([2.2608154870873243, -1.1890324029828236], [-0.3982646665324632 0.8152036188190726 0.2413006853410285; -0.25367450660055973 -0.6175459298544886 -0.5064639745357822]), Zonotope{Float64,Array{Float64,1},Array{Float64,2}}([1.4642861540223981, -1.696381416183943], [-0.3982646665324632 0.8152036188190726 0.2413006853410285; -0.25367450660055973 -0.6175459298544886 -0.5064639745357822]))"
      ]
     },
     "execution_count": 10,
     "metadata": {},
     "output_type": "execute_result"
    }
   ],
   "source": [
    "Z1, Z2 = split(Z, 1)"
   ]
  },
  {
   "cell_type": "code",
   "execution_count": 11,
   "metadata": {},
   "outputs": [
    {
     "data": {
      "image/svg+xml": [
       "<?xml version=\"1.0\" encoding=\"utf-8\"?>\n",
       "<svg xmlns=\"http://www.w3.org/2000/svg\" xmlns:xlink=\"http://www.w3.org/1999/xlink\" width=\"600\" height=\"400\" viewBox=\"0 0 2400 1600\">\n",
       "<defs>\n",
       "  <clipPath id=\"clip5100\">\n",
       "    <rect x=\"0\" y=\"0\" width=\"2400\" height=\"1600\"/>\n",
       "  </clipPath>\n",
       "</defs>\n",
       "<path clip-path=\"url(#clip5100)\" d=\"\n",
       "M0 1600 L2400 1600 L2400 0 L0 0  Z\n",
       "  \" fill=\"#ffffff\" fill-rule=\"evenodd\" fill-opacity=\"1\"/>\n",
       "<defs>\n",
       "  <clipPath id=\"clip5101\">\n",
       "    <rect x=\"480\" y=\"0\" width=\"1681\" height=\"1600\"/>\n",
       "  </clipPath>\n",
       "</defs>\n",
       "<path clip-path=\"url(#clip5100)\" d=\"\n",
       "M141.865 1487.47 L2352.76 1487.47 L2352.76 47.2441 L141.865 47.2441  Z\n",
       "  \" fill=\"#ffffff\" fill-rule=\"evenodd\" fill-opacity=\"1\"/>\n",
       "<defs>\n",
       "  <clipPath id=\"clip5102\">\n",
       "    <rect x=\"141\" y=\"47\" width=\"2212\" height=\"1441\"/>\n",
       "  </clipPath>\n",
       "</defs>\n",
       "<polyline clip-path=\"url(#clip5102)\" style=\"stroke:#000000; stroke-width:2; stroke-opacity:0.1; fill:none\" points=\"\n",
       "  199.081,1487.47 199.081,47.2441 \n",
       "  \"/>\n",
       "<polyline clip-path=\"url(#clip5102)\" style=\"stroke:#000000; stroke-width:2; stroke-opacity:0.1; fill:none\" points=\"\n",
       "  761.873,1487.47 761.873,47.2441 \n",
       "  \"/>\n",
       "<polyline clip-path=\"url(#clip5102)\" style=\"stroke:#000000; stroke-width:2; stroke-opacity:0.1; fill:none\" points=\"\n",
       "  1324.67,1487.47 1324.67,47.2441 \n",
       "  \"/>\n",
       "<polyline clip-path=\"url(#clip5102)\" style=\"stroke:#000000; stroke-width:2; stroke-opacity:0.1; fill:none\" points=\"\n",
       "  1887.46,1487.47 1887.46,47.2441 \n",
       "  \"/>\n",
       "<polyline clip-path=\"url(#clip5102)\" style=\"stroke:#000000; stroke-width:2; stroke-opacity:0.1; fill:none\" points=\"\n",
       "  141.865,1415.87 2352.76,1415.87 \n",
       "  \"/>\n",
       "<polyline clip-path=\"url(#clip5102)\" style=\"stroke:#000000; stroke-width:2; stroke-opacity:0.1; fill:none\" points=\"\n",
       "  141.865,999.435 2352.76,999.435 \n",
       "  \"/>\n",
       "<polyline clip-path=\"url(#clip5102)\" style=\"stroke:#000000; stroke-width:2; stroke-opacity:0.1; fill:none\" points=\"\n",
       "  141.865,583.001 2352.76,583.001 \n",
       "  \"/>\n",
       "<polyline clip-path=\"url(#clip5102)\" style=\"stroke:#000000; stroke-width:2; stroke-opacity:0.1; fill:none\" points=\"\n",
       "  141.865,166.567 2352.76,166.567 \n",
       "  \"/>\n",
       "<polyline clip-path=\"url(#clip5100)\" style=\"stroke:#000000; stroke-width:4; stroke-opacity:1; fill:none\" points=\"\n",
       "  141.865,1487.47 2352.76,1487.47 \n",
       "  \"/>\n",
       "<polyline clip-path=\"url(#clip5100)\" style=\"stroke:#000000; stroke-width:4; stroke-opacity:1; fill:none\" points=\"\n",
       "  141.865,1487.47 141.865,47.2441 \n",
       "  \"/>\n",
       "<polyline clip-path=\"url(#clip5100)\" style=\"stroke:#000000; stroke-width:4; stroke-opacity:1; fill:none\" points=\"\n",
       "  199.081,1487.47 199.081,1470.19 \n",
       "  \"/>\n",
       "<polyline clip-path=\"url(#clip5100)\" style=\"stroke:#000000; stroke-width:4; stroke-opacity:1; fill:none\" points=\"\n",
       "  761.873,1487.47 761.873,1470.19 \n",
       "  \"/>\n",
       "<polyline clip-path=\"url(#clip5100)\" style=\"stroke:#000000; stroke-width:4; stroke-opacity:1; fill:none\" points=\"\n",
       "  1324.67,1487.47 1324.67,1470.19 \n",
       "  \"/>\n",
       "<polyline clip-path=\"url(#clip5100)\" style=\"stroke:#000000; stroke-width:4; stroke-opacity:1; fill:none\" points=\"\n",
       "  1887.46,1487.47 1887.46,1470.19 \n",
       "  \"/>\n",
       "<polyline clip-path=\"url(#clip5100)\" style=\"stroke:#000000; stroke-width:4; stroke-opacity:1; fill:none\" points=\"\n",
       "  141.865,1415.87 168.395,1415.87 \n",
       "  \"/>\n",
       "<polyline clip-path=\"url(#clip5100)\" style=\"stroke:#000000; stroke-width:4; stroke-opacity:1; fill:none\" points=\"\n",
       "  141.865,999.435 168.395,999.435 \n",
       "  \"/>\n",
       "<polyline clip-path=\"url(#clip5100)\" style=\"stroke:#000000; stroke-width:4; stroke-opacity:1; fill:none\" points=\"\n",
       "  141.865,583.001 168.395,583.001 \n",
       "  \"/>\n",
       "<polyline clip-path=\"url(#clip5100)\" style=\"stroke:#000000; stroke-width:4; stroke-opacity:1; fill:none\" points=\"\n",
       "  141.865,166.567 168.395,166.567 \n",
       "  \"/>\n",
       "<g clip-path=\"url(#clip5100)\">\n",
       "<text style=\"fill:#000000; fill-opacity:1; font-family:Arial,Helvetica Neue,Helvetica,sans-serif; font-size:48px; text-anchor:middle;\" transform=\"rotate(0, 199.081, 1541.47)\" x=\"199.081\" y=\"1541.47\">0</text>\n",
       "</g>\n",
       "<g clip-path=\"url(#clip5100)\">\n",
       "<text style=\"fill:#000000; fill-opacity:1; font-family:Arial,Helvetica Neue,Helvetica,sans-serif; font-size:48px; text-anchor:middle;\" transform=\"rotate(0, 761.873, 1541.47)\" x=\"761.873\" y=\"1541.47\">1</text>\n",
       "</g>\n",
       "<g clip-path=\"url(#clip5100)\">\n",
       "<text style=\"fill:#000000; fill-opacity:1; font-family:Arial,Helvetica Neue,Helvetica,sans-serif; font-size:48px; text-anchor:middle;\" transform=\"rotate(0, 1324.67, 1541.47)\" x=\"1324.67\" y=\"1541.47\">2</text>\n",
       "</g>\n",
       "<g clip-path=\"url(#clip5100)\">\n",
       "<text style=\"fill:#000000; fill-opacity:1; font-family:Arial,Helvetica Neue,Helvetica,sans-serif; font-size:48px; text-anchor:middle;\" transform=\"rotate(0, 1887.46, 1541.47)\" x=\"1887.46\" y=\"1541.47\">3</text>\n",
       "</g>\n",
       "<g clip-path=\"url(#clip5100)\">\n",
       "<text style=\"fill:#000000; fill-opacity:1; font-family:Arial,Helvetica Neue,Helvetica,sans-serif; font-size:48px; text-anchor:end;\" transform=\"rotate(0, 117.865, 1433.37)\" x=\"117.865\" y=\"1433.37\">-3</text>\n",
       "</g>\n",
       "<g clip-path=\"url(#clip5100)\">\n",
       "<text style=\"fill:#000000; fill-opacity:1; font-family:Arial,Helvetica Neue,Helvetica,sans-serif; font-size:48px; text-anchor:end;\" transform=\"rotate(0, 117.865, 1016.94)\" x=\"117.865\" y=\"1016.94\">-2</text>\n",
       "</g>\n",
       "<g clip-path=\"url(#clip5100)\">\n",
       "<text style=\"fill:#000000; fill-opacity:1; font-family:Arial,Helvetica Neue,Helvetica,sans-serif; font-size:48px; text-anchor:end;\" transform=\"rotate(0, 117.865, 600.501)\" x=\"117.865\" y=\"600.501\">-1</text>\n",
       "</g>\n",
       "<g clip-path=\"url(#clip5100)\">\n",
       "<text style=\"fill:#000000; fill-opacity:1; font-family:Arial,Helvetica Neue,Helvetica,sans-serif; font-size:48px; text-anchor:end;\" transform=\"rotate(0, 117.865, 184.067)\" x=\"117.865\" y=\"184.067\">0</text>\n",
       "</g>\n",
       "<path clip-path=\"url(#clip5102)\" d=\"\n",
       "M204.437 510.561 L476.041 932.379 L1393.62 1446.71 L2290.18 1024.16 L2018.58 602.34 L1101 88.0053 L204.437 510.561 L204.437 510.561  Z\n",
       "  \" fill=\"#009af9\" fill-rule=\"evenodd\" fill-opacity=\"0.5\"/>\n",
       "<polyline clip-path=\"url(#clip5102)\" style=\"stroke:#000000; stroke-width:4; stroke-opacity:0.5; fill:none\" points=\"\n",
       "  204.437,510.561 476.041,932.379 1393.62,1446.71 2290.18,1024.16 2018.58,602.34 1101,88.0053 204.437,510.561 \n",
       "  \"/>\n",
       "<path clip-path=\"url(#clip5102)\" d=\"\n",
       "M652.718 299.283 L924.322 721.101 L1841.9 1235.44 L2290.18 1024.16 L2018.58 602.34 L1101 88.0053 L652.718 299.283 L652.718 299.283  Z\n",
       "  \" fill=\"#e26f46\" fill-rule=\"evenodd\" fill-opacity=\"0.5\"/>\n",
       "<polyline clip-path=\"url(#clip5102)\" style=\"stroke:#000000; stroke-width:4; stroke-opacity:0.5; fill:none\" points=\"\n",
       "  652.718,299.283 924.322,721.101 1841.9,1235.44 2290.18,1024.16 2018.58,602.34 1101,88.0053 652.718,299.283 \n",
       "  \"/>\n",
       "<path clip-path=\"url(#clip5102)\" d=\"\n",
       "M204.437 510.561 L476.041 932.379 L1393.62 1446.71 L1841.9 1235.44 L1570.3 813.618 L652.718 299.283 L204.437 510.561 L204.437 510.561  Z\n",
       "  \" fill=\"#3da44d\" fill-rule=\"evenodd\" fill-opacity=\"0.5\"/>\n",
       "<polyline clip-path=\"url(#clip5102)\" style=\"stroke:#000000; stroke-width:4; stroke-opacity:0.5; fill:none\" points=\"\n",
       "  204.437,510.561 476.041,932.379 1393.62,1446.71 1841.9,1235.44 1570.3,813.618 652.718,299.283 204.437,510.561 \n",
       "  \"/>\n",
       "</svg>\n"
      ]
     },
     "execution_count": 11,
     "metadata": {},
     "output_type": "execute_result"
    }
   ],
   "source": [
    "plot!(Z1)\n",
    "plot!(Z2)"
   ]
  },
  {
   "cell_type": "code",
   "execution_count": 18,
   "metadata": {},
   "outputs": [
    {
     "data": {
      "text/plain": [
       "(Zonotope{Float64,Array{Float64,1},Array{Float64,2}}([2.2608154870873243, -1.1890324029828236], [-0.3982646665324632 0.8152036188190726 0.2413006853410285; -0.25367450660055973 -0.6175459298544886 -0.5064639745357822]), Zonotope{Float64,Array{Float64,1},Array{Float64,2}}([1.4642861540223981, -1.696381416183943], [-0.3982646665324632 0.8152036188190726 0.2413006853410285; -0.25367450660055973 -0.6175459298544886 -0.5064639745357822]))"
      ]
     },
     "execution_count": 18,
     "metadata": {},
     "output_type": "execute_result"
    }
   ],
   "source": [
    "Z1b, Z2b = _split(Z, 1)"
   ]
  },
  {
   "cell_type": "code",
   "execution_count": 19,
   "metadata": {},
   "outputs": [
    {
     "data": {
      "image/svg+xml": [
       "<?xml version=\"1.0\" encoding=\"utf-8\"?>\n",
       "<svg xmlns=\"http://www.w3.org/2000/svg\" xmlns:xlink=\"http://www.w3.org/1999/xlink\" width=\"600\" height=\"400\" viewBox=\"0 0 2400 1600\">\n",
       "<defs>\n",
       "  <clipPath id=\"clip5900\">\n",
       "    <rect x=\"0\" y=\"0\" width=\"2400\" height=\"1600\"/>\n",
       "  </clipPath>\n",
       "</defs>\n",
       "<path clip-path=\"url(#clip5900)\" d=\"\n",
       "M0 1600 L2400 1600 L2400 0 L0 0  Z\n",
       "  \" fill=\"#ffffff\" fill-rule=\"evenodd\" fill-opacity=\"1\"/>\n",
       "<defs>\n",
       "  <clipPath id=\"clip5901\">\n",
       "    <rect x=\"480\" y=\"0\" width=\"1681\" height=\"1600\"/>\n",
       "  </clipPath>\n",
       "</defs>\n",
       "<path clip-path=\"url(#clip5900)\" d=\"\n",
       "M141.865 1487.47 L2352.76 1487.47 L2352.76 47.2441 L141.865 47.2441  Z\n",
       "  \" fill=\"#ffffff\" fill-rule=\"evenodd\" fill-opacity=\"1\"/>\n",
       "<defs>\n",
       "  <clipPath id=\"clip5902\">\n",
       "    <rect x=\"141\" y=\"47\" width=\"2212\" height=\"1441\"/>\n",
       "  </clipPath>\n",
       "</defs>\n",
       "<polyline clip-path=\"url(#clip5902)\" style=\"stroke:#000000; stroke-width:2; stroke-opacity:0.1; fill:none\" points=\"\n",
       "  199.081,1487.47 199.081,47.2441 \n",
       "  \"/>\n",
       "<polyline clip-path=\"url(#clip5902)\" style=\"stroke:#000000; stroke-width:2; stroke-opacity:0.1; fill:none\" points=\"\n",
       "  761.873,1487.47 761.873,47.2441 \n",
       "  \"/>\n",
       "<polyline clip-path=\"url(#clip5902)\" style=\"stroke:#000000; stroke-width:2; stroke-opacity:0.1; fill:none\" points=\"\n",
       "  1324.67,1487.47 1324.67,47.2441 \n",
       "  \"/>\n",
       "<polyline clip-path=\"url(#clip5902)\" style=\"stroke:#000000; stroke-width:2; stroke-opacity:0.1; fill:none\" points=\"\n",
       "  1887.46,1487.47 1887.46,47.2441 \n",
       "  \"/>\n",
       "<polyline clip-path=\"url(#clip5902)\" style=\"stroke:#000000; stroke-width:2; stroke-opacity:0.1; fill:none\" points=\"\n",
       "  141.865,1415.87 2352.76,1415.87 \n",
       "  \"/>\n",
       "<polyline clip-path=\"url(#clip5902)\" style=\"stroke:#000000; stroke-width:2; stroke-opacity:0.1; fill:none\" points=\"\n",
       "  141.865,999.435 2352.76,999.435 \n",
       "  \"/>\n",
       "<polyline clip-path=\"url(#clip5902)\" style=\"stroke:#000000; stroke-width:2; stroke-opacity:0.1; fill:none\" points=\"\n",
       "  141.865,583.001 2352.76,583.001 \n",
       "  \"/>\n",
       "<polyline clip-path=\"url(#clip5902)\" style=\"stroke:#000000; stroke-width:2; stroke-opacity:0.1; fill:none\" points=\"\n",
       "  141.865,166.567 2352.76,166.567 \n",
       "  \"/>\n",
       "<polyline clip-path=\"url(#clip5900)\" style=\"stroke:#000000; stroke-width:4; stroke-opacity:1; fill:none\" points=\"\n",
       "  141.865,1487.47 2352.76,1487.47 \n",
       "  \"/>\n",
       "<polyline clip-path=\"url(#clip5900)\" style=\"stroke:#000000; stroke-width:4; stroke-opacity:1; fill:none\" points=\"\n",
       "  141.865,1487.47 141.865,47.2441 \n",
       "  \"/>\n",
       "<polyline clip-path=\"url(#clip5900)\" style=\"stroke:#000000; stroke-width:4; stroke-opacity:1; fill:none\" points=\"\n",
       "  199.081,1487.47 199.081,1470.19 \n",
       "  \"/>\n",
       "<polyline clip-path=\"url(#clip5900)\" style=\"stroke:#000000; stroke-width:4; stroke-opacity:1; fill:none\" points=\"\n",
       "  761.873,1487.47 761.873,1470.19 \n",
       "  \"/>\n",
       "<polyline clip-path=\"url(#clip5900)\" style=\"stroke:#000000; stroke-width:4; stroke-opacity:1; fill:none\" points=\"\n",
       "  1324.67,1487.47 1324.67,1470.19 \n",
       "  \"/>\n",
       "<polyline clip-path=\"url(#clip5900)\" style=\"stroke:#000000; stroke-width:4; stroke-opacity:1; fill:none\" points=\"\n",
       "  1887.46,1487.47 1887.46,1470.19 \n",
       "  \"/>\n",
       "<polyline clip-path=\"url(#clip5900)\" style=\"stroke:#000000; stroke-width:4; stroke-opacity:1; fill:none\" points=\"\n",
       "  141.865,1415.87 168.395,1415.87 \n",
       "  \"/>\n",
       "<polyline clip-path=\"url(#clip5900)\" style=\"stroke:#000000; stroke-width:4; stroke-opacity:1; fill:none\" points=\"\n",
       "  141.865,999.435 168.395,999.435 \n",
       "  \"/>\n",
       "<polyline clip-path=\"url(#clip5900)\" style=\"stroke:#000000; stroke-width:4; stroke-opacity:1; fill:none\" points=\"\n",
       "  141.865,583.001 168.395,583.001 \n",
       "  \"/>\n",
       "<polyline clip-path=\"url(#clip5900)\" style=\"stroke:#000000; stroke-width:4; stroke-opacity:1; fill:none\" points=\"\n",
       "  141.865,166.567 168.395,166.567 \n",
       "  \"/>\n",
       "<g clip-path=\"url(#clip5900)\">\n",
       "<text style=\"fill:#000000; fill-opacity:1; font-family:Arial,Helvetica Neue,Helvetica,sans-serif; font-size:48px; text-anchor:middle;\" transform=\"rotate(0, 199.081, 1541.47)\" x=\"199.081\" y=\"1541.47\">0</text>\n",
       "</g>\n",
       "<g clip-path=\"url(#clip5900)\">\n",
       "<text style=\"fill:#000000; fill-opacity:1; font-family:Arial,Helvetica Neue,Helvetica,sans-serif; font-size:48px; text-anchor:middle;\" transform=\"rotate(0, 761.873, 1541.47)\" x=\"761.873\" y=\"1541.47\">1</text>\n",
       "</g>\n",
       "<g clip-path=\"url(#clip5900)\">\n",
       "<text style=\"fill:#000000; fill-opacity:1; font-family:Arial,Helvetica Neue,Helvetica,sans-serif; font-size:48px; text-anchor:middle;\" transform=\"rotate(0, 1324.67, 1541.47)\" x=\"1324.67\" y=\"1541.47\">2</text>\n",
       "</g>\n",
       "<g clip-path=\"url(#clip5900)\">\n",
       "<text style=\"fill:#000000; fill-opacity:1; font-family:Arial,Helvetica Neue,Helvetica,sans-serif; font-size:48px; text-anchor:middle;\" transform=\"rotate(0, 1887.46, 1541.47)\" x=\"1887.46\" y=\"1541.47\">3</text>\n",
       "</g>\n",
       "<g clip-path=\"url(#clip5900)\">\n",
       "<text style=\"fill:#000000; fill-opacity:1; font-family:Arial,Helvetica Neue,Helvetica,sans-serif; font-size:48px; text-anchor:end;\" transform=\"rotate(0, 117.865, 1433.37)\" x=\"117.865\" y=\"1433.37\">-3</text>\n",
       "</g>\n",
       "<g clip-path=\"url(#clip5900)\">\n",
       "<text style=\"fill:#000000; fill-opacity:1; font-family:Arial,Helvetica Neue,Helvetica,sans-serif; font-size:48px; text-anchor:end;\" transform=\"rotate(0, 117.865, 1016.94)\" x=\"117.865\" y=\"1016.94\">-2</text>\n",
       "</g>\n",
       "<g clip-path=\"url(#clip5900)\">\n",
       "<text style=\"fill:#000000; fill-opacity:1; font-family:Arial,Helvetica Neue,Helvetica,sans-serif; font-size:48px; text-anchor:end;\" transform=\"rotate(0, 117.865, 600.501)\" x=\"117.865\" y=\"600.501\">-1</text>\n",
       "</g>\n",
       "<g clip-path=\"url(#clip5900)\">\n",
       "<text style=\"fill:#000000; fill-opacity:1; font-family:Arial,Helvetica Neue,Helvetica,sans-serif; font-size:48px; text-anchor:end;\" transform=\"rotate(0, 117.865, 184.067)\" x=\"117.865\" y=\"184.067\">0</text>\n",
       "</g>\n",
       "<path clip-path=\"url(#clip5902)\" d=\"\n",
       "M204.437 510.561 L476.041 932.379 L1393.62 1446.71 L2290.18 1024.16 L2018.58 602.34 L1101 88.0053 L204.437 510.561 L204.437 510.561  Z\n",
       "  \" fill=\"#009af9\" fill-rule=\"evenodd\" fill-opacity=\"0.5\"/>\n",
       "<polyline clip-path=\"url(#clip5902)\" style=\"stroke:#000000; stroke-width:4; stroke-opacity:0.5; fill:none\" points=\"\n",
       "  204.437,510.561 476.041,932.379 1393.62,1446.71 2290.18,1024.16 2018.58,602.34 1101,88.0053 204.437,510.561 \n",
       "  \"/>\n",
       "<path clip-path=\"url(#clip5902)\" d=\"\n",
       "M652.718 299.283 L924.322 721.101 L1841.9 1235.44 L2290.18 1024.16 L2018.58 602.34 L1101 88.0053 L652.718 299.283 L652.718 299.283  Z\n",
       "  \" fill=\"#e26f46\" fill-rule=\"evenodd\" fill-opacity=\"0.5\"/>\n",
       "<polyline clip-path=\"url(#clip5902)\" style=\"stroke:#000000; stroke-width:4; stroke-opacity:0.5; fill:none\" points=\"\n",
       "  652.718,299.283 924.322,721.101 1841.9,1235.44 2290.18,1024.16 2018.58,602.34 1101,88.0053 652.718,299.283 \n",
       "  \"/>\n",
       "<path clip-path=\"url(#clip5902)\" d=\"\n",
       "M204.437 510.561 L476.041 932.379 L1393.62 1446.71 L1841.9 1235.44 L1570.3 813.618 L652.718 299.283 L204.437 510.561 L204.437 510.561  Z\n",
       "  \" fill=\"#3da44d\" fill-rule=\"evenodd\" fill-opacity=\"0.5\"/>\n",
       "<polyline clip-path=\"url(#clip5902)\" style=\"stroke:#000000; stroke-width:4; stroke-opacity:0.5; fill:none\" points=\"\n",
       "  204.437,510.561 476.041,932.379 1393.62,1446.71 1841.9,1235.44 1570.3,813.618 652.718,299.283 204.437,510.561 \n",
       "  \"/>\n",
       "<path clip-path=\"url(#clip5902)\" d=\"\n",
       "M652.718 299.283 L924.322 721.101 L1841.9 1235.44 L2290.18 1024.16 L2018.58 602.34 L1101 88.0053 L652.718 299.283 L652.718 299.283  Z\n",
       "  \" fill=\"#c271d2\" fill-rule=\"evenodd\" fill-opacity=\"0.5\"/>\n",
       "<polyline clip-path=\"url(#clip5902)\" style=\"stroke:#000000; stroke-width:4; stroke-opacity:0.5; fill:none\" points=\"\n",
       "  652.718,299.283 924.322,721.101 1841.9,1235.44 2290.18,1024.16 2018.58,602.34 1101,88.0053 652.718,299.283 \n",
       "  \"/>\n",
       "<path clip-path=\"url(#clip5902)\" d=\"\n",
       "M204.437 510.561 L476.041 932.379 L1393.62 1446.71 L1841.9 1235.44 L1570.3 813.618 L652.718 299.283 L204.437 510.561 L204.437 510.561  Z\n",
       "  \" fill=\"#ac8d18\" fill-rule=\"evenodd\" fill-opacity=\"0.5\"/>\n",
       "<polyline clip-path=\"url(#clip5902)\" style=\"stroke:#000000; stroke-width:4; stroke-opacity:0.5; fill:none\" points=\"\n",
       "  204.437,510.561 476.041,932.379 1393.62,1446.71 1841.9,1235.44 1570.3,813.618 652.718,299.283 204.437,510.561 \n",
       "  \"/>\n",
       "<path clip-path=\"url(#clip5902)\" d=\"\n",
       "M652.718 299.283 L924.322 721.101 L1841.9 1235.44 L2290.18 1024.16 L2018.58 602.34 L1101 88.0053 L652.718 299.283 L652.718 299.283  Z\n",
       "  \" fill=\"#00a9ad\" fill-rule=\"evenodd\" fill-opacity=\"0.5\"/>\n",
       "<polyline clip-path=\"url(#clip5902)\" style=\"stroke:#000000; stroke-width:4; stroke-opacity:0.5; fill:none\" points=\"\n",
       "  652.718,299.283 924.322,721.101 1841.9,1235.44 2290.18,1024.16 2018.58,602.34 1101,88.0053 652.718,299.283 \n",
       "  \"/>\n",
       "<path clip-path=\"url(#clip5902)\" d=\"\n",
       "M204.437 510.561 L476.041 932.379 L1393.62 1446.71 L1841.9 1235.44 L1570.3 813.618 L652.718 299.283 L204.437 510.561 L204.437 510.561  Z\n",
       "  \" fill=\"#ed5d92\" fill-rule=\"evenodd\" fill-opacity=\"0.5\"/>\n",
       "<polyline clip-path=\"url(#clip5902)\" style=\"stroke:#000000; stroke-width:4; stroke-opacity:0.5; fill:none\" points=\"\n",
       "  204.437,510.561 476.041,932.379 1393.62,1446.71 1841.9,1235.44 1570.3,813.618 652.718,299.283 204.437,510.561 \n",
       "  \"/>\n",
       "</svg>\n"
      ]
     },
     "execution_count": 19,
     "metadata": {},
     "output_type": "execute_result"
    }
   ],
   "source": [
    "plot!(Z1b)\n",
    "plot!(Z2b)"
   ]
  },
  {
   "cell_type": "code",
   "execution_count": 20,
   "metadata": {},
   "outputs": [
    {
     "name": "stdout",
     "output_type": "stream",
     "text": [
      "  191.321 ns (9 allocations: 736 bytes)\n"
     ]
    },
    {
     "data": {
      "text/plain": [
       "(Zonotope{Float64,Array{Float64,1},Array{Float64,2}}([2.2608154870873243, -1.1890324029828236], [-0.3982646665324632 0.8152036188190726 0.2413006853410285; -0.25367450660055973 -0.6175459298544886 -0.5064639745357822]), Zonotope{Float64,Array{Float64,1},Array{Float64,2}}([1.4642861540223981, -1.696381416183943], [-0.3982646665324632 0.8152036188190726 0.2413006853410285; -0.25367450660055973 -0.6175459298544886 -0.5064639745357822]))"
      ]
     },
     "execution_count": 20,
     "metadata": {},
     "output_type": "execute_result"
    }
   ],
   "source": [
    "@btime split($Z, 1)"
   ]
  },
  {
   "cell_type": "code",
   "execution_count": 39,
   "metadata": {},
   "outputs": [
    {
     "name": "stdout",
     "output_type": "stream",
     "text": [
      "  123.943 ns (7 allocations: 544 bytes)\n"
     ]
    },
    {
     "data": {
      "text/plain": [
       "(Zonotope{Float64,Array{Float64,1},Array{Float64,2}}([2.2608154870873243, -1.1890324029828236], [-0.3982646665324632 0.8152036188190726 0.2413006853410285; -0.25367450660055973 -0.6175459298544886 -0.5064639745357822]), Zonotope{Float64,Array{Float64,1},Array{Float64,2}}([1.4642861540223981, -1.696381416183943], [-0.7965293330649263 0.8152036188190726 0.2413006853410285; -0.5073490132011195 -0.6175459298544886 -0.5064639745357822]))"
      ]
     },
     "execution_count": 39,
     "metadata": {},
     "output_type": "execute_result"
    }
   ],
   "source": [
    "@btime _split2($Z, 1) # without using copy"
   ]
  },
  {
   "cell_type": "code",
   "execution_count": 43,
   "metadata": {},
   "outputs": [
    {
     "name": "stdout",
     "output_type": "stream",
     "text": [
      "  119.057 ns (7 allocations: 544 bytes)\n"
     ]
    },
    {
     "data": {
      "text/plain": [
       "(Zonotope{Float64,Array{Float64,1},Array{Float64,2}}([2.2608154870873243, -1.1890324029828236], [-0.3982646665324632 0.8152036188190726 0.2413006853410285; -0.25367450660055973 -0.6175459298544886 -0.5064639745357822]), Zonotope{Float64,Array{Float64,1},Array{Float64,2}}([1.4642861540223981, -1.696381416183943], [-0.7965293330649263 0.8152036188190726 0.2413006853410285; -0.5073490132011195 -0.6175459298544886 -0.5064639745357822]))"
      ]
     },
     "execution_count": 43,
     "metadata": {},
     "output_type": "execute_result"
    }
   ],
   "source": [
    "@btime _split2($Z, 1) # using copy"
   ]
  },
  {
   "cell_type": "code",
   "execution_count": 38,
   "metadata": {},
   "outputs": [
    {
     "data": {
      "text/plain": [
       "(Zonotope{Float64,Array{Float64,1},Array{Float64,2}}([2.2608154870873243, -1.1890324029828236], [-0.3982646665324632 0.8152036188190726 0.2413006853410285; -0.25367450660055973 -0.6175459298544886 -0.5064639745357822]), Zonotope{Float64,Array{Float64,1},Array{Float64,2}}([1.4642861540223981, -1.696381416183943], [-0.7965293330649263 0.8152036188190726 0.2413006853410285; -0.5073490132011195 -0.6175459298544886 -0.5064639745357822]))"
      ]
     },
     "execution_count": 38,
     "metadata": {},
     "output_type": "execute_result"
    }
   ],
   "source": [
    "_split2(Z, 1)"
   ]
  },
  {
   "cell_type": "code",
   "execution_count": 27,
   "metadata": {},
   "outputs": [
    {
     "data": {
      "text/plain": [
       "(Zonotope{Float64,Array{Float64,1},Array{Float64,2}}([2.2608154870873243, -1.1890324029828236], [-0.3982646665324632 0.8152036188190726 0.2413006853410285; -0.25367450660055973 -0.6175459298544886 -0.5064639745357822]), Zonotope{Float64,Array{Float64,1},Array{Float64,2}}([1.4642861540223981, -1.696381416183943], [-0.3982646665324632 0.8152036188190726 0.2413006853410285; -0.25367450660055973 -0.6175459298544886 -0.5064639745357822]))"
      ]
     },
     "execution_count": 27,
     "metadata": {},
     "output_type": "execute_result"
    }
   ],
   "source": [
    "a, b = split(Z, 1)"
   ]
  },
  {
   "cell_type": "code",
   "execution_count": 28,
   "metadata": {},
   "outputs": [
    {
     "data": {
      "text/plain": [
       "2-element Array{Float64,1}:\n",
       "  2.2608154870873243\n",
       " -1.1890324029828236"
      ]
     },
     "execution_count": 28,
     "metadata": {},
     "output_type": "execute_result"
    }
   ],
   "source": [
    "a.center"
   ]
  },
  {
   "cell_type": "code",
   "execution_count": 29,
   "metadata": {},
   "outputs": [
    {
     "data": {
      "text/plain": [
       "2-element Array{Float64,1}:\n",
       "  1.4642861540223981\n",
       " -1.696381416183943"
      ]
     },
     "execution_count": 29,
     "metadata": {},
     "output_type": "execute_result"
    }
   ],
   "source": [
    "b.center"
   ]
  },
  {
   "cell_type": "code",
   "execution_count": 30,
   "metadata": {},
   "outputs": [
    {
     "data": {
      "text/plain": [
       "(Zonotope{Float64,Array{Float64,1},Array{Float64,2}}([2.2608154870873243, -1.1890324029828236], [-0.3982646665324632 0.8152036188190726 0.2413006853410285; -0.25367450660055973 -0.6175459298544886 -0.5064639745357822]), Zonotope{Float64,Array{Float64,1},Array{Float64,2}}([1.4642861540223981, -1.696381416183943], [-0.3982646665324632 0.8152036188190726 0.2413006853410285; -0.25367450660055973 -0.6175459298544886 -0.5064639745357822]))"
      ]
     },
     "execution_count": 30,
     "metadata": {},
     "output_type": "execute_result"
    }
   ],
   "source": [
    "c, d = _split(Z, 1)"
   ]
  },
  {
   "cell_type": "code",
   "execution_count": 31,
   "metadata": {},
   "outputs": [
    {
     "data": {
      "text/plain": [
       "2-element Array{Float64,1}:\n",
       "  2.2608154870873243\n",
       " -1.1890324029828236"
      ]
     },
     "execution_count": 31,
     "metadata": {},
     "output_type": "execute_result"
    }
   ],
   "source": [
    "c.center"
   ]
  },
  {
   "cell_type": "code",
   "execution_count": 32,
   "metadata": {},
   "outputs": [
    {
     "data": {
      "text/plain": [
       "2-element Array{Float64,1}:\n",
       "  1.4642861540223981\n",
       " -1.696381416183943"
      ]
     },
     "execution_count": 32,
     "metadata": {},
     "output_type": "execute_result"
    }
   ],
   "source": [
    "d.center"
   ]
  },
  {
   "cell_type": "code",
   "execution_count": 33,
   "metadata": {},
   "outputs": [
    {
     "data": {
      "text/plain": [
       "2×3 Array{Float64,2}:\n",
       " -0.398265   0.815204   0.241301\n",
       " -0.253675  -0.617546  -0.506464"
      ]
     },
     "execution_count": 33,
     "metadata": {},
     "output_type": "execute_result"
    }
   ],
   "source": [
    "a.generators"
   ]
  },
  {
   "cell_type": "code",
   "execution_count": 34,
   "metadata": {},
   "outputs": [
    {
     "data": {
      "text/plain": [
       "2×3 Array{Float64,2}:\n",
       " -0.398265   0.815204   0.241301\n",
       " -0.253675  -0.617546  -0.506464"
      ]
     },
     "execution_count": 34,
     "metadata": {},
     "output_type": "execute_result"
    }
   ],
   "source": [
    "b.generators"
   ]
  },
  {
   "cell_type": "code",
   "execution_count": 35,
   "metadata": {},
   "outputs": [
    {
     "data": {
      "text/plain": [
       "2×3 Array{Float64,2}:\n",
       " -0.398265   0.815204   0.241301\n",
       " -0.253675  -0.617546  -0.506464"
      ]
     },
     "execution_count": 35,
     "metadata": {},
     "output_type": "execute_result"
    }
   ],
   "source": [
    "c.generators"
   ]
  },
  {
   "cell_type": "code",
   "execution_count": 36,
   "metadata": {},
   "outputs": [
    {
     "data": {
      "text/plain": [
       "2×3 Array{Float64,2}:\n",
       " -0.398265   0.815204   0.241301\n",
       " -0.253675  -0.617546  -0.506464"
      ]
     },
     "execution_count": 36,
     "metadata": {},
     "output_type": "execute_result"
    }
   ],
   "source": [
    "d.generators"
   ]
  },
  {
   "cell_type": "code",
   "execution_count": 66,
   "metadata": {},
   "outputs": [],
   "source": [
    "Z = rand(Zonotope, dim=10, num_generators=50);"
   ]
  },
  {
   "cell_type": "code",
   "execution_count": 67,
   "metadata": {},
   "outputs": [
    {
     "name": "stdout",
     "output_type": "stream",
     "text": [
      "  916.000 ns (9 allocations: 8.84 KiB)\n"
     ]
    }
   ],
   "source": [
    "@btime split($Z, 20);"
   ]
  },
  {
   "cell_type": "code",
   "execution_count": 68,
   "metadata": {},
   "outputs": [
    {
     "name": "stdout",
     "output_type": "stream",
     "text": [
      "  836.606 ns (7 allocations: 8.53 KiB)\n"
     ]
    }
   ],
   "source": [
    "@btime _split2($Z, 20);"
   ]
  },
  {
   "cell_type": "code",
   "execution_count": 49,
   "metadata": {},
   "outputs": [
    {
     "data": {
      "text/plain": [
       "1.1736292428198434"
      ]
     },
     "execution_count": 49,
     "metadata": {},
     "output_type": "execute_result"
    }
   ],
   "source": [
    "899e-9 / 766e-9"
   ]
  },
  {
   "cell_type": "code",
   "execution_count": 50,
   "metadata": {},
   "outputs": [],
   "source": [
    "using StaticArrays"
   ]
  },
  {
   "cell_type": "code",
   "execution_count": 114,
   "metadata": {},
   "outputs": [],
   "source": [
    "Z = rand(Zonotope, dim=10, num_generators=20);"
   ]
  },
  {
   "cell_type": "code",
   "execution_count": 71,
   "metadata": {},
   "outputs": [
    {
     "name": "stdout",
     "output_type": "stream",
     "text": [
      "  192.538 ns (9 allocations: 832 bytes)\n"
     ]
    },
    {
     "data": {
      "text/plain": [
       "(Zonotope{Float64,Array{Float64,1},Array{Float64,2}}([-0.6715637063010158, -0.63038246376673], [-0.3931276226273011 -0.47571927063498815 … 0.8737343172999755 1.7249547028347327; -1.0840392795808225 -1.749646270457784 … 0.3188570531630708 -0.5200168819022156]), Zonotope{Float64,Array{Float64,1},Array{Float64,2}}([0.4339593946415646, -0.1466792812949053], [-0.3931276226273011 -0.47571927063498815 … 0.8737343172999755 1.7249547028347327; -1.0840392795808225 -1.749646270457784 … 0.3188570531630708 -0.5200168819022156]))"
      ]
     },
     "execution_count": 71,
     "metadata": {},
     "output_type": "execute_result"
    }
   ],
   "source": [
    "@btime split($Z, 3)"
   ]
  },
  {
   "cell_type": "code",
   "execution_count": 76,
   "metadata": {},
   "outputs": [
    {
     "data": {
      "text/plain": [
       "2×6 Array{Float64,2}:\n",
       " -0.393128  -0.475719  1.10552   -0.760242  0.873734   1.72495\n",
       " -1.08404   -1.74965   0.483703  -0.812114  0.318857  -0.520017"
      ]
     },
     "execution_count": 76,
     "metadata": {},
     "output_type": "execute_result"
    }
   ],
   "source": [
    "Z.generators"
   ]
  },
  {
   "cell_type": "code",
   "execution_count": 79,
   "metadata": {},
   "outputs": [],
   "source": [
    "Zc_st = SVector{2}(Z.center)\n",
    "Zg_st = SMatrix{2, 6}(Z.generators);"
   ]
  },
  {
   "cell_type": "code",
   "execution_count": 86,
   "metadata": {},
   "outputs": [
    {
     "name": "stdout",
     "output_type": "stream",
     "text": [
      "search: \u001b[0m\u001b[1mS\u001b[22m\u001b[0m\u001b[1mV\u001b[22m\u001b[0m\u001b[1me\u001b[22m\u001b[0m\u001b[1mc\u001b[22m\u001b[0m\u001b[1mt\u001b[22m\u001b[0m\u001b[1mo\u001b[22m\u001b[0m\u001b[1mr\u001b[22m @\u001b[0m\u001b[1mS\u001b[22m\u001b[0m\u001b[1mV\u001b[22m\u001b[0m\u001b[1me\u001b[22m\u001b[0m\u001b[1mc\u001b[22m\u001b[0m\u001b[1mt\u001b[22m\u001b[0m\u001b[1mo\u001b[22m\u001b[0m\u001b[1mr\u001b[22m Den\u001b[0m\u001b[1ms\u001b[22me\u001b[0m\u001b[1mV\u001b[22m\u001b[0m\u001b[1me\u001b[22m\u001b[0m\u001b[1mc\u001b[22m\u001b[0m\u001b[1mt\u001b[22m\u001b[0m\u001b[1mo\u001b[22m\u001b[0m\u001b[1mr\u001b[22m \u001b[0m\u001b[1mS\u001b[22mized\u001b[0m\u001b[1mV\u001b[22m\u001b[0m\u001b[1me\u001b[22m\u001b[0m\u001b[1mc\u001b[22m\u001b[0m\u001b[1mt\u001b[22m\u001b[0m\u001b[1mo\u001b[22m\u001b[0m\u001b[1mr\u001b[22m \u001b[0m\u001b[1mS\u001b[22mtatic\u001b[0m\u001b[1mV\u001b[22m\u001b[0m\u001b[1me\u001b[22m\u001b[0m\u001b[1mc\u001b[22m\u001b[0m\u001b[1mt\u001b[22m\u001b[0m\u001b[1mo\u001b[22m\u001b[0m\u001b[1mr\u001b[22m Ab\u001b[0m\u001b[1ms\u001b[22mtract\u001b[0m\u001b[1mV\u001b[22m\u001b[0m\u001b[1me\u001b[22m\u001b[0m\u001b[1mc\u001b[22m\u001b[0m\u001b[1mt\u001b[22m\u001b[0m\u001b[1mo\u001b[22m\u001b[0m\u001b[1mr\u001b[22m\n",
      "\n"
     ]
    },
    {
     "data": {
      "text/latex": [
       "\\begin{verbatim}\n",
       "SVector{S, T}(x::NTuple{S, T})\n",
       "SVector{S, T}(x1, x2, x3, ...)\n",
       "\\end{verbatim}\n",
       "Construct a statically-sized vector \\texttt{SVector}. Since this type is immutable, the data must be provided upon construction and cannot be mutated later. Constructors may drop the \\texttt{T} and \\texttt{S} parameters if they are inferrable from the input (e.g. \\texttt{SVector(1,2,3)} constructs an \\texttt{SVector\\{3, Int\\}}).\n",
       "\n",
       "\\begin{verbatim}\n",
       "SVector{S}(vec::Vector)\n",
       "\\end{verbatim}\n",
       "Construct a statically-sized vector of length \\texttt{S} using the data from \\texttt{vec}. The parameter \\texttt{S} is mandatory since the length of \\texttt{vec} is unknown to the compiler (the element type may optionally also be specified).\n",
       "\n"
      ],
      "text/markdown": [
       "```\n",
       "SVector{S, T}(x::NTuple{S, T})\n",
       "SVector{S, T}(x1, x2, x3, ...)\n",
       "```\n",
       "\n",
       "Construct a statically-sized vector `SVector`. Since this type is immutable, the data must be provided upon construction and cannot be mutated later. Constructors may drop the `T` and `S` parameters if they are inferrable from the input (e.g. `SVector(1,2,3)` constructs an `SVector{3, Int}`).\n",
       "\n",
       "```\n",
       "SVector{S}(vec::Vector)\n",
       "```\n",
       "\n",
       "Construct a statically-sized vector of length `S` using the data from `vec`. The parameter `S` is mandatory since the length of `vec` is unknown to the compiler (the element type may optionally also be specified).\n"
      ],
      "text/plain": [
       "\u001b[36m  SVector{S, T}(x::NTuple{S, T})\u001b[39m\n",
       "\u001b[36m  SVector{S, T}(x1, x2, x3, ...)\u001b[39m\n",
       "\n",
       "  Construct a statically-sized vector \u001b[36mSVector\u001b[39m. Since this type is immutable,\n",
       "  the data must be provided upon construction and cannot be mutated later.\n",
       "  Constructors may drop the \u001b[36mT\u001b[39m and \u001b[36mS\u001b[39m parameters if they are inferrable from the\n",
       "  input (e.g. \u001b[36mSVector(1,2,3)\u001b[39m constructs an \u001b[36mSVector{3, Int}\u001b[39m).\n",
       "\n",
       "\u001b[36m  SVector{S}(vec::Vector)\u001b[39m\n",
       "\n",
       "  Construct a statically-sized vector of length \u001b[36mS\u001b[39m using the data from \u001b[36mvec\u001b[39m. The\n",
       "  parameter \u001b[36mS\u001b[39m is mandatory since the length of \u001b[36mvec\u001b[39m is unknown to the compiler\n",
       "  (the element type may optionally also be specified)."
      ]
     },
     "execution_count": 86,
     "metadata": {},
     "output_type": "execute_result"
    }
   ],
   "source": [
    "SVector{, T}"
   ]
  },
  {
   "cell_type": "code",
   "execution_count": 81,
   "metadata": {},
   "outputs": [
    {
     "data": {
      "text/plain": [
       "Zonotope{Float64,SArray{Tuple{2},Float64,1,2},SArray{Tuple{2,6},Float64,2,12}}([-0.1188021558297256, -0.38853087253081764], [-0.3931276226273011 -0.47571927063498815 … 0.8737343172999755 1.7249547028347327; -1.0840392795808225 -1.749646270457784 … 0.3188570531630708 -0.5200168819022156])"
      ]
     },
     "execution_count": 81,
     "metadata": {},
     "output_type": "execute_result"
    }
   ],
   "source": [
    "Zst = Zonotope(Zc_st, Zg_st)"
   ]
  },
  {
   "cell_type": "code",
   "execution_count": 96,
   "metadata": {},
   "outputs": [
    {
     "data": {
      "text/plain": [
       "2-element MArray{Tuple{2},Float64,1,2} with indices SOneTo(2):\n",
       " 6.9430480711588e-310\n",
       " 1.1383e-320"
      ]
     },
     "execution_count": 96,
     "metadata": {},
     "output_type": "execute_result"
    }
   ],
   "source": [
    "MVector{2, Float64}(undef)"
   ]
  },
  {
   "cell_type": "code",
   "execution_count": 92,
   "metadata": {},
   "outputs": [
    {
     "ename": "MethodError",
     "evalue": "MethodError: no method matching *(::Int64, ::Type{Float64})\nClosest candidates are:\n  *(::Any, ::Any, !Matched::Any, !Matched::Any...) at operators.jl:529\n  *(!Matched::MutableArithmetics.Zero, ::Any) at /home/mforets/.julia/packages/MutableArithmetics/ZGFsK/src/rewrite.jl:49\n  *(::T, !Matched::T) where T<:Union{Int128, Int16, Int32, Int64, Int8, UInt128, UInt16, UInt32, UInt64, UInt8} at int.jl:54\n  ...",
     "output_type": "error",
     "traceback": [
      "MethodError: no method matching *(::Int64, ::Type{Float64})\nClosest candidates are:\n  *(::Any, ::Any, !Matched::Any, !Matched::Any...) at operators.jl:529\n  *(!Matched::MutableArithmetics.Zero, ::Any) at /home/mforets/.julia/packages/MutableArithmetics/ZGFsK/src/rewrite.jl:49\n  *(::T, !Matched::T) where T<:Union{Int128, Int16, Int32, Int64, Int8, UInt128, UInt16, UInt32, UInt64, UInt8} at int.jl:54\n  ...",
      "",
      "Stacktrace:",
      " [1] #s162#140(::Any, ::Any, ::Any, ::Any, ::Any) at /home/mforets/.julia/packages/StaticArrays/MB5hl/src/MMatrix.jl:48",
      " [2] (::Core.GeneratedFunctionStub)(::Any, ::Vararg{Any,N} where N) at ./boot.jl:526",
      " [3] top-level scope at In[92]:1"
     ]
    }
   ],
   "source": [
    "MMatrix{2, Float64, 2}(undef)"
   ]
  },
  {
   "cell_type": "code",
   "execution_count": 102,
   "metadata": {},
   "outputs": [
    {
     "data": {
      "text/plain": [
       "2×6 MArray{Tuple{2,6},Float64,2,12} with indices SOneTo(2)×SOneTo(6):\n",
       " -0.393128  -0.475719  1.10552   -0.760242  0.873734   1.72495\n",
       " -1.08404   -1.74965   0.483703  -0.812114  0.318857  -0.520017"
      ]
     },
     "execution_count": 102,
     "metadata": {},
     "output_type": "execute_result"
    }
   ],
   "source": [
    "MMatrix{2, 6}(Zst.generators)"
   ]
  },
  {
   "cell_type": "code",
   "execution_count": 83,
   "metadata": {},
   "outputs": [
    {
     "ename": "ErrorException",
     "evalue": "setindex!(::SArray{Tuple{2,6},Float64,2,12}, value, ::Int) is not defined.",
     "output_type": "error",
     "traceback": [
      "setindex!(::SArray{Tuple{2,6},Float64,2,12}, value, ::Int) is not defined.",
      "",
      "Stacktrace:",
      " [1] error(::String) at ./error.jl:33",
      " [2] setindex!(::SArray{Tuple{2,6},Float64,2,12}, ::Float64, ::Int64) at /home/mforets/.julia/packages/StaticArrays/MB5hl/src/indexing.jl:3",
      " [3] macro expansion at /home/mforets/.julia/packages/StaticArrays/MB5hl/src/indexing.jl:65 [inlined]",
      " [4] _setindex!_scalar at /home/mforets/.julia/packages/StaticArrays/MB5hl/src/indexing.jl:46 [inlined]",
      " [5] setindex! at /home/mforets/.julia/packages/StaticArrays/MB5hl/src/indexing.jl:42 [inlined]",
      " [6] _split2(::Zonotope{Float64,SArray{Tuple{2},Float64,1,2},SArray{Tuple{2,6},Float64,2,12}}, ::Int64) at ./In[62]:27",
      " [7] top-level scope at In[83]:1"
     ]
    }
   ],
   "source": [
    "_split3(Zst, 3)"
   ]
  },
  {
   "cell_type": "code",
   "execution_count": 107,
   "metadata": {},
   "outputs": [
    {
     "data": {
      "text/plain": [
       "_split3 (generic function with 2 methods)"
      ]
     },
     "execution_count": 107,
     "metadata": {},
     "output_type": "execute_result"
    }
   ],
   "source": [
    "function _split3(Z::Zonotope{N, SVector{n, N}, <:SMatrix{n, p, N}}, j::Int) where {N, n, p}\n",
    "    @assert 1 <= j <= ngens(Z) \"cannot split a zonotope with $(ngens(Z)) generators along index $j\"\n",
    "    c, G = Z.center, Z.generators\n",
    "\n",
    "    c₁ = MVector{n, N}(undef)\n",
    "    c₂ = MVector{n, N}(undef)\n",
    "    \n",
    "    G₁ = MMatrix{n, p}(G)\n",
    "    G₂ = MMatrix{n, p}(G)\n",
    "\n",
    "    @inbounds for i in 1:n\n",
    "        α = G[i, j] / 2\n",
    "        c₁[i] = c[i] - α\n",
    "        c₂[i] = c[i] + α\n",
    "        G₁[i, j] = α\n",
    "        G₁[i, j] = α\n",
    "    end\n",
    "    \n",
    "    Z₁ = Zonotope(SVector{n}(c₁), SMatrix{n, p}(G₁))\n",
    "    Z₂ = Zonotope(SVector{n}(c₂), SMatrix{n, p}(G₂))\n",
    "    return Z₁, Z₂\n",
    "end"
   ]
  },
  {
   "cell_type": "code",
   "execution_count": 110,
   "metadata": {},
   "outputs": [
    {
     "name": "stdout",
     "output_type": "stream",
     "text": [
      "  13.565 ns (0 allocations: 0 bytes)\n"
     ]
    },
    {
     "data": {
      "text/plain": [
       "(Zonotope{Float64,SArray{Tuple{2},Float64,1,2},SArray{Tuple{2,6},Float64,2,12}}([-0.6715637063010158, -0.63038246376673], [-0.3931276226273011 -0.47571927063498815 … 0.8737343172999755 1.7249547028347327; -1.0840392795808225 -1.749646270457784 … 0.3188570531630708 -0.5200168819022156]), Zonotope{Float64,SArray{Tuple{2},Float64,1,2},SArray{Tuple{2,6},Float64,2,12}}([0.4339593946415646, -0.1466792812949053], [-0.3931276226273011 -0.47571927063498815 … 0.8737343172999755 1.7249547028347327; -1.0840392795808225 -1.749646270457784 … 0.3188570531630708 -0.5200168819022156]))"
      ]
     },
     "execution_count": 110,
     "metadata": {},
     "output_type": "execute_result"
    }
   ],
   "source": [
    "@btime _split3($Zst, 3)"
   ]
  },
  {
   "cell_type": "code",
   "execution_count": 113,
   "metadata": {},
   "outputs": [
    {
     "name": "stdout",
     "output_type": "stream",
     "text": [
      "  120.353 ns (7 allocations: 640 bytes)\n"
     ]
    },
    {
     "data": {
      "text/plain": [
       "(Zonotope{Float64,Array{Float64,1},Array{Float64,2}}([-0.6715637063010158, -0.63038246376673], [-0.3931276226273011 -0.47571927063498815 … 0.8737343172999755 1.7249547028347327; -1.0840392795808225 -1.749646270457784 … 0.3188570531630708 -0.5200168819022156]), Zonotope{Float64,Array{Float64,1},Array{Float64,2}}([0.4339593946415646, -0.1466792812949053], [-0.3931276226273011 -0.47571927063498815 … 0.8737343172999755 1.7249547028347327; -1.0840392795808225 -1.749646270457784 … 0.3188570531630708 -0.5200168819022156]))"
      ]
     },
     "execution_count": 113,
     "metadata": {},
     "output_type": "execute_result"
    }
   ],
   "source": [
    "@btime _split2($Z, 3)"
   ]
  },
  {
   "cell_type": "code",
   "execution_count": 118,
   "metadata": {},
   "outputs": [
    {
     "name": "stdout",
     "output_type": "stream",
     "text": [
      "  853.319 ns (9 allocations: 7.22 KiB)\n",
      "  764.333 ns (7 allocations: 6.91 KiB)\n",
      "  259.137 ns (0 allocations: 0 bytes)\n"
     ]
    },
    {
     "data": {
      "text/plain": [
       "(Zonotope{Float64,SArray{Tuple{10},Float64,1,10},SArray{Tuple{10,40},Float64,2,400}}([-1.4132777071862856, 1.0877036441039296, -0.20543067187739217, 2.4666880347475986, 0.7506960641298065, -0.273532491033142, -0.26681273744212386, 0.7008650171536108, 0.018016179639796126, 0.8575327611516955], [-1.634524694260912 0.955618449593443 … 0.36134978516795246 0.7692741548300117; 0.6164692831666785 1.2452862650892866 … -0.3577327036908993 -1.843983929746041; … ; 0.9912424192898354 0.7096388971628171 … -0.11454592710617333 -0.09198241409713402; -0.2087068200866268 -0.8434426744959838 … -0.5910001784015374 0.49422499726963565]), Zonotope{Float64,SArray{Tuple{10},Float64,1,10},SArray{Tuple{10,40},Float64,2,400}}([-0.6113479006956115, 0.9154224409981726, -1.2774561925308947, 1.1065181045577162, 0.6023257807787171, 0.06820274156661608, 0.7905878397619004, -0.24507327407508483, -0.3484598276298121, 1.1392602231650977], [-1.634524694260912 0.955618449593443 … 0.36134978516795246 0.7692741548300117; 0.6164692831666785 1.2452862650892866 … -0.3577327036908993 -1.843983929746041; … ; 0.9912424192898354 0.7096388971628171 … -0.11454592710617333 -0.09198241409713402; -0.2087068200866268 -0.8434426744959838 … -0.5910001784015374 0.49422499726963565]))"
      ]
     },
     "execution_count": 118,
     "metadata": {},
     "output_type": "execute_result"
    }
   ],
   "source": [
    "Z = rand(Zonotope, dim=10, num_generators=40);\n",
    "\n",
    "@btime split($Z, 20)\n",
    "@btime _split2($Z, 20)\n",
    "\n",
    "Zc_st = SVector{10}(Z.center)\n",
    "Zg_st = SMatrix{10, 40}(Z.generators);\n",
    "Zst = Zonotope(Zc_st, Zg_st)\n",
    "@btime _split3($Zst, 20)"
   ]
  },
  {
   "cell_type": "code",
   "execution_count": 122,
   "metadata": {},
   "outputs": [
    {
     "data": {
      "text/plain": [
       "1"
      ]
     },
     "execution_count": 122,
     "metadata": {},
     "output_type": "execute_result"
    }
   ],
   "source": [
    "1"
   ]
  },
  {
   "cell_type": "code",
   "execution_count": 124,
   "metadata": {},
   "outputs": [
    {
     "data": {
      "text/plain": [
       "10-element SArray{Tuple{10},Float64,1,10} with indices SOneTo(10):\n",
       "  0.6222118903199634\n",
       "  0.3850937593843726\n",
       "  0.676157179837275\n",
       "  0.12973015007919098\n",
       "  1.7327953435775105\n",
       "  1.9580880873055628\n",
       "  0.38837772352642236\n",
       "  0.4322458766829344\n",
       " -1.1564642432848433\n",
       "  1.2071033122450234"
      ]
     },
     "execution_count": 124,
     "metadata": {},
     "output_type": "execute_result"
    }
   ],
   "source": [
    "Zst.center - view(Zst.generators, :, 1)"
   ]
  },
  {
   "cell_type": "code",
   "execution_count": 128,
   "metadata": {},
   "outputs": [
    {
     "data": {
      "text/plain": [
       "_split4 (generic function with 1 method)"
      ]
     },
     "execution_count": 128,
     "metadata": {},
     "output_type": "execute_result"
    }
   ],
   "source": [
    "function _split4(Z::Zonotope{N, SVector{n, N}, <:SMatrix{n, p, N}}, j::Int) where {N, n, p}\n",
    "    @assert 1 <= j <= ngens(Z) \"cannot split a zonotope with $(ngens(Z)) generators along index $j\"\n",
    "    c, G = Z.center, Z.generators\n",
    "\n",
    "    c₁ = c - view(G, :, j)\n",
    "    c₂ = c + view(G, :, j)\n",
    "\n",
    "    G₁ = MMatrix{n, p}(G)\n",
    "    G₂ = MMatrix{n, p}(G)\n",
    "\n",
    "    @inbounds for i in 1:n\n",
    "        α = G[i, j] / 2\n",
    "        G₁[i, j] = α\n",
    "        G₁[i, j] = α\n",
    "    end\n",
    "    \n",
    "    Z₁ = Zonotope(c₁, SMatrix{n, p}(G₁))\n",
    "    Z₂ = Zonotope(c₂, SMatrix{n, p}(G₂))\n",
    "    return Z₁, Z₂\n",
    "end"
   ]
  },
  {
   "cell_type": "code",
   "execution_count": 129,
   "metadata": {},
   "outputs": [
    {
     "name": "stdout",
     "output_type": "stream",
     "text": [
      "  882.652 ns (9 allocations: 7.22 KiB)\n",
      "  869.583 ns (7 allocations: 6.91 KiB)\n",
      "  292.969 ns (0 allocations: 0 bytes)\n",
      "  290.136 ns (0 allocations: 0 bytes)\n"
     ]
    },
    {
     "data": {
      "text/plain": [
       "(Zonotope{Float64,SArray{Tuple{10},Float64,1,10},SArray{Tuple{10,40},Float64,2,400}}([0.8396244142815961, 1.7566442761715673, 0.10214418276215409, -2.5857661073706706, -2.1523539675275094, 0.746781107313911, 0.5505893619914646, 0.7822309533001686, 1.7318184342946608, -2.676096512067583], [-0.16256792969690972 1.2755227171464036 … -0.6974074016630616 -0.32945799584655383; -2.137058008363168 -1.4291500366474206 … 0.11529028991121176 -0.002481074610032895; … ; 1.1803051525571773 1.2170595309714243 … -1.0681276275171074 1.5161779440118301; -0.8321639221676876 0.7846285314362006 … -1.6522198008633835 1.4973235577229533]), Zonotope{Float64,SArray{Tuple{10},Float64,1,10},SArray{Tuple{10,40},Float64,2,400}}([-1.0538412243067936, 2.9598760285995107, -2.251953644515668, 0.24060208976065356, -0.8378229767110981, -0.6046508956107555, 0.3094413522624316, -0.25185236579755704, 1.8150004135248334, 1.1898144479100559], [-0.16256792969690972 1.2755227171464036 … -0.6974074016630616 -0.32945799584655383; -2.137058008363168 -1.4291500366474206 … 0.11529028991121176 -0.002481074610032895; … ; 1.1803051525571773 1.2170595309714243 … -1.0681276275171074 1.5161779440118301; -0.8321639221676876 0.7846285314362006 … -1.6522198008633835 1.4973235577229533]))"
      ]
     },
     "execution_count": 129,
     "metadata": {},
     "output_type": "execute_result"
    }
   ],
   "source": [
    "Z = rand(Zonotope, dim=10, num_generators=40);\n",
    "\n",
    "@btime split($Z, 20)\n",
    "@btime _split2($Z, 20)\n",
    "\n",
    "Zc_st = SVector{10}(Z.center)\n",
    "Zg_st = SMatrix{10, 40}(Z.generators);\n",
    "Zst = Zonotope(Zc_st, Zg_st)\n",
    "@btime _split3($Zst, 20)\n",
    "@btime _split4($Zst, 20)"
   ]
  },
  {
   "cell_type": "code",
   "execution_count": 131,
   "metadata": {},
   "outputs": [
    {
     "name": "stdout",
     "output_type": "stream",
     "text": [
      "  202.380 ns (9 allocations: 960 bytes)\n",
      "  141.847 ns (7 allocations: 768 bytes)\n",
      "  22.216 ns (0 allocations: 0 bytes)\n",
      "  22.215 ns (0 allocations: 0 bytes)\n"
     ]
    },
    {
     "data": {
      "text/plain": [
       "(Zonotope{Float64,SArray{Tuple{2},Float64,1,2},SArray{Tuple{2,10},Float64,2,20}}([1.3639924454615209, -0.7897087113218604], [0.4663832904899459 -0.41222930751615755 … -0.6510437493996774 -1.0686211454598191; -1.2533545893868507 -0.897885261791939 … 0.877387344872121 0.4445007985490915]), Zonotope{Float64,SArray{Tuple{2},Float64,1,2},SArray{Tuple{2,10},Float64,2,20}}([-0.7443359404682621, -0.0863041027412968], [0.4663832904899459 -0.41222930751615755 … -0.6510437493996774 -1.0686211454598191; -1.2533545893868507 -0.897885261791939 … 0.877387344872121 0.4445007985490915]))"
      ]
     },
     "execution_count": 131,
     "metadata": {},
     "output_type": "execute_result"
    }
   ],
   "source": [
    "Z = rand(Zonotope, dim=2, num_generators=10);\n",
    "\n",
    "@btime split($Z, 5)\n",
    "@btime _split2($Z, 5)\n",
    "\n",
    "Zc_st = SVector{2}(Z.center)\n",
    "Zg_st = SMatrix{2, 10}(Z.generators);\n",
    "Zst = Zonotope(Zc_st, Zg_st)\n",
    "@btime _split3($Zst, 5)\n",
    "@btime _split4($Zst, 5)"
   ]
  },
  {
   "cell_type": "code",
   "execution_count": null,
   "metadata": {},
   "outputs": [],
   "source": []
  }
 ],
 "metadata": {
  "kernelspec": {
   "display_name": "Julia 1.4.0",
   "language": "julia",
   "name": "julia-1.4"
  },
  "language_info": {
   "file_extension": ".jl",
   "mimetype": "application/julia",
   "name": "julia",
   "version": "1.4.0"
  }
 },
 "nbformat": 4,
 "nbformat_minor": 2
}
