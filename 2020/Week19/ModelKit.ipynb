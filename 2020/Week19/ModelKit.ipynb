{
 "cells": [
  {
   "cell_type": "code",
   "execution_count": 8,
   "metadata": {},
   "outputs": [],
   "source": [
    "using ModelKit, Test, BenchmarkTools"
   ]
  },
  {
   "cell_type": "code",
   "execution_count": 23,
   "metadata": {},
   "outputs": [],
   "source": [
    "# H : {x ∈ Rⁿ: aᵀx ≤ b}\n",
    "struct HalfSpace{N, VN<:AbstractVector{N}}\n",
    "    a::VN\n",
    "    b::N\n",
    "end"
   ]
  },
  {
   "cell_type": "code",
   "execution_count": 44,
   "metadata": {},
   "outputs": [
    {
     "ename": "LoadError",
     "evalue": "UndefVarError: @set not defined",
     "output_type": "error",
     "traceback": [
      "UndefVarError: @set not defined",
      ""
     ]
    }
   ],
   "source": [
    "@var x\n",
    "H = @set x <= 3.0 # should create the HalfSpace([1.0], 3.0)"
   ]
  },
  {
   "cell_type": "code",
   "execution_count": 45,
   "metadata": {},
   "outputs": [
    {
     "ename": "LoadError",
     "evalue": "UndefVarError: @set not defined",
     "output_type": "error",
     "traceback": [
      "UndefVarError: @set not defined",
      ""
     ]
    }
   ],
   "source": [
    "@var x y\n",
    "H = @set x <= 3.0  # should create the HalfSpace([1.0, 0.0], 3.0)"
   ]
  },
  {
   "cell_type": "code",
   "execution_count": null,
   "metadata": {},
   "outputs": [],
   "source": []
  },
  {
   "cell_type": "code",
   "execution_count": 29,
   "metadata": {},
   "outputs": [
    {
     "data": {
      "text/plain": [
       "@sayhello (macro with 1 method)"
      ]
     },
     "execution_count": 29,
     "metadata": {},
     "output_type": "execute_result"
    }
   ],
   "source": [
    "macro sayhello(name)\n",
    "    return :( println(\"Hello, \", $name, \"!\") )\n",
    "end"
   ]
  },
  {
   "cell_type": "code",
   "execution_count": 32,
   "metadata": {},
   "outputs": [
    {
     "name": "stdout",
     "output_type": "stream",
     "text": [
      "Hello, Marcelo!\n"
     ]
    }
   ],
   "source": [
    "@sayhello \"Marcelo\""
   ]
  },
  {
   "cell_type": "code",
   "execution_count": 33,
   "metadata": {},
   "outputs": [
    {
     "name": "stdout",
     "output_type": "stream",
     "text": [
      "search: \u001b[0m\u001b[1mm\u001b[22m\u001b[0m\u001b[1ma\u001b[22m\u001b[0m\u001b[1mc\u001b[22m\u001b[0m\u001b[1mr\u001b[22m\u001b[0m\u001b[1mo\u001b[22m \u001b[0m\u001b[1mm\u001b[22m\u001b[0m\u001b[1ma\u001b[22m\u001b[0m\u001b[1mc\u001b[22m\u001b[0m\u001b[1mr\u001b[22m\u001b[0m\u001b[1mo\u001b[22mexpand @\u001b[0m\u001b[1mm\u001b[22m\u001b[0m\u001b[1ma\u001b[22m\u001b[0m\u001b[1mc\u001b[22m\u001b[0m\u001b[1mr\u001b[22m\u001b[0m\u001b[1mo\u001b[22mexpand @\u001b[0m\u001b[1mm\u001b[22m\u001b[0m\u001b[1ma\u001b[22m\u001b[0m\u001b[1mc\u001b[22m\u001b[0m\u001b[1mr\u001b[22m\u001b[0m\u001b[1mo\u001b[22mexpand1\n",
      "\n"
     ]
    },
    {
     "data": {
      "text/latex": [
       "\\begin{verbatim}\n",
       "macro\n",
       "\\end{verbatim}\n",
       "\\texttt{macro} defines a method for inserting generated code into a program. A macro maps a sequence of argument expressions to a returned expression, and the resulting expression is substituted directly into the program at the point where the macro is invoked. Macros are a way to run generated code without calling \\href{@ref Base.eval}{\\texttt{eval}}, since the generated code instead simply becomes part of the surrounding program. Macro arguments may include expressions, literal values, and symbols.\n",
       "\n",
       "\\section{Examples}\n",
       "\\begin{verbatim}\n",
       "julia> macro sayhello(name)\n",
       "           return :( println(\"Hello, \", $name, \"!\") )\n",
       "       end\n",
       "@sayhello (macro with 1 method)\n",
       "\n",
       "julia> @sayhello \"Charlie\"\n",
       "Hello, Charlie!\n",
       "\\end{verbatim}\n"
      ],
      "text/markdown": [
       "```\n",
       "macro\n",
       "```\n",
       "\n",
       "`macro` defines a method for inserting generated code into a program. A macro maps a sequence of argument expressions to a returned expression, and the resulting expression is substituted directly into the program at the point where the macro is invoked. Macros are a way to run generated code without calling [`eval`](@ref Base.eval), since the generated code instead simply becomes part of the surrounding program. Macro arguments may include expressions, literal values, and symbols.\n",
       "\n",
       "# Examples\n",
       "\n",
       "```jldoctest\n",
       "julia> macro sayhello(name)\n",
       "           return :( println(\"Hello, \", $name, \"!\") )\n",
       "       end\n",
       "@sayhello (macro with 1 method)\n",
       "\n",
       "julia> @sayhello \"Charlie\"\n",
       "Hello, Charlie!\n",
       "```\n"
      ],
      "text/plain": [
       "\u001b[36m  macro\u001b[39m\n",
       "\n",
       "  \u001b[36mmacro\u001b[39m defines a method for inserting generated code into a program. A macro\n",
       "  maps a sequence of argument expressions to a returned expression, and the\n",
       "  resulting expression is substituted directly into the program at the point\n",
       "  where the macro is invoked. Macros are a way to run generated code without\n",
       "  calling \u001b[36meval\u001b[39m, since the generated code instead simply becomes part of the\n",
       "  surrounding program. Macro arguments may include expressions, literal\n",
       "  values, and symbols.\n",
       "\n",
       "\u001b[1m  Examples\u001b[22m\n",
       "\u001b[1m  ≡≡≡≡≡≡≡≡≡≡\u001b[22m\n",
       "\n",
       "\u001b[36m  julia> macro sayhello(name)\u001b[39m\n",
       "\u001b[36m             return :( println(\"Hello, \", $name, \"!\") )\u001b[39m\n",
       "\u001b[36m         end\u001b[39m\n",
       "\u001b[36m  @sayhello (macro with 1 method)\u001b[39m\n",
       "\u001b[36m  \u001b[39m\n",
       "\u001b[36m  julia> @sayhello \"Charlie\"\u001b[39m\n",
       "\u001b[36m  Hello, Charlie!\u001b[39m"
      ]
     },
     "execution_count": 33,
     "metadata": {},
     "output_type": "execute_result"
    }
   ],
   "source": []
  },
  {
   "cell_type": "code",
   "execution_count": 9,
   "metadata": {},
   "outputs": [
    {
     "data": {
      "text/plain": [
       "(x, y)"
      ]
     },
     "execution_count": 9,
     "metadata": {},
     "output_type": "execute_result"
    }
   ],
   "source": [
    "@var x, y"
   ]
  },
  {
   "cell_type": "code",
   "execution_count": 10,
   "metadata": {},
   "outputs": [
    {
     "data": {
      "text/plain": [
       "5"
      ]
     },
     "execution_count": 10,
     "metadata": {},
     "output_type": "execute_result"
    }
   ],
   "source": [
    "subs(x + y, x=> 1, y => 4)"
   ]
  },
  {
   "cell_type": "code",
   "execution_count": 11,
   "metadata": {},
   "outputs": [
    {
     "data": {
      "text/plain": [
       "\u001b[32m\u001b[1mTest Passed\u001b[22m\u001b[39m"
      ]
     },
     "execution_count": 11,
     "metadata": {},
     "output_type": "execute_result"
    }
   ],
   "source": [
    "f = x^2 + y^2\n",
    "        g = x^3 + y^3\n",
    "\n",
    "        @test differentiate(f, x) == 2x\n",
    "        @test differentiate(f, [x, y]) == [2x, 2y]"
   ]
  },
  {
   "cell_type": "code",
   "execution_count": 19,
   "metadata": {},
   "outputs": [
    {
     "data": {
      "text/plain": [
       "1.5 - x + x^2"
      ]
     },
     "execution_count": 19,
     "metadata": {},
     "output_type": "execute_result"
    }
   ],
   "source": [
    "f = x^2 -  x + 1.5"
   ]
  },
  {
   "cell_type": "code",
   "execution_count": 20,
   "metadata": {},
   "outputs": [
    {
     "data": {
      "text/plain": [
       "Expression"
      ]
     },
     "execution_count": 20,
     "metadata": {},
     "output_type": "execute_result"
    }
   ],
   "source": [
    "typeof(f)"
   ]
  },
  {
   "cell_type": "code",
   "execution_count": 21,
   "metadata": {},
   "outputs": [
    {
     "name": "stdout",
     "output_type": "stream",
     "text": [
      "  1.996 μs (17 allocations: 144 bytes)\n"
     ]
    },
    {
     "data": {
      "text/plain": [
       "-1 + 2*x"
      ]
     },
     "execution_count": 21,
     "metadata": {},
     "output_type": "execute_result"
    }
   ],
   "source": [
    "@btime differentiate($f, $x)"
   ]
  },
  {
   "cell_type": "code",
   "execution_count": null,
   "metadata": {},
   "outputs": [],
   "source": []
  }
 ],
 "metadata": {
  "kernelspec": {
   "display_name": "Julia 1.4.1",
   "language": "julia",
   "name": "julia-1.4"
  },
  "language_info": {
   "file_extension": ".jl",
   "mimetype": "application/julia",
   "name": "julia",
   "version": "1.4.1"
  }
 },
 "nbformat": 4,
 "nbformat_minor": 2
}
