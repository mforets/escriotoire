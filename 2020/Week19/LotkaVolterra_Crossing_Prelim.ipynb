{
 "cells": [
  {
   "cell_type": "code",
   "execution_count": null,
   "metadata": {},
   "outputs": [],
   "source": [
    "using ReachabilityAnalysis, Plots"
   ]
  },
  {
   "cell_type": "code",
   "execution_count": null,
   "metadata": {},
   "outputs": [],
   "source": [
    "@taylorize function lotka_volterra!(du, u, params, t)\n",
    "    x, y, z, a = du[1], du[2], du[3], du[4]\n",
    "    \n",
    "    du[1] = -(x * y) / (1 + x)\n",
    "    du[2] = (x * y) / (1 + x) - a * y\n",
    "    du[3] = a * y\n",
    "    du[4] = zero(x)\n",
    "    return du\n",
    "end"
   ]
  }
 ],
 "metadata": {
  "kernelspec": {
   "display_name": "Julia 1.4.1",
   "language": "julia",
   "name": "julia-1.4"
  },
  "language_info": {
   "file_extension": ".jl",
   "mimetype": "application/julia",
   "name": "julia",
   "version": "1.4.1"
  }
 },
 "nbformat": 4,
 "nbformat_minor": 2
}
