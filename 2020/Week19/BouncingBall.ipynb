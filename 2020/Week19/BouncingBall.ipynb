{
 "cells": [
  {
   "cell_type": "markdown",
   "metadata": {},
   "source": [
    "## Model"
   ]
  },
  {
   "cell_type": "code",
   "execution_count": 11,
   "metadata": {},
   "outputs": [],
   "source": [
    "using Revise, ReachabilityAnalysis, Plots"
   ]
  },
  {
   "cell_type": "markdown",
   "metadata": {},
   "source": [
    "We model the bouncing ball as a hybrid automaton with one location and a self-loop. For background see for example [C. Le Guernic's PhD thesis, pp. 79-83](https://tel.archives-ouvertes.fr/tel-00422569v1/document)."
   ]
  },
  {
   "cell_type": "markdown",
   "metadata": {},
   "source": [
    "Next we define the hybrid model:"
   ]
  },
  {
   "cell_type": "code",
   "execution_count": 3,
   "metadata": {},
   "outputs": [
    {
     "data": {
      "text/plain": [
       "bouncing_ball (generic function with 1 method)"
      ]
     },
     "execution_count": 3,
     "metadata": {},
     "output_type": "execute_result"
    }
   ],
   "source": [
    "function bouncing_ball(; X0 = Hyperrectangle(low=[10.0, 0.0], high=[10.2, 0.0]))\n",
    "\n",
    "    # \"falling\" mode with invariant x >= 0\n",
    "    invariant = HalfSpace([-1.0, 0.0], 0.0)\n",
    "    flow = @system(z' = [0.0 1.0; 0.0 0.0] * z + [0.0, -9.81], z ∈ invariant)\n",
    "\n",
    "    # guard x ≤ 0 && v ≤ 0\n",
    "    guard = HPolyhedron([HalfSpace([1.0, 0.0], 0.0), HalfSpace([0.0, 1.0], 0.0)])\n",
    "\n",
    "    # reset map v⁺ := -cv\n",
    "    assignment = ConstrainedLinearMap([1.0 0.0; 0.0 -0.75], guard)\n",
    "\n",
    "    # initial-value problem\n",
    "    H = HybridSystem(flow, assignment)\n",
    "    prob = @ivp(H, z(0) ∈ X0)\n",
    "    tspan = (0.0, 5.0)\n",
    "\n",
    "    return prob, tspan\n",
    "end"
   ]
  },
  {
   "cell_type": "markdown",
   "metadata": {},
   "source": [
    "## Results"
   ]
  },
  {
   "cell_type": "code",
   "execution_count": 7,
   "metadata": {},
   "outputs": [],
   "source": [
    "prob, tsp = bouncing_ball();"
   ]
  },
  {
   "cell_type": "markdown",
   "metadata": {},
   "source": [
    "Let's study the continuous transition first."
   ]
  },
  {
   "cell_type": "code",
   "execution_count": 51,
   "metadata": {},
   "outputs": [
    {
     "data": {
      "text/plain": [
       "[0, 1.50001]"
      ]
     },
     "execution_count": 51,
     "metadata": {},
     "output_type": "execute_result"
    }
   ],
   "source": [
    "prob_cont = IVP(prob.s.modes[1], prob.x0);\n",
    "sol = solve(prob_cont, T=10.0, alg=GLGM06(δ=0.05));\n",
    "tspan(sol)"
   ]
  },
  {
   "cell_type": "code",
   "execution_count": 50,
   "metadata": {
    "scrolled": false
   },
   "outputs": [
    {
     "data": {
      "image/svg+xml": [
       "<?xml version=\"1.0\" encoding=\"utf-8\"?>\n",
       "<svg xmlns=\"http://www.w3.org/2000/svg\" xmlns:xlink=\"http://www.w3.org/1999/xlink\" width=\"600\" height=\"400\" viewBox=\"0 0 2400 1600\">\n",
       "<defs>\n",
       "  <clipPath id=\"clip8200\">\n",
       "    <rect x=\"0\" y=\"0\" width=\"2400\" height=\"1600\"/>\n",
       "  </clipPath>\n",
       "</defs>\n",
       "<path clip-path=\"url(#clip8200)\" d=\"\n",
       "M0 1600 L2400 1600 L2400 0 L0 0  Z\n",
       "  \" fill=\"#ffffff\" fill-rule=\"evenodd\" fill-opacity=\"1\"/>\n",
       "<defs>\n",
       "  <clipPath id=\"clip8201\">\n",
       "    <rect x=\"480\" y=\"0\" width=\"1681\" height=\"1600\"/>\n",
       "  </clipPath>\n",
       "</defs>\n",
       "<path clip-path=\"url(#clip8200)\" d=\"\n",
       "M208.77 1487.47 L2352.76 1487.47 L2352.76 47.2441 L208.77 47.2441  Z\n",
       "  \" fill=\"#ffffff\" fill-rule=\"evenodd\" fill-opacity=\"1\"/>\n",
       "<defs>\n",
       "  <clipPath id=\"clip8202\">\n",
       "    <rect x=\"208\" y=\"47\" width=\"2145\" height=\"1441\"/>\n",
       "  </clipPath>\n",
       "</defs>\n",
       "<polyline clip-path=\"url(#clip8202)\" style=\"stroke:#000000; stroke-width:2; stroke-opacity:0.1; fill:none\" points=\"\n",
       "  406.066,1487.47 406.066,47.2441 \n",
       "  \"/>\n",
       "<polyline clip-path=\"url(#clip8202)\" style=\"stroke:#000000; stroke-width:2; stroke-opacity:0.1; fill:none\" points=\"\n",
       "  882.052,1487.47 882.052,47.2441 \n",
       "  \"/>\n",
       "<polyline clip-path=\"url(#clip8202)\" style=\"stroke:#000000; stroke-width:2; stroke-opacity:0.1; fill:none\" points=\"\n",
       "  1358.04,1487.47 1358.04,47.2441 \n",
       "  \"/>\n",
       "<polyline clip-path=\"url(#clip8202)\" style=\"stroke:#000000; stroke-width:2; stroke-opacity:0.1; fill:none\" points=\"\n",
       "  1834.02,1487.47 1834.02,47.2441 \n",
       "  \"/>\n",
       "<polyline clip-path=\"url(#clip8202)\" style=\"stroke:#000000; stroke-width:2; stroke-opacity:0.1; fill:none\" points=\"\n",
       "  2310.01,1487.47 2310.01,47.2441 \n",
       "  \"/>\n",
       "<polyline clip-path=\"url(#clip8202)\" style=\"stroke:#000000; stroke-width:2; stroke-opacity:0.1; fill:none\" points=\"\n",
       "  208.77,1270.68 2352.76,1270.68 \n",
       "  \"/>\n",
       "<polyline clip-path=\"url(#clip8202)\" style=\"stroke:#000000; stroke-width:2; stroke-opacity:0.1; fill:none\" points=\"\n",
       "  208.77,1025.99 2352.76,1025.99 \n",
       "  \"/>\n",
       "<polyline clip-path=\"url(#clip8202)\" style=\"stroke:#000000; stroke-width:2; stroke-opacity:0.1; fill:none\" points=\"\n",
       "  208.77,781.307 2352.76,781.307 \n",
       "  \"/>\n",
       "<polyline clip-path=\"url(#clip8202)\" style=\"stroke:#000000; stroke-width:2; stroke-opacity:0.1; fill:none\" points=\"\n",
       "  208.77,536.619 2352.76,536.619 \n",
       "  \"/>\n",
       "<polyline clip-path=\"url(#clip8202)\" style=\"stroke:#000000; stroke-width:2; stroke-opacity:0.1; fill:none\" points=\"\n",
       "  208.77,291.932 2352.76,291.932 \n",
       "  \"/>\n",
       "<polyline clip-path=\"url(#clip8202)\" style=\"stroke:#000000; stroke-width:2; stroke-opacity:0.1; fill:none\" points=\"\n",
       "  208.77,47.2441 2352.76,47.2441 \n",
       "  \"/>\n",
       "<polyline clip-path=\"url(#clip8200)\" style=\"stroke:#000000; stroke-width:4; stroke-opacity:1; fill:none\" points=\"\n",
       "  208.77,1487.47 2352.76,1487.47 \n",
       "  \"/>\n",
       "<polyline clip-path=\"url(#clip8200)\" style=\"stroke:#000000; stroke-width:4; stroke-opacity:1; fill:none\" points=\"\n",
       "  208.77,1487.47 208.77,47.2441 \n",
       "  \"/>\n",
       "<polyline clip-path=\"url(#clip8200)\" style=\"stroke:#000000; stroke-width:4; stroke-opacity:1; fill:none\" points=\"\n",
       "  406.066,1487.47 406.066,1470.19 \n",
       "  \"/>\n",
       "<polyline clip-path=\"url(#clip8200)\" style=\"stroke:#000000; stroke-width:4; stroke-opacity:1; fill:none\" points=\"\n",
       "  882.052,1487.47 882.052,1470.19 \n",
       "  \"/>\n",
       "<polyline clip-path=\"url(#clip8200)\" style=\"stroke:#000000; stroke-width:4; stroke-opacity:1; fill:none\" points=\"\n",
       "  1358.04,1487.47 1358.04,1470.19 \n",
       "  \"/>\n",
       "<polyline clip-path=\"url(#clip8200)\" style=\"stroke:#000000; stroke-width:4; stroke-opacity:1; fill:none\" points=\"\n",
       "  1834.02,1487.47 1834.02,1470.19 \n",
       "  \"/>\n",
       "<polyline clip-path=\"url(#clip8200)\" style=\"stroke:#000000; stroke-width:4; stroke-opacity:1; fill:none\" points=\"\n",
       "  2310.01,1487.47 2310.01,1470.19 \n",
       "  \"/>\n",
       "<polyline clip-path=\"url(#clip8200)\" style=\"stroke:#000000; stroke-width:4; stroke-opacity:1; fill:none\" points=\"\n",
       "  208.77,1270.68 234.498,1270.68 \n",
       "  \"/>\n",
       "<polyline clip-path=\"url(#clip8200)\" style=\"stroke:#000000; stroke-width:4; stroke-opacity:1; fill:none\" points=\"\n",
       "  208.77,1025.99 234.498,1025.99 \n",
       "  \"/>\n",
       "<polyline clip-path=\"url(#clip8200)\" style=\"stroke:#000000; stroke-width:4; stroke-opacity:1; fill:none\" points=\"\n",
       "  208.77,781.307 234.498,781.307 \n",
       "  \"/>\n",
       "<polyline clip-path=\"url(#clip8200)\" style=\"stroke:#000000; stroke-width:4; stroke-opacity:1; fill:none\" points=\"\n",
       "  208.77,536.619 234.498,536.619 \n",
       "  \"/>\n",
       "<polyline clip-path=\"url(#clip8200)\" style=\"stroke:#000000; stroke-width:4; stroke-opacity:1; fill:none\" points=\"\n",
       "  208.77,291.932 234.498,291.932 \n",
       "  \"/>\n",
       "<polyline clip-path=\"url(#clip8200)\" style=\"stroke:#000000; stroke-width:4; stroke-opacity:1; fill:none\" points=\"\n",
       "  208.77,47.2441 234.498,47.2441 \n",
       "  \"/>\n",
       "<g clip-path=\"url(#clip8200)\">\n",
       "<text style=\"fill:#000000; fill-opacity:1; font-family:Arial,Helvetica Neue,Helvetica,sans-serif; font-size:48px; text-anchor:middle;\" transform=\"rotate(0, 406.066, 1541.47)\" x=\"406.066\" y=\"1541.47\">0.0</text>\n",
       "</g>\n",
       "<g clip-path=\"url(#clip8200)\">\n",
       "<text style=\"fill:#000000; fill-opacity:1; font-family:Arial,Helvetica Neue,Helvetica,sans-serif; font-size:48px; text-anchor:middle;\" transform=\"rotate(0, 882.052, 1541.47)\" x=\"882.052\" y=\"1541.47\">2.5</text>\n",
       "</g>\n",
       "<g clip-path=\"url(#clip8200)\">\n",
       "<text style=\"fill:#000000; fill-opacity:1; font-family:Arial,Helvetica Neue,Helvetica,sans-serif; font-size:48px; text-anchor:middle;\" transform=\"rotate(0, 1358.04, 1541.47)\" x=\"1358.04\" y=\"1541.47\">5.0</text>\n",
       "</g>\n",
       "<g clip-path=\"url(#clip8200)\">\n",
       "<text style=\"fill:#000000; fill-opacity:1; font-family:Arial,Helvetica Neue,Helvetica,sans-serif; font-size:48px; text-anchor:middle;\" transform=\"rotate(0, 1834.02, 1541.47)\" x=\"1834.02\" y=\"1541.47\">7.5</text>\n",
       "</g>\n",
       "<g clip-path=\"url(#clip8200)\">\n",
       "<text style=\"fill:#000000; fill-opacity:1; font-family:Arial,Helvetica Neue,Helvetica,sans-serif; font-size:48px; text-anchor:middle;\" transform=\"rotate(0, 2310.01, 1541.47)\" x=\"2310.01\" y=\"1541.47\">10.0</text>\n",
       "</g>\n",
       "<g clip-path=\"url(#clip8200)\">\n",
       "<text style=\"fill:#000000; fill-opacity:1; font-family:Arial,Helvetica Neue,Helvetica,sans-serif; font-size:48px; text-anchor:end;\" transform=\"rotate(0, 184.77, 1288.18)\" x=\"184.77\" y=\"1288.18\">-12.5</text>\n",
       "</g>\n",
       "<g clip-path=\"url(#clip8200)\">\n",
       "<text style=\"fill:#000000; fill-opacity:1; font-family:Arial,Helvetica Neue,Helvetica,sans-serif; font-size:48px; text-anchor:end;\" transform=\"rotate(0, 184.77, 1043.49)\" x=\"184.77\" y=\"1043.49\">-10.0</text>\n",
       "</g>\n",
       "<g clip-path=\"url(#clip8200)\">\n",
       "<text style=\"fill:#000000; fill-opacity:1; font-family:Arial,Helvetica Neue,Helvetica,sans-serif; font-size:48px; text-anchor:end;\" transform=\"rotate(0, 184.77, 798.807)\" x=\"184.77\" y=\"798.807\">-7.5</text>\n",
       "</g>\n",
       "<g clip-path=\"url(#clip8200)\">\n",
       "<text style=\"fill:#000000; fill-opacity:1; font-family:Arial,Helvetica Neue,Helvetica,sans-serif; font-size:48px; text-anchor:end;\" transform=\"rotate(0, 184.77, 554.119)\" x=\"184.77\" y=\"554.119\">-5.0</text>\n",
       "</g>\n",
       "<g clip-path=\"url(#clip8200)\">\n",
       "<text style=\"fill:#000000; fill-opacity:1; font-family:Arial,Helvetica Neue,Helvetica,sans-serif; font-size:48px; text-anchor:end;\" transform=\"rotate(0, 184.77, 309.432)\" x=\"184.77\" y=\"309.432\">-2.5</text>\n",
       "</g>\n",
       "<g clip-path=\"url(#clip8200)\">\n",
       "<text style=\"fill:#000000; fill-opacity:1; font-family:Arial,Helvetica Neue,Helvetica,sans-serif; font-size:48px; text-anchor:end;\" transform=\"rotate(0, 184.77, 64.7441)\" x=\"184.77\" y=\"64.7441\">0.0</text>\n",
       "</g>\n",
       "<path clip-path=\"url(#clip8202)\" d=\"\n",
       "M2350.42 47.2441 L2307.67 47.2441 L2307.67 95.2518 L2350.42 95.2518 L2350.42 47.2441 L2350.42 47.2441  Z\n",
       "  \" fill=\"#009af9\" fill-rule=\"evenodd\" fill-opacity=\"0.5\"/>\n",
       "<polyline clip-path=\"url(#clip8202)\" style=\"stroke:#000000; stroke-width:4; stroke-opacity:0.5; fill:none\" points=\"\n",
       "  2350.42,47.2441 2307.67,47.2441 2307.67,95.2518 2350.42,95.2518 2350.42,47.2441 \n",
       "  \"/>\n",
       "<path clip-path=\"url(#clip8202)\" d=\"\n",
       "M2300.67 143.259 L2348.09 143.259 L2352.76 95.2518 L2352.76 95.2518 L2305.34 95.2518 L2300.67 143.259 L2300.67 143.259 L2300.67 143.259  Z\n",
       "  \" fill=\"#009af9\" fill-rule=\"evenodd\" fill-opacity=\"0.5\"/>\n",
       "<polyline clip-path=\"url(#clip8202)\" style=\"stroke:#000000; stroke-width:4; stroke-opacity:0.5; fill:none\" points=\"\n",
       "  2300.67,143.259 2348.09,143.259 2352.76,95.2518 2305.34,95.2518 2300.67,143.259 2300.67,143.259 \n",
       "  \"/>\n",
       "<path clip-path=\"url(#clip8202)\" d=\"\n",
       "M2289 191.267 L2341.08 191.267 L2350.42 143.259 L2350.42 143.259 L2298.33 143.259 L2289 191.267 L2289 191.267  Z\n",
       "  \" fill=\"#009af9\" fill-rule=\"evenodd\" fill-opacity=\"0.5\"/>\n",
       "<polyline clip-path=\"url(#clip8202)\" style=\"stroke:#000000; stroke-width:4; stroke-opacity:0.5; fill:none\" points=\"\n",
       "  2289,191.267 2341.08,191.267 2350.42,143.259 2350.42,143.259 2298.33,143.259 2289,191.267 \n",
       "  \"/>\n",
       "<path clip-path=\"url(#clip8202)\" d=\"\n",
       "M2272.65 239.275 L2329.41 239.275 L2343.42 191.267 L2343.42 191.267 L2286.66 191.267 L2272.65 239.275 L2272.65 239.275  Z\n",
       "  \" fill=\"#009af9\" fill-rule=\"evenodd\" fill-opacity=\"0.5\"/>\n",
       "<polyline clip-path=\"url(#clip8202)\" style=\"stroke:#000000; stroke-width:4; stroke-opacity:0.5; fill:none\" points=\"\n",
       "  2272.65,239.275 2329.41,239.275 2343.42,191.267 2343.42,191.267 2286.66,191.267 2272.65,239.275 \n",
       "  \"/>\n",
       "<path clip-path=\"url(#clip8202)\" d=\"\n",
       "M2251.64 287.283 L2313.07 287.283 L2331.74 239.275 L2331.74 239.275 L2270.32 239.275 L2270.32 239.275 L2251.64 287.283 L2251.64 287.283 L2251.64 287.283  Z\n",
       "  \" fill=\"#009af9\" fill-rule=\"evenodd\" fill-opacity=\"0.5\"/>\n",
       "<polyline clip-path=\"url(#clip8202)\" style=\"stroke:#000000; stroke-width:4; stroke-opacity:0.5; fill:none\" points=\"\n",
       "  2251.64,287.283 2313.07,287.283 2331.74,239.275 2331.74,239.275 2270.32,239.275 2270.32,239.275 2251.64,287.283 \n",
       "  \"/>\n",
       "<path clip-path=\"url(#clip8202)\" d=\"\n",
       "M2225.96 335.29 L2292.05 335.29 L2315.4 287.283 L2315.4 287.283 L2249.31 287.283 L2225.96 335.29 L2225.96 335.29  Z\n",
       "  \" fill=\"#009af9\" fill-rule=\"evenodd\" fill-opacity=\"0.5\"/>\n",
       "<polyline clip-path=\"url(#clip8202)\" style=\"stroke:#000000; stroke-width:4; stroke-opacity:0.5; fill:none\" points=\"\n",
       "  2225.96,335.29 2292.05,335.29 2315.4,287.283 2315.4,287.283 2249.31,287.283 2225.96,335.29 \n",
       "  \"/>\n",
       "<path clip-path=\"url(#clip8202)\" d=\"\n",
       "M2195.61 383.298 L2266.37 383.298 L2294.39 335.29 L2294.39 335.29 L2223.62 335.29 L2195.61 383.298 L2195.61 383.298  Z\n",
       "  \" fill=\"#009af9\" fill-rule=\"evenodd\" fill-opacity=\"0.5\"/>\n",
       "<polyline clip-path=\"url(#clip8202)\" style=\"stroke:#000000; stroke-width:4; stroke-opacity:0.5; fill:none\" points=\"\n",
       "  2195.61,383.298 2266.37,383.298 2294.39,335.29 2223.62,335.29 2195.61,383.298 \n",
       "  \"/>\n",
       "<path clip-path=\"url(#clip8202)\" d=\"\n",
       "M2160.59 431.306 L2236.02 431.306 L2268.71 383.298 L2268.71 383.298 L2193.27 383.298 L2193.27 383.298 L2160.59 431.306 L2160.59 431.306 L2160.59 431.306  Z\n",
       "  \" fill=\"#009af9\" fill-rule=\"evenodd\" fill-opacity=\"0.5\"/>\n",
       "<polyline clip-path=\"url(#clip8202)\" style=\"stroke:#000000; stroke-width:4; stroke-opacity:0.5; fill:none\" points=\"\n",
       "  2160.59,431.306 2236.02,431.306 2268.71,383.298 2268.71,383.298 2193.27,383.298 2193.27,383.298 2160.59,431.306 2160.59,431.306 \n",
       "  \"/>\n",
       "<path clip-path=\"url(#clip8202)\" d=\"\n",
       "M2120.9 479.313 L2201 479.313 L2238.36 431.306 L2238.36 431.306 L2158.25 431.306 L2120.9 479.313 L2120.9 479.313  Z\n",
       "  \" fill=\"#009af9\" fill-rule=\"evenodd\" fill-opacity=\"0.5\"/>\n",
       "<polyline clip-path=\"url(#clip8202)\" style=\"stroke:#000000; stroke-width:4; stroke-opacity:0.5; fill:none\" points=\"\n",
       "  2120.9,479.313 2201,479.313 2238.36,431.306 2158.25,431.306 2120.9,479.313 \n",
       "  \"/>\n",
       "<path clip-path=\"url(#clip8202)\" d=\"\n",
       "M2076.54 527.321 L2161.31 527.321 L2203.33 479.313 L2203.33 479.313 L2118.56 479.313 L2118.56 479.313 L2076.54 527.321 L2076.54 527.321  Z\n",
       "  \" fill=\"#009af9\" fill-rule=\"evenodd\" fill-opacity=\"0.5\"/>\n",
       "<polyline clip-path=\"url(#clip8202)\" style=\"stroke:#000000; stroke-width:4; stroke-opacity:0.5; fill:none\" points=\"\n",
       "  2076.54,527.321 2161.31,527.321 2203.33,479.313 2203.33,479.313 2118.56,479.313 2118.56,479.313 2076.54,527.321 \n",
       "  \"/>\n",
       "<path clip-path=\"url(#clip8202)\" d=\"\n",
       "M2027.51 575.329 L2116.95 575.329 L2163.64 527.321 L2163.64 527.321 L2074.2 527.321 L2074.2 527.321 L2027.51 575.329 L2027.51 575.329 L2027.51 575.329  Z\n",
       "  \" fill=\"#009af9\" fill-rule=\"evenodd\" fill-opacity=\"0.5\"/>\n",
       "<polyline clip-path=\"url(#clip8202)\" style=\"stroke:#000000; stroke-width:4; stroke-opacity:0.5; fill:none\" points=\"\n",
       "  2027.51,575.329 2116.95,575.329 2163.64,527.321 2163.64,527.321 2074.2,527.321 2074.2,527.321 2027.51,575.329 2027.51,575.329 \n",
       "  \"/>\n",
       "<path clip-path=\"url(#clip8202)\" d=\"\n",
       "M1973.81 623.336 L2067.92 623.336 L2119.29 575.329 L2119.29 575.329 L2025.17 575.329 L1973.81 623.336 L1973.81 623.336  Z\n",
       "  \" fill=\"#009af9\" fill-rule=\"evenodd\" fill-opacity=\"0.5\"/>\n",
       "<polyline clip-path=\"url(#clip8202)\" style=\"stroke:#000000; stroke-width:4; stroke-opacity:0.5; fill:none\" points=\"\n",
       "  1973.81,623.336 2067.92,623.336 2119.29,575.329 2025.17,575.329 1973.81,623.336 \n",
       "  \"/>\n",
       "<path clip-path=\"url(#clip8202)\" d=\"\n",
       "M1915.44 671.344 L2014.22 671.344 L2070.26 623.336 L2070.26 623.336 L1971.47 623.336 L1971.47 623.336 L1915.44 671.344 L1915.44 671.344  Z\n",
       "  \" fill=\"#009af9\" fill-rule=\"evenodd\" fill-opacity=\"0.5\"/>\n",
       "<polyline clip-path=\"url(#clip8202)\" style=\"stroke:#000000; stroke-width:4; stroke-opacity:0.5; fill:none\" points=\"\n",
       "  1915.44,671.344 2014.22,671.344 2070.26,623.336 2070.26,623.336 1971.47,623.336 1971.47,623.336 1915.44,671.344 \n",
       "  \"/>\n",
       "<path clip-path=\"url(#clip8202)\" d=\"\n",
       "M1852.4 719.352 L1955.86 719.352 L2016.56 671.344 L2016.56 671.344 L1913.11 671.344 L1852.4 719.352 L1852.4 719.352  Z\n",
       "  \" fill=\"#009af9\" fill-rule=\"evenodd\" fill-opacity=\"0.5\"/>\n",
       "<polyline clip-path=\"url(#clip8202)\" style=\"stroke:#000000; stroke-width:4; stroke-opacity:0.5; fill:none\" points=\"\n",
       "  1852.4,719.352 1955.86,719.352 2016.56,671.344 2016.56,671.344 1913.11,671.344 1852.4,719.352 \n",
       "  \"/>\n",
       "<path clip-path=\"url(#clip8202)\" d=\"\n",
       "M1784.7 767.359 L1892.82 767.359 L1958.19 719.352 L1958.19 719.352 L1850.07 719.352 L1850.07 719.352 L1784.7 767.359 L1784.7 767.359  Z\n",
       "  \" fill=\"#009af9\" fill-rule=\"evenodd\" fill-opacity=\"0.5\"/>\n",
       "<polyline clip-path=\"url(#clip8202)\" style=\"stroke:#000000; stroke-width:4; stroke-opacity:0.5; fill:none\" points=\"\n",
       "  1784.7,767.359 1892.82,767.359 1958.19,719.352 1958.19,719.352 1850.07,719.352 1850.07,719.352 1784.7,767.359 \n",
       "  \"/>\n",
       "<path clip-path=\"url(#clip8202)\" d=\"\n",
       "M1712.32 815.367 L1825.11 815.367 L1895.15 767.359 L1895.15 767.359 L1782.36 767.359 L1782.36 767.359 L1712.32 815.367 L1712.32 815.367  Z\n",
       "  \" fill=\"#009af9\" fill-rule=\"evenodd\" fill-opacity=\"0.5\"/>\n",
       "<polyline clip-path=\"url(#clip8202)\" style=\"stroke:#000000; stroke-width:4; stroke-opacity:0.5; fill:none\" points=\"\n",
       "  1712.32,815.367 1825.11,815.367 1895.15,767.359 1895.15,767.359 1782.36,767.359 1782.36,767.359 1712.32,815.367 \n",
       "  \"/>\n",
       "<path clip-path=\"url(#clip8202)\" d=\"\n",
       "M1635.28 863.375 L1752.74 863.375 L1827.45 815.367 L1827.45 815.367 L1709.99 815.367 L1709.99 815.367 L1635.28 863.375 L1635.28 863.375  Z\n",
       "  \" fill=\"#009af9\" fill-rule=\"evenodd\" fill-opacity=\"0.5\"/>\n",
       "<polyline clip-path=\"url(#clip8202)\" style=\"stroke:#000000; stroke-width:4; stroke-opacity:0.5; fill:none\" points=\"\n",
       "  1635.28,863.375 1752.74,863.375 1827.45,815.367 1827.45,815.367 1709.99,815.367 1709.99,815.367 1635.28,863.375 \n",
       "  \"/>\n",
       "<path clip-path=\"url(#clip8202)\" d=\"\n",
       "M1553.56 911.382 L1675.69 911.382 L1755.07 863.375 L1632.94 863.375 L1632.94 863.375 L1553.56 911.382 L1553.56 911.382  Z\n",
       "  \" fill=\"#009af9\" fill-rule=\"evenodd\" fill-opacity=\"0.5\"/>\n",
       "<polyline clip-path=\"url(#clip8202)\" style=\"stroke:#000000; stroke-width:4; stroke-opacity:0.5; fill:none\" points=\"\n",
       "  1553.56,911.382 1675.69,911.382 1755.07,863.375 1632.94,863.375 1632.94,863.375 1553.56,911.382 \n",
       "  \"/>\n",
       "<path clip-path=\"url(#clip8202)\" d=\"\n",
       "M1467.18 959.39 L1593.98 959.39 L1678.03 911.382 L1551.23 911.382 L1551.23 911.382 L1467.18 959.39 L1467.18 959.39  Z\n",
       "  \" fill=\"#009af9\" fill-rule=\"evenodd\" fill-opacity=\"0.5\"/>\n",
       "<polyline clip-path=\"url(#clip8202)\" style=\"stroke:#000000; stroke-width:4; stroke-opacity:0.5; fill:none\" points=\"\n",
       "  1467.18,959.39 1593.98,959.39 1678.03,911.382 1551.23,911.382 1551.23,911.382 1467.18,959.39 \n",
       "  \"/>\n",
       "<path clip-path=\"url(#clip8202)\" d=\"\n",
       "M1376.12 1007.4 L1507.59 1007.4 L1596.31 959.39 L1596.31 959.39 L1464.84 959.39 L1376.12 1007.4 L1376.12 1007.4  Z\n",
       "  \" fill=\"#009af9\" fill-rule=\"evenodd\" fill-opacity=\"0.5\"/>\n",
       "<polyline clip-path=\"url(#clip8202)\" style=\"stroke:#000000; stroke-width:4; stroke-opacity:0.5; fill:none\" points=\"\n",
       "  1376.12,1007.4 1507.59,1007.4 1596.31,959.39 1596.31,959.39 1464.84,959.39 1376.12,1007.4 \n",
       "  \"/>\n",
       "<path clip-path=\"url(#clip8202)\" d=\"\n",
       "M1280.4 1055.41 L1416.54 1055.41 L1509.93 1007.4 L1509.93 1007.4 L1373.79 1007.4 L1373.79 1007.4 L1280.4 1055.41 L1280.4 1055.41  Z\n",
       "  \" fill=\"#009af9\" fill-rule=\"evenodd\" fill-opacity=\"0.5\"/>\n",
       "<polyline clip-path=\"url(#clip8202)\" style=\"stroke:#000000; stroke-width:4; stroke-opacity:0.5; fill:none\" points=\"\n",
       "  1280.4,1055.41 1416.54,1055.41 1509.93,1007.4 1509.93,1007.4 1373.79,1007.4 1373.79,1007.4 1280.4,1055.41 \n",
       "  \"/>\n",
       "<path clip-path=\"url(#clip8202)\" d=\"\n",
       "M1180.01 1103.41 L1320.81 1103.41 L1418.87 1055.41 L1278.07 1055.41 L1180.01 1103.41 L1180.01 1103.41  Z\n",
       "  \" fill=\"#009af9\" fill-rule=\"evenodd\" fill-opacity=\"0.5\"/>\n",
       "<polyline clip-path=\"url(#clip8202)\" style=\"stroke:#000000; stroke-width:4; stroke-opacity:0.5; fill:none\" points=\"\n",
       "  1180.01,1103.41 1320.81,1103.41 1418.87,1055.41 1278.07,1055.41 1180.01,1103.41 \n",
       "  \"/>\n",
       "<path clip-path=\"url(#clip8202)\" d=\"\n",
       "M1074.95 1151.42 L1220.42 1151.42 L1323.15 1103.41 L1323.15 1103.41 L1177.67 1103.41 L1074.95 1151.42 L1074.95 1151.42  Z\n",
       "  \" fill=\"#009af9\" fill-rule=\"evenodd\" fill-opacity=\"0.5\"/>\n",
       "<polyline clip-path=\"url(#clip8202)\" style=\"stroke:#000000; stroke-width:4; stroke-opacity:0.5; fill:none\" points=\"\n",
       "  1074.95,1151.42 1220.42,1151.42 1323.15,1103.41 1323.15,1103.41 1177.67,1103.41 1074.95,1151.42 \n",
       "  \"/>\n",
       "<path clip-path=\"url(#clip8202)\" d=\"\n",
       "M965.216 1199.43 L1115.36 1199.43 L1222.76 1151.42 L1072.61 1151.42 L1072.61 1151.42 L965.216 1199.43 L965.216 1199.43  Z\n",
       "  \" fill=\"#009af9\" fill-rule=\"evenodd\" fill-opacity=\"0.5\"/>\n",
       "<polyline clip-path=\"url(#clip8202)\" style=\"stroke:#000000; stroke-width:4; stroke-opacity:0.5; fill:none\" points=\"\n",
       "  965.216,1199.43 1115.36,1199.43 1222.76,1151.42 1072.61,1151.42 1072.61,1151.42 965.216,1199.43 \n",
       "  \"/>\n",
       "<path clip-path=\"url(#clip8202)\" d=\"\n",
       "M850.815 1247.44 L1005.63 1247.44 L1117.7 1199.43 L962.881 1199.43 L962.881 1199.43 L850.815 1247.44 L850.815 1247.44  Z\n",
       "  \" fill=\"#009af9\" fill-rule=\"evenodd\" fill-opacity=\"0.5\"/>\n",
       "<polyline clip-path=\"url(#clip8202)\" style=\"stroke:#000000; stroke-width:4; stroke-opacity:0.5; fill:none\" points=\"\n",
       "  850.815,1247.44 1005.63,1247.44 1117.7,1199.43 962.881,1199.43 962.881,1199.43 850.815,1247.44 \n",
       "  \"/>\n",
       "<path clip-path=\"url(#clip8202)\" d=\"\n",
       "M731.745 1295.44 L891.229 1295.44 L1007.96 1247.44 L848.48 1247.44 L848.48 1247.44 L731.745 1295.44 L731.745 1295.44  Z\n",
       "  \" fill=\"#009af9\" fill-rule=\"evenodd\" fill-opacity=\"0.5\"/>\n",
       "<polyline clip-path=\"url(#clip8202)\" style=\"stroke:#000000; stroke-width:4; stroke-opacity:0.5; fill:none\" points=\"\n",
       "  731.745,1295.44 891.229,1295.44 1007.96,1247.44 848.48,1247.44 848.48,1247.44 731.745,1295.44 \n",
       "  \"/>\n",
       "<path clip-path=\"url(#clip8202)\" d=\"\n",
       "M608.005 1343.45 L772.159 1343.45 L893.563 1295.44 L729.41 1295.44 L729.41 1295.44 L608.005 1343.45 L608.005 1343.45  Z\n",
       "  \" fill=\"#009af9\" fill-rule=\"evenodd\" fill-opacity=\"0.5\"/>\n",
       "<polyline clip-path=\"url(#clip8202)\" style=\"stroke:#000000; stroke-width:4; stroke-opacity:0.5; fill:none\" points=\"\n",
       "  608.005,1343.45 772.159,1343.45 893.563,1295.44 729.41,1295.44 729.41,1295.44 608.005,1343.45 \n",
       "  \"/>\n",
       "<path clip-path=\"url(#clip8202)\" d=\"\n",
       "M479.597 1391.46 L648.419 1391.46 L774.493 1343.45 L605.671 1343.45 L479.597 1391.46 L479.597 1391.46  Z\n",
       "  \" fill=\"#009af9\" fill-rule=\"evenodd\" fill-opacity=\"0.5\"/>\n",
       "<polyline clip-path=\"url(#clip8202)\" style=\"stroke:#000000; stroke-width:4; stroke-opacity:0.5; fill:none\" points=\"\n",
       "  479.597,1391.46 648.419,1391.46 774.493,1343.45 605.671,1343.45 479.597,1391.46 \n",
       "  \"/>\n",
       "<path clip-path=\"url(#clip8202)\" d=\"\n",
       "M346.518 1439.47 L520.01 1439.47 L650.754 1391.46 L477.262 1391.46 L346.518 1439.47 L346.518 1439.47  Z\n",
       "  \" fill=\"#009af9\" fill-rule=\"evenodd\" fill-opacity=\"0.5\"/>\n",
       "<polyline clip-path=\"url(#clip8202)\" style=\"stroke:#000000; stroke-width:4; stroke-opacity:0.5; fill:none\" points=\"\n",
       "  346.518,1439.47 520.01,1439.47 650.754,1391.46 477.262,1391.46 346.518,1439.47 \n",
       "  \"/>\n",
       "<path clip-path=\"url(#clip8202)\" d=\"\n",
       "M208.77 1487.47 L386.932 1487.47 L522.345 1439.47 L344.183 1439.47 L208.77 1487.47 L208.77 1487.47  Z\n",
       "  \" fill=\"#009af9\" fill-rule=\"evenodd\" fill-opacity=\"0.5\"/>\n",
       "<polyline clip-path=\"url(#clip8202)\" style=\"stroke:#000000; stroke-width:4; stroke-opacity:0.5; fill:none\" points=\"\n",
       "  208.77,1487.47 386.932,1487.47 522.345,1439.47 344.183,1439.47 208.77,1487.47 \n",
       "  \"/>\n",
       "<path clip-path=\"url(#clip8202)\" d=\"\n",
       "M192747 -97827.8 L406.066 -97827.8 L406.066 99362.5 L192747 99362.5 L192747 -97827.8 L192747 -97827.8  Z\n",
       "  \" fill=\"#e26f46\" fill-rule=\"evenodd\" fill-opacity=\"0.2\"/>\n",
       "<polyline clip-path=\"url(#clip8202)\" style=\"stroke:#000000; stroke-width:4; stroke-opacity:0.2; fill:none\" points=\"\n",
       "  192747,-97827.8 406.066,-97827.8 406.066,99362.5 192747,99362.5 192747,-97827.8 \n",
       "  \"/>\n",
       "<path clip-path=\"url(#clip8200)\" d=\"\n",
       "M280.77 312.204 L702.668 312.204 L702.668 130.764 L280.77 130.764  Z\n",
       "  \" fill=\"#ffffff\" fill-rule=\"evenodd\" fill-opacity=\"1\"/>\n",
       "<polyline clip-path=\"url(#clip8200)\" style=\"stroke:#000000; stroke-width:4; stroke-opacity:1; fill:none\" points=\"\n",
       "  280.77,312.204 702.668,312.204 702.668,130.764 280.77,130.764 280.77,312.204 \n",
       "  \"/>\n",
       "<path clip-path=\"url(#clip8200)\" d=\"\n",
       "M304.77 215.436 L448.77 215.436 L448.77 167.052 L304.77 167.052 L304.77 215.436  Z\n",
       "  \" fill=\"#009af9\" fill-rule=\"evenodd\" fill-opacity=\"0.5\"/>\n",
       "<polyline clip-path=\"url(#clip8200)\" style=\"stroke:#000000; stroke-width:4; stroke-opacity:1; fill:none\" points=\"\n",
       "  304.77,215.436 448.77,215.436 448.77,167.052 304.77,167.052 304.77,215.436 \n",
       "  \"/>\n",
       "<g clip-path=\"url(#clip8200)\">\n",
       "<text style=\"fill:#000000; fill-opacity:1; font-family:Arial,Helvetica Neue,Helvetica,sans-serif; font-size:48px; text-anchor:start;\" transform=\"rotate(0, 472.77, 208.744)\" x=\"472.77\" y=\"208.744\">flowpipe</text>\n",
       "</g>\n",
       "<path clip-path=\"url(#clip8200)\" d=\"\n",
       "M304.77 275.916 L448.77 275.916 L448.77 227.532 L304.77 227.532 L304.77 275.916  Z\n",
       "  \" fill=\"#e26f46\" fill-rule=\"evenodd\" fill-opacity=\"0.2\"/>\n",
       "<polyline clip-path=\"url(#clip8200)\" style=\"stroke:#000000; stroke-width:4; stroke-opacity:1; fill:none\" points=\"\n",
       "  304.77,275.916 448.77,275.916 448.77,227.532 304.77,227.532 304.77,275.916 \n",
       "  \"/>\n",
       "<g clip-path=\"url(#clip8200)\">\n",
       "<text style=\"fill:#000000; fill-opacity:1; font-family:Arial,Helvetica Neue,Helvetica,sans-serif; font-size:48px; text-anchor:start;\" transform=\"rotate(0, 472.77, 269.224)\" x=\"472.77\" y=\"269.224\">invariant</text>\n",
       "</g>\n",
       "</svg>\n"
      ]
     },
     "execution_count": 50,
     "metadata": {},
     "output_type": "execute_result"
    }
   ],
   "source": [
    "plot(sol, vars=(1, 2), lab=\"flowpipe\")\n",
    "plot!(stateset(prob_cont), alpha=.2, lab=\"invariant\", legend=:topleft)"
   ]
  },
  {
   "cell_type": "markdown",
   "metadata": {},
   "source": [
    "Note that there are only two sets which intersect the guard. Morover, the invariant intersection inside the continuous post has effectively cut the computation until thre is one reach-set whose intersection with the invariant is empty."
   ]
  },
  {
   "cell_type": "markdown",
   "metadata": {},
   "source": [
    "Next we consider the discrete transition. We convexify the last two sets."
   ]
  },
  {
   "cell_type": "code",
   "execution_count": 107,
   "metadata": {},
   "outputs": [
    {
     "data": {
      "text/plain": [
       "ReachSet{Float64,ConvexHullArray{Float64,Zonotope{Float64,Array{Float64,1},Array{Float64,2}}}}"
      ]
     },
     "execution_count": 107,
     "metadata": {},
     "output_type": "execute_result"
    }
   ],
   "source": [
    "X = Convexify(sol[end-1:end]);\n",
    "typeof(X)"
   ]
  },
  {
   "cell_type": "code",
   "execution_count": 114,
   "metadata": {},
   "outputs": [],
   "source": [
    "using ReachabilityAnalysis: apply\n",
    "\n",
    "R = prob.s.resetmaps[1].A\n",
    "W = ZeroSet(size(R, 1))\n",
    "G = stateset(prob.s.resetmaps[1])\n",
    "I⁻ = stateset(prob.s.modes[1])\n",
    "I⁺ = I⁻;\n",
    "\n",
    "tr = DiscreteTransition(R, W, G, I⁻, I⁺);"
   ]
  },
  {
   "cell_type": "code",
   "execution_count": 116,
   "metadata": {},
   "outputs": [],
   "source": [
    "H = prob.s;"
   ]
  },
  {
   "cell_type": "code",
   "execution_count": 120,
   "metadata": {},
   "outputs": [
    {
     "name": "stdout",
     "output_type": "stream",
     "text": [
      "search: \u001b[0m\u001b[1mD\u001b[22m\u001b[0m\u001b[1mi\u001b[22m\u001b[0m\u001b[1ms\u001b[22m\u001b[0m\u001b[1mc\u001b[22m\u001b[0m\u001b[1mr\u001b[22m\u001b[0m\u001b[1me\u001b[22m\u001b[0m\u001b[1mt\u001b[22m\u001b[0m\u001b[1me\u001b[22m\u001b[0m\u001b[1mT\u001b[22m\u001b[0m\u001b[1mr\u001b[22m\u001b[0m\u001b[1ma\u001b[22m\u001b[0m\u001b[1mn\u001b[22m\u001b[0m\u001b[1ms\u001b[22m\u001b[0m\u001b[1mi\u001b[22m\u001b[0m\u001b[1mt\u001b[22m\u001b[0m\u001b[1mi\u001b[22m\u001b[0m\u001b[1mo\u001b[22m\u001b[0m\u001b[1mn\u001b[22m\n",
      "\n"
     ]
    },
    {
     "data": {
      "text/latex": [
       "\\begin{verbatim}\n",
       "DiscreteTransition{RT, GT, IT⁻, IT⁺, WT} <: AbstractTransition\n",
       "\\end{verbatim}\n",
       "Type that encodes a discrete transition with an affine assignment of the form:\n",
       "\n",
       "$$    post_d(X) = (R(X ∩ G ∩ I⁻) ⊕ W) ∩ I⁺$$\n",
       "where $I⁻$ and $I⁺$  are invariants at the source and the target locations respectively, $G ⊆ \\mathbb{R}^n$ is the guard set of the transition, the assignment is of the form $x^+ := Rx + w$, $w ∈ W$, $x^+ ∈ \\mathbb{R}^m$ are the values after the transition, $R ∈ \\mathbb{R}^{m\\times n}$ is the assignment map (or reset map) and $W ⊆ \\mathbb{R}^m$ is a closed and bounded convex set of non-deterministic inputs.\n",
       "\n",
       "\\subsubsection{Fields}\n",
       "\\begin{itemize}\n",
       "\\item \\texttt{R}  – assignment map\n",
       "\n",
       "\n",
       "\\item \\texttt{W}  – non-deterministic inputs\n",
       "\n",
       "\n",
       "\\item \\texttt{G}  – guard set of the transition from the source location to the target location\n",
       "\n",
       "\n",
       "\\item \\texttt{I⁻} – invariant at the source location\n",
       "\n",
       "\n",
       "\\item \\texttt{I⁺} – invariant at the target location\n",
       "\n",
       "\\end{itemize}\n"
      ],
      "text/markdown": [
       "```\n",
       "DiscreteTransition{RT, GT, IT⁻, IT⁺, WT} <: AbstractTransition\n",
       "```\n",
       "\n",
       "Type that encodes a discrete transition with an affine assignment of the form:\n",
       "\n",
       "$$\n",
       "    post_d(X) = (R(X ∩ G ∩ I⁻) ⊕ W) ∩ I⁺\n",
       "$$\n",
       "\n",
       "where $I⁻$ and $I⁺$  are invariants at the source and the target locations respectively, $G ⊆ \\mathbb{R}^n$ is the guard set of the transition, the assignment is of the form $x^+ := Rx + w$, $w ∈ W$, $x^+ ∈ \\mathbb{R}^m$ are the values after the transition, $R ∈ \\mathbb{R}^{m\\times n}$ is the assignment map (or reset map) and $W ⊆ \\mathbb{R}^m$ is a closed and bounded convex set of non-deterministic inputs.\n",
       "\n",
       "### Fields\n",
       "\n",
       "  * `R`  – assignment map\n",
       "  * `W`  – non-deterministic inputs\n",
       "  * `G`  – guard set of the transition from the source location to the target location\n",
       "  * `I⁻` – invariant at the source location\n",
       "  * `I⁺` – invariant at the target location\n"
      ],
      "text/plain": [
       "\u001b[36m  DiscreteTransition{RT, GT, IT⁻, IT⁺, WT} <: AbstractTransition\u001b[39m\n",
       "\n",
       "  Type that encodes a discrete transition with an affine assignment of the\n",
       "  form:\n",
       "\n",
       "\u001b[35m    post_d(X) = (R(X ∩ G ∩ I⁻) ⊕ W) ∩ I⁺\u001b[39m\n",
       "\n",
       "  where \u001b[35mI⁻\u001b[39m and \u001b[35mI⁺\u001b[39m are invariants at the source and the target locations\n",
       "  respectively, \u001b[35mG ⊆ \\mathbb{R}^n\u001b[39m is the guard set of the transition, the\n",
       "  assignment is of the form \u001b[35mx^+ := Rx + w\u001b[39m, \u001b[35mw ∈ W\u001b[39m, \u001b[35mx^+ ∈ \\mathbb{R}^m\u001b[39m are the\n",
       "  values after the transition, \u001b[35mR ∈ \\mathbb{R}^{m\\times n}\u001b[39m is the assignment\n",
       "  map (or reset map) and \u001b[35mW ⊆ \\mathbb{R}^m\u001b[39m is a closed and bounded convex set\n",
       "  of non-deterministic inputs.\n",
       "\n",
       "\u001b[1m  Fields\u001b[22m\n",
       "\u001b[1m  ––––––––\u001b[22m\n",
       "\n",
       "    •    \u001b[36mR\u001b[39m – assignment map\n",
       "\n",
       "    •    \u001b[36mW\u001b[39m – non-deterministic inputs\n",
       "\n",
       "    •    \u001b[36mG\u001b[39m – guard set of the transition from the source location to the\n",
       "        target location\n",
       "\n",
       "    •    \u001b[36mI⁻\u001b[39m – invariant at the source location\n",
       "\n",
       "    •    \u001b[36mI⁺\u001b[39m – invariant at the target location"
      ]
     },
     "execution_count": 120,
     "metadata": {},
     "output_type": "execute_result"
    }
   ],
   "source": [
    "?DiscreteTransition"
   ]
  },
  {
   "cell_type": "code",
   "execution_count": 122,
   "metadata": {},
   "outputs": [
    {
     "ename": "MethodError",
     "evalue": "MethodError: no method matching _intersection(::ConvexHullArray{Float64,Zonotope{Float64,Array{Float64,1},Array{Float64,2}}}, ::HPolyhedron{Float64,Array{Float64,1}}, ::HalfSpace{Float64,Array{Float64,1}})\nClosest candidates are:\n  _intersection(!Matched::AbstractPolyhedron, ::AbstractPolyhedron, ::AbstractPolyhedron, !Matched::ReachabilityAnalysis.HRepIntersection) at /home/mforets/.julia/dev/ReachabilityAnalysis/src/Flowpipes/setops.jl:750\n  _intersection(!Matched::AbstractPolyhedron, ::AbstractPolyhedron, ::AbstractPolyhedron, !Matched::AbstractPolyhedron, !Matched::ReachabilityAnalysis.HRepIntersection) at /home/mforets/.julia/dev/ReachabilityAnalysis/src/Flowpipes/setops.jl:759\n  _intersection(!Matched::AbstractPolyhedron, ::AbstractPolyhedron, !Matched::ReachabilityAnalysis.HRepIntersection) at /home/mforets/.julia/dev/ReachabilityAnalysis/src/Flowpipes/setops.jl:742",
     "output_type": "error",
     "traceback": [
      "MethodError: no method matching _intersection(::ConvexHullArray{Float64,Zonotope{Float64,Array{Float64,1},Array{Float64,2}}}, ::HPolyhedron{Float64,Array{Float64,1}}, ::HalfSpace{Float64,Array{Float64,1}})\nClosest candidates are:\n  _intersection(!Matched::AbstractPolyhedron, ::AbstractPolyhedron, ::AbstractPolyhedron, !Matched::ReachabilityAnalysis.HRepIntersection) at /home/mforets/.julia/dev/ReachabilityAnalysis/src/Flowpipes/setops.jl:750\n  _intersection(!Matched::AbstractPolyhedron, ::AbstractPolyhedron, ::AbstractPolyhedron, !Matched::AbstractPolyhedron, !Matched::ReachabilityAnalysis.HRepIntersection) at /home/mforets/.julia/dev/ReachabilityAnalysis/src/Flowpipes/setops.jl:759\n  _intersection(!Matched::AbstractPolyhedron, ::AbstractPolyhedron, !Matched::ReachabilityAnalysis.HRepIntersection) at /home/mforets/.julia/dev/ReachabilityAnalysis/src/Flowpipes/setops.jl:742",
      "",
      "Stacktrace:",
      " [1] apply2(::DiscreteTransition{Array{Float64,2},ZeroSet{Float64},HPolyhedron{Float64,Array{Float64,1}},HalfSpace{Float64,Array{Float64,1}},HalfSpace{Float64,Array{Float64,1}}}, ::ConvexHullArray{Float64,Zonotope{Float64,Array{Float64,1},Array{Float64,2}}}) at ./In[122]:2",
      " [2] top-level scope at In[122]:5"
     ]
    }
   ],
   "source": [
    "function apply2(tr, X)\n",
    "    ReachabilityAnalysis._intersection(X, G, I⁻)\n",
    "#    linear_map(R, X)\n",
    "end\n",
    "apply2(tr, set(X))"
   ]
  },
  {
   "cell_type": "code",
   "execution_count": 117,
   "metadata": {},
   "outputs": [
    {
     "ename": "MethodError",
     "evalue": "MethodError: no method matching apply(::DiscreteTransition{Array{Float64,2},ZeroSet{Float64},HPolyhedron{Float64,Array{Float64,1}},HalfSpace{Float64,Array{Float64,1}},HalfSpace{Float64,Array{Float64,1}}}, ::ConvexHullArray{Float64,Zonotope{Float64,Array{Float64,1},Array{Float64,2}}}, ::ReachabilityAnalysis.HRepIntersection)\nClosest candidates are:\n  apply(::DiscreteTransition, !Matched::ReachabilityAnalysis.AbstractLazyReachSet, ::ReachabilityAnalysis.AbstractIntersectionMethod) at /home/mforets/.julia/dev/ReachabilityAnalysis/src/Hybrid/transitions.jl:51\n  apply(!Matched::DiscreteTransition{#s244,#s243,GT,IT⁻,IT⁺} where #s243<:ZeroSet where #s244<:IdentityMap, ::ConvexHullArray{N,PT}, ::ReachabilityAnalysis.HRepIntersection) where {N, PT<:AbstractPolytope{N}, GT<:AbstractPolyhedron{N}, IT⁻<:AbstractPolyhedron{N}, IT⁺<:AbstractPolyhedron{N}} at /home/mforets/.julia/dev/ReachabilityAnalysis/src/Hybrid/transitions.jl:109\n  apply(!Matched::DiscreteTransition{#s244,#s243,GT,IT⁻,IT⁺} where #s243<:ZeroSet where #s244<:IdentityMap, !Matched::AbstractPolytope{N}, ::ReachabilityAnalysis.HRepIntersection) where {N, GT<:AbstractPolyhedron{N}, IT⁻<:AbstractPolyhedron{N}, IT⁺<:AbstractPolyhedron{N}} at /home/mforets/.julia/dev/ReachabilityAnalysis/src/Hybrid/transitions.jl:69\n  ...",
     "output_type": "error",
     "traceback": [
      "MethodError: no method matching apply(::DiscreteTransition{Array{Float64,2},ZeroSet{Float64},HPolyhedron{Float64,Array{Float64,1}},HalfSpace{Float64,Array{Float64,1}},HalfSpace{Float64,Array{Float64,1}}}, ::ConvexHullArray{Float64,Zonotope{Float64,Array{Float64,1},Array{Float64,2}}}, ::ReachabilityAnalysis.HRepIntersection)\nClosest candidates are:\n  apply(::DiscreteTransition, !Matched::ReachabilityAnalysis.AbstractLazyReachSet, ::ReachabilityAnalysis.AbstractIntersectionMethod) at /home/mforets/.julia/dev/ReachabilityAnalysis/src/Hybrid/transitions.jl:51\n  apply(!Matched::DiscreteTransition{#s244,#s243,GT,IT⁻,IT⁺} where #s243<:ZeroSet where #s244<:IdentityMap, ::ConvexHullArray{N,PT}, ::ReachabilityAnalysis.HRepIntersection) where {N, PT<:AbstractPolytope{N}, GT<:AbstractPolyhedron{N}, IT⁻<:AbstractPolyhedron{N}, IT⁺<:AbstractPolyhedron{N}} at /home/mforets/.julia/dev/ReachabilityAnalysis/src/Hybrid/transitions.jl:109\n  apply(!Matched::DiscreteTransition{#s244,#s243,GT,IT⁻,IT⁺} where #s243<:ZeroSet where #s244<:IdentityMap, !Matched::AbstractPolytope{N}, ::ReachabilityAnalysis.HRepIntersection) where {N, GT<:AbstractPolyhedron{N}, IT⁻<:AbstractPolyhedron{N}, IT⁺<:AbstractPolyhedron{N}} at /home/mforets/.julia/dev/ReachabilityAnalysis/src/Hybrid/transitions.jl:69\n  ...",
      "",
      "Stacktrace:",
      " [1] apply(::DiscreteTransition{Array{Float64,2},ZeroSet{Float64},HPolyhedron{Float64,Array{Float64,1}},HalfSpace{Float64,Array{Float64,1}},HalfSpace{Float64,Array{Float64,1}}}, ::ReachSet{Float64,ConvexHullArray{Float64,Zonotope{Float64,Array{Float64,1},Array{Float64,2}}}}, ::ReachabilityAnalysis.HRepIntersection) at /home/mforets/.julia/dev/ReachabilityAnalysis/src/Hybrid/transitions.jl:61",
      " [2] top-level scope at In[117]:1"
     ]
    }
   ],
   "source": [
    "apply(tr, X, ReachabilityAnalysis.HRepIntersection())"
   ]
  },
  {
   "cell_type": "code",
   "execution_count": null,
   "metadata": {},
   "outputs": [],
   "source": []
  },
  {
   "cell_type": "code",
   "execution_count": null,
   "metadata": {},
   "outputs": [],
   "source": []
  },
  {
   "cell_type": "markdown",
   "metadata": {},
   "source": [
    "## Discussion"
   ]
  },
  {
   "cell_type": "code",
   "execution_count": null,
   "metadata": {},
   "outputs": [],
   "source": []
  },
  {
   "cell_type": "code",
   "execution_count": null,
   "metadata": {},
   "outputs": [],
   "source": []
  },
  {
   "cell_type": "code",
   "execution_count": null,
   "metadata": {},
   "outputs": [],
   "source": []
  },
  {
   "cell_type": "code",
   "execution_count": null,
   "metadata": {},
   "outputs": [],
   "source": []
  },
  {
   "cell_type": "code",
   "execution_count": null,
   "metadata": {},
   "outputs": [],
   "source": []
  },
  {
   "cell_type": "code",
   "execution_count": null,
   "metadata": {},
   "outputs": [],
   "source": [
    "function bouncing_ball()\n",
    "    # automaton structure\n",
    "    automaton = LightAutomaton(1)\n",
    "\n",
    "    # mode 1\n",
    "    A = [0.0 1.0; 0.0 0.0]\n",
    "    B = reshape([0.0, -1.0], (2, 1))\n",
    "    U = Singleton([1.0])\n",
    "    inv = HalfSpace([-1.0, 0.0], 0.0) # x >= 0\n",
    "    m1 = ConstrainedLinearControlContinuousSystem(A, B, inv, ConstantInput(U))\n",
    "\n",
    "    # modes\n",
    "    modes = [m1]\n",
    "\n",
    "    # transition from m1 to m1 (self-loop)\n",
    "    add_transition!(automaton, 1, 1, 1)\n",
    "    A = [1.0 0.0; 0.0 -0.75]\n",
    "    guard = HPolyhedron([HalfSpace([0.0, 1.0], 0.0),   # v ≤ 0\n",
    "                         HalfSpace([-1.0, 0.0], 0.0),  # x ≥ 0\n",
    "                         HalfSpace([1.0, 0.0], 0.0)])  # x ≤ 0\n",
    "    t1 = ConstrainedLinearMap(A, guard)\n",
    "\n",
    "    # transition annotations\n",
    "    resetmaps = [t1]\n",
    "\n",
    "    # switching\n",
    "    switchings = [AutonomousSwitching()]\n",
    "\n",
    "    ℋ = HybridSystem(automaton, modes, resetmaps, switchings)\n",
    "\n",
    "    # initial condition in mode 1\n",
    "    X0 = Hyperrectangle(low=[10.0, 0.0], high=[10.2, 0.0])\n",
    "    initial_condition = [(1, X0)]\n",
    "\n",
    "    system = InitialValueProblem(ℋ, initial_condition)\n",
    "\n",
    "    options = Options(:mode=>\"reach\", :T=>5.0,\n",
    "                      :plot_vars=>[1, 2], :max_jumps=>1, :verbosity=>1)\n",
    "\n",
    "    return (system, options)\n",
    "end"
   ]
  },
  {
   "cell_type": "code",
   "execution_count": null,
   "metadata": {},
   "outputs": [],
   "source": [
    "# invariant: x >= 0\n",
    "function bouncing_ball(; X0 = (10 .. 10.2) × (-0.1 .. 0.1),  # set of initial conditions\n",
    "                         max_jumps=1,\n",
    "                         Δt=(0.0, 10.0), # sufficiently high, for demonstration\n",
    "                         alg=GLGM06(δ=0.01)) # continuous post-operator\n",
    "    \n",
    "    # define the model\n",
    "    invariant = HalfSpace([-1.0, 0.0], 0.0)\n",
    "    falling = @system(z' = [0.0 1.0; 0.0 0.0] * z + [0.0, -g], z ∈ invariant)\n",
    "\n",
    "    guard = HPolyhedron([HalfSpace([1.0, 0.0], 0.0),   # x ≤ 0\n",
    "                         HalfSpace([0.0, 1.0], 0.0)]) # v ≤ 0\n",
    "\n",
    "    assignment = ConstrainedLinearMap([1.0 0.0; 0.0 -c], guard)\n",
    "\n",
    "    N = Float64\n",
    "    ZT = Zonotope{N, Vector{N}, Matrix{N}}\n",
    "    RT = ReachSet{N, ZT}\n",
    "    out = Vector{ShiftedFlowpipe{Flowpipe{N, RT, Vector{RT}}, N}}()\n",
    "    t0 = 0.0\n",
    "\n",
    "    for k in 1 : max_jumps + 1\n",
    "\n",
    "        # initial-value problem\n",
    "        prob = @ivp(falling, x(0) ∈ X0)\n",
    "\n",
    "        # solve it; the time span should be sufficiently high\n",
    "        sol = solve(prob, tspan=Δt, alg=alg)\n",
    "\n",
    "        # detect reach-sets whose intersection with the guard is non-empty (of course in principle\n",
    "        # all sets should be checked)\n",
    "        aux = findfirst([_is_intersection_empty(set(X), guard) for X in sol[end:-1:1]])\n",
    "\n",
    "        # push solution (to simplify we don't care about pushing parts of sets wich are removed)\n",
    "        push!(out, ShiftedFlowpipe(sol.F[1:(length(sol.F) - aux + 2)], t0))\n",
    "        \n",
    "        # convexify and convert to vrep\n",
    "        C = ReachabilityAnalysis.Convexify(sol[end-aux+1:end])\n",
    "        Cvertex = convex_hull(vcat([vertices_list(Z) for Z in LazySets.array(set(C))]...)) |> VPolygon\n",
    "        t0 += tstart(C)\n",
    "        \n",
    "        # compute concrete intersectin with the guard\n",
    "        I = intersection(Cvertex, guard)\n",
    "\n",
    "        # compute concrete intersection with the invariant\n",
    "        X = intersection(I, invariant)\n",
    "\n",
    "        # apply the reset map and get the new initial set\n",
    "        X0 = apply(assignment, X)\n",
    "    end\n",
    "    return HybridFlowpipe(out)\n",
    "end"
   ]
  },
  {
   "cell_type": "markdown",
   "metadata": {},
   "source": [
    "-----"
   ]
  },
  {
   "cell_type": "markdown",
   "metadata": {},
   "source": [
    "**References:**\n",
    "\n",
    "- [JuliaReach: a toolbox for set-based reachability](https://arxiv.org/abs/1901.10736) -- describes the approach for hybrid systems reachability described in this notebook\n",
    "- [Reachability Analysis for Hybrid Systems using Support Functions](http://www-ljk.imag.fr/membres/Antoine.Girard/Publications/cav2009.pdf) -- nice high-level description of reachability analysis for a hybrid system\n",
    "- A more complete list of references: https://juliareach.github.io/ReachabilityAnalysis.jl/dev/references/"
   ]
  },
  {
   "cell_type": "markdown",
   "metadata": {},
   "source": [
    "## Hybrid automaton"
   ]
  },
  {
   "cell_type": "code",
   "execution_count": null,
   "metadata": {},
   "outputs": [],
   "source": [
    "using Revise, ReachabilityAnalysis, Plots"
   ]
  },
  {
   "cell_type": "markdown",
   "metadata": {},
   "source": [
    "This model has two state variables $z = (x, v)$ where $x$ is position and $v$ is velocity. The equations of motion are\n",
    "\n",
    "$$\n",
    "\\begin{cases}\n",
    "x' = v \\\\\n",
    "v' = -g\n",
    "\\end{cases}\n",
    "$$"
   ]
  },
  {
   "cell_type": "code",
   "execution_count": null,
   "metadata": {},
   "outputs": [],
   "source": [
    "const g = 9.8\n",
    "\n",
    "# falling mode\n",
    "X = HalfSpace([-1.0, 0.0], 0.0) # invaiant: x >= 0\n",
    "falling = @system(z' = [0.0 1.0; 0.0 0.0] * z + [0.0, -g], z ∈ X);"
   ]
  },
  {
   "cell_type": "markdown",
   "metadata": {},
   "source": [
    "We model the bouncing ball as a hybrid automaton with a single mode and a self-loop, with guard \n",
    "\n",
    "$$\n",
    "G : \\{(x, y) \\in \\mathbb{R}^2: (x \\leq 0) \\cap (v \\leq 0) \\}\n",
    "$$"
   ]
  },
  {
   "cell_type": "code",
   "execution_count": null,
   "metadata": {},
   "outputs": [],
   "source": [
    "G = HPolyhedron([HalfSpace([1.0, 0.0], 0.0),   # x ≤ 0\n",
    "                 HalfSpace([0.0, 1.0], 0.0)]); # v ≤ 0"
   ]
  },
  {
   "cell_type": "markdown",
   "metadata": {},
   "source": [
    "When the ball bounces in the floor, it looses some energy. We model this with an assignment:"
   ]
  },
  {
   "cell_type": "markdown",
   "metadata": {},
   "source": [
    "$$\n",
    "\\begin{cases}\n",
    "x := x \\\\\n",
    "v := -c v\n",
    "\\end{cases}\n",
    "$$"
   ]
  },
  {
   "cell_type": "markdown",
   "metadata": {},
   "source": [
    "where $c > 0$ is some predefined constant; let $c = 0.75$."
   ]
  },
  {
   "cell_type": "code",
   "execution_count": null,
   "metadata": {},
   "outputs": [],
   "source": [
    "assignment = ConstrainedLinearMap([1.0 0.0; 0.0 -0.75], guard);"
   ]
  },
  {
   "cell_type": "markdown",
   "metadata": {},
   "source": [
    "## Computing the flowpipe"
   ]
  },
  {
   "cell_type": "markdown",
   "metadata": {},
   "source": [
    "Now we compute the continuous evolution until the first tim the ball hits the ground:"
   ]
  },
  {
   "cell_type": "code",
   "execution_count": null,
   "metadata": {},
   "outputs": [],
   "source": [
    "# set of initial conditions\n",
    "X0 = (10 .. 10.2) × (-0.1 .. 0.1)\n",
    "\n",
    "# initial-value problem\n",
    "prob = @ivp(falling, x(0) ∈ X0)\n",
    "\n",
    "# solve it; the time span should be sufficiently high\n",
    "sol = solve(prob, tspan=(0.0, 10.0), alg=GLGM06(δ=0.05));"
   ]
  },
  {
   "cell_type": "code",
   "execution_count": null,
   "metadata": {},
   "outputs": [],
   "source": [
    "plot(sol, vars=(1, 2), xlab=\"x\", ylab=\"v\")\n",
    "plot!(sol[end], vars=(1, 2)) # last set"
   ]
  },
  {
   "cell_type": "markdown",
   "metadata": {},
   "source": [
    "## Computing the discrete succesors"
   ]
  },
  {
   "cell_type": "markdown",
   "metadata": {},
   "source": [
    "Now we take the convex hull of all those sets which actually intersect the guard."
   ]
  },
  {
   "cell_type": "code",
   "execution_count": null,
   "metadata": {},
   "outputs": [],
   "source": [
    "using ReachabilityAnalysis: _is_intersection_empty"
   ]
  },
  {
   "cell_type": "code",
   "execution_count": null,
   "metadata": {},
   "outputs": [],
   "source": [
    "findfirst([_is_intersection_empty(set(X), guard) for X in sol[end:-1:1]])"
   ]
  },
  {
   "cell_type": "markdown",
   "metadata": {},
   "source": [
    "So only the last four sets intersect with the guard."
   ]
  },
  {
   "cell_type": "markdown",
   "metadata": {},
   "source": [
    "We take their convex hull and overapproximate it with another zonotope."
   ]
  },
  {
   "cell_type": "markdown",
   "metadata": {},
   "source": [
    "What convexify does in the next line is to take the lazy convex hull array of the sets:"
   ]
  },
  {
   "cell_type": "code",
   "execution_count": null,
   "metadata": {},
   "outputs": [],
   "source": [
    "C = ReachabilityAnalysis.Convexify(sol[end-3:end])"
   ]
  },
  {
   "cell_type": "code",
   "execution_count": null,
   "metadata": {},
   "outputs": [],
   "source": [
    "plot(set(C), 1e-3, xlab=\"x\", ylab=\"v\")\n",
    "plot!([set(R) for R in sol[end-3:end]])"
   ]
  },
  {
   "cell_type": "markdown",
   "metadata": {},
   "source": [
    "Hence, we know that $C$ contains all trajectories that may take the transition for the time span:"
   ]
  },
  {
   "cell_type": "code",
   "execution_count": null,
   "metadata": {},
   "outputs": [],
   "source": [
    "tspan(C)"
   ]
  },
  {
   "cell_type": "markdown",
   "metadata": {},
   "source": [
    "Working with $C$ instead of each reach-set has the benefit that the computatinal cost is lower; however, using the convex hull induces an overapproximation.\n",
    "\n",
    "Let's compute the convex hull exactly using vertices -- important: this is **NOT** the way to do it in general because changing to vrep is expensive; this is only for illustration.. in general we would use support functins (\"templates\") or polytopic overapproximations following by an overapprox with a zonotope."
   ]
  },
  {
   "cell_type": "code",
   "execution_count": null,
   "metadata": {},
   "outputs": [],
   "source": [
    "Cvertex = convex_hull(vcat([vertices_list(Z) for Z in LazySets.array(set(C))]...)) |> VPolygon"
   ]
  },
  {
   "cell_type": "code",
   "execution_count": null,
   "metadata": {},
   "outputs": [],
   "source": [
    "plot(Cvertex) # convex hull with vertices is ok"
   ]
  },
  {
   "cell_type": "markdown",
   "metadata": {},
   "source": [
    "Now we compute the concrete intersection with the guard set:"
   ]
  },
  {
   "cell_type": "code",
   "execution_count": null,
   "metadata": {},
   "outputs": [],
   "source": [
    "I = intersection(Cvertex, G)"
   ]
  },
  {
   "cell_type": "code",
   "execution_count": null,
   "metadata": {},
   "outputs": [],
   "source": [
    "plot!(I, lab=\"Intersection\")"
   ]
  },
  {
   "cell_type": "markdown",
   "metadata": {},
   "source": [
    "Then we compute the intersection with the invariant,"
   ]
  },
  {
   "cell_type": "code",
   "execution_count": null,
   "metadata": {},
   "outputs": [],
   "source": [
    "invariant = stateset(prob)"
   ]
  },
  {
   "cell_type": "code",
   "execution_count": null,
   "metadata": {},
   "outputs": [],
   "source": [
    "X = intersection(I, invariant)"
   ]
  },
  {
   "cell_type": "code",
   "execution_count": null,
   "metadata": {},
   "outputs": [],
   "source": [
    "# this is just a line as expected\n",
    "plot(X, lw=2.0)"
   ]
  },
  {
   "cell_type": "markdown",
   "metadata": {},
   "source": [
    "Now we apply the reset map,"
   ]
  },
  {
   "cell_type": "code",
   "execution_count": null,
   "metadata": {},
   "outputs": [],
   "source": [
    "A = apply(assignment, X)"
   ]
  },
  {
   "cell_type": "markdown",
   "metadata": {},
   "source": [
    "And finally we compute the intersection with invariant the target location (which is again `invariant`) so we don't need that."
   ]
  },
  {
   "cell_type": "markdown",
   "metadata": {},
   "source": [
    "The set $A$ possibly after approximation with a zonotope is used for the next loop. We can pass $A$ diretly to the solver though."
   ]
  },
  {
   "cell_type": "code",
   "execution_count": null,
   "metadata": {},
   "outputs": [],
   "source": [
    "vertices_list(A)"
   ]
  },
  {
   "cell_type": "code",
   "execution_count": null,
   "metadata": {},
   "outputs": [],
   "source": [
    "# initial-value problem\n",
    "prob = @ivp(falling, x(0) ∈ A)\n",
    "\n",
    "# solve it; the time span should be sufficiently high\n",
    "t0 = tstart(C)\n",
    "sol2 = solve(prob, tspan=(0.0, 10.0), alg=GLGM06(δ=0.01));\n",
    "sol2 = ShiftedFlowpipe(sol2.F, t0);"
   ]
  },
  {
   "cell_type": "code",
   "execution_count": null,
   "metadata": {},
   "outputs": [],
   "source": [
    "plot(sol, vars=(1, 2), xlab=\"x\", ylab=\"v\")\n",
    "plot!(sol2, vars=(1, 2))"
   ]
  },
  {
   "cell_type": "markdown",
   "metadata": {},
   "source": [
    "## Several jumps"
   ]
  },
  {
   "cell_type": "code",
   "execution_count": null,
   "metadata": {},
   "outputs": [],
   "source": [
    "# invariant: x >= 0\n",
    "function bouncing_ball(; X0 = (10 .. 10.2) × (-0.1 .. 0.1),  # set of initial conditions\n",
    "                         max_jumps=1,\n",
    "                         Δt=(0.0, 10.0), # sufficiently high, for demonstration\n",
    "                         alg=GLGM06(δ=0.01)) # continuous post-operator\n",
    "    \n",
    "    # define the model\n",
    "    invariant = HalfSpace([-1.0, 0.0], 0.0)\n",
    "    falling = @system(z' = [0.0 1.0; 0.0 0.0] * z + [0.0, -g], z ∈ invariant)\n",
    "\n",
    "    guard = HPolyhedron([HalfSpace([1.0, 0.0], 0.0),   # x ≤ 0\n",
    "                         HalfSpace([0.0, 1.0], 0.0)]) # v ≤ 0\n",
    "\n",
    "    assignment = ConstrainedLinearMap([1.0 0.0; 0.0 -c], guard)\n",
    "\n",
    "    N = Float64\n",
    "    ZT = Zonotope{N, Vector{N}, Matrix{N}}\n",
    "    RT = ReachSet{N, ZT}\n",
    "    out = Vector{ShiftedFlowpipe{Flowpipe{N, RT, Vector{RT}}, N}}()\n",
    "    t0 = 0.0\n",
    "\n",
    "    for k in 1 : max_jumps + 1\n",
    "\n",
    "        # initial-value problem\n",
    "        prob = @ivp(falling, x(0) ∈ X0)\n",
    "\n",
    "        # solve it; the time span should be sufficiently high\n",
    "        sol = solve(prob, tspan=Δt, alg=alg)\n",
    "\n",
    "        # detect reach-sets whose intersection with the guard is non-empty (of course in principle\n",
    "        # all sets should be checked)\n",
    "        aux = findfirst([_is_intersection_empty(set(X), guard) for X in sol[end:-1:1]])\n",
    "\n",
    "        # push solution (to simplify we don't care about pushing parts of sets wich are removed)\n",
    "        push!(out, ShiftedFlowpipe(sol.F[1:(length(sol.F) - aux + 2)], t0))\n",
    "        \n",
    "        # convexify and convert to vrep\n",
    "        C = ReachabilityAnalysis.Convexify(sol[end-aux+1:end])\n",
    "        Cvertex = convex_hull(vcat([vertices_list(Z) for Z in LazySets.array(set(C))]...)) |> VPolygon\n",
    "        t0 += tstart(C)\n",
    "        \n",
    "        # compute concrete intersectin with the guard\n",
    "        I = intersection(Cvertex, guard)\n",
    "\n",
    "        # compute concrete intersection with the invariant\n",
    "        X = intersection(I, invariant)\n",
    "\n",
    "        # apply the reset map and get the new initial set\n",
    "        X0 = apply(assignment, X)\n",
    "    end\n",
    "    return HybridFlowpipe(out)\n",
    "end"
   ]
  },
  {
   "cell_type": "code",
   "execution_count": null,
   "metadata": {
    "scrolled": true
   },
   "outputs": [],
   "source": [
    "sol = bouncing_ball(max_jumps=3);"
   ]
  },
  {
   "cell_type": "code",
   "execution_count": null,
   "metadata": {},
   "outputs": [],
   "source": [
    "plot(sol, vars=(1, 2), xlab=\"x\", ylab=\"v\")"
   ]
  }
 ],
 "metadata": {
  "kernelspec": {
   "display_name": "Julia 1.4.1",
   "language": "julia",
   "name": "julia-1.4"
  },
  "language_info": {
   "file_extension": ".jl",
   "mimetype": "application/julia",
   "name": "julia",
   "version": "1.4.1"
  }
 },
 "nbformat": 4,
 "nbformat_minor": 2
}
