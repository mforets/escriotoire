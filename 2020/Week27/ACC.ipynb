{
 "cells": [
  {
   "cell_type": "code",
   "execution_count": 21,
   "metadata": {},
   "outputs": [],
   "source": [
    "using Revise, NeuralNetworkAnalysis, JLD2, SparseArrays"
   ]
  },
  {
   "cell_type": "code",
   "execution_count": 46,
   "metadata": {},
   "outputs": [],
   "source": [
    "@load \"/home/mforets/.julia/dev/NeuralNetworkAnalysis/models/ACC/acc_controller_3_20.jld2\" controller;"
   ]
  },
  {
   "cell_type": "code",
   "execution_count": 47,
   "metadata": {},
   "outputs": [
    {
     "data": {
      "text/plain": [
       "1.4"
      ]
     },
     "execution_count": 47,
     "metadata": {},
     "output_type": "execute_result"
    }
   ],
   "source": [
    "@taylorize function ACC!(dx, x, p, t)\n",
    "    local mu = 0.0001 # friction parameter\n",
    "\n",
    "    # x1 = lead_car position\n",
    "    # x2 = lead_car velocity\n",
    "    # x3 = lead_car internal state\n",
    "\n",
    "    # x4 = ego_car position\n",
    "    # x5 = ego_car velocity\n",
    "    # x6 = ego_car internal state\n",
    "    \n",
    "    # lead car dynamics\n",
    "    local a_lead = -2.0\n",
    "\n",
    "    x_lead, v_lead, γ_lead, x_ego, v_ego, γ_ego, a_ego = x\n",
    "\n",
    "    dx[1] = v_lead\n",
    "    dx[2] = γ_lead\n",
    "    dx[3] = 2 * (a_lead - γ_lead) - mu * v_lead^2\n",
    "    dx[4] = v_ego\n",
    "    dx[5] = γ_ego\n",
    "    dx[6] = 2 * (a_ego - γ_ego) - mu * v_ego^2\n",
    "    dx[7] = zero(x_lead)\n",
    "    return dx\n",
    "end\n",
    "\n",
    "function relative_values(X)\n",
    "    v_ego_inf = -ρ(sparsevec([5], [-1.0], 6), X)\n",
    "    v_ego_sup = ρ(sparsevec([5], [1.0], 6), X)\n",
    "\n",
    "    # Drel = xlead - xego\n",
    "    Drel_inf = -ρ(sparsevec([1, 4], [-1.0, 1.0], 6), X)\n",
    "    Drel_sup = ρ(sparsevec([1, 4], [1.0, -1.0], 6), X)\n",
    "\n",
    "    # vrel = vlead - vego\n",
    "    vrel_inf = -ρ(sparsevec([2, 5], [-1.0, 1.0], 6), X)\n",
    "    vrel_sup = ρ(sparsevec([2, 5], [1.0, -1.0], 6), X)\n",
    "\n",
    "    low_Y = [Vset, Tgap, v_ego_inf, Drel_inf, vrel_inf]\n",
    "    high_Y = [Vset, Tgap, v_ego_sup, Drel_sup, vrel_sup]\n",
    "    Hyperrectangle(low_Y, high_Y)\n",
    "end\n",
    "\n",
    "const Vset = 30.0\n",
    "const Tgap = 1.4"
   ]
  },
  {
   "cell_type": "code",
   "execution_count": 48,
   "metadata": {},
   "outputs": [
    {
     "data": {
      "text/plain": [
       "Ai2z()"
      ]
     },
     "execution_count": 48,
     "metadata": {},
     "output_type": "execute_result"
    }
   ],
   "source": [
    "# define the initial-value problem\n",
    "X₀ = Hyperrectangle(low=[90., 32, 0, 10, 30, 0],\n",
    "                    high=[110, 32.2, 0, 11, 30.2, 0])\n",
    "\n",
    "#X₀ = 0.01 * X₀\n",
    "#X₀ = overapproximate(X₀, Hyperrectangle)\n",
    "\n",
    "U₀ = rand(Interval) # ignored\n",
    "prob = @ivp(x' = ACC!(x), dim: 7, x(0) ∈ X₀ × U₀)\n",
    "vars_idx = Dict(:state_vars=>1:6, :input_vars=>[], :control_vars=>7:7);\n",
    "\n",
    "plant = ControlledPlant(prob, controller, vars_idx);\n",
    "alg = TMJets(abs_tol=1e-9, orderT=8, orderQ=1)\n",
    "solver = Ai2z()"
   ]
  },
  {
   "cell_type": "code",
   "execution_count": 49,
   "metadata": {},
   "outputs": [
    {
     "data": {
      "text/plain": [
       "Hyperrectangle{Float64,Array{Float64,1},Array{Float64,1}}([30.0, 1.4, 30.000000000000004, 79.0, 1.8000000000000007], [30.0, 1.4, 30.2, 100.0, 2.1999999999999993])"
      ]
     },
     "execution_count": 49,
     "metadata": {},
     "output_type": "execute_result"
    }
   ],
   "source": [
    "# Applying initial control\n",
    "X0aux = relative_values(X₀)"
   ]
  },
  {
   "cell_type": "code",
   "execution_count": 50,
   "metadata": {},
   "outputs": [
    {
     "data": {
      "text/plain": [
       "10.0"
      ]
     },
     "execution_count": 50,
     "metadata": {},
     "output_type": "execute_result"
    }
   ],
   "source": [
    "radius(X₀)"
   ]
  },
  {
   "cell_type": "code",
   "execution_count": 51,
   "metadata": {},
   "outputs": [
    {
     "data": {
      "text/plain": [
       "100.0"
      ]
     },
     "execution_count": 51,
     "metadata": {},
     "output_type": "execute_result"
    }
   ],
   "source": [
    "radius(X0aux)"
   ]
  },
  {
   "cell_type": "code",
   "execution_count": 52,
   "metadata": {},
   "outputs": [
    {
     "data": {
      "text/plain": [
       "1-element Array{Zonotope{Float64,Array{Float64,1},Array{Float64,2}},1}:\n",
       " Zonotope{Float64,Array{Float64,1},Array{Float64,2}}([27.38906127543748], [-0.7463910167652833 -0.16738928365072347 … 1.591908212326068 -3.811899450144366])"
      ]
     },
     "execution_count": 52,
     "metadata": {},
     "output_type": "execute_result"
    }
   ],
   "source": [
    "U₀ = forward_network(solver, controller, X0aux)"
   ]
  },
  {
   "cell_type": "code",
   "execution_count": 53,
   "metadata": {},
   "outputs": [
    {
     "data": {
      "text/plain": [
       "Interval{Float64,IntervalArithmetic.Interval{Float64}}([-248.221, 302.999])"
      ]
     },
     "execution_count": 53,
     "metadata": {},
     "output_type": "execute_result"
    }
   ],
   "source": [
    "convert(Interval, U₀[1])"
   ]
  },
  {
   "cell_type": "markdown",
   "metadata": {},
   "source": [
    "-----"
   ]
  },
  {
   "cell_type": "code",
   "execution_count": 69,
   "metadata": {},
   "outputs": [
    {
     "name": "stdout",
     "output_type": "stream",
     "text": [
      "applying initial control\n",
      "LinearMap{Float64,CartesianProduct{Float64,Hyperrectangle{Float64,Array{Float64,1},Array{Float64,1}},Interval{Float64,IntervalArithmetic.Interval{Float64}}},Float64,SparseMatrixCSC{Float64,Int64}}(\n",
      "  [1, 1]  =  1.0\n",
      "  [2, 2]  =  1.0\n",
      "  [3, 3]  =  1.0\n",
      "  [4, 4]  =  1.0\n",
      "  [5, 5]  =  1.0\n",
      "  [6, 6]  =  1.0, CartesianProduct{Float64,Hyperrectangle{Float64,Array{Float64,1},Array{Float64,1}},Interval{Float64,IntervalArithmetic.Interval{Float64}}}(Hyperrectangle{Float64,Array{Float64,1},Array{Float64,1}}([100.0, 32.1, 0.0, 10.5, 30.1, 0.0], [10.0, 0.10000000000000142, 0.0, 0.5, 0.09999999999999787, 0.0]), Interval{Float64,IntervalArithmetic.Interval{Float64}}([-0.873742, 1.0242])))\n",
      "Hyperrectangle{Float64,Array{Float64,1},Array{Float64,1}}([30.0, 1.4, 30.000000000000004, 79.0, 1.8000000000000007], [30.0, 1.4, 30.2, 100.0, 2.1999999999999993])\n",
      "Zonotope{Float64,Array{Float64,1},Array{Float64,2}}[Zonotope{Float64,Array{Float64,1},Array{Float64,2}}([27.38906127543748], [-0.7463910167652833 -0.16738928365072347 -1.733043476983042 -9.266033612347204 0.4512162816968964 -0.3477019570924855 -1.1827856589302113 -0.2205713471665161 -0.912171874635054 0.07194609360006465 0.37696040999227143 3.383448926799132 -2.805142005417239 -0.9798307371644697 2.370646891715332 -2.8255558264581424 -0.27443093757161907 3.047043233241511 -0.9081534964943951 0.74352537409165 -0.012873424424851997 -4.333220850687926 0.05963214011309875 1.3381242062830967 -1.741241623080933 -3.0947788829788427 -8.134151646101564 2.6771167706176673 -3.6930625153378416 -1.2044983148529744 -4.325879265919859 0.6846499423214802 -2.2001569295042733 -0.04134855611083199 -4.8620117886857015 -6.0370892877069995 -4.039702260453552 1.074444743564545 -4.83561530461362 -3.8968704996853667 -2.404599530290795 -1.1859962527493648 1.5848561096302038 -7.831998653473712 -2.780265131474785 85.63097197888082 7.991010575378874 -2.2280530776997107 -8.734391221842996 -7.942576245084717 10.171373966691432 -6.876602027469363 1.4478658093665258 -0.8408131765417216 7.185444506497635 -1.716214300178749 6.115888277583772 4.346808294395549 0.7238283704568265 -0.7631178742188607 7.7597249646505455 -1.0638130140358777 -1.7791362978041907 1.591908212326068 -3.811899450144366])]\n",
      "  0.878825 seconds (10.45 M allocations: 836.927 MiB, 23.62% gc time)\n"
     ]
    }
   ],
   "source": [
    "@time sol = solve(plant, T=1.0, Tsample=0.1, alg_nn=solver, alg=alg,\n",
    "                  preprocess=relative_values)\n",
    "\n",
    "solz = overapproximate(sol, Zonotope);"
   ]
  },
  {
   "cell_type": "code",
   "execution_count": 66,
   "metadata": {},
   "outputs": [
    {
     "data": {
      "text/plain": [
       "Hyperrectangle{Float64,Array{Float64,1},Array{Float64,1}}([30.0, 1.4, -33.69245256031787, 62.21954175917165, -71.22843075237782], [30.0, 1.4, 102.84459608564492, 117.13289638778627, 65.74371413899254])"
      ]
     },
     "execution_count": 66,
     "metadata": {},
     "output_type": "execute_result"
    }
   ],
   "source": [
    "H = relative_values(Projection(solz[end][end], 1:6))"
   ]
  },
  {
   "cell_type": "code",
   "execution_count": 67,
   "metadata": {},
   "outputs": [
    {
     "data": {
      "text/plain": [
       "5-element Array{Float64,1}:\n",
       "  30.0\n",
       "   1.4\n",
       " -33.69245256031787\n",
       "  62.21954175917165\n",
       " -71.22843075237782"
      ]
     },
     "execution_count": 67,
     "metadata": {},
     "output_type": "execute_result"
    }
   ],
   "source": [
    "H.center"
   ]
  },
  {
   "cell_type": "code",
   "execution_count": 68,
   "metadata": {},
   "outputs": [
    {
     "data": {
      "text/plain": [
       "5-element Array{Float64,1}:\n",
       "  30.0\n",
       "   1.4\n",
       " 102.84459608564492\n",
       " 117.13289638778627\n",
       "  65.74371413899254"
      ]
     },
     "execution_count": 68,
     "metadata": {},
     "output_type": "execute_result"
    }
   ],
   "source": [
    "H.radius"
   ]
  },
  {
   "cell_type": "code",
   "execution_count": null,
   "metadata": {},
   "outputs": [],
   "source": [
    "@show ρ(sparsevec([2], [1.0], 18), solz)\n",
    "@show -ρ(sparsevec([2], [-1.0], 18), solz)\n",
    "\n",
    "[radius(solz.F.ext[:controls][i][1]) for i in 1:3]\n",
    "\n",
    "\n",
    "radius(overapproximate(solz.F.ext[:controls][3][1], Hyperrectangle))"
   ]
  }
 ],
 "metadata": {
  "@webio": {
   "lastCommId": null,
   "lastKernelId": null
  },
  "kernelspec": {
   "display_name": "Julia 1.5.0-beta1",
   "language": "julia",
   "name": "julia-1.5"
  },
  "language_info": {
   "file_extension": ".jl",
   "mimetype": "application/julia",
   "name": "julia",
   "version": "1.5.0"
  }
 },
 "nbformat": 4,
 "nbformat_minor": 2
}
