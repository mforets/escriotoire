{
 "cells": [
  {
   "cell_type": "markdown",
   "metadata": {},
   "source": [
    "# Intersection of the flowpipe with an invariant: INT algorithm"
   ]
  },
  {
   "cell_type": "code",
   "execution_count": 6,
   "metadata": {},
   "outputs": [],
   "source": [
    "using Revise, LazySets, BenchmarkTools, InteractiveUtils, Test\n",
    "using ReachabilityAnalysis"
   ]
  },
  {
   "cell_type": "markdown",
   "metadata": {},
   "source": [
    "## The invariant is an interval"
   ]
  },
  {
   "cell_type": "code",
   "execution_count": 7,
   "metadata": {},
   "outputs": [
    {
     "data": {
      "text/plain": [
       "Interval{Float64,IntervalArithmetic.Interval{Float64}}([0.117879, 0.960433])"
      ]
     },
     "execution_count": 7,
     "metadata": {},
     "output_type": "execute_result"
    }
   ],
   "source": [
    "x = rand(Interval)\n",
    "y = rand(Interval)"
   ]
  },
  {
   "cell_type": "markdown",
   "metadata": {},
   "source": [
    "The implementation in LazySets is efficient does not have inference problems."
   ]
  },
  {
   "cell_type": "code",
   "execution_count": 3,
   "metadata": {},
   "outputs": [
    {
     "name": "stdout",
     "output_type": "stream",
     "text": [
      "  0.016 ns (0 allocations: 0 bytes)\n"
     ]
    },
    {
     "data": {
      "text/plain": [
       "false"
      ]
     },
     "execution_count": 3,
     "metadata": {},
     "output_type": "execute_result"
    }
   ],
   "source": [
    "@btime is_intersection_empty($x, $y)"
   ]
  },
  {
   "cell_type": "code",
   "execution_count": 4,
   "metadata": {},
   "outputs": [
    {
     "data": {
      "text/plain": [
       "false"
      ]
     },
     "execution_count": 4,
     "metadata": {},
     "output_type": "execute_result"
    }
   ],
   "source": [
    "@inferred is_intersection_empty(x, y)"
   ]
  },
  {
   "cell_type": "markdown",
   "metadata": {},
   "source": [
    "If the function is called with the third argument, `witness`, there are problems though, as shown below, but we are not interested in that use case. That can probably be fixed by dispatching on values."
   ]
  },
  {
   "cell_type": "code",
   "execution_count": 34,
   "metadata": {},
   "outputs": [
    {
     "ename": "ErrorException",
     "evalue": "return type Tuple{Bool,Array{Float64,1}} does not match inferred return type Union{Bool, Tuple{Bool,Array{Float64,1}}}",
     "output_type": "error",
     "traceback": [
      "return type Tuple{Bool,Array{Float64,1}} does not match inferred return type Union{Bool, Tuple{Bool,Array{Float64,1}}}",
      "",
      "Stacktrace:",
      " [1] error(::String) at ./error.jl:33",
      " [2] top-level scope at In[34]:1"
     ]
    }
   ],
   "source": [
    "@inferred is_intersection_empty(x, y, true)"
   ]
  },
  {
   "cell_type": "markdown",
   "metadata": {},
   "source": [
    "The implementation in LazySets is the following one:"
   ]
  },
  {
   "cell_type": "markdown",
   "metadata": {},
   "source": [
    "```julia\n",
    "function is_intersection_empty(I1::Interval{N}, I2::Interval{N},\n",
    "                               witness::Bool=false) where {N<:Real}\n",
    "    check = min(I2) > max(I1) || min(I1) > max(I2)\n",
    "    if !witness\n",
    "        return check\n",
    "    else\n",
    "        return (check, [max(min(I1), min(I2))])\n",
    "    end\n",
    "end\n",
    "```"
   ]
  },
  {
   "cell_type": "markdown",
   "metadata": {},
   "source": [
    "The problem with this implementation is that it ignores the tolerance defined within LazySets."
   ]
  },
  {
   "cell_type": "markdown",
   "metadata": {},
   "source": [
    "The following example illustrates this problem:"
   ]
  },
  {
   "cell_type": "code",
   "execution_count": 40,
   "metadata": {},
   "outputs": [
    {
     "data": {
      "text/plain": [
       "Interval{Float64,IntervalArithmetic.Interval{Float64}}([1, 2])"
      ]
     },
     "execution_count": 40,
     "metadata": {},
     "output_type": "execute_result"
    }
   ],
   "source": [
    "x = Interval(0.0, 1.0 - 1e-10)\n",
    "y = Interval(1.0, 2.0)"
   ]
  },
  {
   "cell_type": "code",
   "execution_count": 41,
   "metadata": {},
   "outputs": [
    {
     "data": {
      "text/plain": [
       "true"
      ]
     },
     "execution_count": 41,
     "metadata": {},
     "output_type": "execute_result"
    }
   ],
   "source": [
    "is_intersection_empty(x, y)"
   ]
  },
  {
   "cell_type": "markdown",
   "metadata": {},
   "source": [
    "Although the default relative tolerance is bigger:"
   ]
  },
  {
   "cell_type": "code",
   "execution_count": 33,
   "metadata": {},
   "outputs": [
    {
     "data": {
      "text/plain": [
       "1.4901161193847656e-8"
      ]
     },
     "execution_count": 33,
     "metadata": {},
     "output_type": "execute_result"
    }
   ],
   "source": [
    "LazySets._rtol(Float64)"
   ]
  },
  {
   "cell_type": "markdown",
   "metadata": {},
   "source": [
    "So the fix is to the comparison functions from LazySets.jl. We should be careful about how to descibe the constraint $x > y$ in terms of the robust functions. The latter are not strict, hence the correct transformation is:\n",
    "\n",
    "- $x > y$ iff $!(x \\leq y)$"
   ]
  },
  {
   "cell_type": "code",
   "execution_count": 59,
   "metadata": {},
   "outputs": [
    {
     "data": {
      "text/plain": [
       "_is_intersection_empty (generic function with 1 method)"
      ]
     },
     "execution_count": 59,
     "metadata": {},
     "output_type": "execute_result"
    }
   ],
   "source": [
    "using LazySets: _leq, _geq\n",
    "\n",
    "function _is_intersection_empty(I1::Interval{N}, I2::Interval{N}) where {N<:Real}\n",
    "    return !_leq(min(I2), max(I1)) || !_leq(min(I1), max(I2))\n",
    "end"
   ]
  },
  {
   "cell_type": "code",
   "execution_count": 60,
   "metadata": {},
   "outputs": [
    {
     "data": {
      "text/plain": [
       "false"
      ]
     },
     "execution_count": 60,
     "metadata": {},
     "output_type": "execute_result"
    }
   ],
   "source": [
    "_is_intersection_empty(x, y)"
   ]
  },
  {
   "cell_type": "code",
   "execution_count": 61,
   "metadata": {},
   "outputs": [
    {
     "data": {
      "text/plain": [
       "false"
      ]
     },
     "execution_count": 61,
     "metadata": {},
     "output_type": "execute_result"
    }
   ],
   "source": [
    "@inferred _is_intersection_empty(x, y) # no inference problems"
   ]
  },
  {
   "cell_type": "markdown",
   "metadata": {},
   "source": [
    "There is some small overhead in using the robust comparisons functions though,"
   ]
  },
  {
   "cell_type": "code",
   "execution_count": 62,
   "metadata": {},
   "outputs": [
    {
     "name": "stdout",
     "output_type": "stream",
     "text": [
      "  5.882 ns (0 allocations: 0 bytes)\n"
     ]
    },
    {
     "data": {
      "text/plain": [
       "false"
      ]
     },
     "execution_count": 62,
     "metadata": {},
     "output_type": "execute_result"
    }
   ],
   "source": [
    "@btime _is_intersection_empty($x, $y) # not \"0\" but still fast"
   ]
  },
  {
   "cell_type": "markdown",
   "metadata": {},
   "source": [
    "But we get consistency with respect to the prescribed tolerance. See how changing the tolerance makes the intersection empty now."
   ]
  },
  {
   "cell_type": "code",
   "execution_count": 67,
   "metadata": {},
   "outputs": [
    {
     "data": {
      "text/plain": [
       "1.0e-12"
      ]
     },
     "execution_count": 67,
     "metadata": {},
     "output_type": "execute_result"
    }
   ],
   "source": [
    "LazySets.set_rtol(Float64, 1e-12)"
   ]
  },
  {
   "cell_type": "code",
   "execution_count": 69,
   "metadata": {},
   "outputs": [
    {
     "data": {
      "text/plain": [
       "true"
      ]
     },
     "execution_count": 69,
     "metadata": {},
     "output_type": "execute_result"
    }
   ],
   "source": [
    "_is_intersection_empty(x, y)"
   ]
  },
  {
   "cell_type": "code",
   "execution_count": 80,
   "metadata": {},
   "outputs": [
    {
     "data": {
      "text/plain": [
       "1.4901161193847656e-8"
      ]
     },
     "execution_count": 80,
     "metadata": {},
     "output_type": "execute_result"
    }
   ],
   "source": [
    "# let's restore the default tolerance\n",
    "LazySets.set_rtol(Float64, LazySets.default_tolerance(Float64).rtol)"
   ]
  },
  {
   "cell_type": "markdown",
   "metadata": {},
   "source": [
    "## The invariant is a half-space"
   ]
  },
  {
   "cell_type": "markdown",
   "metadata": {},
   "source": [
    "**Note.** Consider the interval $X = [\\alpha, \\beta]$ and the half-space $H : \\{x : ax \\leq b\\}$, with $a \\in \\mathbb{R} \\setminus \\{0\\}$ and $b \\in \\mathbb{R}$. The intersection $X \\cap H$ is empty if and only if:\n",
    "\n",
    "- $a > 0$ and $\\alpha > b/a$, or\n",
    "- $a < 0$ and $\\beta < b/a$."
   ]
  },
  {
   "cell_type": "code",
   "execution_count": 70,
   "metadata": {},
   "outputs": [
    {
     "data": {
      "text/plain": [
       "HalfSpace{Float64,Array{Float64,1}}([1.0], 0.0)"
      ]
     },
     "execution_count": 70,
     "metadata": {},
     "output_type": "execute_result"
    }
   ],
   "source": [
    "H = HalfSpace([1.0], 0.0)  # x <= 0"
   ]
  },
  {
   "cell_type": "markdown",
   "metadata": {},
   "source": [
    "For reference, the implementation with LazySets:"
   ]
  },
  {
   "cell_type": "code",
   "execution_count": 71,
   "metadata": {},
   "outputs": [
    {
     "data": {
      "text/html": [
       "is_intersection_empty(P::<b>AbstractPolyhedron{N}</b>, hs::<b>HalfSpace{N,VN} where VN<:AbstractArray{N,1}</b>)<i> where N<:Real</i> in LazySets at <a href=\"https://github.com/JuliaReach/LazySets.jl/tree/2c637151709be5968415449769da3d42bb86be25//src/ConcreteOperations/isdisjoint.jl#L997\" target=\"_blank\">/home/mforets/.julia/dev/LazySets/src/ConcreteOperations/isdisjoint.jl:997</a>"
      ],
      "text/plain": [
       "is_intersection_empty(P::AbstractPolyhedron{N}, hs::HalfSpace{N,VN} where VN<:AbstractArray{N,1}) where N<:Real in LazySets at /home/mforets/.julia/dev/LazySets/src/ConcreteOperations/isdisjoint.jl:997"
      ]
     },
     "execution_count": 71,
     "metadata": {},
     "output_type": "execute_result"
    }
   ],
   "source": [
    "@which is_intersection_empty(x, h)"
   ]
  },
  {
   "cell_type": "code",
   "execution_count": 86,
   "metadata": {},
   "outputs": [
    {
     "ename": "ErrorException",
     "evalue": "return type Bool does not match inferred return type Union{Bool, Tuple{Bool,Array{Float64,1}}}",
     "output_type": "error",
     "traceback": [
      "return type Bool does not match inferred return type Union{Bool, Tuple{Bool,Array{Float64,1}}}",
      "",
      "Stacktrace:",
      " [1] error(::String) at ./error.jl:33",
      " [2] top-level scope at In[86]:1"
     ]
    }
   ],
   "source": [
    "@inferred is_intersection_empty(x, h)"
   ]
  },
  {
   "cell_type": "code",
   "execution_count": 26,
   "metadata": {},
   "outputs": [
    {
     "name": "stdout",
     "output_type": "stream",
     "text": [
      "  35.264 ns (1 allocation: 96 bytes)\n"
     ]
    },
    {
     "data": {
      "text/plain": [
       "false"
      ]
     },
     "execution_count": 26,
     "metadata": {},
     "output_type": "execute_result"
    }
   ],
   "source": [
    "@btime is_intersection_empty($x, $h)"
   ]
  },
  {
   "cell_type": "markdown",
   "metadata": {},
   "source": [
    "This implementation is not optimal in terms of efficiency, and it is also not robust as the following example shows."
   ]
  },
  {
   "cell_type": "code",
   "execution_count": 93,
   "metadata": {},
   "outputs": [
    {
     "data": {
      "text/plain": [
       "true"
      ]
     },
     "execution_count": 93,
     "metadata": {},
     "output_type": "execute_result"
    }
   ],
   "source": [
    "is_intersection_empty(Interval(0.0, 1.0), HalfSpace([1.0], -1e-10))"
   ]
  },
  {
   "cell_type": "code",
   "execution_count": 94,
   "metadata": {},
   "outputs": [
    {
     "data": {
      "text/plain": [
       "1.4901161193847656e-8"
      ]
     },
     "execution_count": 94,
     "metadata": {},
     "output_type": "execute_result"
    }
   ],
   "source": [
    "LazySets._rtol(Float64)"
   ]
  },
  {
   "cell_type": "code",
   "execution_count": 153,
   "metadata": {},
   "outputs": [
    {
     "data": {
      "text/plain": [
       "_is_intersection_empty (generic function with 5 methods)"
      ]
     },
     "execution_count": 153,
     "metadata": {},
     "output_type": "execute_result"
    }
   ],
   "source": [
    "# H : {x : ax <= b}, one-dimensional with a != 0\n",
    "function _is_intersection_empty(X::Interval{N}, H::HalfSpace{N}) where {N<:Real}\n",
    "    a = H.a[1]\n",
    "    b = H.b\n",
    "    if a > zero(N)\n",
    "        return !_leq(min(X), b/a)\n",
    "    else\n",
    "        return !_geq(max(X), b/a)\n",
    "    end\n",
    "end\n",
    "\n",
    "# symmetric case\n",
    "_is_intersection_empty(H::HalfSpace, X::Interval) = _is_intersection_empty(X, H)"
   ]
  },
  {
   "cell_type": "code",
   "execution_count": 112,
   "metadata": {},
   "outputs": [
    {
     "data": {
      "text/plain": [
       "Interval{Float64,IntervalArithmetic.Interval{Float64}}([0, 1])"
      ]
     },
     "execution_count": 112,
     "metadata": {},
     "output_type": "execute_result"
    }
   ],
   "source": [
    "x"
   ]
  },
  {
   "cell_type": "code",
   "execution_count": 113,
   "metadata": {},
   "outputs": [
    {
     "data": {
      "text/plain": [
       "HalfSpace{Float64,Array{Float64,1}}([1.0], 0.0)"
      ]
     },
     "execution_count": 113,
     "metadata": {},
     "output_type": "execute_result"
    }
   ],
   "source": [
    "h"
   ]
  },
  {
   "cell_type": "code",
   "execution_count": 114,
   "metadata": {},
   "outputs": [
    {
     "data": {
      "text/plain": [
       "false"
      ]
     },
     "execution_count": 114,
     "metadata": {},
     "output_type": "execute_result"
    }
   ],
   "source": [
    "@inferred _is_intersection_empty(x, h)"
   ]
  },
  {
   "cell_type": "code",
   "execution_count": 115,
   "metadata": {},
   "outputs": [
    {
     "name": "stdout",
     "output_type": "stream",
     "text": [
      "  3.194 ns (0 allocations: 0 bytes)\n"
     ]
    },
    {
     "data": {
      "text/plain": [
       "false"
      ]
     },
     "execution_count": 115,
     "metadata": {},
     "output_type": "execute_result"
    }
   ],
   "source": [
    "@btime _is_intersection_empty($x, $h)"
   ]
  },
  {
   "cell_type": "code",
   "execution_count": 116,
   "metadata": {},
   "outputs": [
    {
     "data": {
      "text/plain": [
       "false"
      ]
     },
     "execution_count": 116,
     "metadata": {},
     "output_type": "execute_result"
    }
   ],
   "source": [
    "x2 = Interval(0.0, 1.0)\n",
    "h2 = HalfSpace([1.0], -1e-10)\n",
    "_is_intersection_empty(x2, h2)"
   ]
  },
  {
   "cell_type": "code",
   "execution_count": 117,
   "metadata": {},
   "outputs": [
    {
     "name": "stdout",
     "output_type": "stream",
     "text": [
      "  3.196 ns (0 allocations: 0 bytes)\n"
     ]
    },
    {
     "data": {
      "text/plain": [
       "false"
      ]
     },
     "execution_count": 117,
     "metadata": {},
     "output_type": "execute_result"
    }
   ],
   "source": [
    "@btime _is_intersection_empty($x2, $h2)"
   ]
  },
  {
   "cell_type": "code",
   "execution_count": 118,
   "metadata": {},
   "outputs": [
    {
     "data": {
      "text/plain": [
       "1.0e-12"
      ]
     },
     "execution_count": 118,
     "metadata": {},
     "output_type": "execute_result"
    }
   ],
   "source": [
    "LazySets.set_rtol(Float64, 1e-12)"
   ]
  },
  {
   "cell_type": "code",
   "execution_count": 129,
   "metadata": {},
   "outputs": [
    {
     "data": {
      "text/plain": [
       "1.0e-12"
      ]
     },
     "execution_count": 129,
     "metadata": {},
     "output_type": "execute_result"
    }
   ],
   "source": [
    "LazySets._rtol(Float64)"
   ]
  },
  {
   "cell_type": "code",
   "execution_count": 124,
   "metadata": {},
   "outputs": [
    {
     "name": "stdout",
     "output_type": "stream",
     "text": [
      "s\n"
     ]
    },
    {
     "data": {
      "text/plain": [
       "false"
      ]
     },
     "execution_count": 124,
     "metadata": {},
     "output_type": "execute_result"
    }
   ],
   "source": [
    "_is_intersection_empty(x2, h2)"
   ]
  },
  {
   "cell_type": "code",
   "execution_count": 131,
   "metadata": {},
   "outputs": [
    {
     "data": {
      "text/plain": [
       "(0.0, -1.0e-10)"
      ]
     },
     "execution_count": 131,
     "metadata": {},
     "output_type": "execute_result"
    }
   ],
   "source": [
    "b_over_a = h2.b / first(h2.a)\n",
    "min(x2), b_over_a"
   ]
  },
  {
   "cell_type": "code",
   "execution_count": 133,
   "metadata": {},
   "outputs": [
    {
     "data": {
      "text/plain": [
       "true"
      ]
     },
     "execution_count": 133,
     "metadata": {},
     "output_type": "execute_result"
    }
   ],
   "source": [
    "_leq(min(x2), b_over_a)"
   ]
  },
  {
   "cell_type": "code",
   "execution_count": 137,
   "metadata": {},
   "outputs": [
    {
     "data": {
      "text/plain": [
       "1.0e-12"
      ]
     },
     "execution_count": 137,
     "metadata": {},
     "output_type": "execute_result"
    }
   ],
   "source": [
    "LazySets.set_atol(Float64, 1e-12)"
   ]
  },
  {
   "cell_type": "code",
   "execution_count": 138,
   "metadata": {},
   "outputs": [
    {
     "data": {
      "text/plain": [
       "true"
      ]
     },
     "execution_count": 138,
     "metadata": {},
     "output_type": "execute_result"
    }
   ],
   "source": [
    "_leq(min(x2), b_over_a)"
   ]
  },
  {
   "cell_type": "code",
   "execution_count": 139,
   "metadata": {},
   "outputs": [
    {
     "data": {
      "text/plain": [
       "1.0e-12"
      ]
     },
     "execution_count": 139,
     "metadata": {},
     "output_type": "execute_result"
    }
   ],
   "source": [
    "LazySets.set_ztol(Float64, 1e-12)"
   ]
  },
  {
   "cell_type": "code",
   "execution_count": 140,
   "metadata": {},
   "outputs": [
    {
     "data": {
      "text/plain": [
       "false"
      ]
     },
     "execution_count": 140,
     "metadata": {},
     "output_type": "execute_result"
    }
   ],
   "source": [
    "_leq(min(x2), b_over_a)"
   ]
  },
  {
   "cell_type": "code",
   "execution_count": 143,
   "metadata": {},
   "outputs": [
    {
     "data": {
      "text/plain": [
       "true"
      ]
     },
     "execution_count": 143,
     "metadata": {},
     "output_type": "execute_result"
    }
   ],
   "source": [
    "_is_intersection_empty(x2, h2)"
   ]
  },
  {
   "cell_type": "markdown",
   "metadata": {},
   "source": [
    "## The invariant is a hyperplane"
   ]
  },
  {
   "cell_type": "markdown",
   "metadata": {},
   "source": [
    "**Note.** Consider the interval $X = [\\alpha, \\beta]$ and the half-space $H : \\{x : ax = b\\}$, with $a \\in \\mathbb{R} \\setminus \\{0\\}$ and $b \\in \\mathbb{R}$. The intersection $X \\cap H$ is empty if and only if:\n",
    "\n",
    "- $b/a < \\alpha$, or\n",
    "- $b/a > \\beta$"
   ]
  },
  {
   "cell_type": "code",
   "execution_count": 154,
   "metadata": {},
   "outputs": [
    {
     "data": {
      "text/plain": [
       "Interval{Float64,IntervalArithmetic.Interval{Float64}}([0, 1])"
      ]
     },
     "execution_count": 154,
     "metadata": {},
     "output_type": "execute_result"
    }
   ],
   "source": [
    "x"
   ]
  },
  {
   "cell_type": "code",
   "execution_count": 155,
   "metadata": {},
   "outputs": [
    {
     "data": {
      "text/plain": [
       "Hyperplane{Float64}([1.0], 0.0)"
      ]
     },
     "execution_count": 155,
     "metadata": {},
     "output_type": "execute_result"
    }
   ],
   "source": [
    "h = Hyperplane([1.0], 0.0) # x = 0.0"
   ]
  },
  {
   "cell_type": "code",
   "execution_count": 156,
   "metadata": {},
   "outputs": [
    {
     "data": {
      "text/plain": [
       "false"
      ]
     },
     "execution_count": 156,
     "metadata": {},
     "output_type": "execute_result"
    }
   ],
   "source": [
    "is_intersection_empty(x, h)"
   ]
  },
  {
   "cell_type": "code",
   "execution_count": 157,
   "metadata": {},
   "outputs": [
    {
     "name": "stdout",
     "output_type": "stream",
     "text": [
      "  13.047 μs (92 allocations: 6.11 KiB)\n"
     ]
    },
    {
     "data": {
      "text/plain": [
       "false"
      ]
     },
     "execution_count": 157,
     "metadata": {},
     "output_type": "execute_result"
    }
   ],
   "source": [
    "@btime is_intersection_empty($x, $h) # slow and allocating"
   ]
  },
  {
   "cell_type": "code",
   "execution_count": 158,
   "metadata": {},
   "outputs": [
    {
     "ename": "ErrorException",
     "evalue": "return type Bool does not match inferred return type Any",
     "output_type": "error",
     "traceback": [
      "return type Bool does not match inferred return type Any",
      "",
      "Stacktrace:",
      " [1] error(::String) at ./error.jl:33",
      " [2] top-level scope at In[158]:1"
     ]
    }
   ],
   "source": [
    "@inferred is_intersection_empty(x, h)"
   ]
  },
  {
   "cell_type": "code",
   "execution_count": 159,
   "metadata": {},
   "outputs": [
    {
     "data": {
      "text/html": [
       "is_intersection_empty(P::<b>AbstractPolyhedron{N}</b>, hp::<b>Union{Hyperplane{N}, Line{N,VN} where VN<:AbstractArray{N,1}}</b>)<i> where N<:Real</i> in LazySets at <a href=\"https://github.com/JuliaReach/LazySets.jl/tree/2c637151709be5968415449769da3d42bb86be25//src/ConcreteOperations/isdisjoint.jl#L1031\" target=\"_blank\">/home/mforets/.julia/dev/LazySets/src/ConcreteOperations/isdisjoint.jl:1031</a>"
      ],
      "text/plain": [
       "is_intersection_empty(P::AbstractPolyhedron{N}, hp::Union{Hyperplane{N}, Line{N,VN} where VN<:AbstractArray{N,1}}) where N<:Real in LazySets at /home/mforets/.julia/dev/LazySets/src/ConcreteOperations/isdisjoint.jl:1031"
      ]
     },
     "execution_count": 159,
     "metadata": {},
     "output_type": "execute_result"
    }
   ],
   "source": [
    "@which is_intersection_empty(x, h)"
   ]
  },
  {
   "cell_type": "code",
   "execution_count": 187,
   "metadata": {},
   "outputs": [
    {
     "data": {
      "text/plain": [
       "_is_intersection_empty (generic function with 5 methods)"
      ]
     },
     "execution_count": 187,
     "metadata": {},
     "output_type": "execute_result"
    }
   ],
   "source": [
    "# H : {x : ax = b}, one-dimensional with a != 0\n",
    "function _is_intersection_empty(X::Interval{N}, H::Hyperplane{N}) where {N<:Real}\n",
    "    q = H.b / H.a[1]\n",
    "    return !_geq(q, min(X)) || !_leq(q, max(X))\n",
    "end\n",
    "\n",
    "# symmetric case\n",
    "_is_intersection_empty(H::Hyperplane, X::Interval) = _is_intersection_empty(X, H)"
   ]
  },
  {
   "cell_type": "code",
   "execution_count": 163,
   "metadata": {},
   "outputs": [
    {
     "data": {
      "text/plain": [
       "false"
      ]
     },
     "execution_count": 163,
     "metadata": {},
     "output_type": "execute_result"
    }
   ],
   "source": [
    "_is_intersection_empty(x, h)"
   ]
  },
  {
   "cell_type": "code",
   "execution_count": 189,
   "metadata": {},
   "outputs": [
    {
     "name": "stdout",
     "output_type": "stream",
     "text": [
      "  31.964 ns (3 allocations: 48 bytes)\n"
     ]
    },
    {
     "data": {
      "text/plain": [
       "0.0"
      ]
     },
     "execution_count": 189,
     "metadata": {},
     "output_type": "execute_result"
    }
   ],
   "source": [
    "@btime _is_intersection_empty($x, $h)"
   ]
  },
  {
   "cell_type": "code",
   "execution_count": 188,
   "metadata": {},
   "outputs": [
    {
     "ename": "ErrorException",
     "evalue": "return type Float64 does not match inferred return type Any",
     "output_type": "error",
     "traceback": [
      "return type Float64 does not match inferred return type Any",
      "",
      "Stacktrace:",
      " [1] error(::String) at ./error.jl:33",
      " [2] top-level scope at In[188]:1"
     ]
    }
   ],
   "source": [
    "@inferred _is_intersection_empty(x, h)"
   ]
  },
  {
   "cell_type": "code",
   "execution_count": 186,
   "metadata": {},
   "outputs": [
    {
     "data": {
      "text/plain": [
       "0.0"
      ]
     },
     "execution_count": 186,
     "metadata": {},
     "output_type": "execute_result"
    }
   ],
   "source": [
    "h.b"
   ]
  },
  {
   "cell_type": "markdown",
   "metadata": {},
   "source": [
    "We can get a more efficient version using another representation of the halfspace. The correponding issue is https://github.com/JuliaReach/LazySets.jl/issues/2115 "
   ]
  },
  {
   "cell_type": "code",
   "execution_count": 190,
   "metadata": {},
   "outputs": [],
   "source": [
    "struct Hyperplane2{N<:Real, VN<:AbstractVector{N}} <: LazySets.AbstractPolyhedron{N}\n",
    "    a::VN\n",
    "    b::N\n",
    "\n",
    "    function Hyperplane2(a::VN, b::N) where {N<:Real, VN<:AbstractVector{N}}\n",
    "        @assert !iszero(a) \"a hyperplane needs a non-zero normal vector\"\n",
    "        return new{N, VN}(a, b)\n",
    "    end\n",
    "end"
   ]
  },
  {
   "cell_type": "code",
   "execution_count": 191,
   "metadata": {},
   "outputs": [
    {
     "data": {
      "text/plain": [
       "Hyperplane{Float64}([1.0], 0.0)"
      ]
     },
     "execution_count": 191,
     "metadata": {},
     "output_type": "execute_result"
    }
   ],
   "source": [
    "h"
   ]
  },
  {
   "cell_type": "code",
   "execution_count": 192,
   "metadata": {},
   "outputs": [
    {
     "data": {
      "text/plain": [
       "Hyperplane2{Float64,Array{Float64,1}}([1.0], 0.0)"
      ]
     },
     "execution_count": 192,
     "metadata": {},
     "output_type": "execute_result"
    }
   ],
   "source": [
    "h2 = Hyperplane2([1.0], 0.0)"
   ]
  },
  {
   "cell_type": "code",
   "execution_count": 193,
   "metadata": {},
   "outputs": [
    {
     "data": {
      "text/plain": [
       "_is_intersection_empty (generic function with 7 methods)"
      ]
     },
     "execution_count": 193,
     "metadata": {},
     "output_type": "execute_result"
    }
   ],
   "source": [
    "# H : {x : ax = b}, one-dimensional with a != 0\n",
    "function _is_intersection_empty(X::Interval{N}, H::Hyperplane2{N}) where {N<:Real}\n",
    "    q = H.b / H.a[1]\n",
    "    return !_geq(q, min(X)) || !_leq(q, max(X))\n",
    "end\n",
    "\n",
    "# symmetric case\n",
    "_is_intersection_empty(H::Hyperplane2, X::Interval) = _is_intersection_empty(X, H)"
   ]
  },
  {
   "cell_type": "code",
   "execution_count": 194,
   "metadata": {},
   "outputs": [
    {
     "data": {
      "text/plain": [
       "false"
      ]
     },
     "execution_count": 194,
     "metadata": {},
     "output_type": "execute_result"
    }
   ],
   "source": [
    "@inferred _is_intersection_empty(x, h2)"
   ]
  },
  {
   "cell_type": "code",
   "execution_count": 195,
   "metadata": {},
   "outputs": [
    {
     "name": "stdout",
     "output_type": "stream",
     "text": [
      "  3.192 ns (0 allocations: 0 bytes)\n"
     ]
    },
    {
     "data": {
      "text/plain": [
       "false"
      ]
     },
     "execution_count": 195,
     "metadata": {},
     "output_type": "execute_result"
    }
   ],
   "source": [
    "@btime _is_intersection_empty($x, $h2)"
   ]
  },
  {
   "cell_type": "markdown",
   "metadata": {},
   "source": [
    "Fixing the inference problem, we get the same performance as for the half-space case: 0 allocations and < 5ns."
   ]
  },
  {
   "cell_type": "markdown",
   "metadata": {},
   "source": [
    "# Test"
   ]
  },
  {
   "cell_type": "code",
   "execution_count": 1,
   "metadata": {},
   "outputs": [
    {
     "name": "stderr",
     "output_type": "stream",
     "text": [
      "┌ Info: Precompiling ReachabilityAnalysis [1e97bd63-91d1-579d-8e8d-501d2b57c93f]\n",
      "└ @ Base loading.jl:1260\n"
     ]
    }
   ],
   "source": [
    "using Revise, LazySets, BenchmarkTools, InteractiveUtils, Test\n",
    "using ReachabilityAnalysis"
   ]
  },
  {
   "cell_type": "code",
   "execution_count": 2,
   "metadata": {},
   "outputs": [
    {
     "data": {
      "text/plain": [
       "exponential_1d (generic function with 1 method)"
      ]
     },
     "execution_count": 2,
     "metadata": {},
     "output_type": "execute_result"
    }
   ],
   "source": [
    "include(\"/home/mforets/.julia/dev/ReachabilityAnalysis/test/models/linear/exponential1D.jl\")"
   ]
  },
  {
   "cell_type": "code",
   "execution_count": 60,
   "metadata": {},
   "outputs": [
    {
     "data": {
      "text/plain": [
       "(InitialValueProblem{ConstrainedLinearContinuousSystem{Float64,IdentityMultiple{Float64},Universe{Float64}},Interval{Float64,IntervalArithmetic.Interval{Float64}}}(ConstrainedLinearContinuousSystem{Float64,IdentityMultiple{Float64},Universe{Float64}}([-1.0], Universe{Float64}(1)), Interval{Float64,IntervalArithmetic.Interval{Float64}}([0.4, 0.5])), (0.0, 1.0))"
      ]
     },
     "execution_count": 60,
     "metadata": {},
     "output_type": "execute_result"
    }
   ],
   "source": [
    "prob, dt = exponential_1d()"
   ]
  },
  {
   "cell_type": "code",
   "execution_count": 61,
   "metadata": {},
   "outputs": [],
   "source": [
    "sol = solve(prob, tspan=dt, INT(δ=0.01));"
   ]
  },
  {
   "cell_type": "code",
   "execution_count": 5,
   "metadata": {},
   "outputs": [
    {
     "name": "stdout",
     "output_type": "stream",
     "text": [
      "  2.250 μs (24 allocations: 5.11 KiB)\n"
     ]
    }
   ],
   "source": [
    "alg = INT(δ=0.01)\n",
    "@btime solve($prob, tspan=$dt, alg=alg);"
   ]
  },
  {
   "cell_type": "code",
   "execution_count": 7,
   "metadata": {},
   "outputs": [],
   "source": [
    "@inferred solve(prob, tspan=dt, INT(δ=0.01));"
   ]
  },
  {
   "cell_type": "code",
   "execution_count": 9,
   "metadata": {},
   "outputs": [],
   "source": [
    "using Plots"
   ]
  },
  {
   "cell_type": "code",
   "execution_count": 35,
   "metadata": {},
   "outputs": [
    {
     "data": {
      "image/svg+xml": [
       "<?xml version=\"1.0\" encoding=\"utf-8\"?>\n",
       "<svg xmlns=\"http://www.w3.org/2000/svg\" xmlns:xlink=\"http://www.w3.org/1999/xlink\" width=\"600\" height=\"400\" viewBox=\"0 0 2400 1600\">\n",
       "<defs>\n",
       "  <clipPath id=\"clip2800\">\n",
       "    <rect x=\"0\" y=\"0\" width=\"2400\" height=\"1600\"/>\n",
       "  </clipPath>\n",
       "</defs>\n",
       "<path clip-path=\"url(#clip2800)\" d=\"\n",
       "M0 1600 L2400 1600 L2400 0 L0 0  Z\n",
       "  \" fill=\"#ffffff\" fill-rule=\"evenodd\" fill-opacity=\"1\"/>\n",
       "<defs>\n",
       "  <clipPath id=\"clip2801\">\n",
       "    <rect x=\"480\" y=\"0\" width=\"1681\" height=\"1600\"/>\n",
       "  </clipPath>\n",
       "</defs>\n",
       "<path clip-path=\"url(#clip2800)\" d=\"\n",
       "M153.898 1487.47 L2352.76 1487.47 L2352.76 47.2441 L153.898 47.2441  Z\n",
       "  \" fill=\"#ffffff\" fill-rule=\"evenodd\" fill-opacity=\"1\"/>\n",
       "<defs>\n",
       "  <clipPath id=\"clip2802\">\n",
       "    <rect x=\"153\" y=\"47\" width=\"2200\" height=\"1441\"/>\n",
       "  </clipPath>\n",
       "</defs>\n",
       "<polyline clip-path=\"url(#clip2802)\" style=\"stroke:#000000; stroke-width:2; stroke-opacity:0.1; fill:none\" points=\"\n",
       "  274.839,1487.47 274.839,47.2441 \n",
       "  \"/>\n",
       "<polyline clip-path=\"url(#clip2802)\" style=\"stroke:#000000; stroke-width:2; stroke-opacity:0.1; fill:none\" points=\"\n",
       "  764.083,1487.47 764.083,47.2441 \n",
       "  \"/>\n",
       "<polyline clip-path=\"url(#clip2802)\" style=\"stroke:#000000; stroke-width:2; stroke-opacity:0.1; fill:none\" points=\"\n",
       "  1253.33,1487.47 1253.33,47.2441 \n",
       "  \"/>\n",
       "<polyline clip-path=\"url(#clip2802)\" style=\"stroke:#000000; stroke-width:2; stroke-opacity:0.1; fill:none\" points=\"\n",
       "  1742.57,1487.47 1742.57,47.2441 \n",
       "  \"/>\n",
       "<polyline clip-path=\"url(#clip2802)\" style=\"stroke:#000000; stroke-width:2; stroke-opacity:0.1; fill:none\" points=\"\n",
       "  2231.81,1487.47 2231.81,47.2441 \n",
       "  \"/>\n",
       "<polyline clip-path=\"url(#clip2802)\" style=\"stroke:#000000; stroke-width:2; stroke-opacity:0.1; fill:none\" points=\"\n",
       "  153.898,1243.18 2352.76,1243.18 \n",
       "  \"/>\n",
       "<polyline clip-path=\"url(#clip2802)\" style=\"stroke:#000000; stroke-width:2; stroke-opacity:0.1; fill:none\" points=\"\n",
       "  153.898,858.123 2352.76,858.123 \n",
       "  \"/>\n",
       "<polyline clip-path=\"url(#clip2802)\" style=\"stroke:#000000; stroke-width:2; stroke-opacity:0.1; fill:none\" points=\"\n",
       "  153.898,473.064 2352.76,473.064 \n",
       "  \"/>\n",
       "<polyline clip-path=\"url(#clip2802)\" style=\"stroke:#000000; stroke-width:2; stroke-opacity:0.1; fill:none\" points=\"\n",
       "  153.898,88.0053 2352.76,88.0053 \n",
       "  \"/>\n",
       "<polyline clip-path=\"url(#clip2800)\" style=\"stroke:#000000; stroke-width:4; stroke-opacity:1; fill:none\" points=\"\n",
       "  153.898,1487.47 2352.76,1487.47 \n",
       "  \"/>\n",
       "<polyline clip-path=\"url(#clip2800)\" style=\"stroke:#000000; stroke-width:4; stroke-opacity:1; fill:none\" points=\"\n",
       "  153.898,1487.47 153.898,47.2441 \n",
       "  \"/>\n",
       "<polyline clip-path=\"url(#clip2800)\" style=\"stroke:#000000; stroke-width:4; stroke-opacity:1; fill:none\" points=\"\n",
       "  274.839,1487.47 274.839,1470.19 \n",
       "  \"/>\n",
       "<polyline clip-path=\"url(#clip2800)\" style=\"stroke:#000000; stroke-width:4; stroke-opacity:1; fill:none\" points=\"\n",
       "  764.083,1487.47 764.083,1470.19 \n",
       "  \"/>\n",
       "<polyline clip-path=\"url(#clip2800)\" style=\"stroke:#000000; stroke-width:4; stroke-opacity:1; fill:none\" points=\"\n",
       "  1253.33,1487.47 1253.33,1470.19 \n",
       "  \"/>\n",
       "<polyline clip-path=\"url(#clip2800)\" style=\"stroke:#000000; stroke-width:4; stroke-opacity:1; fill:none\" points=\"\n",
       "  1742.57,1487.47 1742.57,1470.19 \n",
       "  \"/>\n",
       "<polyline clip-path=\"url(#clip2800)\" style=\"stroke:#000000; stroke-width:4; stroke-opacity:1; fill:none\" points=\"\n",
       "  2231.81,1487.47 2231.81,1470.19 \n",
       "  \"/>\n",
       "<polyline clip-path=\"url(#clip2800)\" style=\"stroke:#000000; stroke-width:4; stroke-opacity:1; fill:none\" points=\"\n",
       "  153.898,1243.18 180.284,1243.18 \n",
       "  \"/>\n",
       "<polyline clip-path=\"url(#clip2800)\" style=\"stroke:#000000; stroke-width:4; stroke-opacity:1; fill:none\" points=\"\n",
       "  153.898,858.123 180.284,858.123 \n",
       "  \"/>\n",
       "<polyline clip-path=\"url(#clip2800)\" style=\"stroke:#000000; stroke-width:4; stroke-opacity:1; fill:none\" points=\"\n",
       "  153.898,473.064 180.284,473.064 \n",
       "  \"/>\n",
       "<polyline clip-path=\"url(#clip2800)\" style=\"stroke:#000000; stroke-width:4; stroke-opacity:1; fill:none\" points=\"\n",
       "  153.898,88.0053 180.284,88.0053 \n",
       "  \"/>\n",
       "<g clip-path=\"url(#clip2800)\">\n",
       "<text style=\"fill:#000000; fill-opacity:1; font-family:Arial,Helvetica Neue,Helvetica,sans-serif; font-size:48px; text-anchor:middle;\" transform=\"rotate(0, 274.839, 1541.47)\" x=\"274.839\" y=\"1541.47\">0.00</text>\n",
       "</g>\n",
       "<g clip-path=\"url(#clip2800)\">\n",
       "<text style=\"fill:#000000; fill-opacity:1; font-family:Arial,Helvetica Neue,Helvetica,sans-serif; font-size:48px; text-anchor:middle;\" transform=\"rotate(0, 764.083, 1541.47)\" x=\"764.083\" y=\"1541.47\">0.25</text>\n",
       "</g>\n",
       "<g clip-path=\"url(#clip2800)\">\n",
       "<text style=\"fill:#000000; fill-opacity:1; font-family:Arial,Helvetica Neue,Helvetica,sans-serif; font-size:48px; text-anchor:middle;\" transform=\"rotate(0, 1253.33, 1541.47)\" x=\"1253.33\" y=\"1541.47\">0.50</text>\n",
       "</g>\n",
       "<g clip-path=\"url(#clip2800)\">\n",
       "<text style=\"fill:#000000; fill-opacity:1; font-family:Arial,Helvetica Neue,Helvetica,sans-serif; font-size:48px; text-anchor:middle;\" transform=\"rotate(0, 1742.57, 1541.47)\" x=\"1742.57\" y=\"1541.47\">0.75</text>\n",
       "</g>\n",
       "<g clip-path=\"url(#clip2800)\">\n",
       "<text style=\"fill:#000000; fill-opacity:1; font-family:Arial,Helvetica Neue,Helvetica,sans-serif; font-size:48px; text-anchor:middle;\" transform=\"rotate(0, 2231.81, 1541.47)\" x=\"2231.81\" y=\"1541.47\">1.00</text>\n",
       "</g>\n",
       "<g clip-path=\"url(#clip2800)\">\n",
       "<text style=\"fill:#000000; fill-opacity:1; font-family:Arial,Helvetica Neue,Helvetica,sans-serif; font-size:48px; text-anchor:end;\" transform=\"rotate(0, 129.898, 1260.68)\" x=\"129.898\" y=\"1260.68\">0.2</text>\n",
       "</g>\n",
       "<g clip-path=\"url(#clip2800)\">\n",
       "<text style=\"fill:#000000; fill-opacity:1; font-family:Arial,Helvetica Neue,Helvetica,sans-serif; font-size:48px; text-anchor:end;\" transform=\"rotate(0, 129.898, 875.623)\" x=\"129.898\" y=\"875.623\">0.3</text>\n",
       "</g>\n",
       "<g clip-path=\"url(#clip2800)\">\n",
       "<text style=\"fill:#000000; fill-opacity:1; font-family:Arial,Helvetica Neue,Helvetica,sans-serif; font-size:48px; text-anchor:end;\" transform=\"rotate(0, 129.898, 490.564)\" x=\"129.898\" y=\"490.564\">0.4</text>\n",
       "</g>\n",
       "<g clip-path=\"url(#clip2800)\">\n",
       "<text style=\"fill:#000000; fill-opacity:1; font-family:Arial,Helvetica Neue,Helvetica,sans-serif; font-size:48px; text-anchor:end;\" transform=\"rotate(0, 129.898, 105.505)\" x=\"129.898\" y=\"105.505\">0.5</text>\n",
       "</g>\n",
       "<path clip-path=\"url(#clip2802)\" d=\"\n",
       "M294.409 88.0053 L274.839 88.0053 L274.839 488.485 L294.409 488.485 L294.409 88.0053 L294.409 88.0053  Z\n",
       "  \" fill=\"#009af9\" fill-rule=\"evenodd\" fill-opacity=\"0.5\"/>\n",
       "<polyline clip-path=\"url(#clip2802)\" style=\"stroke:#000000; stroke-width:0.8; stroke-opacity:0.5; fill:none\" points=\"\n",
       "  294.409,88.0053 274.839,88.0053 274.839,488.485 294.409,488.485 294.409,88.0053 \n",
       "  \"/>\n",
       "<path clip-path=\"url(#clip2802)\" d=\"\n",
       "M313.979 107.162 L294.409 107.162 L294.409 503.658 L313.979 503.658 L313.979 107.162 L313.979 107.162  Z\n",
       "  \" fill=\"#009af9\" fill-rule=\"evenodd\" fill-opacity=\"0.5\"/>\n",
       "<polyline clip-path=\"url(#clip2802)\" style=\"stroke:#000000; stroke-width:0.8; stroke-opacity:0.5; fill:none\" points=\"\n",
       "  313.979,107.162 294.409,107.162 294.409,503.658 313.979,503.658 313.979,107.162 \n",
       "  \"/>\n",
       "<path clip-path=\"url(#clip2802)\" d=\"\n",
       "M333.548 126.129 L313.979 126.129 L313.979 518.679 L333.548 518.679 L333.548 126.129 L333.548 126.129  Z\n",
       "  \" fill=\"#009af9\" fill-rule=\"evenodd\" fill-opacity=\"0.5\"/>\n",
       "<polyline clip-path=\"url(#clip2802)\" style=\"stroke:#000000; stroke-width:0.8; stroke-opacity:0.5; fill:none\" points=\"\n",
       "  333.548,126.129 313.979,126.129 313.979,518.679 333.548,518.679 333.548,126.129 \n",
       "  \"/>\n",
       "<path clip-path=\"url(#clip2802)\" d=\"\n",
       "M353.118 144.906 L333.548 144.906 L333.548 533.551 L353.118 533.551 L353.118 144.906 L353.118 144.906  Z\n",
       "  \" fill=\"#009af9\" fill-rule=\"evenodd\" fill-opacity=\"0.5\"/>\n",
       "<polyline clip-path=\"url(#clip2802)\" style=\"stroke:#000000; stroke-width:0.8; stroke-opacity:0.5; fill:none\" points=\"\n",
       "  353.118,144.906 333.548,144.906 333.548,533.551 353.118,533.551 353.118,144.906 \n",
       "  \"/>\n",
       "<path clip-path=\"url(#clip2802)\" d=\"\n",
       "M372.688 163.497 L353.118 163.497 L353.118 548.274 L372.688 548.274 L372.688 163.497 L372.688 163.497  Z\n",
       "  \" fill=\"#009af9\" fill-rule=\"evenodd\" fill-opacity=\"0.5\"/>\n",
       "<polyline clip-path=\"url(#clip2802)\" style=\"stroke:#000000; stroke-width:0.8; stroke-opacity:0.5; fill:none\" points=\"\n",
       "  372.688,163.497 353.118,163.497 353.118,548.274 372.688,548.274 372.688,163.497 \n",
       "  \"/>\n",
       "<path clip-path=\"url(#clip2802)\" d=\"\n",
       "M392.258 181.903 L372.688 181.903 L372.688 562.851 L392.258 562.851 L392.258 181.903 L392.258 181.903  Z\n",
       "  \" fill=\"#009af9\" fill-rule=\"evenodd\" fill-opacity=\"0.5\"/>\n",
       "<polyline clip-path=\"url(#clip2802)\" style=\"stroke:#000000; stroke-width:0.8; stroke-opacity:0.5; fill:none\" points=\"\n",
       "  392.258,181.903 372.688,181.903 372.688,562.851 392.258,562.851 392.258,181.903 \n",
       "  \"/>\n",
       "<path clip-path=\"url(#clip2802)\" d=\"\n",
       "M411.827 200.126 L392.258 200.126 L392.258 577.284 L411.827 577.284 L411.827 200.126 L411.827 200.126  Z\n",
       "  \" fill=\"#009af9\" fill-rule=\"evenodd\" fill-opacity=\"0.5\"/>\n",
       "<polyline clip-path=\"url(#clip2802)\" style=\"stroke:#000000; stroke-width:0.8; stroke-opacity:0.5; fill:none\" points=\"\n",
       "  411.827,200.126 392.258,200.126 392.258,577.284 411.827,577.284 411.827,200.126 \n",
       "  \"/>\n",
       "<path clip-path=\"url(#clip2802)\" d=\"\n",
       "M431.397 218.167 L411.827 218.167 L411.827 591.572 L431.397 591.572 L431.397 218.167 L431.397 218.167  Z\n",
       "  \" fill=\"#009af9\" fill-rule=\"evenodd\" fill-opacity=\"0.5\"/>\n",
       "<polyline clip-path=\"url(#clip2802)\" style=\"stroke:#000000; stroke-width:0.8; stroke-opacity:0.5; fill:none\" points=\"\n",
       "  431.397,218.167 411.827,218.167 411.827,591.572 431.397,591.572 431.397,218.167 \n",
       "  \"/>\n",
       "<path clip-path=\"url(#clip2802)\" d=\"\n",
       "M450.967 236.029 L431.397 236.029 L431.397 605.719 L450.967 605.719 L450.967 236.029 L450.967 236.029  Z\n",
       "  \" fill=\"#009af9\" fill-rule=\"evenodd\" fill-opacity=\"0.5\"/>\n",
       "<polyline clip-path=\"url(#clip2802)\" style=\"stroke:#000000; stroke-width:0.8; stroke-opacity:0.5; fill:none\" points=\"\n",
       "  450.967,236.029 431.397,236.029 431.397,605.719 450.967,605.719 450.967,236.029 \n",
       "  \"/>\n",
       "<path clip-path=\"url(#clip2802)\" d=\"\n",
       "M470.537 253.713 L450.967 253.713 L450.967 619.724 L470.537 619.724 L470.537 253.713 L470.537 253.713  Z\n",
       "  \" fill=\"#009af9\" fill-rule=\"evenodd\" fill-opacity=\"0.5\"/>\n",
       "<polyline clip-path=\"url(#clip2802)\" style=\"stroke:#000000; stroke-width:0.8; stroke-opacity:0.5; fill:none\" points=\"\n",
       "  470.537,253.713 450.967,253.713 450.967,619.724 470.537,619.724 470.537,253.713 \n",
       "  \"/>\n",
       "<path clip-path=\"url(#clip2802)\" d=\"\n",
       "M490.106 271.221 L470.537 271.221 L470.537 633.591 L490.106 633.591 L490.106 271.221 L490.106 271.221  Z\n",
       "  \" fill=\"#009af9\" fill-rule=\"evenodd\" fill-opacity=\"0.5\"/>\n",
       "<polyline clip-path=\"url(#clip2802)\" style=\"stroke:#000000; stroke-width:0.8; stroke-opacity:0.5; fill:none\" points=\"\n",
       "  490.106,271.221 470.537,271.221 470.537,633.591 490.106,633.591 490.106,271.221 \n",
       "  \"/>\n",
       "<path clip-path=\"url(#clip2802)\" d=\"\n",
       "M509.676 288.555 L490.106 288.555 L490.106 647.319 L509.676 647.319 L509.676 288.555 L509.676 288.555  Z\n",
       "  \" fill=\"#009af9\" fill-rule=\"evenodd\" fill-opacity=\"0.5\"/>\n",
       "<polyline clip-path=\"url(#clip2802)\" style=\"stroke:#000000; stroke-width:0.8; stroke-opacity:0.5; fill:none\" points=\"\n",
       "  509.676,288.555 490.106,288.555 490.106,647.319 509.676,647.319 509.676,288.555 \n",
       "  \"/>\n",
       "<path clip-path=\"url(#clip2802)\" d=\"\n",
       "M529.246 305.717 L509.676 305.717 L509.676 660.911 L529.246 660.911 L529.246 305.717 L529.246 305.717  Z\n",
       "  \" fill=\"#009af9\" fill-rule=\"evenodd\" fill-opacity=\"0.5\"/>\n",
       "<polyline clip-path=\"url(#clip2802)\" style=\"stroke:#000000; stroke-width:0.8; stroke-opacity:0.5; fill:none\" points=\"\n",
       "  529.246,305.717 509.676,305.717 509.676,660.911 529.246,660.911 529.246,305.717 \n",
       "  \"/>\n",
       "<path clip-path=\"url(#clip2802)\" d=\"\n",
       "M548.816 322.707 L529.246 322.707 L529.246 674.367 L548.816 674.367 L548.816 322.707 L548.816 322.707  Z\n",
       "  \" fill=\"#009af9\" fill-rule=\"evenodd\" fill-opacity=\"0.5\"/>\n",
       "<polyline clip-path=\"url(#clip2802)\" style=\"stroke:#000000; stroke-width:0.8; stroke-opacity:0.5; fill:none\" points=\"\n",
       "  548.816,322.707 529.246,322.707 529.246,674.367 548.816,674.367 548.816,322.707 \n",
       "  \"/>\n",
       "<path clip-path=\"url(#clip2802)\" d=\"\n",
       "M568.385 339.529 L548.816 339.529 L548.816 687.69 L568.385 687.69 L568.385 339.529 L568.385 339.529  Z\n",
       "  \" fill=\"#009af9\" fill-rule=\"evenodd\" fill-opacity=\"0.5\"/>\n",
       "<polyline clip-path=\"url(#clip2802)\" style=\"stroke:#000000; stroke-width:0.8; stroke-opacity:0.5; fill:none\" points=\"\n",
       "  568.385,339.529 548.816,339.529 548.816,687.69 568.385,687.69 568.385,339.529 \n",
       "  \"/>\n",
       "<path clip-path=\"url(#clip2802)\" d=\"\n",
       "M587.955 356.183 L568.385 356.183 L568.385 700.88 L587.955 700.88 L587.955 356.183 L587.955 356.183  Z\n",
       "  \" fill=\"#009af9\" fill-rule=\"evenodd\" fill-opacity=\"0.5\"/>\n",
       "<polyline clip-path=\"url(#clip2802)\" style=\"stroke:#000000; stroke-width:0.8; stroke-opacity:0.5; fill:none\" points=\"\n",
       "  587.955,356.183 568.385,356.183 568.385,700.88 587.955,700.88 587.955,356.183 \n",
       "  \"/>\n",
       "<path clip-path=\"url(#clip2802)\" d=\"\n",
       "M607.525 372.672 L587.955 372.672 L587.955 713.939 L607.525 713.939 L607.525 372.672 L607.525 372.672  Z\n",
       "  \" fill=\"#009af9\" fill-rule=\"evenodd\" fill-opacity=\"0.5\"/>\n",
       "<polyline clip-path=\"url(#clip2802)\" style=\"stroke:#000000; stroke-width:0.8; stroke-opacity:0.5; fill:none\" points=\"\n",
       "  607.525,372.672 587.955,372.672 587.955,713.939 607.525,713.939 607.525,372.672 \n",
       "  \"/>\n",
       "<path clip-path=\"url(#clip2802)\" d=\"\n",
       "M627.095 388.996 L607.525 388.996 L607.525 726.867 L627.095 726.867 L627.095 388.996 L627.095 388.996  Z\n",
       "  \" fill=\"#009af9\" fill-rule=\"evenodd\" fill-opacity=\"0.5\"/>\n",
       "<polyline clip-path=\"url(#clip2802)\" style=\"stroke:#000000; stroke-width:0.8; stroke-opacity:0.5; fill:none\" points=\"\n",
       "  627.095,388.996 607.525,388.996 607.525,726.867 627.095,726.867 627.095,388.996 \n",
       "  \"/>\n",
       "<path clip-path=\"url(#clip2802)\" d=\"\n",
       "M646.664 405.158 L627.095 405.158 L627.095 739.668 L646.664 739.668 L646.664 405.158 L646.664 405.158  Z\n",
       "  \" fill=\"#009af9\" fill-rule=\"evenodd\" fill-opacity=\"0.5\"/>\n",
       "<polyline clip-path=\"url(#clip2802)\" style=\"stroke:#000000; stroke-width:0.8; stroke-opacity:0.5; fill:none\" points=\"\n",
       "  646.664,405.158 627.095,405.158 627.095,739.668 646.664,739.668 646.664,405.158 \n",
       "  \"/>\n",
       "<path clip-path=\"url(#clip2802)\" d=\"\n",
       "M666.234 421.16 L646.664 421.16 L646.664 752.34 L666.234 752.34 L666.234 421.16 L666.234 421.16  Z\n",
       "  \" fill=\"#009af9\" fill-rule=\"evenodd\" fill-opacity=\"0.5\"/>\n",
       "<polyline clip-path=\"url(#clip2802)\" style=\"stroke:#000000; stroke-width:0.8; stroke-opacity:0.5; fill:none\" points=\"\n",
       "  666.234,421.16 646.664,421.16 646.664,752.34 666.234,752.34 666.234,421.16 \n",
       "  \"/>\n",
       "<path clip-path=\"url(#clip2802)\" d=\"\n",
       "M685.804 437.002 L666.234 437.002 L666.234 764.887 L685.804 764.887 L685.804 437.002 L685.804 437.002  Z\n",
       "  \" fill=\"#009af9\" fill-rule=\"evenodd\" fill-opacity=\"0.5\"/>\n",
       "<polyline clip-path=\"url(#clip2802)\" style=\"stroke:#000000; stroke-width:0.8; stroke-opacity:0.5; fill:none\" points=\"\n",
       "  685.804,437.002 666.234,437.002 666.234,764.887 685.804,764.887 685.804,437.002 \n",
       "  \"/>\n",
       "<path clip-path=\"url(#clip2802)\" d=\"\n",
       "M705.374 452.686 L685.804 452.686 L685.804 777.309 L705.374 777.309 L705.374 452.686 L705.374 452.686  Z\n",
       "  \" fill=\"#009af9\" fill-rule=\"evenodd\" fill-opacity=\"0.5\"/>\n",
       "<polyline clip-path=\"url(#clip2802)\" style=\"stroke:#000000; stroke-width:0.8; stroke-opacity:0.5; fill:none\" points=\"\n",
       "  705.374,452.686 685.804,452.686 685.804,777.309 705.374,777.309 705.374,452.686 \n",
       "  \"/>\n",
       "<path clip-path=\"url(#clip2802)\" d=\"\n",
       "M724.943 468.215 L705.374 468.215 L705.374 789.607 L724.943 789.607 L724.943 468.215 L724.943 468.215  Z\n",
       "  \" fill=\"#009af9\" fill-rule=\"evenodd\" fill-opacity=\"0.5\"/>\n",
       "<polyline clip-path=\"url(#clip2802)\" style=\"stroke:#000000; stroke-width:0.8; stroke-opacity:0.5; fill:none\" points=\"\n",
       "  724.943,468.215 705.374,468.215 705.374,789.607 724.943,789.607 724.943,468.215 \n",
       "  \"/>\n",
       "<path clip-path=\"url(#clip2802)\" d=\"\n",
       "M744.513 483.588 L724.943 483.588 L724.943 801.783 L744.513 801.783 L744.513 483.588 L744.513 483.588  Z\n",
       "  \" fill=\"#009af9\" fill-rule=\"evenodd\" fill-opacity=\"0.5\"/>\n",
       "<polyline clip-path=\"url(#clip2802)\" style=\"stroke:#000000; stroke-width:0.8; stroke-opacity:0.5; fill:none\" points=\"\n",
       "  744.513,483.588 724.943,483.588 724.943,801.783 744.513,801.783 744.513,483.588 \n",
       "  \"/>\n",
       "<path clip-path=\"url(#clip2802)\" d=\"\n",
       "M764.083 498.809 L744.513 498.809 L744.513 813.838 L764.083 813.838 L764.083 498.809 L764.083 498.809  Z\n",
       "  \" fill=\"#009af9\" fill-rule=\"evenodd\" fill-opacity=\"0.5\"/>\n",
       "<polyline clip-path=\"url(#clip2802)\" style=\"stroke:#000000; stroke-width:0.8; stroke-opacity:0.5; fill:none\" points=\"\n",
       "  764.083,498.809 744.513,498.809 744.513,813.838 764.083,813.838 764.083,498.809 \n",
       "  \"/>\n",
       "<path clip-path=\"url(#clip2802)\" d=\"\n",
       "M783.653 513.879 L764.083 513.879 L764.083 825.773 L783.653 825.773 L783.653 513.879 L783.653 513.879  Z\n",
       "  \" fill=\"#009af9\" fill-rule=\"evenodd\" fill-opacity=\"0.5\"/>\n",
       "<polyline clip-path=\"url(#clip2802)\" style=\"stroke:#000000; stroke-width:0.8; stroke-opacity:0.5; fill:none\" points=\"\n",
       "  783.653,513.879 764.083,513.879 764.083,825.773 783.653,825.773 783.653,513.879 \n",
       "  \"/>\n",
       "<path clip-path=\"url(#clip2802)\" d=\"\n",
       "M803.223 528.798 L783.653 528.798 L783.653 837.589 L803.223 837.589 L803.223 528.798 L803.223 528.798  Z\n",
       "  \" fill=\"#009af9\" fill-rule=\"evenodd\" fill-opacity=\"0.5\"/>\n",
       "<polyline clip-path=\"url(#clip2802)\" style=\"stroke:#000000; stroke-width:0.8; stroke-opacity:0.5; fill:none\" points=\"\n",
       "  803.223,528.798 783.653,528.798 783.653,837.589 803.223,837.589 803.223,528.798 \n",
       "  \"/>\n",
       "<path clip-path=\"url(#clip2802)\" d=\"\n",
       "M822.792 543.569 L803.223 543.569 L803.223 849.287 L822.792 849.287 L822.792 543.569 L822.792 543.569  Z\n",
       "  \" fill=\"#009af9\" fill-rule=\"evenodd\" fill-opacity=\"0.5\"/>\n",
       "<polyline clip-path=\"url(#clip2802)\" style=\"stroke:#000000; stroke-width:0.8; stroke-opacity:0.5; fill:none\" points=\"\n",
       "  822.792,543.569 803.223,543.569 803.223,849.287 822.792,849.287 822.792,543.569 \n",
       "  \"/>\n",
       "<path clip-path=\"url(#clip2802)\" d=\"\n",
       "M842.362 558.193 L822.792 558.193 L822.792 860.87 L842.362 860.87 L842.362 558.193 L842.362 558.193  Z\n",
       "  \" fill=\"#009af9\" fill-rule=\"evenodd\" fill-opacity=\"0.5\"/>\n",
       "<polyline clip-path=\"url(#clip2802)\" style=\"stroke:#000000; stroke-width:0.8; stroke-opacity:0.5; fill:none\" points=\"\n",
       "  842.362,558.193 822.792,558.193 822.792,860.87 842.362,860.87 842.362,558.193 \n",
       "  \"/>\n",
       "<path clip-path=\"url(#clip2802)\" d=\"\n",
       "M861.932 572.672 L842.362 572.672 L842.362 872.336 L861.932 872.336 L861.932 572.672 L861.932 572.672  Z\n",
       "  \" fill=\"#009af9\" fill-rule=\"evenodd\" fill-opacity=\"0.5\"/>\n",
       "<polyline clip-path=\"url(#clip2802)\" style=\"stroke:#000000; stroke-width:0.8; stroke-opacity:0.5; fill:none\" points=\"\n",
       "  861.932,572.672 842.362,572.672 842.362,872.336 861.932,872.336 861.932,572.672 \n",
       "  \"/>\n",
       "<path clip-path=\"url(#clip2802)\" d=\"\n",
       "M881.502 587.006 L861.932 587.006 L861.932 883.689 L881.502 883.689 L881.502 587.006 L881.502 587.006  Z\n",
       "  \" fill=\"#009af9\" fill-rule=\"evenodd\" fill-opacity=\"0.5\"/>\n",
       "<polyline clip-path=\"url(#clip2802)\" style=\"stroke:#000000; stroke-width:0.8; stroke-opacity:0.5; fill:none\" points=\"\n",
       "  881.502,587.006 861.932,587.006 861.932,883.689 881.502,883.689 881.502,587.006 \n",
       "  \"/>\n",
       "<path clip-path=\"url(#clip2802)\" d=\"\n",
       "M901.071 601.198 L881.502 601.198 L881.502 894.929 L901.071 894.929 L901.071 601.198 L901.071 601.198  Z\n",
       "  \" fill=\"#009af9\" fill-rule=\"evenodd\" fill-opacity=\"0.5\"/>\n",
       "<polyline clip-path=\"url(#clip2802)\" style=\"stroke:#000000; stroke-width:0.8; stroke-opacity:0.5; fill:none\" points=\"\n",
       "  901.071,601.198 881.502,601.198 881.502,894.929 901.071,894.929 901.071,601.198 \n",
       "  \"/>\n",
       "<path clip-path=\"url(#clip2802)\" d=\"\n",
       "M920.641 615.249 L901.071 615.249 L901.071 906.057 L920.641 906.057 L920.641 615.249 L920.641 615.249  Z\n",
       "  \" fill=\"#009af9\" fill-rule=\"evenodd\" fill-opacity=\"0.5\"/>\n",
       "<polyline clip-path=\"url(#clip2802)\" style=\"stroke:#000000; stroke-width:0.8; stroke-opacity:0.5; fill:none\" points=\"\n",
       "  920.641,615.249 901.071,615.249 901.071,906.057 920.641,906.057 920.641,615.249 \n",
       "  \"/>\n",
       "<path clip-path=\"url(#clip2802)\" d=\"\n",
       "M940.211 629.16 L920.641 629.16 L920.641 917.074 L940.211 917.074 L940.211 629.16 L940.211 629.16  Z\n",
       "  \" fill=\"#009af9\" fill-rule=\"evenodd\" fill-opacity=\"0.5\"/>\n",
       "<polyline clip-path=\"url(#clip2802)\" style=\"stroke:#000000; stroke-width:0.8; stroke-opacity:0.5; fill:none\" points=\"\n",
       "  940.211,629.16 920.641,629.16 920.641,917.074 940.211,917.074 940.211,629.16 \n",
       "  \"/>\n",
       "<path clip-path=\"url(#clip2802)\" d=\"\n",
       "M959.781 642.932 L940.211 642.932 L940.211 927.982 L959.781 927.982 L959.781 642.932 L959.781 642.932  Z\n",
       "  \" fill=\"#009af9\" fill-rule=\"evenodd\" fill-opacity=\"0.5\"/>\n",
       "<polyline clip-path=\"url(#clip2802)\" style=\"stroke:#000000; stroke-width:0.8; stroke-opacity:0.5; fill:none\" points=\"\n",
       "  959.781,642.932 940.211,642.932 940.211,927.982 959.781,927.982 959.781,642.932 \n",
       "  \"/>\n",
       "<path clip-path=\"url(#clip2802)\" d=\"\n",
       "M979.35 656.567 L959.781 656.567 L959.781 938.781 L979.35 938.781 L979.35 656.567 L979.35 656.567  Z\n",
       "  \" fill=\"#009af9\" fill-rule=\"evenodd\" fill-opacity=\"0.5\"/>\n",
       "<polyline clip-path=\"url(#clip2802)\" style=\"stroke:#000000; stroke-width:0.8; stroke-opacity:0.5; fill:none\" points=\"\n",
       "  979.35,656.567 959.781,656.567 959.781,938.781 979.35,938.781 979.35,656.567 \n",
       "  \"/>\n",
       "<path clip-path=\"url(#clip2802)\" d=\"\n",
       "M998.92 670.067 L979.35 670.067 L979.35 949.473 L998.92 949.473 L998.92 670.067 L998.92 670.067  Z\n",
       "  \" fill=\"#009af9\" fill-rule=\"evenodd\" fill-opacity=\"0.5\"/>\n",
       "<polyline clip-path=\"url(#clip2802)\" style=\"stroke:#000000; stroke-width:0.8; stroke-opacity:0.5; fill:none\" points=\"\n",
       "  998.92,670.067 979.35,670.067 979.35,949.473 998.92,949.473 998.92,670.067 \n",
       "  \"/>\n",
       "<path clip-path=\"url(#clip2802)\" d=\"\n",
       "M1018.49 683.432 L998.92 683.432 L998.92 960.058 L1018.49 960.058 L1018.49 683.432 L1018.49 683.432  Z\n",
       "  \" fill=\"#009af9\" fill-rule=\"evenodd\" fill-opacity=\"0.5\"/>\n",
       "<polyline clip-path=\"url(#clip2802)\" style=\"stroke:#000000; stroke-width:0.8; stroke-opacity:0.5; fill:none\" points=\"\n",
       "  1018.49,683.432 998.92,683.432 998.92,960.058 1018.49,960.058 1018.49,683.432 \n",
       "  \"/>\n",
       "<path clip-path=\"url(#clip2802)\" d=\"\n",
       "M1038.06 696.665 L1018.49 696.665 L1018.49 970.538 L1038.06 970.538 L1038.06 696.665 L1038.06 696.665  Z\n",
       "  \" fill=\"#009af9\" fill-rule=\"evenodd\" fill-opacity=\"0.5\"/>\n",
       "<polyline clip-path=\"url(#clip2802)\" style=\"stroke:#000000; stroke-width:0.8; stroke-opacity:0.5; fill:none\" points=\"\n",
       "  1038.06,696.665 1018.49,696.665 1018.49,970.538 1038.06,970.538 1038.06,696.665 \n",
       "  \"/>\n",
       "<path clip-path=\"url(#clip2802)\" d=\"\n",
       "M1057.63 709.766 L1038.06 709.766 L1038.06 980.913 L1057.63 980.913 L1057.63 709.766 L1057.63 709.766  Z\n",
       "  \" fill=\"#009af9\" fill-rule=\"evenodd\" fill-opacity=\"0.5\"/>\n",
       "<polyline clip-path=\"url(#clip2802)\" style=\"stroke:#000000; stroke-width:0.8; stroke-opacity:0.5; fill:none\" points=\"\n",
       "  1057.63,709.766 1038.06,709.766 1038.06,980.913 1057.63,980.913 1057.63,709.766 \n",
       "  \"/>\n",
       "<path clip-path=\"url(#clip2802)\" d=\"\n",
       "M1077.2 722.736 L1057.63 722.736 L1057.63 991.186 L1077.2 991.186 L1077.2 722.736 L1077.2 722.736  Z\n",
       "  \" fill=\"#009af9\" fill-rule=\"evenodd\" fill-opacity=\"0.5\"/>\n",
       "<polyline clip-path=\"url(#clip2802)\" style=\"stroke:#000000; stroke-width:0.8; stroke-opacity:0.5; fill:none\" points=\"\n",
       "  1077.2,722.736 1057.63,722.736 1057.63,991.186 1077.2,991.186 1077.2,722.736 \n",
       "  \"/>\n",
       "<path clip-path=\"url(#clip2802)\" d=\"\n",
       "M1096.77 735.577 L1077.2 735.577 L1077.2 1001.36 L1096.77 1001.36 L1096.77 735.577 L1096.77 735.577  Z\n",
       "  \" fill=\"#009af9\" fill-rule=\"evenodd\" fill-opacity=\"0.5\"/>\n",
       "<polyline clip-path=\"url(#clip2802)\" style=\"stroke:#000000; stroke-width:0.8; stroke-opacity:0.5; fill:none\" points=\"\n",
       "  1096.77,735.577 1077.2,735.577 1077.2,1001.36 1096.77,1001.36 1096.77,735.577 \n",
       "  \"/>\n",
       "<path clip-path=\"url(#clip2802)\" d=\"\n",
       "M1116.34 748.291 L1096.77 748.291 L1096.77 1011.42 L1116.34 1011.42 L1116.34 748.291 L1116.34 748.291  Z\n",
       "  \" fill=\"#009af9\" fill-rule=\"evenodd\" fill-opacity=\"0.5\"/>\n",
       "<polyline clip-path=\"url(#clip2802)\" style=\"stroke:#000000; stroke-width:0.8; stroke-opacity:0.5; fill:none\" points=\"\n",
       "  1116.34,748.291 1096.77,748.291 1096.77,1011.42 1116.34,1011.42 1116.34,748.291 \n",
       "  \"/>\n",
       "<path clip-path=\"url(#clip2802)\" d=\"\n",
       "M1135.91 760.878 L1116.34 760.878 L1116.34 1021.39 L1135.91 1021.39 L1135.91 760.878 L1135.91 760.878  Z\n",
       "  \" fill=\"#009af9\" fill-rule=\"evenodd\" fill-opacity=\"0.5\"/>\n",
       "<polyline clip-path=\"url(#clip2802)\" style=\"stroke:#000000; stroke-width:0.8; stroke-opacity:0.5; fill:none\" points=\"\n",
       "  1135.91,760.878 1116.34,760.878 1116.34,1021.39 1135.91,1021.39 1135.91,760.878 \n",
       "  \"/>\n",
       "<path clip-path=\"url(#clip2802)\" d=\"\n",
       "M1155.48 773.34 L1135.91 773.34 L1135.91 1031.26 L1155.48 1031.26 L1155.48 773.34 L1155.48 773.34  Z\n",
       "  \" fill=\"#009af9\" fill-rule=\"evenodd\" fill-opacity=\"0.5\"/>\n",
       "<polyline clip-path=\"url(#clip2802)\" style=\"stroke:#000000; stroke-width:0.8; stroke-opacity:0.5; fill:none\" points=\"\n",
       "  1155.48,773.34 1135.91,773.34 1135.91,1031.26 1155.48,1031.26 1155.48,773.34 \n",
       "  \"/>\n",
       "<path clip-path=\"url(#clip2802)\" d=\"\n",
       "M1175.05 785.677 L1155.48 785.677 L1155.48 1041.03 L1175.05 1041.03 L1175.05 785.677 L1175.05 785.677  Z\n",
       "  \" fill=\"#009af9\" fill-rule=\"evenodd\" fill-opacity=\"0.5\"/>\n",
       "<polyline clip-path=\"url(#clip2802)\" style=\"stroke:#000000; stroke-width:0.8; stroke-opacity:0.5; fill:none\" points=\"\n",
       "  1175.05,785.677 1155.48,785.677 1155.48,1041.03 1175.05,1041.03 1175.05,785.677 \n",
       "  \"/>\n",
       "<path clip-path=\"url(#clip2802)\" d=\"\n",
       "M1194.62 797.892 L1175.05 797.892 L1175.05 1050.71 L1194.62 1050.71 L1194.62 797.892 L1194.62 797.892  Z\n",
       "  \" fill=\"#009af9\" fill-rule=\"evenodd\" fill-opacity=\"0.5\"/>\n",
       "<polyline clip-path=\"url(#clip2802)\" style=\"stroke:#000000; stroke-width:0.8; stroke-opacity:0.5; fill:none\" points=\"\n",
       "  1194.62,797.892 1175.05,797.892 1175.05,1050.71 1194.62,1050.71 1194.62,797.892 \n",
       "  \"/>\n",
       "<path clip-path=\"url(#clip2802)\" d=\"\n",
       "M1214.19 809.986 L1194.62 809.986 L1194.62 1060.29 L1214.19 1060.29 L1214.19 809.986 L1214.19 809.986  Z\n",
       "  \" fill=\"#009af9\" fill-rule=\"evenodd\" fill-opacity=\"0.5\"/>\n",
       "<polyline clip-path=\"url(#clip2802)\" style=\"stroke:#000000; stroke-width:0.8; stroke-opacity:0.5; fill:none\" points=\"\n",
       "  1214.19,809.986 1194.62,809.986 1194.62,1060.29 1214.19,1060.29 1214.19,809.986 \n",
       "  \"/>\n",
       "<path clip-path=\"url(#clip2802)\" d=\"\n",
       "M1233.76 821.959 L1214.19 821.959 L1214.19 1069.77 L1233.76 1069.77 L1233.76 821.959 L1233.76 821.959  Z\n",
       "  \" fill=\"#009af9\" fill-rule=\"evenodd\" fill-opacity=\"0.5\"/>\n",
       "<polyline clip-path=\"url(#clip2802)\" style=\"stroke:#000000; stroke-width:0.8; stroke-opacity:0.5; fill:none\" points=\"\n",
       "  1233.76,821.959 1214.19,821.959 1214.19,1069.77 1233.76,1069.77 1233.76,821.959 \n",
       "  \"/>\n",
       "<path clip-path=\"url(#clip2802)\" d=\"\n",
       "M1253.33 833.813 L1233.76 833.813 L1233.76 1079.16 L1253.33 1079.16 L1253.33 833.813 L1253.33 833.813  Z\n",
       "  \" fill=\"#009af9\" fill-rule=\"evenodd\" fill-opacity=\"0.5\"/>\n",
       "<polyline clip-path=\"url(#clip2802)\" style=\"stroke:#000000; stroke-width:0.8; stroke-opacity:0.5; fill:none\" points=\"\n",
       "  1253.33,833.813 1233.76,833.813 1233.76,1079.16 1253.33,1079.16 1253.33,833.813 \n",
       "  \"/>\n",
       "<path clip-path=\"url(#clip2802)\" d=\"\n",
       "M1272.9 845.549 L1253.33 845.549 L1253.33 1088.45 L1272.9 1088.45 L1272.9 845.549 L1272.9 845.549  Z\n",
       "  \" fill=\"#009af9\" fill-rule=\"evenodd\" fill-opacity=\"0.5\"/>\n",
       "<polyline clip-path=\"url(#clip2802)\" style=\"stroke:#000000; stroke-width:0.8; stroke-opacity:0.5; fill:none\" points=\"\n",
       "  1272.9,845.549 1253.33,845.549 1253.33,1088.45 1272.9,1088.45 1272.9,845.549 \n",
       "  \"/>\n",
       "<path clip-path=\"url(#clip2802)\" d=\"\n",
       "M1292.47 857.168 L1272.9 857.168 L1272.9 1097.66 L1292.47 1097.66 L1292.47 857.168 L1292.47 857.168  Z\n",
       "  \" fill=\"#009af9\" fill-rule=\"evenodd\" fill-opacity=\"0.5\"/>\n",
       "<polyline clip-path=\"url(#clip2802)\" style=\"stroke:#000000; stroke-width:0.8; stroke-opacity:0.5; fill:none\" points=\"\n",
       "  1292.47,857.168 1272.9,857.168 1272.9,1097.66 1292.47,1097.66 1292.47,857.168 \n",
       "  \"/>\n",
       "<path clip-path=\"url(#clip2802)\" d=\"\n",
       "M1312.04 868.672 L1292.47 868.672 L1292.47 1106.77 L1312.04 1106.77 L1312.04 868.672 L1312.04 868.672  Z\n",
       "  \" fill=\"#009af9\" fill-rule=\"evenodd\" fill-opacity=\"0.5\"/>\n",
       "<polyline clip-path=\"url(#clip2802)\" style=\"stroke:#000000; stroke-width:0.8; stroke-opacity:0.5; fill:none\" points=\"\n",
       "  1312.04,868.672 1292.47,868.672 1292.47,1106.77 1312.04,1106.77 1312.04,868.672 \n",
       "  \"/>\n",
       "<path clip-path=\"url(#clip2802)\" d=\"\n",
       "M1331.61 880.061 L1312.04 880.061 L1312.04 1115.79 L1331.61 1115.79 L1331.61 880.061 L1331.61 880.061  Z\n",
       "  \" fill=\"#009af9\" fill-rule=\"evenodd\" fill-opacity=\"0.5\"/>\n",
       "<polyline clip-path=\"url(#clip2802)\" style=\"stroke:#000000; stroke-width:0.8; stroke-opacity:0.5; fill:none\" points=\"\n",
       "  1331.61,880.061 1312.04,880.061 1312.04,1115.79 1331.61,1115.79 1331.61,880.061 \n",
       "  \"/>\n",
       "<path clip-path=\"url(#clip2802)\" d=\"\n",
       "M1351.18 891.337 L1331.61 891.337 L1331.61 1124.72 L1351.18 1124.72 L1351.18 891.337 L1351.18 891.337  Z\n",
       "  \" fill=\"#009af9\" fill-rule=\"evenodd\" fill-opacity=\"0.5\"/>\n",
       "<polyline clip-path=\"url(#clip2802)\" style=\"stroke:#000000; stroke-width:0.8; stroke-opacity:0.5; fill:none\" points=\"\n",
       "  1351.18,891.337 1331.61,891.337 1331.61,1124.72 1351.18,1124.72 1351.18,891.337 \n",
       "  \"/>\n",
       "<path clip-path=\"url(#clip2802)\" d=\"\n",
       "M1370.75 902.501 L1351.18 902.501 L1351.18 1133.56 L1370.75 1133.56 L1370.75 902.501 L1370.75 902.501  Z\n",
       "  \" fill=\"#009af9\" fill-rule=\"evenodd\" fill-opacity=\"0.5\"/>\n",
       "<polyline clip-path=\"url(#clip2802)\" style=\"stroke:#000000; stroke-width:0.8; stroke-opacity:0.5; fill:none\" points=\"\n",
       "  1370.75,902.501 1351.18,902.501 1351.18,1133.56 1370.75,1133.56 1370.75,902.501 \n",
       "  \"/>\n",
       "<path clip-path=\"url(#clip2802)\" d=\"\n",
       "M1390.32 913.554 L1370.75 913.554 L1370.75 1142.31 L1390.32 1142.31 L1390.32 913.554 L1390.32 913.554  Z\n",
       "  \" fill=\"#009af9\" fill-rule=\"evenodd\" fill-opacity=\"0.5\"/>\n",
       "<polyline clip-path=\"url(#clip2802)\" style=\"stroke:#000000; stroke-width:0.8; stroke-opacity:0.5; fill:none\" points=\"\n",
       "  1390.32,913.554 1370.75,913.554 1370.75,1142.31 1390.32,1142.31 1390.32,913.554 \n",
       "  \"/>\n",
       "<path clip-path=\"url(#clip2802)\" d=\"\n",
       "M1409.88 924.496 L1390.32 924.496 L1390.32 1150.98 L1409.88 1150.98 L1409.88 924.496 L1409.88 924.496  Z\n",
       "  \" fill=\"#009af9\" fill-rule=\"evenodd\" fill-opacity=\"0.5\"/>\n",
       "<polyline clip-path=\"url(#clip2802)\" style=\"stroke:#000000; stroke-width:0.8; stroke-opacity:0.5; fill:none\" points=\"\n",
       "  1409.88,924.496 1390.32,924.496 1390.32,1150.98 1409.88,1150.98 1409.88,924.496 \n",
       "  \"/>\n",
       "<path clip-path=\"url(#clip2802)\" d=\"\n",
       "M1429.45 935.33 L1409.88 935.33 L1409.88 1159.56 L1429.45 1159.56 L1429.45 935.33 L1429.45 935.33  Z\n",
       "  \" fill=\"#009af9\" fill-rule=\"evenodd\" fill-opacity=\"0.5\"/>\n",
       "<polyline clip-path=\"url(#clip2802)\" style=\"stroke:#000000; stroke-width:0.8; stroke-opacity:0.5; fill:none\" points=\"\n",
       "  1429.45,935.33 1409.88,935.33 1409.88,1159.56 1429.45,1159.56 1429.45,935.33 \n",
       "  \"/>\n",
       "<path clip-path=\"url(#clip2802)\" d=\"\n",
       "M1449.02 946.056 L1429.45 946.056 L1429.45 1168.05 L1449.02 1168.05 L1449.02 946.056 L1449.02 946.056  Z\n",
       "  \" fill=\"#009af9\" fill-rule=\"evenodd\" fill-opacity=\"0.5\"/>\n",
       "<polyline clip-path=\"url(#clip2802)\" style=\"stroke:#000000; stroke-width:0.8; stroke-opacity:0.5; fill:none\" points=\"\n",
       "  1449.02,946.056 1429.45,946.056 1429.45,1168.05 1449.02,1168.05 1449.02,946.056 \n",
       "  \"/>\n",
       "<path clip-path=\"url(#clip2802)\" d=\"\n",
       "M1468.59 956.675 L1449.02 956.675 L1449.02 1176.46 L1468.59 1176.46 L1468.59 956.675 L1468.59 956.675  Z\n",
       "  \" fill=\"#009af9\" fill-rule=\"evenodd\" fill-opacity=\"0.5\"/>\n",
       "<polyline clip-path=\"url(#clip2802)\" style=\"stroke:#000000; stroke-width:0.8; stroke-opacity:0.5; fill:none\" points=\"\n",
       "  1468.59,956.675 1449.02,956.675 1449.02,1176.46 1468.59,1176.46 1468.59,956.675 \n",
       "  \"/>\n",
       "<path clip-path=\"url(#clip2802)\" d=\"\n",
       "M1488.16 967.189 L1468.59 967.189 L1468.59 1184.79 L1488.16 1184.79 L1488.16 967.189 L1488.16 967.189  Z\n",
       "  \" fill=\"#009af9\" fill-rule=\"evenodd\" fill-opacity=\"0.5\"/>\n",
       "<polyline clip-path=\"url(#clip2802)\" style=\"stroke:#000000; stroke-width:0.8; stroke-opacity:0.5; fill:none\" points=\"\n",
       "  1488.16,967.189 1468.59,967.189 1468.59,1184.79 1488.16,1184.79 1488.16,967.189 \n",
       "  \"/>\n",
       "<path clip-path=\"url(#clip2802)\" d=\"\n",
       "M1507.73 977.598 L1488.16 977.598 L1488.16 1193.03 L1507.73 1193.03 L1507.73 977.598 L1507.73 977.598  Z\n",
       "  \" fill=\"#009af9\" fill-rule=\"evenodd\" fill-opacity=\"0.5\"/>\n",
       "<polyline clip-path=\"url(#clip2802)\" style=\"stroke:#000000; stroke-width:0.8; stroke-opacity:0.5; fill:none\" points=\"\n",
       "  1507.73,977.598 1488.16,977.598 1488.16,1193.03 1507.73,1193.03 1507.73,977.598 \n",
       "  \"/>\n",
       "<path clip-path=\"url(#clip2802)\" d=\"\n",
       "M1527.3 987.903 L1507.73 987.903 L1507.73 1201.2 L1527.3 1201.2 L1527.3 987.903 L1527.3 987.903  Z\n",
       "  \" fill=\"#009af9\" fill-rule=\"evenodd\" fill-opacity=\"0.5\"/>\n",
       "<polyline clip-path=\"url(#clip2802)\" style=\"stroke:#000000; stroke-width:0.8; stroke-opacity:0.5; fill:none\" points=\"\n",
       "  1527.3,987.903 1507.73,987.903 1507.73,1201.2 1527.3,1201.2 1527.3,987.903 \n",
       "  \"/>\n",
       "<path clip-path=\"url(#clip2802)\" d=\"\n",
       "M1546.87 998.106 L1527.3 998.106 L1527.3 1209.28 L1546.87 1209.28 L1546.87 998.106 L1546.87 998.106  Z\n",
       "  \" fill=\"#009af9\" fill-rule=\"evenodd\" fill-opacity=\"0.5\"/>\n",
       "<polyline clip-path=\"url(#clip2802)\" style=\"stroke:#000000; stroke-width:0.8; stroke-opacity:0.5; fill:none\" points=\"\n",
       "  1546.87,998.106 1527.3,998.106 1527.3,1209.28 1546.87,1209.28 1546.87,998.106 \n",
       "  \"/>\n",
       "<path clip-path=\"url(#clip2802)\" d=\"\n",
       "M1566.44 1008.21 L1546.87 1008.21 L1546.87 1217.28 L1566.44 1217.28 L1566.44 1008.21 L1566.44 1008.21  Z\n",
       "  \" fill=\"#009af9\" fill-rule=\"evenodd\" fill-opacity=\"0.5\"/>\n",
       "<polyline clip-path=\"url(#clip2802)\" style=\"stroke:#000000; stroke-width:0.8; stroke-opacity:0.5; fill:none\" points=\"\n",
       "  1566.44,1008.21 1546.87,1008.21 1546.87,1217.28 1566.44,1217.28 1566.44,1008.21 \n",
       "  \"/>\n",
       "<path clip-path=\"url(#clip2802)\" d=\"\n",
       "M1586.01 1018.21 L1566.44 1018.21 L1566.44 1225.2 L1586.01 1225.2 L1586.01 1018.21 L1586.01 1018.21  Z\n",
       "  \" fill=\"#009af9\" fill-rule=\"evenodd\" fill-opacity=\"0.5\"/>\n",
       "<polyline clip-path=\"url(#clip2802)\" style=\"stroke:#000000; stroke-width:0.8; stroke-opacity:0.5; fill:none\" points=\"\n",
       "  1586.01,1018.21 1566.44,1018.21 1566.44,1225.2 1586.01,1225.2 1586.01,1018.21 \n",
       "  \"/>\n",
       "<path clip-path=\"url(#clip2802)\" d=\"\n",
       "M1605.58 1028.11 L1586.01 1028.11 L1586.01 1233.04 L1605.58 1233.04 L1605.58 1028.11 L1605.58 1028.11  Z\n",
       "  \" fill=\"#009af9\" fill-rule=\"evenodd\" fill-opacity=\"0.5\"/>\n",
       "<polyline clip-path=\"url(#clip2802)\" style=\"stroke:#000000; stroke-width:0.8; stroke-opacity:0.5; fill:none\" points=\"\n",
       "  1605.58,1028.11 1586.01,1028.11 1586.01,1233.04 1605.58,1233.04 1605.58,1028.11 \n",
       "  \"/>\n",
       "<path clip-path=\"url(#clip2802)\" d=\"\n",
       "M1625.15 1037.91 L1605.58 1037.91 L1605.58 1240.8 L1625.15 1240.8 L1625.15 1037.91 L1625.15 1037.91  Z\n",
       "  \" fill=\"#009af9\" fill-rule=\"evenodd\" fill-opacity=\"0.5\"/>\n",
       "<polyline clip-path=\"url(#clip2802)\" style=\"stroke:#000000; stroke-width:0.8; stroke-opacity:0.5; fill:none\" points=\"\n",
       "  1625.15,1037.91 1605.58,1037.91 1605.58,1240.8 1625.15,1240.8 1625.15,1037.91 \n",
       "  \"/>\n",
       "<path clip-path=\"url(#clip2802)\" d=\"\n",
       "M1644.72 1047.62 L1625.15 1047.62 L1625.15 1248.49 L1644.72 1248.49 L1644.72 1047.62 L1644.72 1047.62  Z\n",
       "  \" fill=\"#009af9\" fill-rule=\"evenodd\" fill-opacity=\"0.5\"/>\n",
       "<polyline clip-path=\"url(#clip2802)\" style=\"stroke:#000000; stroke-width:0.8; stroke-opacity:0.5; fill:none\" points=\"\n",
       "  1644.72,1047.62 1625.15,1047.62 1625.15,1248.49 1644.72,1248.49 1644.72,1047.62 \n",
       "  \"/>\n",
       "<path clip-path=\"url(#clip2802)\" d=\"\n",
       "M1664.29 1057.23 L1644.72 1057.23 L1644.72 1256.1 L1664.29 1256.1 L1664.29 1057.23 L1664.29 1057.23  Z\n",
       "  \" fill=\"#009af9\" fill-rule=\"evenodd\" fill-opacity=\"0.5\"/>\n",
       "<polyline clip-path=\"url(#clip2802)\" style=\"stroke:#000000; stroke-width:0.8; stroke-opacity:0.5; fill:none\" points=\"\n",
       "  1664.29,1057.23 1644.72,1057.23 1644.72,1256.1 1664.29,1256.1 1664.29,1057.23 \n",
       "  \"/>\n",
       "<path clip-path=\"url(#clip2802)\" d=\"\n",
       "M1683.86 1066.74 L1664.29 1066.74 L1664.29 1263.63 L1683.86 1263.63 L1683.86 1066.74 L1683.86 1066.74  Z\n",
       "  \" fill=\"#009af9\" fill-rule=\"evenodd\" fill-opacity=\"0.5\"/>\n",
       "<polyline clip-path=\"url(#clip2802)\" style=\"stroke:#000000; stroke-width:0.8; stroke-opacity:0.5; fill:none\" points=\"\n",
       "  1683.86,1066.74 1664.29,1066.74 1664.29,1263.63 1683.86,1263.63 1683.86,1066.74 \n",
       "  \"/>\n",
       "<path clip-path=\"url(#clip2802)\" d=\"\n",
       "M1703.43 1076.16 L1683.86 1076.16 L1683.86 1271.09 L1703.43 1271.09 L1703.43 1076.16 L1703.43 1076.16  Z\n",
       "  \" fill=\"#009af9\" fill-rule=\"evenodd\" fill-opacity=\"0.5\"/>\n",
       "<polyline clip-path=\"url(#clip2802)\" style=\"stroke:#000000; stroke-width:0.8; stroke-opacity:0.5; fill:none\" points=\"\n",
       "  1703.43,1076.16 1683.86,1076.16 1683.86,1271.09 1703.43,1271.09 1703.43,1076.16 \n",
       "  \"/>\n",
       "<path clip-path=\"url(#clip2802)\" d=\"\n",
       "M1723 1085.48 L1703.43 1085.48 L1703.43 1278.48 L1723 1278.48 L1723 1085.48 L1723 1085.48  Z\n",
       "  \" fill=\"#009af9\" fill-rule=\"evenodd\" fill-opacity=\"0.5\"/>\n",
       "<polyline clip-path=\"url(#clip2802)\" style=\"stroke:#000000; stroke-width:0.8; stroke-opacity:0.5; fill:none\" points=\"\n",
       "  1723,1085.48 1703.43,1085.48 1703.43,1278.48 1723,1278.48 1723,1085.48 \n",
       "  \"/>\n",
       "<path clip-path=\"url(#clip2802)\" d=\"\n",
       "M1742.57 1094.71 L1723 1094.71 L1723 1285.79 L1742.57 1285.79 L1742.57 1094.71 L1742.57 1094.71  Z\n",
       "  \" fill=\"#009af9\" fill-rule=\"evenodd\" fill-opacity=\"0.5\"/>\n",
       "<polyline clip-path=\"url(#clip2802)\" style=\"stroke:#000000; stroke-width:0.8; stroke-opacity:0.5; fill:none\" points=\"\n",
       "  1742.57,1094.71 1723,1094.71 1723,1285.79 1742.57,1285.79 1742.57,1094.71 \n",
       "  \"/>\n",
       "<path clip-path=\"url(#clip2802)\" d=\"\n",
       "M1762.14 1103.85 L1742.57 1103.85 L1742.57 1293.03 L1762.14 1293.03 L1762.14 1103.85 L1762.14 1103.85  Z\n",
       "  \" fill=\"#009af9\" fill-rule=\"evenodd\" fill-opacity=\"0.5\"/>\n",
       "<polyline clip-path=\"url(#clip2802)\" style=\"stroke:#000000; stroke-width:0.8; stroke-opacity:0.5; fill:none\" points=\"\n",
       "  1762.14,1103.85 1742.57,1103.85 1742.57,1293.03 1762.14,1293.03 1762.14,1103.85 \n",
       "  \"/>\n",
       "<path clip-path=\"url(#clip2802)\" d=\"\n",
       "M1781.71 1112.9 L1762.14 1112.9 L1762.14 1300.19 L1781.71 1300.19 L1781.71 1112.9 L1781.71 1112.9  Z\n",
       "  \" fill=\"#009af9\" fill-rule=\"evenodd\" fill-opacity=\"0.5\"/>\n",
       "<polyline clip-path=\"url(#clip2802)\" style=\"stroke:#000000; stroke-width:0.8; stroke-opacity:0.5; fill:none\" points=\"\n",
       "  1781.71,1112.9 1762.14,1112.9 1762.14,1300.19 1781.71,1300.19 1781.71,1112.9 \n",
       "  \"/>\n",
       "<path clip-path=\"url(#clip2802)\" d=\"\n",
       "M1801.28 1121.86 L1781.71 1121.86 L1781.71 1307.29 L1801.28 1307.29 L1801.28 1121.86 L1801.28 1121.86  Z\n",
       "  \" fill=\"#009af9\" fill-rule=\"evenodd\" fill-opacity=\"0.5\"/>\n",
       "<polyline clip-path=\"url(#clip2802)\" style=\"stroke:#000000; stroke-width:0.8; stroke-opacity:0.5; fill:none\" points=\"\n",
       "  1801.28,1121.86 1781.71,1121.86 1781.71,1307.29 1801.28,1307.29 1801.28,1121.86 \n",
       "  \"/>\n",
       "<path clip-path=\"url(#clip2802)\" d=\"\n",
       "M1820.85 1130.73 L1801.28 1130.73 L1801.28 1314.32 L1820.85 1314.32 L1820.85 1130.73 L1820.85 1130.73  Z\n",
       "  \" fill=\"#009af9\" fill-rule=\"evenodd\" fill-opacity=\"0.5\"/>\n",
       "<polyline clip-path=\"url(#clip2802)\" style=\"stroke:#000000; stroke-width:0.8; stroke-opacity:0.5; fill:none\" points=\"\n",
       "  1820.85,1130.73 1801.28,1130.73 1801.28,1314.32 1820.85,1314.32 1820.85,1130.73 \n",
       "  \"/>\n",
       "<path clip-path=\"url(#clip2802)\" d=\"\n",
       "M1840.42 1139.51 L1820.85 1139.51 L1820.85 1321.27 L1840.42 1321.27 L1840.42 1139.51 L1840.42 1139.51  Z\n",
       "  \" fill=\"#009af9\" fill-rule=\"evenodd\" fill-opacity=\"0.5\"/>\n",
       "<polyline clip-path=\"url(#clip2802)\" style=\"stroke:#000000; stroke-width:0.8; stroke-opacity:0.5; fill:none\" points=\"\n",
       "  1840.42,1139.51 1820.85,1139.51 1820.85,1321.27 1840.42,1321.27 1840.42,1139.51 \n",
       "  \"/>\n",
       "<path clip-path=\"url(#clip2802)\" d=\"\n",
       "M1859.99 1148.21 L1840.42 1148.21 L1840.42 1328.16 L1859.99 1328.16 L1859.99 1148.21 L1859.99 1148.21  Z\n",
       "  \" fill=\"#009af9\" fill-rule=\"evenodd\" fill-opacity=\"0.5\"/>\n",
       "<polyline clip-path=\"url(#clip2802)\" style=\"stroke:#000000; stroke-width:0.8; stroke-opacity:0.5; fill:none\" points=\"\n",
       "  1859.99,1148.21 1840.42,1148.21 1840.42,1328.16 1859.99,1328.16 1859.99,1148.21 \n",
       "  \"/>\n",
       "<path clip-path=\"url(#clip2802)\" d=\"\n",
       "M1879.56 1156.82 L1859.99 1156.82 L1859.99 1334.97 L1879.56 1334.97 L1879.56 1156.82 L1879.56 1156.82  Z\n",
       "  \" fill=\"#009af9\" fill-rule=\"evenodd\" fill-opacity=\"0.5\"/>\n",
       "<polyline clip-path=\"url(#clip2802)\" style=\"stroke:#000000; stroke-width:0.8; stroke-opacity:0.5; fill:none\" points=\"\n",
       "  1879.56,1156.82 1859.99,1156.82 1859.99,1334.97 1879.56,1334.97 1879.56,1156.82 \n",
       "  \"/>\n",
       "<path clip-path=\"url(#clip2802)\" d=\"\n",
       "M1899.13 1165.34 L1879.56 1165.34 L1879.56 1341.72 L1899.13 1341.72 L1899.13 1165.34 L1899.13 1165.34  Z\n",
       "  \" fill=\"#009af9\" fill-rule=\"evenodd\" fill-opacity=\"0.5\"/>\n",
       "<polyline clip-path=\"url(#clip2802)\" style=\"stroke:#000000; stroke-width:0.8; stroke-opacity:0.5; fill:none\" points=\"\n",
       "  1899.13,1165.34 1879.56,1165.34 1879.56,1341.72 1899.13,1341.72 1899.13,1165.34 \n",
       "  \"/>\n",
       "<path clip-path=\"url(#clip2802)\" d=\"\n",
       "M1918.7 1173.78 L1899.13 1173.78 L1899.13 1348.4 L1918.7 1348.4 L1918.7 1173.78 L1918.7 1173.78  Z\n",
       "  \" fill=\"#009af9\" fill-rule=\"evenodd\" fill-opacity=\"0.5\"/>\n",
       "<polyline clip-path=\"url(#clip2802)\" style=\"stroke:#000000; stroke-width:0.8; stroke-opacity:0.5; fill:none\" points=\"\n",
       "  1918.7,1173.78 1899.13,1173.78 1899.13,1348.4 1918.7,1348.4 1918.7,1173.78 \n",
       "  \"/>\n",
       "<path clip-path=\"url(#clip2802)\" d=\"\n",
       "M1938.27 1182.13 L1918.7 1182.13 L1918.7 1355.02 L1938.27 1355.02 L1938.27 1182.13 L1938.27 1182.13  Z\n",
       "  \" fill=\"#009af9\" fill-rule=\"evenodd\" fill-opacity=\"0.5\"/>\n",
       "<polyline clip-path=\"url(#clip2802)\" style=\"stroke:#000000; stroke-width:0.8; stroke-opacity:0.5; fill:none\" points=\"\n",
       "  1938.27,1182.13 1918.7,1182.13 1918.7,1355.02 1938.27,1355.02 1938.27,1182.13 \n",
       "  \"/>\n",
       "<path clip-path=\"url(#clip2802)\" d=\"\n",
       "M1957.84 1190.4 L1938.27 1190.4 L1938.27 1361.57 L1957.84 1361.57 L1957.84 1190.4 L1957.84 1190.4  Z\n",
       "  \" fill=\"#009af9\" fill-rule=\"evenodd\" fill-opacity=\"0.5\"/>\n",
       "<polyline clip-path=\"url(#clip2802)\" style=\"stroke:#000000; stroke-width:0.8; stroke-opacity:0.5; fill:none\" points=\"\n",
       "  1957.84,1190.4 1938.27,1190.4 1938.27,1361.57 1957.84,1361.57 1957.84,1190.4 \n",
       "  \"/>\n",
       "<path clip-path=\"url(#clip2802)\" d=\"\n",
       "M1977.41 1198.59 L1957.84 1198.59 L1957.84 1368.06 L1977.41 1368.06 L1977.41 1198.59 L1977.41 1198.59  Z\n",
       "  \" fill=\"#009af9\" fill-rule=\"evenodd\" fill-opacity=\"0.5\"/>\n",
       "<polyline clip-path=\"url(#clip2802)\" style=\"stroke:#000000; stroke-width:0.8; stroke-opacity:0.5; fill:none\" points=\"\n",
       "  1977.41,1198.59 1957.84,1198.59 1957.84,1368.06 1977.41,1368.06 1977.41,1198.59 \n",
       "  \"/>\n",
       "<path clip-path=\"url(#clip2802)\" d=\"\n",
       "M1996.98 1206.69 L1977.41 1206.69 L1977.41 1374.48 L1996.98 1374.48 L1996.98 1206.69 L1996.98 1206.69  Z\n",
       "  \" fill=\"#009af9\" fill-rule=\"evenodd\" fill-opacity=\"0.5\"/>\n",
       "<polyline clip-path=\"url(#clip2802)\" style=\"stroke:#000000; stroke-width:0.8; stroke-opacity:0.5; fill:none\" points=\"\n",
       "  1996.98,1206.69 1977.41,1206.69 1977.41,1374.48 1996.98,1374.48 1996.98,1206.69 \n",
       "  \"/>\n",
       "<path clip-path=\"url(#clip2802)\" d=\"\n",
       "M2016.55 1214.72 L1996.98 1214.72 L1996.98 1380.83 L2016.55 1380.83 L2016.55 1214.72 L2016.55 1214.72  Z\n",
       "  \" fill=\"#009af9\" fill-rule=\"evenodd\" fill-opacity=\"0.5\"/>\n",
       "<polyline clip-path=\"url(#clip2802)\" style=\"stroke:#000000; stroke-width:0.8; stroke-opacity:0.5; fill:none\" points=\"\n",
       "  2016.55,1214.72 1996.98,1214.72 1996.98,1380.83 2016.55,1380.83 2016.55,1214.72 \n",
       "  \"/>\n",
       "<path clip-path=\"url(#clip2802)\" d=\"\n",
       "M2036.12 1222.67 L2016.55 1222.67 L2016.55 1387.13 L2036.12 1387.13 L2036.12 1222.67 L2036.12 1222.67  Z\n",
       "  \" fill=\"#009af9\" fill-rule=\"evenodd\" fill-opacity=\"0.5\"/>\n",
       "<polyline clip-path=\"url(#clip2802)\" style=\"stroke:#000000; stroke-width:0.8; stroke-opacity:0.5; fill:none\" points=\"\n",
       "  2036.12,1222.67 2016.55,1222.67 2016.55,1387.13 2036.12,1387.13 2036.12,1222.67 \n",
       "  \"/>\n",
       "<path clip-path=\"url(#clip2802)\" d=\"\n",
       "M2055.69 1230.53 L2036.12 1230.53 L2036.12 1393.36 L2055.69 1393.36 L2055.69 1230.53 L2055.69 1230.53  Z\n",
       "  \" fill=\"#009af9\" fill-rule=\"evenodd\" fill-opacity=\"0.5\"/>\n",
       "<polyline clip-path=\"url(#clip2802)\" style=\"stroke:#000000; stroke-width:0.8; stroke-opacity:0.5; fill:none\" points=\"\n",
       "  2055.69,1230.53 2036.12,1230.53 2036.12,1393.36 2055.69,1393.36 2055.69,1230.53 \n",
       "  \"/>\n",
       "<path clip-path=\"url(#clip2802)\" d=\"\n",
       "M2075.26 1238.32 L2055.69 1238.32 L2055.69 1399.52 L2075.26 1399.52 L2075.26 1238.32 L2075.26 1238.32  Z\n",
       "  \" fill=\"#009af9\" fill-rule=\"evenodd\" fill-opacity=\"0.5\"/>\n",
       "<polyline clip-path=\"url(#clip2802)\" style=\"stroke:#000000; stroke-width:0.8; stroke-opacity:0.5; fill:none\" points=\"\n",
       "  2075.26,1238.32 2055.69,1238.32 2055.69,1399.52 2075.26,1399.52 2075.26,1238.32 \n",
       "  \"/>\n",
       "<path clip-path=\"url(#clip2802)\" d=\"\n",
       "M2094.83 1246.03 L2075.26 1246.03 L2075.26 1405.63 L2094.83 1405.63 L2094.83 1246.03 L2094.83 1246.03  Z\n",
       "  \" fill=\"#009af9\" fill-rule=\"evenodd\" fill-opacity=\"0.5\"/>\n",
       "<polyline clip-path=\"url(#clip2802)\" style=\"stroke:#000000; stroke-width:0.8; stroke-opacity:0.5; fill:none\" points=\"\n",
       "  2094.83,1246.03 2075.26,1246.03 2075.26,1405.63 2094.83,1405.63 2094.83,1246.03 \n",
       "  \"/>\n",
       "<path clip-path=\"url(#clip2802)\" d=\"\n",
       "M2114.4 1253.67 L2094.83 1253.67 L2094.83 1411.68 L2114.4 1411.68 L2114.4 1253.67 L2114.4 1253.67  Z\n",
       "  \" fill=\"#009af9\" fill-rule=\"evenodd\" fill-opacity=\"0.5\"/>\n",
       "<polyline clip-path=\"url(#clip2802)\" style=\"stroke:#000000; stroke-width:0.8; stroke-opacity:0.5; fill:none\" points=\"\n",
       "  2114.4,1253.67 2094.83,1253.67 2094.83,1411.68 2114.4,1411.68 2114.4,1253.67 \n",
       "  \"/>\n",
       "<path clip-path=\"url(#clip2802)\" d=\"\n",
       "M2133.97 1261.23 L2114.4 1261.23 L2114.4 1417.66 L2133.97 1417.66 L2133.97 1261.23 L2133.97 1261.23  Z\n",
       "  \" fill=\"#009af9\" fill-rule=\"evenodd\" fill-opacity=\"0.5\"/>\n",
       "<polyline clip-path=\"url(#clip2802)\" style=\"stroke:#000000; stroke-width:0.8; stroke-opacity:0.5; fill:none\" points=\"\n",
       "  2133.97,1261.23 2114.4,1261.23 2114.4,1417.66 2133.97,1417.66 2133.97,1261.23 \n",
       "  \"/>\n",
       "<path clip-path=\"url(#clip2802)\" d=\"\n",
       "M2153.54 1268.71 L2133.97 1268.71 L2133.97 1423.59 L2153.54 1423.59 L2153.54 1268.71 L2153.54 1268.71  Z\n",
       "  \" fill=\"#009af9\" fill-rule=\"evenodd\" fill-opacity=\"0.5\"/>\n",
       "<polyline clip-path=\"url(#clip2802)\" style=\"stroke:#000000; stroke-width:0.8; stroke-opacity:0.5; fill:none\" points=\"\n",
       "  2153.54,1268.71 2133.97,1268.71 2133.97,1423.59 2153.54,1423.59 2153.54,1268.71 \n",
       "  \"/>\n",
       "<path clip-path=\"url(#clip2802)\" d=\"\n",
       "M2173.11 1276.12 L2153.54 1276.12 L2153.54 1429.46 L2173.11 1429.46 L2173.11 1276.12 L2173.11 1276.12  Z\n",
       "  \" fill=\"#009af9\" fill-rule=\"evenodd\" fill-opacity=\"0.5\"/>\n",
       "<polyline clip-path=\"url(#clip2802)\" style=\"stroke:#000000; stroke-width:0.8; stroke-opacity:0.5; fill:none\" points=\"\n",
       "  2173.11,1276.12 2153.54,1276.12 2153.54,1429.46 2173.11,1429.46 2173.11,1276.12 \n",
       "  \"/>\n",
       "<path clip-path=\"url(#clip2802)\" d=\"\n",
       "M2192.68 1283.45 L2173.11 1283.45 L2173.11 1435.27 L2192.68 1435.27 L2192.68 1283.45 L2192.68 1283.45  Z\n",
       "  \" fill=\"#009af9\" fill-rule=\"evenodd\" fill-opacity=\"0.5\"/>\n",
       "<polyline clip-path=\"url(#clip2802)\" style=\"stroke:#000000; stroke-width:0.8; stroke-opacity:0.5; fill:none\" points=\"\n",
       "  2192.68,1283.45 2173.11,1283.45 2173.11,1435.27 2192.68,1435.27 2192.68,1283.45 \n",
       "  \"/>\n",
       "<path clip-path=\"url(#clip2802)\" d=\"\n",
       "M2212.25 1290.71 L2192.68 1290.71 L2192.68 1441.02 L2212.25 1441.02 L2212.25 1290.71 L2212.25 1290.71  Z\n",
       "  \" fill=\"#009af9\" fill-rule=\"evenodd\" fill-opacity=\"0.5\"/>\n",
       "<polyline clip-path=\"url(#clip2802)\" style=\"stroke:#000000; stroke-width:0.8; stroke-opacity:0.5; fill:none\" points=\"\n",
       "  2212.25,1290.71 2192.68,1290.71 2192.68,1441.02 2212.25,1441.02 2212.25,1290.71 \n",
       "  \"/>\n",
       "<path clip-path=\"url(#clip2802)\" d=\"\n",
       "M2231.81 1297.9 L2212.25 1297.9 L2212.25 1446.71 L2231.81 1446.71 L2231.81 1297.9 L2231.81 1297.9  Z\n",
       "  \" fill=\"#009af9\" fill-rule=\"evenodd\" fill-opacity=\"0.5\"/>\n",
       "<polyline clip-path=\"url(#clip2802)\" style=\"stroke:#000000; stroke-width:0.8; stroke-opacity:0.5; fill:none\" points=\"\n",
       "  2231.81,1297.9 2212.25,1297.9 2212.25,1446.71 2231.81,1446.71 2231.81,1297.9 \n",
       "  \"/>\n",
       "<polyline clip-path=\"url(#clip2802)\" style=\"stroke:#ff0000; stroke-width:4; stroke-opacity:1; fill:none\" points=\"\n",
       "  216.13,858.123 236.388,858.123 423.704,858.123 536.273,858.123 631.449,858.123 734.836,858.123 830.15,858.123 932.337,858.123 1050.73,858.123 1155.94,858.123 \n",
       "  1248.21,858.123 1348.8,858.123 1449.99,858.123 1561.87,858.123 1668.32,858.123 1779,858.123 1872.17,858.123 1985.92,858.123 2092.85,858.123 2264.16,858.123 \n",
       "  2290.52,858.123 \n",
       "  \"/>\n",
       "<path clip-path=\"url(#clip2800)\" d=\"\n",
       "M1866.8 251.724 L2280.76 251.724 L2280.76 130.764 L1866.8 130.764  Z\n",
       "  \" fill=\"#ffffff\" fill-rule=\"evenodd\" fill-opacity=\"1\"/>\n",
       "<polyline clip-path=\"url(#clip2800)\" style=\"stroke:#000000; stroke-width:4; stroke-opacity:1; fill:none\" points=\"\n",
       "  1866.8,251.724 2280.76,251.724 2280.76,130.764 1866.8,130.764 1866.8,251.724 \n",
       "  \"/>\n",
       "<polyline clip-path=\"url(#clip2800)\" style=\"stroke:#ff0000; stroke-width:4; stroke-opacity:1; fill:none\" points=\"\n",
       "  1890.8,191.244 2034.8,191.244 \n",
       "  \"/>\n",
       "<g clip-path=\"url(#clip2800)\">\n",
       "<text style=\"fill:#000000; fill-opacity:1; font-family:Arial,Helvetica Neue,Helvetica,sans-serif; font-size:48px; text-anchor:start;\" transform=\"rotate(0, 2058.8, 208.744)\" x=\"2058.8\" y=\"208.744\">x == 0.3</text>\n",
       "</g>\n",
       "</svg>\n"
      ]
     },
     "execution_count": 35,
     "metadata": {},
     "output_type": "execute_result"
    }
   ],
   "source": [
    "plot(sol, vars=(0, 1), lw=0.2)\n",
    "plot!(x -> 0.3, color=:red, lab=\"x == 0.3\")"
   ]
  },
  {
   "cell_type": "code",
   "execution_count": 62,
   "metadata": {},
   "outputs": [
    {
     "data": {
      "text/plain": [
       "(InitialValueProblem{ConstrainedLinearContinuousSystem{Float64,IdentityMultiple{Float64},HalfSpace{Float64,Array{Float64,1}}},Interval{Float64,IntervalArithmetic.Interval{Float64}}}(ConstrainedLinearContinuousSystem{Float64,IdentityMultiple{Float64},HalfSpace{Float64,Array{Float64,1}}}([-1.0], HalfSpace{Float64,Array{Float64,1}}([-1.0], -0.3)), Interval{Float64,IntervalArithmetic.Interval{Float64}}([0.4, 0.5])), (0.0, 1.0))"
      ]
     },
     "execution_count": 62,
     "metadata": {},
     "output_type": "execute_result"
    }
   ],
   "source": [
    "X = HalfSpace([-1.0], -0.3) # x >= 0.3\n",
    "prob, dt = exponential_1d(invariant=X)"
   ]
  },
  {
   "cell_type": "code",
   "execution_count": 52,
   "metadata": {},
   "outputs": [],
   "source": [
    "sol = solve(prob, tspan=dt, INT(δ=0.01));"
   ]
  },
  {
   "cell_type": "code",
   "execution_count": 40,
   "metadata": {},
   "outputs": [
    {
     "name": "stdout",
     "output_type": "stream",
     "text": [
      "  1.669 μs (27 allocations: 5.31 KiB)\n"
     ]
    }
   ],
   "source": [
    "@btime solve($prob, tspan=$dt, alg);"
   ]
  },
  {
   "cell_type": "code",
   "execution_count": 38,
   "metadata": {},
   "outputs": [
    {
     "data": {
      "text/plain": [
       "[0, 0.520001]"
      ]
     },
     "execution_count": 38,
     "metadata": {},
     "output_type": "execute_result"
    }
   ],
   "source": [
    "tspan(sol)"
   ]
  },
  {
   "cell_type": "code",
   "execution_count": 39,
   "metadata": {},
   "outputs": [
    {
     "data": {
      "image/svg+xml": [
       "<?xml version=\"1.0\" encoding=\"utf-8\"?>\n",
       "<svg xmlns=\"http://www.w3.org/2000/svg\" xmlns:xlink=\"http://www.w3.org/1999/xlink\" width=\"600\" height=\"400\" viewBox=\"0 0 2400 1600\">\n",
       "<defs>\n",
       "  <clipPath id=\"clip3200\">\n",
       "    <rect x=\"0\" y=\"0\" width=\"2400\" height=\"1600\"/>\n",
       "  </clipPath>\n",
       "</defs>\n",
       "<path clip-path=\"url(#clip3200)\" d=\"\n",
       "M0 1600 L2400 1600 L2400 0 L0 0  Z\n",
       "  \" fill=\"#ffffff\" fill-rule=\"evenodd\" fill-opacity=\"1\"/>\n",
       "<defs>\n",
       "  <clipPath id=\"clip3201\">\n",
       "    <rect x=\"480\" y=\"0\" width=\"1681\" height=\"1600\"/>\n",
       "  </clipPath>\n",
       "</defs>\n",
       "<path clip-path=\"url(#clip3200)\" d=\"\n",
       "M153.898 1487.47 L2352.76 1487.47 L2352.76 47.2441 L153.898 47.2441  Z\n",
       "  \" fill=\"#ffffff\" fill-rule=\"evenodd\" fill-opacity=\"1\"/>\n",
       "<defs>\n",
       "  <clipPath id=\"clip3202\">\n",
       "    <rect x=\"153\" y=\"47\" width=\"2200\" height=\"1441\"/>\n",
       "  </clipPath>\n",
       "</defs>\n",
       "<polyline clip-path=\"url(#clip3202)\" style=\"stroke:#000000; stroke-width:2; stroke-opacity:0.1; fill:none\" points=\"\n",
       "  274.839,1487.47 274.839,47.2441 \n",
       "  \"/>\n",
       "<polyline clip-path=\"url(#clip3202)\" style=\"stroke:#000000; stroke-width:2; stroke-opacity:0.1; fill:none\" points=\"\n",
       "  764.083,1487.47 764.083,47.2441 \n",
       "  \"/>\n",
       "<polyline clip-path=\"url(#clip3202)\" style=\"stroke:#000000; stroke-width:2; stroke-opacity:0.1; fill:none\" points=\"\n",
       "  1253.33,1487.47 1253.33,47.2441 \n",
       "  \"/>\n",
       "<polyline clip-path=\"url(#clip3202)\" style=\"stroke:#000000; stroke-width:2; stroke-opacity:0.1; fill:none\" points=\"\n",
       "  1742.57,1487.47 1742.57,47.2441 \n",
       "  \"/>\n",
       "<polyline clip-path=\"url(#clip3202)\" style=\"stroke:#000000; stroke-width:2; stroke-opacity:0.1; fill:none\" points=\"\n",
       "  2231.81,1487.47 2231.81,47.2441 \n",
       "  \"/>\n",
       "<polyline clip-path=\"url(#clip3202)\" style=\"stroke:#000000; stroke-width:2; stroke-opacity:0.1; fill:none\" points=\"\n",
       "  153.898,1243.18 2352.76,1243.18 \n",
       "  \"/>\n",
       "<polyline clip-path=\"url(#clip3202)\" style=\"stroke:#000000; stroke-width:2; stroke-opacity:0.1; fill:none\" points=\"\n",
       "  153.898,858.123 2352.76,858.123 \n",
       "  \"/>\n",
       "<polyline clip-path=\"url(#clip3202)\" style=\"stroke:#000000; stroke-width:2; stroke-opacity:0.1; fill:none\" points=\"\n",
       "  153.898,473.064 2352.76,473.064 \n",
       "  \"/>\n",
       "<polyline clip-path=\"url(#clip3202)\" style=\"stroke:#000000; stroke-width:2; stroke-opacity:0.1; fill:none\" points=\"\n",
       "  153.898,88.0053 2352.76,88.0053 \n",
       "  \"/>\n",
       "<polyline clip-path=\"url(#clip3200)\" style=\"stroke:#000000; stroke-width:4; stroke-opacity:1; fill:none\" points=\"\n",
       "  153.898,1487.47 2352.76,1487.47 \n",
       "  \"/>\n",
       "<polyline clip-path=\"url(#clip3200)\" style=\"stroke:#000000; stroke-width:4; stroke-opacity:1; fill:none\" points=\"\n",
       "  153.898,1487.47 153.898,47.2441 \n",
       "  \"/>\n",
       "<polyline clip-path=\"url(#clip3200)\" style=\"stroke:#000000; stroke-width:4; stroke-opacity:1; fill:none\" points=\"\n",
       "  274.839,1487.47 274.839,1470.19 \n",
       "  \"/>\n",
       "<polyline clip-path=\"url(#clip3200)\" style=\"stroke:#000000; stroke-width:4; stroke-opacity:1; fill:none\" points=\"\n",
       "  764.083,1487.47 764.083,1470.19 \n",
       "  \"/>\n",
       "<polyline clip-path=\"url(#clip3200)\" style=\"stroke:#000000; stroke-width:4; stroke-opacity:1; fill:none\" points=\"\n",
       "  1253.33,1487.47 1253.33,1470.19 \n",
       "  \"/>\n",
       "<polyline clip-path=\"url(#clip3200)\" style=\"stroke:#000000; stroke-width:4; stroke-opacity:1; fill:none\" points=\"\n",
       "  1742.57,1487.47 1742.57,1470.19 \n",
       "  \"/>\n",
       "<polyline clip-path=\"url(#clip3200)\" style=\"stroke:#000000; stroke-width:4; stroke-opacity:1; fill:none\" points=\"\n",
       "  2231.81,1487.47 2231.81,1470.19 \n",
       "  \"/>\n",
       "<polyline clip-path=\"url(#clip3200)\" style=\"stroke:#000000; stroke-width:4; stroke-opacity:1; fill:none\" points=\"\n",
       "  153.898,1243.18 180.284,1243.18 \n",
       "  \"/>\n",
       "<polyline clip-path=\"url(#clip3200)\" style=\"stroke:#000000; stroke-width:4; stroke-opacity:1; fill:none\" points=\"\n",
       "  153.898,858.123 180.284,858.123 \n",
       "  \"/>\n",
       "<polyline clip-path=\"url(#clip3200)\" style=\"stroke:#000000; stroke-width:4; stroke-opacity:1; fill:none\" points=\"\n",
       "  153.898,473.064 180.284,473.064 \n",
       "  \"/>\n",
       "<polyline clip-path=\"url(#clip3200)\" style=\"stroke:#000000; stroke-width:4; stroke-opacity:1; fill:none\" points=\"\n",
       "  153.898,88.0053 180.284,88.0053 \n",
       "  \"/>\n",
       "<g clip-path=\"url(#clip3200)\">\n",
       "<text style=\"fill:#000000; fill-opacity:1; font-family:Arial,Helvetica Neue,Helvetica,sans-serif; font-size:48px; text-anchor:middle;\" transform=\"rotate(0, 274.839, 1541.47)\" x=\"274.839\" y=\"1541.47\">0.00</text>\n",
       "</g>\n",
       "<g clip-path=\"url(#clip3200)\">\n",
       "<text style=\"fill:#000000; fill-opacity:1; font-family:Arial,Helvetica Neue,Helvetica,sans-serif; font-size:48px; text-anchor:middle;\" transform=\"rotate(0, 764.083, 1541.47)\" x=\"764.083\" y=\"1541.47\">0.25</text>\n",
       "</g>\n",
       "<g clip-path=\"url(#clip3200)\">\n",
       "<text style=\"fill:#000000; fill-opacity:1; font-family:Arial,Helvetica Neue,Helvetica,sans-serif; font-size:48px; text-anchor:middle;\" transform=\"rotate(0, 1253.33, 1541.47)\" x=\"1253.33\" y=\"1541.47\">0.50</text>\n",
       "</g>\n",
       "<g clip-path=\"url(#clip3200)\">\n",
       "<text style=\"fill:#000000; fill-opacity:1; font-family:Arial,Helvetica Neue,Helvetica,sans-serif; font-size:48px; text-anchor:middle;\" transform=\"rotate(0, 1742.57, 1541.47)\" x=\"1742.57\" y=\"1541.47\">0.75</text>\n",
       "</g>\n",
       "<g clip-path=\"url(#clip3200)\">\n",
       "<text style=\"fill:#000000; fill-opacity:1; font-family:Arial,Helvetica Neue,Helvetica,sans-serif; font-size:48px; text-anchor:middle;\" transform=\"rotate(0, 2231.81, 1541.47)\" x=\"2231.81\" y=\"1541.47\">1.00</text>\n",
       "</g>\n",
       "<g clip-path=\"url(#clip3200)\">\n",
       "<text style=\"fill:#000000; fill-opacity:1; font-family:Arial,Helvetica Neue,Helvetica,sans-serif; font-size:48px; text-anchor:end;\" transform=\"rotate(0, 129.898, 1260.68)\" x=\"129.898\" y=\"1260.68\">0.2</text>\n",
       "</g>\n",
       "<g clip-path=\"url(#clip3200)\">\n",
       "<text style=\"fill:#000000; fill-opacity:1; font-family:Arial,Helvetica Neue,Helvetica,sans-serif; font-size:48px; text-anchor:end;\" transform=\"rotate(0, 129.898, 875.623)\" x=\"129.898\" y=\"875.623\">0.3</text>\n",
       "</g>\n",
       "<g clip-path=\"url(#clip3200)\">\n",
       "<text style=\"fill:#000000; fill-opacity:1; font-family:Arial,Helvetica Neue,Helvetica,sans-serif; font-size:48px; text-anchor:end;\" transform=\"rotate(0, 129.898, 490.564)\" x=\"129.898\" y=\"490.564\">0.4</text>\n",
       "</g>\n",
       "<g clip-path=\"url(#clip3200)\">\n",
       "<text style=\"fill:#000000; fill-opacity:1; font-family:Arial,Helvetica Neue,Helvetica,sans-serif; font-size:48px; text-anchor:end;\" transform=\"rotate(0, 129.898, 105.505)\" x=\"129.898\" y=\"105.505\">0.5</text>\n",
       "</g>\n",
       "<path clip-path=\"url(#clip3202)\" d=\"\n",
       "M294.409 88.0053 L274.839 88.0053 L274.839 488.485 L294.409 488.485 L294.409 88.0053 L294.409 88.0053  Z\n",
       "  \" fill=\"#009af9\" fill-rule=\"evenodd\" fill-opacity=\"0.5\"/>\n",
       "<polyline clip-path=\"url(#clip3202)\" style=\"stroke:#000000; stroke-width:0.8; stroke-opacity:0.5; fill:none\" points=\"\n",
       "  294.409,88.0053 274.839,88.0053 274.839,488.485 294.409,488.485 294.409,88.0053 \n",
       "  \"/>\n",
       "<path clip-path=\"url(#clip3202)\" d=\"\n",
       "M313.979 107.162 L294.409 107.162 L294.409 503.658 L313.979 503.658 L313.979 107.162 L313.979 107.162  Z\n",
       "  \" fill=\"#009af9\" fill-rule=\"evenodd\" fill-opacity=\"0.5\"/>\n",
       "<polyline clip-path=\"url(#clip3202)\" style=\"stroke:#000000; stroke-width:0.8; stroke-opacity:0.5; fill:none\" points=\"\n",
       "  313.979,107.162 294.409,107.162 294.409,503.658 313.979,503.658 313.979,107.162 \n",
       "  \"/>\n",
       "<path clip-path=\"url(#clip3202)\" d=\"\n",
       "M333.548 126.129 L313.979 126.129 L313.979 518.679 L333.548 518.679 L333.548 126.129 L333.548 126.129  Z\n",
       "  \" fill=\"#009af9\" fill-rule=\"evenodd\" fill-opacity=\"0.5\"/>\n",
       "<polyline clip-path=\"url(#clip3202)\" style=\"stroke:#000000; stroke-width:0.8; stroke-opacity:0.5; fill:none\" points=\"\n",
       "  333.548,126.129 313.979,126.129 313.979,518.679 333.548,518.679 333.548,126.129 \n",
       "  \"/>\n",
       "<path clip-path=\"url(#clip3202)\" d=\"\n",
       "M353.118 144.906 L333.548 144.906 L333.548 533.551 L353.118 533.551 L353.118 144.906 L353.118 144.906  Z\n",
       "  \" fill=\"#009af9\" fill-rule=\"evenodd\" fill-opacity=\"0.5\"/>\n",
       "<polyline clip-path=\"url(#clip3202)\" style=\"stroke:#000000; stroke-width:0.8; stroke-opacity:0.5; fill:none\" points=\"\n",
       "  353.118,144.906 333.548,144.906 333.548,533.551 353.118,533.551 353.118,144.906 \n",
       "  \"/>\n",
       "<path clip-path=\"url(#clip3202)\" d=\"\n",
       "M372.688 163.497 L353.118 163.497 L353.118 548.274 L372.688 548.274 L372.688 163.497 L372.688 163.497  Z\n",
       "  \" fill=\"#009af9\" fill-rule=\"evenodd\" fill-opacity=\"0.5\"/>\n",
       "<polyline clip-path=\"url(#clip3202)\" style=\"stroke:#000000; stroke-width:0.8; stroke-opacity:0.5; fill:none\" points=\"\n",
       "  372.688,163.497 353.118,163.497 353.118,548.274 372.688,548.274 372.688,163.497 \n",
       "  \"/>\n",
       "<path clip-path=\"url(#clip3202)\" d=\"\n",
       "M392.258 181.903 L372.688 181.903 L372.688 562.851 L392.258 562.851 L392.258 181.903 L392.258 181.903  Z\n",
       "  \" fill=\"#009af9\" fill-rule=\"evenodd\" fill-opacity=\"0.5\"/>\n",
       "<polyline clip-path=\"url(#clip3202)\" style=\"stroke:#000000; stroke-width:0.8; stroke-opacity:0.5; fill:none\" points=\"\n",
       "  392.258,181.903 372.688,181.903 372.688,562.851 392.258,562.851 392.258,181.903 \n",
       "  \"/>\n",
       "<path clip-path=\"url(#clip3202)\" d=\"\n",
       "M411.827 200.126 L392.258 200.126 L392.258 577.284 L411.827 577.284 L411.827 200.126 L411.827 200.126  Z\n",
       "  \" fill=\"#009af9\" fill-rule=\"evenodd\" fill-opacity=\"0.5\"/>\n",
       "<polyline clip-path=\"url(#clip3202)\" style=\"stroke:#000000; stroke-width:0.8; stroke-opacity:0.5; fill:none\" points=\"\n",
       "  411.827,200.126 392.258,200.126 392.258,577.284 411.827,577.284 411.827,200.126 \n",
       "  \"/>\n",
       "<path clip-path=\"url(#clip3202)\" d=\"\n",
       "M431.397 218.167 L411.827 218.167 L411.827 591.572 L431.397 591.572 L431.397 218.167 L431.397 218.167  Z\n",
       "  \" fill=\"#009af9\" fill-rule=\"evenodd\" fill-opacity=\"0.5\"/>\n",
       "<polyline clip-path=\"url(#clip3202)\" style=\"stroke:#000000; stroke-width:0.8; stroke-opacity:0.5; fill:none\" points=\"\n",
       "  431.397,218.167 411.827,218.167 411.827,591.572 431.397,591.572 431.397,218.167 \n",
       "  \"/>\n",
       "<path clip-path=\"url(#clip3202)\" d=\"\n",
       "M450.967 236.029 L431.397 236.029 L431.397 605.719 L450.967 605.719 L450.967 236.029 L450.967 236.029  Z\n",
       "  \" fill=\"#009af9\" fill-rule=\"evenodd\" fill-opacity=\"0.5\"/>\n",
       "<polyline clip-path=\"url(#clip3202)\" style=\"stroke:#000000; stroke-width:0.8; stroke-opacity:0.5; fill:none\" points=\"\n",
       "  450.967,236.029 431.397,236.029 431.397,605.719 450.967,605.719 450.967,236.029 \n",
       "  \"/>\n",
       "<path clip-path=\"url(#clip3202)\" d=\"\n",
       "M470.537 253.713 L450.967 253.713 L450.967 619.724 L470.537 619.724 L470.537 253.713 L470.537 253.713  Z\n",
       "  \" fill=\"#009af9\" fill-rule=\"evenodd\" fill-opacity=\"0.5\"/>\n",
       "<polyline clip-path=\"url(#clip3202)\" style=\"stroke:#000000; stroke-width:0.8; stroke-opacity:0.5; fill:none\" points=\"\n",
       "  470.537,253.713 450.967,253.713 450.967,619.724 470.537,619.724 470.537,253.713 \n",
       "  \"/>\n",
       "<path clip-path=\"url(#clip3202)\" d=\"\n",
       "M490.106 271.221 L470.537 271.221 L470.537 633.591 L490.106 633.591 L490.106 271.221 L490.106 271.221  Z\n",
       "  \" fill=\"#009af9\" fill-rule=\"evenodd\" fill-opacity=\"0.5\"/>\n",
       "<polyline clip-path=\"url(#clip3202)\" style=\"stroke:#000000; stroke-width:0.8; stroke-opacity:0.5; fill:none\" points=\"\n",
       "  490.106,271.221 470.537,271.221 470.537,633.591 490.106,633.591 490.106,271.221 \n",
       "  \"/>\n",
       "<path clip-path=\"url(#clip3202)\" d=\"\n",
       "M509.676 288.555 L490.106 288.555 L490.106 647.319 L509.676 647.319 L509.676 288.555 L509.676 288.555  Z\n",
       "  \" fill=\"#009af9\" fill-rule=\"evenodd\" fill-opacity=\"0.5\"/>\n",
       "<polyline clip-path=\"url(#clip3202)\" style=\"stroke:#000000; stroke-width:0.8; stroke-opacity:0.5; fill:none\" points=\"\n",
       "  509.676,288.555 490.106,288.555 490.106,647.319 509.676,647.319 509.676,288.555 \n",
       "  \"/>\n",
       "<path clip-path=\"url(#clip3202)\" d=\"\n",
       "M529.246 305.717 L509.676 305.717 L509.676 660.911 L529.246 660.911 L529.246 305.717 L529.246 305.717  Z\n",
       "  \" fill=\"#009af9\" fill-rule=\"evenodd\" fill-opacity=\"0.5\"/>\n",
       "<polyline clip-path=\"url(#clip3202)\" style=\"stroke:#000000; stroke-width:0.8; stroke-opacity:0.5; fill:none\" points=\"\n",
       "  529.246,305.717 509.676,305.717 509.676,660.911 529.246,660.911 529.246,305.717 \n",
       "  \"/>\n",
       "<path clip-path=\"url(#clip3202)\" d=\"\n",
       "M548.816 322.707 L529.246 322.707 L529.246 674.367 L548.816 674.367 L548.816 322.707 L548.816 322.707  Z\n",
       "  \" fill=\"#009af9\" fill-rule=\"evenodd\" fill-opacity=\"0.5\"/>\n",
       "<polyline clip-path=\"url(#clip3202)\" style=\"stroke:#000000; stroke-width:0.8; stroke-opacity:0.5; fill:none\" points=\"\n",
       "  548.816,322.707 529.246,322.707 529.246,674.367 548.816,674.367 548.816,322.707 \n",
       "  \"/>\n",
       "<path clip-path=\"url(#clip3202)\" d=\"\n",
       "M568.385 339.529 L548.816 339.529 L548.816 687.69 L568.385 687.69 L568.385 339.529 L568.385 339.529  Z\n",
       "  \" fill=\"#009af9\" fill-rule=\"evenodd\" fill-opacity=\"0.5\"/>\n",
       "<polyline clip-path=\"url(#clip3202)\" style=\"stroke:#000000; stroke-width:0.8; stroke-opacity:0.5; fill:none\" points=\"\n",
       "  568.385,339.529 548.816,339.529 548.816,687.69 568.385,687.69 568.385,339.529 \n",
       "  \"/>\n",
       "<path clip-path=\"url(#clip3202)\" d=\"\n",
       "M587.955 356.183 L568.385 356.183 L568.385 700.88 L587.955 700.88 L587.955 356.183 L587.955 356.183  Z\n",
       "  \" fill=\"#009af9\" fill-rule=\"evenodd\" fill-opacity=\"0.5\"/>\n",
       "<polyline clip-path=\"url(#clip3202)\" style=\"stroke:#000000; stroke-width:0.8; stroke-opacity:0.5; fill:none\" points=\"\n",
       "  587.955,356.183 568.385,356.183 568.385,700.88 587.955,700.88 587.955,356.183 \n",
       "  \"/>\n",
       "<path clip-path=\"url(#clip3202)\" d=\"\n",
       "M607.525 372.672 L587.955 372.672 L587.955 713.939 L607.525 713.939 L607.525 372.672 L607.525 372.672  Z\n",
       "  \" fill=\"#009af9\" fill-rule=\"evenodd\" fill-opacity=\"0.5\"/>\n",
       "<polyline clip-path=\"url(#clip3202)\" style=\"stroke:#000000; stroke-width:0.8; stroke-opacity:0.5; fill:none\" points=\"\n",
       "  607.525,372.672 587.955,372.672 587.955,713.939 607.525,713.939 607.525,372.672 \n",
       "  \"/>\n",
       "<path clip-path=\"url(#clip3202)\" d=\"\n",
       "M627.095 388.996 L607.525 388.996 L607.525 726.867 L627.095 726.867 L627.095 388.996 L627.095 388.996  Z\n",
       "  \" fill=\"#009af9\" fill-rule=\"evenodd\" fill-opacity=\"0.5\"/>\n",
       "<polyline clip-path=\"url(#clip3202)\" style=\"stroke:#000000; stroke-width:0.8; stroke-opacity:0.5; fill:none\" points=\"\n",
       "  627.095,388.996 607.525,388.996 607.525,726.867 627.095,726.867 627.095,388.996 \n",
       "  \"/>\n",
       "<path clip-path=\"url(#clip3202)\" d=\"\n",
       "M646.664 405.158 L627.095 405.158 L627.095 739.668 L646.664 739.668 L646.664 405.158 L646.664 405.158  Z\n",
       "  \" fill=\"#009af9\" fill-rule=\"evenodd\" fill-opacity=\"0.5\"/>\n",
       "<polyline clip-path=\"url(#clip3202)\" style=\"stroke:#000000; stroke-width:0.8; stroke-opacity:0.5; fill:none\" points=\"\n",
       "  646.664,405.158 627.095,405.158 627.095,739.668 646.664,739.668 646.664,405.158 \n",
       "  \"/>\n",
       "<path clip-path=\"url(#clip3202)\" d=\"\n",
       "M666.234 421.16 L646.664 421.16 L646.664 752.34 L666.234 752.34 L666.234 421.16 L666.234 421.16  Z\n",
       "  \" fill=\"#009af9\" fill-rule=\"evenodd\" fill-opacity=\"0.5\"/>\n",
       "<polyline clip-path=\"url(#clip3202)\" style=\"stroke:#000000; stroke-width:0.8; stroke-opacity:0.5; fill:none\" points=\"\n",
       "  666.234,421.16 646.664,421.16 646.664,752.34 666.234,752.34 666.234,421.16 \n",
       "  \"/>\n",
       "<path clip-path=\"url(#clip3202)\" d=\"\n",
       "M685.804 437.002 L666.234 437.002 L666.234 764.887 L685.804 764.887 L685.804 437.002 L685.804 437.002  Z\n",
       "  \" fill=\"#009af9\" fill-rule=\"evenodd\" fill-opacity=\"0.5\"/>\n",
       "<polyline clip-path=\"url(#clip3202)\" style=\"stroke:#000000; stroke-width:0.8; stroke-opacity:0.5; fill:none\" points=\"\n",
       "  685.804,437.002 666.234,437.002 666.234,764.887 685.804,764.887 685.804,437.002 \n",
       "  \"/>\n",
       "<path clip-path=\"url(#clip3202)\" d=\"\n",
       "M705.374 452.686 L685.804 452.686 L685.804 777.309 L705.374 777.309 L705.374 452.686 L705.374 452.686  Z\n",
       "  \" fill=\"#009af9\" fill-rule=\"evenodd\" fill-opacity=\"0.5\"/>\n",
       "<polyline clip-path=\"url(#clip3202)\" style=\"stroke:#000000; stroke-width:0.8; stroke-opacity:0.5; fill:none\" points=\"\n",
       "  705.374,452.686 685.804,452.686 685.804,777.309 705.374,777.309 705.374,452.686 \n",
       "  \"/>\n",
       "<path clip-path=\"url(#clip3202)\" d=\"\n",
       "M724.943 468.215 L705.374 468.215 L705.374 789.607 L724.943 789.607 L724.943 468.215 L724.943 468.215  Z\n",
       "  \" fill=\"#009af9\" fill-rule=\"evenodd\" fill-opacity=\"0.5\"/>\n",
       "<polyline clip-path=\"url(#clip3202)\" style=\"stroke:#000000; stroke-width:0.8; stroke-opacity:0.5; fill:none\" points=\"\n",
       "  724.943,468.215 705.374,468.215 705.374,789.607 724.943,789.607 724.943,468.215 \n",
       "  \"/>\n",
       "<path clip-path=\"url(#clip3202)\" d=\"\n",
       "M744.513 483.588 L724.943 483.588 L724.943 801.783 L744.513 801.783 L744.513 483.588 L744.513 483.588  Z\n",
       "  \" fill=\"#009af9\" fill-rule=\"evenodd\" fill-opacity=\"0.5\"/>\n",
       "<polyline clip-path=\"url(#clip3202)\" style=\"stroke:#000000; stroke-width:0.8; stroke-opacity:0.5; fill:none\" points=\"\n",
       "  744.513,483.588 724.943,483.588 724.943,801.783 744.513,801.783 744.513,483.588 \n",
       "  \"/>\n",
       "<path clip-path=\"url(#clip3202)\" d=\"\n",
       "M764.083 498.809 L744.513 498.809 L744.513 813.838 L764.083 813.838 L764.083 498.809 L764.083 498.809  Z\n",
       "  \" fill=\"#009af9\" fill-rule=\"evenodd\" fill-opacity=\"0.5\"/>\n",
       "<polyline clip-path=\"url(#clip3202)\" style=\"stroke:#000000; stroke-width:0.8; stroke-opacity:0.5; fill:none\" points=\"\n",
       "  764.083,498.809 744.513,498.809 744.513,813.838 764.083,813.838 764.083,498.809 \n",
       "  \"/>\n",
       "<path clip-path=\"url(#clip3202)\" d=\"\n",
       "M783.653 513.879 L764.083 513.879 L764.083 825.773 L783.653 825.773 L783.653 513.879 L783.653 513.879  Z\n",
       "  \" fill=\"#009af9\" fill-rule=\"evenodd\" fill-opacity=\"0.5\"/>\n",
       "<polyline clip-path=\"url(#clip3202)\" style=\"stroke:#000000; stroke-width:0.8; stroke-opacity:0.5; fill:none\" points=\"\n",
       "  783.653,513.879 764.083,513.879 764.083,825.773 783.653,825.773 783.653,513.879 \n",
       "  \"/>\n",
       "<path clip-path=\"url(#clip3202)\" d=\"\n",
       "M803.223 528.798 L783.653 528.798 L783.653 837.589 L803.223 837.589 L803.223 528.798 L803.223 528.798  Z\n",
       "  \" fill=\"#009af9\" fill-rule=\"evenodd\" fill-opacity=\"0.5\"/>\n",
       "<polyline clip-path=\"url(#clip3202)\" style=\"stroke:#000000; stroke-width:0.8; stroke-opacity:0.5; fill:none\" points=\"\n",
       "  803.223,528.798 783.653,528.798 783.653,837.589 803.223,837.589 803.223,528.798 \n",
       "  \"/>\n",
       "<path clip-path=\"url(#clip3202)\" d=\"\n",
       "M822.792 543.569 L803.223 543.569 L803.223 849.287 L822.792 849.287 L822.792 543.569 L822.792 543.569  Z\n",
       "  \" fill=\"#009af9\" fill-rule=\"evenodd\" fill-opacity=\"0.5\"/>\n",
       "<polyline clip-path=\"url(#clip3202)\" style=\"stroke:#000000; stroke-width:0.8; stroke-opacity:0.5; fill:none\" points=\"\n",
       "  822.792,543.569 803.223,543.569 803.223,849.287 822.792,849.287 822.792,543.569 \n",
       "  \"/>\n",
       "<path clip-path=\"url(#clip3202)\" d=\"\n",
       "M842.362 558.193 L822.792 558.193 L822.792 860.87 L842.362 860.87 L842.362 558.193 L842.362 558.193  Z\n",
       "  \" fill=\"#009af9\" fill-rule=\"evenodd\" fill-opacity=\"0.5\"/>\n",
       "<polyline clip-path=\"url(#clip3202)\" style=\"stroke:#000000; stroke-width:0.8; stroke-opacity:0.5; fill:none\" points=\"\n",
       "  842.362,558.193 822.792,558.193 822.792,860.87 842.362,860.87 842.362,558.193 \n",
       "  \"/>\n",
       "<path clip-path=\"url(#clip3202)\" d=\"\n",
       "M861.932 572.672 L842.362 572.672 L842.362 872.336 L861.932 872.336 L861.932 572.672 L861.932 572.672  Z\n",
       "  \" fill=\"#009af9\" fill-rule=\"evenodd\" fill-opacity=\"0.5\"/>\n",
       "<polyline clip-path=\"url(#clip3202)\" style=\"stroke:#000000; stroke-width:0.8; stroke-opacity:0.5; fill:none\" points=\"\n",
       "  861.932,572.672 842.362,572.672 842.362,872.336 861.932,872.336 861.932,572.672 \n",
       "  \"/>\n",
       "<path clip-path=\"url(#clip3202)\" d=\"\n",
       "M881.502 587.006 L861.932 587.006 L861.932 883.689 L881.502 883.689 L881.502 587.006 L881.502 587.006  Z\n",
       "  \" fill=\"#009af9\" fill-rule=\"evenodd\" fill-opacity=\"0.5\"/>\n",
       "<polyline clip-path=\"url(#clip3202)\" style=\"stroke:#000000; stroke-width:0.8; stroke-opacity:0.5; fill:none\" points=\"\n",
       "  881.502,587.006 861.932,587.006 861.932,883.689 881.502,883.689 881.502,587.006 \n",
       "  \"/>\n",
       "<path clip-path=\"url(#clip3202)\" d=\"\n",
       "M901.071 601.198 L881.502 601.198 L881.502 894.929 L901.071 894.929 L901.071 601.198 L901.071 601.198  Z\n",
       "  \" fill=\"#009af9\" fill-rule=\"evenodd\" fill-opacity=\"0.5\"/>\n",
       "<polyline clip-path=\"url(#clip3202)\" style=\"stroke:#000000; stroke-width:0.8; stroke-opacity:0.5; fill:none\" points=\"\n",
       "  901.071,601.198 881.502,601.198 881.502,894.929 901.071,894.929 901.071,601.198 \n",
       "  \"/>\n",
       "<path clip-path=\"url(#clip3202)\" d=\"\n",
       "M920.641 615.249 L901.071 615.249 L901.071 906.057 L920.641 906.057 L920.641 615.249 L920.641 615.249  Z\n",
       "  \" fill=\"#009af9\" fill-rule=\"evenodd\" fill-opacity=\"0.5\"/>\n",
       "<polyline clip-path=\"url(#clip3202)\" style=\"stroke:#000000; stroke-width:0.8; stroke-opacity:0.5; fill:none\" points=\"\n",
       "  920.641,615.249 901.071,615.249 901.071,906.057 920.641,906.057 920.641,615.249 \n",
       "  \"/>\n",
       "<path clip-path=\"url(#clip3202)\" d=\"\n",
       "M940.211 629.16 L920.641 629.16 L920.641 917.074 L940.211 917.074 L940.211 629.16 L940.211 629.16  Z\n",
       "  \" fill=\"#009af9\" fill-rule=\"evenodd\" fill-opacity=\"0.5\"/>\n",
       "<polyline clip-path=\"url(#clip3202)\" style=\"stroke:#000000; stroke-width:0.8; stroke-opacity:0.5; fill:none\" points=\"\n",
       "  940.211,629.16 920.641,629.16 920.641,917.074 940.211,917.074 940.211,629.16 \n",
       "  \"/>\n",
       "<path clip-path=\"url(#clip3202)\" d=\"\n",
       "M959.781 642.932 L940.211 642.932 L940.211 927.982 L959.781 927.982 L959.781 642.932 L959.781 642.932  Z\n",
       "  \" fill=\"#009af9\" fill-rule=\"evenodd\" fill-opacity=\"0.5\"/>\n",
       "<polyline clip-path=\"url(#clip3202)\" style=\"stroke:#000000; stroke-width:0.8; stroke-opacity:0.5; fill:none\" points=\"\n",
       "  959.781,642.932 940.211,642.932 940.211,927.982 959.781,927.982 959.781,642.932 \n",
       "  \"/>\n",
       "<path clip-path=\"url(#clip3202)\" d=\"\n",
       "M979.35 656.567 L959.781 656.567 L959.781 938.781 L979.35 938.781 L979.35 656.567 L979.35 656.567  Z\n",
       "  \" fill=\"#009af9\" fill-rule=\"evenodd\" fill-opacity=\"0.5\"/>\n",
       "<polyline clip-path=\"url(#clip3202)\" style=\"stroke:#000000; stroke-width:0.8; stroke-opacity:0.5; fill:none\" points=\"\n",
       "  979.35,656.567 959.781,656.567 959.781,938.781 979.35,938.781 979.35,656.567 \n",
       "  \"/>\n",
       "<path clip-path=\"url(#clip3202)\" d=\"\n",
       "M998.92 670.067 L979.35 670.067 L979.35 949.473 L998.92 949.473 L998.92 670.067 L998.92 670.067  Z\n",
       "  \" fill=\"#009af9\" fill-rule=\"evenodd\" fill-opacity=\"0.5\"/>\n",
       "<polyline clip-path=\"url(#clip3202)\" style=\"stroke:#000000; stroke-width:0.8; stroke-opacity:0.5; fill:none\" points=\"\n",
       "  998.92,670.067 979.35,670.067 979.35,949.473 998.92,949.473 998.92,670.067 \n",
       "  \"/>\n",
       "<path clip-path=\"url(#clip3202)\" d=\"\n",
       "M1018.49 683.432 L998.92 683.432 L998.92 960.058 L1018.49 960.058 L1018.49 683.432 L1018.49 683.432  Z\n",
       "  \" fill=\"#009af9\" fill-rule=\"evenodd\" fill-opacity=\"0.5\"/>\n",
       "<polyline clip-path=\"url(#clip3202)\" style=\"stroke:#000000; stroke-width:0.8; stroke-opacity:0.5; fill:none\" points=\"\n",
       "  1018.49,683.432 998.92,683.432 998.92,960.058 1018.49,960.058 1018.49,683.432 \n",
       "  \"/>\n",
       "<path clip-path=\"url(#clip3202)\" d=\"\n",
       "M1038.06 696.665 L1018.49 696.665 L1018.49 970.538 L1038.06 970.538 L1038.06 696.665 L1038.06 696.665  Z\n",
       "  \" fill=\"#009af9\" fill-rule=\"evenodd\" fill-opacity=\"0.5\"/>\n",
       "<polyline clip-path=\"url(#clip3202)\" style=\"stroke:#000000; stroke-width:0.8; stroke-opacity:0.5; fill:none\" points=\"\n",
       "  1038.06,696.665 1018.49,696.665 1018.49,970.538 1038.06,970.538 1038.06,696.665 \n",
       "  \"/>\n",
       "<path clip-path=\"url(#clip3202)\" d=\"\n",
       "M1057.63 709.766 L1038.06 709.766 L1038.06 980.913 L1057.63 980.913 L1057.63 709.766 L1057.63 709.766  Z\n",
       "  \" fill=\"#009af9\" fill-rule=\"evenodd\" fill-opacity=\"0.5\"/>\n",
       "<polyline clip-path=\"url(#clip3202)\" style=\"stroke:#000000; stroke-width:0.8; stroke-opacity:0.5; fill:none\" points=\"\n",
       "  1057.63,709.766 1038.06,709.766 1038.06,980.913 1057.63,980.913 1057.63,709.766 \n",
       "  \"/>\n",
       "<path clip-path=\"url(#clip3202)\" d=\"\n",
       "M1077.2 722.736 L1057.63 722.736 L1057.63 991.186 L1077.2 991.186 L1077.2 722.736 L1077.2 722.736  Z\n",
       "  \" fill=\"#009af9\" fill-rule=\"evenodd\" fill-opacity=\"0.5\"/>\n",
       "<polyline clip-path=\"url(#clip3202)\" style=\"stroke:#000000; stroke-width:0.8; stroke-opacity:0.5; fill:none\" points=\"\n",
       "  1077.2,722.736 1057.63,722.736 1057.63,991.186 1077.2,991.186 1077.2,722.736 \n",
       "  \"/>\n",
       "<path clip-path=\"url(#clip3202)\" d=\"\n",
       "M1096.77 735.577 L1077.2 735.577 L1077.2 1001.36 L1096.77 1001.36 L1096.77 735.577 L1096.77 735.577  Z\n",
       "  \" fill=\"#009af9\" fill-rule=\"evenodd\" fill-opacity=\"0.5\"/>\n",
       "<polyline clip-path=\"url(#clip3202)\" style=\"stroke:#000000; stroke-width:0.8; stroke-opacity:0.5; fill:none\" points=\"\n",
       "  1096.77,735.577 1077.2,735.577 1077.2,1001.36 1096.77,1001.36 1096.77,735.577 \n",
       "  \"/>\n",
       "<path clip-path=\"url(#clip3202)\" d=\"\n",
       "M1116.34 748.291 L1096.77 748.291 L1096.77 1011.42 L1116.34 1011.42 L1116.34 748.291 L1116.34 748.291  Z\n",
       "  \" fill=\"#009af9\" fill-rule=\"evenodd\" fill-opacity=\"0.5\"/>\n",
       "<polyline clip-path=\"url(#clip3202)\" style=\"stroke:#000000; stroke-width:0.8; stroke-opacity:0.5; fill:none\" points=\"\n",
       "  1116.34,748.291 1096.77,748.291 1096.77,1011.42 1116.34,1011.42 1116.34,748.291 \n",
       "  \"/>\n",
       "<path clip-path=\"url(#clip3202)\" d=\"\n",
       "M1135.91 760.878 L1116.34 760.878 L1116.34 1021.39 L1135.91 1021.39 L1135.91 760.878 L1135.91 760.878  Z\n",
       "  \" fill=\"#009af9\" fill-rule=\"evenodd\" fill-opacity=\"0.5\"/>\n",
       "<polyline clip-path=\"url(#clip3202)\" style=\"stroke:#000000; stroke-width:0.8; stroke-opacity:0.5; fill:none\" points=\"\n",
       "  1135.91,760.878 1116.34,760.878 1116.34,1021.39 1135.91,1021.39 1135.91,760.878 \n",
       "  \"/>\n",
       "<path clip-path=\"url(#clip3202)\" d=\"\n",
       "M1155.48 773.34 L1135.91 773.34 L1135.91 1031.26 L1155.48 1031.26 L1155.48 773.34 L1155.48 773.34  Z\n",
       "  \" fill=\"#009af9\" fill-rule=\"evenodd\" fill-opacity=\"0.5\"/>\n",
       "<polyline clip-path=\"url(#clip3202)\" style=\"stroke:#000000; stroke-width:0.8; stroke-opacity:0.5; fill:none\" points=\"\n",
       "  1155.48,773.34 1135.91,773.34 1135.91,1031.26 1155.48,1031.26 1155.48,773.34 \n",
       "  \"/>\n",
       "<path clip-path=\"url(#clip3202)\" d=\"\n",
       "M1175.05 785.677 L1155.48 785.677 L1155.48 1041.03 L1175.05 1041.03 L1175.05 785.677 L1175.05 785.677  Z\n",
       "  \" fill=\"#009af9\" fill-rule=\"evenodd\" fill-opacity=\"0.5\"/>\n",
       "<polyline clip-path=\"url(#clip3202)\" style=\"stroke:#000000; stroke-width:0.8; stroke-opacity:0.5; fill:none\" points=\"\n",
       "  1175.05,785.677 1155.48,785.677 1155.48,1041.03 1175.05,1041.03 1175.05,785.677 \n",
       "  \"/>\n",
       "<path clip-path=\"url(#clip3202)\" d=\"\n",
       "M1194.62 797.892 L1175.05 797.892 L1175.05 1050.71 L1194.62 1050.71 L1194.62 797.892 L1194.62 797.892  Z\n",
       "  \" fill=\"#009af9\" fill-rule=\"evenodd\" fill-opacity=\"0.5\"/>\n",
       "<polyline clip-path=\"url(#clip3202)\" style=\"stroke:#000000; stroke-width:0.8; stroke-opacity:0.5; fill:none\" points=\"\n",
       "  1194.62,797.892 1175.05,797.892 1175.05,1050.71 1194.62,1050.71 1194.62,797.892 \n",
       "  \"/>\n",
       "<path clip-path=\"url(#clip3202)\" d=\"\n",
       "M1214.19 809.986 L1194.62 809.986 L1194.62 1060.29 L1214.19 1060.29 L1214.19 809.986 L1214.19 809.986  Z\n",
       "  \" fill=\"#009af9\" fill-rule=\"evenodd\" fill-opacity=\"0.5\"/>\n",
       "<polyline clip-path=\"url(#clip3202)\" style=\"stroke:#000000; stroke-width:0.8; stroke-opacity:0.5; fill:none\" points=\"\n",
       "  1214.19,809.986 1194.62,809.986 1194.62,1060.29 1214.19,1060.29 1214.19,809.986 \n",
       "  \"/>\n",
       "<path clip-path=\"url(#clip3202)\" d=\"\n",
       "M1233.76 821.959 L1214.19 821.959 L1214.19 1069.77 L1233.76 1069.77 L1233.76 821.959 L1233.76 821.959  Z\n",
       "  \" fill=\"#009af9\" fill-rule=\"evenodd\" fill-opacity=\"0.5\"/>\n",
       "<polyline clip-path=\"url(#clip3202)\" style=\"stroke:#000000; stroke-width:0.8; stroke-opacity:0.5; fill:none\" points=\"\n",
       "  1233.76,821.959 1214.19,821.959 1214.19,1069.77 1233.76,1069.77 1233.76,821.959 \n",
       "  \"/>\n",
       "<path clip-path=\"url(#clip3202)\" d=\"\n",
       "M1253.33 833.813 L1233.76 833.813 L1233.76 1079.16 L1253.33 1079.16 L1253.33 833.813 L1253.33 833.813  Z\n",
       "  \" fill=\"#009af9\" fill-rule=\"evenodd\" fill-opacity=\"0.5\"/>\n",
       "<polyline clip-path=\"url(#clip3202)\" style=\"stroke:#000000; stroke-width:0.8; stroke-opacity:0.5; fill:none\" points=\"\n",
       "  1253.33,833.813 1233.76,833.813 1233.76,1079.16 1253.33,1079.16 1253.33,833.813 \n",
       "  \"/>\n",
       "<path clip-path=\"url(#clip3202)\" d=\"\n",
       "M1272.9 845.549 L1253.33 845.549 L1253.33 1088.45 L1272.9 1088.45 L1272.9 845.549 L1272.9 845.549  Z\n",
       "  \" fill=\"#009af9\" fill-rule=\"evenodd\" fill-opacity=\"0.5\"/>\n",
       "<polyline clip-path=\"url(#clip3202)\" style=\"stroke:#000000; stroke-width:0.8; stroke-opacity:0.5; fill:none\" points=\"\n",
       "  1272.9,845.549 1253.33,845.549 1253.33,1088.45 1272.9,1088.45 1272.9,845.549 \n",
       "  \"/>\n",
       "<path clip-path=\"url(#clip3202)\" d=\"\n",
       "M1292.47 857.168 L1272.9 857.168 L1272.9 1097.66 L1292.47 1097.66 L1292.47 857.168 L1292.47 857.168  Z\n",
       "  \" fill=\"#009af9\" fill-rule=\"evenodd\" fill-opacity=\"0.5\"/>\n",
       "<polyline clip-path=\"url(#clip3202)\" style=\"stroke:#000000; stroke-width:0.8; stroke-opacity:0.5; fill:none\" points=\"\n",
       "  1292.47,857.168 1272.9,857.168 1272.9,1097.66 1292.47,1097.66 1292.47,857.168 \n",
       "  \"/>\n",
       "<path clip-path=\"url(#clip3202)\" d=\"\n",
       "M1312.04 868.672 L1292.47 868.672 L1292.47 1106.77 L1312.04 1106.77 L1312.04 868.672 L1312.04 868.672  Z\n",
       "  \" fill=\"#009af9\" fill-rule=\"evenodd\" fill-opacity=\"0.5\"/>\n",
       "<polyline clip-path=\"url(#clip3202)\" style=\"stroke:#000000; stroke-width:0.8; stroke-opacity:0.5; fill:none\" points=\"\n",
       "  1312.04,868.672 1292.47,868.672 1292.47,1106.77 1312.04,1106.77 1312.04,868.672 \n",
       "  \"/>\n",
       "<path clip-path=\"url(#clip3202)\" d=\"\n",
       "M1331.61 880.061 L1312.04 880.061 L1312.04 1115.79 L1331.61 1115.79 L1331.61 880.061 L1331.61 880.061  Z\n",
       "  \" fill=\"#009af9\" fill-rule=\"evenodd\" fill-opacity=\"0.5\"/>\n",
       "<polyline clip-path=\"url(#clip3202)\" style=\"stroke:#000000; stroke-width:0.8; stroke-opacity:0.5; fill:none\" points=\"\n",
       "  1331.61,880.061 1312.04,880.061 1312.04,1115.79 1331.61,1115.79 1331.61,880.061 \n",
       "  \"/>\n",
       "<path clip-path=\"url(#clip3202)\" d=\"\n",
       "M1351.18 891.337 L1331.61 891.337 L1331.61 1124.72 L1351.18 1124.72 L1351.18 891.337 L1351.18 891.337  Z\n",
       "  \" fill=\"#009af9\" fill-rule=\"evenodd\" fill-opacity=\"0.5\"/>\n",
       "<polyline clip-path=\"url(#clip3202)\" style=\"stroke:#000000; stroke-width:0.8; stroke-opacity:0.5; fill:none\" points=\"\n",
       "  1351.18,891.337 1331.61,891.337 1331.61,1124.72 1351.18,1124.72 1351.18,891.337 \n",
       "  \"/>\n",
       "<path clip-path=\"url(#clip3202)\" d=\"\n",
       "M1370.75 902.501 L1351.18 902.501 L1351.18 1133.56 L1370.75 1133.56 L1370.75 902.501 L1370.75 902.501  Z\n",
       "  \" fill=\"#009af9\" fill-rule=\"evenodd\" fill-opacity=\"0.5\"/>\n",
       "<polyline clip-path=\"url(#clip3202)\" style=\"stroke:#000000; stroke-width:0.8; stroke-opacity:0.5; fill:none\" points=\"\n",
       "  1370.75,902.501 1351.18,902.501 1351.18,1133.56 1370.75,1133.56 1370.75,902.501 \n",
       "  \"/>\n",
       "<path clip-path=\"url(#clip3202)\" d=\"\n",
       "M1390.32 913.554 L1370.75 913.554 L1370.75 1142.31 L1390.32 1142.31 L1390.32 913.554 L1390.32 913.554  Z\n",
       "  \" fill=\"#009af9\" fill-rule=\"evenodd\" fill-opacity=\"0.5\"/>\n",
       "<polyline clip-path=\"url(#clip3202)\" style=\"stroke:#000000; stroke-width:0.8; stroke-opacity:0.5; fill:none\" points=\"\n",
       "  1390.32,913.554 1370.75,913.554 1370.75,1142.31 1390.32,1142.31 1390.32,913.554 \n",
       "  \"/>\n",
       "<path clip-path=\"url(#clip3202)\" d=\"\n",
       "M1409.88 924.496 L1390.32 924.496 L1390.32 1150.98 L1409.88 1150.98 L1409.88 924.496 L1409.88 924.496  Z\n",
       "  \" fill=\"#009af9\" fill-rule=\"evenodd\" fill-opacity=\"0.5\"/>\n",
       "<polyline clip-path=\"url(#clip3202)\" style=\"stroke:#000000; stroke-width:0.8; stroke-opacity:0.5; fill:none\" points=\"\n",
       "  1409.88,924.496 1390.32,924.496 1390.32,1150.98 1409.88,1150.98 1409.88,924.496 \n",
       "  \"/>\n",
       "<path clip-path=\"url(#clip3202)\" d=\"\n",
       "M1429.45 935.33 L1409.88 935.33 L1409.88 1159.56 L1429.45 1159.56 L1429.45 935.33 L1429.45 935.33  Z\n",
       "  \" fill=\"#009af9\" fill-rule=\"evenodd\" fill-opacity=\"0.5\"/>\n",
       "<polyline clip-path=\"url(#clip3202)\" style=\"stroke:#000000; stroke-width:0.8; stroke-opacity:0.5; fill:none\" points=\"\n",
       "  1429.45,935.33 1409.88,935.33 1409.88,1159.56 1429.45,1159.56 1429.45,935.33 \n",
       "  \"/>\n",
       "<path clip-path=\"url(#clip3202)\" d=\"\n",
       "M1449.02 946.056 L1429.45 946.056 L1429.45 1168.05 L1449.02 1168.05 L1449.02 946.056 L1449.02 946.056  Z\n",
       "  \" fill=\"#009af9\" fill-rule=\"evenodd\" fill-opacity=\"0.5\"/>\n",
       "<polyline clip-path=\"url(#clip3202)\" style=\"stroke:#000000; stroke-width:0.8; stroke-opacity:0.5; fill:none\" points=\"\n",
       "  1449.02,946.056 1429.45,946.056 1429.45,1168.05 1449.02,1168.05 1449.02,946.056 \n",
       "  \"/>\n",
       "<path clip-path=\"url(#clip3202)\" d=\"\n",
       "M1468.59 956.675 L1449.02 956.675 L1449.02 1176.46 L1468.59 1176.46 L1468.59 956.675 L1468.59 956.675  Z\n",
       "  \" fill=\"#009af9\" fill-rule=\"evenodd\" fill-opacity=\"0.5\"/>\n",
       "<polyline clip-path=\"url(#clip3202)\" style=\"stroke:#000000; stroke-width:0.8; stroke-opacity:0.5; fill:none\" points=\"\n",
       "  1468.59,956.675 1449.02,956.675 1449.02,1176.46 1468.59,1176.46 1468.59,956.675 \n",
       "  \"/>\n",
       "<path clip-path=\"url(#clip3202)\" d=\"\n",
       "M1488.16 967.189 L1468.59 967.189 L1468.59 1184.79 L1488.16 1184.79 L1488.16 967.189 L1488.16 967.189  Z\n",
       "  \" fill=\"#009af9\" fill-rule=\"evenodd\" fill-opacity=\"0.5\"/>\n",
       "<polyline clip-path=\"url(#clip3202)\" style=\"stroke:#000000; stroke-width:0.8; stroke-opacity:0.5; fill:none\" points=\"\n",
       "  1488.16,967.189 1468.59,967.189 1468.59,1184.79 1488.16,1184.79 1488.16,967.189 \n",
       "  \"/>\n",
       "<path clip-path=\"url(#clip3202)\" d=\"\n",
       "M1507.73 977.598 L1488.16 977.598 L1488.16 1193.03 L1507.73 1193.03 L1507.73 977.598 L1507.73 977.598  Z\n",
       "  \" fill=\"#009af9\" fill-rule=\"evenodd\" fill-opacity=\"0.5\"/>\n",
       "<polyline clip-path=\"url(#clip3202)\" style=\"stroke:#000000; stroke-width:0.8; stroke-opacity:0.5; fill:none\" points=\"\n",
       "  1507.73,977.598 1488.16,977.598 1488.16,1193.03 1507.73,1193.03 1507.73,977.598 \n",
       "  \"/>\n",
       "<path clip-path=\"url(#clip3202)\" d=\"\n",
       "M1527.3 987.903 L1507.73 987.903 L1507.73 1201.2 L1527.3 1201.2 L1527.3 987.903 L1527.3 987.903  Z\n",
       "  \" fill=\"#009af9\" fill-rule=\"evenodd\" fill-opacity=\"0.5\"/>\n",
       "<polyline clip-path=\"url(#clip3202)\" style=\"stroke:#000000; stroke-width:0.8; stroke-opacity:0.5; fill:none\" points=\"\n",
       "  1527.3,987.903 1507.73,987.903 1507.73,1201.2 1527.3,1201.2 1527.3,987.903 \n",
       "  \"/>\n",
       "<path clip-path=\"url(#clip3202)\" d=\"\n",
       "M1546.87 998.106 L1527.3 998.106 L1527.3 1209.28 L1546.87 1209.28 L1546.87 998.106 L1546.87 998.106  Z\n",
       "  \" fill=\"#009af9\" fill-rule=\"evenodd\" fill-opacity=\"0.5\"/>\n",
       "<polyline clip-path=\"url(#clip3202)\" style=\"stroke:#000000; stroke-width:0.8; stroke-opacity:0.5; fill:none\" points=\"\n",
       "  1546.87,998.106 1527.3,998.106 1527.3,1209.28 1546.87,1209.28 1546.87,998.106 \n",
       "  \"/>\n",
       "<path clip-path=\"url(#clip3202)\" d=\"\n",
       "M1566.44 1008.21 L1546.87 1008.21 L1546.87 1217.28 L1566.44 1217.28 L1566.44 1008.21 L1566.44 1008.21  Z\n",
       "  \" fill=\"#009af9\" fill-rule=\"evenodd\" fill-opacity=\"0.5\"/>\n",
       "<polyline clip-path=\"url(#clip3202)\" style=\"stroke:#000000; stroke-width:0.8; stroke-opacity:0.5; fill:none\" points=\"\n",
       "  1566.44,1008.21 1546.87,1008.21 1546.87,1217.28 1566.44,1217.28 1566.44,1008.21 \n",
       "  \"/>\n",
       "<path clip-path=\"url(#clip3202)\" d=\"\n",
       "M1586.01 1018.21 L1566.44 1018.21 L1566.44 1225.2 L1586.01 1225.2 L1586.01 1018.21 L1586.01 1018.21  Z\n",
       "  \" fill=\"#009af9\" fill-rule=\"evenodd\" fill-opacity=\"0.5\"/>\n",
       "<polyline clip-path=\"url(#clip3202)\" style=\"stroke:#000000; stroke-width:0.8; stroke-opacity:0.5; fill:none\" points=\"\n",
       "  1586.01,1018.21 1566.44,1018.21 1566.44,1225.2 1586.01,1225.2 1586.01,1018.21 \n",
       "  \"/>\n",
       "<path clip-path=\"url(#clip3202)\" d=\"\n",
       "M1605.58 1028.11 L1586.01 1028.11 L1586.01 1233.04 L1605.58 1233.04 L1605.58 1028.11 L1605.58 1028.11  Z\n",
       "  \" fill=\"#009af9\" fill-rule=\"evenodd\" fill-opacity=\"0.5\"/>\n",
       "<polyline clip-path=\"url(#clip3202)\" style=\"stroke:#000000; stroke-width:0.8; stroke-opacity:0.5; fill:none\" points=\"\n",
       "  1605.58,1028.11 1586.01,1028.11 1586.01,1233.04 1605.58,1233.04 1605.58,1028.11 \n",
       "  \"/>\n",
       "<path clip-path=\"url(#clip3202)\" d=\"\n",
       "M1625.15 1037.91 L1605.58 1037.91 L1605.58 1240.8 L1625.15 1240.8 L1625.15 1037.91 L1625.15 1037.91  Z\n",
       "  \" fill=\"#009af9\" fill-rule=\"evenodd\" fill-opacity=\"0.5\"/>\n",
       "<polyline clip-path=\"url(#clip3202)\" style=\"stroke:#000000; stroke-width:0.8; stroke-opacity:0.5; fill:none\" points=\"\n",
       "  1625.15,1037.91 1605.58,1037.91 1605.58,1240.8 1625.15,1240.8 1625.15,1037.91 \n",
       "  \"/>\n",
       "<path clip-path=\"url(#clip3202)\" d=\"\n",
       "M1644.72 1047.62 L1625.15 1047.62 L1625.15 1248.49 L1644.72 1248.49 L1644.72 1047.62 L1644.72 1047.62  Z\n",
       "  \" fill=\"#009af9\" fill-rule=\"evenodd\" fill-opacity=\"0.5\"/>\n",
       "<polyline clip-path=\"url(#clip3202)\" style=\"stroke:#000000; stroke-width:0.8; stroke-opacity:0.5; fill:none\" points=\"\n",
       "  1644.72,1047.62 1625.15,1047.62 1625.15,1248.49 1644.72,1248.49 1644.72,1047.62 \n",
       "  \"/>\n",
       "<path clip-path=\"url(#clip3202)\" d=\"\n",
       "M1664.29 1057.23 L1644.72 1057.23 L1644.72 1256.1 L1664.29 1256.1 L1664.29 1057.23 L1664.29 1057.23  Z\n",
       "  \" fill=\"#009af9\" fill-rule=\"evenodd\" fill-opacity=\"0.5\"/>\n",
       "<polyline clip-path=\"url(#clip3202)\" style=\"stroke:#000000; stroke-width:0.8; stroke-opacity:0.5; fill:none\" points=\"\n",
       "  1664.29,1057.23 1644.72,1057.23 1644.72,1256.1 1664.29,1256.1 1664.29,1057.23 \n",
       "  \"/>\n",
       "<path clip-path=\"url(#clip3202)\" d=\"\n",
       "M1683.86 1066.74 L1664.29 1066.74 L1664.29 1263.63 L1683.86 1263.63 L1683.86 1066.74 L1683.86 1066.74  Z\n",
       "  \" fill=\"#009af9\" fill-rule=\"evenodd\" fill-opacity=\"0.5\"/>\n",
       "<polyline clip-path=\"url(#clip3202)\" style=\"stroke:#000000; stroke-width:0.8; stroke-opacity:0.5; fill:none\" points=\"\n",
       "  1683.86,1066.74 1664.29,1066.74 1664.29,1263.63 1683.86,1263.63 1683.86,1066.74 \n",
       "  \"/>\n",
       "<path clip-path=\"url(#clip3202)\" d=\"\n",
       "M1703.43 1076.16 L1683.86 1076.16 L1683.86 1271.09 L1703.43 1271.09 L1703.43 1076.16 L1703.43 1076.16  Z\n",
       "  \" fill=\"#009af9\" fill-rule=\"evenodd\" fill-opacity=\"0.5\"/>\n",
       "<polyline clip-path=\"url(#clip3202)\" style=\"stroke:#000000; stroke-width:0.8; stroke-opacity:0.5; fill:none\" points=\"\n",
       "  1703.43,1076.16 1683.86,1076.16 1683.86,1271.09 1703.43,1271.09 1703.43,1076.16 \n",
       "  \"/>\n",
       "<path clip-path=\"url(#clip3202)\" d=\"\n",
       "M1723 1085.48 L1703.43 1085.48 L1703.43 1278.48 L1723 1278.48 L1723 1085.48 L1723 1085.48  Z\n",
       "  \" fill=\"#009af9\" fill-rule=\"evenodd\" fill-opacity=\"0.5\"/>\n",
       "<polyline clip-path=\"url(#clip3202)\" style=\"stroke:#000000; stroke-width:0.8; stroke-opacity:0.5; fill:none\" points=\"\n",
       "  1723,1085.48 1703.43,1085.48 1703.43,1278.48 1723,1278.48 1723,1085.48 \n",
       "  \"/>\n",
       "<path clip-path=\"url(#clip3202)\" d=\"\n",
       "M1742.57 1094.71 L1723 1094.71 L1723 1285.79 L1742.57 1285.79 L1742.57 1094.71 L1742.57 1094.71  Z\n",
       "  \" fill=\"#009af9\" fill-rule=\"evenodd\" fill-opacity=\"0.5\"/>\n",
       "<polyline clip-path=\"url(#clip3202)\" style=\"stroke:#000000; stroke-width:0.8; stroke-opacity:0.5; fill:none\" points=\"\n",
       "  1742.57,1094.71 1723,1094.71 1723,1285.79 1742.57,1285.79 1742.57,1094.71 \n",
       "  \"/>\n",
       "<path clip-path=\"url(#clip3202)\" d=\"\n",
       "M1762.14 1103.85 L1742.57 1103.85 L1742.57 1293.03 L1762.14 1293.03 L1762.14 1103.85 L1762.14 1103.85  Z\n",
       "  \" fill=\"#009af9\" fill-rule=\"evenodd\" fill-opacity=\"0.5\"/>\n",
       "<polyline clip-path=\"url(#clip3202)\" style=\"stroke:#000000; stroke-width:0.8; stroke-opacity:0.5; fill:none\" points=\"\n",
       "  1762.14,1103.85 1742.57,1103.85 1742.57,1293.03 1762.14,1293.03 1762.14,1103.85 \n",
       "  \"/>\n",
       "<path clip-path=\"url(#clip3202)\" d=\"\n",
       "M1781.71 1112.9 L1762.14 1112.9 L1762.14 1300.19 L1781.71 1300.19 L1781.71 1112.9 L1781.71 1112.9  Z\n",
       "  \" fill=\"#009af9\" fill-rule=\"evenodd\" fill-opacity=\"0.5\"/>\n",
       "<polyline clip-path=\"url(#clip3202)\" style=\"stroke:#000000; stroke-width:0.8; stroke-opacity:0.5; fill:none\" points=\"\n",
       "  1781.71,1112.9 1762.14,1112.9 1762.14,1300.19 1781.71,1300.19 1781.71,1112.9 \n",
       "  \"/>\n",
       "<path clip-path=\"url(#clip3202)\" d=\"\n",
       "M1801.28 1121.86 L1781.71 1121.86 L1781.71 1307.29 L1801.28 1307.29 L1801.28 1121.86 L1801.28 1121.86  Z\n",
       "  \" fill=\"#009af9\" fill-rule=\"evenodd\" fill-opacity=\"0.5\"/>\n",
       "<polyline clip-path=\"url(#clip3202)\" style=\"stroke:#000000; stroke-width:0.8; stroke-opacity:0.5; fill:none\" points=\"\n",
       "  1801.28,1121.86 1781.71,1121.86 1781.71,1307.29 1801.28,1307.29 1801.28,1121.86 \n",
       "  \"/>\n",
       "<path clip-path=\"url(#clip3202)\" d=\"\n",
       "M1820.85 1130.73 L1801.28 1130.73 L1801.28 1314.32 L1820.85 1314.32 L1820.85 1130.73 L1820.85 1130.73  Z\n",
       "  \" fill=\"#009af9\" fill-rule=\"evenodd\" fill-opacity=\"0.5\"/>\n",
       "<polyline clip-path=\"url(#clip3202)\" style=\"stroke:#000000; stroke-width:0.8; stroke-opacity:0.5; fill:none\" points=\"\n",
       "  1820.85,1130.73 1801.28,1130.73 1801.28,1314.32 1820.85,1314.32 1820.85,1130.73 \n",
       "  \"/>\n",
       "<path clip-path=\"url(#clip3202)\" d=\"\n",
       "M1840.42 1139.51 L1820.85 1139.51 L1820.85 1321.27 L1840.42 1321.27 L1840.42 1139.51 L1840.42 1139.51  Z\n",
       "  \" fill=\"#009af9\" fill-rule=\"evenodd\" fill-opacity=\"0.5\"/>\n",
       "<polyline clip-path=\"url(#clip3202)\" style=\"stroke:#000000; stroke-width:0.8; stroke-opacity:0.5; fill:none\" points=\"\n",
       "  1840.42,1139.51 1820.85,1139.51 1820.85,1321.27 1840.42,1321.27 1840.42,1139.51 \n",
       "  \"/>\n",
       "<path clip-path=\"url(#clip3202)\" d=\"\n",
       "M1859.99 1148.21 L1840.42 1148.21 L1840.42 1328.16 L1859.99 1328.16 L1859.99 1148.21 L1859.99 1148.21  Z\n",
       "  \" fill=\"#009af9\" fill-rule=\"evenodd\" fill-opacity=\"0.5\"/>\n",
       "<polyline clip-path=\"url(#clip3202)\" style=\"stroke:#000000; stroke-width:0.8; stroke-opacity:0.5; fill:none\" points=\"\n",
       "  1859.99,1148.21 1840.42,1148.21 1840.42,1328.16 1859.99,1328.16 1859.99,1148.21 \n",
       "  \"/>\n",
       "<path clip-path=\"url(#clip3202)\" d=\"\n",
       "M1879.56 1156.82 L1859.99 1156.82 L1859.99 1334.97 L1879.56 1334.97 L1879.56 1156.82 L1879.56 1156.82  Z\n",
       "  \" fill=\"#009af9\" fill-rule=\"evenodd\" fill-opacity=\"0.5\"/>\n",
       "<polyline clip-path=\"url(#clip3202)\" style=\"stroke:#000000; stroke-width:0.8; stroke-opacity:0.5; fill:none\" points=\"\n",
       "  1879.56,1156.82 1859.99,1156.82 1859.99,1334.97 1879.56,1334.97 1879.56,1156.82 \n",
       "  \"/>\n",
       "<path clip-path=\"url(#clip3202)\" d=\"\n",
       "M1899.13 1165.34 L1879.56 1165.34 L1879.56 1341.72 L1899.13 1341.72 L1899.13 1165.34 L1899.13 1165.34  Z\n",
       "  \" fill=\"#009af9\" fill-rule=\"evenodd\" fill-opacity=\"0.5\"/>\n",
       "<polyline clip-path=\"url(#clip3202)\" style=\"stroke:#000000; stroke-width:0.8; stroke-opacity:0.5; fill:none\" points=\"\n",
       "  1899.13,1165.34 1879.56,1165.34 1879.56,1341.72 1899.13,1341.72 1899.13,1165.34 \n",
       "  \"/>\n",
       "<path clip-path=\"url(#clip3202)\" d=\"\n",
       "M1918.7 1173.78 L1899.13 1173.78 L1899.13 1348.4 L1918.7 1348.4 L1918.7 1173.78 L1918.7 1173.78  Z\n",
       "  \" fill=\"#009af9\" fill-rule=\"evenodd\" fill-opacity=\"0.5\"/>\n",
       "<polyline clip-path=\"url(#clip3202)\" style=\"stroke:#000000; stroke-width:0.8; stroke-opacity:0.5; fill:none\" points=\"\n",
       "  1918.7,1173.78 1899.13,1173.78 1899.13,1348.4 1918.7,1348.4 1918.7,1173.78 \n",
       "  \"/>\n",
       "<path clip-path=\"url(#clip3202)\" d=\"\n",
       "M1938.27 1182.13 L1918.7 1182.13 L1918.7 1355.02 L1938.27 1355.02 L1938.27 1182.13 L1938.27 1182.13  Z\n",
       "  \" fill=\"#009af9\" fill-rule=\"evenodd\" fill-opacity=\"0.5\"/>\n",
       "<polyline clip-path=\"url(#clip3202)\" style=\"stroke:#000000; stroke-width:0.8; stroke-opacity:0.5; fill:none\" points=\"\n",
       "  1938.27,1182.13 1918.7,1182.13 1918.7,1355.02 1938.27,1355.02 1938.27,1182.13 \n",
       "  \"/>\n",
       "<path clip-path=\"url(#clip3202)\" d=\"\n",
       "M1957.84 1190.4 L1938.27 1190.4 L1938.27 1361.57 L1957.84 1361.57 L1957.84 1190.4 L1957.84 1190.4  Z\n",
       "  \" fill=\"#009af9\" fill-rule=\"evenodd\" fill-opacity=\"0.5\"/>\n",
       "<polyline clip-path=\"url(#clip3202)\" style=\"stroke:#000000; stroke-width:0.8; stroke-opacity:0.5; fill:none\" points=\"\n",
       "  1957.84,1190.4 1938.27,1190.4 1938.27,1361.57 1957.84,1361.57 1957.84,1190.4 \n",
       "  \"/>\n",
       "<path clip-path=\"url(#clip3202)\" d=\"\n",
       "M1977.41 1198.59 L1957.84 1198.59 L1957.84 1368.06 L1977.41 1368.06 L1977.41 1198.59 L1977.41 1198.59  Z\n",
       "  \" fill=\"#009af9\" fill-rule=\"evenodd\" fill-opacity=\"0.5\"/>\n",
       "<polyline clip-path=\"url(#clip3202)\" style=\"stroke:#000000; stroke-width:0.8; stroke-opacity:0.5; fill:none\" points=\"\n",
       "  1977.41,1198.59 1957.84,1198.59 1957.84,1368.06 1977.41,1368.06 1977.41,1198.59 \n",
       "  \"/>\n",
       "<path clip-path=\"url(#clip3202)\" d=\"\n",
       "M1996.98 1206.69 L1977.41 1206.69 L1977.41 1374.48 L1996.98 1374.48 L1996.98 1206.69 L1996.98 1206.69  Z\n",
       "  \" fill=\"#009af9\" fill-rule=\"evenodd\" fill-opacity=\"0.5\"/>\n",
       "<polyline clip-path=\"url(#clip3202)\" style=\"stroke:#000000; stroke-width:0.8; stroke-opacity:0.5; fill:none\" points=\"\n",
       "  1996.98,1206.69 1977.41,1206.69 1977.41,1374.48 1996.98,1374.48 1996.98,1206.69 \n",
       "  \"/>\n",
       "<path clip-path=\"url(#clip3202)\" d=\"\n",
       "M2016.55 1214.72 L1996.98 1214.72 L1996.98 1380.83 L2016.55 1380.83 L2016.55 1214.72 L2016.55 1214.72  Z\n",
       "  \" fill=\"#009af9\" fill-rule=\"evenodd\" fill-opacity=\"0.5\"/>\n",
       "<polyline clip-path=\"url(#clip3202)\" style=\"stroke:#000000; stroke-width:0.8; stroke-opacity:0.5; fill:none\" points=\"\n",
       "  2016.55,1214.72 1996.98,1214.72 1996.98,1380.83 2016.55,1380.83 2016.55,1214.72 \n",
       "  \"/>\n",
       "<path clip-path=\"url(#clip3202)\" d=\"\n",
       "M2036.12 1222.67 L2016.55 1222.67 L2016.55 1387.13 L2036.12 1387.13 L2036.12 1222.67 L2036.12 1222.67  Z\n",
       "  \" fill=\"#009af9\" fill-rule=\"evenodd\" fill-opacity=\"0.5\"/>\n",
       "<polyline clip-path=\"url(#clip3202)\" style=\"stroke:#000000; stroke-width:0.8; stroke-opacity:0.5; fill:none\" points=\"\n",
       "  2036.12,1222.67 2016.55,1222.67 2016.55,1387.13 2036.12,1387.13 2036.12,1222.67 \n",
       "  \"/>\n",
       "<path clip-path=\"url(#clip3202)\" d=\"\n",
       "M2055.69 1230.53 L2036.12 1230.53 L2036.12 1393.36 L2055.69 1393.36 L2055.69 1230.53 L2055.69 1230.53  Z\n",
       "  \" fill=\"#009af9\" fill-rule=\"evenodd\" fill-opacity=\"0.5\"/>\n",
       "<polyline clip-path=\"url(#clip3202)\" style=\"stroke:#000000; stroke-width:0.8; stroke-opacity:0.5; fill:none\" points=\"\n",
       "  2055.69,1230.53 2036.12,1230.53 2036.12,1393.36 2055.69,1393.36 2055.69,1230.53 \n",
       "  \"/>\n",
       "<path clip-path=\"url(#clip3202)\" d=\"\n",
       "M2075.26 1238.32 L2055.69 1238.32 L2055.69 1399.52 L2075.26 1399.52 L2075.26 1238.32 L2075.26 1238.32  Z\n",
       "  \" fill=\"#009af9\" fill-rule=\"evenodd\" fill-opacity=\"0.5\"/>\n",
       "<polyline clip-path=\"url(#clip3202)\" style=\"stroke:#000000; stroke-width:0.8; stroke-opacity:0.5; fill:none\" points=\"\n",
       "  2075.26,1238.32 2055.69,1238.32 2055.69,1399.52 2075.26,1399.52 2075.26,1238.32 \n",
       "  \"/>\n",
       "<path clip-path=\"url(#clip3202)\" d=\"\n",
       "M2094.83 1246.03 L2075.26 1246.03 L2075.26 1405.63 L2094.83 1405.63 L2094.83 1246.03 L2094.83 1246.03  Z\n",
       "  \" fill=\"#009af9\" fill-rule=\"evenodd\" fill-opacity=\"0.5\"/>\n",
       "<polyline clip-path=\"url(#clip3202)\" style=\"stroke:#000000; stroke-width:0.8; stroke-opacity:0.5; fill:none\" points=\"\n",
       "  2094.83,1246.03 2075.26,1246.03 2075.26,1405.63 2094.83,1405.63 2094.83,1246.03 \n",
       "  \"/>\n",
       "<path clip-path=\"url(#clip3202)\" d=\"\n",
       "M2114.4 1253.67 L2094.83 1253.67 L2094.83 1411.68 L2114.4 1411.68 L2114.4 1253.67 L2114.4 1253.67  Z\n",
       "  \" fill=\"#009af9\" fill-rule=\"evenodd\" fill-opacity=\"0.5\"/>\n",
       "<polyline clip-path=\"url(#clip3202)\" style=\"stroke:#000000; stroke-width:0.8; stroke-opacity:0.5; fill:none\" points=\"\n",
       "  2114.4,1253.67 2094.83,1253.67 2094.83,1411.68 2114.4,1411.68 2114.4,1253.67 \n",
       "  \"/>\n",
       "<path clip-path=\"url(#clip3202)\" d=\"\n",
       "M2133.97 1261.23 L2114.4 1261.23 L2114.4 1417.66 L2133.97 1417.66 L2133.97 1261.23 L2133.97 1261.23  Z\n",
       "  \" fill=\"#009af9\" fill-rule=\"evenodd\" fill-opacity=\"0.5\"/>\n",
       "<polyline clip-path=\"url(#clip3202)\" style=\"stroke:#000000; stroke-width:0.8; stroke-opacity:0.5; fill:none\" points=\"\n",
       "  2133.97,1261.23 2114.4,1261.23 2114.4,1417.66 2133.97,1417.66 2133.97,1261.23 \n",
       "  \"/>\n",
       "<path clip-path=\"url(#clip3202)\" d=\"\n",
       "M2153.54 1268.71 L2133.97 1268.71 L2133.97 1423.59 L2153.54 1423.59 L2153.54 1268.71 L2153.54 1268.71  Z\n",
       "  \" fill=\"#009af9\" fill-rule=\"evenodd\" fill-opacity=\"0.5\"/>\n",
       "<polyline clip-path=\"url(#clip3202)\" style=\"stroke:#000000; stroke-width:0.8; stroke-opacity:0.5; fill:none\" points=\"\n",
       "  2153.54,1268.71 2133.97,1268.71 2133.97,1423.59 2153.54,1423.59 2153.54,1268.71 \n",
       "  \"/>\n",
       "<path clip-path=\"url(#clip3202)\" d=\"\n",
       "M2173.11 1276.12 L2153.54 1276.12 L2153.54 1429.46 L2173.11 1429.46 L2173.11 1276.12 L2173.11 1276.12  Z\n",
       "  \" fill=\"#009af9\" fill-rule=\"evenodd\" fill-opacity=\"0.5\"/>\n",
       "<polyline clip-path=\"url(#clip3202)\" style=\"stroke:#000000; stroke-width:0.8; stroke-opacity:0.5; fill:none\" points=\"\n",
       "  2173.11,1276.12 2153.54,1276.12 2153.54,1429.46 2173.11,1429.46 2173.11,1276.12 \n",
       "  \"/>\n",
       "<path clip-path=\"url(#clip3202)\" d=\"\n",
       "M2192.68 1283.45 L2173.11 1283.45 L2173.11 1435.27 L2192.68 1435.27 L2192.68 1283.45 L2192.68 1283.45  Z\n",
       "  \" fill=\"#009af9\" fill-rule=\"evenodd\" fill-opacity=\"0.5\"/>\n",
       "<polyline clip-path=\"url(#clip3202)\" style=\"stroke:#000000; stroke-width:0.8; stroke-opacity:0.5; fill:none\" points=\"\n",
       "  2192.68,1283.45 2173.11,1283.45 2173.11,1435.27 2192.68,1435.27 2192.68,1283.45 \n",
       "  \"/>\n",
       "<path clip-path=\"url(#clip3202)\" d=\"\n",
       "M2212.25 1290.71 L2192.68 1290.71 L2192.68 1441.02 L2212.25 1441.02 L2212.25 1290.71 L2212.25 1290.71  Z\n",
       "  \" fill=\"#009af9\" fill-rule=\"evenodd\" fill-opacity=\"0.5\"/>\n",
       "<polyline clip-path=\"url(#clip3202)\" style=\"stroke:#000000; stroke-width:0.8; stroke-opacity:0.5; fill:none\" points=\"\n",
       "  2212.25,1290.71 2192.68,1290.71 2192.68,1441.02 2212.25,1441.02 2212.25,1290.71 \n",
       "  \"/>\n",
       "<path clip-path=\"url(#clip3202)\" d=\"\n",
       "M2231.81 1297.9 L2212.25 1297.9 L2212.25 1446.71 L2231.81 1446.71 L2231.81 1297.9 L2231.81 1297.9  Z\n",
       "  \" fill=\"#009af9\" fill-rule=\"evenodd\" fill-opacity=\"0.5\"/>\n",
       "<polyline clip-path=\"url(#clip3202)\" style=\"stroke:#000000; stroke-width:0.8; stroke-opacity:0.5; fill:none\" points=\"\n",
       "  2231.81,1297.9 2212.25,1297.9 2212.25,1446.71 2231.81,1446.71 2231.81,1297.9 \n",
       "  \"/>\n",
       "<polyline clip-path=\"url(#clip3202)\" style=\"stroke:#ff0000; stroke-width:4; stroke-opacity:1; fill:none\" points=\"\n",
       "  216.13,858.123 236.388,858.123 423.704,858.123 536.273,858.123 631.449,858.123 734.836,858.123 830.15,858.123 932.337,858.123 1050.73,858.123 1155.94,858.123 \n",
       "  1248.21,858.123 1348.8,858.123 1449.99,858.123 1561.87,858.123 1668.32,858.123 1779,858.123 1872.17,858.123 1985.92,858.123 2092.85,858.123 2264.16,858.123 \n",
       "  2290.52,858.123 \n",
       "  \"/>\n",
       "<path clip-path=\"url(#clip3202)\" d=\"\n",
       "M294.409 88.0053 L274.839 88.0053 L274.839 488.485 L294.409 488.485 L294.409 88.0053 L294.409 88.0053  Z\n",
       "  \" fill=\"#ffa500\" fill-rule=\"evenodd\" fill-opacity=\"0.5\"/>\n",
       "<polyline clip-path=\"url(#clip3202)\" style=\"stroke:#000000; stroke-width:0.8; stroke-opacity:0.5; fill:none\" points=\"\n",
       "  294.409,88.0053 274.839,88.0053 274.839,488.485 294.409,488.485 294.409,88.0053 \n",
       "  \"/>\n",
       "<path clip-path=\"url(#clip3202)\" d=\"\n",
       "M313.979 107.162 L294.409 107.162 L294.409 503.658 L313.979 503.658 L313.979 107.162 L313.979 107.162  Z\n",
       "  \" fill=\"#ffa500\" fill-rule=\"evenodd\" fill-opacity=\"0.5\"/>\n",
       "<polyline clip-path=\"url(#clip3202)\" style=\"stroke:#000000; stroke-width:0.8; stroke-opacity:0.5; fill:none\" points=\"\n",
       "  313.979,107.162 294.409,107.162 294.409,503.658 313.979,503.658 313.979,107.162 \n",
       "  \"/>\n",
       "<path clip-path=\"url(#clip3202)\" d=\"\n",
       "M333.548 126.129 L313.979 126.129 L313.979 518.679 L333.548 518.679 L333.548 126.129 L333.548 126.129  Z\n",
       "  \" fill=\"#ffa500\" fill-rule=\"evenodd\" fill-opacity=\"0.5\"/>\n",
       "<polyline clip-path=\"url(#clip3202)\" style=\"stroke:#000000; stroke-width:0.8; stroke-opacity:0.5; fill:none\" points=\"\n",
       "  333.548,126.129 313.979,126.129 313.979,518.679 333.548,518.679 333.548,126.129 \n",
       "  \"/>\n",
       "<path clip-path=\"url(#clip3202)\" d=\"\n",
       "M353.118 144.906 L333.548 144.906 L333.548 533.551 L353.118 533.551 L353.118 144.906 L353.118 144.906  Z\n",
       "  \" fill=\"#ffa500\" fill-rule=\"evenodd\" fill-opacity=\"0.5\"/>\n",
       "<polyline clip-path=\"url(#clip3202)\" style=\"stroke:#000000; stroke-width:0.8; stroke-opacity:0.5; fill:none\" points=\"\n",
       "  353.118,144.906 333.548,144.906 333.548,533.551 353.118,533.551 353.118,144.906 \n",
       "  \"/>\n",
       "<path clip-path=\"url(#clip3202)\" d=\"\n",
       "M372.688 163.497 L353.118 163.497 L353.118 548.274 L372.688 548.274 L372.688 163.497 L372.688 163.497  Z\n",
       "  \" fill=\"#ffa500\" fill-rule=\"evenodd\" fill-opacity=\"0.5\"/>\n",
       "<polyline clip-path=\"url(#clip3202)\" style=\"stroke:#000000; stroke-width:0.8; stroke-opacity:0.5; fill:none\" points=\"\n",
       "  372.688,163.497 353.118,163.497 353.118,548.274 372.688,548.274 372.688,163.497 \n",
       "  \"/>\n",
       "<path clip-path=\"url(#clip3202)\" d=\"\n",
       "M392.258 181.903 L372.688 181.903 L372.688 562.851 L392.258 562.851 L392.258 181.903 L392.258 181.903  Z\n",
       "  \" fill=\"#ffa500\" fill-rule=\"evenodd\" fill-opacity=\"0.5\"/>\n",
       "<polyline clip-path=\"url(#clip3202)\" style=\"stroke:#000000; stroke-width:0.8; stroke-opacity:0.5; fill:none\" points=\"\n",
       "  392.258,181.903 372.688,181.903 372.688,562.851 392.258,562.851 392.258,181.903 \n",
       "  \"/>\n",
       "<path clip-path=\"url(#clip3202)\" d=\"\n",
       "M411.827 200.126 L392.258 200.126 L392.258 577.284 L411.827 577.284 L411.827 200.126 L411.827 200.126  Z\n",
       "  \" fill=\"#ffa500\" fill-rule=\"evenodd\" fill-opacity=\"0.5\"/>\n",
       "<polyline clip-path=\"url(#clip3202)\" style=\"stroke:#000000; stroke-width:0.8; stroke-opacity:0.5; fill:none\" points=\"\n",
       "  411.827,200.126 392.258,200.126 392.258,577.284 411.827,577.284 411.827,200.126 \n",
       "  \"/>\n",
       "<path clip-path=\"url(#clip3202)\" d=\"\n",
       "M431.397 218.167 L411.827 218.167 L411.827 591.572 L431.397 591.572 L431.397 218.167 L431.397 218.167  Z\n",
       "  \" fill=\"#ffa500\" fill-rule=\"evenodd\" fill-opacity=\"0.5\"/>\n",
       "<polyline clip-path=\"url(#clip3202)\" style=\"stroke:#000000; stroke-width:0.8; stroke-opacity:0.5; fill:none\" points=\"\n",
       "  431.397,218.167 411.827,218.167 411.827,591.572 431.397,591.572 431.397,218.167 \n",
       "  \"/>\n",
       "<path clip-path=\"url(#clip3202)\" d=\"\n",
       "M450.967 236.029 L431.397 236.029 L431.397 605.719 L450.967 605.719 L450.967 236.029 L450.967 236.029  Z\n",
       "  \" fill=\"#ffa500\" fill-rule=\"evenodd\" fill-opacity=\"0.5\"/>\n",
       "<polyline clip-path=\"url(#clip3202)\" style=\"stroke:#000000; stroke-width:0.8; stroke-opacity:0.5; fill:none\" points=\"\n",
       "  450.967,236.029 431.397,236.029 431.397,605.719 450.967,605.719 450.967,236.029 \n",
       "  \"/>\n",
       "<path clip-path=\"url(#clip3202)\" d=\"\n",
       "M470.537 253.713 L450.967 253.713 L450.967 619.724 L470.537 619.724 L470.537 253.713 L470.537 253.713  Z\n",
       "  \" fill=\"#ffa500\" fill-rule=\"evenodd\" fill-opacity=\"0.5\"/>\n",
       "<polyline clip-path=\"url(#clip3202)\" style=\"stroke:#000000; stroke-width:0.8; stroke-opacity:0.5; fill:none\" points=\"\n",
       "  470.537,253.713 450.967,253.713 450.967,619.724 470.537,619.724 470.537,253.713 \n",
       "  \"/>\n",
       "<path clip-path=\"url(#clip3202)\" d=\"\n",
       "M490.106 271.221 L470.537 271.221 L470.537 633.591 L490.106 633.591 L490.106 271.221 L490.106 271.221  Z\n",
       "  \" fill=\"#ffa500\" fill-rule=\"evenodd\" fill-opacity=\"0.5\"/>\n",
       "<polyline clip-path=\"url(#clip3202)\" style=\"stroke:#000000; stroke-width:0.8; stroke-opacity:0.5; fill:none\" points=\"\n",
       "  490.106,271.221 470.537,271.221 470.537,633.591 490.106,633.591 490.106,271.221 \n",
       "  \"/>\n",
       "<path clip-path=\"url(#clip3202)\" d=\"\n",
       "M509.676 288.555 L490.106 288.555 L490.106 647.319 L509.676 647.319 L509.676 288.555 L509.676 288.555  Z\n",
       "  \" fill=\"#ffa500\" fill-rule=\"evenodd\" fill-opacity=\"0.5\"/>\n",
       "<polyline clip-path=\"url(#clip3202)\" style=\"stroke:#000000; stroke-width:0.8; stroke-opacity:0.5; fill:none\" points=\"\n",
       "  509.676,288.555 490.106,288.555 490.106,647.319 509.676,647.319 509.676,288.555 \n",
       "  \"/>\n",
       "<path clip-path=\"url(#clip3202)\" d=\"\n",
       "M529.246 305.717 L509.676 305.717 L509.676 660.911 L529.246 660.911 L529.246 305.717 L529.246 305.717  Z\n",
       "  \" fill=\"#ffa500\" fill-rule=\"evenodd\" fill-opacity=\"0.5\"/>\n",
       "<polyline clip-path=\"url(#clip3202)\" style=\"stroke:#000000; stroke-width:0.8; stroke-opacity:0.5; fill:none\" points=\"\n",
       "  529.246,305.717 509.676,305.717 509.676,660.911 529.246,660.911 529.246,305.717 \n",
       "  \"/>\n",
       "<path clip-path=\"url(#clip3202)\" d=\"\n",
       "M548.816 322.707 L529.246 322.707 L529.246 674.367 L548.816 674.367 L548.816 322.707 L548.816 322.707  Z\n",
       "  \" fill=\"#ffa500\" fill-rule=\"evenodd\" fill-opacity=\"0.5\"/>\n",
       "<polyline clip-path=\"url(#clip3202)\" style=\"stroke:#000000; stroke-width:0.8; stroke-opacity:0.5; fill:none\" points=\"\n",
       "  548.816,322.707 529.246,322.707 529.246,674.367 548.816,674.367 548.816,322.707 \n",
       "  \"/>\n",
       "<path clip-path=\"url(#clip3202)\" d=\"\n",
       "M568.385 339.529 L548.816 339.529 L548.816 687.69 L568.385 687.69 L568.385 339.529 L568.385 339.529  Z\n",
       "  \" fill=\"#ffa500\" fill-rule=\"evenodd\" fill-opacity=\"0.5\"/>\n",
       "<polyline clip-path=\"url(#clip3202)\" style=\"stroke:#000000; stroke-width:0.8; stroke-opacity:0.5; fill:none\" points=\"\n",
       "  568.385,339.529 548.816,339.529 548.816,687.69 568.385,687.69 568.385,339.529 \n",
       "  \"/>\n",
       "<path clip-path=\"url(#clip3202)\" d=\"\n",
       "M587.955 356.183 L568.385 356.183 L568.385 700.88 L587.955 700.88 L587.955 356.183 L587.955 356.183  Z\n",
       "  \" fill=\"#ffa500\" fill-rule=\"evenodd\" fill-opacity=\"0.5\"/>\n",
       "<polyline clip-path=\"url(#clip3202)\" style=\"stroke:#000000; stroke-width:0.8; stroke-opacity:0.5; fill:none\" points=\"\n",
       "  587.955,356.183 568.385,356.183 568.385,700.88 587.955,700.88 587.955,356.183 \n",
       "  \"/>\n",
       "<path clip-path=\"url(#clip3202)\" d=\"\n",
       "M607.525 372.672 L587.955 372.672 L587.955 713.939 L607.525 713.939 L607.525 372.672 L607.525 372.672  Z\n",
       "  \" fill=\"#ffa500\" fill-rule=\"evenodd\" fill-opacity=\"0.5\"/>\n",
       "<polyline clip-path=\"url(#clip3202)\" style=\"stroke:#000000; stroke-width:0.8; stroke-opacity:0.5; fill:none\" points=\"\n",
       "  607.525,372.672 587.955,372.672 587.955,713.939 607.525,713.939 607.525,372.672 \n",
       "  \"/>\n",
       "<path clip-path=\"url(#clip3202)\" d=\"\n",
       "M627.095 388.996 L607.525 388.996 L607.525 726.867 L627.095 726.867 L627.095 388.996 L627.095 388.996  Z\n",
       "  \" fill=\"#ffa500\" fill-rule=\"evenodd\" fill-opacity=\"0.5\"/>\n",
       "<polyline clip-path=\"url(#clip3202)\" style=\"stroke:#000000; stroke-width:0.8; stroke-opacity:0.5; fill:none\" points=\"\n",
       "  627.095,388.996 607.525,388.996 607.525,726.867 627.095,726.867 627.095,388.996 \n",
       "  \"/>\n",
       "<path clip-path=\"url(#clip3202)\" d=\"\n",
       "M646.664 405.158 L627.095 405.158 L627.095 739.668 L646.664 739.668 L646.664 405.158 L646.664 405.158  Z\n",
       "  \" fill=\"#ffa500\" fill-rule=\"evenodd\" fill-opacity=\"0.5\"/>\n",
       "<polyline clip-path=\"url(#clip3202)\" style=\"stroke:#000000; stroke-width:0.8; stroke-opacity:0.5; fill:none\" points=\"\n",
       "  646.664,405.158 627.095,405.158 627.095,739.668 646.664,739.668 646.664,405.158 \n",
       "  \"/>\n",
       "<path clip-path=\"url(#clip3202)\" d=\"\n",
       "M666.234 421.16 L646.664 421.16 L646.664 752.34 L666.234 752.34 L666.234 421.16 L666.234 421.16  Z\n",
       "  \" fill=\"#ffa500\" fill-rule=\"evenodd\" fill-opacity=\"0.5\"/>\n",
       "<polyline clip-path=\"url(#clip3202)\" style=\"stroke:#000000; stroke-width:0.8; stroke-opacity:0.5; fill:none\" points=\"\n",
       "  666.234,421.16 646.664,421.16 646.664,752.34 666.234,752.34 666.234,421.16 \n",
       "  \"/>\n",
       "<path clip-path=\"url(#clip3202)\" d=\"\n",
       "M685.804 437.002 L666.234 437.002 L666.234 764.887 L685.804 764.887 L685.804 437.002 L685.804 437.002  Z\n",
       "  \" fill=\"#ffa500\" fill-rule=\"evenodd\" fill-opacity=\"0.5\"/>\n",
       "<polyline clip-path=\"url(#clip3202)\" style=\"stroke:#000000; stroke-width:0.8; stroke-opacity:0.5; fill:none\" points=\"\n",
       "  685.804,437.002 666.234,437.002 666.234,764.887 685.804,764.887 685.804,437.002 \n",
       "  \"/>\n",
       "<path clip-path=\"url(#clip3202)\" d=\"\n",
       "M705.374 452.686 L685.804 452.686 L685.804 777.309 L705.374 777.309 L705.374 452.686 L705.374 452.686  Z\n",
       "  \" fill=\"#ffa500\" fill-rule=\"evenodd\" fill-opacity=\"0.5\"/>\n",
       "<polyline clip-path=\"url(#clip3202)\" style=\"stroke:#000000; stroke-width:0.8; stroke-opacity:0.5; fill:none\" points=\"\n",
       "  705.374,452.686 685.804,452.686 685.804,777.309 705.374,777.309 705.374,452.686 \n",
       "  \"/>\n",
       "<path clip-path=\"url(#clip3202)\" d=\"\n",
       "M724.943 468.215 L705.374 468.215 L705.374 789.607 L724.943 789.607 L724.943 468.215 L724.943 468.215  Z\n",
       "  \" fill=\"#ffa500\" fill-rule=\"evenodd\" fill-opacity=\"0.5\"/>\n",
       "<polyline clip-path=\"url(#clip3202)\" style=\"stroke:#000000; stroke-width:0.8; stroke-opacity:0.5; fill:none\" points=\"\n",
       "  724.943,468.215 705.374,468.215 705.374,789.607 724.943,789.607 724.943,468.215 \n",
       "  \"/>\n",
       "<path clip-path=\"url(#clip3202)\" d=\"\n",
       "M744.513 483.588 L724.943 483.588 L724.943 801.783 L744.513 801.783 L744.513 483.588 L744.513 483.588  Z\n",
       "  \" fill=\"#ffa500\" fill-rule=\"evenodd\" fill-opacity=\"0.5\"/>\n",
       "<polyline clip-path=\"url(#clip3202)\" style=\"stroke:#000000; stroke-width:0.8; stroke-opacity:0.5; fill:none\" points=\"\n",
       "  744.513,483.588 724.943,483.588 724.943,801.783 744.513,801.783 744.513,483.588 \n",
       "  \"/>\n",
       "<path clip-path=\"url(#clip3202)\" d=\"\n",
       "M764.083 498.809 L744.513 498.809 L744.513 813.838 L764.083 813.838 L764.083 498.809 L764.083 498.809  Z\n",
       "  \" fill=\"#ffa500\" fill-rule=\"evenodd\" fill-opacity=\"0.5\"/>\n",
       "<polyline clip-path=\"url(#clip3202)\" style=\"stroke:#000000; stroke-width:0.8; stroke-opacity:0.5; fill:none\" points=\"\n",
       "  764.083,498.809 744.513,498.809 744.513,813.838 764.083,813.838 764.083,498.809 \n",
       "  \"/>\n",
       "<path clip-path=\"url(#clip3202)\" d=\"\n",
       "M783.653 513.879 L764.083 513.879 L764.083 825.773 L783.653 825.773 L783.653 513.879 L783.653 513.879  Z\n",
       "  \" fill=\"#ffa500\" fill-rule=\"evenodd\" fill-opacity=\"0.5\"/>\n",
       "<polyline clip-path=\"url(#clip3202)\" style=\"stroke:#000000; stroke-width:0.8; stroke-opacity:0.5; fill:none\" points=\"\n",
       "  783.653,513.879 764.083,513.879 764.083,825.773 783.653,825.773 783.653,513.879 \n",
       "  \"/>\n",
       "<path clip-path=\"url(#clip3202)\" d=\"\n",
       "M803.223 528.798 L783.653 528.798 L783.653 837.589 L803.223 837.589 L803.223 528.798 L803.223 528.798  Z\n",
       "  \" fill=\"#ffa500\" fill-rule=\"evenodd\" fill-opacity=\"0.5\"/>\n",
       "<polyline clip-path=\"url(#clip3202)\" style=\"stroke:#000000; stroke-width:0.8; stroke-opacity:0.5; fill:none\" points=\"\n",
       "  803.223,528.798 783.653,528.798 783.653,837.589 803.223,837.589 803.223,528.798 \n",
       "  \"/>\n",
       "<path clip-path=\"url(#clip3202)\" d=\"\n",
       "M822.792 543.569 L803.223 543.569 L803.223 849.287 L822.792 849.287 L822.792 543.569 L822.792 543.569  Z\n",
       "  \" fill=\"#ffa500\" fill-rule=\"evenodd\" fill-opacity=\"0.5\"/>\n",
       "<polyline clip-path=\"url(#clip3202)\" style=\"stroke:#000000; stroke-width:0.8; stroke-opacity:0.5; fill:none\" points=\"\n",
       "  822.792,543.569 803.223,543.569 803.223,849.287 822.792,849.287 822.792,543.569 \n",
       "  \"/>\n",
       "<path clip-path=\"url(#clip3202)\" d=\"\n",
       "M842.362 558.193 L822.792 558.193 L822.792 860.87 L842.362 860.87 L842.362 558.193 L842.362 558.193  Z\n",
       "  \" fill=\"#ffa500\" fill-rule=\"evenodd\" fill-opacity=\"0.5\"/>\n",
       "<polyline clip-path=\"url(#clip3202)\" style=\"stroke:#000000; stroke-width:0.8; stroke-opacity:0.5; fill:none\" points=\"\n",
       "  842.362,558.193 822.792,558.193 822.792,860.87 842.362,860.87 842.362,558.193 \n",
       "  \"/>\n",
       "<path clip-path=\"url(#clip3202)\" d=\"\n",
       "M861.932 572.672 L842.362 572.672 L842.362 872.336 L861.932 872.336 L861.932 572.672 L861.932 572.672  Z\n",
       "  \" fill=\"#ffa500\" fill-rule=\"evenodd\" fill-opacity=\"0.5\"/>\n",
       "<polyline clip-path=\"url(#clip3202)\" style=\"stroke:#000000; stroke-width:0.8; stroke-opacity:0.5; fill:none\" points=\"\n",
       "  861.932,572.672 842.362,572.672 842.362,872.336 861.932,872.336 861.932,572.672 \n",
       "  \"/>\n",
       "<path clip-path=\"url(#clip3202)\" d=\"\n",
       "M881.502 587.006 L861.932 587.006 L861.932 883.689 L881.502 883.689 L881.502 587.006 L881.502 587.006  Z\n",
       "  \" fill=\"#ffa500\" fill-rule=\"evenodd\" fill-opacity=\"0.5\"/>\n",
       "<polyline clip-path=\"url(#clip3202)\" style=\"stroke:#000000; stroke-width:0.8; stroke-opacity:0.5; fill:none\" points=\"\n",
       "  881.502,587.006 861.932,587.006 861.932,883.689 881.502,883.689 881.502,587.006 \n",
       "  \"/>\n",
       "<path clip-path=\"url(#clip3202)\" d=\"\n",
       "M901.071 601.198 L881.502 601.198 L881.502 894.929 L901.071 894.929 L901.071 601.198 L901.071 601.198  Z\n",
       "  \" fill=\"#ffa500\" fill-rule=\"evenodd\" fill-opacity=\"0.5\"/>\n",
       "<polyline clip-path=\"url(#clip3202)\" style=\"stroke:#000000; stroke-width:0.8; stroke-opacity:0.5; fill:none\" points=\"\n",
       "  901.071,601.198 881.502,601.198 881.502,894.929 901.071,894.929 901.071,601.198 \n",
       "  \"/>\n",
       "<path clip-path=\"url(#clip3202)\" d=\"\n",
       "M920.641 615.249 L901.071 615.249 L901.071 906.057 L920.641 906.057 L920.641 615.249 L920.641 615.249  Z\n",
       "  \" fill=\"#ffa500\" fill-rule=\"evenodd\" fill-opacity=\"0.5\"/>\n",
       "<polyline clip-path=\"url(#clip3202)\" style=\"stroke:#000000; stroke-width:0.8; stroke-opacity:0.5; fill:none\" points=\"\n",
       "  920.641,615.249 901.071,615.249 901.071,906.057 920.641,906.057 920.641,615.249 \n",
       "  \"/>\n",
       "<path clip-path=\"url(#clip3202)\" d=\"\n",
       "M940.211 629.16 L920.641 629.16 L920.641 917.074 L940.211 917.074 L940.211 629.16 L940.211 629.16  Z\n",
       "  \" fill=\"#ffa500\" fill-rule=\"evenodd\" fill-opacity=\"0.5\"/>\n",
       "<polyline clip-path=\"url(#clip3202)\" style=\"stroke:#000000; stroke-width:0.8; stroke-opacity:0.5; fill:none\" points=\"\n",
       "  940.211,629.16 920.641,629.16 920.641,917.074 940.211,917.074 940.211,629.16 \n",
       "  \"/>\n",
       "<path clip-path=\"url(#clip3202)\" d=\"\n",
       "M959.781 642.932 L940.211 642.932 L940.211 927.982 L959.781 927.982 L959.781 642.932 L959.781 642.932  Z\n",
       "  \" fill=\"#ffa500\" fill-rule=\"evenodd\" fill-opacity=\"0.5\"/>\n",
       "<polyline clip-path=\"url(#clip3202)\" style=\"stroke:#000000; stroke-width:0.8; stroke-opacity:0.5; fill:none\" points=\"\n",
       "  959.781,642.932 940.211,642.932 940.211,927.982 959.781,927.982 959.781,642.932 \n",
       "  \"/>\n",
       "<path clip-path=\"url(#clip3202)\" d=\"\n",
       "M979.35 656.567 L959.781 656.567 L959.781 938.781 L979.35 938.781 L979.35 656.567 L979.35 656.567  Z\n",
       "  \" fill=\"#ffa500\" fill-rule=\"evenodd\" fill-opacity=\"0.5\"/>\n",
       "<polyline clip-path=\"url(#clip3202)\" style=\"stroke:#000000; stroke-width:0.8; stroke-opacity:0.5; fill:none\" points=\"\n",
       "  979.35,656.567 959.781,656.567 959.781,938.781 979.35,938.781 979.35,656.567 \n",
       "  \"/>\n",
       "<path clip-path=\"url(#clip3202)\" d=\"\n",
       "M998.92 670.067 L979.35 670.067 L979.35 949.473 L998.92 949.473 L998.92 670.067 L998.92 670.067  Z\n",
       "  \" fill=\"#ffa500\" fill-rule=\"evenodd\" fill-opacity=\"0.5\"/>\n",
       "<polyline clip-path=\"url(#clip3202)\" style=\"stroke:#000000; stroke-width:0.8; stroke-opacity:0.5; fill:none\" points=\"\n",
       "  998.92,670.067 979.35,670.067 979.35,949.473 998.92,949.473 998.92,670.067 \n",
       "  \"/>\n",
       "<path clip-path=\"url(#clip3202)\" d=\"\n",
       "M1018.49 683.432 L998.92 683.432 L998.92 960.058 L1018.49 960.058 L1018.49 683.432 L1018.49 683.432  Z\n",
       "  \" fill=\"#ffa500\" fill-rule=\"evenodd\" fill-opacity=\"0.5\"/>\n",
       "<polyline clip-path=\"url(#clip3202)\" style=\"stroke:#000000; stroke-width:0.8; stroke-opacity:0.5; fill:none\" points=\"\n",
       "  1018.49,683.432 998.92,683.432 998.92,960.058 1018.49,960.058 1018.49,683.432 \n",
       "  \"/>\n",
       "<path clip-path=\"url(#clip3202)\" d=\"\n",
       "M1038.06 696.665 L1018.49 696.665 L1018.49 970.538 L1038.06 970.538 L1038.06 696.665 L1038.06 696.665  Z\n",
       "  \" fill=\"#ffa500\" fill-rule=\"evenodd\" fill-opacity=\"0.5\"/>\n",
       "<polyline clip-path=\"url(#clip3202)\" style=\"stroke:#000000; stroke-width:0.8; stroke-opacity:0.5; fill:none\" points=\"\n",
       "  1038.06,696.665 1018.49,696.665 1018.49,970.538 1038.06,970.538 1038.06,696.665 \n",
       "  \"/>\n",
       "<path clip-path=\"url(#clip3202)\" d=\"\n",
       "M1057.63 709.766 L1038.06 709.766 L1038.06 980.913 L1057.63 980.913 L1057.63 709.766 L1057.63 709.766  Z\n",
       "  \" fill=\"#ffa500\" fill-rule=\"evenodd\" fill-opacity=\"0.5\"/>\n",
       "<polyline clip-path=\"url(#clip3202)\" style=\"stroke:#000000; stroke-width:0.8; stroke-opacity:0.5; fill:none\" points=\"\n",
       "  1057.63,709.766 1038.06,709.766 1038.06,980.913 1057.63,980.913 1057.63,709.766 \n",
       "  \"/>\n",
       "<path clip-path=\"url(#clip3202)\" d=\"\n",
       "M1077.2 722.736 L1057.63 722.736 L1057.63 991.186 L1077.2 991.186 L1077.2 722.736 L1077.2 722.736  Z\n",
       "  \" fill=\"#ffa500\" fill-rule=\"evenodd\" fill-opacity=\"0.5\"/>\n",
       "<polyline clip-path=\"url(#clip3202)\" style=\"stroke:#000000; stroke-width:0.8; stroke-opacity:0.5; fill:none\" points=\"\n",
       "  1077.2,722.736 1057.63,722.736 1057.63,991.186 1077.2,991.186 1077.2,722.736 \n",
       "  \"/>\n",
       "<path clip-path=\"url(#clip3202)\" d=\"\n",
       "M1096.77 735.577 L1077.2 735.577 L1077.2 1001.36 L1096.77 1001.36 L1096.77 735.577 L1096.77 735.577  Z\n",
       "  \" fill=\"#ffa500\" fill-rule=\"evenodd\" fill-opacity=\"0.5\"/>\n",
       "<polyline clip-path=\"url(#clip3202)\" style=\"stroke:#000000; stroke-width:0.8; stroke-opacity:0.5; fill:none\" points=\"\n",
       "  1096.77,735.577 1077.2,735.577 1077.2,1001.36 1096.77,1001.36 1096.77,735.577 \n",
       "  \"/>\n",
       "<path clip-path=\"url(#clip3202)\" d=\"\n",
       "M1116.34 748.291 L1096.77 748.291 L1096.77 1011.42 L1116.34 1011.42 L1116.34 748.291 L1116.34 748.291  Z\n",
       "  \" fill=\"#ffa500\" fill-rule=\"evenodd\" fill-opacity=\"0.5\"/>\n",
       "<polyline clip-path=\"url(#clip3202)\" style=\"stroke:#000000; stroke-width:0.8; stroke-opacity:0.5; fill:none\" points=\"\n",
       "  1116.34,748.291 1096.77,748.291 1096.77,1011.42 1116.34,1011.42 1116.34,748.291 \n",
       "  \"/>\n",
       "<path clip-path=\"url(#clip3202)\" d=\"\n",
       "M1135.91 760.878 L1116.34 760.878 L1116.34 1021.39 L1135.91 1021.39 L1135.91 760.878 L1135.91 760.878  Z\n",
       "  \" fill=\"#ffa500\" fill-rule=\"evenodd\" fill-opacity=\"0.5\"/>\n",
       "<polyline clip-path=\"url(#clip3202)\" style=\"stroke:#000000; stroke-width:0.8; stroke-opacity:0.5; fill:none\" points=\"\n",
       "  1135.91,760.878 1116.34,760.878 1116.34,1021.39 1135.91,1021.39 1135.91,760.878 \n",
       "  \"/>\n",
       "<path clip-path=\"url(#clip3202)\" d=\"\n",
       "M1155.48 773.34 L1135.91 773.34 L1135.91 1031.26 L1155.48 1031.26 L1155.48 773.34 L1155.48 773.34  Z\n",
       "  \" fill=\"#ffa500\" fill-rule=\"evenodd\" fill-opacity=\"0.5\"/>\n",
       "<polyline clip-path=\"url(#clip3202)\" style=\"stroke:#000000; stroke-width:0.8; stroke-opacity:0.5; fill:none\" points=\"\n",
       "  1155.48,773.34 1135.91,773.34 1135.91,1031.26 1155.48,1031.26 1155.48,773.34 \n",
       "  \"/>\n",
       "<path clip-path=\"url(#clip3202)\" d=\"\n",
       "M1175.05 785.677 L1155.48 785.677 L1155.48 1041.03 L1175.05 1041.03 L1175.05 785.677 L1175.05 785.677  Z\n",
       "  \" fill=\"#ffa500\" fill-rule=\"evenodd\" fill-opacity=\"0.5\"/>\n",
       "<polyline clip-path=\"url(#clip3202)\" style=\"stroke:#000000; stroke-width:0.8; stroke-opacity:0.5; fill:none\" points=\"\n",
       "  1175.05,785.677 1155.48,785.677 1155.48,1041.03 1175.05,1041.03 1175.05,785.677 \n",
       "  \"/>\n",
       "<path clip-path=\"url(#clip3202)\" d=\"\n",
       "M1194.62 797.892 L1175.05 797.892 L1175.05 1050.71 L1194.62 1050.71 L1194.62 797.892 L1194.62 797.892  Z\n",
       "  \" fill=\"#ffa500\" fill-rule=\"evenodd\" fill-opacity=\"0.5\"/>\n",
       "<polyline clip-path=\"url(#clip3202)\" style=\"stroke:#000000; stroke-width:0.8; stroke-opacity:0.5; fill:none\" points=\"\n",
       "  1194.62,797.892 1175.05,797.892 1175.05,1050.71 1194.62,1050.71 1194.62,797.892 \n",
       "  \"/>\n",
       "<path clip-path=\"url(#clip3202)\" d=\"\n",
       "M1214.19 809.986 L1194.62 809.986 L1194.62 1060.29 L1214.19 1060.29 L1214.19 809.986 L1214.19 809.986  Z\n",
       "  \" fill=\"#ffa500\" fill-rule=\"evenodd\" fill-opacity=\"0.5\"/>\n",
       "<polyline clip-path=\"url(#clip3202)\" style=\"stroke:#000000; stroke-width:0.8; stroke-opacity:0.5; fill:none\" points=\"\n",
       "  1214.19,809.986 1194.62,809.986 1194.62,1060.29 1214.19,1060.29 1214.19,809.986 \n",
       "  \"/>\n",
       "<path clip-path=\"url(#clip3202)\" d=\"\n",
       "M1233.76 821.959 L1214.19 821.959 L1214.19 1069.77 L1233.76 1069.77 L1233.76 821.959 L1233.76 821.959  Z\n",
       "  \" fill=\"#ffa500\" fill-rule=\"evenodd\" fill-opacity=\"0.5\"/>\n",
       "<polyline clip-path=\"url(#clip3202)\" style=\"stroke:#000000; stroke-width:0.8; stroke-opacity:0.5; fill:none\" points=\"\n",
       "  1233.76,821.959 1214.19,821.959 1214.19,1069.77 1233.76,1069.77 1233.76,821.959 \n",
       "  \"/>\n",
       "<path clip-path=\"url(#clip3202)\" d=\"\n",
       "M1253.33 833.813 L1233.76 833.813 L1233.76 1079.16 L1253.33 1079.16 L1253.33 833.813 L1253.33 833.813  Z\n",
       "  \" fill=\"#ffa500\" fill-rule=\"evenodd\" fill-opacity=\"0.5\"/>\n",
       "<polyline clip-path=\"url(#clip3202)\" style=\"stroke:#000000; stroke-width:0.8; stroke-opacity:0.5; fill:none\" points=\"\n",
       "  1253.33,833.813 1233.76,833.813 1233.76,1079.16 1253.33,1079.16 1253.33,833.813 \n",
       "  \"/>\n",
       "<path clip-path=\"url(#clip3202)\" d=\"\n",
       "M1272.9 845.549 L1253.33 845.549 L1253.33 1088.45 L1272.9 1088.45 L1272.9 845.549 L1272.9 845.549  Z\n",
       "  \" fill=\"#ffa500\" fill-rule=\"evenodd\" fill-opacity=\"0.5\"/>\n",
       "<polyline clip-path=\"url(#clip3202)\" style=\"stroke:#000000; stroke-width:0.8; stroke-opacity:0.5; fill:none\" points=\"\n",
       "  1272.9,845.549 1253.33,845.549 1253.33,1088.45 1272.9,1088.45 1272.9,845.549 \n",
       "  \"/>\n",
       "<path clip-path=\"url(#clip3202)\" d=\"\n",
       "M1292.47 857.168 L1272.9 857.168 L1272.9 1097.66 L1292.47 1097.66 L1292.47 857.168 L1292.47 857.168  Z\n",
       "  \" fill=\"#ffa500\" fill-rule=\"evenodd\" fill-opacity=\"0.5\"/>\n",
       "<polyline clip-path=\"url(#clip3202)\" style=\"stroke:#000000; stroke-width:0.8; stroke-opacity:0.5; fill:none\" points=\"\n",
       "  1292.47,857.168 1272.9,857.168 1272.9,1097.66 1292.47,1097.66 1292.47,857.168 \n",
       "  \"/>\n",
       "<path clip-path=\"url(#clip3200)\" d=\"\n",
       "M1866.8 251.724 L2280.76 251.724 L2280.76 130.764 L1866.8 130.764  Z\n",
       "  \" fill=\"#ffffff\" fill-rule=\"evenodd\" fill-opacity=\"1\"/>\n",
       "<polyline clip-path=\"url(#clip3200)\" style=\"stroke:#000000; stroke-width:4; stroke-opacity:1; fill:none\" points=\"\n",
       "  1866.8,251.724 2280.76,251.724 2280.76,130.764 1866.8,130.764 1866.8,251.724 \n",
       "  \"/>\n",
       "<polyline clip-path=\"url(#clip3200)\" style=\"stroke:#ff0000; stroke-width:4; stroke-opacity:1; fill:none\" points=\"\n",
       "  1890.8,191.244 2034.8,191.244 \n",
       "  \"/>\n",
       "<g clip-path=\"url(#clip3200)\">\n",
       "<text style=\"fill:#000000; fill-opacity:1; font-family:Arial,Helvetica Neue,Helvetica,sans-serif; font-size:48px; text-anchor:start;\" transform=\"rotate(0, 2058.8, 208.744)\" x=\"2058.8\" y=\"208.744\">x == 0.3</text>\n",
       "</g>\n",
       "</svg>\n"
      ]
     },
     "execution_count": 39,
     "metadata": {},
     "output_type": "execute_result"
    }
   ],
   "source": [
    "plot!(sol, vars=(0, 1), color=:orange, lw=0.2)"
   ]
  },
  {
   "cell_type": "code",
   "execution_count": 81,
   "metadata": {},
   "outputs": [
    {
     "data": {
      "text/plain": [
       "true"
      ]
     },
     "execution_count": 81,
     "metadata": {},
     "output_type": "execute_result"
    }
   ],
   "source": [
    "[0.3] ∈ sol_inv[end]"
   ]
  },
  {
   "cell_type": "code",
   "execution_count": 105,
   "metadata": {},
   "outputs": [
    {
     "data": {
      "text/plain": [
       "ReachSet{Float64,Interval{Float64,IntervalArithmetic.Interval{Float64}}}(Interval{Float64,IntervalArithmetic.Interval{Float64}}([0.237793, 0.300248]), [0.509999, 0.520001])"
      ]
     },
     "execution_count": 105,
     "metadata": {},
     "output_type": "execute_result"
    }
   ],
   "source": [
    "sol_inv[52]"
   ]
  },
  {
   "cell_type": "code",
   "execution_count": 106,
   "metadata": {},
   "outputs": [
    {
     "data": {
      "text/plain": [
       "52"
      ]
     },
     "execution_count": 106,
     "metadata": {},
     "output_type": "execute_result"
    }
   ],
   "source": [
    "sol_in]"
   ]
  },
  {
   "cell_type": "code",
   "execution_count": 82,
   "metadata": {},
   "outputs": [],
   "source": [
    "sol_inv = solve(prob, tspan=dt, INT(δ=0.01));"
   ]
  },
  {
   "cell_type": "code",
   "execution_count": 109,
   "metadata": {},
   "outputs": [
    {
     "data": {
      "text/plain": [
       "true"
      ]
     },
     "execution_count": 109,
     "metadata": {},
     "output_type": "execute_result"
    }
   ],
   "source": [
    "[0.3] ∈ sol[52] && [0.3] ∉ sol[53]"
   ]
  },
  {
   "cell_type": "code",
   "execution_count": 102,
   "metadata": {},
   "outputs": [
    {
     "data": {
      "text/plain": [
       "true"
      ]
     },
     "execution_count": 102,
     "metadata": {},
     "output_type": "execute_result"
    }
   ],
   "source": [
    "[0.3] ∈ sol[52]"
   ]
  }
 ],
 "metadata": {
  "kernelspec": {
   "display_name": "Julia 1.4.0",
   "language": "julia",
   "name": "julia-1.4"
  },
  "language_info": {
   "file_extension": ".jl",
   "mimetype": "application/julia",
   "name": "julia",
   "version": "1.4.0"
  }
 },
 "nbformat": 4,
 "nbformat_minor": 2
}
