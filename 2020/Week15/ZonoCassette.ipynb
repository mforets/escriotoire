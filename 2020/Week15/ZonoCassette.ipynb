{
 "cells": [
  {
   "cell_type": "markdown",
   "metadata": {},
   "source": [
    "## Motivation"
   ]
  },
  {
   "cell_type": "code",
   "execution_count": null,
   "metadata": {},
   "outputs": [],
   "source": [
    "struct Zonotope{N<:Real, VN<:AbstractVector{N}, MN<:AbstractMatrix{N}} <: AbstractZonotope{N}\n",
    "    center::VN\n",
    "    generators::MN\n",
    "\n",
    "    function Zonotope(center::VN, generators::MN) where {N<:Real,\n",
    "                                                         VN<:AbstractVector{N},\n",
    "                                                         MN<:AbstractMatrix{N}}\n",
    "        @assert length(center) == size(generators, 1) \"the dimension of the \" *\n",
    "            \"center ($(length(center))) and the generators \" *\n",
    "            \"($(size(generators, 1))) need to match\"\n",
    "        new{N, VN, MN}(center, generators)\n",
    "    end\n",
    "end\n"
   ]
  },
  {
   "cell_type": "code",
   "execution_count": null,
   "metadata": {},
   "outputs": [],
   "source": []
  },
  {
   "cell_type": "code",
   "execution_count": null,
   "metadata": {},
   "outputs": [],
   "source": []
  },
  {
   "cell_type": "markdown",
   "metadata": {},
   "source": [
    "## Cassette"
   ]
  },
  {
   "cell_type": "code",
   "execution_count": 1,
   "metadata": {},
   "outputs": [
    {
     "data": {
      "text/plain": [
       "\u001b[32m\u001b[1mTest Passed\u001b[22m\u001b[39m"
      ]
     },
     "execution_count": 1,
     "metadata": {},
     "output_type": "execute_result"
    }
   ],
   "source": [
    "using Cassette, Test\n",
    "\n",
    "Cassette.@context SinToCosCtx\n",
    "\n",
    "# Override the default recursive `overdub` implementation for `sin(x)`.\n",
    "# Note that there's no tricks here; this is just a normal Julia method\n",
    "# overload using the normal multiple dispatch semantics.\n",
    "Cassette.overdub(::SinToCosCtx, ::typeof(sin), x) = cos(x)\n",
    "\n",
    "x = rand(10)\n",
    "y = Cassette.overdub(SinToCosCtx(), sum, i -> cos(i) + sin(i), x)\n",
    "@test y == sum(i -> 2 * cos(i), x)"
   ]
  },
  {
   "cell_type": "code",
   "execution_count": 2,
   "metadata": {},
   "outputs": [],
   "source": [
    "using Revise, LazySets, Cassette, InteractiveUtils, Test"
   ]
  },
  {
   "cell_type": "code",
   "execution_count": 3,
   "metadata": {},
   "outputs": [
    {
     "ename": "ErrorException",
     "evalue": "return type Zonotope{Float64,Array{Float64,1},SubArray{Float64,2,Array{Float64,2},Tuple{Base.Slice{Base.OneTo{Int64}},Array{Int64,1}},false}} does not match inferred return type Zonotope{Float64,Array{Float64,1},_A} where _A<:AbstractArray{Float64,2}",
     "output_type": "error",
     "traceback": [
      "return type Zonotope{Float64,Array{Float64,1},SubArray{Float64,2,Array{Float64,2},Tuple{Base.Slice{Base.OneTo{Int64}},Array{Int64,1}},false}} does not match inferred return type Zonotope{Float64,Array{Float64,1},_A} where _A<:AbstractArray{Float64,2}",
      "",
      "Stacktrace:",
      " [1] error(::String) at ./error.jl:33",
      " [2] top-level scope at In[3]:1"
     ]
    }
   ],
   "source": [
    "@inferred Zonotope(rand(2), hcat(rand(2, 2), zeros(2, 3)))"
   ]
  },
  {
   "cell_type": "code",
   "execution_count": 4,
   "metadata": {},
   "outputs": [
    {
     "data": {
      "text/plain": [
       "Zonotope{Float64,Array{Float64,1},SubArray{Float64,2,Array{Float64,2},Tuple{Base.Slice{Base.OneTo{Int64}},Array{Int64,1}},false}}([0.7560355513851835, 0.18694069197769791], [0.1765580694882234 0.32682022455753645; 0.12875757743660876 0.20503548958114814])"
      ]
     },
     "execution_count": 4,
     "metadata": {},
     "output_type": "execute_result"
    }
   ],
   "source": [
    "Zonotope(rand(2), hcat(rand(2, 2), zeros(2, 3)))"
   ]
  },
  {
   "cell_type": "code",
   "execution_count": 5,
   "metadata": {},
   "outputs": [],
   "source": [
    "using LazySets, Cassette\n",
    "\n",
    "Cassette.@context ZonotopeCtx\n",
    "#const zonotope_ctx = Cassette.disablehooks(ZonotopeCtx())\n",
    "\n",
    "function Cassette.overdub(::ZonotopeCtx, ::typeof(Zonotope), center::VN, generators::MN) where {N, VN<:AbstractVector{N}, MN<:AbstractMatrix{N}}\n",
    "    # disable generators removal\n",
    "    Zonotope(center, generators, remove_zero_generators=false)\n",
    "end"
   ]
  },
  {
   "cell_type": "code",
   "execution_count": 6,
   "metadata": {},
   "outputs": [
    {
     "data": {
      "text/plain": [
       "Zonotope{Float64,Array{Float64,1},Array{Float64,2}}([0.24274789256436424, 0.45282421956931196], [0.9340341497332454 0.6573075187868196 … 0.0 0.0; 0.2519076269549425 0.2625423719784101 … 0.0 0.0])"
      ]
     },
     "execution_count": 6,
     "metadata": {},
     "output_type": "execute_result"
    }
   ],
   "source": [
    "Cassette.overdub(ZonotopeCtx(), Zonotope, rand(2), hcat(rand(2, 2), zeros(2, 3)))"
   ]
  },
  {
   "cell_type": "code",
   "execution_count": 9,
   "metadata": {},
   "outputs": [
    {
     "data": {
      "text/plain": [
       "zonotope (generic function with 1 method)"
      ]
     },
     "execution_count": 9,
     "metadata": {},
     "output_type": "execute_result"
    }
   ],
   "source": [
    "zonotope(f) = Cassette.overdub(ZonotopeCtx(), f)"
   ]
  },
  {
   "cell_type": "code",
   "execution_count": 10,
   "metadata": {},
   "outputs": [
    {
     "data": {
      "text/plain": [
       "2×5 Array{Float64,2}:\n",
       " 0.836691  0.968074  0.0  0.0  0.0\n",
       " 0.387156  0.219346  0.0  0.0  0.0"
      ]
     },
     "execution_count": 10,
     "metadata": {},
     "output_type": "execute_result"
    }
   ],
   "source": [
    "zonotope() do\n",
    "    Z = Zonotope(rand(2), hcat(rand(2, 2), zeros(2, 3)))\n",
    "    Z.generators\n",
    "end"
   ]
  },
  {
   "cell_type": "code",
   "execution_count": 14,
   "metadata": {},
   "outputs": [],
   "source": [
    "using ReachabilityAnalysis\n",
    "\n",
    "include(\"/home/mforets/.julia/dev/ReachabilityAnalysis/test/models/linear/motor.jl\")\n",
    "\n",
    "prob, tspan = motor_homog()\n",
    "sol = solve(prob, tspan=tspan, GLGM06(δ=0.01), static=true);"
   ]
  },
  {
   "cell_type": "code",
   "execution_count": 12,
   "metadata": {},
   "outputs": [
    {
     "ename": "MethodError",
     "evalue": "MethodError: Cannot `convert` an object of type \n  Zonotope{Float64{},StaticArrays.SArray{Tuple{8},Float64{},1,8},SubArray{Float64,2,StaticArrays.SArray{Tuple{8,8},Float64,2,64},Tuple{Base.Slice{StaticArrays.SOneTo{8}},Array{Int64,1}},false}} to an object of type \n  Zonotope{Float64{},StaticArrays.SArray{Tuple{8},Float64{},1,8},StaticArrays.SArray{Tuple{8,8},Float64,2,64}}\nClosest candidates are:\n  convert(::Type{#s16} where #s16<:Union{Number, T}, !Matched::MultivariatePolynomials.AbstractPolynomialLike{T}) where T at /home/mforets/.julia/packages/MultivariatePolynomials/Mpv8c/src/conversion.jl:16\n  convert(::Type{T}, !Matched::T) where T at essentials.jl:171",
     "output_type": "error",
     "traceback": [
      "MethodError: Cannot `convert` an object of type \n  Zonotope{Float64{},StaticArrays.SArray{Tuple{8},Float64{},1,8},SubArray{Float64,2,StaticArrays.SArray{Tuple{8,8},Float64,2,64},Tuple{Base.Slice{StaticArrays.SOneTo{8}},Array{Int64,1}},false}} to an object of type \n  Zonotope{Float64{},StaticArrays.SArray{Tuple{8},Float64{},1,8},StaticArrays.SArray{Tuple{8,8},Float64,2,64}}\nClosest candidates are:\n  convert(::Type{#s16} where #s16<:Union{Number, T}, !Matched::MultivariatePolynomials.AbstractPolynomialLike{T}) where T at /home/mforets/.julia/packages/MultivariatePolynomials/Mpv8c/src/conversion.jl:16\n  convert(::Type{T}, !Matched::T) where T at essentials.jl:171",
      "",
      "Stacktrace:",
      " [1] convert(::Type{ReachSet{Float64,Zonotope{Float64,StaticArrays.SArray{Tuple{8},Float64,1,8},StaticArrays.SArray{Tuple{8,8},Float64,2,64}}}}, ::ReachSet{Float64,Zonotope{Float64,StaticArrays.SArray{Tuple{8},Float64,1,8},SubArray{Float64,2,StaticArrays.SArray{Tuple{8,8},Float64,2,64},Tuple{Base.Slice{StaticArrays.SOneTo{8}},Array{Int64,1}},false}}}) at /home/mforets/.julia/dev/ReachabilityAnalysis/src/Flowpipes/reachsets.jl:287",
      " [2] setindex!(::Array{ReachSet{Float64,Zonotope{Float64,StaticArrays.SArray{Tuple{8},Float64,1,8},StaticArrays.SArray{Tuple{8,8},Float64,2,64}}},1}, ::ReachSet{Float64,Zonotope{Float64,StaticArrays.SArray{Tuple{8},Float64,1,8},SubArray{Float64,2,StaticArrays.SArray{Tuple{8,8},Float64,2,64},Tuple{Base.Slice{StaticArrays.SOneTo{8}},Array{Int64,1}},false}}}, ::Int64) at ./array.jl:825",
      " [3] reach_homog_GLGM06!(::Array{ReachSet{Float64,Zonotope{Float64,StaticArrays.SArray{Tuple{8},Float64,1,8},StaticArrays.SArray{Tuple{8,8},Float64,2,64}}},1}, ::Zonotope{Float64,StaticArrays.SArray{Tuple{8},Float64,1,8},StaticArrays.SArray{Tuple{8,8},Float64,2,64}}, ::StaticArrays.SArray{Tuple{8,8},Float64,2,64}, ::Int64, ::Float64, ::Int64, ::Universe{Float64}) at /home/mforets/.julia/dev/ReachabilityAnalysis/src/Algorithms/GLGM06/reach.jl:93",
      " [4] post(::GLGM06{Float64,Forward}, ::InitialValueProblem{LinearContinuousSystem{Float64,SparseMatrixCSC{Float64,Int64}},Hyperrectangle{Float64,Array{Float64,1},Array{Float64,1}}}, ::IntervalArithmetic.Interval{Float64}; kwargs::Base.Iterators.Pairs{Symbol,Any,Tuple{Symbol,Symbol},NamedTuple{(:tspan, :static),Tuple{Tuple{Float64,Float64},Bool}}}) at /home/mforets/.julia/dev/ReachabilityAnalysis/src/Algorithms/GLGM06/post.jl:42",
      " [5] solve(::InitialValueProblem{LinearContinuousSystem{Float64,SparseMatrixCSC{Float64,Int64}},Hyperrectangle{Float64,Array{Float64,1},Array{Float64,1}}}, ::GLGM06{Float64,Forward}; kwargs::Base.Iterators.Pairs{Symbol,Any,Tuple{Symbol,Symbol},NamedTuple{(:tspan, :static),Tuple{Tuple{Float64,Float64},Bool}}}) at /home/mforets/.julia/dev/ReachabilityAnalysis/src/Continuous/solve.jl:34",
      " [6] overdub at /home/mforets/.julia/packages/Cassette/7OymZ/src/context.jl:262 [inlined]",
      " [7] overdub(::Cassette.Context{nametype(ZonotopeCtx),Nothing,Nothing,Cassette.var\"##PassType#255\",Nothing,Nothing}, ::ReachabilityAnalysis.var\"#solve##kw\", ::NamedTuple{(:tspan, :static),Tuple{Tuple{Float64,Float64},Bool}}, ::typeof(solve), ::InitialValueProblem{LinearContinuousSystem{Float64,SparseMatrixCSC{Float64,Int64}},Hyperrectangle{Float64,Array{Float64,1},Array{Float64,1}}}, ::GLGM06{Float64,Forward}) at /home/mforets/.julia/packages/Cassette/7OymZ/src/overdub.jl:0",
      " [8] #17 at ./In[12]:2 [inlined]",
      " [9] overdub(::Cassette.Context{nametype(ZonotopeCtx),Nothing,Nothing,Cassette.var\"##PassType#255\",Nothing,Nothing}, ::var\"#17#18\") at /home/mforets/.julia/packages/Cassette/7OymZ/src/overdub.jl:0",
      " [10] zonotope(::Function) at ./In[9]:1",
      " [11] top-level scope at In[12]:1"
     ]
    }
   ],
   "source": [
    "zonotope() do\n",
    "    sol = solve(prob, tspan=tspan, GLGM06(δ=0.01), static=true);\n",
    "end"
   ]
  },
  {
   "cell_type": "code",
   "execution_count": null,
   "metadata": {},
   "outputs": [],
   "source": [
    "Cassette.overdub(ZonotopeCtx(), Zonotope, rand(2), hcat(rand(2, 2), zeros(2, 3)))"
   ]
  },
  {
   "cell_type": "code",
   "execution_count": null,
   "metadata": {},
   "outputs": [],
   "source": []
  },
  {
   "cell_type": "code",
   "execution_count": null,
   "metadata": {},
   "outputs": [],
   "source": [
    "using Cassette, IntervalArithmetic\n",
    "\n",
    "Cassette.@context FastPowersCtx\n",
    "const fast_powers_ctx = Cassette.disablehooks(FastPowersCtx())\n",
    "\n",
    "Cassette.overdub(::FastPowersCtx, ::typeof(^), a, b) = pow(a,b)\n",
    "\n",
    "fast_powers(f) = Cassette.overdub(fast_powers_ctx, f)\n",
    "\n",
    "x = 1.1..2.2\n",
    "\n"
   ]
  },
  {
   "cell_type": "code",
   "execution_count": null,
   "metadata": {},
   "outputs": [],
   "source": [
    "fast_powers() do\n",
    "    x^10\n",
    "end"
   ]
  },
  {
   "cell_type": "markdown",
   "metadata": {},
   "source": [
    "## IRTools"
   ]
  },
  {
   "cell_type": "code",
   "execution_count": null,
   "metadata": {},
   "outputs": [],
   "source": [
    "using Revise, LazySets, IRTools"
   ]
  },
  {
   "cell_type": "code",
   "execution_count": null,
   "metadata": {},
   "outputs": [],
   "source": [
    "f(x) = x+x"
   ]
  },
  {
   "cell_type": "code",
   "execution_count": null,
   "metadata": {},
   "outputs": [],
   "source": [
    "@code_ir f(1)"
   ]
  },
  {
   "cell_type": "code",
   "execution_count": null,
   "metadata": {},
   "outputs": [],
   "source": [
    "@code_ir Zonotope([0.0, 1.0], [0.0 1.0; 0.0 1.0])"
   ]
  },
  {
   "cell_type": "code",
   "execution_count": null,
   "metadata": {},
   "outputs": [],
   "source": [
    "@code_ir Zonotope(rand(2), hcat(rand(2, 2), zeros(2, 3)))"
   ]
  },
  {
   "cell_type": "code",
   "execution_count": null,
   "metadata": {},
   "outputs": [],
   "source": []
  }
 ],
 "metadata": {
  "kernelspec": {
   "display_name": "Julia 1.4.0",
   "language": "julia",
   "name": "julia-1.4"
  },
  "language_info": {
   "file_extension": ".jl",
   "mimetype": "application/julia",
   "name": "julia",
   "version": "1.4.0"
  }
 },
 "nbformat": 4,
 "nbformat_minor": 2
}
