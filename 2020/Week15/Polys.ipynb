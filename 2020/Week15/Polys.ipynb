{
 "cells": [
  {
   "cell_type": "code",
   "execution_count": 1,
   "metadata": {},
   "outputs": [],
   "source": [
    "using DynamicPolynomials"
   ]
  },
  {
   "cell_type": "code",
   "execution_count": 12,
   "metadata": {},
   "outputs": [
    {
     "data": {
      "text/plain": [
       "(PolyVar{true}[p₁₋₁ p₁₋₂ p₁₋₃; p₂₋₁ p₂₋₂ p₂₋₃; p₃₋₁ p₃₋₂ p₃₋₃],)"
      ]
     },
     "execution_count": 12,
     "metadata": {},
     "output_type": "execute_result"
    }
   ],
   "source": [
    "n = 3; @polyvar p[1:n, 1:n]"
   ]
  },
  {
   "cell_type": "code",
   "execution_count": 28,
   "metadata": {},
   "outputs": [
    {
     "data": {
      "text/html": [
       "@polyvar(__source__::<b>LineNumberNode</b>, __module__::<b>Module</b>, args...) in DynamicPolynomials at <a href=\"file:///home/mforets/.julia/packages/DynamicPolynomials/PmCll/src/var.jl\" target=\"_blank\">/home/mforets/.julia/packages/DynamicPolynomials/PmCll/src/var.jl:35</a>"
      ],
      "text/plain": [
       "@polyvar(__source__::LineNumberNode, __module__::Module, args...) in DynamicPolynomials at /home/mforets/.julia/packages/DynamicPolynomials/PmCll/src/var.jl:35"
      ]
     },
     "execution_count": 28,
     "metadata": {},
     "output_type": "execute_result"
    }
   ],
   "source": [
    "@which @polyvar p[1:n, 1:n]"
   ]
  },
  {
   "cell_type": "code",
   "execution_count": 8,
   "metadata": {},
   "outputs": [
    {
     "data": {
      "text/latex": [
       "$$ p_{2,1} + p_{1,2} $$"
      ],
      "text/plain": [
       "p₂₋₁ + p₁₋₂"
      ]
     },
     "execution_count": 8,
     "metadata": {},
     "output_type": "execute_result"
    }
   ],
   "source": [
    "p[1, 2] + p[2, 1]"
   ]
  },
  {
   "cell_type": "code",
   "execution_count": 10,
   "metadata": {},
   "outputs": [],
   "source": [
    "using LinearAlgebra"
   ]
  },
  {
   "cell_type": "code",
   "execution_count": 11,
   "metadata": {},
   "outputs": [
    {
     "data": {
      "text/latex": [
       "$$ p_{1,1}p_{2,2}p_{3,3} - p_{1,1}p_{3,2}p_{2,3} - p_{2,1}p_{1,2}p_{3,3} + p_{2,1}p_{3,2}p_{1,3} + p_{3,1}p_{1,2}p_{2,3} - p_{3,1}p_{2,2}p_{1,3} $$"
      ],
      "text/plain": [
       "p₁₋₁p₂₋₂p₃₋₃ - p₁₋₁p₃₋₂p₂₋₃ - p₂₋₁p₁₋₂p₃₋₃ + p₂₋₁p₃₋₂p₁₋₃ + p₃₋₁p₁₋₂p₂₋₃ - p₃₋₁p₂₋₂p₁₋₃"
      ]
     },
     "execution_count": 11,
     "metadata": {},
     "output_type": "execute_result"
    }
   ],
   "source": [
    "det(p)"
   ]
  },
  {
   "cell_type": "code",
   "execution_count": 13,
   "metadata": {},
   "outputs": [
    {
     "data": {
      "text/plain": [
       "3×3 Array{Term{true,Int64},2}:\n",
       " 2p₁₋₁  p₁₋₂   p₁₋₃\n",
       " p₂₋₁   2p₂₋₂  p₂₋₃\n",
       " p₃₋₁   p₃₋₂   2p₃₋₃"
      ]
     },
     "execution_count": 13,
     "metadata": {},
     "output_type": "execute_result"
    }
   ],
   "source": [
    "M = [[2p[1, 1], p[2, 1], p[3, 1]] [p[1, 2], 2p[2, 2], p[3, 2]] [p[1, 3], p[2, 3], 2p[3, 3]]]"
   ]
  },
  {
   "cell_type": "code",
   "execution_count": 18,
   "metadata": {},
   "outputs": [
    {
     "data": {
      "text/latex": [
       "$$ 8p_{1,1}p_{2,2}p_{3,3} - 2p_{1,1}p_{3,2}p_{2,3} - 2p_{2,1}p_{1,2}p_{3,3} + p_{2,1}p_{3,2}p_{1,3} + p_{3,1}p_{1,2}p_{2,3} - 2p_{3,1}p_{2,2}p_{1,3} $$"
      ],
      "text/plain": [
       "8p₁₋₁p₂₋₂p₃₋₃ - 2p₁₋₁p₃₋₂p₂₋₃ - 2p₂₋₁p₁₋₂p₃₋₃ + p₂₋₁p₃₋₂p₁₋₃ + p₃₋₁p₁₋₂p₂₋₃ - 2p₃₋₁p₂₋₂p₁₋₃"
      ]
     },
     "execution_count": 18,
     "metadata": {},
     "output_type": "execute_result"
    }
   ],
   "source": [
    "d = det(M)"
   ]
  },
  {
   "cell_type": "code",
   "execution_count": 22,
   "metadata": {},
   "outputs": [
    {
     "data": {
      "text/plain": [
       "3×3 Array{Polynomial{true,Int64},2}:\n",
       " 8p₂₋₂p₃₋₃ - 2p₃₋₂p₂₋₃  -2p₂₋₁p₃₋₃ + p₃₋₁p₂₋₃  p₂₋₁p₃₋₂ - 2p₃₋₁p₂₋₂\n",
       " -2p₁₋₂p₃₋₃ + p₃₋₂p₁₋₃  8p₁₋₁p₃₋₃ - 2p₃₋₁p₁₋₃  -2p₁₋₁p₃₋₂ + p₃₋₁p₁₋₂\n",
       " p₁₋₂p₂₋₃ - 2p₂₋₂p₁₋₃   -2p₁₋₁p₂₋₃ + p₂₋₁p₁₋₃  8p₁₋₁p₂₋₂ - 2p₂₋₁p₁₋₂"
      ]
     },
     "execution_count": 22,
     "metadata": {},
     "output_type": "execute_result"
    }
   ],
   "source": [
    "differentiate(det(M), p)"
   ]
  },
  {
   "cell_type": "code",
   "execution_count": 23,
   "metadata": {},
   "outputs": [
    {
     "data": {
      "text/latex": [
       "$$ 8p_{2,2}p_{3,3} - 2p_{3,2}p_{2,3} $$"
      ],
      "text/plain": [
       "8p₂₋₂p₃₋₃ - 2p₃₋₂p₂₋₃"
      ]
     },
     "execution_count": 23,
     "metadata": {},
     "output_type": "execute_result"
    }
   ],
   "source": [
    "differentiate(d, p[1, 1])"
   ]
  },
  {
   "cell_type": "code",
   "execution_count": 24,
   "metadata": {},
   "outputs": [
    {
     "data": {
      "text/latex": [
       "$$ -2p_{2,1}p_{3,3} + p_{3,1}p_{2,3} $$"
      ],
      "text/plain": [
       "-2p₂₋₁p₃₋₃ + p₃₋₁p₂₋₃"
      ]
     },
     "execution_count": 24,
     "metadata": {},
     "output_type": "execute_result"
    }
   ],
   "source": [
    "differentiate(d, p[1, 2])"
   ]
  },
  {
   "cell_type": "code",
   "execution_count": 25,
   "metadata": {},
   "outputs": [
    {
     "data": {
      "text/latex": [
       "$$ p_{2,1}p_{3,2} - 2p_{3,1}p_{2,2} $$"
      ],
      "text/plain": [
       "p₂₋₁p₃₋₂ - 2p₃₋₁p₂₋₂"
      ]
     },
     "execution_count": 25,
     "metadata": {},
     "output_type": "execute_result"
    }
   ],
   "source": [
    "differentiate(d, p[1, 3])"
   ]
  },
  {
   "cell_type": "code",
   "execution_count": 26,
   "metadata": {},
   "outputs": [
    {
     "data": {
      "text/latex": [
       "$$ -2p_{1,2}p_{3,3} + p_{3,2}p_{1,3} $$"
      ],
      "text/plain": [
       "-2p₁₋₂p₃₋₃ + p₃₋₂p₁₋₃"
      ]
     },
     "execution_count": 26,
     "metadata": {},
     "output_type": "execute_result"
    }
   ],
   "source": [
    "differentiate(d, p[2, 1])"
   ]
  },
  {
   "cell_type": "markdown",
   "metadata": {},
   "source": [
    "---"
   ]
  },
  {
   "cell_type": "code",
   "execution_count": 1,
   "metadata": {},
   "outputs": [],
   "source": [
    "using TypedPolynomials"
   ]
  },
  {
   "cell_type": "code",
   "execution_count": 22,
   "metadata": {},
   "outputs": [
    {
     "ename": "LoadError",
     "evalue": "Unsupported syntax. Expected x[a:b] for literal integers a and b",
     "output_type": "error",
     "traceback": [
      "Unsupported syntax. Expected x[a:b] for literal integers a and b",
      "",
      "Stacktrace:",
      " [1] error(::String) at ./error.jl:33",
      " [2] _split(::Expr) at /home/mforets/.julia/packages/TypedPolynomials/fhIy6/src/macros.jl:5",
      " [3] _makevar(::Expr) at /home/mforets/.julia/packages/TypedPolynomials/fhIy6/src/macros.jl:10",
      " [4] @polyvar(::LineNumberNode, ::Module, ::Any) at /home/mforets/.julia/packages/TypedPolynomials/fhIy6/src/macros.jl:52"
     ]
    }
   ],
   "source": [
    "@polyvar p[1:n, 1:n]"
   ]
  },
  {
   "cell_type": "code",
   "execution_count": 15,
   "metadata": {},
   "outputs": [
    {
     "data": {
      "text/plain": [
       "3×3 Array{Variable,2}:\n",
       " p₁₁  p₁₂  p₁₃\n",
       " p₂₁  p₂₂  p₂₃\n",
       " p₃₁  p₃₂  p₃₃"
      ]
     },
     "execution_count": 15,
     "metadata": {},
     "output_type": "execute_result"
    }
   ],
   "source": [
    "n = 3\n",
    "subidx(i) = join(Char.(0x2080 .+ convert.(UInt16, digits(i)[end:-1:1])))\n",
    "p = hcat([[Variable{Symbol(\"p\", subidx(i), subidx(j))}() for i in 1:n] for j in 1:n]...)"
   ]
  },
  {
   "cell_type": "code",
   "execution_count": 17,
   "metadata": {},
   "outputs": [],
   "source": [
    "using LinearAlgebra"
   ]
  },
  {
   "cell_type": "code",
   "execution_count": 18,
   "metadata": {},
   "outputs": [
    {
     "data": {
      "text/latex": [
       "$$ p₁₁p₂₂p₃₃ - p₁₁p₂₃p₃₂ - p₁₂p₂₁p₃₃ + p₁₂p₂₃p₃₁ + p₁₃p₂₁p₃₂ - p₁₃p₂₂p₃₁ $$"
      ],
      "text/plain": [
       "p₁₁p₂₂p₃₃ - p₁₁p₂₃p₃₂ - p₁₂p₂₁p₃₃ + p₁₂p₂₃p₃₁ + p₁₃p₂₁p₃₂ - p₁₃p₂₂p₃₁"
      ]
     },
     "execution_count": 18,
     "metadata": {},
     "output_type": "execute_result"
    }
   ],
   "source": [
    "det(p)"
   ]
  },
  {
   "cell_type": "code",
   "execution_count": 19,
   "metadata": {},
   "outputs": [
    {
     "data": {
      "text/plain": [
       "3×3 Array{Term{Int64,Monomial{(p₁₁, p₁₂, p₁₃, p₂₁, p₂₂, p₂₃, p₃₁, p₃₂, p₃₃),9}},2}:\n",
       " 2p₁₁  p₁₂   p₁₃\n",
       " p₂₁   2p₂₂  p₂₃\n",
       " p₃₁   p₃₂   2p₃₃"
      ]
     },
     "execution_count": 19,
     "metadata": {},
     "output_type": "execute_result"
    }
   ],
   "source": [
    "M = [[2p[1, 1], p[2, 1], p[3, 1]] [p[1, 2], 2p[2, 2], p[3, 2]] [p[1, 3], p[2, 3], 2p[3, 3]]]"
   ]
  },
  {
   "cell_type": "code",
   "execution_count": 20,
   "metadata": {},
   "outputs": [
    {
     "data": {
      "text/latex": [
       "$$ 8p₁₁p₂₂p₃₃ - 2p₁₁p₂₃p₃₂ - 2p₁₂p₂₁p₃₃ + p₁₂p₂₃p₃₁ + p₁₃p₂₁p₃₂ - 2p₁₃p₂₂p₃₁ $$"
      ],
      "text/plain": [
       "8p₁₁p₂₂p₃₃ - 2p₁₁p₂₃p₃₂ - 2p₁₂p₂₁p₃₃ + p₁₂p₂₃p₃₁ + p₁₃p₂₁p₃₂ - 2p₁₃p₂₂p₃₁"
      ]
     },
     "execution_count": 20,
     "metadata": {},
     "output_type": "execute_result"
    }
   ],
   "source": [
    "d = det(M)"
   ]
  },
  {
   "cell_type": "code",
   "execution_count": 21,
   "metadata": {},
   "outputs": [
    {
     "data": {
      "text/plain": [
       "3×3 Array{Polynomial{Int64,Term{Int64,Monomial{(p₁₁, p₁₂, p₁₃, p₂₁, p₂₂, p₂₃, p₃₁, p₃₂, p₃₃),9}},Array{Term{Int64,Monomial{(p₁₁, p₁₂, p₁₃, p₂₁, p₂₂, p₂₃, p₃₁, p₃₂, p₃₃),9}},1}},2}:\n",
       " 8p₂₂p₃₃ - 2p₂₃p₃₂  -2p₂₁p₃₃ + p₂₃p₃₁  p₂₁p₃₂ - 2p₂₂p₃₁\n",
       " -2p₁₂p₃₃ + p₁₃p₃₂  8p₁₁p₃₃ - 2p₁₃p₃₁  -2p₁₁p₃₂ + p₁₂p₃₁\n",
       " p₁₂p₂₃ - 2p₁₃p₂₂   -2p₁₁p₂₃ + p₁₃p₂₁  8p₁₁p₂₂ - 2p₁₂p₂₁"
      ]
     },
     "execution_count": 21,
     "metadata": {},
     "output_type": "execute_result"
    }
   ],
   "source": [
    "differentiate(det(M), p)"
   ]
  },
  {
   "cell_type": "code",
   "execution_count": null,
   "metadata": {},
   "outputs": [],
   "source": []
  }
 ],
 "metadata": {
  "kernelspec": {
   "display_name": "Julia 1.4.0",
   "language": "julia",
   "name": "julia-1.4"
  },
  "language_info": {
   "file_extension": ".jl",
   "mimetype": "application/julia",
   "name": "julia",
   "version": "1.4.0"
  }
 },
 "nbformat": 4,
 "nbformat_minor": 2
}
