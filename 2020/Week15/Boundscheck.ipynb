{
 "cells": [
  {
   "cell_type": "code",
   "execution_count": null,
   "metadata": {
    "scrolled": true
   },
   "outputs": [],
   "source": [
    "using Revise, ReachabilityAnalysis\n",
    "using LazySets"
   ]
  },
  {
   "cell_type": "code",
   "execution_count": null,
   "metadata": {},
   "outputs": [],
   "source": [
    "@inline function _check_bounds(X, i)\n",
    "    1 <= i <= dim(X) || throw(ArgumentError(\"there is no index at coordinate $i, since the set is of dimension $(dim(X))\"))\n",
    "end\n",
    "\n",
    "@inline function center(sih::SymmetricIntervalHull{N}, i::Int) where {N<:Real}\n",
    "    #@boundscheck _check_bounds(sih, i)\n",
    "    (@boundscheck _check_bounds(X, i); zero(N))\n",
    "end"
   ]
  },
  {
   "cell_type": "code",
   "execution_count": null,
   "metadata": {},
   "outputs": [],
   "source": [
    "X = SymmetricIntervalHull(rand(Hyperrectangle))\n",
    "\n",
    "center(X, 3)"
   ]
  },
  {
   "cell_type": "code",
   "execution_count": null,
   "metadata": {},
   "outputs": [],
   "source": [
    "@inbounds begin @boundscheck 1+1 end"
   ]
  },
  {
   "cell_type": "code",
   "execution_count": null,
   "metadata": {},
   "outputs": [],
   "source": [
    "@inbounds center(X, 3)"
   ]
  },
  {
   "cell_type": "code",
   "execution_count": null,
   "metadata": {},
   "outputs": [],
   "source": []
  },
  {
   "cell_type": "code",
   "execution_count": null,
   "metadata": {},
   "outputs": [],
   "source": [
    "@inline function _check_bounds(X, i)\n",
    "    1 <= i <= dim(X) || throw(ArgumentError(\"there is no index at coordinate $i, since the set is of dimension $(dim(X))\"))\n",
    "end\n",
    "\n",
    "@inline function center(S::ZeroSet{N}, i::Int) where {N<:Real}\n",
    "    e = element(S)\n",
    "    @boundscheck _check_bounds(S, i, length(e))\n",
    "    return e[i]\n",
    "end\n",
    "\n",
    "function center2(S::AbstractSingleton{N}, i::Int) where {N<:Real}\n",
    "    element(S)[i]\n",
    "end\n",
    "\n",
    "@inline function center3(S::AbstractSingleton{N}, i::Int) where {N<:Real}\n",
    "    (@boundscheck 1 <= i <= dim(S); element(S)[i])\n",
    "end"
   ]
  },
  {
   "cell_type": "code",
   "execution_count": null,
   "metadata": {},
   "outputs": [],
   "source": [
    " @boundscheck _check_bounds(X, i)"
   ]
  },
  {
   "cell_type": "code",
   "execution_count": null,
   "metadata": {},
   "outputs": [],
   "source": [
    "s = rand(Singleton)"
   ]
  },
  {
   "cell_type": "code",
   "execution_count": null,
   "metadata": {},
   "outputs": [],
   "source": [
    "using BenchmarkTools"
   ]
  },
  {
   "cell_type": "code",
   "execution_count": null,
   "metadata": {},
   "outputs": [],
   "source": [
    "s = Singleton(rand(10))"
   ]
  },
  {
   "cell_type": "code",
   "execution_count": null,
   "metadata": {},
   "outputs": [],
   "source": [
    "@inbounds center(s, 13)"
   ]
  },
  {
   "cell_type": "code",
   "execution_count": null,
   "metadata": {},
   "outputs": [],
   "source": [
    "@inbounds center(s, 13)"
   ]
  },
  {
   "cell_type": "code",
   "execution_count": null,
   "metadata": {},
   "outputs": [],
   "source": [
    "@code_lowered center2(s, 9)"
   ]
  },
  {
   "cell_type": "code",
   "execution_count": null,
   "metadata": {},
   "outputs": [],
   "source": []
  },
  {
   "cell_type": "code",
   "execution_count": 9,
   "metadata": {},
   "outputs": [
    {
     "name": "stderr",
     "output_type": "stream",
     "text": [
      "WARNING: using IntervalArithmetic.Interval in module Main conflicts with an existing identifier.\n"
     ]
    }
   ],
   "source": [
    "using Revise, LazySets, BenchmarkTools\n",
    "using IntervalArithmetic"
   ]
  },
  {
   "cell_type": "code",
   "execution_count": 2,
   "metadata": {},
   "outputs": [
    {
     "data": {
      "text/plain": [
       "Interval{Float64,IntervalArithmetic.Interval{Float64}}([-0.536627, -0.180738])"
      ]
     },
     "execution_count": 2,
     "metadata": {},
     "output_type": "execute_result"
    }
   ],
   "source": [
    "x = rand(Interval)"
   ]
  },
  {
   "cell_type": "code",
   "execution_count": 3,
   "metadata": {},
   "outputs": [
    {
     "data": {
      "text/plain": [
       "1-element Array{Float64,1}:\n",
       " -0.35868217640842615"
      ]
     },
     "execution_count": 3,
     "metadata": {},
     "output_type": "execute_result"
    }
   ],
   "source": [
    "center(x)"
   ]
  },
  {
   "cell_type": "code",
   "execution_count": null,
   "metadata": {},
   "outputs": [],
   "source": [
    "IntervalArithmetic.mid(x.dat)"
   ]
  },
  {
   "cell_type": "code",
   "execution_count": 16,
   "metadata": {},
   "outputs": [
    {
     "data": {
      "text/plain": [
       "center2 (generic function with 1 method)"
      ]
     },
     "execution_count": 16,
     "metadata": {},
     "output_type": "execute_result"
    }
   ],
   "source": [
    "@inline function center2(x::Interval{N}, i::Int) where {N<:Real}\n",
    "     @boundscheck i == 1 || throw(ArgumentError(\"....\"))\n",
    "     return IntervalArithmetic.mid(x.dat)\n",
    "end"
   ]
  },
  {
   "cell_type": "code",
   "execution_count": 11,
   "metadata": {},
   "outputs": [
    {
     "data": {
      "text/plain": [
       "center0 (generic function with 1 method)"
      ]
     },
     "execution_count": 11,
     "metadata": {},
     "output_type": "execute_result"
    }
   ],
   "source": [
    "@inline function center0(x::Interval{N}, i::Int) where {N<:Real}\n",
    "    return center(x)[i]\n",
    "end"
   ]
  },
  {
   "cell_type": "code",
   "execution_count": 22,
   "metadata": {},
   "outputs": [
    {
     "ename": "ArgumentError",
     "evalue": "ArgumentError: ....",
     "output_type": "error",
     "traceback": [
      "ArgumentError: ....",
      "",
      "Stacktrace:",
      " [1] center2(::Interval{Float64,IntervalArithmetic.Interval{Float64}}, ::Int64) at ./In[16]:2",
      " [2] top-level scope at In[22]:1"
     ]
    }
   ],
   "source": [
    "@inbounds center2(x, 4)"
   ]
  },
  {
   "cell_type": "code",
   "execution_count": 21,
   "metadata": {},
   "outputs": [
    {
     "name": "stdout",
     "output_type": "stream",
     "text": [
      "  24.590 ns (1 allocation: 96 bytes)\n"
     ]
    },
    {
     "data": {
      "text/plain": [
       "-0.35868217640842615"
      ]
     },
     "execution_count": 21,
     "metadata": {},
     "output_type": "execute_result"
    }
   ],
   "source": [
    "@btime center0($x, 1)"
   ]
  },
  {
   "cell_type": "code",
   "execution_count": null,
   "metadata": {},
   "outputs": [],
   "source": []
  }
 ],
 "metadata": {
  "kernelspec": {
   "display_name": "Julia 1.4.0",
   "language": "julia",
   "name": "julia-1.4"
  },
  "language_info": {
   "file_extension": ".jl",
   "mimetype": "application/julia",
   "name": "julia",
   "version": "1.4.0"
  }
 },
 "nbformat": 4,
 "nbformat_minor": 2
}
