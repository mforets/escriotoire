{
 "cells": [
  {
   "cell_type": "code",
   "execution_count": 1,
   "metadata": {},
   "outputs": [],
   "source": [
    "using Revise, LazySets, Test, BenchmarkTools"
   ]
  },
  {
   "cell_type": "code",
   "execution_count": 2,
   "metadata": {},
   "outputs": [],
   "source": [
    "h = rand(Hyperrectangle)\n",
    "\n",
    "p = convert(HPolygon, h)\n",
    "\n",
    "#p = HPolygon([HalfSpace(Vector(c.a), c.b) for c in constraints_list(convert(HPolygon, h))])\n",
    "\n",
    "q = rand(HPolygon);"
   ]
  },
  {
   "cell_type": "code",
   "execution_count": 3,
   "metadata": {},
   "outputs": [
    {
     "data": {
      "text/plain": [
       "EmptySet{Float64}(2)"
      ]
     },
     "execution_count": 3,
     "metadata": {},
     "output_type": "execute_result"
    }
   ],
   "source": [
    "intersection(p, q)"
   ]
  },
  {
   "cell_type": "code",
   "execution_count": 4,
   "metadata": {},
   "outputs": [
    {
     "ename": "ErrorException",
     "evalue": "return type EmptySet{Float64} does not match inferred return type Union{EmptySet{Float64}, HPolygon}",
     "output_type": "error",
     "traceback": [
      "return type EmptySet{Float64} does not match inferred return type Union{EmptySet{Float64}, HPolygon}",
      "",
      "Stacktrace:",
      " [1] error(::String) at ./error.jl:33",
      " [2] top-level scope at In[4]:1"
     ]
    }
   ],
   "source": [
    "@inferred intersection(p, q)"
   ]
  },
  {
   "cell_type": "code",
   "execution_count": 7,
   "metadata": {},
   "outputs": [
    {
     "ename": "ErrorException",
     "evalue": "return type HPolygon{Float64,Array{Float64,1}} does not match inferred return type Union{HPolygon{Float64,LazySets.Arrays.SingleEntryVector{Float64}}, HPolygon{Float64,Array{Float64,1}}}",
     "output_type": "error",
     "traceback": [
      "return type HPolygon{Float64,Array{Float64,1}} does not match inferred return type Union{HPolygon{Float64,LazySets.Arrays.SingleEntryVector{Float64}}, HPolygon{Float64,Array{Float64,1}}}",
      "",
      "Stacktrace:",
      " [1] error(::String) at ./error.jl:33",
      " [2] top-level scope at In[7]:1"
     ]
    }
   ],
   "source": [
    "@inferred intersection2(p, q)"
   ]
  },
  {
   "cell_type": "code",
   "execution_count": 23,
   "metadata": {},
   "outputs": [
    {
     "data": {
      "text/plain": [
       "ff (generic function with 1 method)"
      ]
     },
     "execution_count": 23,
     "metadata": {},
     "output_type": "execute_result"
    }
   ],
   "source": [
    "function qq(z; prune=true)\n",
    "    if prune\n",
    "        remove_redundant_constraints!(z)\n",
    "        if isempty(z)\n",
    "            return EmptySet(2)\n",
    "        end\n",
    "    end\n",
    "    return z\n",
    "end\n",
    "\n",
    "function ff(p, q; prune=true)\n",
    "    z = intersection2(p, q)\n",
    "    qq(z, prune=prune)\n",
    "end"
   ]
  },
  {
   "cell_type": "code",
   "execution_count": 24,
   "metadata": {},
   "outputs": [
    {
     "ename": "ErrorException",
     "evalue": "return type EmptySet{Float64} does not match inferred return type Union{EmptySet{Float64}, HPolygon}",
     "output_type": "error",
     "traceback": [
      "return type EmptySet{Float64} does not match inferred return type Union{EmptySet{Float64}, HPolygon}",
      "",
      "Stacktrace:",
      " [1] error(::String) at ./error.jl:33",
      " [2] top-level scope at In[24]:1"
     ]
    }
   ],
   "source": [
    "@inferred ff(p, q)"
   ]
  },
  {
   "cell_type": "code",
   "execution_count": null,
   "metadata": {},
   "outputs": [],
   "source": [
    "@btime intersection($p, $q)"
   ]
  },
  {
   "cell_type": "code",
   "execution_count": null,
   "metadata": {},
   "outputs": [],
   "source": [
    "ppoly = HPolytope(p.constraints)\n",
    "qpoly = HPolytope(p.constraints)\n",
    "@btime intersection($ppoly, $qpoly)"
   ]
  },
  {
   "cell_type": "code",
   "execution_count": null,
   "metadata": {},
   "outputs": [],
   "source": [
    "@btime area(intersection2($p, $q))"
   ]
  },
  {
   "cell_type": "code",
   "execution_count": null,
   "metadata": {},
   "outputs": [],
   "source": [
    "@inferred intersection2(p, q)"
   ]
  },
  {
   "cell_type": "code",
   "execution_count": 6,
   "metadata": {},
   "outputs": [
    {
     "data": {
      "text/plain": [
       "intersection2 (generic function with 1 method)"
      ]
     },
     "execution_count": 6,
     "metadata": {},
     "output_type": "execute_result"
    }
   ],
   "source": [
    "# all constraints of one polygon are processed; now add the other polygon's\n",
    "# constraints\n",
    "@inline function add_remaining_constraints!(c, i, c1, i1, duplicates)\n",
    "    c[i+1:length(c)-duplicates] = c1[i1:length(c1)]\n",
    "    return true\n",
    "end\n",
    "\n",
    "# choose the constraint of c1; the directions are different\n",
    "@inline function choose_first_diff_dir!(c, i, i1, i2, c1, c2, duplicates)\n",
    "    c[i] = c1[i1]\n",
    "    if i1 == length(c1)\n",
    "        return add_remaining_constraints!(c, i, c2, i2, duplicates)\n",
    "    end\n",
    "    return false\n",
    "end\n",
    "\n",
    "# choose the constraint of c1; the directions are equivalent (i.e., linearly\n",
    "# dependent)\n",
    "@inline function choose_first_same_dir!(c, i, i1, i2, c1, c2, duplicates)\n",
    "    c[i] = c1[i1]\n",
    "    if i1 == length(c1)\n",
    "        if i2 < length(c2)\n",
    "            return add_remaining_constraints!(c, i, c2, i2+1, duplicates)\n",
    "        end\n",
    "        return true\n",
    "    elseif i2 == length(c2)\n",
    "        return add_remaining_constraints!(c, i, c1, i1+1, duplicates)\n",
    "    end\n",
    "    return false\n",
    "end\n",
    "\n",
    "function intersection2(P1::HPolygon{N, VN}, P2::HPolygon{N, UN}) where {N<:Real, VN, UN}\n",
    "    \n",
    "    c1 = constraints_list(P1)\n",
    "    c2 = constraints_list(P2)\n",
    "    \n",
    "    \n",
    "    if isempty(c1)\n",
    "       return P2\n",
    "    elseif isempty(c2)\n",
    "        return P1\n",
    "    end\n",
    "    \n",
    "    \n",
    "    # TODO: use common vector type of P1 and P2, see #2046\n",
    "    c = Vector{LinearConstraint{N, Vector{N}}}(undef, length(c1) + length(c2))\n",
    "    i1 = 1\n",
    "    i2 = 1\n",
    "    duplicates = 0\n",
    "    for i in 1:length(c)\n",
    "        if c1[i1].a <= c2[i2].a\n",
    "            if c2[i2].a <= c1[i1].a\n",
    "                duplicates += 1\n",
    "                # constraints have the same normal vector: take the tighter one\n",
    "                if is_tighter_same_dir_2D(c1[i1], c2[i2])\n",
    "                    # first constraint is tighter\n",
    "                    if choose_first_same_dir!(c, i, i1, i2, c1, c2, duplicates)\n",
    "                        break\n",
    "                    end\n",
    "                else\n",
    "                    # second constraint is tighter\n",
    "                    if choose_first_same_dir!(c, i, i2, i1, c2, c1, duplicates)\n",
    "                        break\n",
    "                    end\n",
    "                end\n",
    "                i1 += 1\n",
    "                i2 += 1\n",
    "            else\n",
    "                # first constraint comes first\n",
    "                if choose_first_diff_dir!(c, i, i1, i2, c1, c2, duplicates)\n",
    "                    break\n",
    "                end\n",
    "                i1 += 1\n",
    "            end\n",
    "        else\n",
    "            # second constraint comes first\n",
    "            if choose_first_diff_dir!(c, i, i2, i1, c2, c1, duplicates)\n",
    "                break\n",
    "            end\n",
    "            i2 += 1\n",
    "        end\n",
    "    end\n",
    "    if duplicates > 0\n",
    "        deleteat!(c, length(c)-duplicates+1:length(c))\n",
    "    end\n",
    "\n",
    "    P = HPolygon(c, sort_constraints=false)\n",
    "    #return P\n",
    "    #if prune\n",
    "        #remove_redundant_constraints!(P)\n",
    "    #    return EmptySet{N}(2)\n",
    "        \n",
    "     #   if isempty(P)\n",
    "      #      return EmptySet{N}(2)\n",
    "      #  end\n",
    "    #end\n",
    "    return P\n",
    "end"
   ]
  },
  {
   "cell_type": "code",
   "execution_count": null,
   "metadata": {},
   "outputs": [],
   "source": [
    "@which remove_redundant_constraints!(p)"
   ]
  },
  {
   "cell_type": "code",
   "execution_count": null,
   "metadata": {},
   "outputs": [],
   "source": []
  },
  {
   "cell_type": "code",
   "execution_count": null,
   "metadata": {},
   "outputs": [],
   "source": [
    "z = HPolygon(constraints_list(rand(2, 2) * rand(HPolygon)), sort_constraints = true, prune = false, check_boundedness = false)"
   ]
  },
  {
   "cell_type": "code",
   "execution_count": null,
   "metadata": {},
   "outputs": [],
   "source": [
    "@inferred intersection(p, q)"
   ]
  },
  {
   "cell_type": "code",
   "execution_count": null,
   "metadata": {},
   "outputs": [],
   "source": [
    "@inferred area(intersection(p, q))"
   ]
  },
  {
   "cell_type": "code",
   "execution_count": null,
   "metadata": {},
   "outputs": [],
   "source": [
    "function intersection_area(X::AbstractHyperrectangle{N},\n",
    "    Y::LinearMap{N,<:AbstractHyperrectangle{N}}) where {N}\n",
    "\n",
    "    #X_clist = X |> constraints_list\n",
    "    #X_poly = HPolygon(X_clist, sort_constraints = true, prune = false, check_boundedness = false)\n",
    "    X_poly = HPolygon([HalfSpace(Vector(c.a), c.b) for c in constraints_list(convert(HPolygon, X))])\n",
    "    \n",
    "    Y_clist = linear_map(matrix(Y), set(Y)) |> constraints_list\n",
    "    Y_poly = HPolygon(Y_clist, sort_constraints = true, prune = false, check_boundedness = false)\n",
    "\n",
    "    #println(typeof(X_poly))\n",
    "    #println(typeof(Y_poly))\n",
    "    \n",
    "    intersection(X_poly, Y_poly) |> area\n",
    "#    return _intersection_area(X_poly, Y_poly)\n",
    "end\n",
    "\n",
    "_intersection_area(p, q) = area(intersection(p, q))"
   ]
  },
  {
   "cell_type": "code",
   "execution_count": null,
   "metadata": {},
   "outputs": [],
   "source": [
    "X = rand(Hyperrectangle)\n",
    "Y = rand(2, 2) * rand(Hyperrectangle);"
   ]
  },
  {
   "cell_type": "code",
   "execution_count": null,
   "metadata": {},
   "outputs": [],
   "source": [
    "@btime intersection_area($X, $Y)"
   ]
  },
  {
   "cell_type": "code",
   "execution_count": null,
   "metadata": {},
   "outputs": [],
   "source": [
    "@btime convert(HPolygon, $X)"
   ]
  },
  {
   "cell_type": "code",
   "execution_count": null,
   "metadata": {},
   "outputs": [],
   "source": [
    "@btime HPolygon(constraints_list($X), sort_constraints = true, prune = false, check_boundedness = false)"
   ]
  },
  {
   "cell_type": "code",
   "execution_count": null,
   "metadata": {},
   "outputs": [],
   "source": []
  },
  {
   "cell_type": "code",
   "execution_count": null,
   "metadata": {},
   "outputs": [],
   "source": [
    "LazySets.vertices_list(::EmptySet{N}) where {N} = N[]"
   ]
  },
  {
   "cell_type": "code",
   "execution_count": null,
   "metadata": {},
   "outputs": [],
   "source": [
    "LazySets.area(::EmptySet{N}) where {N} = zero(N)"
   ]
  },
  {
   "cell_type": "code",
   "execution_count": null,
   "metadata": {},
   "outputs": [],
   "source": [
    "@btime intersection_area($H, $X)"
   ]
  },
  {
   "cell_type": "code",
   "execution_count": null,
   "metadata": {},
   "outputs": [],
   "source": [
    "function f(p, q)\n",
    "    return area(intersection(p, q))\n",
    "end"
   ]
  },
  {
   "cell_type": "code",
   "execution_count": null,
   "metadata": {},
   "outputs": [],
   "source": [
    "@inferred f(p, q)"
   ]
  },
  {
   "cell_type": "code",
   "execution_count": null,
   "metadata": {},
   "outputs": [],
   "source": []
  }
 ],
 "metadata": {
  "kernelspec": {
   "display_name": "Julia 1.4.0",
   "language": "julia",
   "name": "julia-1.4"
  },
  "language_info": {
   "file_extension": ".jl",
   "mimetype": "application/julia",
   "name": "julia",
   "version": "1.4.0"
  }
 },
 "nbformat": 4,
 "nbformat_minor": 2
}
