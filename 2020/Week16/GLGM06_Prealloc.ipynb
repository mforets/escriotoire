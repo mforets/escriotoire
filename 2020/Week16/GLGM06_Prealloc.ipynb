{
 "cells": [
  {
   "cell_type": "code",
   "execution_count": null,
   "metadata": {},
   "outputs": [],
   "source": [
    "using Revise, LazySets, Test, BenchmarkTools "
   ]
  },
  {
   "cell_type": "code",
   "execution_count": null,
   "metadata": {},
   "outputs": [],
   "source": [
    "Z = rand(Zonotope, num_generators=30)"
   ]
  },
  {
   "cell_type": "code",
   "execution_count": null,
   "metadata": {},
   "outputs": [],
   "source": [
    "order(Z)"
   ]
  },
  {
   "cell_type": "code",
   "execution_count": null,
   "metadata": {},
   "outputs": [],
   "source": [
    "X = reduce_order(Z, 3)"
   ]
  },
  {
   "cell_type": "code",
   "execution_count": null,
   "metadata": {},
   "outputs": [],
   "source": [
    "order(X)"
   ]
  },
  {
   "cell_type": "code",
   "execution_count": null,
   "metadata": {},
   "outputs": [],
   "source": [
    "X.generators"
   ]
  },
  {
   "cell_type": "code",
   "execution_count": null,
   "metadata": {},
   "outputs": [],
   "source": [
    "Z.generators"
   ]
  },
  {
   "cell_type": "markdown",
   "metadata": {},
   "source": [
    "---"
   ]
  },
  {
   "cell_type": "code",
   "execution_count": 1,
   "metadata": {},
   "outputs": [
    {
     "name": "stderr",
     "output_type": "stream",
     "text": [
      "┌ Info: Precompiling ReachabilityAnalysis [1e97bd63-91d1-579d-8e8d-501d2b57c93f]\n",
      "└ @ Base loading.jl:1260\n"
     ]
    },
    {
     "data": {
      "text/plain": [
       "ReachabilityAnalysis"
      ]
     },
     "execution_count": 1,
     "metadata": {},
     "output_type": "execute_result"
    }
   ],
   "source": [
    "using Revise, ReachabilityAnalysis, Test, BenchmarkTools\n",
    "const RA = ReachabilityAnalysis"
   ]
  },
  {
   "cell_type": "code",
   "execution_count": 13,
   "metadata": {},
   "outputs": [],
   "source": [
    "include(\"/home/mforets/.julia/dev/ReachabilityAnalysis/test/models/linear/motor.jl\")\n",
    "\n",
    "prob, tspan = motor_homog();\n",
    "A = state_matrix(prob)\n",
    "X0 = initial_state(prob)\n",
    "probIM = @ivp(x' = IntervalMatrix(A) *x, x(0) ∈ X0);"
   ]
  },
  {
   "cell_type": "code",
   "execution_count": 17,
   "metadata": {},
   "outputs": [],
   "source": [
    "sol = solve(probIM, (0.0, 1.0), ASB07(δ=1e-3, max_order=3));"
   ]
  },
  {
   "cell_type": "code",
   "execution_count": null,
   "metadata": {},
   "outputs": [],
   "source": []
  },
  {
   "cell_type": "code",
   "execution_count": null,
   "metadata": {},
   "outputs": [],
   "source": [
    "\n",
    "\n",
    "@inferred solve(prob, (0.0, 1.0), GLGM06(δ=1e-3, max_order=3));"
   ]
  },
  {
   "cell_type": "code",
   "execution_count": null,
   "metadata": {},
   "outputs": [],
   "source": [
    "versioninfo()"
   ]
  },
  {
   "cell_type": "code",
   "execution_count": null,
   "metadata": {},
   "outputs": [],
   "source": [
    "include(\"/home/mforets/.julia/dev/ReachabilityAnalysis/test/models/linear/exponential1D.jl\")\n",
    "prob, tspan = exponential_1d()\n",
    "@inferred solve(prob, (0.0, 1.0), INT(δ=1e-3));"
   ]
  },
  {
   "cell_type": "code",
   "execution_count": null,
   "metadata": {},
   "outputs": [],
   "source": [
    "@btime solve($prob, (0.0, 1.0), INT(δ=0.01));"
   ]
  },
  {
   "cell_type": "code",
   "execution_count": null,
   "metadata": {},
   "outputs": [],
   "source": [
    "@inferred solve(prob, (0.0, 1.0));"
   ]
  },
  {
   "cell_type": "code",
   "execution_count": null,
   "metadata": {},
   "outputs": [],
   "source": [
    "@btime solve($prob, (0.0, 1.0));"
   ]
  },
  {
   "cell_type": "code",
   "execution_count": null,
   "metadata": {},
   "outputs": [],
   "source": [
    "sol = solve(prob, (0.0, 1.0))\n",
    "sol.alg"
   ]
  },
  {
   "cell_type": "code",
   "execution_count": null,
   "metadata": {},
   "outputs": [],
   "source": [
    "@btime solve($prob, (0.0, 1.0), GLGM06(δ=1e-3, max_order=3));"
   ]
  },
  {
   "cell_type": "code",
   "execution_count": null,
   "metadata": {},
   "outputs": [],
   "source": [
    "using Test\n",
    "\n",
    "@inferred solve(prob, (0.0, 0.1), GLGM06(δ=1e-3, max_order=3));"
   ]
  },
  {
   "cell_type": "code",
   "execution_count": null,
   "metadata": {},
   "outputs": [],
   "source": [
    "reduce_order(rand(Zonotope), num_)"
   ]
  },
  {
   "cell_type": "code",
   "execution_count": null,
   "metadata": {},
   "outputs": [],
   "source": []
  },
  {
   "cell_type": "code",
   "execution_count": null,
   "metadata": {},
   "outputs": [],
   "source": []
  },
  {
   "cell_type": "code",
   "execution_count": null,
   "metadata": {},
   "outputs": [],
   "source": [
    "ivp_norm = RA._normalize(probIM);\n",
    "ivp_discr = RA.discretize(ivp_norm, sol.alg.δ, sol.alg.approx_model);\n",
    "\n",
    "Φ = state_matrix(ivp_discr)\n",
    "Ω0 = initial_state(ivp_discr)\n",
    "X = stateset(ivp_discr);"
   ]
  },
  {
   "cell_type": "code",
   "execution_count": null,
   "metadata": {},
   "outputs": [],
   "source": [
    "# split the interval matrix into center and radius\n",
    "Φc, Φs = RA._split(Φ);"
   ]
  },
  {
   "cell_type": "code",
   "execution_count": null,
   "metadata": {},
   "outputs": [],
   "source": [
    "δ = sol.alg.δ\n",
    "N = Float64\n",
    "Δt = zero(N) .. δ\n",
    "F1 = ReachSet(Ω0, Δt);\n",
    "Zk = set(F1);"
   ]
  },
  {
   "cell_type": "code",
   "execution_count": null,
   "metadata": {},
   "outputs": [],
   "source": [
    "Rₖ = RA._overapproximate_interval_linear_map(Φc, Φs, Zk.center, Zk.generators)"
   ]
  },
  {
   "cell_type": "code",
   "execution_count": null,
   "metadata": {},
   "outputs": [],
   "source": [
    "size(Ω0.generators)"
   ]
  },
  {
   "cell_type": "code",
   "execution_count": null,
   "metadata": {},
   "outputs": [],
   "source": [
    "size(Rₖ.generators)"
   ]
  },
  {
   "cell_type": "code",
   "execution_count": null,
   "metadata": {},
   "outputs": [],
   "source": [
    "sol.alg.max_order"
   ]
  },
  {
   "cell_type": "code",
   "execution_count": null,
   "metadata": {},
   "outputs": [],
   "source": [
    "Rkred = RA._reduce_order(Rₖ, 3)"
   ]
  },
  {
   "cell_type": "code",
   "execution_count": null,
   "metadata": {},
   "outputs": [],
   "source": [
    "size(Ω0.generators)\n",
    "order(Ω0) * 1.0"
   ]
  },
  {
   "cell_type": "code",
   "execution_count": null,
   "metadata": {},
   "outputs": [],
   "source": [
    "order(Rₖ) * 1.0"
   ]
  },
  {
   "cell_type": "code",
   "execution_count": null,
   "metadata": {},
   "outputs": [],
   "source": [
    "size(Rₖ.generators)"
   ]
  },
  {
   "cell_type": "code",
   "execution_count": null,
   "metadata": {},
   "outputs": [],
   "source": [
    "size(Rkred.generators)\n",
    "order(Rkred) * 1.0"
   ]
  },
  {
   "cell_type": "code",
   "execution_count": null,
   "metadata": {},
   "outputs": [],
   "source": [
    "Rkred = reduce_order(Rₖ, 3);"
   ]
  },
  {
   "cell_type": "code",
   "execution_count": null,
   "metadata": {},
   "outputs": [],
   "source": [
    "size(Rkred.generators)\n",
    "order(Rkred) * 1.0"
   ]
  },
  {
   "cell_type": "code",
   "execution_count": null,
   "metadata": {},
   "outputs": [],
   "source": [
    "    \n",
    "    @inbounds F[1] = ReachSet(Ω0, Δt)\n",
    "\n",
    "\n",
    "    k = 1\n",
    "    @inbounds while k <= NSTEPS - 1\n",
    "        Zk = set(F[k])\n",
    "        ck = Zk.center\n",
    "        Gk = Zk.generators\n",
    "        Rₖ = _overapproximate_interval_linear_map(Φc, Φs, ck, Gk)\n",
    "        Rₖ = _reduce_order(Rₖ, max_order)\n",
    "        println(\"k = $k, order = $(order(Rₖ))\")\n",
    "        Δt += δ\n",
    "        k += 1\n",
    "        F[k] = ReachSet(Rₖ, Δt)\n",
    "    end"
   ]
  },
  {
   "cell_type": "code",
   "execution_count": null,
   "metadata": {},
   "outputs": [],
   "source": []
  },
  {
   "cell_type": "code",
   "execution_count": null,
   "metadata": {},
   "outputs": [],
   "source": [
    "\n",
    "# true <=> there is no input, i.e. the system is of the form x' = Ax, x ∈ X\n",
    "got_homogeneous = !hasinput(ivp_discr)\n",
    "\n",
    "# this algorithm requires Ω0 to be a zonotope\n",
    "Ω0 = _convert_or_overapproximate(Zonotope, Ω0)\n",
    "Ω0 = _reduce_order(Ω0, max_order)"
   ]
  },
  {
   "cell_type": "code",
   "execution_count": null,
   "metadata": {},
   "outputs": [],
   "source": []
  },
  {
   "cell_type": "code",
   "execution_count": null,
   "metadata": {},
   "outputs": [],
   "source": [
    "Φc, Φs = RA._split(Φ)"
   ]
  },
  {
   "cell_type": "code",
   "execution_count": null,
   "metadata": {},
   "outputs": [],
   "source": []
  },
  {
   "cell_type": "code",
   "execution_count": null,
   "metadata": {},
   "outputs": [],
   "source": []
  },
  {
   "cell_type": "code",
   "execution_count": null,
   "metadata": {},
   "outputs": [],
   "source": [
    "order(set(sol[2]))"
   ]
  },
  {
   "cell_type": "code",
   "execution_count": null,
   "metadata": {},
   "outputs": [],
   "source": []
  },
  {
   "cell_type": "code",
   "execution_count": null,
   "metadata": {},
   "outputs": [],
   "source": [
    "RA.probIM.s"
   ]
  },
  {
   "cell_type": "code",
   "execution_count": null,
   "metadata": {},
   "outputs": [],
   "source": [
    "\n"
   ]
  },
  {
   "cell_type": "code",
   "execution_count": null,
   "metadata": {},
   "outputs": [],
   "source": [
    "maximum([order(set(sol[i])) for i in 1:length(sol)])"
   ]
  },
  {
   "cell_type": "code",
   "execution_count": 18,
   "metadata": {},
   "outputs": [],
   "source": [
    "include(\"/home/mforets/.julia/dev/ReachabilityAnalysis/test/models/linear/motor.jl\")\n",
    "\n",
    "prob, tspan = motor_homog();\n",
    "A = state_matrix(prob)\n",
    "X0 = initial_state(prob)\n",
    "probIM = @ivp(x' = IntervalMatrix(A) *x, x(0) ∈ X0);"
   ]
  },
  {
   "cell_type": "code",
   "execution_count": null,
   "metadata": {},
   "outputs": [],
   "source": []
  },
  {
   "cell_type": "code",
   "execution_count": 53,
   "metadata": {},
   "outputs": [
    {
     "data": {
      "text/plain": [
       "reach_homog_GLGM06_v2! (generic function with 1 method)"
      ]
     },
     "execution_count": 53,
     "metadata": {},
     "output_type": "execute_result"
    }
   ],
   "source": [
    "function reach_homog_GLGM06!(F::Vector{ReachSet{N, Zonotope{N, VN, MN}}},\n",
    "                             Ω0::Zonotope{N, VN, MN},\n",
    "                             Φ::AbstractMatrix,\n",
    "                             NSTEPS::Integer,\n",
    "                             δ::Float64,\n",
    "                             max_order::Integer,\n",
    "                             X::Universe) where {N, VN, MN}\n",
    "\n",
    "    # initial reach set\n",
    "    Δt = zero(N) .. δ\n",
    "    @inbounds F[1] = ReachSet(Ω0, Δt)\n",
    "\n",
    "    k = 2\n",
    "    @inbounds while k <= NSTEPS\n",
    "        Rₖ = RA._linear_map(Φ, set(F[k-1]))\n",
    "        Δt += δ\n",
    "        F[k] = ReachSet(Rₖ, Δt)\n",
    "        k += 1\n",
    "    end\n",
    "    return F\n",
    "end\n",
    "\n",
    "function reach_homog_GLGM06_v2!(F::Vector{ReachSet{N, Zonotope{N, VN, MN}}},\n",
    "                             Ω0::Zonotope{N, VN, MN},\n",
    "                             Φ::AbstractMatrix,\n",
    "                             NSTEPS::Integer,\n",
    "                             δ::Float64,\n",
    "                             max_order::Integer,\n",
    "                             X::Universe) where {N, VN, MN}\n",
    "    \n",
    "    # initial reach set\n",
    "    Δt = zero(N) .. δ\n",
    "    @inbounds F[1] = ReachSet(Ω0, Δt)\n",
    "\n",
    "    n, p = size(Ω0.generators)\n",
    "\n",
    "    # preallocate output\n",
    "    Zout = Vector{Zonotope{N, Vector{N}, Matrix{N}}}(undef, NSTEPS)\n",
    "    Zout[1] = Ω0\n",
    "    @inbounds for i in 2:NSTEPS\n",
    "        c = Vector{N}(undef, n)\n",
    "        G = Matrix{N}(undef, n, p)\n",
    "        Zout[i] = Zonotope(c, G)\n",
    "    end\n",
    "\n",
    "    k = 2\n",
    "    @inbounds while k <= NSTEPS\n",
    "        RA._linear_map!(Zout[k], Φ, Zout[k-1])\n",
    "        Δt += δ\n",
    "        F[k] = ReachSet(Zout[k], Δt)\n",
    "        k += 1\n",
    "    end\n",
    "    return F\n",
    "end"
   ]
  },
  {
   "cell_type": "code",
   "execution_count": null,
   "metadata": {},
   "outputs": [],
   "source": [
    "post(GLGM06(δ=0.01), prob, tspan)"
   ]
  },
  {
   "cell_type": "code",
   "execution_count": 47,
   "metadata": {},
   "outputs": [
    {
     "data": {
      "text/plain": [
       "post2 (generic function with 1 method)"
      ]
     },
     "execution_count": 47,
     "metadata": {},
     "output_type": "execute_result"
    }
   ],
   "source": [
    "using Parameters\n",
    "\n",
    "function post(alg::GLGM06, ivp::IVP{<:AbstractContinuousSystem}, tspan)\n",
    "\n",
    "    @unpack δ, approx_model, max_order = alg\n",
    "\n",
    "    # get time horizon from the time span imposing that it is of the form (0, T)\n",
    "    T = RA._get_T(tspan, check_zero=true, check_positive=true)\n",
    "    NSTEPS = ceil(Int, T / δ)\n",
    "\n",
    "    # normalize system to canonical form\n",
    "    ivp_norm = RA._normalize(ivp)\n",
    "\n",
    "    # discretize system\n",
    "    ivp_discr = RA.discretize(ivp_norm, δ, approx_model)\n",
    "    Φ = state_matrix(ivp_discr)\n",
    "    Ω0 = initial_state(ivp_discr)\n",
    "    X = stateset(ivp_discr)\n",
    "\n",
    "    # this algorithm requires Ω0 to be a zonotope\n",
    "    Ω0 = RA._convert_or_overapproximate(Zonotope, Ω0)\n",
    "    Ω0 = RA._reduce_order_GIR05(Ω0, max_order)\n",
    "\n",
    "    # reconvert the set of initial states and state matrix, if needed\n",
    "    static = alg.static\n",
    "    Ω0 = RA._reconvert(Ω0, Val(static))\n",
    "    Φ = RA._reconvert(Φ, Val(static))\n",
    "\n",
    "    # preallocate output flowpipe\n",
    "    N = eltype(Ω0)\n",
    "    ZT = typeof(Ω0)\n",
    "    F = Vector{ReachSet{N, ZT}}(undef, NSTEPS)\n",
    "\n",
    "    reach_homog_GLGM06!(F, Ω0, Φ, NSTEPS, δ, max_order, X)\n",
    "    return Flowpipe(F)\n",
    "end\n",
    "\n",
    "function post2(alg::GLGM06, ivp::IVP{<:AbstractContinuousSystem}, tspan)\n",
    "\n",
    "    @unpack δ, approx_model, max_order = alg\n",
    "\n",
    "    # get time horizon from the time span imposing that it is of the form (0, T)\n",
    "    T = RA._get_T(tspan, check_zero=true, check_positive=true)\n",
    "    NSTEPS = ceil(Int, T / δ)\n",
    "\n",
    "    # normalize system to canonical form\n",
    "    ivp_norm = RA._normalize(ivp)\n",
    "\n",
    "    # discretize system\n",
    "    ivp_discr = RA.discretize(ivp_norm, δ, approx_model)\n",
    "    Φ = state_matrix(ivp_discr)\n",
    "    Ω0 = initial_state(ivp_discr)\n",
    "    X = stateset(ivp_discr)\n",
    "\n",
    "    # this algorithm requires Ω0 to be a zonotope\n",
    "    Ω0 = RA._convert_or_overapproximate(Zonotope, Ω0)\n",
    "    Ω0 = RA._reduce_order_GIR05(Ω0, max_order)\n",
    "\n",
    "    # reconvert the set of initial states and state matrix, if needed\n",
    "    static = alg.static\n",
    "    Ω0 = RA._reconvert(Ω0, Val(static))\n",
    "    Φ = RA._reconvert(Φ, Val(static))\n",
    "\n",
    "    # preallocate output flowpipe\n",
    "    N = eltype(Ω0)\n",
    "    ZT = typeof(Ω0)\n",
    "    F = Vector{ReachSet{N, ZT}}(undef, NSTEPS)\n",
    "\n",
    "    reach_homog_GLGM06_v2!(F, Ω0, Φ, NSTEPS, δ, max_order, X)\n",
    "    return Flowpipe(F)\n",
    "end"
   ]
  },
  {
   "cell_type": "code",
   "execution_count": 42,
   "metadata": {},
   "outputs": [
    {
     "data": {
      "text/plain": [
       "[0, 20]"
      ]
     },
     "execution_count": 42,
     "metadata": {},
     "output_type": "execute_result"
    }
   ],
   "source": [
    "alg = GLGM06(δ=1e-3)\n",
    "tspan = RA.TimeInterval(0.0, 20.0)"
   ]
  },
  {
   "cell_type": "code",
   "execution_count": 43,
   "metadata": {},
   "outputs": [
    {
     "ename": "ErrorException",
     "evalue": "return type Flowpipe{Float64,ReachSet{Float64,Zonotope{Float64,Array{Float64,1},Array{Float64,2}}}} does not match inferred return type Flowpipe",
     "output_type": "error",
     "traceback": [
      "return type Flowpipe{Float64,ReachSet{Float64,Zonotope{Float64,Array{Float64,1},Array{Float64,2}}}} does not match inferred return type Flowpipe",
      "",
      "Stacktrace:",
      " [1] error(::String) at ./error.jl:33",
      " [2] top-level scope at In[43]:1"
     ]
    }
   ],
   "source": [
    "@inferred post(alg, prob, tspan)"
   ]
  },
  {
   "cell_type": "code",
   "execution_count": 46,
   "metadata": {},
   "outputs": [
    {
     "data": {
      "text/plain": [
       "BenchmarkTools.Trial: \n",
       "  memory estimate:  16.20 MiB\n",
       "  allocs estimate:  80291\n",
       "  --------------\n",
       "  minimum time:     50.192 ms (0.00% GC)\n",
       "  median time:      65.423 ms (0.00% GC)\n",
       "  mean time:        70.957 ms (4.80% GC)\n",
       "  maximum time:     149.083 ms (14.80% GC)\n",
       "  --------------\n",
       "  samples:          71\n",
       "  evals/sample:     1"
      ]
     },
     "execution_count": 46,
     "metadata": {},
     "output_type": "execute_result"
    }
   ],
   "source": [
    "@benchmark post($alg, $prob, $tspan) # using _linear_map"
   ]
  },
  {
   "cell_type": "code",
   "execution_count": 55,
   "metadata": {},
   "outputs": [
    {
     "data": {
      "text/plain": [
       "ReachSet{Float64,Zonotope{Float64,Array{Float64,1},Array{Float64,2}}}(Zonotope{Float64,Array{Float64,1},Array{Float64,2}}([1.314e-321, -2.9e-322, -1.5e-323, -2.5e-323, 7.95e-322, -1.023e-321, -1.0e-323, -1.5e-323], [1.8072189437198342e-31 0.0 … 0.0 0.0; -0.0 3.0e-323 … 0.0 0.0; … ; 0.0 0.0 … 0.0 -0.0; 0.0 0.0 … 0.0 3.1433903644581805e-7]), [19.9989, 20.0001])"
      ]
     },
     "execution_count": 55,
     "metadata": {},
     "output_type": "execute_result"
    }
   ],
   "source": [
    "post2(alg, prob, tspan)[end]"
   ]
  },
  {
   "cell_type": "code",
   "execution_count": 56,
   "metadata": {},
   "outputs": [
    {
     "data": {
      "text/plain": [
       "ReachSet{Float64,Zonotope{Float64,Array{Float64,1},Array{Float64,2}}}(Zonotope{Float64,Array{Float64,1},Array{Float64,2}}([1.314e-321, -2.9e-322, -1.5e-323, -2.5e-323, 7.95e-322, -1.023e-321, -1.0e-323, -1.5e-323], [2.47e-322 -1.84e-321 … 0.0 0.0; 2.01e-321 1.83e-322 … 0.0 0.0; … ; 0.0 0.0 … 1.0e-323 1.0e-323; 0.0 0.0 … 2.0e-323 2.0e-323]), [19.9989, 20.0001])"
      ]
     },
     "execution_count": 56,
     "metadata": {},
     "output_type": "execute_result"
    }
   ],
   "source": [
    "post(alg, prob, tspan)[end]"
   ]
  },
  {
   "cell_type": "code",
   "execution_count": 57,
   "metadata": {},
   "outputs": [
    {
     "data": {
      "text/plain": [
       "BenchmarkTools.Trial: \n",
       "  memory estimate:  19.10 MiB\n",
       "  allocs estimate:  100292\n",
       "  --------------\n",
       "  minimum time:     21.078 ms (0.00% GC)\n",
       "  median time:      27.629 ms (0.00% GC)\n",
       "  mean time:        31.960 ms (14.02% GC)\n",
       "  maximum time:     81.638 ms (30.93% GC)\n",
       "  --------------\n",
       "  samples:          157\n",
       "  evals/sample:     1"
      ]
     },
     "execution_count": 57,
     "metadata": {},
     "output_type": "execute_result"
    }
   ],
   "source": [
    "@benchmark post2($alg, $prob, $tspan) # using inplace _linear_map!"
   ]
  },
  {
   "cell_type": "code",
   "execution_count": 60,
   "metadata": {},
   "outputs": [
    {
     "data": {
      "text/plain": [
       "GLGM06{Float64,Forward}\n",
       "  δ: Float64 0.001\n",
       "  approx_model: Forward\n",
       "  max_order: Int64 1\n",
       "  static: Bool false\n"
      ]
     },
     "execution_count": 60,
     "metadata": {},
     "output_type": "execute_result"
    }
   ],
   "source": [
    "alg = GLGM06(δ=1e-3, max_order=1)"
   ]
  },
  {
   "cell_type": "code",
   "execution_count": 61,
   "metadata": {},
   "outputs": [
    {
     "name": "stdout",
     "output_type": "stream",
     "text": [
      "  19.632 ms (100292 allocations: 19.10 MiB)\n"
     ]
    }
   ],
   "source": [
    "@btime post2($alg, $prob, $tspan);"
   ]
  },
  {
   "cell_type": "code",
   "execution_count": 62,
   "metadata": {},
   "outputs": [
    {
     "name": "stdout",
     "output_type": "stream",
     "text": [
      "  33.054 ms (80291 allocations: 16.20 MiB)\n"
     ]
    }
   ],
   "source": [
    "@btime post($alg, $prob, $tspan);"
   ]
  },
  {
   "cell_type": "code",
   "execution_count": null,
   "metadata": {},
   "outputs": [],
   "source": []
  }
 ],
 "metadata": {
  "kernelspec": {
   "display_name": "Julia 1.4.0",
   "language": "julia",
   "name": "julia-1.4"
  },
  "language_info": {
   "file_extension": ".jl",
   "mimetype": "application/julia",
   "name": "julia",
   "version": "1.4.0"
  }
 },
 "nbformat": 4,
 "nbformat_minor": 2
}
