{
 "cells": [
  {
   "cell_type": "code",
   "execution_count": 58,
   "metadata": {},
   "outputs": [],
   "source": [
    "using Revise, LazySets"
   ]
  },
  {
   "cell_type": "markdown",
   "metadata": {},
   "source": [
    "## Idea"
   ]
  },
  {
   "cell_type": "code",
   "execution_count": null,
   "metadata": {},
   "outputs": [],
   "source": [
    "### Signatures:\n",
    "\n",
    "```\n",
    "function overapproximate(r::Rectification{N, ZT}, ::Type{<:Zonotope}) where {N, ZT<:AbstractZonotope{N}}\n",
    "   ...\n",
    "end\n",
    "```\n",
    "\n",
    "```\n",
    "function overapproximate!(r::Rectification{N, ZT}, Zout::Zonotope{N}, ::Type{<:Zonotope}) where {N, ZT<:AbstractZonotope{N}}\n",
    "   ...\n",
    "end\n",
    "```"
   ]
  },
  {
   "cell_type": "code",
   "execution_count": 3,
   "metadata": {},
   "outputs": [
    {
     "data": {
      "text/plain": [
       "Rectification{Float64,Zonotope{Float64,Array{Float64,1},Array{Float64,2}}}(Zonotope{Float64,Array{Float64,1},Array{Float64,2}}([-0.6574585874306136, 0.7654088848008658], [-0.4265028103350649 -1.5366076678870937 0.04633699523455334 -0.9653325008567981; 0.12684187980863493 -0.15352687306547236 1.4104921471862892 0.43648240351708767]), LazySets.RectificationCache{Float64}(nothing, false))"
      ]
     },
     "execution_count": 3,
     "metadata": {},
     "output_type": "execute_result"
    }
   ],
   "source": [
    "Z = rand(Zonotope)\n",
    "r = Rectification(Z)"
   ]
  },
  {
   "cell_type": "code",
   "execution_count": 5,
   "metadata": {},
   "outputs": [
    {
     "data": {
      "text/plain": [
       "Zonotope{Float64,Array{Float64,1},Array{Float64,2}}([-0.6574585874306136, 0.7654088848008658], [-0.4265028103350649 -1.5366076678870937 0.04633699523455334 -0.9653325008567981; 0.12684187980863493 -0.15352687306547236 1.4104921471862892 0.43648240351708767])"
      ]
     },
     "execution_count": 5,
     "metadata": {},
     "output_type": "execute_result"
    }
   ],
   "source": [
    "r.X"
   ]
  },
  {
   "cell_type": "markdown",
   "metadata": {},
   "source": [
    "## Example: modifying a matrix row in-place"
   ]
  },
  {
   "cell_type": "code",
   "execution_count": 11,
   "metadata": {},
   "outputs": [
    {
     "data": {
      "text/plain": [
       "zero_row_v2 (generic function with 1 method)"
      ]
     },
     "execution_count": 11,
     "metadata": {},
     "output_type": "execute_result"
    }
   ],
   "source": [
    "function zero_row_v1(M::Matrix{N}, i) where {N}\n",
    "    n = size(M, 2)\n",
    "    M[i, :] = zeros(N, n)\n",
    "    return M\n",
    "end\n",
    "\n",
    "function zero_row_v2(M::Matrix{N}, i) where {N}\n",
    "    n = size(M, 2)\n",
    "    for j in 1:n\n",
    "        M[i, j] = zero(N)\n",
    "    end\n",
    "    return M\n",
    "end"
   ]
  },
  {
   "cell_type": "code",
   "execution_count": 14,
   "metadata": {},
   "outputs": [],
   "source": [
    "M = rand(5, 5);"
   ]
  },
  {
   "cell_type": "code",
   "execution_count": 18,
   "metadata": {},
   "outputs": [
    {
     "name": "stdout",
     "output_type": "stream",
     "text": [
      "  35.551 ns (1 allocation: 128 bytes)\n"
     ]
    },
    {
     "data": {
      "text/plain": [
       "5×5 Array{Float64,2}:\n",
       " 0.775209  0.454217  0.231308  0.442315  0.051497\n",
       " 0.78669   0.799652  0.301292  0.918232  0.40963\n",
       " 0.0       0.0       0.0       0.0       0.0\n",
       " 0.161415  0.577677  0.525344  0.493318  0.859636\n",
       " 0.879471  0.514143  0.532165  0.169179  0.287497"
      ]
     },
     "execution_count": 18,
     "metadata": {},
     "output_type": "execute_result"
    }
   ],
   "source": [
    "@btime zero_row_v1($M, 3)"
   ]
  },
  {
   "cell_type": "code",
   "execution_count": 19,
   "metadata": {},
   "outputs": [
    {
     "name": "stdout",
     "output_type": "stream",
     "text": [
      "  4.132 ns (0 allocations: 0 bytes)\n"
     ]
    },
    {
     "data": {
      "text/plain": [
       "5×5 Array{Float64,2}:\n",
       " 0.775209  0.454217  0.231308  0.442315  0.051497\n",
       " 0.78669   0.799652  0.301292  0.918232  0.40963\n",
       " 0.0       0.0       0.0       0.0       0.0\n",
       " 0.161415  0.577677  0.525344  0.493318  0.859636\n",
       " 0.879471  0.514143  0.532165  0.169179  0.287497"
      ]
     },
     "execution_count": 19,
     "metadata": {},
     "output_type": "execute_result"
    }
   ],
   "source": [
    "@btime zero_row_v2($M, 3)"
   ]
  },
  {
   "cell_type": "markdown",
   "metadata": {},
   "source": [
    "## Extending a matrix by columns"
   ]
  },
  {
   "cell_type": "code",
   "execution_count": 41,
   "metadata": {},
   "outputs": [],
   "source": [
    "using ElasticArrays"
   ]
  },
  {
   "cell_type": "code",
   "execution_count": 54,
   "metadata": {},
   "outputs": [
    {
     "data": {
      "text/plain": [
       "3×3 ElasticArray{Float64,2,1,Array{Float64,1}}:\n",
       " 0.79876   0.877491   0.0344291\n",
       " 0.649965  0.0469924  0.585705\n",
       " 0.188062  0.482117   0.734869"
      ]
     },
     "execution_count": 54,
     "metadata": {},
     "output_type": "execute_result"
    }
   ],
   "source": [
    "A = ElasticArray(rand(3, 3))"
   ]
  },
  {
   "cell_type": "code",
   "execution_count": 55,
   "metadata": {},
   "outputs": [
    {
     "data": {
      "text/plain": [
       "3×4 ElasticArray{Float64,2,1,Array{Float64,1}}:\n",
       " 0.79876   0.877491   0.0344291  0.259454\n",
       " 0.649965  0.0469924  0.585705   0.282015\n",
       " 0.188062  0.482117   0.734869   0.0461866"
      ]
     },
     "execution_count": 55,
     "metadata": {},
     "output_type": "execute_result"
    }
   ],
   "source": [
    "Ae = append!(A, rand(3))"
   ]
  },
  {
   "cell_type": "code",
   "execution_count": 56,
   "metadata": {},
   "outputs": [
    {
     "data": {
      "text/plain": [
       "100.0"
      ]
     },
     "execution_count": 56,
     "metadata": {},
     "output_type": "execute_result"
    }
   ],
   "source": [
    "Ae[1, 1] = 100.0"
   ]
  },
  {
   "cell_type": "code",
   "execution_count": 57,
   "metadata": {},
   "outputs": [
    {
     "data": {
      "text/plain": [
       "100.0"
      ]
     },
     "execution_count": 57,
     "metadata": {},
     "output_type": "execute_result"
    }
   ],
   "source": [
    "A[1, 1]"
   ]
  },
  {
   "cell_type": "markdown",
   "metadata": {},
   "source": [
    "---"
   ]
  },
  {
   "cell_type": "code",
   "execution_count": 47,
   "metadata": {},
   "outputs": [
    {
     "data": {
      "text/plain": [
       "3×3 Array{Float64,2}:\n",
       " 0.183724  0.903549  0.523527\n",
       " 0.680694  0.986962  0.203901\n",
       " 0.388022  0.158726  0.220619"
      ]
     },
     "execution_count": 47,
     "metadata": {},
     "output_type": "execute_result"
    }
   ],
   "source": [
    "A = rand(3, 3)"
   ]
  },
  {
   "cell_type": "code",
   "execution_count": 49,
   "metadata": {},
   "outputs": [
    {
     "data": {
      "text/plain": [
       "3×4 Array{Float64,2}:\n",
       " 0.183724  0.903549  0.523527  0.498343\n",
       " 0.680694  0.986962  0.203901  0.217595\n",
       " 0.388022  0.158726  0.220619  0.566324"
      ]
     },
     "execution_count": 49,
     "metadata": {},
     "output_type": "execute_result"
    }
   ],
   "source": [
    "Ae = hcat(A, rand(3))"
   ]
  },
  {
   "cell_type": "code",
   "execution_count": 50,
   "metadata": {},
   "outputs": [
    {
     "data": {
      "text/plain": [
       "100.0"
      ]
     },
     "execution_count": 50,
     "metadata": {},
     "output_type": "execute_result"
    }
   ],
   "source": [
    "Ae[1, 1] = 100.0"
   ]
  },
  {
   "cell_type": "code",
   "execution_count": 51,
   "metadata": {},
   "outputs": [
    {
     "data": {
      "text/plain": [
       "0.1837244232712345"
      ]
     },
     "execution_count": 51,
     "metadata": {},
     "output_type": "execute_result"
    }
   ],
   "source": [
    "A[1, 1]"
   ]
  },
  {
   "cell_type": "markdown",
   "metadata": {},
   "source": [
    "## Implementation using Elastic Arrays"
   ]
  },
  {
   "cell_type": "code",
   "execution_count": null,
   "metadata": {},
   "outputs": [],
   "source": [
    "function overapproximate(r::Rectification{N, ZT}, ::Type{<:Zonotope}) where {N, ZT<:AbstractZonotope{N}}\n",
    "    Zout = r.X\n",
    "    overapproximate!(r, Zout, Zonotope)\n",
    "end"
   ]
  },
  {
   "cell_type": "code",
   "execution_count": 169,
   "metadata": {},
   "outputs": [
    {
     "data": {
      "text/plain": [
       "_overapproximate (generic function with 1 method)"
      ]
     },
     "execution_count": 169,
     "metadata": {},
     "output_type": "execute_result"
    }
   ],
   "source": [
    "using ElasticArrays\n",
    "using LazySets: _leq, isapproxzero\n",
    "\n",
    "function _overapproximate(r::Rectification{N, <:Zonotope{N}}, ::Type{<:Zonotope}) where {N}\n",
    "    Z = copy(r.X)\n",
    "    c = center(Z)\n",
    "    G = genmat(Z) |> ElasticArray\n",
    "    n, m = size(G)\n",
    "    H = overapproximate(Z, Hyperrectangle)\n",
    "\n",
    "    @inbounds for i in 1:n\n",
    "        lx, ux = H.center[i] - H.radius[i], H.center[i] + H.radius[i]\n",
    "\n",
    "        if !_leq(lx, zero(N))\n",
    "            nothing\n",
    "\n",
    "        elseif _leq(ux, zero(N)) || isapproxzero(lx)\n",
    "            c[i] = zero(N)\n",
    "            for j in 1:m\n",
    "                G[i, j] = zero(N)\n",
    "            end\n",
    "\n",
    "        else\n",
    "            λ = ux / (ux - lx)\n",
    "            μ = - λ * lx / 2\n",
    "            c[i] = c[i] * λ + μ\n",
    "            for j in 1:m\n",
    "                G[i, j] = G[i, j] * λ\n",
    "            end\n",
    "            μvec = zeros(N, n)\n",
    "            μvec[i] = μ\n",
    "            append!(G, μvec)\n",
    "        end\n",
    "    end\n",
    "\n",
    "    return Zonotope(c, G)\n",
    "end"
   ]
  },
  {
   "cell_type": "code",
   "execution_count": 81,
   "metadata": {},
   "outputs": [
    {
     "name": "stdout",
     "output_type": "stream",
     "text": [
      "  755.392 ns (16 allocations: 1.03 KiB)\n"
     ]
    }
   ],
   "source": [
    "Z = rand(Zonotope, dim=2)\n",
    "r = Rectification(Z)\n",
    "@btime _overapproximate($r, Zonotope);"
   ]
  },
  {
   "cell_type": "code",
   "execution_count": 82,
   "metadata": {},
   "outputs": [
    {
     "name": "stdout",
     "output_type": "stream",
     "text": [
      "  1.746 μs (24 allocations: 8.42 KiB)\n"
     ]
    }
   ],
   "source": [
    "Z = rand(Zonotope, dim=10)\n",
    "r = Rectification(Z)\n",
    "@btime _overapproximate($r, Zonotope);"
   ]
  },
  {
   "cell_type": "code",
   "execution_count": 83,
   "metadata": {},
   "outputs": [
    {
     "name": "stdout",
     "output_type": "stream",
     "text": [
      "  36.683 μs (116 allocations: 406.17 KiB)\n"
     ]
    }
   ],
   "source": [
    "Z = rand(Zonotope, dim=100)\n",
    "r = Rectification(Z)\n",
    "@btime _overapproximate($r, Zonotope);"
   ]
  },
  {
   "cell_type": "code",
   "execution_count": 85,
   "metadata": {},
   "outputs": [
    {
     "data": {
      "text/plain": [
       "Zonotope{Float64,Array{Float64,1},Array{Float64,2}}([0.9335253313176104, 1.1337002466448511], [-1.6906658703533577 1.105601863070022; 0.6885423150887638 1.2792172841083478])"
      ]
     },
     "execution_count": 85,
     "metadata": {},
     "output_type": "execute_result"
    }
   ],
   "source": [
    "Z = rand(Zonotope, dim=2)"
   ]
  },
  {
   "cell_type": "code",
   "execution_count": 86,
   "metadata": {},
   "outputs": [
    {
     "data": {
      "text/plain": [
       "Zonotope{Float64,Array{Float64,1},ElasticArray{Float64,2,1,Array{Float64,1}}}([1.2437432349118058, 1.2220818512707083], [-1.1275447201756708 0.7373518121948244 0.6211532974586894 0.0; 0.5426187079158934 1.0081112150050882 0.0 0.3286480716502732])"
      ]
     },
     "execution_count": 86,
     "metadata": {},
     "output_type": "execute_result"
    }
   ],
   "source": [
    "r = Rectification(Z)\n",
    "_overapproximate(r, Zonotope)"
   ]
  },
  {
   "cell_type": "code",
   "execution_count": 87,
   "metadata": {},
   "outputs": [
    {
     "data": {
      "text/plain": [
       "Zonotope{Float64,Array{Float64,1},Array{Float64,2}}([1.2437432349118058, 1.2220818512707083], [-1.6906658703533577 1.105601863070022; 0.6885423150887638 1.2792172841083478])"
      ]
     },
     "execution_count": 87,
     "metadata": {},
     "output_type": "execute_result"
    }
   ],
   "source": [
    "Z"
   ]
  },
  {
   "cell_type": "markdown",
   "metadata": {},
   "source": [
    "## Implementation using hcat"
   ]
  },
  {
   "cell_type": "code",
   "execution_count": 98,
   "metadata": {},
   "outputs": [
    {
     "data": {
      "text/plain": [
       "_overapproximate_v2 (generic function with 1 method)"
      ]
     },
     "execution_count": 98,
     "metadata": {},
     "output_type": "execute_result"
    }
   ],
   "source": [
    "function _overapproximate_v2(r::Rectification{N, ZT}, ::Type{<:Zonotope}) where {N, ZT<:AbstractZonotope{N}}\n",
    "    Z = copy(r.X)\n",
    "    c = center(Z)\n",
    "    G = genmat(Z)\n",
    "    n, m = size(G)\n",
    "    H = overapproximate(Z, Hyperrectangle)\n",
    "    row_idx = Vector{Int}()\n",
    "    μ_idx = Vector{N}()\n",
    "\n",
    "    @inbounds for i in 1:n\n",
    "        lx, ux = H.center[i] - H.radius[i], H.center[i] + H.radius[i]\n",
    "\n",
    "        if !_leq(lx, zero(N))\n",
    "            nothing\n",
    "\n",
    "        elseif _leq(ux, zero(N)) || isapproxzero(lx)\n",
    "            c[i] = zero(N)\n",
    "            for j in 1:m\n",
    "                G[i, j] = zero(N)\n",
    "            end\n",
    "\n",
    "        else\n",
    "            λ = ux / (ux - lx)\n",
    "            μ = - λ * lx / 2\n",
    "            c[i] = c[i] * λ + μ\n",
    "            for j in 1:m\n",
    "                G[i, j] = G[i, j] * λ\n",
    "            end\n",
    "            push!(row_idx, i)\n",
    "            push!(μ_idx, μ)\n",
    "        end\n",
    "    end\n",
    "\n",
    "    q = length(row_idx)\n",
    "    Gnew = zeros(N, n, q)\n",
    "    j = 1\n",
    "    for i in row_idx\n",
    "        Gnew[i, j] = μ_idx[j]\n",
    "        j += 1\n",
    "    end\n",
    "    \n",
    "    return Zonotope(c, hcat(G, Gnew))\n",
    "end"
   ]
  },
  {
   "cell_type": "code",
   "execution_count": 170,
   "metadata": {},
   "outputs": [
    {
     "name": "stdout",
     "output_type": "stream",
     "text": [
      "  1.061 μs (24 allocations: 1.77 KiB)\n",
      "  1.052 μs (22 allocations: 1.66 KiB)\n"
     ]
    }
   ],
   "source": [
    "Z = rand(Zonotope, dim=2)\n",
    "r = Rectification(Z)\n",
    "\n",
    "@btime _overapproximate_v2($r, Zonotope);\n",
    "@btime _overapproximate($r, Zonotope);"
   ]
  },
  {
   "cell_type": "code",
   "execution_count": 171,
   "metadata": {},
   "outputs": [
    {
     "name": "stdout",
     "output_type": "stream",
     "text": [
      "  1.988 μs (28 allocations: 7.64 KiB)\n",
      "  2.146 μs (30 allocations: 9.36 KiB)\n"
     ]
    }
   ],
   "source": [
    "Z = rand(Zonotope, dim=10)\n",
    "r = Rectification(Z)\n",
    "\n",
    "@btime _overapproximate_v2($r, Zonotope);\n",
    "@btime _overapproximate($r, Zonotope);"
   ]
  },
  {
   "cell_type": "code",
   "execution_count": 172,
   "metadata": {},
   "outputs": [
    {
     "name": "stdout",
     "output_type": "stream",
     "text": [
      "  49.877 μs (38 allocations: 598.05 KiB)\n",
      "  51.998 μs (123 allocations: 669.36 KiB)\n"
     ]
    }
   ],
   "source": [
    "Z = rand(Zonotope, dim=100)\n",
    "r = Rectification(Z)\n",
    "\n",
    "@btime _overapproximate_v2($r, Zonotope);\n",
    "@btime _overapproximate($r, Zonotope);"
   ]
  },
  {
   "cell_type": "code",
   "execution_count": 173,
   "metadata": {},
   "outputs": [],
   "source": [
    "Z = rand(Zonotope, dim=3)\n",
    "r = Rectification(Z);"
   ]
  },
  {
   "cell_type": "code",
   "execution_count": 176,
   "metadata": {},
   "outputs": [],
   "source": [
    "Z2 =  _overapproximate_v2(r, Zonotope);\n",
    "Z1 =  _overapproximate(r, Zonotope);"
   ]
  },
  {
   "cell_type": "code",
   "execution_count": 177,
   "metadata": {},
   "outputs": [
    {
     "data": {
      "text/plain": [
       "true"
      ]
     },
     "execution_count": 177,
     "metadata": {},
     "output_type": "execute_result"
    }
   ],
   "source": [
    "Z1 == Z2"
   ]
  },
  {
   "cell_type": "markdown",
   "metadata": {},
   "source": [
    "## In-place version"
   ]
  },
  {
   "cell_type": "markdown",
   "metadata": {},
   "source": [
    "- We note that if the lazy rectification was built using an elastic array for the matrix of generators, then we can have an in-place version."
   ]
  },
  {
   "cell_type": "code",
   "execution_count": 182,
   "metadata": {},
   "outputs": [
    {
     "data": {
      "text/plain": [
       "_overapproximate_v2! (generic function with 1 method)"
      ]
     },
     "execution_count": 182,
     "metadata": {},
     "output_type": "execute_result"
    }
   ],
   "source": [
    "function _overapproximate_v2!(r::Rectification{N, ZT},\n",
    "                               ::Type{<:Zonotope}\n",
    "                             ) where {N, VT<:AbstractVector{N}, n, m, EA<:ElasticArray{N, n, m}, ZT<:Zonotope{N, VT, EA}}\n",
    "    Z = r.X\n",
    "    c = Z.center\n",
    "    G = Z.generators\n",
    "    H = overapproximate(Z, Hyperrectangle)\n",
    "\n",
    "    @inbounds for i in 1:n\n",
    "        lx, ux = H.center[i] - H.radius[i], H.center[i] + H.radius[i]\n",
    "\n",
    "        if !_leq(lx, zero(N))\n",
    "            nothing\n",
    "\n",
    "        elseif _leq(ux, zero(N)) || isapproxzero(lx)\n",
    "            c[i] = zero(N)\n",
    "            for j in 1:m\n",
    "                G[i, j] = zero(N)\n",
    "            end\n",
    "\n",
    "        else\n",
    "            λ = ux / (ux - lx)\n",
    "            μ = - λ * lx / 2\n",
    "            c[i] = c[i] * λ + μ\n",
    "            for j in 1:m\n",
    "                G[i, j] = G[i, j] * λ\n",
    "            end\n",
    "            μvec = zeros(N, n)\n",
    "            μvec[i] = μ\n",
    "            append!(G, μvec)\n",
    "        end\n",
    "    end\n",
    "    \n",
    "    return Zonotope(c, G)\n",
    "end"
   ]
  },
  {
   "cell_type": "code",
   "execution_count": 191,
   "metadata": {},
   "outputs": [
    {
     "name": "stdout",
     "output_type": "stream",
     "text": [
      "  337.399 μs (21 allocations: 733.63 KiB)\n"
     ]
    }
   ],
   "source": [
    "Z = rand(Zonotope, dim=2)\n",
    "Ze = Zonotope(Z.center, ElasticArray(Z.generators))\n",
    "r = Rectification(Ze)\n",
    "\n",
    "@btime _overapproximate_v2!($r, Zonotope);"
   ]
  },
  {
   "cell_type": "code",
   "execution_count": 190,
   "metadata": {},
   "outputs": [
    {
     "data": {
      "text/plain": [
       "Zonotope{Float64,Array{Float64,1},ElasticArray{Float64,2,1,Array{Float64,1}}}([1.3891136596350382, 0.25598291381429544], [-0.43972254574223 -0.3408112873996014 … 0.7323426964921975 0.0; 0.31287634927940217 0.9411955964352697 … 0.0 0.5211670880053866])"
      ]
     },
     "execution_count": 190,
     "metadata": {},
     "output_type": "execute_result"
    }
   ],
   "source": [
    "Zout = _overapproximate_v2!(r, Zonotope)\n",
    "Zout"
   ]
  },
  {
   "cell_type": "code",
   "execution_count": null,
   "metadata": {},
   "outputs": [],
   "source": []
  }
 ],
 "metadata": {
  "kernelspec": {
   "display_name": "Julia 1.4.1",
   "language": "julia",
   "name": "julia-1.4"
  },
  "language_info": {
   "file_extension": ".jl",
   "mimetype": "application/julia",
   "name": "julia",
   "version": "1.4.1"
  }
 },
 "nbformat": 4,
 "nbformat_minor": 2
}
