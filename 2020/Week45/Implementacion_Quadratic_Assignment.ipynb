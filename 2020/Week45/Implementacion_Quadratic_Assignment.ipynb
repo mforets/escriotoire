{
 "cells": [
  {
   "cell_type": "markdown",
   "metadata": {},
   "source": [
    "Reference:\n",
    "\n",
    "- https://neos-guide.org/content/quadratic-assignment-problem"
   ]
  },
  {
   "cell_type": "code",
   "execution_count": 124,
   "metadata": {},
   "outputs": [],
   "source": [
    "using JuMP, Alpine"
   ]
  },
  {
   "cell_type": "code",
   "execution_count": 125,
   "metadata": {},
   "outputs": [
    {
     "data": {
      "text/plain": [
       "4×4 Array{Int64,2}:\n",
       " 0  3  0  2\n",
       " 0  0  0  1\n",
       " 0  0  0  4\n",
       " 0  0  0  0"
      ]
     },
     "execution_count": 125,
     "metadata": {},
     "output_type": "execute_result"
    }
   ],
   "source": [
    "# flow matrix\n",
    "F = [0 3 0 2;\n",
    "     0 0 0 1;\n",
    "     0 0 0 4;\n",
    "     0 0 0 0]"
   ]
  },
  {
   "cell_type": "code",
   "execution_count": 126,
   "metadata": {},
   "outputs": [
    {
     "data": {
      "text/plain": [
       "4×4 Array{Int64,2}:\n",
       "  0  0  53   0\n",
       " 22  0  40   0\n",
       "  0  0   0  55\n",
       "  0  0   0   0"
      ]
     },
     "execution_count": 126,
     "metadata": {},
     "output_type": "execute_result"
    }
   ],
   "source": [
    "# distances matrix\n",
    "D = [0  0 53   0;\n",
    "     22 0 40   0;\n",
    "     0  0  0  55;\n",
    "     0  0  0   0]"
   ]
  },
  {
   "cell_type": "markdown",
   "metadata": {},
   "source": [
    "## Formulacion con constraints"
   ]
  },
  {
   "cell_type": "code",
   "execution_count": 133,
   "metadata": {},
   "outputs": [
    {
     "data": {
      "text/plain": [
       "4×4 Array{VariableRef,2}:\n",
       " x[1,1]  x[1,2]  x[1,3]  x[1,4]\n",
       " x[2,1]  x[2,2]  x[2,3]  x[2,4]\n",
       " x[3,1]  x[3,2]  x[3,3]  x[3,4]\n",
       " x[4,1]  x[4,2]  x[4,3]  x[4,4]"
      ]
     },
     "execution_count": 133,
     "metadata": {},
     "output_type": "execute_result"
    }
   ],
   "source": [
    "model = Model(Ipopt.Optimizer)\n",
    "#model = Model(COSMO.Optimizer) # requires convex objective function\n",
    "\n",
    "n = size(F, 1)\n",
    "#@variable(model, 0 <= x[1:n, 1:n] <= 1) # real\n",
    "#@variable(model, 0 <= x[1:n, 1:n] <= 1, Bin) # force binary\n",
    "@variable(model, x[1:n, 1:n], Bin) # force binary"
   ]
  },
  {
   "cell_type": "markdown",
   "metadata": {},
   "source": [
    "Interpretamos $x_{ij}$ como $i$ siendo el indice de la facility y $j$ siendo el indice de la location. $i, j$ varian entre $1$ y $4$."
   ]
  },
  {
   "cell_type": "code",
   "execution_count": 134,
   "metadata": {},
   "outputs": [],
   "source": [
    "@constraint(model, sum(x, dims=1) .== 1)\n",
    "@constraint(model, sum(x, dims=2) .== 1);"
   ]
  },
  {
   "cell_type": "code",
   "execution_count": 135,
   "metadata": {},
   "outputs": [
    {
     "data": {
      "text/plain": [
       "costo (generic function with 1 method)"
      ]
     },
     "execution_count": 135,
     "metadata": {},
     "output_type": "execute_result"
    }
   ],
   "source": [
    "function costo(x, F, D) \n",
    "    n = size(x, 1)\n",
    "    s = 0\n",
    "    for i = 1:n\n",
    "        for j = 1:n\n",
    "            i == j && continue\n",
    "            for h = 1:n\n",
    "                for k = 1:n\n",
    "                    k == h && continue\n",
    "                    s += F[i, j] * D[h, k] * x[i, h] * x[j, k]\n",
    "                end\n",
    "            end\n",
    "        end\n",
    "    end\n",
    "    s = s / 2\n",
    "end"
   ]
  },
  {
   "cell_type": "code",
   "execution_count": 136,
   "metadata": {},
   "outputs": [
    {
     "data": {
      "text/latex": [
       "$$ x_{1,1}\\times x_{2,3} $$"
      ],
      "text/plain": [
       "x[1,1]*x[2,3]"
      ]
     },
     "execution_count": 136,
     "metadata": {},
     "output_type": "execute_result"
    }
   ],
   "source": [
    "s = costo(x, F, D)\n",
    "#@objective(model, Min, s)\n",
    "@objective(model, Min, x[1, 1] * x[2, 3])"
   ]
  },
  {
   "cell_type": "code",
   "execution_count": 137,
   "metadata": {},
   "outputs": [
    {
     "ename": "LoadError",
     "evalue": "MathOptInterface.UnsupportedConstraint{MathOptInterface.SingleVariable,MathOptInterface.ZeroOne}: `MathOptInterface.SingleVariable`-in-`MathOptInterface.ZeroOne` constraint is not supported by the model.",
     "output_type": "error",
     "traceback": [
      "MathOptInterface.UnsupportedConstraint{MathOptInterface.SingleVariable,MathOptInterface.ZeroOne}: `MathOptInterface.SingleVariable`-in-`MathOptInterface.ZeroOne` constraint is not supported by the model.",
      "",
      "Stacktrace:",
      " [1] bridge_type(::MathOptInterface.Bridges.LazyBridgeOptimizer{Ipopt.Optimizer}, ::Type{MathOptInterface.ZeroOne}) at /home/mforets/.julia/packages/MathOptInterface/VjkSQ/src/Bridges/lazy_bridge_optimizer.jl:312",
      " [2] concrete_bridge_type at /home/mforets/.julia/packages/MathOptInterface/VjkSQ/src/Bridges/Variable/bridge.jl:183 [inlined]",
      " [3] add_constrained_variable(::MathOptInterface.Bridges.LazyBridgeOptimizer{Ipopt.Optimizer}, ::MathOptInterface.ZeroOne) at /home/mforets/.julia/packages/MathOptInterface/VjkSQ/src/Bridges/bridge_optimizer.jl:1254",
      " [4] copy_single_variable(::MathOptInterface.Bridges.LazyBridgeOptimizer{Ipopt.Optimizer}, ::MathOptInterface.Utilities.UniversalFallback{MathOptInterface.Utilities.Model{Float64}}, ::MathOptInterface.Utilities.IndexMap, ::Type{MathOptInterface.ZeroOne}, ::typeof(MathOptInterface.add_constrained_variable)) at /home/mforets/.julia/packages/MathOptInterface/VjkSQ/src/Utilities/copy.jl:255",
      " [5] try_constrain_variables_on_creation(::MathOptInterface.Bridges.LazyBridgeOptimizer{Ipopt.Optimizer}, ::MathOptInterface.Utilities.UniversalFallback{MathOptInterface.Utilities.Model{Float64}}, ::MathOptInterface.Utilities.IndexMap, ::Function, ::Function) at /home/mforets/.julia/packages/MathOptInterface/VjkSQ/src/Utilities/copy.jl:413",
      " [6] default_copy_to(::MathOptInterface.Bridges.LazyBridgeOptimizer{Ipopt.Optimizer}, ::MathOptInterface.Utilities.UniversalFallback{MathOptInterface.Utilities.Model{Float64}}, ::Bool, ::Nothing) at /home/mforets/.julia/packages/MathOptInterface/VjkSQ/src/Utilities/copy.jl:459",
      " [7] #automatic_copy_to#137 at /home/mforets/.julia/packages/MathOptInterface/VjkSQ/src/Utilities/copy.jl:21 [inlined]",
      " [8] #copy_to#3 at /home/mforets/.julia/packages/MathOptInterface/VjkSQ/src/Bridges/bridge_optimizer.jl:293 [inlined]",
      " [9] attach_optimizer(::MathOptInterface.Utilities.CachingOptimizer{MathOptInterface.AbstractOptimizer,MathOptInterface.Utilities.UniversalFallback{MathOptInterface.Utilities.Model{Float64}}}) at /home/mforets/.julia/packages/MathOptInterface/VjkSQ/src/Utilities/cachingoptimizer.jl:150",
      " [10] optimize!(::MathOptInterface.Utilities.CachingOptimizer{MathOptInterface.AbstractOptimizer,MathOptInterface.Utilities.UniversalFallback{MathOptInterface.Utilities.Model{Float64}}}) at /home/mforets/.julia/packages/MathOptInterface/VjkSQ/src/Utilities/cachingoptimizer.jl:211",
      " [11] optimize!(::Model, ::Nothing; bridge_constraints::Bool, ignore_optimize_hook::Bool, kwargs::Base.Iterators.Pairs{Union{},Union{},Tuple{},NamedTuple{(),Tuple{}}}) at /home/mforets/.julia/packages/JuMP/YXK4e/src/optimizer_interface.jl:131",
      " [12] optimize! at /home/mforets/.julia/packages/JuMP/YXK4e/src/optimizer_interface.jl:107 [inlined] (repeats 2 times)",
      " [13] top-level scope at In[137]:1",
      " [14] include_string(::Function, ::Module, ::String, ::String) at ./loading.jl:1091"
     ]
    }
   ],
   "source": [
    "optimize!(model)"
   ]
  },
  {
   "cell_type": "code",
   "execution_count": 138,
   "metadata": {},
   "outputs": [
    {
     "data": {
      "text/plain": [
       "OPTIMIZE_NOT_CALLED::TerminationStatusCode = 0"
      ]
     },
     "execution_count": 138,
     "metadata": {},
     "output_type": "execute_result"
    }
   ],
   "source": [
    "termination_status(model)"
   ]
  },
  {
   "cell_type": "code",
   "execution_count": 139,
   "metadata": {},
   "outputs": [
    {
     "ename": "LoadError",
     "evalue": "OptimizeNotCalled()",
     "output_type": "error",
     "traceback": [
      "OptimizeNotCalled()",
      "",
      "Stacktrace:",
      " [1] _moi_get_result(::MathOptInterface.Utilities.CachingOptimizer{MathOptInterface.AbstractOptimizer,MathOptInterface.Utilities.UniversalFallback{MathOptInterface.Utilities.Model{Float64}}}, ::MathOptInterface.ObjectiveValue) at /home/mforets/.julia/packages/JuMP/YXK4e/src/JuMP.jl:845",
      " [2] get(::Model, ::MathOptInterface.ObjectiveValue) at /home/mforets/.julia/packages/JuMP/YXK4e/src/JuMP.jl:860",
      " [3] objective_value(::Model; result::Int64) at /home/mforets/.julia/packages/JuMP/YXK4e/src/objective.jl:42",
      " [4] objective_value(::Model) at /home/mforets/.julia/packages/JuMP/YXK4e/src/objective.jl:42",
      " [5] top-level scope at In[139]:1",
      " [6] include_string(::Function, ::Module, ::String, ::String) at ./loading.jl:1091"
     ]
    }
   ],
   "source": [
    "objective_value(model)"
   ]
  },
  {
   "cell_type": "code",
   "execution_count": 140,
   "metadata": {},
   "outputs": [
    {
     "ename": "LoadError",
     "evalue": "OptimizeNotCalled()",
     "output_type": "error",
     "traceback": [
      "OptimizeNotCalled()",
      "",
      "Stacktrace:",
      " [1] _moi_get_result(::MathOptInterface.Utilities.CachingOptimizer{MathOptInterface.AbstractOptimizer,MathOptInterface.Utilities.UniversalFallback{MathOptInterface.Utilities.Model{Float64}}}, ::MathOptInterface.VariablePrimal, ::Vararg{Any,N} where N) at /home/mforets/.julia/packages/JuMP/YXK4e/src/JuMP.jl:845",
      " [2] get(::Model, ::MathOptInterface.VariablePrimal, ::VariableRef) at /home/mforets/.julia/packages/JuMP/YXK4e/src/JuMP.jl:877",
      " [3] value(::VariableRef; result::Int64) at /home/mforets/.julia/packages/JuMP/YXK4e/src/variables.jl:767",
      " [4] value at /home/mforets/.julia/packages/JuMP/YXK4e/src/variables.jl:767 [inlined]",
      " [5] _broadcast_getindex_evalf at ./broadcast.jl:648 [inlined]",
      " [6] _broadcast_getindex at ./broadcast.jl:621 [inlined]",
      " [7] getindex at ./broadcast.jl:575 [inlined]",
      " [8] macro expansion at ./broadcast.jl:932 [inlined]",
      " [9] macro expansion at ./simdloop.jl:77 [inlined]",
      " [10] copyto! at ./broadcast.jl:931 [inlined]",
      " [11] copyto! at ./broadcast.jl:886 [inlined]",
      " [12] copy at ./broadcast.jl:862 [inlined]",
      " [13] materialize(::Base.Broadcast.Broadcasted{Base.Broadcast.DefaultArrayStyle{2},Nothing,typeof(value),Tuple{Array{VariableRef,2}}}) at ./broadcast.jl:837",
      " [14] top-level scope at In[140]:2",
      " [15] include_string(::Function, ::Module, ::String, ::String) at ./loading.jl:1091"
     ]
    }
   ],
   "source": [
    "# optimal values\n",
    "M = value.(x)"
   ]
  },
  {
   "cell_type": "code",
   "execution_count": 117,
   "metadata": {},
   "outputs": [
    {
     "data": {
      "text/plain": [
       "1.0000000000000002"
      ]
     },
     "execution_count": 117,
     "metadata": {},
     "output_type": "execute_result"
    }
   ],
   "source": []
  },
  {
   "cell_type": "markdown",
   "metadata": {},
   "source": [
    "## Formulacion general del quadratic assignment"
   ]
  },
  {
   "cell_type": "code",
   "execution_count": null,
   "metadata": {},
   "outputs": [],
   "source": [
    "function quadratic_assignment(; F, D)"
   ]
  },
  {
   "cell_type": "code",
   "execution_count": null,
   "metadata": {},
   "outputs": [],
   "source": []
  },
  {
   "cell_type": "markdown",
   "metadata": {},
   "source": [
    "## Formulacion como un problema QUBO"
   ]
  },
  {
   "cell_type": "markdown",
   "metadata": {},
   "source": [
    "TO-DO"
   ]
  }
 ],
 "metadata": {
  "kernelspec": {
   "display_name": "Julia 1.5.2",
   "language": "julia",
   "name": "julia-1.5"
  },
  "language_info": {
   "file_extension": ".jl",
   "mimetype": "application/julia",
   "name": "julia",
   "version": "1.5.2"
  }
 },
 "nbformat": 4,
 "nbformat_minor": 2
}
