{
 "cells": [
  {
   "cell_type": "markdown",
   "metadata": {},
   "source": [
    "Reference:\n",
    "\n",
    "- https://neos-guide.org/content/quadratic-assignment-problem"
   ]
  },
  {
   "cell_type": "code",
   "execution_count": 1,
   "metadata": {},
   "outputs": [
    {
     "name": "stderr",
     "output_type": "stream",
     "text": [
      "┌ Info: Precompiling Gurobi [2e9cd046-0924-5485-92f1-d5272153d98b]\n",
      "└ @ Base loading.jl:1278\n"
     ]
    }
   ],
   "source": [
    "using JuMP, Gurobi"
   ]
  },
  {
   "cell_type": "code",
   "execution_count": 2,
   "metadata": {},
   "outputs": [
    {
     "data": {
      "text/plain": [
       "4×4 Array{Int64,2}:\n",
       " 0  3  0  2\n",
       " 0  0  0  1\n",
       " 0  0  0  4\n",
       " 0  0  0  0"
      ]
     },
     "execution_count": 2,
     "metadata": {},
     "output_type": "execute_result"
    }
   ],
   "source": [
    "# flow matrix\n",
    "F = [0 3 0 2;\n",
    "     0 0 0 1;\n",
    "     0 0 0 4;\n",
    "     0 0 0 0]"
   ]
  },
  {
   "cell_type": "code",
   "execution_count": 3,
   "metadata": {},
   "outputs": [
    {
     "data": {
      "text/plain": [
       "4×4 Array{Int64,2}:\n",
       "  0  0  53   0\n",
       " 22  0  40   0\n",
       "  0  0   0  55\n",
       "  0  0   0   0"
      ]
     },
     "execution_count": 3,
     "metadata": {},
     "output_type": "execute_result"
    }
   ],
   "source": [
    "# distances matrix\n",
    "D = [0  0 53   0;\n",
    "     22 0 40   0;\n",
    "     0  0  0  55;\n",
    "     0  0  0   0]"
   ]
  },
  {
   "cell_type": "markdown",
   "metadata": {},
   "source": [
    "## Formulacion con constraints"
   ]
  },
  {
   "cell_type": "code",
   "execution_count": 4,
   "metadata": {},
   "outputs": [
    {
     "name": "stdout",
     "output_type": "stream",
     "text": [
      "Academic license - for non-commercial use only - expires 2021-01-11\n"
     ]
    },
    {
     "data": {
      "text/plain": [
       "4×4 Array{VariableRef,2}:\n",
       " x[1,1]  x[1,2]  x[1,3]  x[1,4]\n",
       " x[2,1]  x[2,2]  x[2,3]  x[2,4]\n",
       " x[3,1]  x[3,2]  x[3,3]  x[3,4]\n",
       " x[4,1]  x[4,2]  x[4,3]  x[4,4]"
      ]
     },
     "execution_count": 4,
     "metadata": {},
     "output_type": "execute_result"
    }
   ],
   "source": [
    "#model = Model(Ipopt.Optimizer)\n",
    "#model = Model(COSMO.Optimizer) # requires convex objective function\n",
    "model = Model(Gurobi.Optimizer)\n",
    "\n",
    "n = size(F, 1)\n",
    "#@variable(model, 0 <= x[1:n, 1:n] <= 1) # real\n",
    "#@variable(model, 0 <= x[1:n, 1:n] <= 1, Bin) # force binary\n",
    "@variable(model, x[1:n, 1:n], Bin) # force binary"
   ]
  },
  {
   "cell_type": "markdown",
   "metadata": {},
   "source": [
    "Interpretamos $x_{ij}$ como $i$ siendo el indice de la facility y $j$ siendo el indice de la location. $i, j$ varian entre $1$ y $4$."
   ]
  },
  {
   "cell_type": "code",
   "execution_count": 5,
   "metadata": {},
   "outputs": [],
   "source": [
    "@constraint(model, sum(x, dims=1) .== 1)\n",
    "@constraint(model, sum(x, dims=2) .== 1);"
   ]
  },
  {
   "cell_type": "code",
   "execution_count": 6,
   "metadata": {},
   "outputs": [
    {
     "data": {
      "text/plain": [
       "costo (generic function with 1 method)"
      ]
     },
     "execution_count": 6,
     "metadata": {},
     "output_type": "execute_result"
    }
   ],
   "source": [
    "function costo(x, F, D) \n",
    "    n = size(x, 1)\n",
    "    s = 0\n",
    "    for i = 1:n\n",
    "        for j = 1:n\n",
    "            i == j && continue\n",
    "            for h = 1:n\n",
    "                for k = 1:n\n",
    "                    k == h && continue\n",
    "                    s += F[i, j] * D[h, k] * x[i, h] * x[j, k]\n",
    "                end\n",
    "            end\n",
    "        end\n",
    "    end\n",
    "    s = s / 2\n",
    "end"
   ]
  },
  {
   "cell_type": "code",
   "execution_count": 12,
   "metadata": {},
   "outputs": [
    {
     "data": {
      "text/latex": [
       "$$ 79.5 x_{1,1}\\times x_{2,3} + 33 x_{1,2}\\times x_{2,1} + 60 x_{1,2}\\times x_{2,3} + 82.5 x_{1,3}\\times x_{2,4} + 53 x_{1,1}\\times x_{4,3} + 22 x_{1,2}\\times x_{4,1} + 40 x_{1,2}\\times x_{4,3} + 55 x_{1,3}\\times x_{4,4} + 26.5 x_{2,1}\\times x_{4,3} + 11 x_{2,2}\\times x_{4,1} + 20 x_{2,2}\\times x_{4,3} + 27.5 x_{2,3}\\times x_{4,4} + 106 x_{3,1}\\times x_{4,3} + 44 x_{3,2}\\times x_{4,1} + 80 x_{3,2}\\times x_{4,3} + 110 x_{3,3}\\times x_{4,4} $$"
      ],
      "text/plain": [
       "79.5 x[1,1]*x[2,3] + 33 x[1,2]*x[2,1] + 60 x[1,2]*x[2,3] + 82.5 x[1,3]*x[2,4] + 53 x[1,1]*x[4,3] + 22 x[1,2]*x[4,1] + 40 x[1,2]*x[4,3] + 55 x[1,3]*x[4,4] + 26.5 x[2,1]*x[4,3] + 11 x[2,2]*x[4,1] + 20 x[2,2]*x[4,3] + 27.5 x[2,3]*x[4,4] + 106 x[3,1]*x[4,3] + 44 x[3,2]*x[4,1] + 80 x[3,2]*x[4,3] + 110 x[3,3]*x[4,4]"
      ]
     },
     "execution_count": 12,
     "metadata": {},
     "output_type": "execute_result"
    }
   ],
   "source": [
    "s = costo(x, F, D)\n",
    "@objective(model, Min, s)"
   ]
  },
  {
   "cell_type": "code",
   "execution_count": 13,
   "metadata": {},
   "outputs": [
    {
     "name": "stdout",
     "output_type": "stream",
     "text": [
      "Gurobi Optimizer version 9.1.0 build v9.1.0rc0 (linux64)\n",
      "Thread count: 4 physical cores, 8 logical processors, using up to 8 threads\n",
      "Optimize a model with 8 rows, 16 columns and 32 nonzeros\n",
      "Model fingerprint: 0x586e0da4\n",
      "Model has 16 quadratic objective terms\n",
      "Variable types: 0 continuous, 16 integer (16 binary)\n",
      "Coefficient statistics:\n",
      "  Matrix range     [1e+00, 1e+00]\n",
      "  Objective range  [0e+00, 0e+00]\n",
      "  QObjective range [2e+01, 2e+02]\n",
      "  Bounds range     [0e+00, 0e+00]\n",
      "  RHS range        [1e+00, 1e+00]\n",
      "\n",
      "Loaded MIP start from previous solve with objective 87.5\n",
      "\n",
      "Presolve time: 0.00s\n",
      "Presolved: 24 rows, 32 columns, 80 nonzeros\n",
      "Variable types: 0 continuous, 32 integer (32 binary)\n",
      "\n",
      "Root relaxation: objective 0.000000e+00, 6 iterations, 0.00 seconds\n",
      "\n",
      "    Nodes    |    Current Node    |     Objective Bounds      |     Work\n",
      " Expl Unexpl |  Obj  Depth IntInf | Incumbent    BestBd   Gap | It/Node Time\n",
      "\n",
      "*    0     0               0       0.0000000    0.00000  0.00%     -    0s\n",
      "\n",
      "Explored 1 nodes (6 simplex iterations) in 0.01 seconds\n",
      "Thread count was 8 (of 8 available processors)\n",
      "\n",
      "Solution count 2: 0 87.5 \n",
      "\n",
      "Optimal solution found (tolerance 1.00e-04)\n",
      "Best objective 0.000000000000e+00, best bound 0.000000000000e+00, gap 0.0000%\n",
      "\n",
      "User-callback calls 78, time in user-callback 0.00 sec\n"
     ]
    }
   ],
   "source": [
    "optimize!(model)"
   ]
  },
  {
   "cell_type": "code",
   "execution_count": 14,
   "metadata": {},
   "outputs": [
    {
     "data": {
      "text/plain": [
       "OPTIMAL::TerminationStatusCode = 1"
      ]
     },
     "execution_count": 14,
     "metadata": {},
     "output_type": "execute_result"
    }
   ],
   "source": [
    "termination_status(model)"
   ]
  },
  {
   "cell_type": "code",
   "execution_count": 15,
   "metadata": {},
   "outputs": [
    {
     "data": {
      "text/plain": [
       "0.0"
      ]
     },
     "execution_count": 15,
     "metadata": {},
     "output_type": "execute_result"
    }
   ],
   "source": [
    "objective_value(model)"
   ]
  },
  {
   "cell_type": "code",
   "execution_count": 16,
   "metadata": {},
   "outputs": [
    {
     "data": {
      "text/plain": [
       "4×4 Array{Float64,2}:\n",
       "  1.0  -0.0  -0.0   0.0\n",
       " -0.0  -0.0  -0.0   1.0\n",
       "  0.0  -0.0   1.0  -0.0\n",
       " -0.0   1.0  -0.0  -0.0"
      ]
     },
     "execution_count": 16,
     "metadata": {},
     "output_type": "execute_result"
    }
   ],
   "source": [
    "# optimal values\n",
    "M = value.(x)"
   ]
  },
  {
   "cell_type": "markdown",
   "metadata": {},
   "source": [
    "## Formulacion general del quadratic assignment"
   ]
  },
  {
   "cell_type": "code",
   "execution_count": 32,
   "metadata": {},
   "outputs": [
    {
     "data": {
      "text/plain": [
       "quadratic_assignment (generic function with 1 method)"
      ]
     },
     "execution_count": 32,
     "metadata": {},
     "output_type": "execute_result"
    }
   ],
   "source": [
    "function quadratic_assignment(; flows, distances)\n",
    "    model = Model(Gurobi.Optimizer)\n",
    "    n = size(flows, 1)\n",
    "    @variable(model, x[1:n, 1:n], Bin)\n",
    "    @constraint(model, sum(x, dims=1) .== 1)\n",
    "    @constraint(model, sum(x, dims=2) .== 1)\n",
    "    s = costo(x, F, D)\n",
    "    @objective(model, Min, s)\n",
    "    optimize!(model)\n",
    "    value.(x), solve_time(model)\n",
    "end"
   ]
  },
  {
   "cell_type": "code",
   "execution_count": 34,
   "metadata": {},
   "outputs": [
    {
     "name": "stdout",
     "output_type": "stream",
     "text": [
      "Academic license - for non-commercial use only - expires 2021-01-11\n",
      "Gurobi Optimizer version 9.1.0 build v9.1.0rc0 (linux64)\n",
      "Thread count: 4 physical cores, 8 logical processors, using up to 8 threads\n",
      "Optimize a model with 8 rows, 16 columns and 32 nonzeros\n",
      "Model fingerprint: 0x586e0da4\n",
      "Model has 16 quadratic objective terms\n",
      "Variable types: 0 continuous, 16 integer (16 binary)\n",
      "Coefficient statistics:\n",
      "  Matrix range     [1e+00, 1e+00]\n",
      "  Objective range  [0e+00, 0e+00]\n",
      "  QObjective range [2e+01, 2e+02]\n",
      "  Bounds range     [0e+00, 0e+00]\n",
      "  RHS range        [1e+00, 1e+00]\n",
      "Found heuristic solution: objective 87.5000000\n",
      "Presolve time: 0.00s\n",
      "Presolved: 24 rows, 32 columns, 80 nonzeros\n",
      "Variable types: 0 continuous, 32 integer (32 binary)\n",
      "\n",
      "Root relaxation: objective 0.000000e+00, 6 iterations, 0.00 seconds\n",
      "\n",
      "    Nodes    |    Current Node    |     Objective Bounds      |     Work\n",
      " Expl Unexpl |  Obj  Depth IntInf | Incumbent    BestBd   Gap | It/Node Time\n",
      "\n",
      "*    0     0               0       0.0000000    0.00000  0.00%     -    0s\n",
      "\n",
      "Explored 1 nodes (6 simplex iterations) in 0.00 seconds\n",
      "Thread count was 8 (of 8 available processors)\n",
      "\n",
      "Solution count 2: 0 87.5 \n",
      "\n",
      "Optimal solution found (tolerance 1.00e-04)\n",
      "Best objective 0.000000000000e+00, best bound 0.000000000000e+00, gap 0.0000%\n",
      "\n",
      "User-callback calls 42, time in user-callback 0.00 sec\n"
     ]
    },
    {
     "data": {
      "text/plain": [
       "([1.0 -0.0 -0.0 0.0; -0.0 -0.0 -0.0 1.0; 0.0 -0.0 1.0 -0.0; -0.0 1.0 -0.0 -0.0], 0.002627134323120117)"
      ]
     },
     "execution_count": 34,
     "metadata": {},
     "output_type": "execute_result"
    }
   ],
   "source": [
    "M, t = quadratic_assignment(flows=F, distances=D)"
   ]
  },
  {
   "cell_type": "code",
   "execution_count": 36,
   "metadata": {},
   "outputs": [
    {
     "data": {
      "text/plain": [
       "4×4 Array{Float64,2}:\n",
       "  1.0  -0.0  -0.0   0.0\n",
       " -0.0  -0.0  -0.0   1.0\n",
       "  0.0  -0.0   1.0  -0.0\n",
       " -0.0   1.0  -0.0  -0.0"
      ]
     },
     "execution_count": 36,
     "metadata": {},
     "output_type": "execute_result"
    }
   ],
   "source": [
    "M"
   ]
  },
  {
   "cell_type": "code",
   "execution_count": 38,
   "metadata": {},
   "outputs": [
    {
     "data": {
      "text/plain": [
       "0.002627134323120117"
      ]
     },
     "execution_count": 38,
     "metadata": {},
     "output_type": "execute_result"
    }
   ],
   "source": [
    "t # tiempo de resolucion en segundos"
   ]
  },
  {
   "cell_type": "markdown",
   "metadata": {},
   "source": [
    "## Formulacion como un problema QUBO"
   ]
  },
  {
   "cell_type": "markdown",
   "metadata": {},
   "source": [
    "TO-DO"
   ]
  }
 ],
 "metadata": {
  "kernelspec": {
   "display_name": "Julia 1.5.2",
   "language": "julia",
   "name": "julia-1.5"
  },
  "language_info": {
   "file_extension": ".jl",
   "mimetype": "application/julia",
   "name": "julia",
   "version": "1.5.2"
  }
 },
 "nbformat": 4,
 "nbformat_minor": 2
}
