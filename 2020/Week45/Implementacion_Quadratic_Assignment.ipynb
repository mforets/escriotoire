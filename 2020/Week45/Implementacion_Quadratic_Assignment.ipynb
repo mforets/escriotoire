{
 "cells": [
  {
   "cell_type": "markdown",
   "metadata": {},
   "source": [
    "Reference:\n",
    "\n",
    "- https://neos-guide.org/content/quadratic-assignment-problem"
   ]
  },
  {
   "cell_type": "code",
   "execution_count": 9,
   "metadata": {},
   "outputs": [],
   "source": [
    "using JuMP, GLPK"
   ]
  },
  {
   "cell_type": "code",
   "execution_count": 11,
   "metadata": {},
   "outputs": [
    {
     "data": {
      "text/plain": [
       "4×4 Array{Int64,2}:\n",
       " 0  3  0  2\n",
       " 0  0  0  1\n",
       " 0  0  0  4\n",
       " 0  0  0  0"
      ]
     },
     "execution_count": 11,
     "metadata": {},
     "output_type": "execute_result"
    }
   ],
   "source": [
    "# flow matrix\n",
    "F = [0 3 0 2;\n",
    "     0 0 0 1;\n",
    "     0 0 0 4;\n",
    "     0 0 0 0]"
   ]
  },
  {
   "cell_type": "code",
   "execution_count": 12,
   "metadata": {},
   "outputs": [
    {
     "data": {
      "text/plain": [
       "4×4 Array{Int64,2}:\n",
       "  0  0  53   0\n",
       " 22  0  40   0\n",
       "  0  0   0  55\n",
       "  0  0   0   0"
      ]
     },
     "execution_count": 12,
     "metadata": {},
     "output_type": "execute_result"
    }
   ],
   "source": [
    "# distances matrix\n",
    "D = [0  0 53   0;\n",
    "     22 0 40   0;\n",
    "     0  0  0  55;\n",
    "     0  0  0   0]"
   ]
  },
  {
   "cell_type": "markdown",
   "metadata": {},
   "source": [
    "## Formulacion con constraints"
   ]
  },
  {
   "cell_type": "code",
   "execution_count": 40,
   "metadata": {},
   "outputs": [
    {
     "data": {
      "text/plain": [
       "4×4 Array{VariableRef,2}:\n",
       " x[1,1]  x[1,2]  x[1,3]  x[1,4]\n",
       " x[2,1]  x[2,2]  x[2,3]  x[2,4]\n",
       " x[3,1]  x[3,2]  x[3,3]  x[3,4]\n",
       " x[4,1]  x[4,2]  x[4,3]  x[4,4]"
      ]
     },
     "execution_count": 40,
     "metadata": {},
     "output_type": "execute_result"
    }
   ],
   "source": [
    "model = Model(GLPK.Optimizer)\n",
    "\n",
    "n = size(F, 1)\n",
    "@variable(model, 0 <= x[1:n, 1:n] <= 1)"
   ]
  },
  {
   "cell_type": "markdown",
   "metadata": {},
   "source": [
    "Interpretamos $x_{ij}$ como $i$ siendo el indice de la facility y $j$ siendo el indice de la location. $i, j$ varian entre $1$ y $4$."
   ]
  },
  {
   "cell_type": "code",
   "execution_count": 30,
   "metadata": {},
   "outputs": [],
   "source": [
    "@constraint(model, sum(x, dims=1) .== 1)\n",
    "@constraint(model, sum(x, dims=2) .== 1);"
   ]
  },
  {
   "cell_type": "code",
   "execution_count": 38,
   "metadata": {},
   "outputs": [
    {
     "data": {
      "text/plain": [
       "costo (generic function with 1 method)"
      ]
     },
     "execution_count": 38,
     "metadata": {},
     "output_type": "execute_result"
    }
   ],
   "source": [
    "function costo(x, F, D) \n",
    "    n = size(x, 1)\n",
    "    s = 0\n",
    "    for i = 1:n\n",
    "        for j = 1:n\n",
    "            i == j && continue\n",
    "            for h = 1:n\n",
    "                for k = 1:n\n",
    "                    k == h && continue\n",
    "                    s += F[i, j] * D[h, k] * x[i, h] * x[j, k]\n",
    "                end\n",
    "            end\n",
    "        end\n",
    "    end\n",
    "    s = s / 2\n",
    "end"
   ]
  },
  {
   "cell_type": "code",
   "execution_count": 39,
   "metadata": {},
   "outputs": [
    {
     "ename": "LoadError",
     "evalue": "The solver does not support an objective function of type MathOptInterface.ScalarQuadraticFunction{Float64}.",
     "output_type": "error",
     "traceback": [
      "The solver does not support an objective function of type MathOptInterface.ScalarQuadraticFunction{Float64}.",
      "",
      "Stacktrace:",
      " [1] error(::String, ::Type{T} where T, ::String) at ./error.jl:42",
      " [2] set_objective_function(::Model, ::MathOptInterface.ScalarQuadraticFunction{Float64}) at /home/mforets/.julia/packages/JuMP/YXK4e/src/objective.jl:96",
      " [3] set_objective_function at /home/mforets/.julia/packages/JuMP/YXK4e/src/objective.jl:110 [inlined]",
      " [4] set_objective(::Model, ::MathOptInterface.OptimizationSense, ::GenericQuadExpr{Float64,VariableRef}) at /home/mforets/.julia/packages/JuMP/YXK4e/src/objective.jl:128",
      " [5] top-level scope at /home/mforets/.julia/packages/JuMP/YXK4e/src/macros.jl:801",
      " [6] include_string(::Function, ::Module, ::String, ::String) at ./loading.jl:1091"
     ]
    }
   ],
   "source": [
    "s = costo(x, F, D)\n",
    "@objective(model, Min, s)"
   ]
  },
  {
   "cell_type": "code",
   "execution_count": null,
   "metadata": {},
   "outputs": [],
   "source": [
    "optimize!(model)"
   ]
  },
  {
   "cell_type": "code",
   "execution_count": null,
   "metadata": {},
   "outputs": [],
   "source": [
    "termination_status(model)"
   ]
  },
  {
   "cell_type": "markdown",
   "metadata": {},
   "source": [
    "## Formulacion como un problema QUBO"
   ]
  },
  {
   "cell_type": "markdown",
   "metadata": {},
   "source": [
    "TO-DO"
   ]
  }
 ],
 "metadata": {
  "kernelspec": {
   "display_name": "Julia 1.5.2",
   "language": "julia",
   "name": "julia-1.5"
  },
  "language_info": {
   "file_extension": ".jl",
   "mimetype": "application/julia",
   "name": "julia",
   "version": "1.5.2"
  }
 },
 "nbformat": 4,
 "nbformat_minor": 2
}
