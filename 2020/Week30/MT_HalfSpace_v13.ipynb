{
 "cells": [
  {
   "cell_type": "code",
   "execution_count": null,
   "metadata": {},
   "outputs": [],
   "source": [
    "] activate ."
   ]
  },
  {
   "cell_type": "markdown",
   "metadata": {},
   "source": [
    "## Version 3.10.2 (works)"
   ]
  },
  {
   "cell_type": "code",
   "execution_count": null,
   "metadata": {},
   "outputs": [],
   "source": [
    "] add ModelingToolkit#v3.10.2"
   ]
  },
  {
   "cell_type": "code",
   "execution_count": null,
   "metadata": {},
   "outputs": [],
   "source": [
    "using ModelingToolkit"
   ]
  },
  {
   "cell_type": "code",
   "execution_count": null,
   "metadata": {},
   "outputs": [],
   "source": [
    "var = @variables x y"
   ]
  },
  {
   "cell_type": "code",
   "execution_count": 4,
   "metadata": {},
   "outputs": [
    {
     "data": {
      "text/plain": [
       "_halfspace (generic function with 2 methods)"
      ]
     },
     "execution_count": 4,
     "metadata": {},
     "output_type": "execute_result"
    }
   ],
   "source": [
    "    using ModelingToolkit: get_variables,\n",
    "                            gradient,\n",
    "                            simplify,\n",
    "                            to_symbolic,\n",
    "                            Operation\n",
    "\n",
    "function _halfspace(expr::Operation, vars=get_variables(expr); N::Type{<:Real}=Float64)\n",
    "\n",
    "    # find sense and normalize\n",
    "    if expr.op == <\n",
    "        a, b = expr.args\n",
    "        sexpr = simplify(a - b)\n",
    "\n",
    "    elseif expr.op == >\n",
    "        a, b = expr.args\n",
    "        sexpr = simplify(b - a)\n",
    "\n",
    "    elseif (expr.op == |) && (expr.args[1].op == <)\n",
    "        a, b = expr.args[1].args\n",
    "        sexpr = simplify(a - b)\n",
    "\n",
    "    elseif (expr.op == |) && (expr.args[2].op == <)\n",
    "        a, b = expr.args[2].args\n",
    "        sexpr = simplify(a - b)\n",
    "\n",
    "    elseif (expr.op == |) && (expr.args[1].op == >)\n",
    "        a, b = expr.args[1].args\n",
    "        sexpr = simplify(b - a)\n",
    "\n",
    "    elseif (expr.op == |) && (expr.args[2].op == >)\n",
    "        a, b = expr.args[2].args\n",
    "        sexpr = simplify(b - a)\n",
    "\n",
    "    else\n",
    "        throw(ArgumentError(\"expected an expression describing a half-space, got $expr\"))\n",
    "    end\n",
    "\n",
    "    # compute the linear coefficients by taking first order derivatives\n",
    "    coeffs = [N(α.value) for α in gradient(sexpr, collect(vars))]\n",
    "\n",
    "    # get the constant term by expression substitution\n",
    "    dvars = Dict(to_symbolic(vi) => zero(N) for vi in vars)\n",
    "    β = -N(ModelingToolkit.SymbolicUtils.substitute(to_symbolic(sexpr), dvars, fold=true))\n",
    "\n",
    "    return coeffs, β\n",
    "end"
   ]
  },
  {
   "cell_type": "code",
   "execution_count": null,
   "metadata": {},
   "outputs": [],
   "source": [
    "expr = x + 2y <= 3x + 4\n",
    "_halfspace(expr, var)"
   ]
  },
  {
   "cell_type": "code",
   "execution_count": null,
   "metadata": {},
   "outputs": [],
   "source": [
    "var = @variables x y\n",
    "_halfspace(x <= 1.0, var)"
   ]
  },
  {
   "cell_type": "markdown",
   "metadata": {},
   "source": [
    "# v3.13.0 (doesn't work)"
   ]
  },
  {
   "cell_type": "code",
   "execution_count": 1,
   "metadata": {},
   "outputs": [
    {
     "name": "stderr",
     "output_type": "stream",
     "text": [
      "\u001b[32m\u001b[1m   Updating\u001b[22m\u001b[39m registry at `~/.julia/registries/General`\n"
     ]
    },
    {
     "name": "stdout",
     "output_type": "stream",
     "text": [
      "\u001b[?25l    "
     ]
    },
    {
     "name": "stderr",
     "output_type": "stream",
     "text": [
      "\u001b[32m\u001b[1m   Updating\u001b[22m\u001b[39m git-repo `https://github.com/JuliaRegistries/General.git`\n"
     ]
    },
    {
     "name": "stdout",
     "output_type": "stream",
     "text": [
      "\u001b[36m\u001b[1mFetching:\u001b[22m\u001b[39m [>                                        ]  0.0 %\r",
      "    \u001b[36m\u001b[1mFetching:\u001b[22m\u001b[39m [=======>                                 ]  16.7 %\r",
      "    \u001b[36m\u001b[1mFetching:\u001b[22m\u001b[39m [==============>                          ]  33.3 %\r",
      "    \u001b[36m\u001b[1mFetching:\u001b[22m\u001b[39m [====================>                    ]  50.0 %\r",
      "    \u001b[36m\u001b[1mFetching:\u001b[22m\u001b[39m [===========================>             ]  66.7 %\r",
      "    \u001b[36m\u001b[1mFetching:\u001b[22m\u001b[39m [==================================>      ]  83.3 %\r",
      "    \u001b[36m\u001b[1mFetching:\u001b[22m\u001b[39m [========================================>]  100.0 %\r",
      "\u001b[2K\u001b[?25h"
     ]
    },
    {
     "name": "stderr",
     "output_type": "stream",
     "text": [
      "\u001b[32m\u001b[1m  Resolving\u001b[22m\u001b[39m package versions...\n",
      "\u001b[32m\u001b[1mNo Changes\u001b[22m\u001b[39m to `~/Projects/escritoire/2020/Week30/Project.toml`\n",
      "\u001b[32m\u001b[1mNo Changes\u001b[22m\u001b[39m to `~/Projects/escritoire/2020/Week30/Manifest.toml`\n"
     ]
    }
   ],
   "source": [
    "] add ModelingToolkit#v3.13.0"
   ]
  },
  {
   "cell_type": "code",
   "execution_count": 2,
   "metadata": {},
   "outputs": [
    {
     "name": "stderr",
     "output_type": "stream",
     "text": [
      "┌ Info: Precompiling ModelingToolkit [961ee093-0014-501f-94e3-6117800e7a78]\n",
      "└ @ Base loading.jl:1278\n"
     ]
    }
   ],
   "source": [
    "using ModelingToolkit"
   ]
  },
  {
   "cell_type": "code",
   "execution_count": 5,
   "metadata": {},
   "outputs": [
    {
     "ename": "ErrorException",
     "evalue": "type Int64 has no field value",
     "output_type": "error",
     "traceback": [
      "type Int64 has no field value",
      "",
      "Stacktrace:",
      " [1] getproperty(::Int64, ::Symbol) at ./Base.jl:33",
      " [2] (::var\"#2#4\"{DataType})(::Int64) at ./none:0",
      " [3] iterate at ./generator.jl:47 [inlined]",
      " [4] collect(::Base.Generator{Array{Number,1},var\"#2#4\"{DataType}}) at ./array.jl:688",
      " [5] _halfspace(::Operation, ::Tuple{Operation,Operation}; N::Type{Float64}) at ./In[4]:39",
      " [6] _halfspace(::Operation, ::Tuple{Operation,Operation}) at ./In[4]:10",
      " [7] top-level scope at In[5]:2"
     ]
    }
   ],
   "source": [
    "var = @variables x y\n",
    "_halfspace(x <= 1.0, var)"
   ]
  },
  {
   "cell_type": "markdown",
   "metadata": {},
   "source": [
    "# v3.14.0 (works again)"
   ]
  },
  {
   "cell_type": "code",
   "execution_count": null,
   "metadata": {},
   "outputs": [],
   "source": [
    "] add ModelingToolkit#v3.14.0"
   ]
  },
  {
   "cell_type": "code",
   "execution_count": null,
   "metadata": {},
   "outputs": [],
   "source": [
    "using ModelingToolkit"
   ]
  },
  {
   "cell_type": "code",
   "execution_count": null,
   "metadata": {},
   "outputs": [],
   "source": [
    "var = @variables x y\n",
    "_halfspace(x <= 1.0, var)"
   ]
  }
 ],
 "metadata": {
  "@webio": {
   "lastCommId": null,
   "lastKernelId": null
  },
  "kernelspec": {
   "display_name": "Julia 1.5.0-beta1",
   "language": "julia",
   "name": "julia-1.5"
  },
  "language_info": {
   "file_extension": ".jl",
   "mimetype": "application/julia",
   "name": "julia",
   "version": "1.5.0"
  }
 },
 "nbformat": 4,
 "nbformat_minor": 2
}
