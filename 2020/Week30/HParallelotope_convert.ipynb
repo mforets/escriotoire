{
 "cells": [
  {
   "cell_type": "code",
   "execution_count": 5,
   "metadata": {},
   "outputs": [],
   "source": [
    "using LazySets, Plots"
   ]
  },
  {
   "cell_type": "code",
   "execution_count": 6,
   "metadata": {},
   "outputs": [],
   "source": [
    "Z1 = rand(Zonotope, dim=2, num_generators=2) # orden 1\n",
    "\n",
    "Z2 = rand(Zonotope, dim=2, num_generators=4); # orden 2"
   ]
  },
  {
   "cell_type": "code",
   "execution_count": 10,
   "metadata": {},
   "outputs": [],
   "source": [
    "Z1red = reduce_order(Z1, 1)\n",
    "Z2red = reduce_order(Z2, 1);"
   ]
  },
  {
   "cell_type": "code",
   "execution_count": 14,
   "metadata": {},
   "outputs": [
    {
     "data": {
      "image/svg+xml": [
       "<?xml version=\"1.0\" encoding=\"utf-8\"?>\n",
       "<svg xmlns=\"http://www.w3.org/2000/svg\" xmlns:xlink=\"http://www.w3.org/1999/xlink\" width=\"600\" height=\"400\" viewBox=\"0 0 2400 1600\">\n",
       "<defs>\n",
       "  <clipPath id=\"clip810\">\n",
       "    <rect x=\"0\" y=\"0\" width=\"2400\" height=\"1600\"/>\n",
       "  </clipPath>\n",
       "</defs>\n",
       "<path clip-path=\"url(#clip810)\" d=\"\n",
       "M0 1600 L2400 1600 L2400 0 L0 0  Z\n",
       "  \" fill=\"#ffffff\" fill-rule=\"evenodd\" fill-opacity=\"1\"/>\n",
       "<defs>\n",
       "  <clipPath id=\"clip811\">\n",
       "    <rect x=\"480\" y=\"0\" width=\"1681\" height=\"1600\"/>\n",
       "  </clipPath>\n",
       "</defs>\n",
       "<path clip-path=\"url(#clip810)\" d=\"\n",
       "M125.835 1486.45 L2352.76 1486.45 L2352.76 47.2441 L125.835 47.2441  Z\n",
       "  \" fill=\"#ffffff\" fill-rule=\"evenodd\" fill-opacity=\"1\"/>\n",
       "<defs>\n",
       "  <clipPath id=\"clip812\">\n",
       "    <rect x=\"125\" y=\"47\" width=\"2228\" height=\"1440\"/>\n",
       "  </clipPath>\n",
       "</defs>\n",
       "<polyline clip-path=\"url(#clip812)\" style=\"stroke:#000000; stroke-width:2; stroke-opacity:0.1; fill:none\" points=\"\n",
       "  491.568,1486.45 491.568,47.2441 \n",
       "  \"/>\n",
       "<polyline clip-path=\"url(#clip812)\" style=\"stroke:#000000; stroke-width:2; stroke-opacity:0.1; fill:none\" points=\"\n",
       "  934.854,1486.45 934.854,47.2441 \n",
       "  \"/>\n",
       "<polyline clip-path=\"url(#clip812)\" style=\"stroke:#000000; stroke-width:2; stroke-opacity:0.1; fill:none\" points=\"\n",
       "  1378.14,1486.45 1378.14,47.2441 \n",
       "  \"/>\n",
       "<polyline clip-path=\"url(#clip812)\" style=\"stroke:#000000; stroke-width:2; stroke-opacity:0.1; fill:none\" points=\"\n",
       "  1821.43,1486.45 1821.43,47.2441 \n",
       "  \"/>\n",
       "<polyline clip-path=\"url(#clip812)\" style=\"stroke:#000000; stroke-width:2; stroke-opacity:0.1; fill:none\" points=\"\n",
       "  2264.71,1486.45 2264.71,47.2441 \n",
       "  \"/>\n",
       "<polyline clip-path=\"url(#clip812)\" style=\"stroke:#000000; stroke-width:2; stroke-opacity:0.1; fill:none\" points=\"\n",
       "  125.835,1385.59 2352.76,1385.59 \n",
       "  \"/>\n",
       "<polyline clip-path=\"url(#clip812)\" style=\"stroke:#000000; stroke-width:2; stroke-opacity:0.1; fill:none\" points=\"\n",
       "  125.835,1170.81 2352.76,1170.81 \n",
       "  \"/>\n",
       "<polyline clip-path=\"url(#clip812)\" style=\"stroke:#000000; stroke-width:2; stroke-opacity:0.1; fill:none\" points=\"\n",
       "  125.835,956.033 2352.76,956.033 \n",
       "  \"/>\n",
       "<polyline clip-path=\"url(#clip812)\" style=\"stroke:#000000; stroke-width:2; stroke-opacity:0.1; fill:none\" points=\"\n",
       "  125.835,741.252 2352.76,741.252 \n",
       "  \"/>\n",
       "<polyline clip-path=\"url(#clip812)\" style=\"stroke:#000000; stroke-width:2; stroke-opacity:0.1; fill:none\" points=\"\n",
       "  125.835,526.472 2352.76,526.472 \n",
       "  \"/>\n",
       "<polyline clip-path=\"url(#clip812)\" style=\"stroke:#000000; stroke-width:2; stroke-opacity:0.1; fill:none\" points=\"\n",
       "  125.835,311.692 2352.76,311.692 \n",
       "  \"/>\n",
       "<polyline clip-path=\"url(#clip812)\" style=\"stroke:#000000; stroke-width:2; stroke-opacity:0.1; fill:none\" points=\"\n",
       "  125.835,96.9117 2352.76,96.9117 \n",
       "  \"/>\n",
       "<polyline clip-path=\"url(#clip810)\" style=\"stroke:#000000; stroke-width:4; stroke-opacity:1; fill:none\" points=\"\n",
       "  125.835,1486.45 2352.76,1486.45 \n",
       "  \"/>\n",
       "<polyline clip-path=\"url(#clip810)\" style=\"stroke:#000000; stroke-width:4; stroke-opacity:1; fill:none\" points=\"\n",
       "  125.835,1486.45 125.835,47.2441 \n",
       "  \"/>\n",
       "<polyline clip-path=\"url(#clip810)\" style=\"stroke:#000000; stroke-width:4; stroke-opacity:1; fill:none\" points=\"\n",
       "  491.568,1486.45 491.568,1469.18 \n",
       "  \"/>\n",
       "<polyline clip-path=\"url(#clip810)\" style=\"stroke:#000000; stroke-width:4; stroke-opacity:1; fill:none\" points=\"\n",
       "  934.854,1486.45 934.854,1469.18 \n",
       "  \"/>\n",
       "<polyline clip-path=\"url(#clip810)\" style=\"stroke:#000000; stroke-width:4; stroke-opacity:1; fill:none\" points=\"\n",
       "  1378.14,1486.45 1378.14,1469.18 \n",
       "  \"/>\n",
       "<polyline clip-path=\"url(#clip810)\" style=\"stroke:#000000; stroke-width:4; stroke-opacity:1; fill:none\" points=\"\n",
       "  1821.43,1486.45 1821.43,1469.18 \n",
       "  \"/>\n",
       "<polyline clip-path=\"url(#clip810)\" style=\"stroke:#000000; stroke-width:4; stroke-opacity:1; fill:none\" points=\"\n",
       "  2264.71,1486.45 2264.71,1469.18 \n",
       "  \"/>\n",
       "<polyline clip-path=\"url(#clip810)\" style=\"stroke:#000000; stroke-width:4; stroke-opacity:1; fill:none\" points=\"\n",
       "  125.835,1385.59 152.558,1385.59 \n",
       "  \"/>\n",
       "<polyline clip-path=\"url(#clip810)\" style=\"stroke:#000000; stroke-width:4; stroke-opacity:1; fill:none\" points=\"\n",
       "  125.835,1170.81 152.558,1170.81 \n",
       "  \"/>\n",
       "<polyline clip-path=\"url(#clip810)\" style=\"stroke:#000000; stroke-width:4; stroke-opacity:1; fill:none\" points=\"\n",
       "  125.835,956.033 152.558,956.033 \n",
       "  \"/>\n",
       "<polyline clip-path=\"url(#clip810)\" style=\"stroke:#000000; stroke-width:4; stroke-opacity:1; fill:none\" points=\"\n",
       "  125.835,741.252 152.558,741.252 \n",
       "  \"/>\n",
       "<polyline clip-path=\"url(#clip810)\" style=\"stroke:#000000; stroke-width:4; stroke-opacity:1; fill:none\" points=\"\n",
       "  125.835,526.472 152.558,526.472 \n",
       "  \"/>\n",
       "<polyline clip-path=\"url(#clip810)\" style=\"stroke:#000000; stroke-width:4; stroke-opacity:1; fill:none\" points=\"\n",
       "  125.835,311.692 152.558,311.692 \n",
       "  \"/>\n",
       "<polyline clip-path=\"url(#clip810)\" style=\"stroke:#000000; stroke-width:4; stroke-opacity:1; fill:none\" points=\"\n",
       "  125.835,96.9117 152.558,96.9117 \n",
       "  \"/>\n",
       "<path clip-path=\"url(#clip810)\" d=\"M 0 0 M472.436 1525.04 L484.913 1525.04 L484.913 1528.83 L472.436 1528.83 L472.436 1525.04 Z\" fill=\"#000000\" fill-rule=\"evenodd\" fill-opacity=\"1\" /><path clip-path=\"url(#clip810)\" d=\"M 0 0 M490.793 1535.98 L498.431 1535.98 L498.431 1509.62 L490.121 1511.29 L490.121 1507.03 L498.385 1505.36 L503.061 1505.36 L503.061 1535.98 L510.7 1535.98 L510.7 1539.92 L490.793 1539.92 L490.793 1535.98 Z\" fill=\"#000000\" fill-rule=\"evenodd\" fill-opacity=\"1\" /><path clip-path=\"url(#clip810)\" d=\"M 0 0 M934.854 1508.44 Q931.243 1508.44 929.414 1512 Q927.609 1515.55 927.609 1522.67 Q927.609 1529.78 929.414 1533.35 Q931.243 1536.89 934.854 1536.89 Q938.488 1536.89 940.294 1533.35 Q942.122 1529.78 942.122 1522.67 Q942.122 1515.55 940.294 1512 Q938.488 1508.44 934.854 1508.44 M934.854 1504.73 Q940.664 1504.73 943.72 1509.34 Q946.798 1513.92 946.798 1522.67 Q946.798 1531.4 943.72 1536.01 Q940.664 1540.59 934.854 1540.59 Q929.044 1540.59 925.965 1536.01 Q922.91 1531.4 922.91 1522.67 Q922.91 1513.92 925.965 1509.34 Q929.044 1504.73 934.854 1504.73 Z\" fill=\"#000000\" fill-rule=\"evenodd\" fill-opacity=\"1\" /><path clip-path=\"url(#clip810)\" d=\"M 0 0 M1368.52 1535.98 L1376.16 1535.98 L1376.16 1509.62 L1367.85 1511.29 L1367.85 1507.03 L1376.11 1505.36 L1380.79 1505.36 L1380.79 1535.98 L1388.43 1535.98 L1388.43 1539.92 L1368.52 1539.92 L1368.52 1535.98 Z\" fill=\"#000000\" fill-rule=\"evenodd\" fill-opacity=\"1\" /><path clip-path=\"url(#clip810)\" d=\"M 0 0 M1816.08 1535.98 L1832.4 1535.98 L1832.4 1539.92 L1810.45 1539.92 L1810.45 1535.98 Q1813.12 1533.23 1817.7 1528.6 Q1822.31 1523.95 1823.49 1522.61 Q1825.73 1520.08 1826.61 1518.35 Q1827.51 1516.59 1827.51 1514.9 Q1827.51 1512.14 1825.57 1510.41 Q1823.65 1508.67 1820.55 1508.67 Q1818.35 1508.67 1815.89 1509.43 Q1813.46 1510.2 1810.69 1511.75 L1810.69 1507.03 Q1813.51 1505.89 1815.96 1505.31 Q1818.42 1504.73 1820.45 1504.73 Q1825.82 1504.73 1829.02 1507.42 Q1832.21 1510.11 1832.21 1514.6 Q1832.21 1516.73 1831.4 1518.65 Q1830.62 1520.54 1828.51 1523.14 Q1827.93 1523.81 1824.83 1527.03 Q1821.73 1530.22 1816.08 1535.98 Z\" fill=\"#000000\" fill-rule=\"evenodd\" fill-opacity=\"1\" /><path clip-path=\"url(#clip810)\" d=\"M 0 0 M2268.96 1521.29 Q2272.32 1522 2274.19 1524.27 Q2276.09 1526.54 2276.09 1529.87 Q2276.09 1534.99 2272.57 1537.79 Q2269.05 1540.59 2262.57 1540.59 Q2260.39 1540.59 2258.08 1540.15 Q2255.79 1539.73 2253.33 1538.88 L2253.33 1534.36 Q2255.28 1535.5 2257.59 1536.08 Q2259.91 1536.66 2262.43 1536.66 Q2266.83 1536.66 2269.12 1534.92 Q2271.44 1533.18 2271.44 1529.87 Q2271.44 1526.82 2269.28 1525.11 Q2267.15 1523.37 2263.33 1523.37 L2259.31 1523.37 L2259.31 1519.53 L2263.52 1519.53 Q2266.97 1519.53 2268.8 1518.16 Q2270.63 1516.77 2270.63 1514.18 Q2270.63 1511.52 2268.73 1510.11 Q2266.85 1508.67 2263.33 1508.67 Q2261.41 1508.67 2259.21 1509.09 Q2257.02 1509.5 2254.38 1510.38 L2254.38 1506.22 Q2257.04 1505.48 2259.35 1505.11 Q2261.69 1504.73 2263.75 1504.73 Q2269.08 1504.73 2272.18 1507.17 Q2275.28 1509.57 2275.28 1513.69 Q2275.28 1516.56 2273.64 1518.55 Q2271.99 1520.52 2268.96 1521.29 Z\" fill=\"#000000\" fill-rule=\"evenodd\" fill-opacity=\"1\" /><path clip-path=\"url(#clip810)\" d=\"M 0 0 M62.9921 1387.99 L75.4689 1387.99 L75.4689 1391.79 L62.9921 1391.79 L62.9921 1387.99 Z\" fill=\"#000000\" fill-rule=\"evenodd\" fill-opacity=\"1\" /><path clip-path=\"url(#clip810)\" d=\"M 0 0 M94.7049 1384.24 Q98.0614 1384.96 99.9364 1387.23 Q101.835 1389.49 101.835 1392.83 Q101.835 1397.94 98.316 1400.74 Q94.7975 1403.54 88.3161 1403.54 Q86.1402 1403.54 83.8253 1403.1 Q81.5337 1402.69 79.08 1401.83 L79.08 1397.32 Q81.0244 1398.45 83.3392 1399.03 Q85.654 1399.61 88.1772 1399.61 Q92.5753 1399.61 94.867 1397.87 Q97.1818 1396.14 97.1818 1392.83 Q97.1818 1389.77 95.029 1388.06 Q92.8994 1386.32 89.0799 1386.32 L85.0522 1386.32 L85.0522 1382.48 L89.2651 1382.48 Q92.7142 1382.48 94.5429 1381.11 Q96.3716 1379.73 96.3716 1377.13 Q96.3716 1374.47 94.4734 1373.06 Q92.5984 1371.62 89.0799 1371.62 Q87.1587 1371.62 84.9596 1372.04 Q82.7605 1372.46 80.1217 1373.34 L80.1217 1369.17 Q82.7837 1368.43 85.0985 1368.06 Q87.4364 1367.69 89.4966 1367.69 Q94.8207 1367.69 97.9225 1370.12 Q101.024 1372.53 101.024 1376.65 Q101.024 1379.52 99.3808 1381.51 Q97.7373 1383.48 94.7049 1384.24 Z\" fill=\"#000000\" fill-rule=\"evenodd\" fill-opacity=\"1\" /><path clip-path=\"url(#clip810)\" d=\"M 0 0 M63.9412 1173.21 L76.418 1173.21 L76.418 1177 L63.9412 1177 L63.9412 1173.21 Z\" fill=\"#000000\" fill-rule=\"evenodd\" fill-opacity=\"1\" /><path clip-path=\"url(#clip810)\" d=\"M 0 0 M85.5152 1184.16 L101.835 1184.16 L101.835 1188.09 L79.8902 1188.09 L79.8902 1184.16 Q82.5522 1181.4 87.1355 1176.77 Q91.742 1172.12 92.9225 1170.78 Q95.1679 1168.26 96.0475 1166.52 Q96.9503 1164.76 96.9503 1163.07 Q96.9503 1160.32 95.0058 1158.58 Q93.0846 1156.84 89.9827 1156.84 Q87.7837 1156.84 85.33 1157.61 Q82.8994 1158.37 80.1217 1159.92 L80.1217 1155.2 Q82.9457 1154.07 85.3994 1153.49 Q87.8531 1152.91 89.8901 1152.91 Q95.2605 1152.91 98.4549 1155.59 Q101.649 1158.28 101.649 1162.77 Q101.649 1164.9 100.839 1166.82 Q100.052 1168.72 97.9456 1171.31 Q97.3669 1171.98 94.2651 1175.2 Q91.1633 1178.39 85.5152 1184.16 Z\" fill=\"#000000\" fill-rule=\"evenodd\" fill-opacity=\"1\" /><path clip-path=\"url(#clip810)\" d=\"M 0 0 M63.5708 958.428 L76.0476 958.428 L76.0476 962.225 L63.5708 962.225 L63.5708 958.428 Z\" fill=\"#000000\" fill-rule=\"evenodd\" fill-opacity=\"1\" /><path clip-path=\"url(#clip810)\" d=\"M 0 0 M81.9272 969.377 L89.5661 969.377 L89.5661 943.012 L81.2559 944.679 L81.2559 940.419 L89.5198 938.753 L94.1957 938.753 L94.1957 969.377 L101.835 969.377 L101.835 973.313 L81.9272 973.313 L81.9272 969.377 Z\" fill=\"#000000\" fill-rule=\"evenodd\" fill-opacity=\"1\" /><path clip-path=\"url(#clip810)\" d=\"M 0 0 M89.8901 727.051 Q86.279 727.051 84.4503 730.616 Q82.6448 734.158 82.6448 741.287 Q82.6448 748.394 84.4503 751.958 Q86.279 755.5 89.8901 755.5 Q93.5244 755.5 95.3299 751.958 Q97.1586 748.394 97.1586 741.287 Q97.1586 734.158 95.3299 730.616 Q93.5244 727.051 89.8901 727.051 M89.8901 723.347 Q95.7003 723.347 98.7558 727.954 Q101.835 732.537 101.835 741.287 Q101.835 750.014 98.7558 754.62 Q95.7003 759.204 89.8901 759.204 Q84.08 759.204 81.0013 754.62 Q77.9457 750.014 77.9457 741.287 Q77.9457 732.537 81.0013 727.954 Q84.08 723.347 89.8901 723.347 Z\" fill=\"#000000\" fill-rule=\"evenodd\" fill-opacity=\"1\" /><path clip-path=\"url(#clip810)\" d=\"M 0 0 M81.9272 539.817 L89.5661 539.817 L89.5661 513.451 L81.2559 515.118 L81.2559 510.859 L89.5198 509.192 L94.1957 509.192 L94.1957 539.817 L101.835 539.817 L101.835 543.752 L81.9272 543.752 L81.9272 539.817 Z\" fill=\"#000000\" fill-rule=\"evenodd\" fill-opacity=\"1\" /><path clip-path=\"url(#clip810)\" d=\"M 0 0 M85.5152 325.037 L101.835 325.037 L101.835 328.972 L79.8902 328.972 L79.8902 325.037 Q82.5522 322.282 87.1355 317.653 Q91.742 313 92.9225 311.657 Q95.1679 309.134 96.0475 307.398 Q96.9503 305.639 96.9503 303.949 Q96.9503 301.194 95.0058 299.458 Q93.0846 297.722 89.9827 297.722 Q87.7837 297.722 85.33 298.486 Q82.8994 299.25 80.1217 300.801 L80.1217 296.079 Q82.9457 294.944 85.3994 294.366 Q87.8531 293.787 89.8901 293.787 Q95.2605 293.787 98.4549 296.472 Q101.649 299.157 101.649 303.648 Q101.649 305.778 100.839 307.699 Q100.052 309.597 97.9456 312.19 Q97.3669 312.861 94.2651 316.079 Q91.1633 319.273 85.5152 325.037 Z\" fill=\"#000000\" fill-rule=\"evenodd\" fill-opacity=\"1\" /><path clip-path=\"url(#clip810)\" d=\"M 0 0 M94.7049 95.5576 Q98.0614 96.2752 99.9364 98.5437 Q101.835 100.812 101.835 104.146 Q101.835 109.261 98.316 112.062 Q94.7975 114.863 88.3161 114.863 Q86.1402 114.863 83.8253 114.423 Q81.5337 114.007 79.08 113.15 L79.08 108.636 Q81.0244 109.77 83.3392 110.349 Q85.654 110.928 88.1772 110.928 Q92.5753 110.928 94.867 109.192 Q97.1818 107.456 97.1818 104.146 Q97.1818 101.09 95.029 99.377 Q92.8994 97.6409 89.0799 97.6409 L85.0522 97.6409 L85.0522 93.7983 L89.2651 93.7983 Q92.7142 93.7983 94.5429 92.4326 Q96.3716 91.0437 96.3716 88.4511 Q96.3716 85.7891 94.4734 84.3771 Q92.5984 82.9419 89.0799 82.9419 Q87.1587 82.9419 84.9596 83.3586 Q82.7605 83.7752 80.1217 84.6549 L80.1217 80.4882 Q82.7837 79.7475 85.0985 79.3771 Q87.4364 79.0067 89.4966 79.0067 Q94.8207 79.0067 97.9225 81.4373 Q101.024 83.8447 101.024 87.965 Q101.024 90.8354 99.3808 92.8261 Q97.7373 94.7937 94.7049 95.5576 Z\" fill=\"#000000\" fill-rule=\"evenodd\" fill-opacity=\"1\" /><path clip-path=\"url(#clip812)\" d=\"\n",
       "M188.861 1122.58 L1683.87 1445.72 L2213.31 1420.04 L2284.84 746.976 L2289.73 411.112 L794.721 87.9763 L265.281 113.65 L193.755 786.716 L188.861 1122.58 L188.861 1122.58 \n",
       "   Z\n",
       "  \" fill=\"#009af9\" fill-rule=\"evenodd\" fill-opacity=\"0.5\"/>\n",
       "<polyline clip-path=\"url(#clip812)\" style=\"stroke:#000000; stroke-width:4; stroke-opacity:0.5; fill:none\" points=\"\n",
       "  188.861,1122.58 1683.87,1445.72 2213.31,1420.04 2284.84,746.976 2289.73,411.112 794.721,87.9763 265.281,113.65 193.755,786.716 188.861,1122.58 \n",
       "  \n",
       "  \"/>\n",
       "<path clip-path=\"url(#clip812)\" d=\"\n",
       "M2289.73 87.9763 L188.861 87.9763 L188.861 1445.72 L2289.73 1445.72 L2289.73 87.9763 L2289.73 87.9763  Z\n",
       "  \" fill=\"#e26f46\" fill-rule=\"evenodd\" fill-opacity=\"0.5\"/>\n",
       "<polyline clip-path=\"url(#clip812)\" style=\"stroke:#000000; stroke-width:4; stroke-opacity:0.5; fill:none\" points=\"\n",
       "  2289.73,87.9763 188.861,87.9763 188.861,1445.72 2289.73,1445.72 2289.73,87.9763 \n",
       "  \"/>\n",
       "<path clip-path=\"url(#clip810)\" d=\"\n",
       "M1885.53 312.204 L2280.76 312.204 L2280.76 130.764 L1885.53 130.764  Z\n",
       "  \" fill=\"#ffffff\" fill-rule=\"evenodd\" fill-opacity=\"1\"/>\n",
       "<polyline clip-path=\"url(#clip810)\" style=\"stroke:#000000; stroke-width:4; stroke-opacity:1; fill:none\" points=\"\n",
       "  1885.53,312.204 2280.76,312.204 2280.76,130.764 1885.53,130.764 1885.53,312.204 \n",
       "  \"/>\n",
       "<path clip-path=\"url(#clip810)\" d=\"\n",
       "M1909.53 215.436 L2053.53 215.436 L2053.53 167.052 L1909.53 167.052 L1909.53 215.436  Z\n",
       "  \" fill=\"#009af9\" fill-rule=\"evenodd\" fill-opacity=\"0.5\"/>\n",
       "<polyline clip-path=\"url(#clip810)\" style=\"stroke:#000000; stroke-width:4; stroke-opacity:1; fill:none\" points=\"\n",
       "  1909.53,215.436 2053.53,215.436 2053.53,167.052 1909.53,167.052 1909.53,215.436 \n",
       "  \"/>\n",
       "<path clip-path=\"url(#clip810)\" d=\"M 0 0 M2089.42 185.584 Q2086 185.584 2084.01 188.27 Q2082.02 190.932 2082.02 195.584 Q2082.02 200.237 2083.98 202.922 Q2085.97 205.584 2089.42 205.584 Q2092.83 205.584 2094.82 202.899 Q2096.81 200.214 2096.81 195.584 Q2096.81 190.978 2094.82 188.293 Q2092.83 185.584 2089.42 185.584 M2089.42 181.973 Q2094.98 181.973 2098.15 185.584 Q2101.32 189.195 2101.32 195.584 Q2101.32 201.95 2098.15 205.584 Q2094.98 209.195 2089.42 209.195 Q2083.84 209.195 2080.67 205.584 Q2077.53 201.95 2077.53 195.584 Q2077.53 189.195 2080.67 185.584 Q2083.84 181.973 2089.42 181.973 Z\" fill=\"#000000\" fill-rule=\"evenodd\" fill-opacity=\"1\" /><path clip-path=\"url(#clip810)\" d=\"M 0 0 M2120.81 186.58 Q2120.09 186.163 2119.24 185.978 Q2118.4 185.77 2117.39 185.77 Q2113.78 185.77 2111.83 188.131 Q2109.91 190.469 2109.91 194.867 L2109.91 208.524 L2105.63 208.524 L2105.63 182.598 L2109.91 182.598 L2109.91 186.626 Q2111.25 184.265 2113.4 183.131 Q2115.56 181.973 2118.64 181.973 Q2119.08 181.973 2119.61 182.043 Q2120.14 182.089 2120.79 182.205 L2120.81 186.58 Z\" fill=\"#000000\" fill-rule=\"evenodd\" fill-opacity=\"1\" /><path clip-path=\"url(#clip810)\" d=\"M 0 0 M2141.51 186.533 L2141.51 172.506 L2145.77 172.506 L2145.77 208.524 L2141.51 208.524 L2141.51 204.635 Q2140.16 206.95 2138.1 208.084 Q2136.07 209.195 2133.2 209.195 Q2128.5 209.195 2125.53 205.445 Q2122.59 201.695 2122.59 195.584 Q2122.59 189.473 2125.53 185.723 Q2128.5 181.973 2133.2 181.973 Q2136.07 181.973 2138.1 183.108 Q2140.16 184.219 2141.51 186.533 M2126.99 195.584 Q2126.99 200.283 2128.91 202.969 Q2130.86 205.631 2134.24 205.631 Q2137.62 205.631 2139.56 202.969 Q2141.51 200.283 2141.51 195.584 Q2141.51 190.885 2139.56 188.223 Q2137.62 185.538 2134.24 185.538 Q2130.86 185.538 2128.91 188.223 Q2126.99 190.885 2126.99 195.584 Z\" fill=\"#000000\" fill-rule=\"evenodd\" fill-opacity=\"1\" /><path clip-path=\"url(#clip810)\" d=\"M 0 0 M2172.41 194.496 L2172.41 196.58 L2152.83 196.58 Q2153.1 200.978 2155.46 203.293 Q2157.85 205.584 2162.08 205.584 Q2164.54 205.584 2166.83 204.982 Q2169.15 204.381 2171.41 203.177 L2171.41 207.205 Q2169.12 208.177 2166.71 208.686 Q2164.31 209.195 2161.83 209.195 Q2155.63 209.195 2151.99 205.584 Q2148.38 201.973 2148.38 195.816 Q2148.38 189.45 2151.81 185.723 Q2155.26 181.973 2161.09 181.973 Q2166.32 181.973 2169.35 185.353 Q2172.41 188.709 2172.41 194.496 M2168.15 193.246 Q2168.1 189.751 2166.18 187.668 Q2164.28 185.584 2161.14 185.584 Q2157.57 185.584 2155.42 187.598 Q2153.29 189.612 2152.96 193.27 L2168.15 193.246 Z\" fill=\"#000000\" fill-rule=\"evenodd\" fill-opacity=\"1\" /><path clip-path=\"url(#clip810)\" d=\"M 0 0 M2191.9 186.58 Q2191.18 186.163 2190.33 185.978 Q2189.49 185.77 2188.47 185.77 Q2184.86 185.77 2182.92 188.131 Q2181 190.469 2181 194.867 L2181 208.524 L2176.71 208.524 L2176.71 182.598 L2181 182.598 L2181 186.626 Q2182.34 184.265 2184.49 183.131 Q2186.65 181.973 2189.72 181.973 Q2190.16 181.973 2190.7 182.043 Q2191.23 182.089 2191.88 182.205 L2191.9 186.58 Z\" fill=\"#000000\" fill-rule=\"evenodd\" fill-opacity=\"1\" /><path clip-path=\"url(#clip810)\" d=\"M 0 0 M2216.07 204.589 L2232.39 204.589 L2232.39 208.524 L2210.44 208.524 L2210.44 204.589 Q2213.1 201.834 2217.69 197.205 Q2222.29 192.552 2223.47 191.209 Q2225.72 188.686 2226.6 186.95 Q2227.5 185.191 2227.5 183.501 Q2227.5 180.746 2225.56 179.01 Q2223.64 177.274 2220.53 177.274 Q2218.33 177.274 2215.88 178.038 Q2213.45 178.802 2210.67 180.353 L2210.67 175.631 Q2213.5 174.496 2215.95 173.918 Q2218.4 173.339 2220.44 173.339 Q2225.81 173.339 2229.01 176.024 Q2232.2 178.709 2232.2 183.2 Q2232.2 185.33 2231.39 187.251 Q2230.6 189.149 2228.5 191.742 Q2227.92 192.413 2224.82 195.631 Q2221.71 198.825 2216.07 204.589 Z\" fill=\"#000000\" fill-rule=\"evenodd\" fill-opacity=\"1\" /><path clip-path=\"url(#clip810)\" d=\"\n",
       "M1909.53 275.916 L2053.53 275.916 L2053.53 227.532 L1909.53 227.532 L1909.53 275.916  Z\n",
       "  \" fill=\"#e26f46\" fill-rule=\"evenodd\" fill-opacity=\"0.5\"/>\n",
       "<polyline clip-path=\"url(#clip810)\" style=\"stroke:#000000; stroke-width:4; stroke-opacity:1; fill:none\" points=\"\n",
       "  1909.53,275.916 2053.53,275.916 2053.53,227.532 1909.53,227.532 1909.53,275.916 \n",
       "  \"/>\n",
       "<path clip-path=\"url(#clip810)\" d=\"M 0 0 M2089.42 246.064 Q2086 246.064 2084.01 248.75 Q2082.02 251.412 2082.02 256.064 Q2082.02 260.717 2083.98 263.402 Q2085.97 266.064 2089.42 266.064 Q2092.83 266.064 2094.82 263.379 Q2096.81 260.694 2096.81 256.064 Q2096.81 251.458 2094.82 248.773 Q2092.83 246.064 2089.42 246.064 M2089.42 242.453 Q2094.98 242.453 2098.15 246.064 Q2101.32 249.675 2101.32 256.064 Q2101.32 262.43 2098.15 266.064 Q2094.98 269.675 2089.42 269.675 Q2083.84 269.675 2080.67 266.064 Q2077.53 262.43 2077.53 256.064 Q2077.53 249.675 2080.67 246.064 Q2083.84 242.453 2089.42 242.453 Z\" fill=\"#000000\" fill-rule=\"evenodd\" fill-opacity=\"1\" /><path clip-path=\"url(#clip810)\" d=\"M 0 0 M2120.81 247.06 Q2120.09 246.643 2119.24 246.458 Q2118.4 246.25 2117.39 246.25 Q2113.78 246.25 2111.83 248.611 Q2109.91 250.949 2109.91 255.347 L2109.91 269.004 L2105.63 269.004 L2105.63 243.078 L2109.91 243.078 L2109.91 247.106 Q2111.25 244.745 2113.4 243.611 Q2115.56 242.453 2118.64 242.453 Q2119.08 242.453 2119.61 242.523 Q2120.14 242.569 2120.79 242.685 L2120.81 247.06 Z\" fill=\"#000000\" fill-rule=\"evenodd\" fill-opacity=\"1\" /><path clip-path=\"url(#clip810)\" d=\"M 0 0 M2141.51 247.013 L2141.51 232.986 L2145.77 232.986 L2145.77 269.004 L2141.51 269.004 L2141.51 265.115 Q2140.16 267.43 2138.1 268.564 Q2136.07 269.675 2133.2 269.675 Q2128.5 269.675 2125.53 265.925 Q2122.59 262.175 2122.59 256.064 Q2122.59 249.953 2125.53 246.203 Q2128.5 242.453 2133.2 242.453 Q2136.07 242.453 2138.1 243.588 Q2140.16 244.699 2141.51 247.013 M2126.99 256.064 Q2126.99 260.763 2128.91 263.449 Q2130.86 266.111 2134.24 266.111 Q2137.62 266.111 2139.56 263.449 Q2141.51 260.763 2141.51 256.064 Q2141.51 251.365 2139.56 248.703 Q2137.62 246.018 2134.24 246.018 Q2130.86 246.018 2128.91 248.703 Q2126.99 251.365 2126.99 256.064 Z\" fill=\"#000000\" fill-rule=\"evenodd\" fill-opacity=\"1\" /><path clip-path=\"url(#clip810)\" d=\"M 0 0 M2172.41 254.976 L2172.41 257.06 L2152.83 257.06 Q2153.1 261.458 2155.46 263.773 Q2157.85 266.064 2162.08 266.064 Q2164.54 266.064 2166.83 265.462 Q2169.15 264.861 2171.41 263.657 L2171.41 267.685 Q2169.12 268.657 2166.71 269.166 Q2164.31 269.675 2161.83 269.675 Q2155.63 269.675 2151.99 266.064 Q2148.38 262.453 2148.38 256.296 Q2148.38 249.93 2151.81 246.203 Q2155.26 242.453 2161.09 242.453 Q2166.32 242.453 2169.35 245.833 Q2172.41 249.189 2172.41 254.976 M2168.15 253.726 Q2168.1 250.231 2166.18 248.148 Q2164.28 246.064 2161.14 246.064 Q2157.57 246.064 2155.42 248.078 Q2153.29 250.092 2152.96 253.75 L2168.15 253.726 Z\" fill=\"#000000\" fill-rule=\"evenodd\" fill-opacity=\"1\" /><path clip-path=\"url(#clip810)\" d=\"M 0 0 M2191.9 247.06 Q2191.18 246.643 2190.33 246.458 Q2189.49 246.25 2188.47 246.25 Q2184.86 246.25 2182.92 248.611 Q2181 250.949 2181 255.347 L2181 269.004 L2176.71 269.004 L2176.71 243.078 L2181 243.078 L2181 247.106 Q2182.34 244.745 2184.49 243.611 Q2186.65 242.453 2189.72 242.453 Q2190.16 242.453 2190.7 242.523 Q2191.23 242.569 2191.88 242.685 L2191.9 247.06 Z\" fill=\"#000000\" fill-rule=\"evenodd\" fill-opacity=\"1\" /><path clip-path=\"url(#clip810)\" d=\"M 0 0 M2212.85 265.069 L2220.49 265.069 L2220.49 238.703 L2212.18 240.37 L2212.18 236.111 L2220.44 234.444 L2225.12 234.444 L2225.12 265.069 L2232.76 265.069 L2232.76 269.004 L2212.85 269.004 L2212.85 265.069 Z\" fill=\"#000000\" fill-rule=\"evenodd\" fill-opacity=\"1\" /></svg>\n"
      ]
     },
     "execution_count": 14,
     "metadata": {},
     "output_type": "execute_result"
    }
   ],
   "source": [
    "plot(Z2, lab=\"order 2\")\n",
    "plot!(Z2red, lab=\"order 1\")"
   ]
  },
  {
   "cell_type": "code",
   "execution_count": 16,
   "metadata": {},
   "outputs": [
    {
     "name": "stdout",
     "output_type": "stream",
     "text": [
      "search: \u001b[0m\u001b[1mH\u001b[22m\u001b[0m\u001b[1mP\u001b[22m\u001b[0m\u001b[1ma\u001b[22m\u001b[0m\u001b[1mr\u001b[22m\u001b[0m\u001b[1ma\u001b[22m\u001b[0m\u001b[1ml\u001b[22m\u001b[0m\u001b[1ml\u001b[22m\u001b[0m\u001b[1me\u001b[22m\u001b[0m\u001b[1ml\u001b[22m\u001b[0m\u001b[1mo\u001b[22m\u001b[0m\u001b[1mt\u001b[22m\u001b[0m\u001b[1mo\u001b[22m\u001b[0m\u001b[1mp\u001b[22m\u001b[0m\u001b[1me\u001b[22m\n",
      "\n"
     ]
    },
    {
     "data": {
      "text/latex": [
       "\\begin{verbatim}\n",
       "HParallelotope{N<:Real, VN<:AbstractVector{N}, MN<:AbstractMatrix{N}} <: AbstractZonotope{N}\n",
       "\\end{verbatim}\n",
       "Type that represents a parallelotope in constraint form.\n",
       "\n",
       "\\subsubsection{Fields}\n",
       "\\begin{itemize}\n",
       "\\item \\texttt{directions} – square matrix such that each row is the direction of two parallel constraints\n",
       "\n",
       "\n",
       "\\item \\texttt{offset}     – vector such that each element is the offset of the corresponding constraint\n",
       "\n",
       "\\end{itemize}\n",
       "\\subsubsection{Notes}\n",
       "Parallelotopes are centrally symmetric convex polytopes in $\\mathbb{R}^n$ having $2n$ pairwise parallel constraints. Every parallelotope is a zonotope. As such, parallelotopes can be represented either in constraint form or in generator form. The \\texttt{HParallelotope} type represents parallelotopes in constraint form.\n",
       "\n",
       "The constraint form of a parallelotope is described next. Let $D ∈ \\mathbb{R}^{n × n}$ be a matrix and let $c ∈ \\mathbb{R}^{2n}$ be a vector. The parallelotope $P ⊂ \\mathbb{R}^n$ generated by the directions matrix $D$ and the offset vector $c$ is given by the set of points $x ∈ \\mathbb{R}^$ such that:\n",
       "\n",
       "$$    D_i ⋅ x ≤ c_{i},\\text{  and  } -D_i ⋅ x ≤ c_{n+i}$$\n",
       "for $i = 1, …, n$. Here $D_i$ represents the $i$-th row of $D$ and $c_i$ the $i$-th component of $c$.\n",
       "\n",
       "For details on the notions given in these notes as well as applications of parallelotopes in reachability analysis we refer to [1] and [2]. For conversions between set representations we refer to [3].\n",
       "\n",
       "\\subsubsection{References}\n",
       "[1] Tommaso Dreossi, Thao Dang, and Carla Piazza. \\emph{Reachability computation for polynomial dynamical systems.}     Formal Methods in System Design 50.1 (2017): 1-38.\n",
       "\n",
       "[2] Tommaso Dreossi, Thao Dang, and Carla Piazza. \\emph{Parallelotope bundles for polynomial reachability.}     Proceedings of the 19th International Conference on Hybrid Systems: Computation and Control. ACM, 2016.\n",
       "\n",
       "[3] Matthias Althoff, Olaf Stursberg, and Martin Buss. \\emph{Computing reachable sets of hybrid systems using     a combination of zonotopes and polytopes.} Nonlinear analysis: hybrid systems 4.2 (2010): 233-249.\n",
       "\n"
      ],
      "text/markdown": [
       "```\n",
       "HParallelotope{N<:Real, VN<:AbstractVector{N}, MN<:AbstractMatrix{N}} <: AbstractZonotope{N}\n",
       "```\n",
       "\n",
       "Type that represents a parallelotope in constraint form.\n",
       "\n",
       "### Fields\n",
       "\n",
       "  * `directions` – square matrix such that each row is the direction of two parallel constraints\n",
       "  * `offset`     – vector such that each element is the offset of the corresponding constraint\n",
       "\n",
       "### Notes\n",
       "\n",
       "Parallelotopes are centrally symmetric convex polytopes in $\\mathbb{R}^n$ having $2n$ pairwise parallel constraints. Every parallelotope is a zonotope. As such, parallelotopes can be represented either in constraint form or in generator form. The `HParallelotope` type represents parallelotopes in constraint form.\n",
       "\n",
       "The constraint form of a parallelotope is described next. Let $D ∈ \\mathbb{R}^{n × n}$ be a matrix and let $c ∈ \\mathbb{R}^{2n}$ be a vector. The parallelotope $P ⊂ \\mathbb{R}^n$ generated by the directions matrix $D$ and the offset vector $c$ is given by the set of points $x ∈ \\mathbb{R}^$ such that:\n",
       "\n",
       "$$\n",
       "    D_i ⋅ x ≤ c_{i},\\text{  and  } -D_i ⋅ x ≤ c_{n+i}\n",
       "$$\n",
       "\n",
       "for $i = 1, …, n$. Here $D_i$ represents the $i$-th row of $D$ and $c_i$ the $i$-th component of $c$.\n",
       "\n",
       "For details on the notions given in these notes as well as applications of parallelotopes in reachability analysis we refer to [1] and [2]. For conversions between set representations we refer to [3].\n",
       "\n",
       "### References\n",
       "\n",
       "[1] Tommaso Dreossi, Thao Dang, and Carla Piazza. *Reachability computation for polynomial dynamical systems.*     Formal Methods in System Design 50.1 (2017): 1-38.\n",
       "\n",
       "[2] Tommaso Dreossi, Thao Dang, and Carla Piazza. *Parallelotope bundles for polynomial reachability.*     Proceedings of the 19th International Conference on Hybrid Systems: Computation and Control. ACM, 2016.\n",
       "\n",
       "[3] Matthias Althoff, Olaf Stursberg, and Martin Buss. *Computing reachable sets of hybrid systems using     a combination of zonotopes and polytopes.* Nonlinear analysis: hybrid systems 4.2 (2010): 233-249.\n"
      ],
      "text/plain": [
       "\u001b[36m  HParallelotope{N<:Real, VN<:AbstractVector{N}, MN<:AbstractMatrix{N}} <: AbstractZonotope{N}\u001b[39m\n",
       "\n",
       "  Type that represents a parallelotope in constraint form.\n",
       "\n",
       "\u001b[1m  Fields\u001b[22m\n",
       "\u001b[1m  ––––––––\u001b[22m\n",
       "\n",
       "    •    \u001b[36mdirections\u001b[39m – square matrix such that each row is the direction of\n",
       "        two parallel constraints\n",
       "\n",
       "    •    \u001b[36moffset\u001b[39m – vector such that each element is the offset of the\n",
       "        corresponding constraint\n",
       "\n",
       "\u001b[1m  Notes\u001b[22m\n",
       "\u001b[1m  –––––––\u001b[22m\n",
       "\n",
       "  Parallelotopes are centrally symmetric convex polytopes in \u001b[35m\\mathbb{R}^n\u001b[39m\n",
       "  having \u001b[35m2n\u001b[39m pairwise parallel constraints. Every parallelotope is a zonotope.\n",
       "  As such, parallelotopes can be represented either in constraint form or in\n",
       "  generator form. The \u001b[36mHParallelotope\u001b[39m type represents parallelotopes in\n",
       "  constraint form.\n",
       "\n",
       "  The constraint form of a parallelotope is described next. Let \u001b[35mD ∈\n",
       "  \\mathbb{R}^{n × n}\u001b[39m be a matrix and let \u001b[35mc ∈ \\mathbb{R}^{2n}\u001b[39m be a vector. The\n",
       "  parallelotope \u001b[35mP ⊂ \\mathbb{R}^n\u001b[39m generated by the directions matrix \u001b[35mD\u001b[39m and the\n",
       "  offset vector \u001b[35mc\u001b[39m is given by the set of points \u001b[35mx ∈ \\mathbb{R}^\u001b[39m such that:\n",
       "\n",
       "\u001b[35m      D_i ⋅ x ≤ c_{i},\\text{  and  } -D_i ⋅ x ≤ c_{n+i}\u001b[39m\n",
       "\n",
       "  for \u001b[35mi = 1, …, n\u001b[39m. Here \u001b[35mD_i\u001b[39m represents the \u001b[35mi\u001b[39m-th row of \u001b[35mD\u001b[39m and \u001b[35mc_i\u001b[39m the \u001b[35mi\u001b[39m-th\n",
       "  component of \u001b[35mc\u001b[39m.\n",
       "\n",
       "  For details on the notions given in these notes as well as applications of\n",
       "  parallelotopes in reachability analysis we refer to [1] and [2]. For\n",
       "  conversions between set representations we refer to [3].\n",
       "\n",
       "\u001b[1m  References\u001b[22m\n",
       "\u001b[1m  ––––––––––––\u001b[22m\n",
       "\n",
       "  [1] Tommaso Dreossi, Thao Dang, and Carla Piazza. \u001b[4mReachability computation\n",
       "  for polynomial dynamical systems.\u001b[24m Formal Methods in System Design 50.1\n",
       "  (2017): 1-38.\n",
       "\n",
       "  [2] Tommaso Dreossi, Thao Dang, and Carla Piazza. \u001b[4mParallelotope bundles for\n",
       "  polynomial reachability.\u001b[24m Proceedings of the 19th International Conference on\n",
       "  Hybrid Systems: Computation and Control. ACM, 2016.\n",
       "\n",
       "  [3] Matthias Althoff, Olaf Stursberg, and Martin Buss. \u001b[4mComputing reachable\n",
       "  sets of hybrid systems using a combination of zonotopes and polytopes.\u001b[24m\n",
       "  Nonlinear analysis: hybrid systems 4.2 (2010): 233-249."
      ]
     },
     "execution_count": 16,
     "metadata": {},
     "output_type": "execute_result"
    }
   ],
   "source": [
    "?HParallelotope"
   ]
  },
  {
   "cell_type": "code",
   "execution_count": 38,
   "metadata": {},
   "outputs": [
    {
     "data": {
      "text/plain": [
       "2//1"
      ]
     },
     "execution_count": 38,
     "metadata": {},
     "output_type": "execute_result"
    }
   ],
   "source": [
    "order(Z2)"
   ]
  },
  {
   "cell_type": "code",
   "execution_count": 37,
   "metadata": {},
   "outputs": [
    {
     "data": {
      "text/plain": [
       "HParallelotope{Float64,Array{Float64,1},LinearAlgebra.Adjoint{Float64,Array{Float64,2}}}([0.4073992604084212 0.9132501533636178; -0.9986770474787501 0.05142134614269108], [2.648956325231049, 1.6587349736527846, 2.3070153049583264, 3.042738532691217])"
      ]
     },
     "execution_count": 37,
     "metadata": {},
     "output_type": "execute_result"
    }
   ],
   "source": [
    "_overapproximate(Z2, HParallelotope)"
   ]
  },
  {
   "cell_type": "code",
   "execution_count": 42,
   "metadata": {},
   "outputs": [
    {
     "data": {
      "text/plain": [
       "2×4 Array{Float64,2}:\n",
       " -1.68628   -0.0806774  -0.00552018  -0.597177\n",
       "  0.752246  -1.56687    -0.781879    -0.0597674"
      ]
     },
     "execution_count": 42,
     "metadata": {},
     "output_type": "execute_result"
    }
   ],
   "source": [
    "G = genmat(Z2)"
   ]
  },
  {
   "cell_type": "code",
   "execution_count": 44,
   "metadata": {},
   "outputs": [
    {
     "data": {
      "text/plain": [
       "2×2 view(::Array{Float64,2}, :, 1:2) with eltype Float64:\n",
       " -1.68628   -0.0806774\n",
       "  0.752246  -1.56687"
      ]
     },
     "execution_count": 44,
     "metadata": {},
     "output_type": "execute_result"
    }
   ],
   "source": [
    "Γ = view(G, :, 1:2)"
   ]
  },
  {
   "cell_type": "code",
   "execution_count": 45,
   "metadata": {},
   "outputs": [
    {
     "data": {
      "text/plain": [
       "Hyperrectangle{Float64,Array{Float64,1},Array{Float64,1}}([-0.40168893190000005, -0.11679797658671706], [1.3645411955671332, 1.6928283654462417])"
      ]
     },
     "execution_count": 45,
     "metadata": {},
     "output_type": "execute_result"
    }
   ],
   "source": [
    "□Γ⁻¹Z = box_approximation(linear_map(inv(Γ), Z2))"
   ]
  },
  {
   "cell_type": "code",
   "execution_count": 47,
   "metadata": {},
   "outputs": [
    {
     "data": {
      "text/plain": [
       "Zonotope{Float64,Array{Float64,1},Array{Float64,2}}([0.6867829113557052, -0.11916158963705781], [-2.3009983317119325 -0.13657298769400755; 1.0264712412998733 -2.6524453042734986])"
      ]
     },
     "execution_count": 47,
     "metadata": {},
     "output_type": "execute_result"
    }
   ],
   "source": [
    "P = linear_map(Γ, □Γ⁻¹Z)"
   ]
  },
  {
   "cell_type": "code",
   "execution_count": 54,
   "metadata": {},
   "outputs": [
    {
     "data": {
      "text/plain": [
       "Zonotope{Float64,Array{Float64,1},Array{Float64,2}}([0.6867829113557052, -0.11916158963705781], [-2.3009983317119325 -0.13657298769400755; 1.0264712412998733 -2.6524453042734986])"
      ]
     },
     "execution_count": 54,
     "metadata": {},
     "output_type": "execute_result"
    }
   ],
   "source": [
    "P = _overapproximate_hparallelotope(Z2, HParallelotope, 1:dim(Z2))"
   ]
  },
  {
   "cell_type": "code",
   "execution_count": 67,
   "metadata": {},
   "outputs": [],
   "source": [
    "using BenchmarkTools"
   ]
  },
  {
   "cell_type": "code",
   "execution_count": 68,
   "metadata": {},
   "outputs": [
    {
     "name": "stdout",
     "output_type": "stream",
     "text": [
      "  2.872 μs (54 allocations: 4.80 KiB)\n"
     ]
    },
    {
     "data": {
      "text/plain": [
       "HParallelotope{Float64,Array{Float64,1},Array{Float64,2}}([0.4073992604084212 0.9132501533636178; -0.9986770474787501 0.05142134614269108], [2.648956325231049, 1.6587349736527846, 2.3070153049583264, 3.042738532691217])"
      ]
     },
     "execution_count": 68,
     "metadata": {},
     "output_type": "execute_result"
    }
   ],
   "source": [
    "@btime _convert_v1(HParallelotope, $P)"
   ]
  },
  {
   "cell_type": "code",
   "execution_count": 69,
   "metadata": {},
   "outputs": [
    {
     "name": "stdout",
     "output_type": "stream",
     "text": [
      "  2.666 μs (50 allocations: 4.47 KiB)\n"
     ]
    },
    {
     "data": {
      "text/plain": [
       "HParallelotope{Float64,Array{Float64,1},Array{Float64,2}}([0.4073992604084212 0.9132501533636178; -0.9986770474787501 0.05142134614269108], [2.648956325231049, 1.6587349736527846, 2.3070153049583264, 3.042738532691217])"
      ]
     },
     "execution_count": 69,
     "metadata": {},
     "output_type": "execute_result"
    }
   ],
   "source": [
    "@btime _convert_v2(HParallelotope, $P)"
   ]
  },
  {
   "cell_type": "code",
   "execution_count": 70,
   "metadata": {},
   "outputs": [
    {
     "name": "stdout",
     "output_type": "stream",
     "text": [
      "  2.450 μs (48 allocations: 4.25 KiB)\n"
     ]
    },
    {
     "data": {
      "text/plain": [
       "4-element Array{HalfSpace{Float64,Array{Float64,1}},1}:\n",
       " HalfSpace{Float64,Array{Float64,1}}([0.4073992604084212, 0.9132501533636178], 2.648956325231049)\n",
       " HalfSpace{Float64,Array{Float64,1}}([-0.4073992604084212, -0.9132501533636178], 2.3070153049583264)\n",
       " HalfSpace{Float64,Array{Float64,1}}([-0.9986770474787501, 0.05142134614269108], 1.6587349736527846)\n",
       " HalfSpace{Float64,Array{Float64,1}}([0.9986770474787501, -0.05142134614269108], 3.042738532691217)"
      ]
     },
     "execution_count": 70,
     "metadata": {},
     "output_type": "execute_result"
    }
   ],
   "source": [
    "@btime constraints_list($P)"
   ]
  },
  {
   "cell_type": "code",
   "execution_count": 55,
   "metadata": {},
   "outputs": [
    {
     "data": {
      "image/svg+xml": [
       "<?xml version=\"1.0\" encoding=\"utf-8\"?>\n",
       "<svg xmlns=\"http://www.w3.org/2000/svg\" xmlns:xlink=\"http://www.w3.org/1999/xlink\" width=\"600\" height=\"400\" viewBox=\"0 0 2400 1600\">\n",
       "<defs>\n",
       "  <clipPath id=\"clip010\">\n",
       "    <rect x=\"0\" y=\"0\" width=\"2400\" height=\"1600\"/>\n",
       "  </clipPath>\n",
       "</defs>\n",
       "<path clip-path=\"url(#clip010)\" d=\"\n",
       "M0 1600 L2400 1600 L2400 0 L0 0  Z\n",
       "  \" fill=\"#ffffff\" fill-rule=\"evenodd\" fill-opacity=\"1\"/>\n",
       "<defs>\n",
       "  <clipPath id=\"clip011\">\n",
       "    <rect x=\"480\" y=\"0\" width=\"1681\" height=\"1600\"/>\n",
       "  </clipPath>\n",
       "</defs>\n",
       "<path clip-path=\"url(#clip010)\" d=\"\n",
       "M126.969 1486.45 L2352.76 1486.45 L2352.76 47.2441 L126.969 47.2441  Z\n",
       "  \" fill=\"#ffffff\" fill-rule=\"evenodd\" fill-opacity=\"1\"/>\n",
       "<defs>\n",
       "  <clipPath id=\"clip012\">\n",
       "    <rect x=\"126\" y=\"47\" width=\"2227\" height=\"1440\"/>\n",
       "  </clipPath>\n",
       "</defs>\n",
       "<polyline clip-path=\"url(#clip012)\" style=\"stroke:#000000; stroke-width:2; stroke-opacity:0.1; fill:none\" points=\"\n",
       "  513.339,1486.45 513.339,47.2441 \n",
       "  \"/>\n",
       "<polyline clip-path=\"url(#clip012)\" style=\"stroke:#000000; stroke-width:2; stroke-opacity:0.1; fill:none\" points=\"\n",
       "  944.054,1486.45 944.054,47.2441 \n",
       "  \"/>\n",
       "<polyline clip-path=\"url(#clip012)\" style=\"stroke:#000000; stroke-width:2; stroke-opacity:0.1; fill:none\" points=\"\n",
       "  1374.77,1486.45 1374.77,47.2441 \n",
       "  \"/>\n",
       "<polyline clip-path=\"url(#clip012)\" style=\"stroke:#000000; stroke-width:2; stroke-opacity:0.1; fill:none\" points=\"\n",
       "  1805.49,1486.45 1805.49,47.2441 \n",
       "  \"/>\n",
       "<polyline clip-path=\"url(#clip012)\" style=\"stroke:#000000; stroke-width:2; stroke-opacity:0.1; fill:none\" points=\"\n",
       "  2236.2,1486.45 2236.2,47.2441 \n",
       "  \"/>\n",
       "<polyline clip-path=\"url(#clip012)\" style=\"stroke:#000000; stroke-width:2; stroke-opacity:0.1; fill:none\" points=\"\n",
       "  126.969,1482.98 2352.76,1482.98 \n",
       "  \"/>\n",
       "<polyline clip-path=\"url(#clip012)\" style=\"stroke:#000000; stroke-width:2; stroke-opacity:0.1; fill:none\" points=\"\n",
       "  126.969,1113.92 2352.76,1113.92 \n",
       "  \"/>\n",
       "<polyline clip-path=\"url(#clip012)\" style=\"stroke:#000000; stroke-width:2; stroke-opacity:0.1; fill:none\" points=\"\n",
       "  126.969,744.857 2352.76,744.857 \n",
       "  \"/>\n",
       "<polyline clip-path=\"url(#clip012)\" style=\"stroke:#000000; stroke-width:2; stroke-opacity:0.1; fill:none\" points=\"\n",
       "  126.969,375.798 2352.76,375.798 \n",
       "  \"/>\n",
       "<polyline clip-path=\"url(#clip010)\" style=\"stroke:#000000; stroke-width:4; stroke-opacity:1; fill:none\" points=\"\n",
       "  126.969,1486.45 2352.76,1486.45 \n",
       "  \"/>\n",
       "<polyline clip-path=\"url(#clip010)\" style=\"stroke:#000000; stroke-width:4; stroke-opacity:1; fill:none\" points=\"\n",
       "  126.969,1486.45 126.969,47.2441 \n",
       "  \"/>\n",
       "<polyline clip-path=\"url(#clip010)\" style=\"stroke:#000000; stroke-width:4; stroke-opacity:1; fill:none\" points=\"\n",
       "  513.339,1486.45 513.339,1469.18 \n",
       "  \"/>\n",
       "<polyline clip-path=\"url(#clip010)\" style=\"stroke:#000000; stroke-width:4; stroke-opacity:1; fill:none\" points=\"\n",
       "  944.054,1486.45 944.054,1469.18 \n",
       "  \"/>\n",
       "<polyline clip-path=\"url(#clip010)\" style=\"stroke:#000000; stroke-width:4; stroke-opacity:1; fill:none\" points=\"\n",
       "  1374.77,1486.45 1374.77,1469.18 \n",
       "  \"/>\n",
       "<polyline clip-path=\"url(#clip010)\" style=\"stroke:#000000; stroke-width:4; stroke-opacity:1; fill:none\" points=\"\n",
       "  1805.49,1486.45 1805.49,1469.18 \n",
       "  \"/>\n",
       "<polyline clip-path=\"url(#clip010)\" style=\"stroke:#000000; stroke-width:4; stroke-opacity:1; fill:none\" points=\"\n",
       "  2236.2,1486.45 2236.2,1469.18 \n",
       "  \"/>\n",
       "<polyline clip-path=\"url(#clip010)\" style=\"stroke:#000000; stroke-width:4; stroke-opacity:1; fill:none\" points=\"\n",
       "  126.969,1482.98 153.678,1482.98 \n",
       "  \"/>\n",
       "<polyline clip-path=\"url(#clip010)\" style=\"stroke:#000000; stroke-width:4; stroke-opacity:1; fill:none\" points=\"\n",
       "  126.969,1113.92 153.678,1113.92 \n",
       "  \"/>\n",
       "<polyline clip-path=\"url(#clip010)\" style=\"stroke:#000000; stroke-width:4; stroke-opacity:1; fill:none\" points=\"\n",
       "  126.969,744.857 153.678,744.857 \n",
       "  \"/>\n",
       "<polyline clip-path=\"url(#clip010)\" style=\"stroke:#000000; stroke-width:4; stroke-opacity:1; fill:none\" points=\"\n",
       "  126.969,375.798 153.678,375.798 \n",
       "  \"/>\n",
       "<path clip-path=\"url(#clip010)\" d=\"M 0 0 M494.207 1525.04 L506.684 1525.04 L506.684 1528.83 L494.207 1528.83 L494.207 1525.04 Z\" fill=\"#000000\" fill-rule=\"evenodd\" fill-opacity=\"1\" /><path clip-path=\"url(#clip010)\" d=\"M 0 0 M512.563 1535.98 L520.202 1535.98 L520.202 1509.62 L511.892 1511.29 L511.892 1507.03 L520.156 1505.36 L524.832 1505.36 L524.832 1535.98 L532.471 1535.98 L532.471 1539.92 L512.563 1539.92 L512.563 1535.98 Z\" fill=\"#000000\" fill-rule=\"evenodd\" fill-opacity=\"1\" /><path clip-path=\"url(#clip010)\" d=\"M 0 0 M944.054 1508.44 Q940.443 1508.44 938.615 1512 Q936.809 1515.55 936.809 1522.67 Q936.809 1529.78 938.615 1533.35 Q940.443 1536.89 944.054 1536.89 Q947.689 1536.89 949.494 1533.35 Q951.323 1529.78 951.323 1522.67 Q951.323 1515.55 949.494 1512 Q947.689 1508.44 944.054 1508.44 M944.054 1504.73 Q949.864 1504.73 952.92 1509.34 Q955.999 1513.92 955.999 1522.67 Q955.999 1531.4 952.92 1536.01 Q949.864 1540.59 944.054 1540.59 Q938.244 1540.59 935.165 1536.01 Q932.11 1531.4 932.11 1522.67 Q932.11 1513.92 935.165 1509.34 Q938.244 1504.73 944.054 1504.73 Z\" fill=\"#000000\" fill-rule=\"evenodd\" fill-opacity=\"1\" /><path clip-path=\"url(#clip010)\" d=\"M 0 0 M1365.15 1535.98 L1372.79 1535.98 L1372.79 1509.62 L1364.48 1511.29 L1364.48 1507.03 L1372.74 1505.36 L1377.42 1505.36 L1377.42 1535.98 L1385.06 1535.98 L1385.06 1539.92 L1365.15 1539.92 L1365.15 1535.98 Z\" fill=\"#000000\" fill-rule=\"evenodd\" fill-opacity=\"1\" /><path clip-path=\"url(#clip010)\" d=\"M 0 0 M1800.14 1535.98 L1816.46 1535.98 L1816.46 1539.92 L1794.51 1539.92 L1794.51 1535.98 Q1797.18 1533.23 1801.76 1528.6 Q1806.36 1523.95 1807.55 1522.61 Q1809.79 1520.08 1810.67 1518.35 Q1811.57 1516.59 1811.57 1514.9 Q1811.57 1512.14 1809.63 1510.41 Q1807.71 1508.67 1804.61 1508.67 Q1802.41 1508.67 1799.95 1509.43 Q1797.52 1510.2 1794.74 1511.75 L1794.74 1507.03 Q1797.57 1505.89 1800.02 1505.31 Q1802.48 1504.73 1804.51 1504.73 Q1809.88 1504.73 1813.08 1507.42 Q1816.27 1510.11 1816.27 1514.6 Q1816.27 1516.73 1815.46 1518.65 Q1814.67 1520.54 1812.57 1523.14 Q1811.99 1523.81 1808.89 1527.03 Q1805.79 1530.22 1800.14 1535.98 Z\" fill=\"#000000\" fill-rule=\"evenodd\" fill-opacity=\"1\" /><path clip-path=\"url(#clip010)\" d=\"M 0 0 M2240.45 1521.29 Q2243.8 1522 2245.68 1524.27 Q2247.58 1526.54 2247.58 1529.87 Q2247.58 1534.99 2244.06 1537.79 Q2240.54 1540.59 2234.06 1540.59 Q2231.88 1540.59 2229.57 1540.15 Q2227.28 1539.73 2224.82 1538.88 L2224.82 1534.36 Q2226.77 1535.5 2229.08 1536.08 Q2231.4 1536.66 2233.92 1536.66 Q2238.32 1536.66 2240.61 1534.92 Q2242.93 1533.18 2242.93 1529.87 Q2242.93 1526.82 2240.77 1525.11 Q2238.64 1523.37 2234.82 1523.37 L2230.8 1523.37 L2230.8 1519.53 L2235.01 1519.53 Q2238.46 1519.53 2240.29 1518.16 Q2242.11 1516.77 2242.11 1514.18 Q2242.11 1511.52 2240.22 1510.11 Q2238.34 1508.67 2234.82 1508.67 Q2232.9 1508.67 2230.7 1509.09 Q2228.5 1509.5 2225.87 1510.38 L2225.87 1506.22 Q2228.53 1505.48 2230.84 1505.11 Q2233.18 1504.73 2235.24 1504.73 Q2240.56 1504.73 2243.67 1507.17 Q2246.77 1509.57 2246.77 1513.69 Q2246.77 1516.56 2245.12 1518.55 Q2243.48 1520.52 2240.45 1521.29 Z\" fill=\"#000000\" fill-rule=\"evenodd\" fill-opacity=\"1\" /><path clip-path=\"url(#clip010)\" d=\"M 0 0 M62.9921 1485.37 L75.4689 1485.37 L75.4689 1489.17 L62.9921 1489.17 L62.9921 1485.37 Z\" fill=\"#000000\" fill-rule=\"evenodd\" fill-opacity=\"1\" /><path clip-path=\"url(#clip010)\" d=\"M 0 0 M93.3855 1469.77 L81.58 1488.22 L93.3855 1488.22 L93.3855 1469.77 M92.1586 1465.7 L98.0382 1465.7 L98.0382 1488.22 L102.969 1488.22 L102.969 1492.11 L98.0382 1492.11 L98.0382 1500.26 L93.3855 1500.26 L93.3855 1492.11 L77.7837 1492.11 L77.7837 1487.59 L92.1586 1465.7 Z\" fill=\"#000000\" fill-rule=\"evenodd\" fill-opacity=\"1\" /><path clip-path=\"url(#clip010)\" d=\"M 0 0 M65.0754 1116.31 L77.5522 1116.31 L77.5522 1120.11 L65.0754 1120.11 L65.0754 1116.31 Z\" fill=\"#000000\" fill-rule=\"evenodd\" fill-opacity=\"1\" /><path clip-path=\"url(#clip010)\" d=\"M 0 0 M86.6494 1127.26 L102.969 1127.26 L102.969 1131.2 L81.0244 1131.2 L81.0244 1127.26 Q83.6865 1124.51 88.2698 1119.88 Q92.8762 1115.22 94.0568 1113.88 Q96.3021 1111.36 97.1818 1109.62 Q98.0845 1107.86 98.0845 1106.17 Q98.0845 1103.42 96.1401 1101.68 Q94.2188 1099.95 91.117 1099.95 Q88.9179 1099.95 86.4642 1100.71 Q84.0337 1101.47 81.2559 1103.03 L81.2559 1098.3 Q84.08 1097.17 86.5337 1096.59 Q88.9874 1096.01 91.0244 1096.01 Q96.3947 1096.01 99.5892 1098.7 Q102.784 1101.38 102.784 1105.87 Q102.784 1108 101.973 1109.92 Q101.186 1111.82 99.0799 1114.41 Q98.5012 1115.09 95.3994 1118.3 Q92.2975 1121.5 86.6494 1127.26 Z\" fill=\"#000000\" fill-rule=\"evenodd\" fill-opacity=\"1\" /><path clip-path=\"url(#clip010)\" d=\"M 0 0 M91.0244 730.656 Q87.4133 730.656 85.5846 734.221 Q83.7791 737.762 83.7791 744.892 Q83.7791 751.998 85.5846 755.563 Q87.4133 759.105 91.0244 759.105 Q94.6586 759.105 96.4642 755.563 Q98.2929 751.998 98.2929 744.892 Q98.2929 737.762 96.4642 734.221 Q94.6586 730.656 91.0244 730.656 M91.0244 726.952 Q96.8345 726.952 99.8901 731.559 Q102.969 736.142 102.969 744.892 Q102.969 753.619 99.8901 758.225 Q96.8345 762.808 91.0244 762.808 Q85.2142 762.808 82.1355 758.225 Q79.08 753.619 79.08 744.892 Q79.08 736.142 82.1355 731.559 Q85.2142 726.952 91.0244 726.952 Z\" fill=\"#000000\" fill-rule=\"evenodd\" fill-opacity=\"1\" /><path clip-path=\"url(#clip010)\" d=\"M 0 0 M86.6494 389.142 L102.969 389.142 L102.969 393.078 L81.0244 393.078 L81.0244 389.142 Q83.6865 386.388 88.2698 381.758 Q92.8762 377.105 94.0568 375.763 Q96.3021 373.24 97.1818 371.504 Q98.0845 369.744 98.0845 368.055 Q98.0845 365.3 96.1401 363.564 Q94.2188 361.828 91.117 361.828 Q88.9179 361.828 86.4642 362.592 Q84.0337 363.355 81.2559 364.906 L81.2559 360.184 Q84.08 359.05 86.5337 358.471 Q88.9874 357.893 91.0244 357.893 Q96.3947 357.893 99.5892 360.578 Q102.784 363.263 102.784 367.754 Q102.784 369.883 101.973 371.805 Q101.186 373.703 99.0799 376.295 Q98.5012 376.967 95.3994 380.184 Q92.2975 383.379 86.6494 389.142 Z\" fill=\"#000000\" fill-rule=\"evenodd\" fill-opacity=\"1\" /><path clip-path=\"url(#clip012)\" d=\"\n",
       "M219.215 1072.48 L1671.83 1350.1 L2186.26 1328.04 L2255.75 749.774 L2260.51 461.215 L807.896 183.591 L293.469 205.649 L223.971 783.918 L219.215 1072.48 L219.215 1072.48 \n",
       "   Z\n",
       "  \" fill=\"#009af9\" fill-rule=\"evenodd\" fill-opacity=\"0.5\"/>\n",
       "<polyline clip-path=\"url(#clip012)\" style=\"stroke:#000000; stroke-width:4; stroke-opacity:0.5; fill:none\" points=\"\n",
       "  219.215,1072.48 1671.83,1350.1 2186.26,1328.04 2255.75,749.774 2260.51,461.215 807.896,183.591 293.469,205.649 223.971,783.918 219.215,1072.48 \n",
       "  \n",
       "  \"/>\n",
       "<path clip-path=\"url(#clip012)\" d=\"\n",
       "M2260.51 183.591 L219.215 183.591 L219.215 1350.1 L2260.51 1350.1 L2260.51 183.591 L2260.51 183.591  Z\n",
       "  \" fill=\"#e26f46\" fill-rule=\"evenodd\" fill-opacity=\"0.5\"/>\n",
       "<polyline clip-path=\"url(#clip012)\" style=\"stroke:#000000; stroke-width:4; stroke-opacity:0.5; fill:none\" points=\"\n",
       "  2260.51,183.591 219.215,183.591 219.215,1350.1 2260.51,1350.1 2260.51,183.591 \n",
       "  \"/>\n",
       "<path clip-path=\"url(#clip012)\" d=\"\n",
       "M189.963 1066.89 L2172.11 1445.72 L2289.76 466.805 L307.611 87.9763 L189.963 1066.89 L189.963 1066.89  Z\n",
       "  \" fill=\"#3da44d\" fill-rule=\"evenodd\" fill-opacity=\"0.5\"/>\n",
       "<polyline clip-path=\"url(#clip012)\" style=\"stroke:#000000; stroke-width:4; stroke-opacity:0.5; fill:none\" points=\"\n",
       "  189.963,1066.89 2172.11,1445.72 2289.76,466.805 307.611,87.9763 189.963,1066.89 \n",
       "  \"/>\n",
       "<path clip-path=\"url(#clip010)\" d=\"\n",
       "M2018.44 251.724 L2280.76 251.724 L2280.76 130.764 L2018.44 130.764  Z\n",
       "  \" fill=\"#ffffff\" fill-rule=\"evenodd\" fill-opacity=\"1\"/>\n",
       "<polyline clip-path=\"url(#clip010)\" style=\"stroke:#000000; stroke-width:4; stroke-opacity:1; fill:none\" points=\"\n",
       "  2018.44,251.724 2280.76,251.724 2280.76,130.764 2018.44,130.764 2018.44,251.724 \n",
       "  \"/>\n",
       "<path clip-path=\"url(#clip010)\" d=\"\n",
       "M2042.44 215.436 L2186.44 215.436 L2186.44 167.052 L2042.44 167.052 L2042.44 215.436  Z\n",
       "  \" fill=\"#3da44d\" fill-rule=\"evenodd\" fill-opacity=\"0.5\"/>\n",
       "<polyline clip-path=\"url(#clip010)\" style=\"stroke:#000000; stroke-width:4; stroke-opacity:1; fill:none\" points=\"\n",
       "  2042.44,215.436 2186.44,215.436 2186.44,167.052 2042.44,167.052 2042.44,215.436 \n",
       "  \"/>\n",
       "<path clip-path=\"url(#clip010)\" d=\"M 0 0 M2215.12 177.807 L2215.12 190.793 L2221 190.793 Q2224.26 190.793 2226.04 189.103 Q2227.83 187.413 2227.83 184.288 Q2227.83 181.186 2226.04 179.496 Q2224.26 177.807 2221 177.807 L2215.12 177.807 M2210.44 173.964 L2221 173.964 Q2226.81 173.964 2229.77 176.603 Q2232.76 179.219 2232.76 184.288 Q2232.76 189.404 2229.77 192.02 Q2226.81 194.635 2221 194.635 L2215.12 194.635 L2215.12 208.524 L2210.44 208.524 L2210.44 173.964 Z\" fill=\"#000000\" fill-rule=\"evenodd\" fill-opacity=\"1\" /></svg>\n"
      ]
     },
     "execution_count": 55,
     "metadata": {},
     "output_type": "execute_result"
    }
   ],
   "source": [
    "plot(Z2)\n",
    "plot!(reduce_order(Z2, 1))\n",
    "#plot!(□Γ⁻¹Z)\n",
    "plot!(P, lab=\"P\")"
   ]
  },
  {
   "cell_type": "code",
   "execution_count": 64,
   "metadata": {},
   "outputs": [
    {
     "data": {
      "text/plain": [
       "_convert_v2 (generic function with 1 method)"
      ]
     },
     "execution_count": 64,
     "metadata": {},
     "output_type": "execute_result"
    }
   ],
   "source": [
    "function _convert_v1(::Type{<:HParallelotope}, Z::AbstractZonotope)\n",
    "    @assert order(Z) == 1 \"cannot convert a zonotope that is not of order 1 to\"*\n",
    "                          \" a parallelotope\"\n",
    "    n = Int(2*dim(Z))\n",
    "    constraints = constraints_list(Z)\n",
    "\n",
    "    D = copy(transpose(reduce(hcat, [constraints[i].a for i in 1:2:n])))\n",
    "    c = [constraints[i].b for i in 1:2:n-1]\n",
    "    append!(c, [constraints[i].b for i in 2:2:n])\n",
    "    return HParallelotope(D, c)\n",
    "end\n",
    "\n",
    "function _convert_v2(::Type{<:HParallelotope}, Z::AbstractZonotope{N}) where {N}\n",
    "    @assert order(Z) == 1 \"cannot convert a zonotope that is not of order 1 to\"*\n",
    "                          \" a parallelotope\"\n",
    "    n = dim(Z)\n",
    "\n",
    "    constraints = constraints_list(Z)\n",
    "    \n",
    "    D = Matrix{N}(undef, n, n)\n",
    "    c = Vector{N}(undef, 2n)\n",
    "    j = 1\n",
    "    @inbounds for i in 1:n\n",
    "        D[i, :] = constraints[j].a\n",
    "        c[i] = constraints[j].b\n",
    "        c[i+n] = constraints[j+1].b\n",
    "        j += 2\n",
    "    end\n",
    "    return HParallelotope(D, c)\n",
    "end"
   ]
  },
  {
   "cell_type": "code",
   "execution_count": 124,
   "metadata": {},
   "outputs": [
    {
     "data": {
      "text/plain": [
       "_overapproximate_hparallelotope (generic function with 2 methods)"
      ]
     },
     "execution_count": 124,
     "metadata": {},
     "output_type": "execute_result"
    }
   ],
   "source": [
    "function _overapproximate(Z::Zonotope, ::Type{<:HParallelotope}, indices=1:dim(Z))\n",
    "    Zred = _overapproximate_hparallelotope(Z, HParallelotope, indices)\n",
    "    return _convert(HParallelotope, Zred)\n",
    "end\n",
    "\n",
    "function _overapproximate_hparallelotope(Z::Zonotope, ::Type{<:HParallelotope}, indices=1:dim(Z))\n",
    "    length(indices) == dim(Z) || throw(ArgumentError(\"the number of generator indices is $(length(indices)), \" *\n",
    "                                                     \"but it was expected to be $(dim(Z))\"))\n",
    "\n",
    "    p, n = ngens(Z), dim(Z)\n",
    "    if p == n\n",
    "        return _convert(HParallelotope, Z)\n",
    "    elseif p < n\n",
    "        error(\"the zonotope order is $(order(Z)) but it should be at least 1\")\n",
    "    end\n",
    "    \n",
    "    G = genmat(Z)\n",
    "    Γ = G[:, indices]\n",
    "    □Γ⁻¹Z = box_approximation(linear_map(inv(Γ), Z))\n",
    "    return linear_map(Γ, □Γ⁻¹Z)\n",
    "end"
   ]
  },
  {
   "cell_type": "markdown",
   "metadata": {},
   "source": [
    "---"
   ]
  },
  {
   "cell_type": "code",
   "execution_count": 117,
   "metadata": {},
   "outputs": [
    {
     "data": {
      "text/plain": [
       "HParallelotope{Float64,Array{Float64,1},Array{Float64,2}}([-0.9556974344135548 -0.29435083464354106; 0.3193473431555494 0.9476377337461251], [3.665159986973069, 2.8791610762455373, 3.2699373582582987, 2.8019313291480237])"
      ]
     },
     "execution_count": 117,
     "metadata": {},
     "output_type": "execute_result"
    }
   ],
   "source": [
    "Z = rand(Zonotope, dim=2, num_generators=6)\n",
    "\n",
    "P = _overapproximate(Z, HParallelotope)"
   ]
  },
  {
   "cell_type": "code",
   "execution_count": 123,
   "metadata": {},
   "outputs": [
    {
     "name": "stdout",
     "output_type": "stream",
     "text": [
      "  4.770 μs (73 allocations: 6.31 KiB)\n"
     ]
    },
    {
     "data": {
      "text/plain": [
       "HParallelotope{Float64,Array{Float64,1},Array{Float64,2}}([-0.9556974344135548 -0.29435083464354106; 0.3193473431555494 0.9476377337461251], [3.665159986973069, 2.8791610762455373, 3.2699373582582987, 2.8019313291480237])"
      ]
     },
     "execution_count": 123,
     "metadata": {},
     "output_type": "execute_result"
    }
   ],
   "source": [
    "@btime _overapproximate($Z, HParallelotope) # view"
   ]
  },
  {
   "cell_type": "code",
   "execution_count": 125,
   "metadata": {},
   "outputs": [
    {
     "name": "stdout",
     "output_type": "stream",
     "text": [
      "  4.791 μs (74 allocations: 6.42 KiB)\n"
     ]
    },
    {
     "data": {
      "text/plain": [
       "HParallelotope{Float64,Array{Float64,1},Array{Float64,2}}([-0.9556974344135548 -0.29435083464354106; 0.3193473431555494 0.9476377337461251], [3.665159986973069, 2.8791610762455373, 3.2699373582582987, 2.8019313291480237])"
      ]
     },
     "execution_count": 125,
     "metadata": {},
     "output_type": "execute_result"
    }
   ],
   "source": [
    "@btime _overapproximate($Z, HParallelotope) # array"
   ]
  },
  {
   "cell_type": "code",
   "execution_count": null,
   "metadata": {},
   "outputs": [],
   "source": []
  },
  {
   "cell_type": "code",
   "execution_count": null,
   "metadata": {},
   "outputs": [],
   "source": []
  },
  {
   "cell_type": "code",
   "execution_count": 114,
   "metadata": {},
   "outputs": [
    {
     "data": {
      "image/svg+xml": [
       "<?xml version=\"1.0\" encoding=\"utf-8\"?>\n",
       "<svg xmlns=\"http://www.w3.org/2000/svg\" xmlns:xlink=\"http://www.w3.org/1999/xlink\" width=\"600\" height=\"400\" viewBox=\"0 0 2400 1600\">\n",
       "<defs>\n",
       "  <clipPath id=\"clip610\">\n",
       "    <rect x=\"0\" y=\"0\" width=\"2400\" height=\"1600\"/>\n",
       "  </clipPath>\n",
       "</defs>\n",
       "<path clip-path=\"url(#clip610)\" d=\"\n",
       "M0 1600 L2400 1600 L2400 0 L0 0  Z\n",
       "  \" fill=\"#ffffff\" fill-rule=\"evenodd\" fill-opacity=\"1\"/>\n",
       "<defs>\n",
       "  <clipPath id=\"clip611\">\n",
       "    <rect x=\"480\" y=\"0\" width=\"1681\" height=\"1600\"/>\n",
       "  </clipPath>\n",
       "</defs>\n",
       "<path clip-path=\"url(#clip610)\" d=\"\n",
       "M126.969 1486.45 L2352.76 1486.45 L2352.76 47.2441 L126.969 47.2441  Z\n",
       "  \" fill=\"#ffffff\" fill-rule=\"evenodd\" fill-opacity=\"1\"/>\n",
       "<defs>\n",
       "  <clipPath id=\"clip612\">\n",
       "    <rect x=\"126\" y=\"47\" width=\"2227\" height=\"1440\"/>\n",
       "  </clipPath>\n",
       "</defs>\n",
       "<polyline clip-path=\"url(#clip612)\" style=\"stroke:#000000; stroke-width:2; stroke-opacity:0.1; fill:none\" points=\"\n",
       "  223.912,1486.45 223.912,47.2441 \n",
       "  \"/>\n",
       "<polyline clip-path=\"url(#clip612)\" style=\"stroke:#000000; stroke-width:2; stroke-opacity:0.1; fill:none\" points=\"\n",
       "  571.674,1486.45 571.674,47.2441 \n",
       "  \"/>\n",
       "<polyline clip-path=\"url(#clip612)\" style=\"stroke:#000000; stroke-width:2; stroke-opacity:0.1; fill:none\" points=\"\n",
       "  919.437,1486.45 919.437,47.2441 \n",
       "  \"/>\n",
       "<polyline clip-path=\"url(#clip612)\" style=\"stroke:#000000; stroke-width:2; stroke-opacity:0.1; fill:none\" points=\"\n",
       "  1267.2,1486.45 1267.2,47.2441 \n",
       "  \"/>\n",
       "<polyline clip-path=\"url(#clip612)\" style=\"stroke:#000000; stroke-width:2; stroke-opacity:0.1; fill:none\" points=\"\n",
       "  1614.96,1486.45 1614.96,47.2441 \n",
       "  \"/>\n",
       "<polyline clip-path=\"url(#clip612)\" style=\"stroke:#000000; stroke-width:2; stroke-opacity:0.1; fill:none\" points=\"\n",
       "  1962.72,1486.45 1962.72,47.2441 \n",
       "  \"/>\n",
       "<polyline clip-path=\"url(#clip612)\" style=\"stroke:#000000; stroke-width:2; stroke-opacity:0.1; fill:none\" points=\"\n",
       "  2310.48,1486.45 2310.48,47.2441 \n",
       "  \"/>\n",
       "<polyline clip-path=\"url(#clip612)\" style=\"stroke:#000000; stroke-width:2; stroke-opacity:0.1; fill:none\" points=\"\n",
       "  126.969,1310.42 2352.76,1310.42 \n",
       "  \"/>\n",
       "<polyline clip-path=\"url(#clip612)\" style=\"stroke:#000000; stroke-width:2; stroke-opacity:0.1; fill:none\" points=\"\n",
       "  126.969,1033.06 2352.76,1033.06 \n",
       "  \"/>\n",
       "<polyline clip-path=\"url(#clip612)\" style=\"stroke:#000000; stroke-width:2; stroke-opacity:0.1; fill:none\" points=\"\n",
       "  126.969,755.696 2352.76,755.696 \n",
       "  \"/>\n",
       "<polyline clip-path=\"url(#clip612)\" style=\"stroke:#000000; stroke-width:2; stroke-opacity:0.1; fill:none\" points=\"\n",
       "  126.969,478.334 2352.76,478.334 \n",
       "  \"/>\n",
       "<polyline clip-path=\"url(#clip612)\" style=\"stroke:#000000; stroke-width:2; stroke-opacity:0.1; fill:none\" points=\"\n",
       "  126.969,200.973 2352.76,200.973 \n",
       "  \"/>\n",
       "<polyline clip-path=\"url(#clip610)\" style=\"stroke:#000000; stroke-width:4; stroke-opacity:1; fill:none\" points=\"\n",
       "  126.969,1486.45 2352.76,1486.45 \n",
       "  \"/>\n",
       "<polyline clip-path=\"url(#clip610)\" style=\"stroke:#000000; stroke-width:4; stroke-opacity:1; fill:none\" points=\"\n",
       "  126.969,1486.45 126.969,47.2441 \n",
       "  \"/>\n",
       "<polyline clip-path=\"url(#clip610)\" style=\"stroke:#000000; stroke-width:4; stroke-opacity:1; fill:none\" points=\"\n",
       "  223.912,1486.45 223.912,1469.18 \n",
       "  \"/>\n",
       "<polyline clip-path=\"url(#clip610)\" style=\"stroke:#000000; stroke-width:4; stroke-opacity:1; fill:none\" points=\"\n",
       "  571.674,1486.45 571.674,1469.18 \n",
       "  \"/>\n",
       "<polyline clip-path=\"url(#clip610)\" style=\"stroke:#000000; stroke-width:4; stroke-opacity:1; fill:none\" points=\"\n",
       "  919.437,1486.45 919.437,1469.18 \n",
       "  \"/>\n",
       "<polyline clip-path=\"url(#clip610)\" style=\"stroke:#000000; stroke-width:4; stroke-opacity:1; fill:none\" points=\"\n",
       "  1267.2,1486.45 1267.2,1469.18 \n",
       "  \"/>\n",
       "<polyline clip-path=\"url(#clip610)\" style=\"stroke:#000000; stroke-width:4; stroke-opacity:1; fill:none\" points=\"\n",
       "  1614.96,1486.45 1614.96,1469.18 \n",
       "  \"/>\n",
       "<polyline clip-path=\"url(#clip610)\" style=\"stroke:#000000; stroke-width:4; stroke-opacity:1; fill:none\" points=\"\n",
       "  1962.72,1486.45 1962.72,1469.18 \n",
       "  \"/>\n",
       "<polyline clip-path=\"url(#clip610)\" style=\"stroke:#000000; stroke-width:4; stroke-opacity:1; fill:none\" points=\"\n",
       "  2310.48,1486.45 2310.48,1469.18 \n",
       "  \"/>\n",
       "<polyline clip-path=\"url(#clip610)\" style=\"stroke:#000000; stroke-width:4; stroke-opacity:1; fill:none\" points=\"\n",
       "  126.969,1310.42 153.678,1310.42 \n",
       "  \"/>\n",
       "<polyline clip-path=\"url(#clip610)\" style=\"stroke:#000000; stroke-width:4; stroke-opacity:1; fill:none\" points=\"\n",
       "  126.969,1033.06 153.678,1033.06 \n",
       "  \"/>\n",
       "<polyline clip-path=\"url(#clip610)\" style=\"stroke:#000000; stroke-width:4; stroke-opacity:1; fill:none\" points=\"\n",
       "  126.969,755.696 153.678,755.696 \n",
       "  \"/>\n",
       "<polyline clip-path=\"url(#clip610)\" style=\"stroke:#000000; stroke-width:4; stroke-opacity:1; fill:none\" points=\"\n",
       "  126.969,478.334 153.678,478.334 \n",
       "  \"/>\n",
       "<polyline clip-path=\"url(#clip610)\" style=\"stroke:#000000; stroke-width:4; stroke-opacity:1; fill:none\" points=\"\n",
       "  126.969,200.973 153.678,200.973 \n",
       "  \"/>\n",
       "<path clip-path=\"url(#clip610)\" d=\"M 0 0 M191.771 1525.04 L204.248 1525.04 L204.248 1528.83 L191.771 1528.83 L191.771 1525.04 Z\" fill=\"#000000\" fill-rule=\"evenodd\" fill-opacity=\"1\" /><path clip-path=\"url(#clip610)\" d=\"M 0 0 M210.128 1535.98 L217.767 1535.98 L217.767 1509.62 L209.456 1511.29 L209.456 1507.03 L217.72 1505.36 L222.396 1505.36 L222.396 1535.98 L230.035 1535.98 L230.035 1539.92 L210.128 1539.92 L210.128 1535.98 Z\" fill=\"#000000\" fill-rule=\"evenodd\" fill-opacity=\"1\" /><path clip-path=\"url(#clip610)\" d=\"M 0 0 M235.151 1505.36 L253.507 1505.36 L253.507 1509.3 L239.433 1509.3 L239.433 1517.77 Q240.452 1517.42 241.47 1517.26 Q242.489 1517.07 243.507 1517.07 Q249.294 1517.07 252.674 1520.24 Q256.053 1523.42 256.053 1528.83 Q256.053 1534.41 252.581 1537.51 Q249.109 1540.59 242.79 1540.59 Q240.614 1540.59 238.345 1540.22 Q236.1 1539.85 233.692 1539.11 L233.692 1534.41 Q235.776 1535.54 237.998 1536.1 Q240.22 1536.66 242.697 1536.66 Q246.702 1536.66 249.04 1534.55 Q251.377 1532.44 251.377 1528.83 Q251.377 1525.22 249.04 1523.11 Q246.702 1521.01 242.697 1521.01 Q240.822 1521.01 238.947 1521.42 Q237.095 1521.84 235.151 1522.72 L235.151 1505.36 Z\" fill=\"#000000\" fill-rule=\"evenodd\" fill-opacity=\"1\" /><path clip-path=\"url(#clip610)\" d=\"M 0 0 M539.036 1525.04 L551.513 1525.04 L551.513 1528.83 L539.036 1528.83 L539.036 1525.04 Z\" fill=\"#000000\" fill-rule=\"evenodd\" fill-opacity=\"1\" /><path clip-path=\"url(#clip610)\" d=\"M 0 0 M557.392 1535.98 L565.031 1535.98 L565.031 1509.62 L556.721 1511.29 L556.721 1507.03 L564.985 1505.36 L569.661 1505.36 L569.661 1535.98 L577.299 1535.98 L577.299 1539.92 L557.392 1539.92 L557.392 1535.98 Z\" fill=\"#000000\" fill-rule=\"evenodd\" fill-opacity=\"1\" /><path clip-path=\"url(#clip610)\" d=\"M 0 0 M592.369 1508.44 Q588.758 1508.44 586.929 1512 Q585.123 1515.55 585.123 1522.67 Q585.123 1529.78 586.929 1533.35 Q588.758 1536.89 592.369 1536.89 Q596.003 1536.89 597.809 1533.35 Q599.637 1529.78 599.637 1522.67 Q599.637 1515.55 597.809 1512 Q596.003 1508.44 592.369 1508.44 M592.369 1504.73 Q598.179 1504.73 601.234 1509.34 Q604.313 1513.92 604.313 1522.67 Q604.313 1531.4 601.234 1536.01 Q598.179 1540.59 592.369 1540.59 Q586.559 1540.59 583.48 1536.01 Q580.424 1531.4 580.424 1522.67 Q580.424 1513.92 583.48 1509.34 Q586.559 1504.73 592.369 1504.73 Z\" fill=\"#000000\" fill-rule=\"evenodd\" fill-opacity=\"1\" /><path clip-path=\"url(#clip610)\" d=\"M 0 0 M900.189 1525.04 L912.666 1525.04 L912.666 1528.83 L900.189 1528.83 L900.189 1525.04 Z\" fill=\"#000000\" fill-rule=\"evenodd\" fill-opacity=\"1\" /><path clip-path=\"url(#clip610)\" d=\"M 0 0 M917.781 1505.36 L936.138 1505.36 L936.138 1509.3 L922.064 1509.3 L922.064 1517.77 Q923.082 1517.42 924.101 1517.26 Q925.119 1517.07 926.138 1517.07 Q931.925 1517.07 935.305 1520.24 Q938.684 1523.42 938.684 1528.83 Q938.684 1534.41 935.212 1537.51 Q931.74 1540.59 925.42 1540.59 Q923.244 1540.59 920.976 1540.22 Q918.731 1539.85 916.323 1539.11 L916.323 1534.41 Q918.406 1535.54 920.629 1536.1 Q922.851 1536.66 925.328 1536.66 Q929.332 1536.66 931.67 1534.55 Q934.008 1532.44 934.008 1528.83 Q934.008 1525.22 931.67 1523.11 Q929.332 1521.01 925.328 1521.01 Q923.453 1521.01 921.578 1521.42 Q919.726 1521.84 917.781 1522.72 L917.781 1505.36 Z\" fill=\"#000000\" fill-rule=\"evenodd\" fill-opacity=\"1\" /><path clip-path=\"url(#clip610)\" d=\"M 0 0 M1267.2 1508.44 Q1263.59 1508.44 1261.76 1512 Q1259.95 1515.55 1259.95 1522.67 Q1259.95 1529.78 1261.76 1533.35 Q1263.59 1536.89 1267.2 1536.89 Q1270.83 1536.89 1272.64 1533.35 Q1274.47 1529.78 1274.47 1522.67 Q1274.47 1515.55 1272.64 1512 Q1270.83 1508.44 1267.2 1508.44 M1267.2 1504.73 Q1273.01 1504.73 1276.06 1509.34 Q1279.14 1513.92 1279.14 1522.67 Q1279.14 1531.4 1276.06 1536.01 Q1273.01 1540.59 1267.2 1540.59 Q1261.39 1540.59 1258.31 1536.01 Q1255.25 1531.4 1255.25 1522.67 Q1255.25 1513.92 1258.31 1509.34 Q1261.39 1504.73 1267.2 1504.73 Z\" fill=\"#000000\" fill-rule=\"evenodd\" fill-opacity=\"1\" /><path clip-path=\"url(#clip610)\" d=\"M 0 0 M1605.24 1505.36 L1623.59 1505.36 L1623.59 1509.3 L1609.52 1509.3 L1609.52 1517.77 Q1610.54 1517.42 1611.56 1517.26 Q1612.58 1517.07 1613.59 1517.07 Q1619.38 1517.07 1622.76 1520.24 Q1626.14 1523.42 1626.14 1528.83 Q1626.14 1534.41 1622.67 1537.51 Q1619.2 1540.59 1612.88 1540.59 Q1610.7 1540.59 1608.43 1540.22 Q1606.19 1539.85 1603.78 1539.11 L1603.78 1534.41 Q1605.86 1535.54 1608.09 1536.1 Q1610.31 1536.66 1612.78 1536.66 Q1616.79 1536.66 1619.13 1534.55 Q1621.47 1532.44 1621.47 1528.83 Q1621.47 1525.22 1619.13 1523.11 Q1616.79 1521.01 1612.78 1521.01 Q1610.91 1521.01 1609.03 1521.42 Q1607.18 1521.84 1605.24 1522.72 L1605.24 1505.36 Z\" fill=\"#000000\" fill-rule=\"evenodd\" fill-opacity=\"1\" /><path clip-path=\"url(#clip610)\" d=\"M 0 0 M1939.6 1535.98 L1947.24 1535.98 L1947.24 1509.62 L1938.93 1511.29 L1938.93 1507.03 L1947.19 1505.36 L1951.87 1505.36 L1951.87 1535.98 L1959.51 1535.98 L1959.51 1539.92 L1939.6 1539.92 L1939.6 1535.98 Z\" fill=\"#000000\" fill-rule=\"evenodd\" fill-opacity=\"1\" /><path clip-path=\"url(#clip610)\" d=\"M 0 0 M1974.57 1508.44 Q1970.96 1508.44 1969.13 1512 Q1967.33 1515.55 1967.33 1522.67 Q1967.33 1529.78 1969.13 1533.35 Q1970.96 1536.89 1974.57 1536.89 Q1978.21 1536.89 1980.01 1533.35 Q1981.84 1529.78 1981.84 1522.67 Q1981.84 1515.55 1980.01 1512 Q1978.21 1508.44 1974.57 1508.44 M1974.57 1504.73 Q1980.38 1504.73 1983.44 1509.34 Q1986.52 1513.92 1986.52 1522.67 Q1986.52 1531.4 1983.44 1536.01 Q1980.38 1540.59 1974.57 1540.59 Q1968.76 1540.59 1965.69 1536.01 Q1962.63 1531.4 1962.63 1522.67 Q1962.63 1513.92 1965.69 1509.34 Q1968.76 1504.73 1974.57 1504.73 Z\" fill=\"#000000\" fill-rule=\"evenodd\" fill-opacity=\"1\" /><path clip-path=\"url(#clip610)\" d=\"M 0 0 M2287.86 1535.98 L2295.5 1535.98 L2295.5 1509.62 L2287.19 1511.29 L2287.19 1507.03 L2295.45 1505.36 L2300.13 1505.36 L2300.13 1535.98 L2307.77 1535.98 L2307.77 1539.92 L2287.86 1539.92 L2287.86 1535.98 Z\" fill=\"#000000\" fill-rule=\"evenodd\" fill-opacity=\"1\" /><path clip-path=\"url(#clip610)\" d=\"M 0 0 M2312.88 1505.36 L2331.24 1505.36 L2331.24 1509.3 L2317.16 1509.3 L2317.16 1517.77 Q2318.18 1517.42 2319.2 1517.26 Q2320.22 1517.07 2321.24 1517.07 Q2327.02 1517.07 2330.4 1520.24 Q2333.78 1523.42 2333.78 1528.83 Q2333.78 1534.41 2330.31 1537.51 Q2326.84 1540.59 2320.52 1540.59 Q2318.34 1540.59 2316.08 1540.22 Q2313.83 1539.85 2311.42 1539.11 L2311.42 1534.41 Q2313.51 1535.54 2315.73 1536.1 Q2317.95 1536.66 2320.43 1536.66 Q2324.43 1536.66 2326.77 1534.55 Q2329.11 1532.44 2329.11 1528.83 Q2329.11 1525.22 2326.77 1523.11 Q2324.43 1521.01 2320.43 1521.01 Q2318.55 1521.01 2316.68 1521.42 Q2314.83 1521.84 2312.88 1522.72 L2312.88 1505.36 Z\" fill=\"#000000\" fill-rule=\"evenodd\" fill-opacity=\"1\" /><path clip-path=\"url(#clip610)\" d=\"M 0 0 M62.9921 1312.81 L75.4689 1312.81 L75.4689 1316.61 L62.9921 1316.61 L62.9921 1312.81 Z\" fill=\"#000000\" fill-rule=\"evenodd\" fill-opacity=\"1\" /><path clip-path=\"url(#clip610)\" d=\"M 0 0 M93.3855 1297.21 L81.58 1315.66 L93.3855 1315.66 L93.3855 1297.21 M92.1586 1293.14 L98.0382 1293.14 L98.0382 1315.66 L102.969 1315.66 L102.969 1319.55 L98.0382 1319.55 L98.0382 1327.7 L93.3855 1327.7 L93.3855 1319.55 L77.7837 1319.55 L77.7837 1315.04 L92.1586 1293.14 Z\" fill=\"#000000\" fill-rule=\"evenodd\" fill-opacity=\"1\" /><path clip-path=\"url(#clip610)\" d=\"M 0 0 M65.0754 1035.45 L77.5522 1035.45 L77.5522 1039.25 L65.0754 1039.25 L65.0754 1035.45 Z\" fill=\"#000000\" fill-rule=\"evenodd\" fill-opacity=\"1\" /><path clip-path=\"url(#clip610)\" d=\"M 0 0 M86.6494 1046.4 L102.969 1046.4 L102.969 1050.34 L81.0244 1050.34 L81.0244 1046.4 Q83.6865 1043.65 88.2698 1039.02 Q92.8762 1034.36 94.0568 1033.02 Q96.3021 1030.5 97.1818 1028.76 Q98.0845 1027 98.0845 1025.31 Q98.0845 1022.56 96.1401 1020.82 Q94.2188 1019.09 91.117 1019.09 Q88.9179 1019.09 86.4642 1019.85 Q84.0337 1020.61 81.2559 1022.17 L81.2559 1017.44 Q84.08 1016.31 86.5337 1015.73 Q88.9874 1015.15 91.0244 1015.15 Q96.3947 1015.15 99.5892 1017.84 Q102.784 1020.52 102.784 1025.01 Q102.784 1027.14 101.973 1029.06 Q101.186 1030.96 99.0799 1033.55 Q98.5012 1034.23 95.3994 1037.44 Q92.2975 1040.64 86.6494 1046.4 Z\" fill=\"#000000\" fill-rule=\"evenodd\" fill-opacity=\"1\" /><path clip-path=\"url(#clip610)\" d=\"M 0 0 M91.0244 741.494 Q87.4133 741.494 85.5846 745.059 Q83.7791 748.601 83.7791 755.73 Q83.7791 762.837 85.5846 766.401 Q87.4133 769.943 91.0244 769.943 Q94.6586 769.943 96.4642 766.401 Q98.2929 762.837 98.2929 755.73 Q98.2929 748.601 96.4642 745.059 Q94.6586 741.494 91.0244 741.494 M91.0244 737.791 Q96.8345 737.791 99.8901 742.397 Q102.969 746.98 102.969 755.73 Q102.969 764.457 99.8901 769.064 Q96.8345 773.647 91.0244 773.647 Q85.2142 773.647 82.1355 769.064 Q79.08 764.457 79.08 755.73 Q79.08 746.98 82.1355 742.397 Q85.2142 737.791 91.0244 737.791 Z\" fill=\"#000000\" fill-rule=\"evenodd\" fill-opacity=\"1\" /><path clip-path=\"url(#clip610)\" d=\"M 0 0 M86.6494 491.679 L102.969 491.679 L102.969 495.614 L81.0244 495.614 L81.0244 491.679 Q83.6865 488.925 88.2698 484.295 Q92.8762 479.642 94.0568 478.3 Q96.3021 475.777 97.1818 474.04 Q98.0845 472.281 98.0845 470.591 Q98.0845 467.837 96.1401 466.101 Q94.2188 464.365 91.117 464.365 Q88.9179 464.365 86.4642 465.128 Q84.0337 465.892 81.2559 467.443 L81.2559 462.721 Q84.08 461.587 86.5337 461.008 Q88.9874 460.429 91.0244 460.429 Q96.3947 460.429 99.5892 463.115 Q102.784 465.8 102.784 470.29 Q102.784 472.42 101.973 474.341 Q101.186 476.24 99.0799 478.832 Q98.5012 479.503 95.3994 482.721 Q92.2975 485.915 86.6494 491.679 Z\" fill=\"#000000\" fill-rule=\"evenodd\" fill-opacity=\"1\" /><path clip-path=\"url(#clip610)\" d=\"M 0 0 M93.3855 187.767 L81.58 206.216 L93.3855 206.216 L93.3855 187.767 M92.1586 183.693 L98.0382 183.693 L98.0382 206.216 L102.969 206.216 L102.969 210.105 L98.0382 210.105 L98.0382 218.253 L93.3855 218.253 L93.3855 210.105 L77.7837 210.105 L77.7837 205.591 L92.1586 183.693 Z\" fill=\"#000000\" fill-rule=\"evenodd\" fill-opacity=\"1\" /><path clip-path=\"url(#clip612)\" d=\"\n",
       "M681.412 696.348 L921.017 992.958 L987.679 1028.26 L1159.93 1083.48 L1388.81 1137.5 L1549.31 1120.1 L1798.31 837.344 L1558.71 540.733 L1492.05 505.434 L1319.79 450.208 \n",
       "  L1090.92 396.188 L930.416 413.595 L681.412 696.348 L681.412 696.348  Z\n",
       "  \" fill=\"#009af9\" fill-rule=\"evenodd\" fill-opacity=\"0.5\"/>\n",
       "<polyline clip-path=\"url(#clip612)\" style=\"stroke:#000000; stroke-width:4; stroke-opacity:0.5; fill:none\" points=\"\n",
       "  681.412,696.348 921.017,992.958 987.679,1028.26 1159.93,1083.48 1388.81,1137.5 1549.31,1120.1 1798.31,837.344 1558.71,540.733 1492.05,505.434 1319.79,450.208 \n",
       "  1090.92,396.188 930.416,413.595 681.412,696.348 \n",
       "  \"/>\n",
       "<path clip-path=\"url(#clip612)\" d=\"\n",
       "M2289.76 1445.72 L1543.52 521.939 L189.963 87.9763 L936.2 1011.75 L2289.76 1445.72 L2289.76 1445.72  Z\n",
       "  \" fill=\"#e26f46\" fill-rule=\"evenodd\" fill-opacity=\"0.5\"/>\n",
       "<polyline clip-path=\"url(#clip612)\" style=\"stroke:#000000; stroke-width:4; stroke-opacity:0.5; fill:none\" points=\"\n",
       "  2289.76,1445.72 1543.52,521.939 189.963,87.9763 936.2,1011.75 2289.76,1445.72 \n",
       "  \"/>\n",
       "<path clip-path=\"url(#clip610)\" d=\"\n",
       "M2012.54 312.204 L2280.76 312.204 L2280.76 130.764 L2012.54 130.764  Z\n",
       "  \" fill=\"#ffffff\" fill-rule=\"evenodd\" fill-opacity=\"1\"/>\n",
       "<polyline clip-path=\"url(#clip610)\" style=\"stroke:#000000; stroke-width:4; stroke-opacity:1; fill:none\" points=\"\n",
       "  2012.54,312.204 2280.76,312.204 2280.76,130.764 2012.54,130.764 2012.54,312.204 \n",
       "  \"/>\n",
       "<path clip-path=\"url(#clip610)\" d=\"\n",
       "M2036.54 215.436 L2180.54 215.436 L2180.54 167.052 L2036.54 167.052 L2036.54 215.436  Z\n",
       "  \" fill=\"#009af9\" fill-rule=\"evenodd\" fill-opacity=\"0.5\"/>\n",
       "<polyline clip-path=\"url(#clip610)\" style=\"stroke:#000000; stroke-width:4; stroke-opacity:1; fill:none\" points=\"\n",
       "  2036.54,215.436 2180.54,215.436 2180.54,167.052 2036.54,167.052 2036.54,215.436 \n",
       "  \"/>\n",
       "<path clip-path=\"url(#clip610)\" d=\"M 0 0 M2205.07 173.964 L2232.22 173.964 L2232.22 177.529 L2210.37 204.589 L2232.76 204.589 L2232.76 208.524 L2204.54 208.524 L2204.54 204.959 L2226.39 177.899 L2205.07 177.899 L2205.07 173.964 Z\" fill=\"#000000\" fill-rule=\"evenodd\" fill-opacity=\"1\" /><path clip-path=\"url(#clip610)\" d=\"\n",
       "M2036.54 275.916 L2180.54 275.916 L2180.54 227.532 L2036.54 227.532 L2036.54 275.916  Z\n",
       "  \" fill=\"#e26f46\" fill-rule=\"evenodd\" fill-opacity=\"0.5\"/>\n",
       "<polyline clip-path=\"url(#clip610)\" style=\"stroke:#000000; stroke-width:4; stroke-opacity:1; fill:none\" points=\"\n",
       "  2036.54,275.916 2180.54,275.916 2180.54,227.532 2036.54,227.532 2036.54,275.916 \n",
       "  \"/>\n",
       "<path clip-path=\"url(#clip610)\" d=\"M 0 0 M2209.21 238.287 L2209.21 251.273 L2215.09 251.273 Q2218.36 251.273 2220.14 249.583 Q2221.92 247.893 2221.92 244.768 Q2221.92 241.666 2220.14 239.976 Q2218.36 238.287 2215.09 238.287 L2209.21 238.287 M2204.54 234.444 L2215.09 234.444 Q2220.9 234.444 2223.87 237.083 Q2226.85 239.699 2226.85 244.768 Q2226.85 249.884 2223.87 252.5 Q2220.9 255.115 2215.09 255.115 L2209.21 255.115 L2209.21 269.004 L2204.54 269.004 L2204.54 234.444 Z\" fill=\"#000000\" fill-rule=\"evenodd\" fill-opacity=\"1\" /></svg>\n"
      ]
     },
     "execution_count": 114,
     "metadata": {},
     "output_type": "execute_result"
    }
   ],
   "source": [
    "P = _overapproximate(Z, HParallelotope, [3,5])\n",
    "plot(Z, lab=\"Z\")\n",
    "plot!(P, lab=\"P\")"
   ]
  },
  {
   "cell_type": "code",
   "execution_count": 98,
   "metadata": {},
   "outputs": [
    {
     "data": {
      "image/svg+xml": [
       "<?xml version=\"1.0\" encoding=\"utf-8\"?>\n",
       "<svg xmlns=\"http://www.w3.org/2000/svg\" xmlns:xlink=\"http://www.w3.org/1999/xlink\" width=\"600\" height=\"400\" viewBox=\"0 0 2400 1600\">\n",
       "<defs>\n",
       "  <clipPath id=\"clip210\">\n",
       "    <rect x=\"0\" y=\"0\" width=\"2400\" height=\"1600\"/>\n",
       "  </clipPath>\n",
       "</defs>\n",
       "<path clip-path=\"url(#clip210)\" d=\"\n",
       "M0 1600 L2400 1600 L2400 0 L0 0  Z\n",
       "  \" fill=\"#ffffff\" fill-rule=\"evenodd\" fill-opacity=\"1\"/>\n",
       "<defs>\n",
       "  <clipPath id=\"clip211\">\n",
       "    <rect x=\"480\" y=\"0\" width=\"1681\" height=\"1600\"/>\n",
       "  </clipPath>\n",
       "</defs>\n",
       "<path clip-path=\"url(#clip210)\" d=\"\n",
       "M125.835 1486.45 L2352.76 1486.45 L2352.76 47.2441 L125.835 47.2441  Z\n",
       "  \" fill=\"#ffffff\" fill-rule=\"evenodd\" fill-opacity=\"1\"/>\n",
       "<defs>\n",
       "  <clipPath id=\"clip212\">\n",
       "    <rect x=\"125\" y=\"47\" width=\"2228\" height=\"1440\"/>\n",
       "  </clipPath>\n",
       "</defs>\n",
       "<polyline clip-path=\"url(#clip212)\" style=\"stroke:#000000; stroke-width:2; stroke-opacity:0.1; fill:none\" points=\"\n",
       "  368.374,1486.45 368.374,47.2441 \n",
       "  \"/>\n",
       "<polyline clip-path=\"url(#clip212)\" style=\"stroke:#000000; stroke-width:2; stroke-opacity:0.1; fill:none\" points=\"\n",
       "  666.493,1486.45 666.493,47.2441 \n",
       "  \"/>\n",
       "<polyline clip-path=\"url(#clip212)\" style=\"stroke:#000000; stroke-width:2; stroke-opacity:0.1; fill:none\" points=\"\n",
       "  964.611,1486.45 964.611,47.2441 \n",
       "  \"/>\n",
       "<polyline clip-path=\"url(#clip212)\" style=\"stroke:#000000; stroke-width:2; stroke-opacity:0.1; fill:none\" points=\"\n",
       "  1262.73,1486.45 1262.73,47.2441 \n",
       "  \"/>\n",
       "<polyline clip-path=\"url(#clip212)\" style=\"stroke:#000000; stroke-width:2; stroke-opacity:0.1; fill:none\" points=\"\n",
       "  1560.85,1486.45 1560.85,47.2441 \n",
       "  \"/>\n",
       "<polyline clip-path=\"url(#clip212)\" style=\"stroke:#000000; stroke-width:2; stroke-opacity:0.1; fill:none\" points=\"\n",
       "  1858.97,1486.45 1858.97,47.2441 \n",
       "  \"/>\n",
       "<polyline clip-path=\"url(#clip212)\" style=\"stroke:#000000; stroke-width:2; stroke-opacity:0.1; fill:none\" points=\"\n",
       "  2157.08,1486.45 2157.08,47.2441 \n",
       "  \"/>\n",
       "<polyline clip-path=\"url(#clip212)\" style=\"stroke:#000000; stroke-width:2; stroke-opacity:0.1; fill:none\" points=\"\n",
       "  125.835,1474.91 2352.76,1474.91 \n",
       "  \"/>\n",
       "<polyline clip-path=\"url(#clip212)\" style=\"stroke:#000000; stroke-width:2; stroke-opacity:0.1; fill:none\" points=\"\n",
       "  125.835,1232.39 2352.76,1232.39 \n",
       "  \"/>\n",
       "<polyline clip-path=\"url(#clip212)\" style=\"stroke:#000000; stroke-width:2; stroke-opacity:0.1; fill:none\" points=\"\n",
       "  125.835,989.868 2352.76,989.868 \n",
       "  \"/>\n",
       "<polyline clip-path=\"url(#clip212)\" style=\"stroke:#000000; stroke-width:2; stroke-opacity:0.1; fill:none\" points=\"\n",
       "  125.835,747.346 2352.76,747.346 \n",
       "  \"/>\n",
       "<polyline clip-path=\"url(#clip212)\" style=\"stroke:#000000; stroke-width:2; stroke-opacity:0.1; fill:none\" points=\"\n",
       "  125.835,504.824 2352.76,504.824 \n",
       "  \"/>\n",
       "<polyline clip-path=\"url(#clip212)\" style=\"stroke:#000000; stroke-width:2; stroke-opacity:0.1; fill:none\" points=\"\n",
       "  125.835,262.302 2352.76,262.302 \n",
       "  \"/>\n",
       "<polyline clip-path=\"url(#clip210)\" style=\"stroke:#000000; stroke-width:4; stroke-opacity:1; fill:none\" points=\"\n",
       "  125.835,1486.45 2352.76,1486.45 \n",
       "  \"/>\n",
       "<polyline clip-path=\"url(#clip210)\" style=\"stroke:#000000; stroke-width:4; stroke-opacity:1; fill:none\" points=\"\n",
       "  125.835,1486.45 125.835,47.2441 \n",
       "  \"/>\n",
       "<polyline clip-path=\"url(#clip210)\" style=\"stroke:#000000; stroke-width:4; stroke-opacity:1; fill:none\" points=\"\n",
       "  368.374,1486.45 368.374,1469.18 \n",
       "  \"/>\n",
       "<polyline clip-path=\"url(#clip210)\" style=\"stroke:#000000; stroke-width:4; stroke-opacity:1; fill:none\" points=\"\n",
       "  666.493,1486.45 666.493,1469.18 \n",
       "  \"/>\n",
       "<polyline clip-path=\"url(#clip210)\" style=\"stroke:#000000; stroke-width:4; stroke-opacity:1; fill:none\" points=\"\n",
       "  964.611,1486.45 964.611,1469.18 \n",
       "  \"/>\n",
       "<polyline clip-path=\"url(#clip210)\" style=\"stroke:#000000; stroke-width:4; stroke-opacity:1; fill:none\" points=\"\n",
       "  1262.73,1486.45 1262.73,1469.18 \n",
       "  \"/>\n",
       "<polyline clip-path=\"url(#clip210)\" style=\"stroke:#000000; stroke-width:4; stroke-opacity:1; fill:none\" points=\"\n",
       "  1560.85,1486.45 1560.85,1469.18 \n",
       "  \"/>\n",
       "<polyline clip-path=\"url(#clip210)\" style=\"stroke:#000000; stroke-width:4; stroke-opacity:1; fill:none\" points=\"\n",
       "  1858.97,1486.45 1858.97,1469.18 \n",
       "  \"/>\n",
       "<polyline clip-path=\"url(#clip210)\" style=\"stroke:#000000; stroke-width:4; stroke-opacity:1; fill:none\" points=\"\n",
       "  2157.08,1486.45 2157.08,1469.18 \n",
       "  \"/>\n",
       "<polyline clip-path=\"url(#clip210)\" style=\"stroke:#000000; stroke-width:4; stroke-opacity:1; fill:none\" points=\"\n",
       "  125.835,1474.91 152.558,1474.91 \n",
       "  \"/>\n",
       "<polyline clip-path=\"url(#clip210)\" style=\"stroke:#000000; stroke-width:4; stroke-opacity:1; fill:none\" points=\"\n",
       "  125.835,1232.39 152.558,1232.39 \n",
       "  \"/>\n",
       "<polyline clip-path=\"url(#clip210)\" style=\"stroke:#000000; stroke-width:4; stroke-opacity:1; fill:none\" points=\"\n",
       "  125.835,989.868 152.558,989.868 \n",
       "  \"/>\n",
       "<polyline clip-path=\"url(#clip210)\" style=\"stroke:#000000; stroke-width:4; stroke-opacity:1; fill:none\" points=\"\n",
       "  125.835,747.346 152.558,747.346 \n",
       "  \"/>\n",
       "<polyline clip-path=\"url(#clip210)\" style=\"stroke:#000000; stroke-width:4; stroke-opacity:1; fill:none\" points=\"\n",
       "  125.835,504.824 152.558,504.824 \n",
       "  \"/>\n",
       "<polyline clip-path=\"url(#clip210)\" style=\"stroke:#000000; stroke-width:4; stroke-opacity:1; fill:none\" points=\"\n",
       "  125.835,262.302 152.558,262.302 \n",
       "  \"/>\n",
       "<path clip-path=\"url(#clip210)\" d=\"M 0 0 M336.233 1525.04 L348.71 1525.04 L348.71 1528.83 L336.233 1528.83 L336.233 1525.04 Z\" fill=\"#000000\" fill-rule=\"evenodd\" fill-opacity=\"1\" /><path clip-path=\"url(#clip210)\" d=\"M 0 0 M354.59 1535.98 L362.229 1535.98 L362.229 1509.62 L353.919 1511.29 L353.919 1507.03 L362.182 1505.36 L366.858 1505.36 L366.858 1535.98 L374.497 1535.98 L374.497 1539.92 L354.59 1539.92 L354.59 1535.98 Z\" fill=\"#000000\" fill-rule=\"evenodd\" fill-opacity=\"1\" /><path clip-path=\"url(#clip210)\" d=\"M 0 0 M379.613 1505.36 L397.969 1505.36 L397.969 1509.3 L383.895 1509.3 L383.895 1517.77 Q384.914 1517.42 385.932 1517.26 Q386.951 1517.07 387.969 1517.07 Q393.756 1517.07 397.136 1520.24 Q400.516 1523.42 400.516 1528.83 Q400.516 1534.41 397.043 1537.51 Q393.571 1540.59 387.252 1540.59 Q385.076 1540.59 382.807 1540.22 Q380.562 1539.85 378.155 1539.11 L378.155 1534.41 Q380.238 1535.54 382.46 1536.1 Q384.682 1536.66 387.159 1536.66 Q391.164 1536.66 393.502 1534.55 Q395.84 1532.44 395.84 1528.83 Q395.84 1525.22 393.502 1523.11 Q391.164 1521.01 387.159 1521.01 Q385.284 1521.01 383.409 1521.42 Q381.557 1521.84 379.613 1522.72 L379.613 1505.36 Z\" fill=\"#000000\" fill-rule=\"evenodd\" fill-opacity=\"1\" /><path clip-path=\"url(#clip210)\" d=\"M 0 0 M633.854 1525.04 L646.331 1525.04 L646.331 1528.83 L633.854 1528.83 L633.854 1525.04 Z\" fill=\"#000000\" fill-rule=\"evenodd\" fill-opacity=\"1\" /><path clip-path=\"url(#clip210)\" d=\"M 0 0 M652.21 1535.98 L659.849 1535.98 L659.849 1509.62 L651.539 1511.29 L651.539 1507.03 L659.803 1505.36 L664.479 1505.36 L664.479 1535.98 L672.118 1535.98 L672.118 1539.92 L652.21 1539.92 L652.21 1535.98 Z\" fill=\"#000000\" fill-rule=\"evenodd\" fill-opacity=\"1\" /><path clip-path=\"url(#clip210)\" d=\"M 0 0 M687.187 1508.44 Q683.576 1508.44 681.747 1512 Q679.942 1515.55 679.942 1522.67 Q679.942 1529.78 681.747 1533.35 Q683.576 1536.89 687.187 1536.89 Q690.821 1536.89 692.627 1533.35 Q694.456 1529.78 694.456 1522.67 Q694.456 1515.55 692.627 1512 Q690.821 1508.44 687.187 1508.44 M687.187 1504.73 Q692.997 1504.73 696.053 1509.34 Q699.131 1513.92 699.131 1522.67 Q699.131 1531.4 696.053 1536.01 Q692.997 1540.59 687.187 1540.59 Q681.377 1540.59 678.298 1536.01 Q675.243 1531.4 675.243 1522.67 Q675.243 1513.92 678.298 1509.34 Q681.377 1504.73 687.187 1504.73 Z\" fill=\"#000000\" fill-rule=\"evenodd\" fill-opacity=\"1\" /><path clip-path=\"url(#clip210)\" d=\"M 0 0 M945.363 1525.04 L957.84 1525.04 L957.84 1528.83 L945.363 1528.83 L945.363 1525.04 Z\" fill=\"#000000\" fill-rule=\"evenodd\" fill-opacity=\"1\" /><path clip-path=\"url(#clip210)\" d=\"M 0 0 M962.956 1505.36 L981.312 1505.36 L981.312 1509.3 L967.238 1509.3 L967.238 1517.77 Q968.257 1517.42 969.275 1517.26 Q970.294 1517.07 971.312 1517.07 Q977.099 1517.07 980.479 1520.24 Q983.859 1523.42 983.859 1528.83 Q983.859 1534.41 980.386 1537.51 Q976.914 1540.59 970.595 1540.59 Q968.419 1540.59 966.15 1540.22 Q963.905 1539.85 961.498 1539.11 L961.498 1534.41 Q963.581 1535.54 965.803 1536.1 Q968.025 1536.66 970.502 1536.66 Q974.507 1536.66 976.845 1534.55 Q979.183 1532.44 979.183 1528.83 Q979.183 1525.22 976.845 1523.11 Q974.507 1521.01 970.502 1521.01 Q968.627 1521.01 966.752 1521.42 Q964.9 1521.84 962.956 1522.72 L962.956 1505.36 Z\" fill=\"#000000\" fill-rule=\"evenodd\" fill-opacity=\"1\" /><path clip-path=\"url(#clip210)\" d=\"M 0 0 M1262.73 1508.44 Q1259.12 1508.44 1257.29 1512 Q1255.48 1515.55 1255.48 1522.67 Q1255.48 1529.78 1257.29 1533.35 Q1259.12 1536.89 1262.73 1536.89 Q1266.36 1536.89 1268.17 1533.35 Q1270 1529.78 1270 1522.67 Q1270 1515.55 1268.17 1512 Q1266.36 1508.44 1262.73 1508.44 M1262.73 1504.73 Q1268.54 1504.73 1271.59 1509.34 Q1274.67 1513.92 1274.67 1522.67 Q1274.67 1531.4 1271.59 1536.01 Q1268.54 1540.59 1262.73 1540.59 Q1256.92 1540.59 1253.84 1536.01 Q1250.78 1531.4 1250.78 1522.67 Q1250.78 1513.92 1253.84 1509.34 Q1256.92 1504.73 1262.73 1504.73 Z\" fill=\"#000000\" fill-rule=\"evenodd\" fill-opacity=\"1\" /><path clip-path=\"url(#clip210)\" d=\"M 0 0 M1551.13 1505.36 L1569.48 1505.36 L1569.48 1509.3 L1555.41 1509.3 L1555.41 1517.77 Q1556.43 1517.42 1557.44 1517.26 Q1558.46 1517.07 1559.48 1517.07 Q1565.27 1517.07 1568.65 1520.24 Q1572.03 1523.42 1572.03 1528.83 Q1572.03 1534.41 1568.56 1537.51 Q1565.08 1540.59 1558.76 1540.59 Q1556.59 1540.59 1554.32 1540.22 Q1552.07 1539.85 1549.67 1539.11 L1549.67 1534.41 Q1551.75 1535.54 1553.97 1536.1 Q1556.19 1536.66 1558.67 1536.66 Q1562.68 1536.66 1565.01 1534.55 Q1567.35 1532.44 1567.35 1528.83 Q1567.35 1525.22 1565.01 1523.11 Q1562.68 1521.01 1558.67 1521.01 Q1556.8 1521.01 1554.92 1521.42 Q1553.07 1521.84 1551.13 1522.72 L1551.13 1505.36 Z\" fill=\"#000000\" fill-rule=\"evenodd\" fill-opacity=\"1\" /><path clip-path=\"url(#clip210)\" d=\"M 0 0 M1835.84 1535.98 L1843.48 1535.98 L1843.48 1509.62 L1835.17 1511.29 L1835.17 1507.03 L1843.43 1505.36 L1848.11 1505.36 L1848.11 1535.98 L1855.75 1535.98 L1855.75 1539.92 L1835.84 1539.92 L1835.84 1535.98 Z\" fill=\"#000000\" fill-rule=\"evenodd\" fill-opacity=\"1\" /><path clip-path=\"url(#clip210)\" d=\"M 0 0 M1870.82 1508.44 Q1867.21 1508.44 1865.38 1512 Q1863.57 1515.55 1863.57 1522.67 Q1863.57 1529.78 1865.38 1533.35 Q1867.21 1536.89 1870.82 1536.89 Q1874.45 1536.89 1876.26 1533.35 Q1878.09 1529.78 1878.09 1522.67 Q1878.09 1515.55 1876.26 1512 Q1874.45 1508.44 1870.82 1508.44 M1870.82 1504.73 Q1876.63 1504.73 1879.68 1509.34 Q1882.76 1513.92 1882.76 1522.67 Q1882.76 1531.4 1879.68 1536.01 Q1876.63 1540.59 1870.82 1540.59 Q1865.01 1540.59 1861.93 1536.01 Q1858.87 1531.4 1858.87 1522.67 Q1858.87 1513.92 1861.93 1509.34 Q1865.01 1504.73 1870.82 1504.73 Z\" fill=\"#000000\" fill-rule=\"evenodd\" fill-opacity=\"1\" /><path clip-path=\"url(#clip210)\" d=\"M 0 0 M2134.46 1535.98 L2142.1 1535.98 L2142.1 1509.62 L2133.79 1511.29 L2133.79 1507.03 L2142.05 1505.36 L2146.73 1505.36 L2146.73 1535.98 L2154.36 1535.98 L2154.36 1539.92 L2134.46 1539.92 L2134.46 1535.98 Z\" fill=\"#000000\" fill-rule=\"evenodd\" fill-opacity=\"1\" /><path clip-path=\"url(#clip210)\" d=\"M 0 0 M2159.48 1505.36 L2177.84 1505.36 L2177.84 1509.3 L2163.76 1509.3 L2163.76 1517.77 Q2164.78 1517.42 2165.8 1517.26 Q2166.82 1517.07 2167.84 1517.07 Q2173.62 1517.07 2177 1520.24 Q2180.38 1523.42 2180.38 1528.83 Q2180.38 1534.41 2176.91 1537.51 Q2173.44 1540.59 2167.12 1540.59 Q2164.94 1540.59 2162.67 1540.22 Q2160.43 1539.85 2158.02 1539.11 L2158.02 1534.41 Q2160.1 1535.54 2162.33 1536.1 Q2164.55 1536.66 2167.03 1536.66 Q2171.03 1536.66 2173.37 1534.55 Q2175.71 1532.44 2175.71 1528.83 Q2175.71 1525.22 2173.37 1523.11 Q2171.03 1521.01 2167.03 1521.01 Q2165.15 1521.01 2163.28 1521.42 Q2161.42 1521.84 2159.48 1522.72 L2159.48 1505.36 Z\" fill=\"#000000\" fill-rule=\"evenodd\" fill-opacity=\"1\" /><path clip-path=\"url(#clip210)\" d=\"M 0 0 M62.9921 1477.31 L75.4689 1477.31 L75.4689 1481.1 L62.9921 1481.1 L62.9921 1477.31 Z\" fill=\"#000000\" fill-rule=\"evenodd\" fill-opacity=\"1\" /><path clip-path=\"url(#clip210)\" d=\"M 0 0 M94.7049 1473.56 Q98.0614 1474.28 99.9364 1476.54 Q101.835 1478.81 101.835 1482.15 Q101.835 1487.26 98.316 1490.06 Q94.7975 1492.86 88.3161 1492.86 Q86.1402 1492.86 83.8253 1492.42 Q81.5337 1492.01 79.08 1491.15 L79.08 1486.64 Q81.0244 1487.77 83.3392 1488.35 Q85.654 1488.93 88.1772 1488.93 Q92.5753 1488.93 94.867 1487.19 Q97.1818 1485.46 97.1818 1482.15 Q97.1818 1479.09 95.029 1477.38 Q92.8994 1475.64 89.0799 1475.64 L85.0522 1475.64 L85.0522 1471.8 L89.2651 1471.8 Q92.7142 1471.8 94.5429 1470.43 Q96.3716 1469.04 96.3716 1466.45 Q96.3716 1463.79 94.4734 1462.38 Q92.5984 1460.94 89.0799 1460.94 Q87.1587 1460.94 84.9596 1461.36 Q82.7605 1461.78 80.1217 1462.66 L80.1217 1458.49 Q82.7837 1457.75 85.0985 1457.38 Q87.4364 1457.01 89.4966 1457.01 Q94.8207 1457.01 97.9225 1459.44 Q101.024 1461.85 101.024 1465.97 Q101.024 1468.84 99.3808 1470.83 Q97.7373 1472.79 94.7049 1473.56 Z\" fill=\"#000000\" fill-rule=\"evenodd\" fill-opacity=\"1\" /><path clip-path=\"url(#clip210)\" d=\"M 0 0 M63.9412 1234.79 L76.418 1234.79 L76.418 1238.58 L63.9412 1238.58 L63.9412 1234.79 Z\" fill=\"#000000\" fill-rule=\"evenodd\" fill-opacity=\"1\" /><path clip-path=\"url(#clip210)\" d=\"M 0 0 M85.5152 1245.74 L101.835 1245.74 L101.835 1249.67 L79.8902 1249.67 L79.8902 1245.74 Q82.5522 1242.98 87.1355 1238.35 Q91.742 1233.7 92.9225 1232.36 Q95.1679 1229.83 96.0475 1228.1 Q96.9503 1226.34 96.9503 1224.65 Q96.9503 1221.89 95.0058 1220.16 Q93.0846 1218.42 89.9827 1218.42 Q87.7837 1218.42 85.33 1219.18 Q82.8994 1219.95 80.1217 1221.5 L80.1217 1216.78 Q82.9457 1215.64 85.3994 1215.06 Q87.8531 1214.49 89.8901 1214.49 Q95.2605 1214.49 98.4549 1217.17 Q101.649 1219.86 101.649 1224.35 Q101.649 1226.48 100.839 1228.4 Q100.052 1230.3 97.9456 1232.89 Q97.3669 1233.56 94.2651 1236.78 Q91.1633 1239.97 85.5152 1245.74 Z\" fill=\"#000000\" fill-rule=\"evenodd\" fill-opacity=\"1\" /><path clip-path=\"url(#clip210)\" d=\"M 0 0 M63.5708 992.264 L76.0476 992.264 L76.0476 996.06 L63.5708 996.06 L63.5708 992.264 Z\" fill=\"#000000\" fill-rule=\"evenodd\" fill-opacity=\"1\" /><path clip-path=\"url(#clip210)\" d=\"M 0 0 M81.9272 1003.21 L89.5661 1003.21 L89.5661 976.848 L81.2559 978.514 L81.2559 974.255 L89.5198 972.588 L94.1957 972.588 L94.1957 1003.21 L101.835 1003.21 L101.835 1007.15 L81.9272 1007.15 L81.9272 1003.21 Z\" fill=\"#000000\" fill-rule=\"evenodd\" fill-opacity=\"1\" /><path clip-path=\"url(#clip210)\" d=\"M 0 0 M89.8901 733.145 Q86.279 733.145 84.4503 736.71 Q82.6448 740.251 82.6448 747.381 Q82.6448 754.487 84.4503 758.052 Q86.279 761.594 89.8901 761.594 Q93.5244 761.594 95.3299 758.052 Q97.1586 754.487 97.1586 747.381 Q97.1586 740.251 95.3299 736.71 Q93.5244 733.145 89.8901 733.145 M89.8901 729.441 Q95.7003 729.441 98.7558 734.048 Q101.835 738.631 101.835 747.381 Q101.835 756.108 98.7558 760.714 Q95.7003 765.298 89.8901 765.298 Q84.08 765.298 81.0013 760.714 Q77.9457 756.108 77.9457 747.381 Q77.9457 738.631 81.0013 734.048 Q84.08 729.441 89.8901 729.441 Z\" fill=\"#000000\" fill-rule=\"evenodd\" fill-opacity=\"1\" /><path clip-path=\"url(#clip210)\" d=\"M 0 0 M81.9272 518.169 L89.5661 518.169 L89.5661 491.803 L81.2559 493.47 L81.2559 489.211 L89.5198 487.544 L94.1957 487.544 L94.1957 518.169 L101.835 518.169 L101.835 522.104 L81.9272 522.104 L81.9272 518.169 Z\" fill=\"#000000\" fill-rule=\"evenodd\" fill-opacity=\"1\" /><path clip-path=\"url(#clip210)\" d=\"M 0 0 M85.5152 275.647 L101.835 275.647 L101.835 279.582 L79.8902 279.582 L79.8902 275.647 Q82.5522 272.892 87.1355 268.263 Q91.742 263.61 92.9225 262.267 Q95.1679 259.744 96.0475 258.008 Q96.9503 256.249 96.9503 254.559 Q96.9503 251.804 95.0058 250.068 Q93.0846 248.332 89.9827 248.332 Q87.7837 248.332 85.33 249.096 Q82.8994 249.86 80.1217 251.411 L80.1217 246.689 Q82.9457 245.554 85.3994 244.976 Q87.8531 244.397 89.8901 244.397 Q95.2605 244.397 98.4549 247.082 Q101.649 249.767 101.649 254.258 Q101.649 256.388 100.839 258.309 Q100.052 260.207 97.9456 262.8 Q97.3669 263.471 94.2651 266.689 Q91.1633 269.883 85.5152 275.647 Z\" fill=\"#000000\" fill-rule=\"evenodd\" fill-opacity=\"1\" /><path clip-path=\"url(#clip212)\" d=\"\n",
       "M760.565 643.56 L965.966 1162.27 L1023.11 1224 L1170.78 1320.58 L1366.98 1415.05 L1504.57 1384.6 L1718.03 890.132 L1512.62 371.424 L1455.48 309.693 L1307.81 213.115 \n",
       "  L1111.61 118.646 L974.023 149.087 L760.565 643.56 L760.565 643.56  Z\n",
       "  \" fill=\"#009af9\" fill-rule=\"evenodd\" fill-opacity=\"0.5\"/>\n",
       "<polyline clip-path=\"url(#clip212)\" style=\"stroke:#000000; stroke-width:4; stroke-opacity:0.5; fill:none\" points=\"\n",
       "  760.565,643.56 965.966,1162.27 1023.11,1224 1170.78,1320.58 1366.98,1415.05 1504.57,1384.6 1718.03,890.132 1512.62,371.424 1455.48,309.693 1307.81,213.115 \n",
       "  1111.61,118.646 974.023,149.087 760.565,643.56 \n",
       "  \"/>\n",
       "<path clip-path=\"url(#clip212)\" d=\"\n",
       "M2289.73 1210.89 L1250.23 87.9763 L188.861 322.805 L1228.36 1445.72 L2289.73 1210.89 L2289.73 1210.89  Z\n",
       "  \" fill=\"#e26f46\" fill-rule=\"evenodd\" fill-opacity=\"0.5\"/>\n",
       "<polyline clip-path=\"url(#clip212)\" style=\"stroke:#000000; stroke-width:4; stroke-opacity:0.5; fill:none\" points=\"\n",
       "  2289.73,1210.89 1250.23,87.9763 188.861,322.805 1228.36,1445.72 2289.73,1210.89 \n",
       "  \"/>\n",
       "<path clip-path=\"url(#clip210)\" d=\"\n",
       "M2012.54 312.204 L2280.76 312.204 L2280.76 130.764 L2012.54 130.764  Z\n",
       "  \" fill=\"#ffffff\" fill-rule=\"evenodd\" fill-opacity=\"1\"/>\n",
       "<polyline clip-path=\"url(#clip210)\" style=\"stroke:#000000; stroke-width:4; stroke-opacity:1; fill:none\" points=\"\n",
       "  2012.54,312.204 2280.76,312.204 2280.76,130.764 2012.54,130.764 2012.54,312.204 \n",
       "  \"/>\n",
       "<path clip-path=\"url(#clip210)\" d=\"\n",
       "M2036.54 215.436 L2180.54 215.436 L2180.54 167.052 L2036.54 167.052 L2036.54 215.436  Z\n",
       "  \" fill=\"#009af9\" fill-rule=\"evenodd\" fill-opacity=\"0.5\"/>\n",
       "<polyline clip-path=\"url(#clip210)\" style=\"stroke:#000000; stroke-width:4; stroke-opacity:1; fill:none\" points=\"\n",
       "  2036.54,215.436 2180.54,215.436 2180.54,167.052 2036.54,167.052 2036.54,215.436 \n",
       "  \"/>\n",
       "<path clip-path=\"url(#clip210)\" d=\"M 0 0 M2205.07 173.964 L2232.22 173.964 L2232.22 177.529 L2210.37 204.589 L2232.76 204.589 L2232.76 208.524 L2204.54 208.524 L2204.54 204.959 L2226.39 177.899 L2205.07 177.899 L2205.07 173.964 Z\" fill=\"#000000\" fill-rule=\"evenodd\" fill-opacity=\"1\" /><path clip-path=\"url(#clip210)\" d=\"\n",
       "M2036.54 275.916 L2180.54 275.916 L2180.54 227.532 L2036.54 227.532 L2036.54 275.916  Z\n",
       "  \" fill=\"#e26f46\" fill-rule=\"evenodd\" fill-opacity=\"0.5\"/>\n",
       "<polyline clip-path=\"url(#clip210)\" style=\"stroke:#000000; stroke-width:4; stroke-opacity:1; fill:none\" points=\"\n",
       "  2036.54,275.916 2180.54,275.916 2180.54,227.532 2036.54,227.532 2036.54,275.916 \n",
       "  \"/>\n",
       "<path clip-path=\"url(#clip210)\" d=\"M 0 0 M2209.21 238.287 L2209.21 251.273 L2215.09 251.273 Q2218.36 251.273 2220.14 249.583 Q2221.92 247.893 2221.92 244.768 Q2221.92 241.666 2220.14 239.976 Q2218.36 238.287 2215.09 238.287 L2209.21 238.287 M2204.54 234.444 L2215.09 234.444 Q2220.9 234.444 2223.87 237.083 Q2226.85 239.699 2226.85 244.768 Q2226.85 249.884 2223.87 252.5 Q2220.9 255.115 2215.09 255.115 L2209.21 255.115 L2209.21 269.004 L2204.54 269.004 L2204.54 234.444 Z\" fill=\"#000000\" fill-rule=\"evenodd\" fill-opacity=\"1\" /></svg>\n"
      ]
     },
     "execution_count": 98,
     "metadata": {},
     "output_type": "execute_result"
    }
   ],
   "source": []
  },
  {
   "cell_type": "code",
   "execution_count": null,
   "metadata": {},
   "outputs": [],
   "source": []
  },
  {
   "cell_type": "code",
   "execution_count": null,
   "metadata": {},
   "outputs": [],
   "source": []
  }
 ],
 "metadata": {
  "kernelspec": {
   "display_name": "Julia 1.5.0-beta1",
   "language": "julia",
   "name": "julia-1.5"
  },
  "language_info": {
   "file_extension": ".jl",
   "mimetype": "application/julia",
   "name": "julia",
   "version": "1.5.0"
  }
 },
 "nbformat": 4,
 "nbformat_minor": 2
}
