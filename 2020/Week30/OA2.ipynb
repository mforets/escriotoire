{
 "cells": [
  {
   "cell_type": "code",
   "execution_count": null,
   "metadata": {},
   "outputs": [],
   "source": [
    "using Revise, LazySets, Polyhedra, CDDLib"
   ]
  },
  {
   "cell_type": "markdown",
   "metadata": {},
   "source": [
    "----"
   ]
  },
  {
   "cell_type": "code",
   "execution_count": null,
   "metadata": {},
   "outputs": [],
   "source": [
    "n = 4\n",
    "X = convert(HPolytope, rand(Hyperrectangle, dim=n))\n",
    "s = [project(X, [i, i+1]) for i in 1:2:Int(floor(n/2))]\n",
    "typeof(s)"
   ]
  },
  {
   "cell_type": "code",
   "execution_count": null,
   "metadata": {},
   "outputs": [],
   "source": [
    "push!(s, project(X, [5]))"
   ]
  },
  {
   "cell_type": "code",
   "execution_count": null,
   "metadata": {},
   "outputs": [],
   "source": [
    "using LazySets.Approximations: AbstractDirections\n",
    "using LazySets: dim\n",
    "\n",
    "function _overapproximate_zonotope_cpa(X::LazySet, ::Type{<:Zonotope}, dir::AbstractDirections)\n",
    "    n = LazySets.dim(X)\n",
    "    nblocks = Int(floor(n/2))\n",
    "    πX_2D = [project(X, [i, i+1]) for i in 1:2:nblocks]\n",
    "\n",
    "    # overapproximate 2D blocks\n",
    "    Z_2D = [_overapproximate_zonotope_vrep(poly, Zonotope, dir) for poly in πX_2D]\n",
    "\n",
    "    if iseven(n)\n",
    "        return CartesianProductArray(Z_2D)\n",
    "    else\n",
    "        # odd case projects onto an interval\n",
    "        z = project(X, [n])\n",
    "        πX_n = _overapproximate_zonotope_vrep(z, Zonotope, BoxDirections(1))\n",
    "        πX_n = overapprximate(Interval, πX_n)\n",
    "        return CartesianProductArray(vcat(Z_2D, πX_n))\n",
    "    end\n",
    "end"
   ]
  },
  {
   "cell_type": "markdown",
   "metadata": {},
   "source": [
    "---"
   ]
  },
  {
   "cell_type": "markdown",
   "metadata": {},
   "source": [
    "## TESTS"
   ]
  },
  {
   "cell_type": "code",
   "execution_count": 4,
   "metadata": {},
   "outputs": [],
   "source": [
    "using Revise, LazySets, Polyhedra, CDDLib\n",
    "using LazySets: Interval"
   ]
  },
  {
   "cell_type": "code",
   "execution_count": 10,
   "metadata": {},
   "outputs": [],
   "source": [
    "B = rand(Interval, dim=1)\n",
    "dirs = BoxDirections(1);\n",
    "Y1 = overapproximate(B, Zonotope, dirs)\n",
    "Y2 = overapproximate(B, Zonotope, dirs, algorithm=\"vrep\")\n",
    "Y3 = overapproximate(B, Zonotope, dirs, algorithm=\"cpa\");"
   ]
  },
  {
   "cell_type": "code",
   "execution_count": 13,
   "metadata": {},
   "outputs": [
    {
     "data": {
      "text/plain": [
       "CartesianProductArray{Float64,AbstractZonotope{Float64}}(AbstractZonotope{Float64}[Interval{Float64,IntervalArithmetic.Interval{Float64}}([-0.987861, -0.797246])])"
      ]
     },
     "execution_count": 13,
     "metadata": {},
     "output_type": "execute_result"
    }
   ],
   "source": [
    "Y3"
   ]
  },
  {
   "cell_type": "code",
   "execution_count": 12,
   "metadata": {},
   "outputs": [
    {
     "data": {
      "text/plain": [
       "Zonotope{Float64,Array{Float64,1},Array{Float64,2}}([-0.8925533265516776], [0.09530701636074967])"
      ]
     },
     "execution_count": 12,
     "metadata": {},
     "output_type": "execute_result"
    }
   ],
   "source": [
    "Y2"
   ]
  },
  {
   "cell_type": "code",
   "execution_count": null,
   "metadata": {},
   "outputs": [],
   "source": [
    "# ----------\n",
    "B = rand(Ball1, dim=1)\n",
    "dirs = BoxDirections(1);\n",
    "overapproximate(B, Zonotope, dirs)\n",
    "overapproximate(B, Zonotope, dirs, algorithm=\"vrep\")\n",
    "overapproximate(B, Zonotope, dirs, algorithm=\"cpa\")"
   ]
  },
  {
   "cell_type": "code",
   "execution_count": null,
   "metadata": {},
   "outputs": [],
   "source": [
    "B = rand(Ball1, dim=1)\n",
    "dirs = BoxDirections(1);\n",
    "overapproximate(B, Zonotope, dirs)\n",
    "overapproximate(B, Zonotope, dirs, algorithm=\"vrep\")\n",
    "overapproximate(B, Zonotope, dirs, algorithm=\"cpa\")\n",
    "\n",
    "# ----------\n",
    "\n"
   ]
  },
  {
   "cell_type": "code",
   "execution_count": null,
   "metadata": {},
   "outputs": [],
   "source": [
    "B = rand(Ball1, dim=2)\n",
    "dirs = BoxDirections(2);\n",
    "\n",
    "# should use vrep method\n",
    "overapproximate(B, Zonotope, dirs)\n",
    "\n",
    "# should use vrep method\n",
    "overapproximate(B, Zonotope, dirs, algorithm=\"vrep\")\n",
    "\n",
    "# should use cpa method\n",
    "_overapproximate_zonotope_cpa(B, Zonotope, dirs, algorithm=\"cpa\")"
   ]
  },
  {
   "cell_type": "code",
   "execution_count": null,
   "metadata": {},
   "outputs": [],
   "source": [
    "B = rand(Ball1, dim=3)\n",
    "dirs = BoxDirections(3);\n",
    "\n",
    "# should use vrep method\n",
    "overapproximate(B, Zonotope, dirs)\n",
    "\n",
    "# should use vrep method\n",
    "overapproximate(B, Zonotope, dirs, algorithm=\"vrep\")\n",
    "\n",
    "# should use cpa method\n",
    "_overapproximate_zonotope_cpa(B, Zonotope, dirs, algorithm=\"cpa\")"
   ]
  },
  {
   "cell_type": "code",
   "execution_count": 15,
   "metadata": {},
   "outputs": [
    {
     "data": {
      "text/plain": [
       "Zonotope{Float64,Array{Float64,1},Array{Float64,2}}([0.1603181947923759], [0.2224425240669668])"
      ]
     },
     "execution_count": 15,
     "metadata": {},
     "output_type": "execute_result"
    }
   ],
   "source": [
    "convert(Zonotope, rand(Interval))"
   ]
  },
  {
   "cell_type": "markdown",
   "metadata": {},
   "source": [
    "Supongamos que $n = 3$"
   ]
  },
  {
   "cell_type": "code",
   "execution_count": 32,
   "metadata": {},
   "outputs": [],
   "source": [
    "using LazySets: dim\n",
    "\n",
    "X = rand(Zonotope, dim=3)\n",
    "Z = overapproximate(X, Zonotope, OctDirections, algorithm=\"cpa\");"
   ]
  },
  {
   "cell_type": "code",
   "execution_count": 35,
   "metadata": {},
   "outputs": [],
   "source": [
    "using Plots"
   ]
  },
  {
   "cell_type": "code",
   "execution_count": 38,
   "metadata": {},
   "outputs": [
    {
     "data": {
      "text/plain": [
       "Zonotope{Float64,Array{Float64,1},Array{Float64,2}}([1.4167303361303372], [2.9671344944217495])"
      ]
     },
     "execution_count": 38,
     "metadata": {},
     "output_type": "execute_result"
    }
   ],
   "source": [
    "Z12 = Z.array[1]\n",
    "Z3 = Z.array[2]"
   ]
  },
  {
   "cell_type": "code",
   "execution_count": 39,
   "metadata": {},
   "outputs": [
    {
     "data": {
      "text/plain": [
       "3-element Array{Float64,1}:\n",
       " 1.905973395157175\n",
       " 0.23850446172771922\n",
       " 1.4167303361303372"
      ]
     },
     "execution_count": 39,
     "metadata": {},
     "output_type": "execute_result"
    }
   ],
   "source": [
    "new_center = vcat(Z12.center, Z3.center)\n",
    "new_generators = vcat(Z12.center, Z3.center)"
   ]
  },
  {
   "cell_type": "code",
   "execution_count": 40,
   "metadata": {},
   "outputs": [
    {
     "data": {
      "text/plain": [
       "2×4 Array{Float64,2}:\n",
       " 1.31872   0.0391875  3.31968  0.0\n",
       " 1.31872  -0.0391875  0.0      2.17705"
      ]
     },
     "execution_count": 40,
     "metadata": {},
     "output_type": "execute_result"
    }
   ],
   "source": [
    "Z12.generators"
   ]
  },
  {
   "cell_type": "code",
   "execution_count": 41,
   "metadata": {},
   "outputs": [
    {
     "data": {
      "text/plain": [
       "1×1 Array{Float64,2}:\n",
       " 2.9671344944217495"
      ]
     },
     "execution_count": 41,
     "metadata": {},
     "output_type": "execute_result"
    }
   ],
   "source": [
    "Z3.generators"
   ]
  },
  {
   "cell_type": "code",
   "execution_count": 42,
   "metadata": {},
   "outputs": [],
   "source": [
    "using LinearAlgebra"
   ]
  },
  {
   "cell_type": "code",
   "execution_count": 47,
   "metadata": {},
   "outputs": [
    {
     "data": {
      "text/plain": [
       "2×2 Diagonal{Array{Float64,2},Array{Array{Float64,2},1}}:\n",
       " [1.31872 0.0391875 3.31968 0.0; 1.31872 -0.0391875 0.0 2.17705]      ⋅     \n",
       "         ⋅                                                        [2.96713]"
      ]
     },
     "execution_count": 47,
     "metadata": {},
     "output_type": "execute_result"
    }
   ],
   "source": [
    "Diagonal([Z12.generators, Z3.generators])"
   ]
  },
  {
   "cell_type": "code",
   "execution_count": 49,
   "metadata": {},
   "outputs": [],
   "source": [
    "using SparseArrays"
   ]
  },
  {
   "cell_type": "code",
   "execution_count": 55,
   "metadata": {},
   "outputs": [
    {
     "data": {
      "text/plain": [
       "3×5 Array{Float64,2}:\n",
       " 1.31872   0.0391875  3.31968  0.0      0.0\n",
       " 1.31872  -0.0391875  0.0      2.17705  0.0\n",
       " 0.0       0.0        0.0      0.0      2.96713"
      ]
     },
     "execution_count": 55,
     "metadata": {},
     "output_type": "execute_result"
    }
   ],
   "source": [
    "M = blockdiag(sparse(Z12.generators), sparse(Z3.generators));\n",
    "Matrix(M)"
   ]
  },
  {
   "cell_type": "markdown",
   "metadata": {},
   "source": [
    "----"
   ]
  },
  {
   "cell_type": "code",
   "execution_count": 60,
   "metadata": {},
   "outputs": [],
   "source": [
    "using SparseArrays"
   ]
  },
  {
   "cell_type": "code",
   "execution_count": 76,
   "metadata": {},
   "outputs": [
    {
     "data": {
      "text/plain": [
       "_convert (generic function with 1 method)"
      ]
     },
     "execution_count": 76,
     "metadata": {},
     "output_type": "execute_result"
    }
   ],
   "source": [
    "function _convert(::Type{Zonotope}, cpa::CartesianProductArray{N,\n",
    "                 <:AbstractZonotope{N}}) where {N}\n",
    "    array = cpa.array\n",
    "    c = sparse(reduce(vcat, LazySets.center.(array)))\n",
    "    G = reduce(blockdiag, sparse.(genmat.(array)))\n",
    "    return Zonotope(c, G)\n",
    "end"
   ]
  },
  {
   "cell_type": "code",
   "execution_count": 79,
   "metadata": {},
   "outputs": [
    {
     "data": {
      "text/plain": [
       "6-element SparseVector{Float64,Int64} with 4 stored entries:\n",
       "  [1]  =  4.0\n",
       "  [2]  =  5.0\n",
       "  [4]  =  4.0\n",
       "  [5]  =  5.0"
      ]
     },
     "execution_count": 79,
     "metadata": {},
     "output_type": "execute_result"
    }
   ],
   "source": [
    "x = sparsevec([1, 2], [4.0, 5.0], 3)\n",
    "vcat(x, x)"
   ]
  },
  {
   "cell_type": "code",
   "execution_count": 77,
   "metadata": {},
   "outputs": [
    {
     "data": {
      "text/plain": [
       "Zonotope{Float64,SparseVector{Float64,Int64},SparseMatrixCSC{Float64,Int64}}(  [1 ]  =  -2.45236\n",
       "  [2 ]  =  0.629654\n",
       "  [3 ]  =  0.827285\n",
       "  [4 ]  =  -1.09923\n",
       "  [5 ]  =  2.20895\n",
       "  [6 ]  =  0.418269\n",
       "  [7 ]  =  -0.142181\n",
       "  [8 ]  =  0.104313\n",
       "  [9 ]  =  -1.34329\n",
       "  [10]  =  -1.37916, \n",
       "  [1 ,  1]  =  1.12583\n",
       "  [2 ,  1]  =  1.96283\n",
       "  [1 ,  2]  =  -0.0812319\n",
       "  [2 ,  2]  =  0.167425\n",
       "  [1 ,  3]  =  1.25032\n",
       "  [2 ,  3]  =  -0.698021\n",
       "  [1 ,  4]  =  0.0191633\n",
       "  [2 ,  4]  =  -0.629271\n",
       "  [3 ,  5]  =  0.0405677\n",
       "  [4 ,  5]  =  1.27751\n",
       "  [3 ,  6]  =  -0.0223759\n",
       "  [4 ,  6]  =  0.0646973\n",
       "  ⋮\n",
       "  [8 ,  9]  =  -0.568358\n",
       "  [7 , 10]  =  -0.590919\n",
       "  [8 , 10]  =  -0.487233\n",
       "  [7 , 11]  =  0.142221\n",
       "  [8 , 11]  =  -2.59975\n",
       "  [9 , 12]  =  1.092\n",
       "  [10, 12]  =  0.451703\n",
       "  [9 , 13]  =  -1.5769\n",
       "  [10, 13]  =  -0.80627\n",
       "  [9 , 14]  =  0.0238759\n",
       "  [10, 14]  =  0.261564\n",
       "  [9 , 15]  =  -1.07648\n",
       "  [10, 15]  =  -0.709592)"
      ]
     },
     "execution_count": 77,
     "metadata": {},
     "output_type": "execute_result"
    }
   ],
   "source": [
    "x = [rand(Zonotope) for _ in 1:5];\n",
    "_convert(Zonotope, CartesianProductArray(x))"
   ]
  },
  {
   "cell_type": "code",
   "execution_count": null,
   "metadata": {},
   "outputs": [],
   "source": []
  },
  {
   "cell_type": "code",
   "execution_count": 70,
   "metadata": {},
   "outputs": [
    {
     "data": {
      "text/plain": [
       "10×16 SparseMatrixCSC{Float64,Int64} with 32 stored entries:\n",
       "  [1 ,  1]  =  -2.00993\n",
       "  [2 ,  1]  =  0.937552\n",
       "  [1 ,  2]  =  -1.00395\n",
       "  [2 ,  2]  =  3.25927\n",
       "  [3 ,  3]  =  0.0844815\n",
       "  [4 ,  3]  =  -0.804111\n",
       "  [3 ,  4]  =  -0.470436\n",
       "  [4 ,  4]  =  -0.656306\n",
       "  [3 ,  5]  =  0.999216\n",
       "  [4 ,  5]  =  0.105169\n",
       "  [3 ,  6]  =  0.768036\n",
       "  [4 ,  6]  =  0.394399\n",
       "  ⋮\n",
       "  [8 , 10]  =  1.10435\n",
       "  [7 , 11]  =  0.914492\n",
       "  [8 , 11]  =  -0.971978\n",
       "  [7 , 12]  =  2.26006\n",
       "  [8 , 12]  =  -1.0348\n",
       "  [9 , 13]  =  -0.217073\n",
       "  [10, 13]  =  -0.751995\n",
       "  [9 , 14]  =  -0.0766718\n",
       "  [10, 14]  =  -0.658735\n",
       "  [9 , 15]  =  -0.656569\n",
       "  [10, 15]  =  0.73828\n",
       "  [9 , 16]  =  -0.0174222\n",
       "  [10, 16]  =  0.0105527"
      ]
     },
     "execution_count": 70,
     "metadata": {},
     "output_type": "execute_result"
    }
   ],
   "source": [
    "reduce(blockdiag, sparse.(genmat.(x)))"
   ]
  },
  {
   "cell_type": "code",
   "execution_count": null,
   "metadata": {},
   "outputs": [],
   "source": []
  }
 ],
 "metadata": {
  "@webio": {
   "lastCommId": null,
   "lastKernelId": null
  },
  "kernelspec": {
   "display_name": "Julia 1.5.0-beta1",
   "language": "julia",
   "name": "julia-1.5"
  },
  "language_info": {
   "file_extension": ".jl",
   "mimetype": "application/julia",
   "name": "julia",
   "version": "1.5.0"
  }
 },
 "nbformat": 4,
 "nbformat_minor": 2
}
