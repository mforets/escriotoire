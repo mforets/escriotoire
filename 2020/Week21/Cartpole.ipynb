{
 "cells": [
  {
   "cell_type": "code",
   "execution_count": 27,
   "metadata": {},
   "outputs": [
    {
     "data": {
      "text/plain": [
       "InitialValueProblem{BlackBoxContinuousSystem{typeof(cartpole!)},LinearMap{Float64,Hyperrectangle{Float64,Array{Float64,1},Array{Float64,1}},Float64,SparseArrays.SparseMatrixCSC{Float64,Int64}}}(BlackBoxContinuousSystem{typeof(cartpole!)}(cartpole!, 4), LinearMap{Float64,Hyperrectangle{Float64,Array{Float64,1},Array{Float64,1}},Float64,SparseArrays.SparseMatrixCSC{Float64,Int64}}(\n",
       "  [1, 1]  =  0.01\n",
       "  [2, 2]  =  0.01\n",
       "  [3, 3]  =  0.01\n",
       "  [4, 4]  =  0.01, Hyperrectangle{Float64,Array{Float64,1},Array{Float64,1}}([0.0, 0.0, 0.0, 0.0], [0.05, 0.05, 0.05, 0.05])))"
      ]
     },
     "execution_count": 27,
     "metadata": {},
     "output_type": "execute_result"
    }
   ],
   "source": [
    "using ReachabilityAnalysis\n",
    "@taylorize function cartpole!(du, u, p, t)\n",
    "    local f, m, l, mt, g = 0, 0.1, 0.5, 1.1, 9.8\n",
    "    \n",
    "    du[1] = u[2]\n",
    "    du[2] = (f + m*l*u[4]^2*sin(u[3])) / mt - ((m*l*(g*sin(u[3])- cos(u[3]))*((f+m*l*u[4]^2*sin(u[3]))/mt)) / l*(4/3 - m*cos(u[3])^2/mt)) * cos(u[3])/mt\n",
    "    du[3] = u[4]\n",
    "    du[4] = (g*sin(u[3])-cos(u[3])*((f+m*l*u[4]^2*sin(u[3]))/mt)) / l*(4/3 - m*cos(u[3])^2/mt) * cos(u[3])/mt\n",
    "    \n",
    "    return du\n",
    "end\n",
    "\n",
    "# define the initial-value problem\n",
    "X₀ = Hyperrectangle(low=[-0.05, -0.05, -0.05, -0.05], high=[0.05, 0.05, 0.05, 0.05])\n",
    "\n",
    "prob = @ivp(x' = cartpole!(x), dim: 4, x(0) ∈ X₀*0.01) # split(, [2, 2, 2, 2]))"
   ]
  },
  {
   "cell_type": "code",
   "execution_count": 24,
   "metadata": {},
   "outputs": [
    {
     "name": "stdout",
     "output_type": "stream",
     "text": [
      "  8.590104 seconds (175.30 M allocations: 12.130 GiB, 23.26% gc time)\n"
     ]
    }
   ],
   "source": [
    "@time sol = solve(prob, T=1.0, alg=TMJets(max_steps=10_000, abs_tol=1e-10));"
   ]
  },
  {
   "cell_type": "code",
   "execution_count": 28,
   "metadata": {},
   "outputs": [
    {
     "name": "stdout",
     "output_type": "stream",
     "text": [
      " 18.938408 seconds (229.12 M allocations: 15.720 GiB, 17.32% gc time)\n"
     ]
    }
   ],
   "source": [
    "# solve it\n",
    "@time sol = solve(prob, T=1.0, alg=TMJets(max_steps=10_000, abs_tol=1e-10));"
   ]
  },
  {
   "cell_type": "code",
   "execution_count": 17,
   "metadata": {},
   "outputs": [
    {
     "data": {
      "text/plain": [
       "Interval(0.0, 1.0)"
      ]
     },
     "execution_count": 17,
     "metadata": {},
     "output_type": "execute_result"
    }
   ],
   "source": [
    "tspan(sol)"
   ]
  },
  {
   "cell_type": "code",
   "execution_count": 18,
   "metadata": {},
   "outputs": [
    {
     "data": {
      "text/plain": [
       "TMJets{Float64,ReachabilityAnalysis.ZonotopeEnclosure}\n",
       "  max_steps: Int64 10000\n",
       "  abs_tol: Float64 1.0e-10\n",
       "  orderT: Int64 8\n",
       "  orderQ: Int64 2\n",
       "  disjointness: ReachabilityAnalysis.ZonotopeEnclosure ReachabilityAnalysis.ZonotopeEnclosure()\n",
       "  adaptive: Bool true\n",
       "  min_abs_tol: Float64 1.0e-29\n"
      ]
     },
     "execution_count": 18,
     "metadata": {},
     "output_type": "execute_result"
    }
   ],
   "source": [
    "sol.alg"
   ]
  },
  {
   "cell_type": "code",
   "execution_count": null,
   "metadata": {},
   "outputs": [],
   "source": []
  }
 ],
 "metadata": {
  "kernelspec": {
   "display_name": "Julia 1.4.1",
   "language": "julia",
   "name": "julia-1.4"
  },
  "language_info": {
   "file_extension": ".jl",
   "mimetype": "application/julia",
   "name": "julia",
   "version": "1.4.1"
  }
 },
 "nbformat": 4,
 "nbformat_minor": 2
}
