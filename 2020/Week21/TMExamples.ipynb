{
 "cells": [
  {
   "cell_type": "markdown",
   "metadata": {},
   "source": [
    "- https://github.com/JuliaIntervals/TaylorModels.jl/issues/62"
   ]
  },
  {
   "cell_type": "markdown",
   "metadata": {},
   "source": [
    "- https://juliaintervals.github.io/TaylorModels.jl/latest/"
   ]
  },
  {
   "cell_type": "markdown",
   "metadata": {},
   "source": [
    "The following examples illustrate different ways of defining and working with Taylor models."
   ]
  },
  {
   "cell_type": "markdown",
   "metadata": {},
   "source": [
    "## Bounding the range of a univariate function"
   ]
  },
  {
   "cell_type": "markdown",
   "metadata": {},
   "source": [
    "Let $f : \\mathbb{R} \\to \\mathbb{R}$ be a continuously differentiable function."
   ]
  },
  {
   "cell_type": "code",
   "execution_count": null,
   "metadata": {},
   "outputs": [],
   "source": []
  },
  {
   "cell_type": "code",
   "execution_count": null,
   "metadata": {},
   "outputs": [],
   "source": []
  },
  {
   "cell_type": "markdown",
   "metadata": {},
   "source": [
    "## Taylor models in two variables"
   ]
  },
  {
   "cell_type": "markdown",
   "metadata": {},
   "source": [
    "There are several ways to specify the order, the approximation point and the domain of the Taylor model."
   ]
  },
  {
   "cell_type": "code",
   "execution_count": null,
   "metadata": {},
   "outputs": [],
   "source": []
  },
  {
   "cell_type": "code",
   "execution_count": null,
   "metadata": {},
   "outputs": [],
   "source": [
    "set_variables(Interval{Float64}, [:x, :y], order=_order_max)"
   ]
  },
  {
   "cell_type": "code",
   "execution_count": null,
   "metadata": {},
   "outputs": [],
   "source": []
  },
  {
   "cell_type": "code",
   "execution_count": null,
   "metadata": {},
   "outputs": [],
   "source": [
    "We begin by definign "
   ]
  },
  {
   "cell_type": "code",
   "execution_count": 1,
   "metadata": {},
   "outputs": [],
   "source": [
    "using TaylorModels"
   ]
  },
  {
   "cell_type": "code",
   "execution_count": 3,
   "metadata": {},
   "outputs": [
    {
     "ename": "UndefVarError",
     "evalue": "UndefVarError: _order_max not defined",
     "output_type": "error",
     "traceback": [
      "UndefVarError: _order_max not defined",
      "",
      "Stacktrace:",
      " [1] top-level scope at In[3]:1"
     ]
    }
   ],
   "source": [
    "set_variables(Interval{Float64}, [:x, :y], order=_order_max)"
   ]
  },
  {
   "cell_type": "code",
   "execution_count": null,
   "metadata": {},
   "outputs": [],
   "source": []
  },
  {
   "cell_type": "code",
   "execution_count": null,
   "metadata": {},
   "outputs": [],
   "source": []
  },
  {
   "cell_type": "markdown",
   "metadata": {},
   "source": [
    "## Taylor models with interval coefficients"
   ]
  },
  {
   "cell_type": "markdown",
   "metadata": {},
   "source": [
    "The coefficients of the polynomial $P$ in the Taylor model $(P, Δ)$ are not restricted to be floating point numbers. For instance, we can define variables `x` and `y` whose coefficient type is an *interval* as follows:"
   ]
  },
  {
   "cell_type": "code",
   "execution_count": 6,
   "metadata": {},
   "outputs": [
    {
     "data": {
      "text/plain": [
       "2-element Array{TaylorN{Interval{Float64}},1}:\n",
       "  [1, 1] x + 𝒪(‖x‖⁷)\n",
       "  [1, 1] y + 𝒪(‖x‖⁷)"
      ]
     },
     "execution_count": 6,
     "metadata": {},
     "output_type": "execute_result"
    }
   ],
   "source": [
    "set_variables(Interval{Float64}, [:x, :y], order=6)"
   ]
  },
  {
   "cell_type": "markdown",
   "metadata": {},
   "source": [
    "I don't understand how to use TaylorModelN. The documentation is insufficient. Specifying the order, the approximation point, and the interval over which it should be valid makes sense, but what else should I need to specify? And why does it seem like I can't evaluate an ND Taylor model over more than 1D?"
   ]
  },
  {
   "cell_type": "code",
   "execution_count": null,
   "metadata": {},
   "outputs": [],
   "source": [
    "julia> using TaylorModels\n",
    "\n",
    "julia> const _order = 2  # this will be maximum order of the expansions\n",
    "2\n",
    "\n",
    "julia> const _order_max = 2*(_order+1)  # internally, the actual order needs to be larger\n",
    "6\n",
    "\n",
    "julia> u\n",
    "2-element Array{TaylorN{Interval{Float64}},1}:\n",
    "  [1, 1] x + 𝒪(‖x‖⁷)\n",
    "  [1, 1] y + 𝒪(‖x‖⁷)\n",
    "\n",
    "julia> xT = TaylorN(Interval{Float64}, 1, order=_order)  # \"shortcuts\" for the independent vars\n",
    " [1, 1] x + 𝒪(‖x‖³)\n",
    "\n",
    "julia> yT = TaylorN(Interval{Float64}, 2, order=_order)  # \"shortcuts\" for the independent vars\n",
    " [1, 1] y + 𝒪(‖x‖³)"
   ]
  },
  {
   "cell_type": "markdown",
   "metadata": {},
   "source": [
    "Next we defne a `TaylorModelN` for variable `x`:"
   ]
  },
  {
   "cell_type": "code",
   "execution_count": null,
   "metadata": {},
   "outputs": [],
   "source": [
    "xm = TaylorModelN(xT, 0..0, b0, ib0)  "
   ]
  },
  {
   "cell_type": "code",
   "execution_count": null,
   "metadata": {},
   "outputs": [],
   "source": [
    "julia> ym = TaylorModelN(yT, 0..0, b0, ib0)  # TaylorModelN for `y`\n",
    " [1, 1] y + [0, 0]"
   ]
  },
  {
   "cell_type": "markdown",
   "metadata": {},
   "source": [
    "Arithmetic operations between Taylor models are performed with the usual operations `+`, `-`, `*`, etc."
   ]
  },
  {
   "cell_type": "code",
   "execution_count": null,
   "metadata": {},
   "outputs": [],
   "source": [
    "xm * ym"
   ]
  },
  {
   "cell_type": "code",
   "execution_count": null,
   "metadata": {},
   "outputs": [],
   "source": [
    "xm * ym^2"
   ]
  },
  {
   "cell_type": "code",
   "execution_count": null,
   "metadata": {},
   "outputs": [],
   "source": []
  },
  {
   "cell_type": "markdown",
   "metadata": {},
   "source": [
    "## Validated integration"
   ]
  },
  {
   "cell_type": "code",
   "execution_count": null,
   "metadata": {},
   "outputs": [],
   "source": []
  },
  {
   "cell_type": "code",
   "execution_count": null,
   "metadata": {},
   "outputs": [],
   "source": []
  },
  {
   "cell_type": "code",
   "execution_count": null,
   "metadata": {},
   "outputs": [],
   "source": []
  },
  {
   "cell_type": "code",
   "execution_count": null,
   "metadata": {},
   "outputs": [],
   "source": []
  }
 ],
 "metadata": {
  "kernelspec": {
   "display_name": "Julia 1.4.1",
   "language": "julia",
   "name": "julia-1.4"
  },
  "language_info": {
   "file_extension": ".jl",
   "mimetype": "application/julia",
   "name": "julia",
   "version": "1.4.1"
  }
 },
 "nbformat": 4,
 "nbformat_minor": 2
}
