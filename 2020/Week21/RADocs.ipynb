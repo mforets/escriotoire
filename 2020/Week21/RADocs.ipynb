{
 "cells": [
  {
   "cell_type": "markdown",
   "metadata": {},
   "source": [
    "## Some common gotchas"
   ]
  },
  {
   "cell_type": "markdown",
   "metadata": {},
   "source": [
    "### Equations with constant terms (`BoundsError`)"
   ]
  },
  {
   "cell_type": "markdown",
   "metadata": {},
   "source": [
    "Equations that involve constant terms may give a `BoundsError`. This is a known bug (cf. issue [#179](https://github.com/JuliaReach/ReachabilityAnalysis.jl/issues/179)]) and it related to cases in which the update rule for the right-hand side does not have the same coefficient types. Suppose that we have a varable `u[1]` whose dynamics is `du[1] = 1.0`; this likely fails in the integration (see the linked issue). However, we can write `du[1] = 1.0 + one(u[1])`, or store the constant term in an auxiliary variable as shown in the next example."
   ]
  },
  {
   "cell_type": "markdown",
   "metadata": {},
   "source": [
    "**Example.** Consider the function `f!`: \n",
    "\n",
    "```julia\n",
    "@taylorize function f!(du, u, p, t)\n",
    "    du[1] = u[3]^3 - u[2] + u[4]\n",
    "    du[2] = u[3]\n",
    "    du[3] = 2.0\n",
    "    du[4] = u[4]\n",
    "    return du\n",
    "end\n",
    "```\n",
    "\n",
    "This function can be re-written like so:\n",
    "\n",
    "```julia\n",
    "@taylorize function f!(du, u, p, t)\n",
    "    local two = 2.0 + zero(u[1])\n",
    "    du[1] = u[3]^3 - u[2] + u[4]\n",
    "    du[2] = u[3]\n",
    "    du[3] = two\n",
    "    du[4] = u[4]\n",
    "    return du\n",
    "end\n",
    "```"
   ]
  },
  {
   "cell_type": "markdown",
   "metadata": {},
   "source": [
    "### What is `@taylorize`? Do I need it?"
   ]
  },
  {
   "cell_type": "markdown",
   "metadata": {},
   "source": [
    "`@taylorize` is a macro which parses the functions containing the ODEs to be integrated, allowing to speed up repeated evaluations. The macro is defined in [TaylorIntegration.jl](https://perezhz.github.io/TaylorIntegration.jl), see [`@taylorize`'s documentation in TaylorIntegration.jl](https://perezhz.github.io/TaylorIntegration.jl/stable/taylorize/) for further details. Since it is an optimization, it is *not* mandatory, though it is recommended as it helps to reduce the number of allocations and as a consequence it usually gives a performance boost."
   ]
  },
  {
   "cell_type": "markdown",
   "metadata": {},
   "source": [
    "### How can I get the most of out `@taylorize`?\n",
    "\n",
    "The main advice is to write expressions that invovle two arguments at most, making use of parentheses to write expressions which involve more than two terms. For further limitatins and comments see [this section of TaylorInegrations.jl's documentation](https://perezhz.github.io/TaylorIntegration.jl/stable/taylorize/#Limitations-and-some-advices-1)."
   ]
  },
  {
   "cell_type": "markdown",
   "metadata": {},
   "source": [
    "**Example.** Here is an example that uses some of the above recommendations. Start with `f!` defined below:\n",
    "\n",
    "```julia\n",
    "@taylorize function f!(du, u, params, t)\n",
    "    local a = 0.3\n",
    "    x, y, z = u[1], u[2], u[3]\n",
    "    \n",
    "    du[1] = -x * y/(1 + x)\n",
    "    du[2] = x * y/(1 + x) - a * y\n",
    "    du[3] = a * y\n",
    "    return du\n",
    "end\n",
    "```\n",
    "\n",
    "Observe that the terms `x * y` can be factored out, and we can use an auxiliary variable `aux` such that all intermediate operations involve only two terms like so:\n",
    "\n",
    "```julia\n",
    "@taylorize function g!(du, u, params, t)\n",
    "    local a = 0.3\n",
    "    x, y, z = u[1], u[2], u[3]\n",
    "    \n",
    "    num = x * y\n",
    "    den = 1 + x\n",
    "    aux = num/den\n",
    "    du[1] = -aux\n",
    "    du[2] = aux - a * y\n",
    "    du[3] = a * y\n",
    "    return du\n",
    "end\n",
    "```"
   ]
  },
  {
   "cell_type": "markdown",
   "metadata": {},
   "source": [
    "### Why I can't directly plot the solution?"
   ]
  },
  {
   "cell_type": "markdown",
   "metadata": {},
   "source": [
    "The flowpipe computed with algorithm `TMJets` is a *Taylor model flowpipe*, and to reason about such flowpipes, either for plotting or performing set-based operations, we *overapproximate* them with other set representations (usually, convex sets such as boxes or polytopes). The command `overapproximate(sol, Zonotope)` applies `overapproximate(Ri, Zonotope)` for each reach-set `Ri` in the solution."
   ]
  },
  {
   "cell_type": "markdown",
   "metadata": {},
   "source": [
    "-----"
   ]
  },
  {
   "cell_type": "markdown",
   "metadata": {},
   "source": [
    "**Running example.** Our running example is a [damped harmonic oscillator](https://en.wikipedia.org/wiki/Harmonic_oscillator), whose dynamics is "
   ]
  },
  {
   "cell_type": "markdown",
   "metadata": {},
   "source": [
    "$x''(t) = -\\omega^2 x(t)$"
   ]
  },
  {
   "cell_type": "code",
   "execution_count": null,
   "metadata": {},
   "outputs": [],
   "source": [
    "https://en.wikipedia.org/wiki/Harmonic_oscillator"
   ]
  },
  {
   "cell_type": "markdown",
   "metadata": {},
   "source": [
    "We can turn this second order system into a first order one introducing the state variables $(x, v)$; the equations are\n",
    "\n"
   ]
  },
  {
   "cell_type": "code",
   "execution_count": 41,
   "metadata": {},
   "outputs": [
    {
     "data": {
      "text/plain": [
       "0.5"
      ]
     },
     "execution_count": 41,
     "metadata": {},
     "output_type": "execute_result"
    }
   ],
   "source": [
    "ω₀ = 1\n",
    "ζ = 1/2"
   ]
  },
  {
   "cell_type": "code",
   "execution_count": 42,
   "metadata": {},
   "outputs": [
    {
     "data": {
      "text/plain": [
       "2×2 Array{Float64,2}:\n",
       "  0.0   1.0\n",
       " -1.0  -1.0"
      ]
     },
     "execution_count": 42,
     "metadata": {},
     "output_type": "execute_result"
    }
   ],
   "source": [
    "A = [0          1;\n",
    "    -ω₀^2   -2*ζ*ω₀]"
   ]
  },
  {
   "cell_type": "code",
   "execution_count": 45,
   "metadata": {},
   "outputs": [
    {
     "data": {
      "text/plain": [
       "LinearContinuousSystem{Float64,Array{Float64,2}}([0.0 1.0; -1.0 -1.0])"
      ]
     },
     "execution_count": 45,
     "metadata": {},
     "output_type": "execute_result"
    }
   ],
   "source": [
    "S = @system(x' = Ax)"
   ]
  },
  {
   "cell_type": "markdown",
   "metadata": {},
   "source": [
    "## Set representations"
   ]
  },
  {
   "cell_type": "code",
   "execution_count": null,
   "metadata": {},
   "outputs": [],
   "source": []
  },
  {
   "cell_type": "markdown",
   "metadata": {},
   "source": [
    "A *half-space* $H \\subseteq \\mathbb{R}^n$ is the set of points satisfying the linear constraints\n",
    "\n",
    "$$\n",
    "H = \\{ x : a^T x \\leq b\\}\n",
    "$$\n",
    "For example, the half-space $x + y \\leq 2$ we defined with\n",
    "\n",
    "```julia\n",
    "julia> H = HalfSpace([1.0, 1.0], 2.0)\n",
    "```"
   ]
  },
  {
   "cell_type": "markdown",
   "metadata": {},
   "source": [
    "A *polyhedron* $P$ is the intersection of a finite number of half-spaces,\n",
    "\n",
    "$$\n",
    "P = \\left\\{ x \\in \\mathbb{R}^n: \\bigcap_{i=1}^m a_i^T x \\leq b_i\\right\\}\n",
    "$$"
   ]
  },
  {
   "cell_type": "markdown",
   "metadata": {},
   "source": [
    "where $a_i \\in \\mathbb{R}^n$ and $b_i \\in \\mathbb{R}$."
   ]
  },
  {
   "cell_type": "markdown",
   "metadata": {},
   "source": [
    "A *polytope* is a bounded polyedron. The convex hull of a set $X \\subseteq \\mathbb{R}^n$ is\n",
    "\n",
    "$$\n",
    "CH(X)= \\left\\{\\sum_{i=1}^m \\lambda_i v_i : v_i \\in X, \\lambda_i \\geq 0, \\sum_{i=1}^m \\lambda_i = 1\\right\\}.\n",
    "$$"
   ]
  },
  {
   "cell_type": "markdown",
   "metadata": {},
   "source": [
    "Given a matrix $M \\in \\mathbb{R}^{n\\times n}$, $MX = \\{Mx : x \\in X\\}$. The *Minkowski sum* of sets $X$ and $Y$ is "
   ]
  },
  {
   "cell_type": "code",
   "execution_count": null,
   "metadata": {},
   "outputs": [],
   "source": []
  },
  {
   "cell_type": "code",
   "execution_count": null,
   "metadata": {},
   "outputs": [],
   "source": []
  },
  {
   "cell_type": "code",
   "execution_count": null,
   "metadata": {},
   "outputs": [],
   "source": []
  },
  {
   "cell_type": "markdown",
   "metadata": {},
   "source": [
    "## Reach-sets"
   ]
  },
  {
   "cell_type": "code",
   "execution_count": null,
   "metadata": {},
   "outputs": [],
   "source": []
  },
  {
   "cell_type": "code",
   "execution_count": null,
   "metadata": {},
   "outputs": [],
   "source": []
  },
  {
   "cell_type": "markdown",
   "metadata": {},
   "source": [
    "## Flowpipes"
   ]
  },
  {
   "cell_type": "markdown",
   "metadata": {},
   "source": [
    "A *flowpipe* is the union of reach-sets."
   ]
  },
  {
   "cell_type": "code",
   "execution_count": null,
   "metadata": {},
   "outputs": [],
   "source": []
  }
 ],
 "metadata": {
  "kernelspec": {
   "display_name": "Julia 1.4.1",
   "language": "julia",
   "name": "julia-1.4"
  },
  "language_info": {
   "file_extension": ".jl",
   "mimetype": "application/julia",
   "name": "julia",
   "version": "1.4.1"
  }
 },
 "nbformat": 4,
 "nbformat_minor": 2
}
