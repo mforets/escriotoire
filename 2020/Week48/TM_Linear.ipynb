{
 "cells": [
  {
   "cell_type": "markdown",
   "metadata": {},
   "source": [
    "## Interval arithmetic"
   ]
  },
  {
   "cell_type": "markdown",
   "metadata": {},
   "source": [
    "## Taylor model arithmetic"
   ]
  },
  {
   "cell_type": "code",
   "execution_count": 1,
   "metadata": {},
   "outputs": [],
   "source": [
    "using TaylorModels"
   ]
  },
  {
   "cell_type": "code",
   "execution_count": 2,
   "metadata": {},
   "outputs": [],
   "source": [
    "using ReachabilityAnalysis, LazySets, Plots"
   ]
  },
  {
   "cell_type": "code",
   "execution_count": 3,
   "metadata": {},
   "outputs": [
    {
     "data": {
      "text/plain": [
       "Zonotope{Float64,Array{Float64,1},Array{Float64,2}}([1.3417054907360892, -0.7625713469625908], [0.7200947906961055 -0.20273631884826754; 0.3921543815075854 0.3508040631466221])"
      ]
     },
     "execution_count": 3,
     "metadata": {},
     "output_type": "execute_result"
    }
   ],
   "source": [
    "Z = rand(Zonotope)"
   ]
  },
  {
   "cell_type": "markdown",
   "metadata": {},
   "source": [
    "## Taylor model integration"
   ]
  },
  {
   "cell_type": "code",
   "execution_count": null,
   "metadata": {},
   "outputs": [],
   "source": [
    "Given an ODE $x' = f(x, t)$ "
   ]
  },
  {
   "cell_type": "markdown",
   "metadata": {},
   "source": [
    "*Pseudocode.*\n",
    "\n",
    "For i in 1, ..N, do\n",
    "    Comute a Taylor expansion $p_i(x_i, t)$ of the ODE solution from $x_i$\n",
    "    Evaluate an inteval remainder the $I_i$ such that $(p_i, I_i)$ is a TM for the ODE solution when $X_"
   ]
  },
  {
   "cell_type": "code",
   "execution_count": 87,
   "metadata": {},
   "outputs": [
    {
     "data": {
      "text/plain": [
       "ReachSet{Float64,Zonotope{Float64,Array{Float64,1},Array{Float64,2}}}(Zonotope{Float64,Array{Float64,1},Array{Float64,2}}([0.38445227436957413, -0.35888561941916974], [-1.053189446141972 -0.3464646244111049; 0.08025950405128496 -2.236271461611677]), [0, 1])"
      ]
     },
     "execution_count": 87,
     "metadata": {},
     "output_type": "execute_result"
    }
   ],
   "source": [
    "Z = rand(Zonotope, dim=2)\n",
    "R = ReachSet(Z, 0 .. 1)"
   ]
  },
  {
   "cell_type": "code",
   "execution_count": 88,
   "metadata": {},
   "outputs": [
    {
     "ename": "LoadError",
     "evalue": "MethodError: no method matching reconstruct(::ReachSet{Float64,Zonotope{Float64,Array{Float64,1},Array{Float64,2}}}, ::TaylorModelReachSet{Float64})\nClosest candidates are:\n  reconstruct(::ReachSet, !Matched::LazySet) at /home/mforets/.julia/dev/ReachabilityAnalysis/src/Flowpipes/reachsets.jl:382\n  reconstruct(!Matched::TaylorModelReachSet, ::Any) at /home/mforets/.julia/dev/ReachabilityAnalysis/src/Flowpipes/reachsets.jl:631",
     "output_type": "error",
     "traceback": [
      "MethodError: no method matching reconstruct(::ReachSet{Float64,Zonotope{Float64,Array{Float64,1},Array{Float64,2}}}, ::TaylorModelReachSet{Float64})\nClosest candidates are:\n  reconstruct(::ReachSet, !Matched::LazySet) at /home/mforets/.julia/dev/ReachabilityAnalysis/src/Flowpipes/reachsets.jl:382\n  reconstruct(!Matched::TaylorModelReachSet, ::Any) at /home/mforets/.julia/dev/ReachabilityAnalysis/src/Flowpipes/reachsets.jl:631",
      "",
      "Stacktrace:",
      " [1] overapproximate(::ReachSet{Float64,Zonotope{Float64,Array{Float64,1},Array{Float64,2}}}, ::Type{T} where T) at /home/mforets/.julia/dev/ReachabilityAnalysis/src/Flowpipes/reachsets.jl:293",
      " [2] top-level scope at In[88]:1",
      " [3] include_string(::Function, ::Module, ::String, ::String) at ./loading.jl:1091"
     ]
    }
   ],
   "source": [
    "overapproximate(R, TaylorModelReachSet)"
   ]
  },
  {
   "cell_type": "code",
   "execution_count": 85,
   "metadata": {},
   "outputs": [
    {
     "ename": "LoadError",
     "evalue": "MethodError: Cannot `convert` an object of type \n  ReachSet{Float64,Zonotope{Float64,Array{Float64,1},Array{Float64,2}}} to an object of type \n  TaylorModelReachSet\nClosest candidates are:\n  convert(::Type{var\"#s20\"} where var\"#s20\"<:TaylorModelReachSet, !Matched::AbstractHyperrectangle{N}; orderQ, orderT, Δt) where N at /home/mforets/.julia/dev/ReachabilityAnalysis/src/Flowpipes/reachsets.jl:722\n  convert(::Type{T}, !Matched::Intervals.Interval{T,L,R} where R<:Intervals.Bound where L<:Intervals.Bound) where T at /home/mforets/.julia/packages/Intervals/ua9cq/src/interval.jl:253\n  convert(::Type{T}, !Matched::Intervals.AnchoredInterval{P,T,L,R} where R<:Intervals.Bounded where L<:Intervals.Bounded) where {P, T} at /home/mforets/.julia/packages/Intervals/ua9cq/src/anchoredinterval.jl:181\n  ...",
     "output_type": "error",
     "traceback": [
      "MethodError: Cannot `convert` an object of type \n  ReachSet{Float64,Zonotope{Float64,Array{Float64,1},Array{Float64,2}}} to an object of type \n  TaylorModelReachSet\nClosest candidates are:\n  convert(::Type{var\"#s20\"} where var\"#s20\"<:TaylorModelReachSet, !Matched::AbstractHyperrectangle{N}; orderQ, orderT, Δt) where N at /home/mforets/.julia/dev/ReachabilityAnalysis/src/Flowpipes/reachsets.jl:722\n  convert(::Type{T}, !Matched::Intervals.Interval{T,L,R} where R<:Intervals.Bound where L<:Intervals.Bound) where T at /home/mforets/.julia/packages/Intervals/ua9cq/src/interval.jl:253\n  convert(::Type{T}, !Matched::Intervals.AnchoredInterval{P,T,L,R} where R<:Intervals.Bounded where L<:Intervals.Bounded) where {P, T} at /home/mforets/.julia/packages/Intervals/ua9cq/src/anchoredinterval.jl:181\n  ...",
      "",
      "Stacktrace:",
      " [1] top-level scope at In[85]:1",
      " [2] include_string(::Function, ::Module, ::String, ::String) at ./loading.jl:1091"
     ]
    }
   ],
   "source": [
    "convert(TaylorModelReachSet, R) # doesn't necessarily work because the order of Z is not one << FIXME"
   ]
  },
  {
   "cell_type": "markdown",
   "metadata": {},
   "source": [
    "## TM flowpipe construction for linear ODEs: HOMOGENEOUS case"
   ]
  },
  {
   "cell_type": "markdown",
   "metadata": {},
   "source": [
    "We solve the sequence\n",
    "\n",
    "$$\n",
    "F_i = \\Phi F_{i-1}, \\qquad i = 2,3, \\ldots, N\n",
    "$$"
   ]
  },
  {
   "cell_type": "markdown",
   "metadata": {},
   "source": [
    "where $F_i$ is an overapproximation of the exact reachable set $\\{\\varphi(x_0, t) : t \\in [(i-1)\\delta, i\\delta]\\}$."
   ]
  },
  {
   "cell_type": "markdown",
   "metadata": {},
   "source": [
    "## 1) Computing the first flowpipe"
   ]
  },
  {
   "cell_type": "code",
   "execution_count": 6,
   "metadata": {},
   "outputs": [],
   "source": [
    "using LinearAlgebra"
   ]
  },
  {
   "cell_type": "code",
   "execution_count": 7,
   "metadata": {},
   "outputs": [
    {
     "data": {
      "text/plain": [
       " 1.0 + 2.0 t + 1.0 t² + 𝒪(t⁵¹)"
      ]
     },
     "execution_count": 7,
     "metadata": {},
     "output_type": "execute_result"
    }
   ],
   "source": [
    "order = 50\n",
    "t = Taylor1(order)\n",
    "\n",
    "p = t^2 + 2t + 1"
   ]
  },
  {
   "cell_type": "code",
   "execution_count": 8,
   "metadata": {},
   "outputs": [
    {
     "data": {
      "text/plain": [
       "2×2 Array{Float64,2}:\n",
       "  0.0  1.0\n",
       " -1.0  0.0"
      ]
     },
     "execution_count": 8,
     "metadata": {},
     "output_type": "execute_result"
    }
   ],
   "source": [
    "A = [0 1; -1 0.]"
   ]
  },
  {
   "cell_type": "code",
   "execution_count": 9,
   "metadata": {},
   "outputs": [
    {
     "data": {
      "text/plain": [
       "_exp (generic function with 1 method)"
      ]
     },
     "execution_count": 9,
     "metadata": {},
     "output_type": "execute_result"
    }
   ],
   "source": [
    "# expand e^(At) into a Taylor series\n",
    "# up to order k\n",
    "function _exp(A; order)\n",
    "    t = Taylor1(order)\n",
    "\n",
    "    n = size(A, 1)\n",
    "    Iₙ = Matrix(1.0I, n, n)\n",
    "    At = A*t\n",
    "    W = Iₙ + At\n",
    "    Q = copy(At) # stores A^i t^i / i!\n",
    "\n",
    "    for i in 2:order\n",
    "        Q = Q * At / i\n",
    "        W += Q\n",
    "    end\n",
    "    return W\n",
    "end"
   ]
  },
  {
   "cell_type": "code",
   "execution_count": 10,
   "metadata": {},
   "outputs": [
    {
     "data": {
      "text/plain": [
       "2×2 Array{Float64,2}:\n",
       "  0.540302  0.841471\n",
       " -0.841471  0.540302"
      ]
     },
     "execution_count": 10,
     "metadata": {},
     "output_type": "execute_result"
    }
   ],
   "source": [
    "A = [0 1; -1 0.]\n",
    "exp(A)"
   ]
  },
  {
   "cell_type": "code",
   "execution_count": 11,
   "metadata": {},
   "outputs": [
    {
     "data": {
      "text/plain": [
       " 1.0 - 0.5 t² + 0.041666666666666664 t⁴ - 0.0013888888888888887 t⁶ + 2.4801587301587298e-5 t⁸ - 2.7557319223985883e-7 t¹⁰ + 𝒪(t¹¹)"
      ]
     },
     "execution_count": 11,
     "metadata": {},
     "output_type": "execute_result"
    }
   ],
   "source": [
    "W = _exp(A, order=10)\n",
    "W[1, 1]"
   ]
  },
  {
   "cell_type": "code",
   "execution_count": 12,
   "metadata": {},
   "outputs": [
    {
     "data": {
      "text/plain": [
       "2×2 Array{Float64,2}:\n",
       "  0.540302  0.841471\n",
       " -0.841471  0.540302"
      ]
     },
     "execution_count": 12,
     "metadata": {},
     "output_type": "execute_result"
    }
   ],
   "source": [
    "W10 = TaylorSeries.evaluate.(W, 1.0)"
   ]
  },
  {
   "cell_type": "markdown",
   "metadata": {},
   "source": [
    "### Using eigendecomposition"
   ]
  },
  {
   "cell_type": "code",
   "execution_count": 13,
   "metadata": {},
   "outputs": [
    {
     "data": {
      "text/plain": [
       "Eigen{Complex{Float64},Complex{Float64},Array{Complex{Float64},2},Array{Complex{Float64},1}}\n",
       "values:\n",
       "2-element Array{Complex{Float64},1}:\n",
       " 0.0 - 1.0im\n",
       " 0.0 + 1.0im\n",
       "vectors:\n",
       "2×2 Array{Complex{Float64},2}:\n",
       " 0.707107-0.0im       0.707107+0.0im\n",
       "      0.0-0.707107im       0.0+0.707107im"
      ]
     },
     "execution_count": 13,
     "metadata": {},
     "output_type": "execute_result"
    }
   ],
   "source": [
    "E = eigen(A)"
   ]
  },
  {
   "cell_type": "code",
   "execution_count": 14,
   "metadata": {},
   "outputs": [
    {
     "data": {
      "text/plain": [
       "2×2 Diagonal{Complex{Float64},Array{Complex{Float64},1}}:\n",
       " 0.0-1.0im      ⋅    \n",
       "     ⋅      0.0+1.0im"
      ]
     },
     "execution_count": 14,
     "metadata": {},
     "output_type": "execute_result"
    }
   ],
   "source": [
    "D = Diagonal(E.values)"
   ]
  },
  {
   "cell_type": "code",
   "execution_count": 15,
   "metadata": {},
   "outputs": [
    {
     "data": {
      "text/plain": [
       "2×2 Array{Complex{Float64},2}:\n",
       " 0.707107-0.0im       0.707107+0.0im\n",
       "      0.0-0.707107im       0.0+0.707107im"
      ]
     },
     "execution_count": 15,
     "metadata": {},
     "output_type": "execute_result"
    }
   ],
   "source": [
    "V = E.vectors"
   ]
  },
  {
   "cell_type": "code",
   "execution_count": 16,
   "metadata": {},
   "outputs": [
    {
     "data": {
      "text/plain": [
       "2×2 Array{Complex{Float64},2}:\n",
       "  0.0+0.0im  1.0+0.0im\n",
       " -1.0+0.0im  0.0+0.0im"
      ]
     },
     "execution_count": 16,
     "metadata": {},
     "output_type": "execute_result"
    }
   ],
   "source": [
    "V * D * V'"
   ]
  },
  {
   "cell_type": "code",
   "execution_count": 17,
   "metadata": {},
   "outputs": [
    {
     "data": {
      "text/plain": [
       "2×2 Array{Float64,2}:\n",
       "  0.0  1.0\n",
       " -1.0  0.0"
      ]
     },
     "execution_count": 17,
     "metadata": {},
     "output_type": "execute_result"
    }
   ],
   "source": [
    "A"
   ]
  },
  {
   "cell_type": "code",
   "execution_count": 18,
   "metadata": {},
   "outputs": [
    {
     "data": {
      "text/plain": [
       "_exp_eigen (generic function with 1 method)"
      ]
     },
     "execution_count": 18,
     "metadata": {},
     "output_type": "execute_result"
    }
   ],
   "source": [
    "# expand e^(At) into a Taylor series\n",
    "# up to order k using the eigendecomposition of A\n",
    "function _exp_eigen(A; order)\n",
    "    t = Taylor1(order)\n",
    "\n",
    "    E = eigen(A)\n",
    "    V = E.vectors\n",
    "    D = Diagonal([exp(v*t) for v in E.values])\n",
    "    W = V * D * V'\n",
    "end"
   ]
  },
  {
   "cell_type": "code",
   "execution_count": 19,
   "metadata": {},
   "outputs": [
    {
     "data": {
      "text/plain": [
       "2×2 Array{Complex{Float64},2}:\n",
       "  0.540278+0.0im  0.841667+0.0im\n",
       " -0.841667+0.0im  0.540278+0.0im"
      ]
     },
     "execution_count": 19,
     "metadata": {},
     "output_type": "execute_result"
    }
   ],
   "source": [
    "Wc5 = _exp_eigen(A, order=6)\n",
    "\n",
    "Wc5 = TaylorSeries.evaluate.(Wc5, 1.0)"
   ]
  },
  {
   "cell_type": "code",
   "execution_count": 20,
   "metadata": {},
   "outputs": [
    {
     "data": {
      "text/plain": [
       "2×2 Array{Float64,2}:\n",
       "  0.540302  0.841471\n",
       " -0.841471  0.540302"
      ]
     },
     "execution_count": 20,
     "metadata": {},
     "output_type": "execute_result"
    }
   ],
   "source": [
    "exp(A)"
   ]
  },
  {
   "cell_type": "code",
   "execution_count": 21,
   "metadata": {},
   "outputs": [
    {
     "data": {
      "text/plain": [
       "2×2 Array{Float64,2}:\n",
       "  0.540278  0.841667\n",
       " -0.841667  0.540278"
      ]
     },
     "execution_count": 21,
     "metadata": {},
     "output_type": "execute_result"
    }
   ],
   "source": [
    "W5 = _exp(A, order=6)\n",
    "\n",
    "W5 = TaylorSeries.evaluate.(W5, 1.0)"
   ]
  },
  {
   "cell_type": "markdown",
   "metadata": {},
   "source": [
    "## Truncation error"
   ]
  },
  {
   "cell_type": "code",
   "execution_count": 45,
   "metadata": {},
   "outputs": [
    {
     "data": {
      "text/plain": [
       "_exp_with_error (generic function with 1 method)"
      ]
     },
     "execution_count": 45,
     "metadata": {},
     "output_type": "execute_result"
    }
   ],
   "source": [
    "# expand e^(At) into a Taylor series\n",
    "# up to order k\n",
    "function _exp_with_error(A, δ; order)\n",
    "    t = Taylor1(order+1)\n",
    "\n",
    "    n = size(A, 1)\n",
    "    Iₙ = Matrix(1.0I, n, n)\n",
    "    At = A*t\n",
    "    W = Iₙ + At\n",
    "    Q = copy(At) # stores A^i t^i / i!\n",
    "\n",
    "    for i in 2:order\n",
    "        Q = Q * At / i\n",
    "        W += Q\n",
    "    end\n",
    "    \n",
    "    # here Q = A^k t^k / k!\n",
    "    Anorm = opnorm(A, Inf)\n",
    "    ρ = exp(Anorm * δ)\n",
    "    Mρ = IntervalArithmetic.Interval(-ρ, ρ)\n",
    "    \n",
    "    # IΦ = Q * At / (k+1) * Mρ # FIXME\n",
    "    IΦ = broadcast(x -> x * Mρ, Q*At/(order+1))\n",
    "\n",
    "    return W, IΦ\n",
    "end"
   ]
  },
  {
   "cell_type": "code",
   "execution_count": 56,
   "metadata": {},
   "outputs": [
    {
     "data": {
      "text/plain": [
       "(Taylor1{Float64}[ 1.0 - 0.5 t² + 0.041666666666666664 t⁴ + 𝒪(t⁶)  1.0 t - 0.16666666666666666 t³ + 𝒪(t⁶);  - 1.0 t + 0.16666666666666666 t³ + 𝒪(t⁶)  1.0 - 0.5 t² + 0.041666666666666664 t⁴ + 𝒪(t⁶)], Taylor1{IntervalArithmetic.Interval{Float64}}[ [0, 0] + 𝒪(t⁶)  [-0.0226524, 0.0226524] t⁵ + 𝒪(t⁶);  [-0.0226524, 0.0226524] t⁵ + 𝒪(t⁶)  [0, 0] + 𝒪(t⁶)])"
      ]
     },
     "execution_count": 56,
     "metadata": {},
     "output_type": "execute_result"
    }
   ],
   "source": [
    "W, IΦ = _exp_with_error(A, 1.0, order=4)"
   ]
  },
  {
   "cell_type": "code",
   "execution_count": 77,
   "metadata": {},
   "outputs": [
    {
     "data": {
      "text/plain": [
       " 1.0 - 0.5 t² + 0.041666666666666664 t⁴ + 𝒪(t⁶)"
      ]
     },
     "execution_count": 77,
     "metadata": {},
     "output_type": "execute_result"
    }
   ],
   "source": [
    "W[1, 1]"
   ]
  },
  {
   "cell_type": "code",
   "execution_count": 57,
   "metadata": {},
   "outputs": [
    {
     "data": {
      "text/plain": [
       "2×2 Array{Float64,2}:\n",
       "  0.541667  0.833333\n",
       " -0.833333  0.541667"
      ]
     },
     "execution_count": 57,
     "metadata": {},
     "output_type": "execute_result"
    }
   ],
   "source": [
    "TaylorSeries.evaluate.(W, 1.0)"
   ]
  },
  {
   "cell_type": "code",
   "execution_count": 58,
   "metadata": {},
   "outputs": [
    {
     "data": {
      "text/plain": [
       "2×2 Array{Float64,2}:\n",
       "  0.995004   0.0998334\n",
       " -0.0998334  0.995004"
      ]
     },
     "execution_count": 58,
     "metadata": {},
     "output_type": "execute_result"
    }
   ],
   "source": [
    "exp(A * 0.1)"
   ]
  },
  {
   "cell_type": "code",
   "execution_count": 60,
   "metadata": {},
   "outputs": [
    {
     "data": {
      "text/plain": [
       " [-0.0226524, 0.0226524] t⁵ + 𝒪(t⁶)"
      ]
     },
     "execution_count": 60,
     "metadata": {},
     "output_type": "execute_result"
    }
   ],
   "source": [
    "IΦ[1, 2]"
   ]
  },
  {
   "cell_type": "markdown",
   "metadata": {},
   "source": [
    "---"
   ]
  },
  {
   "cell_type": "code",
   "execution_count": 61,
   "metadata": {},
   "outputs": [
    {
     "data": {
      "text/plain": [
       "2×2 Array{Float64,2}:\n",
       "  0.0  1.0\n",
       " -1.0  0.0"
      ]
     },
     "execution_count": 61,
     "metadata": {},
     "output_type": "execute_result"
    }
   ],
   "source": [
    "A"
   ]
  },
  {
   "cell_type": "markdown",
   "metadata": {},
   "source": [
    "A box is parameterized by the set\n",
    "\n",
    "$$\n",
    "X_0 = \\{(1 + 0.1 x_1, 1+0.1 x_2) : (x_1, x_2) \\in [-1, 1] \\}\n",
    "$$"
   ]
  },
  {
   "cell_type": "code",
   "execution_count": 78,
   "metadata": {},
   "outputs": [
    {
     "data": {
      "text/plain": [
       " 1.0 - 0.5 t² + 0.041666666666666664 t⁴ + 𝒪(t⁶)"
      ]
     },
     "execution_count": 78,
     "metadata": {},
     "output_type": "execute_result"
    }
   ],
   "source": [
    "W[1, 1]"
   ]
  },
  {
   "cell_type": "code",
   "execution_count": 74,
   "metadata": {},
   "outputs": [],
   "source": [
    "@taylorize function f(dx, x, p, t)\n",
    "    dx[1] = x[2]\n",
    "    dx[2] = -x[1]\n",
    "end\n",
    "\n",
    "X0 = BallInf(ones(2), 0.1)\n",
    "prob = @ivp(x' = f(x), x(0) ∈ X0, dim=2)\n",
    "\n",
    "sol = solve(prob, tspan=(0.0, 7.0), alg=TMJets());"
   ]
  },
  {
   "cell_type": "code",
   "execution_count": 75,
   "metadata": {},
   "outputs": [
    {
     "data": {
      "text/plain": [
       "  1.0 + 0.10000000000000003 x₁ + ( 1.0 + 0.10000000000000003 x₂) t + ( - 0.5 - 0.05000000000000002 x₁) t² + ( - 0.16666666666666666 - 0.01666666666666667 x₂) t³ + ( 0.041666666666666664 + 0.0041666666666666675 x₁) t⁴ + ( 0.008333333333333333 + 0.0008333333333333335 x₂) t⁵ + ( - 0.0013888888888888887 - 0.00013888888888888892 x₁) t⁶ + ( - 0.00019841269841269839 - 1.9841269841269845e-5 x₂) t⁷ + ( 2.4801587301587298e-5 + 2.4801587301587306e-6 x₁) t⁸ + [-3.45506e-15, 2.43364e-14]"
      ]
     },
     "execution_count": 75,
     "metadata": {},
     "output_type": "execute_result"
    }
   ],
   "source": [
    "using ReachabilityAnalysis: set\n",
    "\n",
    "X = set(sol[1])\n",
    "\n",
    "X[1]"
   ]
  },
  {
   "cell_type": "code",
   "execution_count": 76,
   "metadata": {},
   "outputs": [
    {
     "data": {
      "text/plain": [
       "  1.0 + 0.10000000000000003 x₂ + ( - 1.0 - 0.10000000000000003 x₁) t + ( - 0.5 - 0.05000000000000002 x₂) t² + ( 0.16666666666666666 + 0.01666666666666667 x₁) t³ + ( 0.041666666666666664 + 0.0041666666666666675 x₂) t⁴ + ( - 0.008333333333333333 - 0.0008333333333333335 x₁) t⁵ + ( - 0.0013888888888888887 - 0.00013888888888888892 x₂) t⁶ + ( 0.00019841269841269839 + 1.9841269841269845e-5 x₁) t⁷ + ( 2.4801587301587298e-5 + 2.4801587301587306e-6 x₂) t⁸ + [-2.73298e-14, 4.47618e-16]"
      ]
     },
     "execution_count": 76,
     "metadata": {},
     "output_type": "execute_result"
    }
   ],
   "source": [
    "X[2]"
   ]
  },
  {
   "cell_type": "code",
   "execution_count": 65,
   "metadata": {},
   "outputs": [
    {
     "data": {
      "image/svg+xml": [
       "<?xml version=\"1.0\" encoding=\"utf-8\"?>\n",
       "<svg xmlns=\"http://www.w3.org/2000/svg\" xmlns:xlink=\"http://www.w3.org/1999/xlink\" width=\"600\" height=\"400\" viewBox=\"0 0 2400 1600\">\n",
       "<defs>\n",
       "  <clipPath id=\"clip210\">\n",
       "    <rect x=\"0\" y=\"0\" width=\"2400\" height=\"1600\"/>\n",
       "  </clipPath>\n",
       "</defs>\n",
       "<path clip-path=\"url(#clip210)\" d=\"\n",
       "M0 1600 L2400 1600 L2400 0 L0 0  Z\n",
       "  \" fill=\"#ffffff\" fill-rule=\"evenodd\" fill-opacity=\"1\"/>\n",
       "<defs>\n",
       "  <clipPath id=\"clip211\">\n",
       "    <rect x=\"480\" y=\"0\" width=\"1681\" height=\"1600\"/>\n",
       "  </clipPath>\n",
       "</defs>\n",
       "<path clip-path=\"url(#clip210)\" d=\"\n",
       "M162.455 1486.45 L2352.76 1486.45 L2352.76 47.2441 L162.455 47.2441  Z\n",
       "  \" fill=\"#ffffff\" fill-rule=\"evenodd\" fill-opacity=\"1\"/>\n",
       "<defs>\n",
       "  <clipPath id=\"clip212\">\n",
       "    <rect x=\"162\" y=\"47\" width=\"2191\" height=\"1440\"/>\n",
       "  </clipPath>\n",
       "</defs>\n",
       "<polyline clip-path=\"url(#clip212)\" style=\"stroke:#000000; stroke-width:2; stroke-opacity:0.1; fill:none\" points=\"\n",
       "  272.69,1486.45 272.69,47.2441 \n",
       "  \"/>\n",
       "<polyline clip-path=\"url(#clip212)\" style=\"stroke:#000000; stroke-width:2; stroke-opacity:0.1; fill:none\" points=\"\n",
       "  601.185,1486.45 601.185,47.2441 \n",
       "  \"/>\n",
       "<polyline clip-path=\"url(#clip212)\" style=\"stroke:#000000; stroke-width:2; stroke-opacity:0.1; fill:none\" points=\"\n",
       "  929.681,1486.45 929.681,47.2441 \n",
       "  \"/>\n",
       "<polyline clip-path=\"url(#clip212)\" style=\"stroke:#000000; stroke-width:2; stroke-opacity:0.1; fill:none\" points=\"\n",
       "  1258.18,1486.45 1258.18,47.2441 \n",
       "  \"/>\n",
       "<polyline clip-path=\"url(#clip212)\" style=\"stroke:#000000; stroke-width:2; stroke-opacity:0.1; fill:none\" points=\"\n",
       "  1586.67,1486.45 1586.67,47.2441 \n",
       "  \"/>\n",
       "<polyline clip-path=\"url(#clip212)\" style=\"stroke:#000000; stroke-width:2; stroke-opacity:0.1; fill:none\" points=\"\n",
       "  1915.17,1486.45 1915.17,47.2441 \n",
       "  \"/>\n",
       "<polyline clip-path=\"url(#clip212)\" style=\"stroke:#000000; stroke-width:2; stroke-opacity:0.1; fill:none\" points=\"\n",
       "  2243.66,1486.45 2243.66,47.2441 \n",
       "  \"/>\n",
       "<polyline clip-path=\"url(#clip212)\" style=\"stroke:#000000; stroke-width:2; stroke-opacity:0.1; fill:none\" points=\"\n",
       "  162.455,1414.35 2352.76,1414.35 \n",
       "  \"/>\n",
       "<polyline clip-path=\"url(#clip212)\" style=\"stroke:#000000; stroke-width:2; stroke-opacity:0.1; fill:none\" points=\"\n",
       "  162.455,1198.6 2352.76,1198.6 \n",
       "  \"/>\n",
       "<polyline clip-path=\"url(#clip212)\" style=\"stroke:#000000; stroke-width:2; stroke-opacity:0.1; fill:none\" points=\"\n",
       "  162.455,982.859 2352.76,982.859 \n",
       "  \"/>\n",
       "<polyline clip-path=\"url(#clip212)\" style=\"stroke:#000000; stroke-width:2; stroke-opacity:0.1; fill:none\" points=\"\n",
       "  162.455,767.114 2352.76,767.114 \n",
       "  \"/>\n",
       "<polyline clip-path=\"url(#clip212)\" style=\"stroke:#000000; stroke-width:2; stroke-opacity:0.1; fill:none\" points=\"\n",
       "  162.455,551.368 2352.76,551.368 \n",
       "  \"/>\n",
       "<polyline clip-path=\"url(#clip212)\" style=\"stroke:#000000; stroke-width:2; stroke-opacity:0.1; fill:none\" points=\"\n",
       "  162.455,335.623 2352.76,335.623 \n",
       "  \"/>\n",
       "<polyline clip-path=\"url(#clip212)\" style=\"stroke:#000000; stroke-width:2; stroke-opacity:0.1; fill:none\" points=\"\n",
       "  162.455,119.878 2352.76,119.878 \n",
       "  \"/>\n",
       "<polyline clip-path=\"url(#clip210)\" style=\"stroke:#000000; stroke-width:4; stroke-opacity:1; fill:none\" points=\"\n",
       "  162.455,1486.45 2352.76,1486.45 \n",
       "  \"/>\n",
       "<polyline clip-path=\"url(#clip210)\" style=\"stroke:#000000; stroke-width:4; stroke-opacity:1; fill:none\" points=\"\n",
       "  162.455,1486.45 162.455,47.2441 \n",
       "  \"/>\n",
       "<polyline clip-path=\"url(#clip210)\" style=\"stroke:#000000; stroke-width:4; stroke-opacity:1; fill:none\" points=\"\n",
       "  272.69,1486.45 272.69,1469.18 \n",
       "  \"/>\n",
       "<polyline clip-path=\"url(#clip210)\" style=\"stroke:#000000; stroke-width:4; stroke-opacity:1; fill:none\" points=\"\n",
       "  601.185,1486.45 601.185,1469.18 \n",
       "  \"/>\n",
       "<polyline clip-path=\"url(#clip210)\" style=\"stroke:#000000; stroke-width:4; stroke-opacity:1; fill:none\" points=\"\n",
       "  929.681,1486.45 929.681,1469.18 \n",
       "  \"/>\n",
       "<polyline clip-path=\"url(#clip210)\" style=\"stroke:#000000; stroke-width:4; stroke-opacity:1; fill:none\" points=\"\n",
       "  1258.18,1486.45 1258.18,1469.18 \n",
       "  \"/>\n",
       "<polyline clip-path=\"url(#clip210)\" style=\"stroke:#000000; stroke-width:4; stroke-opacity:1; fill:none\" points=\"\n",
       "  1586.67,1486.45 1586.67,1469.18 \n",
       "  \"/>\n",
       "<polyline clip-path=\"url(#clip210)\" style=\"stroke:#000000; stroke-width:4; stroke-opacity:1; fill:none\" points=\"\n",
       "  1915.17,1486.45 1915.17,1469.18 \n",
       "  \"/>\n",
       "<polyline clip-path=\"url(#clip210)\" style=\"stroke:#000000; stroke-width:4; stroke-opacity:1; fill:none\" points=\"\n",
       "  2243.66,1486.45 2243.66,1469.18 \n",
       "  \"/>\n",
       "<polyline clip-path=\"url(#clip210)\" style=\"stroke:#000000; stroke-width:4; stroke-opacity:1; fill:none\" points=\"\n",
       "  162.455,1414.35 188.738,1414.35 \n",
       "  \"/>\n",
       "<polyline clip-path=\"url(#clip210)\" style=\"stroke:#000000; stroke-width:4; stroke-opacity:1; fill:none\" points=\"\n",
       "  162.455,1198.6 188.738,1198.6 \n",
       "  \"/>\n",
       "<polyline clip-path=\"url(#clip210)\" style=\"stroke:#000000; stroke-width:4; stroke-opacity:1; fill:none\" points=\"\n",
       "  162.455,982.859 188.738,982.859 \n",
       "  \"/>\n",
       "<polyline clip-path=\"url(#clip210)\" style=\"stroke:#000000; stroke-width:4; stroke-opacity:1; fill:none\" points=\"\n",
       "  162.455,767.114 188.738,767.114 \n",
       "  \"/>\n",
       "<polyline clip-path=\"url(#clip210)\" style=\"stroke:#000000; stroke-width:4; stroke-opacity:1; fill:none\" points=\"\n",
       "  162.455,551.368 188.738,551.368 \n",
       "  \"/>\n",
       "<polyline clip-path=\"url(#clip210)\" style=\"stroke:#000000; stroke-width:4; stroke-opacity:1; fill:none\" points=\"\n",
       "  162.455,335.623 188.738,335.623 \n",
       "  \"/>\n",
       "<polyline clip-path=\"url(#clip210)\" style=\"stroke:#000000; stroke-width:4; stroke-opacity:1; fill:none\" points=\"\n",
       "  162.455,119.878 188.738,119.878 \n",
       "  \"/>\n",
       "<path clip-path=\"url(#clip210)\" d=\"M 0 0 M235.572 1525.04 L248.049 1525.04 L248.049 1528.83 L235.572 1528.83 L235.572 1525.04 Z\" fill=\"#000000\" fill-rule=\"evenodd\" fill-opacity=\"1\" /><path clip-path=\"url(#clip210)\" d=\"M 0 0 M253.929 1535.98 L261.567 1535.98 L261.567 1509.62 L253.257 1511.29 L253.257 1507.03 L261.521 1505.36 L266.197 1505.36 L266.197 1535.98 L273.836 1535.98 L273.836 1539.92 L253.929 1539.92 L253.929 1535.98 Z\" fill=\"#000000\" fill-rule=\"evenodd\" fill-opacity=\"1\" /><path clip-path=\"url(#clip210)\" d=\"M 0 0 M278.905 1534.04 L283.79 1534.04 L283.79 1539.92 L278.905 1539.92 L278.905 1534.04 Z\" fill=\"#000000\" fill-rule=\"evenodd\" fill-opacity=\"1\" /><path clip-path=\"url(#clip210)\" d=\"M 0 0 M288.905 1505.36 L307.262 1505.36 L307.262 1509.3 L293.188 1509.3 L293.188 1517.77 Q294.206 1517.42 295.225 1517.26 Q296.243 1517.07 297.262 1517.07 Q303.049 1517.07 306.428 1520.24 Q309.808 1523.42 309.808 1528.83 Q309.808 1534.41 306.336 1537.51 Q302.864 1540.59 296.544 1540.59 Q294.368 1540.59 292.1 1540.22 Q289.854 1539.85 287.447 1539.11 L287.447 1534.41 Q289.53 1535.54 291.753 1536.1 Q293.975 1536.66 296.452 1536.66 Q300.456 1536.66 302.794 1534.55 Q305.132 1532.44 305.132 1528.83 Q305.132 1525.22 302.794 1523.11 Q300.456 1521.01 296.452 1521.01 Q294.577 1521.01 292.702 1521.42 Q290.85 1521.84 288.905 1522.72 L288.905 1505.36 Z\" fill=\"#000000\" fill-rule=\"evenodd\" fill-opacity=\"1\" /><path clip-path=\"url(#clip210)\" d=\"M 0 0 M563.57 1525.04 L576.047 1525.04 L576.047 1528.83 L563.57 1528.83 L563.57 1525.04 Z\" fill=\"#000000\" fill-rule=\"evenodd\" fill-opacity=\"1\" /><path clip-path=\"url(#clip210)\" d=\"M 0 0 M581.926 1535.98 L589.565 1535.98 L589.565 1509.62 L581.255 1511.29 L581.255 1507.03 L589.519 1505.36 L594.195 1505.36 L594.195 1535.98 L601.833 1535.98 L601.833 1539.92 L581.926 1539.92 L581.926 1535.98 Z\" fill=\"#000000\" fill-rule=\"evenodd\" fill-opacity=\"1\" /><path clip-path=\"url(#clip210)\" d=\"M 0 0 M606.903 1534.04 L611.787 1534.04 L611.787 1539.92 L606.903 1539.92 L606.903 1534.04 Z\" fill=\"#000000\" fill-rule=\"evenodd\" fill-opacity=\"1\" /><path clip-path=\"url(#clip210)\" d=\"M 0 0 M626.856 1508.44 Q623.245 1508.44 621.417 1512 Q619.611 1515.55 619.611 1522.67 Q619.611 1529.78 621.417 1533.35 Q623.245 1536.89 626.856 1536.89 Q630.491 1536.89 632.296 1533.35 Q634.125 1529.78 634.125 1522.67 Q634.125 1515.55 632.296 1512 Q630.491 1508.44 626.856 1508.44 M626.856 1504.73 Q632.667 1504.73 635.722 1509.34 Q638.801 1513.92 638.801 1522.67 Q638.801 1531.4 635.722 1536.01 Q632.667 1540.59 626.856 1540.59 Q621.046 1540.59 617.968 1536.01 Q614.912 1531.4 614.912 1522.67 Q614.912 1513.92 617.968 1509.34 Q621.046 1504.73 626.856 1504.73 Z\" fill=\"#000000\" fill-rule=\"evenodd\" fill-opacity=\"1\" /><path clip-path=\"url(#clip210)\" d=\"M 0 0 M891.949 1525.04 L904.426 1525.04 L904.426 1528.83 L891.949 1528.83 L891.949 1525.04 Z\" fill=\"#000000\" fill-rule=\"evenodd\" fill-opacity=\"1\" /><path clip-path=\"url(#clip210)\" d=\"M 0 0 M919.495 1508.44 Q915.884 1508.44 914.056 1512 Q912.25 1515.55 912.25 1522.67 Q912.25 1529.78 914.056 1533.35 Q915.884 1536.89 919.495 1536.89 Q923.13 1536.89 924.935 1533.35 Q926.764 1529.78 926.764 1522.67 Q926.764 1515.55 924.935 1512 Q923.13 1508.44 919.495 1508.44 M919.495 1504.73 Q925.306 1504.73 928.361 1509.34 Q931.44 1513.92 931.44 1522.67 Q931.44 1531.4 928.361 1536.01 Q925.306 1540.59 919.495 1540.59 Q913.685 1540.59 910.607 1536.01 Q907.551 1531.4 907.551 1522.67 Q907.551 1513.92 910.607 1509.34 Q913.685 1504.73 919.495 1504.73 Z\" fill=\"#000000\" fill-rule=\"evenodd\" fill-opacity=\"1\" /><path clip-path=\"url(#clip210)\" d=\"M 0 0 M936.509 1534.04 L941.393 1534.04 L941.393 1539.92 L936.509 1539.92 L936.509 1534.04 Z\" fill=\"#000000\" fill-rule=\"evenodd\" fill-opacity=\"1\" /><path clip-path=\"url(#clip210)\" d=\"M 0 0 M946.509 1505.36 L964.866 1505.36 L964.866 1509.3 L950.792 1509.3 L950.792 1517.77 Q951.81 1517.42 952.829 1517.26 Q953.847 1517.07 954.866 1517.07 Q960.653 1517.07 964.032 1520.24 Q967.412 1523.42 967.412 1528.83 Q967.412 1534.41 963.94 1537.51 Q960.467 1540.59 954.148 1540.59 Q951.972 1540.59 949.704 1540.22 Q947.458 1539.85 945.051 1539.11 L945.051 1534.41 Q947.134 1535.54 949.356 1536.1 Q951.579 1536.66 954.055 1536.66 Q958.06 1536.66 960.398 1534.55 Q962.736 1532.44 962.736 1528.83 Q962.736 1525.22 960.398 1523.11 Q958.06 1521.01 954.055 1521.01 Q952.18 1521.01 950.305 1521.42 Q948.454 1521.84 946.509 1522.72 L946.509 1505.36 Z\" fill=\"#000000\" fill-rule=\"evenodd\" fill-opacity=\"1\" /><path clip-path=\"url(#clip210)\" d=\"M 0 0 M1239.69 1508.44 Q1236.08 1508.44 1234.25 1512 Q1232.45 1515.55 1232.45 1522.67 Q1232.45 1529.78 1234.25 1533.35 Q1236.08 1536.89 1239.69 1536.89 Q1243.33 1536.89 1245.13 1533.35 Q1246.96 1529.78 1246.96 1522.67 Q1246.96 1515.55 1245.13 1512 Q1243.33 1508.44 1239.69 1508.44 M1239.69 1504.73 Q1245.5 1504.73 1248.56 1509.34 Q1251.64 1513.92 1251.64 1522.67 Q1251.64 1531.4 1248.56 1536.01 Q1245.5 1540.59 1239.69 1540.59 Q1233.88 1540.59 1230.8 1536.01 Q1227.75 1531.4 1227.75 1522.67 Q1227.75 1513.92 1230.8 1509.34 Q1233.88 1504.73 1239.69 1504.73 Z\" fill=\"#000000\" fill-rule=\"evenodd\" fill-opacity=\"1\" /><path clip-path=\"url(#clip210)\" d=\"M 0 0 M1256.71 1534.04 L1261.59 1534.04 L1261.59 1539.92 L1256.71 1539.92 L1256.71 1534.04 Z\" fill=\"#000000\" fill-rule=\"evenodd\" fill-opacity=\"1\" /><path clip-path=\"url(#clip210)\" d=\"M 0 0 M1276.66 1508.44 Q1273.05 1508.44 1271.22 1512 Q1269.41 1515.55 1269.41 1522.67 Q1269.41 1529.78 1271.22 1533.35 Q1273.05 1536.89 1276.66 1536.89 Q1280.29 1536.89 1282.1 1533.35 Q1283.93 1529.78 1283.93 1522.67 Q1283.93 1515.55 1282.1 1512 Q1280.29 1508.44 1276.66 1508.44 M1276.66 1504.73 Q1282.47 1504.73 1285.53 1509.34 Q1288.6 1513.92 1288.6 1522.67 Q1288.6 1531.4 1285.53 1536.01 Q1282.47 1540.59 1276.66 1540.59 Q1270.85 1540.59 1267.77 1536.01 Q1264.72 1531.4 1264.72 1522.67 Q1264.72 1513.92 1267.77 1509.34 Q1270.85 1504.73 1276.66 1504.73 Z\" fill=\"#000000\" fill-rule=\"evenodd\" fill-opacity=\"1\" /><path clip-path=\"url(#clip210)\" d=\"M 0 0 M1568.68 1508.44 Q1565.07 1508.44 1563.25 1512 Q1561.44 1515.55 1561.44 1522.67 Q1561.44 1529.78 1563.25 1533.35 Q1565.07 1536.89 1568.68 1536.89 Q1572.32 1536.89 1574.12 1533.35 Q1575.95 1529.78 1575.95 1522.67 Q1575.95 1515.55 1574.12 1512 Q1572.32 1508.44 1568.68 1508.44 M1568.68 1504.73 Q1574.5 1504.73 1577.55 1509.34 Q1580.63 1513.92 1580.63 1522.67 Q1580.63 1531.4 1577.55 1536.01 Q1574.5 1540.59 1568.68 1540.59 Q1562.87 1540.59 1559.8 1536.01 Q1556.74 1531.4 1556.74 1522.67 Q1556.74 1513.92 1559.8 1509.34 Q1562.87 1504.73 1568.68 1504.73 Z\" fill=\"#000000\" fill-rule=\"evenodd\" fill-opacity=\"1\" /><path clip-path=\"url(#clip210)\" d=\"M 0 0 M1585.7 1534.04 L1590.58 1534.04 L1590.58 1539.92 L1585.7 1539.92 L1585.7 1534.04 Z\" fill=\"#000000\" fill-rule=\"evenodd\" fill-opacity=\"1\" /><path clip-path=\"url(#clip210)\" d=\"M 0 0 M1595.7 1505.36 L1614.06 1505.36 L1614.06 1509.3 L1599.98 1509.3 L1599.98 1517.77 Q1601 1517.42 1602.02 1517.26 Q1603.04 1517.07 1604.06 1517.07 Q1609.84 1517.07 1613.22 1520.24 Q1616.6 1523.42 1616.6 1528.83 Q1616.6 1534.41 1613.13 1537.51 Q1609.66 1540.59 1603.34 1540.59 Q1601.16 1540.59 1598.89 1540.22 Q1596.65 1539.85 1594.24 1539.11 L1594.24 1534.41 Q1596.32 1535.54 1598.55 1536.1 Q1600.77 1536.66 1603.24 1536.66 Q1607.25 1536.66 1609.59 1534.55 Q1611.93 1532.44 1611.93 1528.83 Q1611.93 1525.22 1609.59 1523.11 Q1607.25 1521.01 1603.24 1521.01 Q1601.37 1521.01 1599.49 1521.42 Q1597.64 1521.84 1595.7 1522.72 L1595.7 1505.36 Z\" fill=\"#000000\" fill-rule=\"evenodd\" fill-opacity=\"1\" /><path clip-path=\"url(#clip210)\" d=\"M 0 0 M1887.06 1535.98 L1894.7 1535.98 L1894.7 1509.62 L1886.39 1511.29 L1886.39 1507.03 L1894.66 1505.36 L1899.33 1505.36 L1899.33 1535.98 L1906.97 1535.98 L1906.97 1539.92 L1887.06 1539.92 L1887.06 1535.98 Z\" fill=\"#000000\" fill-rule=\"evenodd\" fill-opacity=\"1\" /><path clip-path=\"url(#clip210)\" d=\"M 0 0 M1912.04 1534.04 L1916.93 1534.04 L1916.93 1539.92 L1912.04 1539.92 L1912.04 1534.04 Z\" fill=\"#000000\" fill-rule=\"evenodd\" fill-opacity=\"1\" /><path clip-path=\"url(#clip210)\" d=\"M 0 0 M1931.99 1508.44 Q1928.38 1508.44 1926.56 1512 Q1924.75 1515.55 1924.75 1522.67 Q1924.75 1529.78 1926.56 1533.35 Q1928.38 1536.89 1931.99 1536.89 Q1935.63 1536.89 1937.43 1533.35 Q1939.26 1529.78 1939.26 1522.67 Q1939.26 1515.55 1937.43 1512 Q1935.63 1508.44 1931.99 1508.44 M1931.99 1504.73 Q1937.8 1504.73 1940.86 1509.34 Q1943.94 1513.92 1943.94 1522.67 Q1943.94 1531.4 1940.86 1536.01 Q1937.8 1540.59 1931.99 1540.59 Q1926.18 1540.59 1923.11 1536.01 Q1920.05 1531.4 1920.05 1522.67 Q1920.05 1513.92 1923.11 1509.34 Q1926.18 1504.73 1931.99 1504.73 Z\" fill=\"#000000\" fill-rule=\"evenodd\" fill-opacity=\"1\" /><path clip-path=\"url(#clip210)\" d=\"M 0 0 M2216.06 1535.98 L2223.7 1535.98 L2223.7 1509.62 L2215.39 1511.29 L2215.39 1507.03 L2223.65 1505.36 L2228.33 1505.36 L2228.33 1535.98 L2235.96 1535.98 L2235.96 1539.92 L2216.06 1539.92 L2216.06 1535.98 Z\" fill=\"#000000\" fill-rule=\"evenodd\" fill-opacity=\"1\" /><path clip-path=\"url(#clip210)\" d=\"M 0 0 M2241.03 1534.04 L2245.92 1534.04 L2245.92 1539.92 L2241.03 1539.92 L2241.03 1534.04 Z\" fill=\"#000000\" fill-rule=\"evenodd\" fill-opacity=\"1\" /><path clip-path=\"url(#clip210)\" d=\"M 0 0 M2251.03 1505.36 L2269.39 1505.36 L2269.39 1509.3 L2255.32 1509.3 L2255.32 1517.77 Q2256.33 1517.42 2257.35 1517.26 Q2258.37 1517.07 2259.39 1517.07 Q2265.18 1517.07 2268.56 1520.24 Q2271.94 1523.42 2271.94 1528.83 Q2271.94 1534.41 2268.46 1537.51 Q2264.99 1540.59 2258.67 1540.59 Q2256.5 1540.59 2254.23 1540.22 Q2251.98 1539.85 2249.58 1539.11 L2249.58 1534.41 Q2251.66 1535.54 2253.88 1536.1 Q2256.1 1536.66 2258.58 1536.66 Q2262.58 1536.66 2264.92 1534.55 Q2267.26 1532.44 2267.26 1528.83 Q2267.26 1525.22 2264.92 1523.11 Q2262.58 1521.01 2258.58 1521.01 Q2256.71 1521.01 2254.83 1521.42 Q2252.98 1521.84 2251.03 1522.72 L2251.03 1505.36 Z\" fill=\"#000000\" fill-rule=\"evenodd\" fill-opacity=\"1\" /><path clip-path=\"url(#clip210)\" d=\"M 0 0 M64.219 1416.75 L76.6958 1416.75 L76.6958 1420.54 L64.219 1420.54 L64.219 1416.75 Z\" fill=\"#000000\" fill-rule=\"evenodd\" fill-opacity=\"1\" /><path clip-path=\"url(#clip210)\" d=\"M 0 0 M82.5754 1427.69 L90.2142 1427.69 L90.2142 1401.33 L81.9041 1403 L81.9041 1398.74 L90.1679 1397.07 L94.8438 1397.07 L94.8438 1427.69 L102.483 1427.69 L102.483 1431.63 L82.5754 1431.63 L82.5754 1427.69 Z\" fill=\"#000000\" fill-rule=\"evenodd\" fill-opacity=\"1\" /><path clip-path=\"url(#clip210)\" d=\"M 0 0 M107.552 1425.75 L112.436 1425.75 L112.436 1431.63 L107.552 1431.63 L107.552 1425.75 Z\" fill=\"#000000\" fill-rule=\"evenodd\" fill-opacity=\"1\" /><path clip-path=\"url(#clip210)\" d=\"M 0 0 M117.552 1397.07 L135.908 1397.07 L135.908 1401 L121.834 1401 L121.834 1409.48 Q122.853 1409.13 123.871 1408.97 Q124.89 1408.78 125.908 1408.78 Q131.695 1408.78 135.075 1411.95 Q138.455 1415.12 138.455 1420.54 Q138.455 1426.12 134.982 1429.22 Q131.51 1432.3 125.191 1432.3 Q123.015 1432.3 120.746 1431.93 Q118.501 1431.56 116.094 1430.82 L116.094 1426.12 Q118.177 1427.25 120.399 1427.81 Q122.621 1428.37 125.098 1428.37 Q129.103 1428.37 131.441 1426.26 Q133.779 1424.15 133.779 1420.54 Q133.779 1416.93 131.441 1414.82 Q129.103 1412.72 125.098 1412.72 Q123.223 1412.72 121.348 1413.13 Q119.496 1413.55 117.552 1414.43 L117.552 1397.07 Z\" fill=\"#000000\" fill-rule=\"evenodd\" fill-opacity=\"1\" /><path clip-path=\"url(#clip210)\" d=\"M 0 0 M63.2236 1201 L75.7004 1201 L75.7004 1204.8 L63.2236 1204.8 L63.2236 1201 Z\" fill=\"#000000\" fill-rule=\"evenodd\" fill-opacity=\"1\" /><path clip-path=\"url(#clip210)\" d=\"M 0 0 M81.58 1211.95 L89.2188 1211.95 L89.2188 1185.58 L80.9087 1187.25 L80.9087 1182.99 L89.1725 1181.32 L93.8484 1181.32 L93.8484 1211.95 L101.487 1211.95 L101.487 1215.88 L81.58 1215.88 L81.58 1211.95 Z\" fill=\"#000000\" fill-rule=\"evenodd\" fill-opacity=\"1\" /><path clip-path=\"url(#clip210)\" d=\"M 0 0 M106.557 1210 L111.441 1210 L111.441 1215.88 L106.557 1215.88 L106.557 1210 Z\" fill=\"#000000\" fill-rule=\"evenodd\" fill-opacity=\"1\" /><path clip-path=\"url(#clip210)\" d=\"M 0 0 M126.51 1184.4 Q122.899 1184.4 121.071 1187.97 Q119.265 1191.51 119.265 1198.64 Q119.265 1205.75 121.071 1209.31 Q122.899 1212.85 126.51 1212.85 Q130.145 1212.85 131.95 1209.31 Q133.779 1205.75 133.779 1198.64 Q133.779 1191.51 131.95 1187.97 Q130.145 1184.4 126.51 1184.4 M126.51 1180.7 Q132.32 1180.7 135.376 1185.31 Q138.455 1189.89 138.455 1198.64 Q138.455 1207.37 135.376 1211.97 Q132.32 1216.56 126.51 1216.56 Q120.7 1216.56 117.621 1211.97 Q114.566 1207.37 114.566 1198.64 Q114.566 1189.89 117.621 1185.31 Q120.7 1180.7 126.51 1180.7 Z\" fill=\"#000000\" fill-rule=\"evenodd\" fill-opacity=\"1\" /><path clip-path=\"url(#clip210)\" d=\"M 0 0 M62.9921 985.255 L75.4689 985.255 L75.4689 989.051 L62.9921 989.051 L62.9921 985.255 Z\" fill=\"#000000\" fill-rule=\"evenodd\" fill-opacity=\"1\" /><path clip-path=\"url(#clip210)\" d=\"M 0 0 M90.5383 968.658 Q86.9272 968.658 85.0985 972.222 Q83.2929 975.764 83.2929 982.894 Q83.2929 990 85.0985 993.565 Q86.9272 997.106 90.5383 997.106 Q94.1725 997.106 95.9781 993.565 Q97.8068 990 97.8068 982.894 Q97.8068 975.764 95.9781 972.222 Q94.1725 968.658 90.5383 968.658 M90.5383 964.954 Q96.3484 964.954 99.404 969.56 Q102.483 974.144 102.483 982.894 Q102.483 991.62 99.404 996.227 Q96.3484 1000.81 90.5383 1000.81 Q84.7281 1000.81 81.6494 996.227 Q78.5939 991.62 78.5939 982.894 Q78.5939 974.144 81.6494 969.56 Q84.7281 964.954 90.5383 964.954 Z\" fill=\"#000000\" fill-rule=\"evenodd\" fill-opacity=\"1\" /><path clip-path=\"url(#clip210)\" d=\"M 0 0 M107.552 994.259 L112.436 994.259 L112.436 1000.14 L107.552 1000.14 L107.552 994.259 Z\" fill=\"#000000\" fill-rule=\"evenodd\" fill-opacity=\"1\" /><path clip-path=\"url(#clip210)\" d=\"M 0 0 M117.552 965.579 L135.908 965.579 L135.908 969.514 L121.834 969.514 L121.834 977.986 Q122.853 977.639 123.871 977.477 Q124.89 977.292 125.908 977.292 Q131.695 977.292 135.075 980.463 Q138.455 983.634 138.455 989.051 Q138.455 994.63 134.982 997.731 Q131.51 1000.81 125.191 1000.81 Q123.015 1000.81 120.746 1000.44 Q118.501 1000.07 116.094 999.329 L116.094 994.63 Q118.177 995.764 120.399 996.319 Q122.621 996.875 125.098 996.875 Q129.103 996.875 131.441 994.769 Q133.779 992.662 133.779 989.051 Q133.779 985.44 131.441 983.333 Q129.103 981.227 125.098 981.227 Q123.223 981.227 121.348 981.644 Q119.496 982.06 117.552 982.94 L117.552 965.579 Z\" fill=\"#000000\" fill-rule=\"evenodd\" fill-opacity=\"1\" /><path clip-path=\"url(#clip210)\" d=\"M 0 0 M89.5429 752.912 Q85.9318 752.912 84.1031 756.477 Q82.2976 760.019 82.2976 767.148 Q82.2976 774.255 84.1031 777.82 Q85.9318 781.361 89.5429 781.361 Q93.1771 781.361 94.9827 777.82 Q96.8114 774.255 96.8114 767.148 Q96.8114 760.019 94.9827 756.477 Q93.1771 752.912 89.5429 752.912 M89.5429 749.209 Q95.3531 749.209 98.4086 753.815 Q101.487 758.398 101.487 767.148 Q101.487 775.875 98.4086 780.482 Q95.3531 785.065 89.5429 785.065 Q83.7328 785.065 80.6541 780.482 Q77.5985 775.875 77.5985 767.148 Q77.5985 758.398 80.6541 753.815 Q83.7328 749.209 89.5429 749.209 Z\" fill=\"#000000\" fill-rule=\"evenodd\" fill-opacity=\"1\" /><path clip-path=\"url(#clip210)\" d=\"M 0 0 M106.557 778.514 L111.441 778.514 L111.441 784.394 L106.557 784.394 L106.557 778.514 Z\" fill=\"#000000\" fill-rule=\"evenodd\" fill-opacity=\"1\" /><path clip-path=\"url(#clip210)\" d=\"M 0 0 M126.51 752.912 Q122.899 752.912 121.071 756.477 Q119.265 760.019 119.265 767.148 Q119.265 774.255 121.071 777.82 Q122.899 781.361 126.51 781.361 Q130.145 781.361 131.95 777.82 Q133.779 774.255 133.779 767.148 Q133.779 760.019 131.95 756.477 Q130.145 752.912 126.51 752.912 M126.51 749.209 Q132.32 749.209 135.376 753.815 Q138.455 758.398 138.455 767.148 Q138.455 775.875 135.376 780.482 Q132.32 785.065 126.51 785.065 Q120.7 785.065 117.621 780.482 Q114.566 775.875 114.566 767.148 Q114.566 758.398 117.621 753.815 Q120.7 749.209 126.51 749.209 Z\" fill=\"#000000\" fill-rule=\"evenodd\" fill-opacity=\"1\" /><path clip-path=\"url(#clip210)\" d=\"M 0 0 M90.5383 537.167 Q86.9272 537.167 85.0985 540.732 Q83.2929 544.273 83.2929 551.403 Q83.2929 558.51 85.0985 562.074 Q86.9272 565.616 90.5383 565.616 Q94.1725 565.616 95.9781 562.074 Q97.8068 558.51 97.8068 551.403 Q97.8068 544.273 95.9781 540.732 Q94.1725 537.167 90.5383 537.167 M90.5383 533.463 Q96.3484 533.463 99.404 538.07 Q102.483 542.653 102.483 551.403 Q102.483 560.13 99.404 564.736 Q96.3484 569.32 90.5383 569.32 Q84.7281 569.32 81.6494 564.736 Q78.5939 560.13 78.5939 551.403 Q78.5939 542.653 81.6494 538.07 Q84.7281 533.463 90.5383 533.463 Z\" fill=\"#000000\" fill-rule=\"evenodd\" fill-opacity=\"1\" /><path clip-path=\"url(#clip210)\" d=\"M 0 0 M107.552 562.769 L112.436 562.769 L112.436 568.648 L107.552 568.648 L107.552 562.769 Z\" fill=\"#000000\" fill-rule=\"evenodd\" fill-opacity=\"1\" /><path clip-path=\"url(#clip210)\" d=\"M 0 0 M117.552 534.088 L135.908 534.088 L135.908 538.024 L121.834 538.024 L121.834 546.496 Q122.853 546.148 123.871 545.986 Q124.89 545.801 125.908 545.801 Q131.695 545.801 135.075 548.973 Q138.455 552.144 138.455 557.56 Q138.455 563.139 134.982 566.241 Q131.51 569.32 125.191 569.32 Q123.015 569.32 120.746 568.949 Q118.501 568.579 116.094 567.838 L116.094 563.139 Q118.177 564.273 120.399 564.829 Q122.621 565.384 125.098 565.384 Q129.103 565.384 131.441 563.278 Q133.779 561.172 133.779 557.56 Q133.779 553.949 131.441 551.843 Q129.103 549.736 125.098 549.736 Q123.223 549.736 121.348 550.153 Q119.496 550.57 117.552 551.449 L117.552 534.088 Z\" fill=\"#000000\" fill-rule=\"evenodd\" fill-opacity=\"1\" /><path clip-path=\"url(#clip210)\" d=\"M 0 0 M81.58 348.968 L89.2188 348.968 L89.2188 322.602 L80.9087 324.269 L80.9087 320.01 L89.1725 318.343 L93.8484 318.343 L93.8484 348.968 L101.487 348.968 L101.487 352.903 L81.58 352.903 L81.58 348.968 Z\" fill=\"#000000\" fill-rule=\"evenodd\" fill-opacity=\"1\" /><path clip-path=\"url(#clip210)\" d=\"M 0 0 M106.557 347.023 L111.441 347.023 L111.441 352.903 L106.557 352.903 L106.557 347.023 Z\" fill=\"#000000\" fill-rule=\"evenodd\" fill-opacity=\"1\" /><path clip-path=\"url(#clip210)\" d=\"M 0 0 M126.51 321.422 Q122.899 321.422 121.071 324.987 Q119.265 328.528 119.265 335.658 Q119.265 342.764 121.071 346.329 Q122.899 349.871 126.51 349.871 Q130.145 349.871 131.95 346.329 Q133.779 342.764 133.779 335.658 Q133.779 328.528 131.95 324.987 Q130.145 321.422 126.51 321.422 M126.51 317.718 Q132.32 317.718 135.376 322.325 Q138.455 326.908 138.455 335.658 Q138.455 344.385 135.376 348.991 Q132.32 353.574 126.51 353.574 Q120.7 353.574 117.621 348.991 Q114.566 344.385 114.566 335.658 Q114.566 326.908 117.621 322.325 Q120.7 317.718 126.51 317.718 Z\" fill=\"#000000\" fill-rule=\"evenodd\" fill-opacity=\"1\" /><path clip-path=\"url(#clip210)\" d=\"M 0 0 M82.5754 133.223 L90.2142 133.223 L90.2142 106.857 L81.9041 108.524 L81.9041 104.264 L90.1679 102.598 L94.8438 102.598 L94.8438 133.223 L102.483 133.223 L102.483 137.158 L82.5754 137.158 L82.5754 133.223 Z\" fill=\"#000000\" fill-rule=\"evenodd\" fill-opacity=\"1\" /><path clip-path=\"url(#clip210)\" d=\"M 0 0 M107.552 131.278 L112.436 131.278 L112.436 137.158 L107.552 137.158 L107.552 131.278 Z\" fill=\"#000000\" fill-rule=\"evenodd\" fill-opacity=\"1\" /><path clip-path=\"url(#clip210)\" d=\"M 0 0 M117.552 102.598 L135.908 102.598 L135.908 106.533 L121.834 106.533 L121.834 115.005 Q122.853 114.658 123.871 114.496 Q124.89 114.311 125.908 114.311 Q131.695 114.311 135.075 117.482 Q138.455 120.653 138.455 126.07 Q138.455 131.649 134.982 134.75 Q131.51 137.829 125.191 137.829 Q123.015 137.829 120.746 137.459 Q118.501 137.088 116.094 136.348 L116.094 131.649 Q118.177 132.783 120.399 133.338 Q122.621 133.894 125.098 133.894 Q129.103 133.894 131.441 131.787 Q133.779 129.681 133.779 126.07 Q133.779 122.459 131.441 120.352 Q129.103 118.246 125.098 118.246 Q123.223 118.246 121.348 118.663 Q119.496 119.079 117.552 119.959 L117.552 102.598 Z\" fill=\"#000000\" fill-rule=\"evenodd\" fill-opacity=\"1\" /><path clip-path=\"url(#clip212)\" d=\"\n",
       "M1841.19 436.562 L1972.07 441.998 L2063.64 441.998 L2071.92 356.043 L2071.92 292.474 L1941.04 287.038 L1849.47 287.038 L1841.19 372.993 L1841.19 436.562 L1841.19 436.562 \n",
       "   Z\n",
       "  \" fill=\"#009af9\" fill-rule=\"evenodd\" fill-opacity=\"0.5\"/>\n",
       "<polyline clip-path=\"url(#clip212)\" style=\"stroke:#000000; stroke-width:4; stroke-opacity:0.5; fill:none\" points=\"\n",
       "  1841.19,436.562 1972.07,441.998 2063.64,441.998 2071.92,356.043 2071.92,292.474 1941.04,287.038 1849.47,287.038 1841.19,372.993 1841.19,436.562 \n",
       "  \n",
       "  \"/>\n",
       "<path clip-path=\"url(#clip212)\" d=\"\n",
       "M1911 493.331 L1911 493.331 L2039.83 509.483 L2120.03 509.483 L2144.62 424.871 L2144.62 355.88 L2015.79 339.727 L1935.59 339.727 L1935.59 339.727 L1911 424.34 \n",
       "  L1911 493.331 L1911 493.331  Z\n",
       "  \" fill=\"#009af9\" fill-rule=\"evenodd\" fill-opacity=\"0.5\"/>\n",
       "<polyline clip-path=\"url(#clip212)\" style=\"stroke:#000000; stroke-width:4; stroke-opacity:0.5; fill:none\" points=\"\n",
       "  1911,493.331 1911,493.331 2039.83,509.483 2120.03,509.483 2144.62,424.871 2144.62,355.88 2015.79,339.727 1935.59,339.727 1911,424.34 \n",
       "  1911,493.331 \n",
       "  \"/>\n",
       "<path clip-path=\"url(#clip212)\" d=\"\n",
       "M1969.57 553.559 L2094.42 580.031 L2162.76 580.031 L2203.07 498.038 L2203.07 424.657 L2078.23 398.184 L2009.88 398.184 L2009.88 398.184 L1969.57 480.178 L1969.57 553.559 \n",
       "  L1969.57 553.559  Z\n",
       "  \" fill=\"#009af9\" fill-rule=\"evenodd\" fill-opacity=\"0.5\"/>\n",
       "<polyline clip-path=\"url(#clip212)\" style=\"stroke:#000000; stroke-width:4; stroke-opacity:0.5; fill:none\" points=\"\n",
       "  1969.57,553.559 2094.42,580.031 2162.76,580.031 2203.07,498.038 2203.07,424.657 2078.23,398.184 2009.88,398.184 2009.88,398.184 1969.57,480.178 1969.57,553.559 \n",
       "  \n",
       "  \"/>\n",
       "<path clip-path=\"url(#clip212)\" d=\"\n",
       "M2016.69 539.665 L2016.69 616.419 L2135.72 652.708 L2191.77 652.708 L2247.03 574.532 L2247.03 574.532 L2247.03 497.777 L2127.99 461.489 L2071.94 461.489 L2016.69 539.665 \n",
       "  L2016.69 539.665  Z\n",
       "  \" fill=\"#009af9\" fill-rule=\"evenodd\" fill-opacity=\"0.5\"/>\n",
       "<polyline clip-path=\"url(#clip212)\" style=\"stroke:#000000; stroke-width:4; stroke-opacity:0.5; fill:none\" points=\"\n",
       "  2016.69,539.665 2016.69,616.419 2135.72,652.708 2191.77,652.708 2247.03,574.532 2247.03,497.777 2127.99,461.489 2071.94,461.489 2016.69,539.665 \n",
       "  \n",
       "  \"/>\n",
       "<path clip-path=\"url(#clip212)\" d=\"\n",
       "M2052.14 681.093 L2163.66 726.59 L2207.02 726.59 L2276.3 653.351 L2276.3 574.231 L2164.79 528.733 L2121.42 528.733 L2121.42 528.733 L2052.14 601.972 L2052.14 681.093 \n",
       "  L2052.14 681.093  Z\n",
       "  \" fill=\"#009af9\" fill-rule=\"evenodd\" fill-opacity=\"0.5\"/>\n",
       "<polyline clip-path=\"url(#clip212)\" style=\"stroke:#000000; stroke-width:4; stroke-opacity:0.5; fill:none\" points=\"\n",
       "  2052.14,681.093 2163.66,726.59 2207.02,726.59 2276.3,653.351 2276.3,574.231 2164.79,528.733 2121.42,528.733 2121.42,528.733 2052.14,601.972 2052.14,681.093 \n",
       "  \n",
       "  \"/>\n",
       "<path clip-path=\"url(#clip212)\" d=\"\n",
       "M2075.77 746.763 L2075.77 746.763 L2178.18 800.76 L2208.55 800.76 L2290.77 733.498 L2290.77 653.013 L2188.35 599.016 L2157.99 599.016 L2075.77 666.278 L2075.77 746.763 \n",
       "  L2075.77 746.763  Z\n",
       "  \" fill=\"#009af9\" fill-rule=\"evenodd\" fill-opacity=\"0.5\"/>\n",
       "<polyline clip-path=\"url(#clip212)\" style=\"stroke:#000000; stroke-width:4; stroke-opacity:0.5; fill:none\" points=\"\n",
       "  2075.77,746.763 2075.77,746.763 2178.18,800.76 2208.55,800.76 2290.77,733.498 2290.77,653.013 2188.35,599.016 2157.99,599.016 2075.77,666.278 2075.77,746.763 \n",
       "  \n",
       "  \"/>\n",
       "<path clip-path=\"url(#clip212)\" d=\"\n",
       "M2086.42 812.617 L2178.29 874.311 L2178.29 874.311 L2196.46 874.311 L2290.39 813.977 L2290.39 733.126 L2198.53 671.432 L2180.36 671.432 L2086.42 731.766 L2086.42 812.617 \n",
       "  L2086.42 812.617  Z\n",
       "  \" fill=\"#009af9\" fill-rule=\"evenodd\" fill-opacity=\"0.5\"/>\n",
       "<polyline clip-path=\"url(#clip212)\" style=\"stroke:#000000; stroke-width:4; stroke-opacity:0.5; fill:none\" points=\"\n",
       "  2086.42,812.617 2178.29,874.311 2178.29,874.311 2196.46,874.311 2290.39,813.977 2290.39,733.126 2198.53,671.432 2180.36,671.432 2086.42,731.766 2086.42,812.617 \n",
       "  \n",
       "  \"/>\n",
       "<path clip-path=\"url(#clip212)\" d=\"\n",
       "M2072.83 878.147 L2152.83 946.644 L2178.64 946.644 L2282.93 894.101 L2282.93 813.576 L2202.93 745.079 L2177.12 745.079 L2177.12 745.079 L2072.83 797.622 L2072.83 878.147 \n",
       "  L2072.83 878.147 L2072.83 878.147  Z\n",
       "  \" fill=\"#009af9\" fill-rule=\"evenodd\" fill-opacity=\"0.5\"/>\n",
       "<polyline clip-path=\"url(#clip212)\" style=\"stroke:#000000; stroke-width:4; stroke-opacity:0.5; fill:none\" points=\"\n",
       "  2072.83,878.147 2152.83,946.644 2178.64,946.644 2282.93,894.101 2282.93,813.576 2202.93,745.079 2177.12,745.079 2177.12,745.079 2072.83,797.622 2072.83,878.147 \n",
       "  2072.83,878.147 \n",
       "  \"/>\n",
       "<path clip-path=\"url(#clip212)\" d=\"\n",
       "M2047.42 942.464 L2114.4 1016.79 L2114.4 1016.79 L2153.24 1016.79 L2266.41 972.799 L2266.41 893.371 L2199.43 819.047 L2160.59 819.047 L2160.59 819.047 L2047.42 863.035 \n",
       "  L2047.42 942.464 L2047.42 942.464  Z\n",
       "  \" fill=\"#009af9\" fill-rule=\"evenodd\" fill-opacity=\"0.5\"/>\n",
       "<polyline clip-path=\"url(#clip212)\" style=\"stroke:#000000; stroke-width:4; stroke-opacity:0.5; fill:none\" points=\"\n",
       "  2047.42,942.464 2114.4,1016.79 2114.4,1016.79 2153.24,1016.79 2266.41,972.799 2266.41,893.371 2199.43,819.047 2160.59,819.047 2160.59,819.047 2047.42,863.035 \n",
       "  2047.42,942.464 \n",
       "  \"/>\n",
       "<path clip-path=\"url(#clip212)\" d=\"\n",
       "M2010.42 927.195 L2010.42 1004.54 L2063.23 1083.63 L2114.88 1083.63 L2235.31 1048.87 L2235.31 1048.87 L2235.31 971.522 L2182.37 892.429 L2130.85 892.429 L2130.85 892.429 \n",
       "  L2010.42 927.195 L2010.42 927.195  Z\n",
       "  \" fill=\"#009af9\" fill-rule=\"evenodd\" fill-opacity=\"0.5\"/>\n",
       "<polyline clip-path=\"url(#clip212)\" style=\"stroke:#000000; stroke-width:4; stroke-opacity:0.5; fill:none\" points=\"\n",
       "  2010.42,927.195 2010.42,1004.54 2063.23,1083.63 2114.88,1083.63 2235.31,1048.87 2235.31,1048.87 2235.31,971.522 2182.37,892.429 2130.85,892.429 2130.85,892.429 \n",
       "  2010.42,927.195 \n",
       "  \"/>\n",
       "<path clip-path=\"url(#clip212)\" d=\"\n",
       "M1962.08 1063.57 L2000.13 1146.3 L2063.9 1146.3 L2189.87 1121.32 L2189.87 1047.05 L2151.83 964.311 L2088.06 964.311 L2088.06 964.311 L1962.08 989.296 L1962.08 1063.57 \n",
       "  L1962.08 1063.57  Z\n",
       "  \" fill=\"#009af9\" fill-rule=\"evenodd\" fill-opacity=\"0.5\"/>\n",
       "<polyline clip-path=\"url(#clip212)\" style=\"stroke:#000000; stroke-width:4; stroke-opacity:0.5; fill:none\" points=\"\n",
       "  1962.08,1063.57 2000.13,1146.3 2063.9,1146.3 2189.87,1121.32 2189.87,1047.05 2151.83,964.311 2088.06,964.311 2088.06,964.311 1962.08,989.296 1962.08,1063.57 \n",
       "  \n",
       "  \"/>\n",
       "<path clip-path=\"url(#clip212)\" d=\"\n",
       "M1902.73 1118.74 L1902.73 1118.74 L1925.2 1203.92 L1925.2 1203.92 L2000.73 1203.92 L2130.43 1189.17 L2130.43 1189.17 L2130.43 1118.96 L2107.96 1033.78 L2032.43 1033.78 \n",
       "  L2032.43 1033.78 L1902.73 1048.53 L1902.73 1118.74 L1902.73 1118.74  Z\n",
       "  \" fill=\"#009af9\" fill-rule=\"evenodd\" fill-opacity=\"0.5\"/>\n",
       "<polyline clip-path=\"url(#clip212)\" style=\"stroke:#000000; stroke-width:4; stroke-opacity:0.5; fill:none\" points=\"\n",
       "  1902.73,1118.74 1902.73,1118.74 1925.2,1203.92 1925.2,1203.92 2000.73,1203.92 2130.43,1189.17 2130.43,1118.96 2107.96,1033.78 2032.43,1033.78 \n",
       "  2032.43,1033.78 1902.73,1048.53 1902.73,1118.74 \n",
       "  \"/>\n",
       "<path clip-path=\"url(#clip212)\" d=\"\n",
       "M1832.74 1169.26 L1839.13 1255.62 L1925.86 1255.62 L2057.36 1251.43 L2057.36 1186.27 L2050.97 1099.91 L1964.23 1099.91 L1832.74 1104.1 L1832.74 1169.26 L1832.74 1169.26 \n",
       "   Z\n",
       "  \" fill=\"#009af9\" fill-rule=\"evenodd\" fill-opacity=\"0.5\"/>\n",
       "<polyline clip-path=\"url(#clip212)\" style=\"stroke:#000000; stroke-width:4; stroke-opacity:0.5; fill:none\" points=\"\n",
       "  1832.74,1169.26 1839.13,1255.62 1925.86,1255.62 2057.36,1251.43 2057.36,1186.27 2050.97,1099.91 1964.23,1099.91 1832.74,1104.1 1832.74,1169.26 \n",
       "  \n",
       "  \"/>\n",
       "<path clip-path=\"url(#clip212)\" d=\"\n",
       "M1742.75 1300.39 L1873.51 1306.96 L1971.23 1306.96 L1981.23 1221.09 L1981.23 1161.71 L1850.47 1155.14 L1752.75 1155.14 L1752.75 1155.14 L1742.75 1241.02 L1742.75 1300.39 \n",
       "  L1742.75 1300.39  Z\n",
       "  \" fill=\"#009af9\" fill-rule=\"evenodd\" fill-opacity=\"0.5\"/>\n",
       "<polyline clip-path=\"url(#clip212)\" style=\"stroke:#000000; stroke-width:4; stroke-opacity:0.5; fill:none\" points=\"\n",
       "  1742.75,1300.39 1873.51,1306.96 1971.23,1306.96 1981.23,1221.09 1981.23,1161.71 1850.47,1155.14 1752.75,1155.14 1752.75,1155.14 1742.75,1241.02 1742.75,1300.39 \n",
       "  \n",
       "  \"/>\n",
       "<path clip-path=\"url(#clip212)\" d=\"\n",
       "M1639.44 1336.49 L1767.95 1353.74 L1873.76 1353.74 L1900.03 1269.35 L1900.03 1217.47 L1771.52 1200.22 L1665.7 1200.22 L1665.7 1200.22 L1639.44 1284.62 L1639.44 1336.49 \n",
       "  L1639.44 1336.49  Z\n",
       "  \" fill=\"#009af9\" fill-rule=\"evenodd\" fill-opacity=\"0.5\"/>\n",
       "<polyline clip-path=\"url(#clip212)\" style=\"stroke:#000000; stroke-width:4; stroke-opacity:0.5; fill:none\" points=\"\n",
       "  1639.44,1336.49 1767.95,1353.74 1873.76,1353.74 1900.03,1269.35 1900.03,1217.47 1771.52,1200.22 1665.7,1200.22 1665.7,1200.22 1639.44,1284.62 1639.44,1336.49 \n",
       "  \n",
       "  \"/>\n",
       "<path clip-path=\"url(#clip212)\" d=\"\n",
       "M1531.62 1363.62 L1531.62 1363.62 L1655.94 1391.15 L1655.94 1391.15 L1768.28 1391.15 L1810.18 1309.5 L1810.18 1265.44 L1685.86 1237.92 L1573.53 1237.92 L1531.62 1319.57 \n",
       "  L1531.62 1363.62 L1531.62 1363.62  Z\n",
       "  \" fill=\"#009af9\" fill-rule=\"evenodd\" fill-opacity=\"0.5\"/>\n",
       "<polyline clip-path=\"url(#clip212)\" style=\"stroke:#000000; stroke-width:4; stroke-opacity:0.5; fill:none\" points=\"\n",
       "  1531.62,1363.62 1531.62,1363.62 1655.94,1391.15 1655.94,1391.15 1768.28,1391.15 1810.18,1309.5 1810.18,1265.44 1685.86,1237.92 1573.53,1237.92 1531.62,1319.57 \n",
       "  1531.62,1363.62 \n",
       "  \"/>\n",
       "<path clip-path=\"url(#clip212)\" d=\"\n",
       "M1420.71 1381.74 L1539.03 1419.02 L1656.35 1419.02 L1713.11 1341.3 L1713.11 1305.35 L1594.78 1268.07 L1477.47 1268.07 L1420.71 1345.78 L1420.71 1381.74 L1420.71 1381.74 \n",
       "   Z\n",
       "  \" fill=\"#009af9\" fill-rule=\"evenodd\" fill-opacity=\"0.5\"/>\n",
       "<polyline clip-path=\"url(#clip212)\" style=\"stroke:#000000; stroke-width:4; stroke-opacity:0.5; fill:none\" points=\"\n",
       "  1420.71,1381.74 1539.03,1419.02 1656.35,1419.02 1713.11,1341.3 1713.11,1305.35 1594.78,1268.07 1477.47,1268.07 1420.71,1345.78 1420.71,1381.74 \n",
       "  \n",
       "  \"/>\n",
       "<path clip-path=\"url(#clip212)\" d=\"\n",
       "M1308.1 1390.81 L1418.74 1437.23 L1539.5 1437.23 L1610.17 1364.57 L1610.17 1364.57 L1610.17 1336.96 L1499.54 1290.55 L1378.78 1290.55 L1378.78 1290.55 L1308.1 1363.21 \n",
       "  L1308.1 1390.81 L1308.1 1390.81  Z\n",
       "  \" fill=\"#009af9\" fill-rule=\"evenodd\" fill-opacity=\"0.5\"/>\n",
       "<polyline clip-path=\"url(#clip212)\" style=\"stroke:#000000; stroke-width:4; stroke-opacity:0.5; fill:none\" points=\"\n",
       "  1308.1,1390.81 1418.74,1437.23 1539.5,1437.23 1610.17,1364.57 1610.17,1364.57 1610.17,1336.96 1499.54,1290.55 1378.78,1290.55 1378.78,1290.55 1308.1,1363.21 \n",
       "  1308.1,1390.81 \n",
       "  \"/>\n",
       "<path clip-path=\"url(#clip212)\" d=\"\n",
       "M1195.2 1390.88 L1296.58 1445.72 L1419.26 1445.72 L1502.76 1379.13 L1502.76 1360.09 L1401.38 1305.25 L1278.7 1305.25 L1195.2 1371.83 L1195.2 1390.88 L1195.2 1390.88 \n",
       "   Z\n",
       "  \" fill=\"#009af9\" fill-rule=\"evenodd\" fill-opacity=\"0.5\"/>\n",
       "<polyline clip-path=\"url(#clip212)\" style=\"stroke:#000000; stroke-width:4; stroke-opacity:0.5; fill:none\" points=\"\n",
       "  1195.2,1390.88 1296.58,1445.72 1419.26,1445.72 1502.76,1379.13 1502.76,1360.09 1401.38,1305.25 1278.7,1305.25 1195.2,1371.83 1195.2,1390.88 \n",
       "  \n",
       "  \"/>\n",
       "<path clip-path=\"url(#clip212)\" d=\"\n",
       "M1083.39 1382.01 L1174.08 1444.45 L1297.16 1444.45 L1392.24 1384.89 L1392.24 1372.96 L1301.55 1310.52 L1178.47 1310.52 L1083.39 1370.08 L1083.39 1382.01 L1083.39 1382.01 \n",
       "   Z\n",
       "  \" fill=\"#009af9\" fill-rule=\"evenodd\" fill-opacity=\"0.5\"/>\n",
       "<polyline clip-path=\"url(#clip212)\" style=\"stroke:#000000; stroke-width:4; stroke-opacity:0.5; fill:none\" points=\"\n",
       "  1083.39,1382.01 1174.08,1444.45 1297.16,1444.45 1392.24,1384.89 1392.24,1372.96 1301.55,1310.52 1178.47,1310.52 1083.39,1370.08 1083.39,1382.01 \n",
       "  \n",
       "  \"/>\n",
       "<path clip-path=\"url(#clip212)\" d=\"\n",
       "M973.494 1370.31 L1052.19 1439.46 L1174.7 1439.46 L1279.99 1387.78 L1279.99 1369.92 L1201.29 1300.77 L1078.78 1300.77 L973.494 1352.46 L973.494 1370.31 L973.494 1370.31 \n",
       "   Z\n",
       "  \" fill=\"#009af9\" fill-rule=\"evenodd\" fill-opacity=\"0.5\"/>\n",
       "<polyline clip-path=\"url(#clip212)\" style=\"stroke:#000000; stroke-width:4; stroke-opacity:0.5; fill:none\" points=\"\n",
       "  973.494,1370.31 1052.19,1439.46 1174.7,1439.46 1279.99,1387.78 1279.99,1369.92 1201.29,1300.77 1078.78,1300.77 973.494,1352.46 973.494,1370.31 \n",
       "  \n",
       "  \"/>\n",
       "<path clip-path=\"url(#clip212)\" d=\"\n",
       "M867.155 1352.73 L932.712 1427.6 L1053.39 1427.6 L1167.39 1384.55 L1167.39 1358.16 L1101.83 1283.29 L981.154 1283.29 L867.155 1326.34 L867.155 1352.73 L867.155 1352.73 \n",
       "   Z\n",
       "  \" fill=\"#009af9\" fill-rule=\"evenodd\" fill-opacity=\"0.5\"/>\n",
       "<polyline clip-path=\"url(#clip212)\" style=\"stroke:#000000; stroke-width:4; stroke-opacity:0.5; fill:none\" points=\"\n",
       "  867.155,1352.73 932.712,1427.6 1053.39,1427.6 1167.39,1384.55 1167.39,1358.16 1101.83,1283.29 981.154,1283.29 867.155,1326.34 867.155,1352.73 \n",
       "  \n",
       "  \"/>\n",
       "<path clip-path=\"url(#clip212)\" d=\"\n",
       "M765.978 1326.66 L817.398 1406.19 L934.743 1406.19 L1055.83 1372.42 L1055.83 1372.42 L1055.83 1337.73 L1004.41 1258.2 L887.066 1258.2 L765.978 1291.97 L765.978 1326.66 \n",
       "  L765.978 1326.66  Z\n",
       "  \" fill=\"#009af9\" fill-rule=\"evenodd\" fill-opacity=\"0.5\"/>\n",
       "<polyline clip-path=\"url(#clip212)\" style=\"stroke:#000000; stroke-width:4; stroke-opacity:0.5; fill:none\" points=\"\n",
       "  765.978,1326.66 817.398,1406.19 934.743,1406.19 1055.83,1372.42 1055.83,1372.42 1055.83,1337.73 1004.41,1258.2 887.066,1258.2 765.978,1291.97 765.978,1326.66 \n",
       "  \n",
       "  \"/>\n",
       "<path clip-path=\"url(#clip212)\" d=\"\n",
       "M671.297 1249.63 L671.297 1292.33 L707.745 1375.38 L707.745 1375.38 L820.254 1375.38 L946.702 1351.44 L946.702 1308.74 L910.253 1225.69 L797.744 1225.69 L671.297 1249.63 \n",
       "  L671.297 1249.63  Z\n",
       "  \" fill=\"#009af9\" fill-rule=\"evenodd\" fill-opacity=\"0.5\"/>\n",
       "<polyline clip-path=\"url(#clip212)\" style=\"stroke:#000000; stroke-width:4; stroke-opacity:0.5; fill:none\" points=\"\n",
       "  671.297,1249.63 671.297,1292.33 707.745,1375.38 707.745,1375.38 820.254,1375.38 946.702,1351.44 946.702,1308.74 910.253,1225.69 797.744,1225.69 671.297,1249.63 \n",
       "  \n",
       "  \"/>\n",
       "<path clip-path=\"url(#clip212)\" d=\"\n",
       "M584.439 1250.03 L605.251 1335.39 L711.422 1335.39 L841.395 1321.72 L841.395 1271.33 L820.582 1185.97 L714.411 1185.97 L714.411 1185.97 L584.439 1199.64 L584.439 1250.03 \n",
       "  L584.439 1250.03  Z\n",
       "  \" fill=\"#009af9\" fill-rule=\"evenodd\" fill-opacity=\"0.5\"/>\n",
       "<polyline clip-path=\"url(#clip212)\" style=\"stroke:#000000; stroke-width:4; stroke-opacity:0.5; fill:none\" points=\"\n",
       "  584.439,1250.03 605.251,1335.39 711.422,1335.39 841.395,1321.72 841.395,1271.33 820.582,1185.97 714.411,1185.97 714.411,1185.97 584.439,1199.64 584.439,1250.03 \n",
       "  \n",
       "  \"/>\n",
       "<path clip-path=\"url(#clip212)\" d=\"\n",
       "M506.733 1200.08 L511.419 1286.49 L609.745 1286.49 L741.312 1283.41 L741.312 1225.7 L736.626 1139.29 L638.3 1139.29 L506.733 1142.36 L506.733 1200.08 L506.733 1200.08 \n",
       "   Z\n",
       "  \" fill=\"#009af9\" fill-rule=\"evenodd\" fill-opacity=\"0.5\"/>\n",
       "<polyline clip-path=\"url(#clip212)\" style=\"stroke:#000000; stroke-width:4; stroke-opacity:0.5; fill:none\" points=\"\n",
       "  506.733,1200.08 511.419,1286.49 609.745,1286.49 741.312,1283.41 741.312,1225.7 736.626,1139.29 638.3,1139.29 506.733,1142.36 506.733,1200.08 \n",
       "  \n",
       "  \"/>\n",
       "<path clip-path=\"url(#clip212)\" d=\"\n",
       "M428.212 1229.11 L558.83 1236.79 L648.086 1236.79 L659.785 1151.01 L659.785 1086.23 L529.167 1078.54 L439.911 1078.54 L428.212 1164.33 L428.212 1229.11 L428.212 1229.11 \n",
       "   Z\n",
       "  \" fill=\"#009af9\" fill-rule=\"evenodd\" fill-opacity=\"0.5\"/>\n",
       "<polyline clip-path=\"url(#clip212)\" style=\"stroke:#000000; stroke-width:4; stroke-opacity:0.5; fill:none\" points=\"\n",
       "  428.212,1229.11 558.83,1236.79 648.086,1236.79 659.785,1151.01 659.785,1086.23 529.167,1078.54 439.911,1078.54 428.212,1164.33 428.212,1229.11 \n",
       "  \n",
       "  \"/>\n",
       "<path clip-path=\"url(#clip212)\" d=\"\n",
       "M358.443 1164.5 L358.443 1164.5 L486.604 1182.83 L486.604 1182.83 L564.381 1182.83 L592.286 1098.66 L592.286 1028.67 L464.125 1010.35 L386.347 1010.35 L358.443 1094.52 \n",
       "  L358.443 1164.5 L358.443 1164.5  Z\n",
       "  \" fill=\"#009af9\" fill-rule=\"evenodd\" fill-opacity=\"0.5\"/>\n",
       "<polyline clip-path=\"url(#clip212)\" style=\"stroke:#000000; stroke-width:4; stroke-opacity:0.5; fill:none\" points=\"\n",
       "  358.443,1164.5 358.443,1164.5 486.604,1182.83 486.604,1182.83 564.381,1182.83 592.286,1098.66 592.286,1028.67 464.125,1010.35 386.347,1010.35 358.443,1094.52 \n",
       "  358.443,1164.5 \n",
       "  \"/>\n",
       "<path clip-path=\"url(#clip212)\" d=\"\n",
       "M302.977 1094.74 L426.763 1123.3 L492.595 1123.3 L536.067 1042 L536.067 967.833 L412.282 939.282 L346.449 939.282 L346.449 939.282 L302.977 1020.58 L302.977 1094.74 \n",
       "  L302.977 1094.74  Z\n",
       "  \" fill=\"#009af9\" fill-rule=\"evenodd\" fill-opacity=\"0.5\"/>\n",
       "<polyline clip-path=\"url(#clip212)\" style=\"stroke:#000000; stroke-width:4; stroke-opacity:0.5; fill:none\" points=\"\n",
       "  302.977,1094.74 426.763,1123.3 492.595,1123.3 536.067,1042 536.067,967.833 412.282,939.282 346.449,939.282 346.449,939.282 302.977,1020.58 302.977,1094.74 \n",
       "  \n",
       "  \"/>\n",
       "<path clip-path=\"url(#clip212)\" d=\"\n",
       "M262.049 1020.85 L262.049 1020.85 L379.659 1059.1 L433.113 1059.1 L491.352 981.857 L491.352 904.53 L373.742 866.28 L320.289 866.28 L262.049 943.522 L262.049 1020.85 \n",
       "  L262.049 1020.85  Z\n",
       "  \" fill=\"#009af9\" fill-rule=\"evenodd\" fill-opacity=\"0.5\"/>\n",
       "<polyline clip-path=\"url(#clip212)\" style=\"stroke:#000000; stroke-width:4; stroke-opacity:0.5; fill:none\" points=\"\n",
       "  262.049,1020.85 262.049,1020.85 379.659,1059.1 433.113,1059.1 491.352,981.857 491.352,904.53 373.742,866.28 320.289,866.28 262.049,943.522 262.049,1020.85 \n",
       "  \n",
       "  \"/>\n",
       "<path clip-path=\"url(#clip212)\" d=\"\n",
       "M235.837 943.832 L345.591 991.152 L386.29 991.152 L458.339 919.069 L458.339 839.583 L348.585 792.263 L307.886 792.263 L307.886 792.263 L235.837 864.346 L235.837 943.832 \n",
       "  L235.837 943.832  Z\n",
       "  \" fill=\"#009af9\" fill-rule=\"evenodd\" fill-opacity=\"0.5\"/>\n",
       "<polyline clip-path=\"url(#clip212)\" style=\"stroke:#000000; stroke-width:4; stroke-opacity:0.5; fill:none\" points=\"\n",
       "  235.837,943.832 345.591,991.152 386.29,991.152 458.339,919.069 458.339,839.583 348.585,792.263 307.886,792.263 307.886,792.263 235.837,864.346 235.837,943.832 \n",
       "  \n",
       "  \"/>\n",
       "<path clip-path=\"url(#clip212)\" d=\"\n",
       "M224.444 784.049 L224.444 864.692 L324.788 920.353 L352.427 920.353 L437.177 854.45 L437.177 773.808 L336.834 718.147 L309.194 718.147 L309.194 718.147 L224.444 784.049 \n",
       "  L224.444 784.049  Z\n",
       "  \" fill=\"#009af9\" fill-rule=\"evenodd\" fill-opacity=\"0.5\"/>\n",
       "<polyline clip-path=\"url(#clip212)\" style=\"stroke:#000000; stroke-width:4; stroke-opacity:0.5; fill:none\" points=\"\n",
       "  224.444,784.049 224.444,864.692 324.788,920.353 352.427,920.353 437.177,854.45 437.177,773.808 336.834,718.147 309.194,718.147 309.194,718.147 224.444,784.049 \n",
       "  \n",
       "  \"/>\n",
       "<path clip-path=\"url(#clip212)\" d=\"\n",
       "M227.892 784.428 L317.403 847.607 L335.568 847.607 L431.765 788.819 L431.765 708.018 L342.255 644.838 L324.09 644.838 L227.892 703.626 L227.892 784.428 L227.892 784.428 \n",
       "   Z\n",
       "  \" fill=\"#009af9\" fill-rule=\"evenodd\" fill-opacity=\"0.5\"/>\n",
       "<polyline clip-path=\"url(#clip212)\" style=\"stroke:#000000; stroke-width:4; stroke-opacity:0.5; fill:none\" points=\"\n",
       "  227.892,784.428 317.403,847.607 335.568,847.607 431.765,788.819 431.765,708.018 342.255,644.838 324.09,644.838 227.892,703.626 227.892,784.428 \n",
       "  \n",
       "  \"/>\n",
       "<path clip-path=\"url(#clip212)\" d=\"\n",
       "M235.636 704.032 L313.031 773.819 L313.031 773.819 L341.566 773.819 L447.824 722.989 L447.824 642.609 L370.429 572.822 L341.895 572.822 L235.636 623.653 L235.636 704.032 \n",
       "  L235.636 704.032  Z\n",
       "  \" fill=\"#009af9\" fill-rule=\"evenodd\" fill-opacity=\"0.5\"/>\n",
       "<polyline clip-path=\"url(#clip212)\" style=\"stroke:#000000; stroke-width:4; stroke-opacity:0.5; fill:none\" points=\"\n",
       "  235.636,704.032 313.031,773.819 313.031,773.819 341.566,773.819 447.824,722.989 447.824,642.609 370.429,572.822 341.895,572.822 235.636,623.653 235.636,704.032 \n",
       "  \n",
       "  \"/>\n",
       "<path clip-path=\"url(#clip212)\" d=\"\n",
       "M255.2 624.497 L319.344 699.897 L319.344 699.897 L360.843 699.897 L475.649 657.769 L475.649 578.692 L411.504 503.291 L370.005 503.291 L370.005 503.291 L255.2 545.419 \n",
       "  L255.2 624.497 L255.2 624.497  Z\n",
       "  \" fill=\"#009af9\" fill-rule=\"evenodd\" fill-opacity=\"0.5\"/>\n",
       "<polyline clip-path=\"url(#clip212)\" style=\"stroke:#000000; stroke-width:4; stroke-opacity:0.5; fill:none\" points=\"\n",
       "  255.2,624.497 319.344,699.897 319.344,699.897 360.843,699.897 475.649,657.769 475.649,578.692 411.504,503.291 370.005,503.291 370.005,503.291 255.2,545.419 \n",
       "  255.2,624.497 \n",
       "  \"/>\n",
       "<path clip-path=\"url(#clip212)\" d=\"\n",
       "M289.291 546.809 L339.205 626.752 L339.205 626.752 L393.301 626.752 L515.023 593.97 L515.023 517.183 L465.108 437.24 L411.013 437.24 L289.291 470.022 L289.291 546.809 \n",
       "  L289.291 546.809  Z\n",
       "  \" fill=\"#009af9\" fill-rule=\"evenodd\" fill-opacity=\"0.5\"/>\n",
       "<polyline clip-path=\"url(#clip212)\" style=\"stroke:#000000; stroke-width:4; stroke-opacity:0.5; fill:none\" points=\"\n",
       "  289.291,546.809 339.205,626.752 339.205,626.752 393.301,626.752 515.023,593.97 515.023,517.183 465.108,437.24 411.013,437.24 289.291,470.022 289.291,546.809 \n",
       "  \n",
       "  \"/>\n",
       "<path clip-path=\"url(#clip212)\" d=\"\n",
       "M337.657 471.953 L372.523 555.295 L438.774 555.295 L565.671 532.396 L565.671 458.886 L530.805 375.545 L464.553 375.545 L337.657 398.444 L337.657 471.953 L337.657 471.953 \n",
       "   Z\n",
       "  \" fill=\"#009af9\" fill-rule=\"evenodd\" fill-opacity=\"0.5\"/>\n",
       "<polyline clip-path=\"url(#clip212)\" style=\"stroke:#000000; stroke-width:4; stroke-opacity:0.5; fill:none\" points=\"\n",
       "  337.657,471.953 372.523,555.295 438.774,555.295 565.671,532.396 565.671,458.886 530.805,375.545 464.553,375.545 337.657,398.444 337.657,471.953 \n",
       "  \n",
       "  \"/>\n",
       "<path clip-path=\"url(#clip212)\" d=\"\n",
       "M399.961 400.914 L419.133 486.443 L497.031 486.443 L627.259 473.852 L627.259 404.607 L608.087 319.078 L530.189 319.078 L530.189 319.078 L399.961 331.669 L399.961 400.914 \n",
       "  L399.961 400.914  Z\n",
       "  \" fill=\"#009af9\" fill-rule=\"evenodd\" fill-opacity=\"0.5\"/>\n",
       "<polyline clip-path=\"url(#clip212)\" style=\"stroke:#000000; stroke-width:4; stroke-opacity:0.5; fill:none\" points=\"\n",
       "  399.961,400.914 419.133,486.443 497.031,486.443 627.259,473.852 627.259,404.607 608.087,319.078 530.189,319.078 530.189,319.078 399.961,331.669 399.961,400.914 \n",
       "  \n",
       "  \"/>\n",
       "<path clip-path=\"url(#clip212)\" d=\"\n",
       "M475.796 334.676 L478.801 421.118 L567.789 421.118 L699.407 419.144 L699.407 355.154 L696.401 268.712 L607.413 268.712 L607.413 268.712 L475.796 270.685 L475.796 334.676 \n",
       "  L475.796 334.676  Z\n",
       "  \" fill=\"#009af9\" fill-rule=\"evenodd\" fill-opacity=\"0.5\"/>\n",
       "<polyline clip-path=\"url(#clip212)\" style=\"stroke:#000000; stroke-width:4; stroke-opacity:0.5; fill:none\" points=\"\n",
       "  475.796,334.676 478.801,421.118 567.789,421.118 699.407,419.144 699.407,355.154 696.401,268.712 607.413,268.712 607.413,268.712 475.796,270.685 475.796,334.676 \n",
       "  \n",
       "  \"/>\n",
       "<path clip-path=\"url(#clip212)\" d=\"\n",
       "M550.996 360.463 L550.996 360.463 L681.455 369.249 L780.968 369.249 L794.346 283.568 L794.346 225.703 L663.888 216.917 L564.374 216.917 L550.996 302.598 L550.996 360.463 \n",
       "  L550.996 360.463  Z\n",
       "  \" fill=\"#009af9\" fill-rule=\"evenodd\" fill-opacity=\"0.5\"/>\n",
       "<polyline clip-path=\"url(#clip212)\" style=\"stroke:#000000; stroke-width:4; stroke-opacity:0.5; fill:none\" points=\"\n",
       "  550.996,360.463 550.996,360.463 681.455,369.249 780.968,369.249 794.346,283.568 794.346,225.703 663.888,216.917 564.374,216.917 550.996,302.598 550.996,360.463 \n",
       "  \n",
       "  \"/>\n",
       "<path clip-path=\"url(#clip212)\" d=\"\n",
       "M634.089 306.276 L634.089 306.276 L761.889 325.667 L869.169 325.667 L898.695 241.732 L898.695 191.437 L770.894 172.046 L663.614 172.046 L663.614 172.046 L634.089 255.981 \n",
       "  L634.089 306.276 L634.089 306.276  Z\n",
       "  \" fill=\"#009af9\" fill-rule=\"evenodd\" fill-opacity=\"0.5\"/>\n",
       "<polyline clip-path=\"url(#clip212)\" style=\"stroke:#000000; stroke-width:4; stroke-opacity:0.5; fill:none\" points=\"\n",
       "  634.089,306.276 634.089,306.276 761.889,325.667 869.169,325.667 898.695,241.732 898.695,191.437 770.894,172.046 663.614,172.046 663.614,172.046 634.089,255.981 \n",
       "  634.089,306.276 \n",
       "  \"/>\n",
       "<path clip-path=\"url(#clip212)\" d=\"\n",
       "M725.527 259.942 L725.527 259.942 L848.762 289.509 L848.762 289.509 L962.246 289.509 L1007.27 208.572 L1007.27 166.153 L884.029 136.586 L770.546 136.586 L725.527 217.523 \n",
       "  L725.527 259.942 L725.527 259.942  Z\n",
       "  \" fill=\"#009af9\" fill-rule=\"evenodd\" fill-opacity=\"0.5\"/>\n",
       "<polyline clip-path=\"url(#clip212)\" style=\"stroke:#000000; stroke-width:4; stroke-opacity:0.5; fill:none\" points=\"\n",
       "  725.527,259.942 725.527,259.942 848.762,289.509 848.762,289.509 962.246,289.509 1007.27,208.572 1007.27,166.153 884.029,136.586 770.546,136.586 725.527,217.523 \n",
       "  725.527,259.942 \n",
       "  \"/>\n",
       "<path clip-path=\"url(#clip212)\" d=\"\n",
       "M823.917 221.715 L823.917 221.715 L940.8 260.921 L1058.94 260.921 L1118.64 184.156 L1118.64 149.894 L1001.76 110.687 L883.613 110.687 L883.613 110.687 L823.917 187.452 \n",
       "  L823.917 221.715 L823.917 221.715  Z\n",
       "  \" fill=\"#009af9\" fill-rule=\"evenodd\" fill-opacity=\"0.5\"/>\n",
       "<polyline clip-path=\"url(#clip212)\" style=\"stroke:#000000; stroke-width:4; stroke-opacity:0.5; fill:none\" points=\"\n",
       "  823.917,221.715 823.917,221.715 940.8,260.921 1058.94,260.921 1118.64,184.156 1118.64,149.894 1001.76,110.687 883.613,110.687 883.613,110.687 823.917,187.452 \n",
       "  823.917,221.715 \n",
       "  \"/>\n",
       "<path clip-path=\"url(#clip212)\" d=\"\n",
       "M927.882 191.823 L1036.74 240.029 L1158.02 240.029 L1231.42 168.532 L1231.42 142.669 L1122.56 94.4633 L1001.28 94.4633 L1001.28 94.4633 L927.882 165.961 L927.882 191.823 \n",
       "  L927.882 191.823  Z\n",
       "  \" fill=\"#009af9\" fill-rule=\"evenodd\" fill-opacity=\"0.5\"/>\n",
       "<polyline clip-path=\"url(#clip212)\" style=\"stroke:#000000; stroke-width:4; stroke-opacity:0.5; fill:none\" points=\"\n",
       "  927.882,191.823 1036.74,240.029 1158.02,240.029 1231.42,168.532 1231.42,142.669 1122.56,94.4633 1001.28,94.4633 1001.28,94.4633 927.882,165.961 927.882,191.823 \n",
       "  \n",
       "  \"/>\n",
       "<path clip-path=\"url(#clip212)\" d=\"\n",
       "M1036.05 153.194 L1036.05 170.462 L1135.35 226.929 L1258.23 226.929 L1344.21 161.712 L1344.21 144.444 L1244.9 87.9763 L1122.02 87.9763 L1122.02 87.9763 L1036.05 153.194 \n",
       "  L1036.05 153.194  Z\n",
       "  \" fill=\"#009af9\" fill-rule=\"evenodd\" fill-opacity=\"0.5\"/>\n",
       "<polyline clip-path=\"url(#clip212)\" style=\"stroke:#000000; stroke-width:4; stroke-opacity:0.5; fill:none\" points=\"\n",
       "  1036.05,153.194 1036.05,170.462 1135.35,226.929 1258.23,226.929 1344.21,161.712 1344.21,144.444 1244.9,87.9763 1122.02,87.9763 1122.02,87.9763 1036.05,153.194 \n",
       "  \n",
       "  \"/>\n",
       "<path clip-path=\"url(#clip212)\" d=\"\n",
       "M1147.03 161.174 L1235.36 225.071 L1358.33 225.071 L1455.62 167.059 L1455.62 155.131 L1367.29 91.2341 L1244.32 91.2341 L1147.03 149.247 L1147.03 161.174 L1147.03 161.174 \n",
       "   Z\n",
       "  \" fill=\"#009af9\" fill-rule=\"evenodd\" fill-opacity=\"0.5\"/>\n",
       "<polyline clip-path=\"url(#clip212)\" style=\"stroke:#000000; stroke-width:4; stroke-opacity:0.5; fill:none\" points=\"\n",
       "  1147.03,161.174 1235.36,225.071 1358.33,225.071 1455.62,167.059 1455.62,155.131 1367.29,91.2341 1244.32,91.2341 1147.03,149.247 1147.03,161.174 \n",
       "  \n",
       "  \"/>\n",
       "<path clip-path=\"url(#clip212)\" d=\"\n",
       "M1259.47 166.007 L1335.56 236.414 L1457.81 236.414 L1565.02 186.439 L1565.02 166.82 L1488.92 96.4126 L1366.67 96.4126 L1366.67 96.4126 L1259.47 146.387 L1259.47 166.007 \n",
       "  L1259.47 166.007  Z\n",
       "  \" fill=\"#009af9\" fill-rule=\"evenodd\" fill-opacity=\"0.5\"/>\n",
       "<polyline clip-path=\"url(#clip212)\" style=\"stroke:#000000; stroke-width:4; stroke-opacity:0.5; fill:none\" points=\"\n",
       "  1259.47,166.007 1335.56,236.414 1457.81,236.414 1565.02,186.439 1565.02,166.82 1488.92,96.4126 1366.67,96.4126 1366.67,96.4126 1259.47,146.387 1259.47,166.007 \n",
       "  \n",
       "  \"/>\n",
       "<path clip-path=\"url(#clip212)\" d=\"\n",
       "M1371.97 151.443 L1371.97 179.554 L1434.7 255.469 L1554.82 255.469 L1670.41 214.267 L1670.41 214.267 L1670.41 186.156 L1607.67 110.241 L1487.55 110.241 L1371.97 151.443 \n",
       "  L1371.97 151.443  Z\n",
       "  \" fill=\"#009af9\" fill-rule=\"evenodd\" fill-opacity=\"0.5\"/>\n",
       "<polyline clip-path=\"url(#clip212)\" style=\"stroke:#000000; stroke-width:4; stroke-opacity:0.5; fill:none\" points=\"\n",
       "  1371.97,151.443 1371.97,179.554 1434.7,255.469 1554.82,255.469 1670.41,214.267 1670.41,214.267 1670.41,186.156 1607.67,110.241 1487.55,110.241 1371.97,151.443 \n",
       "  \n",
       "  \"/>\n",
       "<path clip-path=\"url(#clip212)\" d=\"\n",
       "M1483.14 165.393 L1483.14 201.75 L1531.55 282.094 L1531.55 282.094 L1648.03 282.094 L1770.36 250.298 L1770.36 213.94 L1721.95 133.597 L1605.47 133.597 L1483.14 165.393 \n",
       "  L1483.14 165.393  Z\n",
       "  \" fill=\"#009af9\" fill-rule=\"evenodd\" fill-opacity=\"0.5\"/>\n",
       "<polyline clip-path=\"url(#clip212)\" style=\"stroke:#000000; stroke-width:4; stroke-opacity:0.5; fill:none\" points=\"\n",
       "  1483.14,165.393 1483.14,201.75 1531.55,282.094 1531.55,282.094 1648.03,282.094 1770.36,250.298 1770.36,213.94 1721.95,133.597 1605.47,133.597 1483.14,165.393 \n",
       "  \n",
       "  \"/>\n",
       "<path clip-path=\"url(#clip212)\" d=\"\n",
       "M1591.6 232.48 L1591.6 232.48 L1624.89 316.102 L1736.22 316.102 L1863.54 294.237 L1863.54 249.929 L1830.25 166.307 L1718.92 166.307 L1718.92 166.307 L1591.6 188.172 \n",
       "  L1591.6 232.48 L1591.6 232.48  Z\n",
       "  \" fill=\"#009af9\" fill-rule=\"evenodd\" fill-opacity=\"0.5\"/>\n",
       "<polyline clip-path=\"url(#clip212)\" style=\"stroke:#000000; stroke-width:4; stroke-opacity:0.5; fill:none\" points=\"\n",
       "  1591.6,232.48 1591.6,232.48 1624.89,316.102 1736.22,316.102 1863.54,294.237 1863.54,249.929 1830.25,166.307 1718.92,166.307 1718.92,166.307 1591.6,188.172 \n",
       "  1591.6,232.48 \n",
       "  \"/>\n",
       "<path clip-path=\"url(#clip212)\" d=\"\n",
       "M1695.95 271.589 L1695.95 271.589 L1713.49 357.271 L1818.17 357.271 L1948.63 345.751 L1948.63 293.829 L1931.09 208.147 L1826.41 208.147 L1695.95 219.667 L1695.95 271.589 \n",
       "  L1695.95 271.589  Z\n",
       "  \" fill=\"#009af9\" fill-rule=\"evenodd\" fill-opacity=\"0.5\"/>\n",
       "<polyline clip-path=\"url(#clip212)\" style=\"stroke:#000000; stroke-width:4; stroke-opacity:0.5; fill:none\" points=\"\n",
       "  1695.95,271.589 1695.95,271.589 1713.49,357.271 1818.17,357.271 1948.63,345.751 1948.63,293.829 1931.09,208.147 1826.41,208.147 1695.95,219.667 1695.95,271.589 \n",
       "  \n",
       "  \"/>\n",
       "<path clip-path=\"url(#clip212)\" d=\"\n",
       "M1794.79 259.349 L1794.79 318.887 L1795.57 404.529 L1796.12 405.348 L1892.65 405.348 L2024.3 404.471 L2024.3 345.304 L2022.96 258.843 L1926.43 258.843 L1794.79 259.349 \n",
       "  L1794.79 259.349  Z\n",
       "  \" fill=\"#009af9\" fill-rule=\"evenodd\" fill-opacity=\"0.5\"/>\n",
       "<polyline clip-path=\"url(#clip212)\" style=\"stroke:#000000; stroke-width:4; stroke-opacity:0.5; fill:none\" points=\"\n",
       "  1794.79,259.349 1794.79,318.887 1795.57,404.529 1796.12,405.348 1892.65,405.348 2024.3,404.471 2024.3,345.304 2022.96,258.843 1926.43,258.843 1794.79,259.349 \n",
       "  \n",
       "  \"/>\n",
       "<path clip-path=\"url(#clip212)\" d=\"\n",
       "M1871.22 459.412 L1871.22 459.412 L2001.5 469.292 L2001.5 469.292 L2088.45 469.292 L2103.49 383.729 L2103.49 317.806 L1973.22 307.926 L1886.26 307.926 L1871.22 393.49 \n",
       "  L1871.22 459.412 L1871.22 459.412  Z\n",
       "  \" fill=\"#009af9\" fill-rule=\"evenodd\" fill-opacity=\"0.5\"/>\n",
       "<polyline clip-path=\"url(#clip212)\" style=\"stroke:#000000; stroke-width:4; stroke-opacity:0.5; fill:none\" points=\"\n",
       "  1871.22,459.412 1871.22,459.412 2001.5,469.292 2001.5,469.292 2088.45,469.292 2103.49,383.729 2103.49,317.806 1973.22,307.926 1886.26,307.926 1871.22,393.49 \n",
       "  1871.22,459.412 \n",
       "  \"/>\n",
       "<path clip-path=\"url(#clip212)\" d=\"\n",
       "M1936.44 517.703 L1936.44 517.703 L2063.86 538.149 L2139.24 538.149 L2170.37 454.463 L2170.37 383.544 L2042.95 363.098 L1967.57 363.098 L1936.44 446.785 L1936.44 517.703 \n",
       "  L1936.44 517.703  Z\n",
       "  \" fill=\"#009af9\" fill-rule=\"evenodd\" fill-opacity=\"0.5\"/>\n",
       "<polyline clip-path=\"url(#clip212)\" style=\"stroke:#000000; stroke-width:4; stroke-opacity:0.5; fill:none\" points=\"\n",
       "  1936.44,517.703 1936.44,517.703 2063.86,538.149 2139.24,538.149 2170.37,454.463 2170.37,383.544 2042.95,363.098 1967.57,363.098 1936.44,446.785 1936.44,517.703 \n",
       "  \n",
       "  \"/>\n",
       "<path clip-path=\"url(#clip212)\" d=\"\n",
       "M1990.33 579.112 L2113 609.685 L2176.35 609.685 L2222.89 529.119 L2222.89 454.229 L2100.22 423.657 L2036.88 423.657 L2036.88 423.657 L1990.33 504.223 L1990.33 579.112 \n",
       "  L1990.33 579.112  Z\n",
       "  \" fill=\"#009af9\" fill-rule=\"evenodd\" fill-opacity=\"0.5\"/>\n",
       "<polyline clip-path=\"url(#clip212)\" style=\"stroke:#000000; stroke-width:4; stroke-opacity:0.5; fill:none\" points=\"\n",
       "  1990.33,579.112 2113,609.685 2176.35,609.685 2222.89,529.119 2222.89,454.229 2100.22,423.657 2036.88,423.657 2036.88,423.657 1990.33,504.223 1990.33,579.112 \n",
       "  \n",
       "  \"/>\n",
       "<path clip-path=\"url(#clip212)\" d=\"\n",
       "M2032.68 642.817 L2148.82 682.968 L2199.7 682.968 L2260.84 606.689 L2260.84 528.841 L2144.7 488.69 L2093.81 488.69 L2093.81 488.69 L2032.68 564.968 L2032.68 642.817 \n",
       "  L2032.68 642.817  Z\n",
       "  \" fill=\"#009af9\" fill-rule=\"evenodd\" fill-opacity=\"0.5\"/>\n",
       "<polyline clip-path=\"url(#clip212)\" style=\"stroke:#000000; stroke-width:4; stroke-opacity:0.5; fill:none\" points=\"\n",
       "  2032.68,642.817 2148.82,682.968 2199.7,682.968 2260.84,606.689 2260.84,528.841 2144.7,488.69 2093.81,488.69 2093.81,488.69 2032.68,564.968 2032.68,642.817 \n",
       "  \n",
       "  \"/>\n",
       "<path clip-path=\"url(#clip212)\" d=\"\n",
       "M2063.29 707.998 L2171.25 757.079 L2209.31 757.079 L2284.04 686.174 L2284.04 606.372 L2176.08 557.292 L2138.02 557.292 L2138.02 557.292 L2063.29 628.196 L2063.29 707.998 \n",
       "  L2063.29 707.998  Z\n",
       "  \" fill=\"#009af9\" fill-rule=\"evenodd\" fill-opacity=\"0.5\"/>\n",
       "<polyline clip-path=\"url(#clip212)\" style=\"stroke:#000000; stroke-width:4; stroke-opacity:0.5; fill:none\" points=\"\n",
       "  2063.29,707.998 2171.25,757.079 2209.31,757.079 2284.04,686.174 2284.04,606.372 2176.08,557.292 2138.02,557.292 2138.02,557.292 2063.29,628.196 2063.29,707.998 \n",
       "  \n",
       "  \"/>\n",
       "<path clip-path=\"url(#clip212)\" d=\"\n",
       "M2085.5 732.701 L2085.5 732.701 L2186.77 787.678 L2197.66 787.678 L2281.37 721.167 L2281.37 721.167 L2281.37 685.822 L2180.1 630.844 L2169.21 630.844 L2085.5 697.355 \n",
       "  L2085.5 732.701 L2085.5 732.701  Z\n",
       "  \" fill=\"#009af9\" fill-rule=\"evenodd\" fill-opacity=\"0.5\"/>\n",
       "<polyline clip-path=\"url(#clip212)\" style=\"stroke:#000000; stroke-width:4; stroke-opacity:0.5; fill:none\" points=\"\n",
       "  2085.5,732.701 2085.5,732.701 2186.77,787.678 2197.66,787.678 2281.37,721.167 2281.37,721.167 2281.37,685.822 2180.1,630.844 2169.21,630.844 2085.5,697.355 \n",
       "  2085.5,732.701 \n",
       "  \"/>\n",
       "</svg>\n"
      ]
     },
     "execution_count": 65,
     "metadata": {},
     "output_type": "execute_result"
    }
   ],
   "source": [
    "plot(sol, vars=(1, 2))"
   ]
  },
  {
   "cell_type": "code",
   "execution_count": null,
   "metadata": {},
   "outputs": [],
   "source": []
  },
  {
   "cell_type": "code",
   "execution_count": null,
   "metadata": {},
   "outputs": [],
   "source": []
  },
  {
   "cell_type": "code",
   "execution_count": null,
   "metadata": {},
   "outputs": [],
   "source": []
  }
 ],
 "metadata": {
  "@webio": {
   "lastCommId": null,
   "lastKernelId": null
  },
  "kernelspec": {
   "display_name": "Julia 1.5.2",
   "language": "julia",
   "name": "julia-1.5"
  },
  "language_info": {
   "file_extension": ".jl",
   "mimetype": "application/julia",
   "name": "julia",
   "version": "1.5.2"
  }
 },
 "nbformat": 4,
 "nbformat_minor": 2
}
