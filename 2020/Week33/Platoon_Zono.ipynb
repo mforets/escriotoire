{
 "cells": [
  {
   "cell_type": "code",
   "execution_count": 1,
   "metadata": {},
   "outputs": [
    {
     "name": "stderr",
     "output_type": "stream",
     "text": [
      "┌ Info: Precompiling ReachabilityAnalysis [1e97bd63-91d1-579d-8e8d-501d2b57c93f]\n",
      "└ @ Base loading.jl:1278\n",
      "┌ Warning: Replacing docs for `LazySets.HPolyhedron :: Union{Tuple{Array{var\"#s49\",1} where var\"#s49\"<:Operation}, Tuple{Array{var\"#s48\",1} where var\"#s48\"<:Operation,Any}}` in module `LazySets`\n",
      "└ @ Base.Docs docs/Docs.jl:227\n",
      "┌ Warning: Replacing docs for `LazySets.HPolytope :: Union{Tuple{Array{var\"#s49\",1} where var\"#s49\"<:Operation}, Tuple{Array{var\"#s48\",1} where var\"#s48\"<:Operation,Any}}` in module `LazySets`\n",
      "└ @ Base.Docs docs/Docs.jl:227\n"
     ]
    }
   ],
   "source": [
    "using Revise, ReachabilityAnalysis, SparseArrays, ModelingToolkit"
   ]
  },
  {
   "cell_type": "code",
   "execution_count": 2,
   "metadata": {},
   "outputs": [
    {
     "data": {
      "text/plain": [
       "platoon (generic function with 1 method)"
      ]
     },
     "execution_count": 2,
     "metadata": {},
     "output_type": "execute_result"
    }
   ],
   "source": [
    "const var = @variables x[1:9] t\n",
    "\n",
    "function platoon_connected(; deterministic_switching::Bool=true,\n",
    "                             c1=5.0)  # clock constraints\n",
    "    n = 9 + 1\n",
    "\n",
    "    # x' = Ax + Bu + c\n",
    "    A = Matrix{Float64}(undef, n, n)\n",
    "    A[1, :] = [0, 1.0, 0, 0, 0, 0, 0, 0, 0, 0]\n",
    "    A[2, :] = [0, 0, -1.0, 0, 0, 0, 0, 0, 0, 0]\n",
    "    A[3, :] = [1.6050, 4.8680, -3.5754, -0.8198, 0.4270, -0.0450, -0.1942,  0.3626, -0.0946, 0.]\n",
    "    A[4, :] = [0, 0, 0, 0, 1.0, 0, 0, 0, 0, 0,]\n",
    "    A[5, :] = [0, 0, 1.0, 0, 0, -1.0, 0, 0, 0, 0]\n",
    "    A[6, :] = [0.8718, 3.8140, -0.0754,  1.1936, 3.6258, -3.2396, -0.5950,  0.1294, -0.0796, 0.]\n",
    "    A[7, :] = [0, 0, 0, 0, 0, 0, 0, 1.0, 0, 0]\n",
    "    A[8, :] = [0, 0, 0, 0, 0, 1.0, 0, 0, -1.0, 0]\n",
    "    A[9, :] = [0.7132, 3.5730, -0.0964,  0.8472, 3.2568, -0.0876,  1.2726,  3.0720, -3.1356, 0.]\n",
    "    A[10, :] = [0, 0, 0, 0, 0, 0, 0, 0, 0, 0.0]; # t' = 1\n",
    "\n",
    "    if deterministic_switching\n",
    "        invariant = HalfSpace(t <= c1, var)\n",
    "    else\n",
    "        invariant = Universe(n)\n",
    "    end\n",
    "\n",
    "    # acceleration of the lead vehicle + time\n",
    "    B = sparse([2], [1], [1.0], n, 1)\n",
    "    U = Hyperrectangle(low=[-9.], high=[1.])\n",
    "    c = [0, 0, 0, 0, 0, 0, 0, 0, 0, 1.0]\n",
    "    @system(x' = Ax + Bu + c, x ∈ invariant, u ∈ U)\n",
    "end\n",
    "\n",
    "function platoon_disconnected(; deterministic_switching::Bool=true,\n",
    "                                c2=5.0)  # clock constraints\n",
    "    n = 10 # 9 dimensions + time\n",
    "\n",
    "    # x' = Ax + Bu + c\n",
    "    A = Matrix{Float64}(undef, n, n)\n",
    "    A[1, :] = [0, 1.0, 0, 0, 0, 0, 0, 0, 0, 0]\n",
    "    A[2, :] = [0, 0, -1.0, 0, 0, 0, 0, 0, 0, 0]\n",
    "    A[3, :] = [1.6050, 4.8680, -3.5754, 0, 0, 0, 0, 0, 0, 0]\n",
    "    A[4, :] = [0, 0, 0, 0, 1.0, 0, 0, 0, 0, 0,]\n",
    "    A[5, :] = [0, 0, 1.0, 0, 0, -1.0, 0, 0, 0, 0]\n",
    "    A[6, :] = [0, 0, 0,  1.1936, 3.6258, -3.2396, 0, 0, 0, 0.]\n",
    "    A[7, :] = [0, 0, 0, 0, 0, 0, 0, 1.0, 0, 0]\n",
    "    A[8, :] = [0, 0, 0, 0, 0, 1.0, 0, 0, -1.0, 0]\n",
    "    A[9, :] = [0.7132, 3.5730, -0.0964,  0.8472, 3.2568, -0.0876,  1.2726,  3.0720, -3.1356, 0.]\n",
    "    A[10, :] = [0, 0, 0, 0, 0, 0, 0, 0, 0, 0.0]; # t' = 1\n",
    "\n",
    "    if deterministic_switching\n",
    "        invariant = HalfSpace(t <= c2, var)\n",
    "    else\n",
    "        invariant = Universe(n)\n",
    "    end\n",
    "\n",
    "    #acceleration of the lead vehicle + time\n",
    "    B = sparse([2], [1], [1.0], n, 1)\n",
    "    U = Hyperrectangle(low=[-9.], high=[1.])\n",
    "    c = [0, 0, 0, 0, 0, 0, 0, 0, 0, 1.0]\n",
    "    @system(x' = Ax + Bu + c, x ∈ invariant, u ∈ U)\n",
    "end\n",
    "\n",
    "function platoon(; deterministic_switching::Bool=true,\n",
    "                   c1=5.0,  # clock constraints\n",
    "                   c2=5.0,  # clock constraints\n",
    "                   tb=10.0,  # lower bound for loss of communication\n",
    "                   tc=20.0, tr=20.0) # upper bound for loss of communication (tc) and reset time (tr)\n",
    "\n",
    "    #three variables for each vehicle, (ei, d(et)/dt, ai) for\n",
    "    #(spacing error, relative velocity, speed), and the last dimension is time\n",
    "    n = 9 + 1\n",
    "\n",
    "    #transition graph\n",
    "    automaton = LightAutomaton(2)\n",
    "    add_transition!(automaton, 1, 2, 1)\n",
    "    add_transition!(automaton, 2, 1, 2)\n",
    "\n",
    "    #modes\n",
    "    mode1 = platoon_connected(deterministic_switching=deterministic_switching, c1=c1)\n",
    "    mode2 = platoon_disconnected(deterministic_switching=deterministic_switching, c2=c2)\n",
    "    modes = [mode1, mode2]\n",
    "\n",
    "    #common reset\n",
    "    reset = Dict(n => 0.)\n",
    "\n",
    "    #transition l1 -> l2\n",
    "    if deterministic_switching\n",
    "        guard = Hyperplane(t == c1, var)\n",
    "    else\n",
    "        guard = HPolyhedron([tb <= t, t <= tc], var)\n",
    "    end\n",
    "    t1 = ConstrainedResetMap(n, guard, reset)\n",
    "\n",
    "    #transition l2 -> l1\n",
    "    if deterministic_switching\n",
    "        guard = Hyperplane(t == c2, var)\n",
    "    else\n",
    "        guard = HalfSpace(t <= tr, var)\n",
    "    end\n",
    "    t2 = ConstrainedResetMap(n, guard, reset)\n",
    "    resetmaps = [t1, t2]\n",
    "\n",
    "    H = HybridSystem(automaton, modes, resetmaps, [AutonomousSwitching()])\n",
    "\n",
    "    #initial condition is at the orgin in mode 1\n",
    "    X0 = BallInf(zeros(n), 0.0)\n",
    "    initial_condition = [(1, X0)]\n",
    "\n",
    "    return IVP(H, initial_condition)\n",
    "end"
   ]
  },
  {
   "cell_type": "code",
   "execution_count": 3,
   "metadata": {},
   "outputs": [
    {
     "data": {
      "text/plain": [
       "ConstrainedAffineControlContinuousSystem{Float64,Array{Float64,2},SparseMatrixCSC{Float64,Int64},Array{Float64,1},HalfSpace{Float64,Array{Float64,1}},Hyperrectangle{Float64,Array{Float64,1},Array{Float64,1}}}([0.0 1.0 … 0.0 0.0; 0.0 0.0 … 0.0 0.0; … ; 0.7132 3.573 … -3.1356 0.0; 0.0 0.0 … 0.0 0.0], \n",
       "  [2, 1]  =  1.0, [0.0, 0.0, 0.0, 0.0, 0.0, 0.0, 0.0, 0.0, 0.0, 1.0], HalfSpace{Float64,Array{Float64,1}}([0.0, 0.0, 0.0, 0.0, 0.0, 0.0, 0.0, 0.0, 0.0, 1.0], 5.0), Hyperrectangle{Float64,Array{Float64,1},Array{Float64,1}}([-4.0], [5.0]))"
      ]
     },
     "execution_count": 3,
     "metadata": {},
     "output_type": "execute_result"
    }
   ],
   "source": [
    "platoon_connected()"
   ]
  },
  {
   "cell_type": "markdown",
   "metadata": {},
   "source": [
    "## Estudio de la parte puramente continua (connected)"
   ]
  },
  {
   "cell_type": "markdown",
   "metadata": {},
   "source": [
    "Solucion del problema continuo:"
   ]
  },
  {
   "cell_type": "code",
   "execution_count": null,
   "metadata": {},
   "outputs": [],
   "source": [
    "# problema puramente continuo\n",
    "ivp1 = IVP(platoon_connected(), BallInf(zeros(10), 0.0));"
   ]
  },
  {
   "cell_type": "code",
   "execution_count": null,
   "metadata": {},
   "outputs": [],
   "source": [
    "# resuelvo el problema puramente continuo\n",
    "@time sol1 = solve(ivp1, tspan=(0.0, 20.0), alg=GLGM06(δ=0.03));"
   ]
  },
  {
   "cell_type": "code",
   "execution_count": null,
   "metadata": {},
   "outputs": [],
   "source": [
    "# prueba con static arrays\n",
    "using StaticArrays, BenchmarkTools\n",
    "\n",
    "@time sol1 = solve(ivp1, tspan=(0.0, 20.0), alg=GLGM06(δ=0.03, static=true, dim=10, max_order=1, ngens=10));"
   ]
  },
  {
   "cell_type": "markdown",
   "metadata": {},
   "source": [
    "Ahora hacemos la transicion \"a mano\":"
   ]
  },
  {
   "cell_type": "markdown",
   "metadata": {},
   "source": [
    "Resultados:\n",
    "\n",
    "```julia\n",
    "@btime sol1 = solve($ivp1, tspan=(0.0, 20.0), alg=GLGM06(δ=0.03, static=true, dim=10, max_order=1, ngens=10));\n",
    "\n",
    "  959.459 μs (3458 allocations: 2.30 MiB)\n",
    "\n",
    "@btime sol1 = solve($ivp1, tspan=(0.0, 20.0), alg=GLGM06(δ=0.03));\n",
    "  2.310 ms (5978 allocations: 4.44 MiB)\n",
    "\n",
    "```"
   ]
  },
  {
   "cell_type": "markdown",
   "metadata": {},
   "source": [
    "Observaciones:\n",
    "\n",
    "- hacer tablita con `@btime` de cada algoritmo\n",
    "- GLGM06 con arrays regulares\n",
    "- GLGM06 con static arrays\n",
    "- BOX (sin static)\n",
    "- BOX (con static no porque no esta implementado, creo)\n",
    "- TMJets"
   ]
  },
  {
   "cell_type": "markdown",
   "metadata": {},
   "source": [
    "#### Try with TMJets"
   ]
  },
  {
   "cell_type": "code",
   "execution_count": null,
   "metadata": {},
   "outputs": [],
   "source": [
    "plac = platoon_connected()\n",
    "const Aext = ReachabilityAnalysis.add_dimension(plac.A, 1)\n",
    "const bext = vcat(plac.c, 0.0)\n",
    "\n",
    "# compute Ax + b and store the result in v\n",
    "function mymulb!(v, A, x, b)\n",
    "    @inbounds for ind = 1:length(v)\n",
    "        v[ind] = b[ind]\n",
    "        for jind = 1:length(x)\n",
    "            v[ind] += A[ind, jind] * x[jind]\n",
    "        end\n",
    "    end\n",
    "    return nothing\n",
    "end\n",
    "\n",
    "# z contains 9 state variables, 1 variable for time, and 1 variable for the non-deterministic input \n",
    "@taylorize function _platoon_connected!(dz, z, p, t)\n",
    "    \n",
    "    x1, x2, x3, x4, x5, x6, x7, x8, x9, t′, u = z\n",
    "\n",
    "    # x' = Ax + Bu + c, with Bu a state variable applided in the second coefficient\n",
    "    # c1 = 5.0\n",
    "    z′ = Vector{eltype(z)}(undef, 11)\n",
    "    \n",
    "    z′[1] = one(x1)\n",
    "    z′[2] = one(x1)\n",
    "    z′[3] = one(x1)\n",
    "    z′[4] = one(x1)\n",
    "    z′[5] = one(x1)\n",
    "    z′[6] = one(x1)\n",
    "    z′[7] = one(x1)\n",
    "    z′[8] = one(x1)\n",
    "    z′[9] = one(x1)\n",
    "    z′[10] = one(x1)\n",
    "    z′[11] = one(x1)\n",
    "    \n",
    "    #z′[2] = z′[2] + u\n",
    "    #mymulb!(z′, Aext, z, bext)\n",
    "    dz[1] = z′[1]\n",
    "    dz[2] = z′[2]\n",
    "    dz[3] = z′[3]\n",
    "    dz[4] = z′[4]\n",
    "    dz[5] = z′[5]\n",
    "    dz[6] = z′[6]\n",
    "    dz[7] = z′[7]\n",
    "    dz[8] = z′[8]\n",
    "    dz[9] = z′[9]\n",
    "    dz[10] = z′[10]\n",
    "    dz[11] = z′[11]\n",
    "end"
   ]
  },
  {
   "cell_type": "code",
   "execution_count": null,
   "metadata": {},
   "outputs": [],
   "source": [
    "U0 = plac.U\n",
    "X0 = BallInf(zeros(10), 0.0)\n",
    "invariant = plac.X × Universe(1)\n",
    "ivp2 = @ivp(z' = _platoon_connected!(z), dim=11, z(0) ∈ X0 × U0, z ∈ invariant);\n",
    "@time sol1 = solve(ivp2, tspan=(0.0, 20.0), alg=TMJets());"
   ]
  },
  {
   "cell_type": "markdown",
   "metadata": {},
   "source": [
    "- dejamos porque sigue dando problemas...."
   ]
  },
  {
   "cell_type": "markdown",
   "metadata": {},
   "source": [
    "-----"
   ]
  },
  {
   "cell_type": "markdown",
   "metadata": {},
   "source": [
    "### Estudiar la 1er transicion."
   ]
  },
  {
   "cell_type": "code",
   "execution_count": null,
   "metadata": {},
   "outputs": [],
   "source": [
    "@time sol1 = solve(ivp1, tspan=(0.0, 20.0), alg=GLGM06(δ=0.03));"
   ]
  },
  {
   "cell_type": "code",
   "execution_count": null,
   "metadata": {},
   "outputs": [],
   "source": [
    "using Plots"
   ]
  },
  {
   "cell_type": "code",
   "execution_count": null,
   "metadata": {},
   "outputs": [],
   "source": [
    "guard = Hyperplane(t == 5.0, var)"
   ]
  },
  {
   "cell_type": "code",
   "execution_count": null,
   "metadata": {},
   "outputs": [],
   "source": [
    "plot(sol1,vars=(0, 1), xlab=\"t\", ylab=\"x1\")"
   ]
  },
  {
   "cell_type": "code",
   "execution_count": null,
   "metadata": {},
   "outputs": [],
   "source": [
    "plot(sol1,vars=(0, 4), xlab=\"t\", ylab=\"x4\")"
   ]
  },
  {
   "cell_type": "code",
   "execution_count": null,
   "metadata": {},
   "outputs": [],
   "source": [
    "plot(sol1,vars=(0, 7), xlab=\"t\", ylab=\"x7\")"
   ]
  },
  {
   "cell_type": "code",
   "execution_count": null,
   "metadata": {},
   "outputs": [],
   "source": [
    "plot(sol1,vars=(0, 10), xlab=\"t\", ylab=\"time variable\")"
   ]
  },
  {
   "cell_type": "code",
   "execution_count": null,
   "metadata": {},
   "outputs": [],
   "source": [
    "source_invariant = stateset(ivp1) # t <= 5.0"
   ]
  },
  {
   "cell_type": "code",
   "execution_count": null,
   "metadata": {},
   "outputs": [],
   "source": [
    "# la condicion inicial va a ser lo que resulte del apply\n",
    "ivp2 = IVP(platoon_disconnected(), BallInf(zeros(10), 0.0));\n",
    "target_invariant = stateset(ivp2) # t <= 5"
   ]
  },
  {
   "cell_type": "code",
   "execution_count": null,
   "metadata": {},
   "outputs": [],
   "source": [
    "prob_PLAD01_BND30 = platoon(; deterministic_switching=true);"
   ]
  },
  {
   "cell_type": "code",
   "execution_count": null,
   "metadata": {},
   "outputs": [],
   "source": [
    "L = prob_PLAD01_BND30.s.resetmaps[1] # y = Rx + c\n",
    "\n",
    "R = ReachabilityAnalysis._state_matrix(L)\n",
    "W = ReachabilityAnalysis._affine_term(L);"
   ]
  },
  {
   "cell_type": "code",
   "execution_count": null,
   "metadata": {},
   "outputs": [],
   "source": [
    "W"
   ]
  },
  {
   "cell_type": "markdown",
   "metadata": {},
   "source": [
    "post_d(X) = (R(X ∩ G ∩ I⁻) ⊕ W) ∩ I⁺"
   ]
  },
  {
   "cell_type": "code",
   "execution_count": null,
   "metadata": {},
   "outputs": [],
   "source": [
    "Z"
   ]
  },
  {
   "cell_type": "code",
   "execution_count": null,
   "metadata": {},
   "outputs": [],
   "source": [
    "I⁺"
   ]
  },
  {
   "cell_type": "code",
   "execution_count": null,
   "metadata": {},
   "outputs": [],
   "source": [
    "Z = set(sol1[end-1])\n",
    "I⁺ = tr.I⁺\n",
    "@which Z ⊆ I⁺"
   ]
  },
  {
   "cell_type": "code",
   "execution_count": null,
   "metadata": {},
   "outputs": [],
   "source": [
    "@btime LazySets._issubset_constraints_list($Z, $I⁺)"
   ]
  },
  {
   "cell_type": "code",
   "execution_count": null,
   "metadata": {},
   "outputs": [],
   "source": [
    "@btime $Z ⊆ $I⁺"
   ]
  },
  {
   "cell_type": "code",
   "execution_count": null,
   "metadata": {},
   "outputs": [],
   "source": []
  },
  {
   "cell_type": "code",
   "execution_count": null,
   "metadata": {},
   "outputs": [],
   "source": [
    "guard # t == 5\n",
    "I⁻ # t <= 5\n",
    "\n",
    "# la interseccion da t == 5"
   ]
  },
  {
   "cell_type": "code",
   "execution_count": null,
   "metadata": {},
   "outputs": [],
   "source": [
    "intersection(source_invariant, guard)"
   ]
  },
  {
   "cell_type": "markdown",
   "metadata": {},
   "source": [
    "Dado un hyperplane $G : \\{ x \\in \\mathbb{R}^n : a_G^T x = b_G\\}$"
   ]
  },
  {
   "cell_type": "markdown",
   "metadata": {},
   "source": [
    "Dado un halfspace $H : \\{ x \\in \\mathbb{R}^n : a_H^T x \\leq b_H\\}$"
   ]
  },
  {
   "cell_type": "markdown",
   "metadata": {},
   "source": [
    "$a_G = α a_H$"
   ]
  },
  {
   "cell_type": "markdown",
   "metadata": {},
   "source": [
    "$$\n",
    "\\alpha a_H^T x = b_G\n",
    "$$"
   ]
  },
  {
   "cell_type": "markdown",
   "metadata": {},
   "source": [
    "$a_H^T x = b_G  / \\alpha$"
   ]
  },
  {
   "cell_type": "markdown",
   "metadata": {},
   "source": [
    "$b_G /\\alpha \\leq b_H$"
   ]
  },
  {
   "cell_type": "code",
   "execution_count": null,
   "metadata": {},
   "outputs": [],
   "source": [
    "using LazySets.Arrays\n",
    "\n",
    "# given a hyperplane G and a half-space H,\n",
    "# return true iff G ∩ H = G\n",
    "function _intersection_is_hyperplane(G::Hyperplane, H::HalfSpace)\n",
    "    aG, bG = G.a, G.b\n",
    "    aH, bH = H.a, H.b\n",
    "\n",
    "    # check aG = α * aH with α > 0\n",
    "    isprop, α = samedir(aG, aH)\n",
    "    if isprop\n",
    "        return bG / α ≤ bH\n",
    "    end\n",
    "    \n",
    "    # check aG = -α * aH with α > 0\n",
    "    isprop, α = samedir(-aG, aH)\n",
    "    if isprop\n",
    "        return bG / (-α) ≤ bH\n",
    "    end\n",
    "\n",
    "    return false\n",
    "end"
   ]
  },
  {
   "cell_type": "markdown",
   "metadata": {},
   "source": [
    "$$\n",
    "H : a_1 x + a_2 y \\leq b\n",
    "$$"
   ]
  },
  {
   "cell_type": "markdown",
   "metadata": {},
   "source": [
    "$$\n",
    "G : 2a_1 x + 2a_2 y = b\n",
    "$$"
   ]
  },
  {
   "cell_type": "code",
   "execution_count": null,
   "metadata": {},
   "outputs": [],
   "source": [
    "H = rand(HalfSpace)\n",
    "G = Hyperplane(2.0 * H.a, H.b)\n",
    "\n",
    "@show _intersection_is_hyperplane(G, H)\n",
    "\n",
    "plot(H)\n",
    "plot!(G, lw=2.0)"
   ]
  },
  {
   "cell_type": "code",
   "execution_count": null,
   "metadata": {},
   "outputs": [],
   "source": [
    "@btime _intersection_is_hyperplane($G, $H)"
   ]
  },
  {
   "cell_type": "code",
   "execution_count": null,
   "metadata": {},
   "outputs": [],
   "source": [
    "# naive implementation\n",
    "@btime isequivalent(intersection($G, $H), $G)"
   ]
  },
  {
   "cell_type": "code",
   "execution_count": null,
   "metadata": {},
   "outputs": [],
   "source": []
  },
  {
   "cell_type": "code",
   "execution_count": null,
   "metadata": {},
   "outputs": [],
   "source": [
    "# TODO review, generalize R and W types ?\n",
    "using LinearAlgebra\n",
    "\n",
    "function _apply(tr::DiscreteTransition{<:Diagonal{N}, <:Singleton{N}, GT, IT⁻, IT⁺},\n",
    "                X::Zonotope{N}, # depende tambien del clustering\n",
    "                method::TemplateHullIntersection) where {N, GT<:Hyperplane{N},\n",
    "                                                            IT⁻<:HalfSpace{N},\n",
    "                                                            IT⁺<:HalfSpace{N}}\n",
    "    Y = overapproximate(X ∩ tr.G, method.dirs)\n",
    "    Z = overapproximate(Y, Zonotope, algorithm=\"cpa\")\n",
    "\n",
    "    #=\n",
    "    success, aux = _intersection(tr.G, tr.I⁻, method)\n",
    "    !success && return EmptySet(dim(X))\n",
    "    P = HPolyhedron(aux)\n",
    "    for x in\n",
    "        addconstraint!(P, x)\n",
    "    end\n",
    "    Y = _apply_reset(R, P, W, method)\n",
    "\n",
    "    success, out = _intersection(Y, tr.I⁺, method)\n",
    "    return success ? HPolytope(out) : EmptySet(dim(X))\n",
    "    =#\n",
    "end"
   ]
  },
  {
   "cell_type": "code",
   "execution_count": null,
   "metadata": {},
   "outputs": [],
   "source": [
    "tr = DiscreteTransition(R, W, guard, source_invariant, target_invariant)"
   ]
  },
  {
   "cell_type": "code",
   "execution_count": null,
   "metadata": {},
   "outputs": [],
   "source": [
    "X = set(sol1[end])\n",
    "\n",
    "_apply(tr, X, TemplateHullIntersection())"
   ]
  },
  {
   "cell_type": "code",
   "execution_count": null,
   "metadata": {},
   "outputs": [],
   "source": [
    "plot(sol1[end-10:end],vars=(10, 1), xlab=\"t\", ylab=\"x1\")\n",
    "\n",
    "#plot(Projection(stateset(ivp1), (10, 1))) # RARO ... es unbounded\n",
    "#AssertionError: package 'Polyhedra' not loaded (it is required for executing `linear_map with elimination`)\n",
    "\n",
    "plot!(Hyperplane([1.0, 0.0], 5.0), lw=2.0)"
   ]
  },
  {
   "cell_type": "code",
   "execution_count": null,
   "metadata": {},
   "outputs": [],
   "source": [
    "#=\n",
    "isdisjoint(sol1, rand(Hyperplane, dim=10))\n",
    "\n",
    "MethodError: no method matching length(::Hyperplane{Float64,Array{Float64,1}})\n",
    "Closest candidates are:\n",
    "  length(!Matched::Base.MethodList) at reflection.jl:852\n",
    "  length(!Matched::Combinatorics.IntegerPartitions) at /home/mforets/.julia/packages/Combinatorics/Udg6X/src/partitions.jl:17\n",
    "  length(!Matched::RecipesPipeline.DefaultsDict) at /home/mforets/.julia/packages/RecipesPipeline/5RD7m/src/utils.jl:34\n",
    "\n",
    "=#"
   ]
  },
  {
   "cell_type": "code",
   "execution_count": null,
   "metadata": {},
   "outputs": [],
   "source": [
    "aux = [isdisjoint(set(R), guard) for R in sol1]\n",
    "aux[end-10:end]"
   ]
  },
  {
   "cell_type": "code",
   "execution_count": null,
   "metadata": {},
   "outputs": [],
   "source": [
    "X = sol1[end]"
   ]
  },
  {
   "cell_type": "code",
   "execution_count": null,
   "metadata": {},
   "outputs": [],
   "source": [
    "plot(X,vars=(3, 4))"
   ]
  },
  {
   "cell_type": "code",
   "execution_count": null,
   "metadata": {},
   "outputs": [],
   "source": []
  },
  {
   "cell_type": "code",
   "execution_count": null,
   "metadata": {},
   "outputs": [],
   "source": []
  },
  {
   "cell_type": "markdown",
   "metadata": {},
   "source": [
    "### Estudiar las otras transiciones."
   ]
  },
  {
   "cell_type": "code",
   "execution_count": null,
   "metadata": {},
   "outputs": [],
   "source": []
  },
  {
   "cell_type": "markdown",
   "metadata": {},
   "source": [
    "## Estudio de todo el sistema hibrido"
   ]
  },
  {
   "cell_type": "code",
   "execution_count": null,
   "metadata": {},
   "outputs": [],
   "source": [
    "#=\n",
    "alg = GLGM06(δ=0.03);\n",
    "@time sol = solve(prob_PLAD01_BND30,\n",
    "                  alg=alg,\n",
    "                  clustering_method=ZonotopeClustering(),\n",
    "                  intersect_source_invariant=false,\n",
    "                  tspan = (0.0 .. 20.0));\n",
    "=#"
   ]
  },
  {
   "cell_type": "code",
   "execution_count": null,
   "metadata": {},
   "outputs": [],
   "source": [
    "ReachabilityAnalysis.Template"
   ]
  },
  {
   "cell_type": "code",
   "execution_count": 7,
   "metadata": {},
   "outputs": [
    {
     "data": {
      "text/plain": [
       "InitialValueProblem{HybridSystem{LightAutomaton{LightGraphs.SimpleGraphs.SimpleDiGraph{Int64},LightGraphs.SimpleGraphs.SimpleEdge{Int64}},ConstrainedAffineControlContinuousSystem{Float64,Array{Float64,2},SparseMatrixCSC{Float64,Int64},Array{Float64,1},HalfSpace{Float64,Array{Float64,1}},Hyperrectangle{Float64,Array{Float64,1},Array{Float64,1}}},ConstrainedResetMap{Float64,Hyperplane{Float64,Array{Float64,1}}},AutonomousSwitching,Array{ConstrainedAffineControlContinuousSystem{Float64,Array{Float64,2},SparseMatrixCSC{Float64,Int64},Array{Float64,1},HalfSpace{Float64,Array{Float64,1}},Hyperrectangle{Float64,Array{Float64,1},Array{Float64,1}}},1},Array{ConstrainedResetMap{Float64,Hyperplane{Float64,Array{Float64,1}}},1},Array{AutonomousSwitching,1}},Array{Tuple{Int64,BallInf{Float64,Array{Float64,1}}},1}}(Hybrid System with automaton LightAutomaton{LightGraphs.SimpleGraphs.SimpleDiGraph{Int64},LightGraphs.SimpleGraphs.SimpleEdge{Int64}}({2, 2} directed simple Int64 graph, Dict{LightGraphs.SimpleGraphs.SimpleEdge{Int64},Dict{Int64,Int64}}(Edge 1 => 2 => Dict(1 => 1),Edge 2 => 1 => Dict(2 => 2)), 2, 2), Tuple{Int64,BallInf{Float64,Array{Float64,1}}}[(1, BallInf{Float64,Array{Float64,1}}([0.0, 0.0, 0.0, 0.0, 0.0, 0.0, 0.0, 0.0, 0.0, 0.0], 0.0))])"
      ]
     },
     "execution_count": 7,
     "metadata": {},
     "output_type": "execute_result"
    }
   ],
   "source": [
    "octdirs = OctDirections(10);\n",
    "prob_PLAD01_BND30 = platoon()"
   ]
  },
  {
   "cell_type": "code",
   "execution_count": 14,
   "metadata": {},
   "outputs": [],
   "source": [
    "using Optim, Plots"
   ]
  },
  {
   "cell_type": "code",
   "execution_count": 34,
   "metadata": {},
   "outputs": [
    {
     "data": {
      "text/plain": [
       "1.0e-15"
      ]
     },
     "execution_count": 34,
     "metadata": {},
     "output_type": "execute_result"
    }
   ],
   "source": [
    "LazySets.set_rtol(Float64, 1e-15)\n",
    "LazySets.set_ztol(Float64, 1e-15)\n",
    "LazySets.set_atol(Float64, 1e-15)"
   ]
  },
  {
   "cell_type": "code",
   "execution_count": 112,
   "metadata": {},
   "outputs": [
    {
     "name": "stdout",
     "output_type": "stream",
     "text": [
      "index of sets that take the jump: [500, 501]\n",
      "index of sets that take the jump: [500, 501]\n",
      "index of sets that take the jump: [500, 501]\n",
      "index of sets that take the jump: [500, 501]\n",
      "index of sets that take the jump: Int64[]\n",
      "  2.323609 seconds (6.23 M allocations: 1.005 GiB, 6.33% gc time)\n"
     ]
    }
   ],
   "source": [
    "#alg = GLGM06(δ=0.00005); # doesn't take the jump...??\n",
    "\n",
    "alg = GLGM06(δ=0.01, max_order=100);\n",
    "\n",
    "@time sol = solve(prob_PLAD01_BND30,\n",
    "                  alg=alg,\n",
    "                  clustering_method=ZonotopeClustering(),\n",
    "                  intersect_source_invariant=false,\n",
    "                  intersection_method=ReachabilityAnalysis.TemplateHullIntersectionZonotope(octdirs),\n",
    "                  tspan = (0.0 .. 20.0));"
   ]
  },
  {
   "cell_type": "code",
   "execution_count": 113,
   "metadata": {},
   "outputs": [
    {
     "data": {
      "text/plain": [
       "-33.08588654881664"
      ]
     },
     "execution_count": 113,
     "metadata": {},
     "output_type": "execute_result"
    }
   ],
   "source": [
    "-ρ(sparsevec([1], [-1.0], 10), sol)"
   ]
  },
  {
   "cell_type": "code",
   "execution_count": 114,
   "metadata": {},
   "outputs": [
    {
     "name": "stderr",
     "output_type": "stream",
     "text": [
      "WARNING: using Polyhedra.HalfSpace in module Main conflicts with an existing identifier.\n",
      "┌ Warning: Replacing docs for `LazySets.HPolytope :: Union{Tuple{Union{HRepresentation{N}, Polyhedron{N}}}, Tuple{N}} where N` in module `LazySets`\n",
      "└ @ Base.Docs docs/Docs.jl:227\n",
      "┌ Warning: Replacing docs for `LazySets.HPolyhedron :: Union{Tuple{Union{HRepresentation{N}, Polyhedron{N}}}, Tuple{N}} where N` in module `LazySets`\n",
      "└ @ Base.Docs docs/Docs.jl:227\n",
      "┌ Warning: Replacing docs for `Polyhedra.polyhedron :: Union{Tuple{Union{HPolyhedron{N,VN} where VN<:AbstractArray{N,1}, HPolytope{N,VN} where VN<:AbstractArray{N,1}}}, Tuple{N}} where N<:Real` in module `LazySets`\n",
      "└ @ Base.Docs docs/Docs.jl:227\n",
      "┌ Warning: Replacing docs for `Polyhedra.polyhedron :: Union{Tuple{VPolytope{N,VN} where VN<:AbstractArray{N,1}}, Tuple{N}} where N<:Real` in module `LazySets`\n",
      "└ @ Base.Docs docs/Docs.jl:227\n"
     ]
    },
    {
     "ename": "LoadError",
     "evalue": "ArgumentError: Package QHull not found in current path:\n- Run `import Pkg; Pkg.add(\"QHull\")` to install the QHull package.\n",
     "output_type": "error",
     "traceback": [
      "ArgumentError: Package QHull not found in current path:\n- Run `import Pkg; Pkg.add(\"QHull\")` to install the QHull package.\n",
      "",
      "Stacktrace:",
      " [1] require(::Module, ::Symbol) at ./loading.jl:893",
      " [2] include_string(::Function, ::Module, ::String, ::String) at ./loading.jl:1091"
     ]
    }
   ],
   "source": [
    "using Polyhedra, QHull"
   ]
  },
  {
   "cell_type": "code",
   "execution_count": 115,
   "metadata": {},
   "outputs": [
    {
     "name": "stderr",
     "output_type": "stream",
     "text": [
      "\u001b[32m\u001b[1m   Updating\u001b[22m\u001b[39m registry at `~/.julia/registries/General`\n"
     ]
    },
    {
     "name": "stdout",
     "output_type": "stream",
     "text": [
      "\u001b[?25l    "
     ]
    },
    {
     "name": "stderr",
     "output_type": "stream",
     "text": [
      "\u001b[32m\u001b[1m   Updating\u001b[22m\u001b[39m git-repo `https://github.com/JuliaRegistries/General.git`\n"
     ]
    },
    {
     "name": "stdout",
     "output_type": "stream",
     "text": [
      "\u001b[36m\u001b[1mFetching:\u001b[22m\u001b[39m [>                                        ]  0.0 %\r",
      "    \u001b[36m\u001b[1mFetching:\u001b[22m\u001b[39m [=>                                       ]  0.5 %\r",
      "    \u001b[36m\u001b[1mFetching:\u001b[22m\u001b[39m [=>                                       ]  1.0 %\r",
      "    \u001b[36m\u001b[1mFetching:\u001b[22m\u001b[39m [=>                                       ]  1.4 %\r",
      "    \u001b[36m\u001b[1mFetching:\u001b[22m\u001b[39m [=>                                       ]  1.9 %\r",
      "    \u001b[36m\u001b[1mFetching:\u001b[22m\u001b[39m [=>                                       ]  2.4 %\r",
      "    \u001b[36m\u001b[1mFetching:\u001b[22m\u001b[39m [==>                                      ]  2.9 %\r",
      "    \u001b[36m\u001b[1mFetching:\u001b[22m\u001b[39m [==>                                      ]  3.3 %\r",
      "    \u001b[36m\u001b[1mFetching:\u001b[22m\u001b[39m [==>                                      ]  3.8 %\r",
      "    \u001b[36m\u001b[1mFetching:\u001b[22m\u001b[39m [==>                                      ]  4.3 %\r",
      "    \u001b[36m\u001b[1mFetching:\u001b[22m\u001b[39m [==>                                      ]  4.8 %\r",
      "    \u001b[36m\u001b[1mFetching:\u001b[22m\u001b[39m [===>                                     ]  5.2 %\r",
      "    \u001b[36m\u001b[1mFetching:\u001b[22m\u001b[39m [===>                                     ]  5.7 %\r",
      "    \u001b[36m\u001b[1mFetching:\u001b[22m\u001b[39m [===>                                     ]  6.2 %\r",
      "    \u001b[36m\u001b[1mFetching:\u001b[22m\u001b[39m [===>                                     ]  6.7 %\r",
      "    \u001b[36m\u001b[1mFetching:\u001b[22m\u001b[39m [===>                                     ]  7.1 %\r",
      "    \u001b[36m\u001b[1mFetching:\u001b[22m\u001b[39m [====>                                    ]  7.6 %\r",
      "    \u001b[36m\u001b[1mFetching:\u001b[22m\u001b[39m [====>                                    ]  8.1 %\r",
      "    \u001b[36m\u001b[1mFetching:\u001b[22m\u001b[39m [====>                                    ]  8.6 %\r",
      "    \u001b[36m\u001b[1mFetching:\u001b[22m\u001b[39m [====>                                    ]  9.0 %\r",
      "    \u001b[36m\u001b[1mFetching:\u001b[22m\u001b[39m [====>                                    ]  9.5 %\r",
      "    \u001b[36m\u001b[1mFetching:\u001b[22m\u001b[39m [====>                                    ]  10.0 %\r",
      "    \u001b[36m\u001b[1mFetching:\u001b[22m\u001b[39m [=====>                                   ]  10.5 %\r",
      "    \u001b[36m\u001b[1mFetching:\u001b[22m\u001b[39m [=====>                                   ]  11.0 %\r",
      "    \u001b[36m\u001b[1mFetching:\u001b[22m\u001b[39m [=====>                                   ]  11.4 %\r",
      "    \u001b[36m\u001b[1mFetching:\u001b[22m\u001b[39m [=====>                                   ]  11.9 %\r",
      "    \u001b[36m\u001b[1mFetching:\u001b[22m\u001b[39m [=====>                                   ]  12.4 %\r",
      "    \u001b[36m\u001b[1mFetching:\u001b[22m\u001b[39m [======>                                  ]  12.9 %\r",
      "    \u001b[36m\u001b[1mFetching:\u001b[22m\u001b[39m [======>                                  ]  13.3 %\r",
      "    \u001b[36m\u001b[1mFetching:\u001b[22m\u001b[39m [======>                                  ]  13.8 %\r",
      "    \u001b[36m\u001b[1mFetching:\u001b[22m\u001b[39m [======>                                  ]  14.3 %\r",
      "    \u001b[36m\u001b[1mFetching:\u001b[22m\u001b[39m [======>                                  ]  14.8 %\r",
      "    \u001b[36m\u001b[1mFetching:\u001b[22m\u001b[39m [=======>                                 ]  15.2 %\r",
      "    \u001b[36m\u001b[1mFetching:\u001b[22m\u001b[39m [=======>                                 ]  15.7 %\r",
      "    \u001b[36m\u001b[1mFetching:\u001b[22m\u001b[39m [=======>                                 ]  16.2 %\r",
      "    \u001b[36m\u001b[1mFetching:\u001b[22m\u001b[39m [=======>                                 ]  16.7 %\r",
      "    \u001b[36m\u001b[1mFetching:\u001b[22m\u001b[39m [=======>                                 ]  17.1 %\r",
      "    \u001b[36m\u001b[1mFetching:\u001b[22m\u001b[39m [========>                                ]  17.6 %\r",
      "    \u001b[36m\u001b[1mFetching:\u001b[22m\u001b[39m [========>                                ]  18.1 %\r",
      "    \u001b[36m\u001b[1mFetching:\u001b[22m\u001b[39m [========>                                ]  18.6 %\r",
      "    \u001b[36m\u001b[1mFetching:\u001b[22m\u001b[39m [========>                                ]  19.0 %\r",
      "    \u001b[36m\u001b[1mFetching:\u001b[22m\u001b[39m [========>                                ]  19.5 %\r",
      "    \u001b[36m\u001b[1mFetching:\u001b[22m\u001b[39m [========>                                ]  20.0 %\r",
      "    \u001b[36m\u001b[1mFetching:\u001b[22m\u001b[39m [=========>                               ]  20.5 %\r",
      "    \u001b[36m\u001b[1mFetching:\u001b[22m\u001b[39m [=========>                               ]  21.0 %\r",
      "    \u001b[36m\u001b[1mFetching:\u001b[22m\u001b[39m [=========>                               ]  21.4 %\r",
      "    \u001b[36m\u001b[1mFetching:\u001b[22m\u001b[39m [=========>                               ]  21.9 %\r",
      "    \u001b[36m\u001b[1mFetching:\u001b[22m\u001b[39m [=========>                               ]  22.4 %\r",
      "    \u001b[36m\u001b[1mFetching:\u001b[22m\u001b[39m [==========>                              ]  22.9 %\r",
      "    \u001b[36m\u001b[1mFetching:\u001b[22m\u001b[39m [==========>                              ]  23.3 %\r",
      "    \u001b[36m\u001b[1mFetching:\u001b[22m\u001b[39m [==========>                              ]  23.8 %\r",
      "    \u001b[36m\u001b[1mFetching:\u001b[22m\u001b[39m [==========>                              ]  24.3 %\r",
      "    \u001b[36m\u001b[1mFetching:\u001b[22m\u001b[39m [==========>                              ]  24.8 %\r",
      "    \u001b[36m\u001b[1mFetching:\u001b[22m\u001b[39m [===========>                             ]  25.2 %\r",
      "    \u001b[36m\u001b[1mFetching:\u001b[22m\u001b[39m [===========>                             ]  25.7 %\r",
      "    \u001b[36m\u001b[1mFetching:\u001b[22m\u001b[39m [===========>                             ]  26.2 %\r",
      "    \u001b[36m\u001b[1mFetching:\u001b[22m\u001b[39m [===========>                             ]  26.7 %\r",
      "    \u001b[36m\u001b[1mFetching:\u001b[22m\u001b[39m [===========>                             ]  27.1 %\r",
      "    \u001b[36m\u001b[1mFetching:\u001b[22m\u001b[39m [============>                            ]  27.6 %\r",
      "    \u001b[36m\u001b[1mFetching:\u001b[22m\u001b[39m [============>                            ]  28.1 %\r",
      "    \u001b[36m\u001b[1mFetching:\u001b[22m\u001b[39m [============>                            ]  28.6 %\r",
      "    \u001b[36m\u001b[1mFetching:\u001b[22m\u001b[39m [============>                            ]  29.0 %\r",
      "    \u001b[36m\u001b[1mFetching:\u001b[22m\u001b[39m [============>                            ]  29.5 %\r",
      "    \u001b[36m\u001b[1mFetching:\u001b[22m\u001b[39m [============>                            ]  30.0 %\r",
      "    \u001b[36m\u001b[1mFetching:\u001b[22m\u001b[39m [=============>                           ]  30.5 %\r",
      "    \u001b[36m\u001b[1mFetching:\u001b[22m\u001b[39m [=============>                           ]  31.0 %\r",
      "    \u001b[36m\u001b[1mFetching:\u001b[22m\u001b[39m [=============>                           ]  31.4 %\r",
      "    \u001b[36m\u001b[1mFetching:\u001b[22m\u001b[39m [=============>                           ]  31.9 %\r",
      "    \u001b[36m\u001b[1mFetching:\u001b[22m\u001b[39m [=============>                           ]  32.4 %\r",
      "    \u001b[36m\u001b[1mFetching:\u001b[22m\u001b[39m [==============>                          ]  32.9 %\r",
      "    \u001b[36m\u001b[1mFetching:\u001b[22m\u001b[39m [==============>                          ]  33.3 %\r",
      "    \u001b[36m\u001b[1mFetching:\u001b[22m\u001b[39m [==============>                          ]  33.8 %\r",
      "    \u001b[36m\u001b[1mFetching:\u001b[22m\u001b[39m [==============>                          ]  34.3 %\r",
      "    \u001b[36m\u001b[1mFetching:\u001b[22m\u001b[39m [==============>                          ]  34.8 %\r",
      "    \u001b[36m\u001b[1mFetching:\u001b[22m\u001b[39m [===============>                         ]  35.2 %\r",
      "    \u001b[36m\u001b[1mFetching:\u001b[22m\u001b[39m [===============>                         ]  35.7 %\r",
      "    \u001b[36m\u001b[1mFetching:\u001b[22m\u001b[39m [===============>                         ]  36.2 %\r",
      "    \u001b[36m\u001b[1mFetching:\u001b[22m\u001b[39m [===============>                         ]  36.7 %\r",
      "    \u001b[36m\u001b[1mFetching:\u001b[22m\u001b[39m [===============>                         ]  37.1 %\r",
      "    \u001b[36m\u001b[1mFetching:\u001b[22m\u001b[39m [================>                        ]  37.6 %\r",
      "    \u001b[36m\u001b[1mFetching:\u001b[22m\u001b[39m [================>                        ]  38.1 %\r",
      "    \u001b[36m\u001b[1mFetching:\u001b[22m\u001b[39m [================>                        ]  38.6 %\r",
      "    \u001b[36m\u001b[1mFetching:\u001b[22m\u001b[39m [================>                        ]  39.0 %\r",
      "    \u001b[36m\u001b[1mFetching:\u001b[22m\u001b[39m [================>                        ]  39.5 %\r",
      "    \u001b[36m\u001b[1mFetching:\u001b[22m\u001b[39m [================>                        ]  40.0 %\r",
      "    \u001b[36m\u001b[1mFetching:\u001b[22m\u001b[39m [=================>                       ]  40.5 %\r",
      "    \u001b[36m\u001b[1mFetching:\u001b[22m\u001b[39m [=================>                       ]  41.0 %\r",
      "    \u001b[36m\u001b[1mFetching:\u001b[22m\u001b[39m [=================>                       ]  41.4 %\r",
      "    \u001b[36m\u001b[1mFetching:\u001b[22m\u001b[39m [=================>                       ]  41.9 %\r",
      "    \u001b[36m\u001b[1mFetching:\u001b[22m\u001b[39m [=================>                       ]  42.4 %\r",
      "    \u001b[36m\u001b[1mFetching:\u001b[22m\u001b[39m [==================>                      ]  42.9 %\r",
      "    \u001b[36m\u001b[1mFetching:\u001b[22m\u001b[39m [==================>                      ]  43.3 %\r",
      "    \u001b[36m\u001b[1mFetching:\u001b[22m\u001b[39m [==================>                      ]  43.8 %\r",
      "    \u001b[36m\u001b[1mFetching:\u001b[22m\u001b[39m [==================>                      ]  44.3 %\r",
      "    \u001b[36m\u001b[1mFetching:\u001b[22m\u001b[39m [==================>                      ]  44.8 %\r",
      "    \u001b[36m\u001b[1mFetching:\u001b[22m\u001b[39m [===================>                     ]  45.2 %\r",
      "    \u001b[36m\u001b[1mFetching:\u001b[22m\u001b[39m [===================>                     ]  45.7 %\r",
      "    \u001b[36m\u001b[1mFetching:\u001b[22m\u001b[39m [===================>                     ]  46.2 %\r",
      "    \u001b[36m\u001b[1mFetching:\u001b[22m\u001b[39m [===================>                     ]  46.7 %\r",
      "    \u001b[36m\u001b[1mFetching:\u001b[22m\u001b[39m [===================>                     ]  47.1 %\r",
      "    \u001b[36m\u001b[1mFetching:\u001b[22m\u001b[39m [====================>                    ]  47.6 %\r",
      "    \u001b[36m\u001b[1mFetching:\u001b[22m\u001b[39m [====================>                    ]  48.1 %\r",
      "    \u001b[36m\u001b[1mFetching:\u001b[22m\u001b[39m [====================>                    ]  48.6 %\r",
      "    \u001b[36m\u001b[1mFetching:\u001b[22m\u001b[39m [====================>                    ]  49.0 %\r",
      "    \u001b[36m\u001b[1mFetching:\u001b[22m\u001b[39m [====================>                    ]  49.5 %\r",
      "    \u001b[36m\u001b[1mFetching:\u001b[22m\u001b[39m [====================>                    ]  50.0 %\r",
      "    \u001b[36m\u001b[1mFetching:\u001b[22m\u001b[39m [=====================>                   ]  50.5 %\r",
      "    \u001b[36m\u001b[1mFetching:\u001b[22m\u001b[39m [=====================>                   ]  51.0 %\r",
      "    \u001b[36m\u001b[1mFetching:\u001b[22m\u001b[39m [=====================>                   ]  51.4 %\r",
      "    \u001b[36m\u001b[1mFetching:\u001b[22m\u001b[39m [=====================>                   ]  51.9 %\r",
      "    \u001b[36m\u001b[1mFetching:\u001b[22m\u001b[39m [=====================>                   ]  52.4 %\r",
      "    \u001b[36m\u001b[1mFetching:\u001b[22m\u001b[39m [======================>                  ]  52.9 %\r",
      "    \u001b[36m\u001b[1mFetching:\u001b[22m\u001b[39m [======================>                  ]  53.3 %\r",
      "    \u001b[36m\u001b[1mFetching:\u001b[22m\u001b[39m [======================>                  ]  53.8 %\r",
      "    \u001b[36m\u001b[1mFetching:\u001b[22m\u001b[39m [======================>                  ]  54.3 %\r",
      "    \u001b[36m\u001b[1mFetching:\u001b[22m\u001b[39m [======================>                  ]  54.8 %\r",
      "    \u001b[36m\u001b[1mFetching:\u001b[22m\u001b[39m [=======================>                 ]  55.2 %\r",
      "    \u001b[36m\u001b[1mFetching:\u001b[22m\u001b[39m [=======================>                 ]  55.7 %\r",
      "    \u001b[36m\u001b[1mFetching:\u001b[22m\u001b[39m [=======================>                 ]  56.2 %\r",
      "    \u001b[36m\u001b[1mFetching:\u001b[22m\u001b[39m [=======================>                 ]  56.7 %\r",
      "    \u001b[36m\u001b[1mFetching:\u001b[22m\u001b[39m [=======================>                 ]  "
     ]
    },
    {
     "name": "stdout",
     "output_type": "stream",
     "text": [
      "\u001b[2K\u001b[?25h[1mFetching:\u001b[22m\u001b[39m [========================================>]  100.0 %"
     ]
    },
    {
     "name": "stderr",
     "output_type": "stream",
     "text": [
      "\u001b[32m\u001b[1m  Resolving\u001b[22m\u001b[39m package versions...\n",
      "\u001b[32m\u001b[1mUpdating\u001b[22m\u001b[39m `~/Projects/escritoire/2020/Project.toml`\n",
      " \u001b[90m [a8468747] \u001b[39m\u001b[92m+ QHull v0.2.1\u001b[39m\n",
      "\u001b[32m\u001b[1mUpdating\u001b[22m\u001b[39m `~/Projects/escritoire/2020/Manifest.toml`\n",
      " \u001b[90m [6e4b80f9] \u001b[39m\u001b[92m+ BenchmarkTools v0.5.0\u001b[39m\n",
      " \u001b[90m [6e34b625] \u001b[39m\u001b[92m+ Bzip2_jll v1.0.6+3\u001b[39m\n",
      " \u001b[90m [49dc2e85] \u001b[39m\u001b[92m+ Calculus v0.5.1\u001b[39m\n",
      " \u001b[90m [523fee87] \u001b[39m\u001b[92m+ CodecBzip2 v0.7.2\u001b[39m\n",
      " \u001b[90m [944b1d66] \u001b[39m\u001b[92m+ CodecZlib v0.7.0\u001b[39m\n",
      " \u001b[90m [3da002f7] \u001b[39m\u001b[92m+ ColorTypes v0.10.8\u001b[39m\n",
      " \u001b[90m [8f4d0f93] \u001b[39m\u001b[92m+ Conda v1.4.1\u001b[39m\n",
      " \u001b[90m [53c48c17] \u001b[39m\u001b[92m+ FixedPointNumbers v0.8.4\u001b[39m\n",
      " \u001b[90m [4d00f742] \u001b[39m\u001b[92m+ GeometryTypes v0.8.3\u001b[39m\n",
      " \u001b[90m [cd3eb016] \u001b[39m\u001b[92m+ HTTP v0.8.17\u001b[39m\n",
      " \u001b[90m [83e8ac13] \u001b[39m\u001b[92m+ IniFile v0.5.0\u001b[39m\n",
      " \u001b[90m [682c06a0] \u001b[39m\u001b[92m+ JSON v0.21.0\u001b[39m\n",
      " \u001b[90m [7d188eb4] \u001b[39m\u001b[92m+ JSONSchema v0.3.1\u001b[39m\n",
      " \u001b[90m [4076af6c] \u001b[39m\u001b[92m+ JuMP v0.21.3\u001b[39m\n",
      " \u001b[90m [b8f27783] \u001b[39m\u001b[92m+ MathOptInterface v0.9.14\u001b[39m\n",
      " \u001b[90m [739be429] \u001b[39m\u001b[92m+ MbedTLS v1.0.2\u001b[39m\n",
      " \u001b[90m [c8ffd9c3] \u001b[39m\u001b[92m+ MbedTLS_jll v2.16.6+1\u001b[39m\n",
      " \u001b[90m [d8a4904e] \u001b[39m\u001b[92m+ MutableArithmetics v0.2.10\u001b[39m\n",
      " \u001b[90m [69de0a69] \u001b[39m\u001b[92m+ Parsers v1.0.10\u001b[39m\n",
      " \u001b[90m [67491407] \u001b[39m\u001b[92m+ Polyhedra v0.6.5\u001b[39m\n",
      " \u001b[90m [438e738f] \u001b[39m\u001b[92m+ PyCall v1.91.4\u001b[39m\n",
      " \u001b[90m [a8468747] \u001b[39m\u001b[92m+ QHull v0.2.1\u001b[39m\n",
      " \u001b[90m [3bb67fe8] \u001b[39m\u001b[92m+ TranscodingStreams v0.9.5\u001b[39m\n",
      " \u001b[90m [81def892] \u001b[39m\u001b[92m+ VersionParsing v1.2.0\u001b[39m\n",
      " \u001b[90m [a5390f91] \u001b[39m\u001b[92m+ ZipFile v0.9.2\u001b[39m\n"
     ]
    }
   ],
   "source": [
    "import Pkg; Pkg.add(\"QHull\")"
   ]
  },
  {
   "cell_type": "code",
   "execution_count": null,
   "metadata": {},
   "outputs": [],
   "source": []
  },
  {
   "cell_type": "code",
   "execution_count": null,
   "metadata": {},
   "outputs": [],
   "source": []
  },
  {
   "cell_type": "markdown",
   "metadata": {},
   "source": [
    "### Results\n",
    "\n",
    "```\n",
    "alg = GLGM06(δ=0.01);\n",
    "@time sol = solve(prob_PLAD01_BND30,\n",
    "                  alg=alg,\n",
    "                  clustering_method=ZonotopeClustering(),\n",
    "                  intersect_source_invariant=false,\n",
    "                  intersection_method=ReachabilityAnalysis.TemplateHullIntersectionZonotope(octdirs),\n",
    "                  tspan = (0.0 .. 20.0));\n",
    "```\n",
    "\n",
    "we get\n",
    "\n",
    "```julia\n",
    "number of sets that take the jump: [500, 501]\n",
    "number of sets that take the jump: [500, 501]\n",
    "number of sets that take the jump: [500, 501]\n",
    "number of sets that take the jump: [500, 501]\n",
    "number of sets that take the jump: Int64[]\n",
    "  2.072957 seconds (6.17 M allocations: 405.884 MiB, 6.39% gc time)\n",
    "```\n",
    "\n",
    "Computation of the `-ρ(sparsevec([1], [-1.0], 10), sol)`:\n",
    "\n",
    "- `-36.761087008210495` using cpa alg for the clustering\n",
    "- `-36.78171751307127` using \"mean\" method for convex hull of zonotopes\n",
    "- `-36.76961411331021` using \"join\" method for convex hull of zonotopes \n",
    "\n",
    "- `alg = GLGM06(δ=0.005, max_order=800);` gives `-32.713816637449966`\n",
    "\n",
    "- `alg = GLGM06(δ=0.01, max_order=100);` gives `-33.08588654881664` using zonotope CPA overapproximation of the discretized set using Forward approximation (lazy)\n",
    "\n",
    "- `alg = GLGM06(δ=0.01, max_order=100);` gives `-41.15656143452868`\n",
    "using hyperrectangular overapproximation of the discretized set using Forward approximation (lazy)"
   ]
  },
  {
   "cell_type": "markdown",
   "metadata": {},
   "source": [
    "- we observe that smaller delta doesn't improve the precision"
   ]
  },
  {
   "cell_type": "code",
   "execution_count": null,
   "metadata": {},
   "outputs": [],
   "source": []
  },
  {
   "cell_type": "code",
   "execution_count": null,
   "metadata": {},
   "outputs": [],
   "source": []
  },
  {
   "cell_type": "code",
   "execution_count": 79,
   "metadata": {},
   "outputs": [
    {
     "data": {
      "image/png": "[encoded data removed]"
     },
     "execution_count": 79,
     "metadata": {},
     "output_type": "execute_result"
    }
   ],
   "source": [
    "plot(sol,vars=(0, 1), xlab=\"t\", ylab=\"x1\", lw=0.0, fmt=:png)"
   ]
  },
  {
   "cell_type": "code",
   "execution_count": 53,
   "metadata": {},
   "outputs": [],
   "source": [
    "#plot(sol,vars=(0, 1), xlab=\"t\", ylab=\"x1\", lw=0.0)"
   ]
  },
  {
   "cell_type": "code",
   "execution_count": null,
   "metadata": {},
   "outputs": [],
   "source": []
  },
  {
   "cell_type": "code",
   "execution_count": null,
   "metadata": {},
   "outputs": [],
   "source": [
    "function dmin_specification(sol, dmin)\n",
    "    return (-ρ(sparsevec([1], [-1.0], 10), sol) > dmin) &&\n",
    "           (-ρ(sparsevec([4], [-1.0], 10), sol) > dmin) &&\n",
    "           (-ρ(sparsevec([7], [-1.0], 10), sol) > dmin)\n",
    "end"
   ]
  },
  {
   "cell_type": "code",
   "execution_count": null,
   "metadata": {},
   "outputs": [],
   "source": []
  }
 ],
 "metadata": {
  "@webio": {
   "lastCommId": null,
   "lastKernelId": null
  },
  "kernelspec": {
   "display_name": "Julia 1.5.0-beta1",
   "language": "julia",
   "name": "julia-1.5"
  },
  "language_info": {
   "file_extension": ".jl",
   "mimetype": "application/julia",
   "name": "julia",
   "version": "1.5.0"
  }
 },
 "nbformat": 4,
 "nbformat_minor": 2
}
