{
 "cells": [
  {
   "cell_type": "code",
   "execution_count": 1,
   "metadata": {},
   "outputs": [
    {
     "name": "stderr",
     "output_type": "stream",
     "text": [
      "┌ Info: Precompiling LazySets [b4f0291d-fe17-52bc-9479-3d1a343d9043]\n",
      "└ @ Base loading.jl:1278\n"
     ]
    }
   ],
   "source": [
    "using Revise, LazySets, Plots, BenchmarkTools, Test"
   ]
  },
  {
   "cell_type": "markdown",
   "metadata": {},
   "source": [
    "# Dimension 2"
   ]
  },
  {
   "cell_type": "code",
   "execution_count": 2,
   "metadata": {},
   "outputs": [],
   "source": [
    "Z = [rand(Zonotope, dim=2, num_generators=2i) for i in 1:20] # order 6\n",
    "d = [rand(2) for _ in 1:20];"
   ]
  },
  {
   "cell_type": "code",
   "execution_count": 3,
   "metadata": {},
   "outputs": [
    {
     "name": "stdout",
     "output_type": "stream",
     "text": [
      "  14.429 ns (0 allocations: 0 bytes)\n",
      "  17.364 ns (0 allocations: 0 bytes)\n",
      "  20.298 ns (0 allocations: 0 bytes)\n",
      "  23.233 ns (0 allocations: 0 bytes)\n",
      "  26.171 ns (0 allocations: 0 bytes)\n",
      "  29.110 ns (0 allocations: 0 bytes)\n",
      "  32.049 ns (0 allocations: 0 bytes)\n",
      "  34.978 ns (0 allocations: 0 bytes)\n",
      "  37.913 ns (0 allocations: 0 bytes)\n",
      "  40.836 ns (0 allocations: 0 bytes)\n",
      "  43.767 ns (0 allocations: 0 bytes)\n",
      "  46.700 ns (0 allocations: 0 bytes)\n",
      "  49.631 ns (0 allocations: 0 bytes)\n",
      "  52.568 ns (0 allocations: 0 bytes)\n",
      "  55.503 ns (0 allocations: 0 bytes)\n",
      "  64.624 ns (0 allocations: 0 bytes)\n",
      "  67.492 ns (0 allocations: 0 bytes)\n",
      "  70.421 ns (0 allocations: 0 bytes)\n",
      "  73.131 ns (0 allocations: 0 bytes)\n",
      "  76.281 ns (0 allocations: 0 bytes)\n"
     ]
    }
   ],
   "source": [
    "[@btime ρ($di, $Zi) for (di, Zi) in zip(d, Z)];"
   ]
  },
  {
   "cell_type": "markdown",
   "metadata": {},
   "source": [
    "Results in master\n",
    "\n",
    "```julia\n",
    "  63.645 ns (1 allocation: 96 bytes)\n",
    "  65.812 ns (1 allocation: 112 bytes)\n",
    "  70.261 ns (1 allocation: 128 bytes)\n",
    "  72.034 ns (1 allocation: 144 bytes)\n",
    "  76.853 ns (1 allocation: 160 bytes)\n",
    "  77.892 ns (1 allocation: 176 bytes)\n",
    "  82.796 ns (1 allocation: 192 bytes)\n",
    "  86.370 ns (1 allocation: 208 bytes)\n",
    "  83.140 ns (1 allocation: 224 bytes)\n",
    "  86.254 ns (1 allocation: 240 bytes)\n",
    "  89.851 ns (1 allocation: 256 bytes)\n",
    "  108.555 ns (1 allocation: 272 bytes)\n",
    "  92.683 ns (1 allocation: 288 bytes)\n",
    "  97.632 ns (1 allocation: 304 bytes)\n",
    "  101.337 ns (1 allocation: 336 bytes)\n",
    "  102.613 ns (1 allocation: 336 bytes)\n",
    "  94.658 ns (1 allocation: 368 bytes)\n",
    "  97.103 ns (1 allocation: 368 bytes)\n",
    "  100.887 ns (1 allocation: 400 bytes)\n",
    "  102.191 ns (1 allocation: 400 bytes)\n",
    "```"
   ]
  },
  {
   "cell_type": "markdown",
   "metadata": {},
   "source": [
    "Results in the new branch:\n",
    "\n",
    "```julia\n",
    "  14.429 ns (0 allocations: 0 bytes)\n",
    "  17.364 ns (0 allocations: 0 bytes)\n",
    "  20.298 ns (0 allocations: 0 bytes)\n",
    "  23.233 ns (0 allocations: 0 bytes)\n",
    "  26.171 ns (0 allocations: 0 bytes)\n",
    "  29.110 ns (0 allocations: 0 bytes)\n",
    "  32.049 ns (0 allocations: 0 bytes)\n",
    "  34.978 ns (0 allocations: 0 bytes)\n",
    "  37.913 ns (0 allocations: 0 bytes)\n",
    "  40.836 ns (0 allocations: 0 bytes)\n",
    "  43.767 ns (0 allocations: 0 bytes)\n",
    "  46.700 ns (0 allocations: 0 bytes)\n",
    "  49.631 ns (0 allocations: 0 bytes)\n",
    "  52.568 ns (0 allocations: 0 bytes)\n",
    "  55.503 ns (0 allocations: 0 bytes)\n",
    "  64.624 ns (0 allocations: 0 bytes)\n",
    "  67.492 ns (0 allocations: 0 bytes)\n",
    "  70.421 ns (0 allocations: 0 bytes)\n",
    "  73.131 ns (0 allocations: 0 bytes)\n",
    "  76.281 ns (0 allocations: 0 bytes)\n",
    "```"
   ]
  },
  {
   "cell_type": "markdown",
   "metadata": {},
   "source": [
    "## Dimension 2, static"
   ]
  },
  {
   "cell_type": "code",
   "execution_count": 4,
   "metadata": {},
   "outputs": [],
   "source": [
    "using StaticArrays"
   ]
  },
  {
   "cell_type": "code",
   "execution_count": 5,
   "metadata": {},
   "outputs": [],
   "source": [
    "Zs = [Zonotope(SVector{length(Zi.center)}(Zi.center),\n",
    "               SMatrix{size(Zi.generators)...}(Zi.generators)) for Zi in Z]\n",
    "ds = [SVector{length(di)}(di) for di in d];"
   ]
  },
  {
   "cell_type": "code",
   "execution_count": 6,
   "metadata": {},
   "outputs": [
    {
     "name": "stdout",
     "output_type": "stream",
     "text": [
      "  2.701 ns (0 allocations: 0 bytes)\n",
      "  3.355 ns (0 allocations: 0 bytes)\n",
      "  3.815 ns (0 allocations: 0 bytes)\n",
      "  4.641 ns (0 allocations: 0 bytes)\n",
      "  5.951 ns (0 allocations: 0 bytes)\n",
      "  8.563 ns (0 allocations: 0 bytes)\n",
      "  10.288 ns (0 allocations: 0 bytes)\n",
      "  11.478 ns (0 allocations: 0 bytes)\n",
      "  14.429 ns (0 allocations: 0 bytes)\n",
      "  14.606 ns (0 allocations: 0 bytes)\n",
      "  17.119 ns (0 allocations: 0 bytes)\n",
      "  17.765 ns (0 allocations: 0 bytes)\n",
      "  20.810 ns (0 allocations: 0 bytes)\n",
      "  21.296 ns (0 allocations: 0 bytes)\n",
      "  22.993 ns (0 allocations: 0 bytes)\n",
      "  25.347 ns (0 allocations: 0 bytes)\n",
      "  27.525 ns (0 allocations: 0 bytes)\n",
      "  31.720 ns (0 allocations: 0 bytes)\n",
      "  36.419 ns (0 allocations: 0 bytes)\n",
      "  33.142 ns (0 allocations: 0 bytes)\n"
     ]
    }
   ],
   "source": [
    "[@btime ρ($di, $Zi) for (di, Zi) in zip(ds, Zs)];"
   ]
  },
  {
   "cell_type": "markdown",
   "metadata": {},
   "source": [
    "```julia\n",
    "# Results in master\n",
    " 1.560 ns (0 allocations: 0 bytes)\n",
    "  3.212 ns (0 allocations: 0 bytes)\n",
    "  3.676 ns (0 allocations: 0 bytes)\n",
    "  4.993 ns (0 allocations: 0 bytes)\n",
    "  6.162 ns (0 allocations: 0 bytes)\n",
    "  9.052 ns (0 allocations: 0 bytes)\n",
    "  9.133 ns (0 allocations: 0 bytes)\n",
    "  11.309 ns (0 allocations: 0 bytes)\n",
    "  13.478 ns (0 allocations: 0 bytes)\n",
    "  15.427 ns (0 allocations: 0 bytes)\n",
    "  17.448 ns (0 allocations: 0 bytes)\n",
    "  19.462 ns (0 allocations: 0 bytes)\n",
    "  21.639 ns (0 allocations: 0 bytes)\n",
    "  24.198 ns (0 allocations: 0 bytes)\n",
    "  26.067 ns (0 allocations: 0 bytes)\n",
    "  27.982 ns (0 allocations: 0 bytes)\n",
    "  33.641 ns (0 allocations: 0 bytes)\n",
    "  39.685 ns (0 allocations: 0 bytes)\n",
    "  45.620 ns (0 allocations: 0 bytes)\n",
    "  49.388 ns (0 allocations: 0 bytes)\n",
    "```"
   ]
  },
  {
   "cell_type": "markdown",
   "metadata": {},
   "source": [
    "```julia\n",
    "# Results in the new branch\n",
    "\n",
    "  2.701 ns (0 allocations: 0 bytes)\n",
    "  3.355 ns (0 allocations: 0 bytes)\n",
    "  3.815 ns (0 allocations: 0 bytes)\n",
    "  4.641 ns (0 allocations: 0 bytes)\n",
    "  5.951 ns (0 allocations: 0 bytes)\n",
    "  8.563 ns (0 allocations: 0 bytes)\n",
    "  10.288 ns (0 allocations: 0 bytes)\n",
    "  11.478 ns (0 allocations: 0 bytes)\n",
    "  14.429 ns (0 allocations: 0 bytes)\n",
    "  14.606 ns (0 allocations: 0 bytes)\n",
    "  17.119 ns (0 allocations: 0 bytes)\n",
    "  17.765 ns (0 allocations: 0 bytes)\n",
    "  20.810 ns (0 allocations: 0 bytes)\n",
    "  21.296 ns (0 allocations: 0 bytes)\n",
    "  22.993 ns (0 allocations: 0 bytes)\n",
    "  25.347 ns (0 allocations: 0 bytes)\n",
    "  27.525 ns (0 allocations: 0 bytes)\n",
    "  31.720 ns (0 allocations: 0 bytes)\n",
    "  36.419 ns (0 allocations: 0 bytes)\n",
    "  33.142 ns (0 allocations: 0 bytes)\n",
    "```"
   ]
  },
  {
   "cell_type": "markdown",
   "metadata": {},
   "source": [
    "## Dimension 10"
   ]
  },
  {
   "cell_type": "code",
   "execution_count": 7,
   "metadata": {},
   "outputs": [],
   "source": [
    "Z = [rand(Zonotope, dim=10, num_generators=60) for _ in 1:20] # order 6\n",
    "d = [rand(10) for _ in 1:20];"
   ]
  },
  {
   "cell_type": "code",
   "execution_count": 8,
   "metadata": {},
   "outputs": [
    {
     "name": "stdout",
     "output_type": "stream",
     "text": [
      "  262.698 ns (0 allocations: 0 bytes)\n",
      "  262.839 ns (0 allocations: 0 bytes)\n",
      "  263.033 ns (0 allocations: 0 bytes)\n",
      "  263.064 ns (0 allocations: 0 bytes)\n",
      "  276.279 ns (0 allocations: 0 bytes)\n",
      "  263.063 ns (0 allocations: 0 bytes)\n",
      "  263.124 ns (0 allocations: 0 bytes)\n",
      "  269.795 ns (0 allocations: 0 bytes)\n",
      "  263.128 ns (0 allocations: 0 bytes)\n",
      "  263.082 ns (0 allocations: 0 bytes)\n",
      "  263.063 ns (0 allocations: 0 bytes)\n",
      "  263.067 ns (0 allocations: 0 bytes)\n",
      "  269.707 ns (0 allocations: 0 bytes)\n",
      "  262.822 ns (0 allocations: 0 bytes)\n",
      "  262.937 ns (0 allocations: 0 bytes)\n",
      "  263.792 ns (0 allocations: 0 bytes)\n",
      "  263.654 ns (0 allocations: 0 bytes)\n",
      "  262.831 ns (0 allocations: 0 bytes)\n",
      "  274.668 ns (0 allocations: 0 bytes)\n",
      "  276.588 ns (0 allocations: 0 bytes)\n"
     ]
    },
    {
     "data": {
      "text/plain": [
       "20-element Array{Float64,1}:\n",
       "  89.20128320350435\n",
       "  69.50616867460859\n",
       " 112.81475251481768\n",
       "  99.84057216972005\n",
       "  79.57144815966049\n",
       "  80.08956541683334\n",
       "  73.94284236355509\n",
       " 100.66507556789063\n",
       "  75.98964010222039\n",
       " 107.82116819408576\n",
       "  86.15660487294201\n",
       "  78.4346577424397\n",
       "  79.44994559695746\n",
       "  95.50190244929469\n",
       "  59.17292554115284\n",
       " 117.11285107865262\n",
       " 101.94738227487741\n",
       " 100.04135669146707\n",
       "  96.1759814814458\n",
       "  92.08360249708487"
      ]
     },
     "execution_count": 8,
     "metadata": {},
     "output_type": "execute_result"
    }
   ],
   "source": [
    "[@btime ρ($di, $Zi) for (di, Zi) in zip(d, Z)]"
   ]
  },
  {
   "cell_type": "markdown",
   "metadata": {},
   "source": [
    "```julia\n",
    "# Results in master\n",
    "  227.739 ns (1 allocation: 576 bytes)\n",
    "  226.730 ns (1 allocation: 576 bytes)\n",
    "  225.950 ns (1 allocation: 576 bytes)\n",
    "  223.629 ns (1 allocation: 576 bytes)\n",
    "  226.633 ns (1 allocation: 576 bytes)\n",
    "  228.446 ns (1 allocation: 576 bytes)\n",
    "  227.724 ns (1 allocation: 576 bytes)\n",
    "  228.449 ns (1 allocation: 576 bytes)\n",
    "  223.433 ns (1 allocation: 576 bytes)\n",
    "  222.723 ns (1 allocation: 576 bytes)\n",
    "  225.393 ns (1 allocation: 576 bytes)\n",
    "  230.284 ns (1 allocation: 576 bytes)\n",
    "  228.499 ns (1 allocation: 576 bytes)\n",
    "  227.382 ns (1 allocation: 576 bytes)\n",
    "  226.388 ns (1 allocation: 576 bytes)\n",
    "  226.384 ns (1 allocation: 576 bytes)\n",
    "  232.307 ns (1 allocation: 576 bytes)\n",
    "  239.621 ns (1 allocation: 576 bytes)\n",
    "  233.382 ns (1 allocation: 576 bytes)\n",
    "  229.810 ns (1 allocation: 576 bytes)\n",
    "```"
   ]
  },
  {
   "cell_type": "markdown",
   "metadata": {},
   "source": [
    "```julia\n",
    "# new branch\n",
    "262.698 ns (0 allocations: 0 bytes)\n",
    "  262.839 ns (0 allocations: 0 bytes)\n",
    "  263.033 ns (0 allocations: 0 bytes)\n",
    "  263.064 ns (0 allocations: 0 bytes)\n",
    "  276.279 ns (0 allocations: 0 bytes)\n",
    "  263.063 ns (0 allocations: 0 bytes)\n",
    "  263.124 ns (0 allocations: 0 bytes)\n",
    "  269.795 ns (0 allocations: 0 bytes)\n",
    "  263.128 ns (0 allocations: 0 bytes)\n",
    "  263.082 ns (0 allocations: 0 bytes)\n",
    "  263.063 ns (0 allocations: 0 bytes)\n",
    "  263.067 ns (0 allocations: 0 bytes)\n",
    "  269.707 ns (0 allocations: 0 bytes)\n",
    "  262.822 ns (0 allocations: 0 bytes)\n",
    "  262.937 ns (0 allocations: 0 bytes)\n",
    "  263.792 ns (0 allocations: 0 bytes)\n",
    "  263.654 ns (0 allocations: 0 bytes)\n",
    "  262.831 ns (0 allocations: 0 bytes)\n",
    "  274.668 ns (0 allocations: 0 bytes)\n",
    "  276.588 ns (0 allocations: 0 bytes)\n",
    "```"
   ]
  },
  {
   "cell_type": "markdown",
   "metadata": {},
   "source": [
    "## Dimension 100"
   ]
  },
  {
   "cell_type": "code",
   "execution_count": 10,
   "metadata": {},
   "outputs": [],
   "source": [
    "Z = rand(Zonotope, dim=100, num_generators=400);\n",
    "d = rand(100);"
   ]
  },
  {
   "cell_type": "code",
   "execution_count": 12,
   "metadata": {},
   "outputs": [
    {
     "name": "stdout",
     "output_type": "stream",
     "text": [
      "  5.865 μs (0 allocations: 0 bytes)\n"
     ]
    },
    {
     "data": {
      "text/plain": [
       "2054.496389552093"
      ]
     },
     "execution_count": 12,
     "metadata": {},
     "output_type": "execute_result"
    }
   ],
   "source": [
    "@btime ρ($d, $Z)"
   ]
  },
  {
   "cell_type": "code",
   "execution_count": 14,
   "metadata": {},
   "outputs": [
    {
     "name": "stdout",
     "output_type": "stream",
     "text": [
      "  4.791 μs (1 allocation: 3.25 KiB)\n"
     ]
    },
    {
     "data": {
      "text/plain": [
       "2054.496389552095"
      ]
     },
     "execution_count": 14,
     "metadata": {},
     "output_type": "execute_result"
    }
   ],
   "source": [
    "@btime ρ($d, $Z)"
   ]
  },
  {
   "cell_type": "code",
   "execution_count": 16,
   "metadata": {},
   "outputs": [
    {
     "data": {
      "text/plain": [
       "0.18312020460358053"
      ]
     },
     "execution_count": 16,
     "metadata": {},
     "output_type": "execute_result"
    }
   ],
   "source": [
    "(5.865 - 4.791) / 5.865"
   ]
  }
 ],
 "metadata": {
  "@webio": {
   "lastCommId": null,
   "lastKernelId": null
  },
  "kernelspec": {
   "display_name": "Julia 1.5.2",
   "language": "julia",
   "name": "julia-1.5"
  },
  "language_info": {
   "file_extension": ".jl",
   "mimetype": "application/julia",
   "name": "julia",
   "version": "1.5.2"
  }
 },
 "nbformat": 4,
 "nbformat_minor": 2
}
