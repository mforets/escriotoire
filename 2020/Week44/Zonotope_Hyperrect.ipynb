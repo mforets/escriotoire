{
 "cells": [
  {
   "cell_type": "code",
   "execution_count": 1,
   "metadata": {},
   "outputs": [
    {
     "name": "stderr",
     "output_type": "stream",
     "text": [
      "┌ Info: Precompiling LazySets [b4f0291d-fe17-52bc-9479-3d1a343d9043]\n",
      "└ @ Base loading.jl:1278\n"
     ]
    }
   ],
   "source": [
    "using Revise, LazySets, BenchmarkTools"
   ]
  },
  {
   "cell_type": "markdown",
   "metadata": {},
   "source": [
    "## Conversion from 2D regular hyperrectangle to 2D zonotope"
   ]
  },
  {
   "cell_type": "code",
   "execution_count": 4,
   "metadata": {},
   "outputs": [],
   "source": [
    "H = Hyperrectangle(low=[0.5, 0.6], high=[12.4, 235.5]);"
   ]
  },
  {
   "cell_type": "code",
   "execution_count": 6,
   "metadata": {},
   "outputs": [
    {
     "name": "stdout",
     "output_type": "stream",
     "text": [
      "  104.345 ns (3 allocations: 240 bytes)\n"
     ]
    },
    {
     "data": {
      "text/plain": [
       "Zonotope{Float64,Array{Float64,1},Array{Float64,2}}([6.45, 118.05], [5.95 0.0; 0.0 117.45])"
      ]
     },
     "execution_count": 6,
     "metadata": {},
     "output_type": "execute_result"
    }
   ],
   "source": [
    "# generic method\n",
    "@btime convert(Zonotope, $H)"
   ]
  },
  {
   "cell_type": "code",
   "execution_count": 7,
   "metadata": {},
   "outputs": [
    {
     "data": {
      "text/html": [
       "convert(::<b>Type{Zonotope}</b>, Z::<b>AbstractZonotope</b>) in LazySets at <a href=\"https://github.com/JuliaReach/LazySets.jl/tree/6b15d6eb6aa0b5a0d33d46929e03c7e0d4a4106d//src/convert.jl#L346\" target=\"_blank\">/home/mforets/.julia/dev/LazySets/src/convert.jl:346</a>"
      ],
      "text/plain": [
       "convert(::Type{Zonotope}, Z::AbstractZonotope) in LazySets at /home/mforets/.julia/dev/LazySets/src/convert.jl:346"
      ]
     },
     "execution_count": 7,
     "metadata": {},
     "output_type": "execute_result"
    }
   ],
   "source": [
    "@which convert(Zonotope, H)"
   ]
  },
  {
   "cell_type": "code",
   "execution_count": 9,
   "metadata": {},
   "outputs": [
    {
     "data": {
      "text/html": [
       "genmat(H::<b>AbstractHyperrectangle</b>) in LazySets at <a href=\"https://github.com/JuliaReach/LazySets.jl/tree/6b15d6eb6aa0b5a0d33d46929e03c7e0d4a4106d//src/Interfaces/AbstractHyperrectangle.jl#L59\" target=\"_blank\">/home/mforets/.julia/dev/LazySets/src/Interfaces/AbstractHyperrectangle.jl:59</a>"
      ],
      "text/plain": [
       "genmat(H::AbstractHyperrectangle) in LazySets at /home/mforets/.julia/dev/LazySets/src/Interfaces/AbstractHyperrectangle.jl:59"
      ]
     },
     "execution_count": 9,
     "metadata": {},
     "output_type": "execute_result"
    }
   ],
   "source": [
    "@which genmat(H)"
   ]
  },
  {
   "cell_type": "code",
   "execution_count": 11,
   "metadata": {},
   "outputs": [
    {
     "name": "stdout",
     "output_type": "stream",
     "text": [
      "  37.052 ns (1 allocation: 112 bytes)\n"
     ]
    },
    {
     "data": {
      "text/plain": [
       "Zonotope{Float64,Array{Float64,1},Array{Float64,2}}([6.45, 118.05], [5.95 0.0; 0.0 117.45])"
      ]
     },
     "execution_count": 11,
     "metadata": {},
     "output_type": "execute_result"
    }
   ],
   "source": [
    "@btime LazySets._convert_2D(Zonotope, $H)"
   ]
  },
  {
   "cell_type": "code",
   "execution_count": 12,
   "metadata": {},
   "outputs": [
    {
     "name": "stdout",
     "output_type": "stream",
     "text": [
      "  37.549 ns (1 allocation: 112 bytes)\n"
     ]
    },
    {
     "data": {
      "text/plain": [
       "Zonotope{Float64,Array{Float64,1},Array{Float64,2}}([6.45, 118.05], [5.95 0.0; 0.0 117.45])"
      ]
     },
     "execution_count": 12,
     "metadata": {},
     "output_type": "execute_result"
    }
   ],
   "source": [
    "# specialized for 2D method\n",
    "@btime convert(Zonotope, $H)"
   ]
  },
  {
   "cell_type": "markdown",
   "metadata": {},
   "source": [
    "## Methods for static arrays"
   ]
  },
  {
   "cell_type": "code",
   "execution_count": 13,
   "metadata": {},
   "outputs": [],
   "source": [
    "using StaticArrays"
   ]
  },
  {
   "cell_type": "code",
   "execution_count": 14,
   "metadata": {},
   "outputs": [],
   "source": [
    "H = Hyperrectangle(low=SA[0.5, 0.6], high=SA[12.4, 235.5]);"
   ]
  },
  {
   "cell_type": "code",
   "execution_count": 15,
   "metadata": {},
   "outputs": [
    {
     "data": {
      "text/html": [
       "convert(::<b>Type{Zonotope}</b>, H::<b>AbstractHyperrectangle</b>) in LazySets at <a href=\"https://github.com/JuliaReach/LazySets.jl/tree/6b15d6eb6aa0b5a0d33d46929e03c7e0d4a4106d//src/convert.jl#L350\" target=\"_blank\">/home/mforets/.julia/dev/LazySets/src/convert.jl:350</a>"
      ],
      "text/plain": [
       "convert(::Type{Zonotope}, H::AbstractHyperrectangle) in LazySets at /home/mforets/.julia/dev/LazySets/src/convert.jl:350"
      ]
     },
     "execution_count": 15,
     "metadata": {},
     "output_type": "execute_result"
    }
   ],
   "source": [
    "@which convert(Zonotope, H)"
   ]
  },
  {
   "cell_type": "code",
   "execution_count": 16,
   "metadata": {},
   "outputs": [
    {
     "data": {
      "text/plain": [
       "2×2 SArray{Tuple{2,2},Float64,2,4} with indices SOneTo(2)×SOneTo(2):\n",
       " 5.95    0.0\n",
       " 0.0   117.45"
      ]
     },
     "execution_count": 16,
     "metadata": {},
     "output_type": "execute_result"
    }
   ],
   "source": [
    "genmat(H)"
   ]
  },
  {
   "cell_type": "code",
   "execution_count": 17,
   "metadata": {},
   "outputs": [
    {
     "data": {
      "text/plain": [
       "Zonotope{Float64,SArray{Tuple{2},Float64,1,2},SArray{Tuple{2,2},Float64,2,4}}([6.45, 118.05], [5.95 0.0; 0.0 117.45])"
      ]
     },
     "execution_count": 17,
     "metadata": {},
     "output_type": "execute_result"
    }
   ],
   "source": [
    "convert(Zonotope, H)"
   ]
  },
  {
   "cell_type": "code",
   "execution_count": 18,
   "metadata": {},
   "outputs": [
    {
     "name": "stdout",
     "output_type": "stream",
     "text": [
      "  57.945 ns (3 allocations: 144 bytes)\n"
     ]
    },
    {
     "data": {
      "text/plain": [
       "Zonotope{Float64,SArray{Tuple{2},Float64,1,2},SArray{Tuple{2,2},Float64,2,4}}([6.45, 118.05], [5.95 0.0; 0.0 117.45])"
      ]
     },
     "execution_count": 18,
     "metadata": {},
     "output_type": "execute_result"
    }
   ],
   "source": [
    "@btime convert(Zonotope, $H)"
   ]
  },
  {
   "cell_type": "code",
   "execution_count": 19,
   "metadata": {},
   "outputs": [
    {
     "name": "stdout",
     "output_type": "stream",
     "text": [
      "  0.016 ns (0 allocations: 0 bytes)\n"
     ]
    },
    {
     "data": {
      "text/plain": [
       "Zonotope{Float64,SArray{Tuple{2},Float64,1,2},SArray{Tuple{2,2},Float64,2,4}}([6.45, 118.05], [5.95 0.0; 0.0 117.45])"
      ]
     },
     "execution_count": 19,
     "metadata": {},
     "output_type": "execute_result"
    }
   ],
   "source": [
    "@btime LazySets._convert_2D_static(Zonotope, $H)"
   ]
  },
  {
   "cell_type": "markdown",
   "metadata": {},
   "source": [
    "## Same for BallInf"
   ]
  },
  {
   "cell_type": "code",
   "execution_count": 20,
   "metadata": {},
   "outputs": [
    {
     "data": {
      "text/plain": [
       "BallInf{Float64,SArray{Tuple{2},Float64,1,2}}([1.0, 2.0], 1.0)"
      ]
     },
     "execution_count": 20,
     "metadata": {},
     "output_type": "execute_result"
    }
   ],
   "source": [
    "B = BallInf(SA[1.0, 2.0], 1.0)"
   ]
  },
  {
   "cell_type": "code",
   "execution_count": 21,
   "metadata": {},
   "outputs": [
    {
     "name": "stdout",
     "output_type": "stream",
     "text": [
      "  55.632 ns (3 allocations: 144 bytes)\n"
     ]
    },
    {
     "data": {
      "text/plain": [
       "Zonotope{Float64,SArray{Tuple{2},Float64,1,2},SArray{Tuple{2,2},Float64,2,4}}([1.0, 2.0], [1.0 0.0; 0.0 1.0])"
      ]
     },
     "execution_count": 21,
     "metadata": {},
     "output_type": "execute_result"
    }
   ],
   "source": [
    "@btime convert(Zonotope, $B)"
   ]
  },
  {
   "cell_type": "code",
   "execution_count": 23,
   "metadata": {},
   "outputs": [
    {
     "name": "stdout",
     "output_type": "stream",
     "text": [
      "  0.015 ns (0 allocations: 0 bytes)\n"
     ]
    },
    {
     "data": {
      "text/plain": [
       "Zonotope{Float64,SArray{Tuple{2},Float64,1,2},SArray{Tuple{2,2},Float64,2,4}}([1.0, 2.0], [1.0 0.0; 0.0 1.0])"
      ]
     },
     "execution_count": 23,
     "metadata": {},
     "output_type": "execute_result"
    }
   ],
   "source": [
    "@btime LazySets._convert_2D_static(Zonotope, $B)"
   ]
  }
 ],
 "metadata": {
  "kernelspec": {
   "display_name": "Julia 1.5.2",
   "language": "julia",
   "name": "julia-1.5"
  },
  "language_info": {
   "file_extension": ".jl",
   "mimetype": "application/julia",
   "name": "julia",
   "version": "1.5.2"
  }
 },
 "nbformat": 4,
 "nbformat_minor": 2
}
