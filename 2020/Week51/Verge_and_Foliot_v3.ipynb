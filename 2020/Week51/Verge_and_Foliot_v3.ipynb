{
 "cells": [
  {
   "cell_type": "markdown",
   "metadata": {},
   "source": [
    "# Verge and foliot mechanism"
   ]
  },
  {
   "cell_type": "markdown",
   "metadata": {},
   "source": [
    "References:\n",
    "\n",
    "- https://github.com/JuliaReach/ReachabilityModels.jl/issues/52\n",
    "\n",
    "- https://github.com/SciML/DifferentialEquations.jl/issues/703"
   ]
  },
  {
   "cell_type": "markdown",
   "metadata": {},
   "source": [
    "## Dependencies"
   ]
  },
  {
   "cell_type": "code",
   "execution_count": null,
   "metadata": {},
   "outputs": [],
   "source": [
    "] activate ."
   ]
  },
  {
   "cell_type": "code",
   "execution_count": null,
   "metadata": {},
   "outputs": [],
   "source": [
    "] add LazySets#v1.38.0"
   ]
  },
  {
   "cell_type": "code",
   "execution_count": null,
   "metadata": {},
   "outputs": [],
   "source": [
    "] add ModelingToolkit#v3.20.0"
   ]
  },
  {
   "cell_type": "code",
   "execution_count": null,
   "metadata": {},
   "outputs": [],
   "source": [
    "] add IntervalConstraintProgramming#v0.12.1"
   ]
  },
  {
   "cell_type": "code",
   "execution_count": null,
   "metadata": {},
   "outputs": [],
   "source": [
    "using ReachabilityAnalysis, LinearAlgebra, Plots, IntervalConstraintProgramming, StaticArrays\n",
    "using BenchmarkTools\n",
    "\n",
    "const IA = IntervalArithmetic\n",
    "\n",
    "LazySets.set_ztol(Float64, 1e-12)\n",
    "\n",
    "gr()"
   ]
  },
  {
   "cell_type": "markdown",
   "metadata": {},
   "source": [
    "## Model parameters"
   ]
  },
  {
   "cell_type": "code",
   "execution_count": null,
   "metadata": {},
   "outputs": [],
   "source": [
    "const torque = 1.0\n",
    "const Ic = 10.0\n",
    "const Iv = 0.15\n",
    "const rc = 1.0\n",
    "const rv = 0.3\n",
    "const αc = 24.0 * pi/180\n",
    "const er = 0.05\n",
    "const nteeth = round(Int, 2pi/αc) # n\n",
    "const Mv = Iv/rv^2\n",
    "const Mc = Ic/rc^2\n",
    "const Gc = Mv*(1 + er)/rc/(Mv + Mc)\n",
    "const Gv = Mc*(1 + er)/rv/(Mv + Mc)\n",
    "const αv = Gv*rc/(1-er)*αc/2\n",
    "\n",
    "p = (torque, Ic);"
   ]
  },
  {
   "cell_type": "markdown",
   "metadata": {},
   "source": [
    "## Guards"
   ]
  },
  {
   "cell_type": "code",
   "execution_count": null,
   "metadata": {},
   "outputs": [],
   "source": [
    "# trigonometric constraints for each m\n",
    "upper_trig(m) = @constraint $rc*sin(x1 - ($m-1)* ($αc)) - $rv*tan(x2 + $αv/2) == 0\n",
    "lower_trig(m) = @constraint $rc*sin(($m-1)* ($αc) - x1) - $rv*tan(-x2 + $αv/2) == 0\n",
    "\n",
    "# domain of x1 for each m\n",
    "upper_dom_x1(m; p=0) = ((m-1-1/2)*αc .. (m-1+1/2)*αc) + (2p)*pi\n",
    "lower_dom_x1(m; p=0) = ((m-1-1/2)*αc .. (m-1+1/2)*αc) + (2p-1)*pi\n",
    "\n",
    "# combined domain of x1 and x2 for each m \n",
    "upper_dom(m; p=0) = upper_dom_x1(m, p=p) × (-1 .. 1)\n",
    "lower_dom(m; p=0) = lower_dom_x1(m, p=p) × (-1 .. 1)\n",
    "\n",
    "# constraint solver tolerance\n",
    "ε = 0.05\n",
    "\n",
    "# upper constraints\n",
    "Upav = [pave(upper_trig(m), upper_dom(m, p=0), ε).boundary for m in 1:nteeth]\n",
    "U = [reduce(vcat, vertices_list(B) for B in Ui) |> VPolygon for Ui in Upav]\n",
    "\n",
    "# lower constraints\n",
    "Lpav = [pave(lower_trig(m), lower_dom(m, p=0), ε).boundary for m in 1:nteeth];\n",
    "L = [reduce(vcat, vertices_list(B) for B in Li) |> VPolygon for Li in Lpav];"
   ]
  },
  {
   "cell_type": "code",
   "execution_count": null,
   "metadata": {},
   "outputs": [],
   "source": [
    "fig = plot(xlab=\"x₁\", ylab=\"x₂\", title=\"Collision conditions, blue: upper, red: lower\")\n",
    "\n",
    "plot!(fig, U, c=:blue)\n",
    "plot!(fig, L, c=:red)"
   ]
  },
  {
   "cell_type": "code",
   "execution_count": null,
   "metadata": {},
   "outputs": [],
   "source": [
    "G34_upper = HalfSpace(SA[-rc, rv], 0.0)   # rc x3 - rv x4 > 0\n",
    "G34_lower = HalfSpace(SA[-rc, -rv], 0.0); # rc x3 + rv x4 > 0"
   ]
  },
  {
   "cell_type": "markdown",
   "metadata": {},
   "source": [
    "## Transition map"
   ]
  },
  {
   "cell_type": "code",
   "execution_count": null,
   "metadata": {},
   "outputs": [],
   "source": [
    "I5 = SA[1 0 0 0 0;\n",
    "        0 1 0 0 0;\n",
    "        0 0 1 0 0;\n",
    "        0 0 0 1 0;\n",
    "        0 0 0 0 1.]\n",
    "\n",
    "# σ = 1\n",
    "Tupper = SA[0 0     0      0   0;\n",
    "            0 0     0      0   0;\n",
    "            0 0 -rc*Gc rv*Gc   0;\n",
    "            0 0 rc*Gv -rv*Gv   0;\n",
    "            0 0     0      0   0] + I5\n",
    "\n",
    "# σ = -1\n",
    "Tlower = SA[0 0     0      0   0;\n",
    "            0 0     0      0   0;\n",
    "            0 0 -rc*Gc -rv*Gc  0;\n",
    "            0 0 -rc*Gv -rv*Gv  0;\n",
    "            0  0    0      0   0] + I5;"
   ]
  },
  {
   "cell_type": "markdown",
   "metadata": {},
   "source": [
    "## Continuous post-operator"
   ]
  },
  {
   "cell_type": "code",
   "execution_count": null,
   "metadata": {},
   "outputs": [],
   "source": [
    "# variables x1, x2, x3, x4 and the last variable x5 wraps the constant input term\n",
    "A = zeros(5, 5)\n",
    "A[1, 3] = 1.0\n",
    "A[2, 4] = 1.0\n",
    "A[3, 5] = 1.0\n",
    "\n",
    "X0 = Singleton([0, 0, 0, 3.0, p[1]/p[2]])\n",
    "prob = @ivp(x' = A*x, x(0) ∈ X0);"
   ]
  },
  {
   "cell_type": "markdown",
   "metadata": {},
   "source": [
    "Timings for different algorithms:\n",
    "\n",
    "```julia\n",
    "@btime solve($prob, tspan=(0.0, 0.5), alg=GLGM06(δ=1e-3, static=true, dim=5, ngens=10, max_order=2));\n",
    "  245.860 μs (229 allocations: 277.58 KiB)\n",
    "```\n",
    "    \n",
    "```julia\n",
    "@btime solve($prob, tspan=(0.0, 0.5), alg=VREP(δ=1e-3, static=true, dim=5));\n",
    "  251.422 μs (1940 allocations: 186.80 KiB)\n",
    "```\n",
    "\n",
    "```julia\n",
    "@btime solve($prob, tspan=(0.0, 0.5), alg=VREP(δ=1e-3, static=true, dim=5, backend=CDDLib.Library()));\n",
    "  116.335 μs (752 allocations: 143.14 KiB)\n",
    "```"
   ]
  },
  {
   "cell_type": "code",
   "execution_count": null,
   "metadata": {},
   "outputs": [],
   "source": [
    "# system is in dimension 5 and we have to take some concrete set operations in the discretization\n",
    "using Polyhedra, CDDLib\n",
    "using LazySets: HalfSpace"
   ]
  },
  {
   "cell_type": "code",
   "execution_count": null,
   "metadata": {},
   "outputs": [],
   "source": [
    "sol = solve(prob, tspan=(0.0, 0.5), alg=VREP(δ=1e-3, static=true, dim=5, backend=CDDLib.Library()));"
   ]
  },
  {
   "cell_type": "code",
   "execution_count": null,
   "metadata": {},
   "outputs": [],
   "source": [
    "plot(sol, vars=(0, 1))"
   ]
  },
  {
   "cell_type": "markdown",
   "metadata": {},
   "source": [
    "## Discrete post"
   ]
  },
  {
   "cell_type": "code",
   "execution_count": null,
   "metadata": {},
   "outputs": [],
   "source": [
    "F = flowpipe(sol)\n",
    "typeof(F)"
   ]
  },
  {
   "cell_type": "code",
   "execution_count": null,
   "metadata": {},
   "outputs": [],
   "source": [
    "X = set(F[10])\n",
    "@which project(X, 1:2)"
   ]
  },
  {
   "cell_type": "code",
   "execution_count": null,
   "metadata": {},
   "outputs": [],
   "source": [
    "X = convert(VPolygon, linear_map(πM12, set(sol[295])))"
   ]
  },
  {
   "cell_type": "code",
   "execution_count": null,
   "metadata": {},
   "outputs": [],
   "source": [
    "L1 = L[1];\n",
    "L9 = L[9];"
   ]
  },
  {
   "cell_type": "code",
   "execution_count": null,
   "metadata": {},
   "outputs": [],
   "source": [
    "@btime intersection($X, $L1);"
   ]
  },
  {
   "cell_type": "code",
   "execution_count": null,
   "metadata": {},
   "outputs": [],
   "source": [
    "@btime intersection($X, $L9);"
   ]
  },
  {
   "cell_type": "code",
   "execution_count": null,
   "metadata": {},
   "outputs": [],
   "source": [
    "function _check_intersection(X, Li)\n",
    "    Xbox = box_approximation(X)\n",
    "    Libox = box_approximation(Li)   # can cache\n",
    "    return isdisjoint(Xbox, Libox)\n",
    "end"
   ]
  },
  {
   "cell_type": "code",
   "execution_count": null,
   "metadata": {},
   "outputs": [],
   "source": [
    "@btime _check_intersection($X, $L1)"
   ]
  },
  {
   "cell_type": "code",
   "execution_count": null,
   "metadata": {},
   "outputs": [],
   "source": [
    "@btime _check_intersection($X, $L9)"
   ]
  },
  {
   "cell_type": "code",
   "execution_count": null,
   "metadata": {},
   "outputs": [],
   "source": [
    "[intersection(X, Li) for Li in L]"
   ]
  },
  {
   "cell_type": "code",
   "execution_count": null,
   "metadata": {},
   "outputs": [],
   "source": [
    "SVector{2, Float64}"
   ]
  },
  {
   "cell_type": "code",
   "execution_count": null,
   "metadata": {},
   "outputs": [],
   "source": [
    "const πM12 = SA[1 0 0 0 0;\n",
    "                0 1 0 0 0.]\n",
    "\n",
    "# return the indices in the flowpipe fp that intersect any of the guard sets L and U\n",
    "# in the variables x1 and x2\n",
    "function _jump_indices(F::Flowpipe{N, <:ReachSet{N, <:VPolytope}}, L::Vector{<:VPolygon}, U::Vector{<:VPolygon}) where {N}\n",
    "    # return a vector that contains: index of F where intersection happens,\n",
    "    # index of vector L (or -1 if the intersection is with an element of L),\n",
    "    # index of vector U (or -1 if the intersection is with an element of U),\n",
    "    # actualy intersection\n",
    "    VT = SVector{2, Float64}\n",
    "    idx = Vector{Tuple{Int, Int, Int, VPolygon{N, VT}}}()\n",
    "\n",
    "    for (i, R) in enumerate(F)\n",
    "\n",
    "        # reach-set (polygon) in x1-x2 coordinates \n",
    "        X = convert(VPolygon, linear_map(πM12, set(R)))\n",
    "\n",
    "        for (j, Lj) in enumerate(L)\n",
    "            Xint_L = intersection(X, Lj)\n",
    "            if !isempty(Xint_L)\n",
    "                push!(idx, (i, j, -1, Xint_L))\n",
    "            end\n",
    "        end\n",
    "\n",
    "        # TODO refactor\n",
    "        for (j, Uj) in enumerate(U)\n",
    "            Xint_U = intersection(X, Uj)\n",
    "            if !isempty(Xint_U)\n",
    "                push!(idx, (i, -1, j, Xint_U))\n",
    "            end\n",
    "        end\n",
    "    end\n",
    "    return idx\n",
    "end"
   ]
  },
  {
   "cell_type": "code",
   "execution_count": null,
   "metadata": {},
   "outputs": [],
   "source": [
    "typeof(F)"
   ]
  },
  {
   "cell_type": "code",
   "execution_count": null,
   "metadata": {},
   "outputs": [],
   "source": [
    "@btime _jump_indices_12($F, $L, $U);"
   ]
  },
  {
   "cell_type": "code",
   "execution_count": null,
   "metadata": {},
   "outputs": [],
   "source": [
    "@btime overapproximate($F, $Hyperrectangle);"
   ]
  },
  {
   "cell_type": "code",
   "execution_count": null,
   "metadata": {},
   "outputs": [],
   "source": [
    "# overapproximate(F, Hyperrectangle) # ????"
   ]
  },
  {
   "cell_type": "code",
   "execution_count": null,
   "metadata": {},
   "outputs": [],
   "source": [
    "X = set(F)\n",
    "@btime box_approximation($X)"
   ]
  },
  {
   "cell_type": "code",
   "execution_count": null,
   "metadata": {},
   "outputs": [],
   "source": [
    "#isdisjoint(overapproximate(F, Hyperrectangle), L[1]) # not implemented\n",
    "\n",
    "isdisjoint(overapproximate(F, Hyperrectangle), overapproximate(L[1], Hyperrectangle)) # not implemented"
   ]
  },
  {
   "cell_type": "code",
   "execution_count": null,
   "metadata": {},
   "outputs": [],
   "source": [
    "# Idea : speedup with box OA\n",
    "\n",
    "# return the indices in the flowpipe fp that intersect any of the guard sets L and U\n",
    "# in the variables x1 and x2\n",
    "function _jump_indices_3(F::Flowpipe{N, <:ReachSet{N, <:VPolytope}}, L::Vector{<:VPolygon}, U::Vector{<:VPolygon}) where {N}\n",
    "    # return a vector that contains: index of F where intersection happens,\n",
    "    # index of vector L (or -1 if the intersection is with an element of L),\n",
    "    # index of vector U (or -1 if the intersection is with an element of U),\n",
    "    # actualy intersection\n",
    "    VT = SVector{2, Float64}\n",
    "    idx = Vector{Tuple{Int, Int, Int, VPolygon{N, VT}}}()\n",
    "\n",
    "    # eliminate sets from L and U which do not intersect the flowpipe\n",
    "    Fbox = overapproximate(set(F), Hyperrectangle) # UnionSetArray(...)\n",
    "\n",
    "    Lidx = Vector{Int}() \n",
    "    for (j, Lj) in enumerate(L)\n",
    "        Ljbox = overapproximate(Lj, Hyperrectangle)\n",
    "        println(\"j = $j\")\n",
    "        if !isdisjoint(Fbox, Ljbox)\n",
    "            push!(Lidx, j)\n",
    "        end\n",
    "    end\n",
    "\n",
    "    Uidx = Vector{Int}() \n",
    "    for (j, Uj) in enumerate(U)\n",
    "        Ujbox = overapproximate(Uj, Hyperrectangle)\n",
    "        if !isdisjoint(Fbox, Ujbox)\n",
    "            push!(Uidx, j)\n",
    "        end\n",
    "    end\n",
    "\n",
    "    for (i, R) in enumerate(F)\n",
    "\n",
    "        # reach-set (polygon) in x1-x2 coordinates \n",
    "        X = convert(VPolygon, linear_map(πM12, set(R)))\n",
    "\n",
    "        for j in Lidx\n",
    "            Xint_L = intersection(X, L[j])\n",
    "            if !isempty(Xint_L)\n",
    "                push!(idx, (i, j, -1, Xint_L))\n",
    "            end\n",
    "        end\n",
    "\n",
    "        # TODO refactor\n",
    "        for j in Uidx\n",
    "            Xint_U = intersection(X, U[j])\n",
    "            if !isempty(Xint_U)\n",
    "                push!(idx, (i, -1, j, Xint_U))\n",
    "            end\n",
    "        end\n",
    "    end\n",
    "    return idx\n",
    "end"
   ]
  },
  {
   "cell_type": "code",
   "execution_count": null,
   "metadata": {},
   "outputs": [],
   "source": [
    "Fbox = overapproximate(set(F), Hyperrectangle)\n",
    "\n",
    "Ljbox = overapproximate(L[1], Hyperrectangle)\n",
    "Ljbox = Hyperrectangle(Vector(Ljbox.center), Vector(Ljbox.radius))\n",
    "\n",
    "typeof(Fbox)"
   ]
  },
  {
   "cell_type": "code",
   "execution_count": null,
   "metadata": {},
   "outputs": [],
   "source": [
    "typeof(Ljbox)"
   ]
  },
  {
   "cell_type": "code",
   "execution_count": null,
   "metadata": {},
   "outputs": [],
   "source": [
    "Fbox"
   ]
  },
  {
   "cell_type": "code",
   "execution_count": null,
   "metadata": {},
   "outputs": [],
   "source": [
    "Ljbox"
   ]
  },
  {
   "cell_type": "code",
   "execution_count": null,
   "metadata": {},
   "outputs": [],
   "source": [
    "is_intersection_empty(Fbox, Ljbox)"
   ]
  },
  {
   "cell_type": "code",
   "execution_count": null,
   "metadata": {},
   "outputs": [],
   "source": []
  },
  {
   "cell_type": "code",
   "execution_count": null,
   "metadata": {},
   "outputs": [],
   "source": [
    "_jump_indices_3(F, L, U);"
   ]
  },
  {
   "cell_type": "code",
   "execution_count": null,
   "metadata": {},
   "outputs": [],
   "source": [
    "@btime _jump_indices_3($F, $L, $U);"
   ]
  },
  {
   "cell_type": "code",
   "execution_count": null,
   "metadata": {},
   "outputs": [],
   "source": [
    "function cluster_polygon(J::Vector{Tuple{Int, Symbol, VPolygon{N, VT}}}) where {N, VT}\n",
    "    first_idx = first(J)[1]\n",
    "    last_idx = last(J)[1]\n",
    "\n",
    "    vall = Vector{VT}()\n",
    "    for Ji in J\n",
    "        for vi in vertices_list(Ji[3])\n",
    "            push!(vall, vi)\n",
    "        end\n",
    "    end\n",
    "    return VPolygon(vall)\n",
    "end"
   ]
  },
  {
   "cell_type": "code",
   "execution_count": null,
   "metadata": {},
   "outputs": [],
   "source": []
  }
 ],
 "metadata": {
  "@webio": {
   "lastCommId": null,
   "lastKernelId": null
  },
  "kernelspec": {
   "display_name": "Julia 1.5.2",
   "language": "julia",
   "name": "julia-1.5"
  },
  "language_info": {
   "file_extension": ".jl",
   "mimetype": "application/julia",
   "name": "julia",
   "version": "1.5.2"
  }
 },
 "nbformat": 4,
 "nbformat_minor": 2
}
