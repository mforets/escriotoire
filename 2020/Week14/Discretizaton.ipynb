{
 "cells": [
  {
   "cell_type": "markdown",
   "metadata": {},
   "source": [
    "## Old bits from `discretization.jl`"
   ]
  },
  {
   "cell_type": "code",
   "execution_count": 1,
   "metadata": {},
   "outputs": [],
   "source": [
    "\n",
    "#=\n",
    "function discretization(P::IVP{<:LCS, <:LazySet}, δ)\n",
    "    # transforms to a CLCS (ConstrainedLinearContinuousSystem),\n",
    "    # where the constraint is the universal set\n",
    "    Snorm = Reachability.normalize(P.s)\n",
    "    Pnorm = InitialValueProblem(Snorm, P.x0)\n",
    "    return _discretize_homog(Pnorm, δ)\n",
    "end\n",
    "=#\n",
    "\n",
    "#==\n",
    "function discretization(P::IVP{<:CLCCS, <:LazySet}, δ)\n",
    "    # transforms to a Constrained Linear Control Continuous System\n",
    "    # in particular, inputs passed as a LazySet are wrapped into a\n",
    "    # ConstantInput and inputs passed as a vector are wrapped as a\n",
    "    # VaryingInput\n",
    "    Snorm = Reachability.normalize(P.s)\n",
    "    Pnorm = InitialValueProblem(Snorm, P.x0)\n",
    "    return _discretize_inhomog(Pnorm, δ)\n",
    "end\n",
    "=#\n",
    "\n",
    "# ======================\n",
    "\n",
    "#=\n",
    "function discretize(ivp_norm::IVP{<:CLCCS, <:LazySet}, δ::Float64, alg::ForwardApproximation)\n",
    "    error(\"to-do\")\n",
    "end\n",
    "=#\n",
    "\n",
    "#=\n",
    "function discretize(S::AbstractContinuousSystem, X0::LazySet, δ::Float64,\n",
    "                    algo::AbstractApproximationModel=_default_approximation_model(ivp))\n",
    "    # ...\n",
    "    error(\"TODO\")\n",
    "end\n",
    "=#\n"
   ]
  }
 ],
 "metadata": {
  "kernelspec": {
   "display_name": "Julia 1.4.0",
   "language": "julia",
   "name": "julia-1.4"
  },
  "language_info": {
   "file_extension": ".jl",
   "mimetype": "application/julia",
   "name": "julia",
   "version": "1.4.0"
  }
 },
 "nbformat": 4,
 "nbformat_minor": 2
}
