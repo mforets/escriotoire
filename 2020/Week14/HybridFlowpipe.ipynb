{
 "cells": [
  {
   "cell_type": "code",
   "execution_count": null,
   "metadata": {},
   "outputs": [],
   "source": [
    "using Revise, RecursiveArrayTools, ReachabilityAnalysis"
   ]
  },
  {
   "cell_type": "code",
   "execution_count": null,
   "metadata": {},
   "outputs": [],
   "source": [
    "sol1 = solve(@ivp(x' = -x, x(0) ∈ 0.5 .. 0.6), tspan=(0.0, 5.0));\n",
    "sol2 = solve(@ivp(x' = -x, x(0) ∈ 0.6 .. 0.7), tspan=(0.0, 5.0));"
   ]
  },
  {
   "cell_type": "code",
   "execution_count": null,
   "metadata": {},
   "outputs": [],
   "source": [
    "fp = HybridFlowpipe([sol1, sol2]);"
   ]
  },
  {
   "cell_type": "code",
   "execution_count": null,
   "metadata": {},
   "outputs": [],
   "source": [
    "dim(fp[1, 1])"
   ]
  },
  {
   "cell_type": "code",
   "execution_count": null,
   "metadata": {},
   "outputs": [],
   "source": []
  },
  {
   "cell_type": "code",
   "execution_count": null,
   "metadata": {},
   "outputs": [],
   "source": []
  },
  {
   "cell_type": "code",
   "execution_count": null,
   "metadata": {},
   "outputs": [],
   "source": [
    "v = VectorOfArray([sol1, sol2]);"
   ]
  },
  {
   "cell_type": "code",
   "execution_count": null,
   "metadata": {},
   "outputs": [],
   "source": [
    "typeof(v)"
   ]
  },
  {
   "cell_type": "code",
   "execution_count": null,
   "metadata": {},
   "outputs": [],
   "source": [
    "#VectorOfArray{RT, N, Flowpipe{N, RT}}([sol1, sol2])"
   ]
  },
  {
   "cell_type": "code",
   "execution_count": null,
   "metadata": {},
   "outputs": [],
   "source": [
    "N = Float64\n",
    "RT = ReachSet{Float64,Interval{Float64,IntervalArithmetic.Interval{Float64}}}\n",
    "\n",
    "voa = VectorOfArray{RT, 2, Vector{Flowpipe{N, RT}}}([sol1, sol2]);"
   ]
  },
  {
   "cell_type": "code",
   "execution_count": null,
   "metadata": {},
   "outputs": [],
   "source": [
    "d = Dict(\"a\"=>1.0, \"b\"=>2.0)"
   ]
  },
  {
   "cell_type": "code",
   "execution_count": null,
   "metadata": {},
   "outputs": [],
   "source": [
    "d[\"c\"] = 34.0"
   ]
  },
  {
   "cell_type": "code",
   "execution_count": null,
   "metadata": {},
   "outputs": [],
   "source": [
    "d"
   ]
  },
  {
   "cell_type": "code",
   "execution_count": null,
   "metadata": {},
   "outputs": [],
   "source": [
    "Base.size(fp::Flowpipe) = (length(fp),)"
   ]
  },
  {
   "cell_type": "code",
   "execution_count": null,
   "metadata": {},
   "outputs": [],
   "source": [
    "t = (1, 2, 3.0)\n",
    "typeof(t)"
   ]
  },
  {
   "cell_type": "code",
   "execution_count": null,
   "metadata": {},
   "outputs": [],
   "source": [
    "size([])"
   ]
  },
  {
   "cell_type": "code",
   "execution_count": null,
   "metadata": {},
   "outputs": [],
   "source": [
    "?NTuple"
   ]
  },
  {
   "cell_type": "code",
   "execution_count": null,
   "metadata": {},
   "outputs": [],
   "source": [
    "a1 = [1, 2, 3]\n",
    "a2 = [4, 5]"
   ]
  },
  {
   "cell_type": "code",
   "execution_count": null,
   "metadata": {},
   "outputs": [],
   "source": [
    "@which VectorOfArray([a1, a2])"
   ]
  },
  {
   "cell_type": "code",
   "execution_count": null,
   "metadata": {},
   "outputs": [],
   "source": [
    "size(v)"
   ]
  },
  {
   "cell_type": "code",
   "execution_count": null,
   "metadata": {},
   "outputs": [],
   "source": []
  },
  {
   "cell_type": "code",
   "execution_count": null,
   "metadata": {},
   "outputs": [],
   "source": [
    "@which VectorOfArray([sol1, sol2])"
   ]
  },
  {
   "cell_type": "code",
   "execution_count": null,
   "metadata": {},
   "outputs": [],
   "source": [
    "v[1, 1]"
   ]
  },
  {
   "cell_type": "code",
   "execution_count": null,
   "metadata": {},
   "outputs": [],
   "source": [
    "typeof(v)"
   ]
  },
  {
   "cell_type": "code",
   "execution_count": null,
   "metadata": {},
   "outputs": [],
   "source": [
    "typeof(sol1)"
   ]
  },
  {
   "cell_type": "code",
   "execution_count": null,
   "metadata": {},
   "outputs": [],
   "source": [
    "typeof(sol2)"
   ]
  },
  {
   "cell_type": "code",
   "execution_count": null,
   "metadata": {},
   "outputs": [],
   "source": [
    "a1 = [rand(2, 2) for _ in 1:3]\n",
    "a2 = [rand(Float32, 3) for _ in 1:3]\n",
    "x = vcat(a1, a2)"
   ]
  },
  {
   "cell_type": "code",
   "execution_count": null,
   "metadata": {},
   "outputs": [],
   "source": [
    "typeof(size(a1[1])) == NTuple{2, Int}"
   ]
  },
  {
   "cell_type": "code",
   "execution_count": null,
   "metadata": {},
   "outputs": [],
   "source": [
    "typeof((3, 3, 4)) == NTuple{3, Int}"
   ]
  },
  {
   "cell_type": "code",
   "execution_count": null,
   "metadata": {},
   "outputs": [],
   "source": [
    "v = VectorOfArray(x)"
   ]
  },
  {
   "cell_type": "code",
   "execution_count": null,
   "metadata": {},
   "outputs": [],
   "source": [
    "typeof(v)"
   ]
  },
  {
   "cell_type": "code",
   "execution_count": null,
   "metadata": {},
   "outputs": [],
   "source": [
    "x[1][1:2]"
   ]
  },
  {
   "cell_type": "code",
   "execution_count": null,
   "metadata": {},
   "outputs": [],
   "source": [
    "v[1:2, 1]"
   ]
  },
  {
   "cell_type": "code",
   "execution_count": null,
   "metadata": {},
   "outputs": [],
   "source": [
    "x[1, 1]"
   ]
  },
  {
   "cell_type": "code",
   "execution_count": null,
   "metadata": {},
   "outputs": [],
   "source": [
    "typeof(v)"
   ]
  },
  {
   "cell_type": "code",
   "execution_count": null,
   "metadata": {},
   "outputs": [],
   "source": [
    "v[1]"
   ]
  },
  {
   "cell_type": "code",
   "execution_count": null,
   "metadata": {},
   "outputs": [],
   "source": [
    "v[2]"
   ]
  },
  {
   "cell_type": "code",
   "execution_count": null,
   "metadata": {},
   "outputs": [],
   "source": [
    "v[3]"
   ]
  },
  {
   "cell_type": "code",
   "execution_count": null,
   "metadata": {},
   "outputs": [],
   "source": [
    "v[4]"
   ]
  },
  {
   "cell_type": "code",
   "execution_count": null,
   "metadata": {},
   "outputs": [],
   "source": [
    "v[1, 1]"
   ]
  },
  {
   "cell_type": "code",
   "execution_count": null,
   "metadata": {},
   "outputs": [],
   "source": [
    "v[2, 1]"
   ]
  },
  {
   "cell_type": "code",
   "execution_count": null,
   "metadata": {},
   "outputs": [],
   "source": [
    "for vi in v\n",
    "    println(vi)\n",
    "end"
   ]
  },
  {
   "cell_type": "code",
   "execution_count": null,
   "metadata": {},
   "outputs": [],
   "source": [
    "for vi in v\n",
    "    for X in vi\n",
    "        println(X)\n",
    "    end\n",
    "end"
   ]
  },
  {
   "cell_type": "markdown",
   "metadata": {},
   "source": [
    "## Evaluation-like behavior"
   ]
  },
  {
   "cell_type": "markdown",
   "metadata": {},
   "source": [
    "### Initial version for points"
   ]
  },
  {
   "cell_type": "code",
   "execution_count": null,
   "metadata": {},
   "outputs": [],
   "source": [
    "# initial version\n",
    "function (fp::HybridFlowpipe)(t::Number)\n",
    "    Fk = array(fp)\n",
    "    @inbounds for (i, F) in enumerate(Fk)\n",
    "        for (j, X) in enumerate(F)\n",
    "            if t ∈ tspan(X) # exit on the first occurrence\n",
    "                if j < length(F) && t ∈ tspan(F[i+1])\n",
    "                    return view(Fk, j:j+1, i)\n",
    "                else\n",
    "                    return X\n",
    "                end\n",
    "            end\n",
    "        end\n",
    "    end\n",
    "    throw(ArgumentError(\"time $t does not belong to the time span, \" *\n",
    "                        \"$(tspan(fp)), of the given flowpipe\"))\n",
    "end"
   ]
  },
  {
   "cell_type": "markdown",
   "metadata": {},
   "source": [
    "### Faster version for points"
   ]
  },
  {
   "cell_type": "code",
   "execution_count": null,
   "metadata": {},
   "outputs": [],
   "source": [
    "# faster version: first consider the time span of each\n",
    "# outer flowpipe\n",
    "function _find(fp::HybridFlowpipe, t::Number)\n",
    "    Fk = array(fp)\n",
    "    i = 1\n",
    "    while t ∉ tspan(Fk[i])\n",
    "        i += 1\n",
    "    end\n",
    "    i > length(Fk) && @goto error_msg\n",
    "    F = Fk[i]\n",
    "    @inbounds for (j, X) in enumerate(F)\n",
    "        if t ∈ tspan(X) # exit on the first occurrence\n",
    "            if j < length(F) && t ∈ tspan(F[i+1])\n",
    "                return view(Fk, j:j+1, i)\n",
    "            else\n",
    "                return X\n",
    "            end\n",
    "        end\n",
    "    end\n",
    "    @label error_msg\n",
    "    throw(ArgumentError(\"time $t does not belong to the time span, \" *\n",
    "                        \"$(tspan(fp)), of the given flowpipe\"))\n",
    "end"
   ]
  },
  {
   "cell_type": "markdown",
   "metadata": {},
   "source": [
    "---"
   ]
  },
  {
   "cell_type": "code",
   "execution_count": 1,
   "metadata": {},
   "outputs": [
    {
     "name": "stderr",
     "output_type": "stream",
     "text": [
      "┌ Info: Precompiling ReachabilityAnalysis [1e97bd63-91d1-579d-8e8d-501d2b57c93f]\n",
      "└ @ Base loading.jl:1260\n"
     ]
    },
    {
     "data": {
      "text/plain": [
       "embrake_pv_2 (generic function with 1 method)"
      ]
     },
     "execution_count": 1,
     "metadata": {},
     "output_type": "execute_result"
    }
   ],
   "source": [
    "using Revise, ReachabilityAnalysis, BenchmarkTools\n",
    "const RA = ReachabilityAnalysis\n",
    "using Plots\n",
    "include(\"/home/mforets/.julia/dev/ReachabilityAnalysis/test/models/hybrid/embrake.jl\")"
   ]
  },
  {
   "cell_type": "code",
   "execution_count": 2,
   "metadata": {},
   "outputs": [],
   "source": [
    "prob = embrake_no_pv(ζ=0.0, Tsample=1e-4);"
   ]
  },
  {
   "cell_type": "code",
   "execution_count": 3,
   "metadata": {},
   "outputs": [
    {
     "name": "stdout",
     "output_type": "stream",
     "text": [
      " 11.436513 seconds (38.25 M allocations: 1.944 GiB, 4.89% gc time)\n"
     ]
    }
   ],
   "source": [
    "@time sol = solve(prob, alg=GLGM06(δ=1e-8), max_jumps=20);"
   ]
  },
  {
   "cell_type": "code",
   "execution_count": 4,
   "metadata": {},
   "outputs": [
    {
     "data": {
      "text/plain": [
       "HybridFlowpipe{Float64,ReachSet{Float64,Zonotope{Float64,Array{Float64,1},Array{Float64,2}}},Flowpipe{Float64,ReachSet{Float64,Zonotope{Float64,Array{Float64,1},Array{Float64,2}}}}}"
      ]
     },
     "execution_count": 4,
     "metadata": {},
     "output_type": "execute_result"
    }
   ],
   "source": [
    "fp = flowpipe(sol);\n",
    "typeof(fp)"
   ]
  },
  {
   "cell_type": "code",
   "execution_count": 5,
   "metadata": {},
   "outputs": [
    {
     "data": {
      "text/plain": [
       "HybridFlowpipe{Float64,ReachSet{Float64,Zonotope{Float64,Array{Float64,1},Array{Float64,2}}},Flowpipe{Float64,ReachSet{Float64,Zonotope{Float64,Array{Float64,1},Array{Float64,2}}}}}(Flowpipe{Float64,ReachSet{Float64,Zonotope{Float64,Array{Float64,1},Array{Float64,2}}}}[], Dict{Symbol,Any}())"
      ]
     },
     "execution_count": 5,
     "metadata": {},
     "output_type": "execute_result"
    }
   ],
   "source": [
    "similar(fp)"
   ]
  },
  {
   "cell_type": "code",
   "execution_count": 8,
   "metadata": {},
   "outputs": [
    {
     "data": {
      "text/html": [
       "getindex(A::<b>AbstractArray</b>, I...) in Base at <a href=\"https://github.com/JuliaLang/julia/tree/b8e9a9ecc62ab49003bd4f1834771bdeb8cb1aa2/base/abstractarray.jl#L978\" target=\"_blank\">abstractarray.jl:978</a>"
      ],
      "text/plain": [
       "getindex(A::AbstractArray, I...) in Base at abstractarray.jl:978"
      ]
     },
     "execution_count": 8,
     "metadata": {},
     "output_type": "execute_result"
    }
   ],
   "source": [
    "@which sol.F.Fk[1:10, 1]"
   ]
  },
  {
   "cell_type": "code",
   "execution_count": null,
   "metadata": {},
   "outputs": [],
   "source": []
  },
  {
   "cell_type": "code",
   "execution_count": null,
   "metadata": {},
   "outputs": [],
   "source": [
    "similar(fp)"
   ]
  },
  {
   "cell_type": "code",
   "execution_count": null,
   "metadata": {},
   "outputs": [],
   "source": [
    "s = solve(@ivp(x' = rand(2, 2) * x, x(0) ∈ rand(Hyperrectangle, dim=2)), T=5.0);"
   ]
  },
  {
   "cell_type": "code",
   "execution_count": null,
   "metadata": {},
   "outputs": [],
   "source": [
    "p = project(s, (0, 1));"
   ]
  },
  {
   "cell_type": "code",
   "execution_count": null,
   "metadata": {},
   "outputs": [],
   "source": [
    "s.F;"
   ]
  },
  {
   "cell_type": "code",
   "execution_count": null,
   "metadata": {},
   "outputs": [],
   "source": [
    "overapproximate(s, Hyperrectangle)"
   ]
  },
  {
   "cell_type": "code",
   "execution_count": null,
   "metadata": {},
   "outputs": [],
   "source": [
    "function find_dt(fp::HybridFlowpipe)(dt::TimeInterval)\n",
    "    # here we assume that indices are one-based, ie. form 1 .. n\n",
    "    firstidx = 0\n",
    "    lastidx = 0\n",
    "    α = inf(dt)\n",
    "    β = sup(dt)\n",
    "    Fk = array(fp)\n",
    "\n",
    "    # search first intersecting flowpipe\n",
    "    i = 1\n",
    "    while α ∉ tspan(Fk[i])\n",
    "        i += 1\n",
    "    end\n",
    "    i > length(Fk) && @goto error_msg\n",
    "    firstfp = i\n",
    "\n",
    "    # search last intersecting flowpipe\n",
    "    i = 1\n",
    "    while t ∉ tspan(Fk[i])\n",
    "        i += 1\n",
    "    end\n",
    "    i > length(Fk) && @goto error_msg\n",
    "    firstfp = i\n",
    "\n",
    "    for (i, X) in enumerate(Xk)\n",
    "        if α ∈ tspan(X)\n",
    "            firstidx = i\n",
    "        end\n",
    "        if β ∈ tspan(X)\n",
    "            lastidx = i\n",
    "        end\n",
    "    end\n",
    "    if firstidx == 0 || lastidx == 0\n",
    "        throw(ArgumentError(\"the time interval $dt is not contained in the time span, \" *\n",
    "                            \"$(tspan(fp)), of the given flowpipe\"))\n",
    "    end\n",
    "    return view(Xk, firstidx:lastidx)\n",
    "end"
   ]
  }
 ],
 "metadata": {
  "kernelspec": {
   "display_name": "Julia 1.4.0",
   "language": "julia",
   "name": "julia-1.4"
  },
  "language_info": {
   "file_extension": ".jl",
   "mimetype": "application/julia",
   "name": "julia",
   "version": "1.4.0"
  }
 },
 "nbformat": 4,
 "nbformat_minor": 2
}
