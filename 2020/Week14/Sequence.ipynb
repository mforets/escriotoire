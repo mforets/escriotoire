{
 "cells": [
  {
   "cell_type": "markdown",
   "metadata": {},
   "source": [
    "## Problem statement"
   ]
  },
  {
   "cell_type": "markdown",
   "metadata": {},
   "source": [
    "Let $\\Phi \\in \\mathbb{R}^{n\\times n}$ and let $\\Omega_0 = \\langle c_0, G_0\\rangle$ be a zonotope, i.e. a set defined by its center $c \\in \\mathbb{R}^n$ and generators matrix $G_0 \\in \\mathbb{R}^{n\\times p}$:\n",
    "\n",
    "$$\\Omega_0 = \\left\\{ x \\in \\mathbb{R}^n: x = c + \\sum_{i=1}^p \\xi_i g_i,\\qquad  \\xi_i \\in [-1, 1]~~\\forall i \\in 1,\\ldots, p\\right\\},\n",
    "$$\n",
    "where $g_i$ denotes the $i$-th column of $G$.\n",
    "\n",
    "How do you go about efficiently computing $\\{\\Omega_0, \\Phi \\Omega_0, \\ldots, \\Phi^{k-1}\\Omega_0\\}$ in Julia?"
   ]
  },
  {
   "cell_type": "markdown",
   "metadata": {},
   "source": [
    "## Running example"
   ]
  },
  {
   "cell_type": "markdown",
   "metadata": {},
   "source": [
    "Our running example is the \"motor\" model."
   ]
  },
  {
   "cell_type": "code",
   "execution_count": null,
   "metadata": {},
   "outputs": [],
   "source": [
    "Φ, Ω0, N"
   ]
  },
  {
   "cell_type": "code",
   "execution_count": 7,
   "metadata": {},
   "outputs": [],
   "source": [
    "using Revise, LazySets, BenchmarkTools, Test, StaticArrays\n",
    "using LinearAlgebra"
   ]
  },
  {
   "cell_type": "code",
   "execution_count": 3,
   "metadata": {},
   "outputs": [],
   "source": [
    "Φ = rand(2, 2)\n",
    "Ω0 = rand(Zonotope, dim=2);"
   ]
  },
  {
   "cell_type": "code",
   "execution_count": null,
   "metadata": {},
   "outputs": [],
   "source": [
    "function seq_v1(Φ::AbstractMatrix{N}, Ω0::Zonotope{N, VN, MN}, kmax::Int) where {N, VN, MN}\n",
    "    c0 = Ω0.center\n",
    "    G0 = Ω0.generators\n",
    "\n",
    "    out = Vector{typeof(Ω0)}(undef, kmax)\n",
    "    out[1] = Ω0\n",
    "\n",
    "    Φ_power_k = copy(Φ)\n",
    "    Φ_power_k_cache = similar(Φ)\n",
    "\n",
    "    @inbounds for i in 1:kmax-1\n",
    "        mul!(ΦV0mat, Φ_power_k, V0.vertices)\n",
    "        push!(res, VPolygonM(copy(ΦV0mat)))\n",
    "\n",
    "        mul!(Φ_power_k_cache, Φ_power_k, Φ)\n",
    "        copy!(Φ_power_k, Φ_power_k_cache)\n",
    "    end\n",
    "    return res\n",
    "end"
   ]
  },
  {
   "cell_type": "code",
   "execution_count": null,
   "metadata": {},
   "outputs": [],
   "source": []
  },
  {
   "cell_type": "code",
   "execution_count": null,
   "metadata": {},
   "outputs": [],
   "source": [
    "function seq_v2(Φ::AbstractMatrix{N}, Ω0::Zonotope{N, VN, MN}, kmax::Int) where {N, VN, MN}\n",
    "    c0 = Ω0.center\n",
    "    G0 = Ω0.generators\n",
    "\n",
    "    out = Vector{typeof(Ω0)}(undef, kmax)\n",
    "    out[1] = Ω0\n",
    "\n",
    "    Φ_power_k = copy(Φ)\n",
    "    Φ_power_k_cache = similar(Φ)\n",
    "\n",
    "    @inbounds for i in 1:kmax-1\n",
    "        mul!(ΦV0mat, Φ_power_k, V0.vertices)\n",
    "        push!(res, VPolygonM(copy(ΦV0mat)))\n",
    "\n",
    "        mul!(Φ_power_k_cache, Φ_power_k, Φ)\n",
    "        copy!(Φ_power_k, Φ_power_k_cache)\n",
    "    end\n",
    "    return res\n",
    "end"
   ]
  },
  {
   "cell_type": "code",
   "execution_count": 9,
   "metadata": {},
   "outputs": [
    {
     "name": "stdout",
     "output_type": "stream",
     "text": [
      "search: \u001b[0m\u001b[1mm\u001b[22m\u001b[0m\u001b[1mu\u001b[22m\u001b[0m\u001b[1ml\u001b[22m\u001b[0m\u001b[1m!\u001b[22m r\u001b[0m\u001b[1mm\u001b[22m\u001b[0m\u001b[1mu\u001b[22m\u001b[0m\u001b[1ml\u001b[22m\u001b[0m\u001b[1m!\u001b[22m l\u001b[0m\u001b[1mm\u001b[22m\u001b[0m\u001b[1mu\u001b[22m\u001b[0m\u001b[1ml\u001b[22m\u001b[0m\u001b[1m!\u001b[22m accu\u001b[0m\u001b[1mm\u001b[22m\u001b[0m\u001b[1mu\u001b[22m\u001b[0m\u001b[1ml\u001b[22mate\u001b[0m\u001b[1m!\u001b[22m \u001b[0m\u001b[1mm\u001b[22m\u001b[0m\u001b[1mu\u001b[22m\u001b[0m\u001b[1ml\u001b[22madd wide\u001b[0m\u001b[1mm\u001b[22m\u001b[0m\u001b[1mu\u001b[22m\u001b[0m\u001b[1ml\u001b[22m accu\u001b[0m\u001b[1mm\u001b[22m\u001b[0m\u001b[1mu\u001b[22m\u001b[0m\u001b[1ml\u001b[22mate \u001b[0m\u001b[1mm\u001b[22mod\u001b[0m\u001b[1mu\u001b[22m\u001b[0m\u001b[1ml\u001b[22me \u001b[0m\u001b[1mM\u001b[22mod\u001b[0m\u001b[1mu\u001b[22m\u001b[0m\u001b[1ml\u001b[22me\n",
      "\n"
     ]
    },
    {
     "data": {
      "text/latex": [
       "\\begin{verbatim}\n",
       "mul!(Y, A, B) -> Y\n",
       "\\end{verbatim}\n",
       "Calculates the matrix-matrix or matrix-vector product $AB$ and stores the result in \\texttt{Y}, overwriting the existing value of \\texttt{Y}. Note that \\texttt{Y} must not be aliased with either \\texttt{A} or \\texttt{B}.\n",
       "\n",
       "\\section{Examples}\n",
       "\\begin{verbatim}\n",
       "julia> A=[1.0 2.0; 3.0 4.0]; B=[1.0 1.0; 1.0 1.0]; Y = similar(B); mul!(Y, A, B);\n",
       "\n",
       "julia> Y\n",
       "2×2 Array{Float64,2}:\n",
       " 3.0  3.0\n",
       " 7.0  7.0\n",
       "\\end{verbatim}\n",
       "\\section{Implementation}\n",
       "For custom matrix and vector types, it is recommended to implement 5-argument \\texttt{mul!} rather than implementing 3-argument \\texttt{mul!} directly if possible.\n",
       "\n",
       "\\rule{\\textwidth}{1pt}\n",
       "\\begin{verbatim}\n",
       "mul!(C, A, B, α, β) -> C\n",
       "\\end{verbatim}\n",
       "Combined inplace matrix-matrix or matrix-vector multiply-add $A B α + C β$. The result is stored in \\texttt{C} by overwriting it.  Note that \\texttt{C} must not be aliased with either \\texttt{A} or \\texttt{B}.\n",
       "\n",
       "\\begin{quote}\n",
       "\\textbf{compat}\n",
       "\n",
       "Julia 1.3\n",
       "\n",
       "Five-argument \\texttt{mul!} requires at least Julia 1.3.\n",
       "\n",
       "\\end{quote}\n",
       "\\section{Examples}\n",
       "\\begin{verbatim}\n",
       "julia> A=[1.0 2.0; 3.0 4.0]; B=[1.0 1.0; 1.0 1.0]; C=[1.0 2.0; 3.0 4.0];\n",
       "\n",
       "julia> mul!(C, A, B, 100.0, 10.0) === C\n",
       "true\n",
       "\n",
       "julia> C\n",
       "2×2 Array{Float64,2}:\n",
       " 310.0  320.0\n",
       " 730.0  740.0\n",
       "\\end{verbatim}\n"
      ],
      "text/markdown": [
       "```\n",
       "mul!(Y, A, B) -> Y\n",
       "```\n",
       "\n",
       "Calculates the matrix-matrix or matrix-vector product $AB$ and stores the result in `Y`, overwriting the existing value of `Y`. Note that `Y` must not be aliased with either `A` or `B`.\n",
       "\n",
       "# Examples\n",
       "\n",
       "```jldoctest\n",
       "julia> A=[1.0 2.0; 3.0 4.0]; B=[1.0 1.0; 1.0 1.0]; Y = similar(B); mul!(Y, A, B);\n",
       "\n",
       "julia> Y\n",
       "2×2 Array{Float64,2}:\n",
       " 3.0  3.0\n",
       " 7.0  7.0\n",
       "```\n",
       "\n",
       "# Implementation\n",
       "\n",
       "For custom matrix and vector types, it is recommended to implement 5-argument `mul!` rather than implementing 3-argument `mul!` directly if possible.\n",
       "\n",
       "---\n",
       "\n",
       "```\n",
       "mul!(C, A, B, α, β) -> C\n",
       "```\n",
       "\n",
       "Combined inplace matrix-matrix or matrix-vector multiply-add $A B α + C β$. The result is stored in `C` by overwriting it.  Note that `C` must not be aliased with either `A` or `B`.\n",
       "\n",
       "!!! compat \"Julia 1.3\"\n",
       "    Five-argument `mul!` requires at least Julia 1.3.\n",
       "\n",
       "\n",
       "# Examples\n",
       "\n",
       "```jldoctest\n",
       "julia> A=[1.0 2.0; 3.0 4.0]; B=[1.0 1.0; 1.0 1.0]; C=[1.0 2.0; 3.0 4.0];\n",
       "\n",
       "julia> mul!(C, A, B, 100.0, 10.0) === C\n",
       "true\n",
       "\n",
       "julia> C\n",
       "2×2 Array{Float64,2}:\n",
       " 310.0  320.0\n",
       " 730.0  740.0\n",
       "```\n"
      ],
      "text/plain": [
       "\u001b[36m  mul!(Y, A, B) -> Y\u001b[39m\n",
       "\n",
       "  Calculates the matrix-matrix or matrix-vector product \u001b[35mAB\u001b[39m and stores the\n",
       "  result in \u001b[36mY\u001b[39m, overwriting the existing value of \u001b[36mY\u001b[39m. Note that \u001b[36mY\u001b[39m must not be\n",
       "  aliased with either \u001b[36mA\u001b[39m or \u001b[36mB\u001b[39m.\n",
       "\n",
       "\u001b[1m  Examples\u001b[22m\n",
       "\u001b[1m  ≡≡≡≡≡≡≡≡≡≡\u001b[22m\n",
       "\n",
       "\u001b[36m  julia> A=[1.0 2.0; 3.0 4.0]; B=[1.0 1.0; 1.0 1.0]; Y = similar(B); mul!(Y, A, B);\u001b[39m\n",
       "\u001b[36m  \u001b[39m\n",
       "\u001b[36m  julia> Y\u001b[39m\n",
       "\u001b[36m  2×2 Array{Float64,2}:\u001b[39m\n",
       "\u001b[36m   3.0  3.0\u001b[39m\n",
       "\u001b[36m   7.0  7.0\u001b[39m\n",
       "\n",
       "\u001b[1m  Implementation\u001b[22m\n",
       "\u001b[1m  ≡≡≡≡≡≡≡≡≡≡≡≡≡≡≡≡\u001b[22m\n",
       "\n",
       "  For custom matrix and vector types, it is recommended to implement\n",
       "  5-argument \u001b[36mmul!\u001b[39m rather than implementing 3-argument \u001b[36mmul!\u001b[39m directly if\n",
       "  possible.\n",
       "\n",
       "  ────────────────────────────────────────────────────────────────────────────\n",
       "\n",
       "\u001b[36m  mul!(C, A, B, α, β) -> C\u001b[39m\n",
       "\n",
       "  Combined inplace matrix-matrix or matrix-vector multiply-add \u001b[35mA B α + C β\u001b[39m.\n",
       "  The result is stored in \u001b[36mC\u001b[39m by overwriting it. Note that \u001b[36mC\u001b[39m must not be aliased\n",
       "  with either \u001b[36mA\u001b[39m or \u001b[36mB\u001b[39m.\n",
       "\n",
       "\u001b[39m\u001b[1m  │ \u001b[22m\u001b[39m\u001b[1mJulia 1.3\u001b[22m\n",
       "\u001b[39m\u001b[1m  │\u001b[22m\n",
       "\u001b[39m\u001b[1m  │\u001b[22m  Five-argument \u001b[36mmul!\u001b[39m requires at least Julia 1.3.\n",
       "\n",
       "\u001b[1m  Examples\u001b[22m\n",
       "\u001b[1m  ≡≡≡≡≡≡≡≡≡≡\u001b[22m\n",
       "\n",
       "\u001b[36m  julia> A=[1.0 2.0; 3.0 4.0]; B=[1.0 1.0; 1.0 1.0]; C=[1.0 2.0; 3.0 4.0];\u001b[39m\n",
       "\u001b[36m  \u001b[39m\n",
       "\u001b[36m  julia> mul!(C, A, B, 100.0, 10.0) === C\u001b[39m\n",
       "\u001b[36m  true\u001b[39m\n",
       "\u001b[36m  \u001b[39m\n",
       "\u001b[36m  julia> C\u001b[39m\n",
       "\u001b[36m  2×2 Array{Float64,2}:\u001b[39m\n",
       "\u001b[36m   310.0  320.0\u001b[39m\n",
       "\u001b[36m   730.0  740.0\u001b[39m"
      ]
     },
     "execution_count": 9,
     "metadata": {},
     "output_type": "execute_result"
    }
   ],
   "source": [
    "?mul!"
   ]
  },
  {
   "cell_type": "code",
   "execution_count": null,
   "metadata": {},
   "outputs": [],
   "source": []
  },
  {
   "cell_type": "code",
   "execution_count": null,
   "metadata": {},
   "outputs": [],
   "source": []
  }
 ],
 "metadata": {
  "kernelspec": {
   "display_name": "Julia 1.4.0",
   "language": "julia",
   "name": "julia-1.4"
  },
  "language_info": {
   "file_extension": ".jl",
   "mimetype": "application/julia",
   "name": "julia",
   "version": "1.4.0"
  }
 },
 "nbformat": 4,
 "nbformat_minor": 2
}
