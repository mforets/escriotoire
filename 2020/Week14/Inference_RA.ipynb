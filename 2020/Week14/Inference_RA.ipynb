{
 "cells": [
  {
   "cell_type": "code",
   "execution_count": null,
   "metadata": {},
   "outputs": [],
   "source": [
    "using InteractiveUtils, Test\n",
    "\n",
    "prob = @ivp(x' = -x, x(0) ∈ 0.5 .. 0.6)\n",
    "@btime solve($prob, T=1.0);\n",
    "@inferred RA._normalize(prob)\n",
    "@inferred RA.normalize(prob)\n",
    "@inferred discretize(RA._normalize(prob), 0.01, Forward())\n",
    "@inferred solve(prob, T=1.0)"
   ]
  }
 ],
 "metadata": {
  "kernelspec": {
   "display_name": "Julia 1.4.0",
   "language": "julia",
   "name": "julia-1.4"
  },
  "language_info": {
   "file_extension": ".jl",
   "mimetype": "application/julia",
   "name": "julia",
   "version": "1.4.0"
  }
 },
 "nbformat": 4,
 "nbformat_minor": 2
}
