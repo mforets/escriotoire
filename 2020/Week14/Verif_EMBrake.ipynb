{
 "cells": [
  {
   "cell_type": "code",
   "execution_count": 1,
   "metadata": {},
   "outputs": [],
   "source": [
    "using Revise, ReachabilityAnalysis, BenchmarkTools\n",
    "const RA = ReachabilityAnalysis\n",
    "using Plots"
   ]
  },
  {
   "cell_type": "code",
   "execution_count": 2,
   "metadata": {},
   "outputs": [
    {
     "data": {
      "text/plain": [
       "embrake_pv_2 (generic function with 1 method)"
      ]
     },
     "execution_count": 2,
     "metadata": {},
     "output_type": "execute_result"
    }
   ],
   "source": [
    "include(\"/home/mforets/.julia/dev/ReachabilityAnalysis/test/models/hybrid/embrake.jl\")"
   ]
  },
  {
   "cell_type": "markdown",
   "metadata": {},
   "source": [
    "## No prameter variation"
   ]
  },
  {
   "cell_type": "markdown",
   "metadata": {},
   "source": [
    "No jitter:"
   ]
  },
  {
   "cell_type": "code",
   "execution_count": null,
   "metadata": {},
   "outputs": [],
   "source": [
    "prob = embrake_no_pv(ζ=0.0, Tsample=1e-4);"
   ]
  },
  {
   "cell_type": "code",
   "execution_count": null,
   "metadata": {},
   "outputs": [],
   "source": [
    "@time sol = solve(prob, alg=GLGM06(δ=1e-8, max_order=3), max_jumps=1000, static=true);"
   ]
  },
  {
   "cell_type": "code",
   "execution_count": null,
   "metadata": {},
   "outputs": [],
   "source": [
    "diameter(set(project(sol[end][end], vars=(1)))) # variable I"
   ]
  },
  {
   "cell_type": "code",
   "execution_count": null,
   "metadata": {},
   "outputs": [],
   "source": [
    "length(sol) * length(sol[1])"
   ]
  },
  {
   "cell_type": "code",
   "execution_count": null,
   "metadata": {},
   "outputs": [],
   "source": [
    "diameter(set(project(sol[end][end], vars=(2)))) # variable x"
   ]
  },
  {
   "cell_type": "code",
   "execution_count": null,
   "metadata": {},
   "outputs": [],
   "source": [
    "@time sol = solve(prob, alg=GLGM06(δ=1e-8, max_order=10), max_jumps=200, static=false);"
   ]
  },
  {
   "cell_type": "code",
   "execution_count": null,
   "metadata": {},
   "outputs": [],
   "source": [
    "median([@elapsed sol = solve(prob, alg=GLGM06(δ=1e-8, max_order=3), max_jumps=1000, static=true) for _ in 1:10])\n",
    "# length(sol) * length(sol[1])"
   ]
  },
  {
   "cell_type": "code",
   "execution_count": null,
   "metadata": {},
   "outputs": [],
   "source": [
    "median([@elapsed sol = solve(prob, alg=BOX(δ=1e-8), max_jumps=100, static=true) for _ in 1:10])"
   ]
  },
  {
   "cell_type": "markdown",
   "metadata": {},
   "source": [
    "With jitter:"
   ]
  },
  {
   "cell_type": "code",
   "execution_count": null,
   "metadata": {},
   "outputs": [],
   "source": [
    "prob = embrake_no_pv(ζ=1e-7, Tsample=1e-4);\n",
    "\n",
    "#median([@elapsed sol = solve(prob, alg=GLGM06(δ=1e-8, max_order=3), max_jumps=1000, static=true) for _ in 1:10])\n",
    "\n",
    "#length(sol) * length(sol[1])"
   ]
  },
  {
   "cell_type": "code",
   "execution_count": null,
   "metadata": {},
   "outputs": [],
   "source": [
    "@time sol = solve(prob, alg=GLGM06(δ=1e-8, max_order=3), max_jumps=1000, static=true)\n",
    "\n",
    "@show diameter(set(project(sol[end][end], vars=(1)))) # variable I\n",
    "@show diameter(set(project(sol[end][end], vars=(2)))) # variable x"
   ]
  },
  {
   "cell_type": "code",
   "execution_count": null,
   "metadata": {},
   "outputs": [],
   "source": [
    "prob = embrake_no_pv(ζ=1e-7, Tsample=1e-4);\n",
    "sol_pv = solve(prob, alg=GLGM06(δ=1e-8), max_jumps=3, static=true);\n",
    "tspan(sol_pv[end][end])\n",
    "length(sol_pv) * length(sol_pv[4])"
   ]
  },
  {
   "cell_type": "code",
   "execution_count": null,
   "metadata": {},
   "outputs": [],
   "source": [
    "prob = embrake_no_pv(ζ=0.0, Tsample=1e-4);\n",
    "sol = solve(prob, alg=GLGM06(δ=1e-8), max_jumps=3, static=true)\n",
    "tspan(sol[end][end])\n",
    "length(sol) * length(sol[1])"
   ]
  },
  {
   "cell_type": "markdown",
   "metadata": {},
   "source": [
    "## With parameter variation (pv1)"
   ]
  },
  {
   "cell_type": "code",
   "execution_count": 3,
   "metadata": {},
   "outputs": [],
   "source": [
    "prob = embrake_pv_1(ζ=0.0, Tsample=1e-4);"
   ]
  },
  {
   "cell_type": "code",
   "execution_count": 4,
   "metadata": {},
   "outputs": [
    {
     "data": {
      "text/plain": [
       "post (generic function with 1 method)"
      ]
     },
     "execution_count": 4,
     "metadata": {},
     "output_type": "execute_result"
    }
   ],
   "source": [
    "using UnPack\n",
    "using ReachabilityAnalysis: AbstractContinuousPost, step_size\n",
    "\n",
    "function post(alg::AbstractContinuousPost, ivp::IVP{<:HACLD1}, max_jumps)\n",
    "\n",
    "    X0 = initial_state(ivp)\n",
    "    ha = system(ivp)\n",
    "    @unpack sys, rmap, Tsample, ζ = ha\n",
    "    t0 = 0.0\n",
    "    δ = step_size(alg)\n",
    "\n",
    "    # solve first interval\n",
    "    prob = IVP(sys, X0)\n",
    "    αlow = (Tsample - ζ)/δ\n",
    "    NLOW = ceil(Int, αlow)\n",
    "    if NLOW == 0\n",
    "        error(\"inconsistent choice of parameters: (Tsample - ζ)/δ = $αlow \" *\n",
    "              \"but it should be positive\")\n",
    "    end\n",
    "    αhigh = (Tsample + ζ)/δ\n",
    "    NHIGH = ceil(Int, αhigh)\n",
    "    return prob, NHIGH, alg\n",
    "end\n",
    "\n",
    "#=\n",
    "    # preallocate output vector of flowpipes\n",
    "    # TODO: use a custom flowpipe type, eg. HybridFlowpipe\n",
    "    FT = typeof(flowpipe(sol))\n",
    "    out = Vector{FT}()\n",
    "    sizehint!(out, max_jumps+1)\n",
    "\n",
    "    @inbounds for k in 1:max_jumps+1\n",
    "\n",
    "        # add time interval\n",
    "        aux = sol[1:NLOW] # Vector(sol(0 .. Tsample-ζ))\n",
    "\n",
    "        push!(out, shift(Flowpipe(aux), t0))\n",
    "\n",
    "        t0 += tstart(aux[end])\n",
    "\n",
    "        # Xend = sol(Tsample-ζ .. Tsample+ζ) |> Vector |> Flowpipe |> Convexify |> set\n",
    "        Xend = sol[NLOW:NHIGH] |> Vector |> Flowpipe |> Convexify |> set\n",
    "\n",
    "        prob = IVP(sys, rmap(Xend))\n",
    "        sol = solve(prob, NSTEPS=NHIGH, alg=alg; kwargs...)\n",
    "    end\n",
    "\n",
    "    return HybridFlowpipe(out)\n",
    "end\n",
    "=#"
   ]
  },
  {
   "cell_type": "code",
   "execution_count": 131,
   "metadata": {},
   "outputs": [],
   "source": [
    "prob_cont, NHIGH, alg = post(ASB07(δ=1e-5, max_order=1), prob, 0);"
   ]
  },
  {
   "cell_type": "code",
   "execution_count": 132,
   "metadata": {},
   "outputs": [
    {
     "data": {
      "text/plain": [
       "1.0e-5"
      ]
     },
     "execution_count": 132,
     "metadata": {},
     "output_type": "execute_result"
    }
   ],
   "source": [
    "alg.δ"
   ]
  },
  {
   "cell_type": "code",
   "execution_count": 134,
   "metadata": {},
   "outputs": [
    {
     "name": "stdout",
     "output_type": "stream",
     "text": [
      "  1.887836 seconds (18.12 M allocations: 2.829 GiB, 14.54% gc time)\n"
     ]
    }
   ],
   "source": [
    "@time sol = solve(prob_cont, NSTEPS=3_000, alg=alg, static=false);"
   ]
  },
  {
   "cell_type": "markdown",
   "metadata": {},
   "source": [
    "|NSTEPS| Runime|\n",
    "|------|------|\n",
    "|1000 | 0.74|\n",
    "|2000 | 1.67|\n",
    "|3000 | 7.15|"
   ]
  },
  {
   "cell_type": "code",
   "execution_count": 135,
   "metadata": {},
   "outputs": [
    {
     "data": {
      "text/plain": [
       "3.333333333332708"
      ]
     },
     "execution_count": 135,
     "metadata": {},
     "output_type": "execute_result"
    }
   ],
   "source": [
    "0.1 / tend(sol)"
   ]
  },
  {
   "cell_type": "code",
   "execution_count": 138,
   "metadata": {},
   "outputs": [
    {
     "data": {
      "text/plain": [
       "6.66"
      ]
     },
     "execution_count": 138,
     "metadata": {},
     "output_type": "execute_result"
    }
   ],
   "source": []
  },
  {
   "cell_type": "code",
   "execution_count": 137,
   "metadata": {},
   "outputs": [
    {
     "data": {
      "text/plain": [
       "1.8516666666666666"
      ]
     },
     "execution_count": 137,
     "metadata": {},
     "output_type": "execute_result"
    }
   ],
   "source": [
    "6666 / 60. / 60."
   ]
  },
  {
   "cell_type": "code",
   "execution_count": null,
   "metadata": {},
   "outputs": [],
   "source": []
  },
  {
   "cell_type": "code",
   "execution_count": null,
   "metadata": {},
   "outputs": [],
   "source": []
  },
  {
   "cell_type": "code",
   "execution_count": 90,
   "metadata": {},
   "outputs": [
    {
     "name": "stdout",
     "output_type": "stream",
     "text": [
      "Zonotope{Float64,SArray{Tuple{4},Float64,1,4},SArray{Tuple{4,29},Float64,2,116}}\n"
     ]
    },
    {
     "ename": "MethodError",
     "evalue": "MethodError: Cannot `convert` an object of type \n  Zonotope{Float64{},SArray{Tuple{4},Float64{},1,4},SArray{Tuple{4,41},Float64{},2,164}} to an object of type \n  Zonotope{Float64{},SArray{Tuple{4},Float64{},1,4},SArray{Tuple{4,29},Float64{},2,116}}\nClosest candidates are:\n  convert(::Type{#s16} where #s16<:Union{Number, T}, !Matched::MultivariatePolynomials.AbstractPolynomialLike{T}) where T at /home/mforets/.julia/packages/MultivariatePolynomials/Mpv8c/src/conversion.jl:16\n  convert(::Type{T}, !Matched::T) where T at essentials.jl:171\n  Zonotope{Float64,SArray{Tuple{4},Float64,1,4},SArray{Tuple{4,29},Float64,2,116}}(::Any, !Matched::Any) where {N<:Real, VN<:AbstractArray{N,1}, MN<:AbstractArray{N,2}} at /home/mforets/.julia/dev/LazySets/src/Sets/Zonotope.jl:100",
     "output_type": "error",
     "traceback": [
      "MethodError: Cannot `convert` an object of type \n  Zonotope{Float64{},SArray{Tuple{4},Float64{},1,4},SArray{Tuple{4,41},Float64{},2,164}} to an object of type \n  Zonotope{Float64{},SArray{Tuple{4},Float64{},1,4},SArray{Tuple{4,29},Float64{},2,116}}\nClosest candidates are:\n  convert(::Type{#s16} where #s16<:Union{Number, T}, !Matched::MultivariatePolynomials.AbstractPolynomialLike{T}) where T at /home/mforets/.julia/packages/MultivariatePolynomials/Mpv8c/src/conversion.jl:16\n  convert(::Type{T}, !Matched::T) where T at essentials.jl:171\n  Zonotope{Float64,SArray{Tuple{4},Float64,1,4},SArray{Tuple{4,29},Float64,2,116}}(::Any, !Matched::Any) where {N<:Real, VN<:AbstractArray{N,1}, MN<:AbstractArray{N,2}} at /home/mforets/.julia/dev/LazySets/src/Sets/Zonotope.jl:100",
      "",
      "Stacktrace:",
      " [1] convert(::Type{ReachSet{Float64,Zonotope{Float64,SArray{Tuple{4},Float64,1,4},SArray{Tuple{4,29},Float64,2,116}}}}, ::ReachSet{Float64,Zonotope{Float64,SArray{Tuple{4},Float64,1,4},SArray{Tuple{4,41},Float64,2,164}}}) at /home/mforets/.julia/dev/ReachabilityAnalysis/src/Flowpipes/reachsets.jl:287",
      " [2] setindex!(::Array{ReachSet{Float64,Zonotope{Float64,SArray{Tuple{4},Float64,1,4},SArray{Tuple{4,29},Float64,2,116}}},1}, ::ReachSet{Float64,Zonotope{Float64,SArray{Tuple{4},Float64,1,4},SArray{Tuple{4,41},Float64,2,164}}}, ::Int64) at ./array.jl:825",
      " [3] reach_homog_ASB07!(::Array{ReachSet{Float64,Zonotope{Float64,SArray{Tuple{4},Float64,1,4},SArray{Tuple{4,29},Float64,2,116}}},1}, ::Zonotope{Float64,SArray{Tuple{4},Float64,1,4},SArray{Tuple{4,29},Float64,2,116}}, ::IntervalMatrix{Float64,IntervalArithmetic.Interval{Float64},SArray{Tuple{4,4},IntervalArithmetic.Interval{Float64},2,16}}, ::Int64, ::Float64, ::Int64, ::Universe{Float64}) at /home/mforets/.julia/dev/ReachabilityAnalysis/src/Algorithms/ASB07/reach.jl:32",
      " [4] post(::ASB07{Float64,CorrectionHull}, ::InitialValueProblem{LinearContinuousSystem{IntervalArithmetic.Interval{Float64},IntervalMatrix{Float64,IntervalArithmetic.Interval{Float64},Array{IntervalArithmetic.Interval{Float64},2}}},CartesianProduct{Float64,CartesianProduct{Float64,CartesianProduct{Float64,Singleton{Float64,Array{Float64,1}},Singleton{Float64,Array{Float64,1}}},Singleton{Float64,Array{Float64,1}}},Singleton{Float64,Array{Float64,1}}}}, ::IntervalArithmetic.Interval{Float64}; kwargs::Base.Iterators.Pairs{Symbol,Any,Tuple{Symbol,Symbol,Symbol},NamedTuple{(:NSTEPS, :alg, :static),Tuple{Int64,ASB07{Float64,CorrectionHull},Bool}}}) at /home/mforets/.julia/dev/ReachabilityAnalysis/src/Algorithms/ASB07/post.jl:44",
      " [5] solve(::InitialValueProblem{LinearContinuousSystem{IntervalArithmetic.Interval{Float64},IntervalMatrix{Float64,IntervalArithmetic.Interval{Float64},Array{IntervalArithmetic.Interval{Float64},2}}},CartesianProduct{Float64,CartesianProduct{Float64,CartesianProduct{Float64,Singleton{Float64,Array{Float64,1}},Singleton{Float64,Array{Float64,1}}},Singleton{Float64,Array{Float64,1}}},Singleton{Float64,Array{Float64,1}}}}; kwargs::Base.Iterators.Pairs{Symbol,Any,Tuple{Symbol,Symbol,Symbol},NamedTuple{(:NSTEPS, :alg, :static),Tuple{Int64,ASB07{Float64,CorrectionHull},Bool}}}) at /home/mforets/.julia/dev/ReachabilityAnalysis/src/Continuous/solve.jl:34",
      " [6] macro expansion at ./util.jl:175 [inlined]",
      " [7] top-level scope at ./In[90]:1"
     ]
    }
   ],
   "source": [
    "@time sol = solve(prob_cont, NSTEPS=100, alg=alg, static=true); # "
   ]
  },
  {
   "cell_type": "code",
   "execution_count": null,
   "metadata": {},
   "outputs": [],
   "source": [
    "# sol = solve(prob, alg=ASB07(δ=1e-8, max_order=3), max_jumps=0, sta);"
   ]
  },
  {
   "cell_type": "code",
   "execution_count": 5,
   "metadata": {},
   "outputs": [
    {
     "ename": "UndefVarError",
     "evalue": "UndefVarError: NHIGH not defined",
     "output_type": "error",
     "traceback": [
      "UndefVarError: NHIGH not defined",
      "",
      "Stacktrace:",
      " [1] top-level scope at In[5]:1"
     ]
    }
   ],
   "source": [
    "sol = solve(prob, NSTEPS=NHIGH, alg=alg; kwargs...)"
   ]
  },
  {
   "cell_type": "code",
   "execution_count": null,
   "metadata": {},
   "outputs": [],
   "source": []
  },
  {
   "cell_type": "code",
   "execution_count": 173,
   "metadata": {},
   "outputs": [
    {
     "name": "stdout",
     "output_type": "stream",
     "text": [
      " 45.298571 seconds (208.59 M allocations: 32.478 GiB, 50.41% gc time)\n"
     ]
    },
    {
     "data": {
      "text/plain": [
       "[0, 0.0101001]"
      ]
     },
     "execution_count": 173,
     "metadata": {},
     "output_type": "execute_result"
    }
   ],
   "source": [
    "prob = embrake_pv_1(ζ=0.0, Tsample=1e-4);\n",
    "@time sol = solve(prob, alg=ASB07(δ=1e-7, max_order=1), max_jumps=100);\n",
    "#length(sol) * length(sol[1])\n",
    "tspan(sol)"
   ]
  },
  {
   "cell_type": "code",
   "execution_count": 174,
   "metadata": {},
   "outputs": [
    {
     "name": "stdout",
     "output_type": "stream",
     "text": [
      "diameter(set(project((sol[end])[end], vars = 1))) = 11.872188657505149\n",
      "diameter(set(project((sol[end])[end], vars = 2))) = 0.0001469325130479364\n"
     ]
    },
    {
     "data": {
      "text/plain": [
       "0.0001469325130479364"
      ]
     },
     "execution_count": 174,
     "metadata": {},
     "output_type": "execute_result"
    }
   ],
   "source": [
    "@show diameter(set(project(sol[end][end], vars=(1)))) # variable I\n",
    "@show diameter(set(project(sol[end][end], vars=(2)))) # variable x"
   ]
  },
  {
   "cell_type": "code",
   "execution_count": 171,
   "metadata": {},
   "outputs": [
    {
     "data": {
      "text/plain": [
       "7.4940023993559635"
      ]
     },
     "execution_count": 171,
     "metadata": {},
     "output_type": "execute_result"
    }
   ],
   "source": [
    "LazySets.radius(set(sol.F[end][end]))"
   ]
  },
  {
   "cell_type": "code",
   "execution_count": null,
   "metadata": {},
   "outputs": [],
   "source": [
    "prob = embrake_pv_1(ζ=1e-7, Tsample=1e-4)\n",
    "# TODO: force_static?\n",
    "\n",
    "@time sol = solve(prob, alg=ASB07(δ=1e-8, max_order=3), max_jumps=2);\n",
    "length(sol) * length(sol[1])"
   ]
  },
  {
   "cell_type": "markdown",
   "metadata": {},
   "source": [
    "## With parameter variation (pv2)"
   ]
  },
  {
   "cell_type": "code",
   "execution_count": null,
   "metadata": {},
   "outputs": [],
   "source": [
    "prob = embrake_pv_2(ζ=0.0, Tsample=1e-4)\n",
    "# TODO: force_static\n",
    "\n",
    "@time sol = solve(prob, alg=ASB07(δ=1e-8), max_jumps=1000);\n",
    "length(sol) * length(sol[1])"
   ]
  },
  {
   "cell_type": "code",
   "execution_count": null,
   "metadata": {},
   "outputs": [],
   "source": [
    "prob = embrake_pv_2(ζ=1e-7, Tsample=1e-4)\n",
    "# TODO: force_static\n",
    "\n",
    "@time sol = solve(prob, alg=ASB07(δ=1e-8), max_jumps=1000);\n",
    "length(sol) * length(sol[1])"
   ]
  },
  {
   "cell_type": "markdown",
   "metadata": {},
   "source": [
    "## Requirements"
   ]
  },
  {
   "cell_type": "markdown",
   "metadata": {},
   "source": [
    "1) Variable $x(t)$ is such that $\\Vert x(t) - x_0 \\Vert \\leq \\varepsilon$ for all $t \\geq t_1$. We take $t_1 = 23ms$ and $x_0 = 0.05$."
   ]
  },
  {
   "cell_type": "code",
   "execution_count": null,
   "metadata": {},
   "outputs": [],
   "source": [
    "x0 = 0.05\n",
    "ε = 2e-3"
   ]
  },
  {
   "cell_type": "markdown",
   "metadata": {},
   "source": [
    "2) The speed does is not bigger than a certain threshold  value once the disc makes contact: $\\vert v(t) \\vert \\leq v_{max}$ for all $t \\geq t_1$. We take $t_1 = 23ms$ and $v_{max} = 2mm/s$."
   ]
  },
  {
   "cell_type": "markdown",
   "metadata": {},
   "source": [
    "### Requirement 1"
   ]
  },
  {
   "cell_type": "code",
   "execution_count": null,
   "metadata": {},
   "outputs": [],
   "source": [
    "function requirement_1(sol::HybridFlowpipe{N}) where {N}\n",
    "\n",
    "    Dx⁺ = [0, 1.0, 0, 0]\n",
    "    Dx⁻ = [0, -1.0, 0, 0]\n",
    "    dirs = [Dx⁺, Dx⁻]\n",
    "\n",
    "    vtempl = Vector{TemplateReachSet{N, Vector{N}}}()\n",
    "    sizehint!(vtempl, length(sol) * length(sol[1]))\n",
    "    \n",
    "    for fp in sol\n",
    "        for X in fp\n",
    "            Rtemplate = overapproximate(X, dirs)\n",
    "            push!(vtempl, Rtemplate)\n",
    "        end\n",
    "    end\n",
    "    return Flowpipe(vtempl)\n",
    "end"
   ]
  },
  {
   "cell_type": "code",
   "execution_count": null,
   "metadata": {},
   "outputs": [],
   "source": [
    "fp = flowpipe(sol);\n",
    "@time r1 = requirement_1(fp);"
   ]
  },
  {
   "cell_type": "code",
   "execution_count": null,
   "metadata": {},
   "outputs": [],
   "source": [
    "maximos = [sup_func(X, 1) for X in r1];"
   ]
  },
  {
   "cell_type": "code",
   "execution_count": null,
   "metadata": {},
   "outputs": [],
   "source": [
    "length(maximos)"
   ]
  },
  {
   "cell_type": "code",
   "execution_count": null,
   "metadata": {},
   "outputs": [],
   "source": [
    "using Plots"
   ]
  },
  {
   "cell_type": "code",
   "execution_count": null,
   "metadata": {},
   "outputs": [],
   "source": [
    "maximos[end]"
   ]
  },
  {
   "cell_type": "code",
   "execution_count": null,
   "metadata": {},
   "outputs": [],
   "source": [
    "plot(maximos[1:1_000:end], seriestype = :scatter, lab=\"\")"
   ]
  },
  {
   "cell_type": "markdown",
   "metadata": {},
   "source": [
    "$|x(t) - x_0|$ vale $x(t) - x_0$ si $x(t) \\geq x_0$ o $x_0 - x(t)$ si $x(t) < x_0$."
   ]
  },
  {
   "cell_type": "code",
   "execution_count": null,
   "metadata": {},
   "outputs": [],
   "source": [
    "tend(r1)"
   ]
  },
  {
   "cell_type": "code",
   "execution_count": null,
   "metadata": {},
   "outputs": [],
   "source": [
    "const IA = IntervalArithmetic\n",
    "\n",
    "t1 = 98e-3 #23e-3\n",
    "tf = tend(r1)\n",
    "y = r1(IA.Interval(t1, tf))\n",
    "\n",
    "max_D⁺ = maximum(sup_func(X, 1) for X in y)\n",
    "@show max_D⁺ \n",
    "@show max_D⁺ < x0 + ε\n",
    "\n",
    "max_D⁻ = maximum(sup_func(X, 2) for X in y)\n",
    "@show max_D⁻\n",
    "@show max_D⁻ < -x0 + ε"
   ]
  },
  {
   "cell_type": "code",
   "execution_count": null,
   "metadata": {},
   "outputs": [],
   "source": [
    "-x0 + ε"
   ]
  },
  {
   "cell_type": "code",
   "execution_count": null,
   "metadata": {},
   "outputs": [],
   "source": [
    "length(sol[1])"
   ]
  },
  {
   "cell_type": "code",
   "execution_count": null,
   "metadata": {},
   "outputs": [],
   "source": [
    "plot([project(X, [0, 2]) for X in sol[600][1:100:end]], vars=(0, 2))\n",
    "plot!(x -> x0 + ε, color=:red)\n",
    "plot!(x -> x0 - ε, color=:red)"
   ]
  },
  {
   "cell_type": "code",
   "execution_count": null,
   "metadata": {},
   "outputs": [],
   "source": [
    "tspan(sol[900])"
   ]
  },
  {
   "cell_type": "code",
   "execution_count": null,
   "metadata": {},
   "outputs": [],
   "source": [
    "x0 - maximum(sup_func(X, 2) for X in y)"
   ]
  },
  {
   "cell_type": "code",
   "execution_count": null,
   "metadata": {},
   "outputs": [],
   "source": []
  },
  {
   "cell_type": "code",
   "execution_count": null,
   "metadata": {},
   "outputs": [],
   "source": [
    "[Interval(tspan(X)) × Interval(sup_func(X, 1), sup_func(X, 1)) for X in r1];"
   ]
  },
  {
   "cell_type": "code",
   "execution_count": null,
   "metadata": {},
   "outputs": [],
   "source": [
    "using Plots"
   ]
  },
  {
   "cell_type": "code",
   "execution_count": null,
   "metadata": {},
   "outputs": [],
   "source": [
    "plot([Interval(tspan(X)) × Singleton([sup_func(X, 1)]) for X in r1])"
   ]
  },
  {
   "cell_type": "code",
   "execution_count": null,
   "metadata": {},
   "outputs": [],
   "source": [
    "plot!([Interval(tspan(X)) × Singleton([-sup_func(X, 2)]) for X in r1])"
   ]
  },
  {
   "cell_type": "code",
   "execution_count": null,
   "metadata": {},
   "outputs": [],
   "source": [
    "# project(sol[1], [2]) # hacer\n",
    "# project(sol[1][1], (2)) # HACER\n",
    "\n",
    "intervalo_test = Interval(x0 - ε, x0 + ε)\n",
    "\n",
    "X = [[set(project(X, [2])) for X in sol_i] for sol_i in sol];"
   ]
  },
  {
   "cell_type": "code",
   "execution_count": null,
   "metadata": {},
   "outputs": [],
   "source": [
    "X[2][10] ⊆ intervalo_test"
   ]
  },
  {
   "cell_type": "markdown",
   "metadata": {},
   "source": [
    "### Requirement 2"
   ]
  },
  {
   "cell_type": "code",
   "execution_count": null,
   "metadata": {},
   "outputs": [],
   "source": [
    "# assumes that v = K/(i*drot) * I and\n",
    "# I is the first (1) variable in the flowpipe\n",
    "function velocity(sol, K, i, drot)\n",
    "    M = hcat(K/(i*drot))\n",
    "    if isa(M, Interval)\n",
    "        M = IntervalMatrix(M)\n",
    "    end\n",
    "\n",
    "    V_fp = Vector{SparseReachSet}()\n",
    "    for fp in sol\n",
    "        for X in fp\n",
    "            I_Δt = overapproximate(M * set(project(X, [1])), Zonotope)\n",
    "            Δt = tspan(X)\n",
    "            push!(V_fp, SparseReachSet(I_Δt, Δt, [1]))\n",
    "        end\n",
    "    end\n",
    "\n",
    "    return V_fp\n",
    "end\n",
    "\n",
    "function requirement_2(sol::Vector{<:Flowpipe{N}}) where {N}\n",
    "\n",
    "    Dx⁺ = [0, 1.0, 0, 0]\n",
    "    Dx⁻ = [0, -1.0, 0, 0]\n",
    "    dirs = [Dx⁺, Dx⁻]\n",
    "\n",
    "    vtempl = Vector{TemplateReachSet{N, Vector{N}}}()\n",
    "    sizehint!(vtempl, length(sol) * length(sol[1]))\n",
    "    \n",
    "    for fp in sol\n",
    "        for X in fp\n",
    "            sfunc = [ρ(Dx⁺, X), ρ(Dx⁻, X)]\n",
    "            Δt = tspan(X)\n",
    "            R = TemplateReachSet(dirs, sfunc, Δt)\n",
    "            push!(vtempl, R)\n",
    "        end\n",
    "    end\n",
    "    return vtempl\n",
    "end"
   ]
  }
 ],
 "metadata": {
  "kernelspec": {
   "display_name": "Julia 1.4.0",
   "language": "julia",
   "name": "julia-1.4"
  },
  "language_info": {
   "file_extension": ".jl",
   "mimetype": "application/julia",
   "name": "julia",
   "version": "1.4.0"
  }
 },
 "nbformat": 4,
 "nbformat_minor": 2
}
