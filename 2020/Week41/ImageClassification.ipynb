{
 "cells": [
  {
   "cell_type": "markdown",
   "metadata": {},
   "source": [
    "# Robustness of an Image Classification Network"
   ]
  },
  {
   "cell_type": "markdown",
   "metadata": {},
   "source": [
    "This notebook is adapted from [1].\n",
    "\n",
    "### References\n",
    "\n",
    "[1] https://github.com/sisl/NeuralVerification.jl/blob/master/examples/cars_workshop/5%20image%20classification.ipynb"
   ]
  },
  {
   "cell_type": "markdown",
   "metadata": {},
   "source": [
    "## MNIST Data set"
   ]
  },
  {
   "cell_type": "markdown",
   "metadata": {},
   "source": [
    "In this notebook we will inspect networks trained to classify hand-written digits from the MNIST dataset. We will load the pretrained networks (similar to those produced in the training notebook) and then inspect them to find an adversarial example - an input point close to an original training point that produces and undesirable output, in this case a missclassification error."
   ]
  },
  {
   "cell_type": "markdown",
   "metadata": {},
   "source": [
    "The MNIST dataset is composed of handwritte digits as shown below. Each sample is a grayscale image (with a single 8 bit channel) of 28 x 28 pixels."
   ]
  },
  {
   "cell_type": "markdown",
   "metadata": {},
   "source": [
    " ![caption](https://github.com/sisl/NeuralVerification.jl/blob/master/examples/cars_workshop/img/mnistexamples.png?raw=true)"
   ]
  },
  {
   "cell_type": "markdown",
   "metadata": {},
   "source": [
    "## Classification Network"
   ]
  },
  {
   "cell_type": "markdown",
   "metadata": {},
   "source": [
    "Each input point is reshaped into a $28 \\times 28 = 784$ dimensional vector with each value in the $[0, 255]$ range, where $255$ corresponds to white and $0$ to black. The networks, which in this case have a fully connected feed-forward architecture with ReLU activation functions output 10 scores, one corresponding to each of the $0-9$ digits. The input image is classified with the label that corresponds to the maximum score outputted by the network."
   ]
  },
  {
   "cell_type": "markdown",
   "metadata": {},
   "source": [
    "## Adversarial Example"
   ]
  },
  {
   "cell_type": "markdown",
   "metadata": {},
   "source": [
    "It is widely known that Deep Neural Networks (DNNa) are suceptible to adversarial perturbations. In this example this means that slight changes in points that are correctly classified can be misclassified. We will use NeuralVerification.jl to find such an example."
   ]
  },
  {
   "cell_type": "markdown",
   "metadata": {},
   "source": [
    "Recall that for a given network $f(x)$, Input Set $\\mathcal{X}$ and Output set $\\mathcal{Y}$, the verification problems consists of concluding whether"
   ]
  },
  {
   "cell_type": "markdown",
   "metadata": {},
   "source": [
    "$$\\ x\\in \\mathcal{X} \\Rightarrow  y= f( x)\\in \\mathcal{Y}$$"
   ]
  },
  {
   "cell_type": "markdown",
   "metadata": {},
   "source": [
    "holds or not. When this condition does not hold some of the algorithms implemented in NeuralVerification.jl return a counter example, that is a point $x \\in \\mathcal{X}$ such that $f(x) \\notin \\mathcal{Y}$ which is equivalent to $x \\in \\mathcal{X} \\wedge f(x) \\in \\mathcal{Y}^C$."
   ]
  },
  {
   "cell_type": "markdown",
   "metadata": {},
   "source": [
    "We will construct the Input Set $\\mathcal{X}$ with points close to a correctly classified sample and the Output Set $\\mathcal{Y}$ to contain the score distributions that correspond to correctly classifying the point. In this way, if a counter example is returned it will be a point that lays close to the correctly classified point but with a score distribution where the score corresponding to the label of the original input point is not maximal."
   ]
  },
  {
   "cell_type": "markdown",
   "metadata": {},
   "source": [
    "# Loading the requirements"
   ]
  },
  {
   "cell_type": "code",
   "execution_count": 6,
   "metadata": {},
   "outputs": [
    {
     "name": "stderr",
     "output_type": "stream",
     "text": [
      "┌ Info: Precompiling PyPlot [d330b81b-6aea-500a-939a-2ce795aea3ee]\n",
      "└ @ Base loading.jl:1278\n"
     ]
    }
   ],
   "source": [
    "using NeuralVerification, LazySets, Test, LinearAlgebra, GLPKMathProgInterface\n",
    "import NeuralVerification: ReLU, Id\n",
    "using PyPlot"
   ]
  },
  {
   "cell_type": "markdown",
   "metadata": {},
   "source": [
    "## Loading the networks"
   ]
  },
  {
   "cell_type": "markdown",
   "metadata": {},
   "source": [
    "We load the networks contained as examples in NeuralVerification.jl"
   ]
  },
  {
   "cell_type": "code",
   "execution_count": 7,
   "metadata": {},
   "outputs": [
    {
     "data": {
      "text/plain": [
       "\"/home/mforets/.julia/dev/NeuralVerification/examples/cars_workshop/models\""
      ]
     },
     "execution_count": 7,
     "metadata": {},
     "output_type": "execute_result"
    }
   ],
   "source": [
    "models_dir = \"/home/mforets/.julia/dev/NeuralVerification/examples/cars_workshop/models\""
   ]
  },
  {
   "cell_type": "code",
   "execution_count": 10,
   "metadata": {},
   "outputs": [],
   "source": [
    "mnist1_file = joinpath(models_dir, \"mnist1.nnet\")\n",
    "mnist2_file = joinpath(models_dir, \"mnist2.nnet\")\n",
    "mnist3_file = joinpath(models_dir, \"mnist3.nnet\")\n",
    "mnist4_file = joinpath(models_dir, \"mnist4.nnet\")\n",
    "\n",
    "mnist1 = read_nnet(mnist1_file, last_layer_activation = Id())\n",
    "mnist2 = read_nnet(mnist2_file, last_layer_activation = Id())\n",
    "mnist3 = read_nnet(mnist3_file, last_layer_activation = Id())\n",
    "mnist4 = read_nnet(mnist4_file, last_layer_activation = Id());"
   ]
  },
  {
   "cell_type": "code",
   "execution_count": 11,
   "metadata": {},
   "outputs": [
    {
     "name": "stdout",
     "output_type": "stream",
     "text": [
      "Network\n",
      "  layers: Array{NeuralVerification.Layer}((2,))\n",
      "    1: NeuralVerification.Layer{ReLU,Float64}\n",
      "      weights: Array{Float64}((25, 784)) [-0.0145822 -0.10073 … 0.0317891 -0.121057; 0.0927983 0.0378668 … -0.170367 0.0468094; … ; 0.106251 -0.0527935 … -0.152655 -0.159538; -0.0353035 0.107237 … -0.15136 -0.11534]\n",
      "      bias: Array{Float64}((25,)) [0.250202, -0.0460057, 0.197282, 0.206724, 0.19505, 0.123348, 0.195402, 0.195682, 0.270503, 0.0789479  …  0.00734778, 0.195026, 0.139418, 0.188492, 0.36361, -0.0787834, 0.209898, 0.276816, 0.103367, 0.239872]\n",
      "      activation: ReLU ReLU()\n",
      "    2: NeuralVerification.Layer{Id,Float64}\n",
      "      weights: Array{Float64}((10, 25)) [-0.048196 0.0694253 … -0.147897 -0.0522713; -0.165646 0.0419264 … -0.0298784 0.308652; … ; -0.0234716 0.233258 … -0.0833671 0.0769656; 0.253074 0.0652968 … -0.0465979 0.124504]\n",
      "      bias: Array{Float64}((10,)) [0.0894416, 0.23172, 0.113948, 0.0927643, 0.180114, 0.294576, 0.107671, 0.216698, -0.0553405, 0.108553]\n",
      "      activation: Id Id()\n"
     ]
    }
   ],
   "source": [
    "dump(mnist1)"
   ]
  },
  {
   "cell_type": "markdown",
   "metadata": {},
   "source": [
    "## Defining the problem"
   ]
  },
  {
   "cell_type": "markdown",
   "metadata": {},
   "source": [
    "In order to define the problem we need a network, which we will select from the ones previously loaded, an Input Set $\\mathcal{X}$ and an Output Set $\\mathcal{Y}$."
   ]
  },
  {
   "cell_type": "markdown",
   "metadata": {},
   "source": [
    "### Input Set"
   ]
  },
  {
   "cell_type": "markdown",
   "metadata": {},
   "source": [
    "To define the Input Set we begin with a data point in the training set. For this example we selected the following image which corresponds to a hand-written digit $1$."
   ]
  },
  {
   "cell_type": "code",
   "execution_count": 13,
   "metadata": {},
   "outputs": [
    {
     "data": {
      "image/png": "[encoded data removed]",
      "text/plain": [
       "Figure(PyObject <Figure size 640x480 with 1 Axes>)"
      ]
     },
     "metadata": {},
     "output_type": "display_data"
    },
    {
     "data": {
      "text/plain": [
       "PyObject <matplotlib.image.AxesImage object at 0x7fef720dd950>"
      ]
     },
     "execution_count": 13,
     "metadata": {},
     "output_type": "execute_result"
    }
   ],
   "source": [
    "input_center = [0.0,0,0,0,0,0,0,0,0,0,0,0,0,0,0,0,0,0,0,0,0,0,0,0,0,0,0,0,0,0,0,0,0,0,0,0,0,0,0,0,0,0,0,0,0,0,0,0,0,0,0,0,0,0,0,0,0,0,0,0,0,0,0,0,0,0,0,0,0,0,0,0,0,0,0,0,0,0,0,0,0,0,0,0,0,0,0,0,0,0,0,0,0,0,0,0,0,0,0,0,0,0,0,0,0,0,0,0,0,0,0,0,0,0,0,0,0,0,0,0,0,0,0,0,0,0,0,0,0,0,0,0,0,0,0,0,0,0,0,0,0,0,0,0,0,0,0,0,0,0,0,0,0,0,0,0,0,0,121,254,136,0,0,0,0,0,0,0,0,0,0,0,0,0,0,0,0,0,0,0,0,0,0,0,0,13,230,253,248,99,0,0,0,0,0,0,0,0,0,0,0,0,0,0,0,0,0,0,0,0,0,0,4,118,253,253,225,42,0,0,0,0,0,0,0,0,0,0,0,0,0,0,0,0,0,0,0,0,0,0,61,253,253,253,74,0,0,0,0,0,0,0,0,0,0,0,0,0,0,0,0,0,0,0,0,0,0,32,206,253,253,186,9,0,0,0,0,0,0,0,0,0,0,0,0,0,0,0,0,0,0,0,0,0,0,211,253,253,239,69,0,0,0,0,0,0,0,0,0,0,0,0,0,0,0,0,0,0,0,0,0,0,0,254,253,253,133,0,0,0,0,0,0,0,0,0,0,0,0,0,0,0,0,0,0,0,0,0,0,0,142,255,253,186,8,0,0,0,0,0,0,0,0,0,0,0,0,0,0,0,0,0,0,0,0,0,0,149,229,254,207,21,0,0,0,0,0,0,0,0,0,0,0,0,0,0,0,0,0,0,0,0,0,0,54,229,253,254,105,0,0,0,0,0,0,0,0,0,0,0,0,0,0,0,0,0,0,0,0,0,0,0,152,254,254,213,26,0,0,0,0,0,0,0,0,0,0,0,0,0,0,0,0,0,0,0,0,0,0,112,251,253,253,26,0,0,0,0,0,0,0,0,0,0,0,0,0,0,0,0,0,0,0,0,0,0,29,212,253,250,149,0,0,0,0,0,0,0,0,0,0,0,0,0,0,0,0,0,0,0,0,0,0,36,214,253,253,137,0,0,0,0,0,0,0,0,0,0,0,0,0,0,0,0,0,0,0,0,0,0,0,75,253,253,253,59,0,0,0,0,0,0,0,0,0,0,0,0,0,0,0,0,0,0,0,0,0,0,0,93,253,253,189,17,0,0,0,0,0,0,0,0,0,0,0,0,0,0,0,0,0,0,0,0,0,0,0,224,253,253,84,0,0,0,0,0,0,0,0,0,0,0,0,0,0,0,0,0,0,0,0,0,0,0,43,235,253,126,1,0,0,0,0,0,0,0,0,0,0,0,0,0,0,0,0,0,0,0,0,0,0,0,99,248,253,119,0,0,0,0,0,0,0,0,0,0,0,0,0,0,0,0,0,0,0,0,0,0,0,0,0,225,235,49,0,0,0,0,0,0,0,0,0,0,0,0,0,0,0,0,0,0,0,0,0,0,0,0,0,0,0,0,0,0,0,0,0,0,0,0,0,0,0,0,0,0,0,0,0,0,0,0,0,0,0,0,0,0,0,0,0,0,0,0,0,0,0,0,0,0,0,0,0,0,0,0,0,0,0,0,0,0,0,0,0,0,0,0,0,0,0,0,0,0,0,0,0,0,0,0,0,0,0,0]\n",
    "X = reshape(input_center, 28, 28)'\n",
    "imshow(X, cmap=:gray, clim=(0,255))"
   ]
  },
  {
   "cell_type": "markdown",
   "metadata": {},
   "source": [
    "Notice that the network correctly classifies this image as as $1$:"
   ]
  },
  {
   "cell_type": "code",
   "execution_count": 14,
   "metadata": {},
   "outputs": [
    {
     "data": {
      "text/plain": [
       "10-element Array{Float64,1}:\n",
       " -1629.2302589012768\n",
       "  2720.09014887375\n",
       "   -89.66814654856465\n",
       "    29.31700703467395\n",
       "   115.33444359444309\n",
       " -2863.4869100532223\n",
       "  -724.9086493556797\n",
       "  1245.998599490938\n",
       "   408.713853247963\n",
       "  -374.98230616425457"
      ]
     },
     "execution_count": 14,
     "metadata": {},
     "output_type": "execute_result"
    }
   ],
   "source": [
    "scores = NeuralVerification.compute_output(mnist3, input_center)"
   ]
  },
  {
   "cell_type": "code",
   "execution_count": 15,
   "metadata": {},
   "outputs": [
    {
     "data": {
      "text/plain": [
       "1"
      ]
     },
     "execution_count": 15,
     "metadata": {},
     "output_type": "execute_result"
    }
   ],
   "source": [
    "input_center_label = argmax(scores)-1\n",
    "input_center_label"
   ]
  },
  {
   "cell_type": "markdown",
   "metadata": {},
   "source": [
    "We then build a hyperrectangle around it by defining an $\\epsilon$ and including all the points that can be reached by deviating at most $\\epsilon$ from the original image in every dimension. Note that this could cause the set to include points with pixel values below $0$ or above $255$ which would be outside of the range so we have clipped these values."
   ]
  },
  {
   "cell_type": "code",
   "execution_count": 16,
   "metadata": {},
   "outputs": [
    {
     "data": {
      "text/plain": [
       "Hyperrectangle{Float64,Array{Float64,1},Array{Float64,1}}([20.0, 20.0, 20.0, 20.0, 20.0, 20.0, 20.0, 20.0, 20.0, 20.0  …  20.0, 20.0, 20.0, 20.0, 20.0, 20.0, 20.0, 20.0, 20.0, 20.0], [20.0, 20.0, 20.0, 20.0, 20.0, 20.0, 20.0, 20.0, 20.0, 20.0  …  20.0, 20.0, 20.0, 20.0, 20.0, 20.0, 20.0, 20.0, 20.0, 20.0])"
      ]
     },
     "execution_count": 16,
     "metadata": {},
     "output_type": "execute_result"
    }
   ],
   "source": [
    "epsilon = 40\n",
    "upper = input_center .+ epsilon\n",
    "lower = input_center .- epsilon\n",
    "clamp!(upper, 0.0, 255.0)\n",
    "clamp!(lower, 0.0, 255.0)\n",
    "\n",
    "X = Hyperrectangle(low=lower, high=upper)"
   ]
  },
  {
   "cell_type": "code",
   "execution_count": 23,
   "metadata": {},
   "outputs": [
    {
     "data": {
      "image/png": "[encoded data removed]",
      "text/plain": [
       "Figure(PyObject <Figure size 640x480 with 1 Axes>)"
      ]
     },
     "metadata": {},
     "output_type": "display_data"
    },
    {
     "data": {
      "text/plain": [
       "PyObject <matplotlib.image.AxesImage object at 0x7fefd0064bd0>"
      ]
     },
     "execution_count": 23,
     "metadata": {},
     "output_type": "execute_result"
    }
   ],
   "source": [
    "v = X.center\n",
    "v = reshape(v, 28, 28)'\n",
    "imshow(v, cmap=:gray, clim=(0,255))"
   ]
  },
  {
   "cell_type": "code",
   "execution_count": 24,
   "metadata": {},
   "outputs": [
    {
     "data": {
      "image/png": "[encoded data removed]",
      "text/plain": [
       "Figure(PyObject <Figure size 640x480 with 1 Axes>)"
      ]
     },
     "metadata": {},
     "output_type": "display_data"
    },
    {
     "data": {
      "text/plain": [
       "PyObject <matplotlib.image.AxesImage object at 0x7fef7141ce90>"
      ]
     },
     "execution_count": 24,
     "metadata": {},
     "output_type": "execute_result"
    }
   ],
   "source": [
    "v = σ(fill(1.0, 784), X)\n",
    "v = reshape(v, 28, 28)'\n",
    "imshow(v, cmap=:gray, clim=(0,255))"
   ]
  },
  {
   "cell_type": "code",
   "execution_count": 31,
   "metadata": {},
   "outputs": [
    {
     "data": {
      "text/plain": [
       "NetworkBackpropagation"
      ]
     },
     "execution_count": 31,
     "metadata": {},
     "output_type": "execute_result"
    }
   ],
   "source": [
    "using NetworkBackpropagation\n",
    "const NB = NetworkBackpropagation"
   ]
  },
  {
   "cell_type": "code",
   "execution_count": 55,
   "metadata": {},
   "outputs": [],
   "source": [
    "_convert(::NeuralVerification.Id) = NB.Id\n",
    "_convert(::NeuralVerification.ReLU) = NB.ReLU\n",
    "\n",
    "L = []\n",
    "\n",
    "for Li in mnist3.layers\n",
    "    W = Li.weights\n",
    "    b = Li.bias\n",
    "    a = _convert(Li.activation)\n",
    "    Li = NB.Layer(W, b, a)\n",
    "    push!(L, Li)\n",
    "end\n",
    "\n",
    "net = NB.Network(L);"
   ]
  },
  {
   "cell_type": "code",
   "execution_count": 56,
   "metadata": {},
   "outputs": [
    {
     "data": {
      "text/plain": [
       "10-element Array{Float64,1}:\n",
       " -1629.2302589012768\n",
       "  2720.09014887375\n",
       "   -89.66814654856465\n",
       "    29.31700703467395\n",
       "   115.33444359444309\n",
       " -2863.4869100532223\n",
       "  -724.9086493556797\n",
       "  1245.998599490938\n",
       "   408.713853247963\n",
       "  -374.98230616425457"
      ]
     },
     "execution_count": 56,
     "metadata": {},
     "output_type": "execute_result"
    }
   ],
   "source": [
    "NB.forward(input_center, net) # OK"
   ]
  },
  {
   "cell_type": "code",
   "execution_count": 57,
   "metadata": {},
   "outputs": [
    {
     "data": {
      "text/plain": [
       "10-element Array{Float64,1}:\n",
       " -1629.2302589012768\n",
       "  2720.09014887375\n",
       "   -89.66814654856465\n",
       "    29.31700703467395\n",
       "   115.33444359444309\n",
       " -2863.4869100532223\n",
       "  -724.9086493556797\n",
       "  1245.998599490938\n",
       "   408.713853247963\n",
       "  -374.98230616425457"
      ]
     },
     "execution_count": 57,
     "metadata": {},
     "output_type": "execute_result"
    }
   ],
   "source": [
    "scores = NeuralVerification.compute_output(mnist3, input_center)"
   ]
  },
  {
   "cell_type": "code",
   "execution_count": 62,
   "metadata": {},
   "outputs": [
    {
     "ename": "LoadError",
     "evalue": "AssertionError: inverse rectification not implemented for dimension 25",
     "output_type": "error",
     "traceback": [
      "AssertionError: inverse rectification not implemented for dimension 25",
      "",
      "Stacktrace:",
      " [1] backward(::HPolyhedron{Float64,Array{Float64,1}}, ::Type{NetworkBackpropagation.ReLU}, ::DefaultBackwardAlgorithm) at /home/mforets/.julia/dev/NetworkBackpropagation/src/backward.jl:84",
      " [2] backward(::HPolyhedron{Float64,Array{Float64,1}}, ::Layer{Array{Float64,2},Array{Float64,1},NetworkBackpropagation.ReLU}, ::DefaultBackwardAlgorithm) at /home/mforets/.julia/dev/NetworkBackpropagation/src/backward.jl:43",
      " [3] backward(::Singleton{Float64,Array{Float64,1}}, ::NetworkBackpropagation.Network, ::DefaultBackwardAlgorithm) at /home/mforets/.julia/dev/NetworkBackpropagation/src/backward.jl:22",
      " [4] backward(::Singleton{Float64,Array{Float64,1}}, ::NetworkBackpropagation.Network) at /home/mforets/.julia/dev/NetworkBackpropagation/src/backward.jl:21",
      " [5] top-level scope at In[62]:1",
      " [6] include_string(::Function, ::Module, ::String, ::String) at ./loading.jl:1091"
     ]
    }
   ],
   "source": [
    "NB.backward(Singleton(scores), net)"
   ]
  },
  {
   "cell_type": "markdown",
   "metadata": {},
   "source": [
    "## Output set"
   ]
  },
  {
   "cell_type": "markdown",
   "metadata": {},
   "source": [
    "As stated earlier, the network is trained to output 10 scores, one corresponding to each of the digits between $0$ and $9$. We then assign the label that corresponds to the maximal score. This means that in order to correctly classify the previous image we need the second score (which corresponds to $1$) to be maximal."
   ]
  },
  {
   "cell_type": "markdown",
   "metadata": {},
   "source": [
    "The goal of this exercise is to find a point very close to that image that the networks misclassifies. In order to find such an input we want to define the Output Set $\\mathcal{Y}$ such that the counter example produced to falsify the property is not classified as a $1$. This imples that we need $\\mathcal{Y}^C$ to contain only points score distributions where $y_2$ is not maximal."
   ]
  },
  {
   "cell_type": "markdown",
   "metadata": {},
   "source": [
    "### A note on ComplementPolytopes"
   ]
  },
  {
   "cell_type": "markdown",
   "metadata": {},
   "source": [
    "Consider the set of all the score distributions that correspond to classifying the image as $1$. This set is made of all the points where $y_2$ is maximal. That is \n",
    "$$ Label_2 = \\left \\{ Y \\mid y_2 = \\max_{i=1..10}\\left \\{y_i \\right \\} \\right \\} $$\n",
    "\n",
    "This is equivalent to the set of outputs $Y$ that satisfies:\n",
    "\n",
    "$$ (y_1 \\leq y_2) \\wedge (y_3 \\leq y_2) \\wedge \\dots \\wedge (y_10 \\leq y_2) $$\n",
    "\n",
    "Which is the polytope formed by intersecting all the halfspaces from the previous conditions and as such can be represented as a linear inequality of the form:\n",
    "$$ Ay \\leq b $$\n",
    "\n",
    "With the following matrix $A$ and $b$:\n",
    "\n",
    "$$\n",
    "\\underbrace{\\begin{bmatrix}\n",
    "1 & -1 &  0&  0&  0&  0&  0&  0&  0& \\\\ \n",
    " 0& -1 &  1&  0&  0&  0&  0&  0&  0& \\\\ \n",
    " 0&  -1&  0&  1&  0&  0&  0&  0&  0& \\\\ \n",
    " 0&  -1&  0&  0&  1&  0&  0&  0&  0& \\\\ \n",
    " 0&  -1&  0&  0&  0&  1&  0&  0&  0& \\\\ \n",
    " 0&  -1&  0&  0&  0&  0&  1&  0&  0& \\\\ \n",
    " 0&  -1&  0&  0&  0&  0&  0&  0&  0& \\\\ \n",
    " 0&  -1&  0&  0&  0&  0&  0&  1&  0& \\\\ \n",
    " 0&  -1&  0&  0&  0&  0&  0&  0&  1& \n",
    "\\end{bmatrix}}_{A}\n",
    "\\underbrace{\\begin{bmatrix}\n",
    "y_1\\\\ \n",
    "y_2\\\\ \n",
    "y_3\\\\ \n",
    "y_4\\\\ \n",
    "y_5\\\\ \n",
    "y_6\\\\ \n",
    "y_7\\\\ \n",
    "y_8\\\\\n",
    "y_9\\\\\n",
    "y_{10}\\\\ \n",
    "\\end{bmatrix}}_{y}\n",
    "\\leq\n",
    "\\underbrace{\\begin{bmatrix}\n",
    "0\\\\ \n",
    "0\\\\ \n",
    "0\\\\ \n",
    "0\\\\ \n",
    "0\\\\ \n",
    "0\\\\ \n",
    "0\\\\ \n",
    "0\\\\\n",
    "0\\\\\n",
    "0\\\\ \n",
    "\\end{bmatrix}}_{b}\n",
    "$$"
   ]
  },
  {
   "cell_type": "markdown",
   "metadata": {},
   "source": [
    "So we would ideally like to define the set of $\\mathcal{Y}$ to correspond to this polytope so that $\\mathcal{Y}^C$ contains all the scores that correspond to misclassifying. However, many optimization algorithms complement $\\mathcal{Y}$ internally often aiming to solve a feasability problem encoded with lineawr constraints. This imposes the requirement that $\\mathcal{Y}^C$ can only be represented as a set of conjunctive linear constraints, again with the form $By\\leq b$."
   ]
  },
  {
   "cell_type": "markdown",
   "metadata": {},
   "source": [
    "For this end the $\\texttt{PolytopeComplement}$ class was created and its goal is to enable the user to define the Output Set $\\mathcal{Y}$ that corresponds to the complement of a convex polytope - which means that $\\mathcal{Y}^C$ is of the form $Ay \\leq b$."
   ]
  },
  {
   "cell_type": "markdown",
   "metadata": {},
   "source": [
    "### Now back to our problem"
   ]
  },
  {
   "cell_type": "markdown",
   "metadata": {},
   "source": [
    "Recall that we want our procedure to produce a counter example (ie. find an $x \\in \\mathcal{X} \\ st. \\ f(x) \\in \\mathcal{Y}^C$. \n",
    "\n",
    "So we want $\\mathcal{Y}^C$ to correspond to the distributions of scores where $y_2$ is not maximal. We previously showed that the set where $y_2$ is maximal is a convex polytope and this implies that its complement is not. In order to represent the whole complement we would need a set of disjunctive conditions which we cannot encode in the form of $By\\leq c$. In other terms, this means that we are looking for points where $y_2 \\leq y_1$ or $y_2 \\leq y_3$ or $y_2 \\leq y_4$ and so on. We can however prune this set by enforcing only one of those constraints to find a point that lays at least in a subset of the complete set."
   ]
  },
  {
   "cell_type": "markdown",
   "metadata": {},
   "source": [
    "So instead we arbitrarily select one of the scores that corrrespond to a digit different that $1$ and use it to build a halfspace where the score associated to this digit is greater than the score associated to $1$. In the following example we arbitrarily chose the score associated to the digit $8$."
   ]
  },
  {
   "cell_type": "code",
   "execution_count": 6,
   "metadata": {},
   "outputs": [
    {
     "data": {
      "text/plain": [
       "PolytopeComplement of:\n",
       "  HPolytope{Float64}(HalfSpace{Float64}[HalfSpace{Float64}([0.0, 1.0, 0.0, 0.0, 0.0, 0.0, 0.0, 0.0, -1.0, 0.0], 0.0)])\n"
      ]
     },
     "execution_count": 6,
     "metadata": {},
     "output_type": "execute_result"
    }
   ],
   "source": [
    "A = [0.0, 1.0, 0.0, 0.0, 0.0, 0.0, 0.0, 0.0, -1.0, 0.0]'\n",
    "b = [0.0]\n",
    "\n",
    "Yc = HPolytope(A, b)\n",
    "Y = complement(Yc)\n",
    "\n"
   ]
  },
  {
   "cell_type": "markdown",
   "metadata": {},
   "source": [
    "### Solving the problem"
   ]
  },
  {
   "cell_type": "markdown",
   "metadata": {},
   "source": [
    "We finally define the problem object and run the algorithm."
   ]
  },
  {
   "cell_type": "code",
   "execution_count": 7,
   "metadata": {},
   "outputs": [
    {
     "name": "stdout",
     "output_type": "stream",
     "text": [
      "NSVerify - mnist1\n",
      " - Time: 28.138687898 s - Output: CounterExampleResult(:violated, [40.0, 40.0, 0.0, 0.0, 0.0, -5.53379e-13, 40.0, 0.0, 2.13163e-14, 40.0, 0.0, 0.0, 0.0, 0.0, 0.0, 0.0, 40.0, 0.0, 40.0, 40.0, -3.12639e-13, 0.0, 0.0, 40.0, 0.0, 0.0, 0.0, 0.0, -5.68434e-14, 0.0, 0.0, 0.0, 0.0, 0.0, 0.0, 0.0, 0.0, 40.0, 0.0, 40.0, 40.0, 0.0, 40.0, 0.0, 0.0, 0.0, 9.73073e-14, 40.0, 40.0, 3.144, 40.0, 0.0, 40.0, 40.0, 0.0, 0.0, 0.0, 0.0, 40.0, 40.0, 40.0, 0.0, 0.0, 0.0, 0.0, 0.0, 0.0, 40.0, 40.0, 0.0, 0.0, 0.0, 0.0, 0.0, 40.0, 40.0, 40.0, 40.0, 40.0, 40.0, 0.0, 0.0, 0.0, 0.0, 0.0, 0.0, 0.0, 0.0, 40.0, 40.0, 40.0, 40.0, 2.77112e-13, 40.0, -3.01717e-13, 0.0, 0.0, 0.0, 0.0, 0.0, 8.52651e-14, -1.49214e-13, 0.0, 2.84217e-14, 0.0, 40.0, 40.0, 40.0, 40.0, 0.0, 0.0, 0.0, 0.0, 0.0, 40.0, 40.0, 0.0, 0.0, 0.0, 40.0, 0.0, 0.0, 0.0, 0.0, 0.0, 0.0, 0.0, 0.0, 0.0, 40.0, 0.0, 0.0, 40.0, 40.0, 40.0, 40.0, 40.0, 0.0, 0.0, 40.0, 40.0, 0.0, 0.0, 0.0, 9.86036, 40.0, 0.0, 0.0, 40.0, 0.0, 40.0, 0.0, 0.0, 0.0, 0.0, 0.0, 0.0, 0.0, 81.0, 214.0, 96.0, 40.0, 40.0, 0.0, 40.0, 0.0, 0.0, 0.0, 40.0, 0.0, 40.0, 40.0, 40.0, 40.0, 0.0, 0.0, 0.0, 0.0, 0.0, 0.0, 0.0, 0.0, 0.0, 0.0, 0.0, 53.0, 190.0, 213.0, 208.0, 59.0, 40.0, 0.0, 0.0, 0.0, 0.0, 0.0, 0.0, 0.0, 40.0, 0.0, 0.0, 40.0, 0.0, 40.0, 0.0, 0.0, 0.0, 0.0, 0.0, 0.0, 0.0, 0.0, 0.0, 78.0, 213.0, 213.0, 185.0, 44.7186, 0.0, 0.0, 0.0, 0.0, 0.0, 0.0, 40.0, 40.0, 40.0, 40.0, 0.0, 40.0, 40.0, 0.0, 0.0, 0.0, 0.0, 0.0, 26.2616, 0.0, 0.0, 0.0, 21.0, 213.0, 213.0, 213.0, 34.0, 0.0, 0.0, 0.0, 0.0, 0.0, 0.0, 0.0, 40.0, 40.0, 40.0, 40.0, 0.0, 0.0, 0.0, 0.0, 0.0, 40.0, 0.0, 0.0, 0.0, 40.0, 40.0, 0.0, 166.0, 213.0, 213.0, 146.0, 49.0, 0.0, 0.0, 0.0, 0.0, 0.0, 0.0, 40.0, 40.0, 40.0, 0.0, 40.0, 40.0, 0.0, 0.0, 0.0, -1.49214e-13, 40.0, 0.0, 40.0, 40.0, 40.0, 40.0, 171.0, 213.0, 213.0, 199.0, 29.0, 0.0, 0.0, 0.0, 0.0, 0.0, 0.0, 0.0, 40.0, 40.0, 40.0, 40.0, 0.0, 40.0, 0.0, 40.0, 40.0, 0.0, 0.0, 40.0, 40.0, 40.0, 40.0, 40.0, 255.0, 255.0, 213.0, 93.0, 0.0, 0.0, 0.0, 0.0, 0.0, 0.0, 0.0, 0.0, 0.0, 40.0, 40.0, 27.4624, 40.0, 40.0, 0.0, 40.0, 0.0, 40.0, 40.0, 40.0, 40.0, 40.0, 40.0, 102.0, 255.0, 213.0, 146.0, 0.0, 0.0, 0.0, 0.0, 40.0, 0.0, 0.0, 0.0, 0.0, 40.0, 0.0, 40.0, 40.0, 0.0, 40.0, 40.0, 40.0, 40.0, 40.0, 40.0, 40.0, 40.0, 40.0, 109.0, 189.0, 255.0, 167.0, 0.0, 0.0, 0.0, 0.0, 0.0, 40.0, 40.0, 0.0, 40.0, 0.0, 0.0, 40.0, 40.0, 40.0, 4.97867e-14, 0.0, 40.0, 0.0, 40.0, 40.0, 0.0, 40.0, 40.0, 14.0, 189.0, 213.0, 214.0, 145.0, 0.0, 0.0, 0.0, 40.0, 40.0, 40.0, 40.0, 40.0, 0.0, 0.0, 0.0, 0.0, 0.0, 40.0, 40.0, 0.0, 0.0, 0.0, 0.0, 40.0, 40.0, 40.0, -1.42109e-14, 185.623, 214.0, 214.0, 173.0, 0.0, 0.0, 40.0, 40.0, 40.0, 40.0, 40.0, 40.0, 40.0, 0.0, 0.0, 0.0, 40.0, 0.0, 0.0, 0.0, 0.0, 40.0, 0.0, 0.0, 40.0, 40.0, 0.0, 72.0, 211.0, 213.0, 213.0, 66.0, 0.0, 0.0, 0.0, 40.0, 40.0, 40.0, 40.0, 40.0, 0.0, 0.0, 0.0, 0.0, 0.0, 0.0, 0.0, 0.0, 0.0, 0.0, 0.0, 0.0, 0.0, 0.0, 0.0, 172.0, 213.0, 210.0, 189.0, 40.0, 40.0, 40.0, 40.0, 40.0, 40.0, 40.0, 40.0, 40.0, 0.0, 0.0, 0.0, 0.0, 40.0, 0.0, 40.0, -1.15363e-12, 0.0, 0.0, 0.0, 0.0, 0.0, 0.0, 174.0, 213.0, 213.0, 97.0, 0.0, 0.0, 0.0, 0.0, 0.0, 0.0, 40.0, 40.0, 0.0, 40.0, 0.0, 0.0, 40.0, 0.0, 0.0, 40.0, 40.0, 40.0, 0.0, 0.0, 0.0, 0.0, 0.0, 35.0, 213.0, 213.0, 213.0, 19.0, 0.0, 0.0, 0.0, 0.0, 0.0, 40.0, 0.0, 0.0, 40.0, 0.0, 0.0, 0.0, 0.0, 0.0, 40.0, 7.73556, 0.0, 0.0, 0.0, 0.0, 0.0, 0.0, 0.0, 53.0, 213.0, 213.0, 149.0, 0.0, 0.0, 0.0, 0.0, 40.0, 0.0, 0.0, 0.0, 0.0, 0.0, 0.0, 0.0, 0.0, 0.0, 0.0, 0.0, 0.0, 0.0, 0.0, 0.0, 40.0, 0.0, 0.0, 0.0, 184.0, 255.0, 230.104, 124.0, 0.0, 0.0, 0.0, 0.0, 0.0, 0.0, 0.0, 0.0, 0.0, 0.0, 0.0, 0.0, -9.93937e-14, 0.0, 40.0, 40.0, 0.0, 0.0, 0.0, 0.0, 0.0, 0.0, 0.0, 3.0, 195.0, 255.0, 86.0, 0.0, 0.0, 0.0, 0.0, 0.0, 0.0, 40.0, 0.0, 0.0, 0.0, 0.0, 0.0, 0.0, 0.0, 0.0, 0.0, 0.0, 40.0, 20.6318, 0.0, 40.0, 0.0, 0.0, 0.0, 59.0, 208.0, 213.0, 79.0, 0.0, 0.0, 0.0, 0.0, 0.0, 0.0, 0.0, 40.0, 0.0, 0.0, 0.0, 0.0, 0.0, 40.0, 40.0, 0.0, 0.0, 0.0, 0.0, 0.0, 0.0, 40.0, 40.0, 0.0, 0.0, 185.0, 195.0, 27.7591, 0.0, 0.0, 0.0, 0.0, 40.0, 40.0, 0.0, 0.0, 0.0, 0.0, 0.0, 0.0, 0.0, 40.0, 0.0, 0.0, 0.0, 0.0, 0.0, 1.42109e-14, 40.0, 40.0, 0.0, 0.0, 0.0, 0.0, 0.0, 0.0, 0.0, 0.0, 0.0, 0.0, 0.0, 0.0, 40.0, 0.0, 0.0, 0.0, 40.0, 40.0, 0.0, 40.0, 0.0, 40.0, 0.0, 40.0, 0.0, 0.0, 40.0, 0.0, 40.0, 40.0, 0.0, 0.0, 0.0, 0.0, 0.0, 40.0, 0.0, 0.0, 0.0, 40.0, 0.0, 40.0, 0.0, 0.0, 0.0, 0.0, 0.0, 0.0, 0.0, 0.0, 0.0, 40.0, 0.0, 0.0, 40.0, 40.0, 0.0, 0.0, 0.0, 0.0, 0.0, 0.0, 0.0, 40.0, 0.0, 15.7951, 40.0, 0.0, 0.0, 0.0, 40.0, 40.0, 40.0, 40.0, 0.0, 40.0, 40.0, 40.0])\n"
     ]
    }
   ],
   "source": [
    "problem_mnist = Problem(mnist3, X, Y)\n",
    "\n",
    "solver = NSVerify(m=100)\n",
    "solver=Reluplex()\n",
    "println(\"NSVerify - mnist1\")\n",
    "timed_result = @timed solve(solver, problem_mnist)\n",
    "print(\" - Time: \" * string(timed_result[2]) * \" s\")\n",
    "print(\" - Output: \")\n",
    "print(timed_result[1])\n",
    "println(\"\")\n",
    "\n",
    "counter_example = timed_result[1].counter_example;"
   ]
  },
  {
   "cell_type": "markdown",
   "metadata": {},
   "source": [
    "The algorithm returned a counter example which corresponds to the following image."
   ]
  },
  {
   "cell_type": "code",
   "execution_count": 8,
   "metadata": {},
   "outputs": [
    {
     "data": {
      "image/png": "[encoded data removed]",
      "text/plain": [
       "Figure(PyObject <Figure size 640x480 with 1 Axes>)"
      ]
     },
     "metadata": {},
     "output_type": "display_data"
    },
    {
     "data": {
      "text/plain": [
       "PyObject <matplotlib.image.AxesImage object at 0x14b9070f0>"
      ]
     },
     "execution_count": 8,
     "metadata": {},
     "output_type": "execute_result"
    }
   ],
   "source": [
    "imshow(reshape(counter_example, 28, 28)', cmap=:gray, clim=(0,255))"
   ]
  },
  {
   "cell_type": "markdown",
   "metadata": {},
   "source": [
    "We can agree that this image closely resembles a hand-written digit $1$. But given how we constructed the problem the network did not classify it as a $1$. Let's take a look."
   ]
  },
  {
   "cell_type": "markdown",
   "metadata": {},
   "source": [
    "### Classification outcome"
   ]
  },
  {
   "cell_type": "markdown",
   "metadata": {},
   "source": [
    "If we feed this point through the network it produces the following scores."
   ]
  },
  {
   "cell_type": "code",
   "execution_count": 9,
   "metadata": {},
   "outputs": [
    {
     "data": {
      "text/plain": [
       "10-element Array{Float64,1}:\n",
       " -342.2761483644186  \n",
       "  172.14072548118477 \n",
       "   22.81275466205807 \n",
       "  -38.50119246229842 \n",
       " -393.45695272113505 \n",
       " -164.72782336024417 \n",
       " -231.51173385356634 \n",
       "  -48.316163527486296\n",
       "  693.0404469496182  \n",
       "  -15.815705339473023"
      ]
     },
     "execution_count": 9,
     "metadata": {},
     "output_type": "execute_result"
    }
   ],
   "source": [
    "output_scores = NeuralVerification.compute_output(mnist3, counter_example)"
   ]
  },
  {
   "cell_type": "code",
   "execution_count": 12,
   "metadata": {},
   "outputs": [
    {
     "data": {
      "text/plain": [
       "false"
      ]
     },
     "execution_count": 12,
     "metadata": {},
     "output_type": "execute_result"
    }
   ],
   "source": [
    "output_scores ∈ Y"
   ]
  },
  {
   "cell_type": "code",
   "execution_count": 13,
   "metadata": {},
   "outputs": [
    {
     "data": {
      "text/plain": [
       "true"
      ]
     },
     "execution_count": 13,
     "metadata": {},
     "output_type": "execute_result"
    }
   ],
   "source": [
    "output_scores ∈ Yc"
   ]
  },
  {
   "cell_type": "markdown",
   "metadata": {},
   "source": [
    "And by looking at the maximum score we can obtain the associated label"
   ]
  },
  {
   "cell_type": "code",
   "execution_count": 14,
   "metadata": {},
   "outputs": [
    {
     "data": {
      "text/plain": [
       "8"
      ]
     },
     "execution_count": 14,
     "metadata": {},
     "output_type": "execute_result"
    }
   ],
   "source": [
    "output_label = argmax(NeuralVerification.compute_output(mnist3, counter_example))-1\n",
    "output_label"
   ]
  },
  {
   "cell_type": "markdown",
   "metadata": {},
   "source": [
    "Which means the network classified that point as a number $8$."
   ]
  },
  {
   "cell_type": "markdown",
   "metadata": {},
   "source": [
    "## Perturbation"
   ]
  },
  {
   "cell_type": "markdown",
   "metadata": {},
   "source": [
    "We now take a look at the peturbation applied to the original image that leads to the aversarial example"
   ]
  },
  {
   "cell_type": "code",
   "execution_count": 15,
   "metadata": {},
   "outputs": [
    {
     "data": {
      "image/png": "[encoded data removed]",
      "text/plain": [
       "Figure(PyObject <Figure size 640x480 with 1 Axes>)"
      ]
     },
     "metadata": {},
     "output_type": "display_data"
    },
    {
     "data": {
      "text/plain": [
       "PyObject <matplotlib.image.AxesImage object at 0x14bb3d1d0>"
      ]
     },
     "execution_count": 15,
     "metadata": {},
     "output_type": "execute_result"
    }
   ],
   "source": [
    "perturbation = counter_example - input_center\n",
    "#clamp!(perturbation, 0, 250)\n",
    "imshow(reshape(perturbation, 28, 28)' ,cmap=:gray, clim=(0,255))"
   ]
  },
  {
   "cell_type": "markdown",
   "metadata": {},
   "source": [
    "# Now lets play with the parameters"
   ]
  },
  {
   "cell_type": "markdown",
   "metadata": {},
   "source": [
    "We have shown that by defining the Input and Output sets appropriately NeuralVerification.jl can be used to find adversarial examples for a classification network. Now lets see if we can find more interesting adversarial examples by selecting different output sets and values of $\\epsilon$ for the input set.\n"
   ]
  },
  {
   "cell_type": "code",
   "execution_count": 16,
   "metadata": {},
   "outputs": [
    {
     "name": "stdout",
     "output_type": "stream",
     "text": [
      "NSVerify - mnist1\n",
      " - Time: 21.960377679 s - Output: CounterExampleResult(:violated, [40.0, 0.0, 0.0, 0.0, 0.0, 0.0, 40.0, 0.0, 0.0, 40.0, 0.0, 0.0, 0.0, 0.0, 0.0, 0.0, 40.0, 40.0, 40.0, 0.0, 0.0, 0.0, 0.0, 0.0, 0.0, 40.0, 8.92983, 0.0, 3.55271e-14, 0.0, 0.0, 0.0, 0.0, 0.0, 0.0, 0.0, 0.0, 40.0, 0.0, 40.0, 40.0, 40.0, 14.9659, 0.0, 0.0, 0.0, 40.0, 40.0, 40.0, 40.0, 40.0, 0.0, 40.0, 40.0, 0.0, 0.0, 0.0, 0.0, 40.0, 40.0, 40.0, 0.0, 0.0, 0.0, 0.0, 0.0, 0.0, 40.0, 0.0, 0.0, 0.0, 0.0, 0.0, 0.0, 0.0, 40.0, 40.0, 40.0, 40.0, 40.0, 0.0, 0.0, 0.0, 0.0, 40.0, 0.0, 0.0, 0.0, 40.0, 40.0, 40.0, 31.2775, 0.0, 40.0, 0.0, 0.0, 0.0, 0.0, 0.0, 0.0, 0.0, 0.0, 0.0, 40.0, 0.0, 40.0, 40.0, 40.0, 40.0, 0.0, 0.0, 0.0, 0.0, 0.0, 0.0, 0.0, 0.0, 0.0, 40.0, 40.0, 0.0, 0.0, 0.0, 0.0, 0.0, 0.0, 0.0, 0.0, 0.0, 0.0, 0.0, 0.0, 40.0, 0.0, 40.0, 40.0, 40.0, 0.0, 0.0, 40.0, 40.0, 40.0, 0.0, 40.0, 40.0, 31.5597, 40.0, 0.0, 40.0, 0.0, 40.0, 0.0, 0.0, 0.0, 0.0, 0.0, 0.0, 0.0, 81.0, 214.0, 96.0, 40.0, 0.0, 40.0, 0.0, 0.0, 0.0, 40.0, 40.0, 0.0, 40.0, 40.0, 40.0, 40.0, 0.0, 0.0, 0.0, 0.0, 0.0, 0.0, 0.0, 0.0, 0.0, 0.0, 0.0, 21.4821, 190.0, 213.0, 208.0, 59.0, 40.0, 0.0, 0.0, 0.0, 0.0, 0.0, 0.0, 40.0, 0.0, 0.0, 0.0, 40.0, 0.0, 40.0, 6.39488e-14, 0.0, 0.0, 0.0, 0.0, 0.0, 0.0, 0.0, 0.0, 78.0, 255.0, 213.0, 185.0, 82.0, 0.0, 0.0, 0.0, 0.0, 0.0, 0.0, 40.0, 40.0, 40.0, 40.0, 0.0, 40.0, 40.0, 0.0, 40.0, 0.0, 0.0, 0.0, 0.0, 0.0, 0.0, 0.0, 101.0, 213.0, 213.0, 213.0, 34.0, 0.0, 0.0, 0.0, 0.0, 0.0, 0.0, 0.0, 40.0, 40.0, 0.0, 40.0, 0.0, 0.0, 0.0, 0.0, 0.0, 0.0, 0.0, 0.0, 0.0, 0.0, 40.0, 0.0, 166.0, 213.0, 213.0, 146.0, 49.0, 0.0, 0.0, 0.0, 0.0, 0.0, 0.0, 40.0, 40.0, 40.0, 0.0, 40.0, 40.0, 0.0, 0.0, 0.0, 40.0, 40.0, 0.0, 40.0, 40.0, 40.0, 0.0, 251.0, 213.0, 213.0, 199.0, 29.0, 0.0, 0.0, 0.0, 0.0, 0.0, 0.0, 0.0, 40.0, 0.0, 40.0, 40.0, 0.0, 40.0, 0.0, 40.0, 0.0, 0.0, 0.0, 40.0, 40.0, 40.0, 40.0, 40.0, 255.0, 255.0, 255.0, 93.0, 0.0, 0.0, 0.0, 0.0, 0.0, 0.0, 0.0, 0.0, 0.0, 40.0, 40.0, 40.0, 40.0, 40.0, 0.0, 40.0, 0.0, 40.0, 40.0, 40.0, 40.0, 40.0, 40.0, 102.0, 255.0, 213.0, 146.0, 48.0, 0.0, 0.0, 0.0, 40.0, 0.0, 0.0, 0.0, 0.0, 40.0, 0.0, 40.0, 40.0, 0.0, 40.0, 40.0, 40.0, 40.0, 40.0, 40.0, 40.0, 40.0, 40.0, 109.0, 189.0, 214.0, 167.0, 0.0, 40.0, 0.0, 40.0, 40.0, 0.0, 0.0, 0.0, 0.0, 0.0, 0.0, 40.0, 40.0, 40.0, 0.0, -4.26326e-14, 40.0, 0.0, 40.0, 0.0, 40.0, 40.0, 40.0, 14.0, 189.0, 213.0, 214.0, 145.0, 40.0, 0.0, 0.0, 0.0, 40.0, 40.0, 40.0, 40.0, 0.0, 0.0, 0.0, 40.0, 0.0, 40.0, 40.0, 0.0, 0.0, 0.0, 0.0, 0.0, 40.0, 40.0, 40.0, 112.0, 214.0, 214.0, 173.0, 66.0, 40.0, 40.0, 40.0, 40.0, 40.0, 40.0, 40.0, 0.0, 0.0, 0.0, 0.0, 40.0, 0.0, 0.0, 0.0, 0.0, 40.0, 0.0, 0.0, 40.0, 0.0, 0.0, 152.0, 211.0, 213.0, 213.0, 66.0, 40.0, 40.0, 40.0, 40.0, 40.0, 40.0, 40.0, 40.0, 0.0, 0.0, 0.0, 0.0, 40.0, 0.0, 0.0, 0.0, 0.0, 0.0, 0.0, 0.0, 40.0, 0.0, 0.0, 172.0, 213.0, 210.0, 109.0, 40.0, 40.0, 40.0, 40.0, 40.0, 40.0, 40.0, 40.0, 40.0, 40.0, 0.0, 0.0, 0.0, 40.0, 0.0, 40.0, 40.0, 0.0, 0.0, 0.0, 0.0, 0.0, 0.0, 174.0, 213.0, 213.0, 97.0, 0.0, 0.0, 0.0, 0.0, 0.0, 4.9738e-14, 40.0, 40.0, 0.0, 40.0, 0.0, 0.0, 0.0, 0.0, 0.0, 40.0, 0.0, 40.0, 0.0, 40.0, 0.0, 0.0, 0.0, 115.0, 213.0, 213.0, 213.0, 19.0, 0.0, 0.0, 0.0, 0.0, 0.0, 40.0, 0.0, 0.0, 0.0, 0.0, 0.0, 0.0, 0.0, 0.0, 40.0, 40.0, 0.0, 0.0, 0.0, 0.0, 0.0, 0.0, 0.0, 53.0, 213.0, 213.0, 149.0, 0.0, 0.0, 0.0, 0.0, 0.0, 0.0, 0.0, 0.0, 0.0, 0.0, 0.0, 40.0, 0.0, 0.0, 0.0, 0.0, 40.0, 0.0, 0.0, 0.0, 40.0, 0.0, 0.0, 0.0, 184.0, 213.0, 213.0, 124.0, 0.0, 0.0, 0.0, 40.0, 0.0, 0.0, 0.0, 0.0, 0.0, 0.0, 0.0, 0.0, 40.0, 0.0, 40.0, 40.0, 0.0, 0.0, 0.0, 0.0, 0.0, 0.0, 0.0, 3.0, 255.0, 255.0, 86.0, 0.0, 0.0, 0.0, 0.0, 0.0, 0.0, 40.0, 0.0, 37.2304, 0.0, 0.0, 0.0, 0.0, 0.0, 40.0, 0.0, 0.0, 0.0, 0.0, 0.0, 40.0, 0.0, 0.0, 0.0, 59.0, 208.0, 213.0, 79.0, 0.0, 0.0, 0.0, 40.0, 0.0, 40.0, 0.0, 40.0, 0.0, 0.0, 0.0, 0.0, 0.0, 40.0, 0.0, 0.0, 0.0, 0.0, 0.0, 40.0, 0.643899, 40.0, 40.0, 0.0, 0.0, 185.0, 195.0, 9.0, 0.0, 0.0, 28.57, 0.0, 0.0, 40.0, 0.0, 0.0, 40.0, 0.0, 0.0, 0.0, 0.0, 40.0, 0.0, 0.0, 0.0, 0.0, 0.0, 40.0, 0.0, 0.0, 0.0, 0.0, 0.0, 0.0, 0.0, 0.0, 0.0, 0.0, 0.0, 0.0, 0.0, 0.0, 40.0, 0.0, 40.0, 40.0, 40.0, 0.0, 0.0, 40.0, 0.0, 40.0, 0.0, 21.37, 0.0, 0.0, 40.0, 0.0, 40.0, 0.0, 0.0, 0.0, 0.0, 0.0, 0.0, 40.0, 23.1978, 0.0, 0.0, 40.0, 0.0, 40.0, 0.0, 0.0, 0.0, 0.0, 0.0, 40.0, 0.0, 0.0, 0.0, 40.0, 0.0, 0.0, 40.0, 40.0, 0.0, 0.0, 0.0, 40.0, 40.0, 0.0, 0.0, 40.0, 0.0, 40.0, 40.0, 40.0, 0.0, 0.0, 40.0, 40.0, 40.0, 40.0, 0.0, 0.0, 40.0, 40.0])\n"
     ]
    }
   ],
   "source": [
    "epsilon = 40\n",
    "digitHalfspace = 9\n",
    "\n",
    "upper = input_center .+ epsilon\n",
    "lower = input_center .- epsilon\n",
    "clamp!(upper, 0.0, 255.0)\n",
    "clamp!(lower, 0.0, 255.0)\n",
    "X = Hyperrectangle(low=lower, high=upper)\n",
    "\n",
    "A = [0.0, 1.0, 0.0, 0.0, 0.0, 0.0, 0.0, 0.0, 0.0, 0.0]'\n",
    "A[digitHalfspace+1] = -1.0\n",
    "b = [0.0]\n",
    "Yc = HPolytope(A, b)\n",
    "Y = complement(Yc)\n",
    "\n",
    "problem_mnist = Problem(mnist3, X, Y)\n",
    "\n",
    "solver = NSVerify(m=100)\n",
    "solver=Reluplex()\n",
    "println(\"NSVerify - mnist1\")\n",
    "timed_result = @timed solve(solver, problem_mnist)\n",
    "print(\" - Time: \" * string(timed_result[2]) * \" s\")\n",
    "print(\" - Output: \")\n",
    "print(timed_result[1])\n",
    "println(\"\")\n",
    "\n",
    "counter_example = timed_result[1].counter_example;"
   ]
  },
  {
   "cell_type": "code",
   "execution_count": 17,
   "metadata": {},
   "outputs": [
    {
     "data": {
      "image/png": "[encoded data removed]",
      "text/plain": [
       "Figure(PyObject <Figure size 640x480 with 1 Axes>)"
      ]
     },
     "metadata": {},
     "output_type": "display_data"
    },
    {
     "data": {
      "text/plain": [
       "PyObject <matplotlib.image.AxesImage object at 0x145113d68>"
      ]
     },
     "execution_count": 17,
     "metadata": {},
     "output_type": "execute_result"
    }
   ],
   "source": [
    "imshow(reshape(counter_example, 28, 28)', cmap=:gray, clim=(0,255))"
   ]
  },
  {
   "cell_type": "code",
   "execution_count": 18,
   "metadata": {},
   "outputs": [
    {
     "data": {
      "text/plain": [
       "8"
      ]
     },
     "execution_count": 18,
     "metadata": {},
     "output_type": "execute_result"
    }
   ],
   "source": [
    "output_label = argmax(NeuralVerification.compute_output(mnist3, counter_example))-1\n",
    "output_label"
   ]
  },
  {
   "cell_type": "code",
   "execution_count": 19,
   "metadata": {},
   "outputs": [
    {
     "data": {
      "image/png": "[encoded data removed]",
      "text/plain": [
       "Figure(PyObject <Figure size 640x480 with 1 Axes>)"
      ]
     },
     "metadata": {},
     "output_type": "display_data"
    },
    {
     "data": {
      "text/plain": [
       "PyObject <matplotlib.image.AxesImage object at 0x145088b38>"
      ]
     },
     "execution_count": 19,
     "metadata": {},
     "output_type": "execute_result"
    }
   ],
   "source": [
    "perturbation = counter_example - input_center\n",
    "imshow(reshape(perturbation, 28, 28)' ,cmap=:gray, clim=(0,255))"
   ]
  }
 ],
 "metadata": {
  "kernelspec": {
   "display_name": "Julia 1.5.0-beta1",
   "language": "julia",
   "name": "julia-1.5"
  },
  "language_info": {
   "file_extension": ".jl",
   "mimetype": "application/julia",
   "name": "julia",
   "version": "1.5.0"
  }
 },
 "nbformat": 4,
 "nbformat_minor": 2
}
