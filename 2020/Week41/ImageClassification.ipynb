{
 "cells": [
  {
   "cell_type": "markdown",
   "metadata": {},
   "source": [
    "# Robustness of an Image Classification Network"
   ]
  },
  {
   "cell_type": "markdown",
   "metadata": {},
   "source": [
    "This notebook is adapted from [1].\n",
    "\n",
    "### References\n",
    "\n",
    "[1] https://github.com/sisl/NeuralVerification.jl/blob/master/examples/cars_workshop/5%20image%20classification.ipynb"
   ]
  },
  {
   "cell_type": "markdown",
   "metadata": {},
   "source": [
    "## MNIST Data set"
   ]
  },
  {
   "cell_type": "markdown",
   "metadata": {},
   "source": [
    "In this notebook we will inspect networks trained to classify hand-written digits from the MNIST dataset. We will load the pretrained networks (similar to those produced in the training notebook) and then inspect them to find an adversarial example - an input point close to an original training point that produces and undesirable output, in this case a missclassification error."
   ]
  },
  {
   "cell_type": "markdown",
   "metadata": {},
   "source": [
    "The MNIST dataset is composed of handwritte digits as shown below. Each sample is a grayscale image (with a single 8 bit channel) of 28 x 28 pixels."
   ]
  },
  {
   "cell_type": "markdown",
   "metadata": {},
   "source": [
    " ![caption](https://github.com/sisl/NeuralVerification.jl/blob/master/examples/cars_workshop/img/mnistexamples.png?raw=true)"
   ]
  },
  {
   "cell_type": "markdown",
   "metadata": {},
   "source": [
    "## Classification Network"
   ]
  },
  {
   "cell_type": "markdown",
   "metadata": {},
   "source": [
    "Each input point is reshaped into a $28 \\times 28 = 784$ dimensional vector with each value in the $[0, 255]$ range, where $255$ corresponds to white and $0$ to black. The networks, which in this case have a fully connected feed-forward architecture with ReLU activation functions output 10 scores, one corresponding to each of the $0-9$ digits. The input image is classified with the label that corresponds to the maximum score outputted by the network."
   ]
  },
  {
   "cell_type": "markdown",
   "metadata": {},
   "source": [
    "## Adversarial Example"
   ]
  },
  {
   "cell_type": "markdown",
   "metadata": {},
   "source": [
    "It is widely known that Deep Neural Networks (DNNa) are suceptible to adversarial perturbations. In this example this means that slight changes in points that are correctly classified can be misclassified. We will use NeuralVerification.jl to find such an example."
   ]
  },
  {
   "cell_type": "markdown",
   "metadata": {},
   "source": [
    "Recall that for a given network $f(x)$, Input Set $\\mathcal{X}$ and Output set $\\mathcal{Y}$, the verification problems consists of concluding whether"
   ]
  },
  {
   "cell_type": "markdown",
   "metadata": {},
   "source": [
    "$$\\ x\\in \\mathcal{X} \\Rightarrow  y= f( x)\\in \\mathcal{Y}$$"
   ]
  },
  {
   "cell_type": "markdown",
   "metadata": {},
   "source": [
    "holds or not. When this condition does not hold some of the algorithms implemented in NeuralVerification.jl return a counter example, that is a point $x \\in \\mathcal{X}$ such that $f(x) \\notin \\mathcal{Y}$ which is equivalent to $x \\in \\mathcal{X} \\wedge f(x) \\in \\mathcal{Y}^C$."
   ]
  },
  {
   "cell_type": "markdown",
   "metadata": {},
   "source": [
    "We will construct the Input Set $\\mathcal{X}$ with points close to a correctly classified sample and the Output Set $\\mathcal{Y}$ to contain the score distributions that correspond to correctly classifying the point. In this way, if a counter example is returned it will be a point that lays close to the correctly classified point but with a score distribution where the score corresponding to the label of the original input point is not maximal."
   ]
  },
  {
   "cell_type": "markdown",
   "metadata": {},
   "source": [
    "# Loading the requirements"
   ]
  },
  {
   "cell_type": "code",
   "execution_count": 1,
   "metadata": {},
   "outputs": [
    {
     "name": "stderr",
     "output_type": "stream",
     "text": [
      "┌ Info: Precompiling NeuralVerification [146f25fa-00e7-11e9-3ae5-fdbac6e12fa7]\n",
      "└ @ Base loading.jl:1278\n"
     ]
    }
   ],
   "source": [
    "using NeuralVerification, LazySets, Test, LinearAlgebra, GLPKMathProgInterface\n",
    "import NeuralVerification: ReLU, Id\n",
    "using PyPlot"
   ]
  },
  {
   "cell_type": "markdown",
   "metadata": {},
   "source": [
    "## Loading the networks"
   ]
  },
  {
   "cell_type": "markdown",
   "metadata": {},
   "source": [
    "We load the networks contained as examples in NeuralVerification.jl"
   ]
  },
  {
   "cell_type": "code",
   "execution_count": 2,
   "metadata": {},
   "outputs": [
    {
     "data": {
      "text/plain": [
       "\"/home/mforets/.julia/dev/NeuralVerification/examples/cars_workshop/models\""
      ]
     },
     "execution_count": 2,
     "metadata": {},
     "output_type": "execute_result"
    }
   ],
   "source": [
    "models_dir = \"/home/mforets/.julia/dev/NeuralVerification/examples/cars_workshop/models\""
   ]
  },
  {
   "cell_type": "code",
   "execution_count": 3,
   "metadata": {},
   "outputs": [],
   "source": [
    "mnist1_file = joinpath(models_dir, \"mnist1.nnet\")\n",
    "mnist2_file = joinpath(models_dir, \"mnist2.nnet\")\n",
    "mnist3_file = joinpath(models_dir, \"mnist3.nnet\")\n",
    "mnist4_file = joinpath(models_dir, \"mnist4.nnet\")\n",
    "\n",
    "mnist1 = read_nnet(mnist1_file, last_layer_activation = Id())\n",
    "mnist2 = read_nnet(mnist2_file, last_layer_activation = Id())\n",
    "mnist3 = read_nnet(mnist3_file, last_layer_activation = Id())\n",
    "mnist4 = read_nnet(mnist4_file, last_layer_activation = Id());"
   ]
  },
  {
   "cell_type": "code",
   "execution_count": 4,
   "metadata": {},
   "outputs": [
    {
     "name": "stdout",
     "output_type": "stream",
     "text": [
      "Network\n",
      "  layers: Array{NeuralVerification.Layer}((2,))\n",
      "    1: NeuralVerification.Layer{ReLU,Float64}\n",
      "      weights: Array{Float64}((25, 784)) [-0.0145822 -0.10073 … 0.0317891 -0.121057; 0.0927983 0.0378668 … -0.170367 0.0468094; … ; 0.106251 -0.0527935 … -0.152655 -0.159538; -0.0353035 0.107237 … -0.15136 -0.11534]\n",
      "      bias: Array{Float64}((25,)) [0.250202, -0.0460057, 0.197282, 0.206724, 0.19505, 0.123348, 0.195402, 0.195682, 0.270503, 0.0789479  …  0.00734778, 0.195026, 0.139418, 0.188492, 0.36361, -0.0787834, 0.209898, 0.276816, 0.103367, 0.239872]\n",
      "      activation: ReLU ReLU()\n",
      "    2: NeuralVerification.Layer{Id,Float64}\n",
      "      weights: Array{Float64}((10, 25)) [-0.048196 0.0694253 … -0.147897 -0.0522713; -0.165646 0.0419264 … -0.0298784 0.308652; … ; -0.0234716 0.233258 … -0.0833671 0.0769656; 0.253074 0.0652968 … -0.0465979 0.124504]\n",
      "      bias: Array{Float64}((10,)) [0.0894416, 0.23172, 0.113948, 0.0927643, 0.180114, 0.294576, 0.107671, 0.216698, -0.0553405, 0.108553]\n",
      "      activation: Id Id()\n"
     ]
    }
   ],
   "source": [
    "dump(mnist1)"
   ]
  },
  {
   "cell_type": "markdown",
   "metadata": {},
   "source": [
    "## Defining the problem"
   ]
  },
  {
   "cell_type": "markdown",
   "metadata": {},
   "source": [
    "In order to define the problem we need a network, which we will select from the ones previously loaded, an Input Set $\\mathcal{X}$ and an Output Set $\\mathcal{Y}$."
   ]
  },
  {
   "cell_type": "markdown",
   "metadata": {},
   "source": [
    "### Input Set"
   ]
  },
  {
   "cell_type": "markdown",
   "metadata": {},
   "source": [
    "To define the Input Set we begin with a data point in the training set. For this example we selected the following image which corresponds to a hand-written digit $1$."
   ]
  },
  {
   "cell_type": "code",
   "execution_count": 5,
   "metadata": {},
   "outputs": [
    {
     "data": {
      "image/png": "[encoded data removed]",
      "text/plain": [
       "Figure(PyObject <Figure size 640x480 with 1 Axes>)"
      ]
     },
     "metadata": {},
     "output_type": "display_data"
    },
    {
     "data": {
      "text/plain": [
       "PyObject <matplotlib.image.AxesImage object at 0x7f6b5247c190>"
      ]
     },
     "execution_count": 5,
     "metadata": {},
     "output_type": "execute_result"
    }
   ],
   "source": [
    "input_center = [0.0,0,0,0,0,0,0,0,0,0,0,0,0,0,0,0,0,0,0,0,0,0,0,0,0,0,0,0,0,0,0,0,0,0,0,0,0,0,0,0,0,0,0,0,0,0,0,0,0,0,0,0,0,0,0,0,0,0,0,0,0,0,0,0,0,0,0,0,0,0,0,0,0,0,0,0,0,0,0,0,0,0,0,0,0,0,0,0,0,0,0,0,0,0,0,0,0,0,0,0,0,0,0,0,0,0,0,0,0,0,0,0,0,0,0,0,0,0,0,0,0,0,0,0,0,0,0,0,0,0,0,0,0,0,0,0,0,0,0,0,0,0,0,0,0,0,0,0,0,0,0,0,0,0,0,0,0,0,121,254,136,0,0,0,0,0,0,0,0,0,0,0,0,0,0,0,0,0,0,0,0,0,0,0,0,13,230,253,248,99,0,0,0,0,0,0,0,0,0,0,0,0,0,0,0,0,0,0,0,0,0,0,4,118,253,253,225,42,0,0,0,0,0,0,0,0,0,0,0,0,0,0,0,0,0,0,0,0,0,0,61,253,253,253,74,0,0,0,0,0,0,0,0,0,0,0,0,0,0,0,0,0,0,0,0,0,0,32,206,253,253,186,9,0,0,0,0,0,0,0,0,0,0,0,0,0,0,0,0,0,0,0,0,0,0,211,253,253,239,69,0,0,0,0,0,0,0,0,0,0,0,0,0,0,0,0,0,0,0,0,0,0,0,254,253,253,133,0,0,0,0,0,0,0,0,0,0,0,0,0,0,0,0,0,0,0,0,0,0,0,142,255,253,186,8,0,0,0,0,0,0,0,0,0,0,0,0,0,0,0,0,0,0,0,0,0,0,149,229,254,207,21,0,0,0,0,0,0,0,0,0,0,0,0,0,0,0,0,0,0,0,0,0,0,54,229,253,254,105,0,0,0,0,0,0,0,0,0,0,0,0,0,0,0,0,0,0,0,0,0,0,0,152,254,254,213,26,0,0,0,0,0,0,0,0,0,0,0,0,0,0,0,0,0,0,0,0,0,0,112,251,253,253,26,0,0,0,0,0,0,0,0,0,0,0,0,0,0,0,0,0,0,0,0,0,0,29,212,253,250,149,0,0,0,0,0,0,0,0,0,0,0,0,0,0,0,0,0,0,0,0,0,0,36,214,253,253,137,0,0,0,0,0,0,0,0,0,0,0,0,0,0,0,0,0,0,0,0,0,0,0,75,253,253,253,59,0,0,0,0,0,0,0,0,0,0,0,0,0,0,0,0,0,0,0,0,0,0,0,93,253,253,189,17,0,0,0,0,0,0,0,0,0,0,0,0,0,0,0,0,0,0,0,0,0,0,0,224,253,253,84,0,0,0,0,0,0,0,0,0,0,0,0,0,0,0,0,0,0,0,0,0,0,0,43,235,253,126,1,0,0,0,0,0,0,0,0,0,0,0,0,0,0,0,0,0,0,0,0,0,0,0,99,248,253,119,0,0,0,0,0,0,0,0,0,0,0,0,0,0,0,0,0,0,0,0,0,0,0,0,0,225,235,49,0,0,0,0,0,0,0,0,0,0,0,0,0,0,0,0,0,0,0,0,0,0,0,0,0,0,0,0,0,0,0,0,0,0,0,0,0,0,0,0,0,0,0,0,0,0,0,0,0,0,0,0,0,0,0,0,0,0,0,0,0,0,0,0,0,0,0,0,0,0,0,0,0,0,0,0,0,0,0,0,0,0,0,0,0,0,0,0,0,0,0,0,0,0,0,0,0,0,0,0]\n",
    "X = reshape(input_center, 28, 28)'\n",
    "imshow(X, cmap=:gray, clim=(0,255))"
   ]
  },
  {
   "cell_type": "markdown",
   "metadata": {},
   "source": [
    "Notice that the network correctly classifies this image as as $1$:"
   ]
  },
  {
   "cell_type": "code",
   "execution_count": 6,
   "metadata": {},
   "outputs": [
    {
     "data": {
      "text/plain": [
       "10-element Array{Float64,1}:\n",
       " -1629.2302589012768\n",
       "  2720.09014887375\n",
       "   -89.66814654856465\n",
       "    29.31700703467395\n",
       "   115.33444359444309\n",
       " -2863.4869100532223\n",
       "  -724.9086493556797\n",
       "  1245.998599490938\n",
       "   408.713853247963\n",
       "  -374.98230616425457"
      ]
     },
     "execution_count": 6,
     "metadata": {},
     "output_type": "execute_result"
    }
   ],
   "source": [
    "scores = NeuralVerification.compute_output(mnist3, input_center)"
   ]
  },
  {
   "cell_type": "code",
   "execution_count": 7,
   "metadata": {},
   "outputs": [
    {
     "data": {
      "text/plain": [
       "1"
      ]
     },
     "execution_count": 7,
     "metadata": {},
     "output_type": "execute_result"
    }
   ],
   "source": [
    "input_center_label = argmax(scores)-1\n",
    "input_center_label"
   ]
  },
  {
   "cell_type": "markdown",
   "metadata": {},
   "source": [
    "We then build a hyperrectangle around it by defining an $\\epsilon$ and including all the points that can be reached by deviating at most $\\epsilon$ from the original image in every dimension. Note that this could cause the set to include points with pixel values below $0$ or above $255$ which would be outside of the range so we have clipped these values."
   ]
  },
  {
   "cell_type": "code",
   "execution_count": 8,
   "metadata": {},
   "outputs": [
    {
     "data": {
      "text/plain": [
       "Hyperrectangle{Float64,Array{Float64,1},Array{Float64,1}}([20.0, 20.0, 20.0, 20.0, 20.0, 20.0, 20.0, 20.0, 20.0, 20.0  …  20.0, 20.0, 20.0, 20.0, 20.0, 20.0, 20.0, 20.0, 20.0, 20.0], [20.0, 20.0, 20.0, 20.0, 20.0, 20.0, 20.0, 20.0, 20.0, 20.0  …  20.0, 20.0, 20.0, 20.0, 20.0, 20.0, 20.0, 20.0, 20.0, 20.0])"
      ]
     },
     "execution_count": 8,
     "metadata": {},
     "output_type": "execute_result"
    }
   ],
   "source": [
    "epsilon = 40\n",
    "upper = input_center .+ epsilon\n",
    "lower = input_center .- epsilon\n",
    "clamp!(upper, 0.0, 255.0)\n",
    "clamp!(lower, 0.0, 255.0)\n",
    "\n",
    "X = Hyperrectangle(low=lower, high=upper)"
   ]
  },
  {
   "cell_type": "code",
   "execution_count": 9,
   "metadata": {},
   "outputs": [
    {
     "data": {
      "image/png": "[encoded data removed]",
      "text/plain": [
       "Figure(PyObject <Figure size 640x480 with 1 Axes>)"
      ]
     },
     "metadata": {},
     "output_type": "display_data"
    },
    {
     "data": {
      "text/plain": [
       "PyObject <matplotlib.image.AxesImage object at 0x7f6b523e4a10>"
      ]
     },
     "execution_count": 9,
     "metadata": {},
     "output_type": "execute_result"
    }
   ],
   "source": [
    "v = X.center\n",
    "v = reshape(v, 28, 28)'\n",
    "imshow(v, cmap=:gray, clim=(0,255))"
   ]
  },
  {
   "cell_type": "code",
   "execution_count": 10,
   "metadata": {},
   "outputs": [
    {
     "data": {
      "image/png": "[encoded data removed]",
      "text/plain": [
       "Figure(PyObject <Figure size 640x480 with 1 Axes>)"
      ]
     },
     "metadata": {},
     "output_type": "display_data"
    },
    {
     "data": {
      "text/plain": [
       "PyObject <matplotlib.image.AxesImage object at 0x7f6b523530d0>"
      ]
     },
     "execution_count": 10,
     "metadata": {},
     "output_type": "execute_result"
    }
   ],
   "source": [
    "v = σ(fill(1.0, 784), X)\n",
    "v = reshape(v, 28, 28)'\n",
    "imshow(v, cmap=:gray, clim=(0,255))"
   ]
  },
  {
   "cell_type": "code",
   "execution_count": 11,
   "metadata": {},
   "outputs": [
    {
     "name": "stderr",
     "output_type": "stream",
     "text": [
      "┌ Info: Precompiling NetworkBackpropagation [58b236a2-a910-47f3-8f29-51107f23e789]\n",
      "└ @ Base loading.jl:1278\n",
      "WARNING: using NetworkBackpropagation.ReLU in module Main conflicts with an existing identifier.\n",
      "WARNING: using NetworkBackpropagation.Network in module Main conflicts with an existing identifier.\n",
      "WARNING: using NetworkBackpropagation.Id in module Main conflicts with an existing identifier.\n"
     ]
    },
    {
     "data": {
      "text/plain": [
       "NetworkBackpropagation"
      ]
     },
     "execution_count": 11,
     "metadata": {},
     "output_type": "execute_result"
    }
   ],
   "source": [
    "using NetworkBackpropagation\n",
    "const NB = NetworkBackpropagation"
   ]
  },
  {
   "cell_type": "code",
   "execution_count": 12,
   "metadata": {},
   "outputs": [],
   "source": [
    "_convert(::NeuralVerification.Id) = NB.Id\n",
    "_convert(::NeuralVerification.ReLU) = NB.ReLU\n",
    "\n",
    "L = []\n",
    "\n",
    "for Li in mnist3.layers\n",
    "    W = Li.weights\n",
    "    b = Li.bias\n",
    "    a = _convert(Li.activation)\n",
    "    Li = NB.Layer(W, b, a)\n",
    "    push!(L, Li)\n",
    "end\n",
    "\n",
    "net = NB.Network(L);"
   ]
  },
  {
   "cell_type": "code",
   "execution_count": 13,
   "metadata": {},
   "outputs": [
    {
     "data": {
      "text/plain": [
       "10-element Array{Float64,1}:\n",
       " -1629.2302589012768\n",
       "  2720.09014887375\n",
       "   -89.66814654856465\n",
       "    29.31700703467395\n",
       "   115.33444359444309\n",
       " -2863.4869100532223\n",
       "  -724.9086493556797\n",
       "  1245.998599490938\n",
       "   408.713853247963\n",
       "  -374.98230616425457"
      ]
     },
     "execution_count": 13,
     "metadata": {},
     "output_type": "execute_result"
    }
   ],
   "source": [
    "NB.forward(input_center, net) # OK"
   ]
  },
  {
   "cell_type": "code",
   "execution_count": 14,
   "metadata": {},
   "outputs": [
    {
     "data": {
      "text/plain": [
       "10-element Array{Float64,1}:\n",
       " -1629.2302589012768\n",
       "  2720.09014887375\n",
       "   -89.66814654856465\n",
       "    29.31700703467395\n",
       "   115.33444359444309\n",
       " -2863.4869100532223\n",
       "  -724.9086493556797\n",
       "  1245.998599490938\n",
       "   408.713853247963\n",
       "  -374.98230616425457"
      ]
     },
     "execution_count": 14,
     "metadata": {},
     "output_type": "execute_result"
    }
   ],
   "source": [
    "scores = NeuralVerification.compute_output(mnist3, input_center)"
   ]
  },
  {
   "cell_type": "code",
   "execution_count": 27,
   "metadata": {},
   "outputs": [
    {
     "data": {
      "text/plain": [
       "HPolyhedron{Float64,Array{Float64,1}}(HalfSpace{Float64,Array{Float64,1}}[HalfSpace{Float64,Array{Float64,1}}([-0.0431283, -0.0401576, -0.0897653, 0.113898, -0.0580114, 0.0855362, 0.036336, 0.0847962, 0.00881099, 0.018303  …  0.408897, 0.0313119, 0.246165, 0.0981024, 0.0944839, -0.0383742, 0.0221875, -0.192181, 0.0607096, 0.125865], 0.185332), HalfSpace{Float64,Array{Float64,1}}([-0.123761, 0.120497, 0.148863, 0.0318227, -0.0721234, -0.0558658, -0.135121, 0.0153767, -0.0622947, 0.076462  …  -0.0383879, -0.141914, 0.0323964, -0.00300744, 0.0886315, -0.135822, -0.0843352, 0.0962809, 0.0347185, 0.0737687], 0.0465011), HalfSpace{Float64,Array{Float64,1}}([0.105673, -0.0105414, 0.106608, -0.0996466, -0.0168599, 0.0498457, 0.0601209, -0.0356818, -0.197061, 0.0154986  …  0.145152, 0.00480305, 0.156955, 0.134958, 0.0955296, 0.0423805, -0.0531268, 0.156499, -0.060791, -0.115254], 0.226455), HalfSpace{Float64,Array{Float64,1}}([0.177725, -0.116494, -0.0775866, 0.117419, -0.0119301, 0.0478919, -0.0171555, 0.000835612, -0.102818, -0.0527032  …  -0.0290048, 0.246181, 0.0774424, -0.172911, 0.0286307, 0.0732589, -0.120627, 0.014596, 0.0938464, -0.107602], 0.252498), HalfSpace{Float64,Array{Float64,1}}([0.101904, 0.132094, 0.0505535, 0.0150242, 0.0221384, -0.0653263, -0.0250228, -0.103766, 0.055036, -0.0482412  …  -0.0244683, -0.0872767, -0.0898406, -0.116793, 0.104355, 0.104848, -0.114781, 0.00349484, -0.0627492, -0.047581], 0.139085), HalfSpace{Float64,Array{Float64,1}}([0.0162464, 0.0584905, 0.038381, 0.0803305, 0.168236, -0.0534408, -0.159345, -0.0891696, 0.0389686, 0.0524404  …  0.0728625, -0.0153705, -0.134363, -0.0401445, -0.0561766, 0.346314, 0.000623052, 0.0819222, -0.0101328, -0.0649769], 0.19203), HalfSpace{Float64,Array{Float64,1}}([-0.0264957, 0.125303, 0.0125036, 0.124628, 0.0847226, 0.0804987, -0.0325, 0.058333, 0.0818259, 0.0606666  …  -0.0210588, -0.133239, -0.173074, -0.0754855, -0.0834678, -0.0458321, -0.121333, 0.0451577, -0.0112933, -0.168485], 0.104465), HalfSpace{Float64,Array{Float64,1}}([-0.139838, -0.122097, 0.0216772, 0.0869333, -0.0501682, 0.00663234, -0.0267459, -0.132635, 0.0385452, 0.0763494  …  0.0437164, -0.115366, -0.120376, -0.194493, -0.233712, -0.0577353, 0.0140495, 0.0297535, -0.121468, 0.0592229], 0.246598), HalfSpace{Float64,Array{Float64,1}}([0.171548, -0.053726, -0.0160838, -0.105441, 0.0992333, 0.127802, -0.0440172, 0.119841, 0.138873, 0.0171014  …  -0.0750066, -0.0444459, -0.0614714, -0.194007, -0.135011, 0.22998, 0.0450885, 0.0253793, 0.0454842, 0.111666], 0.248398), HalfSpace{Float64,Array{Float64,1}}([0.0328065, -0.0405129, 0.0510164, 0.082831, 0.116951, -0.0848, 0.101624, 0.0504528, -0.0973978, 0.0128478  …  -0.173532, 0.0119382, -0.105193, -0.0444251, -0.173453, -0.0366701, 0.116247, 0.0180693, 0.0417142, -0.0732678], 0.168091)  …  HalfSpace{Float64,Array{Float64,1}}([-0.0848087, 0.0773094, 0.0257978, 0.18274, -0.0277408, 0.115112, -0.0733075, 0.0641306, 0.0146766, -0.0887346  …  0.0787113, 0.152958, 0.0534776, -0.0843787, -0.0178702, -0.131579, -0.0766284, -0.0228165, -0.144903, -0.132476], 0.00868179), HalfSpace{Float64,Array{Float64,1}}([-0.15683, -0.0908223, -0.00859966, -0.0579199, 0.102913, -0.0863073, -0.0524098, 0.00768573, -0.0349138, 0.0939079  …  -0.208583, -0.0252199, 0.0955931, -0.0431404, -0.126637, -0.0443205, -0.00916746, -0.0635797, -0.0722788, -0.0191415], 0.243409), HalfSpace{Float64,Array{Float64,1}}([0.113153, 0.0239097, -0.0731299, 0.0559953, 0.0247293, -0.0176542, -0.0216698, -0.114934, -0.159256, -0.043712  …  0.149508, 0.091616, 0.00981707, 0.277075, 0.183244, 0.162478, -0.0262764, -0.0703675, -0.030468, -0.0910089], 0.186647), HalfSpace{Float64,Array{Float64,1}}([-0.0399711, 0.111506, -0.00651516, -0.133605, 0.189747, 0.135589, -0.126251, 0.154571, 0.0714421, 0.0306673  …  0.0177961, 0.0669236, -0.0228632, -0.0823848, -0.322029, -0.210238, 0.00564758, -0.123357, -0.0436097, -0.116131], 0.123678), HalfSpace{Float64,Array{Float64,1}}([-0.000574417, -0.0658666, 0.0638317, -0.0214772, 0.124725, 0.0141596, -0.128965, 0.045554, 0.104778, -0.0940627  …  -0.119198, 0.0325005, -0.0532036, 0.0940437, 0.11045, 0.062961, 0.0363789, -0.0673237, -0.0785307, -0.165891], 0.181051), HalfSpace{Float64,Array{Float64,1}}([-0.0176879, -0.00648191, -0.02701, -0.100069, 0.0957394, -0.0440349, -0.0989031, 0.139047, 0.0369131, 0.0295383  …  -0.107072, -0.0724576, 0.134074, -0.114599, -0.193066, -0.0796536, -0.0261548, -0.0578142, 0.166828, 0.158599], 0.372962), HalfSpace{Float64,Array{Float64,1}}([-0.0781148, -0.00125658, -0.0146986, -0.0198571, 0.138319, 0.131448, -0.00751462, -0.176784, -0.0659531, -0.020575  …  -0.0872488, -0.111918, -0.432568, -0.41449, -0.166243, 0.00349659, 0.0905133, -0.142903, -0.0336977, 0.0529593], 0.26178), HalfSpace{Float64,Array{Float64,1}}([0.011681, -0.101917, -0.00404377, -0.149495, -0.148038, 0.151432, -0.127738, 0.0488673, -0.0590442, 0.110624  …  0.30494, 0.123231, 0.319542, 0.328533, 0.206251, 0.108034, -0.00763347, 0.193218, -0.0582046, 0.142031], 0.120302), HalfSpace{Float64,Array{Float64,1}}([-0.0878102, 0.137601, 0.0490911, -0.036877, -0.0189623, 0.150314, -0.152688, 0.0970694, 0.0822836, 0.0104196  …  -0.0418251, 0.00559578, -0.0116248, 0.136512, 0.0689986, 0.137682, -0.0150763, -0.0157288, -0.0626124, -0.0144194], 0.065139), HalfSpace{Float64,Array{Float64,1}}([-0.00872705, -0.0276594, 0.113701, -0.00992779, 0.103906, 0.148389, 0.037975, -7.43727e-5, 0.161922, 0.144287  …  -0.219234, -0.115773, -0.183822, -0.231511, -0.269499, -0.196985, 0.0597357, 0.103265, 0.0600127, -0.0819168], 0.288629)])"
      ]
     },
     "execution_count": 27,
     "metadata": {},
     "output_type": "execute_result"
    }
   ],
   "source": [
    "# NB.backward(Singleton(scores), net)\n",
    "# AssertionError: inverse rectification not implemented for dimension 25\n",
    "\n",
    "X = NB.backward(Singleton(scores), net, BoxBackwardAlgorithm())"
   ]
  },
  {
   "cell_type": "code",
   "execution_count": 28,
   "metadata": {},
   "outputs": [
    {
     "data": {
      "text/plain": [
       "false"
      ]
     },
     "execution_count": 28,
     "metadata": {},
     "output_type": "execute_result"
    }
   ],
   "source": [
    "isbounded(X)"
   ]
  },
  {
   "cell_type": "code",
   "execution_count": 49,
   "metadata": {},
   "outputs": [
    {
     "data": {
      "text/plain": [
       "false"
      ]
     },
     "execution_count": 49,
     "metadata": {},
     "output_type": "execute_result"
    }
   ],
   "source": [
    "input_center ∈ X # why?"
   ]
  },
  {
   "cell_type": "code",
   "execution_count": 50,
   "metadata": {},
   "outputs": [
    {
     "data": {
      "text/html": [
       "in(x::<b>AbstractArray{N,1}</b>, P::<b>AbstractPolyhedron{N}</b>)<i> where N<:Real</i> in LazySets at <a href=\"https://github.com/JuliaReach/LazySets.jl/tree/084ac43297d00cb445d321a102781a5acc692cd1//src/Interfaces/AbstractPolyhedron_functions.jl#L54\" target=\"_blank\">/home/mforets/.julia/dev/LazySets/src/Interfaces/AbstractPolyhedron_functions.jl:54</a>"
      ],
      "text/plain": [
       "in(x::AbstractArray{N,1}, P::AbstractPolyhedron{N}) where N<:Real in LazySets at /home/mforets/.julia/dev/LazySets/src/Interfaces/AbstractPolyhedron_functions.jl:54"
      ]
     },
     "execution_count": 50,
     "metadata": {},
     "output_type": "execute_result"
    }
   ],
   "source": [
    "@which input_center ∈ X"
   ]
  },
  {
   "cell_type": "code",
   "execution_count": null,
   "metadata": {},
   "outputs": [],
   "source": []
  },
  {
   "cell_type": "code",
   "execution_count": null,
   "metadata": {},
   "outputs": [],
   "source": []
  },
  {
   "cell_type": "markdown",
   "metadata": {},
   "source": [
    "## Output set"
   ]
  },
  {
   "cell_type": "markdown",
   "metadata": {},
   "source": [
    "As stated earlier, the network is trained to output 10 scores, one corresponding to each of the digits between $0$ and $9$. We then assign the label that corresponds to the maximal score. This means that in order to correctly classify the previous image we need the second score (which corresponds to $1$) to be maximal."
   ]
  },
  {
   "cell_type": "markdown",
   "metadata": {},
   "source": [
    "The goal of this exercise is to find a point very close to that image that the networks misclassifies. In order to find such an input we want to define the Output Set $\\mathcal{Y}$ such that the counter example produced to falsify the property is not classified as a $1$. This implies that we need $\\mathcal{Y}^C$ to contain only points score distributions where $y_2$ is not maximal."
   ]
  },
  {
   "cell_type": "markdown",
   "metadata": {},
   "source": [
    "### A note on ComplementPolytopes"
   ]
  },
  {
   "cell_type": "markdown",
   "metadata": {},
   "source": [
    "Consider the set of all the score distributions that correspond to classifying the image as $1$. This set is made of all the points where $y_2$ is maximal. That is \n",
    "$$ Label_2 = \\left \\{ Y \\mid y_2 = \\max_{i=1..10}\\left \\{y_i \\right \\} \\right \\} $$\n",
    "\n",
    "This is equivalent to the set of outputs $Y$ that satisfies:\n",
    "\n",
    "$$ (y_1 \\leq y_2) \\wedge (y_3 \\leq y_2) \\wedge \\dots \\wedge (y_{10} \\leq y_2) $$\n",
    "\n",
    "Which is the polytope formed by intersecting all the halfspaces from the previous conditions and as such can be represented as a linear inequality of the form:\n",
    "$$ Ay \\leq b $$\n",
    "\n",
    "With the following matrix $A$ and $b$:\n",
    "\n",
    "$$\n",
    "\\underbrace{\\begin{bmatrix}\n",
    "1 & -1 &  0&  0&  0&  0&  0&  0&  0& \\\\ \n",
    " 0& -1 &  1&  0&  0&  0&  0&  0&  0& \\\\ \n",
    " 0&  -1&  0&  1&  0&  0&  0&  0&  0& \\\\ \n",
    " 0&  -1&  0&  0&  1&  0&  0&  0&  0& \\\\ \n",
    " 0&  -1&  0&  0&  0&  1&  0&  0&  0& \\\\ \n",
    " 0&  -1&  0&  0&  0&  0&  1&  0&  0& \\\\ \n",
    " 0&  -1&  0&  0&  0&  0&  0&  0&  0& \\\\ \n",
    " 0&  -1&  0&  0&  0&  0&  0&  1&  0& \\\\ \n",
    " 0&  -1&  0&  0&  0&  0&  0&  0&  1& \n",
    "\\end{bmatrix}}_{A}\n",
    "\\underbrace{\\begin{bmatrix}\n",
    "y_1\\\\ \n",
    "y_2\\\\ \n",
    "y_3\\\\ \n",
    "y_4\\\\ \n",
    "y_5\\\\ \n",
    "y_6\\\\ \n",
    "y_7\\\\ \n",
    "y_8\\\\\n",
    "y_9\\\\\n",
    "y_{10}\\\\ \n",
    "\\end{bmatrix}}_{y}\n",
    "\\leq\n",
    "\\underbrace{\\begin{bmatrix}\n",
    "0\\\\ \n",
    "0\\\\ \n",
    "0\\\\ \n",
    "0\\\\ \n",
    "0\\\\ \n",
    "0\\\\ \n",
    "0\\\\ \n",
    "0\\\\\n",
    "0\\\\\n",
    "0\\\\ \n",
    "\\end{bmatrix}}_{b}\n",
    "$$"
   ]
  },
  {
   "cell_type": "markdown",
   "metadata": {},
   "source": [
    "So we would ideally like to define the set of $\\mathcal{Y}$ to correspond to this polytope so that $\\mathcal{Y}^C$ contains all the scores that correspond to misclassifying. However, many optimization algorithms complement $\\mathcal{Y}$ internally often aiming to solve a feasability problem encoded with linear constraints. This imposes the requirement that $\\mathcal{Y}^C$ can only be represented as a set of conjunctive linear constraints, again with the form $By\\leq b$."
   ]
  },
  {
   "cell_type": "markdown",
   "metadata": {},
   "source": [
    "For this end the $\\texttt{PolytopeComplement}$ class was created and its goal is to enable the user to define the Output Set $\\mathcal{Y}$ that corresponds to the complement of a convex polytope - which means that $\\mathcal{Y}^C$ is of the form $Ay \\leq b$."
   ]
  },
  {
   "cell_type": "markdown",
   "metadata": {},
   "source": [
    "### Now back to our problem"
   ]
  },
  {
   "cell_type": "markdown",
   "metadata": {},
   "source": [
    "Recall that we want our procedure to produce a counter example (ie. find an $x \\in \\mathcal{X} \\ st. \\ f(x) \\in \\mathcal{Y}^C$. \n",
    "\n",
    "So we want $\\mathcal{Y}^C$ to correspond to the distributions of scores where $y_2$ is not maximal. We previously showed that the set where $y_2$ is maximal is a convex polytope and this implies that its complement is not. In order to represent the whole complement we would need a set of disjunctive conditions which we cannot encode in the form of $By\\leq c$. In other terms, this means that we are looking for points where $y_2 \\leq y_1$ or $y_2 \\leq y_3$ or $y_2 \\leq y_4$ and so on. We can however prune this set by enforcing only one of those constraints to find a point that lays at least in a subset of the complete set."
   ]
  },
  {
   "cell_type": "markdown",
   "metadata": {},
   "source": [
    "So instead we arbitrarily select one of the scores that corrrespond to a digit different that $1$ and use it to build a halfspace where the score associated to this digit is greater than the score associated to $1$. In the following example we arbitrarily chose the score associated to the digit $8$."
   ]
  },
  {
   "cell_type": "code",
   "execution_count": 68,
   "metadata": {},
   "outputs": [
    {
     "data": {
      "text/plain": [
       "PolytopeComplement of:\n",
       "  HPolytope{Float64,Array{Float64,1}}(HalfSpace{Float64,Array{Float64,1}}[HalfSpace{Float64,Array{Float64,1}}([0.0, 1.0, 0.0, 0.0, 0.0, 0.0, 0.0, 0.0, -1.0, 0.0], 0.0)])\n"
      ]
     },
     "execution_count": 68,
     "metadata": {},
     "output_type": "execute_result"
    }
   ],
   "source": [
    "A = [0.0, 1.0, 0.0, 0.0, 0.0, 0.0, 0.0, 0.0, -1.0, 0.0]'\n",
    "b = [0.0]\n",
    "\n",
    "Yc = HPolytope(A, b)\n",
    "Y = complement(Yc)"
   ]
  },
  {
   "cell_type": "markdown",
   "metadata": {},
   "source": [
    "### Solving the problem"
   ]
  },
  {
   "cell_type": "markdown",
   "metadata": {},
   "source": [
    "We finally define the problem object and run the algorithm."
   ]
  },
  {
   "cell_type": "code",
   "execution_count": 70,
   "metadata": {},
   "outputs": [
    {
     "name": "stdout",
     "output_type": "stream",
     "text": [
      "NSVerify - mnist1\n",
      " - Time: 0.45097346 s - Output: CounterExampleResult(:violated, [0.0, 0.0, 0.0, 0.0, 0.0, 0.0, 0.0, 0.0, 0.0, 0.0, 0.0, 0.0, 0.0, 40.0, 0.0, 0.0, 40.0, 0.0, 0.0, 0.0, 0.0, 0.0, 0.0, 0.0, 0.0, 0.0, 0.0, 0.0, 40.0, 0.0, 0.0, 0.0, 0.0, 0.0, 0.0, 0.0, 0.0, 40.0, 0.0, 40.0, 40.0, 40.0, 0.0, 40.0, 0.0, 0.0, 40.0, 40.0, 40.0, 40.0, 40.00000000000001, 0.0, 0.0, 0.0, 0.0, 0.0, 0.0, 0.0, 0.0, 40.0, 0.0, 0.0, 40.0, 40.0, 40.0, 0.0, 0.0, 0.0, 0.0, 0.0, 39.99999999999999, 40.0, 0.0, 40.0, 0.0, 40.0, 40.0, 40.0, 40.0, 40.0, 0.0, 0.0, 40.0, 40.0, 0.0, 0.0, 0.0, 40.0, 40.0, 0.0, 40.0, 0.0, 36.33548002120861, 40.0, 0.0, 0.0, 0.0, 0.0, 0.0, 0.0, 0.0, 0.0, 0.0, 0.0, 0.0, 0.0, 40.0, 40.0, 40.0, 0.0, 0.0, 0.0, 0.0, 0.0, 0.0, 40.0, 0.0, 0.0, 40.0, 40.0, 0.0, 40.0, 0.0, 0.0, 0.0, 0.0, 40.0, 0.0, 0.0, 0.0, 40.0, 0.0, 0.0, 0.0, 40.0, 40.0, 40.0, 0.0, 0.0, 40.0, 40.0, 40.0, 40.0, 0.0, 40.0, 40.0, 0.0, 40.0, 40.0, 0.0, 40.0, 0.0, 0.0, 40.0, 0.0, 0.0, 40.0, 0.0, 161.0, 214.0, 96.0, 40.0, 40.0, 40.0, 40.0, 40.0, 40.0, 40.0, 40.0, 0.0, 0.0, 40.0, 40.0, 40.0, 0.0, 0.0, 0.0, 0.0, 0.0, 0.0, 0.0, 0.0, 0.0, 0.0, 0.0, 0.0, 190.0, 213.0, 208.0, 59.0, 40.0, 0.0, 0.0, 40.0, 0.0, 0.0, 0.0, 0.0, 0.0, 40.0, 40.0, 40.0, 0.0, 0.0, 0.0, 0.0, 0.0, 0.0, 0.0, 0.0, 0.0, 0.0, 0.0, 78.0, 255.0, 213.0, 185.0, 2.0, 0.0, 0.0, 0.0, 0.0, 40.0, 40.0, 40.0, 0.0, 40.0, 0.0, 40.0, 0.0, 0.0, 0.0, 0.0, 0.0, 0.0, 0.0, 0.0, 0.0, 0.0, 0.0, 21.0, 213.0, 213.0, 213.0, 34.0, 0.0, 0.0, 0.0, 0.0, 0.0, 0.0, 0.0, 40.0, 40.0, 40.0, 40.0, 0.0, 0.0, 0.0, 0.0, 0.0, 0.0, 0.0, 0.0, 0.0, 0.0, 0.0, 0.0, 166.0, 213.0, 213.0, 146.0, 0.0, 0.0, 0.0, 0.0, 0.0, 0.0, 0.0, 40.0, 40.0, 40.0, 0.0, 40.0, 0.0, 40.0, 0.0, 0.0, 0.0, 0.0, 0.0, 0.0, 0.0, 40.0, 0.0, 171.0, 213.0, 255.0, 199.0, 29.0, 0.0, 0.0, 0.0, 0.0, 0.0, 0.0, 0.0, 40.0, 0.0, 40.0, 40.0, 0.0, 40.0, 0.0, 0.0, 0.0, 0.0, 0.0, 40.0, 40.0, 40.0, 40.0, 0.0, 255.0, 213.0, 213.0, 93.0, 0.0, 0.0, 0.0, 0.0, 0.0, 0.0, 0.0, 0.0, 0.0, 0.0, 40.0, 40.0, 40.0, 0.0, 0.0, 40.0, 0.0, 0.0, 40.0, 40.0, 40.0, 40.0, 40.0, 102.0, 255.0, 213.0, 146.0, 48.0, 0.0, 0.0, 0.0, 0.0, 0.0, 0.0, 0.0, 0.0, 40.0, 40.0, 0.0, 40.0, 0.0, 40.0, 40.0, 40.0, 40.0, 40.0, 40.0, 40.0, 40.0, 40.0, 109.0, 255.0, 214.0, 167.0, 61.0, 0.0, 0.0, 0.0, 0.0, 0.0, 0.0, 40.0, 40.0, 0.0, 0.0, 40.0, 40.0, 13.07149471895336, 0.0, 40.0, 40.0, 40.0, 40.0, 40.0, 40.0, 40.0, 0.0, 14.0, 189.0, 213.0, 214.0, 145.0, 40.0, 0.0, 40.0, 0.0, 0.0, 40.0, 40.0, 40.0, 0.0, 0.0, 0.0, 40.0, 0.0, 40.0, 0.0, 0.0, 40.0, 40.0, 0.0, 0.0, 40.0, 40.0, 0.0, 112.0, 214.0, 214.0, 173.0, 66.0, 0.0, 40.0, 40.0, 40.0, 40.0, 40.0, 40.0, 0.0, 0.0, 0.0, 0.0, 40.0, 40.0, 0.0, 0.0, 0.0, 0.0, 0.0, 0.0, 0.0, 0.0, 0.0, 72.0, 211.0, 213.0, 213.0, 66.0, 40.0, 40.0, 40.0, 40.0, 40.0, 40.0, 40.0, 40.0, 0.0, 0.0, 0.0, 0.0, 0.0, 0.0, 0.0, 0.0, 0.0, 0.0, 0.0, 0.0, 0.0, 0.0, 69.0, 172.0, 213.0, 210.0, 109.0, 40.0, 40.0, 40.0, 40.0, 40.0, 40.0, 40.0, 40.0, 40.0, 0.0, 0.0, 0.0, 0.0, 40.0, 0.0, 0.0, 0.0, 0.0, 0.0, 0.0, 0.0, 0.0, 0.0, 174.0, 213.0, 213.0, 97.0, 0.0, 40.0, 0.0, 40.0, 40.0, 0.0, 40.0, 40.0, 0.0, 40.0, 0.0, 0.0, 40.0, 0.0, 40.0, 0.0, 0.0, 40.0, 40.0, 0.0, 0.0, 0.0, 0.0, 115.0, 213.0, 213.0, 213.0, 19.0, 0.0, 0.0, 0.0, 40.0, 0.0, 0.0, 0.0, 0.0, 0.0, 0.0, 0.0, 36.93845046674788, 40.0, 0.0, 40.0, 0.0, 0.0, 0.0, 0.0, 0.0, 40.0, 0.0, 0.0, 53.0, 255.0, 255.0, 149.0, 57.0, 0.0, 0.0, 40.0, 0.0, 0.0, 0.0, 0.0, 0.0, 0.0, 0.0, 40.0, 0.0, 0.0, 0.0, 0.0, 0.0, 0.0, 0.0, 0.0, 0.0, 0.0, 0.0, 0.0, 184.0, 213.0, 255.0, 44.0, 0.0, 0.0, 0.0, 40.0, 0.0, 0.0, 0.0, 0.0, 0.0, 0.0, 0.0, 0.0, 0.0, 0.0, 40.0, 40.0, 0.0, 0.0, 0.0, 0.0, 0.0, 0.0, 0.0, 3.0, 195.0, 255.0, 86.0, 0.0, 0.0, 0.0, 0.0, 0.0, 0.0, 0.0, 0.0, 0.0, 0.0, 0.0, 0.0, 0.0, 0.0, 0.0, 40.0, 0.0, 0.0, 0.0, 0.0, 40.0, 0.0, 0.0, 0.0, 59.0, 208.0, 213.0, 79.0, 0.0, 0.0, 0.0, 0.0, 0.0, 0.0, 0.0, 0.0, 0.0, 0.0, 0.0, 0.0, 0.0, 0.0, 0.0, 40.0, 0.0, 0.0, 0.0, 0.0, 0.0, 40.0, 0.0, 0.0, 0.0, 185.0, 195.0, 9.0, 0.0, 0.0, 0.0, 0.0, 0.0, 0.0, 0.0, 0.0, 0.0, 0.0, 0.0, 0.0, 40.0, 40.0, 0.0, 0.0, 0.0, 0.0, 0.0, 40.0, 0.0, 0.0, 0.0, 0.0, 0.0, 0.0, 0.0, 0.0, 0.0, 0.0, 0.0, 0.0, 0.0, 0.0, 40.0, 0.0, 40.0, 0.0, 40.0, 0.0, 0.0, 40.0, 0.0, 40.0, 0.0, 0.0, 0.0, 0.0, 40.0, 0.0, 0.0, 40.0, 0.0, 0.0, 0.0, 0.0, 0.0, 40.0, 0.0, 0.0, 40.0, 40.0, 0.0, 40.0, 0.0, 0.0, 0.0, 0.0, 0.0, 0.0, 0.0, 0.0, 0.0, 40.0, 0.0, 0.0, 40.0, 40.0, 0.0, 0.0, 40.0, 0.0, 0.0, 0.0, 40.0, 40.0, 0.0, 30.47785409922584, 0.0, 40.0, 40.0, 0.0, 40.0, 40.0, 40.0, 40.0, 0.0, 40.0, 0.0, 40.0])\n"
     ]
    }
   ],
   "source": [
    "problem_mnist = Problem(mnist3, X, Y)\n",
    "\n",
    "solver = NSVerify(m=100)\n",
    "solver=Reluplex()\n",
    "println(\"NSVerify - mnist1\")\n",
    "timed_result = @timed solve(solver, problem_mnist)\n",
    "print(\" - Time: \" * string(timed_result[2]) * \" s\")\n",
    "print(\" - Output: \")\n",
    "print(timed_result[1])\n",
    "println(\"\")\n",
    "\n",
    "counter_example = timed_result[1].counter_example;"
   ]
  },
  {
   "cell_type": "markdown",
   "metadata": {},
   "source": [
    "The algorithm returned a counter example which corresponds to the following image."
   ]
  },
  {
   "cell_type": "code",
   "execution_count": 71,
   "metadata": {},
   "outputs": [
    {
     "data": {
      "image/png": "[encoded data removed]",
      "text/plain": [
       "Figure(PyObject <Figure size 640x480 with 1 Axes>)"
      ]
     },
     "metadata": {},
     "output_type": "display_data"
    },
    {
     "data": {
      "text/plain": [
       "PyObject <matplotlib.image.AxesImage object at 0x7fef91be5110>"
      ]
     },
     "execution_count": 71,
     "metadata": {},
     "output_type": "execute_result"
    }
   ],
   "source": [
    "imshow(reshape(counter_example, 28, 28)', cmap=:gray, clim=(0,255))"
   ]
  },
  {
   "cell_type": "markdown",
   "metadata": {},
   "source": [
    "We can agree that this image closely resembles a hand-written digit $1$. But given how we constructed the problem the network did not classify it as a $1$. Let's take a look."
   ]
  },
  {
   "cell_type": "markdown",
   "metadata": {},
   "source": [
    "### Classification outcome"
   ]
  },
  {
   "cell_type": "markdown",
   "metadata": {},
   "source": [
    "If we feed this point through the network it produces the following scores."
   ]
  },
  {
   "cell_type": "code",
   "execution_count": 72,
   "metadata": {},
   "outputs": [
    {
     "data": {
      "text/plain": [
       "10-element Array{Float64,1}:\n",
       " -834.5145313933698\n",
       "  746.2559753026571\n",
       "  247.44470165747424\n",
       "  174.53501947886818\n",
       " -546.0183417555104\n",
       "   -1.7251200468137995e-12\n",
       "   18.3412624701757\n",
       " -366.89948055689126\n",
       "  819.9368510350604\n",
       " -530.3380707250724"
      ]
     },
     "execution_count": 72,
     "metadata": {},
     "output_type": "execute_result"
    }
   ],
   "source": [
    "output_scores = NeuralVerification.compute_output(mnist3, counter_example)"
   ]
  },
  {
   "cell_type": "code",
   "execution_count": 73,
   "metadata": {},
   "outputs": [
    {
     "data": {
      "text/plain": [
       "false"
      ]
     },
     "execution_count": 73,
     "metadata": {},
     "output_type": "execute_result"
    }
   ],
   "source": [
    "output_scores ∈ Y"
   ]
  },
  {
   "cell_type": "code",
   "execution_count": 74,
   "metadata": {},
   "outputs": [
    {
     "data": {
      "text/plain": [
       "true"
      ]
     },
     "execution_count": 74,
     "metadata": {},
     "output_type": "execute_result"
    }
   ],
   "source": [
    "output_scores ∈ Yc"
   ]
  },
  {
   "cell_type": "markdown",
   "metadata": {},
   "source": [
    "And by looking at the maximum score we can obtain the associated label"
   ]
  },
  {
   "cell_type": "code",
   "execution_count": 75,
   "metadata": {},
   "outputs": [
    {
     "data": {
      "text/plain": [
       "8"
      ]
     },
     "execution_count": 75,
     "metadata": {},
     "output_type": "execute_result"
    }
   ],
   "source": [
    "output_label = argmax(NeuralVerification.compute_output(mnist3, counter_example))-1\n",
    "output_label"
   ]
  },
  {
   "cell_type": "markdown",
   "metadata": {},
   "source": [
    "Which means the network classified that point as a number $8$."
   ]
  },
  {
   "cell_type": "markdown",
   "metadata": {},
   "source": [
    "## Perturbation"
   ]
  },
  {
   "cell_type": "markdown",
   "metadata": {},
   "source": [
    "We now take a look at the peturbation applied to the original image that leads to the aversarial example"
   ]
  },
  {
   "cell_type": "code",
   "execution_count": 76,
   "metadata": {},
   "outputs": [
    {
     "data": {
      "image/png": "[encoded data removed]",
      "text/plain": [
       "Figure(PyObject <Figure size 640x480 with 1 Axes>)"
      ]
     },
     "metadata": {},
     "output_type": "display_data"
    },
    {
     "data": {
      "text/plain": [
       "PyObject <matplotlib.image.AxesImage object at 0x7fef91bca150>"
      ]
     },
     "execution_count": 76,
     "metadata": {},
     "output_type": "execute_result"
    }
   ],
   "source": [
    "perturbation = counter_example - input_center\n",
    "#clamp!(perturbation, 0, 250)\n",
    "imshow(reshape(perturbation, 28, 28)' ,cmap=:gray, clim=(0,255))"
   ]
  },
  {
   "cell_type": "markdown",
   "metadata": {},
   "source": [
    "# Now lets play with the parameters"
   ]
  },
  {
   "cell_type": "markdown",
   "metadata": {},
   "source": [
    "We have shown that by defining the Input and Output sets appropriately NeuralVerification.jl can be used to find adversarial examples for a classification network. Now lets see if we can find more interesting adversarial examples by selecting different output sets and values of $\\epsilon$ for the input set.\n"
   ]
  },
  {
   "cell_type": "code",
   "execution_count": 77,
   "metadata": {},
   "outputs": [
    {
     "name": "stdout",
     "output_type": "stream",
     "text": [
      "NSVerify - mnist1\n",
      " - Time: 0.439110244 s - Output: CounterExampleResult(:violated, [40.0, 0.0, 0.0, 0.0, 0.0, 40.0, 0.0, 0.0, 0.0, 40.0, 0.0, 0.0, 40.0, 40.0, 0.0, 0.0, 40.0, 0.0, 0.0, 0.0, 0.0, 0.0, 0.0, 0.0, 0.0, 0.0, 40.0, 0.0, 40.0, 0.0, 0.0, 0.0, 40.0, 0.0, 0.0, 0.0, 40.0, 40.0, 40.0, 40.0, 40.0, 40.0, 0.0, 0.0, 0.0, 0.0, 40.0, 40.0, 40.0, 0.0, 40.0, 0.0, 0.0, 0.0, 40.0, 0.0, 0.0, 0.0, 40.0, 40.0, 40.0, 0.0, 0.0, 5.530327900081406, 40.0, 0.0, 0.0, 40.0, 0.0, 0.0, 0.0, 18.535954437269005, 0.0, 0.0, 0.0, 0.0, 40.0, 40.0, 40.0, 40.0, 0.0, 0.0, 0.0, 0.0, 0.0, 0.0, 0.0, 40.0, 0.0, 40.0, 40.0, 0.0, 0.0, 40.0, 0.0, 0.0, 0.0, 0.0, 0.0, 0.0, 0.0, 0.0, 40.0, 0.0, 0.0, 40.0, 40.0, 40.0, 40.0, 0.0, 0.0, 0.0, 0.0, 0.0, 0.0, 40.0, 0.0, 0.0, 40.0, 40.0, 0.0, 0.0, 0.0, 0.0, 0.0, 0.0, 0.0, 0.0, 0.0, 0.0, 0.0, 0.0, 40.0, 0.0, 40.0, 40.0, 40.0, 0.0, 0.0, 40.0, 0.0, 40.0, 0.0, 0.0, 40.0, 0.0, 0.0, 0.0, 40.0, 0.0, 40.0, 0.0, 0.0, 0.0, 0.0, 0.0, 0.0, 0.0, 161.0, 214.0, 96.0, 40.0, 0.0, 40.0, 40.0, 0.0, 0.0, 0.0, 40.0, 0.0, 40.0, 40.0, 40.0, 40.0, 0.0, 0.0, 40.0, 0.0, 0.0, 0.0, 0.0, 0.0, 0.0, 0.0, 0.0, 0.0, 190.0, 213.0, 208.0, 59.0, 40.0, 0.0, 40.0, 0.0, 0.0, 0.0, 0.0, 0.0, 0.0, 0.0, 40.0, 40.0, 0.0, 40.0, 0.0, 0.0, 0.0, 0.0, 0.0, 0.0, 0.0, 0.0, 0.0, 78.0, 213.0, 213.0, 185.0, 2.0, 40.0, 0.0, 0.0, 0.0, 40.0, 0.0, 40.0, 0.0, 40.0, 0.0, 0.0, 40.0, 0.0, 0.0, 0.0, 0.0, 0.0, 0.0, 0.0, 0.0, 0.0, 40.0, 21.0, 213.0, 213.0, 213.0, 34.0, 0.0, 0.0, 0.0, 0.0, 0.0, 0.0, 0.0, 40.0, 40.0, 40.0, 0.0, 0.0, 0.0, 0.0, 0.0, 0.0, 0.0, 0.0, 0.0, 0.0, 0.0, 40.0, 0.0, 246.0, 213.0, 213.0, 146.0, 0.0, 0.0, 0.0, 0.0, 0.0, 0.0, 0.0, 40.0, 40.0, 40.0, 40.0, 40.0, 0.0, 0.0, 0.0, 0.0, 0.0, 36.62838680353549, 0.0, 40.0, 40.0, 40.0, 0.0, 251.0, 213.0, 213.0, 199.0, 29.0, 0.0, 0.0, 0.0, 0.0, 0.0, 0.0, 0.0, 40.0, 40.0, 40.0, 40.0, 0.0, 40.0, 0.0, 0.0, 0.0, 0.0, 0.0, 40.0, 40.0, 40.0, 40.0, 40.0, 255.0, 255.0, 255.0, 93.0, 0.0, 0.0, 0.0, 0.0, 0.0, 0.0, 0.0, 0.0, 0.0, 40.0, 40.0, 0.0, 40.0, 40.0, 0.0, 40.0, 0.0, 40.0, 40.0, 40.0, 40.0, 40.0, 40.0, 102.0, 215.0, 255.0, 226.0, 48.0, 0.0, 0.0, 0.0, 40.0, 0.0, 0.0, 0.0, 0.0, 40.0, 0.0, 23.273913541528426, 40.0, 0.0, 40.0, 40.0, 40.0, 40.0, 40.0, 40.0, 40.0, 40.0, 40.0, 189.0, 189.0, 255.0, 167.0, 0.0, 0.0, 0.0, 0.0, 0.0, 40.0, 40.0, 0.0, 0.0, 0.0, 0.0, 40.0, 40.0, 40.0, 0.0, 40.0, 40.0, 40.0, 40.0, 40.0, 40.0, 40.0, 40.0, 14.0, 189.0, 213.0, 255.0, 145.0, 40.0, 0.0, 0.0, 0.0, 40.0, 40.0, 40.0, 40.0, 0.0, 0.0, 0.0, 40.0, 0.0, 0.0, 40.0, 0.0, 0.0, 0.0, 40.0, 0.0, 40.0, 40.0, 0.0, 112.0, 214.0, 214.0, 173.0, 66.0, 40.0, 40.0, 40.0, 40.0, 40.0, 40.0, 40.0, 40.0, 0.0, 0.0, 0.0, 40.0, 0.0, 0.0, 0.0, 0.0, 40.0, 0.0, 40.0, 40.0, 0.0, 0.0, 72.0, 211.0, 213.0, 213.0, 66.0, 40.0, 40.0, 40.0, 40.0, 40.0, 40.0, 40.0, 40.0, 0.0, 0.0, 0.0, 0.0, 0.0, 0.0, 0.0, 0.0, 0.0, 0.0, 40.0, 0.0, 0.0, 0.0, 0.0, 172.0, 213.0, 210.0, 109.0, 40.0, 40.0, 40.0, 40.0, 40.0, 40.0, 40.0, 40.0, 40.0, 0.0, 0.0, 0.0, 0.0, 40.0, 0.0, 40.0, 40.0, 0.0, 40.0, 0.0, 0.0, 0.0, 0.0, 174.0, 213.0, 213.0, 97.0, 0.0, 0.0, 0.0, 40.0, 40.0, 0.0, 40.0, 40.0, 0.0, 40.0, 0.0, 0.0, 40.0, 0.0, 40.0, 40.0, 40.0, 40.0, 40.0, 40.0, 0.0, 0.0, 0.0, 115.0, 213.0, 213.0, 213.0, 19.0, 40.0, 0.0, 0.0, 0.0, 0.0, 0.0, 0.0, 0.0, 0.0, 0.0, 0.0, 0.0, 40.0, 0.0, 40.0, 40.0, 0.0, 0.0, 0.0, 0.0, 40.0, 0.0, 0.0, 53.0, 213.0, 255.0, 149.0, 0.0, 0.0, 0.0, 40.0, 0.0, 0.0, 0.0, 0.0, 40.0, 0.0, 0.0, 0.0, 0.0, 40.0, 40.0, 40.0, 0.0, 0.0, 0.0, 0.0, 0.0, 0.0, 0.0, 0.0, 184.0, 255.0, 213.0, 124.0, 0.0, 0.0, 0.0, 0.0, 0.0, 40.0, 40.0, 0.0, 0.0, 0.0, 0.0, 0.0, 40.0, 0.0, 0.0, 40.0, 0.0, 0.0, 0.0, 0.0, 0.0, 0.0, 0.0, 3.0, 195.0, 213.0, 86.0, 0.0, 0.0, 0.0, 0.0, 0.0, 0.0, 40.0, 0.0, 0.0, 0.0, 0.0, 0.0, 0.0, 0.0, 0.0, 0.0, 0.0, 0.0, 0.0, 40.0, 40.0, 0.0, 0.0, 0.0, 59.0, 208.0, 213.0, 79.0, 0.0, 40.0, 0.0, 40.0, 0.0, 40.0, 0.0, 0.0, 40.0, 0.0, 0.0, 0.0, 0.0, 0.0, 0.0, 40.0, 0.0, 0.0, 0.0, 0.0, 0.0, 40.0, 0.0, 0.0, 40.0, 185.0, 195.0, 9.0, 0.0, 0.0, 0.0, 0.0, 40.0, 0.0, 0.0, 0.0, 0.0, 0.0, 0.0, 0.0, 0.0, 40.0, 0.0, 0.0, 0.0, 0.0, 0.0, 40.0, 0.0, 0.0, 0.0, 0.0, 0.0, 0.0, 0.0, 0.0, 0.0, 0.0, 0.0, 0.0, 0.0, 0.0, 40.0, 40.0, 40.0, 40.0, 40.0, 40.0, 0.0, 0.0, 0.0, 40.0, 0.0, 40.0, 0.0, 0.0, 40.0, 0.0, 40.0, 0.0, 0.0, 0.0, 0.0, 0.0, 40.0, 40.0, 40.0, 0.0, 0.0, 24.68568687926994, 0.0, 40.0, 40.0, 0.0, 0.0, 0.0, 0.0, 40.0, 0.0, 0.0, 40.0, 40.0, 0.0, 0.0, 40.0, 0.0, 0.0, 0.0, 0.0, 0.0, 40.0, 40.0, 0.0, 40.0, 0.0, 40.0, 0.0, 0.0, 40.0, 0.0, 40.0, 40.0, 40.0, 0.0, 0.0, 40.0, 0.0, 40.0])\n"
     ]
    }
   ],
   "source": [
    "epsilon = 40\n",
    "digitHalfspace = 9\n",
    "\n",
    "upper = input_center .+ epsilon\n",
    "lower = input_center .- epsilon\n",
    "clamp!(upper, 0.0, 255.0)\n",
    "clamp!(lower, 0.0, 255.0)\n",
    "X = Hyperrectangle(low=lower, high=upper)\n",
    "\n",
    "A = [0.0, 1.0, 0.0, 0.0, 0.0, 0.0, 0.0, 0.0, 0.0, 0.0]'\n",
    "A[digitHalfspace+1] = -1.0\n",
    "b = [0.0]\n",
    "Yc = HPolytope(A, b)\n",
    "Y = complement(Yc)\n",
    "\n",
    "problem_mnist = Problem(mnist3, X, Y)\n",
    "\n",
    "solver = NSVerify(m=100)\n",
    "solver=Reluplex()\n",
    "println(\"NSVerify - mnist1\")\n",
    "timed_result = @timed solve(solver, problem_mnist)\n",
    "print(\" - Time: \" * string(timed_result[2]) * \" s\")\n",
    "print(\" - Output: \")\n",
    "print(timed_result[1])\n",
    "println(\"\")\n",
    "\n",
    "counter_example = timed_result[1].counter_example;"
   ]
  },
  {
   "cell_type": "code",
   "execution_count": 78,
   "metadata": {},
   "outputs": [
    {
     "data": {
      "image/png": "[encoded data removed]",
      "text/plain": [
       "Figure(PyObject <Figure size 640x480 with 1 Axes>)"
      ]
     },
     "metadata": {},
     "output_type": "display_data"
    },
    {
     "data": {
      "text/plain": [
       "PyObject <matplotlib.image.AxesImage object at 0x7fef91b30450>"
      ]
     },
     "execution_count": 78,
     "metadata": {},
     "output_type": "execute_result"
    }
   ],
   "source": [
    "imshow(reshape(counter_example, 28, 28)', cmap=:gray, clim=(0,255))"
   ]
  },
  {
   "cell_type": "code",
   "execution_count": 79,
   "metadata": {},
   "outputs": [
    {
     "data": {
      "text/plain": [
       "8"
      ]
     },
     "execution_count": 79,
     "metadata": {},
     "output_type": "execute_result"
    }
   ],
   "source": [
    "output_label = argmax(NeuralVerification.compute_output(mnist3, counter_example))-1\n",
    "output_label"
   ]
  },
  {
   "cell_type": "code",
   "execution_count": 80,
   "metadata": {},
   "outputs": [
    {
     "data": {
      "image/png": "[encoded data removed]",
      "text/plain": [
       "Figure(PyObject <Figure size 640x480 with 1 Axes>)"
      ]
     },
     "metadata": {},
     "output_type": "display_data"
    },
    {
     "data": {
      "text/plain": [
       "PyObject <matplotlib.image.AxesImage object at 0x7fef91b11750>"
      ]
     },
     "execution_count": 80,
     "metadata": {},
     "output_type": "execute_result"
    }
   ],
   "source": [
    "perturbation = counter_example - input_center\n",
    "imshow(reshape(perturbation, 28, 28)' ,cmap=:gray, clim=(0,255))"
   ]
  }
 ],
 "metadata": {
  "kernelspec": {
   "display_name": "Julia 1.5.0-beta1",
   "language": "julia",
   "name": "julia-1.5"
  },
  "language_info": {
   "file_extension": ".jl",
   "mimetype": "application/julia",
   "name": "julia",
   "version": "1.5.0"
  }
 },
 "nbformat": 4,
 "nbformat_minor": 2
}
