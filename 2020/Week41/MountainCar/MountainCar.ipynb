{
 "cells": [
  {
   "cell_type": "markdown",
   "metadata": {},
   "source": [
    "## Installation"
   ]
  },
  {
   "cell_type": "markdown",
   "metadata": {},
   "source": [
    "- Install Flow* v2.1.0\n",
    "    - https://flowstar.org/dowloads/\n",
    "    - https://www.cs.colorado.edu/~xich8622/manual/manual-2.0.0.pdf"
   ]
  },
  {
   "cell_type": "markdown",
   "metadata": {},
   "source": [
    "- Install gradle\n",
    "    - (Fedora) https://tecadmin.net/install-gradle-fedora/"
   ]
  },
  {
   "cell_type": "markdown",
   "metadata": {},
   "source": [
    "- Install VERISIG\n",
    "    - https://github.com/Verisig/verisig"
   ]
  },
  {
   "cell_type": "markdown",
   "metadata": {},
   "source": [
    "## Running the example"
   ]
  },
  {
   "cell_type": "markdown",
   "metadata": {},
   "source": [
    "```bash\n",
    "$ pwd\n",
    "/home/mforets/Tools/verisig-master\n",
    "[mforets@localhost verisig-master]$ ./verisig --flowstar-cmd flowstar/flowstar examples/mountain_car/MC.xml examples/mountain_car/sig16x16.yml\n",
    "Initial states not defined. Using default values.\n",
    "mode: mode2,\ttime = 0.000001,\tstep = 0.000001,\torder = 4\n",
    "Dealing with the jump from mode2 to mode3 ...\n",
    "No intersection detected.\n",
    "Done.\n",
    "Dealing with the jump from mode2 to m0 ...\n",
    "Done.\n",
    "Dealing with the jump from mode2 to m0 ...\n",
    "No intersection detected.\n",
    "Done.\n",
    "mode: m0,\ttime = 0.000001,\tstep = 0.000001,\torder = 4\n",
    "Dealing with the jump from m0 to DNNm1 ...\n",
    "Done.\n",
    "mode: DNNm1,\ttime = 0.000001,\tstep = 0.000001,\torder = 4\n",
    "Dealing with the jump from DNNm1 to _reset_mode1 ...\n",
    "Done.\n",
    "\n",
    "Computation completed: 4 flowpipe(s) computed.\n",
    "\n",
    "Result of the safety verification on the computed flowpipes: UNSAFE\n",
    "\n",
    "Total time cost: 0.053845 seconds.\n",
    "\n",
    "Preparing for plotting and dumping...\n",
    "%100\n",
    "Done.\n",
    "Generating the plotting file...\n",
    "%100\n",
    "Done.\n",
    "Writing the flowpipe(s)...\n",
    "Done.\n",
    "```"
   ]
  },
  {
   "cell_type": "markdown",
   "metadata": {},
   "source": [
    "---"
   ]
  },
  {
   "cell_type": "markdown",
   "metadata": {},
   "source": [
    "This should produce the files\n",
    "\n",
    "```bash\n",
    "$ ls outputs/\n",
    "autosig.flow  autosig.plt\n",
    "\n",
    "[mforets@localhost verisig-master]$ head outputs/autosig.plt \n",
    "set terminal postscript enhanced color\n",
    "set output './images/autosig.eps'\n",
    "set style line 1 linecolor rgb \"blue\"\n",
    "set autoscale\n",
    "unset label\n",
    "set xtic auto\n",
    "set ytic auto\n",
    "set xlabel \"clock\"\n",
    "set ylabel \"_f1\"\n",
    "plot '-' notitle with lines ls 1\n",
    "```"
   ]
  },
  {
   "cell_type": "markdown",
   "metadata": {},
   "source": [
    "- The file `.flow` contains the Taylor models.\n",
    "\n",
    "- The file `.plt` contains the vertices of an overapproximation of the taylor models using polygons."
   ]
  },
  {
   "cell_type": "markdown",
   "metadata": {},
   "source": [
    "---"
   ]
  },
  {
   "cell_type": "markdown",
   "metadata": {},
   "source": [
    "## Output visualization"
   ]
  },
  {
   "cell_type": "code",
   "execution_count": 11,
   "metadata": {},
   "outputs": [],
   "source": [
    "using DelimitedFiles"
   ]
  },
  {
   "cell_type": "code",
   "execution_count": 24,
   "metadata": {},
   "outputs": [
    {
     "data": {
      "text/plain": [
       "\"outputs/autosig_clean.plt\""
      ]
     },
     "execution_count": 24,
     "metadata": {},
     "output_type": "execute_result"
    }
   ],
   "source": [
    "file = \"outputs/autosig_clean.plt\""
   ]
  },
  {
   "cell_type": "code",
   "execution_count": 26,
   "metadata": {},
   "outputs": [
    {
     "data": {
      "text/plain": [
       "read_gen (generic function with 1 method)"
      ]
     },
     "execution_count": 26,
     "metadata": {},
     "output_type": "execute_result"
    }
   ],
   "source": [
    "# See https://github.com/JuliaReach/LazySets.jl/pull/2377\n",
    "function read_gen(filename::String)\n",
    "    Mi = Vector{Vector{Float64}}()\n",
    "    P = Vector{VPolygon{Float64, Vector{Float64}}}()\n",
    "\n",
    "    # detects when we finished reading a new polygon, needed because polygons\n",
    "    # may be separated by more than one end-of-line\n",
    "    new_polygon = true\n",
    "    open(filename) do f\n",
    "        for line in eachline(f)\n",
    "          if !isempty(line)\n",
    "              push!(Mi, map(x -> parse(Float64, x), split(line)))\n",
    "              new_polygon = true\n",
    "          elseif isempty(line) && new_polygon\n",
    "              push!(P, VPolygon(Mi))\n",
    "              Mi = Vector{Vector{Float64}}()\n",
    "              new_polygon = false\n",
    "          end\n",
    "        end\n",
    "    end\n",
    "    return P\n",
    "end"
   ]
  },
  {
   "cell_type": "code",
   "execution_count": 29,
   "metadata": {},
   "outputs": [
    {
     "data": {
      "text/plain": [
       "3-element Array{VPolygon{Float64,Array{Float64,1}},1}:\n",
       " VPolygon{Float64,Array{Float64,1}}([[-0.0, -0.0]])\n",
       " VPolygon{Float64,Array{Float64,1}}([[-0.0, -0.5], [0.0, -0.48]])\n",
       " VPolygon{Float64,Array{Float64,1}}([[-0.0, -0.5], [0.0, -0.48]])"
      ]
     },
     "execution_count": 29,
     "metadata": {},
     "output_type": "execute_result"
    }
   ],
   "source": [
    "out = read_gen(file)"
   ]
  },
  {
   "cell_type": "code",
   "execution_count": 32,
   "metadata": {},
   "outputs": [
    {
     "data": {
      "text/plain": [
       "VPolygon{Float64,Array{Float64,1}}([[-0.0, -0.0]])"
      ]
     },
     "execution_count": 32,
     "metadata": {},
     "output_type": "execute_result"
    }
   ],
   "source": [
    "out[1]"
   ]
  },
  {
   "cell_type": "code",
   "execution_count": 33,
   "metadata": {},
   "outputs": [
    {
     "data": {
      "text/plain": [
       "VPolygon{Float64,Array{Float64,1}}([[-0.0, -0.5], [0.0, -0.48]])"
      ]
     },
     "execution_count": 33,
     "metadata": {},
     "output_type": "execute_result"
    }
   ],
   "source": [
    "out[2]"
   ]
  },
  {
   "cell_type": "code",
   "execution_count": 34,
   "metadata": {
    "scrolled": true
   },
   "outputs": [
    {
     "data": {
      "text/plain": [
       "VPolygon{Float64,Array{Float64,1}}([[-0.0, -0.5], [0.0, -0.48]])"
      ]
     },
     "execution_count": 34,
     "metadata": {},
     "output_type": "execute_result"
    }
   ],
   "source": [
    "out[3]"
   ]
  },
  {
   "cell_type": "code",
   "execution_count": 28,
   "metadata": {},
   "outputs": [],
   "source": [
    "using LazySets, Plots"
   ]
  },
  {
   "cell_type": "code",
   "execution_count": 31,
   "metadata": {},
   "outputs": [
    {
     "data": {
      "image/svg+xml": [
       "<?xml version=\"1.0\" encoding=\"utf-8\"?>\n",
       "<svg xmlns=\"http://www.w3.org/2000/svg\" xmlns:xlink=\"http://www.w3.org/1999/xlink\" width=\"600\" height=\"400\" viewBox=\"0 0 2400 1600\">\n",
       "<defs>\n",
       "  <clipPath id=\"clip600\">\n",
       "    <rect x=\"0\" y=\"0\" width=\"2400\" height=\"1600\"/>\n",
       "  </clipPath>\n",
       "</defs>\n",
       "<path clip-path=\"url(#clip600)\" d=\"\n",
       "M0 1600 L2400 1600 L2400 0 L0 0  Z\n",
       "  \" fill=\"#ffffff\" fill-rule=\"evenodd\" fill-opacity=\"1\"/>\n",
       "<defs>\n",
       "  <clipPath id=\"clip601\">\n",
       "    <rect x=\"480\" y=\"0\" width=\"1681\" height=\"1600\"/>\n",
       "  </clipPath>\n",
       "</defs>\n",
       "<path clip-path=\"url(#clip600)\" d=\"\n",
       "M163.936 1486.45 L2352.76 1486.45 L2352.76 47.2441 L163.936 47.2441  Z\n",
       "  \" fill=\"#ffffff\" fill-rule=\"evenodd\" fill-opacity=\"1\"/>\n",
       "<defs>\n",
       "  <clipPath id=\"clip602\">\n",
       "    <rect x=\"163\" y=\"47\" width=\"2190\" height=\"1440\"/>\n",
       "  </clipPath>\n",
       "</defs>\n",
       "<polyline clip-path=\"url(#clip602)\" style=\"stroke:#000000; stroke-width:2; stroke-opacity:0.1; fill:none\" points=\"\n",
       "  225.884,1486.45 225.884,47.2441 \n",
       "  \"/>\n",
       "<polyline clip-path=\"url(#clip602)\" style=\"stroke:#000000; stroke-width:2; stroke-opacity:0.1; fill:none\" points=\"\n",
       "  742.115,1486.45 742.115,47.2441 \n",
       "  \"/>\n",
       "<polyline clip-path=\"url(#clip602)\" style=\"stroke:#000000; stroke-width:2; stroke-opacity:0.1; fill:none\" points=\"\n",
       "  1258.35,1486.45 1258.35,47.2441 \n",
       "  \"/>\n",
       "<polyline clip-path=\"url(#clip602)\" style=\"stroke:#000000; stroke-width:2; stroke-opacity:0.1; fill:none\" points=\"\n",
       "  1774.58,1486.45 1774.58,47.2441 \n",
       "  \"/>\n",
       "<polyline clip-path=\"url(#clip602)\" style=\"stroke:#000000; stroke-width:2; stroke-opacity:0.1; fill:none\" points=\"\n",
       "  2290.81,1486.45 2290.81,47.2441 \n",
       "  \"/>\n",
       "<polyline clip-path=\"url(#clip602)\" style=\"stroke:#000000; stroke-width:2; stroke-opacity:0.1; fill:none\" points=\"\n",
       "  163.936,1445.72 2352.76,1445.72 \n",
       "  \"/>\n",
       "<polyline clip-path=\"url(#clip602)\" style=\"stroke:#000000; stroke-width:2; stroke-opacity:0.1; fill:none\" points=\"\n",
       "  163.936,1174.17 2352.76,1174.17 \n",
       "  \"/>\n",
       "<polyline clip-path=\"url(#clip602)\" style=\"stroke:#000000; stroke-width:2; stroke-opacity:0.1; fill:none\" points=\"\n",
       "  163.936,902.62 2352.76,902.62 \n",
       "  \"/>\n",
       "<polyline clip-path=\"url(#clip602)\" style=\"stroke:#000000; stroke-width:2; stroke-opacity:0.1; fill:none\" points=\"\n",
       "  163.936,631.072 2352.76,631.072 \n",
       "  \"/>\n",
       "<polyline clip-path=\"url(#clip602)\" style=\"stroke:#000000; stroke-width:2; stroke-opacity:0.1; fill:none\" points=\"\n",
       "  163.936,359.524 2352.76,359.524 \n",
       "  \"/>\n",
       "<polyline clip-path=\"url(#clip602)\" style=\"stroke:#000000; stroke-width:2; stroke-opacity:0.1; fill:none\" points=\"\n",
       "  163.936,87.9763 2352.76,87.9763 \n",
       "  \"/>\n",
       "<polyline clip-path=\"url(#clip600)\" style=\"stroke:#000000; stroke-width:4; stroke-opacity:1; fill:none\" points=\"\n",
       "  163.936,1486.45 2352.76,1486.45 \n",
       "  \"/>\n",
       "<polyline clip-path=\"url(#clip600)\" style=\"stroke:#000000; stroke-width:4; stroke-opacity:1; fill:none\" points=\"\n",
       "  163.936,1486.45 163.936,47.2441 \n",
       "  \"/>\n",
       "<polyline clip-path=\"url(#clip600)\" style=\"stroke:#000000; stroke-width:4; stroke-opacity:1; fill:none\" points=\"\n",
       "  225.884,1486.45 225.884,1469.18 \n",
       "  \"/>\n",
       "<polyline clip-path=\"url(#clip600)\" style=\"stroke:#000000; stroke-width:4; stroke-opacity:1; fill:none\" points=\"\n",
       "  742.115,1486.45 742.115,1469.18 \n",
       "  \"/>\n",
       "<polyline clip-path=\"url(#clip600)\" style=\"stroke:#000000; stroke-width:4; stroke-opacity:1; fill:none\" points=\"\n",
       "  1258.35,1486.45 1258.35,1469.18 \n",
       "  \"/>\n",
       "<polyline clip-path=\"url(#clip600)\" style=\"stroke:#000000; stroke-width:4; stroke-opacity:1; fill:none\" points=\"\n",
       "  1774.58,1486.45 1774.58,1469.18 \n",
       "  \"/>\n",
       "<polyline clip-path=\"url(#clip600)\" style=\"stroke:#000000; stroke-width:4; stroke-opacity:1; fill:none\" points=\"\n",
       "  2290.81,1486.45 2290.81,1469.18 \n",
       "  \"/>\n",
       "<polyline clip-path=\"url(#clip600)\" style=\"stroke:#000000; stroke-width:4; stroke-opacity:1; fill:none\" points=\"\n",
       "  163.936,1445.72 190.202,1445.72 \n",
       "  \"/>\n",
       "<polyline clip-path=\"url(#clip600)\" style=\"stroke:#000000; stroke-width:4; stroke-opacity:1; fill:none\" points=\"\n",
       "  163.936,1174.17 190.202,1174.17 \n",
       "  \"/>\n",
       "<polyline clip-path=\"url(#clip600)\" style=\"stroke:#000000; stroke-width:4; stroke-opacity:1; fill:none\" points=\"\n",
       "  163.936,902.62 190.202,902.62 \n",
       "  \"/>\n",
       "<polyline clip-path=\"url(#clip600)\" style=\"stroke:#000000; stroke-width:4; stroke-opacity:1; fill:none\" points=\"\n",
       "  163.936,631.072 190.202,631.072 \n",
       "  \"/>\n",
       "<polyline clip-path=\"url(#clip600)\" style=\"stroke:#000000; stroke-width:4; stroke-opacity:1; fill:none\" points=\"\n",
       "  163.936,359.524 190.202,359.524 \n",
       "  \"/>\n",
       "<polyline clip-path=\"url(#clip600)\" style=\"stroke:#000000; stroke-width:4; stroke-opacity:1; fill:none\" points=\"\n",
       "  163.936,87.9763 190.202,87.9763 \n",
       "  \"/>\n",
       "<path clip-path=\"url(#clip600)\" d=\"M 0 0 M193.893 1508.44 Q190.282 1508.44 188.454 1512 Q186.648 1515.55 186.648 1522.67 Q186.648 1529.78 188.454 1533.35 Q190.282 1536.89 193.893 1536.89 Q197.528 1536.89 199.333 1533.35 Q201.162 1529.78 201.162 1522.67 Q201.162 1515.55 199.333 1512 Q197.528 1508.44 193.893 1508.44 M193.893 1504.73 Q199.703 1504.73 202.759 1509.34 Q205.838 1513.92 205.838 1522.67 Q205.838 1531.4 202.759 1536.01 Q199.703 1540.59 193.893 1540.59 Q188.083 1540.59 185.004 1536.01 Q181.949 1531.4 181.949 1522.67 Q181.949 1513.92 185.004 1509.34 Q188.083 1504.73 193.893 1504.73 Z\" fill=\"#000000\" fill-rule=\"evenodd\" fill-opacity=\"1\" /><path clip-path=\"url(#clip600)\" d=\"M 0 0 M210.907 1534.04 L215.791 1534.04 L215.791 1539.92 L210.907 1539.92 L210.907 1534.04 Z\" fill=\"#000000\" fill-rule=\"evenodd\" fill-opacity=\"1\" /><path clip-path=\"url(#clip600)\" d=\"M 0 0 M230.861 1508.44 Q227.25 1508.44 225.421 1512 Q223.615 1515.55 223.615 1522.67 Q223.615 1529.78 225.421 1533.35 Q227.25 1536.89 230.861 1536.89 Q234.495 1536.89 236.3 1533.35 Q238.129 1529.78 238.129 1522.67 Q238.129 1515.55 236.3 1512 Q234.495 1508.44 230.861 1508.44 M230.861 1504.73 Q236.671 1504.73 239.726 1509.34 Q242.805 1513.92 242.805 1522.67 Q242.805 1531.4 239.726 1536.01 Q236.671 1540.59 230.861 1540.59 Q225.051 1540.59 221.972 1536.01 Q218.916 1531.4 218.916 1522.67 Q218.916 1513.92 221.972 1509.34 Q225.051 1504.73 230.861 1504.73 Z\" fill=\"#000000\" fill-rule=\"evenodd\" fill-opacity=\"1\" /><path clip-path=\"url(#clip600)\" d=\"M 0 0 M257.874 1508.44 Q254.263 1508.44 252.435 1512 Q250.629 1515.55 250.629 1522.67 Q250.629 1529.78 252.435 1533.35 Q254.263 1536.89 257.874 1536.89 Q261.509 1536.89 263.314 1533.35 Q265.143 1529.78 265.143 1522.67 Q265.143 1515.55 263.314 1512 Q261.509 1508.44 257.874 1508.44 M257.874 1504.73 Q263.685 1504.73 266.74 1509.34 Q269.819 1513.92 269.819 1522.67 Q269.819 1531.4 266.74 1536.01 Q263.685 1540.59 257.874 1540.59 Q252.064 1540.59 248.986 1536.01 Q245.93 1531.4 245.93 1522.67 Q245.93 1513.92 248.986 1509.34 Q252.064 1504.73 257.874 1504.73 Z\" fill=\"#000000\" fill-rule=\"evenodd\" fill-opacity=\"1\" /><path clip-path=\"url(#clip600)\" d=\"M 0 0 M711.421 1508.44 Q707.81 1508.44 705.981 1512 Q704.175 1515.55 704.175 1522.67 Q704.175 1529.78 705.981 1533.35 Q707.81 1536.89 711.421 1536.89 Q715.055 1536.89 716.86 1533.35 Q718.689 1529.78 718.689 1522.67 Q718.689 1515.55 716.86 1512 Q715.055 1508.44 711.421 1508.44 M711.421 1504.73 Q717.231 1504.73 720.286 1509.34 Q723.365 1513.92 723.365 1522.67 Q723.365 1531.4 720.286 1536.01 Q717.231 1540.59 711.421 1540.59 Q705.611 1540.59 702.532 1536.01 Q699.476 1531.4 699.476 1522.67 Q699.476 1513.92 702.532 1509.34 Q705.611 1504.73 711.421 1504.73 Z\" fill=\"#000000\" fill-rule=\"evenodd\" fill-opacity=\"1\" /><path clip-path=\"url(#clip600)\" d=\"M 0 0 M728.434 1534.04 L733.319 1534.04 L733.319 1539.92 L728.434 1539.92 L728.434 1534.04 Z\" fill=\"#000000\" fill-rule=\"evenodd\" fill-opacity=\"1\" /><path clip-path=\"url(#clip600)\" d=\"M 0 0 M742.416 1535.98 L758.735 1535.98 L758.735 1539.92 L736.791 1539.92 L736.791 1535.98 Q739.453 1533.23 744.036 1528.6 Q748.643 1523.95 749.823 1522.61 Q752.069 1520.08 752.948 1518.35 Q753.851 1516.59 753.851 1514.9 Q753.851 1512.14 751.907 1510.41 Q749.985 1508.67 746.883 1508.67 Q744.684 1508.67 742.231 1509.43 Q739.8 1510.2 737.022 1511.75 L737.022 1507.03 Q739.846 1505.89 742.3 1505.31 Q744.754 1504.73 746.791 1504.73 Q752.161 1504.73 755.356 1507.42 Q758.55 1510.11 758.55 1514.6 Q758.55 1516.73 757.74 1518.65 Q756.953 1520.54 754.846 1523.14 Q754.268 1523.81 751.166 1527.03 Q748.064 1530.22 742.416 1535.98 Z\" fill=\"#000000\" fill-rule=\"evenodd\" fill-opacity=\"1\" /><path clip-path=\"url(#clip600)\" d=\"M 0 0 M763.851 1505.36 L782.207 1505.36 L782.207 1509.3 L768.133 1509.3 L768.133 1517.77 Q769.152 1517.42 770.17 1517.26 Q771.189 1517.07 772.207 1517.07 Q777.994 1517.07 781.374 1520.24 Q784.754 1523.42 784.754 1528.83 Q784.754 1534.41 781.281 1537.51 Q777.809 1540.59 771.49 1540.59 Q769.314 1540.59 767.045 1540.22 Q764.8 1539.85 762.393 1539.11 L762.393 1534.41 Q764.476 1535.54 766.698 1536.1 Q768.92 1536.66 771.397 1536.66 Q775.402 1536.66 777.74 1534.55 Q780.078 1532.44 780.078 1528.83 Q780.078 1525.22 777.74 1523.11 Q775.402 1521.01 771.397 1521.01 Q769.522 1521.01 767.647 1521.42 Q765.795 1521.84 763.851 1522.72 L763.851 1505.36 Z\" fill=\"#000000\" fill-rule=\"evenodd\" fill-opacity=\"1\" /><path clip-path=\"url(#clip600)\" d=\"M 0 0 M1226.85 1508.44 Q1223.24 1508.44 1221.41 1512 Q1219.61 1515.55 1219.61 1522.67 Q1219.61 1529.78 1221.41 1533.35 Q1223.24 1536.89 1226.85 1536.89 Q1230.49 1536.89 1232.29 1533.35 Q1234.12 1529.78 1234.12 1522.67 Q1234.12 1515.55 1232.29 1512 Q1230.49 1508.44 1226.85 1508.44 M1226.85 1504.73 Q1232.66 1504.73 1235.72 1509.34 Q1238.8 1513.92 1238.8 1522.67 Q1238.8 1531.4 1235.72 1536.01 Q1232.66 1540.59 1226.85 1540.59 Q1221.04 1540.59 1217.96 1536.01 Q1214.91 1531.4 1214.91 1522.67 Q1214.91 1513.92 1217.96 1509.34 Q1221.04 1504.73 1226.85 1504.73 Z\" fill=\"#000000\" fill-rule=\"evenodd\" fill-opacity=\"1\" /><path clip-path=\"url(#clip600)\" d=\"M 0 0 M1243.87 1534.04 L1248.75 1534.04 L1248.75 1539.92 L1243.87 1539.92 L1243.87 1534.04 Z\" fill=\"#000000\" fill-rule=\"evenodd\" fill-opacity=\"1\" /><path clip-path=\"url(#clip600)\" d=\"M 0 0 M1253.87 1505.36 L1272.22 1505.36 L1272.22 1509.3 L1258.15 1509.3 L1258.15 1517.77 Q1259.17 1517.42 1260.19 1517.26 Q1261.2 1517.07 1262.22 1517.07 Q1268.01 1517.07 1271.39 1520.24 Q1274.77 1523.42 1274.77 1528.83 Q1274.77 1534.41 1271.3 1537.51 Q1267.83 1540.59 1261.51 1540.59 Q1259.33 1540.59 1257.06 1540.22 Q1254.82 1539.85 1252.41 1539.11 L1252.41 1534.41 Q1254.49 1535.54 1256.71 1536.1 Q1258.94 1536.66 1261.41 1536.66 Q1265.42 1536.66 1267.76 1534.55 Q1270.09 1532.44 1270.09 1528.83 Q1270.09 1525.22 1267.76 1523.11 Q1265.42 1521.01 1261.41 1521.01 Q1259.54 1521.01 1257.66 1521.42 Q1255.81 1521.84 1253.87 1522.72 L1253.87 1505.36 Z\" fill=\"#000000\" fill-rule=\"evenodd\" fill-opacity=\"1\" /><path clip-path=\"url(#clip600)\" d=\"M 0 0 M1289.84 1508.44 Q1286.23 1508.44 1284.4 1512 Q1282.59 1515.55 1282.59 1522.67 Q1282.59 1529.78 1284.4 1533.35 Q1286.23 1536.89 1289.84 1536.89 Q1293.47 1536.89 1295.28 1533.35 Q1297.11 1529.78 1297.11 1522.67 Q1297.11 1515.55 1295.28 1512 Q1293.47 1508.44 1289.84 1508.44 M1289.84 1504.73 Q1295.65 1504.73 1298.7 1509.34 Q1301.78 1513.92 1301.78 1522.67 Q1301.78 1531.4 1298.7 1536.01 Q1295.65 1540.59 1289.84 1540.59 Q1284.03 1540.59 1280.95 1536.01 Q1277.89 1531.4 1277.89 1522.67 Q1277.89 1513.92 1280.95 1509.34 Q1284.03 1504.73 1289.84 1504.73 Z\" fill=\"#000000\" fill-rule=\"evenodd\" fill-opacity=\"1\" /><path clip-path=\"url(#clip600)\" d=\"M 0 0 M1743.54 1508.44 Q1739.92 1508.44 1738.1 1512 Q1736.29 1515.55 1736.29 1522.67 Q1736.29 1529.78 1738.1 1533.35 Q1739.92 1536.89 1743.54 1536.89 Q1747.17 1536.89 1748.98 1533.35 Q1750.8 1529.78 1750.8 1522.67 Q1750.8 1515.55 1748.98 1512 Q1747.17 1508.44 1743.54 1508.44 M1743.54 1504.73 Q1749.35 1504.73 1752.4 1509.34 Q1755.48 1513.92 1755.48 1522.67 Q1755.48 1531.4 1752.4 1536.01 Q1749.35 1540.59 1743.54 1540.59 Q1737.73 1540.59 1734.65 1536.01 Q1731.59 1531.4 1731.59 1522.67 Q1731.59 1513.92 1734.65 1509.34 Q1737.73 1504.73 1743.54 1504.73 Z\" fill=\"#000000\" fill-rule=\"evenodd\" fill-opacity=\"1\" /><path clip-path=\"url(#clip600)\" d=\"M 0 0 M1760.55 1534.04 L1765.43 1534.04 L1765.43 1539.92 L1760.55 1539.92 L1760.55 1534.04 Z\" fill=\"#000000\" fill-rule=\"evenodd\" fill-opacity=\"1\" /><path clip-path=\"url(#clip600)\" d=\"M 0 0 M1769.32 1505.36 L1791.54 1505.36 L1791.54 1507.35 L1779 1539.92 L1774.11 1539.92 L1785.92 1509.3 L1769.32 1509.3 L1769.32 1505.36 Z\" fill=\"#000000\" fill-rule=\"evenodd\" fill-opacity=\"1\" /><path clip-path=\"url(#clip600)\" d=\"M 0 0 M1796.66 1505.36 L1815.02 1505.36 L1815.02 1509.3 L1800.94 1509.3 L1800.94 1517.77 Q1801.96 1517.42 1802.98 1517.26 Q1804 1517.07 1805.02 1517.07 Q1810.8 1517.07 1814.18 1520.24 Q1817.56 1523.42 1817.56 1528.83 Q1817.56 1534.41 1814.09 1537.51 Q1810.62 1540.59 1804.3 1540.59 Q1802.12 1540.59 1799.85 1540.22 Q1797.61 1539.85 1795.2 1539.11 L1795.2 1534.41 Q1797.29 1535.54 1799.51 1536.1 Q1801.73 1536.66 1804.21 1536.66 Q1808.21 1536.66 1810.55 1534.55 Q1812.89 1532.44 1812.89 1528.83 Q1812.89 1525.22 1810.55 1523.11 Q1808.21 1521.01 1804.21 1521.01 Q1802.33 1521.01 1800.46 1521.42 Q1798.6 1521.84 1796.66 1522.72 L1796.66 1505.36 Z\" fill=\"#000000\" fill-rule=\"evenodd\" fill-opacity=\"1\" /><path clip-path=\"url(#clip600)\" d=\"M 0 0 M2249.2 1535.98 L2256.84 1535.98 L2256.84 1509.62 L2248.53 1511.29 L2248.53 1507.03 L2256.79 1505.36 L2261.47 1505.36 L2261.47 1535.98 L2269.11 1535.98 L2269.11 1539.92 L2249.2 1539.92 L2249.2 1535.98 Z\" fill=\"#000000\" fill-rule=\"evenodd\" fill-opacity=\"1\" /><path clip-path=\"url(#clip600)\" d=\"M 0 0 M2274.18 1534.04 L2279.06 1534.04 L2279.06 1539.92 L2274.18 1539.92 L2274.18 1534.04 Z\" fill=\"#000000\" fill-rule=\"evenodd\" fill-opacity=\"1\" /><path clip-path=\"url(#clip600)\" d=\"M 0 0 M2294.13 1508.44 Q2290.52 1508.44 2288.69 1512 Q2286.88 1515.55 2286.88 1522.67 Q2286.88 1529.78 2288.69 1533.35 Q2290.52 1536.89 2294.13 1536.89 Q2297.76 1536.89 2299.57 1533.35 Q2301.4 1529.78 2301.4 1522.67 Q2301.4 1515.55 2299.57 1512 Q2297.76 1508.44 2294.13 1508.44 M2294.13 1504.73 Q2299.94 1504.73 2303 1509.34 Q2306.07 1513.92 2306.07 1522.67 Q2306.07 1531.4 2303 1536.01 Q2299.94 1540.59 2294.13 1540.59 Q2288.32 1540.59 2285.24 1536.01 Q2282.19 1531.4 2282.19 1522.67 Q2282.19 1513.92 2285.24 1509.34 Q2288.32 1504.73 2294.13 1504.73 Z\" fill=\"#000000\" fill-rule=\"evenodd\" fill-opacity=\"1\" /><path clip-path=\"url(#clip600)\" d=\"M 0 0 M2321.14 1508.44 Q2317.53 1508.44 2315.7 1512 Q2313.9 1515.55 2313.9 1522.67 Q2313.9 1529.78 2315.7 1533.35 Q2317.53 1536.89 2321.14 1536.89 Q2324.78 1536.89 2326.58 1533.35 Q2328.41 1529.78 2328.41 1522.67 Q2328.41 1515.55 2326.58 1512 Q2324.78 1508.44 2321.14 1508.44 M2321.14 1504.73 Q2326.95 1504.73 2330.01 1509.34 Q2333.09 1513.92 2333.09 1522.67 Q2333.09 1531.4 2330.01 1536.01 Q2326.95 1540.59 2321.14 1540.59 Q2315.33 1540.59 2312.25 1536.01 Q2309.2 1531.4 2309.2 1522.67 Q2309.2 1513.92 2312.25 1509.34 Q2315.33 1504.73 2321.14 1504.73 Z\" fill=\"#000000\" fill-rule=\"evenodd\" fill-opacity=\"1\" /><path clip-path=\"url(#clip600)\" d=\"M 0 0 M64.4736 1448.11 L76.9504 1448.11 L76.9504 1451.91 L64.4736 1451.91 L64.4736 1448.11 Z\" fill=\"#000000\" fill-rule=\"evenodd\" fill-opacity=\"1\" /><path clip-path=\"url(#clip600)\" d=\"M 0 0 M92.0197 1431.51 Q88.4087 1431.51 86.58 1435.08 Q84.7744 1438.62 84.7744 1445.75 Q84.7744 1452.86 86.58 1456.42 Q88.4087 1459.96 92.0197 1459.96 Q95.654 1459.96 97.4595 1456.42 Q99.2882 1452.86 99.2882 1445.75 Q99.2882 1438.62 97.4595 1435.08 Q95.654 1431.51 92.0197 1431.51 M92.0197 1427.81 Q97.8299 1427.81 100.885 1432.42 Q103.964 1437 103.964 1445.75 Q103.964 1454.48 100.885 1459.08 Q97.8299 1463.67 92.0197 1463.67 Q86.2096 1463.67 83.1309 1459.08 Q80.0754 1454.48 80.0754 1445.75 Q80.0754 1437 83.1309 1432.42 Q86.2096 1427.81 92.0197 1427.81 Z\" fill=\"#000000\" fill-rule=\"evenodd\" fill-opacity=\"1\" /><path clip-path=\"url(#clip600)\" d=\"M 0 0 M109.034 1457.12 L113.918 1457.12 L113.918 1463 L109.034 1463 L109.034 1457.12 Z\" fill=\"#000000\" fill-rule=\"evenodd\" fill-opacity=\"1\" /><path clip-path=\"url(#clip600)\" d=\"M 0 0 M119.033 1428.44 L137.39 1428.44 L137.39 1432.37 L123.316 1432.37 L123.316 1440.84 Q124.334 1440.5 125.353 1440.33 Q126.371 1440.15 127.39 1440.15 Q133.177 1440.15 136.557 1443.32 Q139.936 1446.49 139.936 1451.91 Q139.936 1457.49 136.464 1460.59 Q132.992 1463.67 126.672 1463.67 Q124.496 1463.67 122.228 1463.3 Q119.983 1462.93 117.575 1462.19 L117.575 1457.49 Q119.658 1458.62 121.881 1459.18 Q124.103 1459.73 126.58 1459.73 Q130.584 1459.73 132.922 1457.63 Q135.26 1455.52 135.26 1451.91 Q135.26 1448.3 132.922 1446.19 Q130.584 1444.08 126.58 1444.08 Q124.705 1444.08 122.83 1444.5 Q120.978 1444.92 119.033 1445.8 L119.033 1428.44 Z\" fill=\"#000000\" fill-rule=\"evenodd\" fill-opacity=\"1\" /><path clip-path=\"url(#clip600)\" d=\"M 0 0 M62.9921 1176.56 L75.4689 1176.56 L75.4689 1180.36 L62.9921 1180.36 L62.9921 1176.56 Z\" fill=\"#000000\" fill-rule=\"evenodd\" fill-opacity=\"1\" /><path clip-path=\"url(#clip600)\" d=\"M 0 0 M90.5383 1159.97 Q86.9272 1159.97 85.0985 1163.53 Q83.2929 1167.07 83.2929 1174.2 Q83.2929 1181.31 85.0985 1184.87 Q86.9272 1188.42 90.5383 1188.42 Q94.1725 1188.42 95.9781 1184.87 Q97.8068 1181.31 97.8068 1174.2 Q97.8068 1167.07 95.9781 1163.53 Q94.1725 1159.97 90.5383 1159.97 M90.5383 1156.26 Q96.3484 1156.26 99.404 1160.87 Q102.483 1165.45 102.483 1174.2 Q102.483 1182.93 99.404 1187.54 Q96.3484 1192.12 90.5383 1192.12 Q84.7281 1192.12 81.6494 1187.54 Q78.5939 1182.93 78.5939 1174.2 Q78.5939 1165.45 81.6494 1160.87 Q84.7281 1156.26 90.5383 1156.26 Z\" fill=\"#000000\" fill-rule=\"evenodd\" fill-opacity=\"1\" /><path clip-path=\"url(#clip600)\" d=\"M 0 0 M107.552 1185.57 L112.436 1185.57 L112.436 1191.45 L107.552 1191.45 L107.552 1185.57 Z\" fill=\"#000000\" fill-rule=\"evenodd\" fill-opacity=\"1\" /><path clip-path=\"url(#clip600)\" d=\"M 0 0 M130.353 1160.96 L118.547 1179.41 L130.353 1179.41 L130.353 1160.96 M129.126 1156.89 L135.006 1156.89 L135.006 1179.41 L139.936 1179.41 L139.936 1183.3 L135.006 1183.3 L135.006 1191.45 L130.353 1191.45 L130.353 1183.3 L114.751 1183.3 L114.751 1178.79 L129.126 1156.89 Z\" fill=\"#000000\" fill-rule=\"evenodd\" fill-opacity=\"1\" /><path clip-path=\"url(#clip600)\" d=\"M 0 0 M64.1264 905.016 L76.6032 905.016 L76.6032 908.812 L64.1264 908.812 L64.1264 905.016 Z\" fill=\"#000000\" fill-rule=\"evenodd\" fill-opacity=\"1\" /><path clip-path=\"url(#clip600)\" d=\"M 0 0 M91.6725 888.419 Q88.0614 888.419 86.2327 891.983 Q84.4272 895.525 84.4272 902.655 Q84.4272 909.761 86.2327 913.326 Q88.0614 916.868 91.6725 916.868 Q95.3068 916.868 97.1123 913.326 Q98.941 909.761 98.941 902.655 Q98.941 895.525 97.1123 891.983 Q95.3068 888.419 91.6725 888.419 M91.6725 884.715 Q97.4827 884.715 100.538 889.321 Q103.617 893.905 103.617 902.655 Q103.617 911.381 100.538 915.988 Q97.4827 920.571 91.6725 920.571 Q85.8624 920.571 82.7837 915.988 Q79.7281 911.381 79.7281 902.655 Q79.7281 893.905 82.7837 889.321 Q85.8624 884.715 91.6725 884.715 Z\" fill=\"#000000\" fill-rule=\"evenodd\" fill-opacity=\"1\" /><path clip-path=\"url(#clip600)\" d=\"M 0 0 M108.686 914.02 L113.571 914.02 L113.571 919.9 L108.686 919.9 L108.686 914.02 Z\" fill=\"#000000\" fill-rule=\"evenodd\" fill-opacity=\"1\" /><path clip-path=\"url(#clip600)\" d=\"M 0 0 M132.807 901.266 Q136.163 901.983 138.038 904.252 Q139.936 906.52 139.936 909.854 Q139.936 914.969 136.418 917.77 Q132.899 920.571 126.418 920.571 Q124.242 920.571 121.927 920.131 Q119.635 919.715 117.182 918.858 L117.182 914.344 Q119.126 915.479 121.441 916.057 Q123.756 916.636 126.279 916.636 Q130.677 916.636 132.969 914.9 Q135.283 913.164 135.283 909.854 Q135.283 906.798 133.131 905.085 Q131.001 903.349 127.182 903.349 L123.154 903.349 L123.154 899.507 L127.367 899.507 Q130.816 899.507 132.645 898.141 Q134.473 896.752 134.473 894.159 Q134.473 891.497 132.575 890.085 Q130.7 888.65 127.182 888.65 Q125.26 888.65 123.061 889.067 Q120.862 889.483 118.223 890.363 L118.223 886.196 Q120.885 885.456 123.2 885.085 Q125.538 884.715 127.598 884.715 Q132.922 884.715 136.024 887.145 Q139.126 889.553 139.126 893.673 Q139.126 896.544 137.482 898.534 Q135.839 900.502 132.807 901.266 Z\" fill=\"#000000\" fill-rule=\"evenodd\" fill-opacity=\"1\" /><path clip-path=\"url(#clip600)\" d=\"M 0 0 M65.0754 633.468 L77.5522 633.468 L77.5522 637.264 L65.0754 637.264 L65.0754 633.468 Z\" fill=\"#000000\" fill-rule=\"evenodd\" fill-opacity=\"1\" /><path clip-path=\"url(#clip600)\" d=\"M 0 0 M92.6216 616.871 Q89.0105 616.871 87.1818 620.436 Q85.3763 623.977 85.3763 631.107 Q85.3763 638.213 87.1818 641.778 Q89.0105 645.32 92.6216 645.32 Q96.2558 645.32 98.0614 641.778 Q99.8901 638.213 99.8901 631.107 Q99.8901 623.977 98.0614 620.436 Q96.2558 616.871 92.6216 616.871 M92.6216 613.167 Q98.4318 613.167 101.487 617.774 Q104.566 622.357 104.566 631.107 Q104.566 639.834 101.487 644.44 Q98.4318 649.023 92.6216 649.023 Q86.8114 649.023 83.7328 644.44 Q80.6772 639.834 80.6772 631.107 Q80.6772 622.357 83.7328 617.774 Q86.8114 613.167 92.6216 613.167 Z\" fill=\"#000000\" fill-rule=\"evenodd\" fill-opacity=\"1\" /><path clip-path=\"url(#clip600)\" d=\"M 0 0 M109.635 642.472 L114.52 642.472 L114.52 648.352 L109.635 648.352 L109.635 642.472 Z\" fill=\"#000000\" fill-rule=\"evenodd\" fill-opacity=\"1\" /><path clip-path=\"url(#clip600)\" d=\"M 0 0 M123.617 644.417 L139.936 644.417 L139.936 648.352 L117.992 648.352 L117.992 644.417 Q120.654 641.662 125.237 637.033 Q129.844 632.38 131.024 631.037 Q133.27 628.514 134.149 626.778 Q135.052 625.019 135.052 623.329 Q135.052 620.574 133.107 618.838 Q131.186 617.102 128.084 617.102 Q125.885 617.102 123.432 617.866 Q121.001 618.63 118.223 620.181 L118.223 615.459 Q121.047 614.324 123.501 613.746 Q125.955 613.167 127.992 613.167 Q133.362 613.167 136.557 615.852 Q139.751 618.537 139.751 623.028 Q139.751 625.158 138.941 627.079 Q138.154 628.977 136.047 631.57 Q135.469 632.241 132.367 635.459 Q129.265 638.653 123.617 644.417 Z\" fill=\"#000000\" fill-rule=\"evenodd\" fill-opacity=\"1\" /><path clip-path=\"url(#clip600)\" d=\"M 0 0 M64.7051 361.92 L77.1819 361.92 L77.1819 365.716 L64.7051 365.716 L64.7051 361.92 Z\" fill=\"#000000\" fill-rule=\"evenodd\" fill-opacity=\"1\" /><path clip-path=\"url(#clip600)\" d=\"M 0 0 M92.2512 345.323 Q88.6401 345.323 86.8114 348.888 Q85.0059 352.429 85.0059 359.559 Q85.0059 366.665 86.8114 370.23 Q88.6401 373.772 92.2512 373.772 Q95.8855 373.772 97.691 370.23 Q99.5197 366.665 99.5197 359.559 Q99.5197 352.429 97.691 348.888 Q95.8855 345.323 92.2512 345.323 M92.2512 341.619 Q98.0614 341.619 101.117 346.226 Q104.196 350.809 104.196 359.559 Q104.196 368.286 101.117 372.892 Q98.0614 377.475 92.2512 377.475 Q86.4411 377.475 83.3624 372.892 Q80.3068 368.286 80.3068 359.559 Q80.3068 350.809 83.3624 346.226 Q86.4411 341.619 92.2512 341.619 Z\" fill=\"#000000\" fill-rule=\"evenodd\" fill-opacity=\"1\" /><path clip-path=\"url(#clip600)\" d=\"M 0 0 M109.265 370.925 L114.149 370.925 L114.149 376.804 L109.265 376.804 L109.265 370.925 Z\" fill=\"#000000\" fill-rule=\"evenodd\" fill-opacity=\"1\" /><path clip-path=\"url(#clip600)\" d=\"M 0 0 M120.029 372.869 L127.668 372.869 L127.668 346.503 L119.358 348.17 L119.358 343.911 L127.621 342.244 L132.297 342.244 L132.297 372.869 L139.936 372.869 L139.936 376.804 L120.029 376.804 L120.029 372.869 Z\" fill=\"#000000\" fill-rule=\"evenodd\" fill-opacity=\"1\" /><path clip-path=\"url(#clip600)\" d=\"M 0 0 M91.0244 73.775 Q87.4133 73.775 85.5846 77.3398 Q83.7791 80.8814 83.7791 88.011 Q83.7791 95.1174 85.5846 98.6822 Q87.4133 102.224 91.0244 102.224 Q94.6586 102.224 96.4642 98.6822 Q98.2929 95.1174 98.2929 88.011 Q98.2929 80.8814 96.4642 77.3398 Q94.6586 73.775 91.0244 73.775 M91.0244 70.0713 Q96.8345 70.0713 99.8901 74.6777 Q102.969 79.261 102.969 88.011 Q102.969 96.7378 99.8901 101.344 Q96.8345 105.928 91.0244 105.928 Q85.2142 105.928 82.1355 101.344 Q79.08 96.7378 79.08 88.011 Q79.08 79.261 82.1355 74.6777 Q85.2142 70.0713 91.0244 70.0713 Z\" fill=\"#000000\" fill-rule=\"evenodd\" fill-opacity=\"1\" /><path clip-path=\"url(#clip600)\" d=\"M 0 0 M108.038 99.3767 L112.922 99.3767 L112.922 105.256 L108.038 105.256 L108.038 99.3767 Z\" fill=\"#000000\" fill-rule=\"evenodd\" fill-opacity=\"1\" /><path clip-path=\"url(#clip600)\" d=\"M 0 0 M127.992 73.775 Q124.381 73.775 122.552 77.3398 Q120.746 80.8814 120.746 88.011 Q120.746 95.1174 122.552 98.6822 Q124.381 102.224 127.992 102.224 Q131.626 102.224 133.432 98.6822 Q135.26 95.1174 135.26 88.011 Q135.26 80.8814 133.432 77.3398 Q131.626 73.775 127.992 73.775 M127.992 70.0713 Q133.802 70.0713 136.857 74.6777 Q139.936 79.261 139.936 88.011 Q139.936 96.7378 136.857 101.344 Q133.802 105.928 127.992 105.928 Q122.182 105.928 119.103 101.344 Q116.047 96.7378 116.047 88.011 Q116.047 79.261 119.103 74.6777 Q122.182 70.0713 127.992 70.0713 Z\" fill=\"#000000\" fill-rule=\"evenodd\" fill-opacity=\"1\" /><circle clip-path=\"url(#clip602)\" cx=\"225.884\" cy=\"87.9763\" r=\"14\" fill=\"#009af9\" fill-rule=\"evenodd\" fill-opacity=\"0.5\" stroke=\"#000000\" stroke-opacity=\"0.5\" stroke-width=\"3.2\"/>\n",
       "<polyline clip-path=\"url(#clip602)\" style=\"stroke:#e26f46; stroke-width:4; stroke-opacity:0.5; fill:none\" points=\"\n",
       "  225.884,1445.72 225.884,1391.41 \n",
       "  \"/>\n",
       "<circle clip-path=\"url(#clip602)\" cx=\"225.884\" cy=\"1445.72\" r=\"14\" fill=\"#e26f46\" fill-rule=\"evenodd\" fill-opacity=\"0.5\" stroke=\"#000000\" stroke-opacity=\"0.5\" stroke-width=\"3.2\"/>\n",
       "<circle clip-path=\"url(#clip602)\" cx=\"225.884\" cy=\"1391.41\" r=\"14\" fill=\"#e26f46\" fill-rule=\"evenodd\" fill-opacity=\"0.5\" stroke=\"#000000\" stroke-opacity=\"0.5\" stroke-width=\"3.2\"/>\n",
       "<polyline clip-path=\"url(#clip602)\" style=\"stroke:#3da44d; stroke-width:4; stroke-opacity:0.5; fill:none\" points=\"\n",
       "  225.884,1445.72 225.884,1391.41 \n",
       "  \"/>\n",
       "<circle clip-path=\"url(#clip602)\" cx=\"225.884\" cy=\"1445.72\" r=\"14\" fill=\"#3da44d\" fill-rule=\"evenodd\" fill-opacity=\"0.5\" stroke=\"#000000\" stroke-opacity=\"0.5\" stroke-width=\"3.2\"/>\n",
       "<circle clip-path=\"url(#clip602)\" cx=\"225.884\" cy=\"1391.41\" r=\"14\" fill=\"#3da44d\" fill-rule=\"evenodd\" fill-opacity=\"0.5\" stroke=\"#000000\" stroke-opacity=\"0.5\" stroke-width=\"3.2\"/>\n",
       "</svg>\n"
      ]
     },
     "execution_count": 31,
     "metadata": {},
     "output_type": "execute_result"
    }
   ],
   "source": [
    "plot(out)"
   ]
  },
  {
   "cell_type": "markdown",
   "metadata": {},
   "source": [
    "## Running all test sets"
   ]
  },
  {
   "cell_type": "markdown",
   "metadata": {},
   "source": [
    "https://github.com/Verisig/verisig/blob/master/examples/mountain_car/multi_runner.py"
   ]
  }
 ],
 "metadata": {
  "kernelspec": {
   "display_name": "Julia 1.5.0-beta1",
   "language": "julia",
   "name": "julia-1.5"
  },
  "language_info": {
   "file_extension": ".jl",
   "mimetype": "application/julia",
   "name": "julia",
   "version": "1.5.0"
  }
 },
 "nbformat": 4,
 "nbformat_minor": 2
}
