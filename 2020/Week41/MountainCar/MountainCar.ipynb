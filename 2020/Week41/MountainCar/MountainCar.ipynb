{
 "cells": [
  {
   "cell_type": "markdown",
   "metadata": {},
   "source": [
    "## Installation"
   ]
  },
  {
   "cell_type": "markdown",
   "metadata": {},
   "source": [
    "- Install Flow* v2.1.0\n",
    "    - https://flowstar.org/dowloads/\n",
    "    - https://www.cs.colorado.edu/~xich8622/manual/manual-2.0.0.pdf"
   ]
  },
  {
   "cell_type": "markdown",
   "metadata": {},
   "source": [
    "- Install gradle\n",
    "    - (Fedora) https://tecadmin.net/install-gradle-fedora/"
   ]
  },
  {
   "cell_type": "markdown",
   "metadata": {},
   "source": [
    "- Install VERISIG\n",
    "    - https://github.com/Verisig/verisig"
   ]
  },
  {
   "cell_type": "markdown",
   "metadata": {},
   "source": [
    "## Running the example"
   ]
  },
  {
   "cell_type": "markdown",
   "metadata": {},
   "source": [
    "```bash\n",
    "$ pwd\n",
    "/home/mforets/Tools/verisig-master\n",
    "[mforets@localhost verisig-master]$ ./verisig --flowstar-cmd flowstar/flowstar examples/mountain_car/MC.xml examples/mountain_car/sig16x16.yml\n",
    "Initial states not defined. Using default values.\n",
    "mode: mode2,\ttime = 0.000001,\tstep = 0.000001,\torder = 4\n",
    "Dealing with the jump from mode2 to mode3 ...\n",
    "No intersection detected.\n",
    "Done.\n",
    "Dealing with the jump from mode2 to m0 ...\n",
    "Done.\n",
    "Dealing with the jump from mode2 to m0 ...\n",
    "No intersection detected.\n",
    "Done.\n",
    "mode: m0,\ttime = 0.000001,\tstep = 0.000001,\torder = 4\n",
    "Dealing with the jump from m0 to DNNm1 ...\n",
    "Done.\n",
    "mode: DNNm1,\ttime = 0.000001,\tstep = 0.000001,\torder = 4\n",
    "Dealing with the jump from DNNm1 to _reset_mode1 ...\n",
    "Done.\n",
    "\n",
    "Computation completed: 4 flowpipe(s) computed.\n",
    "\n",
    "Result of the safety verification on the computed flowpipes: UNSAFE\n",
    "\n",
    "Total time cost: 0.053845 seconds.\n",
    "\n",
    "Preparing for plotting and dumping...\n",
    "%100\n",
    "Done.\n",
    "Generating the plotting file...\n",
    "%100\n",
    "Done.\n",
    "Writing the flowpipe(s)...\n",
    "Done.\n",
    "```"
   ]
  },
  {
   "cell_type": "markdown",
   "metadata": {},
   "source": [
    "---"
   ]
  },
  {
   "cell_type": "markdown",
   "metadata": {},
   "source": [
    "This should produce the files\n",
    "\n",
    "```bash\n",
    "$ ls outputs/\n",
    "autosig.flow  autosig.plt\n",
    "\n",
    "[mforets@localhost verisig-master]$ head outputs/autosig.plt \n",
    "set terminal postscript enhanced color\n",
    "set output './images/autosig.eps'\n",
    "set style line 1 linecolor rgb \"blue\"\n",
    "set autoscale\n",
    "unset label\n",
    "set xtic auto\n",
    "set ytic auto\n",
    "set xlabel \"clock\"\n",
    "set ylabel \"_f1\"\n",
    "plot '-' notitle with lines ls 1\n",
    "```"
   ]
  },
  {
   "cell_type": "markdown",
   "metadata": {},
   "source": [
    "- The file `.flow` contains the Taylor models.\n",
    "\n",
    "- The file `.plt` contains the vertices of an overapproximation of the taylor models using polygons."
   ]
  },
  {
   "cell_type": "markdown",
   "metadata": {},
   "source": [
    "---"
   ]
  },
  {
   "cell_type": "markdown",
   "metadata": {},
   "source": [
    "## Output visualization"
   ]
  },
  {
   "cell_type": "code",
   "execution_count": null,
   "metadata": {},
   "outputs": [],
   "source": []
  },
  {
   "cell_type": "code",
   "execution_count": null,
   "metadata": {},
   "outputs": [],
   "source": []
  },
  {
   "cell_type": "code",
   "execution_count": null,
   "metadata": {},
   "outputs": [],
   "source": []
  },
  {
   "cell_type": "code",
   "execution_count": null,
   "metadata": {},
   "outputs": [],
   "source": []
  }
 ],
 "metadata": {
  "kernelspec": {
   "display_name": "Julia 1.5.0-beta1",
   "language": "julia",
   "name": "julia-1.5"
  },
  "language_info": {
   "file_extension": ".jl",
   "mimetype": "application/julia",
   "name": "julia",
   "version": "1.5.0"
  }
 },
 "nbformat": 4,
 "nbformat_minor": 2
}
