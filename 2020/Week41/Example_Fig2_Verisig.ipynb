{
 "cells": [
  {
   "cell_type": "markdown",
   "metadata": {},
   "source": [
    "## Example\n",
    "\n",
    "This example is from Verisig's paper, Fig. 2."
   ]
  },
  {
   "cell_type": "code",
   "execution_count": 14,
   "metadata": {},
   "outputs": [
    {
     "data": {
      "text/plain": [
       "ReachabilityAnalysis"
      ]
     },
     "execution_count": 14,
     "metadata": {},
     "output_type": "execute_result"
    }
   ],
   "source": [
    "using Revise, NeuralNetworkAnalysis\n",
    "\n",
    "using NeuralVerification: Layer, Id\n",
    "const NNA = NeuralNetworkAnalysis\n",
    "const RA = ReachabilityAnalysis"
   ]
  },
  {
   "cell_type": "code",
   "execution_count": 12,
   "metadata": {},
   "outputs": [
    {
     "name": "stdout",
     "output_type": "stream",
     "text": [
      "Network\n",
      "  layers: Array{Layer}((2,))\n",
      "    1: Layer{NeuralNetworkAnalysis.Sigmoid,Float64}\n",
      "      weights: Array{Float64}((2, 2)) [0.3 0.2; 0.1 0.5]\n",
      "      bias: Array{Float64}((2,)) [0.1, 0.2]\n",
      "      activation: NeuralNetworkAnalysis.Sigmoid NeuralNetworkAnalysis.Sigmoid()\n",
      "    2: Layer{Id,Float64}\n",
      "      weights: Array{Float64}((1, 2)) [3.0 5.0]\n",
      "      bias: Array{Float64}((1,)) [0.0]\n",
      "      activation: Id Id()\n"
     ]
    }
   ],
   "source": [
    "nnet = Network([Layer([0.3 0.2; 0.1 0.5], [0.1, 0.2], NNA.Sigmoid()), Layer(hcat(3, 5.), [0.], Id())])\n",
    "dump(nnet)"
   ]
  },
  {
   "cell_type": "code",
   "execution_count": 13,
   "metadata": {},
   "outputs": [
    {
     "data": {
      "text/plain": [
       "Hyperrectangle{Float64,Array{Float64,1},Array{Float64,1}}([2.5, 1.5], [0.5, 0.5])"
      ]
     },
     "execution_count": 13,
     "metadata": {},
     "output_type": "execute_result"
    }
   ],
   "source": [
    "xᴾ = Hyperrectangle(low=[2, 1.], high=[3, 2.])"
   ]
  },
  {
   "cell_type": "code",
   "execution_count": 10,
   "metadata": {},
   "outputs": [
    {
     "name": "stdout",
     "output_type": "stream",
     "text": [
      "  0.419473 seconds (3.65 M allocations: 281.212 MiB, 14.40% gc time)\n"
     ]
    },
    {
     "data": {
      "text/plain": [
       "CartesianProductArray{Float64,Interval{Float64,IntervalArithmetic.Interval{Float64}}}(Interval{Float64,IntervalArithmetic.Interval{Float64}}[Interval{Float64,IntervalArithmetic.Interval{Float64}}([5.6848, 6.52503])])"
      ]
     },
     "execution_count": 10,
     "metadata": {},
     "output_type": "execute_result"
    }
   ],
   "source": [
    "@time forward(nnet, xᴾ)"
   ]
  },
  {
   "cell_type": "markdown",
   "metadata": {},
   "source": [
    "---"
   ]
  },
  {
   "cell_type": "markdown",
   "metadata": {},
   "source": [
    "## Using zonotopes"
   ]
  },
  {
   "cell_type": "code",
   "execution_count": 26,
   "metadata": {},
   "outputs": [
    {
     "data": {
      "text/plain": [
       "forward_zono (generic function with 1 method)"
      ]
     },
     "execution_count": 26,
     "metadata": {},
     "output_type": "execute_result"
    }
   ],
   "source": [
    "@taylorize function sigmoid2!(dx, x, p, t)\n",
    "    xᴶ₁, xᴶ₂, xᴾ₁, xᴾ₂ = x\n",
    "    dx[1] = zero(xᴶ₁)\n",
    "    dx[2] = zero(xᴶ₂)\n",
    "    \n",
    "    dx[3] = xᴶ₁ *(xᴾ₁ - xᴾ₁^2)\n",
    "    dx[4] = xᴶ₂ *(xᴾ₂ - xᴾ₂^2)\n",
    "end\n",
    "\n",
    "# Method: Zonotope\n",
    "function forward_zono(nnet::Network, X0::LazySet;\n",
    "                      alg=TMJets(abs_tol=1e-14, orderQ=2, orderT=6))\n",
    "\n",
    "    # initial states\n",
    "    xᴾ₀ = RA._convert_or_overapproximate(X0, Zonotope)\n",
    "\n",
    "    for layer in nnet.layers  # loop over layers\n",
    "        W = layer.weights\n",
    "        m, n = size(W)\n",
    "        b = layer.bias\n",
    "        act = layer.activation\n",
    "\n",
    "        xᴶ′ = affine_map(W, xᴾ₀, b)\n",
    "        xᴾ′ = CartesianProductArray(fill(Interval(0.5, 0.5), m))\n",
    "\n",
    "        if act == Id()\n",
    "            xᴾ₀ = copy(xᴶ′)\n",
    "            continue\n",
    "        end\n",
    "        @assert act == NNA.Sigmoid()\n",
    "\n",
    "        ivp = @ivp(x' = sigmoid2!(x), dim=4, x(0) ∈ xᴶ′ × xᴾ′)\n",
    "        sol = RA.solve(ivp, tspan=(0., 1.), alg=alg)\n",
    "        Zend = overapproximate(sol[end], Zonotope)\n",
    "        xᴾ₀ = project(Zend, m+1:2m) |> set\n",
    "    end\n",
    "    return xᴾ₀\n",
    "end"
   ]
  },
  {
   "cell_type": "code",
   "execution_count": 29,
   "metadata": {},
   "outputs": [
    {
     "name": "stdout",
     "output_type": "stream",
     "text": [
      "  0.299355 seconds (2.29 M allocations: 184.792 MiB, 13.62% gc time)\n"
     ]
    },
    {
     "data": {
      "text/plain": [
       "Zonotope{Float64,Array{Float64,1},Array{Float64,2}}([6.120451474048576], [0.1369676214119743 0.2668022483155346 0.00029308398132414626 0.0005023896202388792])"
      ]
     },
     "execution_count": 29,
     "metadata": {},
     "output_type": "execute_result"
    }
   ],
   "source": [
    "xᴾ = Hyperrectangle(low=[2, 1.], high=[3, 2.])\n",
    "@time out = forward_zono(nnet, xᴾ)"
   ]
  },
  {
   "cell_type": "code",
   "execution_count": 31,
   "metadata": {},
   "outputs": [
    {
     "data": {
      "text/plain": [
       "Interval{Float64,IntervalArithmetic.Interval{Float64}}([5.71588, 6.52502])"
      ]
     },
     "execution_count": 31,
     "metadata": {},
     "output_type": "execute_result"
    }
   ],
   "source": [
    "y = overapproximate(out, Interval)"
   ]
  },
  {
   "cell_type": "markdown",
   "metadata": {},
   "source": [
    "Observations:\n",
    "\n",
    "- If TMJets received a zonotope the precision sohuld increase, in general.\n",
    "- The approach with zonotopes gives $[5.71588, 6.52502]$ which is tighter than $[5.6848, 6.52503]$ obtained with a cartesian decompositon of intervals."
   ]
  },
  {
   "cell_type": "markdown",
   "metadata": {},
   "source": [
    "---"
   ]
  },
  {
   "cell_type": "markdown",
   "metadata": {},
   "source": [
    "Questions:\n",
    "\n",
    "- How do the methods scale?\n",
    "- How to define `sigmoid2!` programmatically, ie. for varying number of dimensions."
   ]
  }
 ],
 "metadata": {
  "@webio": {
   "lastCommId": null,
   "lastKernelId": null
  },
  "kernelspec": {
   "display_name": "Julia 1.5.0-beta1",
   "language": "julia",
   "name": "julia-1.5"
  },
  "language_info": {
   "file_extension": ".jl",
   "mimetype": "application/julia",
   "name": "julia",
   "version": "1.5.0"
  }
 },
 "nbformat": 4,
 "nbformat_minor": 2
}
