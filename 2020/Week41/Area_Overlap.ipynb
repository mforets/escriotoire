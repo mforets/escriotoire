{
 "cells": [
  {
   "cell_type": "code",
   "execution_count": 1,
   "metadata": {},
   "outputs": [
    {
     "name": "stderr",
     "output_type": "stream",
     "text": [
      "Path `/home/mforets/.julia/dev/Photometry` exists and looks like the correct package. Using existing path.\n",
      "\u001b[32m\u001b[1m  Resolving\u001b[22m\u001b[39m package versions...\n",
      "\u001b[32m\u001b[1mUpdating\u001b[22m\u001b[39m `~/.julia/environments/v1.5/Project.toml`\n",
      " \u001b[90m [b4f0291d] \u001b[39m\u001b[93m~ LazySets v1.37.9 `~/.julia/dev/LazySets` ⇒ v1.37.10 `~/.julia/dev/LazySets`\u001b[39m\n",
      " \u001b[90m [af68cb61] \u001b[39m\u001b[92m+ Photometry v0.7.2 `~/.julia/dev/Photometry`\u001b[39m\n",
      "\u001b[32m\u001b[1mUpdating\u001b[22m\u001b[39m `~/.julia/environments/v1.5/Manifest.toml`\n",
      " \u001b[90m [621f4979] \u001b[39m\u001b[92m+ AbstractFFTs v0.5.0\u001b[39m\n",
      " \u001b[90m [dce04be8] \u001b[39m\u001b[92m+ ArgCheck v2.1.0\u001b[39m\n",
      " \u001b[90m [39de3d68] \u001b[39m\u001b[92m+ AxisArrays v0.4.3\u001b[39m\n",
      " \u001b[90m [198e06fe] \u001b[39m\u001b[92m+ BangBang v0.3.29\u001b[39m\n",
      " \u001b[90m [aafaddc9] \u001b[39m\u001b[92m+ CatIndices v0.2.1\u001b[39m\n",
      " \u001b[90m [c3611d14] \u001b[39m\u001b[92m+ ColorVectorSpace v0.8.6\u001b[39m\n",
      " \u001b[90m [a33af91c] \u001b[39m\u001b[92m+ CompositionsBase v0.1.0\u001b[39m\n",
      " \u001b[90m [ed09eef8] \u001b[39m\u001b[92m+ ComputationalResources v0.3.2\u001b[39m\n",
      " \u001b[90m [150eb455] \u001b[39m\u001b[92m+ CoordinateTransformations v0.6.0\u001b[39m\n",
      " \u001b[90m [dc8bdbbb] \u001b[39m\u001b[92m+ CustomUnitRanges v1.0.0\u001b[39m\n",
      " \u001b[90m [244e2a9f] \u001b[39m\u001b[92m+ DefineSingletons v0.1.0\u001b[39m\n",
      " \u001b[90m [85a47980] \u001b[39m\u001b[92m+ Dictionaries v0.3.2\u001b[39m\n",
      " \u001b[90m [da5c29d0] \u001b[39m\u001b[92m+ EllipsisNotation v0.4.0\u001b[39m\n",
      " \u001b[90m [4f61f5a4] \u001b[39m\u001b[92m+ FFTViews v0.3.1\u001b[39m\n",
      " \u001b[90m [7a1cc6ca] \u001b[39m\u001b[92m+ FFTW v1.2.4\u001b[39m\n",
      " \u001b[90m [f5851436] \u001b[39m\u001b[92m+ FFTW_jll v3.3.9+5\u001b[39m\n",
      " \u001b[90m [a2bd30eb] \u001b[39m\u001b[92m+ Graphics v1.0.2\u001b[39m\n",
      " \u001b[90m [bbac6d45] \u001b[39m\u001b[92m+ IdentityRanges v0.3.1\u001b[39m\n",
      " \u001b[90m [2803e5a7] \u001b[39m\u001b[92m+ ImageAxes v0.6.6\u001b[39m\n",
      " \u001b[90m [a09fc81d] \u001b[39m\u001b[92m+ ImageCore v0.8.16\u001b[39m\n",
      " \u001b[90m [6a3955dd] \u001b[39m\u001b[92m+ ImageFiltering v0.6.15\u001b[39m\n",
      " \u001b[90m [bc367c6b] \u001b[39m\u001b[92m+ ImageMetadata v0.9.3\u001b[39m\n",
      " \u001b[90m [02fcd773] \u001b[39m\u001b[92m+ ImageTransformations v0.8.6\u001b[39m\n",
      " \u001b[90m [313cdc1a] \u001b[39m\u001b[92m+ Indexing v1.1.0\u001b[39m\n",
      " \u001b[90m [9b13fd28] \u001b[39m\u001b[92m+ IndirectArrays v0.5.1\u001b[39m\n",
      " \u001b[90m [22cec73e] \u001b[39m\u001b[92m+ InitialValues v0.2.10\u001b[39m\n",
      " \u001b[90m [8197267c] \u001b[39m\u001b[92m+ IntervalSets v0.5.1\u001b[39m\n",
      " \u001b[90m [c8e1da08] \u001b[39m\u001b[92m+ IterTools v1.3.0\u001b[39m\n",
      " \u001b[90m [b4f0291d] \u001b[39m\u001b[93m~ LazySets v1.37.9 `~/.julia/dev/LazySets` ⇒ v1.37.10 `~/.julia/dev/LazySets`\u001b[39m\n",
      " \u001b[90m [e94cdb99] \u001b[39m\u001b[92m+ MosaicViews v0.2.3\u001b[39m\n",
      " \u001b[90m [b8a86587] \u001b[39m\u001b[92m+ NearestNeighbors v0.4.6\u001b[39m\n",
      " \u001b[90m [5432bcbf] \u001b[39m\u001b[92m+ PaddedViews v0.5.5\u001b[39m\n",
      " \u001b[90m [af68cb61] \u001b[39m\u001b[92m+ Photometry v0.7.2 `~/.julia/dev/Photometry`\u001b[39m\n",
      " \u001b[90m [b3c3ace0] \u001b[39m\u001b[92m+ RangeArrays v0.3.2\u001b[39m\n",
      " \u001b[90m [6038ab10] \u001b[39m\u001b[92m+ Rotations v1.0.1\u001b[39m\n",
      " \u001b[90m [efcf1570] \u001b[39m\u001b[92m+ Setfield v0.7.0\u001b[39m\n",
      " \u001b[90m [03a91e81] \u001b[39m\u001b[92m+ SplitApplyCombine v1.1.3\u001b[39m\n",
      " \u001b[90m [171d559e] \u001b[39m\u001b[92m+ SplittablesBase v0.1.10\u001b[39m\n",
      " \u001b[90m [06e1c1a7] \u001b[39m\u001b[92m+ TiledIteration v0.2.4\u001b[39m\n",
      " \u001b[90m [28d57a85] \u001b[39m\u001b[92m+ Transducers v0.4.51\u001b[39m\n",
      " \u001b[90m [9d95f2ec] \u001b[39m\u001b[92m+ TypedTables v1.2.0\u001b[39m\n"
     ]
    }
   ],
   "source": [
    "] dev Photometry"
   ]
  },
  {
   "cell_type": "code",
   "execution_count": 1,
   "metadata": {},
   "outputs": [
    {
     "name": "stdout",
     "output_type": "stream",
     "text": [
      "\u001b[32m\u001b[1mStatus\u001b[22m\u001b[39m `~/.julia/environments/v1.5/Project.toml`\n",
      " \u001b[90m [27a7e980] \u001b[39m\u001b[37mAnimations v0.4.0\u001b[39m\n",
      " \u001b[90m [d649c9e1] \u001b[39m\u001b[37mAssumeGuaranteeContracts v0.1.0 `~/.julia/dev/AssumeGuaranteeContracts`\u001b[39m\n",
      " \u001b[90m [6e4b80f9] \u001b[39m\u001b[37mBenchmarkTools v0.5.0\u001b[39m\n",
      " \u001b[90m [d3bc4f2e] \u001b[39m\u001b[37mBranchAndPrune v0.1.0\u001b[39m\n",
      " \u001b[90m [3391f64e] \u001b[39m\u001b[37mCDDLib v0.6.2\u001b[39m\n",
      " \u001b[90m [336ed68f] \u001b[39m\u001b[37mCSV v0.7.7\u001b[39m\n",
      " \u001b[90m [9961bab8] \u001b[39m\u001b[37mCbc v0.7.0\u001b[39m\n",
      " \u001b[90m [5ae59095] \u001b[39m\u001b[37mColors v0.12.4\u001b[39m\n",
      " \u001b[90m [861a8166] \u001b[39m\u001b[37mCombinatorics v1.0.2\u001b[39m\n",
      " \u001b[90m [a93c6f00] \u001b[39m\u001b[37mDataFrames v0.21.4\u001b[39m\n",
      " \u001b[90m [ef61062a] \u001b[39m\u001b[37mDiffEqUncertainty v1.5.0\u001b[39m\n",
      " \u001b[90m [0c46a032] \u001b[39m\u001b[37mDifferentialEquations v6.15.0\u001b[39m\n",
      " \u001b[90m [31c24e10] \u001b[39m\u001b[37mDistributions v0.23.4\u001b[39m\n",
      " \u001b[90m [e30172f5] \u001b[39m\u001b[37mDocumenter v0.24.11\u001b[39m\n",
      " \u001b[90m [35a29f4d] \u001b[39m\u001b[37mDocumenterTools v0.1.7\u001b[39m\n",
      " \u001b[90m [a1e7a1ef] \u001b[39m\u001b[37mExpokit v0.2.0\u001b[39m\n",
      " \u001b[90m [d4d017d3] \u001b[39m\u001b[37mExponentialUtilities v1.8.0 `https://github.com/SciML/ExponentialUtilities.jl.git#master`\u001b[39m\n",
      " \u001b[90m [e2ba6199] \u001b[39m\u001b[37mExprTools v0.1.1\u001b[39m\n",
      " \u001b[90m [7a1cc6ca] \u001b[39m\u001b[37mFFTW v1.2.4\u001b[39m\n",
      " \u001b[90m [fa42c844] \u001b[39m\u001b[37mFastRounding v0.2.0\u001b[39m\n",
      " \u001b[90m [1a297f60] \u001b[39m\u001b[37mFillArrays v0.8.14\u001b[39m\n",
      " \u001b[90m [f6369f11] \u001b[39m\u001b[37mForwardDiff v0.10.12\u001b[39m\n",
      " \u001b[90m [60bf3e95] \u001b[39m\u001b[37mGLPK v0.13.0\u001b[39m\n",
      " \u001b[90m [3c7084bd] \u001b[39m\u001b[37mGLPKMathProgInterface v0.5.0\u001b[39m\n",
      " \u001b[90m [28b8d3ca] \u001b[39m\u001b[37mGR v0.50.1\u001b[39m\n",
      " \u001b[90m [7073ff75] \u001b[39m\u001b[37mIJulia v1.21.2\u001b[39m\n",
      " \u001b[90m [6218d12a] \u001b[39m\u001b[37mImageMagick v1.1.6\u001b[39m\n",
      " \u001b[90m [55ecb840] \u001b[39m\u001b[37mImplicitPlots v0.2.0 `https://github.com/saschatimme/ImplicitPlots.jl.git#master`\u001b[39m\n",
      " \u001b[90m [d1acc4aa] \u001b[39m\u001b[37mIntervalArithmetic v0.17.5 `~/.julia/dev/IntervalArithmetic`\u001b[39m\n",
      " \u001b[90m [138f1668] \u001b[39m\u001b[37mIntervalConstraintProgramming v0.12.1\u001b[39m\n",
      " \u001b[90m [5c1f47dc] \u001b[39m\u001b[37mIntervalMatrices v0.6.2 `~/.julia/dev/IntervalMatrices`\u001b[39m\n",
      " \u001b[90m [c7c68f13] \u001b[39m\u001b[37mIntervalOptimisation v0.4.2\u001b[39m\n",
      " \u001b[90m [b6b21f68] \u001b[39m\u001b[37mIpopt v0.6.2\u001b[39m\n",
      " \u001b[90m [033835bb] \u001b[39m\u001b[37mJLD2 v0.1.13\u001b[39m\n",
      " \u001b[90m [4076af6c] \u001b[39m\u001b[37mJuMP v0.21.3\u001b[39m\n",
      " \u001b[90m [2c470bb0] \u001b[39m\u001b[37mKronecker v0.3.1\u001b[39m\n",
      " \u001b[90m [b964fa9f] \u001b[39m\u001b[37mLaTeXStrings v1.1.0\u001b[39m\n",
      " \u001b[90m [b4f0291d] \u001b[39m\u001b[37mLazySets v1.37.12 `~/.julia/dev/LazySets`\u001b[39m\n",
      " \u001b[90m [98b081ad] \u001b[39m\u001b[37mLiterate v2.5.0\u001b[39m\n",
      " \u001b[90m [bdcacae8] \u001b[39m\u001b[37mLoopVectorization v0.8.24\u001b[39m\n",
      " \u001b[90m [23992714] \u001b[39m\u001b[37mMAT v0.8.0\u001b[39m\n",
      " \u001b[90m [33e6dc65] \u001b[39m\u001b[37mMKL v0.2.0 `https://github.com/JuliaComputing/MKL.jl#master`\u001b[39m\n",
      " \u001b[90m [1914dd2f] \u001b[39m\u001b[37mMacroTools v0.5.5\u001b[39m\n",
      " \u001b[90m [ee78f7c6] \u001b[39m\u001b[37mMakie v0.11.1\u001b[39m\n",
      " \u001b[90m [d14a8603] \u001b[39m\u001b[37mMathematicalSystems v0.11.5 `~/.julia/dev/MathematicalSystems`\u001b[39m\n",
      " \u001b[90m [961ee093] \u001b[39m\u001b[37mModelingToolkit v3.20.0 `https://github.com/SciML/ModelingToolkit.jl.git#v3.20.0`\u001b[39m\n",
      " \u001b[90m [58b236a2] \u001b[39m\u001b[37mNetworkBackpropagation v0.1.0 `~/.julia/dev/NetworkBackpropagation`\u001b[39m\n",
      " \u001b[90m [73c0b437] \u001b[39m\u001b[37mNeuralNetworkAnalysis v0.1.0 `~/.julia/dev/NeuralNetworkAnalysis`\u001b[39m\n",
      " \u001b[90m [146f25fa] \u001b[39m\u001b[37mNeuralVerification v0.0.0 `~/.julia/dev/NeuralVerification`\u001b[39m\n",
      " \u001b[90m [511df88e] \u001b[39m\u001b[37mONSAS v0.1.0 `~/.julia/dev/ONSAS`\u001b[39m\n",
      " \u001b[90m [2aa56433] \u001b[39m\u001b[37mONSAS_docs v0.1.0 `~/.julia/dev/ONSAS_docs`\u001b[39m\n",
      " \u001b[90m [429524aa] \u001b[39m\u001b[37mOptim v1.2.0\u001b[39m\n",
      " \u001b[90m [1dea7af3] \u001b[39m\u001b[37mOrdinaryDiffEq v5.42.3\u001b[39m\n",
      " \u001b[90m [af68cb61] \u001b[39m\u001b[37mPhotometry v0.7.2 `~/.julia/dev/Photometry`\u001b[39m\n",
      " \u001b[90m [e7214860] \u001b[39m\u001b[37mPkgPage v0.2.1\u001b[39m\n",
      " \u001b[90m [91a5bcdd] \u001b[39m\u001b[37mPlots v1.4.0\u001b[39m\n",
      " \u001b[90m [67491407] \u001b[39m\u001b[37mPolyhedra v0.6.5\u001b[39m\n",
      " \u001b[90m [f27b6e38] \u001b[39m\u001b[37mPolynomials v1.1.2\u001b[39m\n",
      " \u001b[90m [08abe8d2] \u001b[39m\u001b[37mPrettyTables v0.9.1\u001b[39m\n",
      " \u001b[90m [d330b81b] \u001b[39m\u001b[37mPyPlot v2.9.0\u001b[39m\n",
      " \u001b[90m [1b4d18b6] \u001b[39m\u001b[37mRangeEnclosures v0.2.0 `~/.julia/dev/RangeEnclosures`\u001b[39m\n",
      " \u001b[90m [1e97bd63] \u001b[39m\u001b[37mReachabilityAnalysis v0.8.1 `~/.julia/dev/ReachabilityAnalysis`\u001b[39m\n",
      " \u001b[90m [20aa409e] \u001b[39m\u001b[37mReachabilityModels v0.1.0 `~/.julia/dev/ReachabilityModels`\u001b[39m\n",
      " \u001b[90m [731186ca] \u001b[39m\u001b[37mRecursiveArrayTools v2.7.2\u001b[39m\n",
      " \u001b[90m [295af30f] \u001b[39m\u001b[37mRevise v2.7.2\u001b[39m\n",
      " \u001b[90m [5f5b5750] \u001b[39m\u001b[37mSchrodinger v0.1.0 `https://github.com/jebej/Schrodinger.jl.git#master`\u001b[39m\n",
      " \u001b[90m [aa65fe97] \u001b[39m\u001b[37mSnoopCompile v2.1.1\u001b[39m\n",
      " \u001b[90m [90137ffa] \u001b[39m\u001b[37mStaticArrays v0.12.3\u001b[39m\n",
      " \u001b[90m [f22f4433] \u001b[39m\u001b[37mStringCases v0.1.0 `~/.julia/dev/StringCases`\u001b[39m\n",
      " \u001b[90m [123dc426] \u001b[39m\u001b[37mSymEngine v0.8.2\u001b[39m\n",
      " \u001b[90m [24249f21] \u001b[39m\u001b[37mSymPy v1.0.26\u001b[39m\n",
      " \u001b[90m [bd369af6] \u001b[39m\u001b[37mTables v1.1.0\u001b[39m\n",
      " \u001b[90m [314ce334] \u001b[39m\u001b[37mTaylorModels v0.3.6 `~/.julia/dev/TaylorModels`\u001b[39m\n",
      " \u001b[90m [6aa5eb33] \u001b[39m\u001b[37mTaylorSeries v0.10.6\u001b[39m\n",
      " \u001b[90m [39424ebd] \u001b[39m\u001b[37mTreeView v0.3.1\u001b[39m\n",
      " \u001b[90m [bc48ee85] \u001b[39m\u001b[37mTullio v0.2.2 `https://github.com/mcabbott/Tullio.jl.git#master`\u001b[39m\n",
      " \u001b[90m [afbbf031] \u001b[39m\u001b[37mTypedPolynomials v0.2.8\u001b[39m\n",
      " \u001b[90m [b8865327] \u001b[39m\u001b[37mUnicodePlots v1.1.0\u001b[39m\n",
      " \u001b[90m [ddb6d928] \u001b[39m\u001b[37mYAML v0.4.2\u001b[39m\n",
      " \u001b[90m [d6f4376e] \u001b[39m\u001b[37mMarkdown\u001b[39m\n"
     ]
    }
   ],
   "source": [
    "] st"
   ]
  },
  {
   "cell_type": "code",
   "execution_count": 2,
   "metadata": {},
   "outputs": [],
   "source": [
    "using Photometry, LazySets, BenchmarkTools, Test, StaticArrays"
   ]
  },
  {
   "cell_type": "markdown",
   "metadata": {},
   "source": [
    "## Existing code"
   ]
  },
  {
   "cell_type": "code",
   "execution_count": 3,
   "metadata": {},
   "outputs": [],
   "source": [
    "using Photometry.Aperture: rectangular_overlap_exact,\n",
    "                           rectangular_overlap_single_subpixel"
   ]
  },
  {
   "cell_type": "code",
   "execution_count": 4,
   "metadata": {},
   "outputs": [
    {
     "name": "stdout",
     "output_type": "stream",
     "text": [
      "\u001b[37m\u001b[1mTest Summary:         | \u001b[22m\u001b[39m\u001b[32m\u001b[1mPass  \u001b[22m\u001b[39m\u001b[36m\u001b[1mTotal\u001b[22m\u001b[39m\n",
      "overlap - rectangular | \u001b[32m   1  \u001b[39m\u001b[36m    1\u001b[39m\n"
     ]
    },
    {
     "data": {
      "text/plain": [
       "Test.DefaultTestSet(\"overlap - rectangular\", Any[Test.DefaultTestSet(\"exact\", Any[], 1, false), Test.DefaultTestSet(\"type stability\", Any[], 0, false)], 0, false)"
      ]
     },
     "execution_count": 4,
     "metadata": {},
     "output_type": "execute_result"
    }
   ],
   "source": [
    "@testset \"overlap - rectangular\" begin\n",
    "    @testset \"exact\" begin\n",
    "        @test rectangular_overlap_exact(0, 0, 1, 1, 1, 1, 0) ≈ 0.25\n",
    "    end\n",
    "\n",
    "    @testset \"type stability\" begin\n",
    "        # @inferred rectangular_overlap_exact(0, 0, 1, 1, 2, 2, 0) # TODO area in LazySets.jl not type stable\n",
    "        @inferred Photometry.Aperture.rectangular_overlap_single_subpixel(0, 0, 1, 1, 2, 2, 0, 5)\n",
    "    end\n",
    "end # overlap rectangular"
   ]
  },
  {
   "cell_type": "code",
   "execution_count": 8,
   "metadata": {},
   "outputs": [
    {
     "data": {
      "text/plain": [
       "\u001b[32m\u001b[1mTest Passed\u001b[22m\u001b[39m"
      ]
     },
     "execution_count": 8,
     "metadata": {},
     "output_type": "execute_result"
    }
   ],
   "source": [
    "@test rectangular_overlap_exact(0, 0, 1, 1, 1, 1, 0) ≈ 0.25"
   ]
  },
  {
   "cell_type": "code",
   "execution_count": 9,
   "metadata": {},
   "outputs": [
    {
     "data": {
      "text/plain": [
       "\u001b[32m\u001b[1mTest Passed\u001b[22m\u001b[39m"
      ]
     },
     "execution_count": 9,
     "metadata": {},
     "output_type": "execute_result"
    }
   ],
   "source": [
    "@test rectangular_overlap_single_subpixel(0, 0, 1, 1, 2, 2, 0, 5) ≈ 1.0"
   ]
  },
  {
   "cell_type": "markdown",
   "metadata": {},
   "source": [
    "## Inference"
   ]
  },
  {
   "cell_type": "markdown",
   "metadata": {},
   "source": [
    "Inference fails, because intersection is type unstable: if the intersection is empty, LazySets returns an empty set."
   ]
  },
  {
   "cell_type": "code",
   "execution_count": 10,
   "metadata": {},
   "outputs": [
    {
     "ename": "LoadError",
     "evalue": "return type Float64 does not match inferred return type Any",
     "output_type": "error",
     "traceback": [
      "return type Float64 does not match inferred return type Any",
      "",
      "Stacktrace:",
      " [1] error(::String) at ./error.jl:33",
      " [2] top-level scope at In[10]:1",
      " [3] include_string(::Function, ::Module, ::String, ::String) at ./loading.jl:1091"
     ]
    }
   ],
   "source": [
    "@inferred rectangular_overlap_exact(0, 0, 1, 1, 1, 1, 0)"
   ]
  },
  {
   "cell_type": "code",
   "execution_count": 11,
   "metadata": {},
   "outputs": [
    {
     "ename": "LoadError",
     "evalue": "return type Float64 does not match inferred return type Any",
     "output_type": "error",
     "traceback": [
      "return type Float64 does not match inferred return type Any",
      "",
      "Stacktrace:",
      " [1] error(::String) at ./error.jl:33",
      " [2] top-level scope at In[11]:1",
      " [3] include_string(::Function, ::Module, ::String, ::String) at ./loading.jl:1091"
     ]
    }
   ],
   "source": [
    "@inferred rectangular_overlap_exact(0, 0, 1, 1, 2, 2, 0)"
   ]
  },
  {
   "cell_type": "code",
   "execution_count": 12,
   "metadata": {},
   "outputs": [
    {
     "data": {
      "text/plain": [
       "1.0"
      ]
     },
     "execution_count": 12,
     "metadata": {},
     "output_type": "execute_result"
    }
   ],
   "source": [
    "@inferred rectangular_overlap_single_subpixel(0, 0, 1, 1, 2, 2, 0, 5)"
   ]
  },
  {
   "cell_type": "markdown",
   "metadata": {},
   "source": [
    "## Runtime"
   ]
  },
  {
   "cell_type": "code",
   "execution_count": 16,
   "metadata": {},
   "outputs": [
    {
     "name": "stdout",
     "output_type": "stream",
     "text": [
      "  7.837 μs (139 allocations: 10.86 KiB)\n"
     ]
    },
    {
     "data": {
      "text/plain": [
       "0.25"
      ]
     },
     "execution_count": 16,
     "metadata": {},
     "output_type": "execute_result"
    }
   ],
   "source": [
    "@btime rectangular_overlap_exact(0, 0, 1, 1, 1, 1, 0)"
   ]
  },
  {
   "cell_type": "code",
   "execution_count": 17,
   "metadata": {},
   "outputs": [
    {
     "name": "stdout",
     "output_type": "stream",
     "text": [
      "  7.770 μs (139 allocations: 10.86 KiB)\n"
     ]
    },
    {
     "data": {
      "text/plain": [
       "1.0"
      ]
     },
     "execution_count": 17,
     "metadata": {},
     "output_type": "execute_result"
    }
   ],
   "source": [
    "@btime rectangular_overlap_exact(0, 0, 1, 1, 2, 2, 0)"
   ]
  },
  {
   "cell_type": "code",
   "execution_count": 18,
   "metadata": {},
   "outputs": [
    {
     "name": "stdout",
     "output_type": "stream",
     "text": [
      "  152.350 ns (0 allocations: 0 bytes)\n"
     ]
    },
    {
     "data": {
      "text/plain": [
       "1.0"
      ]
     },
     "execution_count": 18,
     "metadata": {},
     "output_type": "execute_result"
    }
   ],
   "source": [
    "@btime rectangular_overlap_single_subpixel(0, 0, 1, 1, 2, 2, 0, 5)"
   ]
  },
  {
   "cell_type": "markdown",
   "metadata": {},
   "source": [
    "---"
   ]
  },
  {
   "cell_type": "markdown",
   "metadata": {},
   "source": [
    "## New method"
   ]
  },
  {
   "cell_type": "code",
   "execution_count": 33,
   "metadata": {},
   "outputs": [
    {
     "data": {
      "text/plain": [
       "_intersection_area_3 (generic function with 1 method)"
      ]
     },
     "execution_count": 33,
     "metadata": {},
     "output_type": "execute_result"
    }
   ],
   "source": [
    "# contrib: https://nbviewer.jupyter.org/github/mforets/escritoire/blob/master/2020/Week11/2D_intersection.ipynb\n",
    "# the idea is to use the intersection for HPolygon, which is faster than the fallback because the\n",
    "# normal vectors to the half-spaces are sorted in counter--clockwise fashion\n",
    "function _intersection_area(X::AbstractHyperrectangle{N},\n",
    "    Y::LinearMap{N,<:AbstractHyperrectangle{N}}) where {N}\n",
    "    X_poly = convert(VPolygon, X)\n",
    "    Y_poly = convert(VPolygon, Y)\n",
    "    inter = intersection(X_poly, Y_poly)\n",
    "\n",
    "    return inter isa EmptySet ? 0.0 : area(inter)\n",
    "end\n",
    "\n",
    "function _intersection_area_2(X::AbstractHyperrectangle{N},\n",
    "                              Y::LinearMap{N,<:AbstractHyperrectangle{N}}) where {N}\n",
    "    \n",
    "    \n",
    "    # X in vertex representation\n",
    "    cX = X.center\n",
    "    rX = X.radius\n",
    "    qX = SA[rX[1], -rX[2]]\n",
    "    Xv = [cX + rX, cX - rX, cX + qX, cX - qX]\n",
    "    LazySets._four_points_2d!(Xv)\n",
    "\n",
    "    # Y in vertex representation\n",
    "    Z = linear_map(Y.M, Y.X)\n",
    "    Zv = vertices_list(Z)\n",
    "    LazySets.convex_hull!(Zv)\n",
    "\n",
    "    Tv = LazySets._intersection_vrep(Xv, Zv)\n",
    "\n",
    "    if isempty(Tv)\n",
    "        return 0.0\n",
    "    else\n",
    "        return area(Tv)\n",
    "    end\n",
    "end\n",
    "\n",
    "function _intersection_area_3(X::AbstractHyperrectangle{N},\n",
    "    Y::LinearMap{N,<:AbstractHyperrectangle{N}}) where {N}\n",
    "    X_poly = convert(VPolygon, X)\n",
    "    Y_poly = linear_map(Y.M, convert(VPolygon, Y.X))\n",
    "\n",
    "    Tv = LazySets._intersection_vrep(X_poly.vertices, Y_poly.vertices)\n",
    "    if isempty(Tv)\n",
    "        return 0.0\n",
    "    else\n",
    "        return LazySets._area_polygon(Tv)\n",
    "    end\n",
    "    #inter = intersection(X_poly, Y_poly)\n",
    "    #return inter isa EmptySet ? 0.0 : area(inter)\n",
    "end\n",
    "\n",
    "function _intersection_area_4(X::LazySet{N}, Y::LazySet{N}) where {N}\n",
    "    vX, vY = vertices_list(X), vertices_list(Y)\n",
    "    vint = LazySets._intersection_vrep(vX, vY)\n",
    "    return isempty(vint) ? zero(N) : LazySets._area_polygon(vint)\n",
    "end"
   ]
  },
  {
   "cell_type": "code",
   "execution_count": 35,
   "metadata": {},
   "outputs": [
    {
     "data": {
      "text/plain": [
       "_rectangular_overlap_exact (generic function with 1 method)"
      ]
     },
     "execution_count": 35,
     "metadata": {},
     "output_type": "execute_result"
    }
   ],
   "source": [
    "using Photometry.Aperture: RotMatrix\n",
    "\n",
    "function _rectangular_overlap_exact(xmin, ymin, xmax, ymax, w, h, θ)\n",
    "    R = RotMatrix{2}(deg2rad(θ))\n",
    "    aper = R * Hyperrectangle(zeros(SVector{2}), SA[w / 2, h / 2])\n",
    "    dy = ymax - ymin\n",
    "    dx = xmax - xmin\n",
    "    pix = Hyperrectangle(SA[dx / 2 + xmin, dy / 2 + ymin], SA[dx / 2, dy / 2])\n",
    "    return pix, aper\n",
    "    #return _intersection_area(pix, aper)\n",
    "end"
   ]
  },
  {
   "cell_type": "markdown",
   "metadata": {},
   "source": [
    "## Inference"
   ]
  },
  {
   "cell_type": "code",
   "execution_count": 36,
   "metadata": {},
   "outputs": [
    {
     "data": {
      "text/plain": [
       "(Hyperrectangle{Float64,SArray{Tuple{2},Float64,1,2},SArray{Tuple{2},Float64,1,2}}([0.5, 0.5], [0.5, 0.5]), LinearMap{Float64,Hyperrectangle{Float64,SArray{Tuple{2},Float64,1,2},SArray{Tuple{2},Float64,1,2}},Float64,RotMatrix{2,Float64,4}}([1.0 -0.0; 0.0 1.0], Hyperrectangle{Float64,SArray{Tuple{2},Float64,1,2},SArray{Tuple{2},Float64,1,2}}([0.0, 0.0], [0.5, 0.5])))"
      ]
     },
     "execution_count": 36,
     "metadata": {},
     "output_type": "execute_result"
    }
   ],
   "source": [
    "X, Y = _rectangular_overlap_exact(0, 0, 1, 1, 1, 1, 0)"
   ]
  },
  {
   "cell_type": "code",
   "execution_count": 37,
   "metadata": {},
   "outputs": [
    {
     "data": {
      "text/plain": [
       "Hyperrectangle{Float64,SArray{Tuple{2},Float64,1,2},SArray{Tuple{2},Float64,1,2}}([0.5, 0.5], [0.5, 0.5])"
      ]
     },
     "execution_count": 37,
     "metadata": {},
     "output_type": "execute_result"
    }
   ],
   "source": [
    "X"
   ]
  },
  {
   "cell_type": "code",
   "execution_count": 38,
   "metadata": {},
   "outputs": [
    {
     "data": {
      "text/plain": [
       "LinearMap{Float64,Hyperrectangle{Float64,SArray{Tuple{2},Float64,1,2},SArray{Tuple{2},Float64,1,2}},Float64,RotMatrix{2,Float64,4}}([1.0 -0.0; 0.0 1.0], Hyperrectangle{Float64,SArray{Tuple{2},Float64,1,2},SArray{Tuple{2},Float64,1,2}}([0.0, 0.0], [0.5, 0.5]))"
      ]
     },
     "execution_count": 38,
     "metadata": {},
     "output_type": "execute_result"
    }
   ],
   "source": [
    "Y"
   ]
  },
  {
   "cell_type": "code",
   "execution_count": 40,
   "metadata": {},
   "outputs": [
    {
     "data": {
      "text/html": [
       "convert(::<b>Type{VPolygon}</b>, P::<b>AbstractPolytope</b>) in LazySets at <a href=\"https://github.com/JuliaReach/LazySets.jl/tree/6193362fc1cf5a0767ecf7d244f0e5c04f75d4d1//src/convert.jl#L128\" target=\"_blank\">/home/mforets/.julia/dev/LazySets/src/convert.jl:128</a>"
      ],
      "text/plain": [
       "convert(::Type{VPolygon}, P::AbstractPolytope) in LazySets at /home/mforets/.julia/dev/LazySets/src/convert.jl:128"
      ]
     },
     "execution_count": 40,
     "metadata": {},
     "output_type": "execute_result"
    }
   ],
   "source": [
    "@which convert(VPolygon, X)"
   ]
  },
  {
   "cell_type": "code",
   "execution_count": 42,
   "metadata": {},
   "outputs": [
    {
     "name": "stdout",
     "output_type": "stream",
     "text": [
      "  51.120 ns (2 allocations: 240 bytes)\n"
     ]
    },
    {
     "data": {
      "text/plain": [
       "4-element Array{SArray{Tuple{2},Float64,1,2},1}:\n",
       " [1.0, 1.0]\n",
       " [0.0, 1.0]\n",
       " [1.0, 0.0]\n",
       " [0.0, 0.0]"
      ]
     },
     "execution_count": 42,
     "metadata": {},
     "output_type": "execute_result"
    }
   ],
   "source": [
    "@btime vertices_list($X)"
   ]
  },
  {
   "cell_type": "code",
   "execution_count": 43,
   "metadata": {},
   "outputs": [
    {
     "data": {
      "text/html": [
       "vertices_list(H::<b>AbstractHyperrectangle{N}</b>)<i> where N<:Real</i> in LazySets at <a href=\"https://github.com/JuliaReach/LazySets.jl/tree/6193362fc1cf5a0767ecf7d244f0e5c04f75d4d1//src/Interfaces/AbstractHyperrectangle.jl#L183\" target=\"_blank\">/home/mforets/.julia/dev/LazySets/src/Interfaces/AbstractHyperrectangle.jl:183</a>"
      ],
      "text/plain": [
       "vertices_list(H::AbstractHyperrectangle{N}) where N<:Real in LazySets at /home/mforets/.julia/dev/LazySets/src/Interfaces/AbstractHyperrectangle.jl:183"
      ]
     },
     "execution_count": 43,
     "metadata": {},
     "output_type": "execute_result"
    }
   ],
   "source": [
    "@which vertices_list(X)"
   ]
  },
  {
   "cell_type": "code",
   "execution_count": 55,
   "metadata": {},
   "outputs": [
    {
     "data": {
      "text/plain": [
       "LinearMap{Float64,Hyperrectangle{Float64,SArray{Tuple{2},Float64,1,2},SArray{Tuple{2},Float64,1,2}},Float64,RotMatrix{2,Float64,4}}"
      ]
     },
     "execution_count": 55,
     "metadata": {},
     "output_type": "execute_result"
    }
   ],
   "source": [
    "typeof(Y)"
   ]
  },
  {
   "cell_type": "code",
   "execution_count": 56,
   "metadata": {},
   "outputs": [
    {
     "data": {
      "text/plain": [
       "4-element Array{Array{Float64,1},1}:\n",
       " [0.5, 0.5]\n",
       " [-0.5, 0.5]\n",
       " [-0.5, -0.5]\n",
       " [0.5, -0.5]"
      ]
     },
     "execution_count": 56,
     "metadata": {},
     "output_type": "execute_result"
    }
   ],
   "source": [
    "vertices_list(Y)"
   ]
  },
  {
   "cell_type": "code",
   "execution_count": 58,
   "metadata": {},
   "outputs": [
    {
     "data": {
      "text/plain": [
       "LinearMap{Float64,Hyperrectangle{Float64,SArray{Tuple{2},Float64,1,2},SArray{Tuple{2},Float64,1,2}},Int64,SArray{Tuple{2,2},Int64,2,4}}([1 2; 0 1], Hyperrectangle{Float64,SArray{Tuple{2},Float64,1,2},SArray{Tuple{2},Float64,1,2}}([0.0, 0.0], [0.1, 0.1]))"
      ]
     },
     "execution_count": 58,
     "metadata": {},
     "output_type": "execute_result"
    }
   ],
   "source": [
    "U = SA[1 2; 0 1] * Hyperrectangle(SA[0, 0.], SA[0.1, 0.1])"
   ]
  },
  {
   "cell_type": "code",
   "execution_count": 61,
   "metadata": {},
   "outputs": [
    {
     "data": {
      "text/html": [
       "vertices_list(lm::<b>LinearMap{N,S,NM,MAT} where MAT<:AbstractArray{NM,2} where NM where S<:LazySet{N}</b>; <i>prune</i>)<i> where N<:Real</i> in LazySets at <a href=\"https://github.com/JuliaReach/LazySets.jl/tree/6193362fc1cf5a0767ecf7d244f0e5c04f75d4d1//src/LazyOperations/LinearMap.jl#L368\" target=\"_blank\">/home/mforets/.julia/dev/LazySets/src/LazyOperations/LinearMap.jl:368</a>"
      ],
      "text/plain": [
       "vertices_list(lm::LinearMap{N,S,NM,MAT} where MAT<:AbstractArray{NM,2} where NM where S<:LazySet{N}; prune) where N<:Real in LazySets at /home/mforets/.julia/dev/LazySets/src/LazyOperations/LinearMap.jl:368"
      ]
     },
     "execution_count": 61,
     "metadata": {},
     "output_type": "execute_result"
    }
   ],
   "source": [
    "vertices_list(U)"
   ]
  },
  {
   "cell_type": "code",
   "execution_count": 65,
   "metadata": {},
   "outputs": [
    {
     "data": {
      "text/plain": [
       "_apply (generic function with 1 method)"
      ]
     },
     "execution_count": 65,
     "metadata": {},
     "output_type": "execute_result"
    }
   ],
   "source": [
    "_apply(U) = broadcast(x -> U.M*x, vertices_list(U.X))"
   ]
  },
  {
   "cell_type": "code",
   "execution_count": 148,
   "metadata": {},
   "outputs": [
    {
     "name": "stdout",
     "output_type": "stream",
     "text": [
      "  80.682 ns (3 allocations: 384 bytes)\n"
     ]
    },
    {
     "data": {
      "text/plain": [
       "4-element Array{SArray{Tuple{2},Float64,1,2},1}:\n",
       " [0.30000000000000004, 0.1]\n",
       " [0.1, 0.1]\n",
       " [-0.1, -0.1]\n",
       " [-0.30000000000000004, -0.1]"
      ]
     },
     "execution_count": 148,
     "metadata": {},
     "output_type": "execute_result"
    }
   ],
   "source": [
    "@btime _apply($U)"
   ]
  },
  {
   "cell_type": "code",
   "execution_count": 145,
   "metadata": {},
   "outputs": [
    {
     "data": {
      "text/plain": [
       "_apply_gen (generic function with 1 method)"
      ]
     },
     "execution_count": 145,
     "metadata": {},
     "output_type": "execute_result"
    }
   ],
   "source": [
    "_apply_gen(U) = broadcast(x -> U.M * x, vertices(U.X))"
   ]
  },
  {
   "cell_type": "code",
   "execution_count": 147,
   "metadata": {},
   "outputs": [
    {
     "name": "stdout",
     "output_type": "stream",
     "text": [
      "  109.414 ns (4 allocations: 528 bytes)\n"
     ]
    },
    {
     "data": {
      "text/plain": [
       "4-element Array{SArray{Tuple{2},Float64,1,2},1}:\n",
       " [0.30000000000000004, 0.1]\n",
       " [0.1, 0.1]\n",
       " [-0.1, -0.1]\n",
       " [-0.30000000000000004, -0.1]"
      ]
     },
     "execution_count": 147,
     "metadata": {},
     "output_type": "execute_result"
    }
   ],
   "source": [
    "@btime _apply_gen($U)"
   ]
  },
  {
   "cell_type": "code",
   "execution_count": null,
   "metadata": {},
   "outputs": [],
   "source": []
  },
  {
   "cell_type": "code",
   "execution_count": 69,
   "metadata": {},
   "outputs": [
    {
     "name": "stdout",
     "output_type": "stream",
     "text": [
      "  275.497 ns (9 allocations: 864 bytes)\n"
     ]
    },
    {
     "data": {
      "text/plain": [
       "4-element Array{Array{Float64,1},1}:\n",
       " [0.30000000000000004, 0.1]\n",
       " [0.1, 0.1]\n",
       " [-0.30000000000000004, -0.1]\n",
       " [-0.1, -0.1]"
      ]
     },
     "execution_count": 69,
     "metadata": {},
     "output_type": "execute_result"
    }
   ],
   "source": [
    "@btime vertices_list($U)"
   ]
  },
  {
   "cell_type": "code",
   "execution_count": 71,
   "metadata": {
    "scrolled": true
   },
   "outputs": [
    {
     "data": {
      "text/html": [
       "vertices_list(lm::<b>LinearMap{N,S,NM,MAT} where MAT<:AbstractArray{NM,2} where NM where S<:LazySet{N}</b>; <i>prune</i>)<i> where N<:Real</i> in LazySets at <a href=\"https://github.com/JuliaReach/LazySets.jl/tree/6193362fc1cf5a0767ecf7d244f0e5c04f75d4d1//src/LazyOperations/LinearMap.jl#L368\" target=\"_blank\">/home/mforets/.julia/dev/LazySets/src/LazyOperations/LinearMap.jl:368</a>"
      ],
      "text/plain": [
       "vertices_list(lm::LinearMap{N,S,NM,MAT} where MAT<:AbstractArray{NM,2} where NM where S<:LazySet{N}; prune) where N<:Real in LazySets at /home/mforets/.julia/dev/LazySets/src/LazyOperations/LinearMap.jl:368"
      ]
     },
     "execution_count": 71,
     "metadata": {},
     "output_type": "execute_result"
    }
   ],
   "source": [
    "@which vertices_list(U)"
   ]
  },
  {
   "cell_type": "code",
   "execution_count": 149,
   "metadata": {},
   "outputs": [
    {
     "data": {
      "text/plain": [
       "_vertices_list4 (generic function with 1 method)"
      ]
     },
     "execution_count": 149,
     "metadata": {},
     "output_type": "execute_result"
    }
   ],
   "source": [
    "function _vertices_list(lm::LinearMap{N}; prune::Bool=true) where {N<:Real}\n",
    "    # collect low-dimensional vertices lists\n",
    "    vlist_X = vertices_list(lm.X)\n",
    "    \n",
    "    vlist = broadcast(x -> lm.M * x, vlist_X)\n",
    "\n",
    "    # create resulting vertices list\n",
    " #=   vlist = Vector{eltype(vlist_X)}()\n",
    "    sizehint!(vlist, length(vlist_X))\n",
    "    for v in vlist_X\n",
    "        push!(vlist, lm.M * v)\n",
    "    end\n",
    "=#\n",
    "    return prune ? convex_hull(vlist) : vlist\n",
    "    #return vlist\n",
    "end\n",
    "\n",
    "function _vertices_list3(lm::LinearMap{N}) where {N}\n",
    "    vlist_X = vertices_list(lm.X)\n",
    "    vlist = broadcast(x -> lm.M * x, vlist_X)\n",
    "    return vlist \n",
    "end\n",
    "\n",
    "function _vertices_list4(lm::LinearMap{N}) where {N}\n",
    "    return vertices_list(linear_map(lm.M, lm.X))\n",
    "end"
   ]
  },
  {
   "cell_type": "code",
   "execution_count": 159,
   "metadata": {},
   "outputs": [
    {
     "name": "stdout",
     "output_type": "stream",
     "text": [
      "  1.932 μs (33 allocations: 2.00 KiB)\n"
     ]
    },
    {
     "data": {
      "text/plain": [
       "4-element Array{SArray{Tuple{2},Float64,1,2},1}:\n",
       " [0.30000000000000004, 0.1]\n",
       " [0.1, 0.1]\n",
       " [-0.30000000000000004, -0.1]\n",
       " [-0.1, -0.1]"
      ]
     },
     "execution_count": 159,
     "metadata": {},
     "output_type": "execute_result"
    }
   ],
   "source": [
    "#vertices_list(linear_map(U.M, U.X))\n",
    "@btime _vertices_list4($U)"
   ]
  },
  {
   "cell_type": "code",
   "execution_count": 136,
   "metadata": {},
   "outputs": [
    {
     "data": {
      "text/plain": [
       "4-element Array{SArray{Tuple{2},Float64,1,2},1}:\n",
       " [0.30000000000000004, 0.1]\n",
       " [0.1, 0.1]\n",
       " [-0.30000000000000004, -0.1]\n",
       " [-0.1, -0.1]"
      ]
     },
     "execution_count": 136,
     "metadata": {},
     "output_type": "execute_result"
    }
   ],
   "source": [
    "@inferred _vertices_list(U)"
   ]
  },
  {
   "cell_type": "code",
   "execution_count": 137,
   "metadata": {},
   "outputs": [
    {
     "name": "stdout",
     "output_type": "stream",
     "text": [
      "  80.356 ns (3 allocations: 384 bytes)\n"
     ]
    },
    {
     "data": {
      "text/plain": [
       "4-element Array{SArray{Tuple{2},Float64,1,2},1}:\n",
       " [0.30000000000000004, 0.1]\n",
       " [0.1, 0.1]\n",
       " [-0.1, -0.1]\n",
       " [-0.30000000000000004, -0.1]"
      ]
     },
     "execution_count": 137,
     "metadata": {},
     "output_type": "execute_result"
    }
   ],
   "source": [
    "@btime _vertices_list($U, prune=false)"
   ]
  },
  {
   "cell_type": "code",
   "execution_count": 138,
   "metadata": {},
   "outputs": [
    {
     "name": "stdout",
     "output_type": "stream",
     "text": [
      "  118.075 ns (4 allocations: 528 bytes)\n"
     ]
    },
    {
     "data": {
      "text/plain": [
       "4-element Array{SArray{Tuple{2},Float64,1,2},1}:\n",
       " [0.30000000000000004, 0.1]\n",
       " [0.1, 0.1]\n",
       " [-0.30000000000000004, -0.1]\n",
       " [-0.1, -0.1]"
      ]
     },
     "execution_count": 138,
     "metadata": {},
     "output_type": "execute_result"
    }
   ],
   "source": [
    "@btime _vertices_list($U, prune=true)"
   ]
  },
  {
   "cell_type": "code",
   "execution_count": 130,
   "metadata": {},
   "outputs": [
    {
     "name": "stdout",
     "output_type": "stream",
     "text": [
      "  80.521 ns (3 allocations: 384 bytes)\n"
     ]
    },
    {
     "data": {
      "text/plain": [
       "4-element Array{SArray{Tuple{2},Float64,1,2},1}:\n",
       " [0.30000000000000004, 0.1]\n",
       " [0.1, 0.1]\n",
       " [-0.1, -0.1]\n",
       " [-0.30000000000000004, -0.1]"
      ]
     },
     "execution_count": 130,
     "metadata": {},
     "output_type": "execute_result"
    }
   ],
   "source": [
    "@btime _vertices_list2($U)"
   ]
  },
  {
   "cell_type": "code",
   "execution_count": 132,
   "metadata": {},
   "outputs": [
    {
     "name": "stdout",
     "output_type": "stream",
     "text": [
      "  81.533 ns (3 allocations: 384 bytes)\n"
     ]
    },
    {
     "data": {
      "text/plain": [
       "4-element Array{SArray{Tuple{2},Float64,1,2},1}:\n",
       " [0.30000000000000004, 0.1]\n",
       " [0.1, 0.1]\n",
       " [-0.1, -0.1]\n",
       " [-0.30000000000000004, -0.1]"
      ]
     },
     "execution_count": 132,
     "metadata": {},
     "output_type": "execute_result"
    }
   ],
   "source": [
    "@btime _vertices_list3($U)"
   ]
  },
  {
   "cell_type": "code",
   "execution_count": 133,
   "metadata": {},
   "outputs": [
    {
     "name": "stdout",
     "output_type": "stream",
     "text": [
      "  80.350 ns (3 allocations: 384 bytes)\n"
     ]
    },
    {
     "data": {
      "text/plain": [
       "4-element Array{SArray{Tuple{2},Float64,1,2},1}:\n",
       " [0.30000000000000004, 0.1]\n",
       " [0.1, 0.1]\n",
       " [-0.1, -0.1]\n",
       " [-0.30000000000000004, -0.1]"
      ]
     },
     "execution_count": 133,
     "metadata": {},
     "output_type": "execute_result"
    }
   ],
   "source": [
    "@btime _apply($U)"
   ]
  },
  {
   "cell_type": "code",
   "execution_count": 134,
   "metadata": {},
   "outputs": [
    {
     "data": {
      "text/plain": [
       "LinearMap{Float64,Hyperrectangle{Float64,SArray{Tuple{2},Float64,1,2},SArray{Tuple{2},Float64,1,2}},Int64,SArray{Tuple{2,2},Int64,2,4}}([1 2; 0 1], Hyperrectangle{Float64,SArray{Tuple{2},Float64,1,2},SArray{Tuple{2},Float64,1,2}}([0.0, 0.0], [0.1, 0.1]))"
      ]
     },
     "execution_count": 134,
     "metadata": {},
     "output_type": "execute_result"
    }
   ],
   "source": [
    "U"
   ]
  },
  {
   "cell_type": "code",
   "execution_count": 139,
   "metadata": {},
   "outputs": [
    {
     "data": {
      "text/plain": [
       "Zonotope{Float64,SArray{Tuple{2},Float64,1,2},SArray{Tuple{2,2},Float64,2,4}}([1.0, 1.0], [1.0 0.0; 0.0 1.0])"
      ]
     },
     "execution_count": 139,
     "metadata": {},
     "output_type": "execute_result"
    }
   ],
   "source": [
    "B = BallInf(SVector{2}(1., 1.), 1.)\n",
    "\n",
    "convert(Zonotope, B)"
   ]
  },
  {
   "cell_type": "code",
   "execution_count": 140,
   "metadata": {},
   "outputs": [
    {
     "data": {
      "text/plain": [
       "2-element Array{Zonotope{Float64,SArray{Tuple{2},Float64,1,2},SArray{Tuple{2,2},Float64,2,4}},1}:\n",
       " Zonotope{Float64,SArray{Tuple{2},Float64,1,2},SArray{Tuple{2,2},Float64,2,4}}([0.5, 1.0], [0.5 0.0; 0.0 1.0])\n",
       " Zonotope{Float64,SArray{Tuple{2},Float64,1,2},SArray{Tuple{2,2},Float64,2,4}}([1.5, 1.0], [0.5 0.0; 0.0 1.0])"
      ]
     },
     "execution_count": 140,
     "metadata": {},
     "output_type": "execute_result"
    }
   ],
   "source": [
    "split(B, [1], [1])"
   ]
  },
  {
   "cell_type": "code",
   "execution_count": 109,
   "metadata": {},
   "outputs": [
    {
     "name": "stdout",
     "output_type": "stream",
     "text": [
      "  276.247 ns (9 allocations: 864 bytes)\n"
     ]
    },
    {
     "data": {
      "text/plain": [
       "4-element Array{Array{Float64,1},1}:\n",
       " [0.30000000000000004, 0.1]\n",
       " [0.1, 0.1]\n",
       " [-0.30000000000000004, -0.1]\n",
       " [-0.1, -0.1]"
      ]
     },
     "execution_count": 109,
     "metadata": {},
     "output_type": "execute_result"
    }
   ],
   "source": [
    "@btime vertices_list($U)"
   ]
  },
  {
   "cell_type": "code",
   "execution_count": 99,
   "metadata": {},
   "outputs": [
    {
     "ename": "LoadError",
     "evalue": "return type Array{SArray{Tuple{2},Float64,1,2},1} does not match inferred return type Union{Array{Array{Float64,1},1}, Array{SArray{Tuple{2},Float64,1,2},1}}",
     "output_type": "error",
     "traceback": [
      "return type Array{SArray{Tuple{2},Float64,1,2},1} does not match inferred return type Union{Array{Array{Float64,1},1}, Array{SArray{Tuple{2},Float64,1,2},1}}",
      "",
      "Stacktrace:",
      " [1] error(::String) at ./error.jl:33",
      " [2] top-level scope at In[99]:1",
      " [3] include_string(::Function, ::Module, ::String, ::String) at ./loading.jl:1091"
     ]
    }
   ],
   "source": [
    "@inferred _vertices_list(U)"
   ]
  },
  {
   "cell_type": "code",
   "execution_count": 85,
   "metadata": {},
   "outputs": [
    {
     "name": "stdout",
     "output_type": "stream",
     "text": [
      "  156.068 ns (5 allocations: 544 bytes)\n"
     ]
    },
    {
     "data": {
      "text/plain": [
       "4-element Array{SArray{Tuple{2},Float64,1,2},1}:\n",
       " [0.30000000000000004, 0.1]\n",
       " [0.1, 0.1]\n",
       " [-0.30000000000000004, -0.1]\n",
       " [-0.1, -0.1]"
      ]
     },
     "execution_count": 85,
     "metadata": {},
     "output_type": "execute_result"
    }
   ],
   "source": [
    "@btime _vertices_list($U, prune=true)"
   ]
  },
  {
   "cell_type": "code",
   "execution_count": 86,
   "metadata": {},
   "outputs": [
    {
     "name": "stdout",
     "output_type": "stream",
     "text": [
      "  116.013 ns (4 allocations: 400 bytes)\n"
     ]
    },
    {
     "data": {
      "text/plain": [
       "4-element Array{SArray{Tuple{2},Float64,1,2},1}:\n",
       " [0.30000000000000004, 0.1]\n",
       " [0.1, 0.1]\n",
       " [-0.1, -0.1]\n",
       " [-0.30000000000000004, -0.1]"
      ]
     },
     "execution_count": 86,
     "metadata": {},
     "output_type": "execute_result"
    }
   ],
   "source": [
    "@btime _vertices_list($U, prune=false)"
   ]
  },
  {
   "cell_type": "code",
   "execution_count": 6,
   "metadata": {},
   "outputs": [
    {
     "data": {
      "text/plain": [
       "Zonotope{Float64,SArray{Tuple{2},Float64,1,2},Array{Float64,2}}([5.0, 11.0], [2.0 4.0; 6.0 8.0])"
      ]
     },
     "execution_count": 6,
     "metadata": {},
     "output_type": "execute_result"
    }
   ],
   "source": [
    "a = SA[1 2;3 4.]\n",
    "b = Hyperrectangle(SA[1., 2], SA[2., 2.])\n",
    "linear_map(a, b)"
   ]
  },
  {
   "cell_type": "code",
   "execution_count": 9,
   "metadata": {},
   "outputs": [
    {
     "data": {
      "text/html": [
       "linear_map(M::<b>AbstractArray{N,2}</b>, Z::<b>AbstractZonotope{N}</b>)<i> where N<:Real</i> in LazySets at <a href=\"https://github.com/JuliaReach/LazySets.jl/tree/68489b66032ec4a6817ffb06e1f1d145e5df0ba3//src/Interfaces/AbstractZonotope.jl#L339\" target=\"_blank\">/home/mforets/.julia/dev/LazySets/src/Interfaces/AbstractZonotope.jl:339</a>"
      ],
      "text/plain": [
       "linear_map(M::AbstractArray{N,2}, Z::AbstractZonotope{N}) where N<:Real in LazySets at /home/mforets/.julia/dev/LazySets/src/Interfaces/AbstractZonotope.jl:339"
      ]
     },
     "execution_count": 9,
     "metadata": {},
     "output_type": "execute_result"
    }
   ],
   "source": [
    "# linear_map(a, convert(Zonotope, b)) # OK\n",
    "@which linear_map(a, b)"
   ]
  },
  {
   "cell_type": "code",
   "execution_count": 23,
   "metadata": {},
   "outputs": [
    {
     "data": {
      "text/plain": [
       "0.25"
      ]
     },
     "execution_count": 23,
     "metadata": {},
     "output_type": "execute_result"
    }
   ],
   "source": [
    "@inferred _rectangular_overlap_exact(0, 0, 1, 1, 1, 1, 0)"
   ]
  },
  {
   "cell_type": "code",
   "execution_count": 24,
   "metadata": {},
   "outputs": [
    {
     "name": "stdout",
     "output_type": "stream",
     "text": [
      "  903.314 ns (28 allocations: 2.78 KiB)\n"
     ]
    },
    {
     "data": {
      "text/plain": [
       "0.25"
      ]
     },
     "execution_count": 24,
     "metadata": {},
     "output_type": "execute_result"
    }
   ],
   "source": [
    "@btime _rectangular_overlap_exact(0, 0, 1, 1, 1, 1, 0)"
   ]
  },
  {
   "cell_type": "code",
   "execution_count": 16,
   "metadata": {},
   "outputs": [
    {
     "data": {
      "text/plain": [
       "Hyperrectangle{Float64,SArray{Tuple{2},Float64,1,2},SArray{Tuple{2},Float64,1,2}}([0.5, 0.5], [0.5, 0.5])"
      ]
     },
     "execution_count": 16,
     "metadata": {},
     "output_type": "execute_result"
    }
   ],
   "source": [
    "H = Hyperrectangle(SA[0.5, 0.5], SA[0.5, 0.5])"
   ]
  },
  {
   "cell_type": "code",
   "execution_count": 17,
   "metadata": {},
   "outputs": [
    {
     "data": {
      "text/plain": [
       "VPolygon{Float64,SArray{Tuple{2},Float64,1,2}}(SArray{Tuple{2},Float64,1,2}[[1.0, 1.0], [0.0, 1.0], [0.0, 0.0], [1.0, 0.0]])"
      ]
     },
     "execution_count": 17,
     "metadata": {},
     "output_type": "execute_result"
    }
   ],
   "source": [
    "convert(VPolygon, H)"
   ]
  },
  {
   "cell_type": "code",
   "execution_count": 21,
   "metadata": {},
   "outputs": [
    {
     "data": {
      "text/plain": [
       "2-element SArray{Tuple{2},Float64,1,2} with indices SOneTo(2):\n",
       "  0.5\n",
       " -0.5"
      ]
     },
     "execution_count": 21,
     "metadata": {},
     "output_type": "execute_result"
    }
   ],
   "source": [
    "SA[H.radius[1], -H.radius[2]]"
   ]
  },
  {
   "cell_type": "code",
   "execution_count": 22,
   "metadata": {},
   "outputs": [
    {
     "data": {
      "text/plain": [
       "4-element Array{SArray{Tuple{2},Float64,1,2},1}:\n",
       " [1.0, 1.0]\n",
       " [0.0, 1.0]\n",
       " [0.0, 0.0]\n",
       " [1.0, 0.0]"
      ]
     },
     "execution_count": 22,
     "metadata": {},
     "output_type": "execute_result"
    }
   ],
   "source": [
    "r = SA[H.radius[1], -H.radius[2]]\n",
    "\n",
    "points = [H.center + H.radius,\n",
    "          H.center - H.radius,\n",
    "          H.center + r,\n",
    "          H.center - r]\n",
    "\n",
    "LazySets._four_points_2d!(points)"
   ]
  },
  {
   "cell_type": "code",
   "execution_count": 23,
   "metadata": {},
   "outputs": [
    {
     "ename": "LoadError",
     "evalue": "MethodError: no method matching _intersection_vrep(::Array{SArray{Tuple{2},Float64,1,2},1}, ::Array{Array{Float64,1},1})\nClosest candidates are:\n  _intersection_vrep(::Array{VT,1}, !Matched::Array{VT,1}) where {N, VT<:AbstractArray{N,1}} at /home/mforets/.julia/dev/LazySets/src/Sets/VPolygon.jl:669",
     "output_type": "error",
     "traceback": [
      "MethodError: no method matching _intersection_vrep(::Array{SArray{Tuple{2},Float64,1,2},1}, ::Array{Array{Float64,1},1})\nClosest candidates are:\n  _intersection_vrep(::Array{VT,1}, !Matched::Array{VT,1}) where {N, VT<:AbstractArray{N,1}} at /home/mforets/.julia/dev/LazySets/src/Sets/VPolygon.jl:669",
      "",
      "Stacktrace:",
      " [1] _intersection_area_2(::Hyperrectangle{Float64,SArray{Tuple{2},Float64,1,2},SArray{Tuple{2},Float64,1,2}}, ::LinearMap{Float64,Hyperrectangle{Float64,SArray{Tuple{2},Float64,1,2},SArray{Tuple{2},Float64,1,2}},Float64,RotMatrix{2,Float64,4}}) at ./In[15]:29",
      " [2] _rectangular_overlap_exact(::Int64, ::Int64, ::Int64, ::Int64, ::Int64, ::Int64, ::Int64) at ./In[16]:9",
      " [3] top-level scope at In[23]:1",
      " [4] include_string(::Function, ::Module, ::String, ::String) at ./loading.jl:1091"
     ]
    }
   ],
   "source": [
    "x = _rectangular_overlap_exact(0, 0, 1, 1, 1, 1, 0)"
   ]
  },
  {
   "cell_type": "code",
   "execution_count": 24,
   "metadata": {},
   "outputs": [
    {
     "ename": "LoadError",
     "evalue": "UndefVarError: x not defined",
     "output_type": "error",
     "traceback": [
      "UndefVarError: x not defined",
      "",
      "Stacktrace:",
      " [1] top-level scope at In[24]:1",
      " [2] include_string(::Function, ::Module, ::String, ::String) at ./loading.jl:1091"
     ]
    }
   ],
   "source": [
    "Z = linear_map(x.M, x.X)"
   ]
  },
  {
   "cell_type": "code",
   "execution_count": 25,
   "metadata": {},
   "outputs": [
    {
     "ename": "LoadError",
     "evalue": "UndefVarError: Z not defined",
     "output_type": "error",
     "traceback": [
      "UndefVarError: Z not defined",
      "",
      "Stacktrace:",
      " [1] top-level scope at In[25]:1",
      " [2] include_string(::Function, ::Module, ::String, ::String) at ./loading.jl:1091"
     ]
    }
   ],
   "source": [
    "vertices_list(Z)"
   ]
  },
  {
   "cell_type": "code",
   "execution_count": 26,
   "metadata": {},
   "outputs": [
    {
     "data": {
      "text/plain": [
       "_angles (generic function with 1 method)"
      ]
     },
     "execution_count": 26,
     "metadata": {},
     "output_type": "execute_result"
    }
   ],
   "source": [
    "@inline function _angles(point::AbstractVector{N})  where{N}\n",
    "    (atand(point[2], point[1]) + 360) % 360\n",
    "end"
   ]
  },
  {
   "cell_type": "code",
   "execution_count": 27,
   "metadata": {},
   "outputs": [
    {
     "data": {
      "text/plain": [
       "45.0"
      ]
     },
     "execution_count": 27,
     "metadata": {},
     "output_type": "execute_result"
    }
   ],
   "source": [
    "_angles([1.0, 1.0])"
   ]
  },
  {
   "cell_type": "code",
   "execution_count": 28,
   "metadata": {},
   "outputs": [
    {
     "data": {
      "text/plain": [
       "_vertices_list_2D_v2 (generic function with 1 method)"
      ]
     },
     "execution_count": 28,
     "metadata": {},
     "output_type": "execute_result"
    }
   ],
   "source": [
    "function _single_quadrant_vertices_enum(G::AbstractMatrix{N}, sorted::Bool=true) where{N}\n",
    "    if !sorted\n",
    "        G = sortslices(G, dims=2, by=_angles)\n",
    "    end\n",
    "    return VPolygon(2*cumsum(hcat(G, -G), dims=2) .- sum(G, dims=2))\n",
    "end\n",
    "\n",
    "function _vertices_list_2D(c::AbstractVector{N}, G::AbstractMatrix{N}; apply_convex_hull::Bool) where {N}\n",
    "    if apply_convex_hull\n",
    "        return _vertices_list_iterative(c, G, apply_convex_hull=apply_convex_hull)\n",
    "    end\n",
    "    angles = mapslices(_angles, G, dims=1)[1, :]\n",
    "    perm = sortperm(angles)\n",
    "    sorted_angles = angles[perm]\n",
    "    sorted_G = G[:, perm]\n",
    "    polygons  = Vector{VPolygon{N}}()\n",
    "    sizehint!(polygons, 4)\n",
    "\n",
    "    @inbounds for i in zip(0:90:360, 90:90:360)\n",
    "        index = i[1] .<= sorted_angles .< i[2]\n",
    "        if sum(index) > 0\n",
    "            push!(polygons, _single_quadrant_vertices_enum(sorted_G[:, index]))\n",
    "        end\n",
    "    end\n",
    "\n",
    "    return vertices_list(translate(reduce(minkowski_sum, polygons), c))\n",
    "end\n",
    "\n",
    "function _vertices_list_2D_v2(c::AbstractVector{N}, G::AbstractMatrix{N}; apply_convex_hull::Bool) where {N}\n",
    "    if apply_convex_hull\n",
    "        return _vertices_list_iterative(c, G, apply_convex_hull=apply_convex_hull)\n",
    "    end\n",
    "    angles = mapslices(_angles, G, dims=1)[1, :]\n",
    "    perm = sortperm(angles)\n",
    "    sorted_angles = angles[perm]\n",
    "    sorted_G = G[:, perm]\n",
    "    polygons  = Vector{VPolygon{N}}()\n",
    "    sizehint!(polygons, 4)\n",
    "\n",
    "    @inbounds for i in zip(0:90:360, 90:90:360)\n",
    "        index = i[1] .<= sorted_angles .< i[2]\n",
    "        if sum(index) > 0\n",
    "            push!(polygons, _single_quadrant_vertices_enum(sorted_G[:, index]))\n",
    "        end\n",
    "    end\n",
    "\n",
    "    return vertices_list(translate(reduce(minkowski_sum, polygons), c))\n",
    "end"
   ]
  },
  {
   "cell_type": "code",
   "execution_count": 29,
   "metadata": {},
   "outputs": [
    {
     "ename": "LoadError",
     "evalue": "UndefVarError: Z not defined",
     "output_type": "error",
     "traceback": [
      "UndefVarError: Z not defined",
      "",
      "Stacktrace:",
      " [1] top-level scope at In[29]:4",
      " [2] include_string(::Function, ::Module, ::String, ::String) at ./loading.jl:1091"
     ]
    }
   ],
   "source": [
    "Y = Zonotope(SA[1, 2.], SA[1 2; 3 4.])\n",
    "#vertices_list(Y)\n",
    "#@_vertices_list_2D(Y.center, Y.generators, apply_convex_hull=false)\n",
    "Z.generators"
   ]
  },
  {
   "cell_type": "code",
   "execution_count": 30,
   "metadata": {},
   "outputs": [
    {
     "data": {
      "text/plain": [
       "4-element Array{Array{Float64,1},1}:\n",
       " [-0.652669015855391, -3.438102751864682]\n",
       " [-0.5977131905886871, -2.7558198838847914]\n",
       " [0.7077253854876829, -0.8949415857926888]\n",
       " [0.7626812107543869, -0.21265871781279833]"
      ]
     },
     "execution_count": 30,
     "metadata": {},
     "output_type": "execute_result"
    }
   ],
   "source": [
    "Z = rand(Zonotope, num_generators=2)\n",
    "vertices_list(Z)"
   ]
  },
  {
   "cell_type": "code",
   "execution_count": 31,
   "metadata": {},
   "outputs": [
    {
     "name": "stdout",
     "output_type": "stream",
     "text": [
      "  4.538 μs (29 allocations: 2.08 KiB)\n"
     ]
    },
    {
     "data": {
      "text/plain": [
       "4-element Array{Array{Float64,1},1}:\n",
       " [-0.652669015855391, -3.438102751864682]\n",
       " [-0.5977131905886871, -2.7558198838847914]\n",
       " [0.7077253854876829, -0.8949415857926888]\n",
       " [0.7626812107543869, -0.21265871781279833]"
      ]
     },
     "execution_count": 31,
     "metadata": {},
     "output_type": "execute_result"
    }
   ],
   "source": [
    "@btime vertices_list($Z)"
   ]
  },
  {
   "cell_type": "code",
   "execution_count": 41,
   "metadata": {},
   "outputs": [
    {
     "data": {
      "text/plain": [
       "_vertices_list_iterative_ord1 (generic function with 1 method)"
      ]
     },
     "execution_count": 41,
     "metadata": {},
     "output_type": "execute_result"
    }
   ],
   "source": [
    "function _vertices_list_iterative_ord1(c::VT, G::MT; apply_convex_hull::Bool) where {N, VT<:AbstractVector{N}, MT}\n",
    "    vlist = Vector{VT}(undef, 4)\n",
    "    a = [one(N), one(N)]\n",
    "    b = [one(N), -one(N)]\n",
    "    @inbounds begin\n",
    "        vlist[1] = c .+ G * a\n",
    "        vlist[2] = c .- G * a\n",
    "        vlist[3] = c .+ G * b\n",
    "        vlist[4] = c .- G * b\n",
    "    end\n",
    "    return apply_convex_hull ? LazySets._four_points_2d!(vlist) : vlist\n",
    "end"
   ]
  },
  {
   "cell_type": "code",
   "execution_count": 62,
   "metadata": {},
   "outputs": [
    {
     "name": "stdout",
     "output_type": "stream",
     "text": [
      "  2.711 μs (45 allocations: 2.91 KiB)\n"
     ]
    },
    {
     "data": {
      "text/plain": [
       "4-element Array{Array{Float64,1},1}:\n",
       " [4.710910014978195, 0.5552291684001949]\n",
       " [4.20896157428746, 2.9178947335717162]\n",
       " [-0.19525542001184615, 2.516543924443947]\n",
       " [0.30669302067888915, 0.15387835927242577]"
      ]
     },
     "execution_count": 62,
     "metadata": {},
     "output_type": "execute_result"
    }
   ],
   "source": [
    "Z = rand(Zonotope, num_generators=2)\n",
    "@btime vertices_list($Z)"
   ]
  },
  {
   "cell_type": "code",
   "execution_count": 63,
   "metadata": {},
   "outputs": [
    {
     "name": "stdout",
     "output_type": "stream",
     "text": [
      "  486.469 ns (11 allocations: 1.05 KiB)\n"
     ]
    },
    {
     "data": {
      "text/plain": [
       "4-element Array{Array{Float64,1},1}:\n",
       " [4.710910014978195, 0.5552291684001949]\n",
       " [-0.19525542001184615, 2.516543924443947]\n",
       " [0.30669302067888915, 0.15387835927242577]\n",
       " [4.20896157428746, 2.9178947335717162]"
      ]
     },
     "execution_count": 63,
     "metadata": {},
     "output_type": "execute_result"
    }
   ],
   "source": [
    "@btime _vertices_list_iterative_ord1($Z.center, $Z.generators, apply_convex_hull=false)"
   ]
  },
  {
   "cell_type": "code",
   "execution_count": 65,
   "metadata": {},
   "outputs": [
    {
     "name": "stdout",
     "output_type": "stream",
     "text": [
      "  498.565 ns (11 allocations: 1.05 KiB)\n"
     ]
    },
    {
     "data": {
      "text/plain": [
       "4-element Array{Array{Float64,1},1}:\n",
       " [4.710910014978195, 0.5552291684001949]\n",
       " [4.20896157428746, 2.9178947335717162]\n",
       " [-0.19525542001184615, 2.516543924443947]\n",
       " [0.30669302067888915, 0.15387835927242577]"
      ]
     },
     "execution_count": 65,
     "metadata": {},
     "output_type": "execute_result"
    }
   ],
   "source": [
    "@btime _vertices_list_iterative_ord1($Z.center, $Z.generators, apply_convex_hull=true)"
   ]
  },
  {
   "cell_type": "code",
   "execution_count": 74,
   "metadata": {},
   "outputs": [],
   "source": [
    "cs = SVector{2}(Z.center)\n",
    "Gs = SMatrix{2, 2}(Z.generators);"
   ]
  },
  {
   "cell_type": "code",
   "execution_count": 75,
   "metadata": {},
   "outputs": [
    {
     "name": "stdout",
     "output_type": "stream",
     "text": [
      "  68.916 ns (3 allocations: 336 bytes)\n"
     ]
    },
    {
     "data": {
      "text/plain": [
       "4-element Array{SArray{Tuple{2},Float64,1,2},1}:\n",
       " [4.710910014978195, 0.5552291684001949]\n",
       " [-0.19525542001184615, 2.516543924443947]\n",
       " [0.30669302067888915, 0.15387835927242577]\n",
       " [4.20896157428746, 2.9178947335717162]"
      ]
     },
     "execution_count": 75,
     "metadata": {},
     "output_type": "execute_result"
    }
   ],
   "source": [
    "@btime _vertices_list_iterative_ord1($cs, $Gs, apply_convex_hull=false)"
   ]
  },
  {
   "cell_type": "code",
   "execution_count": 76,
   "metadata": {},
   "outputs": [
    {
     "name": "stdout",
     "output_type": "stream",
     "text": [
      "  79.388 ns (3 allocations: 336 bytes)\n"
     ]
    },
    {
     "data": {
      "text/plain": [
       "4-element Array{SArray{Tuple{2},Float64,1,2},1}:\n",
       " [4.710910014978195, 0.5552291684001949]\n",
       " [4.20896157428746, 2.9178947335717162]\n",
       " [-0.19525542001184615, 2.516543924443947]\n",
       " [0.30669302067888915, 0.15387835927242577]"
      ]
     },
     "execution_count": 76,
     "metadata": {},
     "output_type": "execute_result"
    }
   ],
   "source": [
    "@btime _vertices_list_iterative_ord1($cs, $Gs, apply_convex_hull=true)"
   ]
  },
  {
   "cell_type": "code",
   "execution_count": 66,
   "metadata": {},
   "outputs": [
    {
     "data": {
      "text/plain": [
       "_vertices_list_iterative_v2 (generic function with 1 method)"
      ]
     },
     "execution_count": 66,
     "metadata": {},
     "output_type": "execute_result"
    }
   ],
   "source": [
    "function _vertices_list_iterative_v2(c::VT, G::MT; apply_convex_hull::Bool) where {N, VT<:AbstractVector{N}, MT}\n",
    "    p = size(G, 2)\n",
    "    vlist = Vector{VT}()\n",
    "    sizehint!(vlist, 2^p)\n",
    "\n",
    "    for ξi in Iterators.product([[1, -1] for i = 1:p]...)\n",
    "        push!(vlist, c .+ G * collect(ξi))\n",
    "    end\n",
    "\n",
    "    return apply_convex_hull ? convex_hull!(vlist) : vlist\n",
    "end"
   ]
  },
  {
   "cell_type": "code",
   "execution_count": 67,
   "metadata": {},
   "outputs": [
    {
     "name": "stdout",
     "output_type": "stream",
     "text": [
      "  2.763 μs (43 allocations: 2.78 KiB)\n"
     ]
    },
    {
     "data": {
      "text/plain": [
       "4-element Array{Array{Float64,1},1}:\n",
       " [4.710910014978195, 0.5552291684001949]\n",
       " [4.20896157428746, 2.9178947335717162]\n",
       " [0.30669302067888915, 0.15387835927242577]\n",
       " [-0.19525542001184615, 2.516543924443947]"
      ]
     },
     "execution_count": 67,
     "metadata": {},
     "output_type": "execute_result"
    }
   ],
   "source": [
    "@btime _vertices_list_iterative_v2($Z.center, $Z.generators, apply_convex_hull=false)"
   ]
  },
  {
   "cell_type": "code",
   "execution_count": 68,
   "metadata": {},
   "outputs": [
    {
     "name": "stdout",
     "output_type": "stream",
     "text": [
      "  2.273 μs (47 allocations: 2.38 KiB)\n"
     ]
    },
    {
     "data": {
      "text/plain": [
       "4-element Array{SArray{Tuple{2},Float64,1,2},1}:\n",
       " [0.7626812107543869, -0.21265871781279833]\n",
       " [-0.5977131905886871, -2.7558198838847914]\n",
       " [0.7077253854876829, -0.8949415857926888]\n",
       " [-0.652669015855391, -3.438102751864682]"
      ]
     },
     "execution_count": 68,
     "metadata": {},
     "output_type": "execute_result"
    }
   ],
   "source": [
    "@btime _vertices_list_iterative_v2($cs, $Gs, apply_convex_hull=false)"
   ]
  },
  {
   "cell_type": "code",
   "execution_count": 72,
   "metadata": {},
   "outputs": [
    {
     "data": {
      "text/plain": [
       "2-element Array{Float64,1}:\n",
       " 2.2578272974831743\n",
       " 1.535886546422071"
      ]
     },
     "execution_count": 72,
     "metadata": {},
     "output_type": "execute_result"
    }
   ],
   "source": [
    "Z.center"
   ]
  },
  {
   "cell_type": "code",
   "execution_count": 73,
   "metadata": {},
   "outputs": [
    {
     "data": {
      "text/plain": [
       "2-element SArray{Tuple{2},Float64,1,2} with indices SOneTo(2):\n",
       "  0.05500609744949789\n",
       " -1.82538073483874"
      ]
     },
     "execution_count": 73,
     "metadata": {},
     "output_type": "execute_result"
    }
   ],
   "source": [
    "cs"
   ]
  },
  {
   "cell_type": "code",
   "execution_count": null,
   "metadata": {},
   "outputs": [],
   "source": [
    "for ξi in Iterators.product([[1, -1] for i = 1:p]...)\n",
    "    push!(vlist, c .+ G * collect(ξi))\n",
    "end"
   ]
  },
  {
   "cell_type": "code",
   "execution_count": 77,
   "metadata": {},
   "outputs": [
    {
     "data": {
      "text/plain": [
       "Base.Iterators.ProductIterator{Tuple{Array{Int64,1},Array{Int64,1},Array{Int64,1}}}(([1, -1], [1, -1], [1, -1]))"
      ]
     },
     "execution_count": 77,
     "metadata": {},
     "output_type": "execute_result"
    }
   ],
   "source": [
    "Iterators.product([[1, -1] for i = 1:3]...)"
   ]
  },
  {
   "cell_type": "code",
   "execution_count": null,
   "metadata": {},
   "outputs": [],
   "source": []
  },
  {
   "cell_type": "code",
   "execution_count": null,
   "metadata": {},
   "outputs": [],
   "source": []
  },
  {
   "cell_type": "code",
   "execution_count": null,
   "metadata": {},
   "outputs": [],
   "source": [
    "@inferred _vertices_list_iterative_ord1($Z.center, $Z.generators, apply_convex_hull=false)"
   ]
  },
  {
   "cell_type": "code",
   "execution_count": 36,
   "metadata": {},
   "outputs": [
    {
     "name": "stdout",
     "output_type": "stream",
     "text": [
      "  4.368 μs (29 allocations: 2.08 KiB)\n"
     ]
    },
    {
     "data": {
      "text/plain": [
       "4-element Array{Array{Float64,1},1}:\n",
       " [-0.652669015855391, -3.438102751864682]\n",
       " [-0.5977131905886871, -2.7558198838847914]\n",
       " [0.7077253854876829, -0.8949415857926888]\n",
       " [0.7626812107543869, -0.21265871781279833]"
      ]
     },
     "execution_count": 36,
     "metadata": {},
     "output_type": "execute_result"
    }
   ],
   "source": [
    "@btime vertices_list($Z)"
   ]
  },
  {
   "cell_type": "code",
   "execution_count": 117,
   "metadata": {},
   "outputs": [
    {
     "data": {
      "text/plain": [
       "4-element Array{SArray{Tuple{2},Float64,1,2},1}:\n",
       " [0.5, 0.5]\n",
       " [-0.5, 0.5]\n",
       " [-0.5, -0.5]\n",
       " [0.5, -0.5]"
      ]
     },
     "execution_count": 117,
     "metadata": {},
     "output_type": "execute_result"
    }
   ],
   "source": [
    "_vertices_list_2D_v2(Z.center, Z.generators, apply_convex_hull=false)"
   ]
  },
  {
   "cell_type": "code",
   "execution_count": 88,
   "metadata": {},
   "outputs": [
    {
     "name": "stdout",
     "output_type": "stream",
     "text": [
      "  13.510 μs (177 allocations: 9.42 KiB)\n"
     ]
    },
    {
     "data": {
      "text/plain": [
       "4-element Array{SArray{Tuple{2},Float64,1,2},1}:\n",
       " [0.5, 0.5]\n",
       " [-0.5, 0.5]\n",
       " [-0.5, -0.5]\n",
       " [0.5, -0.5]"
      ]
     },
     "execution_count": 88,
     "metadata": {},
     "output_type": "execute_result"
    }
   ],
   "source": [
    "@btime _vertices_list_2D($Z.center, $Z.generators, apply_convex_hull=false)"
   ]
  },
  {
   "cell_type": "code",
   "execution_count": 87,
   "metadata": {},
   "outputs": [
    {
     "name": "stdout",
     "output_type": "stream",
     "text": [
      "  4.307 μs (30 allocations: 2.11 KiB)\n"
     ]
    },
    {
     "data": {
      "text/plain": [
       "4-element Array{Array{Float64,1},1}:\n",
       " [-0.5, -0.5]\n",
       " [-0.5, 0.5]\n",
       " [0.5, -0.5]\n",
       " [0.5, 0.5]"
      ]
     },
     "execution_count": 87,
     "metadata": {},
     "output_type": "execute_result"
    }
   ],
   "source": [
    "@btime vertices_list($Z)"
   ]
  },
  {
   "cell_type": "code",
   "execution_count": 97,
   "metadata": {},
   "outputs": [
    {
     "data": {
      "text/plain": [
       "Zonotope{Float64,Array{Float64,1},Array{Float64,2}}([0.7215593048713759, -0.9338053264896249], [-0.10238815732815452 2.427764162585863; -0.1458513979003235 0.4604542027922609])"
      ]
     },
     "execution_count": 97,
     "metadata": {},
     "output_type": "execute_result"
    }
   ],
   "source": [
    "Q = rand(Zonotope, num_generators=2)"
   ]
  },
  {
   "cell_type": "code",
   "execution_count": 98,
   "metadata": {},
   "outputs": [
    {
     "name": "stdout",
     "output_type": "stream",
     "text": [
      "  2.882 μs (45 allocations: 2.91 KiB)\n"
     ]
    },
    {
     "data": {
      "text/plain": [
       "4-element Array{Array{Float64,1},1}:\n",
       " [3.046935310129084, -0.6192025215976875]\n",
       " [3.251711624785393, -0.32749972579704045]\n",
       " [-1.6038167003863326, -1.2484081313815623]\n",
       " [-1.8085930150426415, -1.5401109271822093]"
      ]
     },
     "execution_count": 98,
     "metadata": {},
     "output_type": "execute_result"
    }
   ],
   "source": [
    "@btime vertices_list($Q)"
   ]
  },
  {
   "cell_type": "code",
   "execution_count": 99,
   "metadata": {},
   "outputs": [
    {
     "name": "stdout",
     "output_type": "stream",
     "text": [
      "  13.631 μs (180 allocations: 9.70 KiB)\n"
     ]
    },
    {
     "data": {
      "text/plain": [
       "4-element Array{Array{Float64,1},1}:\n",
       " [3.251711624785393, -0.32749972579704045]\n",
       " [-1.6038167003863326, -1.2484081313815623]\n",
       " [-1.8085930150426415, -1.5401109271822093]\n",
       " [3.046935310129084, -0.6192025215976875]"
      ]
     },
     "execution_count": 99,
     "metadata": {},
     "output_type": "execute_result"
    }
   ],
   "source": [
    "@btime _vertices_list_2D($Q.center, $Q.generators, apply_convex_hull=false)"
   ]
  },
  {
   "cell_type": "code",
   "execution_count": 100,
   "metadata": {},
   "outputs": [],
   "source": [
    "Q = rand(Zonotope, num_generators=8);"
   ]
  },
  {
   "cell_type": "code",
   "execution_count": 101,
   "metadata": {},
   "outputs": [
    {
     "name": "stdout",
     "output_type": "stream",
     "text": [
      "  187.226 μs (2329 allocations: 249.17 KiB)\n"
     ]
    },
    {
     "data": {
      "text/plain": [
       "16-element Array{Array{Float64,1},1}:\n",
       " [-6.263386149395025, -3.345018759744295]\n",
       " [-5.066499618143725, -6.8774703400636845]\n",
       " [-2.07826736685163, -11.089723225567194]\n",
       " [1.7852496725015692, -10.283622679381864]\n",
       " [3.858698819312379, -8.327436796000283]\n",
       " [5.270017759195234, -6.9282115333318615]\n",
       " [8.378499159575602, -2.647214658918098]\n",
       " [8.580714458405758, -1.7486771411355106]\n",
       " [8.930462213006006, 2.1212633498861853]\n",
       " [7.733575681754706, 5.653714930205574]\n",
       " [4.745343430462611, 9.865967815709084]\n",
       " [0.8818263911094129, 9.059867269523753]\n",
       " [-1.1916227557013968, 7.103681386142172]\n",
       " [-2.6029416955842515, 5.704456123473751]\n",
       " [-5.711423095964619, 1.423459249059988]\n",
       " [-5.913638394794777, 0.5249217312774008]"
      ]
     },
     "execution_count": 101,
     "metadata": {},
     "output_type": "execute_result"
    }
   ],
   "source": [
    "@btime vertices_list($Q)"
   ]
  },
  {
   "cell_type": "code",
   "execution_count": 102,
   "metadata": {},
   "outputs": [
    {
     "name": "stdout",
     "output_type": "stream",
     "text": [
      "  29.831 μs (468 allocations: 31.83 KiB)\n"
     ]
    },
    {
     "data": {
      "text/plain": [
       "16-element Array{Array{Float64,1},1}:\n",
       " [-6.263386149395025, -3.3450187597442946]\n",
       " [-5.066499618143725, -6.8774703400636845]\n",
       " [-2.07826736685163, -11.089723225567196]\n",
       " [1.7852496725015694, -10.283622679381864]\n",
       " [3.858698819312379, -8.327436796000285]\n",
       " [5.270017759195234, -6.9282115333318615]\n",
       " [8.3784991595756, -2.647214658918098]\n",
       " [8.580714458405758, -1.7486771411355102]\n",
       " [8.930462213006006, 2.1212633498861857]\n",
       " [7.733575681754706, 5.653714930205576]\n",
       " [4.745343430462611, 9.865967815709086]\n",
       " [0.8818263911094125, 9.059867269523753]\n",
       " [-1.1916227557013968, 7.103681386142174]\n",
       " [-2.6029416955842515, 5.704456123473751]\n",
       " [-5.711423095964619, 1.4234592490599889]\n",
       " [-5.913638394794775, 0.5249217312774013]"
      ]
     },
     "execution_count": 102,
     "metadata": {},
     "output_type": "execute_result"
    }
   ],
   "source": [
    "@btime _vertices_list_2D($Q.center, $Q.generators, apply_convex_hull=false)"
   ]
  },
  {
   "cell_type": "code",
   "execution_count": 107,
   "metadata": {},
   "outputs": [
    {
     "data": {
      "text/plain": [
       "2-element Array{Array{Float64,1},1}:\n",
       " [-0.4463897070499574, 1.1736962963686008]\n",
       " [2.363801031434723, -1.0480425969403409]"
      ]
     },
     "execution_count": 107,
     "metadata": {},
     "output_type": "execute_result"
    }
   ],
   "source": [
    "L = convert(Zonotope, rand(LineSegment))\n",
    "vertices_list(L)"
   ]
  },
  {
   "cell_type": "code",
   "execution_count": 108,
   "metadata": {},
   "outputs": [
    {
     "data": {
      "text/plain": [
       "2-element Array{Array{Float64,1},1}:\n",
       " [-0.4463897070499574, 1.1736962963686008]\n",
       " [2.363801031434723, -1.0480425969403409]"
      ]
     },
     "execution_count": 108,
     "metadata": {},
     "output_type": "execute_result"
    }
   ],
   "source": [
    "_vertices_list_2D(L.center, L.generators, apply_convex_hull=false)"
   ]
  },
  {
   "cell_type": "code",
   "execution_count": 78,
   "metadata": {},
   "outputs": [
    {
     "data": {
      "text/plain": [
       "Hyperrectangle{Float64,Array{Float64,1},Array{Float64,1}}([0.6136895815123254, -1.0384226596383581], [0.5057834587436363, 1.3112069539243998])"
      ]
     },
     "execution_count": 78,
     "metadata": {},
     "output_type": "execute_result"
    }
   ],
   "source": [
    "h = rand(Hyperrectangle)"
   ]
  },
  {
   "cell_type": "code",
   "execution_count": 79,
   "metadata": {},
   "outputs": [
    {
     "name": "stdout",
     "output_type": "stream",
     "text": [
      "  174.876 ns (7 allocations: 688 bytes)\n"
     ]
    },
    {
     "data": {
      "text/plain": [
       "4-element Array{Array{Float64,1},1}:\n",
       " [1.1194730402559618, 0.2727842942860417]\n",
       " [0.10790612276868916, 0.2727842942860417]\n",
       " [1.1194730402559618, -2.349629613562758]\n",
       " [0.10790612276868916, -2.349629613562758]"
      ]
     },
     "execution_count": 79,
     "metadata": {},
     "output_type": "execute_result"
    }
   ],
   "source": [
    "@btime vertices_list($h)"
   ]
  },
  {
   "cell_type": "code",
   "execution_count": 83,
   "metadata": {},
   "outputs": [
    {
     "data": {
      "text/plain": [
       "Hyperrectangle{Float64,SArray{Tuple{2},Float64,1,2},SArray{Tuple{2},Float64,1,2}}([0.6136895815123254, -1.0384226596383581], [0.5057834587436363, 1.3112069539243998])"
      ]
     },
     "execution_count": 83,
     "metadata": {},
     "output_type": "execute_result"
    }
   ],
   "source": [
    "cs = SVector{2}(h.center)\n",
    "rs = SVector{2}(h.radius)\n",
    "hh = Hyperrectangle(cs, rs)"
   ]
  },
  {
   "cell_type": "code",
   "execution_count": 84,
   "metadata": {},
   "outputs": [
    {
     "ename": "LoadError",
     "evalue": "setindex!(::SArray{Tuple{2},Float64,1,2}, value, ::Int) is not defined.",
     "output_type": "error",
     "traceback": [
      "setindex!(::SArray{Tuple{2},Float64,1,2}, value, ::Int) is not defined.",
      "",
      "Stacktrace:",
      " [1] error(::String) at ./error.jl:33",
      " [2] setindex!(::SArray{Tuple{2},Float64,1,2}, ::Float64, ::Int64) at /home/mforets/.julia/packages/StaticArrays/mlIi1/src/indexing.jl:3",
      " [3] vertices_list(::Hyperrectangle{Float64,SArray{Tuple{2},Float64,1,2},SArray{Tuple{2},Float64,1,2}}) at /home/mforets/.julia/dev/LazySets/src/Interfaces/AbstractHyperrectangle.jl:198",
      " [4] top-level scope at In[84]:1",
      " [5] include_string(::Function, ::Module, ::String, ::String) at ./loading.jl:1091"
     ]
    }
   ],
   "source": [
    "vertices_list(hh)"
   ]
  },
  {
   "cell_type": "code",
   "execution_count": 99,
   "metadata": {},
   "outputs": [
    {
     "data": {
      "text/plain": [
       "vertices_list2 (generic function with 1 method)"
      ]
     },
     "execution_count": 99,
     "metadata": {},
     "output_type": "execute_result"
    }
   ],
   "source": [
    "function vertices_list2(H::AbstractHyperrectangle{N}) where {N<:Real}\n",
    "    n = dim(H)\n",
    "\n",
    "    # identify flat dimensions and store them in a binary vector whose entry in\n",
    "    # dimension i is 0 if the radius is zero and 1 otherwise\n",
    "    # the vector will later also contain entries -1\n",
    "    trivector = Vector{Int8}(undef, n)\n",
    "    m = 1\n",
    "    c = center(H)\n",
    "    v = MVector{2}(c)\n",
    "    @inbounds for i in 1:n\n",
    "        ri = radius_hyperrectangle(H, i)\n",
    "        if iszero(ri)\n",
    "            trivector[i] = Int8(0)\n",
    "        else\n",
    "            v[i] += ri\n",
    "            trivector[i] = Int8(1)\n",
    "            m *= 2\n",
    "        end\n",
    "    end\n",
    "\n",
    "    # create vertices by modifying the three-valued vector and constructing the\n",
    "    # corresponding point; for efficiency, we create a copy of the old point and\n",
    "    # modify every entry that has changed in the three-valued vector\n",
    "    vlist = Vector{typeof(c)}(undef, m)\n",
    "    vlist[1] = copy(v)\n",
    "    @inbounds for i in 2:m\n",
    "        for j in 1:length(v)\n",
    "            if trivector[j] == Int8(-1)\n",
    "                trivector[j] = Int8(1)\n",
    "                v[j] = c[j] + radius_hyperrectangle(H, j)\n",
    "            elseif trivector[j] == Int8(1)\n",
    "                trivector[j] = Int8(-1)\n",
    "                v[j] = c[j] - radius_hyperrectangle(H, j)\n",
    "                break\n",
    "            end\n",
    "        end\n",
    "        vlist[i] = copy(v)\n",
    "    end\n",
    "    return vlist\n",
    "end"
   ]
  },
  {
   "cell_type": "code",
   "execution_count": 100,
   "metadata": {},
   "outputs": [
    {
     "name": "stdout",
     "output_type": "stream",
     "text": [
      "  49.907 ns (2 allocations: 240 bytes)\n"
     ]
    },
    {
     "data": {
      "text/plain": [
       "4-element Array{SArray{Tuple{2},Float64,1,2},1}:\n",
       " [1.1194730402559618, 0.2727842942860417]\n",
       " [0.10790612276868916, 0.2727842942860417]\n",
       " [1.1194730402559618, -2.349629613562758]\n",
       " [0.10790612276868916, -2.349629613562758]"
      ]
     },
     "execution_count": 100,
     "metadata": {},
     "output_type": "execute_result"
    }
   ],
   "source": [
    "@btime vertices_list2($hh)"
   ]
  },
  {
   "cell_type": "code",
   "execution_count": 101,
   "metadata": {},
   "outputs": [
    {
     "name": "stdout",
     "output_type": "stream",
     "text": [
      "  175.153 ns (7 allocations: 688 bytes)\n"
     ]
    },
    {
     "data": {
      "text/plain": [
       "4-element Array{Array{Float64,1},1}:\n",
       " [1.1194730402559618, 0.2727842942860417]\n",
       " [0.10790612276868916, 0.2727842942860417]\n",
       " [1.1194730402559618, -2.349629613562758]\n",
       " [0.10790612276868916, -2.349629613562758]"
      ]
     },
     "execution_count": 101,
     "metadata": {},
     "output_type": "execute_result"
    }
   ],
   "source": [
    "@btime vertices_list($h)"
   ]
  },
  {
   "cell_type": "code",
   "execution_count": 44,
   "metadata": {},
   "outputs": [
    {
     "data": {
      "text/plain": [
       "_vertices_list_2D_rect_st (generic function with 1 method)"
      ]
     },
     "execution_count": 44,
     "metadata": {},
     "output_type": "execute_result"
    }
   ],
   "source": [
    "function _vertices_list_2D_rect(X)\n",
    "    # X in vertex representation\n",
    "    cX = X.center\n",
    "    rX = X.radius\n",
    "    qX = [rX[1], -rX[2]]\n",
    "    Xv = [cX + rX, cX - rX, cX + qX, cX - qX]\n",
    "    LazySets._four_points_2d!(Xv)\n",
    "end\n",
    "\n",
    "const NEGx(N) = SA[-one(N) zero(N); zero(N) one(N)]\n",
    "const NEGy(N) = SA[one(N) zero(N); zero(N) -one(N)]\n",
    "\n",
    "function _vertices_list_2D_rect_st(X)\n",
    "    # X in vertex representation\n",
    "    cX = X.center\n",
    "    rX = X.radius\n",
    "    #qX = SA[rX[1], -rX[2]]\n",
    "    Xv = [cX .+ rX, cX .- rX, cX .+ rX, cX .- rX]\n",
    "    LazySets._four_points_2d!(Xv)\n",
    "end"
   ]
  },
  {
   "cell_type": "code",
   "execution_count": 45,
   "metadata": {},
   "outputs": [
    {
     "data": {
      "text/plain": [
       "Hyperrectangle{Float64,SArray{Tuple{2},Float64,1,2},SArray{Tuple{2},Float64,1,2}}([0.5, 0.5], [0.5, 0.5])"
      ]
     },
     "execution_count": 45,
     "metadata": {},
     "output_type": "execute_result"
    }
   ],
   "source": [
    "X"
   ]
  },
  {
   "cell_type": "code",
   "execution_count": 50,
   "metadata": {},
   "outputs": [
    {
     "name": "stdout",
     "output_type": "stream",
     "text": [
      "  118.050 ns (3 allocations: 368 bytes)\n"
     ]
    },
    {
     "data": {
      "text/plain": [
       "2-element Array{SArray{Tuple{2},Float64,1,2},1}:\n",
       " [0.0, 0.0]\n",
       " [1.0, 1.0]"
      ]
     },
     "execution_count": 50,
     "metadata": {},
     "output_type": "execute_result"
    }
   ],
   "source": [
    "@btime _vertices_list_2D_rect_st($X)"
   ]
  },
  {
   "cell_type": "code",
   "execution_count": 51,
   "metadata": {},
   "outputs": [
    {
     "name": "stdout",
     "output_type": "stream",
     "text": [
      "  50.694 ns (2 allocations: 240 bytes)\n"
     ]
    },
    {
     "data": {
      "text/plain": [
       "4-element Array{SArray{Tuple{2},Float64,1,2},1}:\n",
       " [1.0, 1.0]\n",
       " [0.0, 1.0]\n",
       " [1.0, 0.0]\n",
       " [0.0, 0.0]"
      ]
     },
     "execution_count": 51,
     "metadata": {},
     "output_type": "execute_result"
    }
   ],
   "source": [
    "@btime vertices_list($X)"
   ]
  },
  {
   "cell_type": "code",
   "execution_count": null,
   "metadata": {},
   "outputs": [],
   "source": []
  },
  {
   "cell_type": "code",
   "execution_count": null,
   "metadata": {},
   "outputs": [],
   "source": []
  },
  {
   "cell_type": "code",
   "execution_count": 130,
   "metadata": {},
   "outputs": [
    {
     "name": "stdout",
     "output_type": "stream",
     "text": [
      "  22.916 ns (1 allocation: 144 bytes)\n"
     ]
    },
    {
     "data": {
      "text/plain": [
       "4-element Array{SArray{Tuple{2},Float64,1,2},1}:\n",
       " [1.1194730402559618, 0.2727842942860417]\n",
       " [0.10790612276868916, -2.349629613562758]\n",
       " [1.1194730402559618, 0.2727842942860417]\n",
       " [0.10790612276868916, -2.349629613562758]"
      ]
     },
     "execution_count": 130,
     "metadata": {},
     "output_type": "execute_result"
    }
   ],
   "source": [
    "@btime _vertices_list_2D_rect_st($hh)"
   ]
  },
  {
   "cell_type": "code",
   "execution_count": 106,
   "metadata": {},
   "outputs": [
    {
     "name": "stdout",
     "output_type": "stream",
     "text": [
      "  180.406 ns (6 allocations: 592 bytes)\n"
     ]
    },
    {
     "data": {
      "text/plain": [
       "4-element Array{Array{Float64,1},1}:\n",
       " [1.1194730402559618, 0.2727842942860417]\n",
       " [0.10790612276868916, 0.2727842942860417]\n",
       " [0.10790612276868916, -2.349629613562758]\n",
       " [1.1194730402559618, -2.349629613562758]"
      ]
     },
     "execution_count": 106,
     "metadata": {},
     "output_type": "execute_result"
    }
   ],
   "source": [
    "@btime _vertices_list_2D_rect($h)"
   ]
  },
  {
   "cell_type": "code",
   "execution_count": 123,
   "metadata": {},
   "outputs": [
    {
     "name": "stdout",
     "output_type": "stream",
     "text": [
      "  123.900 ns (3 allocations: 368 bytes)\n"
     ]
    },
    {
     "data": {
      "text/plain": [
       "2-element Array{SArray{Tuple{2},Float64,1,2},1}:\n",
       " [0.10790612276868916, -2.349629613562758]\n",
       " [1.1194730402559618, 0.2727842942860417]"
      ]
     },
     "execution_count": 123,
     "metadata": {},
     "output_type": "execute_result"
    }
   ],
   "source": [
    "@btime _vertices_list_2D_rect_st($hh)"
   ]
  },
  {
   "cell_type": "code",
   "execution_count": 126,
   "metadata": {},
   "outputs": [
    {
     "name": "stdout",
     "output_type": "stream",
     "text": [
      "  115.300 ns (3 allocations: 368 bytes)\n"
     ]
    },
    {
     "data": {
      "text/plain": [
       "2-element Array{SArray{Tuple{2},Float64,1,2},1}:\n",
       " [0.10790612276868916, -2.349629613562758]\n",
       " [1.1194730402559618, 0.2727842942860417]"
      ]
     },
     "execution_count": 126,
     "metadata": {},
     "output_type": "execute_result"
    }
   ],
   "source": [
    "@btime _vertices_list_2D_rect_st($hh)"
   ]
  },
  {
   "cell_type": "code",
   "execution_count": 110,
   "metadata": {},
   "outputs": [
    {
     "name": "stdout",
     "output_type": "stream",
     "text": [
      "  60.489 ns (2 allocations: 240 bytes)\n"
     ]
    },
    {
     "data": {
      "text/plain": [
       "4-element Array{SArray{Tuple{2},Float64,1,2},1}:\n",
       " [1.1194730402559618, 0.2727842942860417]\n",
       " [0.10790612276868916, 0.2727842942860417]\n",
       " [0.10790612276868916, -2.349629613562758]\n",
       " [1.1194730402559618, -2.349629613562758]"
      ]
     },
     "execution_count": 110,
     "metadata": {},
     "output_type": "execute_result"
    }
   ],
   "source": [
    "@btime _vertices_list_2D_rect($hh)"
   ]
  }
 ],
 "metadata": {
  "@webio": {
   "lastCommId": null,
   "lastKernelId": null
  },
  "kernelspec": {
   "display_name": "Julia 1.5.2",
   "language": "julia",
   "name": "julia-1.5"
  },
  "language_info": {
   "file_extension": ".jl",
   "mimetype": "application/julia",
   "name": "julia",
   "version": "1.5.2"
  }
 },
 "nbformat": 4,
 "nbformat_minor": 2
}
