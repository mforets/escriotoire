{
 "cells": [
  {
   "cell_type": "markdown",
   "metadata": {},
   "source": [
    "## Central difference"
   ]
  },
  {
   "cell_type": "code",
   "execution_count": null,
   "metadata": {},
   "outputs": [],
   "source": [
    "using LinearAlgebra"
   ]
  },
  {
   "cell_type": "markdown",
   "metadata": {},
   "source": [
    "References: \n",
    "\n",
    "- Pseudocode in Table 9.1 in Bathe\n",
    "- https://github.com/ONSAS/ONSAS/blob/master/sources/extractMethodParams.m"
   ]
  },
  {
   "cell_type": "markdown",
   "metadata": {},
   "source": [
    "---"
   ]
  },
  {
   "cell_type": "markdown",
   "metadata": {},
   "source": [
    "$$\n",
    "Mx'' + Cx' + Kx = f(t)\n",
    "$$"
   ]
  },
  {
   "cell_type": "code",
   "execution_count": 1,
   "metadata": {},
   "outputs": [],
   "source": [
    "abstract type AbstractAlgorithm end"
   ]
  },
  {
   "cell_type": "code",
   "execution_count": 11,
   "metadata": {},
   "outputs": [],
   "source": [
    "struct CentralDifference{N} <: AbstractAlgorithm\n",
    "    δ::N\n",
    "end\n",
    "\n",
    "CentralDifference(; δ::N) where N = CentralDifference(δ)"
   ]
  },
  {
   "cell_type": "markdown",
   "metadata": {},
   "source": [
    "### Setup (Table 9.1, page 771)"
   ]
  },
  {
   "cell_type": "code",
   "execution_count": 77,
   "metadata": {},
   "outputs": [
    {
     "data": {
      "text/plain": [
       "init (generic function with 1 method)"
      ]
     },
     "execution_count": 77,
     "metadata": {},
     "output_type": "execute_result"
    }
   ],
   "source": [
    "function init(M, C, K, U₀, U₀′, U₀′′, alg::CentralDifference)\n",
    "    Δt = alg.δ\n",
    "\n",
    "    # compute integration constante\n",
    "    a₀ = 1/Δt^2\n",
    "    a₁ = 1/(2*Δt)\n",
    "    a₂ = 2*a₀\n",
    "    a₃ = 1/a₂\n",
    "\n",
    "    U⁻ = U₀ - Δt * U₀′ + a₃ * U₀′′\n",
    "    M̂ = a₀*M + a₁*C\n",
    "    \n",
    "    return a₀, a₁, a₂, U⁻, M̂\n",
    "end"
   ]
  },
  {
   "cell_type": "code",
   "execution_count": 78,
   "metadata": {},
   "outputs": [
    {
     "data": {
      "text/plain": [
       "solve (generic function with 2 methods)"
      ]
     },
     "execution_count": 78,
     "metadata": {},
     "output_type": "execute_result"
    }
   ],
   "source": [
    "function solve(ivp::InitialValueProblem{ST, XT},\n",
    "               alg::CentralDifference{N},\n",
    "               NSTEPS::Int) where {N, ST<:SecondOrderAffineContinuousSystem, XT}\n",
    "    \n",
    "    sys = system(ivp)\n",
    "    (U₀, U₀′) = initial_state(prob)\n",
    "\n",
    "    M = mass_matrix(sys)\n",
    "    C = viscosity_matrix(sys)\n",
    "    K = stiffness_matrix(sys)\n",
    "    R = affine_term(sys)\n",
    "    R = fill(R, NSTEPS)\n",
    "\n",
    "    U₀′′ = M \\ (R[1] - C * U₀′ - K * U₀)\n",
    "    a₀, a₁, a₂, U⁻, M̂ = init(M, C, K, U₀, U₀′, U₀′′, alg)\n",
    "    \n",
    "    U = Vector{Vector{N}}(undef, NSTEPS+1)\n",
    "    U[1] = U⁻\n",
    "    U[2] = U₀\n",
    "\n",
    "    @inbounds for i in 2:NSTEPS\n",
    "        R̂ᵢ = R[i] - (K - a₂ * M) * U[i] - (a₀*M - a₁*C) * U[i-1]\n",
    "        U[i+1] = M̂ \\ R̂ᵢ\n",
    "    end\n",
    "    return U\n",
    "end"
   ]
  },
  {
   "cell_type": "code",
   "execution_count": 39,
   "metadata": {},
   "outputs": [
    {
     "data": {
      "text/plain": [
       "2-element Array{Float64,1}:\n",
       " -0.04858567920853231\n",
       "  0.4972740054081042"
      ]
     },
     "execution_count": 39,
     "metadata": {},
     "output_type": "execute_result"
    }
   ],
   "source": [
    "x = rand(2)\n",
    "A = rand(2, 2)\n",
    "y = A \\ x"
   ]
  },
  {
   "cell_type": "code",
   "execution_count": 40,
   "metadata": {},
   "outputs": [
    {
     "data": {
      "text/plain": [
       "2-element Array{Float64,1}:\n",
       " -0.04858567920853234\n",
       "  0.4972740054081041"
      ]
     },
     "execution_count": 40,
     "metadata": {},
     "output_type": "execute_result"
    }
   ],
   "source": [
    "inv(A) * x"
   ]
  },
  {
   "cell_type": "markdown",
   "metadata": {},
   "source": [
    "## Example (9.1 page 773)"
   ]
  },
  {
   "cell_type": "code",
   "execution_count": 47,
   "metadata": {},
   "outputs": [],
   "source": [
    "using LinearAlgebra\n",
    "using MathematicalSystems"
   ]
  },
  {
   "cell_type": "code",
   "execution_count": 67,
   "metadata": {},
   "outputs": [
    {
     "data": {
      "text/plain": [
       "SecondOrderAffineContinuousSystem{Float64,Array{Float64,2},Array{Float64,2},Array{Float64,2},Array{Float64,1}}([2.0 0.0; 0.0 1.0], [0.0 0.0; 0.0 0.0], [6.0 -2.0; -2.0 4.0], [0.0, 10.0])"
      ]
     },
     "execution_count": 67,
     "metadata": {},
     "output_type": "execute_result"
    }
   ],
   "source": [
    "M = [2 0; 0 1.]\n",
    "K = [6 -2; -2 4.]\n",
    "C = zeros(2, 2)\n",
    "f = [0, 10.]\n",
    "sys = SecondOrderAffineContinuousSystem(M, C, K, f)"
   ]
  },
  {
   "cell_type": "code",
   "execution_count": 68,
   "metadata": {},
   "outputs": [
    {
     "data": {
      "text/plain": [
       "2-element Array{Float64,1}:\n",
       "  0.0\n",
       " 10.0"
      ]
     },
     "execution_count": 68,
     "metadata": {},
     "output_type": "execute_result"
    }
   ],
   "source": [
    "U₀ = zeros(2)\n",
    "U₀′ = zeros(2)\n",
    "alg = CentralDifference(δ=0.28)\n",
    "U₀′′ = M \\ (f - C * U₀′ - K * U₀)"
   ]
  },
  {
   "cell_type": "code",
   "execution_count": 69,
   "metadata": {},
   "outputs": [
    {
     "data": {
      "text/plain": [
       "2-element Array{Float64,1}:\n",
       " 0.0\n",
       " 0.39200000000000007"
      ]
     },
     "execution_count": 69,
     "metadata": {},
     "output_type": "execute_result"
    }
   ],
   "source": [
    "U⁻, M̂  = init(M, C, K, U₀, U₀′, U₀′′, alg)\n",
    "\n",
    "U⁻"
   ]
  },
  {
   "cell_type": "code",
   "execution_count": 70,
   "metadata": {},
   "outputs": [
    {
     "data": {
      "text/plain": [
       "2×2 Array{Float64,2}:\n",
       " 25.5102   0.0\n",
       "  0.0     12.7551"
      ]
     },
     "execution_count": 70,
     "metadata": {},
     "output_type": "execute_result"
    }
   ],
   "source": [
    "M̂"
   ]
  },
  {
   "cell_type": "code",
   "execution_count": 79,
   "metadata": {},
   "outputs": [
    {
     "data": {
      "text/plain": [
       "6-element Array{Array{Float64,1},1}:\n",
       " [0.0, 0.39200000000000007]\n",
       " [0.0, 0.0]\n",
       " [0.0, 0.39199999999999996]\n",
       " [0.0307328, 1.4450688]\n",
       " [0.16753063936, 2.83378292736]\n",
       " [0.487093853847552, 4.144091532951552]"
      ]
     },
     "execution_count": 79,
     "metadata": {},
     "output_type": "execute_result"
    }
   ],
   "source": [
    "prob = InitialValueProblem(sys, (U₀, U₀′))\n",
    "solve(prob, alg, 5)"
   ]
  },
  {
   "cell_type": "code",
   "execution_count": 54,
   "metadata": {},
   "outputs": [
    {
     "data": {
      "text/plain": [
       "InitialValueProblem{SecondOrderAffineContinuousSystem{Float64,Array{Float64,2},Array{Float64,2},Array{Float64,2},Array{Float64,1}},Tuple{Array{Float64,1},Array{Float64,1}}}"
      ]
     },
     "execution_count": 54,
     "metadata": {},
     "output_type": "execute_result"
    }
   ],
   "source": [
    "typeof(prob)"
   ]
  },
  {
   "cell_type": "code",
   "execution_count": null,
   "metadata": {},
   "outputs": [],
   "source": [
    "# sol = solve(sys, alg=CentralDifference(δ=0.28));"
   ]
  },
  {
   "cell_type": "code",
   "execution_count": null,
   "metadata": {},
   "outputs": [],
   "source": [
    "# typeof(sol) == Solution{....}"
   ]
  },
  {
   "cell_type": "code",
   "execution_count": null,
   "metadata": {},
   "outputs": [],
   "source": []
  }
 ],
 "metadata": {
  "@webio": {
   "lastCommId": null,
   "lastKernelId": null
  },
  "kernelspec": {
   "display_name": "Julia 1.5.0-beta1",
   "language": "julia",
   "name": "julia-1.5"
  },
  "language_info": {
   "file_extension": ".jl",
   "mimetype": "application/julia",
   "name": "julia",
   "version": "1.5.0"
  }
 },
 "nbformat": 4,
 "nbformat_minor": 2
}
