{
 "cells": [
  {
   "cell_type": "code",
   "execution_count": 6,
   "metadata": {},
   "outputs": [],
   "source": [
    "using Revise, ReachabilityAnalysis"
   ]
  },
  {
   "cell_type": "code",
   "execution_count": 7,
   "metadata": {},
   "outputs": [],
   "source": [
    "using Plots"
   ]
  },
  {
   "cell_type": "code",
   "execution_count": 8,
   "metadata": {},
   "outputs": [
    {
     "data": {
      "text/plain": [
       "Hyperrectangle{Float64,Array{Float64,1},Array{Float64,1}}([-1.6987796643476143, 0.037292369608803236], [0.574070399013942, 1.0934461677015324])"
      ]
     },
     "execution_count": 8,
     "metadata": {},
     "output_type": "execute_result"
    }
   ],
   "source": [
    "X0 = rand(Hyperrectangle)"
   ]
  },
  {
   "cell_type": "code",
   "execution_count": 11,
   "metadata": {},
   "outputs": [
    {
     "ename": "LoadError",
     "evalue": "MethodError: no method matching overapproximate(::Type{TaylorModelReachSet}, ::Hyperrectangle{Float64,Array{Float64,1},Array{Float64,1}})\nClosest candidates are:\n  overapproximate(!Matched::EmptySet, ::Any...) at /home/mforets/.julia/dev/LazySets/src/Approximations/overapproximate.jl:241\n  overapproximate(!Matched::ReachabilityAnalysis.AbstractLazyReachSet, ::Any) at /home/mforets/.julia/dev/ReachabilityAnalysis/src/Flowpipes/reachsets.jl:292\n  overapproximate(!Matched::Flowpipe, ::Any...) at /home/mforets/.julia/dev/ReachabilityAnalysis/src/Flowpipes/flowpipes.jl:609\n  ...",
     "output_type": "error",
     "traceback": [
      "MethodError: no method matching overapproximate(::Type{TaylorModelReachSet}, ::Hyperrectangle{Float64,Array{Float64,1},Array{Float64,1}})\nClosest candidates are:\n  overapproximate(!Matched::EmptySet, ::Any...) at /home/mforets/.julia/dev/LazySets/src/Approximations/overapproximate.jl:241\n  overapproximate(!Matched::ReachabilityAnalysis.AbstractLazyReachSet, ::Any) at /home/mforets/.julia/dev/ReachabilityAnalysis/src/Flowpipes/reachsets.jl:292\n  overapproximate(!Matched::Flowpipe, ::Any...) at /home/mforets/.julia/dev/ReachabilityAnalysis/src/Flowpipes/flowpipes.jl:609\n  ...",
      "",
      "Stacktrace:",
      " [1] top-level scope at In[11]:1",
      " [2] include_string(::Function, ::Module, ::String, ::String) at ./loading.jl:1091"
     ]
    }
   ],
   "source": [
    "T = overapproximate(TaylorModelReachSet, X0)"
   ]
  },
  {
   "cell_type": "code",
   "execution_count": 10,
   "metadata": {},
   "outputs": [
    {
     "ename": "LoadError",
     "evalue": "UndefVarError: T not defined",
     "output_type": "error",
     "traceback": [
      "UndefVarError: T not defined",
      "",
      "Stacktrace:",
      " [1] top-level scope at In[10]:1",
      " [2] include_string(::Function, ::Module, ::String, ::String) at ./loading.jl:1091"
     ]
    }
   ],
   "source": [
    "T = overapproximate(T, Hyperrectangle) |> set # returns a ReachSet"
   ]
  },
  {
   "cell_type": "code",
   "execution_count": null,
   "metadata": {},
   "outputs": [],
   "source": [
    "isequivalent(X0, T)"
   ]
  },
  {
   "cell_type": "code",
   "execution_count": null,
   "metadata": {},
   "outputs": [],
   "source": [
    "Z0 = rand(Zonotope, num_generators=2, dim=2)\n",
    "T = convert(TaylorModelReachSet, Z0)\n",
    "T = overapproximate(T, Zonotope) # returns a ReachSet\n",
    "isequivalent(Z0, T.X)"
   ]
  },
  {
   "cell_type": "code",
   "execution_count": null,
   "metadata": {},
   "outputs": [],
   "source": [
    "Z0.generators"
   ]
  },
  {
   "cell_type": "code",
   "execution_count": null,
   "metadata": {},
   "outputs": [],
   "source": [
    "Matrix(T.X.generators)"
   ]
  },
  {
   "cell_type": "code",
   "execution_count": null,
   "metadata": {},
   "outputs": [],
   "source": [
    "Z0.center"
   ]
  },
  {
   "cell_type": "code",
   "execution_count": null,
   "metadata": {},
   "outputs": [],
   "source": [
    "T.X.center"
   ]
  },
  {
   "cell_type": "code",
   "execution_count": null,
   "metadata": {},
   "outputs": [],
   "source": [
    "Z0 = rand(Zonotope, num_generators=4, dim=2)\n",
    "T = convert(TaylorModelReachSet, Z0)\n",
    "T = overapproximate(T, Zonotope) # returns a ReachSet\n",
    "isequivalent(Z0, T.X)"
   ]
  },
  {
   "cell_type": "code",
   "execution_count": null,
   "metadata": {},
   "outputs": [],
   "source": [
    "Matrix(T.X.generators)"
   ]
  },
  {
   "cell_type": "code",
   "execution_count": null,
   "metadata": {},
   "outputs": [],
   "source": [
    "Matrix(Z0.generators)"
   ]
  },
  {
   "cell_type": "code",
   "execution_count": null,
   "metadata": {},
   "outputs": [],
   "source": []
  },
  {
   "cell_type": "code",
   "execution_count": 12,
   "metadata": {},
   "outputs": [
    {
     "data": {
      "image/svg+xml": [
       "<?xml version=\"1.0\" encoding=\"utf-8\"?>\n",
       "<svg xmlns=\"http://www.w3.org/2000/svg\" xmlns:xlink=\"http://www.w3.org/1999/xlink\" width=\"600\" height=\"400\" viewBox=\"0 0 2400 1600\">\n",
       "<defs>\n",
       "  <clipPath id=\"clip760\">\n",
       "    <rect x=\"0\" y=\"0\" width=\"2400\" height=\"1600\"/>\n",
       "  </clipPath>\n",
       "</defs>\n",
       "<path clip-path=\"url(#clip760)\" d=\"\n",
       "M0 1600 L2400 1600 L2400 0 L0 0  Z\n",
       "  \" fill=\"#ffffff\" fill-rule=\"evenodd\" fill-opacity=\"1\"/>\n",
       "<defs>\n",
       "  <clipPath id=\"clip761\">\n",
       "    <rect x=\"480\" y=\"0\" width=\"1681\" height=\"1600\"/>\n",
       "  </clipPath>\n",
       "</defs>\n",
       "<path clip-path=\"url(#clip760)\" d=\"\n",
       "M125.256 1486.45 L2352.76 1486.45 L2352.76 47.2441 L125.256 47.2441  Z\n",
       "  \" fill=\"#ffffff\" fill-rule=\"evenodd\" fill-opacity=\"1\"/>\n",
       "<defs>\n",
       "  <clipPath id=\"clip762\">\n",
       "    <rect x=\"125\" y=\"47\" width=\"2229\" height=\"1440\"/>\n",
       "  </clipPath>\n",
       "</defs>\n",
       "<polyline clip-path=\"url(#clip762)\" style=\"stroke:#000000; stroke-width:2; stroke-opacity:0.1; fill:none\" points=\"\n",
       "  269.131,1486.45 269.131,47.2441 \n",
       "  \"/>\n",
       "<polyline clip-path=\"url(#clip762)\" style=\"stroke:#000000; stroke-width:2; stroke-opacity:0.1; fill:none\" points=\"\n",
       "  576.737,1486.45 576.737,47.2441 \n",
       "  \"/>\n",
       "<polyline clip-path=\"url(#clip762)\" style=\"stroke:#000000; stroke-width:2; stroke-opacity:0.1; fill:none\" points=\"\n",
       "  884.342,1486.45 884.342,47.2441 \n",
       "  \"/>\n",
       "<polyline clip-path=\"url(#clip762)\" style=\"stroke:#000000; stroke-width:2; stroke-opacity:0.1; fill:none\" points=\"\n",
       "  1191.95,1486.45 1191.95,47.2441 \n",
       "  \"/>\n",
       "<polyline clip-path=\"url(#clip762)\" style=\"stroke:#000000; stroke-width:2; stroke-opacity:0.1; fill:none\" points=\"\n",
       "  1499.55,1486.45 1499.55,47.2441 \n",
       "  \"/>\n",
       "<polyline clip-path=\"url(#clip762)\" style=\"stroke:#000000; stroke-width:2; stroke-opacity:0.1; fill:none\" points=\"\n",
       "  1807.16,1486.45 1807.16,47.2441 \n",
       "  \"/>\n",
       "<polyline clip-path=\"url(#clip762)\" style=\"stroke:#000000; stroke-width:2; stroke-opacity:0.1; fill:none\" points=\"\n",
       "  2114.76,1486.45 2114.76,47.2441 \n",
       "  \"/>\n",
       "<polyline clip-path=\"url(#clip762)\" style=\"stroke:#000000; stroke-width:2; stroke-opacity:0.1; fill:none\" points=\"\n",
       "  125.256,1194.12 2352.76,1194.12 \n",
       "  \"/>\n",
       "<polyline clip-path=\"url(#clip762)\" style=\"stroke:#000000; stroke-width:2; stroke-opacity:0.1; fill:none\" points=\"\n",
       "  125.256,866.833 2352.76,866.833 \n",
       "  \"/>\n",
       "<polyline clip-path=\"url(#clip762)\" style=\"stroke:#000000; stroke-width:2; stroke-opacity:0.1; fill:none\" points=\"\n",
       "  125.256,539.544 2352.76,539.544 \n",
       "  \"/>\n",
       "<polyline clip-path=\"url(#clip762)\" style=\"stroke:#000000; stroke-width:2; stroke-opacity:0.1; fill:none\" points=\"\n",
       "  125.256,212.255 2352.76,212.255 \n",
       "  \"/>\n",
       "<polyline clip-path=\"url(#clip760)\" style=\"stroke:#000000; stroke-width:4; stroke-opacity:1; fill:none\" points=\"\n",
       "  125.256,1486.45 2352.76,1486.45 \n",
       "  \"/>\n",
       "<polyline clip-path=\"url(#clip760)\" style=\"stroke:#000000; stroke-width:4; stroke-opacity:1; fill:none\" points=\"\n",
       "  125.256,1486.45 125.256,47.2441 \n",
       "  \"/>\n",
       "<polyline clip-path=\"url(#clip760)\" style=\"stroke:#000000; stroke-width:4; stroke-opacity:1; fill:none\" points=\"\n",
       "  269.131,1486.45 269.131,1469.18 \n",
       "  \"/>\n",
       "<polyline clip-path=\"url(#clip760)\" style=\"stroke:#000000; stroke-width:4; stroke-opacity:1; fill:none\" points=\"\n",
       "  576.737,1486.45 576.737,1469.18 \n",
       "  \"/>\n",
       "<polyline clip-path=\"url(#clip760)\" style=\"stroke:#000000; stroke-width:4; stroke-opacity:1; fill:none\" points=\"\n",
       "  884.342,1486.45 884.342,1469.18 \n",
       "  \"/>\n",
       "<polyline clip-path=\"url(#clip760)\" style=\"stroke:#000000; stroke-width:4; stroke-opacity:1; fill:none\" points=\"\n",
       "  1191.95,1486.45 1191.95,1469.18 \n",
       "  \"/>\n",
       "<polyline clip-path=\"url(#clip760)\" style=\"stroke:#000000; stroke-width:4; stroke-opacity:1; fill:none\" points=\"\n",
       "  1499.55,1486.45 1499.55,1469.18 \n",
       "  \"/>\n",
       "<polyline clip-path=\"url(#clip760)\" style=\"stroke:#000000; stroke-width:4; stroke-opacity:1; fill:none\" points=\"\n",
       "  1807.16,1486.45 1807.16,1469.18 \n",
       "  \"/>\n",
       "<polyline clip-path=\"url(#clip760)\" style=\"stroke:#000000; stroke-width:4; stroke-opacity:1; fill:none\" points=\"\n",
       "  2114.76,1486.45 2114.76,1469.18 \n",
       "  \"/>\n",
       "<polyline clip-path=\"url(#clip760)\" style=\"stroke:#000000; stroke-width:4; stroke-opacity:1; fill:none\" points=\"\n",
       "  125.256,1194.12 151.986,1194.12 \n",
       "  \"/>\n",
       "<polyline clip-path=\"url(#clip760)\" style=\"stroke:#000000; stroke-width:4; stroke-opacity:1; fill:none\" points=\"\n",
       "  125.256,866.833 151.986,866.833 \n",
       "  \"/>\n",
       "<polyline clip-path=\"url(#clip760)\" style=\"stroke:#000000; stroke-width:4; stroke-opacity:1; fill:none\" points=\"\n",
       "  125.256,539.544 151.986,539.544 \n",
       "  \"/>\n",
       "<polyline clip-path=\"url(#clip760)\" style=\"stroke:#000000; stroke-width:4; stroke-opacity:1; fill:none\" points=\"\n",
       "  125.256,212.255 151.986,212.255 \n",
       "  \"/>\n",
       "<path clip-path=\"url(#clip760)\" d=\"M 0 0 M232.199 1525.04 L244.676 1525.04 L244.676 1528.83 L232.199 1528.83 L232.199 1525.04 Z\" fill=\"#000000\" fill-rule=\"evenodd\" fill-opacity=\"1\" /><path clip-path=\"url(#clip760)\" d=\"M 0 0 M253.773 1535.98 L270.092 1535.98 L270.092 1539.92 L248.148 1539.92 L248.148 1535.98 Q250.81 1533.23 255.393 1528.6 Q260 1523.95 261.18 1522.61 Q263.426 1520.08 264.305 1518.35 Q265.208 1516.59 265.208 1514.9 Q265.208 1512.14 263.263 1510.41 Q261.342 1508.67 258.24 1508.67 Q256.041 1508.67 253.588 1509.43 Q251.157 1510.2 248.379 1511.75 L248.379 1507.03 Q251.203 1505.89 253.657 1505.31 Q256.111 1504.73 258.148 1504.73 Q263.518 1504.73 266.713 1507.42 Q269.907 1510.11 269.907 1514.6 Q269.907 1516.73 269.097 1518.65 Q268.31 1520.54 266.203 1523.14 Q265.625 1523.81 262.523 1527.03 Q259.421 1530.22 253.773 1535.98 Z\" fill=\"#000000\" fill-rule=\"evenodd\" fill-opacity=\"1\" /><path clip-path=\"url(#clip760)\" d=\"M 0 0 M275.162 1534.04 L280.046 1534.04 L280.046 1539.92 L275.162 1539.92 L275.162 1534.04 Z\" fill=\"#000000\" fill-rule=\"evenodd\" fill-opacity=\"1\" /><path clip-path=\"url(#clip760)\" d=\"M 0 0 M285.161 1505.36 L303.518 1505.36 L303.518 1509.3 L289.444 1509.3 L289.444 1517.77 Q290.462 1517.42 291.481 1517.26 Q292.499 1517.07 293.518 1517.07 Q299.305 1517.07 302.685 1520.24 Q306.064 1523.42 306.064 1528.83 Q306.064 1534.41 302.592 1537.51 Q299.12 1540.59 292.8 1540.59 Q290.624 1540.59 288.356 1540.22 Q286.111 1539.85 283.703 1539.11 L283.703 1534.41 Q285.786 1535.54 288.009 1536.1 Q290.231 1536.66 292.708 1536.66 Q296.712 1536.66 299.05 1534.55 Q301.388 1532.44 301.388 1528.83 Q301.388 1525.22 299.05 1523.11 Q296.712 1521.01 292.708 1521.01 Q290.833 1521.01 288.958 1521.42 Q287.106 1521.84 285.161 1522.72 L285.161 1505.36 Z\" fill=\"#000000\" fill-rule=\"evenodd\" fill-opacity=\"1\" /><path clip-path=\"url(#clip760)\" d=\"M 0 0 M539.306 1525.04 L551.783 1525.04 L551.783 1528.83 L539.306 1528.83 L539.306 1525.04 Z\" fill=\"#000000\" fill-rule=\"evenodd\" fill-opacity=\"1\" /><path clip-path=\"url(#clip760)\" d=\"M 0 0 M560.88 1535.98 L577.2 1535.98 L577.2 1539.92 L555.255 1539.92 L555.255 1535.98 Q557.917 1533.23 562.501 1528.6 Q567.107 1523.95 568.288 1522.61 Q570.533 1520.08 571.413 1518.35 Q572.315 1516.59 572.315 1514.9 Q572.315 1512.14 570.371 1510.41 Q568.45 1508.67 565.348 1508.67 Q563.149 1508.67 560.695 1509.43 Q558.264 1510.2 555.487 1511.75 L555.487 1507.03 Q558.311 1505.89 560.764 1505.31 Q563.218 1504.73 565.255 1504.73 Q570.626 1504.73 573.82 1507.42 Q577.014 1510.11 577.014 1514.6 Q577.014 1516.73 576.204 1518.65 Q575.417 1520.54 573.311 1523.14 Q572.732 1523.81 569.63 1527.03 Q566.528 1530.22 560.88 1535.98 Z\" fill=\"#000000\" fill-rule=\"evenodd\" fill-opacity=\"1\" /><path clip-path=\"url(#clip760)\" d=\"M 0 0 M582.269 1534.04 L587.153 1534.04 L587.153 1539.92 L582.269 1539.92 L582.269 1534.04 Z\" fill=\"#000000\" fill-rule=\"evenodd\" fill-opacity=\"1\" /><path clip-path=\"url(#clip760)\" d=\"M 0 0 M602.223 1508.44 Q598.611 1508.44 596.783 1512 Q594.977 1515.55 594.977 1522.67 Q594.977 1529.78 596.783 1533.35 Q598.611 1536.89 602.223 1536.89 Q605.857 1536.89 607.662 1533.35 Q609.491 1529.78 609.491 1522.67 Q609.491 1515.55 607.662 1512 Q605.857 1508.44 602.223 1508.44 M602.223 1504.73 Q608.033 1504.73 611.088 1509.34 Q614.167 1513.92 614.167 1522.67 Q614.167 1531.4 611.088 1536.01 Q608.033 1540.59 602.223 1540.59 Q596.412 1540.59 593.334 1536.01 Q590.278 1531.4 590.278 1522.67 Q590.278 1513.92 593.334 1509.34 Q596.412 1504.73 602.223 1504.73 Z\" fill=\"#000000\" fill-rule=\"evenodd\" fill-opacity=\"1\" /><path clip-path=\"url(#clip760)\" d=\"M 0 0 M847.224 1525.04 L859.701 1525.04 L859.701 1528.83 L847.224 1528.83 L847.224 1525.04 Z\" fill=\"#000000\" fill-rule=\"evenodd\" fill-opacity=\"1\" /><path clip-path=\"url(#clip760)\" d=\"M 0 0 M865.58 1535.98 L873.219 1535.98 L873.219 1509.62 L864.909 1511.29 L864.909 1507.03 L873.173 1505.36 L877.849 1505.36 L877.849 1535.98 L885.488 1535.98 L885.488 1539.92 L865.58 1539.92 L865.58 1535.98 Z\" fill=\"#000000\" fill-rule=\"evenodd\" fill-opacity=\"1\" /><path clip-path=\"url(#clip760)\" d=\"M 0 0 M890.557 1534.04 L895.441 1534.04 L895.441 1539.92 L890.557 1539.92 L890.557 1534.04 Z\" fill=\"#000000\" fill-rule=\"evenodd\" fill-opacity=\"1\" /><path clip-path=\"url(#clip760)\" d=\"M 0 0 M900.557 1505.36 L918.913 1505.36 L918.913 1509.3 L904.839 1509.3 L904.839 1517.77 Q905.858 1517.42 906.876 1517.26 Q907.895 1517.07 908.913 1517.07 Q914.7 1517.07 918.08 1520.24 Q921.46 1523.42 921.46 1528.83 Q921.46 1534.41 917.987 1537.51 Q914.515 1540.59 908.196 1540.59 Q906.02 1540.59 903.751 1540.22 Q901.506 1539.85 899.099 1539.11 L899.099 1534.41 Q901.182 1535.54 903.404 1536.1 Q905.626 1536.66 908.103 1536.66 Q912.108 1536.66 914.446 1534.55 Q916.784 1532.44 916.784 1528.83 Q916.784 1525.22 914.446 1523.11 Q912.108 1521.01 908.103 1521.01 Q906.228 1521.01 904.353 1521.42 Q902.501 1521.84 900.557 1522.72 L900.557 1505.36 Z\" fill=\"#000000\" fill-rule=\"evenodd\" fill-opacity=\"1\" /><path clip-path=\"url(#clip760)\" d=\"M 0 0 M1154.33 1525.04 L1166.81 1525.04 L1166.81 1528.83 L1154.33 1528.83 L1154.33 1525.04 Z\" fill=\"#000000\" fill-rule=\"evenodd\" fill-opacity=\"1\" /><path clip-path=\"url(#clip760)\" d=\"M 0 0 M1172.69 1535.98 L1180.33 1535.98 L1180.33 1509.62 L1172.02 1511.29 L1172.02 1507.03 L1180.28 1505.36 L1184.96 1505.36 L1184.96 1535.98 L1192.6 1535.98 L1192.6 1539.92 L1172.69 1539.92 L1172.69 1535.98 Z\" fill=\"#000000\" fill-rule=\"evenodd\" fill-opacity=\"1\" /><path clip-path=\"url(#clip760)\" d=\"M 0 0 M1197.66 1534.04 L1202.55 1534.04 L1202.55 1539.92 L1197.66 1539.92 L1197.66 1534.04 Z\" fill=\"#000000\" fill-rule=\"evenodd\" fill-opacity=\"1\" /><path clip-path=\"url(#clip760)\" d=\"M 0 0 M1217.62 1508.44 Q1214.01 1508.44 1212.18 1512 Q1210.37 1515.55 1210.37 1522.67 Q1210.37 1529.78 1212.18 1533.35 Q1214.01 1536.89 1217.62 1536.89 Q1221.25 1536.89 1223.06 1533.35 Q1224.89 1529.78 1224.89 1522.67 Q1224.89 1515.55 1223.06 1512 Q1221.25 1508.44 1217.62 1508.44 M1217.62 1504.73 Q1223.43 1504.73 1226.48 1509.34 Q1229.56 1513.92 1229.56 1522.67 Q1229.56 1531.4 1226.48 1536.01 Q1223.43 1540.59 1217.62 1540.59 Q1211.81 1540.59 1208.73 1536.01 Q1205.67 1531.4 1205.67 1522.67 Q1205.67 1513.92 1208.73 1509.34 Q1211.81 1504.73 1217.62 1504.73 Z\" fill=\"#000000\" fill-rule=\"evenodd\" fill-opacity=\"1\" /><path clip-path=\"url(#clip760)\" d=\"M 0 0 M1461.82 1525.04 L1474.3 1525.04 L1474.3 1528.83 L1461.82 1528.83 L1461.82 1525.04 Z\" fill=\"#000000\" fill-rule=\"evenodd\" fill-opacity=\"1\" /><path clip-path=\"url(#clip760)\" d=\"M 0 0 M1489.37 1508.44 Q1485.76 1508.44 1483.93 1512 Q1482.12 1515.55 1482.12 1522.67 Q1482.12 1529.78 1483.93 1533.35 Q1485.76 1536.89 1489.37 1536.89 Q1493 1536.89 1494.81 1533.35 Q1496.64 1529.78 1496.64 1522.67 Q1496.64 1515.55 1494.81 1512 Q1493 1508.44 1489.37 1508.44 M1489.37 1504.73 Q1495.18 1504.73 1498.23 1509.34 Q1501.31 1513.92 1501.31 1522.67 Q1501.31 1531.4 1498.23 1536.01 Q1495.18 1540.59 1489.37 1540.59 Q1483.56 1540.59 1480.48 1536.01 Q1477.42 1531.4 1477.42 1522.67 Q1477.42 1513.92 1480.48 1509.34 Q1483.56 1504.73 1489.37 1504.73 Z\" fill=\"#000000\" fill-rule=\"evenodd\" fill-opacity=\"1\" /><path clip-path=\"url(#clip760)\" d=\"M 0 0 M1506.38 1534.04 L1511.26 1534.04 L1511.26 1539.92 L1506.38 1539.92 L1506.38 1534.04 Z\" fill=\"#000000\" fill-rule=\"evenodd\" fill-opacity=\"1\" /><path clip-path=\"url(#clip760)\" d=\"M 0 0 M1516.38 1505.36 L1534.74 1505.36 L1534.74 1509.3 L1520.66 1509.3 L1520.66 1517.77 Q1521.68 1517.42 1522.7 1517.26 Q1523.72 1517.07 1524.74 1517.07 Q1530.52 1517.07 1533.9 1520.24 Q1537.28 1523.42 1537.28 1528.83 Q1537.28 1534.41 1533.81 1537.51 Q1530.34 1540.59 1524.02 1540.59 Q1521.84 1540.59 1519.58 1540.22 Q1517.33 1539.85 1514.92 1539.11 L1514.92 1534.41 Q1517.01 1535.54 1519.23 1536.1 Q1521.45 1536.66 1523.93 1536.66 Q1527.93 1536.66 1530.27 1534.55 Q1532.61 1532.44 1532.61 1528.83 Q1532.61 1525.22 1530.27 1523.11 Q1527.93 1521.01 1523.93 1521.01 Q1522.05 1521.01 1520.18 1521.42 Q1518.33 1521.84 1516.38 1522.72 L1516.38 1505.36 Z\" fill=\"#000000\" fill-rule=\"evenodd\" fill-opacity=\"1\" /><path clip-path=\"url(#clip760)\" d=\"M 0 0 M1788.67 1508.44 Q1785.06 1508.44 1783.23 1512 Q1781.43 1515.55 1781.43 1522.67 Q1781.43 1529.78 1783.23 1533.35 Q1785.06 1536.89 1788.67 1536.89 Q1792.31 1536.89 1794.11 1533.35 Q1795.94 1529.78 1795.94 1522.67 Q1795.94 1515.55 1794.11 1512 Q1792.31 1508.44 1788.67 1508.44 M1788.67 1504.73 Q1794.48 1504.73 1797.54 1509.34 Q1800.62 1513.92 1800.62 1522.67 Q1800.62 1531.4 1797.54 1536.01 Q1794.48 1540.59 1788.67 1540.59 Q1782.86 1540.59 1779.78 1536.01 Q1776.73 1531.4 1776.73 1522.67 Q1776.73 1513.92 1779.78 1509.34 Q1782.86 1504.73 1788.67 1504.73 Z\" fill=\"#000000\" fill-rule=\"evenodd\" fill-opacity=\"1\" /><path clip-path=\"url(#clip760)\" d=\"M 0 0 M1805.69 1534.04 L1810.57 1534.04 L1810.57 1539.92 L1805.69 1539.92 L1805.69 1534.04 Z\" fill=\"#000000\" fill-rule=\"evenodd\" fill-opacity=\"1\" /><path clip-path=\"url(#clip760)\" d=\"M 0 0 M1825.64 1508.44 Q1822.03 1508.44 1820.2 1512 Q1818.4 1515.55 1818.4 1522.67 Q1818.4 1529.78 1820.2 1533.35 Q1822.03 1536.89 1825.64 1536.89 Q1829.28 1536.89 1831.08 1533.35 Q1832.91 1529.78 1832.91 1522.67 Q1832.91 1515.55 1831.08 1512 Q1829.28 1508.44 1825.64 1508.44 M1825.64 1504.73 Q1831.45 1504.73 1834.51 1509.34 Q1837.59 1513.92 1837.59 1522.67 Q1837.59 1531.4 1834.51 1536.01 Q1831.45 1540.59 1825.64 1540.59 Q1819.83 1540.59 1816.75 1536.01 Q1813.7 1531.4 1813.7 1522.67 Q1813.7 1513.92 1816.75 1509.34 Q1819.83 1504.73 1825.64 1504.73 Z\" fill=\"#000000\" fill-rule=\"evenodd\" fill-opacity=\"1\" /><path clip-path=\"url(#clip760)\" d=\"M 0 0 M2096.78 1508.44 Q2093.17 1508.44 2091.34 1512 Q2089.53 1515.55 2089.53 1522.67 Q2089.53 1529.78 2091.34 1533.35 Q2093.17 1536.89 2096.78 1536.89 Q2100.41 1536.89 2102.22 1533.35 Q2104.04 1529.78 2104.04 1522.67 Q2104.04 1515.55 2102.22 1512 Q2100.41 1508.44 2096.78 1508.44 M2096.78 1504.73 Q2102.59 1504.73 2105.64 1509.34 Q2108.72 1513.92 2108.72 1522.67 Q2108.72 1531.4 2105.64 1536.01 Q2102.59 1540.59 2096.78 1540.59 Q2090.97 1540.59 2087.89 1536.01 Q2084.83 1531.4 2084.83 1522.67 Q2084.83 1513.92 2087.89 1509.34 Q2090.97 1504.73 2096.78 1504.73 Z\" fill=\"#000000\" fill-rule=\"evenodd\" fill-opacity=\"1\" /><path clip-path=\"url(#clip760)\" d=\"M 0 0 M2113.79 1534.04 L2118.67 1534.04 L2118.67 1539.92 L2113.79 1539.92 L2113.79 1534.04 Z\" fill=\"#000000\" fill-rule=\"evenodd\" fill-opacity=\"1\" /><path clip-path=\"url(#clip760)\" d=\"M 0 0 M2123.79 1505.36 L2142.15 1505.36 L2142.15 1509.3 L2128.07 1509.3 L2128.07 1517.77 Q2129.09 1517.42 2130.11 1517.26 Q2131.13 1517.07 2132.15 1517.07 Q2137.93 1517.07 2141.31 1520.24 Q2144.69 1523.42 2144.69 1528.83 Q2144.69 1534.41 2141.22 1537.51 Q2137.75 1540.59 2131.43 1540.59 Q2129.25 1540.59 2126.98 1540.22 Q2124.74 1539.85 2122.33 1539.11 L2122.33 1534.41 Q2124.41 1535.54 2126.64 1536.1 Q2128.86 1536.66 2131.34 1536.66 Q2135.34 1536.66 2137.68 1534.55 Q2140.02 1532.44 2140.02 1528.83 Q2140.02 1525.22 2137.68 1523.11 Q2135.34 1521.01 2131.34 1521.01 Q2129.46 1521.01 2127.59 1521.42 Q2125.73 1521.84 2123.79 1522.72 L2123.79 1505.36 Z\" fill=\"#000000\" fill-rule=\"evenodd\" fill-opacity=\"1\" /><path clip-path=\"url(#clip760)\" d=\"M 0 0 M63.3625 1196.52 L75.8393 1196.52 L75.8393 1200.31 L63.3625 1200.31 L63.3625 1196.52 Z\" fill=\"#000000\" fill-rule=\"evenodd\" fill-opacity=\"1\" /><path clip-path=\"url(#clip760)\" d=\"M 0 0 M84.9365 1207.47 L101.256 1207.47 L101.256 1211.4 L79.3115 1211.4 L79.3115 1207.47 Q81.9735 1204.71 86.5568 1200.08 Q91.1633 1195.43 92.3438 1194.09 Q94.5892 1191.56 95.4688 1189.83 Q96.3716 1188.07 96.3716 1186.38 Q96.3716 1183.62 94.4271 1181.89 Q92.5059 1180.15 89.404 1180.15 Q87.205 1180.15 84.7513 1180.92 Q82.3207 1181.68 79.543 1183.23 L79.543 1178.51 Q82.367 1177.37 84.8207 1176.8 Q87.2744 1176.22 89.3114 1176.22 Q94.6818 1176.22 97.8762 1178.9 Q101.071 1181.59 101.071 1186.08 Q101.071 1188.21 100.26 1190.13 Q99.4734 1192.03 97.3669 1194.62 Q96.7882 1195.29 93.6864 1198.51 Q90.5846 1201.7 84.9365 1207.47 Z\" fill=\"#000000\" fill-rule=\"evenodd\" fill-opacity=\"1\" /><path clip-path=\"url(#clip760)\" d=\"M 0 0 M62.9921 869.229 L75.4689 869.229 L75.4689 873.025 L62.9921 873.025 L62.9921 869.229 Z\" fill=\"#000000\" fill-rule=\"evenodd\" fill-opacity=\"1\" /><path clip-path=\"url(#clip760)\" d=\"M 0 0 M81.3485 880.178 L88.9874 880.178 L88.9874 853.812 L80.6772 855.479 L80.6772 851.22 L88.9411 849.553 L93.617 849.553 L93.617 880.178 L101.256 880.178 L101.256 884.113 L81.3485 884.113 L81.3485 880.178 Z\" fill=\"#000000\" fill-rule=\"evenodd\" fill-opacity=\"1\" /><path clip-path=\"url(#clip760)\" d=\"M 0 0 M89.3114 525.343 Q85.7003 525.343 83.8716 528.908 Q82.0661 532.449 82.0661 539.579 Q82.0661 546.685 83.8716 550.25 Q85.7003 553.792 89.3114 553.792 Q92.9457 553.792 94.7512 550.25 Q96.5799 546.685 96.5799 539.579 Q96.5799 532.449 94.7512 528.908 Q92.9457 525.343 89.3114 525.343 M89.3114 521.639 Q95.1216 521.639 98.1771 526.246 Q101.256 530.829 101.256 539.579 Q101.256 548.306 98.1771 552.912 Q95.1216 557.495 89.3114 557.495 Q83.5013 557.495 80.4226 552.912 Q77.367 548.306 77.367 539.579 Q77.367 530.829 80.4226 526.246 Q83.5013 521.639 89.3114 521.639 Z\" fill=\"#000000\" fill-rule=\"evenodd\" fill-opacity=\"1\" /><path clip-path=\"url(#clip760)\" d=\"M 0 0 M81.3485 225.6 L88.9874 225.6 L88.9874 199.235 L80.6772 200.901 L80.6772 196.642 L88.9411 194.975 L93.617 194.975 L93.617 225.6 L101.256 225.6 L101.256 229.535 L81.3485 229.535 L81.3485 225.6 Z\" fill=\"#000000\" fill-rule=\"evenodd\" fill-opacity=\"1\" /><path clip-path=\"url(#clip762)\" d=\"\n",
       "M1162.16 852.049 L2289.71 1445.72 L1315.85 681.643 L188.298 87.9763 L1162.16 852.049 L1162.16 852.049  Z\n",
       "  \" fill=\"#009af9\" fill-rule=\"evenodd\" fill-opacity=\"0.5\"/>\n",
       "<polyline clip-path=\"url(#clip762)\" style=\"stroke:#000000; stroke-width:4; stroke-opacity:0.5; fill:none\" points=\"\n",
       "  1162.16,852.049 2289.71,1445.72 1315.85,681.643 188.298,87.9763 1162.16,852.049 \n",
       "  \"/>\n",
       "</svg>\n"
      ]
     },
     "execution_count": 12,
     "metadata": {},
     "output_type": "execute_result"
    }
   ],
   "source": [
    "Z = rand(Zonotope, num_generators=2, dim=2)\n",
    "\n",
    "plot(Z)"
   ]
  },
  {
   "cell_type": "code",
   "execution_count": 14,
   "metadata": {},
   "outputs": [
    {
     "data": {
      "text/plain": [
       "ReachabilityAnalysis"
      ]
     },
     "execution_count": 14,
     "metadata": {},
     "output_type": "execute_result"
    }
   ],
   "source": [
    "const RA = ReachabilityAnalysis"
   ]
  },
  {
   "cell_type": "code",
   "execution_count": 23,
   "metadata": {},
   "outputs": [],
   "source": [
    "using TaylorModels"
   ]
  },
  {
   "cell_type": "code",
   "execution_count": 24,
   "metadata": {},
   "outputs": [
    {
     "data": {
      "text/plain": [
       "_overapproximate (generic function with 1 method)"
      ]
     },
     "execution_count": 24,
     "metadata": {},
     "output_type": "execute_result"
    }
   ],
   "source": [
    "function _overapproximate(Z::AbstractZonotope{N}, ::Type{<:TaylorModelReachSet};\n",
    "                          orderQ::Integer=2, orderT::Integer=8, Δt::RA.TimeInterval=RA.zeroI,\n",
    "                          indices=1:dim(Z)) where {N}\n",
    "\n",
    "    n = dim(Z)\n",
    "    x = set_variables(\"x\", numvars=n, order=2*orderQ)\n",
    "\n",
    "    if order(Z) > 1\n",
    "        # indices selects the indices that we want to keep\n",
    "        Z = LazySets.Approximations._overapproximate_hparallelotope(Z, indices)\n",
    "\n",
    "        # diagonal generators matrix\n",
    "        # Z = _reduce_order(Z, 1)\n",
    "    end\n",
    "    c = LazySets.center(Z)\n",
    "    G = genmat(Z)\n",
    "\n",
    "    # preallocations\n",
    "    vTM = Vector{TaylorModel1{TaylorN{N}, N}}(undef, n)\n",
    "\n",
    "    # for each variable i = 1, .., n, compute the linear polynomial that covers\n",
    "    # the line segment corresponding to the i-th edge of X\n",
    "    @inbounds for i in 1:n\n",
    "        pi = c[i] + sum(view(G, i, :) .* x)\n",
    "        vTM[i] = TaylorModel1(Taylor1(pi, orderT), RA.zeroI, RA.zeroI, Δt)\n",
    "    end\n",
    "\n",
    "    return TaylorModelReachSet(vTM, Δt)\n",
    "end"
   ]
  },
  {
   "cell_type": "code",
   "execution_count": 26,
   "metadata": {},
   "outputs": [
    {
     "data": {
      "text/plain": [
       "TaylorModelReachSet{Float64}(TaylorModel1{TaylorN{Float64},Float64}[  - 0.92350745550128 - 0.9163944056549396 x₁ + 0.7914893550919045 x₂ + [0, 0],   - 0.6944993235010295 + 0.9069462193111496 x₁ - 1.1672764080228202 x₂ + [0, 0]], [0, 0])"
      ]
     },
     "execution_count": 26,
     "metadata": {},
     "output_type": "execute_result"
    }
   ],
   "source": [
    "T = _overapproximate(Z, TaylorModelReachSet)"
   ]
  },
  {
   "cell_type": "code",
   "execution_count": 27,
   "metadata": {},
   "outputs": [
    {
     "data": {
      "text/plain": [
       "2-element Array{TaylorModel1{TaylorN{Float64},Float64},1}:\n",
       "     - 0.92350745550128 - 0.9163944056549396 x₁ + 0.7914893550919045 x₂ + [0, 0]\n",
       "   - 0.6944993235010295 + 0.9069462193111496 x₁ - 1.1672764080228202 x₂ + [0, 0]"
      ]
     },
     "execution_count": 27,
     "metadata": {},
     "output_type": "execute_result"
    }
   ],
   "source": [
    "set(T)"
   ]
  },
  {
   "cell_type": "code",
   "execution_count": 28,
   "metadata": {},
   "outputs": [
    {
     "data": {
      "text/plain": [
       "2×2 Array{Float64,2}:\n",
       " -0.916394   0.791489\n",
       "  0.906946  -1.16728"
      ]
     },
     "execution_count": 28,
     "metadata": {},
     "output_type": "execute_result"
    }
   ],
   "source": [
    "genmat(Z)"
   ]
  },
  {
   "cell_type": "code",
   "execution_count": 30,
   "metadata": {},
   "outputs": [
    {
     "data": {
      "text/plain": [
       "2-element Array{Float64,1}:\n",
       " -0.92350745550128\n",
       " -0.6944993235010295"
      ]
     },
     "execution_count": 30,
     "metadata": {},
     "output_type": "execute_result"
    }
   ],
   "source": [
    "using LazySets: center\n",
    "\n",
    "center(Z)"
   ]
  },
  {
   "cell_type": "code",
   "execution_count": 31,
   "metadata": {},
   "outputs": [
    {
     "data": {
      "text/plain": [
       "2×4 Array{Float64,2}:\n",
       " 0.335158  -0.456498  -0.799468   0.141424\n",
       " 0.181925  -0.568434  -1.4265    -0.0640547"
      ]
     },
     "execution_count": 31,
     "metadata": {},
     "output_type": "execute_result"
    }
   ],
   "source": [
    "Z = rand(Zonotope, num_generators=4, dim=2)\n",
    "genmat(Z)"
   ]
  },
  {
   "cell_type": "code",
   "execution_count": 35,
   "metadata": {},
   "outputs": [
    {
     "data": {
      "image/svg+xml": [
       "<?xml version=\"1.0\" encoding=\"utf-8\"?>\n",
       "<svg xmlns=\"http://www.w3.org/2000/svg\" xmlns:xlink=\"http://www.w3.org/1999/xlink\" width=\"600\" height=\"400\" viewBox=\"0 0 2400 1600\">\n",
       "<defs>\n",
       "  <clipPath id=\"clip840\">\n",
       "    <rect x=\"0\" y=\"0\" width=\"2400\" height=\"1600\"/>\n",
       "  </clipPath>\n",
       "</defs>\n",
       "<path clip-path=\"url(#clip840)\" d=\"\n",
       "M0 1600 L2400 1600 L2400 0 L0 0  Z\n",
       "  \" fill=\"#ffffff\" fill-rule=\"evenodd\" fill-opacity=\"1\"/>\n",
       "<defs>\n",
       "  <clipPath id=\"clip841\">\n",
       "    <rect x=\"480\" y=\"0\" width=\"1681\" height=\"1600\"/>\n",
       "  </clipPath>\n",
       "</defs>\n",
       "<path clip-path=\"url(#clip840)\" d=\"\n",
       "M110.881 1486.45 L2352.76 1486.45 L2352.76 47.2441 L110.881 47.2441  Z\n",
       "  \" fill=\"#ffffff\" fill-rule=\"evenodd\" fill-opacity=\"1\"/>\n",
       "<defs>\n",
       "  <clipPath id=\"clip842\">\n",
       "    <rect x=\"110\" y=\"47\" width=\"2243\" height=\"1440\"/>\n",
       "  </clipPath>\n",
       "</defs>\n",
       "<polyline clip-path=\"url(#clip842)\" style=\"stroke:#000000; stroke-width:2; stroke-opacity:0.1; fill:none\" points=\"\n",
       "  330.215,1486.45 330.215,47.2441 \n",
       "  \"/>\n",
       "<polyline clip-path=\"url(#clip842)\" style=\"stroke:#000000; stroke-width:2; stroke-opacity:0.1; fill:none\" points=\"\n",
       "  940.58,1486.45 940.58,47.2441 \n",
       "  \"/>\n",
       "<polyline clip-path=\"url(#clip842)\" style=\"stroke:#000000; stroke-width:2; stroke-opacity:0.1; fill:none\" points=\"\n",
       "  1550.95,1486.45 1550.95,47.2441 \n",
       "  \"/>\n",
       "<polyline clip-path=\"url(#clip842)\" style=\"stroke:#000000; stroke-width:2; stroke-opacity:0.1; fill:none\" points=\"\n",
       "  2161.31,1486.45 2161.31,47.2441 \n",
       "  \"/>\n",
       "<polyline clip-path=\"url(#clip842)\" style=\"stroke:#000000; stroke-width:2; stroke-opacity:0.1; fill:none\" points=\"\n",
       "  110.881,1248.53 2352.76,1248.53 \n",
       "  \"/>\n",
       "<polyline clip-path=\"url(#clip842)\" style=\"stroke:#000000; stroke-width:2; stroke-opacity:0.1; fill:none\" points=\"\n",
       "  110.881,945.581 2352.76,945.581 \n",
       "  \"/>\n",
       "<polyline clip-path=\"url(#clip842)\" style=\"stroke:#000000; stroke-width:2; stroke-opacity:0.1; fill:none\" points=\"\n",
       "  110.881,642.638 2352.76,642.638 \n",
       "  \"/>\n",
       "<polyline clip-path=\"url(#clip842)\" style=\"stroke:#000000; stroke-width:2; stroke-opacity:0.1; fill:none\" points=\"\n",
       "  110.881,339.694 2352.76,339.694 \n",
       "  \"/>\n",
       "<polyline clip-path=\"url(#clip840)\" style=\"stroke:#000000; stroke-width:4; stroke-opacity:1; fill:none\" points=\"\n",
       "  110.881,1486.45 2352.76,1486.45 \n",
       "  \"/>\n",
       "<polyline clip-path=\"url(#clip840)\" style=\"stroke:#000000; stroke-width:4; stroke-opacity:1; fill:none\" points=\"\n",
       "  110.881,1486.45 110.881,47.2441 \n",
       "  \"/>\n",
       "<polyline clip-path=\"url(#clip840)\" style=\"stroke:#000000; stroke-width:4; stroke-opacity:1; fill:none\" points=\"\n",
       "  330.215,1486.45 330.215,1469.18 \n",
       "  \"/>\n",
       "<polyline clip-path=\"url(#clip840)\" style=\"stroke:#000000; stroke-width:4; stroke-opacity:1; fill:none\" points=\"\n",
       "  940.58,1486.45 940.58,1469.18 \n",
       "  \"/>\n",
       "<polyline clip-path=\"url(#clip840)\" style=\"stroke:#000000; stroke-width:4; stroke-opacity:1; fill:none\" points=\"\n",
       "  1550.95,1486.45 1550.95,1469.18 \n",
       "  \"/>\n",
       "<polyline clip-path=\"url(#clip840)\" style=\"stroke:#000000; stroke-width:4; stroke-opacity:1; fill:none\" points=\"\n",
       "  2161.31,1486.45 2161.31,1469.18 \n",
       "  \"/>\n",
       "<polyline clip-path=\"url(#clip840)\" style=\"stroke:#000000; stroke-width:4; stroke-opacity:1; fill:none\" points=\"\n",
       "  110.881,1248.53 137.783,1248.53 \n",
       "  \"/>\n",
       "<polyline clip-path=\"url(#clip840)\" style=\"stroke:#000000; stroke-width:4; stroke-opacity:1; fill:none\" points=\"\n",
       "  110.881,945.581 137.783,945.581 \n",
       "  \"/>\n",
       "<polyline clip-path=\"url(#clip840)\" style=\"stroke:#000000; stroke-width:4; stroke-opacity:1; fill:none\" points=\"\n",
       "  110.881,642.638 137.783,642.638 \n",
       "  \"/>\n",
       "<polyline clip-path=\"url(#clip840)\" style=\"stroke:#000000; stroke-width:4; stroke-opacity:1; fill:none\" points=\"\n",
       "  110.881,339.694 137.783,339.694 \n",
       "  \"/>\n",
       "<path clip-path=\"url(#clip840)\" d=\"M 0 0 M310.793 1525.04 L323.27 1525.04 L323.27 1528.83 L310.793 1528.83 L310.793 1525.04 Z\" fill=\"#000000\" fill-rule=\"evenodd\" fill-opacity=\"1\" /><path clip-path=\"url(#clip840)\" d=\"M 0 0 M342.506 1521.29 Q345.863 1522 347.738 1524.27 Q349.636 1526.54 349.636 1529.87 Q349.636 1534.99 346.117 1537.79 Q342.599 1540.59 336.117 1540.59 Q333.941 1540.59 331.627 1540.15 Q329.335 1539.73 326.881 1538.88 L326.881 1534.36 Q328.826 1535.5 331.141 1536.08 Q333.455 1536.66 335.979 1536.66 Q340.377 1536.66 342.668 1534.92 Q344.983 1533.18 344.983 1529.87 Q344.983 1526.82 342.83 1525.11 Q340.701 1523.37 336.881 1523.37 L332.854 1523.37 L332.854 1519.53 L337.066 1519.53 Q340.516 1519.53 342.344 1518.16 Q344.173 1516.77 344.173 1514.18 Q344.173 1511.52 342.275 1510.11 Q340.4 1508.67 336.881 1508.67 Q334.96 1508.67 332.761 1509.09 Q330.562 1509.5 327.923 1510.38 L327.923 1506.22 Q330.585 1505.48 332.9 1505.11 Q335.238 1504.73 337.298 1504.73 Q342.622 1504.73 345.724 1507.17 Q348.826 1509.57 348.826 1513.69 Q348.826 1516.56 347.182 1518.55 Q345.539 1520.52 342.506 1521.29 Z\" fill=\"#000000\" fill-rule=\"evenodd\" fill-opacity=\"1\" /><path clip-path=\"url(#clip840)\" d=\"M 0 0 M921.634 1525.04 L934.11 1525.04 L934.11 1528.83 L921.634 1528.83 L921.634 1525.04 Z\" fill=\"#000000\" fill-rule=\"evenodd\" fill-opacity=\"1\" /><path clip-path=\"url(#clip840)\" d=\"M 0 0 M943.208 1535.98 L959.527 1535.98 L959.527 1539.92 L937.583 1539.92 L937.583 1535.98 Q940.245 1533.23 944.828 1528.6 Q949.434 1523.95 950.615 1522.61 Q952.86 1520.08 953.74 1518.35 Q954.643 1516.59 954.643 1514.9 Q954.643 1512.14 952.698 1510.41 Q950.777 1508.67 947.675 1508.67 Q945.476 1508.67 943.022 1509.43 Q940.592 1510.2 937.814 1511.75 L937.814 1507.03 Q940.638 1505.89 943.092 1505.31 Q945.546 1504.73 947.583 1504.73 Q952.953 1504.73 956.147 1507.42 Q959.342 1510.11 959.342 1514.6 Q959.342 1516.73 958.532 1518.65 Q957.745 1520.54 955.638 1523.14 Q955.059 1523.81 951.958 1527.03 Q948.856 1530.22 943.208 1535.98 Z\" fill=\"#000000\" fill-rule=\"evenodd\" fill-opacity=\"1\" /><path clip-path=\"url(#clip840)\" d=\"M 0 0 M1531.81 1525.04 L1544.29 1525.04 L1544.29 1528.83 L1531.81 1528.83 L1531.81 1525.04 Z\" fill=\"#000000\" fill-rule=\"evenodd\" fill-opacity=\"1\" /><path clip-path=\"url(#clip840)\" d=\"M 0 0 M1550.17 1535.98 L1557.81 1535.98 L1557.81 1509.62 L1549.5 1511.29 L1549.5 1507.03 L1557.76 1505.36 L1562.44 1505.36 L1562.44 1535.98 L1570.08 1535.98 L1570.08 1539.92 L1550.17 1539.92 L1550.17 1535.98 Z\" fill=\"#000000\" fill-rule=\"evenodd\" fill-opacity=\"1\" /><path clip-path=\"url(#clip840)\" d=\"M 0 0 M2161.31 1508.44 Q2157.7 1508.44 2155.87 1512 Q2154.07 1515.55 2154.07 1522.67 Q2154.07 1529.78 2155.87 1533.35 Q2157.7 1536.89 2161.31 1536.89 Q2164.95 1536.89 2166.75 1533.35 Q2168.58 1529.78 2168.58 1522.67 Q2168.58 1515.55 2166.75 1512 Q2164.95 1508.44 2161.31 1508.44 M2161.31 1504.73 Q2167.12 1504.73 2170.18 1509.34 Q2173.26 1513.92 2173.26 1522.67 Q2173.26 1531.4 2170.18 1536.01 Q2167.12 1540.59 2161.31 1540.59 Q2155.5 1540.59 2152.42 1536.01 Q2149.37 1531.4 2149.37 1522.67 Q2149.37 1513.92 2152.42 1509.34 Q2155.5 1504.73 2161.31 1504.73 Z\" fill=\"#000000\" fill-rule=\"evenodd\" fill-opacity=\"1\" /><path clip-path=\"url(#clip840)\" d=\"M 0 0 M74.9365 1234.32 Q71.3254 1234.32 69.4967 1237.89 Q67.6912 1241.43 67.6912 1248.56 Q67.6912 1255.67 69.4967 1259.23 Q71.3254 1262.77 74.9365 1262.77 Q78.5707 1262.77 80.3763 1259.23 Q82.205 1255.67 82.205 1248.56 Q82.205 1241.43 80.3763 1237.89 Q78.5707 1234.32 74.9365 1234.32 M74.9365 1230.62 Q80.7467 1230.62 83.8022 1235.23 Q86.8809 1239.81 86.8809 1248.56 Q86.8809 1257.29 83.8022 1261.89 Q80.7467 1266.48 74.9365 1266.48 Q69.1264 1266.48 66.0477 1261.89 Q62.9921 1257.29 62.9921 1248.56 Q62.9921 1239.81 66.0477 1235.23 Q69.1264 1230.62 74.9365 1230.62 Z\" fill=\"#000000\" fill-rule=\"evenodd\" fill-opacity=\"1\" /><path clip-path=\"url(#clip840)\" d=\"M 0 0 M66.9736 958.926 L74.6124 958.926 L74.6124 932.561 L66.3023 934.227 L66.3023 929.968 L74.5661 928.301 L79.242 928.301 L79.242 958.926 L86.8809 958.926 L86.8809 962.861 L66.9736 962.861 L66.9736 958.926 Z\" fill=\"#000000\" fill-rule=\"evenodd\" fill-opacity=\"1\" /><path clip-path=\"url(#clip840)\" d=\"M 0 0 M70.5615 655.983 L86.8809 655.983 L86.8809 659.918 L64.9366 659.918 L64.9366 655.983 Q67.5986 653.228 72.1819 648.598 Q76.7883 643.946 77.9689 642.603 Q80.2143 640.08 81.0939 638.344 Q81.9967 636.584 81.9967 634.895 Q81.9967 632.14 80.0522 630.404 Q78.1309 628.668 75.0291 628.668 Q72.83 628.668 70.3763 629.432 Q67.9458 630.196 65.168 631.747 L65.168 627.024 Q67.9921 625.89 70.4458 625.311 Q72.8995 624.733 74.9365 624.733 Q80.3068 624.733 83.5013 627.418 Q86.6957 630.103 86.6957 634.594 Q86.6957 636.723 85.8855 638.645 Q85.0985 640.543 82.992 643.135 Q82.4133 643.807 79.3115 647.024 Q76.2096 650.219 70.5615 655.983 Z\" fill=\"#000000\" fill-rule=\"evenodd\" fill-opacity=\"1\" /><path clip-path=\"url(#clip840)\" d=\"M 0 0 M79.7513 338.34 Q83.1078 339.057 84.9827 341.326 Q86.8809 343.594 86.8809 346.928 Q86.8809 352.043 83.3624 354.844 Q79.8439 357.645 73.3624 357.645 Q71.1865 357.645 68.8717 357.206 Q66.5801 356.789 64.1264 355.932 L64.1264 351.418 Q66.0708 352.553 68.3856 353.131 Q70.7004 353.71 73.2236 353.71 Q77.6217 353.71 79.9133 351.974 Q82.2281 350.238 82.2281 346.928 Q82.2281 343.872 80.0754 342.159 Q77.9457 340.423 74.1263 340.423 L70.0986 340.423 L70.0986 336.581 L74.3115 336.581 Q77.7606 336.581 79.5893 335.215 Q81.418 333.826 81.418 331.233 Q81.418 328.571 79.5198 327.159 Q77.6448 325.724 74.1263 325.724 Q72.205 325.724 70.006 326.141 Q67.8069 326.558 65.168 327.437 L65.168 323.27 Q67.8301 322.53 70.1449 322.159 Q72.4828 321.789 74.543 321.789 Q79.867 321.789 82.9689 324.22 Q86.0707 326.627 86.0707 330.747 Q86.0707 333.618 84.4272 335.608 Q82.7837 337.576 79.7513 338.34 Z\" fill=\"#000000\" fill-rule=\"evenodd\" fill-opacity=\"1\" /><path clip-path=\"url(#clip842)\" d=\"\n",
       "M174.33 1406.91 L346.971 1445.72 L756.109 1335.49 L1313.37 991.083 L2289.31 126.786 L2116.67 87.9763 L1707.53 198.202 L1150.27 542.609 L174.33 1406.91 L174.33 1406.91 \n",
       "   Z\n",
       "  \" fill=\"#009af9\" fill-rule=\"evenodd\" fill-opacity=\"0.5\"/>\n",
       "<polyline clip-path=\"url(#clip842)\" style=\"stroke:#000000; stroke-width:4; stroke-opacity:0.5; fill:none\" points=\"\n",
       "  174.33,1406.91 346.971,1445.72 756.109,1335.49 1313.37,991.083 2289.31,126.786 2116.67,87.9763 1707.53,198.202 1150.27,542.609 174.33,1406.91 \n",
       "  \n",
       "  \"/>\n",
       "</svg>\n"
      ]
     },
     "execution_count": 35,
     "metadata": {},
     "output_type": "execute_result"
    }
   ],
   "source": [
    "plot(Z)"
   ]
  },
  {
   "cell_type": "code",
   "execution_count": 48,
   "metadata": {},
   "outputs": [
    {
     "data": {
      "text/plain": [
       "Zonotope{Float64,Array{Float64,1},Array{Float64,2}}([-1.5228466035939172, 1.5899953962230131], [0.7882360405335139 -1.1711664729223261; 0.4278566997466156 -2.0897219728172853])"
      ]
     },
     "execution_count": 48,
     "metadata": {},
     "output_type": "execute_result"
    }
   ],
   "source": [
    "H12 = LazySets.Approximations._overapproximate_hparallelotope(Z, 1:2)\n",
    "H34 = LazySets.Approximations._overapproximate_hparallelotope(Z, 3:4)\n",
    "H13 = LazySets.Approximations._overapproximate_hparallelotope(Z, [1,3])"
   ]
  },
  {
   "cell_type": "code",
   "execution_count": 44,
   "metadata": {},
   "outputs": [
    {
     "data": {
      "text/plain": [
       "2×2 Array{Float64,2}:\n",
       " -1.29513   0.437415\n",
       " -2.31092  -0.198116"
      ]
     },
     "execution_count": 44,
     "metadata": {},
     "output_type": "execute_result"
    }
   ],
   "source": [
    "genmat(H)"
   ]
  },
  {
   "cell_type": "code",
   "execution_count": 46,
   "metadata": {},
   "outputs": [
    {
     "data": {
      "text/plain": [
       "2×4 Array{Float64,2}:\n",
       " 0.335158  -0.456498  -0.799468   0.141424\n",
       " 0.181925  -0.568434  -1.4265    -0.0640547"
      ]
     },
     "execution_count": 46,
     "metadata": {},
     "output_type": "execute_result"
    }
   ],
   "source": [
    "genmat(Z)"
   ]
  },
  {
   "cell_type": "code",
   "execution_count": 50,
   "metadata": {},
   "outputs": [
    {
     "data": {
      "text/plain": [
       "7.506575200749708"
      ]
     },
     "execution_count": 50,
     "metadata": {},
     "output_type": "execute_result"
    }
   ],
   "source": [
    "area(H12)"
   ]
  },
  {
   "cell_type": "code",
   "execution_count": 51,
   "metadata": {},
   "outputs": [
    {
     "data": {
      "text/plain": [
       "5.069667987311153"
      ]
     },
     "execution_count": 51,
     "metadata": {},
     "output_type": "execute_result"
    }
   ],
   "source": [
    "area(H34)"
   ]
  },
  {
   "cell_type": "code",
   "execution_count": 52,
   "metadata": {},
   "outputs": [
    {
     "data": {
      "text/plain": [
       "4.5844110068437995"
      ]
     },
     "execution_count": 52,
     "metadata": {},
     "output_type": "execute_result"
    }
   ],
   "source": [
    "area(H13)"
   ]
  },
  {
   "cell_type": "code",
   "execution_count": 62,
   "metadata": {},
   "outputs": [
    {
     "data": {
      "text/plain": [
       "TaylorModelReachSet{Float64}(TaylorModel1{TaylorN{Float64},Float64}[  - 1.5228466035939172 + 0.7882360405335139 x₁ - 1.1711664729223261 x₂ + [0, 0],   1.5899953962230131 + 0.4278566997466156 x₁ - 2.0897219728172853 x₂ + [0, 0]], [0, 0])"
      ]
     },
     "execution_count": 62,
     "metadata": {},
     "output_type": "execute_result"
    }
   ],
   "source": [
    "T13 = _overapproximate(H13, TaylorModelReachSet)"
   ]
  },
  {
   "cell_type": "code",
   "execution_count": 63,
   "metadata": {},
   "outputs": [
    {
     "data": {
      "text/plain": [
       "2-element Array{TaylorModel1{TaylorN{Float64},Float64},1}:\n",
       "   - 1.5228466035939172 + 0.7882360405335139 x₁ - 1.1711664729223261 x₂ + [0, 0]\n",
       "     1.5899953962230131 + 0.4278566997466156 x₁ - 2.0897219728172853 x₂ + [0, 0]"
      ]
     },
     "execution_count": 63,
     "metadata": {},
     "output_type": "execute_result"
    }
   ],
   "source": [
    "xTM = set(T13)"
   ]
  },
  {
   "cell_type": "code",
   "execution_count": 68,
   "metadata": {},
   "outputs": [
    {
     "data": {
      "text/plain": [
       "  - 1.5228466035939172 + 0.7882360405335139 x₁ - 1.1711664729223261 x₂ + [0, 0]"
      ]
     },
     "execution_count": 68,
     "metadata": {},
     "output_type": "execute_result"
    }
   ],
   "source": [
    "xTM[1]"
   ]
  },
  {
   "cell_type": "code",
   "execution_count": 61,
   "metadata": {},
   "outputs": [
    {
     "data": {
      "image/svg+xml": [
       "<?xml version=\"1.0\" encoding=\"utf-8\"?>\n",
       "<svg xmlns=\"http://www.w3.org/2000/svg\" xmlns:xlink=\"http://www.w3.org/1999/xlink\" width=\"600\" height=\"400\" viewBox=\"0 0 2400 1600\">\n",
       "<defs>\n",
       "  <clipPath id=\"clip080\">\n",
       "    <rect x=\"0\" y=\"0\" width=\"2400\" height=\"1600\"/>\n",
       "  </clipPath>\n",
       "</defs>\n",
       "<path clip-path=\"url(#clip080)\" d=\"\n",
       "M0 1600 L2400 1600 L2400 0 L0 0  Z\n",
       "  \" fill=\"#ffffff\" fill-rule=\"evenodd\" fill-opacity=\"1\"/>\n",
       "<defs>\n",
       "  <clipPath id=\"clip081\">\n",
       "    <rect x=\"480\" y=\"0\" width=\"1681\" height=\"1600\"/>\n",
       "  </clipPath>\n",
       "</defs>\n",
       "<path clip-path=\"url(#clip080)\" d=\"\n",
       "M125.256 1486.45 L2352.76 1486.45 L2352.76 47.2441 L125.256 47.2441  Z\n",
       "  \" fill=\"#ffffff\" fill-rule=\"evenodd\" fill-opacity=\"1\"/>\n",
       "<defs>\n",
       "  <clipPath id=\"clip082\">\n",
       "    <rect x=\"125\" y=\"47\" width=\"2229\" height=\"1440\"/>\n",
       "  </clipPath>\n",
       "</defs>\n",
       "<polyline clip-path=\"url(#clip082)\" style=\"stroke:#000000; stroke-width:2; stroke-opacity:0.1; fill:none\" points=\"\n",
       "  311.855,1486.45 311.855,47.2441 \n",
       "  \"/>\n",
       "<polyline clip-path=\"url(#clip082)\" style=\"stroke:#000000; stroke-width:2; stroke-opacity:0.1; fill:none\" points=\"\n",
       "  726.025,1486.45 726.025,47.2441 \n",
       "  \"/>\n",
       "<polyline clip-path=\"url(#clip082)\" style=\"stroke:#000000; stroke-width:2; stroke-opacity:0.1; fill:none\" points=\"\n",
       "  1140.19,1486.45 1140.19,47.2441 \n",
       "  \"/>\n",
       "<polyline clip-path=\"url(#clip082)\" style=\"stroke:#000000; stroke-width:2; stroke-opacity:0.1; fill:none\" points=\"\n",
       "  1554.36,1486.45 1554.36,47.2441 \n",
       "  \"/>\n",
       "<polyline clip-path=\"url(#clip082)\" style=\"stroke:#000000; stroke-width:2; stroke-opacity:0.1; fill:none\" points=\"\n",
       "  1968.53,1486.45 1968.53,47.2441 \n",
       "  \"/>\n",
       "<polyline clip-path=\"url(#clip082)\" style=\"stroke:#000000; stroke-width:2; stroke-opacity:0.1; fill:none\" points=\"\n",
       "  125.256,1303.2 2352.76,1303.2 \n",
       "  \"/>\n",
       "<polyline clip-path=\"url(#clip082)\" style=\"stroke:#000000; stroke-width:2; stroke-opacity:0.1; fill:none\" points=\"\n",
       "  125.256,1096.11 2352.76,1096.11 \n",
       "  \"/>\n",
       "<polyline clip-path=\"url(#clip082)\" style=\"stroke:#000000; stroke-width:2; stroke-opacity:0.1; fill:none\" points=\"\n",
       "  125.256,889.025 2352.76,889.025 \n",
       "  \"/>\n",
       "<polyline clip-path=\"url(#clip082)\" style=\"stroke:#000000; stroke-width:2; stroke-opacity:0.1; fill:none\" points=\"\n",
       "  125.256,681.94 2352.76,681.94 \n",
       "  \"/>\n",
       "<polyline clip-path=\"url(#clip082)\" style=\"stroke:#000000; stroke-width:2; stroke-opacity:0.1; fill:none\" points=\"\n",
       "  125.256,474.855 2352.76,474.855 \n",
       "  \"/>\n",
       "<polyline clip-path=\"url(#clip082)\" style=\"stroke:#000000; stroke-width:2; stroke-opacity:0.1; fill:none\" points=\"\n",
       "  125.256,267.77 2352.76,267.77 \n",
       "  \"/>\n",
       "<polyline clip-path=\"url(#clip082)\" style=\"stroke:#000000; stroke-width:2; stroke-opacity:0.1; fill:none\" points=\"\n",
       "  125.256,60.6852 2352.76,60.6852 \n",
       "  \"/>\n",
       "<polyline clip-path=\"url(#clip080)\" style=\"stroke:#000000; stroke-width:4; stroke-opacity:1; fill:none\" points=\"\n",
       "  125.256,1486.45 2352.76,1486.45 \n",
       "  \"/>\n",
       "<polyline clip-path=\"url(#clip080)\" style=\"stroke:#000000; stroke-width:4; stroke-opacity:1; fill:none\" points=\"\n",
       "  125.256,1486.45 125.256,47.2441 \n",
       "  \"/>\n",
       "<polyline clip-path=\"url(#clip080)\" style=\"stroke:#000000; stroke-width:4; stroke-opacity:1; fill:none\" points=\"\n",
       "  311.855,1486.45 311.855,1469.18 \n",
       "  \"/>\n",
       "<polyline clip-path=\"url(#clip080)\" style=\"stroke:#000000; stroke-width:4; stroke-opacity:1; fill:none\" points=\"\n",
       "  726.025,1486.45 726.025,1469.18 \n",
       "  \"/>\n",
       "<polyline clip-path=\"url(#clip080)\" style=\"stroke:#000000; stroke-width:4; stroke-opacity:1; fill:none\" points=\"\n",
       "  1140.19,1486.45 1140.19,1469.18 \n",
       "  \"/>\n",
       "<polyline clip-path=\"url(#clip080)\" style=\"stroke:#000000; stroke-width:4; stroke-opacity:1; fill:none\" points=\"\n",
       "  1554.36,1486.45 1554.36,1469.18 \n",
       "  \"/>\n",
       "<polyline clip-path=\"url(#clip080)\" style=\"stroke:#000000; stroke-width:4; stroke-opacity:1; fill:none\" points=\"\n",
       "  1968.53,1486.45 1968.53,1469.18 \n",
       "  \"/>\n",
       "<polyline clip-path=\"url(#clip080)\" style=\"stroke:#000000; stroke-width:4; stroke-opacity:1; fill:none\" points=\"\n",
       "  125.256,1303.2 151.986,1303.2 \n",
       "  \"/>\n",
       "<polyline clip-path=\"url(#clip080)\" style=\"stroke:#000000; stroke-width:4; stroke-opacity:1; fill:none\" points=\"\n",
       "  125.256,1096.11 151.986,1096.11 \n",
       "  \"/>\n",
       "<polyline clip-path=\"url(#clip080)\" style=\"stroke:#000000; stroke-width:4; stroke-opacity:1; fill:none\" points=\"\n",
       "  125.256,889.025 151.986,889.025 \n",
       "  \"/>\n",
       "<polyline clip-path=\"url(#clip080)\" style=\"stroke:#000000; stroke-width:4; stroke-opacity:1; fill:none\" points=\"\n",
       "  125.256,681.94 151.986,681.94 \n",
       "  \"/>\n",
       "<polyline clip-path=\"url(#clip080)\" style=\"stroke:#000000; stroke-width:4; stroke-opacity:1; fill:none\" points=\"\n",
       "  125.256,474.855 151.986,474.855 \n",
       "  \"/>\n",
       "<polyline clip-path=\"url(#clip080)\" style=\"stroke:#000000; stroke-width:4; stroke-opacity:1; fill:none\" points=\"\n",
       "  125.256,267.77 151.986,267.77 \n",
       "  \"/>\n",
       "<polyline clip-path=\"url(#clip080)\" style=\"stroke:#000000; stroke-width:4; stroke-opacity:1; fill:none\" points=\"\n",
       "  125.256,60.6852 151.986,60.6852 \n",
       "  \"/>\n",
       "<path clip-path=\"url(#clip080)\" d=\"M 0 0 M292.028 1525.04 L304.505 1525.04 L304.505 1528.83 L292.028 1528.83 L292.028 1525.04 Z\" fill=\"#000000\" fill-rule=\"evenodd\" fill-opacity=\"1\" /><path clip-path=\"url(#clip080)\" d=\"M 0 0 M320.153 1520.78 Q317.005 1520.78 315.153 1522.93 Q313.324 1525.08 313.324 1528.83 Q313.324 1532.56 315.153 1534.73 Q317.005 1536.89 320.153 1536.89 Q323.301 1536.89 325.13 1534.73 Q326.982 1532.56 326.982 1528.83 Q326.982 1525.08 325.13 1522.93 Q323.301 1520.78 320.153 1520.78 M329.435 1506.12 L329.435 1510.38 Q327.676 1509.55 325.871 1509.11 Q324.088 1508.67 322.329 1508.67 Q317.699 1508.67 315.246 1511.8 Q312.815 1514.92 312.468 1521.24 Q313.834 1519.23 315.894 1518.16 Q317.954 1517.07 320.431 1517.07 Q325.639 1517.07 328.648 1520.24 Q331.681 1523.39 331.681 1528.83 Q331.681 1534.16 328.533 1537.37 Q325.385 1540.59 320.153 1540.59 Q314.158 1540.59 310.987 1536.01 Q307.815 1531.4 307.815 1522.67 Q307.815 1514.48 311.704 1509.62 Q315.593 1504.73 322.144 1504.73 Q323.903 1504.73 325.686 1505.08 Q327.491 1505.43 329.435 1506.12 Z\" fill=\"#000000\" fill-rule=\"evenodd\" fill-opacity=\"1\" /><path clip-path=\"url(#clip080)\" d=\"M 0 0 M706.036 1525.04 L718.513 1525.04 L718.513 1528.83 L706.036 1528.83 L706.036 1525.04 Z\" fill=\"#000000\" fill-rule=\"evenodd\" fill-opacity=\"1\" /><path clip-path=\"url(#clip080)\" d=\"M 0 0 M736.43 1509.43 L724.624 1527.88 L736.43 1527.88 L736.43 1509.43 M735.203 1505.36 L741.082 1505.36 L741.082 1527.88 L746.013 1527.88 L746.013 1531.77 L741.082 1531.77 L741.082 1539.92 L736.43 1539.92 L736.43 1531.77 L720.828 1531.77 L720.828 1527.26 L735.203 1505.36 Z\" fill=\"#000000\" fill-rule=\"evenodd\" fill-opacity=\"1\" /><path clip-path=\"url(#clip080)\" d=\"M 0 0 M1121.25 1525.04 L1133.72 1525.04 L1133.72 1528.83 L1121.25 1528.83 L1121.25 1525.04 Z\" fill=\"#000000\" fill-rule=\"evenodd\" fill-opacity=\"1\" /><path clip-path=\"url(#clip080)\" d=\"M 0 0 M1142.82 1535.98 L1159.14 1535.98 L1159.14 1539.92 L1137.2 1539.92 L1137.2 1535.98 Q1139.86 1533.23 1144.44 1528.6 Q1149.05 1523.95 1150.23 1522.61 Q1152.47 1520.08 1153.35 1518.35 Q1154.26 1516.59 1154.26 1514.9 Q1154.26 1512.14 1152.31 1510.41 Q1150.39 1508.67 1147.29 1508.67 Q1145.09 1508.67 1142.64 1509.43 Q1140.21 1510.2 1137.43 1511.75 L1137.43 1507.03 Q1140.25 1505.89 1142.71 1505.31 Q1145.16 1504.73 1147.2 1504.73 Q1152.57 1504.73 1155.76 1507.42 Q1158.96 1510.11 1158.96 1514.6 Q1158.96 1516.73 1158.15 1518.65 Q1157.36 1520.54 1155.25 1523.14 Q1154.67 1523.81 1151.57 1527.03 Q1148.47 1530.22 1142.82 1535.98 Z\" fill=\"#000000\" fill-rule=\"evenodd\" fill-opacity=\"1\" /><path clip-path=\"url(#clip080)\" d=\"M 0 0 M1554.36 1508.44 Q1550.75 1508.44 1548.92 1512 Q1547.12 1515.55 1547.12 1522.67 Q1547.12 1529.78 1548.92 1533.35 Q1550.75 1536.89 1554.36 1536.89 Q1558 1536.89 1559.8 1533.35 Q1561.63 1529.78 1561.63 1522.67 Q1561.63 1515.55 1559.8 1512 Q1558 1508.44 1554.36 1508.44 M1554.36 1504.73 Q1560.17 1504.73 1563.23 1509.34 Q1566.31 1513.92 1566.31 1522.67 Q1566.31 1531.4 1563.23 1536.01 Q1560.17 1540.59 1554.36 1540.59 Q1548.55 1540.59 1545.48 1536.01 Q1542.42 1531.4 1542.42 1522.67 Q1542.42 1513.92 1545.48 1509.34 Q1548.55 1504.73 1554.36 1504.73 Z\" fill=\"#000000\" fill-rule=\"evenodd\" fill-opacity=\"1\" /><path clip-path=\"url(#clip080)\" d=\"M 0 0 M1963.19 1535.98 L1979.51 1535.98 L1979.51 1539.92 L1957.56 1539.92 L1957.56 1535.98 Q1960.22 1533.23 1964.81 1528.6 Q1969.41 1523.95 1970.59 1522.61 Q1972.84 1520.08 1973.72 1518.35 Q1974.62 1516.59 1974.62 1514.9 Q1974.62 1512.14 1972.68 1510.41 Q1970.76 1508.67 1967.65 1508.67 Q1965.46 1508.67 1963 1509.43 Q1960.57 1510.2 1957.79 1511.75 L1957.79 1507.03 Q1960.62 1505.89 1963.07 1505.31 Q1965.53 1504.73 1967.56 1504.73 Q1972.93 1504.73 1976.13 1507.42 Q1979.32 1510.11 1979.32 1514.6 Q1979.32 1516.73 1978.51 1518.65 Q1977.72 1520.54 1975.62 1523.14 Q1975.04 1523.81 1971.94 1527.03 Q1968.84 1530.22 1963.19 1535.98 Z\" fill=\"#000000\" fill-rule=\"evenodd\" fill-opacity=\"1\" /><path clip-path=\"url(#clip080)\" d=\"M 0 0 M62.9921 1305.59 L75.4689 1305.59 L75.4689 1309.39 L62.9921 1309.39 L62.9921 1305.59 Z\" fill=\"#000000\" fill-rule=\"evenodd\" fill-opacity=\"1\" /><path clip-path=\"url(#clip080)\" d=\"M 0 0 M81.3485 1316.54 L88.9874 1316.54 L88.9874 1290.17 L80.6772 1291.84 L80.6772 1287.58 L88.9411 1285.92 L93.617 1285.92 L93.617 1316.54 L101.256 1316.54 L101.256 1320.48 L81.3485 1320.48 L81.3485 1316.54 Z\" fill=\"#000000\" fill-rule=\"evenodd\" fill-opacity=\"1\" /><path clip-path=\"url(#clip080)\" d=\"M 0 0 M89.3114 1081.91 Q85.7003 1081.91 83.8716 1085.47 Q82.0661 1089.02 82.0661 1096.14 Q82.0661 1103.25 83.8716 1106.82 Q85.7003 1110.36 89.3114 1110.36 Q92.9457 1110.36 94.7512 1106.82 Q96.5799 1103.25 96.5799 1096.14 Q96.5799 1089.02 94.7512 1085.47 Q92.9457 1081.91 89.3114 1081.91 M89.3114 1078.21 Q95.1216 1078.21 98.1771 1082.81 Q101.256 1087.39 101.256 1096.14 Q101.256 1104.87 98.1771 1109.48 Q95.1216 1114.06 89.3114 1114.06 Q83.5013 1114.06 80.4226 1109.48 Q77.367 1104.87 77.367 1096.14 Q77.367 1087.39 80.4226 1082.81 Q83.5013 1078.21 89.3114 1078.21 Z\" fill=\"#000000\" fill-rule=\"evenodd\" fill-opacity=\"1\" /><path clip-path=\"url(#clip080)\" d=\"M 0 0 M81.3485 902.37 L88.9874 902.37 L88.9874 876.004 L80.6772 877.671 L80.6772 873.412 L88.9411 871.745 L93.617 871.745 L93.617 902.37 L101.256 902.37 L101.256 906.305 L81.3485 906.305 L81.3485 902.37 Z\" fill=\"#000000\" fill-rule=\"evenodd\" fill-opacity=\"1\" /><path clip-path=\"url(#clip080)\" d=\"M 0 0 M84.9365 695.285 L101.256 695.285 L101.256 699.22 L79.3115 699.22 L79.3115 695.285 Q81.9735 692.53 86.5568 687.901 Q91.1633 683.248 92.3438 681.905 Q94.5892 679.382 95.4688 677.646 Q96.3716 675.887 96.3716 674.197 Q96.3716 671.443 94.4271 669.706 Q92.5059 667.97 89.404 667.97 Q87.205 667.97 84.7513 668.734 Q82.3207 669.498 79.543 671.049 L79.543 666.327 Q82.367 665.193 84.8207 664.614 Q87.2744 664.035 89.3114 664.035 Q94.6818 664.035 97.8762 666.72 Q101.071 669.406 101.071 673.896 Q101.071 676.026 100.26 677.947 Q99.4734 679.845 97.3669 682.438 Q96.7882 683.109 93.6864 686.327 Q90.5846 689.521 84.9365 695.285 Z\" fill=\"#000000\" fill-rule=\"evenodd\" fill-opacity=\"1\" /><path clip-path=\"url(#clip080)\" d=\"M 0 0 M94.1262 473.501 Q97.4827 474.219 99.3577 476.487 Q101.256 478.756 101.256 482.089 Q101.256 487.205 97.7373 490.006 Q94.2188 492.806 87.7374 492.806 Q85.5614 492.806 83.2466 492.367 Q80.955 491.95 78.5013 491.094 L78.5013 486.58 Q80.4457 487.714 82.7605 488.293 Q85.0753 488.871 87.5985 488.871 Q91.9966 488.871 94.2883 487.135 Q96.6031 485.399 96.6031 482.089 Q96.6031 479.033 94.4503 477.32 Q92.3207 475.584 88.5012 475.584 L84.4735 475.584 L84.4735 471.742 L88.6864 471.742 Q92.1355 471.742 93.9642 470.376 Q95.7929 468.987 95.7929 466.395 Q95.7929 463.733 93.8947 462.321 Q92.0197 460.885 88.5012 460.885 Q86.58 460.885 84.3809 461.302 Q82.1818 461.719 79.543 462.598 L79.543 458.432 Q82.205 457.691 84.5198 457.321 Q86.8577 456.95 88.9179 456.95 Q94.242 456.95 97.3438 459.381 Q100.446 461.788 100.446 465.908 Q100.446 468.779 98.8021 470.77 Q97.1586 472.737 94.1262 473.501 Z\" fill=\"#000000\" fill-rule=\"evenodd\" fill-opacity=\"1\" /><path clip-path=\"url(#clip080)\" d=\"M 0 0 M91.6725 254.564 L79.867 273.013 L91.6725 273.013 L91.6725 254.564 M90.4457 250.49 L96.3253 250.49 L96.3253 273.013 L101.256 273.013 L101.256 276.902 L96.3253 276.902 L96.3253 285.05 L91.6725 285.05 L91.6725 276.902 L76.0708 276.902 L76.0708 272.388 L90.4457 250.49 Z\" fill=\"#000000\" fill-rule=\"evenodd\" fill-opacity=\"1\" /><path clip-path=\"url(#clip080)\" d=\"M 0 0 M80.3531 43.4052 L98.7095 43.4052 L98.7095 47.3404 L84.6355 47.3404 L84.6355 55.8125 Q85.654 55.4653 86.6726 55.3033 Q87.6911 55.1181 88.7096 55.1181 Q94.4966 55.1181 97.8762 58.2894 Q101.256 61.4607 101.256 66.8773 Q101.256 72.456 97.7836 75.5578 Q94.3114 78.6365 87.992 78.6365 Q85.8161 78.6365 83.5476 78.2661 Q81.3022 77.8958 78.8948 77.155 L78.8948 72.456 Q80.9781 73.5902 83.2004 74.1458 Q85.4226 74.7013 87.8994 74.7013 Q91.904 74.7013 94.242 72.5949 Q96.5799 70.4884 96.5799 66.8773 Q96.5799 63.2662 94.242 61.1597 Q91.904 59.0533 87.8994 59.0533 Q86.0244 59.0533 84.1494 59.4699 Q82.2976 59.8866 80.3531 60.7662 L80.3531 43.4052 Z\" fill=\"#000000\" fill-rule=\"evenodd\" fill-opacity=\"1\" /><path clip-path=\"url(#clip082)\" d=\"\n",
       "M880.221 1204.38 L938.795 1230.9 L1077.61 1155.56 L1266.68 920.129 L1597.79 329.317 L1539.22 302.787 L1400.4 378.135 L1211.34 613.563 L880.221 1204.38 L880.221 1204.38 \n",
       "   Z\n",
       "  \" fill=\"#009af9\" fill-rule=\"evenodd\" fill-opacity=\"0.5\"/>\n",
       "<polyline clip-path=\"url(#clip082)\" style=\"stroke:#000000; stroke-width:4; stroke-opacity:0.5; fill:none\" points=\"\n",
       "  880.221,1204.38 938.795,1230.9 1077.61,1155.56 1266.68,920.129 1597.79,329.317 1539.22,302.787 1400.4,378.135 1211.34,613.563 880.221,1204.38 \n",
       "  \n",
       "  \"/>\n",
       "<path clip-path=\"url(#clip082)\" d=\"\n",
       "M1597.79 302.787 L880.221 302.787 L880.221 1230.9 L1597.79 1230.9 L1597.79 302.787 L1597.79 302.787  Z\n",
       "  \" fill=\"#e26f46\" fill-rule=\"evenodd\" fill-opacity=\"0.5\"/>\n",
       "<polyline clip-path=\"url(#clip082)\" style=\"stroke:#000000; stroke-width:4; stroke-opacity:0.5; fill:none\" points=\"\n",
       "  1597.79,302.787 880.221,302.787 880.221,1230.9 1597.79,1230.9 1597.79,302.787 \n",
       "  \"/>\n",
       "<path clip-path=\"url(#clip082)\" d=\"\n",
       "M543.051 1445.72 L1077.61 1155.56 L1934.96 87.9763 L1400.4 378.135 L543.051 1445.72 L543.051 1445.72  Z\n",
       "  \" fill=\"#3da44d\" fill-rule=\"evenodd\" fill-opacity=\"0.5\"/>\n",
       "<polyline clip-path=\"url(#clip082)\" style=\"stroke:#000000; stroke-width:4; stroke-opacity:0.5; fill:none\" points=\"\n",
       "  543.051,1445.72 1077.61,1155.56 1934.96,87.9763 1400.4,378.135 543.051,1445.72 \n",
       "  \"/>\n",
       "<path clip-path=\"url(#clip082)\" d=\"\n",
       "M1061.39 1286.43 L1597.79 329.317 L1416.63 247.263 L880.221 1204.38 L1061.39 1286.43 L1061.39 1286.43  Z\n",
       "  \" fill=\"#c271d2\" fill-rule=\"evenodd\" fill-opacity=\"0.5\"/>\n",
       "<polyline clip-path=\"url(#clip082)\" style=\"stroke:#000000; stroke-width:4; stroke-opacity:0.5; fill:none\" points=\"\n",
       "  1061.39,1286.43 1597.79,329.317 1416.63,247.263 880.221,1204.38 1061.39,1286.43 \n",
       "  \"/>\n",
       "<path clip-path=\"url(#clip082)\" d=\"\n",
       "M833.243 1288.2 L1159.71 1110.99 L1644.77 245.493 L1318.31 422.699 L833.243 1288.2 L833.243 1288.2  Z\n",
       "  \" fill=\"#ac8d18\" fill-rule=\"evenodd\" fill-opacity=\"0.5\"/>\n",
       "<polyline clip-path=\"url(#clip082)\" style=\"stroke:#000000; stroke-width:4; stroke-opacity:0.5; fill:none\" points=\"\n",
       "  833.243,1288.2 1159.71,1110.99 1644.77,245.493 1318.31,422.699 833.243,1288.2 \n",
       "  \"/>\n",
       "<circle clip-path=\"url(#clip082)\" cx=\"1239.01\" cy=\"766.846\" r=\"14\" fill=\"#00a9ad\" fill-rule=\"evenodd\" fill-opacity=\"0.5\" stroke=\"#000000\" stroke-opacity=\"0.5\" stroke-width=\"3.2\"/>\n",
       "<path clip-path=\"url(#clip080)\" d=\"\n",
       "M1841.68 372.684 L2280.76 372.684 L2280.76 130.764 L1841.68 130.764  Z\n",
       "  \" fill=\"#ffffff\" fill-rule=\"evenodd\" fill-opacity=\"1\"/>\n",
       "<polyline clip-path=\"url(#clip080)\" style=\"stroke:#000000; stroke-width:4; stroke-opacity:1; fill:none\" points=\"\n",
       "  1841.68,372.684 2280.76,372.684 2280.76,130.764 1841.68,130.764 1841.68,372.684 \n",
       "  \"/>\n",
       "<path clip-path=\"url(#clip080)\" d=\"\n",
       "M1865.68 215.436 L2009.68 215.436 L2009.68 167.052 L1865.68 167.052 L1865.68 215.436  Z\n",
       "  \" fill=\"#3da44d\" fill-rule=\"evenodd\" fill-opacity=\"0.5\"/>\n",
       "<polyline clip-path=\"url(#clip080)\" style=\"stroke:#000000; stroke-width:4; stroke-opacity:1; fill:none\" points=\"\n",
       "  1865.68,215.436 2009.68,215.436 2009.68,167.052 1865.68,167.052 1865.68,215.436 \n",
       "  \"/>\n",
       "<path clip-path=\"url(#clip080)\" d=\"M 0 0 M2033.68 198.293 L2033.68 182.598 L2037.94 182.598 L2037.94 198.131 Q2037.94 201.811 2039.38 203.663 Q2040.81 205.492 2043.68 205.492 Q2047.13 205.492 2049.12 203.293 Q2051.14 201.094 2051.14 197.297 L2051.14 182.598 L2055.4 182.598 L2055.4 208.524 L2051.14 208.524 L2051.14 204.543 Q2049.59 206.904 2047.53 208.061 Q2045.49 209.195 2042.78 209.195 Q2038.31 209.195 2036 206.418 Q2033.68 203.64 2033.68 198.293 M2044.4 181.973 L2044.4 181.973 Z\" fill=\"#000000\" fill-rule=\"evenodd\" fill-opacity=\"1\" /><path clip-path=\"url(#clip080)\" d=\"M 0 0 M2076.39 183.362 L2076.39 187.39 Q2074.59 186.464 2072.64 186.001 Q2070.7 185.538 2068.61 185.538 Q2065.44 185.538 2063.84 186.51 Q2062.27 187.483 2062.27 189.427 Q2062.27 190.908 2063.4 191.765 Q2064.54 192.598 2067.97 193.362 L2069.42 193.686 Q2073.96 194.658 2075.86 196.441 Q2077.78 198.2 2077.78 201.371 Q2077.78 204.982 2074.91 207.089 Q2072.06 209.195 2067.06 209.195 Q2064.98 209.195 2062.71 208.779 Q2060.47 208.385 2057.97 207.575 L2057.97 203.177 Q2060.33 204.404 2062.62 205.029 Q2064.91 205.631 2067.15 205.631 Q2070.16 205.631 2071.78 204.612 Q2073.4 203.57 2073.4 201.695 Q2073.4 199.959 2072.22 199.033 Q2071.07 198.107 2067.11 197.251 L2065.63 196.904 Q2061.67 196.07 2059.91 194.358 Q2058.15 192.621 2058.15 189.612 Q2058.15 185.955 2060.74 183.964 Q2063.34 181.973 2068.1 181.973 Q2070.47 181.973 2072.55 182.321 Q2074.63 182.668 2076.39 183.362 Z\" fill=\"#000000\" fill-rule=\"evenodd\" fill-opacity=\"1\" /><path clip-path=\"url(#clip080)\" d=\"M 0 0 M2082.25 182.598 L2086.51 182.598 L2086.51 208.524 L2082.25 208.524 L2082.25 182.598 M2082.25 172.506 L2086.51 172.506 L2086.51 177.899 L2082.25 177.899 L2082.25 172.506 Z\" fill=\"#000000\" fill-rule=\"evenodd\" fill-opacity=\"1\" /><path clip-path=\"url(#clip080)\" d=\"M 0 0 M2112.53 192.876 L2112.53 208.524 L2108.27 208.524 L2108.27 193.015 Q2108.27 189.334 2106.83 187.506 Q2105.4 185.677 2102.53 185.677 Q2099.08 185.677 2097.09 187.876 Q2095.09 190.075 2095.09 193.871 L2095.09 208.524 L2090.81 208.524 L2090.81 182.598 L2095.09 182.598 L2095.09 186.626 Q2096.62 184.288 2098.68 183.131 Q2100.77 181.973 2103.47 181.973 Q2107.94 181.973 2110.23 184.751 Q2112.53 187.506 2112.53 192.876 Z\" fill=\"#000000\" fill-rule=\"evenodd\" fill-opacity=\"1\" /><path clip-path=\"url(#clip080)\" d=\"M 0 0 M2134.05 195.26 Q2134.05 190.631 2132.13 188.084 Q2130.23 185.538 2126.78 185.538 Q2123.36 185.538 2121.44 188.084 Q2119.54 190.631 2119.54 195.26 Q2119.54 199.867 2121.44 202.413 Q2123.36 204.959 2126.78 204.959 Q2130.23 204.959 2132.13 202.413 Q2134.05 199.867 2134.05 195.26 M2138.31 205.307 Q2138.31 211.927 2135.37 215.144 Q2132.43 218.385 2126.37 218.385 Q2124.12 218.385 2122.13 218.038 Q2120.14 217.714 2118.27 217.019 L2118.27 212.876 Q2120.14 213.894 2121.97 214.381 Q2123.8 214.867 2125.7 214.867 Q2129.89 214.867 2131.97 212.668 Q2134.05 210.492 2134.05 206.07 L2134.05 203.964 Q2132.73 206.256 2130.67 207.39 Q2128.61 208.524 2125.74 208.524 Q2120.97 208.524 2118.06 204.89 Q2115.14 201.256 2115.14 195.26 Q2115.14 189.242 2118.06 185.608 Q2120.97 181.973 2125.74 181.973 Q2128.61 181.973 2130.67 183.108 Q2132.73 184.242 2134.05 186.533 L2134.05 182.598 L2138.31 182.598 L2138.31 205.307 Z\" fill=\"#000000\" fill-rule=\"evenodd\" fill-opacity=\"1\" /><path clip-path=\"url(#clip080)\" d=\"M 0 0 M2159.26 204.589 L2166.9 204.589 L2166.9 178.223 L2158.59 179.89 L2158.59 175.631 L2166.85 173.964 L2171.53 173.964 L2171.53 204.589 L2179.17 204.589 L2179.17 208.524 L2159.26 208.524 L2159.26 204.589 Z\" fill=\"#000000\" fill-rule=\"evenodd\" fill-opacity=\"1\" /><path clip-path=\"url(#clip080)\" d=\"M 0 0 M2184.72 202.644 L2189.61 202.644 L2189.61 206.626 L2185.81 214.033 L2182.83 214.033 L2184.72 206.626 L2184.72 202.644 Z\" fill=\"#000000\" fill-rule=\"evenodd\" fill-opacity=\"1\" /><path clip-path=\"url(#clip080)\" d=\"M 0 0 M2213.77 204.589 L2230.09 204.589 L2230.09 208.524 L2208.15 208.524 L2208.15 204.589 Q2210.81 201.834 2215.39 197.205 Q2220 192.552 2221.18 191.209 Q2223.43 188.686 2224.31 186.95 Q2225.21 185.191 2225.21 183.501 Q2225.21 180.746 2223.27 179.01 Q2221.34 177.274 2218.24 177.274 Q2216.04 177.274 2213.59 178.038 Q2211.16 178.802 2208.38 180.353 L2208.38 175.631 Q2211.21 174.496 2213.66 173.918 Q2216.11 173.339 2218.15 173.339 Q2223.52 173.339 2226.71 176.024 Q2229.91 178.709 2229.91 183.2 Q2229.91 185.33 2229.1 187.251 Q2228.31 189.149 2226.21 191.742 Q2225.63 192.413 2222.52 195.631 Q2219.42 198.825 2213.77 204.589 Z\" fill=\"#000000\" fill-rule=\"evenodd\" fill-opacity=\"1\" /><path clip-path=\"url(#clip080)\" d=\"\n",
       "M1865.68 275.916 L2009.68 275.916 L2009.68 227.532 L1865.68 227.532 L1865.68 275.916  Z\n",
       "  \" fill=\"#c271d2\" fill-rule=\"evenodd\" fill-opacity=\"0.5\"/>\n",
       "<polyline clip-path=\"url(#clip080)\" style=\"stroke:#000000; stroke-width:4; stroke-opacity:1; fill:none\" points=\"\n",
       "  1865.68,275.916 2009.68,275.916 2009.68,227.532 1865.68,227.532 1865.68,275.916 \n",
       "  \"/>\n",
       "<path clip-path=\"url(#clip080)\" d=\"M 0 0 M2033.68 258.773 L2033.68 243.078 L2037.94 243.078 L2037.94 258.611 Q2037.94 262.291 2039.38 264.143 Q2040.81 265.972 2043.68 265.972 Q2047.13 265.972 2049.12 263.773 Q2051.14 261.574 2051.14 257.777 L2051.14 243.078 L2055.4 243.078 L2055.4 269.004 L2051.14 269.004 L2051.14 265.023 Q2049.59 267.384 2047.53 268.541 Q2045.49 269.675 2042.78 269.675 Q2038.31 269.675 2036 266.898 Q2033.68 264.12 2033.68 258.773 M2044.4 242.453 L2044.4 242.453 Z\" fill=\"#000000\" fill-rule=\"evenodd\" fill-opacity=\"1\" /><path clip-path=\"url(#clip080)\" d=\"M 0 0 M2076.39 243.842 L2076.39 247.87 Q2074.59 246.944 2072.64 246.481 Q2070.7 246.018 2068.61 246.018 Q2065.44 246.018 2063.84 246.99 Q2062.27 247.963 2062.27 249.907 Q2062.27 251.388 2063.4 252.245 Q2064.54 253.078 2067.97 253.842 L2069.42 254.166 Q2073.96 255.138 2075.86 256.921 Q2077.78 258.68 2077.78 261.851 Q2077.78 265.462 2074.91 267.569 Q2072.06 269.675 2067.06 269.675 Q2064.98 269.675 2062.71 269.259 Q2060.47 268.865 2057.97 268.055 L2057.97 263.657 Q2060.33 264.884 2062.62 265.509 Q2064.91 266.111 2067.15 266.111 Q2070.16 266.111 2071.78 265.092 Q2073.4 264.05 2073.4 262.175 Q2073.4 260.439 2072.22 259.513 Q2071.07 258.587 2067.11 257.731 L2065.63 257.384 Q2061.67 256.55 2059.91 254.838 Q2058.15 253.101 2058.15 250.092 Q2058.15 246.435 2060.74 244.444 Q2063.34 242.453 2068.1 242.453 Q2070.47 242.453 2072.55 242.801 Q2074.63 243.148 2076.39 243.842 Z\" fill=\"#000000\" fill-rule=\"evenodd\" fill-opacity=\"1\" /><path clip-path=\"url(#clip080)\" d=\"M 0 0 M2082.25 243.078 L2086.51 243.078 L2086.51 269.004 L2082.25 269.004 L2082.25 243.078 M2082.25 232.986 L2086.51 232.986 L2086.51 238.379 L2082.25 238.379 L2082.25 232.986 Z\" fill=\"#000000\" fill-rule=\"evenodd\" fill-opacity=\"1\" /><path clip-path=\"url(#clip080)\" d=\"M 0 0 M2112.53 253.356 L2112.53 269.004 L2108.27 269.004 L2108.27 253.495 Q2108.27 249.814 2106.83 247.986 Q2105.4 246.157 2102.53 246.157 Q2099.08 246.157 2097.09 248.356 Q2095.09 250.555 2095.09 254.351 L2095.09 269.004 L2090.81 269.004 L2090.81 243.078 L2095.09 243.078 L2095.09 247.106 Q2096.62 244.768 2098.68 243.611 Q2100.77 242.453 2103.47 242.453 Q2107.94 242.453 2110.23 245.231 Q2112.53 247.986 2112.53 253.356 Z\" fill=\"#000000\" fill-rule=\"evenodd\" fill-opacity=\"1\" /><path clip-path=\"url(#clip080)\" d=\"M 0 0 M2134.05 255.74 Q2134.05 251.111 2132.13 248.564 Q2130.23 246.018 2126.78 246.018 Q2123.36 246.018 2121.44 248.564 Q2119.54 251.111 2119.54 255.74 Q2119.54 260.347 2121.44 262.893 Q2123.36 265.439 2126.78 265.439 Q2130.23 265.439 2132.13 262.893 Q2134.05 260.347 2134.05 255.74 M2138.31 265.787 Q2138.31 272.407 2135.37 275.624 Q2132.43 278.865 2126.37 278.865 Q2124.12 278.865 2122.13 278.518 Q2120.14 278.194 2118.27 277.499 L2118.27 273.356 Q2120.14 274.374 2121.97 274.861 Q2123.8 275.347 2125.7 275.347 Q2129.89 275.347 2131.97 273.148 Q2134.05 270.972 2134.05 266.55 L2134.05 264.444 Q2132.73 266.736 2130.67 267.87 Q2128.61 269.004 2125.74 269.004 Q2120.97 269.004 2118.06 265.37 Q2115.14 261.736 2115.14 255.74 Q2115.14 249.722 2118.06 246.088 Q2120.97 242.453 2125.74 242.453 Q2128.61 242.453 2130.67 243.588 Q2132.73 244.722 2134.05 247.013 L2134.05 243.078 L2138.31 243.078 L2138.31 265.787 Z\" fill=\"#000000\" fill-rule=\"evenodd\" fill-opacity=\"1\" /><path clip-path=\"url(#clip080)\" d=\"M 0 0 M2172.62 250.37 Q2175.97 251.088 2177.85 253.356 Q2179.75 255.625 2179.75 258.958 Q2179.75 264.074 2176.23 266.874 Q2172.71 269.675 2166.23 269.675 Q2164.05 269.675 2161.74 269.236 Q2159.45 268.819 2156.99 267.962 L2156.99 263.449 Q2158.94 264.583 2161.25 265.162 Q2163.57 265.74 2166.09 265.74 Q2170.49 265.74 2172.78 264.004 Q2175.09 262.268 2175.09 258.958 Q2175.09 255.902 2172.94 254.189 Q2170.81 252.453 2166.99 252.453 L2162.96 252.453 L2162.96 248.611 L2167.18 248.611 Q2170.63 248.611 2172.46 247.245 Q2174.28 245.856 2174.28 243.263 Q2174.28 240.601 2172.39 239.189 Q2170.51 237.754 2166.99 237.754 Q2165.07 237.754 2162.87 238.171 Q2160.67 238.588 2158.03 239.467 L2158.03 235.301 Q2160.7 234.56 2163.01 234.189 Q2165.35 233.819 2167.41 233.819 Q2172.73 233.819 2175.83 236.25 Q2178.94 238.657 2178.94 242.777 Q2178.94 245.648 2177.29 247.638 Q2175.65 249.606 2172.62 250.37 Z\" fill=\"#000000\" fill-rule=\"evenodd\" fill-opacity=\"1\" /><path clip-path=\"url(#clip080)\" d=\"M 0 0 M2185.3 263.124 L2190.19 263.124 L2190.19 267.106 L2186.39 274.513 L2183.4 274.513 L2185.3 267.106 L2185.3 263.124 Z\" fill=\"#000000\" fill-rule=\"evenodd\" fill-opacity=\"1\" /><path clip-path=\"url(#clip080)\" d=\"M 0 0 M2223.17 238.518 L2211.37 256.967 L2223.17 256.967 L2223.17 238.518 M2221.95 234.444 L2227.83 234.444 L2227.83 256.967 L2232.76 256.967 L2232.76 260.856 L2227.83 260.856 L2227.83 269.004 L2223.17 269.004 L2223.17 260.856 L2207.57 260.856 L2207.57 256.342 L2221.95 234.444 Z\" fill=\"#000000\" fill-rule=\"evenodd\" fill-opacity=\"1\" /><path clip-path=\"url(#clip080)\" d=\"\n",
       "M1865.68 336.396 L2009.68 336.396 L2009.68 288.012 L1865.68 288.012 L1865.68 336.396  Z\n",
       "  \" fill=\"#ac8d18\" fill-rule=\"evenodd\" fill-opacity=\"0.5\"/>\n",
       "<polyline clip-path=\"url(#clip080)\" style=\"stroke:#000000; stroke-width:4; stroke-opacity:1; fill:none\" points=\"\n",
       "  1865.68,336.396 2009.68,336.396 2009.68,288.012 1865.68,288.012 1865.68,336.396 \n",
       "  \"/>\n",
       "<path clip-path=\"url(#clip080)\" d=\"M 0 0 M2033.68 319.253 L2033.68 303.558 L2037.94 303.558 L2037.94 319.091 Q2037.94 322.771 2039.38 324.623 Q2040.81 326.452 2043.68 326.452 Q2047.13 326.452 2049.12 324.253 Q2051.14 322.054 2051.14 318.257 L2051.14 303.558 L2055.4 303.558 L2055.4 329.484 L2051.14 329.484 L2051.14 325.503 Q2049.59 327.864 2047.53 329.021 Q2045.49 330.155 2042.78 330.155 Q2038.31 330.155 2036 327.378 Q2033.68 324.6 2033.68 319.253 M2044.4 302.933 L2044.4 302.933 Z\" fill=\"#000000\" fill-rule=\"evenodd\" fill-opacity=\"1\" /><path clip-path=\"url(#clip080)\" d=\"M 0 0 M2076.39 304.322 L2076.39 308.35 Q2074.59 307.424 2072.64 306.961 Q2070.7 306.498 2068.61 306.498 Q2065.44 306.498 2063.84 307.47 Q2062.27 308.443 2062.27 310.387 Q2062.27 311.868 2063.4 312.725 Q2064.54 313.558 2067.97 314.322 L2069.42 314.646 Q2073.96 315.618 2075.86 317.401 Q2077.78 319.16 2077.78 322.331 Q2077.78 325.942 2074.91 328.049 Q2072.06 330.155 2067.06 330.155 Q2064.98 330.155 2062.71 329.739 Q2060.47 329.345 2057.97 328.535 L2057.97 324.137 Q2060.33 325.364 2062.62 325.989 Q2064.91 326.591 2067.15 326.591 Q2070.16 326.591 2071.78 325.572 Q2073.4 324.53 2073.4 322.655 Q2073.4 320.919 2072.22 319.993 Q2071.07 319.067 2067.11 318.211 L2065.63 317.864 Q2061.67 317.03 2059.91 315.318 Q2058.15 313.581 2058.15 310.572 Q2058.15 306.915 2060.74 304.924 Q2063.34 302.933 2068.1 302.933 Q2070.47 302.933 2072.55 303.281 Q2074.63 303.628 2076.39 304.322 Z\" fill=\"#000000\" fill-rule=\"evenodd\" fill-opacity=\"1\" /><path clip-path=\"url(#clip080)\" d=\"M 0 0 M2082.25 303.558 L2086.51 303.558 L2086.51 329.484 L2082.25 329.484 L2082.25 303.558 M2082.25 293.466 L2086.51 293.466 L2086.51 298.859 L2082.25 298.859 L2082.25 293.466 Z\" fill=\"#000000\" fill-rule=\"evenodd\" fill-opacity=\"1\" /><path clip-path=\"url(#clip080)\" d=\"M 0 0 M2112.53 313.836 L2112.53 329.484 L2108.27 329.484 L2108.27 313.975 Q2108.27 310.294 2106.83 308.466 Q2105.4 306.637 2102.53 306.637 Q2099.08 306.637 2097.09 308.836 Q2095.09 311.035 2095.09 314.831 L2095.09 329.484 L2090.81 329.484 L2090.81 303.558 L2095.09 303.558 L2095.09 307.586 Q2096.62 305.248 2098.68 304.091 Q2100.77 302.933 2103.47 302.933 Q2107.94 302.933 2110.23 305.711 Q2112.53 308.466 2112.53 313.836 Z\" fill=\"#000000\" fill-rule=\"evenodd\" fill-opacity=\"1\" /><path clip-path=\"url(#clip080)\" d=\"M 0 0 M2134.05 316.22 Q2134.05 311.591 2132.13 309.044 Q2130.23 306.498 2126.78 306.498 Q2123.36 306.498 2121.44 309.044 Q2119.54 311.591 2119.54 316.22 Q2119.54 320.827 2121.44 323.373 Q2123.36 325.919 2126.78 325.919 Q2130.23 325.919 2132.13 323.373 Q2134.05 320.827 2134.05 316.22 M2138.31 326.267 Q2138.31 332.887 2135.37 336.104 Q2132.43 339.345 2126.37 339.345 Q2124.12 339.345 2122.13 338.998 Q2120.14 338.674 2118.27 337.979 L2118.27 333.836 Q2120.14 334.854 2121.97 335.341 Q2123.8 335.827 2125.7 335.827 Q2129.89 335.827 2131.97 333.628 Q2134.05 331.452 2134.05 327.03 L2134.05 324.924 Q2132.73 327.216 2130.67 328.35 Q2128.61 329.484 2125.74 329.484 Q2120.97 329.484 2118.06 325.85 Q2115.14 322.216 2115.14 316.22 Q2115.14 310.202 2118.06 306.568 Q2120.97 302.933 2125.74 302.933 Q2128.61 302.933 2130.67 304.068 Q2132.73 305.202 2134.05 307.493 L2134.05 303.558 L2138.31 303.558 L2138.31 326.267 Z\" fill=\"#000000\" fill-rule=\"evenodd\" fill-opacity=\"1\" /><path clip-path=\"url(#clip080)\" d=\"M 0 0 M2159.26 325.549 L2166.9 325.549 L2166.9 299.183 L2158.59 300.85 L2158.59 296.591 L2166.85 294.924 L2171.53 294.924 L2171.53 325.549 L2179.17 325.549 L2179.17 329.484 L2159.26 329.484 L2159.26 325.549 Z\" fill=\"#000000\" fill-rule=\"evenodd\" fill-opacity=\"1\" /><path clip-path=\"url(#clip080)\" d=\"M 0 0 M2184.72 323.604 L2189.61 323.604 L2189.61 327.586 L2185.81 334.993 L2182.83 334.993 L2184.72 327.586 L2184.72 323.604 Z\" fill=\"#000000\" fill-rule=\"evenodd\" fill-opacity=\"1\" /><path clip-path=\"url(#clip080)\" d=\"M 0 0 M2223.91 310.85 Q2227.27 311.568 2229.14 313.836 Q2231.04 316.105 2231.04 319.438 Q2231.04 324.554 2227.52 327.354 Q2224.01 330.155 2217.52 330.155 Q2215.35 330.155 2213.03 329.716 Q2210.74 329.299 2208.29 328.442 L2208.29 323.929 Q2210.23 325.063 2212.55 325.642 Q2214.86 326.22 2217.39 326.22 Q2221.78 326.22 2224.08 324.484 Q2226.39 322.748 2226.39 319.438 Q2226.39 316.382 2224.24 314.669 Q2222.11 312.933 2218.29 312.933 L2214.26 312.933 L2214.26 309.091 L2218.47 309.091 Q2221.92 309.091 2223.75 307.725 Q2225.58 306.336 2225.58 303.743 Q2225.58 301.081 2223.68 299.669 Q2221.81 298.234 2218.29 298.234 Q2216.37 298.234 2214.17 298.651 Q2211.97 299.068 2209.33 299.947 L2209.33 295.781 Q2211.99 295.04 2214.31 294.669 Q2216.64 294.299 2218.71 294.299 Q2224.03 294.299 2227.13 296.73 Q2230.23 299.137 2230.23 303.257 Q2230.23 306.128 2228.59 308.118 Q2226.95 310.086 2223.91 310.85 Z\" fill=\"#000000\" fill-rule=\"evenodd\" fill-opacity=\"1\" /></svg>\n"
      ]
     },
     "execution_count": 61,
     "metadata": {},
     "output_type": "execute_result"
    }
   ],
   "source": [
    "plot(Z)\n",
    "plot!(box_approximation(Z))\n",
    "plot!(H12, lab=\"using 1, 2\", ratio=1.)\n",
    "plot!(H34, lab=\"using 3, 4\", ratio=1.)\n",
    "plot!(H13, lab=\"using 1, 3\", ratio=1.)\n",
    "\n",
    "plot!(Singleton(center(H13)))"
   ]
  },
  {
   "cell_type": "code",
   "execution_count": null,
   "metadata": {},
   "outputs": [],
   "source": []
  },
  {
   "cell_type": "code",
   "execution_count": null,
   "metadata": {},
   "outputs": [],
   "source": []
  },
  {
   "cell_type": "code",
   "execution_count": null,
   "metadata": {},
   "outputs": [],
   "source": []
  },
  {
   "cell_type": "markdown",
   "metadata": {},
   "source": [
    "## Idea: pass to a parallelotope"
   ]
  },
  {
   "cell_type": "markdown",
   "metadata": {},
   "source": [
    "So we have a `Z0` that is of order 1 but not a diagonal."
   ]
  },
  {
   "cell_type": "code",
   "execution_count": null,
   "metadata": {},
   "outputs": [],
   "source": [
    "P = overapproximate(Z0, HParallelotope)\n",
    "genmat(P)"
   ]
  },
  {
   "cell_type": "code",
   "execution_count": null,
   "metadata": {},
   "outputs": [],
   "source": [
    "plot(Z0, lab=\"Z0\")\n",
    "plot!(P, lab=\"P\")\n",
    "plot!(T.X, lab=\"T.X\")"
   ]
  },
  {
   "cell_type": "code",
   "execution_count": null,
   "metadata": {},
   "outputs": [],
   "source": [
    "L = LazySets.Approximations._overapproximate_hparallelotope(Z0, [1, 4])\n",
    "\n",
    "plot(Z0, lab=\"Z0\")\n",
    "plot!(L, lab=\"L\")"
   ]
  },
  {
   "cell_type": "code",
   "execution_count": null,
   "metadata": {},
   "outputs": [],
   "source": [
    "L"
   ]
  },
  {
   "cell_type": "code",
   "execution_count": null,
   "metadata": {},
   "outputs": [],
   "source": [
    "plot(Z0, lab=\"Z0\")\n",
    "plot!(P, lab=\"P\")"
   ]
  },
  {
   "cell_type": "code",
   "execution_count": null,
   "metadata": {},
   "outputs": [],
   "source": [
    "genmat(L)"
   ]
  },
  {
   "cell_type": "code",
   "execution_count": null,
   "metadata": {},
   "outputs": [],
   "source": [
    "genmat(P)"
   ]
  },
  {
   "cell_type": "markdown",
   "metadata": {},
   "source": [
    "---"
   ]
  },
  {
   "cell_type": "markdown",
   "metadata": {},
   "source": [
    "## Reachability"
   ]
  },
  {
   "cell_type": "code",
   "execution_count": null,
   "metadata": {},
   "outputs": [],
   "source": [
    "const RA = ReachabilityAnalysis\n",
    "\n",
    "H = Hyperrectangle(low=[0.7, 2.1], high=[0.9, 2.3])\n",
    "R = RA._init(H)"
   ]
  },
  {
   "cell_type": "code",
   "execution_count": null,
   "metadata": {},
   "outputs": [],
   "source": [
    "using TaylorModels"
   ]
  },
  {
   "cell_type": "code",
   "execution_count": null,
   "metadata": {},
   "outputs": [],
   "source": [
    "?TaylorModelN"
   ]
  },
  {
   "cell_type": "code",
   "execution_count": null,
   "metadata": {},
   "outputs": [],
   "source": [
    "typeof(R.X[1])"
   ]
  },
  {
   "cell_type": "code",
   "execution_count": null,
   "metadata": {},
   "outputs": [],
   "source": [
    "Z = rand(Zonotope,num_generators=10,dim=2)\n",
    "R = RA._init(Z)\n",
    "R.X[1]"
   ]
  },
  {
   "cell_type": "code",
   "execution_count": null,
   "metadata": {},
   "outputs": [],
   "source": []
  },
  {
   "cell_type": "code",
   "execution_count": null,
   "metadata": {},
   "outputs": [],
   "source": [
    "typeof(R.X[2])"
   ]
  },
  {
   "cell_type": "code",
   "execution_count": null,
   "metadata": {},
   "outputs": [],
   "source": [
    "@taylorize function rotating!(du, u, p, t)\n",
    "    du[1] = u[2]\n",
    "    du[2] = -u[1]\n",
    "end\n",
    "\n",
    "prob = @ivp(x' = rotating!(x), dim:2, x(0) ∈ Hyperrectangle(low=[0.7, 2.1], high=[0.9, 2.3]))\n",
    "solve(prob, tspan=(0.0, 1.0))"
   ]
  },
  {
   "cell_type": "code",
   "execution_count": null,
   "metadata": {},
   "outputs": [],
   "source": []
  },
  {
   "cell_type": "code",
   "execution_count": null,
   "metadata": {},
   "outputs": [],
   "source": []
  },
  {
   "cell_type": "code",
   "execution_count": null,
   "metadata": {},
   "outputs": [],
   "source": [
    "ReachabilityAnalysis._convert_or_overapproximate"
   ]
  },
  {
   "cell_type": "code",
   "execution_count": null,
   "metadata": {},
   "outputs": [],
   "source": [
    "@taylorize function rotating!(du, u, p, t)\n",
    "    du[1] = u[2]\n",
    "    du[2] = -u[1]\n",
    "end\n",
    "\n",
    "prob = @ivp(x' = rotating!(x), dim:2, x(0) ∈ Hyperrectangle(low=[0.7, 2.1], high=[0.9, 2.3]))\n",
    "solve(prob, tspan=(0.0, 1.0))"
   ]
  },
  {
   "cell_type": "code",
   "execution_count": null,
   "metadata": {},
   "outputs": [],
   "source": [
    "p1=[3,1//1]; p2=[1,3//1]; p3=[4,4//1]; p4=[6,5//1];\n",
    "line14=Line2D(p1,p4); line23=Line2D(p2,p3);\n",
    "intersection(line14, line23)"
   ]
  },
  {
   "cell_type": "code",
   "execution_count": null,
   "metadata": {},
   "outputs": [],
   "source": [
    "line14"
   ]
  },
  {
   "cell_type": "code",
   "execution_count": null,
   "metadata": {},
   "outputs": [],
   "source": [
    "line23"
   ]
  },
  {
   "cell_type": "code",
   "execution_count": null,
   "metadata": {},
   "outputs": [],
   "source": [
    "intersection(line14, line23) # (false, Point2([0.0, 0.0]))"
   ]
  }
 ],
 "metadata": {
  "@webio": {
   "lastCommId": null,
   "lastKernelId": null
  },
  "kernelspec": {
   "display_name": "Julia 1.5.0-beta1",
   "language": "julia",
   "name": "julia-1.5"
  },
  "language_info": {
   "file_extension": ".jl",
   "mimetype": "application/julia",
   "name": "julia",
   "version": "1.5.0"
  }
 },
 "nbformat": 4,
 "nbformat_minor": 2
}
