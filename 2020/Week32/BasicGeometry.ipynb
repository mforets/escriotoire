{
 "cells": [
  {
   "cell_type": "markdown",
   "metadata": {},
   "source": [
    "## Introduction"
   ]
  },
  {
   "cell_type": "markdown",
   "metadata": {},
   "source": [
    "In this notebook we show simple examples of vector geometry using the Julia library [LazySets.jl](https://github.com/JuliaReach/LazySets.jl/)."
   ]
  },
  {
   "cell_type": "code",
   "execution_count": 7,
   "metadata": {},
   "outputs": [],
   "source": [
    "using LazySets, ModelingToolkit, Plots"
   ]
  },
  {
   "cell_type": "markdown",
   "metadata": {},
   "source": [
    "- [Planes](#Planes)\n",
    "- [Linear constraints](#Linear-constraints) \n",
    "- [Lines](#Lines) \n",
    "- [Line segments](#Line-segments)\n",
    "- [Vectors](#Vectors)\n",
    "- [Intersections](#Intersections)"
   ]
  },
  {
   "cell_type": "markdown",
   "metadata": {},
   "source": [
    "## Planes"
   ]
  },
  {
   "cell_type": "markdown",
   "metadata": {},
   "source": [
    "Consider the set $H \\subseteq \\mathbb{R}^2$ defined as"
   ]
  },
  {
   "cell_type": "markdown",
   "metadata": {},
   "source": [
    "  \n",
    "$$\n",
    "H = \\{ (x, y) \\in \\mathbb{R}^{2} : x = y \\}\n",
    "$$"
   ]
  },
  {
   "cell_type": "markdown",
   "metadata": {},
   "source": [
    "$H$ is a hyperplane (also a line if we are in two-dimensions, but we'll discuss lines in another section)."
   ]
  },
  {
   "cell_type": "markdown",
   "metadata": {},
   "source": [
    "To represent this set we first create symbolic variables $x$ and $y$ that are used to conveniently define the set."
   ]
  },
  {
   "cell_type": "code",
   "execution_count": 17,
   "metadata": {},
   "outputs": [
    {
     "data": {
      "text/plain": [
       "(x, y)"
      ]
     },
     "execution_count": 17,
     "metadata": {},
     "output_type": "execute_result"
    }
   ],
   "source": [
    "var = @variables x y"
   ]
  },
  {
   "cell_type": "code",
   "execution_count": 76,
   "metadata": {},
   "outputs": [
    {
     "data": {
      "text/plain": [
       "Hyperplane{Float64,Array{Float64,1}}([1.0, -1.0], -0.0)"
      ]
     },
     "execution_count": 76,
     "metadata": {},
     "output_type": "execute_result"
    }
   ],
   "source": [
    "H = Hyperplane(x == y, var)"
   ]
  },
  {
   "cell_type": "markdown",
   "metadata": {},
   "source": [
    "The hyperplane is created passing the expression to the `Hyperplane` constructor, which receives an (optional) second argument that specifies the working variables, in this case $x$ and $y$, in that order."
   ]
  },
  {
   "cell_type": "markdown",
   "metadata": {},
   "source": [
    "Note that the symbolic relation passed to the `Hyperplane` construct can be equivalently written as"
   ]
  },
  {
   "cell_type": "code",
   "execution_count": 77,
   "metadata": {},
   "outputs": [
    {
     "data": {
      "text/plain": [
       "Hyperplane{Float64,Array{Float64,1}}([1.0, -1.0], -0.0)"
      ]
     },
     "execution_count": 77,
     "metadata": {},
     "output_type": "execute_result"
    }
   ],
   "source": [
    "Hyperplane(x - y == 0, var)"
   ]
  },
  {
   "cell_type": "markdown",
   "metadata": {},
   "source": [
    "In either case, hyperplanes are internally represented as $a^T x = b$ where $a \\in \\mathbb{R}^n$ is normal to the hyperplane and $b \\in \\mathbb{R}$ is the hyperplane's displacement with respect to the origin."
   ]
  },
  {
   "cell_type": "code",
   "execution_count": 78,
   "metadata": {},
   "outputs": [
    {
     "name": "stdout",
     "output_type": "stream",
     "text": [
      "Hyperplane{Float64,Array{Float64,1}}\n",
      "  a: Array{Float64}((2,)) [1.0, -1.0]\n",
      "  b: Float64 -0.0\n"
     ]
    }
   ],
   "source": [
    "dump(H)"
   ]
  },
  {
   "cell_type": "markdown",
   "metadata": {},
   "source": [
    "Now let's define the hyperplane $x = - y$ and plot both sets on the $xy$ plane:"
   ]
  },
  {
   "cell_type": "code",
   "execution_count": 79,
   "metadata": {},
   "outputs": [
    {
     "data": {
      "text/plain": [
       "Hyperplane{Float64,Array{Float64,1}}([1.0, 1.0], -0.0)"
      ]
     },
     "execution_count": 79,
     "metadata": {},
     "output_type": "execute_result"
    }
   ],
   "source": [
    "H′ = Hyperplane(x == -y, var)"
   ]
  },
  {
   "cell_type": "code",
   "execution_count": 80,
   "metadata": {},
   "outputs": [
    {
     "data": {
      "image/svg+xml": [
       "<?xml version=\"1.0\" encoding=\"utf-8\"?>\n",
       "<svg xmlns=\"http://www.w3.org/2000/svg\" xmlns:xlink=\"http://www.w3.org/1999/xlink\" width=\"600\" height=\"400\" viewBox=\"0 0 2400 1600\">\n",
       "<defs>\n",
       "  <clipPath id=\"clip400\">\n",
       "    <rect x=\"0\" y=\"0\" width=\"2400\" height=\"1600\"/>\n",
       "  </clipPath>\n",
       "</defs>\n",
       "<path clip-path=\"url(#clip400)\" d=\"\n",
       "M0 1600 L2400 1600 L2400 0 L0 0  Z\n",
       "  \" fill=\"#ffffff\" fill-rule=\"evenodd\" fill-opacity=\"1\"/>\n",
       "<defs>\n",
       "  <clipPath id=\"clip401\">\n",
       "    <rect x=\"480\" y=\"0\" width=\"1681\" height=\"1600\"/>\n",
       "  </clipPath>\n",
       "</defs>\n",
       "<path clip-path=\"url(#clip400)\" d=\"\n",
       "M225.723 1423.18 L2352.76 1423.18 L2352.76 47.2441 L225.723 47.2441  Z\n",
       "  \" fill=\"#ffffff\" fill-rule=\"evenodd\" fill-opacity=\"1\"/>\n",
       "<defs>\n",
       "  <clipPath id=\"clip402\">\n",
       "    <rect x=\"225\" y=\"47\" width=\"2128\" height=\"1377\"/>\n",
       "  </clipPath>\n",
       "</defs>\n",
       "<polyline clip-path=\"url(#clip402)\" style=\"stroke:#000000; stroke-width:2; stroke-opacity:0.1; fill:none\" points=\"\n",
       "  225.723,1423.18 225.723,47.2441 \n",
       "  \"/>\n",
       "<polyline clip-path=\"url(#clip402)\" style=\"stroke:#000000; stroke-width:2; stroke-opacity:0.1; fill:none\" points=\"\n",
       "  757.481,1423.18 757.481,47.2441 \n",
       "  \"/>\n",
       "<polyline clip-path=\"url(#clip402)\" style=\"stroke:#000000; stroke-width:2; stroke-opacity:0.1; fill:none\" points=\"\n",
       "  1289.24,1423.18 1289.24,47.2441 \n",
       "  \"/>\n",
       "<polyline clip-path=\"url(#clip402)\" style=\"stroke:#000000; stroke-width:2; stroke-opacity:0.1; fill:none\" points=\"\n",
       "  1821,1423.18 1821,47.2441 \n",
       "  \"/>\n",
       "<polyline clip-path=\"url(#clip402)\" style=\"stroke:#000000; stroke-width:2; stroke-opacity:0.1; fill:none\" points=\"\n",
       "  2352.76,1423.18 2352.76,47.2441 \n",
       "  \"/>\n",
       "<polyline clip-path=\"url(#clip402)\" style=\"stroke:#000000; stroke-width:2; stroke-opacity:0.1; fill:none\" points=\"\n",
       "  225.723,1423.18 2352.76,1423.18 \n",
       "  \"/>\n",
       "<polyline clip-path=\"url(#clip402)\" style=\"stroke:#000000; stroke-width:2; stroke-opacity:0.1; fill:none\" points=\"\n",
       "  225.723,1079.2 2352.76,1079.2 \n",
       "  \"/>\n",
       "<polyline clip-path=\"url(#clip402)\" style=\"stroke:#000000; stroke-width:2; stroke-opacity:0.1; fill:none\" points=\"\n",
       "  225.723,735.212 2352.76,735.212 \n",
       "  \"/>\n",
       "<polyline clip-path=\"url(#clip402)\" style=\"stroke:#000000; stroke-width:2; stroke-opacity:0.1; fill:none\" points=\"\n",
       "  225.723,391.228 2352.76,391.228 \n",
       "  \"/>\n",
       "<polyline clip-path=\"url(#clip402)\" style=\"stroke:#000000; stroke-width:2; stroke-opacity:0.1; fill:none\" points=\"\n",
       "  225.723,47.2441 2352.76,47.2441 \n",
       "  \"/>\n",
       "<polyline clip-path=\"url(#clip400)\" style=\"stroke:#000000; stroke-width:4; stroke-opacity:1; fill:none\" points=\"\n",
       "  225.723,1423.18 2352.76,1423.18 \n",
       "  \"/>\n",
       "<polyline clip-path=\"url(#clip400)\" style=\"stroke:#000000; stroke-width:4; stroke-opacity:1; fill:none\" points=\"\n",
       "  225.723,1423.18 225.723,47.2441 \n",
       "  \"/>\n",
       "<polyline clip-path=\"url(#clip400)\" style=\"stroke:#000000; stroke-width:4; stroke-opacity:1; fill:none\" points=\"\n",
       "  225.723,1423.18 225.723,1406.67 \n",
       "  \"/>\n",
       "<polyline clip-path=\"url(#clip400)\" style=\"stroke:#000000; stroke-width:4; stroke-opacity:1; fill:none\" points=\"\n",
       "  757.481,1423.18 757.481,1406.67 \n",
       "  \"/>\n",
       "<polyline clip-path=\"url(#clip400)\" style=\"stroke:#000000; stroke-width:4; stroke-opacity:1; fill:none\" points=\"\n",
       "  1289.24,1423.18 1289.24,1406.67 \n",
       "  \"/>\n",
       "<polyline clip-path=\"url(#clip400)\" style=\"stroke:#000000; stroke-width:4; stroke-opacity:1; fill:none\" points=\"\n",
       "  1821,1423.18 1821,1406.67 \n",
       "  \"/>\n",
       "<polyline clip-path=\"url(#clip400)\" style=\"stroke:#000000; stroke-width:4; stroke-opacity:1; fill:none\" points=\"\n",
       "  2352.76,1423.18 2352.76,1406.67 \n",
       "  \"/>\n",
       "<polyline clip-path=\"url(#clip400)\" style=\"stroke:#000000; stroke-width:4; stroke-opacity:1; fill:none\" points=\"\n",
       "  225.723,1423.18 251.247,1423.18 \n",
       "  \"/>\n",
       "<polyline clip-path=\"url(#clip400)\" style=\"stroke:#000000; stroke-width:4; stroke-opacity:1; fill:none\" points=\"\n",
       "  225.723,1079.2 251.247,1079.2 \n",
       "  \"/>\n",
       "<polyline clip-path=\"url(#clip400)\" style=\"stroke:#000000; stroke-width:4; stroke-opacity:1; fill:none\" points=\"\n",
       "  225.723,735.212 251.247,735.212 \n",
       "  \"/>\n",
       "<polyline clip-path=\"url(#clip400)\" style=\"stroke:#000000; stroke-width:4; stroke-opacity:1; fill:none\" points=\"\n",
       "  225.723,391.228 251.247,391.228 \n",
       "  \"/>\n",
       "<polyline clip-path=\"url(#clip400)\" style=\"stroke:#000000; stroke-width:4; stroke-opacity:1; fill:none\" points=\"\n",
       "  225.723,47.2441 251.247,47.2441 \n",
       "  \"/>\n",
       "<path clip-path=\"url(#clip400)\" d=\"M 0 0 M188.107 1461.77 L200.584 1461.77 L200.584 1465.56 L188.107 1465.56 L188.107 1461.77 Z\" fill=\"#000000\" fill-rule=\"evenodd\" fill-opacity=\"1\" /><path clip-path=\"url(#clip400)\" d=\"M 0 0 M206.464 1472.72 L214.102 1472.72 L214.102 1446.35 L205.792 1448.02 L205.792 1443.76 L214.056 1442.09 L218.732 1442.09 L218.732 1472.72 L226.371 1472.72 L226.371 1476.65 L206.464 1476.65 L206.464 1472.72 Z\" fill=\"#000000\" fill-rule=\"evenodd\" fill-opacity=\"1\" /><path clip-path=\"url(#clip400)\" d=\"M 0 0 M231.44 1470.77 L236.325 1470.77 L236.325 1476.65 L231.44 1476.65 L231.44 1470.77 Z\" fill=\"#000000\" fill-rule=\"evenodd\" fill-opacity=\"1\" /><path clip-path=\"url(#clip400)\" d=\"M 0 0 M251.394 1445.17 Q247.783 1445.17 245.954 1448.74 Q244.149 1452.28 244.149 1459.41 Q244.149 1466.51 245.954 1470.08 Q247.783 1473.62 251.394 1473.62 Q255.028 1473.62 256.834 1470.08 Q258.662 1466.51 258.662 1459.41 Q258.662 1452.28 256.834 1448.74 Q255.028 1445.17 251.394 1445.17 M251.394 1441.47 Q257.204 1441.47 260.26 1446.07 Q263.338 1450.66 263.338 1459.41 Q263.338 1468.13 260.26 1472.74 Q257.204 1477.32 251.394 1477.32 Q245.584 1477.32 242.505 1472.74 Q239.449 1468.13 239.449 1459.41 Q239.449 1450.66 242.505 1446.07 Q245.584 1441.47 251.394 1441.47 Z\" fill=\"#000000\" fill-rule=\"evenodd\" fill-opacity=\"1\" /><path clip-path=\"url(#clip400)\" d=\"M 0 0 M719.75 1461.77 L732.227 1461.77 L732.227 1465.56 L719.75 1465.56 L719.75 1461.77 Z\" fill=\"#000000\" fill-rule=\"evenodd\" fill-opacity=\"1\" /><path clip-path=\"url(#clip400)\" d=\"M 0 0 M747.296 1445.17 Q743.685 1445.17 741.856 1448.74 Q740.051 1452.28 740.051 1459.41 Q740.051 1466.51 741.856 1470.08 Q743.685 1473.62 747.296 1473.62 Q750.93 1473.62 752.736 1470.08 Q754.564 1466.51 754.564 1459.41 Q754.564 1452.28 752.736 1448.74 Q750.93 1445.17 747.296 1445.17 M747.296 1441.47 Q753.106 1441.47 756.162 1446.07 Q759.24 1450.66 759.24 1459.41 Q759.24 1468.13 756.162 1472.74 Q753.106 1477.32 747.296 1477.32 Q741.486 1477.32 738.407 1472.74 Q735.352 1468.13 735.352 1459.41 Q735.352 1450.66 738.407 1446.07 Q741.486 1441.47 747.296 1441.47 Z\" fill=\"#000000\" fill-rule=\"evenodd\" fill-opacity=\"1\" /><path clip-path=\"url(#clip400)\" d=\"M 0 0 M764.31 1470.77 L769.194 1470.77 L769.194 1476.65 L764.31 1476.65 L764.31 1470.77 Z\" fill=\"#000000\" fill-rule=\"evenodd\" fill-opacity=\"1\" /><path clip-path=\"url(#clip400)\" d=\"M 0 0 M774.31 1442.09 L792.666 1442.09 L792.666 1446.03 L778.592 1446.03 L778.592 1454.5 Q779.611 1454.15 780.629 1453.99 Q781.648 1453.8 782.666 1453.8 Q788.453 1453.8 791.833 1456.98 Q795.212 1460.15 795.212 1465.56 Q795.212 1471.14 791.74 1474.24 Q788.268 1477.32 781.948 1477.32 Q779.773 1477.32 777.504 1476.95 Q775.259 1476.58 772.851 1475.84 L772.851 1471.14 Q774.935 1472.28 777.157 1472.83 Q779.379 1473.39 781.856 1473.39 Q785.86 1473.39 788.198 1471.28 Q790.536 1469.18 790.536 1465.56 Q790.536 1461.95 788.198 1459.85 Q785.86 1457.74 781.856 1457.74 Q779.981 1457.74 778.106 1458.16 Q776.254 1458.57 774.31 1459.45 L774.31 1442.09 Z\" fill=\"#000000\" fill-rule=\"evenodd\" fill-opacity=\"1\" /><path clip-path=\"url(#clip400)\" d=\"M 0 0 M1270.76 1445.17 Q1267.14 1445.17 1265.32 1448.74 Q1263.51 1452.28 1263.51 1459.41 Q1263.51 1466.51 1265.32 1470.08 Q1267.14 1473.62 1270.76 1473.62 Q1274.39 1473.62 1276.2 1470.08 Q1278.02 1466.51 1278.02 1459.41 Q1278.02 1452.28 1276.2 1448.74 Q1274.39 1445.17 1270.76 1445.17 M1270.76 1441.47 Q1276.57 1441.47 1279.62 1446.07 Q1282.7 1450.66 1282.7 1459.41 Q1282.7 1468.13 1279.62 1472.74 Q1276.57 1477.32 1270.76 1477.32 Q1264.95 1477.32 1261.87 1472.74 Q1258.81 1468.13 1258.81 1459.41 Q1258.81 1450.66 1261.87 1446.07 Q1264.95 1441.47 1270.76 1441.47 Z\" fill=\"#000000\" fill-rule=\"evenodd\" fill-opacity=\"1\" /><path clip-path=\"url(#clip400)\" d=\"M 0 0 M1287.77 1470.77 L1292.65 1470.77 L1292.65 1476.65 L1287.77 1476.65 L1287.77 1470.77 Z\" fill=\"#000000\" fill-rule=\"evenodd\" fill-opacity=\"1\" /><path clip-path=\"url(#clip400)\" d=\"M 0 0 M1307.72 1445.17 Q1304.11 1445.17 1302.28 1448.74 Q1300.48 1452.28 1300.48 1459.41 Q1300.48 1466.51 1302.28 1470.08 Q1304.11 1473.62 1307.72 1473.62 Q1311.36 1473.62 1313.16 1470.08 Q1314.99 1466.51 1314.99 1459.41 Q1314.99 1452.28 1313.16 1448.74 Q1311.36 1445.17 1307.72 1445.17 M1307.72 1441.47 Q1313.53 1441.47 1316.59 1446.07 Q1319.67 1450.66 1319.67 1459.41 Q1319.67 1468.13 1316.59 1472.74 Q1313.53 1477.32 1307.72 1477.32 Q1301.91 1477.32 1298.83 1472.74 Q1295.78 1468.13 1295.78 1459.41 Q1295.78 1450.66 1298.83 1446.07 Q1301.91 1441.47 1307.72 1441.47 Z\" fill=\"#000000\" fill-rule=\"evenodd\" fill-opacity=\"1\" /><path clip-path=\"url(#clip400)\" d=\"M 0 0 M1803.01 1445.17 Q1799.4 1445.17 1797.57 1448.74 Q1795.77 1452.28 1795.77 1459.41 Q1795.77 1466.51 1797.57 1470.08 Q1799.4 1473.62 1803.01 1473.62 Q1806.65 1473.62 1808.45 1470.08 Q1810.28 1466.51 1810.28 1459.41 Q1810.28 1452.28 1808.45 1448.74 Q1806.65 1445.17 1803.01 1445.17 M1803.01 1441.47 Q1808.82 1441.47 1811.88 1446.07 Q1814.96 1450.66 1814.96 1459.41 Q1814.96 1468.13 1811.88 1472.74 Q1808.82 1477.32 1803.01 1477.32 Q1797.2 1477.32 1794.12 1472.74 Q1791.07 1468.13 1791.07 1459.41 Q1791.07 1450.66 1794.12 1446.07 Q1797.2 1441.47 1803.01 1441.47 Z\" fill=\"#000000\" fill-rule=\"evenodd\" fill-opacity=\"1\" /><path clip-path=\"url(#clip400)\" d=\"M 0 0 M1820.03 1470.77 L1824.91 1470.77 L1824.91 1476.65 L1820.03 1476.65 L1820.03 1470.77 Z\" fill=\"#000000\" fill-rule=\"evenodd\" fill-opacity=\"1\" /><path clip-path=\"url(#clip400)\" d=\"M 0 0 M1830.03 1442.09 L1848.38 1442.09 L1848.38 1446.03 L1834.31 1446.03 L1834.31 1454.5 Q1835.33 1454.15 1836.34 1453.99 Q1837.36 1453.8 1838.38 1453.8 Q1844.17 1453.8 1847.55 1456.98 Q1850.93 1460.15 1850.93 1465.56 Q1850.93 1471.14 1847.46 1474.24 Q1843.98 1477.32 1837.66 1477.32 Q1835.49 1477.32 1833.22 1476.95 Q1830.97 1476.58 1828.57 1475.84 L1828.57 1471.14 Q1830.65 1472.28 1832.87 1472.83 Q1835.09 1473.39 1837.57 1473.39 Q1841.58 1473.39 1843.91 1471.28 Q1846.25 1469.18 1846.25 1465.56 Q1846.25 1461.95 1843.91 1459.85 Q1841.58 1457.74 1837.57 1457.74 Q1835.7 1457.74 1833.82 1458.16 Q1831.97 1458.57 1830.03 1459.45 L1830.03 1442.09 Z\" fill=\"#000000\" fill-rule=\"evenodd\" fill-opacity=\"1\" /><path clip-path=\"url(#clip400)\" d=\"M 0 0 M2324.65 1472.72 L2332.29 1472.72 L2332.29 1446.35 L2323.98 1448.02 L2323.98 1443.76 L2332.25 1442.09 L2336.92 1442.09 L2336.92 1472.72 L2344.56 1472.72 L2344.56 1476.65 L2324.65 1476.65 L2324.65 1472.72 Z\" fill=\"#000000\" fill-rule=\"evenodd\" fill-opacity=\"1\" /><path clip-path=\"url(#clip400)\" d=\"M 0 0 M2349.63 1470.77 L2354.52 1470.77 L2354.52 1476.65 L2349.63 1476.65 L2349.63 1470.77 Z\" fill=\"#000000\" fill-rule=\"evenodd\" fill-opacity=\"1\" /><path clip-path=\"url(#clip400)\" d=\"M 0 0 M2369.58 1445.17 Q2365.97 1445.17 2364.14 1448.74 Q2362.34 1452.28 2362.34 1459.41 Q2362.34 1466.51 2364.14 1470.08 Q2365.97 1473.62 2369.58 1473.62 Q2373.22 1473.62 2375.02 1470.08 Q2376.85 1466.51 2376.85 1459.41 Q2376.85 1452.28 2375.02 1448.74 Q2373.22 1445.17 2369.58 1445.17 M2369.58 1441.47 Q2375.39 1441.47 2378.45 1446.07 Q2381.53 1450.66 2381.53 1459.41 Q2381.53 1468.13 2378.45 1472.74 Q2375.39 1477.32 2369.58 1477.32 Q2363.77 1477.32 2360.7 1472.74 Q2357.64 1468.13 2357.64 1459.41 Q2357.64 1450.66 2360.7 1446.07 Q2363.77 1441.47 2369.58 1441.47 Z\" fill=\"#000000\" fill-rule=\"evenodd\" fill-opacity=\"1\" /><path clip-path=\"url(#clip400)\" d=\"M 0 0 M126.492 1425.58 L138.968 1425.58 L138.968 1429.37 L126.492 1429.37 L126.492 1425.58 Z\" fill=\"#000000\" fill-rule=\"evenodd\" fill-opacity=\"1\" /><path clip-path=\"url(#clip400)\" d=\"M 0 0 M144.848 1436.52 L152.487 1436.52 L152.487 1410.16 L144.177 1411.83 L144.177 1407.57 L152.441 1405.9 L157.116 1405.9 L157.116 1436.52 L164.755 1436.52 L164.755 1440.46 L144.848 1440.46 L144.848 1436.52 Z\" fill=\"#000000\" fill-rule=\"evenodd\" fill-opacity=\"1\" /><path clip-path=\"url(#clip400)\" d=\"M 0 0 M169.825 1434.58 L174.709 1434.58 L174.709 1440.46 L169.825 1440.46 L169.825 1434.58 Z\" fill=\"#000000\" fill-rule=\"evenodd\" fill-opacity=\"1\" /><path clip-path=\"url(#clip400)\" d=\"M 0 0 M189.778 1408.98 Q186.167 1408.98 184.339 1412.54 Q182.533 1416.08 182.533 1423.21 Q182.533 1430.32 184.339 1433.89 Q186.167 1437.43 189.778 1437.43 Q193.413 1437.43 195.218 1433.89 Q197.047 1430.32 197.047 1423.21 Q197.047 1416.08 195.218 1412.54 Q193.413 1408.98 189.778 1408.98 M189.778 1405.27 Q195.588 1405.27 198.644 1409.88 Q201.723 1414.46 201.723 1423.21 Q201.723 1431.94 198.644 1436.55 Q195.588 1441.13 189.778 1441.13 Q183.968 1441.13 180.889 1436.55 Q177.834 1431.94 177.834 1423.21 Q177.834 1414.46 180.889 1409.88 Q183.968 1405.27 189.778 1405.27 Z\" fill=\"#000000\" fill-rule=\"evenodd\" fill-opacity=\"1\" /><path clip-path=\"url(#clip400)\" d=\"M 0 0 M126.26 1081.59 L138.737 1081.59 L138.737 1085.39 L126.26 1085.39 L126.26 1081.59 Z\" fill=\"#000000\" fill-rule=\"evenodd\" fill-opacity=\"1\" /><path clip-path=\"url(#clip400)\" d=\"M 0 0 M153.806 1064.99 Q150.195 1064.99 148.367 1068.56 Q146.561 1072.1 146.561 1079.23 Q146.561 1086.34 148.367 1089.9 Q150.195 1093.44 153.806 1093.44 Q157.441 1093.44 159.246 1089.9 Q161.075 1086.34 161.075 1079.23 Q161.075 1072.1 159.246 1068.56 Q157.441 1064.99 153.806 1064.99 M153.806 1061.29 Q159.616 1061.29 162.672 1065.9 Q165.751 1070.48 165.751 1079.23 Q165.751 1087.96 162.672 1092.56 Q159.616 1097.15 153.806 1097.15 Q147.996 1097.15 144.917 1092.56 Q141.862 1087.96 141.862 1079.23 Q141.862 1070.48 144.917 1065.9 Q147.996 1061.29 153.806 1061.29 Z\" fill=\"#000000\" fill-rule=\"evenodd\" fill-opacity=\"1\" /><path clip-path=\"url(#clip400)\" d=\"M 0 0 M170.82 1090.6 L175.704 1090.6 L175.704 1096.48 L170.82 1096.48 L170.82 1090.6 Z\" fill=\"#000000\" fill-rule=\"evenodd\" fill-opacity=\"1\" /><path clip-path=\"url(#clip400)\" d=\"M 0 0 M180.82 1061.92 L199.176 1061.92 L199.176 1065.85 L185.102 1065.85 L185.102 1074.32 Q186.121 1073.98 187.139 1073.81 Q188.158 1073.63 189.176 1073.63 Q194.963 1073.63 198.343 1076.8 Q201.723 1079.97 201.723 1085.39 Q201.723 1090.97 198.251 1094.07 Q194.778 1097.15 188.459 1097.15 Q186.283 1097.15 184.014 1096.78 Q181.769 1096.41 179.362 1095.67 L179.362 1090.97 Q181.445 1092.1 183.667 1092.66 Q185.889 1093.21 188.366 1093.21 Q192.371 1093.21 194.709 1091.11 Q197.047 1089 197.047 1085.39 Q197.047 1081.78 194.709 1079.67 Q192.371 1077.56 188.366 1077.56 Q186.491 1077.56 184.616 1077.98 Q182.764 1078.4 180.82 1079.28 L180.82 1061.92 Z\" fill=\"#000000\" fill-rule=\"evenodd\" fill-opacity=\"1\" /><path clip-path=\"url(#clip400)\" d=\"M 0 0 M152.811 721.011 Q149.2 721.011 147.371 724.575 Q145.566 728.117 145.566 735.247 Q145.566 742.353 147.371 745.918 Q149.2 749.46 152.811 749.46 Q156.445 749.46 158.251 745.918 Q160.079 742.353 160.079 735.247 Q160.079 728.117 158.251 724.575 Q156.445 721.011 152.811 721.011 M152.811 717.307 Q158.621 717.307 161.677 721.913 Q164.755 726.497 164.755 735.247 Q164.755 743.973 161.677 748.58 Q158.621 753.163 152.811 753.163 Q147.001 753.163 143.922 748.58 Q140.867 743.973 140.867 735.247 Q140.867 726.497 143.922 721.913 Q147.001 717.307 152.811 717.307 Z\" fill=\"#000000\" fill-rule=\"evenodd\" fill-opacity=\"1\" /><path clip-path=\"url(#clip400)\" d=\"M 0 0 M169.825 746.612 L174.709 746.612 L174.709 752.492 L169.825 752.492 L169.825 746.612 Z\" fill=\"#000000\" fill-rule=\"evenodd\" fill-opacity=\"1\" /><path clip-path=\"url(#clip400)\" d=\"M 0 0 M189.778 721.011 Q186.167 721.011 184.339 724.575 Q182.533 728.117 182.533 735.247 Q182.533 742.353 184.339 745.918 Q186.167 749.46 189.778 749.46 Q193.413 749.46 195.218 745.918 Q197.047 742.353 197.047 735.247 Q197.047 728.117 195.218 724.575 Q193.413 721.011 189.778 721.011 M189.778 717.307 Q195.588 717.307 198.644 721.913 Q201.723 726.497 201.723 735.247 Q201.723 743.973 198.644 748.58 Q195.588 753.163 189.778 753.163 Q183.968 753.163 180.889 748.58 Q177.834 743.973 177.834 735.247 Q177.834 726.497 180.889 721.913 Q183.968 717.307 189.778 717.307 Z\" fill=\"#000000\" fill-rule=\"evenodd\" fill-opacity=\"1\" /><path clip-path=\"url(#clip400)\" d=\"M 0 0 M153.806 377.027 Q150.195 377.027 148.367 380.592 Q146.561 384.133 146.561 391.263 Q146.561 398.369 148.367 401.934 Q150.195 405.476 153.806 405.476 Q157.441 405.476 159.246 401.934 Q161.075 398.369 161.075 391.263 Q161.075 384.133 159.246 380.592 Q157.441 377.027 153.806 377.027 M153.806 373.323 Q159.616 373.323 162.672 377.929 Q165.751 382.513 165.751 391.263 Q165.751 399.99 162.672 404.596 Q159.616 409.179 153.806 409.179 Q147.996 409.179 144.917 404.596 Q141.862 399.99 141.862 391.263 Q141.862 382.513 144.917 377.929 Q147.996 373.323 153.806 373.323 Z\" fill=\"#000000\" fill-rule=\"evenodd\" fill-opacity=\"1\" /><path clip-path=\"url(#clip400)\" d=\"M 0 0 M170.82 402.628 L175.704 402.628 L175.704 408.508 L170.82 408.508 L170.82 402.628 Z\" fill=\"#000000\" fill-rule=\"evenodd\" fill-opacity=\"1\" /><path clip-path=\"url(#clip400)\" d=\"M 0 0 M180.82 373.948 L199.176 373.948 L199.176 377.883 L185.102 377.883 L185.102 386.355 Q186.121 386.008 187.139 385.846 Q188.158 385.661 189.176 385.661 Q194.963 385.661 198.343 388.832 Q201.723 392.003 201.723 397.42 Q201.723 402.999 198.251 406.101 Q194.778 409.179 188.459 409.179 Q186.283 409.179 184.014 408.809 Q181.769 408.439 179.362 407.698 L179.362 402.999 Q181.445 404.133 183.667 404.689 Q185.889 405.244 188.366 405.244 Q192.371 405.244 194.709 403.138 Q197.047 401.031 197.047 397.42 Q197.047 393.809 194.709 391.703 Q192.371 389.596 188.366 389.596 Q186.491 389.596 184.616 390.013 Q182.764 390.429 180.82 391.309 L180.82 373.948 Z\" fill=\"#000000\" fill-rule=\"evenodd\" fill-opacity=\"1\" /><path clip-path=\"url(#clip400)\" d=\"M 0 0 M144.848 60.5889 L152.487 60.5889 L152.487 34.2233 L144.177 35.89 L144.177 31.6308 L152.441 29.9641 L157.116 29.9641 L157.116 60.5889 L164.755 60.5889 L164.755 64.5241 L144.848 64.5241 L144.848 60.5889 Z\" fill=\"#000000\" fill-rule=\"evenodd\" fill-opacity=\"1\" /><path clip-path=\"url(#clip400)\" d=\"M 0 0 M169.825 58.6445 L174.709 58.6445 L174.709 64.5241 L169.825 64.5241 L169.825 58.6445 Z\" fill=\"#000000\" fill-rule=\"evenodd\" fill-opacity=\"1\" /><path clip-path=\"url(#clip400)\" d=\"M 0 0 M189.778 33.0428 Q186.167 33.0428 184.339 36.6076 Q182.533 40.1492 182.533 47.2788 Q182.533 54.3853 184.339 57.9501 Q186.167 61.4917 189.778 61.4917 Q193.413 61.4917 195.218 57.9501 Q197.047 54.3853 197.047 47.2788 Q197.047 40.1492 195.218 36.6076 Q193.413 33.0428 189.778 33.0428 M189.778 29.3391 Q195.588 29.3391 198.644 33.9456 Q201.723 38.5289 201.723 47.2788 Q201.723 56.0056 198.644 60.6121 Q195.588 65.1954 189.778 65.1954 Q183.968 65.1954 180.889 60.6121 Q177.834 56.0056 177.834 47.2788 Q177.834 38.5289 180.889 33.9456 Q183.968 29.3391 189.778 29.3391 Z\" fill=\"#000000\" fill-rule=\"evenodd\" fill-opacity=\"1\" /><path clip-path=\"url(#clip400)\" d=\"M 0 0 M1305.85 1520.4 L1292.96 1537.74 L1306.52 1556.04 L1299.62 1556.04 L1289.24 1542.04 L1278.86 1556.04 L1271.96 1556.04 L1285.8 1537.39 L1273.13 1520.4 L1280.04 1520.4 L1289.49 1533.1 L1298.95 1520.4 L1305.85 1520.4 Z\" fill=\"#000000\" fill-rule=\"evenodd\" fill-opacity=\"1\" /><path clip-path=\"url(#clip400)\" d=\"M 0 0 M91.3143 733.525 Q97.68 736.008 99.6216 738.363 Q101.563 740.718 101.563 744.665 L101.563 749.344 L96.6615 749.344 L96.6615 745.906 Q96.6615 743.487 95.5157 742.151 Q94.3699 740.814 90.1048 739.191 L87.4312 738.14 L52.3562 752.559 L52.3562 746.352 L80.238 735.212 L52.3562 724.072 L52.3562 717.865 L91.3143 733.525 Z\" fill=\"#000000\" fill-rule=\"evenodd\" fill-opacity=\"1\" /><polyline clip-path=\"url(#clip402)\" style=\"stroke:#009af9; stroke-width:4; stroke-opacity:0.5; fill:none\" points=\"\n",
       "  -1.06329e+06,689391 1.06587e+06,-687921 \n",
       "  \"/>\n",
       "<polyline clip-path=\"url(#clip402)\" style=\"stroke:#e26f46; stroke-width:4; stroke-opacity:0.5; fill:none\" points=\"\n",
       "  -1.06329e+06,-687921 1.06587e+06,689391 \n",
       "  \"/>\n",
       "<path clip-path=\"url(#clip400)\" d=\"\n",
       "M1910.18 312.204 L2280.76 312.204 L2280.76 130.764 L1910.18 130.764  Z\n",
       "  \" fill=\"#ffffff\" fill-rule=\"evenodd\" fill-opacity=\"1\"/>\n",
       "<polyline clip-path=\"url(#clip400)\" style=\"stroke:#000000; stroke-width:4; stroke-opacity:1; fill:none\" points=\"\n",
       "  1910.18,312.204 2280.76,312.204 2280.76,130.764 1910.18,130.764 1910.18,312.204 \n",
       "  \"/>\n",
       "<polyline clip-path=\"url(#clip400)\" style=\"stroke:#009af9; stroke-width:4; stroke-opacity:0.5; fill:none\" points=\"\n",
       "  1934.18,191.244 2078.18,191.244 \n",
       "  \"/>\n",
       "<circle clip-path=\"url(#clip400)\" cx=\"2018.18\" cy=\"191.244\" r=\"23\" fill=\"#009af9\" fill-rule=\"evenodd\" fill-opacity=\"0.5\" stroke=\"#000000\" stroke-opacity=\"0.5\" stroke-width=\"5.12\"/>\n",
       "<path clip-path=\"url(#clip400)\" d=\"M 0 0 M2126.83 182.598 L2117.46 195.214 L2127.32 208.524 L2122.29 208.524 L2114.75 198.339 L2107.2 208.524 L2102.18 208.524 L2112.25 194.959 L2103.03 182.598 L2108.06 182.598 L2114.93 191.834 L2121.81 182.598 L2126.83 182.598 Z\" fill=\"#000000\" fill-rule=\"evenodd\" fill-opacity=\"1\" /><path clip-path=\"url(#clip400)\" d=\"M 0 0 M2147.41 186.996 L2177.08 186.996 L2177.08 190.885 L2147.41 190.885 L2147.41 186.996 M2147.41 196.441 L2177.08 196.441 L2177.08 200.376 L2147.41 200.376 L2147.41 196.441 Z\" fill=\"#000000\" fill-rule=\"evenodd\" fill-opacity=\"1\" /><path clip-path=\"url(#clip400)\" d=\"M 0 0 M2207.41 210.931 Q2205.6 215.561 2203.89 216.973 Q2202.18 218.385 2199.31 218.385 L2195.9 218.385 L2195.9 214.82 L2198.4 214.82 Q2200.16 214.82 2201.14 213.987 Q2202.11 213.154 2203.29 210.052 L2204.05 208.107 L2193.57 182.598 L2198.08 182.598 L2206.18 202.876 L2214.28 182.598 L2218.8 182.598 L2207.41 210.931 Z\" fill=\"#000000\" fill-rule=\"evenodd\" fill-opacity=\"1\" /><polyline clip-path=\"url(#clip400)\" style=\"stroke:#e26f46; stroke-width:4; stroke-opacity:0.5; fill:none\" points=\"\n",
       "  1934.18,251.724 2078.18,251.724 \n",
       "  \"/>\n",
       "<circle clip-path=\"url(#clip400)\" cx=\"2018.18\" cy=\"251.724\" r=\"23\" fill=\"#e26f46\" fill-rule=\"evenodd\" fill-opacity=\"0.5\" stroke=\"#000000\" stroke-opacity=\"0.5\" stroke-width=\"5.12\"/>\n",
       "<path clip-path=\"url(#clip400)\" d=\"M 0 0 M2126.83 243.078 L2117.46 255.694 L2127.32 269.004 L2122.29 269.004 L2114.75 258.819 L2107.2 269.004 L2102.18 269.004 L2112.25 255.439 L2103.03 243.078 L2108.06 243.078 L2114.93 252.314 L2121.81 243.078 L2126.83 243.078 Z\" fill=\"#000000\" fill-rule=\"evenodd\" fill-opacity=\"1\" /><path clip-path=\"url(#clip400)\" d=\"M 0 0 M2147.41 247.476 L2177.08 247.476 L2177.08 251.365 L2147.41 251.365 L2147.41 247.476 M2147.41 256.921 L2177.08 256.921 L2177.08 260.856 L2147.41 260.856 L2147.41 256.921 Z\" fill=\"#000000\" fill-rule=\"evenodd\" fill-opacity=\"1\" /><path clip-path=\"url(#clip400)\" d=\"M 0 0 M2194.47 254.12 L2206.95 254.12 L2206.95 257.916 L2194.47 257.916 L2194.47 254.12 Z\" fill=\"#000000\" fill-rule=\"evenodd\" fill-opacity=\"1\" /><path clip-path=\"url(#clip400)\" d=\"M 0 0 M2221.37 271.411 Q2219.56 276.041 2217.85 277.453 Q2216.14 278.865 2213.27 278.865 L2209.86 278.865 L2209.86 275.3 L2212.36 275.3 Q2214.12 275.3 2215.09 274.467 Q2216.07 273.634 2217.25 270.532 L2218.01 268.587 L2207.52 243.078 L2212.04 243.078 L2220.14 263.356 L2228.24 243.078 L2232.76 243.078 L2221.37 271.411 Z\" fill=\"#000000\" fill-rule=\"evenodd\" fill-opacity=\"1\" /></svg>\n"
      ]
     },
     "execution_count": 80,
     "metadata": {},
     "output_type": "execute_result"
    }
   ],
   "source": [
    "plot(H, xlab=\"x\", ylab=\"y\", lab=\"x = y\")\n",
    "plot!(H′, lab=\"x = -y\")"
   ]
  },
  {
   "cell_type": "markdown",
   "metadata": {},
   "source": [
    "Higher dimensional hyperplanes can be constructed similarly. If you work with many variables it is sometimes convenient to use the array notation together with the `@variables` macro. For instance, below we define the hyperplane\n",
    "    \n",
    "$$\n",
    "H := \\{ u \\in \\mathbb{R}^{10} : u_1 - u_3 = 2(u_2 - u_{10}) - 1.0\\}\n",
    "$$"
   ]
  },
  {
   "cell_type": "code",
   "execution_count": 81,
   "metadata": {},
   "outputs": [
    {
     "data": {
      "text/plain": [
       "(Operation[u₁, u₂, u₃, u₄, u₅, u₆, u₇, u₈, u₉, u₁₀],)"
      ]
     },
     "execution_count": 81,
     "metadata": {},
     "output_type": "execute_result"
    }
   ],
   "source": [
    "@variables u[1:10]"
   ]
  },
  {
   "cell_type": "code",
   "execution_count": 82,
   "metadata": {},
   "outputs": [
    {
     "data": {
      "text/plain": [
       "Hyperplane{Float64,Array{Float64,1}}([1.0, -2.0, -1.0, 0.0, 0.0, 0.0, 0.0, 0.0, 0.0, 2.0], -1.0)"
      ]
     },
     "execution_count": 82,
     "metadata": {},
     "output_type": "execute_result"
    }
   ],
   "source": [
    "H = Hyperplane(u[1] - u[3] == 2*(u[2] - u[10]) - 1.0, u)"
   ]
  },
  {
   "cell_type": "markdown",
   "metadata": {},
   "source": [
    "## Linear constraints"
   ]
  },
  {
   "cell_type": "markdown",
   "metadata": {},
   "source": [
    "Linear constraints are sets defined by the relation $a^T x \\leq b$. We call such sets `HalfSpaces`."
   ]
  },
  {
   "cell_type": "markdown",
   "metadata": {},
   "source": [
    "Below we build two half-spaces,\n",
    "\n",
    "- $S := \\{ (x, y) \\in \\mathbb{R}^2 : x \\leq y \\}$\n",
    "- $S' := \\{ (x, y) \\in \\mathbb{R}^2 : x \\geq y \\}$"
   ]
  },
  {
   "cell_type": "code",
   "execution_count": 42,
   "metadata": {},
   "outputs": [
    {
     "data": {
      "text/plain": [
       "HalfSpace{Float64,Array{Float64,1}}([1.0, 1.0], -0.0)"
      ]
     },
     "execution_count": 42,
     "metadata": {},
     "output_type": "execute_result"
    }
   ],
   "source": [
    "S = HalfSpace(x <= y, var)\n",
    "S′ = HalfSpace(x >= y, var)"
   ]
  },
  {
   "cell_type": "markdown",
   "metadata": {},
   "source": [
    "Note that you can define the relation with any of $\\leq$, $\\geq$ and strict inequalities are converted to non-strict ones. As shown previously for `Hyperplane`, symbolic variables and scalars can appear both in the left and in the right hand side of the expression."
   ]
  },
  {
   "cell_type": "code",
   "execution_count": 43,
   "metadata": {},
   "outputs": [
    {
     "data": {
      "image/svg+xml": [
       "<?xml version=\"1.0\" encoding=\"utf-8\"?>\n",
       "<svg xmlns=\"http://www.w3.org/2000/svg\" xmlns:xlink=\"http://www.w3.org/1999/xlink\" width=\"600\" height=\"400\" viewBox=\"0 0 2400 1600\">\n",
       "<defs>\n",
       "  <clipPath id=\"clip120\">\n",
       "    <rect x=\"0\" y=\"0\" width=\"2400\" height=\"1600\"/>\n",
       "  </clipPath>\n",
       "</defs>\n",
       "<path clip-path=\"url(#clip120)\" d=\"\n",
       "M0 1600 L2400 1600 L2400 0 L0 0  Z\n",
       "  \" fill=\"#ffffff\" fill-rule=\"evenodd\" fill-opacity=\"1\"/>\n",
       "<defs>\n",
       "  <clipPath id=\"clip121\">\n",
       "    <rect x=\"480\" y=\"0\" width=\"1681\" height=\"1600\"/>\n",
       "  </clipPath>\n",
       "</defs>\n",
       "<path clip-path=\"url(#clip120)\" d=\"\n",
       "M162.455 1486.45 L2352.76 1486.45 L2352.76 47.2441 L162.455 47.2441  Z\n",
       "  \" fill=\"#ffffff\" fill-rule=\"evenodd\" fill-opacity=\"1\"/>\n",
       "<defs>\n",
       "  <clipPath id=\"clip122\">\n",
       "    <rect x=\"162\" y=\"47\" width=\"2191\" height=\"1440\"/>\n",
       "  </clipPath>\n",
       "</defs>\n",
       "<polyline clip-path=\"url(#clip122)\" style=\"stroke:#000000; stroke-width:2; stroke-opacity:0.1; fill:none\" points=\"\n",
       "  162.455,1486.45 162.455,47.2441 \n",
       "  \"/>\n",
       "<polyline clip-path=\"url(#clip122)\" style=\"stroke:#000000; stroke-width:2; stroke-opacity:0.1; fill:none\" points=\"\n",
       "  710.03,1486.45 710.03,47.2441 \n",
       "  \"/>\n",
       "<polyline clip-path=\"url(#clip122)\" style=\"stroke:#000000; stroke-width:2; stroke-opacity:0.1; fill:none\" points=\"\n",
       "  1257.61,1486.45 1257.61,47.2441 \n",
       "  \"/>\n",
       "<polyline clip-path=\"url(#clip122)\" style=\"stroke:#000000; stroke-width:2; stroke-opacity:0.1; fill:none\" points=\"\n",
       "  1805.18,1486.45 1805.18,47.2441 \n",
       "  \"/>\n",
       "<polyline clip-path=\"url(#clip122)\" style=\"stroke:#000000; stroke-width:2; stroke-opacity:0.1; fill:none\" points=\"\n",
       "  2352.76,1486.45 2352.76,47.2441 \n",
       "  \"/>\n",
       "<polyline clip-path=\"url(#clip122)\" style=\"stroke:#000000; stroke-width:2; stroke-opacity:0.1; fill:none\" points=\"\n",
       "  162.455,1486.45 2352.76,1486.45 \n",
       "  \"/>\n",
       "<polyline clip-path=\"url(#clip122)\" style=\"stroke:#000000; stroke-width:2; stroke-opacity:0.1; fill:none\" points=\"\n",
       "  162.455,1126.65 2352.76,1126.65 \n",
       "  \"/>\n",
       "<polyline clip-path=\"url(#clip122)\" style=\"stroke:#000000; stroke-width:2; stroke-opacity:0.1; fill:none\" points=\"\n",
       "  162.455,766.846 2352.76,766.846 \n",
       "  \"/>\n",
       "<polyline clip-path=\"url(#clip122)\" style=\"stroke:#000000; stroke-width:2; stroke-opacity:0.1; fill:none\" points=\"\n",
       "  162.455,407.045 2352.76,407.045 \n",
       "  \"/>\n",
       "<polyline clip-path=\"url(#clip122)\" style=\"stroke:#000000; stroke-width:2; stroke-opacity:0.1; fill:none\" points=\"\n",
       "  162.455,47.2441 2352.76,47.2441 \n",
       "  \"/>\n",
       "<polyline clip-path=\"url(#clip120)\" style=\"stroke:#000000; stroke-width:4; stroke-opacity:1; fill:none\" points=\"\n",
       "  162.455,1486.45 2352.76,1486.45 \n",
       "  \"/>\n",
       "<polyline clip-path=\"url(#clip120)\" style=\"stroke:#000000; stroke-width:4; stroke-opacity:1; fill:none\" points=\"\n",
       "  162.455,1486.45 162.455,47.2441 \n",
       "  \"/>\n",
       "<polyline clip-path=\"url(#clip120)\" style=\"stroke:#000000; stroke-width:4; stroke-opacity:1; fill:none\" points=\"\n",
       "  162.455,1486.45 162.455,1469.18 \n",
       "  \"/>\n",
       "<polyline clip-path=\"url(#clip120)\" style=\"stroke:#000000; stroke-width:4; stroke-opacity:1; fill:none\" points=\"\n",
       "  710.03,1486.45 710.03,1469.18 \n",
       "  \"/>\n",
       "<polyline clip-path=\"url(#clip120)\" style=\"stroke:#000000; stroke-width:4; stroke-opacity:1; fill:none\" points=\"\n",
       "  1257.61,1486.45 1257.61,1469.18 \n",
       "  \"/>\n",
       "<polyline clip-path=\"url(#clip120)\" style=\"stroke:#000000; stroke-width:4; stroke-opacity:1; fill:none\" points=\"\n",
       "  1805.18,1486.45 1805.18,1469.18 \n",
       "  \"/>\n",
       "<polyline clip-path=\"url(#clip120)\" style=\"stroke:#000000; stroke-width:4; stroke-opacity:1; fill:none\" points=\"\n",
       "  2352.76,1486.45 2352.76,1469.18 \n",
       "  \"/>\n",
       "<polyline clip-path=\"url(#clip120)\" style=\"stroke:#000000; stroke-width:4; stroke-opacity:1; fill:none\" points=\"\n",
       "  162.455,1486.45 188.738,1486.45 \n",
       "  \"/>\n",
       "<polyline clip-path=\"url(#clip120)\" style=\"stroke:#000000; stroke-width:4; stroke-opacity:1; fill:none\" points=\"\n",
       "  162.455,1126.65 188.738,1126.65 \n",
       "  \"/>\n",
       "<polyline clip-path=\"url(#clip120)\" style=\"stroke:#000000; stroke-width:4; stroke-opacity:1; fill:none\" points=\"\n",
       "  162.455,766.846 188.738,766.846 \n",
       "  \"/>\n",
       "<polyline clip-path=\"url(#clip120)\" style=\"stroke:#000000; stroke-width:4; stroke-opacity:1; fill:none\" points=\"\n",
       "  162.455,407.045 188.738,407.045 \n",
       "  \"/>\n",
       "<polyline clip-path=\"url(#clip120)\" style=\"stroke:#000000; stroke-width:4; stroke-opacity:1; fill:none\" points=\"\n",
       "  162.455,47.2441 188.738,47.2441 \n",
       "  \"/>\n",
       "<path clip-path=\"url(#clip120)\" d=\"M 0 0 M124.839 1525.04 L137.316 1525.04 L137.316 1528.83 L124.839 1528.83 L124.839 1525.04 Z\" fill=\"#000000\" fill-rule=\"evenodd\" fill-opacity=\"1\" /><path clip-path=\"url(#clip120)\" d=\"M 0 0 M143.196 1535.98 L150.834 1535.98 L150.834 1509.62 L142.524 1511.29 L142.524 1507.03 L150.788 1505.36 L155.464 1505.36 L155.464 1535.98 L163.103 1535.98 L163.103 1539.92 L143.196 1539.92 L143.196 1535.98 Z\" fill=\"#000000\" fill-rule=\"evenodd\" fill-opacity=\"1\" /><path clip-path=\"url(#clip120)\" d=\"M 0 0 M168.172 1534.04 L173.056 1534.04 L173.056 1539.92 L168.172 1539.92 L168.172 1534.04 Z\" fill=\"#000000\" fill-rule=\"evenodd\" fill-opacity=\"1\" /><path clip-path=\"url(#clip120)\" d=\"M 0 0 M188.126 1508.44 Q184.515 1508.44 182.686 1512 Q180.881 1515.55 180.881 1522.67 Q180.881 1529.78 182.686 1533.35 Q184.515 1536.89 188.126 1536.89 Q191.76 1536.89 193.566 1533.35 Q195.394 1529.78 195.394 1522.67 Q195.394 1515.55 193.566 1512 Q191.76 1508.44 188.126 1508.44 M188.126 1504.73 Q193.936 1504.73 196.992 1509.34 Q200.07 1513.92 200.07 1522.67 Q200.07 1531.4 196.992 1536.01 Q193.936 1540.59 188.126 1540.59 Q182.316 1540.59 179.237 1536.01 Q176.181 1531.4 176.181 1522.67 Q176.181 1513.92 179.237 1509.34 Q182.316 1504.73 188.126 1504.73 Z\" fill=\"#000000\" fill-rule=\"evenodd\" fill-opacity=\"1\" /><path clip-path=\"url(#clip120)\" d=\"M 0 0 M672.299 1525.04 L684.775 1525.04 L684.775 1528.83 L672.299 1528.83 L672.299 1525.04 Z\" fill=\"#000000\" fill-rule=\"evenodd\" fill-opacity=\"1\" /><path clip-path=\"url(#clip120)\" d=\"M 0 0 M699.845 1508.44 Q696.234 1508.44 694.405 1512 Q692.6 1515.55 692.6 1522.67 Q692.6 1529.78 694.405 1533.35 Q696.234 1536.89 699.845 1536.89 Q703.479 1536.89 705.285 1533.35 Q707.113 1529.78 707.113 1522.67 Q707.113 1515.55 705.285 1512 Q703.479 1508.44 699.845 1508.44 M699.845 1504.73 Q705.655 1504.73 708.711 1509.34 Q711.789 1513.92 711.789 1522.67 Q711.789 1531.4 708.711 1536.01 Q705.655 1540.59 699.845 1540.59 Q694.035 1540.59 690.956 1536.01 Q687.9 1531.4 687.9 1522.67 Q687.9 1513.92 690.956 1509.34 Q694.035 1504.73 699.845 1504.73 Z\" fill=\"#000000\" fill-rule=\"evenodd\" fill-opacity=\"1\" /><path clip-path=\"url(#clip120)\" d=\"M 0 0 M716.859 1534.04 L721.743 1534.04 L721.743 1539.92 L716.859 1539.92 L716.859 1534.04 Z\" fill=\"#000000\" fill-rule=\"evenodd\" fill-opacity=\"1\" /><path clip-path=\"url(#clip120)\" d=\"M 0 0 M726.859 1505.36 L745.215 1505.36 L745.215 1509.3 L731.141 1509.3 L731.141 1517.77 Q732.16 1517.42 733.178 1517.26 Q734.197 1517.07 735.215 1517.07 Q741.002 1517.07 744.382 1520.24 Q747.761 1523.42 747.761 1528.83 Q747.761 1534.41 744.289 1537.51 Q740.817 1540.59 734.497 1540.59 Q732.322 1540.59 730.053 1540.22 Q727.808 1539.85 725.4 1539.11 L725.4 1534.41 Q727.484 1535.54 729.706 1536.1 Q731.928 1536.66 734.405 1536.66 Q738.409 1536.66 740.747 1534.55 Q743.085 1532.44 743.085 1528.83 Q743.085 1525.22 740.747 1523.11 Q738.409 1521.01 734.405 1521.01 Q732.53 1521.01 730.655 1521.42 Q728.803 1521.84 726.859 1522.72 L726.859 1505.36 Z\" fill=\"#000000\" fill-rule=\"evenodd\" fill-opacity=\"1\" /><path clip-path=\"url(#clip120)\" d=\"M 0 0 M1239.12 1508.44 Q1235.51 1508.44 1233.68 1512 Q1231.88 1515.55 1231.88 1522.67 Q1231.88 1529.78 1233.68 1533.35 Q1235.51 1536.89 1239.12 1536.89 Q1242.76 1536.89 1244.56 1533.35 Q1246.39 1529.78 1246.39 1522.67 Q1246.39 1515.55 1244.56 1512 Q1242.76 1508.44 1239.12 1508.44 M1239.12 1504.73 Q1244.93 1504.73 1247.99 1509.34 Q1251.07 1513.92 1251.07 1522.67 Q1251.07 1531.4 1247.99 1536.01 Q1244.93 1540.59 1239.12 1540.59 Q1233.31 1540.59 1230.23 1536.01 Q1227.18 1531.4 1227.18 1522.67 Q1227.18 1513.92 1230.23 1509.34 Q1233.31 1504.73 1239.12 1504.73 Z\" fill=\"#000000\" fill-rule=\"evenodd\" fill-opacity=\"1\" /><path clip-path=\"url(#clip120)\" d=\"M 0 0 M1256.14 1534.04 L1261.02 1534.04 L1261.02 1539.92 L1256.14 1539.92 L1256.14 1534.04 Z\" fill=\"#000000\" fill-rule=\"evenodd\" fill-opacity=\"1\" /><path clip-path=\"url(#clip120)\" d=\"M 0 0 M1276.09 1508.44 Q1272.48 1508.44 1270.65 1512 Q1268.84 1515.55 1268.84 1522.67 Q1268.84 1529.78 1270.65 1533.35 Q1272.48 1536.89 1276.09 1536.89 Q1279.72 1536.89 1281.53 1533.35 Q1283.36 1529.78 1283.36 1522.67 Q1283.36 1515.55 1281.53 1512 Q1279.72 1508.44 1276.09 1508.44 M1276.09 1504.73 Q1281.9 1504.73 1284.95 1509.34 Q1288.03 1513.92 1288.03 1522.67 Q1288.03 1531.4 1284.95 1536.01 Q1281.9 1540.59 1276.09 1540.59 Q1270.28 1540.59 1267.2 1536.01 Q1264.14 1531.4 1264.14 1522.67 Q1264.14 1513.92 1267.2 1509.34 Q1270.28 1504.73 1276.09 1504.73 Z\" fill=\"#000000\" fill-rule=\"evenodd\" fill-opacity=\"1\" /><path clip-path=\"url(#clip120)\" d=\"M 0 0 M1787.19 1508.44 Q1783.58 1508.44 1781.75 1512 Q1779.95 1515.55 1779.95 1522.67 Q1779.95 1529.78 1781.75 1533.35 Q1783.58 1536.89 1787.19 1536.89 Q1790.83 1536.89 1792.63 1533.35 Q1794.46 1529.78 1794.46 1522.67 Q1794.46 1515.55 1792.63 1512 Q1790.83 1508.44 1787.19 1508.44 M1787.19 1504.73 Q1793 1504.73 1796.06 1509.34 Q1799.14 1513.92 1799.14 1522.67 Q1799.14 1531.4 1796.06 1536.01 Q1793 1540.59 1787.19 1540.59 Q1781.38 1540.59 1778.31 1536.01 Q1775.25 1531.4 1775.25 1522.67 Q1775.25 1513.92 1778.31 1509.34 Q1781.38 1504.73 1787.19 1504.73 Z\" fill=\"#000000\" fill-rule=\"evenodd\" fill-opacity=\"1\" /><path clip-path=\"url(#clip120)\" d=\"M 0 0 M1804.21 1534.04 L1809.09 1534.04 L1809.09 1539.92 L1804.21 1539.92 L1804.21 1534.04 Z\" fill=\"#000000\" fill-rule=\"evenodd\" fill-opacity=\"1\" /><path clip-path=\"url(#clip120)\" d=\"M 0 0 M1814.21 1505.36 L1832.56 1505.36 L1832.56 1509.3 L1818.49 1509.3 L1818.49 1517.77 Q1819.51 1517.42 1820.53 1517.26 Q1821.55 1517.07 1822.56 1517.07 Q1828.35 1517.07 1831.73 1520.24 Q1835.11 1523.42 1835.11 1528.83 Q1835.11 1534.41 1831.64 1537.51 Q1828.17 1540.59 1821.85 1540.59 Q1819.67 1540.59 1817.4 1540.22 Q1815.16 1539.85 1812.75 1539.11 L1812.75 1534.41 Q1814.83 1535.54 1817.06 1536.1 Q1819.28 1536.66 1821.75 1536.66 Q1825.76 1536.66 1828.1 1534.55 Q1830.44 1532.44 1830.44 1528.83 Q1830.44 1525.22 1828.1 1523.11 Q1825.76 1521.01 1821.75 1521.01 Q1819.88 1521.01 1818 1521.42 Q1816.15 1521.84 1814.21 1522.72 L1814.21 1505.36 Z\" fill=\"#000000\" fill-rule=\"evenodd\" fill-opacity=\"1\" /><path clip-path=\"url(#clip120)\" d=\"M 0 0 M2324.65 1535.98 L2332.29 1535.98 L2332.29 1509.62 L2323.98 1511.29 L2323.98 1507.03 L2332.25 1505.36 L2336.92 1505.36 L2336.92 1535.98 L2344.56 1535.98 L2344.56 1539.92 L2324.65 1539.92 L2324.65 1535.98 Z\" fill=\"#000000\" fill-rule=\"evenodd\" fill-opacity=\"1\" /><path clip-path=\"url(#clip120)\" d=\"M 0 0 M2349.63 1534.04 L2354.52 1534.04 L2354.52 1539.92 L2349.63 1539.92 L2349.63 1534.04 Z\" fill=\"#000000\" fill-rule=\"evenodd\" fill-opacity=\"1\" /><path clip-path=\"url(#clip120)\" d=\"M 0 0 M2369.58 1508.44 Q2365.97 1508.44 2364.14 1512 Q2362.34 1515.55 2362.34 1522.67 Q2362.34 1529.78 2364.14 1533.35 Q2365.97 1536.89 2369.58 1536.89 Q2373.22 1536.89 2375.02 1533.35 Q2376.85 1529.78 2376.85 1522.67 Q2376.85 1515.55 2375.02 1512 Q2373.22 1508.44 2369.58 1508.44 M2369.58 1504.73 Q2375.39 1504.73 2378.45 1509.34 Q2381.53 1513.92 2381.53 1522.67 Q2381.53 1531.4 2378.45 1536.01 Q2375.39 1540.59 2369.58 1540.59 Q2363.77 1540.59 2360.7 1536.01 Q2357.64 1531.4 2357.64 1522.67 Q2357.64 1513.92 2360.7 1509.34 Q2363.77 1504.73 2369.58 1504.73 Z\" fill=\"#000000\" fill-rule=\"evenodd\" fill-opacity=\"1\" /><path clip-path=\"url(#clip120)\" d=\"M 0 0 M63.2236 1488.84 L75.7004 1488.84 L75.7004 1492.64 L63.2236 1492.64 L63.2236 1488.84 Z\" fill=\"#000000\" fill-rule=\"evenodd\" fill-opacity=\"1\" /><path clip-path=\"url(#clip120)\" d=\"M 0 0 M81.58 1499.79 L89.2188 1499.79 L89.2188 1473.43 L80.9087 1475.09 L80.9087 1470.83 L89.1725 1469.17 L93.8484 1469.17 L93.8484 1499.79 L101.487 1499.79 L101.487 1503.73 L81.58 1503.73 L81.58 1499.79 Z\" fill=\"#000000\" fill-rule=\"evenodd\" fill-opacity=\"1\" /><path clip-path=\"url(#clip120)\" d=\"M 0 0 M106.557 1497.85 L111.441 1497.85 L111.441 1503.73 L106.557 1503.73 L106.557 1497.85 Z\" fill=\"#000000\" fill-rule=\"evenodd\" fill-opacity=\"1\" /><path clip-path=\"url(#clip120)\" d=\"M 0 0 M126.51 1472.25 Q122.899 1472.25 121.071 1475.81 Q119.265 1479.35 119.265 1486.48 Q119.265 1493.59 121.071 1497.15 Q122.899 1500.7 126.51 1500.7 Q130.145 1500.7 131.95 1497.15 Q133.779 1493.59 133.779 1486.48 Q133.779 1479.35 131.95 1475.81 Q130.145 1472.25 126.51 1472.25 M126.51 1468.54 Q132.32 1468.54 135.376 1473.15 Q138.455 1477.73 138.455 1486.48 Q138.455 1495.21 135.376 1499.82 Q132.32 1504.4 126.51 1504.4 Q120.7 1504.4 117.621 1499.82 Q114.566 1495.21 114.566 1486.48 Q114.566 1477.73 117.621 1473.15 Q120.7 1468.54 126.51 1468.54 Z\" fill=\"#000000\" fill-rule=\"evenodd\" fill-opacity=\"1\" /><path clip-path=\"url(#clip120)\" d=\"M 0 0 M62.9921 1129.04 L75.4689 1129.04 L75.4689 1132.84 L62.9921 1132.84 L62.9921 1129.04 Z\" fill=\"#000000\" fill-rule=\"evenodd\" fill-opacity=\"1\" /><path clip-path=\"url(#clip120)\" d=\"M 0 0 M90.5383 1112.45 Q86.9272 1112.45 85.0985 1116.01 Q83.2929 1119.55 83.2929 1126.68 Q83.2929 1133.79 85.0985 1137.35 Q86.9272 1140.89 90.5383 1140.89 Q94.1725 1140.89 95.9781 1137.35 Q97.8068 1133.79 97.8068 1126.68 Q97.8068 1119.55 95.9781 1116.01 Q94.1725 1112.45 90.5383 1112.45 M90.5383 1108.74 Q96.3484 1108.74 99.404 1113.35 Q102.483 1117.93 102.483 1126.68 Q102.483 1135.41 99.404 1140.01 Q96.3484 1144.6 90.5383 1144.6 Q84.7281 1144.6 81.6494 1140.01 Q78.5939 1135.41 78.5939 1126.68 Q78.5939 1117.93 81.6494 1113.35 Q84.7281 1108.74 90.5383 1108.74 Z\" fill=\"#000000\" fill-rule=\"evenodd\" fill-opacity=\"1\" /><path clip-path=\"url(#clip120)\" d=\"M 0 0 M107.552 1138.05 L112.436 1138.05 L112.436 1143.93 L107.552 1143.93 L107.552 1138.05 Z\" fill=\"#000000\" fill-rule=\"evenodd\" fill-opacity=\"1\" /><path clip-path=\"url(#clip120)\" d=\"M 0 0 M117.552 1109.37 L135.908 1109.37 L135.908 1113.3 L121.834 1113.3 L121.834 1121.77 Q122.853 1121.43 123.871 1121.27 Q124.89 1121.08 125.908 1121.08 Q131.695 1121.08 135.075 1124.25 Q138.455 1127.42 138.455 1132.84 Q138.455 1138.42 134.982 1141.52 Q131.51 1144.6 125.191 1144.6 Q123.015 1144.6 120.746 1144.23 Q118.501 1143.86 116.094 1143.12 L116.094 1138.42 Q118.177 1139.55 120.399 1140.11 Q122.621 1140.66 125.098 1140.66 Q129.103 1140.66 131.441 1138.56 Q133.779 1136.45 133.779 1132.84 Q133.779 1129.23 131.441 1127.12 Q129.103 1125.01 125.098 1125.01 Q123.223 1125.01 121.348 1125.43 Q119.496 1125.85 117.552 1126.73 L117.552 1109.37 Z\" fill=\"#000000\" fill-rule=\"evenodd\" fill-opacity=\"1\" /><path clip-path=\"url(#clip120)\" d=\"M 0 0 M89.5429 752.645 Q85.9318 752.645 84.1031 756.209 Q82.2976 759.751 82.2976 766.881 Q82.2976 773.987 84.1031 777.552 Q85.9318 781.094 89.5429 781.094 Q93.1771 781.094 94.9827 777.552 Q96.8114 773.987 96.8114 766.881 Q96.8114 759.751 94.9827 756.209 Q93.1771 752.645 89.5429 752.645 M89.5429 748.941 Q95.3531 748.941 98.4086 753.547 Q101.487 758.131 101.487 766.881 Q101.487 775.608 98.4086 780.214 Q95.3531 784.797 89.5429 784.797 Q83.7328 784.797 80.6541 780.214 Q77.5985 775.608 77.5985 766.881 Q77.5985 758.131 80.6541 753.547 Q83.7328 748.941 89.5429 748.941 Z\" fill=\"#000000\" fill-rule=\"evenodd\" fill-opacity=\"1\" /><path clip-path=\"url(#clip120)\" d=\"M 0 0 M106.557 778.246 L111.441 778.246 L111.441 784.126 L106.557 784.126 L106.557 778.246 Z\" fill=\"#000000\" fill-rule=\"evenodd\" fill-opacity=\"1\" /><path clip-path=\"url(#clip120)\" d=\"M 0 0 M126.51 752.645 Q122.899 752.645 121.071 756.209 Q119.265 759.751 119.265 766.881 Q119.265 773.987 121.071 777.552 Q122.899 781.094 126.51 781.094 Q130.145 781.094 131.95 777.552 Q133.779 773.987 133.779 766.881 Q133.779 759.751 131.95 756.209 Q130.145 752.645 126.51 752.645 M126.51 748.941 Q132.32 748.941 135.376 753.547 Q138.455 758.131 138.455 766.881 Q138.455 775.608 135.376 780.214 Q132.32 784.797 126.51 784.797 Q120.7 784.797 117.621 780.214 Q114.566 775.608 114.566 766.881 Q114.566 758.131 117.621 753.547 Q120.7 748.941 126.51 748.941 Z\" fill=\"#000000\" fill-rule=\"evenodd\" fill-opacity=\"1\" /><path clip-path=\"url(#clip120)\" d=\"M 0 0 M90.5383 392.844 Q86.9272 392.844 85.0985 396.409 Q83.2929 399.95 83.2929 407.08 Q83.2929 414.186 85.0985 417.751 Q86.9272 421.293 90.5383 421.293 Q94.1725 421.293 95.9781 417.751 Q97.8068 414.186 97.8068 407.08 Q97.8068 399.95 95.9781 396.409 Q94.1725 392.844 90.5383 392.844 M90.5383 389.14 Q96.3484 389.14 99.404 393.746 Q102.483 398.33 102.483 407.08 Q102.483 415.807 99.404 420.413 Q96.3484 424.996 90.5383 424.996 Q84.7281 424.996 81.6494 420.413 Q78.5939 415.807 78.5939 407.08 Q78.5939 398.33 81.6494 393.746 Q84.7281 389.14 90.5383 389.14 Z\" fill=\"#000000\" fill-rule=\"evenodd\" fill-opacity=\"1\" /><path clip-path=\"url(#clip120)\" d=\"M 0 0 M107.552 418.445 L112.436 418.445 L112.436 424.325 L107.552 424.325 L107.552 418.445 Z\" fill=\"#000000\" fill-rule=\"evenodd\" fill-opacity=\"1\" /><path clip-path=\"url(#clip120)\" d=\"M 0 0 M117.552 389.765 L135.908 389.765 L135.908 393.7 L121.834 393.7 L121.834 402.172 Q122.853 401.825 123.871 401.663 Q124.89 401.478 125.908 401.478 Q131.695 401.478 135.075 404.649 Q138.455 407.82 138.455 413.237 Q138.455 418.816 134.982 421.918 Q131.51 424.996 125.191 424.996 Q123.015 424.996 120.746 424.626 Q118.501 424.256 116.094 423.515 L116.094 418.816 Q118.177 419.95 120.399 420.506 Q122.621 421.061 125.098 421.061 Q129.103 421.061 131.441 418.955 Q133.779 416.848 133.779 413.237 Q133.779 409.626 131.441 407.52 Q129.103 405.413 125.098 405.413 Q123.223 405.413 121.348 405.83 Q119.496 406.246 117.552 407.126 L117.552 389.765 Z\" fill=\"#000000\" fill-rule=\"evenodd\" fill-opacity=\"1\" /><path clip-path=\"url(#clip120)\" d=\"M 0 0 M81.58 60.5889 L89.2188 60.5889 L89.2188 34.2233 L80.9087 35.89 L80.9087 31.6308 L89.1725 29.9641 L93.8484 29.9641 L93.8484 60.5889 L101.487 60.5889 L101.487 64.5241 L81.58 64.5241 L81.58 60.5889 Z\" fill=\"#000000\" fill-rule=\"evenodd\" fill-opacity=\"1\" /><path clip-path=\"url(#clip120)\" d=\"M 0 0 M106.557 58.6445 L111.441 58.6445 L111.441 64.5241 L106.557 64.5241 L106.557 58.6445 Z\" fill=\"#000000\" fill-rule=\"evenodd\" fill-opacity=\"1\" /><path clip-path=\"url(#clip120)\" d=\"M 0 0 M126.51 33.0428 Q122.899 33.0428 121.071 36.6076 Q119.265 40.1492 119.265 47.2788 Q119.265 54.3853 121.071 57.9501 Q122.899 61.4917 126.51 61.4917 Q130.145 61.4917 131.95 57.9501 Q133.779 54.3853 133.779 47.2788 Q133.779 40.1492 131.95 36.6076 Q130.145 33.0428 126.51 33.0428 M126.51 29.3391 Q132.32 29.3391 135.376 33.9456 Q138.455 38.5289 138.455 47.2788 Q138.455 56.0056 135.376 60.6121 Q132.32 65.1954 126.51 65.1954 Q120.7 65.1954 117.621 60.6121 Q114.566 56.0056 114.566 47.2788 Q114.566 38.5289 117.621 33.9456 Q120.7 29.3391 126.51 29.3391 Z\" fill=\"#000000\" fill-rule=\"evenodd\" fill-opacity=\"1\" /><path clip-path=\"url(#clip122)\" d=\"\n",
       "M-1.09499e+06 -719555 L-1.09499e+06 721088 L1.0975e+06 -719555 L-1.09499e+06 -719555 L-1.09499e+06 -719555  Z\n",
       "  \" fill=\"#009af9\" fill-rule=\"evenodd\" fill-opacity=\"0.5\"/>\n",
       "<polyline clip-path=\"url(#clip122)\" style=\"stroke:#000000; stroke-width:4; stroke-opacity:0.5; fill:none\" points=\"\n",
       "  -1.09499e+06,-719555 -1.09499e+06,721088 1.0975e+06,-719555 -1.09499e+06,-719555 \n",
       "  \"/>\n",
       "<path clip-path=\"url(#clip122)\" d=\"\n",
       "M-1.09499e+06 -719555 L-1.09499e+06 721088 L1.0975e+06 721088 L-1.09499e+06 -719555 L-1.09499e+06 -719555  Z\n",
       "  \" fill=\"#e26f46\" fill-rule=\"evenodd\" fill-opacity=\"0.5\"/>\n",
       "<polyline clip-path=\"url(#clip122)\" style=\"stroke:#000000; stroke-width:4; stroke-opacity:0.5; fill:none\" points=\"\n",
       "  -1.09499e+06,-719555 -1.09499e+06,721088 1.0975e+06,721088 -1.09499e+06,-719555 \n",
       "  \"/>\n",
       "<path clip-path=\"url(#clip120)\" d=\"\n",
       "M1875.48 312.204 L2280.76 312.204 L2280.76 130.764 L1875.48 130.764  Z\n",
       "  \" fill=\"#ffffff\" fill-rule=\"evenodd\" fill-opacity=\"1\"/>\n",
       "<polyline clip-path=\"url(#clip120)\" style=\"stroke:#000000; stroke-width:4; stroke-opacity:1; fill:none\" points=\"\n",
       "  1875.48,312.204 2280.76,312.204 2280.76,130.764 1875.48,130.764 1875.48,312.204 \n",
       "  \"/>\n",
       "<path clip-path=\"url(#clip120)\" d=\"\n",
       "M1899.48 215.436 L2043.48 215.436 L2043.48 167.052 L1899.48 167.052 L1899.48 215.436  Z\n",
       "  \" fill=\"#009af9\" fill-rule=\"evenodd\" fill-opacity=\"0.5\"/>\n",
       "<polyline clip-path=\"url(#clip120)\" style=\"stroke:#000000; stroke-width:4; stroke-opacity:1; fill:none\" points=\"\n",
       "  1899.48,215.436 2043.48,215.436 2043.48,167.052 1899.48,167.052 1899.48,215.436 \n",
       "  \"/>\n",
       "<path clip-path=\"url(#clip120)\" d=\"M 0 0 M2092.13 182.598 L2082.76 195.214 L2092.62 208.524 L2087.59 208.524 L2080.05 198.339 L2072.5 208.524 L2067.48 208.524 L2077.55 194.959 L2068.34 182.598 L2073.36 182.598 L2080.23 191.834 L2087.11 182.598 L2092.13 182.598 Z\" fill=\"#000000\" fill-rule=\"evenodd\" fill-opacity=\"1\" /><path clip-path=\"url(#clip120)\" d=\"M 0 0 M2142.39 185.191 L2118.5 193.686 L2142.39 202.135 L2142.39 206.348 L2112.71 195.584 L2112.71 191.742 L2142.39 180.978 L2142.39 185.191 Z\" fill=\"#000000\" fill-rule=\"evenodd\" fill-opacity=\"1\" /><path clip-path=\"url(#clip120)\" d=\"M 0 0 M2147.41 186.996 L2177.08 186.996 L2177.08 190.885 L2147.41 190.885 L2147.41 186.996 M2147.41 196.441 L2177.08 196.441 L2177.08 200.376 L2147.41 200.376 L2147.41 196.441 Z\" fill=\"#000000\" fill-rule=\"evenodd\" fill-opacity=\"1\" /><path clip-path=\"url(#clip120)\" d=\"M 0 0 M2207.41 210.931 Q2205.6 215.561 2203.89 216.973 Q2202.18 218.385 2199.31 218.385 L2195.9 218.385 L2195.9 214.82 L2198.4 214.82 Q2200.16 214.82 2201.14 213.987 Q2202.11 213.154 2203.29 210.052 L2204.05 208.107 L2193.57 182.598 L2198.08 182.598 L2206.18 202.876 L2214.28 182.598 L2218.8 182.598 L2207.41 210.931 Z\" fill=\"#000000\" fill-rule=\"evenodd\" fill-opacity=\"1\" /><path clip-path=\"url(#clip120)\" d=\"\n",
       "M1899.48 275.916 L2043.48 275.916 L2043.48 227.532 L1899.48 227.532 L1899.48 275.916  Z\n",
       "  \" fill=\"#e26f46\" fill-rule=\"evenodd\" fill-opacity=\"0.5\"/>\n",
       "<polyline clip-path=\"url(#clip120)\" style=\"stroke:#000000; stroke-width:4; stroke-opacity:1; fill:none\" points=\"\n",
       "  1899.48,275.916 2043.48,275.916 2043.48,227.532 1899.48,227.532 1899.48,275.916 \n",
       "  \"/>\n",
       "<path clip-path=\"url(#clip120)\" d=\"M 0 0 M2092.13 243.078 L2082.76 255.694 L2092.62 269.004 L2087.59 269.004 L2080.05 258.819 L2072.5 269.004 L2067.48 269.004 L2077.55 255.439 L2068.34 243.078 L2073.36 243.078 L2080.23 252.314 L2087.11 243.078 L2092.13 243.078 Z\" fill=\"#000000\" fill-rule=\"evenodd\" fill-opacity=\"1\" /><path clip-path=\"url(#clip120)\" d=\"M 0 0 M2142.39 245.671 L2118.5 254.166 L2142.39 262.615 L2142.39 266.828 L2112.71 256.064 L2112.71 252.222 L2142.39 241.458 L2142.39 245.671 Z\" fill=\"#000000\" fill-rule=\"evenodd\" fill-opacity=\"1\" /><path clip-path=\"url(#clip120)\" d=\"M 0 0 M2147.41 247.476 L2177.08 247.476 L2177.08 251.365 L2147.41 251.365 L2147.41 247.476 M2147.41 256.921 L2177.08 256.921 L2177.08 260.856 L2147.41 260.856 L2147.41 256.921 Z\" fill=\"#000000\" fill-rule=\"evenodd\" fill-opacity=\"1\" /><path clip-path=\"url(#clip120)\" d=\"M 0 0 M2194.47 254.12 L2206.95 254.12 L2206.95 257.916 L2194.47 257.916 L2194.47 254.12 Z\" fill=\"#000000\" fill-rule=\"evenodd\" fill-opacity=\"1\" /><path clip-path=\"url(#clip120)\" d=\"M 0 0 M2221.37 271.411 Q2219.56 276.041 2217.85 277.453 Q2216.14 278.865 2213.27 278.865 L2209.86 278.865 L2209.86 275.3 L2212.36 275.3 Q2214.12 275.3 2215.09 274.467 Q2216.07 273.634 2217.25 270.532 L2218.01 268.587 L2207.52 243.078 L2212.04 243.078 L2220.14 263.356 L2228.24 243.078 L2232.76 243.078 L2221.37 271.411 Z\" fill=\"#000000\" fill-rule=\"evenodd\" fill-opacity=\"1\" /></svg>\n"
      ]
     },
     "execution_count": 43,
     "metadata": {},
     "output_type": "execute_result"
    }
   ],
   "source": [
    "plot(S, lab=\"x <= y\")\n",
    "plot!(S′, lab=\"x <= -y\")"
   ]
  },
  {
   "cell_type": "markdown",
   "metadata": {},
   "source": [
    "Higher dimensional half-spaces can be constructed similarly. For example, the set\n",
    "    \n",
    "$$\n",
    "S := \\left\\{ u \\in \\mathbb{R}^{10} : \\sum_{i=1}^{10} u_i \\leq 1 \\right\\}\n",
    "$$\n",
    "can be defined in the following way, using Julia's `sum` function."
   ]
  },
  {
   "cell_type": "code",
   "execution_count": 83,
   "metadata": {},
   "outputs": [
    {
     "data": {
      "text/plain": [
       "HalfSpace{Float64,Array{Float64,1}}([1.0, 1.0, 1.0, 1.0, 1.0, 1.0, 1.0, 1.0, 1.0, 1.0], 1.0)"
      ]
     },
     "execution_count": 83,
     "metadata": {},
     "output_type": "execute_result"
    }
   ],
   "source": [
    "S = HalfSpace(sum(u) ≤ 1, u)"
   ]
  },
  {
   "cell_type": "markdown",
   "metadata": {},
   "source": [
    "For expressions that involve only a subset of variables, we can use array slicing. For instance, the set\n",
    "    \n",
    "$$\n",
    "T = \\left\\{ u \\in \\mathbb{R}^{10} : \\sum_{i=1}^{5} u_i - 2\\sum_{i=6}^{10} u_i \\leq 1 \\right\\}\n",
    "$$"
   ]
  },
  {
   "cell_type": "code",
   "execution_count": 86,
   "metadata": {},
   "outputs": [
    {
     "data": {
      "text/plain": [
       "HalfSpace{Float64,Array{Float64,1}}([1.0, 1.0, 1.0, 1.0, 1.0, -2.0, -2.0, -2.0, -2.0, -2.0], 1.0)"
      ]
     },
     "execution_count": 86,
     "metadata": {},
     "output_type": "execute_result"
    }
   ],
   "source": [
    "S = HalfSpace(sum(u[1:5]) - 2*sum(u[6:10]) ≤ 1, u)"
   ]
  },
  {
   "cell_type": "markdown",
   "metadata": {},
   "source": [
    "## Lines"
   ]
  },
  {
   "cell_type": "markdown",
   "metadata": {},
   "source": [
    "Lines can be defined using the `Line` set type. There are two ways of defining lines:\n",
    "\n",
    "(i) Passing a point and the direction vector.\n",
    "\n",
    "(ii) Passing two points of the line.\n",
    "\n",
    "Below we show examples of both cases."
   ]
  },
  {
   "cell_type": "markdown",
   "metadata": {},
   "source": [
    "(i) Constructing a line passing a point and the direction vector."
   ]
  },
  {
   "cell_type": "markdown",
   "metadata": {},
   "source": [
    "Consider the line that passes through the point $(0, 1)$ and has direction parallel to the line $x = y$."
   ]
  },
  {
   "cell_type": "code",
   "execution_count": 106,
   "metadata": {},
   "outputs": [
    {
     "data": {
      "text/plain": [
       "Line{Float64,Array{Float64,1}}([0.0, 1.0], [1.0, 1.0])"
      ]
     },
     "execution_count": 106,
     "metadata": {},
     "output_type": "execute_result"
    }
   ],
   "source": [
    "L1 = Line([0.0, 1.0], [1.0, 1.0])"
   ]
  },
  {
   "cell_type": "markdown",
   "metadata": {},
   "source": [
    "(ii) Constructing a line given two points of the line.\n",
    "\n",
    "The line `L1` passes through the points $(0, 1)$ and $(1, 2)$. We can use the keyword argument constructor to specify that the line should pass through both points."
   ]
  },
  {
   "cell_type": "code",
   "execution_count": 107,
   "metadata": {},
   "outputs": [
    {
     "data": {
      "text/plain": [
       "Line{Float64,Array{Float64,1}}([0.0, 1.0], [-0.5, -0.5])"
      ]
     },
     "execution_count": 107,
     "metadata": {},
     "output_type": "execute_result"
    }
   ],
   "source": [
    "L2 = Line(from=[0.0, 1.0], to=[1.0, 2.0])"
   ]
  },
  {
   "cell_type": "markdown",
   "metadata": {},
   "source": [
    "Now we plot both lines, and it is observed that the lines match."
   ]
  },
  {
   "cell_type": "code",
   "execution_count": 108,
   "metadata": {},
   "outputs": [
    {
     "data": {
      "image/svg+xml": [
       "<?xml version=\"1.0\" encoding=\"utf-8\"?>\n",
       "<svg xmlns=\"http://www.w3.org/2000/svg\" xmlns:xlink=\"http://www.w3.org/1999/xlink\" width=\"600\" height=\"400\" viewBox=\"0 0 2400 1600\">\n",
       "<defs>\n",
       "  <clipPath id=\"clip760\">\n",
       "    <rect x=\"0\" y=\"0\" width=\"2400\" height=\"1600\"/>\n",
       "  </clipPath>\n",
       "</defs>\n",
       "<path clip-path=\"url(#clip760)\" d=\"\n",
       "M0 1600 L2400 1600 L2400 0 L0 0  Z\n",
       "  \" fill=\"#ffffff\" fill-rule=\"evenodd\" fill-opacity=\"1\"/>\n",
       "<defs>\n",
       "  <clipPath id=\"clip761\">\n",
       "    <rect x=\"480\" y=\"0\" width=\"1681\" height=\"1600\"/>\n",
       "  </clipPath>\n",
       "</defs>\n",
       "<path clip-path=\"url(#clip760)\" d=\"\n",
       "M162.455 1486.45 L2352.76 1486.45 L2352.76 47.2441 L162.455 47.2441  Z\n",
       "  \" fill=\"#ffffff\" fill-rule=\"evenodd\" fill-opacity=\"1\"/>\n",
       "<defs>\n",
       "  <clipPath id=\"clip762\">\n",
       "    <rect x=\"162\" y=\"47\" width=\"2191\" height=\"1440\"/>\n",
       "  </clipPath>\n",
       "</defs>\n",
       "<polyline clip-path=\"url(#clip762)\" style=\"stroke:#000000; stroke-width:2; stroke-opacity:0.1; fill:none\" points=\"\n",
       "  162.455,1486.45 162.455,47.2441 \n",
       "  \"/>\n",
       "<polyline clip-path=\"url(#clip762)\" style=\"stroke:#000000; stroke-width:2; stroke-opacity:0.1; fill:none\" points=\"\n",
       "  710.03,1486.45 710.03,47.2441 \n",
       "  \"/>\n",
       "<polyline clip-path=\"url(#clip762)\" style=\"stroke:#000000; stroke-width:2; stroke-opacity:0.1; fill:none\" points=\"\n",
       "  1257.61,1486.45 1257.61,47.2441 \n",
       "  \"/>\n",
       "<polyline clip-path=\"url(#clip762)\" style=\"stroke:#000000; stroke-width:2; stroke-opacity:0.1; fill:none\" points=\"\n",
       "  1805.18,1486.45 1805.18,47.2441 \n",
       "  \"/>\n",
       "<polyline clip-path=\"url(#clip762)\" style=\"stroke:#000000; stroke-width:2; stroke-opacity:0.1; fill:none\" points=\"\n",
       "  2352.76,1486.45 2352.76,47.2441 \n",
       "  \"/>\n",
       "<polyline clip-path=\"url(#clip762)\" style=\"stroke:#000000; stroke-width:2; stroke-opacity:0.1; fill:none\" points=\"\n",
       "  162.455,1486.45 2352.76,1486.45 \n",
       "  \"/>\n",
       "<polyline clip-path=\"url(#clip762)\" style=\"stroke:#000000; stroke-width:2; stroke-opacity:0.1; fill:none\" points=\"\n",
       "  162.455,1126.65 2352.76,1126.65 \n",
       "  \"/>\n",
       "<polyline clip-path=\"url(#clip762)\" style=\"stroke:#000000; stroke-width:2; stroke-opacity:0.1; fill:none\" points=\"\n",
       "  162.455,766.846 2352.76,766.846 \n",
       "  \"/>\n",
       "<polyline clip-path=\"url(#clip762)\" style=\"stroke:#000000; stroke-width:2; stroke-opacity:0.1; fill:none\" points=\"\n",
       "  162.455,407.045 2352.76,407.045 \n",
       "  \"/>\n",
       "<polyline clip-path=\"url(#clip762)\" style=\"stroke:#000000; stroke-width:2; stroke-opacity:0.1; fill:none\" points=\"\n",
       "  162.455,47.2441 2352.76,47.2441 \n",
       "  \"/>\n",
       "<polyline clip-path=\"url(#clip760)\" style=\"stroke:#000000; stroke-width:4; stroke-opacity:1; fill:none\" points=\"\n",
       "  162.455,1486.45 2352.76,1486.45 \n",
       "  \"/>\n",
       "<polyline clip-path=\"url(#clip760)\" style=\"stroke:#000000; stroke-width:4; stroke-opacity:1; fill:none\" points=\"\n",
       "  162.455,1486.45 162.455,47.2441 \n",
       "  \"/>\n",
       "<polyline clip-path=\"url(#clip760)\" style=\"stroke:#000000; stroke-width:4; stroke-opacity:1; fill:none\" points=\"\n",
       "  162.455,1486.45 162.455,1469.18 \n",
       "  \"/>\n",
       "<polyline clip-path=\"url(#clip760)\" style=\"stroke:#000000; stroke-width:4; stroke-opacity:1; fill:none\" points=\"\n",
       "  710.03,1486.45 710.03,1469.18 \n",
       "  \"/>\n",
       "<polyline clip-path=\"url(#clip760)\" style=\"stroke:#000000; stroke-width:4; stroke-opacity:1; fill:none\" points=\"\n",
       "  1257.61,1486.45 1257.61,1469.18 \n",
       "  \"/>\n",
       "<polyline clip-path=\"url(#clip760)\" style=\"stroke:#000000; stroke-width:4; stroke-opacity:1; fill:none\" points=\"\n",
       "  1805.18,1486.45 1805.18,1469.18 \n",
       "  \"/>\n",
       "<polyline clip-path=\"url(#clip760)\" style=\"stroke:#000000; stroke-width:4; stroke-opacity:1; fill:none\" points=\"\n",
       "  2352.76,1486.45 2352.76,1469.18 \n",
       "  \"/>\n",
       "<polyline clip-path=\"url(#clip760)\" style=\"stroke:#000000; stroke-width:4; stroke-opacity:1; fill:none\" points=\"\n",
       "  162.455,1486.45 188.738,1486.45 \n",
       "  \"/>\n",
       "<polyline clip-path=\"url(#clip760)\" style=\"stroke:#000000; stroke-width:4; stroke-opacity:1; fill:none\" points=\"\n",
       "  162.455,1126.65 188.738,1126.65 \n",
       "  \"/>\n",
       "<polyline clip-path=\"url(#clip760)\" style=\"stroke:#000000; stroke-width:4; stroke-opacity:1; fill:none\" points=\"\n",
       "  162.455,766.846 188.738,766.846 \n",
       "  \"/>\n",
       "<polyline clip-path=\"url(#clip760)\" style=\"stroke:#000000; stroke-width:4; stroke-opacity:1; fill:none\" points=\"\n",
       "  162.455,407.045 188.738,407.045 \n",
       "  \"/>\n",
       "<polyline clip-path=\"url(#clip760)\" style=\"stroke:#000000; stroke-width:4; stroke-opacity:1; fill:none\" points=\"\n",
       "  162.455,47.2441 188.738,47.2441 \n",
       "  \"/>\n",
       "<path clip-path=\"url(#clip760)\" d=\"M 0 0 M124.839 1525.04 L137.316 1525.04 L137.316 1528.83 L124.839 1528.83 L124.839 1525.04 Z\" fill=\"#000000\" fill-rule=\"evenodd\" fill-opacity=\"1\" /><path clip-path=\"url(#clip760)\" d=\"M 0 0 M143.196 1535.98 L150.834 1535.98 L150.834 1509.62 L142.524 1511.29 L142.524 1507.03 L150.788 1505.36 L155.464 1505.36 L155.464 1535.98 L163.103 1535.98 L163.103 1539.92 L143.196 1539.92 L143.196 1535.98 Z\" fill=\"#000000\" fill-rule=\"evenodd\" fill-opacity=\"1\" /><path clip-path=\"url(#clip760)\" d=\"M 0 0 M168.172 1534.04 L173.056 1534.04 L173.056 1539.92 L168.172 1539.92 L168.172 1534.04 Z\" fill=\"#000000\" fill-rule=\"evenodd\" fill-opacity=\"1\" /><path clip-path=\"url(#clip760)\" d=\"M 0 0 M188.126 1508.44 Q184.515 1508.44 182.686 1512 Q180.881 1515.55 180.881 1522.67 Q180.881 1529.78 182.686 1533.35 Q184.515 1536.89 188.126 1536.89 Q191.76 1536.89 193.566 1533.35 Q195.394 1529.78 195.394 1522.67 Q195.394 1515.55 193.566 1512 Q191.76 1508.44 188.126 1508.44 M188.126 1504.73 Q193.936 1504.73 196.992 1509.34 Q200.07 1513.92 200.07 1522.67 Q200.07 1531.4 196.992 1536.01 Q193.936 1540.59 188.126 1540.59 Q182.316 1540.59 179.237 1536.01 Q176.181 1531.4 176.181 1522.67 Q176.181 1513.92 179.237 1509.34 Q182.316 1504.73 188.126 1504.73 Z\" fill=\"#000000\" fill-rule=\"evenodd\" fill-opacity=\"1\" /><path clip-path=\"url(#clip760)\" d=\"M 0 0 M672.299 1525.04 L684.775 1525.04 L684.775 1528.83 L672.299 1528.83 L672.299 1525.04 Z\" fill=\"#000000\" fill-rule=\"evenodd\" fill-opacity=\"1\" /><path clip-path=\"url(#clip760)\" d=\"M 0 0 M699.845 1508.44 Q696.234 1508.44 694.405 1512 Q692.6 1515.55 692.6 1522.67 Q692.6 1529.78 694.405 1533.35 Q696.234 1536.89 699.845 1536.89 Q703.479 1536.89 705.285 1533.35 Q707.113 1529.78 707.113 1522.67 Q707.113 1515.55 705.285 1512 Q703.479 1508.44 699.845 1508.44 M699.845 1504.73 Q705.655 1504.73 708.711 1509.34 Q711.789 1513.92 711.789 1522.67 Q711.789 1531.4 708.711 1536.01 Q705.655 1540.59 699.845 1540.59 Q694.035 1540.59 690.956 1536.01 Q687.9 1531.4 687.9 1522.67 Q687.9 1513.92 690.956 1509.34 Q694.035 1504.73 699.845 1504.73 Z\" fill=\"#000000\" fill-rule=\"evenodd\" fill-opacity=\"1\" /><path clip-path=\"url(#clip760)\" d=\"M 0 0 M716.859 1534.04 L721.743 1534.04 L721.743 1539.92 L716.859 1539.92 L716.859 1534.04 Z\" fill=\"#000000\" fill-rule=\"evenodd\" fill-opacity=\"1\" /><path clip-path=\"url(#clip760)\" d=\"M 0 0 M726.859 1505.36 L745.215 1505.36 L745.215 1509.3 L731.141 1509.3 L731.141 1517.77 Q732.16 1517.42 733.178 1517.26 Q734.197 1517.07 735.215 1517.07 Q741.002 1517.07 744.382 1520.24 Q747.761 1523.42 747.761 1528.83 Q747.761 1534.41 744.289 1537.51 Q740.817 1540.59 734.497 1540.59 Q732.322 1540.59 730.053 1540.22 Q727.808 1539.85 725.4 1539.11 L725.4 1534.41 Q727.484 1535.54 729.706 1536.1 Q731.928 1536.66 734.405 1536.66 Q738.409 1536.66 740.747 1534.55 Q743.085 1532.44 743.085 1528.83 Q743.085 1525.22 740.747 1523.11 Q738.409 1521.01 734.405 1521.01 Q732.53 1521.01 730.655 1521.42 Q728.803 1521.84 726.859 1522.72 L726.859 1505.36 Z\" fill=\"#000000\" fill-rule=\"evenodd\" fill-opacity=\"1\" /><path clip-path=\"url(#clip760)\" d=\"M 0 0 M1239.12 1508.44 Q1235.51 1508.44 1233.68 1512 Q1231.88 1515.55 1231.88 1522.67 Q1231.88 1529.78 1233.68 1533.35 Q1235.51 1536.89 1239.12 1536.89 Q1242.76 1536.89 1244.56 1533.35 Q1246.39 1529.78 1246.39 1522.67 Q1246.39 1515.55 1244.56 1512 Q1242.76 1508.44 1239.12 1508.44 M1239.12 1504.73 Q1244.93 1504.73 1247.99 1509.34 Q1251.07 1513.92 1251.07 1522.67 Q1251.07 1531.4 1247.99 1536.01 Q1244.93 1540.59 1239.12 1540.59 Q1233.31 1540.59 1230.23 1536.01 Q1227.18 1531.4 1227.18 1522.67 Q1227.18 1513.92 1230.23 1509.34 Q1233.31 1504.73 1239.12 1504.73 Z\" fill=\"#000000\" fill-rule=\"evenodd\" fill-opacity=\"1\" /><path clip-path=\"url(#clip760)\" d=\"M 0 0 M1256.14 1534.04 L1261.02 1534.04 L1261.02 1539.92 L1256.14 1539.92 L1256.14 1534.04 Z\" fill=\"#000000\" fill-rule=\"evenodd\" fill-opacity=\"1\" /><path clip-path=\"url(#clip760)\" d=\"M 0 0 M1276.09 1508.44 Q1272.48 1508.44 1270.65 1512 Q1268.84 1515.55 1268.84 1522.67 Q1268.84 1529.78 1270.65 1533.35 Q1272.48 1536.89 1276.09 1536.89 Q1279.72 1536.89 1281.53 1533.35 Q1283.36 1529.78 1283.36 1522.67 Q1283.36 1515.55 1281.53 1512 Q1279.72 1508.44 1276.09 1508.44 M1276.09 1504.73 Q1281.9 1504.73 1284.95 1509.34 Q1288.03 1513.92 1288.03 1522.67 Q1288.03 1531.4 1284.95 1536.01 Q1281.9 1540.59 1276.09 1540.59 Q1270.28 1540.59 1267.2 1536.01 Q1264.14 1531.4 1264.14 1522.67 Q1264.14 1513.92 1267.2 1509.34 Q1270.28 1504.73 1276.09 1504.73 Z\" fill=\"#000000\" fill-rule=\"evenodd\" fill-opacity=\"1\" /><path clip-path=\"url(#clip760)\" d=\"M 0 0 M1787.19 1508.44 Q1783.58 1508.44 1781.75 1512 Q1779.95 1515.55 1779.95 1522.67 Q1779.95 1529.78 1781.75 1533.35 Q1783.58 1536.89 1787.19 1536.89 Q1790.83 1536.89 1792.63 1533.35 Q1794.46 1529.78 1794.46 1522.67 Q1794.46 1515.55 1792.63 1512 Q1790.83 1508.44 1787.19 1508.44 M1787.19 1504.73 Q1793 1504.73 1796.06 1509.34 Q1799.14 1513.92 1799.14 1522.67 Q1799.14 1531.4 1796.06 1536.01 Q1793 1540.59 1787.19 1540.59 Q1781.38 1540.59 1778.31 1536.01 Q1775.25 1531.4 1775.25 1522.67 Q1775.25 1513.92 1778.31 1509.34 Q1781.38 1504.73 1787.19 1504.73 Z\" fill=\"#000000\" fill-rule=\"evenodd\" fill-opacity=\"1\" /><path clip-path=\"url(#clip760)\" d=\"M 0 0 M1804.21 1534.04 L1809.09 1534.04 L1809.09 1539.92 L1804.21 1539.92 L1804.21 1534.04 Z\" fill=\"#000000\" fill-rule=\"evenodd\" fill-opacity=\"1\" /><path clip-path=\"url(#clip760)\" d=\"M 0 0 M1814.21 1505.36 L1832.56 1505.36 L1832.56 1509.3 L1818.49 1509.3 L1818.49 1517.77 Q1819.51 1517.42 1820.53 1517.26 Q1821.55 1517.07 1822.56 1517.07 Q1828.35 1517.07 1831.73 1520.24 Q1835.11 1523.42 1835.11 1528.83 Q1835.11 1534.41 1831.64 1537.51 Q1828.17 1540.59 1821.85 1540.59 Q1819.67 1540.59 1817.4 1540.22 Q1815.16 1539.85 1812.75 1539.11 L1812.75 1534.41 Q1814.83 1535.54 1817.06 1536.1 Q1819.28 1536.66 1821.75 1536.66 Q1825.76 1536.66 1828.1 1534.55 Q1830.44 1532.44 1830.44 1528.83 Q1830.44 1525.22 1828.1 1523.11 Q1825.76 1521.01 1821.75 1521.01 Q1819.88 1521.01 1818 1521.42 Q1816.15 1521.84 1814.21 1522.72 L1814.21 1505.36 Z\" fill=\"#000000\" fill-rule=\"evenodd\" fill-opacity=\"1\" /><path clip-path=\"url(#clip760)\" d=\"M 0 0 M2324.65 1535.98 L2332.29 1535.98 L2332.29 1509.62 L2323.98 1511.29 L2323.98 1507.03 L2332.25 1505.36 L2336.92 1505.36 L2336.92 1535.98 L2344.56 1535.98 L2344.56 1539.92 L2324.65 1539.92 L2324.65 1535.98 Z\" fill=\"#000000\" fill-rule=\"evenodd\" fill-opacity=\"1\" /><path clip-path=\"url(#clip760)\" d=\"M 0 0 M2349.63 1534.04 L2354.52 1534.04 L2354.52 1539.92 L2349.63 1539.92 L2349.63 1534.04 Z\" fill=\"#000000\" fill-rule=\"evenodd\" fill-opacity=\"1\" /><path clip-path=\"url(#clip760)\" d=\"M 0 0 M2369.58 1508.44 Q2365.97 1508.44 2364.14 1512 Q2362.34 1515.55 2362.34 1522.67 Q2362.34 1529.78 2364.14 1533.35 Q2365.97 1536.89 2369.58 1536.89 Q2373.22 1536.89 2375.02 1533.35 Q2376.85 1529.78 2376.85 1522.67 Q2376.85 1515.55 2375.02 1512 Q2373.22 1508.44 2369.58 1508.44 M2369.58 1504.73 Q2375.39 1504.73 2378.45 1509.34 Q2381.53 1513.92 2381.53 1522.67 Q2381.53 1531.4 2378.45 1536.01 Q2375.39 1540.59 2369.58 1540.59 Q2363.77 1540.59 2360.7 1536.01 Q2357.64 1531.4 2357.64 1522.67 Q2357.64 1513.92 2360.7 1509.34 Q2363.77 1504.73 2369.58 1504.73 Z\" fill=\"#000000\" fill-rule=\"evenodd\" fill-opacity=\"1\" /><path clip-path=\"url(#clip760)\" d=\"M 0 0 M63.2236 1488.84 L75.7004 1488.84 L75.7004 1492.64 L63.2236 1492.64 L63.2236 1488.84 Z\" fill=\"#000000\" fill-rule=\"evenodd\" fill-opacity=\"1\" /><path clip-path=\"url(#clip760)\" d=\"M 0 0 M81.58 1499.79 L89.2188 1499.79 L89.2188 1473.43 L80.9087 1475.09 L80.9087 1470.83 L89.1725 1469.17 L93.8484 1469.17 L93.8484 1499.79 L101.487 1499.79 L101.487 1503.73 L81.58 1503.73 L81.58 1499.79 Z\" fill=\"#000000\" fill-rule=\"evenodd\" fill-opacity=\"1\" /><path clip-path=\"url(#clip760)\" d=\"M 0 0 M106.557 1497.85 L111.441 1497.85 L111.441 1503.73 L106.557 1503.73 L106.557 1497.85 Z\" fill=\"#000000\" fill-rule=\"evenodd\" fill-opacity=\"1\" /><path clip-path=\"url(#clip760)\" d=\"M 0 0 M126.51 1472.25 Q122.899 1472.25 121.071 1475.81 Q119.265 1479.35 119.265 1486.48 Q119.265 1493.59 121.071 1497.15 Q122.899 1500.7 126.51 1500.7 Q130.145 1500.7 131.95 1497.15 Q133.779 1493.59 133.779 1486.48 Q133.779 1479.35 131.95 1475.81 Q130.145 1472.25 126.51 1472.25 M126.51 1468.54 Q132.32 1468.54 135.376 1473.15 Q138.455 1477.73 138.455 1486.48 Q138.455 1495.21 135.376 1499.82 Q132.32 1504.4 126.51 1504.4 Q120.7 1504.4 117.621 1499.82 Q114.566 1495.21 114.566 1486.48 Q114.566 1477.73 117.621 1473.15 Q120.7 1468.54 126.51 1468.54 Z\" fill=\"#000000\" fill-rule=\"evenodd\" fill-opacity=\"1\" /><path clip-path=\"url(#clip760)\" d=\"M 0 0 M62.9921 1129.04 L75.4689 1129.04 L75.4689 1132.84 L62.9921 1132.84 L62.9921 1129.04 Z\" fill=\"#000000\" fill-rule=\"evenodd\" fill-opacity=\"1\" /><path clip-path=\"url(#clip760)\" d=\"M 0 0 M90.5383 1112.45 Q86.9272 1112.45 85.0985 1116.01 Q83.2929 1119.55 83.2929 1126.68 Q83.2929 1133.79 85.0985 1137.35 Q86.9272 1140.89 90.5383 1140.89 Q94.1725 1140.89 95.9781 1137.35 Q97.8068 1133.79 97.8068 1126.68 Q97.8068 1119.55 95.9781 1116.01 Q94.1725 1112.45 90.5383 1112.45 M90.5383 1108.74 Q96.3484 1108.74 99.404 1113.35 Q102.483 1117.93 102.483 1126.68 Q102.483 1135.41 99.404 1140.01 Q96.3484 1144.6 90.5383 1144.6 Q84.7281 1144.6 81.6494 1140.01 Q78.5939 1135.41 78.5939 1126.68 Q78.5939 1117.93 81.6494 1113.35 Q84.7281 1108.74 90.5383 1108.74 Z\" fill=\"#000000\" fill-rule=\"evenodd\" fill-opacity=\"1\" /><path clip-path=\"url(#clip760)\" d=\"M 0 0 M107.552 1138.05 L112.436 1138.05 L112.436 1143.93 L107.552 1143.93 L107.552 1138.05 Z\" fill=\"#000000\" fill-rule=\"evenodd\" fill-opacity=\"1\" /><path clip-path=\"url(#clip760)\" d=\"M 0 0 M117.552 1109.37 L135.908 1109.37 L135.908 1113.3 L121.834 1113.3 L121.834 1121.77 Q122.853 1121.43 123.871 1121.27 Q124.89 1121.08 125.908 1121.08 Q131.695 1121.08 135.075 1124.25 Q138.455 1127.42 138.455 1132.84 Q138.455 1138.42 134.982 1141.52 Q131.51 1144.6 125.191 1144.6 Q123.015 1144.6 120.746 1144.23 Q118.501 1143.86 116.094 1143.12 L116.094 1138.42 Q118.177 1139.55 120.399 1140.11 Q122.621 1140.66 125.098 1140.66 Q129.103 1140.66 131.441 1138.56 Q133.779 1136.45 133.779 1132.84 Q133.779 1129.23 131.441 1127.12 Q129.103 1125.01 125.098 1125.01 Q123.223 1125.01 121.348 1125.43 Q119.496 1125.85 117.552 1126.73 L117.552 1109.37 Z\" fill=\"#000000\" fill-rule=\"evenodd\" fill-opacity=\"1\" /><path clip-path=\"url(#clip760)\" d=\"M 0 0 M89.5429 752.645 Q85.9318 752.645 84.1031 756.209 Q82.2976 759.751 82.2976 766.881 Q82.2976 773.987 84.1031 777.552 Q85.9318 781.094 89.5429 781.094 Q93.1771 781.094 94.9827 777.552 Q96.8114 773.987 96.8114 766.881 Q96.8114 759.751 94.9827 756.209 Q93.1771 752.645 89.5429 752.645 M89.5429 748.941 Q95.3531 748.941 98.4086 753.547 Q101.487 758.131 101.487 766.881 Q101.487 775.608 98.4086 780.214 Q95.3531 784.797 89.5429 784.797 Q83.7328 784.797 80.6541 780.214 Q77.5985 775.608 77.5985 766.881 Q77.5985 758.131 80.6541 753.547 Q83.7328 748.941 89.5429 748.941 Z\" fill=\"#000000\" fill-rule=\"evenodd\" fill-opacity=\"1\" /><path clip-path=\"url(#clip760)\" d=\"M 0 0 M106.557 778.246 L111.441 778.246 L111.441 784.126 L106.557 784.126 L106.557 778.246 Z\" fill=\"#000000\" fill-rule=\"evenodd\" fill-opacity=\"1\" /><path clip-path=\"url(#clip760)\" d=\"M 0 0 M126.51 752.645 Q122.899 752.645 121.071 756.209 Q119.265 759.751 119.265 766.881 Q119.265 773.987 121.071 777.552 Q122.899 781.094 126.51 781.094 Q130.145 781.094 131.95 777.552 Q133.779 773.987 133.779 766.881 Q133.779 759.751 131.95 756.209 Q130.145 752.645 126.51 752.645 M126.51 748.941 Q132.32 748.941 135.376 753.547 Q138.455 758.131 138.455 766.881 Q138.455 775.608 135.376 780.214 Q132.32 784.797 126.51 784.797 Q120.7 784.797 117.621 780.214 Q114.566 775.608 114.566 766.881 Q114.566 758.131 117.621 753.547 Q120.7 748.941 126.51 748.941 Z\" fill=\"#000000\" fill-rule=\"evenodd\" fill-opacity=\"1\" /><path clip-path=\"url(#clip760)\" d=\"M 0 0 M90.5383 392.844 Q86.9272 392.844 85.0985 396.409 Q83.2929 399.95 83.2929 407.08 Q83.2929 414.186 85.0985 417.751 Q86.9272 421.293 90.5383 421.293 Q94.1725 421.293 95.9781 417.751 Q97.8068 414.186 97.8068 407.08 Q97.8068 399.95 95.9781 396.409 Q94.1725 392.844 90.5383 392.844 M90.5383 389.14 Q96.3484 389.14 99.404 393.746 Q102.483 398.33 102.483 407.08 Q102.483 415.807 99.404 420.413 Q96.3484 424.996 90.5383 424.996 Q84.7281 424.996 81.6494 420.413 Q78.5939 415.807 78.5939 407.08 Q78.5939 398.33 81.6494 393.746 Q84.7281 389.14 90.5383 389.14 Z\" fill=\"#000000\" fill-rule=\"evenodd\" fill-opacity=\"1\" /><path clip-path=\"url(#clip760)\" d=\"M 0 0 M107.552 418.445 L112.436 418.445 L112.436 424.325 L107.552 424.325 L107.552 418.445 Z\" fill=\"#000000\" fill-rule=\"evenodd\" fill-opacity=\"1\" /><path clip-path=\"url(#clip760)\" d=\"M 0 0 M117.552 389.765 L135.908 389.765 L135.908 393.7 L121.834 393.7 L121.834 402.172 Q122.853 401.825 123.871 401.663 Q124.89 401.478 125.908 401.478 Q131.695 401.478 135.075 404.649 Q138.455 407.82 138.455 413.237 Q138.455 418.816 134.982 421.918 Q131.51 424.996 125.191 424.996 Q123.015 424.996 120.746 424.626 Q118.501 424.256 116.094 423.515 L116.094 418.816 Q118.177 419.95 120.399 420.506 Q122.621 421.061 125.098 421.061 Q129.103 421.061 131.441 418.955 Q133.779 416.848 133.779 413.237 Q133.779 409.626 131.441 407.52 Q129.103 405.413 125.098 405.413 Q123.223 405.413 121.348 405.83 Q119.496 406.246 117.552 407.126 L117.552 389.765 Z\" fill=\"#000000\" fill-rule=\"evenodd\" fill-opacity=\"1\" /><path clip-path=\"url(#clip760)\" d=\"M 0 0 M81.58 60.5889 L89.2188 60.5889 L89.2188 34.2233 L80.9087 35.89 L80.9087 31.6308 L89.1725 29.9641 L93.8484 29.9641 L93.8484 60.5889 L101.487 60.5889 L101.487 64.5241 L81.58 64.5241 L81.58 60.5889 Z\" fill=\"#000000\" fill-rule=\"evenodd\" fill-opacity=\"1\" /><path clip-path=\"url(#clip760)\" d=\"M 0 0 M106.557 58.6445 L111.441 58.6445 L111.441 64.5241 L106.557 64.5241 L106.557 58.6445 Z\" fill=\"#000000\" fill-rule=\"evenodd\" fill-opacity=\"1\" /><path clip-path=\"url(#clip760)\" d=\"M 0 0 M126.51 33.0428 Q122.899 33.0428 121.071 36.6076 Q119.265 40.1492 119.265 47.2788 Q119.265 54.3853 121.071 57.9501 Q122.899 61.4917 126.51 61.4917 Q130.145 61.4917 131.95 57.9501 Q133.779 54.3853 133.779 47.2788 Q133.779 40.1492 131.95 36.6076 Q130.145 33.0428 126.51 33.0428 M126.51 29.3391 Q132.32 29.3391 135.376 33.9456 Q138.455 38.5289 138.455 47.2788 Q138.455 56.0056 135.376 60.6121 Q132.32 65.1954 126.51 65.1954 Q120.7 65.1954 117.621 60.6121 Q114.566 56.0056 114.566 47.2788 Q114.566 38.5289 117.621 33.9456 Q120.7 29.3391 126.51 29.3391 Z\" fill=\"#000000\" fill-rule=\"evenodd\" fill-opacity=\"1\" /><polyline clip-path=\"url(#clip762)\" style=\"stroke:#009af9; stroke-width:4; stroke-opacity:0.5; fill:none\" points=\"\n",
       "  -1.09499e+06,720369 1.09641e+06,-719555 \n",
       "  \"/>\n",
       "<polyline clip-path=\"url(#clip762)\" style=\"stroke:#e26f46; stroke-width:4; stroke-opacity:0.5; fill:none\" points=\"\n",
       "  -1.09499e+06,720369 1.09641e+06,-719555 \n",
       "  \"/>\n",
       "<path clip-path=\"url(#clip760)\" d=\"\n",
       "M1993.46 312.204 L2280.76 312.204 L2280.76 130.764 L1993.46 130.764  Z\n",
       "  \" fill=\"#ffffff\" fill-rule=\"evenodd\" fill-opacity=\"1\"/>\n",
       "<polyline clip-path=\"url(#clip760)\" style=\"stroke:#000000; stroke-width:4; stroke-opacity:1; fill:none\" points=\"\n",
       "  1993.46,312.204 2280.76,312.204 2280.76,130.764 1993.46,130.764 1993.46,312.204 \n",
       "  \"/>\n",
       "<polyline clip-path=\"url(#clip760)\" style=\"stroke:#009af9; stroke-width:4; stroke-opacity:0.5; fill:none\" points=\"\n",
       "  2017.46,191.244 2161.46,191.244 \n",
       "  \"/>\n",
       "<circle clip-path=\"url(#clip760)\" cx=\"2101.46\" cy=\"191.244\" r=\"23\" fill=\"#009af9\" fill-rule=\"evenodd\" fill-opacity=\"0.5\" stroke=\"#000000\" stroke-opacity=\"0.5\" stroke-width=\"5.12\"/>\n",
       "<path clip-path=\"url(#clip760)\" d=\"M 0 0 M2185.46 173.964 L2190.14 173.964 L2190.14 204.589 L2206.97 204.589 L2206.97 208.524 L2185.46 208.524 L2185.46 173.964 Z\" fill=\"#000000\" fill-rule=\"evenodd\" fill-opacity=\"1\" /><path clip-path=\"url(#clip760)\" d=\"M 0 0 M2212.85 204.589 L2220.49 204.589 L2220.49 178.223 L2212.18 179.89 L2212.18 175.631 L2220.44 173.964 L2225.12 173.964 L2225.12 204.589 L2232.76 204.589 L2232.76 208.524 L2212.85 208.524 L2212.85 204.589 Z\" fill=\"#000000\" fill-rule=\"evenodd\" fill-opacity=\"1\" /><polyline clip-path=\"url(#clip760)\" style=\"stroke:#e26f46; stroke-width:4; stroke-opacity:0.5; fill:none\" points=\"\n",
       "  2017.46,251.724 2161.46,251.724 \n",
       "  \"/>\n",
       "<circle clip-path=\"url(#clip760)\" cx=\"2101.46\" cy=\"251.724\" r=\"23\" fill=\"#e26f46\" fill-rule=\"evenodd\" fill-opacity=\"0.5\" stroke=\"#000000\" stroke-opacity=\"0.5\" stroke-width=\"5.12\"/>\n",
       "<path clip-path=\"url(#clip760)\" d=\"M 0 0 M2185.46 234.444 L2190.14 234.444 L2190.14 265.069 L2206.97 265.069 L2206.97 269.004 L2185.46 269.004 L2185.46 234.444 Z\" fill=\"#000000\" fill-rule=\"evenodd\" fill-opacity=\"1\" /><path clip-path=\"url(#clip760)\" d=\"M 0 0 M2216.07 265.069 L2232.39 265.069 L2232.39 269.004 L2210.44 269.004 L2210.44 265.069 Q2213.1 262.314 2217.69 257.685 Q2222.29 253.032 2223.47 251.689 Q2225.72 249.166 2226.6 247.43 Q2227.5 245.671 2227.5 243.981 Q2227.5 241.226 2225.56 239.49 Q2223.64 237.754 2220.53 237.754 Q2218.33 237.754 2215.88 238.518 Q2213.45 239.282 2210.67 240.833 L2210.67 236.111 Q2213.5 234.976 2215.95 234.398 Q2218.4 233.819 2220.44 233.819 Q2225.81 233.819 2229.01 236.504 Q2232.2 239.189 2232.2 243.68 Q2232.2 245.81 2231.39 247.731 Q2230.6 249.629 2228.5 252.222 Q2227.92 252.893 2224.82 256.111 Q2221.71 259.305 2216.07 265.069 Z\" fill=\"#000000\" fill-rule=\"evenodd\" fill-opacity=\"1\" /></svg>\n"
      ]
     },
     "execution_count": 108,
     "metadata": {},
     "output_type": "execute_result"
    }
   ],
   "source": [
    "plot(L1, lab=\"L1\")\n",
    "plot!(L2, lab=\"L2\")"
   ]
  },
  {
   "cell_type": "markdown",
   "metadata": {},
   "source": [
    "We can check that the lines are equivalent using the `isequivalent` function:"
   ]
  },
  {
   "cell_type": "code",
   "execution_count": 109,
   "metadata": {},
   "outputs": [
    {
     "data": {
      "text/plain": [
       "true"
      ]
     },
     "execution_count": 109,
     "metadata": {},
     "output_type": "execute_result"
    }
   ],
   "source": [
    "isequivalent(L1, L2)"
   ]
  },
  {
   "cell_type": "markdown",
   "metadata": {},
   "source": [
    "---"
   ]
  },
  {
   "cell_type": "markdown",
   "metadata": {},
   "source": [
    "## Line segments"
   ]
  },
  {
   "cell_type": "markdown",
   "metadata": {},
   "source": [
    "Line segments can be constructed passing each extreme point. "
   ]
  },
  {
   "cell_type": "code",
   "execution_count": 110,
   "metadata": {},
   "outputs": [
    {
     "data": {
      "image/svg+xml": [
       "<?xml version=\"1.0\" encoding=\"utf-8\"?>\n",
       "<svg xmlns=\"http://www.w3.org/2000/svg\" xmlns:xlink=\"http://www.w3.org/1999/xlink\" width=\"600\" height=\"400\" viewBox=\"0 0 2400 1600\">\n",
       "<defs>\n",
       "  <clipPath id=\"clip800\">\n",
       "    <rect x=\"0\" y=\"0\" width=\"2400\" height=\"1600\"/>\n",
       "  </clipPath>\n",
       "</defs>\n",
       "<path clip-path=\"url(#clip800)\" d=\"\n",
       "M0 1600 L2400 1600 L2400 0 L0 0  Z\n",
       "  \" fill=\"#ffffff\" fill-rule=\"evenodd\" fill-opacity=\"1\"/>\n",
       "<defs>\n",
       "  <clipPath id=\"clip801\">\n",
       "    <rect x=\"480\" y=\"0\" width=\"1681\" height=\"1600\"/>\n",
       "  </clipPath>\n",
       "</defs>\n",
       "<path clip-path=\"url(#clip800)\" d=\"\n",
       "M174.862 1486.45 L2352.76 1486.45 L2352.76 47.2441 L174.862 47.2441  Z\n",
       "  \" fill=\"#ffffff\" fill-rule=\"evenodd\" fill-opacity=\"1\"/>\n",
       "<defs>\n",
       "  <clipPath id=\"clip802\">\n",
       "    <rect x=\"174\" y=\"47\" width=\"2179\" height=\"1440\"/>\n",
       "  </clipPath>\n",
       "</defs>\n",
       "<polyline clip-path=\"url(#clip802)\" style=\"stroke:#000000; stroke-width:2; stroke-opacity:0.1; fill:none\" points=\"\n",
       "  236.501,1486.45 236.501,47.2441 \n",
       "  \"/>\n",
       "<polyline clip-path=\"url(#clip802)\" style=\"stroke:#000000; stroke-width:2; stroke-opacity:0.1; fill:none\" points=\"\n",
       "  750.155,1486.45 750.155,47.2441 \n",
       "  \"/>\n",
       "<polyline clip-path=\"url(#clip802)\" style=\"stroke:#000000; stroke-width:2; stroke-opacity:0.1; fill:none\" points=\"\n",
       "  1263.81,1486.45 1263.81,47.2441 \n",
       "  \"/>\n",
       "<polyline clip-path=\"url(#clip802)\" style=\"stroke:#000000; stroke-width:2; stroke-opacity:0.1; fill:none\" points=\"\n",
       "  1777.46,1486.45 1777.46,47.2441 \n",
       "  \"/>\n",
       "<polyline clip-path=\"url(#clip802)\" style=\"stroke:#000000; stroke-width:2; stroke-opacity:0.1; fill:none\" points=\"\n",
       "  2291.12,1486.45 2291.12,47.2441 \n",
       "  \"/>\n",
       "<polyline clip-path=\"url(#clip802)\" style=\"stroke:#000000; stroke-width:2; stroke-opacity:0.1; fill:none\" points=\"\n",
       "  174.862,1445.72 2352.76,1445.72 \n",
       "  \"/>\n",
       "<polyline clip-path=\"url(#clip802)\" style=\"stroke:#000000; stroke-width:2; stroke-opacity:0.1; fill:none\" points=\"\n",
       "  174.862,1106.28 2352.76,1106.28 \n",
       "  \"/>\n",
       "<polyline clip-path=\"url(#clip802)\" style=\"stroke:#000000; stroke-width:2; stroke-opacity:0.1; fill:none\" points=\"\n",
       "  174.862,766.846 2352.76,766.846 \n",
       "  \"/>\n",
       "<polyline clip-path=\"url(#clip802)\" style=\"stroke:#000000; stroke-width:2; stroke-opacity:0.1; fill:none\" points=\"\n",
       "  174.862,427.411 2352.76,427.411 \n",
       "  \"/>\n",
       "<polyline clip-path=\"url(#clip802)\" style=\"stroke:#000000; stroke-width:2; stroke-opacity:0.1; fill:none\" points=\"\n",
       "  174.862,87.9763 2352.76,87.9763 \n",
       "  \"/>\n",
       "<polyline clip-path=\"url(#clip800)\" style=\"stroke:#000000; stroke-width:4; stroke-opacity:1; fill:none\" points=\"\n",
       "  174.862,1486.45 2352.76,1486.45 \n",
       "  \"/>\n",
       "<polyline clip-path=\"url(#clip800)\" style=\"stroke:#000000; stroke-width:4; stroke-opacity:1; fill:none\" points=\"\n",
       "  174.862,1486.45 174.862,47.2441 \n",
       "  \"/>\n",
       "<polyline clip-path=\"url(#clip800)\" style=\"stroke:#000000; stroke-width:4; stroke-opacity:1; fill:none\" points=\"\n",
       "  236.501,1486.45 236.501,1469.18 \n",
       "  \"/>\n",
       "<polyline clip-path=\"url(#clip800)\" style=\"stroke:#000000; stroke-width:4; stroke-opacity:1; fill:none\" points=\"\n",
       "  750.155,1486.45 750.155,1469.18 \n",
       "  \"/>\n",
       "<polyline clip-path=\"url(#clip800)\" style=\"stroke:#000000; stroke-width:4; stroke-opacity:1; fill:none\" points=\"\n",
       "  1263.81,1486.45 1263.81,1469.18 \n",
       "  \"/>\n",
       "<polyline clip-path=\"url(#clip800)\" style=\"stroke:#000000; stroke-width:4; stroke-opacity:1; fill:none\" points=\"\n",
       "  1777.46,1486.45 1777.46,1469.18 \n",
       "  \"/>\n",
       "<polyline clip-path=\"url(#clip800)\" style=\"stroke:#000000; stroke-width:4; stroke-opacity:1; fill:none\" points=\"\n",
       "  2291.12,1486.45 2291.12,1469.18 \n",
       "  \"/>\n",
       "<polyline clip-path=\"url(#clip800)\" style=\"stroke:#000000; stroke-width:4; stroke-opacity:1; fill:none\" points=\"\n",
       "  174.862,1445.72 200.997,1445.72 \n",
       "  \"/>\n",
       "<polyline clip-path=\"url(#clip800)\" style=\"stroke:#000000; stroke-width:4; stroke-opacity:1; fill:none\" points=\"\n",
       "  174.862,1106.28 200.997,1106.28 \n",
       "  \"/>\n",
       "<polyline clip-path=\"url(#clip800)\" style=\"stroke:#000000; stroke-width:4; stroke-opacity:1; fill:none\" points=\"\n",
       "  174.862,766.846 200.997,766.846 \n",
       "  \"/>\n",
       "<polyline clip-path=\"url(#clip800)\" style=\"stroke:#000000; stroke-width:4; stroke-opacity:1; fill:none\" points=\"\n",
       "  174.862,427.411 200.997,427.411 \n",
       "  \"/>\n",
       "<polyline clip-path=\"url(#clip800)\" style=\"stroke:#000000; stroke-width:4; stroke-opacity:1; fill:none\" points=\"\n",
       "  174.862,87.9763 200.997,87.9763 \n",
       "  \"/>\n",
       "<path clip-path=\"url(#clip800)\" d=\"M 0 0 M204.51 1508.44 Q200.899 1508.44 199.07 1512 Q197.265 1515.55 197.265 1522.67 Q197.265 1529.78 199.07 1533.35 Q200.899 1536.89 204.51 1536.89 Q208.144 1536.89 209.95 1533.35 Q211.778 1529.78 211.778 1522.67 Q211.778 1515.55 209.95 1512 Q208.144 1508.44 204.51 1508.44 M204.51 1504.73 Q210.32 1504.73 213.376 1509.34 Q216.454 1513.92 216.454 1522.67 Q216.454 1531.4 213.376 1536.01 Q210.32 1540.59 204.51 1540.59 Q198.7 1540.59 195.621 1536.01 Q192.566 1531.4 192.566 1522.67 Q192.566 1513.92 195.621 1509.34 Q198.7 1504.73 204.51 1504.73 Z\" fill=\"#000000\" fill-rule=\"evenodd\" fill-opacity=\"1\" /><path clip-path=\"url(#clip800)\" d=\"M 0 0 M221.524 1534.04 L226.408 1534.04 L226.408 1539.92 L221.524 1539.92 L221.524 1534.04 Z\" fill=\"#000000\" fill-rule=\"evenodd\" fill-opacity=\"1\" /><path clip-path=\"url(#clip800)\" d=\"M 0 0 M241.477 1508.44 Q237.866 1508.44 236.038 1512 Q234.232 1515.55 234.232 1522.67 Q234.232 1529.78 236.038 1533.35 Q237.866 1536.89 241.477 1536.89 Q245.112 1536.89 246.917 1533.35 Q248.746 1529.78 248.746 1522.67 Q248.746 1515.55 246.917 1512 Q245.112 1508.44 241.477 1508.44 M241.477 1504.73 Q247.288 1504.73 250.343 1509.34 Q253.422 1513.92 253.422 1522.67 Q253.422 1531.4 250.343 1536.01 Q247.288 1540.59 241.477 1540.59 Q235.667 1540.59 232.589 1536.01 Q229.533 1531.4 229.533 1522.67 Q229.533 1513.92 232.589 1509.34 Q235.667 1504.73 241.477 1504.73 Z\" fill=\"#000000\" fill-rule=\"evenodd\" fill-opacity=\"1\" /><path clip-path=\"url(#clip800)\" d=\"M 0 0 M268.491 1508.44 Q264.88 1508.44 263.051 1512 Q261.246 1515.55 261.246 1522.67 Q261.246 1529.78 263.051 1533.35 Q264.88 1536.89 268.491 1536.89 Q272.125 1536.89 273.931 1533.35 Q275.76 1529.78 275.76 1522.67 Q275.76 1515.55 273.931 1512 Q272.125 1508.44 268.491 1508.44 M268.491 1504.73 Q274.301 1504.73 277.357 1509.34 Q280.435 1513.92 280.435 1522.67 Q280.435 1531.4 277.357 1536.01 Q274.301 1540.59 268.491 1540.59 Q262.681 1540.59 259.602 1536.01 Q256.547 1531.4 256.547 1522.67 Q256.547 1513.92 259.602 1509.34 Q262.681 1504.73 268.491 1504.73 Z\" fill=\"#000000\" fill-rule=\"evenodd\" fill-opacity=\"1\" /><path clip-path=\"url(#clip800)\" d=\"M 0 0 M719.46 1508.44 Q715.849 1508.44 714.021 1512 Q712.215 1515.55 712.215 1522.67 Q712.215 1529.78 714.021 1533.35 Q715.849 1536.89 719.46 1536.89 Q723.095 1536.89 724.9 1533.35 Q726.729 1529.78 726.729 1522.67 Q726.729 1515.55 724.9 1512 Q723.095 1508.44 719.46 1508.44 M719.46 1504.73 Q725.271 1504.73 728.326 1509.34 Q731.405 1513.92 731.405 1522.67 Q731.405 1531.4 728.326 1536.01 Q725.271 1540.59 719.46 1540.59 Q713.65 1540.59 710.572 1536.01 Q707.516 1531.4 707.516 1522.67 Q707.516 1513.92 710.572 1509.34 Q713.65 1504.73 719.46 1504.73 Z\" fill=\"#000000\" fill-rule=\"evenodd\" fill-opacity=\"1\" /><path clip-path=\"url(#clip800)\" d=\"M 0 0 M736.474 1534.04 L741.358 1534.04 L741.358 1539.92 L736.474 1539.92 L736.474 1534.04 Z\" fill=\"#000000\" fill-rule=\"evenodd\" fill-opacity=\"1\" /><path clip-path=\"url(#clip800)\" d=\"M 0 0 M750.456 1535.98 L766.775 1535.98 L766.775 1539.92 L744.831 1539.92 L744.831 1535.98 Q747.493 1533.23 752.076 1528.6 Q756.682 1523.95 757.863 1522.61 Q760.108 1520.08 760.988 1518.35 Q761.891 1516.59 761.891 1514.9 Q761.891 1512.14 759.946 1510.41 Q758.025 1508.67 754.923 1508.67 Q752.724 1508.67 750.27 1509.43 Q747.84 1510.2 745.062 1511.75 L745.062 1507.03 Q747.886 1505.89 750.34 1505.31 Q752.794 1504.73 754.831 1504.73 Q760.201 1504.73 763.395 1507.42 Q766.59 1510.11 766.59 1514.6 Q766.59 1516.73 765.78 1518.65 Q764.993 1520.54 762.886 1523.14 Q762.307 1523.81 759.206 1527.03 Q756.104 1530.22 750.456 1535.98 Z\" fill=\"#000000\" fill-rule=\"evenodd\" fill-opacity=\"1\" /><path clip-path=\"url(#clip800)\" d=\"M 0 0 M771.891 1505.36 L790.247 1505.36 L790.247 1509.3 L776.173 1509.3 L776.173 1517.77 Q777.192 1517.42 778.21 1517.26 Q779.229 1517.07 780.247 1517.07 Q786.034 1517.07 789.414 1520.24 Q792.793 1523.42 792.793 1528.83 Q792.793 1534.41 789.321 1537.51 Q785.849 1540.59 779.53 1540.59 Q777.354 1540.59 775.085 1540.22 Q772.84 1539.85 770.432 1539.11 L770.432 1534.41 Q772.516 1535.54 774.738 1536.1 Q776.96 1536.66 779.437 1536.66 Q783.442 1536.66 785.78 1534.55 Q788.118 1532.44 788.118 1528.83 Q788.118 1525.22 785.78 1523.11 Q783.442 1521.01 779.437 1521.01 Q777.562 1521.01 775.687 1521.42 Q773.835 1521.84 771.891 1522.72 L771.891 1505.36 Z\" fill=\"#000000\" fill-rule=\"evenodd\" fill-opacity=\"1\" /><path clip-path=\"url(#clip800)\" d=\"M 0 0 M1232.32 1508.44 Q1228.7 1508.44 1226.88 1512 Q1225.07 1515.55 1225.07 1522.67 Q1225.07 1529.78 1226.88 1533.35 Q1228.7 1536.89 1232.32 1536.89 Q1235.95 1536.89 1237.76 1533.35 Q1239.58 1529.78 1239.58 1522.67 Q1239.58 1515.55 1237.76 1512 Q1235.95 1508.44 1232.32 1508.44 M1232.32 1504.73 Q1238.13 1504.73 1241.18 1509.34 Q1244.26 1513.92 1244.26 1522.67 Q1244.26 1531.4 1241.18 1536.01 Q1238.13 1540.59 1232.32 1540.59 Q1226.51 1540.59 1223.43 1536.01 Q1220.37 1531.4 1220.37 1522.67 Q1220.37 1513.92 1223.43 1509.34 Q1226.51 1504.73 1232.32 1504.73 Z\" fill=\"#000000\" fill-rule=\"evenodd\" fill-opacity=\"1\" /><path clip-path=\"url(#clip800)\" d=\"M 0 0 M1249.33 1534.04 L1254.21 1534.04 L1254.21 1539.92 L1249.33 1539.92 L1249.33 1534.04 Z\" fill=\"#000000\" fill-rule=\"evenodd\" fill-opacity=\"1\" /><path clip-path=\"url(#clip800)\" d=\"M 0 0 M1259.33 1505.36 L1277.69 1505.36 L1277.69 1509.3 L1263.61 1509.3 L1263.61 1517.77 Q1264.63 1517.42 1265.65 1517.26 Q1266.67 1517.07 1267.69 1517.07 Q1273.47 1517.07 1276.85 1520.24 Q1280.23 1523.42 1280.23 1528.83 Q1280.23 1534.41 1276.76 1537.51 Q1273.29 1540.59 1266.97 1540.59 Q1264.79 1540.59 1262.52 1540.22 Q1260.28 1539.85 1257.87 1539.11 L1257.87 1534.41 Q1259.95 1535.54 1262.18 1536.1 Q1264.4 1536.66 1266.88 1536.66 Q1270.88 1536.66 1273.22 1534.55 Q1275.56 1532.44 1275.56 1528.83 Q1275.56 1525.22 1273.22 1523.11 Q1270.88 1521.01 1266.88 1521.01 Q1265 1521.01 1263.13 1521.42 Q1261.27 1521.84 1259.33 1522.72 L1259.33 1505.36 Z\" fill=\"#000000\" fill-rule=\"evenodd\" fill-opacity=\"1\" /><path clip-path=\"url(#clip800)\" d=\"M 0 0 M1295.3 1508.44 Q1291.69 1508.44 1289.86 1512 Q1288.06 1515.55 1288.06 1522.67 Q1288.06 1529.78 1289.86 1533.35 Q1291.69 1536.89 1295.3 1536.89 Q1298.94 1536.89 1300.74 1533.35 Q1302.57 1529.78 1302.57 1522.67 Q1302.57 1515.55 1300.74 1512 Q1298.94 1508.44 1295.3 1508.44 M1295.3 1504.73 Q1301.11 1504.73 1304.17 1509.34 Q1307.25 1513.92 1307.25 1522.67 Q1307.25 1531.4 1304.17 1536.01 Q1301.11 1540.59 1295.3 1540.59 Q1289.49 1540.59 1286.41 1536.01 Q1283.36 1531.4 1283.36 1522.67 Q1283.36 1513.92 1286.41 1509.34 Q1289.49 1504.73 1295.3 1504.73 Z\" fill=\"#000000\" fill-rule=\"evenodd\" fill-opacity=\"1\" /><path clip-path=\"url(#clip800)\" d=\"M 0 0 M1746.42 1508.44 Q1742.81 1508.44 1740.98 1512 Q1739.18 1515.55 1739.18 1522.67 Q1739.18 1529.78 1740.98 1533.35 Q1742.81 1536.89 1746.42 1536.89 Q1750.06 1536.89 1751.86 1533.35 Q1753.69 1529.78 1753.69 1522.67 Q1753.69 1515.55 1751.86 1512 Q1750.06 1508.44 1746.42 1508.44 M1746.42 1504.73 Q1752.23 1504.73 1755.29 1509.34 Q1758.37 1513.92 1758.37 1522.67 Q1758.37 1531.4 1755.29 1536.01 Q1752.23 1540.59 1746.42 1540.59 Q1740.61 1540.59 1737.53 1536.01 Q1734.48 1531.4 1734.48 1522.67 Q1734.48 1513.92 1737.53 1509.34 Q1740.61 1504.73 1746.42 1504.73 Z\" fill=\"#000000\" fill-rule=\"evenodd\" fill-opacity=\"1\" /><path clip-path=\"url(#clip800)\" d=\"M 0 0 M1763.44 1534.04 L1768.32 1534.04 L1768.32 1539.92 L1763.44 1539.92 L1763.44 1534.04 Z\" fill=\"#000000\" fill-rule=\"evenodd\" fill-opacity=\"1\" /><path clip-path=\"url(#clip800)\" d=\"M 0 0 M1772.21 1505.36 L1794.43 1505.36 L1794.43 1507.35 L1781.88 1539.92 L1777 1539.92 L1788.81 1509.3 L1772.21 1509.3 L1772.21 1505.36 Z\" fill=\"#000000\" fill-rule=\"evenodd\" fill-opacity=\"1\" /><path clip-path=\"url(#clip800)\" d=\"M 0 0 M1799.55 1505.36 L1817.9 1505.36 L1817.9 1509.3 L1803.83 1509.3 L1803.83 1517.77 Q1804.85 1517.42 1805.87 1517.26 Q1806.88 1517.07 1807.9 1517.07 Q1813.69 1517.07 1817.07 1520.24 Q1820.45 1523.42 1820.45 1528.83 Q1820.45 1534.41 1816.98 1537.51 Q1813.5 1540.59 1807.19 1540.59 Q1805.01 1540.59 1802.74 1540.22 Q1800.5 1539.85 1798.09 1539.11 L1798.09 1534.41 Q1800.17 1535.54 1802.39 1536.1 Q1804.62 1536.66 1807.09 1536.66 Q1811.1 1536.66 1813.44 1534.55 Q1815.77 1532.44 1815.77 1528.83 Q1815.77 1525.22 1813.44 1523.11 Q1811.1 1521.01 1807.09 1521.01 Q1805.22 1521.01 1803.34 1521.42 Q1801.49 1521.84 1799.55 1522.72 L1799.55 1505.36 Z\" fill=\"#000000\" fill-rule=\"evenodd\" fill-opacity=\"1\" /><path clip-path=\"url(#clip800)\" d=\"M 0 0 M2249.51 1535.98 L2257.15 1535.98 L2257.15 1509.62 L2248.84 1511.29 L2248.84 1507.03 L2257.1 1505.36 L2261.78 1505.36 L2261.78 1535.98 L2269.42 1535.98 L2269.42 1539.92 L2249.51 1539.92 L2249.51 1535.98 Z\" fill=\"#000000\" fill-rule=\"evenodd\" fill-opacity=\"1\" /><path clip-path=\"url(#clip800)\" d=\"M 0 0 M2274.49 1534.04 L2279.37 1534.04 L2279.37 1539.92 L2274.49 1539.92 L2274.49 1534.04 Z\" fill=\"#000000\" fill-rule=\"evenodd\" fill-opacity=\"1\" /><path clip-path=\"url(#clip800)\" d=\"M 0 0 M2294.44 1508.44 Q2290.83 1508.44 2289 1512 Q2287.19 1515.55 2287.19 1522.67 Q2287.19 1529.78 2289 1533.35 Q2290.83 1536.89 2294.44 1536.89 Q2298.07 1536.89 2299.88 1533.35 Q2301.71 1529.78 2301.71 1522.67 Q2301.71 1515.55 2299.88 1512 Q2298.07 1508.44 2294.44 1508.44 M2294.44 1504.73 Q2300.25 1504.73 2303.3 1509.34 Q2306.38 1513.92 2306.38 1522.67 Q2306.38 1531.4 2303.3 1536.01 Q2300.25 1540.59 2294.44 1540.59 Q2288.63 1540.59 2285.55 1536.01 Q2282.49 1531.4 2282.49 1522.67 Q2282.49 1513.92 2285.55 1509.34 Q2288.63 1504.73 2294.44 1504.73 Z\" fill=\"#000000\" fill-rule=\"evenodd\" fill-opacity=\"1\" /><path clip-path=\"url(#clip800)\" d=\"M 0 0 M2321.45 1508.44 Q2317.84 1508.44 2316.01 1512 Q2314.21 1515.55 2314.21 1522.67 Q2314.21 1529.78 2316.01 1533.35 Q2317.84 1536.89 2321.45 1536.89 Q2325.09 1536.89 2326.89 1533.35 Q2328.72 1529.78 2328.72 1522.67 Q2328.72 1515.55 2326.89 1512 Q2325.09 1508.44 2321.45 1508.44 M2321.45 1504.73 Q2327.26 1504.73 2330.32 1509.34 Q2333.4 1513.92 2333.4 1522.67 Q2333.4 1531.4 2330.32 1536.01 Q2327.26 1540.59 2321.45 1540.59 Q2315.64 1540.59 2312.56 1536.01 Q2309.51 1531.4 2309.51 1522.67 Q2309.51 1513.92 2312.56 1509.34 Q2315.64 1504.73 2321.45 1504.73 Z\" fill=\"#000000\" fill-rule=\"evenodd\" fill-opacity=\"1\" /><path clip-path=\"url(#clip800)\" d=\"M 0 0 M74.9365 1431.51 Q71.3254 1431.51 69.4967 1435.08 Q67.6912 1438.62 67.6912 1445.75 Q67.6912 1452.86 69.4967 1456.42 Q71.3254 1459.96 74.9365 1459.96 Q78.5707 1459.96 80.3763 1456.42 Q82.205 1452.86 82.205 1445.75 Q82.205 1438.62 80.3763 1435.08 Q78.5707 1431.51 74.9365 1431.51 M74.9365 1427.81 Q80.7467 1427.81 83.8022 1432.42 Q86.8809 1437 86.8809 1445.75 Q86.8809 1454.48 83.8022 1459.08 Q80.7467 1463.67 74.9365 1463.67 Q69.1264 1463.67 66.0477 1459.08 Q62.9921 1454.48 62.9921 1445.75 Q62.9921 1437 66.0477 1432.42 Q69.1264 1427.81 74.9365 1427.81 Z\" fill=\"#000000\" fill-rule=\"evenodd\" fill-opacity=\"1\" /><path clip-path=\"url(#clip800)\" d=\"M 0 0 M91.9503 1457.12 L96.8345 1457.12 L96.8345 1463 L91.9503 1463 L91.9503 1457.12 Z\" fill=\"#000000\" fill-rule=\"evenodd\" fill-opacity=\"1\" /><path clip-path=\"url(#clip800)\" d=\"M 0 0 M111.904 1431.51 Q108.293 1431.51 106.464 1435.08 Q104.659 1438.62 104.659 1445.75 Q104.659 1452.86 106.464 1456.42 Q108.293 1459.96 111.904 1459.96 Q115.538 1459.96 117.344 1456.42 Q119.172 1452.86 119.172 1445.75 Q119.172 1438.62 117.344 1435.08 Q115.538 1431.51 111.904 1431.51 M111.904 1427.81 Q117.714 1427.81 120.77 1432.42 Q123.848 1437 123.848 1445.75 Q123.848 1454.48 120.77 1459.08 Q117.714 1463.67 111.904 1463.67 Q106.094 1463.67 103.015 1459.08 Q99.9595 1454.48 99.9595 1445.75 Q99.9595 1437 103.015 1432.42 Q106.094 1427.81 111.904 1427.81 Z\" fill=\"#000000\" fill-rule=\"evenodd\" fill-opacity=\"1\" /><path clip-path=\"url(#clip800)\" d=\"M 0 0 M138.918 1431.51 Q135.307 1431.51 133.478 1435.08 Q131.672 1438.62 131.672 1445.75 Q131.672 1452.86 133.478 1456.42 Q135.307 1459.96 138.918 1459.96 Q142.552 1459.96 144.357 1456.42 Q146.186 1452.86 146.186 1445.75 Q146.186 1438.62 144.357 1435.08 Q142.552 1431.51 138.918 1431.51 M138.918 1427.81 Q144.728 1427.81 147.783 1432.42 Q150.862 1437 150.862 1445.75 Q150.862 1454.48 147.783 1459.08 Q144.728 1463.67 138.918 1463.67 Q133.107 1463.67 130.029 1459.08 Q126.973 1454.48 126.973 1445.75 Q126.973 1437 130.029 1432.42 Q133.107 1427.81 138.918 1427.81 Z\" fill=\"#000000\" fill-rule=\"evenodd\" fill-opacity=\"1\" /><path clip-path=\"url(#clip800)\" d=\"M 0 0 M77.5291 1092.08 Q73.918 1092.08 72.0893 1095.64 Q70.2838 1099.19 70.2838 1106.32 Q70.2838 1113.42 72.0893 1116.99 Q73.918 1120.53 77.5291 1120.53 Q81.1633 1120.53 82.9689 1116.99 Q84.7976 1113.42 84.7976 1106.32 Q84.7976 1099.19 82.9689 1095.64 Q81.1633 1092.08 77.5291 1092.08 M77.5291 1088.38 Q83.3392 1088.38 86.3948 1092.98 Q89.4735 1097.57 89.4735 1106.32 Q89.4735 1115.04 86.3948 1119.65 Q83.3392 1124.23 77.5291 1124.23 Q71.7189 1124.23 68.6402 1119.65 Q65.5847 1115.04 65.5847 1106.32 Q65.5847 1097.57 68.6402 1092.98 Q71.7189 1088.38 77.5291 1088.38 Z\" fill=\"#000000\" fill-rule=\"evenodd\" fill-opacity=\"1\" /><path clip-path=\"url(#clip800)\" d=\"M 0 0 M94.5429 1117.68 L99.4271 1117.68 L99.4271 1123.56 L94.5429 1123.56 L94.5429 1117.68 Z\" fill=\"#000000\" fill-rule=\"evenodd\" fill-opacity=\"1\" /><path clip-path=\"url(#clip800)\" d=\"M 0 0 M108.524 1119.63 L124.844 1119.63 L124.844 1123.56 L102.899 1123.56 L102.899 1119.63 Q105.561 1116.87 110.145 1112.24 Q114.751 1107.59 115.932 1106.25 Q118.177 1103.72 119.057 1101.99 Q119.959 1100.23 119.959 1098.54 Q119.959 1095.78 118.015 1094.05 Q116.094 1092.31 112.992 1092.31 Q110.793 1092.31 108.339 1093.07 Q105.909 1093.84 103.131 1095.39 L103.131 1090.67 Q105.955 1089.53 108.409 1088.95 Q110.862 1088.38 112.899 1088.38 Q118.27 1088.38 121.464 1091.06 Q124.658 1093.75 124.658 1098.24 Q124.658 1100.37 123.848 1102.29 Q123.061 1104.19 120.955 1106.78 Q120.376 1107.45 117.274 1110.67 Q114.172 1113.86 108.524 1119.63 Z\" fill=\"#000000\" fill-rule=\"evenodd\" fill-opacity=\"1\" /><path clip-path=\"url(#clip800)\" d=\"M 0 0 M129.959 1089 L148.316 1089 L148.316 1092.94 L134.242 1092.94 L134.242 1101.41 Q135.26 1101.06 136.279 1100.9 Q137.297 1100.71 138.316 1100.71 Q144.103 1100.71 147.482 1103.89 Q150.862 1107.06 150.862 1112.47 Q150.862 1118.05 147.39 1121.15 Q143.918 1124.23 137.598 1124.23 Q135.422 1124.23 133.154 1123.86 Q130.908 1123.49 128.501 1122.75 L128.501 1118.05 Q130.584 1119.19 132.807 1119.74 Q135.029 1120.3 137.506 1120.3 Q141.51 1120.3 143.848 1118.19 Q146.186 1116.08 146.186 1112.47 Q146.186 1108.86 143.848 1106.76 Q141.51 1104.65 137.506 1104.65 Q135.631 1104.65 133.756 1105.07 Q131.904 1105.48 129.959 1106.36 L129.959 1089 Z\" fill=\"#000000\" fill-rule=\"evenodd\" fill-opacity=\"1\" /><path clip-path=\"url(#clip800)\" d=\"M 0 0 M75.9319 752.645 Q72.3208 752.645 70.4921 756.209 Q68.6865 759.751 68.6865 766.881 Q68.6865 773.987 70.4921 777.552 Q72.3208 781.094 75.9319 781.094 Q79.5661 781.094 81.3717 777.552 Q83.2004 773.987 83.2004 766.881 Q83.2004 759.751 81.3717 756.209 Q79.5661 752.645 75.9319 752.645 M75.9319 748.941 Q81.742 748.941 84.7976 753.547 Q87.8763 758.131 87.8763 766.881 Q87.8763 775.608 84.7976 780.214 Q81.742 784.797 75.9319 784.797 Q70.1217 784.797 67.043 780.214 Q63.9875 775.608 63.9875 766.881 Q63.9875 758.131 67.043 753.547 Q70.1217 748.941 75.9319 748.941 Z\" fill=\"#000000\" fill-rule=\"evenodd\" fill-opacity=\"1\" /><path clip-path=\"url(#clip800)\" d=\"M 0 0 M92.9457 778.246 L97.8299 778.246 L97.8299 784.126 L92.9457 784.126 L92.9457 778.246 Z\" fill=\"#000000\" fill-rule=\"evenodd\" fill-opacity=\"1\" /><path clip-path=\"url(#clip800)\" d=\"M 0 0 M102.946 749.566 L121.302 749.566 L121.302 753.501 L107.228 753.501 L107.228 761.973 Q108.247 761.626 109.265 761.464 Q110.284 761.279 111.302 761.279 Q117.089 761.279 120.469 764.45 Q123.848 767.621 123.848 773.038 Q123.848 778.617 120.376 781.719 Q116.904 784.797 110.584 784.797 Q108.409 784.797 106.14 784.427 Q103.895 784.057 101.487 783.316 L101.487 778.617 Q103.571 779.751 105.793 780.307 Q108.015 780.862 110.492 780.862 Q114.496 780.862 116.834 778.756 Q119.172 776.649 119.172 773.038 Q119.172 769.427 116.834 767.321 Q114.496 765.214 110.492 765.214 Q108.617 765.214 106.742 765.631 Q104.89 766.047 102.946 766.927 L102.946 749.566 Z\" fill=\"#000000\" fill-rule=\"evenodd\" fill-opacity=\"1\" /><path clip-path=\"url(#clip800)\" d=\"M 0 0 M138.918 752.645 Q135.307 752.645 133.478 756.209 Q131.672 759.751 131.672 766.881 Q131.672 773.987 133.478 777.552 Q135.307 781.094 138.918 781.094 Q142.552 781.094 144.357 777.552 Q146.186 773.987 146.186 766.881 Q146.186 759.751 144.357 756.209 Q142.552 752.645 138.918 752.645 M138.918 748.941 Q144.728 748.941 147.783 753.547 Q150.862 758.131 150.862 766.881 Q150.862 775.608 147.783 780.214 Q144.728 784.797 138.918 784.797 Q133.107 784.797 130.029 780.214 Q126.973 775.608 126.973 766.881 Q126.973 758.131 130.029 753.547 Q133.107 748.941 138.918 748.941 Z\" fill=\"#000000\" fill-rule=\"evenodd\" fill-opacity=\"1\" /><path clip-path=\"url(#clip800)\" d=\"M 0 0 M76.8346 413.21 Q73.2236 413.21 71.3949 416.775 Q69.5893 420.316 69.5893 427.446 Q69.5893 434.552 71.3949 438.117 Q73.2236 441.659 76.8346 441.659 Q80.4689 441.659 82.2744 438.117 Q84.1031 434.552 84.1031 427.446 Q84.1031 420.316 82.2744 416.775 Q80.4689 413.21 76.8346 413.21 M76.8346 409.506 Q82.6448 409.506 85.7003 414.113 Q88.779 418.696 88.779 427.446 Q88.779 436.173 85.7003 440.779 Q82.6448 445.362 76.8346 445.362 Q71.0245 445.362 67.9458 440.779 Q64.8903 436.173 64.8903 427.446 Q64.8903 418.696 67.9458 414.113 Q71.0245 409.506 76.8346 409.506 Z\" fill=\"#000000\" fill-rule=\"evenodd\" fill-opacity=\"1\" /><path clip-path=\"url(#clip800)\" d=\"M 0 0 M93.8484 438.812 L98.7327 438.812 L98.7327 444.691 L93.8484 444.691 L93.8484 438.812 Z\" fill=\"#000000\" fill-rule=\"evenodd\" fill-opacity=\"1\" /><path clip-path=\"url(#clip800)\" d=\"M 0 0 M102.622 410.131 L124.844 410.131 L124.844 412.122 L112.297 444.691 L107.413 444.691 L119.219 414.066 L102.622 414.066 L102.622 410.131 Z\" fill=\"#000000\" fill-rule=\"evenodd\" fill-opacity=\"1\" /><path clip-path=\"url(#clip800)\" d=\"M 0 0 M129.959 410.131 L148.316 410.131 L148.316 414.066 L134.242 414.066 L134.242 422.538 Q135.26 422.191 136.279 422.029 Q137.297 421.844 138.316 421.844 Q144.103 421.844 147.482 425.015 Q150.862 428.187 150.862 433.603 Q150.862 439.182 147.39 442.284 Q143.918 445.362 137.598 445.362 Q135.422 445.362 133.154 444.992 Q130.908 444.622 128.501 443.881 L128.501 439.182 Q130.584 440.316 132.807 440.872 Q135.029 441.427 137.506 441.427 Q141.51 441.427 143.848 439.321 Q146.186 437.214 146.186 433.603 Q146.186 429.992 143.848 427.886 Q141.51 425.779 137.506 425.779 Q135.631 425.779 133.756 426.196 Q131.904 426.613 129.959 427.492 L129.959 410.131 Z\" fill=\"#000000\" fill-rule=\"evenodd\" fill-opacity=\"1\" /><path clip-path=\"url(#clip800)\" d=\"M 0 0 M66.9736 101.321 L74.6124 101.321 L74.6124 74.9555 L66.3023 76.6222 L66.3023 72.3629 L74.5661 70.6963 L79.242 70.6963 L79.242 101.321 L86.8809 101.321 L86.8809 105.256 L66.9736 105.256 L66.9736 101.321 Z\" fill=\"#000000\" fill-rule=\"evenodd\" fill-opacity=\"1\" /><path clip-path=\"url(#clip800)\" d=\"M 0 0 M91.9503 99.3767 L96.8345 99.3767 L96.8345 105.256 L91.9503 105.256 L91.9503 99.3767 Z\" fill=\"#000000\" fill-rule=\"evenodd\" fill-opacity=\"1\" /><path clip-path=\"url(#clip800)\" d=\"M 0 0 M111.904 73.775 Q108.293 73.775 106.464 77.3398 Q104.659 80.8814 104.659 88.011 Q104.659 95.1174 106.464 98.6822 Q108.293 102.224 111.904 102.224 Q115.538 102.224 117.344 98.6822 Q119.172 95.1174 119.172 88.011 Q119.172 80.8814 117.344 77.3398 Q115.538 73.775 111.904 73.775 M111.904 70.0713 Q117.714 70.0713 120.77 74.6777 Q123.848 79.261 123.848 88.011 Q123.848 96.7378 120.77 101.344 Q117.714 105.928 111.904 105.928 Q106.094 105.928 103.015 101.344 Q99.9595 96.7378 99.9595 88.011 Q99.9595 79.261 103.015 74.6777 Q106.094 70.0713 111.904 70.0713 Z\" fill=\"#000000\" fill-rule=\"evenodd\" fill-opacity=\"1\" /><path clip-path=\"url(#clip800)\" d=\"M 0 0 M138.918 73.775 Q135.307 73.775 133.478 77.3398 Q131.672 80.8814 131.672 88.011 Q131.672 95.1174 133.478 98.6822 Q135.307 102.224 138.918 102.224 Q142.552 102.224 144.357 98.6822 Q146.186 95.1174 146.186 88.011 Q146.186 80.8814 144.357 77.3398 Q142.552 73.775 138.918 73.775 M138.918 70.0713 Q144.728 70.0713 147.783 74.6777 Q150.862 79.261 150.862 88.011 Q150.862 96.7378 147.783 101.344 Q144.728 105.928 138.918 105.928 Q133.107 105.928 130.029 101.344 Q126.973 96.7378 126.973 88.011 Q126.973 79.261 130.029 74.6777 Q133.107 70.0713 138.918 70.0713 Z\" fill=\"#000000\" fill-rule=\"evenodd\" fill-opacity=\"1\" /><polyline clip-path=\"url(#clip802)\" style=\"stroke:#009af9; stroke-width:4; stroke-opacity:0.5; fill:none\" points=\"\n",
       "  236.501,1445.72 2291.12,87.9763 \n",
       "  \"/>\n",
       "<circle clip-path=\"url(#clip802)\" cx=\"236.501\" cy=\"1445.72\" r=\"14\" fill=\"#009af9\" fill-rule=\"evenodd\" fill-opacity=\"0.5\" stroke=\"#000000\" stroke-opacity=\"0.5\" stroke-width=\"3.2\"/>\n",
       "<circle clip-path=\"url(#clip802)\" cx=\"2291.12\" cy=\"87.9763\" r=\"14\" fill=\"#009af9\" fill-rule=\"evenodd\" fill-opacity=\"0.5\" stroke=\"#000000\" stroke-opacity=\"0.5\" stroke-width=\"3.2\"/>\n",
       "<path clip-path=\"url(#clip800)\" d=\"\n",
       "M2019.25 251.724 L2280.76 251.724 L2280.76 130.764 L2019.25 130.764  Z\n",
       "  \" fill=\"#ffffff\" fill-rule=\"evenodd\" fill-opacity=\"1\"/>\n",
       "<polyline clip-path=\"url(#clip800)\" style=\"stroke:#000000; stroke-width:4; stroke-opacity:1; fill:none\" points=\"\n",
       "  2019.25,251.724 2280.76,251.724 2280.76,130.764 2019.25,130.764 2019.25,251.724 \n",
       "  \"/>\n",
       "<polyline clip-path=\"url(#clip800)\" style=\"stroke:#009af9; stroke-width:4; stroke-opacity:0.5; fill:none\" points=\"\n",
       "  2043.25,191.244 2187.25,191.244 \n",
       "  \"/>\n",
       "<circle clip-path=\"url(#clip800)\" cx=\"2127.25\" cy=\"191.244\" r=\"23\" fill=\"#009af9\" fill-rule=\"evenodd\" fill-opacity=\"0.5\" stroke=\"#000000\" stroke-opacity=\"0.5\" stroke-width=\"5.12\"/>\n",
       "<path clip-path=\"url(#clip800)\" d=\"M 0 0 M2211.25 173.964 L2215.93 173.964 L2215.93 204.589 L2232.76 204.589 L2232.76 208.524 L2211.25 208.524 L2211.25 173.964 Z\" fill=\"#000000\" fill-rule=\"evenodd\" fill-opacity=\"1\" /></svg>\n"
      ]
     },
     "execution_count": 110,
     "metadata": {},
     "output_type": "execute_result"
    }
   ],
   "source": [
    "L = LineSegment([0.0, 0.0], [1.0, 1.0])\n",
    "\n",
    "plot(L, lab=\"L\")"
   ]
  },
  {
   "cell_type": "code",
   "execution_count": 111,
   "metadata": {},
   "outputs": [
    {
     "data": {
      "image/svg+xml": [
       "<?xml version=\"1.0\" encoding=\"utf-8\"?>\n",
       "<svg xmlns=\"http://www.w3.org/2000/svg\" xmlns:xlink=\"http://www.w3.org/1999/xlink\" width=\"600\" height=\"400\" viewBox=\"0 0 2400 1600\">\n",
       "<defs>\n",
       "  <clipPath id=\"clip840\">\n",
       "    <rect x=\"0\" y=\"0\" width=\"2400\" height=\"1600\"/>\n",
       "  </clipPath>\n",
       "</defs>\n",
       "<path clip-path=\"url(#clip840)\" d=\"\n",
       "M0 1600 L2400 1600 L2400 0 L0 0  Z\n",
       "  \" fill=\"#ffffff\" fill-rule=\"evenodd\" fill-opacity=\"1\"/>\n",
       "<defs>\n",
       "  <clipPath id=\"clip841\">\n",
       "    <rect x=\"480\" y=\"0\" width=\"1681\" height=\"1600\"/>\n",
       "  </clipPath>\n",
       "</defs>\n",
       "<path clip-path=\"url(#clip840)\" d=\"\n",
       "M125.256 1486.45 L2352.76 1486.45 L2352.76 47.2441 L125.256 47.2441  Z\n",
       "  \" fill=\"#ffffff\" fill-rule=\"evenodd\" fill-opacity=\"1\"/>\n",
       "<defs>\n",
       "  <clipPath id=\"clip842\">\n",
       "    <rect x=\"125\" y=\"47\" width=\"2229\" height=\"1440\"/>\n",
       "  </clipPath>\n",
       "</defs>\n",
       "<polyline clip-path=\"url(#clip842)\" style=\"stroke:#000000; stroke-width:2; stroke-opacity:0.1; fill:none\" points=\"\n",
       "  183.782,1486.45 183.782,47.2441 \n",
       "  \"/>\n",
       "<polyline clip-path=\"url(#clip842)\" style=\"stroke:#000000; stroke-width:2; stroke-opacity:0.1; fill:none\" points=\"\n",
       "  659.504,1486.45 659.504,47.2441 \n",
       "  \"/>\n",
       "<polyline clip-path=\"url(#clip842)\" style=\"stroke:#000000; stroke-width:2; stroke-opacity:0.1; fill:none\" points=\"\n",
       "  1135.23,1486.45 1135.23,47.2441 \n",
       "  \"/>\n",
       "<polyline clip-path=\"url(#clip842)\" style=\"stroke:#000000; stroke-width:2; stroke-opacity:0.1; fill:none\" points=\"\n",
       "  1610.95,1486.45 1610.95,47.2441 \n",
       "  \"/>\n",
       "<polyline clip-path=\"url(#clip842)\" style=\"stroke:#000000; stroke-width:2; stroke-opacity:0.1; fill:none\" points=\"\n",
       "  2086.67,1486.45 2086.67,47.2441 \n",
       "  \"/>\n",
       "<polyline clip-path=\"url(#clip842)\" style=\"stroke:#000000; stroke-width:2; stroke-opacity:0.1; fill:none\" points=\"\n",
       "  125.256,1315.58 2352.76,1315.58 \n",
       "  \"/>\n",
       "<polyline clip-path=\"url(#clip842)\" style=\"stroke:#000000; stroke-width:2; stroke-opacity:0.1; fill:none\" points=\"\n",
       "  125.256,995.561 2352.76,995.561 \n",
       "  \"/>\n",
       "<polyline clip-path=\"url(#clip842)\" style=\"stroke:#000000; stroke-width:2; stroke-opacity:0.1; fill:none\" points=\"\n",
       "  125.256,675.542 2352.76,675.542 \n",
       "  \"/>\n",
       "<polyline clip-path=\"url(#clip842)\" style=\"stroke:#000000; stroke-width:2; stroke-opacity:0.1; fill:none\" points=\"\n",
       "  125.256,355.523 2352.76,355.523 \n",
       "  \"/>\n",
       "<polyline clip-path=\"url(#clip840)\" style=\"stroke:#000000; stroke-width:4; stroke-opacity:1; fill:none\" points=\"\n",
       "  125.256,1486.45 2352.76,1486.45 \n",
       "  \"/>\n",
       "<polyline clip-path=\"url(#clip840)\" style=\"stroke:#000000; stroke-width:4; stroke-opacity:1; fill:none\" points=\"\n",
       "  125.256,1486.45 125.256,47.2441 \n",
       "  \"/>\n",
       "<polyline clip-path=\"url(#clip840)\" style=\"stroke:#000000; stroke-width:4; stroke-opacity:1; fill:none\" points=\"\n",
       "  183.782,1486.45 183.782,1469.18 \n",
       "  \"/>\n",
       "<polyline clip-path=\"url(#clip840)\" style=\"stroke:#000000; stroke-width:4; stroke-opacity:1; fill:none\" points=\"\n",
       "  659.504,1486.45 659.504,1469.18 \n",
       "  \"/>\n",
       "<polyline clip-path=\"url(#clip840)\" style=\"stroke:#000000; stroke-width:4; stroke-opacity:1; fill:none\" points=\"\n",
       "  1135.23,1486.45 1135.23,1469.18 \n",
       "  \"/>\n",
       "<polyline clip-path=\"url(#clip840)\" style=\"stroke:#000000; stroke-width:4; stroke-opacity:1; fill:none\" points=\"\n",
       "  1610.95,1486.45 1610.95,1469.18 \n",
       "  \"/>\n",
       "<polyline clip-path=\"url(#clip840)\" style=\"stroke:#000000; stroke-width:4; stroke-opacity:1; fill:none\" points=\"\n",
       "  2086.67,1486.45 2086.67,1469.18 \n",
       "  \"/>\n",
       "<polyline clip-path=\"url(#clip840)\" style=\"stroke:#000000; stroke-width:4; stroke-opacity:1; fill:none\" points=\"\n",
       "  125.256,1315.58 151.986,1315.58 \n",
       "  \"/>\n",
       "<polyline clip-path=\"url(#clip840)\" style=\"stroke:#000000; stroke-width:4; stroke-opacity:1; fill:none\" points=\"\n",
       "  125.256,995.561 151.986,995.561 \n",
       "  \"/>\n",
       "<polyline clip-path=\"url(#clip840)\" style=\"stroke:#000000; stroke-width:4; stroke-opacity:1; fill:none\" points=\"\n",
       "  125.256,675.542 151.986,675.542 \n",
       "  \"/>\n",
       "<polyline clip-path=\"url(#clip840)\" style=\"stroke:#000000; stroke-width:4; stroke-opacity:1; fill:none\" points=\"\n",
       "  125.256,355.523 151.986,355.523 \n",
       "  \"/>\n",
       "<path clip-path=\"url(#clip840)\" d=\"M 0 0 M146.166 1525.04 L158.643 1525.04 L158.643 1528.83 L146.166 1528.83 L146.166 1525.04 Z\" fill=\"#000000\" fill-rule=\"evenodd\" fill-opacity=\"1\" /><path clip-path=\"url(#clip840)\" d=\"M 0 0 M164.522 1535.98 L172.161 1535.98 L172.161 1509.62 L163.851 1511.29 L163.851 1507.03 L172.115 1505.36 L176.791 1505.36 L176.791 1535.98 L184.43 1535.98 L184.43 1539.92 L164.522 1539.92 L164.522 1535.98 Z\" fill=\"#000000\" fill-rule=\"evenodd\" fill-opacity=\"1\" /><path clip-path=\"url(#clip840)\" d=\"M 0 0 M189.499 1534.04 L194.383 1534.04 L194.383 1539.92 L189.499 1539.92 L189.499 1534.04 Z\" fill=\"#000000\" fill-rule=\"evenodd\" fill-opacity=\"1\" /><path clip-path=\"url(#clip840)\" d=\"M 0 0 M209.453 1508.44 Q205.842 1508.44 204.013 1512 Q202.207 1515.55 202.207 1522.67 Q202.207 1529.78 204.013 1533.35 Q205.842 1536.89 209.453 1536.89 Q213.087 1536.89 214.893 1533.35 Q216.721 1529.78 216.721 1522.67 Q216.721 1515.55 214.893 1512 Q213.087 1508.44 209.453 1508.44 M209.453 1504.73 Q215.263 1504.73 218.318 1509.34 Q221.397 1513.92 221.397 1522.67 Q221.397 1531.4 218.318 1536.01 Q215.263 1540.59 209.453 1540.59 Q203.643 1540.59 200.564 1536.01 Q197.508 1531.4 197.508 1522.67 Q197.508 1513.92 200.564 1509.34 Q203.643 1504.73 209.453 1504.73 Z\" fill=\"#000000\" fill-rule=\"evenodd\" fill-opacity=\"1\" /><path clip-path=\"url(#clip840)\" d=\"M 0 0 M621.773 1525.04 L634.25 1525.04 L634.25 1528.83 L621.773 1528.83 L621.773 1525.04 Z\" fill=\"#000000\" fill-rule=\"evenodd\" fill-opacity=\"1\" /><path clip-path=\"url(#clip840)\" d=\"M 0 0 M649.319 1508.44 Q645.708 1508.44 643.879 1512 Q642.074 1515.55 642.074 1522.67 Q642.074 1529.78 643.879 1533.35 Q645.708 1536.89 649.319 1536.89 Q652.953 1536.89 654.759 1533.35 Q656.588 1529.78 656.588 1522.67 Q656.588 1515.55 654.759 1512 Q652.953 1508.44 649.319 1508.44 M649.319 1504.73 Q655.129 1504.73 658.185 1509.34 Q661.264 1513.92 661.264 1522.67 Q661.264 1531.4 658.185 1536.01 Q655.129 1540.59 649.319 1540.59 Q643.509 1540.59 640.43 1536.01 Q637.375 1531.4 637.375 1522.67 Q637.375 1513.92 640.43 1509.34 Q643.509 1504.73 649.319 1504.73 Z\" fill=\"#000000\" fill-rule=\"evenodd\" fill-opacity=\"1\" /><path clip-path=\"url(#clip840)\" d=\"M 0 0 M666.333 1534.04 L671.217 1534.04 L671.217 1539.92 L666.333 1539.92 L666.333 1534.04 Z\" fill=\"#000000\" fill-rule=\"evenodd\" fill-opacity=\"1\" /><path clip-path=\"url(#clip840)\" d=\"M 0 0 M676.333 1505.36 L694.689 1505.36 L694.689 1509.3 L680.615 1509.3 L680.615 1517.77 Q681.634 1517.42 682.652 1517.26 Q683.671 1517.07 684.689 1517.07 Q690.476 1517.07 693.856 1520.24 Q697.236 1523.42 697.236 1528.83 Q697.236 1534.41 693.763 1537.51 Q690.291 1540.59 683.972 1540.59 Q681.796 1540.59 679.527 1540.22 Q677.282 1539.85 674.875 1539.11 L674.875 1534.41 Q676.958 1535.54 679.18 1536.1 Q681.402 1536.66 683.879 1536.66 Q687.884 1536.66 690.222 1534.55 Q692.56 1532.44 692.56 1528.83 Q692.56 1525.22 690.222 1523.11 Q687.884 1521.01 683.879 1521.01 Q682.004 1521.01 680.129 1521.42 Q678.277 1521.84 676.333 1522.72 L676.333 1505.36 Z\" fill=\"#000000\" fill-rule=\"evenodd\" fill-opacity=\"1\" /><path clip-path=\"url(#clip840)\" d=\"M 0 0 M1116.74 1508.44 Q1113.13 1508.44 1111.3 1512 Q1109.5 1515.55 1109.5 1522.67 Q1109.5 1529.78 1111.3 1533.35 Q1113.13 1536.89 1116.74 1536.89 Q1120.38 1536.89 1122.18 1533.35 Q1124.01 1529.78 1124.01 1522.67 Q1124.01 1515.55 1122.18 1512 Q1120.38 1508.44 1116.74 1508.44 M1116.74 1504.73 Q1122.55 1504.73 1125.61 1509.34 Q1128.69 1513.92 1128.69 1522.67 Q1128.69 1531.4 1125.61 1536.01 Q1122.55 1540.59 1116.74 1540.59 Q1110.93 1540.59 1107.85 1536.01 Q1104.8 1531.4 1104.8 1522.67 Q1104.8 1513.92 1107.85 1509.34 Q1110.93 1504.73 1116.74 1504.73 Z\" fill=\"#000000\" fill-rule=\"evenodd\" fill-opacity=\"1\" /><path clip-path=\"url(#clip840)\" d=\"M 0 0 M1133.76 1534.04 L1138.64 1534.04 L1138.64 1539.92 L1133.76 1539.92 L1133.76 1534.04 Z\" fill=\"#000000\" fill-rule=\"evenodd\" fill-opacity=\"1\" /><path clip-path=\"url(#clip840)\" d=\"M 0 0 M1153.71 1508.44 Q1150.1 1508.44 1148.27 1512 Q1146.47 1515.55 1146.47 1522.67 Q1146.47 1529.78 1148.27 1533.35 Q1150.1 1536.89 1153.71 1536.89 Q1157.34 1536.89 1159.15 1533.35 Q1160.98 1529.78 1160.98 1522.67 Q1160.98 1515.55 1159.15 1512 Q1157.34 1508.44 1153.71 1508.44 M1153.71 1504.73 Q1159.52 1504.73 1162.58 1509.34 Q1165.65 1513.92 1165.65 1522.67 Q1165.65 1531.4 1162.58 1536.01 Q1159.52 1540.59 1153.71 1540.59 Q1147.9 1540.59 1144.82 1536.01 Q1141.77 1531.4 1141.77 1522.67 Q1141.77 1513.92 1144.82 1509.34 Q1147.9 1504.73 1153.71 1504.73 Z\" fill=\"#000000\" fill-rule=\"evenodd\" fill-opacity=\"1\" /><path clip-path=\"url(#clip840)\" d=\"M 0 0 M1592.96 1508.44 Q1589.35 1508.44 1587.52 1512 Q1585.72 1515.55 1585.72 1522.67 Q1585.72 1529.78 1587.52 1533.35 Q1589.35 1536.89 1592.96 1536.89 Q1596.6 1536.89 1598.4 1533.35 Q1600.23 1529.78 1600.23 1522.67 Q1600.23 1515.55 1598.4 1512 Q1596.6 1508.44 1592.96 1508.44 M1592.96 1504.73 Q1598.77 1504.73 1601.83 1509.34 Q1604.91 1513.92 1604.91 1522.67 Q1604.91 1531.4 1601.83 1536.01 Q1598.77 1540.59 1592.96 1540.59 Q1587.15 1540.59 1584.07 1536.01 Q1581.02 1531.4 1581.02 1522.67 Q1581.02 1513.92 1584.07 1509.34 Q1587.15 1504.73 1592.96 1504.73 Z\" fill=\"#000000\" fill-rule=\"evenodd\" fill-opacity=\"1\" /><path clip-path=\"url(#clip840)\" d=\"M 0 0 M1609.98 1534.04 L1614.86 1534.04 L1614.86 1539.92 L1609.98 1539.92 L1609.98 1534.04 Z\" fill=\"#000000\" fill-rule=\"evenodd\" fill-opacity=\"1\" /><path clip-path=\"url(#clip840)\" d=\"M 0 0 M1619.98 1505.36 L1638.33 1505.36 L1638.33 1509.3 L1624.26 1509.3 L1624.26 1517.77 Q1625.28 1517.42 1626.3 1517.26 Q1627.32 1517.07 1628.33 1517.07 Q1634.12 1517.07 1637.5 1520.24 Q1640.88 1523.42 1640.88 1528.83 Q1640.88 1534.41 1637.41 1537.51 Q1633.94 1540.59 1627.62 1540.59 Q1625.44 1540.59 1623.17 1540.22 Q1620.93 1539.85 1618.52 1539.11 L1618.52 1534.41 Q1620.6 1535.54 1622.82 1536.1 Q1625.05 1536.66 1627.52 1536.66 Q1631.53 1536.66 1633.87 1534.55 Q1636.2 1532.44 1636.2 1528.83 Q1636.2 1525.22 1633.87 1523.11 Q1631.53 1521.01 1627.52 1521.01 Q1625.65 1521.01 1623.77 1521.42 Q1621.92 1521.84 1619.98 1522.72 L1619.98 1505.36 Z\" fill=\"#000000\" fill-rule=\"evenodd\" fill-opacity=\"1\" /><path clip-path=\"url(#clip840)\" d=\"M 0 0 M2058.57 1535.98 L2066.21 1535.98 L2066.21 1509.62 L2057.9 1511.29 L2057.9 1507.03 L2066.16 1505.36 L2070.84 1505.36 L2070.84 1535.98 L2078.48 1535.98 L2078.48 1539.92 L2058.57 1539.92 L2058.57 1535.98 Z\" fill=\"#000000\" fill-rule=\"evenodd\" fill-opacity=\"1\" /><path clip-path=\"url(#clip840)\" d=\"M 0 0 M2083.55 1534.04 L2088.43 1534.04 L2088.43 1539.92 L2083.55 1539.92 L2083.55 1534.04 Z\" fill=\"#000000\" fill-rule=\"evenodd\" fill-opacity=\"1\" /><path clip-path=\"url(#clip840)\" d=\"M 0 0 M2103.5 1508.44 Q2099.89 1508.44 2098.06 1512 Q2096.26 1515.55 2096.26 1522.67 Q2096.26 1529.78 2098.06 1533.35 Q2099.89 1536.89 2103.5 1536.89 Q2107.13 1536.89 2108.94 1533.35 Q2110.77 1529.78 2110.77 1522.67 Q2110.77 1515.55 2108.94 1512 Q2107.13 1508.44 2103.5 1508.44 M2103.5 1504.73 Q2109.31 1504.73 2112.37 1509.34 Q2115.45 1513.92 2115.45 1522.67 Q2115.45 1531.4 2112.37 1536.01 Q2109.31 1540.59 2103.5 1540.59 Q2097.69 1540.59 2094.61 1536.01 Q2091.56 1531.4 2091.56 1522.67 Q2091.56 1513.92 2094.61 1509.34 Q2097.69 1504.73 2103.5 1504.73 Z\" fill=\"#000000\" fill-rule=\"evenodd\" fill-opacity=\"1\" /><path clip-path=\"url(#clip840)\" d=\"M 0 0 M63.3625 1317.98 L75.8393 1317.98 L75.8393 1321.77 L63.3625 1321.77 L63.3625 1317.98 Z\" fill=\"#000000\" fill-rule=\"evenodd\" fill-opacity=\"1\" /><path clip-path=\"url(#clip840)\" d=\"M 0 0 M84.9365 1328.93 L101.256 1328.93 L101.256 1332.86 L79.3115 1332.86 L79.3115 1328.93 Q81.9735 1326.17 86.5568 1321.54 Q91.1633 1316.89 92.3438 1315.55 Q94.5892 1313.02 95.4688 1311.29 Q96.3716 1309.53 96.3716 1307.84 Q96.3716 1305.08 94.4271 1303.35 Q92.5059 1301.61 89.404 1301.61 Q87.205 1301.61 84.7513 1302.37 Q82.3207 1303.14 79.543 1304.69 L79.543 1299.97 Q82.367 1298.83 84.8207 1298.25 Q87.2744 1297.68 89.3114 1297.68 Q94.6818 1297.68 97.8762 1300.36 Q101.071 1303.05 101.071 1307.54 Q101.071 1309.67 100.26 1311.59 Q99.4734 1313.49 97.3669 1316.08 Q96.7882 1316.75 93.6864 1319.97 Q90.5846 1323.16 84.9365 1328.93 Z\" fill=\"#000000\" fill-rule=\"evenodd\" fill-opacity=\"1\" /><path clip-path=\"url(#clip840)\" d=\"M 0 0 M62.9921 997.957 L75.4689 997.957 L75.4689 1001.75 L62.9921 1001.75 L62.9921 997.957 Z\" fill=\"#000000\" fill-rule=\"evenodd\" fill-opacity=\"1\" /><path clip-path=\"url(#clip840)\" d=\"M 0 0 M81.3485 1008.91 L88.9874 1008.91 L88.9874 982.54 L80.6772 984.207 L80.6772 979.948 L88.9411 978.281 L93.617 978.281 L93.617 1008.91 L101.256 1008.91 L101.256 1012.84 L81.3485 1012.84 L81.3485 1008.91 Z\" fill=\"#000000\" fill-rule=\"evenodd\" fill-opacity=\"1\" /><path clip-path=\"url(#clip840)\" d=\"M 0 0 M89.3114 661.341 Q85.7003 661.341 83.8716 664.905 Q82.0661 668.447 82.0661 675.577 Q82.0661 682.683 83.8716 686.248 Q85.7003 689.79 89.3114 689.79 Q92.9457 689.79 94.7512 686.248 Q96.5799 682.683 96.5799 675.577 Q96.5799 668.447 94.7512 664.905 Q92.9457 661.341 89.3114 661.341 M89.3114 657.637 Q95.1216 657.637 98.1771 662.243 Q101.256 666.827 101.256 675.577 Q101.256 684.303 98.1771 688.91 Q95.1216 693.493 89.3114 693.493 Q83.5013 693.493 80.4226 688.91 Q77.367 684.303 77.367 675.577 Q77.367 666.827 80.4226 662.243 Q83.5013 657.637 89.3114 657.637 Z\" fill=\"#000000\" fill-rule=\"evenodd\" fill-opacity=\"1\" /><path clip-path=\"url(#clip840)\" d=\"M 0 0 M81.3485 368.868 L88.9874 368.868 L88.9874 342.502 L80.6772 344.169 L80.6772 339.909 L88.9411 338.243 L93.617 338.243 L93.617 368.868 L101.256 368.868 L101.256 372.803 L81.3485 372.803 L81.3485 368.868 Z\" fill=\"#000000\" fill-rule=\"evenodd\" fill-opacity=\"1\" /><polyline clip-path=\"url(#clip842)\" style=\"stroke:#009af9; stroke-width:4; stroke-opacity:0.5; fill:none\" points=\"\n",
       "  767.94,87.9763 2289.71,336.987 \n",
       "  \"/>\n",
       "<circle clip-path=\"url(#clip842)\" cx=\"767.94\" cy=\"87.9763\" r=\"14\" fill=\"#009af9\" fill-rule=\"evenodd\" fill-opacity=\"0.5\" stroke=\"#000000\" stroke-opacity=\"0.5\" stroke-width=\"3.2\"/>\n",
       "<circle clip-path=\"url(#clip842)\" cx=\"2289.71\" cy=\"336.987\" r=\"14\" fill=\"#009af9\" fill-rule=\"evenodd\" fill-opacity=\"0.5\" stroke=\"#000000\" stroke-opacity=\"0.5\" stroke-width=\"3.2\"/>\n",
       "<polyline clip-path=\"url(#clip842)\" style=\"stroke:#e26f46; stroke-width:4; stroke-opacity:0.5; fill:none\" points=\"\n",
       "  853.02,1049.99 2157.42,494.003 \n",
       "  \"/>\n",
       "<circle clip-path=\"url(#clip842)\" cx=\"853.02\" cy=\"1049.99\" r=\"14\" fill=\"#e26f46\" fill-rule=\"evenodd\" fill-opacity=\"0.5\" stroke=\"#000000\" stroke-opacity=\"0.5\" stroke-width=\"3.2\"/>\n",
       "<circle clip-path=\"url(#clip842)\" cx=\"2157.42\" cy=\"494.003\" r=\"14\" fill=\"#e26f46\" fill-rule=\"evenodd\" fill-opacity=\"0.5\" stroke=\"#000000\" stroke-opacity=\"0.5\" stroke-width=\"3.2\"/>\n",
       "<polyline clip-path=\"url(#clip842)\" style=\"stroke:#3da44d; stroke-width:4; stroke-opacity:0.5; fill:none\" points=\"\n",
       "  188.298,376 1527.75,747.785 \n",
       "  \"/>\n",
       "<circle clip-path=\"url(#clip842)\" cx=\"188.298\" cy=\"376\" r=\"14\" fill=\"#3da44d\" fill-rule=\"evenodd\" fill-opacity=\"0.5\" stroke=\"#000000\" stroke-opacity=\"0.5\" stroke-width=\"3.2\"/>\n",
       "<circle clip-path=\"url(#clip842)\" cx=\"1527.75\" cy=\"747.785\" r=\"14\" fill=\"#3da44d\" fill-rule=\"evenodd\" fill-opacity=\"0.5\" stroke=\"#000000\" stroke-opacity=\"0.5\" stroke-width=\"3.2\"/>\n",
       "<polyline clip-path=\"url(#clip842)\" style=\"stroke:#c271d2; stroke-width:4; stroke-opacity:0.5; fill:none\" points=\"\n",
       "  924.727,640.179 1683.32,178.475 \n",
       "  \"/>\n",
       "<circle clip-path=\"url(#clip842)\" cx=\"924.727\" cy=\"640.179\" r=\"14\" fill=\"#c271d2\" fill-rule=\"evenodd\" fill-opacity=\"0.5\" stroke=\"#000000\" stroke-opacity=\"0.5\" stroke-width=\"3.2\"/>\n",
       "<circle clip-path=\"url(#clip842)\" cx=\"1683.32\" cy=\"178.475\" r=\"14\" fill=\"#c271d2\" fill-rule=\"evenodd\" fill-opacity=\"0.5\" stroke=\"#000000\" stroke-opacity=\"0.5\" stroke-width=\"3.2\"/>\n",
       "<polyline clip-path=\"url(#clip842)\" style=\"stroke:#ac8d18; stroke-width:4; stroke-opacity:0.5; fill:none\" points=\"\n",
       "  905.773,467.986 2014.19,1445.72 \n",
       "  \"/>\n",
       "<circle clip-path=\"url(#clip842)\" cx=\"905.773\" cy=\"467.986\" r=\"14\" fill=\"#ac8d18\" fill-rule=\"evenodd\" fill-opacity=\"0.5\" stroke=\"#000000\" stroke-opacity=\"0.5\" stroke-width=\"3.2\"/>\n",
       "<circle clip-path=\"url(#clip842)\" cx=\"2014.19\" cy=\"1445.72\" r=\"14\" fill=\"#ac8d18\" fill-rule=\"evenodd\" fill-opacity=\"0.5\" stroke=\"#000000\" stroke-opacity=\"0.5\" stroke-width=\"3.2\"/>\n",
       "</svg>\n"
      ]
     },
     "execution_count": 111,
     "metadata": {},
     "output_type": "execute_result"
    }
   ],
   "source": [
    "plot([rand(LineSegment) for _ in 1:5])"
   ]
  },
  {
   "cell_type": "markdown",
   "metadata": {},
   "source": [
    "**To-do:** Currently, LazySets only implemnts two-dimensional line segments. It is planned to extend `LineSegment` to any dimension, and also define `LineSegment2D` with specialized methods for two-dimensions."
   ]
  },
  {
   "cell_type": "markdown",
   "metadata": {},
   "source": [
    "## Vectors"
   ]
  },
  {
   "cell_type": "markdown",
   "metadata": {},
   "source": [
    "There is no set type for a \"vector\". LazySets uses Julia's built-in array set types. Other arrays (eg. static arrays, sparse arrays) can be used as well to define and work with LazySets types."
   ]
  },
  {
   "cell_type": "markdown",
   "metadata": {},
   "source": [
    "One idea to work with \"vectors\" as a lazyset is to see them as a special case of line segments. The plot recipe can be adapted to display an arrow in one end."
   ]
  },
  {
   "cell_type": "markdown",
   "metadata": {},
   "source": [
    "## Intersections"
   ]
  },
  {
   "cell_type": "markdown",
   "metadata": {},
   "source": [
    "Intersections between set types can be computed with the function `intersection`. \n",
    "\n",
    "*Note.* For more advanced use cases, there is a lazy intersection operation, `Intersection`."
   ]
  },
  {
   "cell_type": "markdown",
   "metadata": {},
   "source": [
    "Our second example is to compute the intersection between the hyperplane $H = \\{(x, y) \\in \\mathbb{R}^2 : x = y\\}$ and the line segment $L = \\{ p \\in \\mathbb{R}^2 : p = \\lambda (b - a) + a,~~\\lambda \\in [0, 1]\\}$, where $a = (0, -0.5)$ and $b = (0, 1)$. The solution is the origin, $(0, 0)$."
   ]
  },
  {
   "cell_type": "code",
   "execution_count": 72,
   "metadata": {},
   "outputs": [
    {
     "data": {
      "text/plain": [
       "LineSegment{Float64,Array{Float64,1}}([-0.5, 0.5], [0.5, 0.0])"
      ]
     },
     "execution_count": 72,
     "metadata": {},
     "output_type": "execute_result"
    }
   ],
   "source": [
    "L1 = LineSegment([0.0, -0.5], [0.0, 1.0])\n",
    "L2 = LineSegment([-0.5, 0.5], [0.5, 0.0])"
   ]
  },
  {
   "cell_type": "code",
   "execution_count": 74,
   "metadata": {},
   "outputs": [
    {
     "data": {
      "text/plain": [
       "Singleton{Float64,Array{Float64,1}}([0.0, 0.25])"
      ]
     },
     "execution_count": 74,
     "metadata": {},
     "output_type": "execute_result"
    }
   ],
   "source": [
    "Y = intersection(L1, L2)"
   ]
  },
  {
   "cell_type": "code",
   "execution_count": 75,
   "metadata": {},
   "outputs": [
    {
     "data": {
      "image/svg+xml": [
       "<?xml version=\"1.0\" encoding=\"utf-8\"?>\n",
       "<svg xmlns=\"http://www.w3.org/2000/svg\" xmlns:xlink=\"http://www.w3.org/1999/xlink\" width=\"600\" height=\"400\" viewBox=\"0 0 2400 1600\">\n",
       "<defs>\n",
       "  <clipPath id=\"clip360\">\n",
       "    <rect x=\"0\" y=\"0\" width=\"2400\" height=\"1600\"/>\n",
       "  </clipPath>\n",
       "</defs>\n",
       "<path clip-path=\"url(#clip360)\" d=\"\n",
       "M0 1600 L2400 1600 L2400 0 L0 0  Z\n",
       "  \" fill=\"#ffffff\" fill-rule=\"evenodd\" fill-opacity=\"1\"/>\n",
       "<defs>\n",
       "  <clipPath id=\"clip361\">\n",
       "    <rect x=\"480\" y=\"0\" width=\"1681\" height=\"1600\"/>\n",
       "  </clipPath>\n",
       "</defs>\n",
       "<path clip-path=\"url(#clip360)\" d=\"\n",
       "M162.802 1486.45 L2352.76 1486.45 L2352.76 47.2441 L162.802 47.2441  Z\n",
       "  \" fill=\"#ffffff\" fill-rule=\"evenodd\" fill-opacity=\"1\"/>\n",
       "<defs>\n",
       "  <clipPath id=\"clip362\">\n",
       "    <rect x=\"162\" y=\"47\" width=\"2191\" height=\"1440\"/>\n",
       "  </clipPath>\n",
       "</defs>\n",
       "<polyline clip-path=\"url(#clip362)\" style=\"stroke:#000000; stroke-width:2; stroke-opacity:0.1; fill:none\" points=\"\n",
       "  431.381,1486.45 431.381,47.2441 \n",
       "  \"/>\n",
       "<polyline clip-path=\"url(#clip362)\" style=\"stroke:#000000; stroke-width:2; stroke-opacity:0.1; fill:none\" points=\"\n",
       "  844.58,1486.45 844.58,47.2441 \n",
       "  \"/>\n",
       "<polyline clip-path=\"url(#clip362)\" style=\"stroke:#000000; stroke-width:2; stroke-opacity:0.1; fill:none\" points=\"\n",
       "  1257.78,1486.45 1257.78,47.2441 \n",
       "  \"/>\n",
       "<polyline clip-path=\"url(#clip362)\" style=\"stroke:#000000; stroke-width:2; stroke-opacity:0.1; fill:none\" points=\"\n",
       "  1670.98,1486.45 1670.98,47.2441 \n",
       "  \"/>\n",
       "<polyline clip-path=\"url(#clip362)\" style=\"stroke:#000000; stroke-width:2; stroke-opacity:0.1; fill:none\" points=\"\n",
       "  2084.18,1486.45 2084.18,47.2441 \n",
       "  \"/>\n",
       "<polyline clip-path=\"url(#clip362)\" style=\"stroke:#000000; stroke-width:2; stroke-opacity:0.1; fill:none\" points=\"\n",
       "  162.802,1264.68 2352.76,1264.68 \n",
       "  \"/>\n",
       "<polyline clip-path=\"url(#clip362)\" style=\"stroke:#000000; stroke-width:2; stroke-opacity:0.1; fill:none\" points=\"\n",
       "  162.802,993.136 2352.76,993.136 \n",
       "  \"/>\n",
       "<polyline clip-path=\"url(#clip362)\" style=\"stroke:#000000; stroke-width:2; stroke-opacity:0.1; fill:none\" points=\"\n",
       "  162.802,721.588 2352.76,721.588 \n",
       "  \"/>\n",
       "<polyline clip-path=\"url(#clip362)\" style=\"stroke:#000000; stroke-width:2; stroke-opacity:0.1; fill:none\" points=\"\n",
       "  162.802,450.04 2352.76,450.04 \n",
       "  \"/>\n",
       "<polyline clip-path=\"url(#clip362)\" style=\"stroke:#000000; stroke-width:2; stroke-opacity:0.1; fill:none\" points=\"\n",
       "  162.802,178.492 2352.76,178.492 \n",
       "  \"/>\n",
       "<polyline clip-path=\"url(#clip360)\" style=\"stroke:#000000; stroke-width:4; stroke-opacity:1; fill:none\" points=\"\n",
       "  162.802,1486.45 2352.76,1486.45 \n",
       "  \"/>\n",
       "<polyline clip-path=\"url(#clip360)\" style=\"stroke:#000000; stroke-width:4; stroke-opacity:1; fill:none\" points=\"\n",
       "  162.802,1486.45 162.802,47.2441 \n",
       "  \"/>\n",
       "<polyline clip-path=\"url(#clip360)\" style=\"stroke:#000000; stroke-width:4; stroke-opacity:1; fill:none\" points=\"\n",
       "  431.381,1486.45 431.381,1469.18 \n",
       "  \"/>\n",
       "<polyline clip-path=\"url(#clip360)\" style=\"stroke:#000000; stroke-width:4; stroke-opacity:1; fill:none\" points=\"\n",
       "  844.58,1486.45 844.58,1469.18 \n",
       "  \"/>\n",
       "<polyline clip-path=\"url(#clip360)\" style=\"stroke:#000000; stroke-width:4; stroke-opacity:1; fill:none\" points=\"\n",
       "  1257.78,1486.45 1257.78,1469.18 \n",
       "  \"/>\n",
       "<polyline clip-path=\"url(#clip360)\" style=\"stroke:#000000; stroke-width:4; stroke-opacity:1; fill:none\" points=\"\n",
       "  1670.98,1486.45 1670.98,1469.18 \n",
       "  \"/>\n",
       "<polyline clip-path=\"url(#clip360)\" style=\"stroke:#000000; stroke-width:4; stroke-opacity:1; fill:none\" points=\"\n",
       "  2084.18,1486.45 2084.18,1469.18 \n",
       "  \"/>\n",
       "<polyline clip-path=\"url(#clip360)\" style=\"stroke:#000000; stroke-width:4; stroke-opacity:1; fill:none\" points=\"\n",
       "  162.802,1264.68 189.081,1264.68 \n",
       "  \"/>\n",
       "<polyline clip-path=\"url(#clip360)\" style=\"stroke:#000000; stroke-width:4; stroke-opacity:1; fill:none\" points=\"\n",
       "  162.802,993.136 189.081,993.136 \n",
       "  \"/>\n",
       "<polyline clip-path=\"url(#clip360)\" style=\"stroke:#000000; stroke-width:4; stroke-opacity:1; fill:none\" points=\"\n",
       "  162.802,721.588 189.081,721.588 \n",
       "  \"/>\n",
       "<polyline clip-path=\"url(#clip360)\" style=\"stroke:#000000; stroke-width:4; stroke-opacity:1; fill:none\" points=\"\n",
       "  162.802,450.04 189.081,450.04 \n",
       "  \"/>\n",
       "<polyline clip-path=\"url(#clip360)\" style=\"stroke:#000000; stroke-width:4; stroke-opacity:1; fill:none\" points=\"\n",
       "  162.802,178.492 189.081,178.492 \n",
       "  \"/>\n",
       "<path clip-path=\"url(#clip360)\" d=\"M 0 0 M392.909 1525.04 L405.386 1525.04 L405.386 1528.83 L392.909 1528.83 L392.909 1525.04 Z\" fill=\"#000000\" fill-rule=\"evenodd\" fill-opacity=\"1\" /><path clip-path=\"url(#clip360)\" d=\"M 0 0 M420.455 1508.44 Q416.844 1508.44 415.016 1512 Q413.21 1515.55 413.21 1522.67 Q413.21 1529.78 415.016 1533.35 Q416.844 1536.89 420.455 1536.89 Q424.09 1536.89 425.895 1533.35 Q427.724 1529.78 427.724 1522.67 Q427.724 1515.55 425.895 1512 Q424.09 1508.44 420.455 1508.44 M420.455 1504.73 Q426.265 1504.73 429.321 1509.34 Q432.4 1513.92 432.4 1522.67 Q432.4 1531.4 429.321 1536.01 Q426.265 1540.59 420.455 1540.59 Q414.645 1540.59 411.566 1536.01 Q408.511 1531.4 408.511 1522.67 Q408.511 1513.92 411.566 1509.34 Q414.645 1504.73 420.455 1504.73 Z\" fill=\"#000000\" fill-rule=\"evenodd\" fill-opacity=\"1\" /><path clip-path=\"url(#clip360)\" d=\"M 0 0 M437.469 1534.04 L442.353 1534.04 L442.353 1539.92 L437.469 1539.92 L437.469 1534.04 Z\" fill=\"#000000\" fill-rule=\"evenodd\" fill-opacity=\"1\" /><path clip-path=\"url(#clip360)\" d=\"M 0 0 M460.27 1509.43 L448.464 1527.88 L460.27 1527.88 L460.27 1509.43 M459.043 1505.36 L464.923 1505.36 L464.923 1527.88 L469.853 1527.88 L469.853 1531.77 L464.923 1531.77 L464.923 1539.92 L460.27 1539.92 L460.27 1531.77 L444.668 1531.77 L444.668 1527.26 L459.043 1505.36 Z\" fill=\"#000000\" fill-rule=\"evenodd\" fill-opacity=\"1\" /><path clip-path=\"url(#clip360)\" d=\"M 0 0 M807.15 1525.04 L819.626 1525.04 L819.626 1528.83 L807.15 1528.83 L807.15 1525.04 Z\" fill=\"#000000\" fill-rule=\"evenodd\" fill-opacity=\"1\" /><path clip-path=\"url(#clip360)\" d=\"M 0 0 M834.696 1508.44 Q831.085 1508.44 829.256 1512 Q827.45 1515.55 827.45 1522.67 Q827.45 1529.78 829.256 1533.35 Q831.085 1536.89 834.696 1536.89 Q838.33 1536.89 840.136 1533.35 Q841.964 1529.78 841.964 1522.67 Q841.964 1515.55 840.136 1512 Q838.33 1508.44 834.696 1508.44 M834.696 1504.73 Q840.506 1504.73 843.562 1509.34 Q846.64 1513.92 846.64 1522.67 Q846.64 1531.4 843.562 1536.01 Q840.506 1540.59 834.696 1540.59 Q828.886 1540.59 825.807 1536.01 Q822.751 1531.4 822.751 1522.67 Q822.751 1513.92 825.807 1509.34 Q828.886 1504.73 834.696 1504.73 Z\" fill=\"#000000\" fill-rule=\"evenodd\" fill-opacity=\"1\" /><path clip-path=\"url(#clip360)\" d=\"M 0 0 M851.71 1534.04 L856.594 1534.04 L856.594 1539.92 L851.71 1539.92 L851.71 1534.04 Z\" fill=\"#000000\" fill-rule=\"evenodd\" fill-opacity=\"1\" /><path clip-path=\"url(#clip360)\" d=\"M 0 0 M865.691 1535.98 L882.01 1535.98 L882.01 1539.92 L860.066 1539.92 L860.066 1535.98 Q862.728 1533.23 867.311 1528.6 Q871.918 1523.95 873.098 1522.61 Q875.344 1520.08 876.223 1518.35 Q877.126 1516.59 877.126 1514.9 Q877.126 1512.14 875.182 1510.41 Q873.26 1508.67 870.159 1508.67 Q867.96 1508.67 865.506 1509.43 Q863.075 1510.2 860.298 1511.75 L860.298 1507.03 Q863.122 1505.89 865.575 1505.31 Q868.029 1504.73 870.066 1504.73 Q875.436 1504.73 878.631 1507.42 Q881.825 1510.11 881.825 1514.6 Q881.825 1516.73 881.015 1518.65 Q880.228 1520.54 878.122 1523.14 Q877.543 1523.81 874.441 1527.03 Q871.339 1530.22 865.691 1535.98 Z\" fill=\"#000000\" fill-rule=\"evenodd\" fill-opacity=\"1\" /><path clip-path=\"url(#clip360)\" d=\"M 0 0 M1239.3 1508.44 Q1235.68 1508.44 1233.86 1512 Q1232.05 1515.55 1232.05 1522.67 Q1232.05 1529.78 1233.86 1533.35 Q1235.68 1536.89 1239.3 1536.89 Q1242.93 1536.89 1244.73 1533.35 Q1246.56 1529.78 1246.56 1522.67 Q1246.56 1515.55 1244.73 1512 Q1242.93 1508.44 1239.3 1508.44 M1239.3 1504.73 Q1245.11 1504.73 1248.16 1509.34 Q1251.24 1513.92 1251.24 1522.67 Q1251.24 1531.4 1248.16 1536.01 Q1245.11 1540.59 1239.3 1540.59 Q1233.49 1540.59 1230.41 1536.01 Q1227.35 1531.4 1227.35 1522.67 Q1227.35 1513.92 1230.41 1509.34 Q1233.49 1504.73 1239.3 1504.73 Z\" fill=\"#000000\" fill-rule=\"evenodd\" fill-opacity=\"1\" /><path clip-path=\"url(#clip360)\" d=\"M 0 0 M1256.31 1534.04 L1261.19 1534.04 L1261.19 1539.92 L1256.31 1539.92 L1256.31 1534.04 Z\" fill=\"#000000\" fill-rule=\"evenodd\" fill-opacity=\"1\" /><path clip-path=\"url(#clip360)\" d=\"M 0 0 M1276.26 1508.44 Q1272.65 1508.44 1270.82 1512 Q1269.02 1515.55 1269.02 1522.67 Q1269.02 1529.78 1270.82 1533.35 Q1272.65 1536.89 1276.26 1536.89 Q1279.9 1536.89 1281.7 1533.35 Q1283.53 1529.78 1283.53 1522.67 Q1283.53 1515.55 1281.7 1512 Q1279.9 1508.44 1276.26 1508.44 M1276.26 1504.73 Q1282.07 1504.73 1285.13 1509.34 Q1288.21 1513.92 1288.21 1522.67 Q1288.21 1531.4 1285.13 1536.01 Q1282.07 1540.59 1276.26 1540.59 Q1270.45 1540.59 1267.37 1536.01 Q1264.32 1531.4 1264.32 1522.67 Q1264.32 1513.92 1267.37 1509.34 Q1270.45 1504.73 1276.26 1504.73 Z\" fill=\"#000000\" fill-rule=\"evenodd\" fill-opacity=\"1\" /><path clip-path=\"url(#clip360)\" d=\"M 0 0 M1653.29 1508.44 Q1649.68 1508.44 1647.85 1512 Q1646.05 1515.55 1646.05 1522.67 Q1646.05 1529.78 1647.85 1533.35 Q1649.68 1536.89 1653.29 1536.89 Q1656.93 1536.89 1658.73 1533.35 Q1660.56 1529.78 1660.56 1522.67 Q1660.56 1515.55 1658.73 1512 Q1656.93 1508.44 1653.29 1508.44 M1653.29 1504.73 Q1659.1 1504.73 1662.16 1509.34 Q1665.24 1513.92 1665.24 1522.67 Q1665.24 1531.4 1662.16 1536.01 Q1659.1 1540.59 1653.29 1540.59 Q1647.48 1540.59 1644.4 1536.01 Q1641.35 1531.4 1641.35 1522.67 Q1641.35 1513.92 1644.4 1509.34 Q1647.48 1504.73 1653.29 1504.73 Z\" fill=\"#000000\" fill-rule=\"evenodd\" fill-opacity=\"1\" /><path clip-path=\"url(#clip360)\" d=\"M 0 0 M1670.31 1534.04 L1675.19 1534.04 L1675.19 1539.92 L1670.31 1539.92 L1670.31 1534.04 Z\" fill=\"#000000\" fill-rule=\"evenodd\" fill-opacity=\"1\" /><path clip-path=\"url(#clip360)\" d=\"M 0 0 M1684.29 1535.98 L1700.61 1535.98 L1700.61 1539.92 L1678.66 1539.92 L1678.66 1535.98 Q1681.32 1533.23 1685.91 1528.6 Q1690.51 1523.95 1691.7 1522.61 Q1693.94 1520.08 1694.82 1518.35 Q1695.72 1516.59 1695.72 1514.9 Q1695.72 1512.14 1693.78 1510.41 Q1691.86 1508.67 1688.76 1508.67 Q1686.56 1508.67 1684.1 1509.43 Q1681.67 1510.2 1678.89 1511.75 L1678.89 1507.03 Q1681.72 1505.89 1684.17 1505.31 Q1686.63 1504.73 1688.66 1504.73 Q1694.03 1504.73 1697.23 1507.42 Q1700.42 1510.11 1700.42 1514.6 Q1700.42 1516.73 1699.61 1518.65 Q1698.82 1520.54 1696.72 1523.14 Q1696.14 1523.81 1693.04 1527.03 Q1689.94 1530.22 1684.29 1535.98 Z\" fill=\"#000000\" fill-rule=\"evenodd\" fill-opacity=\"1\" /><path clip-path=\"url(#clip360)\" d=\"M 0 0 M2065.45 1508.44 Q2061.84 1508.44 2060.01 1512 Q2058.2 1515.55 2058.2 1522.67 Q2058.2 1529.78 2060.01 1533.35 Q2061.84 1536.89 2065.45 1536.89 Q2069.08 1536.89 2070.89 1533.35 Q2072.72 1529.78 2072.72 1522.67 Q2072.72 1515.55 2070.89 1512 Q2069.08 1508.44 2065.45 1508.44 M2065.45 1504.73 Q2071.26 1504.73 2074.32 1509.34 Q2077.39 1513.92 2077.39 1522.67 Q2077.39 1531.4 2074.32 1536.01 Q2071.26 1540.59 2065.45 1540.59 Q2059.64 1540.59 2056.56 1536.01 Q2053.51 1531.4 2053.51 1522.67 Q2053.51 1513.92 2056.56 1509.34 Q2059.64 1504.73 2065.45 1504.73 Z\" fill=\"#000000\" fill-rule=\"evenodd\" fill-opacity=\"1\" /><path clip-path=\"url(#clip360)\" d=\"M 0 0 M2082.46 1534.04 L2087.35 1534.04 L2087.35 1539.92 L2082.46 1539.92 L2082.46 1534.04 Z\" fill=\"#000000\" fill-rule=\"evenodd\" fill-opacity=\"1\" /><path clip-path=\"url(#clip360)\" d=\"M 0 0 M2105.26 1509.43 L2093.46 1527.88 L2105.26 1527.88 L2105.26 1509.43 M2104.04 1505.36 L2109.92 1505.36 L2109.92 1527.88 L2114.85 1527.88 L2114.85 1531.77 L2109.92 1531.77 L2109.92 1539.92 L2105.26 1539.92 L2105.26 1531.77 L2089.66 1531.77 L2089.66 1527.26 L2104.04 1505.36 Z\" fill=\"#000000\" fill-rule=\"evenodd\" fill-opacity=\"1\" /><path clip-path=\"url(#clip360)\" d=\"M 0 0 M62.9921 1267.08 L75.4689 1267.08 L75.4689 1270.88 L62.9921 1270.88 L62.9921 1267.08 Z\" fill=\"#000000\" fill-rule=\"evenodd\" fill-opacity=\"1\" /><path clip-path=\"url(#clip360)\" d=\"M 0 0 M90.5383 1250.48 Q86.9272 1250.48 85.0985 1254.05 Q83.2929 1257.59 83.2929 1264.72 Q83.2929 1271.82 85.0985 1275.39 Q86.9272 1278.93 90.5383 1278.93 Q94.1725 1278.93 95.9781 1275.39 Q97.8068 1271.82 97.8068 1264.72 Q97.8068 1257.59 95.9781 1254.05 Q94.1725 1250.48 90.5383 1250.48 M90.5383 1246.78 Q96.3484 1246.78 99.404 1251.39 Q102.483 1255.97 102.483 1264.72 Q102.483 1273.45 99.404 1278.05 Q96.3484 1282.64 90.5383 1282.64 Q84.7281 1282.64 81.6494 1278.05 Q78.5939 1273.45 78.5939 1264.72 Q78.5939 1255.97 81.6494 1251.39 Q84.7281 1246.78 90.5383 1246.78 Z\" fill=\"#000000\" fill-rule=\"evenodd\" fill-opacity=\"1\" /><path clip-path=\"url(#clip360)\" d=\"M 0 0 M107.552 1276.08 L112.436 1276.08 L112.436 1281.96 L107.552 1281.96 L107.552 1276.08 Z\" fill=\"#000000\" fill-rule=\"evenodd\" fill-opacity=\"1\" /><path clip-path=\"url(#clip360)\" d=\"M 0 0 M131.672 1263.33 Q135.029 1264.05 136.904 1266.32 Q138.802 1268.58 138.802 1271.92 Q138.802 1277.03 135.283 1279.83 Q131.765 1282.64 125.283 1282.64 Q123.108 1282.64 120.793 1282.2 Q118.501 1281.78 116.047 1280.92 L116.047 1276.41 Q117.992 1277.54 120.307 1278.12 Q122.621 1278.7 125.145 1278.7 Q129.543 1278.7 131.834 1276.96 Q134.149 1275.23 134.149 1271.92 Q134.149 1268.86 131.996 1267.15 Q129.867 1265.41 126.047 1265.41 L122.02 1265.41 L122.02 1261.57 L126.233 1261.57 Q129.682 1261.57 131.51 1260.2 Q133.339 1258.82 133.339 1256.22 Q133.339 1253.56 131.441 1252.15 Q129.566 1250.71 126.047 1250.71 Q124.126 1250.71 121.927 1251.13 Q119.728 1251.55 117.089 1252.43 L117.089 1248.26 Q119.751 1247.52 122.066 1247.15 Q124.404 1246.78 126.464 1246.78 Q131.788 1246.78 134.89 1249.21 Q137.992 1251.62 137.992 1255.74 Q137.992 1258.61 136.348 1260.6 Q134.705 1262.57 131.672 1263.33 Z\" fill=\"#000000\" fill-rule=\"evenodd\" fill-opacity=\"1\" /><path clip-path=\"url(#clip360)\" d=\"M 0 0 M89.8901 978.935 Q86.279 978.935 84.4503 982.499 Q82.6448 986.041 82.6448 993.171 Q82.6448 1000.28 84.4503 1003.84 Q86.279 1007.38 89.8901 1007.38 Q93.5244 1007.38 95.3299 1003.84 Q97.1586 1000.28 97.1586 993.171 Q97.1586 986.041 95.3299 982.499 Q93.5244 978.935 89.8901 978.935 M89.8901 975.231 Q95.7003 975.231 98.7558 979.837 Q101.835 984.421 101.835 993.171 Q101.835 1001.9 98.7558 1006.5 Q95.7003 1011.09 89.8901 1011.09 Q84.08 1011.09 81.0013 1006.5 Q77.9457 1001.9 77.9457 993.171 Q77.9457 984.421 81.0013 979.837 Q84.08 975.231 89.8901 975.231 Z\" fill=\"#000000\" fill-rule=\"evenodd\" fill-opacity=\"1\" /><path clip-path=\"url(#clip360)\" d=\"M 0 0 M106.904 1004.54 L111.788 1004.54 L111.788 1010.42 L106.904 1010.42 L106.904 1004.54 Z\" fill=\"#000000\" fill-rule=\"evenodd\" fill-opacity=\"1\" /><path clip-path=\"url(#clip360)\" d=\"M 0 0 M126.858 978.935 Q123.246 978.935 121.418 982.499 Q119.612 986.041 119.612 993.171 Q119.612 1000.28 121.418 1003.84 Q123.246 1007.38 126.858 1007.38 Q130.492 1007.38 132.297 1003.84 Q134.126 1000.28 134.126 993.171 Q134.126 986.041 132.297 982.499 Q130.492 978.935 126.858 978.935 M126.858 975.231 Q132.668 975.231 135.723 979.837 Q138.802 984.421 138.802 993.171 Q138.802 1001.9 135.723 1006.5 Q132.668 1011.09 126.858 1011.09 Q121.047 1011.09 117.969 1006.5 Q114.913 1001.9 114.913 993.171 Q114.913 984.421 117.969 979.837 Q121.047 975.231 126.858 975.231 Z\" fill=\"#000000\" fill-rule=\"evenodd\" fill-opacity=\"1\" /><path clip-path=\"url(#clip360)\" d=\"M 0 0 M90.5383 707.387 Q86.9272 707.387 85.0985 710.951 Q83.2929 714.493 83.2929 721.623 Q83.2929 728.729 85.0985 732.294 Q86.9272 735.836 90.5383 735.836 Q94.1725 735.836 95.9781 732.294 Q97.8068 728.729 97.8068 721.623 Q97.8068 714.493 95.9781 710.951 Q94.1725 707.387 90.5383 707.387 M90.5383 703.683 Q96.3484 703.683 99.404 708.289 Q102.483 712.873 102.483 721.623 Q102.483 730.35 99.404 734.956 Q96.3484 739.539 90.5383 739.539 Q84.7281 739.539 81.6494 734.956 Q78.5939 730.35 78.5939 721.623 Q78.5939 712.873 81.6494 708.289 Q84.7281 703.683 90.5383 703.683 Z\" fill=\"#000000\" fill-rule=\"evenodd\" fill-opacity=\"1\" /><path clip-path=\"url(#clip360)\" d=\"M 0 0 M107.552 732.988 L112.436 732.988 L112.436 738.868 L107.552 738.868 L107.552 732.988 Z\" fill=\"#000000\" fill-rule=\"evenodd\" fill-opacity=\"1\" /><path clip-path=\"url(#clip360)\" d=\"M 0 0 M131.672 720.234 Q135.029 720.951 136.904 723.22 Q138.802 725.488 138.802 728.822 Q138.802 733.937 135.283 736.738 Q131.765 739.539 125.283 739.539 Q123.108 739.539 120.793 739.099 Q118.501 738.683 116.047 737.826 L116.047 733.312 Q117.992 734.447 120.307 735.025 Q122.621 735.604 125.145 735.604 Q129.543 735.604 131.834 733.868 Q134.149 732.132 134.149 728.822 Q134.149 725.766 131.996 724.053 Q129.867 722.317 126.047 722.317 L122.02 722.317 L122.02 718.475 L126.233 718.475 Q129.682 718.475 131.51 717.109 Q133.339 715.72 133.339 713.127 Q133.339 710.465 131.441 709.053 Q129.566 707.618 126.047 707.618 Q124.126 707.618 121.927 708.035 Q119.728 708.452 117.089 709.331 L117.089 705.164 Q119.751 704.424 122.066 704.053 Q124.404 703.683 126.464 703.683 Q131.788 703.683 134.89 706.114 Q137.992 708.521 137.992 712.641 Q137.992 715.512 136.348 717.502 Q134.705 719.47 131.672 720.234 Z\" fill=\"#000000\" fill-rule=\"evenodd\" fill-opacity=\"1\" /><path clip-path=\"url(#clip360)\" d=\"M 0 0 M89.7281 435.839 Q86.117 435.839 84.2883 439.404 Q82.4828 442.945 82.4828 450.075 Q82.4828 457.181 84.2883 460.746 Q86.117 464.288 89.7281 464.288 Q93.3623 464.288 95.1679 460.746 Q96.9966 457.181 96.9966 450.075 Q96.9966 442.945 95.1679 439.404 Q93.3623 435.839 89.7281 435.839 M89.7281 432.135 Q95.5382 432.135 98.5938 436.742 Q101.672 441.325 101.672 450.075 Q101.672 458.802 98.5938 463.408 Q95.5382 467.991 89.7281 467.991 Q83.9179 467.991 80.8393 463.408 Q77.7837 458.802 77.7837 450.075 Q77.7837 441.325 80.8393 436.742 Q83.9179 432.135 89.7281 432.135 Z\" fill=\"#000000\" fill-rule=\"evenodd\" fill-opacity=\"1\" /><path clip-path=\"url(#clip360)\" d=\"M 0 0 M106.742 461.441 L111.626 461.441 L111.626 467.32 L106.742 467.32 L106.742 461.441 Z\" fill=\"#000000\" fill-rule=\"evenodd\" fill-opacity=\"1\" /><path clip-path=\"url(#clip360)\" d=\"M 0 0 M127.274 448.177 Q124.126 448.177 122.274 450.329 Q120.446 452.482 120.446 456.232 Q120.446 459.959 122.274 462.135 Q124.126 464.288 127.274 464.288 Q130.422 464.288 132.251 462.135 Q134.103 459.959 134.103 456.232 Q134.103 452.482 132.251 450.329 Q130.422 448.177 127.274 448.177 M136.557 433.524 L136.557 437.783 Q134.797 436.95 132.992 436.51 Q131.209 436.07 129.45 436.07 Q124.82 436.07 122.367 439.195 Q119.936 442.32 119.589 448.64 Q120.955 446.626 123.015 445.561 Q125.075 444.473 127.552 444.473 Q132.76 444.473 135.77 447.644 Q138.802 450.792 138.802 456.232 Q138.802 461.556 135.654 464.774 Q132.506 467.991 127.274 467.991 Q121.279 467.991 118.108 463.408 Q114.936 458.802 114.936 450.075 Q114.936 441.88 118.825 437.019 Q122.714 432.135 129.265 432.135 Q131.024 432.135 132.807 432.482 Q134.612 432.83 136.557 433.524 Z\" fill=\"#000000\" fill-rule=\"evenodd\" fill-opacity=\"1\" /><path clip-path=\"url(#clip360)\" d=\"M 0 0 M90.0753 164.291 Q86.4642 164.291 84.6355 167.856 Q82.83 171.397 82.83 178.527 Q82.83 185.633 84.6355 189.198 Q86.4642 192.74 90.0753 192.74 Q93.7096 192.74 95.5151 189.198 Q97.3438 185.633 97.3438 178.527 Q97.3438 171.397 95.5151 167.856 Q93.7096 164.291 90.0753 164.291 M90.0753 160.587 Q95.8855 160.587 98.941 165.194 Q102.02 169.777 102.02 178.527 Q102.02 187.254 98.941 191.86 Q95.8855 196.444 90.0753 196.444 Q84.2652 196.444 81.1865 191.86 Q78.1309 187.254 78.1309 178.527 Q78.1309 169.777 81.1865 165.194 Q84.2652 160.587 90.0753 160.587 Z\" fill=\"#000000\" fill-rule=\"evenodd\" fill-opacity=\"1\" /><path clip-path=\"url(#clip360)\" d=\"M 0 0 M107.089 189.893 L111.973 189.893 L111.973 195.772 L107.089 195.772 L107.089 189.893 Z\" fill=\"#000000\" fill-rule=\"evenodd\" fill-opacity=\"1\" /><path clip-path=\"url(#clip360)\" d=\"M 0 0 M117.182 195.055 L117.182 190.795 Q118.941 191.629 120.746 192.069 Q122.552 192.508 124.288 192.508 Q128.918 192.508 131.348 189.407 Q133.802 186.282 134.149 179.939 Q132.807 181.93 130.746 182.995 Q128.686 184.059 126.186 184.059 Q121.001 184.059 117.969 180.934 Q114.959 177.786 114.959 172.346 Q114.959 167.022 118.108 163.805 Q121.256 160.587 126.487 160.587 Q132.482 160.587 135.631 165.194 Q138.802 169.777 138.802 178.527 Q138.802 186.698 134.913 191.582 Q131.047 196.444 124.496 196.444 Q122.737 196.444 120.932 196.096 Q119.126 195.749 117.182 195.055 M126.487 180.402 Q129.635 180.402 131.464 178.249 Q133.316 176.096 133.316 172.346 Q133.316 168.62 131.464 166.467 Q129.635 164.291 126.487 164.291 Q123.339 164.291 121.487 166.467 Q119.658 168.62 119.658 172.346 Q119.658 176.096 121.487 178.249 Q123.339 180.402 126.487 180.402 Z\" fill=\"#000000\" fill-rule=\"evenodd\" fill-opacity=\"1\" /><polyline clip-path=\"url(#clip362)\" style=\"stroke:#009af9; stroke-width:4; stroke-opacity:0.5; fill:none\" points=\"\n",
       "  1257.78,1445.72 1257.78,87.9763 \n",
       "  \"/>\n",
       "<circle clip-path=\"url(#clip362)\" cx=\"1257.78\" cy=\"1445.72\" r=\"14\" fill=\"#009af9\" fill-rule=\"evenodd\" fill-opacity=\"0.5\" stroke=\"#000000\" stroke-opacity=\"0.5\" stroke-width=\"3.2\"/>\n",
       "<circle clip-path=\"url(#clip362)\" cx=\"1257.78\" cy=\"87.9763\" r=\"14\" fill=\"#009af9\" fill-rule=\"evenodd\" fill-opacity=\"0.5\" stroke=\"#000000\" stroke-opacity=\"0.5\" stroke-width=\"3.2\"/>\n",
       "<polyline clip-path=\"url(#clip362)\" style=\"stroke:#e26f46; stroke-width:4; stroke-opacity:0.5; fill:none\" points=\"\n",
       "  224.782,540.556 2290.78,993.136 \n",
       "  \"/>\n",
       "<circle clip-path=\"url(#clip362)\" cx=\"224.782\" cy=\"540.556\" r=\"14\" fill=\"#e26f46\" fill-rule=\"evenodd\" fill-opacity=\"0.5\" stroke=\"#000000\" stroke-opacity=\"0.5\" stroke-width=\"3.2\"/>\n",
       "<circle clip-path=\"url(#clip362)\" cx=\"2290.78\" cy=\"993.136\" r=\"14\" fill=\"#e26f46\" fill-rule=\"evenodd\" fill-opacity=\"0.5\" stroke=\"#000000\" stroke-opacity=\"0.5\" stroke-width=\"3.2\"/>\n",
       "<circle clip-path=\"url(#clip362)\" cx=\"1257.78\" cy=\"766.846\" r=\"14\" fill=\"#3da44d\" fill-rule=\"evenodd\" fill-opacity=\"0.5\" stroke=\"#000000\" stroke-opacity=\"0.5\" stroke-width=\"3.2\"/>\n",
       "<path clip-path=\"url(#clip360)\" d=\"\n",
       "M1883.16 372.684 L2280.76 372.684 L2280.76 130.764 L1883.16 130.764  Z\n",
       "  \" fill=\"#ffffff\" fill-rule=\"evenodd\" fill-opacity=\"1\"/>\n",
       "<polyline clip-path=\"url(#clip360)\" style=\"stroke:#000000; stroke-width:4; stroke-opacity:1; fill:none\" points=\"\n",
       "  1883.16,372.684 2280.76,372.684 2280.76,130.764 1883.16,130.764 1883.16,372.684 \n",
       "  \"/>\n",
       "<polyline clip-path=\"url(#clip360)\" style=\"stroke:#009af9; stroke-width:4; stroke-opacity:0.5; fill:none\" points=\"\n",
       "  1907.16,191.244 2051.16,191.244 \n",
       "  \"/>\n",
       "<circle clip-path=\"url(#clip360)\" cx=\"1991.16\" cy=\"191.244\" r=\"23\" fill=\"#009af9\" fill-rule=\"evenodd\" fill-opacity=\"0.5\" stroke=\"#000000\" stroke-opacity=\"0.5\" stroke-width=\"5.12\"/>\n",
       "<path clip-path=\"url(#clip360)\" d=\"M 0 0 M2075.16 173.964 L2079.84 173.964 L2079.84 204.589 L2096.67 204.589 L2096.67 208.524 L2075.16 208.524 L2075.16 173.964 Z\" fill=\"#000000\" fill-rule=\"evenodd\" fill-opacity=\"1\" /><path clip-path=\"url(#clip360)\" d=\"M 0 0 M2102.55 204.589 L2110.19 204.589 L2110.19 178.223 L2101.88 179.89 L2101.88 175.631 L2110.14 173.964 L2114.82 173.964 L2114.82 204.589 L2122.46 204.589 L2122.46 208.524 L2102.55 208.524 L2102.55 204.589 Z\" fill=\"#000000\" fill-rule=\"evenodd\" fill-opacity=\"1\" /><polyline clip-path=\"url(#clip360)\" style=\"stroke:#e26f46; stroke-width:4; stroke-opacity:0.5; fill:none\" points=\"\n",
       "  1907.16,251.724 2051.16,251.724 \n",
       "  \"/>\n",
       "<circle clip-path=\"url(#clip360)\" cx=\"1991.16\" cy=\"251.724\" r=\"23\" fill=\"#e26f46\" fill-rule=\"evenodd\" fill-opacity=\"0.5\" stroke=\"#000000\" stroke-opacity=\"0.5\" stroke-width=\"5.12\"/>\n",
       "<path clip-path=\"url(#clip360)\" d=\"M 0 0 M2075.16 234.444 L2079.84 234.444 L2079.84 265.069 L2096.67 265.069 L2096.67 269.004 L2075.16 269.004 L2075.16 234.444 Z\" fill=\"#000000\" fill-rule=\"evenodd\" fill-opacity=\"1\" /><path clip-path=\"url(#clip360)\" d=\"M 0 0 M2105.77 265.069 L2122.09 265.069 L2122.09 269.004 L2100.14 269.004 L2100.14 265.069 Q2102.8 262.314 2107.39 257.685 Q2111.99 253.032 2113.17 251.689 Q2115.42 249.166 2116.3 247.43 Q2117.2 245.671 2117.2 243.981 Q2117.2 241.226 2115.26 239.49 Q2113.34 237.754 2110.23 237.754 Q2108.03 237.754 2105.58 238.518 Q2103.15 239.282 2100.37 240.833 L2100.37 236.111 Q2103.2 234.976 2105.65 234.398 Q2108.1 233.819 2110.14 233.819 Q2115.51 233.819 2118.71 236.504 Q2121.9 239.189 2121.9 243.68 Q2121.9 245.81 2121.09 247.731 Q2120.3 249.629 2118.2 252.222 Q2117.62 252.893 2114.52 256.111 Q2111.41 259.305 2105.77 265.069 Z\" fill=\"#000000\" fill-rule=\"evenodd\" fill-opacity=\"1\" /><circle clip-path=\"url(#clip360)\" cx=\"1991.16\" cy=\"312.204\" r=\"23\" fill=\"#3da44d\" fill-rule=\"evenodd\" fill-opacity=\"0.5\" stroke=\"#000000\" stroke-opacity=\"0.5\" stroke-width=\"5.12\"/>\n",
       "<path clip-path=\"url(#clip360)\" d=\"M 0 0 M2075.16 294.924 L2079.84 294.924 L2079.84 325.549 L2096.67 325.549 L2096.67 329.484 L2075.16 329.484 L2075.16 294.924 Z\" fill=\"#000000\" fill-rule=\"evenodd\" fill-opacity=\"1\" /><path clip-path=\"url(#clip360)\" d=\"M 0 0 M2102.55 325.549 L2110.19 325.549 L2110.19 299.183 L2101.88 300.85 L2101.88 296.591 L2110.14 294.924 L2114.82 294.924 L2114.82 325.549 L2122.46 325.549 L2122.46 329.484 L2102.55 329.484 L2102.55 325.549 Z\" fill=\"#000000\" fill-rule=\"evenodd\" fill-opacity=\"1\" /><path clip-path=\"url(#clip360)\" d=\"M 0 0 M2143.64 315.78 Q2143.64 308.929 2146.46 305.48 Q2149.31 302.031 2154.89 302.031 Q2160.44 302.031 2163.27 305.48 Q2166.11 308.929 2166.11 315.78 L2166.11 329.484 L2162.13 329.484 L2162.13 316.359 Q2162.13 310.711 2160.42 308.281 Q2158.71 305.827 2154.89 305.827 Q2151.04 305.827 2149.33 308.281 Q2147.62 310.711 2147.62 316.359 L2147.62 329.484 L2143.64 329.484 L2143.64 315.78 Z\" fill=\"#000000\" fill-rule=\"evenodd\" fill-opacity=\"1\" /><path clip-path=\"url(#clip360)\" d=\"M 0 0 M2185.83 294.924 L2190.51 294.924 L2190.51 325.549 L2207.34 325.549 L2207.34 329.484 L2185.83 329.484 L2185.83 294.924 Z\" fill=\"#000000\" fill-rule=\"evenodd\" fill-opacity=\"1\" /><path clip-path=\"url(#clip360)\" d=\"M 0 0 M2216.44 325.549 L2232.76 325.549 L2232.76 329.484 L2210.81 329.484 L2210.81 325.549 Q2213.47 322.794 2218.06 318.165 Q2222.66 313.512 2223.84 312.169 Q2226.09 309.646 2226.97 307.91 Q2227.87 306.151 2227.87 304.461 Q2227.87 301.706 2225.93 299.97 Q2224.01 298.234 2220.9 298.234 Q2218.71 298.234 2216.25 298.998 Q2213.82 299.762 2211.04 301.313 L2211.04 296.591 Q2213.87 295.456 2216.32 294.878 Q2218.77 294.299 2220.81 294.299 Q2226.18 294.299 2229.38 296.984 Q2232.57 299.669 2232.57 304.16 Q2232.57 306.29 2231.76 308.211 Q2230.97 310.109 2228.87 312.702 Q2228.29 313.373 2225.19 316.591 Q2222.08 319.785 2216.44 325.549 Z\" fill=\"#000000\" fill-rule=\"evenodd\" fill-opacity=\"1\" /></svg>\n"
      ]
     },
     "execution_count": 75,
     "metadata": {},
     "output_type": "execute_result"
    }
   ],
   "source": [
    "plot(L1, lab=\"L1\")\n",
    "plot!(L2, lab=\"L2\")\n",
    "plot!(Y, lab=\"L1 ∩ L2\")"
   ]
  },
  {
   "cell_type": "markdown",
   "metadata": {},
   "source": [
    "---"
   ]
  },
  {
   "cell_type": "markdown",
   "metadata": {},
   "source": [
    "Our second example is to compute the intersection between the hyperplane $H = \\{(x, y) \\in \\mathbb{R}^2 : x = y\\}$ and the line segment $L = \\{ p \\in \\mathbb{R}^2 : p = \\lambda (b - a) + a,~~\\lambda \\in [0, 1]\\}$, where $a = (0, -0.5)$ and $b = (0, 1)$. The solution is the origin, $(0, 0)$."
   ]
  },
  {
   "cell_type": "code",
   "execution_count": 63,
   "metadata": {},
   "outputs": [
    {
     "data": {
      "text/plain": [
       "Hyperplane{Float64,Array{Float64,1}}([1.0, -1.0], -0.0)"
      ]
     },
     "execution_count": 63,
     "metadata": {},
     "output_type": "execute_result"
    }
   ],
   "source": [
    "H = Hyperplane(x == y, var)"
   ]
  },
  {
   "cell_type": "code",
   "execution_count": 64,
   "metadata": {},
   "outputs": [
    {
     "data": {
      "text/plain": [
       "LineSegment{Float64,Array{Float64,1}}([0.0, -0.5], [0.0, 1.0])"
      ]
     },
     "execution_count": 64,
     "metadata": {},
     "output_type": "execute_result"
    }
   ],
   "source": [
    "L = LineSegment([0.0, -0.5], [0.0, 1.0])"
   ]
  },
  {
   "cell_type": "code",
   "execution_count": 65,
   "metadata": {},
   "outputs": [
    {
     "data": {
      "text/plain": [
       "HPolytope{Float64,Array{Float64,1}}(HalfSpace{Float64,Array{Float64,1}}[HalfSpace{Float64,Array{Float64,1}}([1.0, -1.0], -0.0), HalfSpace{Float64,Array{Float64,1}}([-1.0, 1.0], 0.0), HalfSpace{Float64,Array{Float64,1}}([1.5, 0.0], 0.0), HalfSpace{Float64,Array{Float64,1}}([-1.5, 0.0], 0.0)])"
      ]
     },
     "execution_count": 65,
     "metadata": {},
     "output_type": "execute_result"
    }
   ],
   "source": [
    "Y = intersection(H, L)"
   ]
  },
  {
   "cell_type": "code",
   "execution_count": 67,
   "metadata": {},
   "outputs": [
    {
     "data": {
      "text/plain": [
       "1-element Array{Array{Float64,1},1}:\n",
       " [0.0, 0.0]"
      ]
     },
     "execution_count": 67,
     "metadata": {},
     "output_type": "execute_result"
    }
   ],
   "source": [
    "vertices_list(Y)"
   ]
  },
  {
   "cell_type": "markdown",
   "metadata": {},
   "source": [
    "**To-Do:** Specialize method for 2d line segment intersection with 2d hyperplane."
   ]
  },
  {
   "cell_type": "code",
   "execution_count": 69,
   "metadata": {},
   "outputs": [
    {
     "data": {
      "image/svg+xml": [
       "<?xml version=\"1.0\" encoding=\"utf-8\"?>\n",
       "<svg xmlns=\"http://www.w3.org/2000/svg\" xmlns:xlink=\"http://www.w3.org/1999/xlink\" width=\"600\" height=\"400\" viewBox=\"0 0 2400 1600\">\n",
       "<defs>\n",
       "  <clipPath id=\"clip320\">\n",
       "    <rect x=\"0\" y=\"0\" width=\"2400\" height=\"1600\"/>\n",
       "  </clipPath>\n",
       "</defs>\n",
       "<path clip-path=\"url(#clip320)\" d=\"\n",
       "M0 1600 L2400 1600 L2400 0 L0 0  Z\n",
       "  \" fill=\"#ffffff\" fill-rule=\"evenodd\" fill-opacity=\"1\"/>\n",
       "<defs>\n",
       "  <clipPath id=\"clip321\">\n",
       "    <rect x=\"480\" y=\"0\" width=\"1681\" height=\"1600\"/>\n",
       "  </clipPath>\n",
       "</defs>\n",
       "<path clip-path=\"url(#clip320)\" d=\"\n",
       "M162.455 1486.45 L2352.76 1486.45 L2352.76 47.2441 L162.455 47.2441  Z\n",
       "  \" fill=\"#ffffff\" fill-rule=\"evenodd\" fill-opacity=\"1\"/>\n",
       "<defs>\n",
       "  <clipPath id=\"clip322\">\n",
       "    <rect x=\"162\" y=\"47\" width=\"2191\" height=\"1440\"/>\n",
       "  </clipPath>\n",
       "</defs>\n",
       "<polyline clip-path=\"url(#clip322)\" style=\"stroke:#000000; stroke-width:2; stroke-opacity:0.1; fill:none\" points=\"\n",
       "  162.455,1486.45 162.455,47.2441 \n",
       "  \"/>\n",
       "<polyline clip-path=\"url(#clip322)\" style=\"stroke:#000000; stroke-width:2; stroke-opacity:0.1; fill:none\" points=\"\n",
       "  710.03,1486.45 710.03,47.2441 \n",
       "  \"/>\n",
       "<polyline clip-path=\"url(#clip322)\" style=\"stroke:#000000; stroke-width:2; stroke-opacity:0.1; fill:none\" points=\"\n",
       "  1257.61,1486.45 1257.61,47.2441 \n",
       "  \"/>\n",
       "<polyline clip-path=\"url(#clip322)\" style=\"stroke:#000000; stroke-width:2; stroke-opacity:0.1; fill:none\" points=\"\n",
       "  1805.18,1486.45 1805.18,47.2441 \n",
       "  \"/>\n",
       "<polyline clip-path=\"url(#clip322)\" style=\"stroke:#000000; stroke-width:2; stroke-opacity:0.1; fill:none\" points=\"\n",
       "  2352.76,1486.45 2352.76,47.2441 \n",
       "  \"/>\n",
       "<polyline clip-path=\"url(#clip322)\" style=\"stroke:#000000; stroke-width:2; stroke-opacity:0.1; fill:none\" points=\"\n",
       "  162.455,1486.45 2352.76,1486.45 \n",
       "  \"/>\n",
       "<polyline clip-path=\"url(#clip322)\" style=\"stroke:#000000; stroke-width:2; stroke-opacity:0.1; fill:none\" points=\"\n",
       "  162.455,1143.78 2352.76,1143.78 \n",
       "  \"/>\n",
       "<polyline clip-path=\"url(#clip322)\" style=\"stroke:#000000; stroke-width:2; stroke-opacity:0.1; fill:none\" points=\"\n",
       "  162.455,801.113 2352.76,801.113 \n",
       "  \"/>\n",
       "<polyline clip-path=\"url(#clip322)\" style=\"stroke:#000000; stroke-width:2; stroke-opacity:0.1; fill:none\" points=\"\n",
       "  162.455,458.445 2352.76,458.445 \n",
       "  \"/>\n",
       "<polyline clip-path=\"url(#clip322)\" style=\"stroke:#000000; stroke-width:2; stroke-opacity:0.1; fill:none\" points=\"\n",
       "  162.455,115.778 2352.76,115.778 \n",
       "  \"/>\n",
       "<polyline clip-path=\"url(#clip320)\" style=\"stroke:#000000; stroke-width:4; stroke-opacity:1; fill:none\" points=\"\n",
       "  162.455,1486.45 2352.76,1486.45 \n",
       "  \"/>\n",
       "<polyline clip-path=\"url(#clip320)\" style=\"stroke:#000000; stroke-width:4; stroke-opacity:1; fill:none\" points=\"\n",
       "  162.455,1486.45 162.455,47.2441 \n",
       "  \"/>\n",
       "<polyline clip-path=\"url(#clip320)\" style=\"stroke:#000000; stroke-width:4; stroke-opacity:1; fill:none\" points=\"\n",
       "  162.455,1486.45 162.455,1469.18 \n",
       "  \"/>\n",
       "<polyline clip-path=\"url(#clip320)\" style=\"stroke:#000000; stroke-width:4; stroke-opacity:1; fill:none\" points=\"\n",
       "  710.03,1486.45 710.03,1469.18 \n",
       "  \"/>\n",
       "<polyline clip-path=\"url(#clip320)\" style=\"stroke:#000000; stroke-width:4; stroke-opacity:1; fill:none\" points=\"\n",
       "  1257.61,1486.45 1257.61,1469.18 \n",
       "  \"/>\n",
       "<polyline clip-path=\"url(#clip320)\" style=\"stroke:#000000; stroke-width:4; stroke-opacity:1; fill:none\" points=\"\n",
       "  1805.18,1486.45 1805.18,1469.18 \n",
       "  \"/>\n",
       "<polyline clip-path=\"url(#clip320)\" style=\"stroke:#000000; stroke-width:4; stroke-opacity:1; fill:none\" points=\"\n",
       "  2352.76,1486.45 2352.76,1469.18 \n",
       "  \"/>\n",
       "<polyline clip-path=\"url(#clip320)\" style=\"stroke:#000000; stroke-width:4; stroke-opacity:1; fill:none\" points=\"\n",
       "  162.455,1486.45 188.738,1486.45 \n",
       "  \"/>\n",
       "<polyline clip-path=\"url(#clip320)\" style=\"stroke:#000000; stroke-width:4; stroke-opacity:1; fill:none\" points=\"\n",
       "  162.455,1143.78 188.738,1143.78 \n",
       "  \"/>\n",
       "<polyline clip-path=\"url(#clip320)\" style=\"stroke:#000000; stroke-width:4; stroke-opacity:1; fill:none\" points=\"\n",
       "  162.455,801.113 188.738,801.113 \n",
       "  \"/>\n",
       "<polyline clip-path=\"url(#clip320)\" style=\"stroke:#000000; stroke-width:4; stroke-opacity:1; fill:none\" points=\"\n",
       "  162.455,458.445 188.738,458.445 \n",
       "  \"/>\n",
       "<polyline clip-path=\"url(#clip320)\" style=\"stroke:#000000; stroke-width:4; stroke-opacity:1; fill:none\" points=\"\n",
       "  162.455,115.778 188.738,115.778 \n",
       "  \"/>\n",
       "<path clip-path=\"url(#clip320)\" d=\"M 0 0 M124.839 1525.04 L137.316 1525.04 L137.316 1528.83 L124.839 1528.83 L124.839 1525.04 Z\" fill=\"#000000\" fill-rule=\"evenodd\" fill-opacity=\"1\" /><path clip-path=\"url(#clip320)\" d=\"M 0 0 M143.196 1535.98 L150.834 1535.98 L150.834 1509.62 L142.524 1511.29 L142.524 1507.03 L150.788 1505.36 L155.464 1505.36 L155.464 1535.98 L163.103 1535.98 L163.103 1539.92 L143.196 1539.92 L143.196 1535.98 Z\" fill=\"#000000\" fill-rule=\"evenodd\" fill-opacity=\"1\" /><path clip-path=\"url(#clip320)\" d=\"M 0 0 M168.172 1534.04 L173.056 1534.04 L173.056 1539.92 L168.172 1539.92 L168.172 1534.04 Z\" fill=\"#000000\" fill-rule=\"evenodd\" fill-opacity=\"1\" /><path clip-path=\"url(#clip320)\" d=\"M 0 0 M188.126 1508.44 Q184.515 1508.44 182.686 1512 Q180.881 1515.55 180.881 1522.67 Q180.881 1529.78 182.686 1533.35 Q184.515 1536.89 188.126 1536.89 Q191.76 1536.89 193.566 1533.35 Q195.394 1529.78 195.394 1522.67 Q195.394 1515.55 193.566 1512 Q191.76 1508.44 188.126 1508.44 M188.126 1504.73 Q193.936 1504.73 196.992 1509.34 Q200.07 1513.92 200.07 1522.67 Q200.07 1531.4 196.992 1536.01 Q193.936 1540.59 188.126 1540.59 Q182.316 1540.59 179.237 1536.01 Q176.181 1531.4 176.181 1522.67 Q176.181 1513.92 179.237 1509.34 Q182.316 1504.73 188.126 1504.73 Z\" fill=\"#000000\" fill-rule=\"evenodd\" fill-opacity=\"1\" /><path clip-path=\"url(#clip320)\" d=\"M 0 0 M672.299 1525.04 L684.775 1525.04 L684.775 1528.83 L672.299 1528.83 L672.299 1525.04 Z\" fill=\"#000000\" fill-rule=\"evenodd\" fill-opacity=\"1\" /><path clip-path=\"url(#clip320)\" d=\"M 0 0 M699.845 1508.44 Q696.234 1508.44 694.405 1512 Q692.6 1515.55 692.6 1522.67 Q692.6 1529.78 694.405 1533.35 Q696.234 1536.89 699.845 1536.89 Q703.479 1536.89 705.285 1533.35 Q707.113 1529.78 707.113 1522.67 Q707.113 1515.55 705.285 1512 Q703.479 1508.44 699.845 1508.44 M699.845 1504.73 Q705.655 1504.73 708.711 1509.34 Q711.789 1513.92 711.789 1522.67 Q711.789 1531.4 708.711 1536.01 Q705.655 1540.59 699.845 1540.59 Q694.035 1540.59 690.956 1536.01 Q687.9 1531.4 687.9 1522.67 Q687.9 1513.92 690.956 1509.34 Q694.035 1504.73 699.845 1504.73 Z\" fill=\"#000000\" fill-rule=\"evenodd\" fill-opacity=\"1\" /><path clip-path=\"url(#clip320)\" d=\"M 0 0 M716.859 1534.04 L721.743 1534.04 L721.743 1539.92 L716.859 1539.92 L716.859 1534.04 Z\" fill=\"#000000\" fill-rule=\"evenodd\" fill-opacity=\"1\" /><path clip-path=\"url(#clip320)\" d=\"M 0 0 M726.859 1505.36 L745.215 1505.36 L745.215 1509.3 L731.141 1509.3 L731.141 1517.77 Q732.16 1517.42 733.178 1517.26 Q734.197 1517.07 735.215 1517.07 Q741.002 1517.07 744.382 1520.24 Q747.761 1523.42 747.761 1528.83 Q747.761 1534.41 744.289 1537.51 Q740.817 1540.59 734.497 1540.59 Q732.322 1540.59 730.053 1540.22 Q727.808 1539.85 725.4 1539.11 L725.4 1534.41 Q727.484 1535.54 729.706 1536.1 Q731.928 1536.66 734.405 1536.66 Q738.409 1536.66 740.747 1534.55 Q743.085 1532.44 743.085 1528.83 Q743.085 1525.22 740.747 1523.11 Q738.409 1521.01 734.405 1521.01 Q732.53 1521.01 730.655 1521.42 Q728.803 1521.84 726.859 1522.72 L726.859 1505.36 Z\" fill=\"#000000\" fill-rule=\"evenodd\" fill-opacity=\"1\" /><path clip-path=\"url(#clip320)\" d=\"M 0 0 M1239.12 1508.44 Q1235.51 1508.44 1233.68 1512 Q1231.88 1515.55 1231.88 1522.67 Q1231.88 1529.78 1233.68 1533.35 Q1235.51 1536.89 1239.12 1536.89 Q1242.76 1536.89 1244.56 1533.35 Q1246.39 1529.78 1246.39 1522.67 Q1246.39 1515.55 1244.56 1512 Q1242.76 1508.44 1239.12 1508.44 M1239.12 1504.73 Q1244.93 1504.73 1247.99 1509.34 Q1251.07 1513.92 1251.07 1522.67 Q1251.07 1531.4 1247.99 1536.01 Q1244.93 1540.59 1239.12 1540.59 Q1233.31 1540.59 1230.23 1536.01 Q1227.18 1531.4 1227.18 1522.67 Q1227.18 1513.92 1230.23 1509.34 Q1233.31 1504.73 1239.12 1504.73 Z\" fill=\"#000000\" fill-rule=\"evenodd\" fill-opacity=\"1\" /><path clip-path=\"url(#clip320)\" d=\"M 0 0 M1256.14 1534.04 L1261.02 1534.04 L1261.02 1539.92 L1256.14 1539.92 L1256.14 1534.04 Z\" fill=\"#000000\" fill-rule=\"evenodd\" fill-opacity=\"1\" /><path clip-path=\"url(#clip320)\" d=\"M 0 0 M1276.09 1508.44 Q1272.48 1508.44 1270.65 1512 Q1268.84 1515.55 1268.84 1522.67 Q1268.84 1529.78 1270.65 1533.35 Q1272.48 1536.89 1276.09 1536.89 Q1279.72 1536.89 1281.53 1533.35 Q1283.36 1529.78 1283.36 1522.67 Q1283.36 1515.55 1281.53 1512 Q1279.72 1508.44 1276.09 1508.44 M1276.09 1504.73 Q1281.9 1504.73 1284.95 1509.34 Q1288.03 1513.92 1288.03 1522.67 Q1288.03 1531.4 1284.95 1536.01 Q1281.9 1540.59 1276.09 1540.59 Q1270.28 1540.59 1267.2 1536.01 Q1264.14 1531.4 1264.14 1522.67 Q1264.14 1513.92 1267.2 1509.34 Q1270.28 1504.73 1276.09 1504.73 Z\" fill=\"#000000\" fill-rule=\"evenodd\" fill-opacity=\"1\" /><path clip-path=\"url(#clip320)\" d=\"M 0 0 M1787.19 1508.44 Q1783.58 1508.44 1781.75 1512 Q1779.95 1515.55 1779.95 1522.67 Q1779.95 1529.78 1781.75 1533.35 Q1783.58 1536.89 1787.19 1536.89 Q1790.83 1536.89 1792.63 1533.35 Q1794.46 1529.78 1794.46 1522.67 Q1794.46 1515.55 1792.63 1512 Q1790.83 1508.44 1787.19 1508.44 M1787.19 1504.73 Q1793 1504.73 1796.06 1509.34 Q1799.14 1513.92 1799.14 1522.67 Q1799.14 1531.4 1796.06 1536.01 Q1793 1540.59 1787.19 1540.59 Q1781.38 1540.59 1778.31 1536.01 Q1775.25 1531.4 1775.25 1522.67 Q1775.25 1513.92 1778.31 1509.34 Q1781.38 1504.73 1787.19 1504.73 Z\" fill=\"#000000\" fill-rule=\"evenodd\" fill-opacity=\"1\" /><path clip-path=\"url(#clip320)\" d=\"M 0 0 M1804.21 1534.04 L1809.09 1534.04 L1809.09 1539.92 L1804.21 1539.92 L1804.21 1534.04 Z\" fill=\"#000000\" fill-rule=\"evenodd\" fill-opacity=\"1\" /><path clip-path=\"url(#clip320)\" d=\"M 0 0 M1814.21 1505.36 L1832.56 1505.36 L1832.56 1509.3 L1818.49 1509.3 L1818.49 1517.77 Q1819.51 1517.42 1820.53 1517.26 Q1821.55 1517.07 1822.56 1517.07 Q1828.35 1517.07 1831.73 1520.24 Q1835.11 1523.42 1835.11 1528.83 Q1835.11 1534.41 1831.64 1537.51 Q1828.17 1540.59 1821.85 1540.59 Q1819.67 1540.59 1817.4 1540.22 Q1815.16 1539.85 1812.75 1539.11 L1812.75 1534.41 Q1814.83 1535.54 1817.06 1536.1 Q1819.28 1536.66 1821.75 1536.66 Q1825.76 1536.66 1828.1 1534.55 Q1830.44 1532.44 1830.44 1528.83 Q1830.44 1525.22 1828.1 1523.11 Q1825.76 1521.01 1821.75 1521.01 Q1819.88 1521.01 1818 1521.42 Q1816.15 1521.84 1814.21 1522.72 L1814.21 1505.36 Z\" fill=\"#000000\" fill-rule=\"evenodd\" fill-opacity=\"1\" /><path clip-path=\"url(#clip320)\" d=\"M 0 0 M2324.65 1535.98 L2332.29 1535.98 L2332.29 1509.62 L2323.98 1511.29 L2323.98 1507.03 L2332.25 1505.36 L2336.92 1505.36 L2336.92 1535.98 L2344.56 1535.98 L2344.56 1539.92 L2324.65 1539.92 L2324.65 1535.98 Z\" fill=\"#000000\" fill-rule=\"evenodd\" fill-opacity=\"1\" /><path clip-path=\"url(#clip320)\" d=\"M 0 0 M2349.63 1534.04 L2354.52 1534.04 L2354.52 1539.92 L2349.63 1539.92 L2349.63 1534.04 Z\" fill=\"#000000\" fill-rule=\"evenodd\" fill-opacity=\"1\" /><path clip-path=\"url(#clip320)\" d=\"M 0 0 M2369.58 1508.44 Q2365.97 1508.44 2364.14 1512 Q2362.34 1515.55 2362.34 1522.67 Q2362.34 1529.78 2364.14 1533.35 Q2365.97 1536.89 2369.58 1536.89 Q2373.22 1536.89 2375.02 1533.35 Q2376.85 1529.78 2376.85 1522.67 Q2376.85 1515.55 2375.02 1512 Q2373.22 1508.44 2369.58 1508.44 M2369.58 1504.73 Q2375.39 1504.73 2378.45 1509.34 Q2381.53 1513.92 2381.53 1522.67 Q2381.53 1531.4 2378.45 1536.01 Q2375.39 1540.59 2369.58 1540.59 Q2363.77 1540.59 2360.7 1536.01 Q2357.64 1531.4 2357.64 1522.67 Q2357.64 1513.92 2360.7 1509.34 Q2363.77 1504.73 2369.58 1504.73 Z\" fill=\"#000000\" fill-rule=\"evenodd\" fill-opacity=\"1\" /><path clip-path=\"url(#clip320)\" d=\"M 0 0 M63.2236 1488.84 L75.7004 1488.84 L75.7004 1492.64 L63.2236 1492.64 L63.2236 1488.84 Z\" fill=\"#000000\" fill-rule=\"evenodd\" fill-opacity=\"1\" /><path clip-path=\"url(#clip320)\" d=\"M 0 0 M81.58 1499.79 L89.2188 1499.79 L89.2188 1473.43 L80.9087 1475.09 L80.9087 1470.83 L89.1725 1469.17 L93.8484 1469.17 L93.8484 1499.79 L101.487 1499.79 L101.487 1503.73 L81.58 1503.73 L81.58 1499.79 Z\" fill=\"#000000\" fill-rule=\"evenodd\" fill-opacity=\"1\" /><path clip-path=\"url(#clip320)\" d=\"M 0 0 M106.557 1497.85 L111.441 1497.85 L111.441 1503.73 L106.557 1503.73 L106.557 1497.85 Z\" fill=\"#000000\" fill-rule=\"evenodd\" fill-opacity=\"1\" /><path clip-path=\"url(#clip320)\" d=\"M 0 0 M126.51 1472.25 Q122.899 1472.25 121.071 1475.81 Q119.265 1479.35 119.265 1486.48 Q119.265 1493.59 121.071 1497.15 Q122.899 1500.7 126.51 1500.7 Q130.145 1500.7 131.95 1497.15 Q133.779 1493.59 133.779 1486.48 Q133.779 1479.35 131.95 1475.81 Q130.145 1472.25 126.51 1472.25 M126.51 1468.54 Q132.32 1468.54 135.376 1473.15 Q138.455 1477.73 138.455 1486.48 Q138.455 1495.21 135.376 1499.82 Q132.32 1504.4 126.51 1504.4 Q120.7 1504.4 117.621 1499.82 Q114.566 1495.21 114.566 1486.48 Q114.566 1477.73 117.621 1473.15 Q120.7 1468.54 126.51 1468.54 Z\" fill=\"#000000\" fill-rule=\"evenodd\" fill-opacity=\"1\" /><path clip-path=\"url(#clip320)\" d=\"M 0 0 M62.9921 1146.18 L75.4689 1146.18 L75.4689 1149.97 L62.9921 1149.97 L62.9921 1146.18 Z\" fill=\"#000000\" fill-rule=\"evenodd\" fill-opacity=\"1\" /><path clip-path=\"url(#clip320)\" d=\"M 0 0 M90.5383 1129.58 Q86.9272 1129.58 85.0985 1133.14 Q83.2929 1136.69 83.2929 1143.82 Q83.2929 1150.92 85.0985 1154.49 Q86.9272 1158.03 90.5383 1158.03 Q94.1725 1158.03 95.9781 1154.49 Q97.8068 1150.92 97.8068 1143.82 Q97.8068 1136.69 95.9781 1133.14 Q94.1725 1129.58 90.5383 1129.58 M90.5383 1125.88 Q96.3484 1125.88 99.404 1130.48 Q102.483 1135.07 102.483 1143.82 Q102.483 1152.54 99.404 1157.15 Q96.3484 1161.73 90.5383 1161.73 Q84.7281 1161.73 81.6494 1157.15 Q78.5939 1152.54 78.5939 1143.82 Q78.5939 1135.07 81.6494 1130.48 Q84.7281 1125.88 90.5383 1125.88 Z\" fill=\"#000000\" fill-rule=\"evenodd\" fill-opacity=\"1\" /><path clip-path=\"url(#clip320)\" d=\"M 0 0 M107.552 1155.18 L112.436 1155.18 L112.436 1161.06 L107.552 1161.06 L107.552 1155.18 Z\" fill=\"#000000\" fill-rule=\"evenodd\" fill-opacity=\"1\" /><path clip-path=\"url(#clip320)\" d=\"M 0 0 M117.552 1126.5 L135.908 1126.5 L135.908 1130.44 L121.834 1130.44 L121.834 1138.91 Q122.853 1138.56 123.871 1138.4 Q124.89 1138.21 125.908 1138.21 Q131.695 1138.21 135.075 1141.38 Q138.455 1144.56 138.455 1149.97 Q138.455 1155.55 134.982 1158.65 Q131.51 1161.73 125.191 1161.73 Q123.015 1161.73 120.746 1161.36 Q118.501 1160.99 116.094 1160.25 L116.094 1155.55 Q118.177 1156.69 120.399 1157.24 Q122.621 1157.8 125.098 1157.8 Q129.103 1157.8 131.441 1155.69 Q133.779 1153.58 133.779 1149.97 Q133.779 1146.36 131.441 1144.25 Q129.103 1142.15 125.098 1142.15 Q123.223 1142.15 121.348 1142.57 Q119.496 1142.98 117.552 1143.86 L117.552 1126.5 Z\" fill=\"#000000\" fill-rule=\"evenodd\" fill-opacity=\"1\" /><path clip-path=\"url(#clip320)\" d=\"M 0 0 M89.5429 786.911 Q85.9318 786.911 84.1031 790.476 Q82.2976 794.018 82.2976 801.147 Q82.2976 808.254 84.1031 811.819 Q85.9318 815.36 89.5429 815.36 Q93.1771 815.36 94.9827 811.819 Q96.8114 808.254 96.8114 801.147 Q96.8114 794.018 94.9827 790.476 Q93.1771 786.911 89.5429 786.911 M89.5429 783.208 Q95.3531 783.208 98.4086 787.814 Q101.487 792.398 101.487 801.147 Q101.487 809.874 98.4086 814.481 Q95.3531 819.064 89.5429 819.064 Q83.7328 819.064 80.6541 814.481 Q77.5985 809.874 77.5985 801.147 Q77.5985 792.398 80.6541 787.814 Q83.7328 783.208 89.5429 783.208 Z\" fill=\"#000000\" fill-rule=\"evenodd\" fill-opacity=\"1\" /><path clip-path=\"url(#clip320)\" d=\"M 0 0 M106.557 812.513 L111.441 812.513 L111.441 818.393 L106.557 818.393 L106.557 812.513 Z\" fill=\"#000000\" fill-rule=\"evenodd\" fill-opacity=\"1\" /><path clip-path=\"url(#clip320)\" d=\"M 0 0 M126.51 786.911 Q122.899 786.911 121.071 790.476 Q119.265 794.018 119.265 801.147 Q119.265 808.254 121.071 811.819 Q122.899 815.36 126.51 815.36 Q130.145 815.36 131.95 811.819 Q133.779 808.254 133.779 801.147 Q133.779 794.018 131.95 790.476 Q130.145 786.911 126.51 786.911 M126.51 783.208 Q132.32 783.208 135.376 787.814 Q138.455 792.398 138.455 801.147 Q138.455 809.874 135.376 814.481 Q132.32 819.064 126.51 819.064 Q120.7 819.064 117.621 814.481 Q114.566 809.874 114.566 801.147 Q114.566 792.398 117.621 787.814 Q120.7 783.208 126.51 783.208 Z\" fill=\"#000000\" fill-rule=\"evenodd\" fill-opacity=\"1\" /><path clip-path=\"url(#clip320)\" d=\"M 0 0 M90.5383 444.244 Q86.9272 444.244 85.0985 447.809 Q83.2929 451.35 83.2929 458.48 Q83.2929 465.586 85.0985 469.151 Q86.9272 472.693 90.5383 472.693 Q94.1725 472.693 95.9781 469.151 Q97.8068 465.586 97.8068 458.48 Q97.8068 451.35 95.9781 447.809 Q94.1725 444.244 90.5383 444.244 M90.5383 440.54 Q96.3484 440.54 99.404 445.147 Q102.483 449.73 102.483 458.48 Q102.483 467.207 99.404 471.813 Q96.3484 476.396 90.5383 476.396 Q84.7281 476.396 81.6494 471.813 Q78.5939 467.207 78.5939 458.48 Q78.5939 449.73 81.6494 445.147 Q84.7281 440.54 90.5383 440.54 Z\" fill=\"#000000\" fill-rule=\"evenodd\" fill-opacity=\"1\" /><path clip-path=\"url(#clip320)\" d=\"M 0 0 M107.552 469.846 L112.436 469.846 L112.436 475.725 L107.552 475.725 L107.552 469.846 Z\" fill=\"#000000\" fill-rule=\"evenodd\" fill-opacity=\"1\" /><path clip-path=\"url(#clip320)\" d=\"M 0 0 M117.552 441.165 L135.908 441.165 L135.908 445.1 L121.834 445.1 L121.834 453.573 Q122.853 453.225 123.871 453.063 Q124.89 452.878 125.908 452.878 Q131.695 452.878 135.075 456.049 Q138.455 459.221 138.455 464.637 Q138.455 470.216 134.982 473.318 Q131.51 476.396 125.191 476.396 Q123.015 476.396 120.746 476.026 Q118.501 475.656 116.094 474.915 L116.094 470.216 Q118.177 471.35 120.399 471.906 Q122.621 472.461 125.098 472.461 Q129.103 472.461 131.441 470.355 Q133.779 468.248 133.779 464.637 Q133.779 461.026 131.441 458.92 Q129.103 456.813 125.098 456.813 Q123.223 456.813 121.348 457.23 Q119.496 457.647 117.552 458.526 L117.552 441.165 Z\" fill=\"#000000\" fill-rule=\"evenodd\" fill-opacity=\"1\" /><path clip-path=\"url(#clip320)\" d=\"M 0 0 M81.58 129.122 L89.2188 129.122 L89.2188 102.757 L80.9087 104.424 L80.9087 100.164 L89.1725 98.4976 L93.8484 98.4976 L93.8484 129.122 L101.487 129.122 L101.487 133.058 L81.58 133.058 L81.58 129.122 Z\" fill=\"#000000\" fill-rule=\"evenodd\" fill-opacity=\"1\" /><path clip-path=\"url(#clip320)\" d=\"M 0 0 M106.557 127.178 L111.441 127.178 L111.441 133.058 L106.557 133.058 L106.557 127.178 Z\" fill=\"#000000\" fill-rule=\"evenodd\" fill-opacity=\"1\" /><path clip-path=\"url(#clip320)\" d=\"M 0 0 M126.51 101.576 Q122.899 101.576 121.071 105.141 Q119.265 108.683 119.265 115.812 Q119.265 122.919 121.071 126.484 Q122.899 130.025 126.51 130.025 Q130.145 130.025 131.95 126.484 Q133.779 122.919 133.779 115.812 Q133.779 108.683 131.95 105.141 Q130.145 101.576 126.51 101.576 M126.51 97.8726 Q132.32 97.8726 135.376 102.479 Q138.455 107.062 138.455 115.812 Q138.455 124.539 135.376 129.146 Q132.32 133.729 126.51 133.729 Q120.7 133.729 117.621 129.146 Q114.566 124.539 114.566 115.812 Q114.566 107.062 117.621 102.479 Q120.7 97.8726 126.51 97.8726 Z\" fill=\"#000000\" fill-rule=\"evenodd\" fill-opacity=\"1\" /><polyline clip-path=\"url(#clip322)\" style=\"stroke:#009af9; stroke-width:4; stroke-opacity:0.5; fill:none\" points=\"\n",
       "  -1.09499e+06,686822 1.0975e+06,-685219 \n",
       "  \"/>\n",
       "<polyline clip-path=\"url(#clip322)\" style=\"stroke:#e26f46; stroke-width:4; stroke-opacity:0.5; fill:none\" points=\"\n",
       "  1257.61,1143.78 1257.61,115.778 \n",
       "  \"/>\n",
       "<circle clip-path=\"url(#clip322)\" cx=\"1257.61\" cy=\"1143.78\" r=\"14\" fill=\"#e26f46\" fill-rule=\"evenodd\" fill-opacity=\"0.5\" stroke=\"#000000\" stroke-opacity=\"0.5\" stroke-width=\"3.2\"/>\n",
       "<circle clip-path=\"url(#clip322)\" cx=\"1257.61\" cy=\"115.778\" r=\"14\" fill=\"#e26f46\" fill-rule=\"evenodd\" fill-opacity=\"0.5\" stroke=\"#000000\" stroke-opacity=\"0.5\" stroke-width=\"3.2\"/>\n",
       "<circle clip-path=\"url(#clip322)\" cx=\"1257.61\" cy=\"801.113\" r=\"14\" fill=\"#3da44d\" fill-rule=\"evenodd\" fill-opacity=\"0.5\" stroke=\"#000000\" stroke-opacity=\"0.5\" stroke-width=\"3.2\"/>\n",
       "<path clip-path=\"url(#clip320)\" d=\"\n",
       "M1821.15 372.684 L2280.76 372.684 L2280.76 130.764 L1821.15 130.764  Z\n",
       "  \" fill=\"#ffffff\" fill-rule=\"evenodd\" fill-opacity=\"1\"/>\n",
       "<polyline clip-path=\"url(#clip320)\" style=\"stroke:#000000; stroke-width:4; stroke-opacity:1; fill:none\" points=\"\n",
       "  1821.15,372.684 2280.76,372.684 2280.76,130.764 1821.15,130.764 1821.15,372.684 \n",
       "  \"/>\n",
       "<polyline clip-path=\"url(#clip320)\" style=\"stroke:#009af9; stroke-width:4; stroke-opacity:0.5; fill:none\" points=\"\n",
       "  1845.15,191.244 1989.15,191.244 \n",
       "  \"/>\n",
       "<circle clip-path=\"url(#clip320)\" cx=\"1929.15\" cy=\"191.244\" r=\"23\" fill=\"#009af9\" fill-rule=\"evenodd\" fill-opacity=\"0.5\" stroke=\"#000000\" stroke-opacity=\"0.5\" stroke-width=\"5.12\"/>\n",
       "<path clip-path=\"url(#clip320)\" d=\"M 0 0 M2013.15 173.964 L2017.83 173.964 L2017.83 188.131 L2034.82 188.131 L2034.82 173.964 L2039.49 173.964 L2039.49 208.524 L2034.82 208.524 L2034.82 192.066 L2017.83 192.066 L2017.83 208.524 L2013.15 208.524 L2013.15 173.964 Z\" fill=\"#000000\" fill-rule=\"evenodd\" fill-opacity=\"1\" /><path clip-path=\"url(#clip320)\" d=\"M 0 0 M2060.12 202.644 L2065 202.644 L2065 208.524 L2060.12 208.524 L2060.12 202.644 M2060.12 184.01 L2065 184.01 L2065 189.89 L2060.12 189.89 L2060.12 184.01 Z\" fill=\"#000000\" fill-rule=\"evenodd\" fill-opacity=\"1\" /><path clip-path=\"url(#clip320)\" d=\"M 0 0 M2106.09 182.598 L2096.71 195.214 L2106.58 208.524 L2101.55 208.524 L2094.01 198.339 L2086.46 208.524 L2081.44 208.524 L2091.51 194.959 L2082.29 182.598 L2087.32 182.598 L2094.19 191.834 L2101.07 182.598 L2106.09 182.598 Z\" fill=\"#000000\" fill-rule=\"evenodd\" fill-opacity=\"1\" /><path clip-path=\"url(#clip320)\" d=\"M 0 0 M2126.67 186.996 L2156.34 186.996 L2156.34 190.885 L2126.67 190.885 L2126.67 186.996 M2126.67 196.441 L2156.34 196.441 L2156.34 200.376 L2126.67 200.376 L2126.67 196.441 Z\" fill=\"#000000\" fill-rule=\"evenodd\" fill-opacity=\"1\" /><path clip-path=\"url(#clip320)\" d=\"M 0 0 M2161.37 186.996 L2191.04 186.996 L2191.04 190.885 L2161.37 190.885 L2161.37 186.996 M2161.37 196.441 L2191.04 196.441 L2191.04 200.376 L2161.37 200.376 L2161.37 196.441 Z\" fill=\"#000000\" fill-rule=\"evenodd\" fill-opacity=\"1\" /><path clip-path=\"url(#clip320)\" d=\"M 0 0 M2221.37 210.931 Q2219.56 215.561 2217.85 216.973 Q2216.14 218.385 2213.27 218.385 L2209.86 218.385 L2209.86 214.82 L2212.36 214.82 Q2214.12 214.82 2215.09 213.987 Q2216.07 213.154 2217.25 210.052 L2218.01 208.107 L2207.52 182.598 L2212.04 182.598 L2220.14 202.876 L2228.24 182.598 L2232.76 182.598 L2221.37 210.931 Z\" fill=\"#000000\" fill-rule=\"evenodd\" fill-opacity=\"1\" /><polyline clip-path=\"url(#clip320)\" style=\"stroke:#e26f46; stroke-width:4; stroke-opacity:0.5; fill:none\" points=\"\n",
       "  1845.15,251.724 1989.15,251.724 \n",
       "  \"/>\n",
       "<circle clip-path=\"url(#clip320)\" cx=\"1929.15\" cy=\"251.724\" r=\"23\" fill=\"#e26f46\" fill-rule=\"evenodd\" fill-opacity=\"0.5\" stroke=\"#000000\" stroke-opacity=\"0.5\" stroke-width=\"5.12\"/>\n",
       "<path clip-path=\"url(#clip320)\" d=\"M 0 0 M2013.15 234.444 L2017.83 234.444 L2017.83 265.069 L2034.66 265.069 L2034.66 269.004 L2013.15 269.004 L2013.15 234.444 Z\" fill=\"#000000\" fill-rule=\"evenodd\" fill-opacity=\"1\" /><circle clip-path=\"url(#clip320)\" cx=\"1929.15\" cy=\"312.204\" r=\"23\" fill=\"#3da44d\" fill-rule=\"evenodd\" fill-opacity=\"0.5\" stroke=\"#000000\" stroke-opacity=\"0.5\" stroke-width=\"5.12\"/>\n",
       "<path clip-path=\"url(#clip320)\" d=\"M 0 0 M2013.15 294.924 L2017.83 294.924 L2017.83 325.549 L2034.66 325.549 L2034.66 329.484 L2013.15 329.484 L2013.15 294.924 Z\" fill=\"#000000\" fill-rule=\"evenodd\" fill-opacity=\"1\" /><path clip-path=\"url(#clip320)\" d=\"M 0 0 M2055.84 315.78 Q2055.84 308.929 2058.66 305.48 Q2061.51 302.031 2067.09 302.031 Q2072.64 302.031 2075.47 305.48 Q2078.31 308.929 2078.31 315.78 L2078.31 329.484 L2074.33 329.484 L2074.33 316.359 Q2074.33 310.711 2072.62 308.281 Q2070.9 305.827 2067.09 305.827 Q2063.24 305.827 2061.53 308.281 Q2059.82 310.711 2059.82 316.359 L2059.82 329.484 L2055.84 329.484 L2055.84 315.78 Z\" fill=\"#000000\" fill-rule=\"evenodd\" fill-opacity=\"1\" /><path clip-path=\"url(#clip320)\" d=\"M 0 0 M2098.03 294.924 L2102.71 294.924 L2102.71 309.091 L2119.7 309.091 L2119.7 294.924 L2124.38 294.924 L2124.38 329.484 L2119.7 329.484 L2119.7 313.026 L2102.71 313.026 L2102.71 329.484 L2098.03 329.484 L2098.03 294.924 Z\" fill=\"#000000\" fill-rule=\"evenodd\" fill-opacity=\"1\" /></svg>\n"
      ]
     },
     "execution_count": 69,
     "metadata": {},
     "output_type": "execute_result"
    }
   ],
   "source": [
    "plot(H, lab=\"H : x == y\")\n",
    "plot!(L, lab=\"L\")\n",
    "plot!(Y, lab=\"L ∩ H\")"
   ]
  },
  {
   "cell_type": "markdown",
   "metadata": {},
   "source": [
    "## Dot product"
   ]
  },
  {
   "cell_type": "code",
   "execution_count": null,
   "metadata": {},
   "outputs": [],
   "source": []
  },
  {
   "cell_type": "markdown",
   "metadata": {},
   "source": [
    "## Cross product"
   ]
  },
  {
   "cell_type": "code",
   "execution_count": null,
   "metadata": {},
   "outputs": [],
   "source": []
  }
 ],
 "metadata": {
  "kernelspec": {
   "display_name": "Julia 1.5.0-beta1",
   "language": "julia",
   "name": "julia-1.5"
  },
  "language_info": {
   "file_extension": ".jl",
   "mimetype": "application/julia",
   "name": "julia",
   "version": "1.5.0"
  }
 },
 "nbformat": 4,
 "nbformat_minor": 2
}
