{
 "cells": [
  {
   "cell_type": "code",
   "execution_count": 23,
   "metadata": {},
   "outputs": [],
   "source": [
    "using LazySets, BenchmarkTools, Test, StaticArrays, LinearAlgebra"
   ]
  },
  {
   "cell_type": "code",
   "execution_count": 90,
   "metadata": {},
   "outputs": [
    {
     "data": {
      "text/plain": [
       "_is_intersection_empty_v3 (generic function with 1 method)"
      ]
     },
     "execution_count": 90,
     "metadata": {},
     "output_type": "execute_result"
    }
   ],
   "source": [
    "function _is_intersection_empty_v1(Z::Zonotope{N},\n",
    "                                H::Hyperplane{N}\n",
    "                              ) where {N<:Real}\n",
    "\n",
    "    v = H.b - dot(H.a, Z.center)\n",
    "    p = ngens(Z)\n",
    "    if p == 0\n",
    "        abs_sum = zero(N)\n",
    "    else\n",
    "        abs_sum = sum(abs, transpose(H.a) * Z.generators)        \n",
    "        #abs_sum = sum(abs(dot(H.a, Z.generators[:, i])) for i = 1:ngens(Z))\n",
    "    end\n",
    "    return v < -abs_sum || v > abs_sum\n",
    "end\n",
    "\n",
    "function _is_intersection_empty_v2(Z::Zonotope{N},\n",
    "                                   H::Hyperplane{N}\n",
    "                                   ) where {N<:Real}\n",
    "\n",
    "    c, G = Z.center, Z.generators\n",
    "    v = H.b - dot(H.a, c)\n",
    "\n",
    "    n, p = size(G)\n",
    "    if p == 0\n",
    "        abs_sum = zero(N)\n",
    "    else\n",
    "        #abs_sum = sum(abs, transpose(H.a) * Z.generators)        \n",
    "        #abs_sum = sum(abs(dot(H.a, Z.generators[:, i])) for i = 1:ngens(Z))\n",
    "        \n",
    "        abs_sum = zero(N)\n",
    "        @avx for i in 1:n\n",
    "            aux = zero(N)\n",
    "            for j in 1:p\n",
    "                aux += H.a[i] * G[j, i]\n",
    "            end\n",
    "            abs_sum += abs(aux)\n",
    "        end\n",
    "    end\n",
    "    #return v < -abs_sum || v > abs_sum\n",
    "    return !_geq(v, -abs_sum) || !_leq(v, abs_sum)\n",
    "end\n",
    "\n",
    "using LazySets: _leq, _geq\n",
    "function _is_intersection_empty_v3(Z::Zonotope{N},\n",
    "                                   H::Hyperplane{N}\n",
    "                                   ) where {N<:Real}\n",
    "\n",
    "    c, G = Z.center, Z.generators\n",
    "    v = H.b - dot(H.a, c)\n",
    "\n",
    "    n, p = size(G)\n",
    "    abs_sum = zero(N)\n",
    "    if p > 0\n",
    "        @inbounds for i in 1:n\n",
    "            aux = zero(N)\n",
    "            @simd for j in 1:p\n",
    "                aux += H.a[i] * G[j, i]\n",
    "            end\n",
    "            abs_sum += abs(aux)\n",
    "        end\n",
    "    end\n",
    "    return !_geq(v, -abs_sum) || !_leq(v, abs_sum)\n",
    "end"
   ]
  },
  {
   "cell_type": "markdown",
   "metadata": {},
   "source": [
    "## Robustness"
   ]
  },
  {
   "cell_type": "code",
   "execution_count": 14,
   "metadata": {},
   "outputs": [],
   "source": [
    "using Plots"
   ]
  },
  {
   "cell_type": "code",
   "execution_count": 81,
   "metadata": {},
   "outputs": [
    {
     "name": "stdout",
     "output_type": "stream",
     "text": [
      "isdisjoint(Z, G) = true\n",
      "_is_intersection_empty_v3(Z, G) = true\n"
     ]
    },
    {
     "data": {
      "text/plain": [
       "true"
      ]
     },
     "execution_count": 81,
     "metadata": {},
     "output_type": "execute_result"
    }
   ],
   "source": [
    "p = Float64(π)\n",
    "G = Hyperplane([1.0, 0.0], p + 1e-12) # x = π\n",
    "Z = convert(Zonotope, Hyperrectangle(low=[p-1, p-1], high=[p, p]))\n",
    "plot(Z, lab=\"Z\")\n",
    "plot!(G, lab=\"G\", lw=10.0)\n",
    "\n",
    "@show isdisjoint(Z, G)\n",
    "@show _is_intersection_empty_v3(Z, G)"
   ]
  },
  {
   "cell_type": "code",
   "execution_count": 78,
   "metadata": {},
   "outputs": [
    {
     "data": {
      "text/plain": [
       "1.4901161193847656e-8"
      ]
     },
     "execution_count": 78,
     "metadata": {},
     "output_type": "execute_result"
    }
   ],
   "source": [
    "LazySets._rtol(Float64)"
   ]
  },
  {
   "cell_type": "code",
   "execution_count": 85,
   "metadata": {},
   "outputs": [
    {
     "data": {
      "text/plain": [
       "1.0e-9"
      ]
     },
     "execution_count": 85,
     "metadata": {},
     "output_type": "execute_result"
    }
   ],
   "source": [
    "LazySets.set_rtol(Float64, 1e-9)"
   ]
  },
  {
   "cell_type": "code",
   "execution_count": 86,
   "metadata": {},
   "outputs": [
    {
     "name": "stdout",
     "output_type": "stream",
     "text": [
      "isdisjoint(Z, G) = true\n",
      "_is_intersection_empty_v3(Z, G) = false\n"
     ]
    },
    {
     "data": {
      "text/plain": [
       "false"
      ]
     },
     "execution_count": 86,
     "metadata": {},
     "output_type": "execute_result"
    }
   ],
   "source": [
    "p = Float64(π)\n",
    "G = Hyperplane([1.0, 0.0], p - 1e-10) # x = π\n",
    "Z = convert(Zonotope, Hyperrectangle(low=[p, p], high=[p+1, p+1]))\n",
    "plot(Z, lab=\"Z\")\n",
    "plot!(G, lab=\"G\", lw=10.0)\n",
    "\n",
    "@show isdisjoint(Z, G)\n",
    "@show _is_intersection_empty_v3(Z, G)"
   ]
  },
  {
   "cell_type": "markdown",
   "metadata": {},
   "source": [
    "## Dimension 2"
   ]
  },
  {
   "cell_type": "code",
   "execution_count": 87,
   "metadata": {},
   "outputs": [
    {
     "name": "stdout",
     "output_type": "stream",
     "text": [
      "  471.015 ns (10 allocations: 960 bytes)\n",
      "  23.803 ns (0 allocations: 0 bytes)\n",
      "  121.679 ns (1 allocation: 160 bytes)\n",
      "  6.937 ns (0 allocations: 0 bytes)\n",
      "  29.834 ns (0 allocations: 0 bytes)\n",
      "  5.172 ns (0 allocations: 0 bytes)\n",
      "  29.341 ns (0 allocations: 0 bytes)\n",
      "  4.917 ns (0 allocations: 0 bytes)\n"
     ]
    },
    {
     "data": {
      "text/plain": [
       "false"
      ]
     },
     "execution_count": 87,
     "metadata": {},
     "output_type": "execute_result"
    }
   ],
   "source": [
    "n = 2\n",
    "\n",
    "Z = rand(Zonotope, num_generators=5*n, dim=n)\n",
    "G = rand(Hyperplane, dim=n)\n",
    "\n",
    "@btime is_intersection_empty($Z, $G)\n",
    "\n",
    "# static\n",
    "p = size(Z.generators, 2);\n",
    "Zs = Zonotope(SVector{n}(Z.center), SMatrix{n, p, Float64}(Z.generators));\n",
    "Gs = Hyperplane(SVector{n}(G.a), G.b);\n",
    "\n",
    "@btime is_intersection_empty($Zs, $Gs)\n",
    "\n",
    "# new function\n",
    "@btime _is_intersection_empty_v1($Z, $G)\n",
    "@btime _is_intersection_empty_v1($Zs, $Gs)\n",
    "\n",
    "# new function\n",
    "@btime _is_intersection_empty_v2($Z, $G)\n",
    "@btime _is_intersection_empty_v2($Zs, $Gs)\n",
    "\n",
    "# final function\n",
    "@btime _is_intersection_empty_v3($Z, $G)\n",
    "@btime _is_intersection_empty_v3($Zs, $Gs)"
   ]
  },
  {
   "cell_type": "markdown",
   "metadata": {},
   "source": [
    "sin `@simd`\n",
    "\n",
    "```julia\n",
    "  472.474 ns (10 allocations: 960 bytes)\n",
    "  22.652 ns (0 allocations: 0 bytes)\n",
    "  121.649 ns (1 allocation: 160 bytes)\n",
    "  6.956 ns (0 allocations: 0 bytes)\n",
    "  30.862 ns (0 allocations: 0 bytes)\n",
    "  5.666 ns (0 allocations: 0 bytes)\n",
    "```"
   ]
  },
  {
   "cell_type": "markdown",
   "metadata": {},
   "source": [
    "con `@simd` en el loop de afuera\n",
    "\n",
    "```julia\n",
    "  470.735 ns (10 allocations: 960 bytes)\n",
    "  23.792 ns (0 allocations: 0 bytes)\n",
    "  122.094 ns (1 allocation: 160 bytes)\n",
    "  6.952 ns (0 allocations: 0 bytes)\n",
    "  28.381 ns (0 allocations: 0 bytes)\n",
    "  5.670 ns (0 allocations: 0 bytes)\n",
    "```"
   ]
  },
  {
   "cell_type": "markdown",
   "metadata": {},
   "source": [
    "con `@simd` en el loop de adentro:\n",
    "\n",
    "```julia\n",
    "  471.862 ns (10 allocations: 960 bytes)\n",
    "  23.777 ns (0 allocations: 0 bytes)\n",
    "  120.735 ns (1 allocation: 160 bytes)\n",
    "  6.953 ns (0 allocations: 0 bytes)\n",
    "  28.559 ns (0 allocations: 0 bytes)\n",
    "  4.151 ns (0 allocations: 0 bytes)\n",
    "true\n",
    "```"
   ]
  },
  {
   "cell_type": "markdown",
   "metadata": {},
   "source": [
    "con `@avx`\n",
    "\n",
    "\n",
    "```julia\n",
    "  471.444 ns (10 allocations: 960 bytes)\n",
    "  23.797 ns (0 allocations: 0 bytes)\n",
    "  121.364 ns (1 allocation: 160 bytes)\n",
    "  6.967 ns (0 allocations: 0 bytes)\n",
    "  23.832 ns (0 allocations: 0 bytes)\n",
    "  4.653 ns (0 allocations: 0 bytes)\n",
    "```"
   ]
  },
  {
   "cell_type": "markdown",
   "metadata": {},
   "source": [
    "final  (v3)\n",
    "\n",
    "```julia\n",
    "  471.015 ns (10 allocations: 960 bytes)\n",
    "  23.803 ns (0 allocations: 0 bytes)\n",
    "  121.679 ns (1 allocation: 160 bytes)\n",
    "  6.937 ns (0 allocations: 0 bytes)\n",
    "  29.834 ns (0 allocations: 0 bytes)\n",
    "  5.172 ns (0 allocations: 0 bytes)\n",
    "  29.341 ns (0 allocations: 0 bytes)\n",
    "  4.917 ns (0 allocations: 0 bytes)\n",
    "```"
   ]
  },
  {
   "cell_type": "markdown",
   "metadata": {},
   "source": [
    "## Dimension 10"
   ]
  },
  {
   "cell_type": "code",
   "execution_count": 91,
   "metadata": {},
   "outputs": [
    {
     "name": "stdout",
     "output_type": "stream",
     "text": [
      "  2.549 μs (50 allocations: 7.81 KiB)\n",
      "  231.629 ns (0 allocations: 0 bytes)\n",
      "  210.873 ns (1 allocation: 496 bytes)\n",
      "  115.201 ns (0 allocations: 0 bytes)\n",
      "  60.268 ns (0 allocations: 0 bytes)\n",
      "  76.633 ns (0 allocations: 0 bytes)\n",
      "  71.414 ns (0 allocations: 0 bytes)\n",
      "  72.955 ns (0 allocations: 0 bytes)\n"
     ]
    },
    {
     "data": {
      "text/plain": [
       "false"
      ]
     },
     "execution_count": 91,
     "metadata": {},
     "output_type": "execute_result"
    }
   ],
   "source": [
    "n = 10\n",
    "\n",
    "Z = rand(Zonotope, num_generators=5*n, dim=n)\n",
    "G = rand(Hyperplane, dim=n)\n",
    "\n",
    "@btime is_intersection_empty($Z, $G)\n",
    "\n",
    "# static\n",
    "p = size(Z.generators, 2);\n",
    "Zs = Zonotope(SVector{n}(Z.center), SMatrix{n, p, Float64}(Z.generators));\n",
    "Gs = Hyperplane(SVector{n}(G.a), G.b);\n",
    "@btime is_intersection_empty($Zs, $Gs)\n",
    "\n",
    "# new function\n",
    "@btime _is_intersection_empty_v1($Z, $G)\n",
    "@btime _is_intersection_empty_v1($Zs, $Gs)\n",
    "\n",
    "# new function\n",
    "@btime _is_intersection_empty_v2($Z, $G)\n",
    "@btime _is_intersection_empty_v2($Zs, $Gs)\n",
    "\n",
    "# final function\n",
    "@btime _is_intersection_empty_v3($Z, $G)\n",
    "@btime _is_intersection_empty_v3($Zs, $Gs)"
   ]
  },
  {
   "cell_type": "markdown",
   "metadata": {},
   "source": [
    "sin `@simd`\n",
    "\n",
    "```julia\n",
    "  2.496 μs (50 allocations: 7.81 KiB)\n",
    "  231.959 ns (0 allocations: 0 bytes)\n",
    "  214.023 ns (1 allocation: 496 bytes)\n",
    "  114.950 ns (0 allocations: 0 bytes)\n",
    "  344.972 ns (0 allocations: 0 bytes)\n",
    "  312.425 ns (0 allocations: 0 bytes)\n",
    "```"
   ]
  },
  {
   "cell_type": "markdown",
   "metadata": {},
   "source": [
    "con `@simd`\n",
    "\n",
    "\n",
    "```julia\n",
    "  2.524 μs (50 allocations: 7.81 KiB)\n",
    "  233.880 ns (0 allocations: 0 bytes)\n",
    "  218.264 ns (1 allocation: 496 bytes)\n",
    "  110.941 ns (0 allocations: 0 bytes)\n",
    "  343.959 ns (0 allocations: 0 bytes)\n",
    "  317.128 ns (0 allocations: 0 bytes)\n",
    "```"
   ]
  },
  {
   "cell_type": "markdown",
   "metadata": {},
   "source": [
    "con `@avx`\n",
    "\n",
    "```julia\n",
    "  2.496 μs (50 allocations: 7.81 KiB)\n",
    "  220.854 ns (0 allocations: 0 bytes)\n",
    "  206.254 ns (1 allocation: 496 bytes)\n",
    "  115.302 ns (0 allocations: 0 bytes)\n",
    "  56.796 ns (0 allocations: 0 bytes)\n",
    "  71.697 ns (0 allocations: 0 bytes)\n",
    "```"
   ]
  },
  {
   "cell_type": "code",
   "execution_count": 34,
   "metadata": {},
   "outputs": [],
   "source": [
    "using LoopVectorization"
   ]
  },
  {
   "cell_type": "code",
   "execution_count": 46,
   "metadata": {},
   "outputs": [
    {
     "data": {
      "text/plain": [
       "10.2880658436214"
      ]
     },
     "execution_count": 46,
     "metadata": {},
     "output_type": "execute_result"
    }
   ],
   "source": [
    "2.5e-6  / 243e-9"
   ]
  },
  {
   "cell_type": "code",
   "execution_count": null,
   "metadata": {},
   "outputs": [],
   "source": []
  },
  {
   "cell_type": "code",
   "execution_count": null,
   "metadata": {},
   "outputs": [],
   "source": []
  }
 ],
 "metadata": {
  "kernelspec": {
   "display_name": "Julia 1.5.0-beta1",
   "language": "julia",
   "name": "julia-1.5"
  },
  "language_info": {
   "file_extension": ".jl",
   "mimetype": "application/julia",
   "name": "julia",
   "version": "1.5.0"
  }
 },
 "nbformat": 4,
 "nbformat_minor": 2
}
