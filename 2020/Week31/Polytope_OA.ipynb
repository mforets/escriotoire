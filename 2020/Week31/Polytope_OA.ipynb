{
 "cells": [
  {
   "cell_type": "code",
   "execution_count": 1,
   "metadata": {},
   "outputs": [],
   "source": [
    "using Revise, LazySets"
   ]
  },
  {
   "cell_type": "code",
   "execution_count": 2,
   "metadata": {},
   "outputs": [],
   "source": [
    "X = rand(VPolytope, dim=3)\n",
    "lm = Projection(X, [1,2]);"
   ]
  },
  {
   "cell_type": "code",
   "execution_count": 3,
   "metadata": {},
   "outputs": [
    {
     "data": {
      "text/plain": [
       "2×3 Array{Float64,2}:\n",
       " 1.0  0.0  0.0\n",
       " 0.0  1.0  0.0"
      ]
     },
     "execution_count": 3,
     "metadata": {},
     "output_type": "execute_result"
    }
   ],
   "source": [
    "M = matrix(lm)\n",
    "M = Matrix(M)"
   ]
  },
  {
   "cell_type": "code",
   "execution_count": 4,
   "metadata": {},
   "outputs": [
    {
     "data": {
      "text/plain": [
       "3-element Array{Float64,1}:\n",
       "  2.915672660849058\n",
       " -0.10793685215465766\n",
       "  1.7668265892518031"
      ]
     },
     "execution_count": 4,
     "metadata": {},
     "output_type": "execute_result"
    }
   ],
   "source": [
    "an_element(X)"
   ]
  },
  {
   "cell_type": "code",
   "execution_count": 5,
   "metadata": {},
   "outputs": [
    {
     "data": {
      "text/plain": [
       "HPolytope{Float64,SparseArrays.SparseVector{Float64,Int64}}(HalfSpace{Float64,SparseArrays.SparseVector{Float64,Int64}}[HalfSpace{Float64,SparseArrays.SparseVector{Float64,Int64}}(  [1]  =  1.0\n",
       "  [2]  =  1.0, 1.7487425579928906), HalfSpace{Float64,SparseArrays.SparseVector{Float64,Int64}}(  [1]  =  1.0\n",
       "  [2]  =  -1.0, 2.083456053755553), HalfSpace{Float64,SparseArrays.SparseVector{Float64,Int64}}(  [1]  =  -1.0\n",
       "  [2]  =  1.0, 1.8757792504076543), HalfSpace{Float64,SparseArrays.SparseVector{Float64,Int64}}(  [1]  =  -1.0\n",
       "  [2]  =  -1.0, 1.7109028127304877), HalfSpace{Float64,SparseArrays.SparseVector{Float64,Int64}}(  [1]  =  1.0\n",
       "  [2]  =  0.0\n",
       "  [3]  =  1.0, 1.2126633493597014), HalfSpace{Float64,SparseArrays.SparseVector{Float64,Int64}}(  [1]  =  1.0\n",
       "  [2]  =  0.0\n",
       "  [3]  =  -1.0, 1.9435388512235137), HalfSpace{Float64,SparseArrays.SparseVector{Float64,Int64}}(  [1]  =  -1.0\n",
       "  [2]  =  0.0\n",
       "  [3]  =  1.0, 2.060967155709675), HalfSpace{Float64,SparseArrays.SparseVector{Float64,Int64}}(  [1]  =  -1.0\n",
       "  [2]  =  0.0\n",
       "  [3]  =  -1.0, 3.1578190085560154), HalfSpace{Float64,SparseArrays.SparseVector{Float64,Int64}}(  [1]  =  0.0\n",
       "  [2]  =  1.0\n",
       "  [3]  =  1.0, 1.799537675664945), HalfSpace{Float64,SparseArrays.SparseVector{Float64,Int64}}(  [1]  =  0.0\n",
       "  [2]  =  1.0\n",
       "  [3]  =  -1.0, 1.8440083986211204), HalfSpace{Float64,SparseArrays.SparseVector{Float64,Int64}}(  [1]  =  0.0\n",
       "  [2]  =  -1.0\n",
       "  [3]  =  1.0, 1.2986717356776318), HalfSpace{Float64,SparseArrays.SparseVector{Float64,Int64}}(  [1]  =  0.0\n",
       "  [2]  =  -1.0\n",
       "  [3]  =  -1.0, 2.7346108423922058), HalfSpace{Float64,SparseArrays.SparseVector{Float64,Int64}}(  [1]  =  1.0, 1.430243948798519), HalfSpace{Float64,SparseArrays.SparseVector{Float64,Int64}}(  [2]  =  1.0, 1.8122609042002724), HalfSpace{Float64,SparseArrays.SparseVector{Float64,Int64}}(  [3]  =  1.0, 1.2525018742781073), HalfSpace{Float64,SparseArrays.SparseVector{Float64,Int64}}(  [3]  =  -1.0, 2.090763519108867), HalfSpace{Float64,SparseArrays.SparseVector{Float64,Int64}}(  [2]  =  -1.0, 1.1600543162348989), HalfSpace{Float64,SparseArrays.SparseVector{Float64,Int64}}(  [1]  =  -1.0, 1.3254410393651916)])"
      ]
     },
     "execution_count": 5,
     "metadata": {},
     "output_type": "execute_result"
    }
   ],
   "source": [
    "X = rand(VPolytope, dim=3);\n",
    "overapproximate(X, OctDirections)"
   ]
  },
  {
   "cell_type": "code",
   "execution_count": 8,
   "metadata": {},
   "outputs": [],
   "source": [
    "using LazySets: projection_matrix\n",
    "\n",
    "function LazySets.project(V::Union{<:VPolygon{N}, <:VPolytope{N}},\n",
    "                          block::AbstractVector{Int}) where {N}\n",
    "    n = dim(V)\n",
    "    M = projection_matrix(block, n, N)\n",
    "    πvertices = broadcast(v -> M * v, vertices_list(V))\n",
    "    return basetype(V)(πvertices)\n",
    "end"
   ]
  },
  {
   "cell_type": "code",
   "execution_count": 10,
   "metadata": {},
   "outputs": [],
   "source": [
    "using LazySets.Approximations: AbstractDirections\n",
    "using LazySets: default_lp_solver\n",
    "\n",
    "LazySets.overapproximate(X::LazySet{N}, ZT::Type{<:Zonotope},\n",
    "                         dir::Type{<:AbstractDirections};\n",
    "                         solver=default_lp_solver(N)) where {N} = overapproximate(X, ZT, dir(dim(X)), solver=solver)"
   ]
  },
  {
   "cell_type": "code",
   "execution_count": 16,
   "metadata": {},
   "outputs": [
    {
     "data": {
      "text/plain": [
       "_overapproximate (generic function with 2 methods)"
      ]
     },
     "execution_count": 16,
     "metadata": {},
     "output_type": "execute_result"
    }
   ],
   "source": [
    "function _overapproximate(P::VPolytope, ::Type{<:Zonotope}, dirs=OctDirections)\n",
    "    n = dim(P)\n",
    "    j = 1\n",
    "    p = Vector{typeof(P)}(undef, Int(floor(n/2)))\n",
    "    for i=1:2:n-1\n",
    "        p[j] = project(P, [i, i+1])\n",
    "        j += 1\n",
    "    end\n",
    "   \n",
    "    if !iseven(n)\n",
    "        push!(p, project(P, [n]))\n",
    "    end\n",
    "\n",
    "    Z = [overapproximate(poly, Zonotope, dirs) for poly in p]\n",
    "    return reduce(×, Z)\n",
    "end"
   ]
  },
  {
   "cell_type": "code",
   "execution_count": 17,
   "metadata": {},
   "outputs": [],
   "source": [
    "n = 10\n",
    "P = rand(VPolytope, dim=n);"
   ]
  },
  {
   "cell_type": "code",
   "execution_count": 19,
   "metadata": {},
   "outputs": [
    {
     "name": "stdout",
     "output_type": "stream",
     "text": [
      "  0.018742 seconds (16.66 k allocations: 1.045 MiB)\n",
      "  1.743596 seconds (293.75 k allocations: 10.809 MiB)\n"
     ]
    }
   ],
   "source": [
    "@time _overapproximate(P, Zonotope);\n",
    "@time overapproximate(P, Zonotope, OctDirections(n));"
   ]
  },
  {
   "cell_type": "markdown",
   "metadata": {},
   "source": [
    "---"
   ]
  },
  {
   "cell_type": "code",
   "execution_count": null,
   "metadata": {},
   "outputs": [],
   "source": [
    "V = rand(VPolytope, dim=5)"
   ]
  },
  {
   "cell_type": "code",
   "execution_count": null,
   "metadata": {},
   "outputs": [],
   "source": [
    "project(V, [1, 2, 5])"
   ]
  },
  {
   "cell_type": "code",
   "execution_count": null,
   "metadata": {},
   "outputs": [],
   "source": [
    "V.vertices"
   ]
  },
  {
   "cell_type": "code",
   "execution_count": null,
   "metadata": {},
   "outputs": [],
   "source": []
  }
 ],
 "metadata": {
  "@webio": {
   "lastCommId": null,
   "lastKernelId": null
  },
  "kernelspec": {
   "display_name": "Julia 1.5.0-beta1",
   "language": "julia",
   "name": "julia-1.5"
  },
  "language_info": {
   "file_extension": ".jl",
   "mimetype": "application/julia",
   "name": "julia",
   "version": "1.5.0"
  }
 },
 "nbformat": 4,
 "nbformat_minor": 2
}
