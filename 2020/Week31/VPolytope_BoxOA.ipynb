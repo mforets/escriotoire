{
 "cells": [
  {
   "cell_type": "code",
   "execution_count": 1,
   "metadata": {},
   "outputs": [],
   "source": [
    "using LazySets, BenchmarkTools"
   ]
  },
  {
   "cell_type": "markdown",
   "metadata": {},
   "source": [
    "## baseline"
   ]
  },
  {
   "cell_type": "code",
   "execution_count": 5,
   "metadata": {},
   "outputs": [],
   "source": [
    "P1 = VPolytope([[0.0, 0.0], [2.0, 1.0], [1.0, 2.0]]);\n",
    "P2 = VPolytope([rand(2) for _ in 1:100]);\n",
    "P3 = VPolytope([rand(2) for _ in 1:1000]);"
   ]
  },
  {
   "cell_type": "code",
   "execution_count": 15,
   "metadata": {},
   "outputs": [
    {
     "name": "stdout",
     "output_type": "stream",
     "text": [
      "  155.359 ns (3 allocations: 224 bytes)\n",
      "  2.414 μs (3 allocations: 224 bytes)\n",
      "  23.138 μs (3 allocations: 224 bytes)\n"
     ]
    },
    {
     "data": {
      "text/plain": [
       "Hyperrectangle{Float64,Array{Float64,1},Array{Float64,1}}([0.5001524552357717, 0.5006015326369077], [0.49933757531871903, 0.4993320190149356])"
      ]
     },
     "execution_count": 15,
     "metadata": {},
     "output_type": "execute_result"
    }
   ],
   "source": [
    "@btime box_approximation($P1)\n",
    "@btime box_approximation($P2)\n",
    "@btime box_approximation($P3)"
   ]
  },
  {
   "cell_type": "markdown",
   "metadata": {},
   "source": [
    "## version 1"
   ]
  },
  {
   "cell_type": "code",
   "execution_count": 4,
   "metadata": {},
   "outputs": [
    {
     "data": {
      "text/plain": [
       "ba1 (generic function with 1 method)"
      ]
     },
     "execution_count": 4,
     "metadata": {},
     "output_type": "execute_result"
    }
   ],
   "source": [
    "function ba1(P::Union{VPolytope, VPolygon})\n",
    "    n = dim(P)\n",
    "    vlist = vertices_list(P)\n",
    "    low = copy(vlist[1])\n",
    "    high = copy(vlist[1])\n",
    "    @inbounds for v in @view vlist[2:length(vlist)]\n",
    "        for i in 1:n\n",
    "            if v[i] > high[i]\n",
    "                high[i] = v[i]\n",
    "            elseif v[i] < low[i]\n",
    "                low[i] = v[i]\n",
    "            end\n",
    "        end\n",
    "    end\n",
    "    return Hyperrectangle(low=low, high=high)\n",
    "end"
   ]
  },
  {
   "cell_type": "code",
   "execution_count": 9,
   "metadata": {},
   "outputs": [
    {
     "name": "stdout",
     "output_type": "stream",
     "text": [
      "  118.679 ns (4 allocations: 384 bytes)\n",
      "  319.459 ns (4 allocations: 384 bytes)\n",
      "  2.465 μs (4 allocations: 384 bytes)\n"
     ]
    },
    {
     "data": {
      "text/plain": [
       "Hyperrectangle{Float64,Array{Float64,1},Array{Float64,1}}([0.5001524552357717, 0.5006015326369077], [0.49933757531871903, 0.4993320190149356])"
      ]
     },
     "execution_count": 9,
     "metadata": {},
     "output_type": "execute_result"
    }
   ],
   "source": [
    "@btime ba1($P1)\n",
    "@btime ba1($P2)\n",
    "@btime ba1($P3)"
   ]
  },
  {
   "cell_type": "markdown",
   "metadata": {},
   "source": [
    "## version 2"
   ]
  },
  {
   "cell_type": "code",
   "execution_count": 10,
   "metadata": {},
   "outputs": [
    {
     "data": {
      "text/plain": [
       "ba2 (generic function with 1 method)"
      ]
     },
     "execution_count": 10,
     "metadata": {},
     "output_type": "execute_result"
    }
   ],
   "source": [
    "function ba2(P::Union{VPolytope, VPolygon})\n",
    "    n = dim(P)\n",
    "    vlist = vertices_list(P)\n",
    "    v1 = vlist[1]\n",
    "    center = similar(v1)\n",
    "    radius = similar(v1)\n",
    "    \n",
    "    @inbounds begin\n",
    "    for i in 1:n\n",
    "        high_i = v1[i]\n",
    "        low_i = v1[i]\n",
    "        for v in vlist\n",
    "            if v[i] > high_i\n",
    "                high_i = v[i]\n",
    "            elseif v[i] < low_i\n",
    "                low_i = v[i]\n",
    "            end\n",
    "        end\n",
    "        center[i] = (high_i + low_i)/2\n",
    "        radius[i] = (high_i - low_i)/2\n",
    "    end\n",
    "    end\n",
    "    return Hyperrectangle(center, radius)\n",
    "end"
   ]
  },
  {
   "cell_type": "code",
   "execution_count": 11,
   "metadata": {},
   "outputs": [
    {
     "name": "stdout",
     "output_type": "stream",
     "text": [
      "  60.412 ns (2 allocations: 192 bytes)\n",
      "  227.487 ns (2 allocations: 192 bytes)\n",
      "  2.067 μs (2 allocations: 192 bytes)\n"
     ]
    },
    {
     "data": {
      "text/plain": [
       "Hyperrectangle{Float64,Array{Float64,1},Array{Float64,1}}([0.5001524552357717, 0.5006015326369077], [0.49933757531871903, 0.4993320190149356])"
      ]
     },
     "execution_count": 11,
     "metadata": {},
     "output_type": "execute_result"
    }
   ],
   "source": [
    "@btime ba2($P1)\n",
    "@btime ba2($P2)\n",
    "@btime ba2($P3)"
   ]
  },
  {
   "cell_type": "markdown",
   "metadata": {},
   "source": [
    "## using static arrays"
   ]
  },
  {
   "cell_type": "code",
   "execution_count": 16,
   "metadata": {},
   "outputs": [],
   "source": [
    "using StaticArrays"
   ]
  },
  {
   "cell_type": "code",
   "execution_count": 23,
   "metadata": {},
   "outputs": [],
   "source": [
    "P1s = VPolytope([SA[0.0, 0.0], SA[2.0, 1.0], SA[1.0, 2.0]]);\n",
    "P2s = VPolytope([SVector{2}(v) for v in P2.vertices])\n",
    "P3s = VPolytope([SVector{2}(v) for v in P3.vertices]);"
   ]
  },
  {
   "cell_type": "code",
   "execution_count": 25,
   "metadata": {},
   "outputs": [
    {
     "data": {
      "text/plain": [
       "VPolytope{Float64,SArray{Tuple{2},Float64,1,2}}(SArray{Tuple{2},Float64,1,2}[[0.0, 0.0], [2.0, 1.0], [1.0, 2.0]])"
      ]
     },
     "execution_count": 25,
     "metadata": {},
     "output_type": "execute_result"
    }
   ],
   "source": [
    "P1s"
   ]
  },
  {
   "cell_type": "code",
   "execution_count": 27,
   "metadata": {},
   "outputs": [
    {
     "name": "stdout",
     "output_type": "stream",
     "text": [
      "  92.226 ns (3 allocations: 224 bytes)\n",
      "  566.342 ns (3 allocations: 224 bytes)\n",
      "  4.808 μs (3 allocations: 224 bytes)\n"
     ]
    },
    {
     "data": {
      "text/plain": [
       "Hyperrectangle{Float64,Array{Float64,1},Array{Float64,1}}([0.5001524552357717, 0.5006015326369077], [0.49933757531871903, 0.4993320190149356])"
      ]
     },
     "execution_count": 27,
     "metadata": {},
     "output_type": "execute_result"
    }
   ],
   "source": [
    "@btime box_approximation($P1s)\n",
    "@btime box_approximation($P2s)\n",
    "@btime box_approximation($P3s)"
   ]
  },
  {
   "cell_type": "code",
   "execution_count": 30,
   "metadata": {},
   "outputs": [
    {
     "ename": "ErrorException",
     "evalue": "setindex!(::SArray{Tuple{2},Float64,1,2}, value, ::Int) is not defined.",
     "output_type": "error",
     "traceback": [
      "setindex!(::SArray{Tuple{2},Float64,1,2}, value, ::Int) is not defined.",
      "",
      "Stacktrace:",
      " [1] error(::String) at ./error.jl:33",
      " [2] setindex!(::SArray{Tuple{2},Float64,1,2}, ::Float64, ::Int64) at /home/mforets/.julia/packages/StaticArrays/mlIi1/src/indexing.jl:3",
      " [3] ba1(::VPolytope{Float64,SArray{Tuple{2},Float64,1,2}}) at ./In[4]:9",
      " [4] ##core#431(::VPolytope{Float64,SArray{Tuple{2},Float64,1,2}}) at /home/mforets/.julia/packages/BenchmarkTools/eCEpo/src/execution.jl:371",
      " [5] ##sample#432(::BenchmarkTools.Parameters) at /home/mforets/.julia/packages/BenchmarkTools/eCEpo/src/execution.jl:377",
      " [6] _run(::BenchmarkTools.Benchmark{Symbol(\"##benchmark#430\")}, ::BenchmarkTools.Parameters; verbose::Bool, pad::String, kwargs::Base.Iterators.Pairs{Symbol,Integer,NTuple{4,Symbol},NamedTuple{(:samples, :evals, :gctrial, :gcsample),Tuple{Int64,Int64,Bool,Bool}}}) at /home/mforets/.julia/packages/BenchmarkTools/eCEpo/src/execution.jl:405",
      " [7] (::Base.var\"#inner#2\"{Base.Iterators.Pairs{Symbol,Integer,NTuple{5,Symbol},NamedTuple{(:verbose, :samples, :evals, :gctrial, :gcsample),Tuple{Bool,Int64,Int64,Bool,Bool}}},typeof(BenchmarkTools._run),Tuple{BenchmarkTools.Benchmark{Symbol(\"##benchmark#430\")},BenchmarkTools.Parameters}})() at ./essentials.jl:713",
      " [8] #invokelatest#1 at ./essentials.jl:714 [inlined]",
      " [9] #run_result#37 at /home/mforets/.julia/packages/BenchmarkTools/eCEpo/src/execution.jl:32 [inlined]",
      " [10] run(::BenchmarkTools.Benchmark{Symbol(\"##benchmark#430\")}, ::BenchmarkTools.Parameters; progressid::Nothing, nleaves::Float64, ndone::Float64, kwargs::Base.Iterators.Pairs{Symbol,Integer,NTuple{5,Symbol},NamedTuple{(:verbose, :samples, :evals, :gctrial, :gcsample),Tuple{Bool,Int64,Int64,Bool,Bool}}}) at /home/mforets/.julia/packages/BenchmarkTools/eCEpo/src/execution.jl:94",
      " [11] #warmup#45 at /home/mforets/.julia/packages/BenchmarkTools/eCEpo/src/execution.jl:141 [inlined]",
      " [12] warmup(::BenchmarkTools.Benchmark{Symbol(\"##benchmark#430\")}) at /home/mforets/.julia/packages/BenchmarkTools/eCEpo/src/execution.jl:141",
      " [13] top-level scope at /home/mforets/.julia/packages/BenchmarkTools/eCEpo/src/execution.jl:481",
      " [14] top-level scope at In[30]:1"
     ]
    }
   ],
   "source": [
    "@btime ba1($P1s)\n",
    "@btime ba1($P2s)\n",
    "@btime ba1($P3s)"
   ]
  },
  {
   "cell_type": "code",
   "execution_count": 29,
   "metadata": {},
   "outputs": [
    {
     "name": "stdout",
     "output_type": "stream",
     "text": [
      "  25.580 ns (2 allocations: 64 bytes)\n",
      "  235.806 ns (2 allocations: 64 bytes)\n",
      "  2.094 μs (2 allocations: 64 bytes)\n"
     ]
    },
    {
     "data": {
      "text/plain": [
       "Hyperrectangle{Float64,MArray{Tuple{2},Float64,1,2},MArray{Tuple{2},Float64,1,2}}([0.5001524552357717, 0.5006015326369077], [0.49933757531871903, 0.4993320190149356])"
      ]
     },
     "execution_count": 29,
     "metadata": {},
     "output_type": "execute_result"
    }
   ],
   "source": [
    "@btime ba2($P1s)\n",
    "@btime ba2($P2s)\n",
    "@btime ba2($P3s)"
   ]
  },
  {
   "cell_type": "markdown",
   "metadata": {},
   "source": [
    "(we should make it return an SArray though)"
   ]
  },
  {
   "cell_type": "markdown",
   "metadata": {},
   "source": [
    "---"
   ]
  },
  {
   "cell_type": "markdown",
   "metadata": {},
   "source": [
    "## higher dim"
   ]
  },
  {
   "cell_type": "code",
   "execution_count": 33,
   "metadata": {},
   "outputs": [
    {
     "name": "stdout",
     "output_type": "stream",
     "text": [
      "  2.181 μs (3 allocations: 256 bytes)\n",
      "  249.644 ns (4 allocations: 448 bytes)\n",
      "  173.296 ns (2 allocations: 224 bytes)\n"
     ]
    },
    {
     "data": {
      "text/plain": [
       "Hyperrectangle{Float64,Array{Float64,1},Array{Float64,1}}([0.5168276314349014, 0.4907079638498182, 0.4999135699048741], [0.4788282555560608, 0.46966803773451127, 0.4885036871807852])"
      ]
     },
     "execution_count": 33,
     "metadata": {},
     "output_type": "execute_result"
    }
   ],
   "source": [
    "n = 3\n",
    "Pn = VPolytope([rand(n) for _ in 1:50]);\n",
    "Pns = VPolytope([SVector{n}(v) for v in Pn.vertices]);\n",
    "\n",
    "@btime box_approximation($Pn)\n",
    "@btime ba1($Pn)\n",
    "@btime ba2($Pn)"
   ]
  },
  {
   "cell_type": "code",
   "execution_count": 34,
   "metadata": {},
   "outputs": [
    {
     "name": "stdout",
     "output_type": "stream",
     "text": [
      "  9.000 μs (3 allocations: 288 bytes)\n",
      "  572.443 ns (4 allocations: 512 bytes)\n",
      "  533.323 ns (2 allocations: 256 bytes)\n"
     ]
    },
    {
     "data": {
      "text/plain": [
       "Hyperrectangle{Float64,Array{Float64,1},Array{Float64,1}}([0.48462291158877624, 0.5020136795798725, 0.4967681788269117, 0.5017653900751188, 0.49769085009698255], [0.48102515713246297, 0.4915865772532847, 0.489882239971385, 0.49519555569823426, 0.4831677513810295])"
      ]
     },
     "execution_count": 34,
     "metadata": {},
     "output_type": "execute_result"
    }
   ],
   "source": [
    "n = 5\n",
    "Pn = VPolytope([rand(n) for _ in 1:100]);\n",
    "Pns = VPolytope([SVector{n}(v) for v in Pn.vertices]);\n",
    "\n",
    "@btime box_approximation($Pn)\n",
    "@btime ba1($Pn)\n",
    "@btime ba2($Pn)"
   ]
  },
  {
   "cell_type": "code",
   "execution_count": 38,
   "metadata": {},
   "outputs": [
    {
     "name": "stdout",
     "output_type": "stream",
     "text": [
      "  547.953 μs (3 allocations: 352 bytes)\n",
      "  16.620 μs (4 allocations: 640 bytes)\n",
      "  33.969 μs (2 allocations: 320 bytes)\n",
      "  171.852 μs (3 allocations: 352 bytes)\n",
      "  32.785 μs (2 allocations: 192 bytes)\n"
     ]
    },
    {
     "data": {
      "text/plain": [
       "Hyperrectangle{Float64,MArray{Tuple{10},Float64,1,10},MArray{Tuple{10},Float64,1,10}}([0.5001066046266438, 0.5001489974069424, 0.4999021012172842, 0.49948876478262516, 0.4998057393859223, 0.4999505607691883, 0.5006176904611697, 0.5001747187983653, 0.49997998417084444, 0.4999477078899164], [0.49983367441612647, 0.49983824292841694, 0.4997680183026787, 0.49936112496504537, 0.4996588354216087, 0.49972763186387104, 0.49923789680635045, 0.49980277694838093, 0.49937012316215756, 0.4997960261956038])"
      ]
     },
     "execution_count": 38,
     "metadata": {},
     "output_type": "execute_result"
    }
   ],
   "source": [
    "n = 10\n",
    "Pn = VPolytope([rand(n) for _ in 1:2000]);\n",
    "Pns = VPolytope([SVector{n}(v) for v in Pn.vertices]);\n",
    "\n",
    "@btime box_approximation($Pn)\n",
    "@btime ba1($Pn)\n",
    "@btime ba2($Pn)\n",
    "\n",
    "@btime box_approximation($Pns)\n",
    "#@btime ba1($Pn)\n",
    "@btime ba2($Pns)"
   ]
  }
 ],
 "metadata": {
  "kernelspec": {
   "display_name": "Julia 1.5.0-beta1",
   "language": "julia",
   "name": "julia-1.5"
  },
  "language_info": {
   "file_extension": ".jl",
   "mimetype": "application/julia",
   "name": "julia",
   "version": "1.5.0"
  }
 },
 "nbformat": 4,
 "nbformat_minor": 2
}
