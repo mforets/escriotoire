{
 "cells": [
  {
   "cell_type": "markdown",
   "metadata": {},
   "source": [
    "References:\n",
    "\n",
    "- This is a follow-up of https://nbviewer.jupyter.org/github/mforets/escritoire/blob/master/2020/Week11/2D_intersection.ipynb\n",
    "- Uses the concrete intersection of polygons in vertex representation implemented in https://github.com/JuliaReach/LazySets.jl/pull/2345"
   ]
  },
  {
   "cell_type": "code",
   "execution_count": 1,
   "metadata": {},
   "outputs": [],
   "source": [
    "using LazySets, Plots, BenchmarkTools"
   ]
  },
  {
   "cell_type": "code",
   "execution_count": 25,
   "metadata": {},
   "outputs": [
    {
     "data": {
      "text/plain": [
       "intersection_area_1 (generic function with 1 method)"
      ]
     },
     "execution_count": 25,
     "metadata": {},
     "output_type": "execute_result"
    }
   ],
   "source": [
    "function rectangular_overlap_exact_1(xmin, ymin, xmax, ymax, w, h, θ)\n",
    "    sint, cost = sincos(deg2rad(θ))\n",
    "    R = [cost -sint; sint cost]\n",
    "    aper = R * Hyperrectangle(zeros(2), [w / 2, h / 2])\n",
    "    dy = ymax - ymin\n",
    "    dx = xmax - xmin\n",
    "    pix = Hyperrectangle([dx / 2 + xmin, dy / 2 + ymin], [dx / 2, dy / 2])\n",
    "    return intersection_area_1(pix, aper)\n",
    "end\n",
    "\n",
    "# contrib: https://nbviewer.jupyter.org/github/mforets/escritoire/blob/master/2020/Week11/2D_intersection.ipynb\n",
    "# the idea is to use the intersection for HPolygon, which is faster than the fallback because the\n",
    "# normal vectors to the half-spaces are sorted in counter--clockwise fashion\n",
    "function intersection_area_1(X::AbstractHyperrectangle{N},\n",
    "    Y::LinearMap{N,<:AbstractHyperrectangle{N}}) where {N}\n",
    "    X_clist = X |> constraints_list\n",
    "    X_poly = HPolygon(X_clist, sort_constraints = true, prune = false, check_boundedness = false)\n",
    "\n",
    "    Y_clist = linear_map(matrix(Y), set(Y)) |> constraints_list\n",
    "    Y_poly = HPolygon(Y_clist, sort_constraints = true, prune = false, check_boundedness = false)\n",
    "\n",
    "    return intersection(X_poly, Y_poly) |> area\n",
    "end"
   ]
  },
  {
   "cell_type": "code",
   "execution_count": 4,
   "metadata": {},
   "outputs": [
    {
     "data": {
      "image/svg+xml": [
       "<?xml version=\"1.0\" encoding=\"utf-8\"?>\n",
       "<svg xmlns=\"http://www.w3.org/2000/svg\" xmlns:xlink=\"http://www.w3.org/1999/xlink\" width=\"600\" height=\"400\" viewBox=\"0 0 2400 1600\">\n",
       "<defs>\n",
       "  <clipPath id=\"clip810\">\n",
       "    <rect x=\"0\" y=\"0\" width=\"2400\" height=\"1600\"/>\n",
       "  </clipPath>\n",
       "</defs>\n",
       "<path clip-path=\"url(#clip810)\" d=\"\n",
       "M0 1600 L2400 1600 L2400 0 L0 0  Z\n",
       "  \" fill=\"#ffffff\" fill-rule=\"evenodd\" fill-opacity=\"1\"/>\n",
       "<defs>\n",
       "  <clipPath id=\"clip811\">\n",
       "    <rect x=\"480\" y=\"0\" width=\"1681\" height=\"1600\"/>\n",
       "  </clipPath>\n",
       "</defs>\n",
       "<path clip-path=\"url(#clip810)\" d=\"\n",
       "M163.936 1486.45 L2352.76 1486.45 L2352.76 47.2441 L163.936 47.2441  Z\n",
       "  \" fill=\"#ffffff\" fill-rule=\"evenodd\" fill-opacity=\"1\"/>\n",
       "<defs>\n",
       "  <clipPath id=\"clip812\">\n",
       "    <rect x=\"163\" y=\"47\" width=\"2190\" height=\"1440\"/>\n",
       "  </clipPath>\n",
       "</defs>\n",
       "<polyline clip-path=\"url(#clip812)\" style=\"stroke:#000000; stroke-width:2; stroke-opacity:0.1; fill:none\" points=\"\n",
       "  513.145,1486.45 513.145,47.2441 \n",
       "  \"/>\n",
       "<polyline clip-path=\"url(#clip812)\" style=\"stroke:#000000; stroke-width:2; stroke-opacity:0.1; fill:none\" points=\"\n",
       "  1011.7,1486.45 1011.7,47.2441 \n",
       "  \"/>\n",
       "<polyline clip-path=\"url(#clip812)\" style=\"stroke:#000000; stroke-width:2; stroke-opacity:0.1; fill:none\" points=\"\n",
       "  1510.25,1486.45 1510.25,47.2441 \n",
       "  \"/>\n",
       "<polyline clip-path=\"url(#clip812)\" style=\"stroke:#000000; stroke-width:2; stroke-opacity:0.1; fill:none\" points=\"\n",
       "  2008.81,1486.45 2008.81,47.2441 \n",
       "  \"/>\n",
       "<polyline clip-path=\"url(#clip812)\" style=\"stroke:#000000; stroke-width:2; stroke-opacity:0.1; fill:none\" points=\"\n",
       "  163.936,1484.27 2352.76,1484.27 \n",
       "  \"/>\n",
       "<polyline clip-path=\"url(#clip812)\" style=\"stroke:#000000; stroke-width:2; stroke-opacity:0.1; fill:none\" points=\"\n",
       "  163.936,1153.46 2352.76,1153.46 \n",
       "  \"/>\n",
       "<polyline clip-path=\"url(#clip812)\" style=\"stroke:#000000; stroke-width:2; stroke-opacity:0.1; fill:none\" points=\"\n",
       "  163.936,822.653 2352.76,822.653 \n",
       "  \"/>\n",
       "<polyline clip-path=\"url(#clip812)\" style=\"stroke:#000000; stroke-width:2; stroke-opacity:0.1; fill:none\" points=\"\n",
       "  163.936,491.843 2352.76,491.843 \n",
       "  \"/>\n",
       "<polyline clip-path=\"url(#clip812)\" style=\"stroke:#000000; stroke-width:2; stroke-opacity:0.1; fill:none\" points=\"\n",
       "  163.936,161.033 2352.76,161.033 \n",
       "  \"/>\n",
       "<polyline clip-path=\"url(#clip810)\" style=\"stroke:#000000; stroke-width:4; stroke-opacity:1; fill:none\" points=\"\n",
       "  163.936,1486.45 2352.76,1486.45 \n",
       "  \"/>\n",
       "<polyline clip-path=\"url(#clip810)\" style=\"stroke:#000000; stroke-width:4; stroke-opacity:1; fill:none\" points=\"\n",
       "  163.936,1486.45 163.936,47.2441 \n",
       "  \"/>\n",
       "<polyline clip-path=\"url(#clip810)\" style=\"stroke:#000000; stroke-width:4; stroke-opacity:1; fill:none\" points=\"\n",
       "  513.145,1486.45 513.145,1469.18 \n",
       "  \"/>\n",
       "<polyline clip-path=\"url(#clip810)\" style=\"stroke:#000000; stroke-width:4; stroke-opacity:1; fill:none\" points=\"\n",
       "  1011.7,1486.45 1011.7,1469.18 \n",
       "  \"/>\n",
       "<polyline clip-path=\"url(#clip810)\" style=\"stroke:#000000; stroke-width:4; stroke-opacity:1; fill:none\" points=\"\n",
       "  1510.25,1486.45 1510.25,1469.18 \n",
       "  \"/>\n",
       "<polyline clip-path=\"url(#clip810)\" style=\"stroke:#000000; stroke-width:4; stroke-opacity:1; fill:none\" points=\"\n",
       "  2008.81,1486.45 2008.81,1469.18 \n",
       "  \"/>\n",
       "<polyline clip-path=\"url(#clip810)\" style=\"stroke:#000000; stroke-width:4; stroke-opacity:1; fill:none\" points=\"\n",
       "  163.936,1484.27 190.202,1484.27 \n",
       "  \"/>\n",
       "<polyline clip-path=\"url(#clip810)\" style=\"stroke:#000000; stroke-width:4; stroke-opacity:1; fill:none\" points=\"\n",
       "  163.936,1153.46 190.202,1153.46 \n",
       "  \"/>\n",
       "<polyline clip-path=\"url(#clip810)\" style=\"stroke:#000000; stroke-width:4; stroke-opacity:1; fill:none\" points=\"\n",
       "  163.936,822.653 190.202,822.653 \n",
       "  \"/>\n",
       "<polyline clip-path=\"url(#clip810)\" style=\"stroke:#000000; stroke-width:4; stroke-opacity:1; fill:none\" points=\"\n",
       "  163.936,491.843 190.202,491.843 \n",
       "  \"/>\n",
       "<polyline clip-path=\"url(#clip810)\" style=\"stroke:#000000; stroke-width:4; stroke-opacity:1; fill:none\" points=\"\n",
       "  163.936,161.033 190.202,161.033 \n",
       "  \"/>\n",
       "<path clip-path=\"url(#clip810)\" d=\"M 0 0 M462.706 1525.04 L475.183 1525.04 L475.183 1528.83 L462.706 1528.83 L462.706 1525.04 Z\" fill=\"#000000\" fill-rule=\"evenodd\" fill-opacity=\"1\" /><path clip-path=\"url(#clip810)\" d=\"M 0 0 M490.252 1508.44 Q486.641 1508.44 484.812 1512 Q483.007 1515.55 483.007 1522.67 Q483.007 1529.78 484.812 1533.35 Q486.641 1536.89 490.252 1536.89 Q493.886 1536.89 495.692 1533.35 Q497.52 1529.78 497.52 1522.67 Q497.52 1515.55 495.692 1512 Q493.886 1508.44 490.252 1508.44 M490.252 1504.73 Q496.062 1504.73 499.118 1509.34 Q502.196 1513.92 502.196 1522.67 Q502.196 1531.4 499.118 1536.01 Q496.062 1540.59 490.252 1540.59 Q484.442 1540.59 481.363 1536.01 Q478.308 1531.4 478.308 1522.67 Q478.308 1513.92 481.363 1509.34 Q484.442 1504.73 490.252 1504.73 Z\" fill=\"#000000\" fill-rule=\"evenodd\" fill-opacity=\"1\" /><path clip-path=\"url(#clip810)\" d=\"M 0 0 M507.266 1534.04 L512.15 1534.04 L512.15 1539.92 L507.266 1539.92 L507.266 1534.04 Z\" fill=\"#000000\" fill-rule=\"evenodd\" fill-opacity=\"1\" /><path clip-path=\"url(#clip810)\" d=\"M 0 0 M521.247 1535.98 L537.567 1535.98 L537.567 1539.92 L515.622 1539.92 L515.622 1535.98 Q518.284 1533.23 522.868 1528.6 Q527.474 1523.95 528.655 1522.61 Q530.9 1520.08 531.78 1518.35 Q532.682 1516.59 532.682 1514.9 Q532.682 1512.14 530.738 1510.41 Q528.817 1508.67 525.715 1508.67 Q523.516 1508.67 521.062 1509.43 Q518.631 1510.2 515.854 1511.75 L515.854 1507.03 Q518.678 1505.89 521.131 1505.31 Q523.585 1504.73 525.622 1504.73 Q530.992 1504.73 534.187 1507.42 Q537.381 1510.11 537.381 1514.6 Q537.381 1516.73 536.571 1518.65 Q535.784 1520.54 533.678 1523.14 Q533.099 1523.81 529.997 1527.03 Q526.895 1530.22 521.247 1535.98 Z\" fill=\"#000000\" fill-rule=\"evenodd\" fill-opacity=\"1\" /><path clip-path=\"url(#clip810)\" d=\"M 0 0 M542.682 1505.36 L561.039 1505.36 L561.039 1509.3 L546.965 1509.3 L546.965 1517.77 Q547.983 1517.42 549.002 1517.26 Q550.02 1517.07 551.039 1517.07 Q556.826 1517.07 560.205 1520.24 Q563.585 1523.42 563.585 1528.83 Q563.585 1534.41 560.113 1537.51 Q556.64 1540.59 550.321 1540.59 Q548.145 1540.59 545.877 1540.22 Q543.631 1539.85 541.224 1539.11 L541.224 1534.41 Q543.307 1535.54 545.529 1536.1 Q547.752 1536.66 550.228 1536.66 Q554.233 1536.66 556.571 1534.55 Q558.909 1532.44 558.909 1528.83 Q558.909 1525.22 556.571 1523.11 Q554.233 1521.01 550.228 1521.01 Q548.354 1521.01 546.479 1521.42 Q544.627 1521.84 542.682 1522.72 L542.682 1505.36 Z\" fill=\"#000000\" fill-rule=\"evenodd\" fill-opacity=\"1\" /><path clip-path=\"url(#clip810)\" d=\"M 0 0 M979.709 1508.44 Q976.098 1508.44 974.269 1512 Q972.464 1515.55 972.464 1522.67 Q972.464 1529.78 974.269 1533.35 Q976.098 1536.89 979.709 1536.89 Q983.343 1536.89 985.149 1533.35 Q986.977 1529.78 986.977 1522.67 Q986.977 1515.55 985.149 1512 Q983.343 1508.44 979.709 1508.44 M979.709 1504.73 Q985.519 1504.73 988.575 1509.34 Q991.653 1513.92 991.653 1522.67 Q991.653 1531.4 988.575 1536.01 Q985.519 1540.59 979.709 1540.59 Q973.899 1540.59 970.82 1536.01 Q967.765 1531.4 967.765 1522.67 Q967.765 1513.92 970.82 1509.34 Q973.899 1504.73 979.709 1504.73 Z\" fill=\"#000000\" fill-rule=\"evenodd\" fill-opacity=\"1\" /><path clip-path=\"url(#clip810)\" d=\"M 0 0 M996.723 1534.04 L1001.61 1534.04 L1001.61 1539.92 L996.723 1539.92 L996.723 1534.04 Z\" fill=\"#000000\" fill-rule=\"evenodd\" fill-opacity=\"1\" /><path clip-path=\"url(#clip810)\" d=\"M 0 0 M1016.68 1508.44 Q1013.07 1508.44 1011.24 1512 Q1009.43 1515.55 1009.43 1522.67 Q1009.43 1529.78 1011.24 1533.35 Q1013.07 1536.89 1016.68 1536.89 Q1020.31 1536.89 1022.12 1533.35 Q1023.94 1529.78 1023.94 1522.67 Q1023.94 1515.55 1022.12 1512 Q1020.31 1508.44 1016.68 1508.44 M1016.68 1504.73 Q1022.49 1504.73 1025.54 1509.34 Q1028.62 1513.92 1028.62 1522.67 Q1028.62 1531.4 1025.54 1536.01 Q1022.49 1540.59 1016.68 1540.59 Q1010.87 1540.59 1007.79 1536.01 Q1004.73 1531.4 1004.73 1522.67 Q1004.73 1513.92 1007.79 1509.34 Q1010.87 1504.73 1016.68 1504.73 Z\" fill=\"#000000\" fill-rule=\"evenodd\" fill-opacity=\"1\" /><path clip-path=\"url(#clip810)\" d=\"M 0 0 M1043.69 1508.44 Q1040.08 1508.44 1038.25 1512 Q1036.44 1515.55 1036.44 1522.67 Q1036.44 1529.78 1038.25 1533.35 Q1040.08 1536.89 1043.69 1536.89 Q1047.32 1536.89 1049.13 1533.35 Q1050.96 1529.78 1050.96 1522.67 Q1050.96 1515.55 1049.13 1512 Q1047.32 1508.44 1043.69 1508.44 M1043.69 1504.73 Q1049.5 1504.73 1052.56 1509.34 Q1055.63 1513.92 1055.63 1522.67 Q1055.63 1531.4 1052.56 1536.01 Q1049.5 1540.59 1043.69 1540.59 Q1037.88 1540.59 1034.8 1536.01 Q1031.75 1531.4 1031.75 1522.67 Q1031.75 1513.92 1034.8 1509.34 Q1037.88 1504.73 1043.69 1504.73 Z\" fill=\"#000000\" fill-rule=\"evenodd\" fill-opacity=\"1\" /><path clip-path=\"url(#clip810)\" d=\"M 0 0 M1479.56 1508.44 Q1475.95 1508.44 1474.12 1512 Q1472.31 1515.55 1472.31 1522.67 Q1472.31 1529.78 1474.12 1533.35 Q1475.95 1536.89 1479.56 1536.89 Q1483.19 1536.89 1485 1533.35 Q1486.83 1529.78 1486.83 1522.67 Q1486.83 1515.55 1485 1512 Q1483.19 1508.44 1479.56 1508.44 M1479.56 1504.73 Q1485.37 1504.73 1488.42 1509.34 Q1491.5 1513.92 1491.5 1522.67 Q1491.5 1531.4 1488.42 1536.01 Q1485.37 1540.59 1479.56 1540.59 Q1473.75 1540.59 1470.67 1536.01 Q1467.61 1531.4 1467.61 1522.67 Q1467.61 1513.92 1470.67 1509.34 Q1473.75 1504.73 1479.56 1504.73 Z\" fill=\"#000000\" fill-rule=\"evenodd\" fill-opacity=\"1\" /><path clip-path=\"url(#clip810)\" d=\"M 0 0 M1496.57 1534.04 L1501.46 1534.04 L1501.46 1539.92 L1496.57 1539.92 L1496.57 1534.04 Z\" fill=\"#000000\" fill-rule=\"evenodd\" fill-opacity=\"1\" /><path clip-path=\"url(#clip810)\" d=\"M 0 0 M1510.55 1535.98 L1526.87 1535.98 L1526.87 1539.92 L1504.93 1539.92 L1504.93 1535.98 Q1507.59 1533.23 1512.17 1528.6 Q1516.78 1523.95 1517.96 1522.61 Q1520.21 1520.08 1521.09 1518.35 Q1521.99 1516.59 1521.99 1514.9 Q1521.99 1512.14 1520.05 1510.41 Q1518.12 1508.67 1515.02 1508.67 Q1512.82 1508.67 1510.37 1509.43 Q1507.94 1510.2 1505.16 1511.75 L1505.16 1507.03 Q1507.99 1505.89 1510.44 1505.31 Q1512.89 1504.73 1514.93 1504.73 Q1520.3 1504.73 1523.49 1507.42 Q1526.69 1510.11 1526.69 1514.6 Q1526.69 1516.73 1525.88 1518.65 Q1525.09 1520.54 1522.98 1523.14 Q1522.41 1523.81 1519.3 1527.03 Q1516.2 1530.22 1510.55 1535.98 Z\" fill=\"#000000\" fill-rule=\"evenodd\" fill-opacity=\"1\" /><path clip-path=\"url(#clip810)\" d=\"M 0 0 M1531.99 1505.36 L1550.35 1505.36 L1550.35 1509.3 L1536.27 1509.3 L1536.27 1517.77 Q1537.29 1517.42 1538.31 1517.26 Q1539.33 1517.07 1540.35 1517.07 Q1546.13 1517.07 1549.51 1520.24 Q1552.89 1523.42 1552.89 1528.83 Q1552.89 1534.41 1549.42 1537.51 Q1545.95 1540.59 1539.63 1540.59 Q1537.45 1540.59 1535.18 1540.22 Q1532.94 1539.85 1530.53 1539.11 L1530.53 1534.41 Q1532.61 1535.54 1534.84 1536.1 Q1537.06 1536.66 1539.54 1536.66 Q1543.54 1536.66 1545.88 1534.55 Q1548.22 1532.44 1548.22 1528.83 Q1548.22 1525.22 1545.88 1523.11 Q1543.54 1521.01 1539.54 1521.01 Q1537.66 1521.01 1535.79 1521.42 Q1533.93 1521.84 1531.99 1522.72 L1531.99 1505.36 Z\" fill=\"#000000\" fill-rule=\"evenodd\" fill-opacity=\"1\" /><path clip-path=\"url(#clip810)\" d=\"M 0 0 M1977.31 1508.44 Q1973.7 1508.44 1971.87 1512 Q1970.07 1515.55 1970.07 1522.67 Q1970.07 1529.78 1971.87 1533.35 Q1973.7 1536.89 1977.31 1536.89 Q1980.95 1536.89 1982.75 1533.35 Q1984.58 1529.78 1984.58 1522.67 Q1984.58 1515.55 1982.75 1512 Q1980.95 1508.44 1977.31 1508.44 M1977.31 1504.73 Q1983.12 1504.73 1986.18 1509.34 Q1989.26 1513.92 1989.26 1522.67 Q1989.26 1531.4 1986.18 1536.01 Q1983.12 1540.59 1977.31 1540.59 Q1971.5 1540.59 1968.43 1536.01 Q1965.37 1531.4 1965.37 1522.67 Q1965.37 1513.92 1968.43 1509.34 Q1971.5 1504.73 1977.31 1504.73 Z\" fill=\"#000000\" fill-rule=\"evenodd\" fill-opacity=\"1\" /><path clip-path=\"url(#clip810)\" d=\"M 0 0 M1994.33 1534.04 L1999.21 1534.04 L1999.21 1539.92 L1994.33 1539.92 L1994.33 1534.04 Z\" fill=\"#000000\" fill-rule=\"evenodd\" fill-opacity=\"1\" /><path clip-path=\"url(#clip810)\" d=\"M 0 0 M2004.33 1505.36 L2022.68 1505.36 L2022.68 1509.3 L2008.61 1509.3 L2008.61 1517.77 Q2009.63 1517.42 2010.65 1517.26 Q2011.67 1517.07 2012.68 1517.07 Q2018.47 1517.07 2021.85 1520.24 Q2025.23 1523.42 2025.23 1528.83 Q2025.23 1534.41 2021.76 1537.51 Q2018.29 1540.59 2011.97 1540.59 Q2009.79 1540.59 2007.52 1540.22 Q2005.28 1539.85 2002.87 1539.11 L2002.87 1534.41 Q2004.95 1535.54 2007.18 1536.1 Q2009.4 1536.66 2011.87 1536.66 Q2015.88 1536.66 2018.22 1534.55 Q2020.56 1532.44 2020.56 1528.83 Q2020.56 1525.22 2018.22 1523.11 Q2015.88 1521.01 2011.87 1521.01 Q2010 1521.01 2008.12 1521.42 Q2006.27 1521.84 2004.33 1522.72 L2004.33 1505.36 Z\" fill=\"#000000\" fill-rule=\"evenodd\" fill-opacity=\"1\" /><path clip-path=\"url(#clip810)\" d=\"M 0 0 M2040.3 1508.44 Q2036.69 1508.44 2034.86 1512 Q2033.06 1515.55 2033.06 1522.67 Q2033.06 1529.78 2034.86 1533.35 Q2036.69 1536.89 2040.3 1536.89 Q2043.93 1536.89 2045.74 1533.35 Q2047.57 1529.78 2047.57 1522.67 Q2047.57 1515.55 2045.74 1512 Q2043.93 1508.44 2040.3 1508.44 M2040.3 1504.73 Q2046.11 1504.73 2049.17 1509.34 Q2052.24 1513.92 2052.24 1522.67 Q2052.24 1531.4 2049.17 1536.01 Q2046.11 1540.59 2040.3 1540.59 Q2034.49 1540.59 2031.41 1536.01 Q2028.36 1531.4 2028.36 1522.67 Q2028.36 1513.92 2031.41 1509.34 Q2034.49 1504.73 2040.3 1504.73 Z\" fill=\"#000000\" fill-rule=\"evenodd\" fill-opacity=\"1\" /><path clip-path=\"url(#clip810)\" d=\"M 0 0 M62.9921 1486.67 L75.4689 1486.67 L75.4689 1490.46 L62.9921 1490.46 L62.9921 1486.67 Z\" fill=\"#000000\" fill-rule=\"evenodd\" fill-opacity=\"1\" /><path clip-path=\"url(#clip810)\" d=\"M 0 0 M90.5383 1470.07 Q86.9272 1470.07 85.0985 1473.64 Q83.2929 1477.18 83.2929 1484.31 Q83.2929 1491.41 85.0985 1494.98 Q86.9272 1498.52 90.5383 1498.52 Q94.1725 1498.52 95.9781 1494.98 Q97.8068 1491.41 97.8068 1484.31 Q97.8068 1477.18 95.9781 1473.64 Q94.1725 1470.07 90.5383 1470.07 M90.5383 1466.37 Q96.3484 1466.37 99.404 1470.97 Q102.483 1475.56 102.483 1484.31 Q102.483 1493.03 99.404 1497.64 Q96.3484 1502.22 90.5383 1502.22 Q84.7281 1502.22 81.6494 1497.64 Q78.5939 1493.03 78.5939 1484.31 Q78.5939 1475.56 81.6494 1470.97 Q84.7281 1466.37 90.5383 1466.37 Z\" fill=\"#000000\" fill-rule=\"evenodd\" fill-opacity=\"1\" /><path clip-path=\"url(#clip810)\" d=\"M 0 0 M107.552 1495.67 L112.436 1495.67 L112.436 1501.55 L107.552 1501.55 L107.552 1495.67 Z\" fill=\"#000000\" fill-rule=\"evenodd\" fill-opacity=\"1\" /><path clip-path=\"url(#clip810)\" d=\"M 0 0 M130.353 1471.07 L118.547 1489.52 L130.353 1489.52 L130.353 1471.07 M129.126 1466.99 L135.006 1466.99 L135.006 1489.52 L139.936 1489.52 L139.936 1493.4 L135.006 1493.4 L135.006 1501.55 L130.353 1501.55 L130.353 1493.4 L114.751 1493.4 L114.751 1488.89 L129.126 1466.99 Z\" fill=\"#000000\" fill-rule=\"evenodd\" fill-opacity=\"1\" /><path clip-path=\"url(#clip810)\" d=\"M 0 0 M65.0754 1155.86 L77.5522 1155.86 L77.5522 1159.65 L65.0754 1159.65 L65.0754 1155.86 Z\" fill=\"#000000\" fill-rule=\"evenodd\" fill-opacity=\"1\" /><path clip-path=\"url(#clip810)\" d=\"M 0 0 M92.6216 1139.26 Q89.0105 1139.26 87.1818 1142.83 Q85.3763 1146.37 85.3763 1153.5 Q85.3763 1160.6 87.1818 1164.17 Q89.0105 1167.71 92.6216 1167.71 Q96.2558 1167.71 98.0614 1164.17 Q99.8901 1160.6 99.8901 1153.5 Q99.8901 1146.37 98.0614 1142.83 Q96.2558 1139.26 92.6216 1139.26 M92.6216 1135.56 Q98.4318 1135.56 101.487 1140.16 Q104.566 1144.75 104.566 1153.5 Q104.566 1162.22 101.487 1166.83 Q98.4318 1171.41 92.6216 1171.41 Q86.8114 1171.41 83.7328 1166.83 Q80.6772 1162.22 80.6772 1153.5 Q80.6772 1144.75 83.7328 1140.16 Q86.8114 1135.56 92.6216 1135.56 Z\" fill=\"#000000\" fill-rule=\"evenodd\" fill-opacity=\"1\" /><path clip-path=\"url(#clip810)\" d=\"M 0 0 M109.635 1164.86 L114.52 1164.86 L114.52 1170.74 L109.635 1170.74 L109.635 1164.86 Z\" fill=\"#000000\" fill-rule=\"evenodd\" fill-opacity=\"1\" /><path clip-path=\"url(#clip810)\" d=\"M 0 0 M123.617 1166.81 L139.936 1166.81 L139.936 1170.74 L117.992 1170.74 L117.992 1166.81 Q120.654 1164.05 125.237 1159.42 Q129.844 1154.77 131.024 1153.43 Q133.27 1150.9 134.149 1149.17 Q135.052 1147.41 135.052 1145.72 Q135.052 1142.96 133.107 1141.23 Q131.186 1139.49 128.084 1139.49 Q125.885 1139.49 123.432 1140.26 Q121.001 1141.02 118.223 1142.57 L118.223 1137.85 Q121.047 1136.71 123.501 1136.14 Q125.955 1135.56 127.992 1135.56 Q133.362 1135.56 136.557 1138.24 Q139.751 1140.93 139.751 1145.42 Q139.751 1147.55 138.941 1149.47 Q138.154 1151.37 136.047 1153.96 Q135.469 1154.63 132.367 1157.85 Q129.265 1161.04 123.617 1166.81 Z\" fill=\"#000000\" fill-rule=\"evenodd\" fill-opacity=\"1\" /><path clip-path=\"url(#clip810)\" d=\"M 0 0 M91.0244 808.451 Q87.4133 808.451 85.5846 812.016 Q83.7791 815.558 83.7791 822.687 Q83.7791 829.794 85.5846 833.359 Q87.4133 836.9 91.0244 836.9 Q94.6586 836.9 96.4642 833.359 Q98.2929 829.794 98.2929 822.687 Q98.2929 815.558 96.4642 812.016 Q94.6586 808.451 91.0244 808.451 M91.0244 804.748 Q96.8345 804.748 99.8901 809.354 Q102.969 813.937 102.969 822.687 Q102.969 831.414 99.8901 836.021 Q96.8345 840.604 91.0244 840.604 Q85.2142 840.604 82.1355 836.021 Q79.08 831.414 79.08 822.687 Q79.08 813.937 82.1355 809.354 Q85.2142 804.748 91.0244 804.748 Z\" fill=\"#000000\" fill-rule=\"evenodd\" fill-opacity=\"1\" /><path clip-path=\"url(#clip810)\" d=\"M 0 0 M108.038 834.053 L112.922 834.053 L112.922 839.933 L108.038 839.933 L108.038 834.053 Z\" fill=\"#000000\" fill-rule=\"evenodd\" fill-opacity=\"1\" /><path clip-path=\"url(#clip810)\" d=\"M 0 0 M127.992 808.451 Q124.381 808.451 122.552 812.016 Q120.746 815.558 120.746 822.687 Q120.746 829.794 122.552 833.359 Q124.381 836.9 127.992 836.9 Q131.626 836.9 133.432 833.359 Q135.26 829.794 135.26 822.687 Q135.26 815.558 133.432 812.016 Q131.626 808.451 127.992 808.451 M127.992 804.748 Q133.802 804.748 136.857 809.354 Q139.936 813.937 139.936 822.687 Q139.936 831.414 136.857 836.021 Q133.802 840.604 127.992 840.604 Q122.182 840.604 119.103 836.021 Q116.047 831.414 116.047 822.687 Q116.047 813.937 119.103 809.354 Q122.182 804.748 127.992 804.748 Z\" fill=\"#000000\" fill-rule=\"evenodd\" fill-opacity=\"1\" /><path clip-path=\"url(#clip810)\" d=\"M 0 0 M92.6216 477.641 Q89.0105 477.641 87.1818 481.206 Q85.3763 484.748 85.3763 491.877 Q85.3763 498.984 87.1818 502.549 Q89.0105 506.09 92.6216 506.09 Q96.2558 506.09 98.0614 502.549 Q99.8901 498.984 99.8901 491.877 Q99.8901 484.748 98.0614 481.206 Q96.2558 477.641 92.6216 477.641 M92.6216 473.938 Q98.4318 473.938 101.487 478.544 Q104.566 483.127 104.566 491.877 Q104.566 500.604 101.487 505.211 Q98.4318 509.794 92.6216 509.794 Q86.8114 509.794 83.7328 505.211 Q80.6772 500.604 80.6772 491.877 Q80.6772 483.127 83.7328 478.544 Q86.8114 473.938 92.6216 473.938 Z\" fill=\"#000000\" fill-rule=\"evenodd\" fill-opacity=\"1\" /><path clip-path=\"url(#clip810)\" d=\"M 0 0 M109.635 503.243 L114.52 503.243 L114.52 509.123 L109.635 509.123 L109.635 503.243 Z\" fill=\"#000000\" fill-rule=\"evenodd\" fill-opacity=\"1\" /><path clip-path=\"url(#clip810)\" d=\"M 0 0 M123.617 505.188 L139.936 505.188 L139.936 509.123 L117.992 509.123 L117.992 505.188 Q120.654 502.433 125.237 497.803 Q129.844 493.151 131.024 491.808 Q133.27 489.285 134.149 487.549 Q135.052 485.789 135.052 484.1 Q135.052 481.345 133.107 479.609 Q131.186 477.873 128.084 477.873 Q125.885 477.873 123.432 478.637 Q121.001 479.401 118.223 480.952 L118.223 476.229 Q121.047 475.095 123.501 474.516 Q125.955 473.938 127.992 473.938 Q133.362 473.938 136.557 476.623 Q139.751 479.308 139.751 483.799 Q139.751 485.928 138.941 487.85 Q138.154 489.748 136.047 492.34 Q135.469 493.012 132.367 496.229 Q129.265 499.424 123.617 505.188 Z\" fill=\"#000000\" fill-rule=\"evenodd\" fill-opacity=\"1\" /><path clip-path=\"url(#clip810)\" d=\"M 0 0 M90.5383 146.831 Q86.9272 146.831 85.0985 150.396 Q83.2929 153.938 83.2929 161.067 Q83.2929 168.174 85.0985 171.739 Q86.9272 175.28 90.5383 175.28 Q94.1725 175.28 95.9781 171.739 Q97.8068 168.174 97.8068 161.067 Q97.8068 153.938 95.9781 150.396 Q94.1725 146.831 90.5383 146.831 M90.5383 143.128 Q96.3484 143.128 99.404 147.734 Q102.483 152.318 102.483 161.067 Q102.483 169.794 99.404 174.401 Q96.3484 178.984 90.5383 178.984 Q84.7281 178.984 81.6494 174.401 Q78.5939 169.794 78.5939 161.067 Q78.5939 152.318 81.6494 147.734 Q84.7281 143.128 90.5383 143.128 Z\" fill=\"#000000\" fill-rule=\"evenodd\" fill-opacity=\"1\" /><path clip-path=\"url(#clip810)\" d=\"M 0 0 M107.552 172.433 L112.436 172.433 L112.436 178.313 L107.552 178.313 L107.552 172.433 Z\" fill=\"#000000\" fill-rule=\"evenodd\" fill-opacity=\"1\" /><path clip-path=\"url(#clip810)\" d=\"M 0 0 M130.353 147.827 L118.547 166.276 L130.353 166.276 L130.353 147.827 M129.126 143.753 L135.006 143.753 L135.006 166.276 L139.936 166.276 L139.936 170.165 L135.006 170.165 L135.006 178.313 L130.353 178.313 L130.353 170.165 L114.751 170.165 L114.751 165.651 L129.126 143.753 Z\" fill=\"#000000\" fill-rule=\"evenodd\" fill-opacity=\"1\" /><path clip-path=\"url(#clip812)\" d=\"\n",
       "M2290.81 526.392 L225.884 526.392 L225.884 718.364 L2290.81 718.364 L2290.81 526.392 L2290.81 526.392  Z\n",
       "  \" fill=\"#009af9\" fill-rule=\"evenodd\" fill-opacity=\"0.5\"/>\n",
       "<polyline clip-path=\"url(#clip812)\" style=\"stroke:#000000; stroke-width:4; stroke-opacity:0.5; fill:none\" points=\"\n",
       "  2290.81,526.392 225.884,526.392 225.884,718.364 2290.81,718.364 2290.81,526.392 \n",
       "  \"/>\n",
       "<path clip-path=\"url(#clip812)\" d=\"\n",
       "M1221.48 1445.72 L1221.48 1445.72 L1774.72 1308.51 L1774.72 1308.51 L2065.3 87.9763 L2065.3 87.9763 L1512.06 225.183 L1221.48 1445.72 L1221.48 1445.72  Z\n",
       "  \" fill=\"#e26f46\" fill-rule=\"evenodd\" fill-opacity=\"0.5\"/>\n",
       "<polyline clip-path=\"url(#clip812)\" style=\"stroke:#000000; stroke-width:4; stroke-opacity:0.5; fill:none\" points=\"\n",
       "  1221.48,1445.72 1221.48,1445.72 1774.72,1308.51 1774.72,1308.51 2065.3,87.9763 2065.3,87.9763 1512.06,225.183 1221.48,1445.72 \n",
       "  \"/>\n",
       "<path clip-path=\"url(#clip810)\" d=\"\n",
       "M2011.17 312.204 L2280.76 312.204 L2280.76 130.764 L2011.17 130.764  Z\n",
       "  \" fill=\"#ffffff\" fill-rule=\"evenodd\" fill-opacity=\"1\"/>\n",
       "<polyline clip-path=\"url(#clip810)\" style=\"stroke:#000000; stroke-width:4; stroke-opacity:1; fill:none\" points=\"\n",
       "  2011.17,312.204 2280.76,312.204 2280.76,130.764 2011.17,130.764 2011.17,312.204 \n",
       "  \"/>\n",
       "<path clip-path=\"url(#clip810)\" d=\"\n",
       "M2035.17 215.436 L2179.17 215.436 L2179.17 167.052 L2035.17 167.052 L2035.17 215.436  Z\n",
       "  \" fill=\"#009af9\" fill-rule=\"evenodd\" fill-opacity=\"0.5\"/>\n",
       "<polyline clip-path=\"url(#clip810)\" style=\"stroke:#000000; stroke-width:4; stroke-opacity:1; fill:none\" points=\"\n",
       "  2035.17,215.436 2179.17,215.436 2179.17,167.052 2035.17,167.052 2035.17,215.436 \n",
       "  \"/>\n",
       "<path clip-path=\"url(#clip810)\" d=\"M 0 0 M2204.75 173.964 L2209.77 173.964 L2218.36 186.811 L2226.99 173.964 L2232.02 173.964 L2220.9 190.561 L2232.76 208.524 L2227.73 208.524 L2218.01 193.825 L2208.22 208.524 L2203.17 208.524 L2215.51 190.075 L2204.75 173.964 Z\" fill=\"#000000\" fill-rule=\"evenodd\" fill-opacity=\"1\" /><path clip-path=\"url(#clip810)\" d=\"\n",
       "M2035.17 275.916 L2179.17 275.916 L2179.17 227.532 L2035.17 227.532 L2035.17 275.916  Z\n",
       "  \" fill=\"#e26f46\" fill-rule=\"evenodd\" fill-opacity=\"0.5\"/>\n",
       "<polyline clip-path=\"url(#clip810)\" style=\"stroke:#000000; stroke-width:4; stroke-opacity:1; fill:none\" points=\"\n",
       "  2035.17,275.916 2179.17,275.916 2179.17,227.532 2035.17,227.532 2035.17,275.916 \n",
       "  \"/>\n",
       "<path clip-path=\"url(#clip810)\" d=\"M 0 0 M2203.17 234.444 L2208.2 234.444 L2217.78 248.657 L2227.29 234.444 L2232.32 234.444 L2220.09 252.546 L2220.09 269.004 L2215.39 269.004 L2215.39 252.546 L2203.17 234.444 Z\" fill=\"#000000\" fill-rule=\"evenodd\" fill-opacity=\"1\" /></svg>\n"
      ]
     },
     "execution_count": 4,
     "metadata": {},
     "output_type": "execute_result"
    }
   ],
   "source": [
    "X = rand(Hyperrectangle)\n",
    "Y = rand(2, 2) * rand(Hyperrectangle)\n",
    "\n",
    "plot(X, lab=\"X\")\n",
    "plot!(Y, lab=\"Y\")"
   ]
  },
  {
   "cell_type": "code",
   "execution_count": 5,
   "metadata": {},
   "outputs": [],
   "source": [
    "using InteractiveUtils"
   ]
  },
  {
   "cell_type": "code",
   "execution_count": 21,
   "metadata": {},
   "outputs": [
    {
     "name": "stdout",
     "output_type": "stream",
     "text": [
      "  6.944 μs (139 allocations: 11.72 KiB)\n"
     ]
    },
    {
     "data": {
      "text/plain": [
       "0.030297577187546103"
      ]
     },
     "execution_count": 21,
     "metadata": {},
     "output_type": "execute_result"
    }
   ],
   "source": [
    "@btime intersection_area_1($X, $Y)"
   ]
  },
  {
   "cell_type": "code",
   "execution_count": 16,
   "metadata": {},
   "outputs": [
    {
     "data": {
      "text/plain": [
       "intersection_area_2 (generic function with 1 method)"
      ]
     },
     "execution_count": 16,
     "metadata": {},
     "output_type": "execute_result"
    }
   ],
   "source": [
    "function rectangular_overlap_exact_2(xmin, ymin, xmax, ymax, w, h, θ)\n",
    "    sint, cost = sincos(deg2rad(θ))\n",
    "    R = [cost -sint; sint cost]\n",
    "    aper = R * Hyperrectangle(zeros(2), [w / 2, h / 2])\n",
    "    dy = ymax - ymin\n",
    "    dx = xmax - xmin\n",
    "    pix = Hyperrectangle([dx / 2 + xmin, dy / 2 + ymin], [dx / 2, dy / 2])\n",
    "    return intersection_area_2(pix, aper)\n",
    "end\n",
    "\n",
    "function intersection_area_2(X::AbstractHyperrectangle{N},\n",
    "                             Y::LinearMap{N, <:AbstractHyperrectangle{N}}) where {N}\n",
    "    intersection(convert(VPolygon, X), convert(VPolygon, Y)) |> area\n",
    "end"
   ]
  },
  {
   "cell_type": "code",
   "execution_count": 15,
   "metadata": {},
   "outputs": [
    {
     "name": "stdout",
     "output_type": "stream",
     "text": [
      "  1.865 μs (52 allocations: 4.56 KiB)\n"
     ]
    },
    {
     "data": {
      "text/plain": [
       "0.030297577187546124"
      ]
     },
     "execution_count": 15,
     "metadata": {},
     "output_type": "execute_result"
    }
   ],
   "source": [
    "@btime intersection_area_2($X, $Y)"
   ]
  },
  {
   "cell_type": "code",
   "execution_count": 26,
   "metadata": {},
   "outputs": [
    {
     "data": {
      "text/plain": [
       "0.25"
      ]
     },
     "execution_count": 26,
     "metadata": {},
     "output_type": "execute_result"
    }
   ],
   "source": [
    "rectangular_overlap_exact_2(xmin, ymin, xmax, ymax, w, h, θ)"
   ]
  },
  {
   "cell_type": "code",
   "execution_count": 27,
   "metadata": {},
   "outputs": [
    {
     "data": {
      "text/plain": [
       "(0, 0, 1, 1, 1, 1, 0)"
      ]
     },
     "execution_count": 27,
     "metadata": {},
     "output_type": "execute_result"
    }
   ],
   "source": [
    "xmin, ymin, xmax, ymax, w, h, θ = (0, 0, 1, 1, 1, 1, 0)"
   ]
  },
  {
   "cell_type": "code",
   "execution_count": 28,
   "metadata": {},
   "outputs": [
    {
     "data": {
      "text/plain": [
       "0.25"
      ]
     },
     "execution_count": 28,
     "metadata": {},
     "output_type": "execute_result"
    }
   ],
   "source": [
    "rectangular_overlap_exact_1(xmin, ymin, xmax, ymax, w, h, θ)"
   ]
  },
  {
   "cell_type": "code",
   "execution_count": 29,
   "metadata": {},
   "outputs": [
    {
     "name": "stdout",
     "output_type": "stream",
     "text": [
      "  6.043 μs (129 allocations: 9.83 KiB)\n",
      "  1.865 μs (54 allocations: 4.47 KiB)\n"
     ]
    },
    {
     "data": {
      "text/plain": [
       "0.25"
      ]
     },
     "execution_count": 29,
     "metadata": {},
     "output_type": "execute_result"
    }
   ],
   "source": [
    "@btime rectangular_overlap_exact_1($xmin, $ymin, $xmax, $ymax, $w, $h, $θ)\n",
    "@btime rectangular_overlap_exact_2($xmin, $ymin, $xmax, $ymax, $w, $h, $θ)"
   ]
  },
  {
   "cell_type": "code",
   "execution_count": 45,
   "metadata": {},
   "outputs": [
    {
     "data": {
      "text/plain": [
       "intersection_area_3 (generic function with 1 method)"
      ]
     },
     "execution_count": 45,
     "metadata": {},
     "output_type": "execute_result"
    }
   ],
   "source": [
    "function rectangular_overlap_exact_3(xmin, ymin, xmax, ymax, w, h, θ)\n",
    "    sint, cost = sincos(deg2rad(θ))\n",
    "    R = [cost -sint; sint cost]\n",
    "    aper = R * Hyperrectangle(zeros(2), [w / 2, h / 2])\n",
    "    dy = ymax - ymin\n",
    "    dx = xmax - xmin\n",
    "    pix = Hyperrectangle([dx / 2 + xmin, dy / 2 + ymin], [dx / 2, dy / 2], check_bounds=true)\n",
    "    return intersection_area_3(pix, aper)\n",
    "end\n",
    "\n",
    "function intersection_area_3(X::AbstractHyperrectangle{N},\n",
    "                             Y::LinearMap{N, <:AbstractHyperrectangle{N}}) where {N}\n",
    "    p = convert(VPolygon, X)\n",
    "    q = convert(VPolygon, Y)\n",
    "    o = LazySets._intersection_vrep(p.vertices, q.vertices)\n",
    "    return LazySets._area_polygon(convex_hull(o))\n",
    "end"
   ]
  },
  {
   "cell_type": "code",
   "execution_count": 46,
   "metadata": {},
   "outputs": [
    {
     "name": "stdout",
     "output_type": "stream",
     "text": [
      "  1.859 μs (53 allocations: 4.45 KiB)\n"
     ]
    },
    {
     "data": {
      "text/plain": [
       "0.25"
      ]
     },
     "execution_count": 46,
     "metadata": {},
     "output_type": "execute_result"
    }
   ],
   "source": [
    "@btime rectangular_overlap_exact_3($xmin, $ymin, $xmax, $ymax, $w, $h, $θ)"
   ]
  },
  {
   "cell_type": "code",
   "execution_count": 34,
   "metadata": {},
   "outputs": [
    {
     "name": "stdout",
     "output_type": "stream",
     "text": [
      "Variables\n",
      "  #self#\u001b[36m::Core.Compiler.Const(intersection_area_1, false)\u001b[39m\n",
      "  X\u001b[36m::Hyperrectangle{Float64,Array{Float64,1},Array{Float64,1}}\u001b[39m\n",
      "  Y\u001b[36m::LinearMap{Float64,Hyperrectangle{Float64,Array{Float64,1},Array{Float64,1}},Float64,Array{Float64,2}}\u001b[39m\n",
      "  X_clist\u001b[36m::Array{HalfSpace{Float64,LazySets.Arrays.SingleEntryVector{Float64}},1}\u001b[39m\n",
      "  X_poly\u001b[36m::HPolygon{Float64,LazySets.Arrays.SingleEntryVector{Float64}}\u001b[39m\n",
      "  Y_clist\u001b[36m::Array{HalfSpace{Float64,Array{Float64,1}},1}\u001b[39m\n",
      "  Y_poly\u001b[36m::HPolygon{Float64,Array{Float64,1}}\u001b[39m\n",
      "\n",
      "Body\u001b[91m\u001b[1m::Any\u001b[22m\u001b[39m\n",
      "\u001b[90m1 ─\u001b[39m       (X_clist = X |> Main.constraints_list)\n",
      "\u001b[90m│  \u001b[39m %2  = (:sort_constraints, :prune, :check_boundedness)\u001b[36m::Core.Compiler.Const((:sort_constraints, :prune, :check_boundedness), false)\u001b[39m\n",
      "\u001b[90m│  \u001b[39m %3  = Core.apply_type(Core.NamedTuple, %2)\u001b[36m::Core.Compiler.Const(NamedTuple{(:sort_constraints, :prune, :check_boundedness),T} where T<:Tuple, false)\u001b[39m\n",
      "\u001b[90m│  \u001b[39m %4  = Core.tuple(true, false, false)\u001b[36m::Core.Compiler.Const((true, false, false), false)\u001b[39m\n",
      "\u001b[90m│  \u001b[39m %5  = (%3)(%4)\u001b[36m::NamedTuple{(:sort_constraints, :prune, :check_boundedness),Tuple{Bool,Bool,Bool}}\u001b[39m\n",
      "\u001b[90m│  \u001b[39m %6  = Core.kwfunc(Main.HPolygon)\u001b[36m::Core.Compiler.Const(Core.var\"#Type##kw\"(), false)\u001b[39m\n",
      "\u001b[90m│  \u001b[39m       (X_poly = (%6)(%5, Main.HPolygon, X_clist))\n",
      "\u001b[90m│  \u001b[39m %8  = Main.matrix(Y)\u001b[36m::Array{Float64,2}\u001b[39m\n",
      "\u001b[90m│  \u001b[39m %9  = Main.set(Y)\u001b[36m::Hyperrectangle{Float64,Array{Float64,1},Array{Float64,1}}\u001b[39m\n",
      "\u001b[90m│  \u001b[39m %10 = Main.linear_map(%8, %9)\u001b[36m::Zonotope{Float64,Array{Float64,1},Array{Float64,2}}\u001b[39m\n",
      "\u001b[90m│  \u001b[39m       (Y_clist = %10 |> Main.constraints_list)\n",
      "\u001b[90m│  \u001b[39m %12 = (:sort_constraints, :prune, :check_boundedness)\u001b[36m::Core.Compiler.Const((:sort_constraints, :prune, :check_boundedness), false)\u001b[39m\n",
      "\u001b[90m│  \u001b[39m %13 = Core.apply_type(Core.NamedTuple, %12)\u001b[36m::Core.Compiler.Const(NamedTuple{(:sort_constraints, :prune, :check_boundedness),T} where T<:Tuple, false)\u001b[39m\n",
      "\u001b[90m│  \u001b[39m %14 = Core.tuple(true, false, false)\u001b[36m::Core.Compiler.Const((true, false, false), false)\u001b[39m\n",
      "\u001b[90m│  \u001b[39m %15 = (%13)(%14)\u001b[36m::NamedTuple{(:sort_constraints, :prune, :check_boundedness),Tuple{Bool,Bool,Bool}}\u001b[39m\n",
      "\u001b[90m│  \u001b[39m %16 = Core.kwfunc(Main.HPolygon)\u001b[36m::Core.Compiler.Const(Core.var\"#Type##kw\"(), false)\u001b[39m\n",
      "\u001b[90m│  \u001b[39m       (Y_poly = (%16)(%15, Main.HPolygon, Y_clist))\n",
      "\u001b[90m│  \u001b[39m %18 = Main.intersection(X_poly, Y_poly)\u001b[91m\u001b[1m::Union{EmptySet{Float64}, HPolygon}\u001b[22m\u001b[39m\n",
      "\u001b[90m│  \u001b[39m %19 = (%18 |> Main.area)\u001b[91m\u001b[1m::Any\u001b[22m\u001b[39m\n",
      "\u001b[90m└──\u001b[39m       return %19\n"
     ]
    }
   ],
   "source": [
    "@code_warntype intersection_area_1(X, Y)"
   ]
  },
  {
   "cell_type": "code",
   "execution_count": 36,
   "metadata": {},
   "outputs": [
    {
     "name": "stdout",
     "output_type": "stream",
     "text": [
      "Variables\n",
      "  #self#\u001b[36m::Core.Compiler.Const(intersection_area_2, false)\u001b[39m\n",
      "  X\u001b[36m::Hyperrectangle{Float64,Array{Float64,1},Array{Float64,1}}\u001b[39m\n",
      "  Y\u001b[36m::LinearMap{Float64,Hyperrectangle{Float64,Array{Float64,1},Array{Float64,1}},Float64,Array{Float64,2}}\u001b[39m\n",
      "\n",
      "Body\u001b[36m::Float64\u001b[39m\n",
      "\u001b[90m1 ─\u001b[39m %1 = Main.convert(Main.VPolygon, X)\u001b[36m::VPolygon{Float64,Array{Float64,1}}\u001b[39m\n",
      "\u001b[90m│  \u001b[39m %2 = Main.convert(Main.VPolygon, Y)\u001b[36m::VPolygon{Float64,Array{Float64,1}}\u001b[39m\n",
      "\u001b[90m│  \u001b[39m %3 = Main.intersection(%1, %2)\u001b[91m\u001b[1m::Union{EmptySet{Float64}, VPolygon{Float64,Array{Float64,1}}}\u001b[22m\u001b[39m\n",
      "\u001b[90m│  \u001b[39m %4 = (%3 |> Main.area)\u001b[36m::Float64\u001b[39m\n",
      "\u001b[90m└──\u001b[39m      return %4\n"
     ]
    }
   ],
   "source": [
    "@code_warntype intersection_area_2(X, Y)"
   ]
  },
  {
   "cell_type": "code",
   "execution_count": 44,
   "metadata": {},
   "outputs": [
    {
     "name": "stdout",
     "output_type": "stream",
     "text": [
      "Variables\n",
      "  #self#\u001b[36m::Core.Compiler.Const(intersection_area_3, false)\u001b[39m\n",
      "  X\u001b[36m::Hyperrectangle{Float64,Array{Float64,1},Array{Float64,1}}\u001b[39m\n",
      "  Y\u001b[36m::LinearMap{Float64,Hyperrectangle{Float64,Array{Float64,1},Array{Float64,1}},Float64,Array{Float64,2}}\u001b[39m\n",
      "  p\u001b[36m::VPolygon{Float64,Array{Float64,1}}\u001b[39m\n",
      "  q\u001b[36m::VPolygon{Float64,Array{Float64,1}}\u001b[39m\n",
      "  o\u001b[36m::Array{Array{Float64,1},1}\u001b[39m\n",
      "\n",
      "Body\u001b[36m::Float64\u001b[39m\n",
      "\u001b[90m1 ─\u001b[39m      (p = Main.convert(Main.VPolygon, X))\n",
      "\u001b[90m│  \u001b[39m      (q = Main.convert(Main.VPolygon, Y))\n",
      "\u001b[90m│  \u001b[39m %3 = LazySets._intersection_vrep\u001b[36m::Core.Compiler.Const(LazySets._intersection_vrep, false)\u001b[39m\n",
      "\u001b[90m│  \u001b[39m %4 = Base.getproperty(p, :vertices)\u001b[36m::Array{Array{Float64,1},1}\u001b[39m\n",
      "\u001b[90m│  \u001b[39m %5 = Base.getproperty(q, :vertices)\u001b[36m::Array{Array{Float64,1},1}\u001b[39m\n",
      "\u001b[90m│  \u001b[39m      (o = (%3)(%4, %5))\n",
      "\u001b[90m│  \u001b[39m %7 = LazySets._area_polygon\u001b[36m::Core.Compiler.Const(LazySets._area_polygon, false)\u001b[39m\n",
      "\u001b[90m│  \u001b[39m %8 = Main.convex_hull(o)\u001b[36m::Array{Array{Float64,1},1}\u001b[39m\n",
      "\u001b[90m│  \u001b[39m %9 = (%7)(%8)\u001b[36m::Float64\u001b[39m\n",
      "\u001b[90m└──\u001b[39m      return %9\n"
     ]
    }
   ],
   "source": [
    "@code_warntype intersection_area_3(X, Y)"
   ]
  },
  {
   "cell_type": "markdown",
   "metadata": {},
   "source": [
    "---"
   ]
  },
  {
   "cell_type": "markdown",
   "metadata": {},
   "source": [
    "## Using Static Arrays"
   ]
  },
  {
   "cell_type": "code",
   "execution_count": 47,
   "metadata": {},
   "outputs": [],
   "source": [
    "using StaticArrays"
   ]
  },
  {
   "cell_type": "code",
   "execution_count": 129,
   "metadata": {},
   "outputs": [
    {
     "data": {
      "text/plain": [
       "intersection_area_4 (generic function with 1 method)"
      ]
     },
     "execution_count": 129,
     "metadata": {},
     "output_type": "execute_result"
    }
   ],
   "source": [
    "function rectangular_overlap_exact_4(xmin, ymin, xmax, ymax, w, h, θ)\n",
    "    sint, cost = sincos(deg2rad(θ))\n",
    "    R = @SMatrix[cost -sint; sint cost]\n",
    "    aper = R * Hyperrectangle(@SVector(zeros(2)), @SVector[w / 2, h / 2])\n",
    "    dy = ymax - ymin\n",
    "    dx = xmax - xmin\n",
    "    pix = Hyperrectangle(@SVector[dx / 2 + xmin, dy / 2 + ymin], @SVector[dx / 2, dy / 2])\n",
    "    return intersection_area_4(pix, aper)\n",
    "end\n",
    "\n",
    "function intersection_area_4(X::AbstractHyperrectangle{N},\n",
    "                             Y::LinearMap{N, <:AbstractHyperrectangle{N}}) where {N}\n",
    "    Xvert = vertices_list(X) # < 48ns\n",
    "    p = VPolygon(Xvert)\n",
    "    \n",
    "    #Yvert = vertices_list(Y) # slow, requires fixing zonotope vertices list with sarray\n",
    "    Yvert = vertices_list(linear_map(matrix(Y), convert(VPolygon, set(Y))))\n",
    "    q = VPolygon(Yvert)\n",
    "    #o = LazySets._intersection_vrep(Xvert, Yvert)\n",
    "\n",
    "    #p = convert(VPolygon, X)\n",
    "    #q = convert(VPolygon, Y)\n",
    "    return area(intersection(p, q))\n",
    "    \n",
    "    #return LazySets._area_polygon(convex_hull(o))\n",
    "end"
   ]
  },
  {
   "cell_type": "code",
   "execution_count": 132,
   "metadata": {},
   "outputs": [
    {
     "name": "stdout",
     "output_type": "stream",
     "text": [
      "  1.858 μs (53 allocations: 4.45 KiB)\n",
      "  975.000 ns (29 allocations: 2.89 KiB)\n"
     ]
    },
    {
     "data": {
      "text/plain": [
       "0.25"
      ]
     },
     "execution_count": 132,
     "metadata": {},
     "output_type": "execute_result"
    }
   ],
   "source": [
    "@btime rectangular_overlap_exact_3($xmin, $ymin, $xmax, $ymax, $w, $h, $θ)\n",
    "\n",
    "# using static arrays\n",
    "@btime rectangular_overlap_exact_4($xmin, $ymin, $xmax, $ymax, $w, $h, $θ)"
   ]
  },
  {
   "cell_type": "code",
   "execution_count": 107,
   "metadata": {},
   "outputs": [
    {
     "data": {
      "text/plain": [
       "Hyperrectangle{Float64,SArray{Tuple{2},Float64,1,2},SArray{Tuple{2},Float64,1,2}}([-0.7136783382212469, 0.5250164637359668], [0.8859445280609837, 0.3473398236459588])"
      ]
     },
     "execution_count": 107,
     "metadata": {},
     "output_type": "execute_result"
    }
   ],
   "source": [
    "A = SMatrix{2, 2}(rand(2, 2))\n",
    "Y = rand(Hyperrectangle)\n",
    "Ys = Hyperrectangle(SVector{2}(Y.center), SVector{2}(Y.radius))"
   ]
  },
  {
   "cell_type": "code",
   "execution_count": 113,
   "metadata": {},
   "outputs": [
    {
     "data": {
      "text/plain": [
       "Zonotope{Float64,SArray{Tuple{2},Float64,1,2},Array{Float64,2}}([-0.04513490514715934, -0.1721485172584112], [0.6734657406820234 0.32905597183166246; 0.4876845489232684 0.14601636953147182])"
      ]
     },
     "execution_count": 113,
     "metadata": {},
     "output_type": "execute_result"
    }
   ],
   "source": [
    "Z = linear_map(A, Ys)"
   ]
  },
  {
   "cell_type": "code",
   "execution_count": 116,
   "metadata": {},
   "outputs": [
    {
     "data": {
      "text/plain": [
       "4-element Array{Array{Float64,1},1}:\n",
       " [-1.047656617660845, -0.8058494357131514]\n",
       " [0.29927486370320155, 0.1695196621333854]\n",
       " [-0.38954467399752024, -0.5138166966502078]\n",
       " [0.9573868073665265, 0.461552401196329]"
      ]
     },
     "execution_count": 116,
     "metadata": {},
     "output_type": "execute_result"
    }
   ],
   "source": [
    "vertices_list(Z) # we loose SArrays"
   ]
  },
  {
   "cell_type": "code",
   "execution_count": 120,
   "metadata": {},
   "outputs": [
    {
     "data": {
      "text/plain": [
       "4-element Array{SArray{Tuple{2},Float64,1,2},1}:\n",
       " [0.9573868073665264, 0.461552401196329]\n",
       " [0.29927486370320155, 0.16951966213338537]\n",
       " [-1.047656617660845, -0.8058494357131514]\n",
       " [-0.38954467399752024, -0.5138166966502077]"
      ]
     },
     "execution_count": 120,
     "metadata": {},
     "output_type": "execute_result"
    }
   ],
   "source": [
    "vertices_list(linear_map(A, convert(VPolygon, Ys)))"
   ]
  },
  {
   "cell_type": "markdown",
   "metadata": {},
   "source": [
    "## Vertices list for hyperrectangular sets"
   ]
  },
  {
   "cell_type": "code",
   "execution_count": 60,
   "metadata": {},
   "outputs": [
    {
     "data": {
      "text/plain": [
       "_vertices_list (generic function with 1 method)"
      ]
     },
     "execution_count": 60,
     "metadata": {},
     "output_type": "execute_result"
    }
   ],
   "source": [
    "function _vertices_list(H::AbstractHyperrectangle{N}) where {N<:Real}\n",
    "    n = dim(H)\n",
    "\n",
    "    # identify flat dimensions and store them in a binary vector whose entry in\n",
    "    # dimension i is 0 if the radius is zero and 1 otherwise\n",
    "    # the vector will later also contain entries -1\n",
    "    trivector = Vector{Int8}(undef, n)\n",
    "    m = 1\n",
    "    c = center(H)\n",
    "    v = copy(c)\n",
    "    @inbounds for i in 1:n\n",
    "        ri = radius_hyperrectangle(H, i)\n",
    "        if iszero(ri)\n",
    "            trivector[i] = Int8(0)\n",
    "        else\n",
    "            v[i] += ri\n",
    "            trivector[i] = Int8(1)\n",
    "            m *= 2\n",
    "        end\n",
    "    end\n",
    "\n",
    "    # create vertices by modifying the three-valued vector and constructing the\n",
    "    # corresponding point; for efficiency, we create a copy of the old point and\n",
    "    # modify every entry that has changed in the three-valued vector\n",
    "    vlist = Vector{Vector{N}}(undef, m)\n",
    "    vlist[1] = copy(v)\n",
    "    @inbounds for i in 2:m\n",
    "        for j in 1:length(v)\n",
    "            if trivector[j] == Int8(-1)\n",
    "                trivector[j] = Int8(1)\n",
    "                v[j] = c[j] + radius_hyperrectangle(H, j)\n",
    "            elseif trivector[j] == Int8(1)\n",
    "                trivector[j] = Int8(-1)\n",
    "                v[j] = c[j] - radius_hyperrectangle(H, j)\n",
    "                break\n",
    "            end\n",
    "        end\n",
    "        vlist[i] = copy(v)\n",
    "    end\n",
    "    return vlist\n",
    "end"
   ]
  },
  {
   "cell_type": "code",
   "execution_count": 61,
   "metadata": {},
   "outputs": [
    {
     "data": {
      "text/plain": [
       "Base.Iterators.ProductIterator{Tuple{SArray{Tuple{2},Int64,1,2},SArray{Tuple{2},Int64,1,2}}}(([1, -1], [1, -1]))"
      ]
     },
     "execution_count": 61,
     "metadata": {},
     "output_type": "execute_result"
    }
   ],
   "source": [
    "p = Iterators.product(@SVector[1, -1], @SVector[1, -1])"
   ]
  },
  {
   "cell_type": "code",
   "execution_count": 95,
   "metadata": {},
   "outputs": [],
   "source": [
    "function LazySets.vertices_list(H::Hyperrectangle{N, <:SVector, <:SVector}) where {N}\n",
    "    n = dim(H)\n",
    "    if n == 2\n",
    "        return [H.center + @SVector[1, 1] .* H.radius,\n",
    "                H.center + @SVector[1, -1] .* H.radius,\n",
    "                H.center + @SVector[-1, 1] .* H.radius,\n",
    "                H.center + @SVector[-1, -1] .* H.radius]\n",
    "    else\n",
    "        p = Iterators.product(fill(@SVector[1, -1], n)...)\n",
    "        return collect(Iterators.map(x -> H.center .* x + H.radius, p))[:]\n",
    "    end\n",
    "end"
   ]
  },
  {
   "cell_type": "code",
   "execution_count": 96,
   "metadata": {},
   "outputs": [
    {
     "name": "stdout",
     "output_type": "stream",
     "text": [
      "  185.052 ns (7 allocations: 688 bytes)\n"
     ]
    },
    {
     "data": {
      "text/plain": [
       "4-element Array{Array{Float64,1},1}:\n",
       " [2.934223799034668, 0.5753980046428175]\n",
       " [-1.6874171194837804, 0.5753980046428175]\n",
       " [2.934223799034668, -1.7721897479794784]\n",
       " [-1.6874171194837804, -1.7721897479794784]"
      ]
     },
     "execution_count": 96,
     "metadata": {},
     "output_type": "execute_result"
    }
   ],
   "source": [
    "H = rand(Hyperrectangle)\n",
    "@btime vertices_list($H)"
   ]
  },
  {
   "cell_type": "code",
   "execution_count": 97,
   "metadata": {},
   "outputs": [
    {
     "data": {
      "text/plain": [
       "Hyperrectangle{Float64,SArray{Tuple{2},Float64,1,2},SArray{Tuple{2},Float64,1,2}}([0.6234033397754437, -0.5983958716683304], [2.310820459259224, 1.173793876311148])"
      ]
     },
     "execution_count": 97,
     "metadata": {},
     "output_type": "execute_result"
    }
   ],
   "source": [
    "Hs = Hyperrectangle(SVector{2}(H.center), SVector{2}(H.radius))"
   ]
  },
  {
   "cell_type": "code",
   "execution_count": 98,
   "metadata": {},
   "outputs": [
    {
     "name": "stdout",
     "output_type": "stream",
     "text": [
      "  24.909 ns (1 allocation: 144 bytes)\n"
     ]
    },
    {
     "data": {
      "text/plain": [
       "4-element Array{SArray{Tuple{2},Float64,1,2},1}:\n",
       " [2.934223799034668, 0.5753980046428175]\n",
       " [2.934223799034668, -1.7721897479794784]\n",
       " [-1.6874171194837804, 0.5753980046428175]\n",
       " [-1.6874171194837804, -1.7721897479794784]"
      ]
     },
     "execution_count": 98,
     "metadata": {},
     "output_type": "execute_result"
    }
   ],
   "source": [
    "@btime vertices_list($Hs)"
   ]
  },
  {
   "cell_type": "code",
   "execution_count": null,
   "metadata": {},
   "outputs": [],
   "source": []
  },
  {
   "cell_type": "code",
   "execution_count": null,
   "metadata": {},
   "outputs": [],
   "source": []
  },
  {
   "cell_type": "code",
   "execution_count": null,
   "metadata": {},
   "outputs": [],
   "source": [
    "julia> p = Iterators.product(fill([1, -1], 2)...)\n",
    "Base.Iterators.ProductIterator{Tuple{Vector{Int64},Vector{Int64}}}(([1, -1], [1, -1]))\n",
    "\n",
    "julia> Iterators.map(x -> rand(2) .* x .+ rand(2), p)\n",
    "Base.Generator{Base.Iterators.ProductIterator{Tuple{Vector{Int64},Vector{Int64}}},var\"#27#28\"}(var\"#27#28\"(), Base.Iterators.ProductIterator{Tuple{Vector{Int64},Vector{Int64}}}(([1, -1], [1, -1])))\n",
    "\n",
    "julia> first(ans)\n",
    "2-element Vector{Float64}:\n",
    " 1.0472048628849284\n",
    " 1.9230998571087827"
   ]
  }
 ],
 "metadata": {
  "kernelspec": {
   "display_name": "Julia 1.5.0-beta1",
   "language": "julia",
   "name": "julia-1.5"
  },
  "language_info": {
   "file_extension": ".jl",
   "mimetype": "application/julia",
   "name": "julia",
   "version": "1.5.0"
  }
 },
 "nbformat": 4,
 "nbformat_minor": 2
}
