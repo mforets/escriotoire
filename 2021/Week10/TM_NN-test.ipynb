{
 "cells": [
  {
   "cell_type": "markdown",
   "metadata": {},
   "source": [
    "# Taylor models + NNs: Proof of concept"
   ]
  },
  {
   "cell_type": "code",
   "execution_count": 1,
   "metadata": {},
   "outputs": [],
   "source": [
    "using TaylorModels"
   ]
  },
  {
   "cell_type": "markdown",
   "metadata": {},
   "source": [
    "## Set-up"
   ]
  },
  {
   "cell_type": "code",
   "execution_count": 5,
   "metadata": {},
   "outputs": [
    {
     "data": {
      "text/plain": [
       "2-element Array{TaylorN{Float64},1}:\n",
       "  1.0 x + 𝒪(‖x‖⁹)\n",
       "  1.0 y + 𝒪(‖x‖⁹)"
      ]
     },
     "execution_count": 5,
     "metadata": {},
     "output_type": "execute_result"
    }
   ],
   "source": [
    "set_variables(\"x y\", order=8)"
   ]
  },
  {
   "cell_type": "code",
   "execution_count": 2,
   "metadata": {},
   "outputs": [
    {
     "data": {
      "text/plain": [
       "[0, 0] × [0, 0]"
      ]
     },
     "execution_count": 2,
     "metadata": {},
     "output_type": "execute_result"
    }
   ],
   "source": [
    "x0 = IntervalBox(0..0, 2)"
   ]
  },
  {
   "cell_type": "code",
   "execution_count": 4,
   "metadata": {},
   "outputs": [
    {
     "data": {
      "text/plain": [
       "[-0.25, 0.25] × [-0.25, 0.25]"
      ]
     },
     "execution_count": 4,
     "metadata": {},
     "output_type": "execute_result"
    }
   ],
   "source": [
    "dom = IntervalBox(-0.25 .. 0.25, 2)"
   ]
  },
  {
   "cell_type": "code",
   "execution_count": 6,
   "metadata": {},
   "outputs": [
    {
     "data": {
      "text/plain": [
       "( [1, 1] x + [0, 0],  [1, 1] y + [0, 0])"
      ]
     },
     "execution_count": 6,
     "metadata": {},
     "output_type": "execute_result"
    }
   ],
   "source": [
    "xm = TaylorModelN(1, 3, x0, dom)\n",
    "ym = TaylorModelN(2, 3, x0, dom)\n",
    "xm, ym"
   ]
  },
  {
   "cell_type": "markdown",
   "metadata": {},
   "source": [
    "## `relu`"
   ]
  },
  {
   "cell_type": "code",
   "execution_count": 18,
   "metadata": {},
   "outputs": [
    {
     "data": {
      "text/plain": [
       "relu (generic function with 1 method)"
      ]
     },
     "execution_count": 18,
     "metadata": {},
     "output_type": "execute_result"
    }
   ],
   "source": [
    "relu(x) = x ≤ 0 ? zero(x) : x"
   ]
  },
  {
   "cell_type": "code",
   "execution_count": 19,
   "metadata": {},
   "outputs": [
    {
     "data": {
      "text/plain": [
       "([1, 1], [0, 0], [-1, 1])"
      ]
     },
     "execution_count": 19,
     "metadata": {},
     "output_type": "execute_result"
    }
   ],
   "source": [
    "relu(1 .. 1), relu(-1 .. 0), relu(-1..1)"
   ]
  },
  {
   "cell_type": "code",
   "execution_count": 20,
   "metadata": {},
   "outputs": [
    {
     "data": {
      "text/plain": [
       "[-1, 0.300001] × [-1, 1]"
      ]
     },
     "execution_count": 20,
     "metadata": {},
     "output_type": "execute_result"
    }
   ],
   "source": [
    "relu.((-1 .. 0.3) × (-1 .. 1))"
   ]
  },
  {
   "cell_type": "markdown",
   "metadata": {},
   "source": [
    "##  Naive implementation of TMs+NN"
   ]
  },
  {
   "cell_type": "code",
   "execution_count": 15,
   "metadata": {},
   "outputs": [],
   "source": [
    "A = randn(6,2)\n",
    "b = randn(6);"
   ]
  },
  {
   "cell_type": "code",
   "execution_count": 30,
   "metadata": {},
   "outputs": [
    {
     "data": {
      "text/plain": [
       "6-element Array{TaylorModelN{2,Interval{Float64},Float64},1}:\n",
       "         [-1.19275, -1.19274] + [0.314856, 0.314857] x + [-1.30385, -1.30384] y + [0, 0]\n",
       "        [-0.126922, -0.126921] + [0.718523, 0.718524] x + [0.652049, 0.65205] y + [0, 0]\n",
       "      [0.513463, 0.513464] + [-0.257189, -0.257188] x + [0.0214069, 0.021407] y + [0, 0]\n",
       "       [0.0523725, 0.0523726] + [0.331176, 0.331177] x + [-1.38012, -1.38011] y + [0, 0]\n",
       "  [-0.925721, -0.92572] + [-0.947305, -0.947304] x + [-0.0630962, -0.0630961] y + [0, 0]\n",
       "        [-0.548875, -0.548874] + [0.513005, 0.513006] x + [-2.3832, -2.38319] y + [0, 0]"
      ]
     },
     "execution_count": 30,
     "metadata": {},
     "output_type": "execute_result"
    }
   ],
   "source": [
    "nnm = A*[xm,ym]+b"
   ]
  },
  {
   "cell_type": "code",
   "execution_count": 31,
   "metadata": {},
   "outputs": [
    {
     "data": {
      "text/plain": [
       "[-1.59743, -0.78807] × [-0.469565, 0.215722] × [0.443814, 0.583113] × [-0.375451, 0.480196] × [-1.17833, -0.67312] × [-1.27293, 0.175175]"
      ]
     },
     "execution_count": 31,
     "metadata": {},
     "output_type": "execute_result"
    }
   ],
   "source": [
    "range_nnm = evaluate(nnm, dom)"
   ]
  },
  {
   "cell_type": "code",
   "execution_count": 32,
   "metadata": {},
   "outputs": [
    {
     "data": {
      "text/plain": [
       "[0, 0] × [-0.469565, 0.215722] × [0.443814, 0.583113] × [-0.375451, 0.480196] × [0, 0] × [-1.27293, 0.175175]"
      ]
     },
     "execution_count": 32,
     "metadata": {},
     "output_type": "execute_result"
    }
   ],
   "source": [
    "relu.(range_nnm)"
   ]
  },
  {
   "cell_type": "code",
   "execution_count": 22,
   "metadata": {},
   "outputs": [
    {
     "data": {
      "text/plain": [
       "relu (generic function with 2 methods)"
      ]
     },
     "execution_count": 22,
     "metadata": {},
     "output_type": "execute_result"
    }
   ],
   "source": [
    "function relu(x::TaylorModelN)\n",
    "    dom = domain(x)\n",
    "    range = evaluate(x, dom)\n",
    "    @show(range)  # Show computed range, to check consistency\n",
    "    relu(range) ≤ 0 && return (zero(x))\n",
    "    return x # <<\n",
    "end"
   ]
  },
  {
   "cell_type": "code",
   "execution_count": 34,
   "metadata": {},
   "outputs": [
    {
     "name": "stdout",
     "output_type": "stream",
     "text": [
      "range = [-1.59743, -0.78807]\n",
      "range = [-0.469565, 0.215722]\n",
      "range = [0.443814, 0.583113]\n",
      "range = [-0.375451, 0.480196]\n",
      "range = [-1.17833, -0.67312]\n",
      "range = [-1.27293, 0.175175]\n"
     ]
    },
    {
     "data": {
      "text/plain": [
       "6-element Array{TaylorModelN{2,Interval{Float64},Float64},1}:\n",
       "                                                                     [0, 0] + [0, 0]\n",
       "    [-0.126922, -0.126921] + [0.718523, 0.718524] x + [0.652049, 0.65205] y + [0, 0]\n",
       "  [0.513463, 0.513464] + [-0.257189, -0.257188] x + [0.0214069, 0.021407] y + [0, 0]\n",
       "   [0.0523725, 0.0523726] + [0.331176, 0.331177] x + [-1.38012, -1.38011] y + [0, 0]\n",
       "                                                                     [0, 0] + [0, 0]\n",
       "    [-0.548875, -0.548874] + [0.513005, 0.513006] x + [-2.3832, -2.38319] y + [0, 0]"
      ]
     },
     "execution_count": 34,
     "metadata": {},
     "output_type": "execute_result"
    }
   ],
   "source": [
    "relu.(nnm)"
   ]
  },
  {
   "cell_type": "markdown",
   "metadata": {},
   "source": [
    "## Same thing, with nonlinearities"
   ]
  },
  {
   "cell_type": "code",
   "execution_count": 35,
   "metadata": {},
   "outputs": [
    {
     "data": {
      "text/plain": [
       "6-element Array{TaylorModelN{2,Interval{Float64},Float64},1}:\n",
       "      [-0.87789, -0.877889] + [-1.30385, -1.30384] y + [-0.157429, -0.157428] x² + [0.217307, 0.217308] y³ + [-5.25028e-05, 0.000103643]\n",
       "      [0.591601, 0.591602] + [0.652049, 0.65205] y + [-0.359262, -0.359261] x² + [-0.108675, -0.108674] y³ + [-2.62565e-05, 0.000142961]\n",
       "  [0.256274, 0.256275] + [0.0214069, 0.021407] y + [0.128594, 0.128595] x² + [-0.00356784, -0.00356783] y³ + [-4.26351e-05, 8.62008e-07]\n",
       "         [0.383548, 0.383549] + [-1.38012, -1.38011] y + [-0.165589, -0.165588] x² + [0.230019, 0.23002] y³ + [-5.5574e-05, 0.000109365]\n",
       "    [-1.87303, -1.87302] + [-0.0630962, -0.0630961] y + [0.473652, 0.473653] x² + [0.010516, 0.0105161] y³ + [-0.000156404, 2.54073e-06]\n",
       "    [-0.0358694, -0.0358693] + [-2.3832, -2.38319] y + [-0.256503, -0.256502] x² + [0.397198, 0.397199] y³ + [-9.59654e-05, 0.000179289]"
      ]
     },
     "execution_count": 35,
     "metadata": {},
     "output_type": "execute_result"
    }
   ],
   "source": [
    "nnm = A*[cos(xm),sin(ym)]+b"
   ]
  },
  {
   "cell_type": "code",
   "execution_count": 36,
   "metadata": {},
   "outputs": [
    {
     "name": "stdout",
     "output_type": "stream",
     "text": [
      "range = [-1.21714, -0.548428]\n",
      "range = [0.404411, 0.756456]\n",
      "range = [0.250824, 0.26972]\n",
      "range = [0.024521, 0.732282]\n",
      "range = [-1.88913, -1.82748]\n",
      "range = [-0.654002, 0.566315]\n"
     ]
    },
    {
     "data": {
      "text/plain": [
       "6-element Array{TaylorModelN{2,Interval{Float64},Float64},1}:\n",
       "                                                                                                                         [0, 0] + [0, 0]\n",
       "      [0.591601, 0.591602] + [0.652049, 0.65205] y + [-0.359262, -0.359261] x² + [-0.108675, -0.108674] y³ + [-2.62565e-05, 0.000142961]\n",
       "  [0.256274, 0.256275] + [0.0214069, 0.021407] y + [0.128594, 0.128595] x² + [-0.00356784, -0.00356783] y³ + [-4.26351e-05, 8.62008e-07]\n",
       "         [0.383548, 0.383549] + [-1.38012, -1.38011] y + [-0.165589, -0.165588] x² + [0.230019, 0.23002] y³ + [-5.5574e-05, 0.000109365]\n",
       "                                                                                                                         [0, 0] + [0, 0]\n",
       "    [-0.0358694, -0.0358693] + [-2.3832, -2.38319] y + [-0.256503, -0.256502] x² + [0.397198, 0.397199] y³ + [-9.59654e-05, 0.000179289]"
      ]
     },
     "execution_count": 36,
     "metadata": {},
     "output_type": "execute_result"
    }
   ],
   "source": [
    "relu.(nnm)"
   ]
  },
  {
   "cell_type": "code",
   "execution_count": 3,
   "metadata": {},
   "outputs": [],
   "source": [
    "using ReachabilityAnalysis, Plots"
   ]
  },
  {
   "cell_type": "code",
   "execution_count": 4,
   "metadata": {},
   "outputs": [
    {
     "data": {
      "text/plain": [
       "TaylorModelReachSet{Float64}(TaylorModel1{TaylorN{Float64},Float64}[  0.7416970294694355 + 3.467329394961826 x₁ + 3.3043543152697543 x₂ + [0, 0],   - 0.06830039507963603 + 3.622970262020335 x₁ + 0.3723803564400032 x₂ + [0, 0]], [0, 0])"
      ]
     },
     "execution_count": 4,
     "metadata": {},
     "output_type": "execute_result"
    }
   ],
   "source": [
    "Z = rand(Zonotope)\n",
    "\n",
    "T = overapproximate(Z, TaylorModelReachSet)"
   ]
  },
  {
   "cell_type": "code",
   "execution_count": 7,
   "metadata": {},
   "outputs": [
    {
     "data": {
      "text/plain": [
       "2-element Array{Float64,1}:\n",
       "  0.7416970294694355\n",
       " -0.06830039507963606"
      ]
     },
     "execution_count": 7,
     "metadata": {},
     "output_type": "execute_result"
    }
   ],
   "source": [
    "Z.center"
   ]
  },
  {
   "cell_type": "code",
   "execution_count": 6,
   "metadata": {},
   "outputs": [
    {
     "data": {
      "text/plain": [
       "2×4 Array{Float64,2}:\n",
       " 1.34724  0.958709  -0.00918946  -0.216365\n",
       " 1.40771  0.108041   0.753063     1.19786"
      ]
     },
     "execution_count": 6,
     "metadata": {},
     "output_type": "execute_result"
    },
    {
     "name": "stderr",
     "output_type": "stream",
     "text": [
      "WARNING: both Plots and ReachabilityAnalysis export \"center\"; uses of it in module Main must be qualified\n"
     ]
    }
   ],
   "source": [
    "Z.generators"
   ]
  },
  {
   "cell_type": "markdown",
   "metadata": {},
   "source": [
    "$F(x, t) = p_0(x) + p_1(x)t + p_2(x)t^2 +...+p_k(x)t^k$"
   ]
  },
  {
   "cell_type": "code",
   "execution_count": 5,
   "metadata": {},
   "outputs": [
    {
     "data": {
      "text/plain": [
       "2-element Array{TaylorModel1{TaylorN{Float64},Float64},1}:\n",
       "      0.7416970294694355 + 3.467329394961826 x₁ + 3.3043543152697543 x₂ + [0, 0]\n",
       "   - 0.06830039507963603 + 3.622970262020335 x₁ + 0.3723803564400032 x₂ + [0, 0]"
      ]
     },
     "execution_count": 5,
     "metadata": {},
     "output_type": "execute_result"
    }
   ],
   "source": [
    "set(T)"
   ]
  },
  {
   "cell_type": "code",
   "execution_count": 12,
   "metadata": {},
   "outputs": [],
   "source": [
    "TZ = set(overapproximate(T, Zonotope));"
   ]
  },
  {
   "cell_type": "code",
   "execution_count": 14,
   "metadata": {},
   "outputs": [
    {
     "data": {
      "image/svg+xml": [
       "<?xml version=\"1.0\" encoding=\"utf-8\"?>\n",
       "<svg xmlns=\"http://www.w3.org/2000/svg\" xmlns:xlink=\"http://www.w3.org/1999/xlink\" width=\"600\" height=\"400\" viewBox=\"0 0 2400 1600\">\n",
       "<defs>\n",
       "  <clipPath id=\"clip510\">\n",
       "    <rect x=\"0\" y=\"0\" width=\"2400\" height=\"1600\"/>\n",
       "  </clipPath>\n",
       "</defs>\n",
       "<path clip-path=\"url(#clip510)\" d=\"\n",
       "M0 1600 L2400 1600 L2400 0 L0 0  Z\n",
       "  \" fill=\"#ffffff\" fill-rule=\"evenodd\" fill-opacity=\"1\"/>\n",
       "<defs>\n",
       "  <clipPath id=\"clip511\">\n",
       "    <rect x=\"480\" y=\"0\" width=\"1681\" height=\"1600\"/>\n",
       "  </clipPath>\n",
       "</defs>\n",
       "<path clip-path=\"url(#clip510)\" d=\"\n",
       "M144.168 1486.45 L2352.76 1486.45 L2352.76 47.2441 L144.168 47.2441  Z\n",
       "  \" fill=\"#ffffff\" fill-rule=\"evenodd\" fill-opacity=\"1\"/>\n",
       "<defs>\n",
       "  <clipPath id=\"clip512\">\n",
       "    <rect x=\"144\" y=\"47\" width=\"2210\" height=\"1440\"/>\n",
       "  </clipPath>\n",
       "</defs>\n",
       "<polyline clip-path=\"url(#clip512)\" style=\"stroke:#000000; stroke-width:2; stroke-opacity:0.1; fill:none\" points=\"\n",
       "  211.288,1486.45 211.288,47.2441 \n",
       "  \"/>\n",
       "<polyline clip-path=\"url(#clip512)\" style=\"stroke:#000000; stroke-width:2; stroke-opacity:0.1; fill:none\" points=\"\n",
       "  518.977,1486.45 518.977,47.2441 \n",
       "  \"/>\n",
       "<polyline clip-path=\"url(#clip512)\" style=\"stroke:#000000; stroke-width:2; stroke-opacity:0.1; fill:none\" points=\"\n",
       "  826.667,1486.45 826.667,47.2441 \n",
       "  \"/>\n",
       "<polyline clip-path=\"url(#clip512)\" style=\"stroke:#000000; stroke-width:2; stroke-opacity:0.1; fill:none\" points=\"\n",
       "  1134.36,1486.45 1134.36,47.2441 \n",
       "  \"/>\n",
       "<polyline clip-path=\"url(#clip512)\" style=\"stroke:#000000; stroke-width:2; stroke-opacity:0.1; fill:none\" points=\"\n",
       "  1442.04,1486.45 1442.04,47.2441 \n",
       "  \"/>\n",
       "<polyline clip-path=\"url(#clip512)\" style=\"stroke:#000000; stroke-width:2; stroke-opacity:0.1; fill:none\" points=\"\n",
       "  1749.73,1486.45 1749.73,47.2441 \n",
       "  \"/>\n",
       "<polyline clip-path=\"url(#clip512)\" style=\"stroke:#000000; stroke-width:2; stroke-opacity:0.1; fill:none\" points=\"\n",
       "  2057.42,1486.45 2057.42,47.2441 \n",
       "  \"/>\n",
       "<polyline clip-path=\"url(#clip510)\" style=\"stroke:#000000; stroke-width:4; stroke-opacity:1; fill:none\" points=\"\n",
       "  144.168,1486.45 2352.76,1486.45 \n",
       "  \"/>\n",
       "<polyline clip-path=\"url(#clip510)\" style=\"stroke:#000000; stroke-width:4; stroke-opacity:1; fill:none\" points=\"\n",
       "  211.288,1486.45 211.288,1469.18 \n",
       "  \"/>\n",
       "<polyline clip-path=\"url(#clip510)\" style=\"stroke:#000000; stroke-width:4; stroke-opacity:1; fill:none\" points=\"\n",
       "  518.977,1486.45 518.977,1469.18 \n",
       "  \"/>\n",
       "<polyline clip-path=\"url(#clip510)\" style=\"stroke:#000000; stroke-width:4; stroke-opacity:1; fill:none\" points=\"\n",
       "  826.667,1486.45 826.667,1469.18 \n",
       "  \"/>\n",
       "<polyline clip-path=\"url(#clip510)\" style=\"stroke:#000000; stroke-width:4; stroke-opacity:1; fill:none\" points=\"\n",
       "  1134.36,1486.45 1134.36,1469.18 \n",
       "  \"/>\n",
       "<polyline clip-path=\"url(#clip510)\" style=\"stroke:#000000; stroke-width:4; stroke-opacity:1; fill:none\" points=\"\n",
       "  1442.04,1486.45 1442.04,1469.18 \n",
       "  \"/>\n",
       "<polyline clip-path=\"url(#clip510)\" style=\"stroke:#000000; stroke-width:4; stroke-opacity:1; fill:none\" points=\"\n",
       "  1749.73,1486.45 1749.73,1469.18 \n",
       "  \"/>\n",
       "<polyline clip-path=\"url(#clip510)\" style=\"stroke:#000000; stroke-width:4; stroke-opacity:1; fill:none\" points=\"\n",
       "  2057.42,1486.45 2057.42,1469.18 \n",
       "  \"/>\n",
       "<path clip-path=\"url(#clip510)\" d=\"M 0 0 M182.862 1530.29 L212.538 1530.29 L212.538 1534.23 L182.862 1534.23 L182.862 1530.29 Z\" fill=\"#000000\" fill-rule=\"evenodd\" fill-opacity=\"1\" /><path clip-path=\"url(#clip510)\" d=\"M 0 0 M228.186 1527.98 Q225.038 1527.98 223.186 1530.13 Q221.358 1532.28 221.358 1536.03 Q221.358 1539.76 223.186 1541.93 Q225.038 1544.09 228.186 1544.09 Q231.334 1544.09 233.163 1541.93 Q235.015 1539.76 235.015 1536.03 Q235.015 1532.28 233.163 1530.13 Q231.334 1527.98 228.186 1527.98 M237.469 1513.32 L237.469 1517.58 Q235.709 1516.75 233.904 1516.31 Q232.121 1515.87 230.362 1515.87 Q225.733 1515.87 223.279 1519 Q220.848 1522.12 220.501 1528.44 Q221.867 1526.43 223.927 1525.36 Q225.987 1524.27 228.464 1524.27 Q233.672 1524.27 236.682 1527.44 Q239.714 1530.59 239.714 1536.03 Q239.714 1541.36 236.566 1544.57 Q233.418 1547.79 228.186 1547.79 Q222.191 1547.79 219.02 1543.21 Q215.848 1538.6 215.848 1529.87 Q215.848 1521.68 219.737 1516.82 Q223.626 1511.93 230.177 1511.93 Q231.936 1511.93 233.719 1512.28 Q235.524 1512.63 237.469 1513.32 Z\" fill=\"#000000\" fill-rule=\"evenodd\" fill-opacity=\"1\" /><path clip-path=\"url(#clip510)\" d=\"M 0 0 M490.39 1530.29 L520.065 1530.29 L520.065 1534.23 L490.39 1534.23 L490.39 1530.29 Z\" fill=\"#000000\" fill-rule=\"evenodd\" fill-opacity=\"1\" /><path clip-path=\"url(#clip510)\" d=\"M 0 0 M537.982 1516.63 L526.176 1535.08 L537.982 1535.08 L537.982 1516.63 M536.755 1512.56 L542.635 1512.56 L542.635 1535.08 L547.565 1535.08 L547.565 1538.97 L542.635 1538.97 L542.635 1547.12 L537.982 1547.12 L537.982 1538.97 L522.38 1538.97 L522.38 1534.46 L536.755 1512.56 Z\" fill=\"#000000\" fill-rule=\"evenodd\" fill-opacity=\"1\" /><path clip-path=\"url(#clip510)\" d=\"M 0 0 M799.12 1530.29 L828.796 1530.29 L828.796 1534.23 L799.12 1534.23 L799.12 1530.29 Z\" fill=\"#000000\" fill-rule=\"evenodd\" fill-opacity=\"1\" /><path clip-path=\"url(#clip510)\" d=\"M 0 0 M837.893 1543.18 L854.213 1543.18 L854.213 1547.12 L832.268 1547.12 L832.268 1543.18 Q834.93 1540.43 839.514 1535.8 Q844.12 1531.15 845.301 1529.81 Q847.546 1527.28 848.426 1525.55 Q849.329 1523.79 849.329 1522.1 Q849.329 1519.34 847.384 1517.61 Q845.463 1515.87 842.361 1515.87 Q840.162 1515.87 837.708 1516.63 Q835.278 1517.4 832.5 1518.95 L832.5 1514.23 Q835.324 1513.09 837.778 1512.51 Q840.231 1511.93 842.268 1511.93 Q847.639 1511.93 850.833 1514.62 Q854.028 1517.31 854.028 1521.8 Q854.028 1523.93 853.217 1525.85 Q852.43 1527.74 850.324 1530.34 Q849.745 1531.01 846.643 1534.23 Q843.541 1537.42 837.893 1543.18 Z\" fill=\"#000000\" fill-rule=\"evenodd\" fill-opacity=\"1\" /><path clip-path=\"url(#clip510)\" d=\"M 0 0 M1134.36 1515.64 Q1130.74 1515.64 1128.92 1519.2 Q1127.11 1522.75 1127.11 1529.87 Q1127.11 1536.98 1128.92 1540.55 Q1130.74 1544.09 1134.36 1544.09 Q1137.99 1544.09 1139.8 1540.55 Q1141.62 1536.98 1141.62 1529.87 Q1141.62 1522.75 1139.8 1519.2 Q1137.99 1515.64 1134.36 1515.64 M1134.36 1511.93 Q1140.17 1511.93 1143.22 1516.54 Q1146.3 1521.12 1146.3 1529.87 Q1146.3 1538.6 1143.22 1543.21 Q1140.17 1547.79 1134.36 1547.79 Q1128.55 1547.79 1125.47 1543.21 Q1122.41 1538.6 1122.41 1529.87 Q1122.41 1521.12 1125.47 1516.54 Q1128.55 1511.93 1134.36 1511.93 Z\" fill=\"#000000\" fill-rule=\"evenodd\" fill-opacity=\"1\" /><path clip-path=\"url(#clip510)\" d=\"M 0 0 M1436.7 1543.18 L1453.02 1543.18 L1453.02 1547.12 L1431.07 1547.12 L1431.07 1543.18 Q1433.73 1540.43 1438.32 1535.8 Q1442.92 1531.15 1444.11 1529.81 Q1446.35 1527.28 1447.23 1525.55 Q1448.13 1523.79 1448.13 1522.1 Q1448.13 1519.34 1446.19 1517.61 Q1444.27 1515.87 1441.17 1515.87 Q1438.97 1515.87 1436.51 1516.63 Q1434.08 1517.4 1431.3 1518.95 L1431.3 1514.23 Q1434.13 1513.09 1436.58 1512.51 Q1439.04 1511.93 1441.07 1511.93 Q1446.44 1511.93 1449.64 1514.62 Q1452.83 1517.31 1452.83 1521.8 Q1452.83 1523.93 1452.02 1525.85 Q1451.23 1527.74 1449.13 1530.34 Q1448.55 1531.01 1445.45 1534.23 Q1442.35 1537.42 1436.7 1543.18 Z\" fill=\"#000000\" fill-rule=\"evenodd\" fill-opacity=\"1\" /><path clip-path=\"url(#clip510)\" d=\"M 0 0 M1752.74 1516.63 L1740.94 1535.08 L1752.74 1535.08 L1752.74 1516.63 M1751.52 1512.56 L1757.4 1512.56 L1757.4 1535.08 L1762.33 1535.08 L1762.33 1538.97 L1757.4 1538.97 L1757.4 1547.12 L1752.74 1547.12 L1752.74 1538.97 L1737.14 1538.97 L1737.14 1534.46 L1751.52 1512.56 Z\" fill=\"#000000\" fill-rule=\"evenodd\" fill-opacity=\"1\" /><path clip-path=\"url(#clip510)\" d=\"M 0 0 M2057.83 1527.98 Q2054.68 1527.98 2052.83 1530.13 Q2051 1532.28 2051 1536.03 Q2051 1539.76 2052.83 1541.93 Q2054.68 1544.09 2057.83 1544.09 Q2060.98 1544.09 2062.81 1541.93 Q2064.66 1539.76 2064.66 1536.03 Q2064.66 1532.28 2062.81 1530.13 Q2060.98 1527.98 2057.83 1527.98 M2067.11 1513.32 L2067.11 1517.58 Q2065.35 1516.75 2063.55 1516.31 Q2061.76 1515.87 2060 1515.87 Q2055.37 1515.87 2052.92 1519 Q2050.49 1522.12 2050.14 1528.44 Q2051.51 1526.43 2053.57 1525.36 Q2055.63 1524.27 2058.11 1524.27 Q2063.31 1524.27 2066.32 1527.44 Q2069.36 1530.59 2069.36 1536.03 Q2069.36 1541.36 2066.21 1544.57 Q2063.06 1547.79 2057.83 1547.79 Q2051.83 1547.79 2048.66 1543.21 Q2045.49 1538.6 2045.49 1529.87 Q2045.49 1521.68 2049.38 1516.82 Q2053.27 1511.93 2059.82 1511.93 Q2061.58 1511.93 2063.36 1512.28 Q2065.17 1512.63 2067.11 1513.32 Z\" fill=\"#000000\" fill-rule=\"evenodd\" fill-opacity=\"1\" /><polyline clip-path=\"url(#clip512)\" style=\"stroke:#000000; stroke-width:2; stroke-opacity:0.1; fill:none\" points=\"\n",
       "  144.168,1434.9 2352.76,1434.9 \n",
       "  \"/>\n",
       "<polyline clip-path=\"url(#clip512)\" style=\"stroke:#000000; stroke-width:2; stroke-opacity:0.1; fill:none\" points=\"\n",
       "  144.168,1095.07 2352.76,1095.07 \n",
       "  \"/>\n",
       "<polyline clip-path=\"url(#clip512)\" style=\"stroke:#000000; stroke-width:2; stroke-opacity:0.1; fill:none\" points=\"\n",
       "  144.168,755.241 2352.76,755.241 \n",
       "  \"/>\n",
       "<polyline clip-path=\"url(#clip512)\" style=\"stroke:#000000; stroke-width:2; stroke-opacity:0.1; fill:none\" points=\"\n",
       "  144.168,415.411 2352.76,415.411 \n",
       "  \"/>\n",
       "<polyline clip-path=\"url(#clip512)\" style=\"stroke:#000000; stroke-width:2; stroke-opacity:0.1; fill:none\" points=\"\n",
       "  144.168,75.581 2352.76,75.581 \n",
       "  \"/>\n",
       "<polyline clip-path=\"url(#clip510)\" style=\"stroke:#000000; stroke-width:4; stroke-opacity:1; fill:none\" points=\"\n",
       "  144.168,1486.45 144.168,47.2441 \n",
       "  \"/>\n",
       "<polyline clip-path=\"url(#clip510)\" style=\"stroke:#000000; stroke-width:4; stroke-opacity:1; fill:none\" points=\"\n",
       "  144.168,1434.9 170.671,1434.9 \n",
       "  \"/>\n",
       "<polyline clip-path=\"url(#clip510)\" style=\"stroke:#000000; stroke-width:4; stroke-opacity:1; fill:none\" points=\"\n",
       "  144.168,1095.07 170.671,1095.07 \n",
       "  \"/>\n",
       "<polyline clip-path=\"url(#clip510)\" style=\"stroke:#000000; stroke-width:4; stroke-opacity:1; fill:none\" points=\"\n",
       "  144.168,755.241 170.671,755.241 \n",
       "  \"/>\n",
       "<polyline clip-path=\"url(#clip510)\" style=\"stroke:#000000; stroke-width:4; stroke-opacity:1; fill:none\" points=\"\n",
       "  144.168,415.411 170.671,415.411 \n",
       "  \"/>\n",
       "<polyline clip-path=\"url(#clip510)\" style=\"stroke:#000000; stroke-width:4; stroke-opacity:1; fill:none\" points=\"\n",
       "  144.168,75.581 170.671,75.581 \n",
       "  \"/>\n",
       "<path clip-path=\"url(#clip510)\" d=\"M 0 0 M50.9921 1435.35 L80.6679 1435.35 L80.6679 1439.29 L50.9921 1439.29 L50.9921 1435.35 Z\" fill=\"#000000\" fill-rule=\"evenodd\" fill-opacity=\"1\" /><path clip-path=\"url(#clip510)\" d=\"M 0 0 M98.5845 1421.69 L86.779 1440.14 L98.5845 1440.14 L98.5845 1421.69 M97.3576 1417.62 L103.237 1417.62 L103.237 1440.14 L108.168 1440.14 L108.168 1444.03 L103.237 1444.03 L103.237 1452.18 L98.5845 1452.18 L98.5845 1444.03 L82.9827 1444.03 L82.9827 1439.52 L97.3576 1417.62 Z\" fill=\"#000000\" fill-rule=\"evenodd\" fill-opacity=\"1\" /><path clip-path=\"url(#clip510)\" d=\"M 0 0 M53.0754 1095.52 L82.7512 1095.52 L82.7512 1099.46 L53.0754 1099.46 L53.0754 1095.52 Z\" fill=\"#000000\" fill-rule=\"evenodd\" fill-opacity=\"1\" /><path clip-path=\"url(#clip510)\" d=\"M 0 0 M91.8484 1108.42 L108.168 1108.42 L108.168 1112.35 L86.2234 1112.35 L86.2234 1108.42 Q88.8854 1105.66 93.4688 1101.03 Q98.0752 1096.38 99.2558 1095.04 Q101.501 1092.51 102.381 1090.78 Q103.284 1089.02 103.284 1087.33 Q103.284 1084.57 101.339 1082.84 Q99.4178 1081.1 96.316 1081.1 Q94.1169 1081.1 91.6632 1081.86 Q89.2327 1082.63 86.4549 1084.18 L86.4549 1079.46 Q89.279 1078.32 91.7326 1077.74 Q94.1863 1077.17 96.2234 1077.17 Q101.594 1077.17 104.788 1079.85 Q107.983 1082.54 107.983 1087.03 Q107.983 1089.16 107.172 1091.08 Q106.385 1092.98 104.279 1095.57 Q103.7 1096.24 100.598 1099.46 Q97.4965 1102.65 91.8484 1108.42 Z\" fill=\"#000000\" fill-rule=\"evenodd\" fill-opacity=\"1\" /><path clip-path=\"url(#clip510)\" d=\"M 0 0 M96.2234 741.039 Q92.6123 741.039 90.7836 744.604 Q88.978 748.146 88.978 755.275 Q88.978 762.382 90.7836 765.947 Q92.6123 769.488 96.2234 769.488 Q99.8576 769.488 101.663 765.947 Q103.492 762.382 103.492 755.275 Q103.492 748.146 101.663 744.604 Q99.8576 741.039 96.2234 741.039 M96.2234 737.336 Q102.034 737.336 105.089 741.942 Q108.168 746.525 108.168 755.275 Q108.168 764.002 105.089 768.609 Q102.034 773.192 96.2234 773.192 Q90.4132 773.192 87.3345 768.609 Q84.279 764.002 84.279 755.275 Q84.279 746.525 87.3345 741.942 Q90.4132 737.336 96.2234 737.336 Z\" fill=\"#000000\" fill-rule=\"evenodd\" fill-opacity=\"1\" /><path clip-path=\"url(#clip510)\" d=\"M 0 0 M91.8484 428.756 L108.168 428.756 L108.168 432.691 L86.2234 432.691 L86.2234 428.756 Q88.8854 426.001 93.4688 421.371 Q98.0752 416.719 99.2558 415.376 Q101.501 412.853 102.381 411.117 Q103.284 409.358 103.284 407.668 Q103.284 404.913 101.339 403.177 Q99.4178 401.441 96.316 401.441 Q94.1169 401.441 91.6632 402.205 Q89.2327 402.969 86.4549 404.52 L86.4549 399.798 Q89.279 398.663 91.7326 398.085 Q94.1863 397.506 96.2234 397.506 Q101.594 397.506 104.788 400.191 Q107.983 402.876 107.983 407.367 Q107.983 409.497 107.172 411.418 Q106.385 413.316 104.279 415.909 Q103.7 416.58 100.598 419.797 Q97.4965 422.992 91.8484 428.756 Z\" fill=\"#000000\" fill-rule=\"evenodd\" fill-opacity=\"1\" /><path clip-path=\"url(#clip510)\" d=\"M 0 0 M98.5845 62.3751 L86.779 80.824 L98.5845 80.824 L98.5845 62.3751 M97.3576 58.301 L103.237 58.301 L103.237 80.824 L108.168 80.824 L108.168 84.7129 L103.237 84.7129 L103.237 92.861 L98.5845 92.861 L98.5845 84.7129 L82.9827 84.7129 L82.9827 80.1991 L97.3576 58.301 Z\" fill=\"#000000\" fill-rule=\"evenodd\" fill-opacity=\"1\" /><path clip-path=\"url(#clip512)\" d=\"\n",
       "M859.004 692.905 L861.832 948.818 L928.405 1355.89 L1223.39 1319.17 L1637.92 840.787 L1635.09 584.874 L1568.52 177.807 L1273.53 214.522 L859.004 692.905 L859.004 692.905 \n",
       "   Z\n",
       "  \" fill=\"#009af9\" fill-rule=\"evenodd\" fill-opacity=\"0.5\"/>\n",
       "<polyline clip-path=\"url(#clip512)\" style=\"stroke:#000000; stroke-width:4; stroke-opacity:0.5; fill:none\" points=\"\n",
       "  859.004,692.905 861.832,948.818 928.405,1355.89 1223.39,1319.17 1637.92,840.787 1635.09,584.874 1568.52,177.807 1273.53,214.522 859.004,692.905 \n",
       "  \n",
       "  \"/>\n",
       "<path clip-path=\"url(#clip512)\" d=\"\n",
       "M1637.92 177.807 L859.004 177.807 L859.004 1355.89 L1637.92 1355.89 L1637.92 177.807 L1637.92 177.807  Z\n",
       "  \" fill=\"#e26f46\" fill-rule=\"evenodd\" fill-opacity=\"0.5\"/>\n",
       "<polyline clip-path=\"url(#clip512)\" style=\"stroke:#000000; stroke-width:4; stroke-opacity:0.5; fill:none\" points=\"\n",
       "  1637.92,177.807 859.004,177.807 859.004,1355.89 1637.92,1355.89 1637.92,177.807 \n",
       "  \"/>\n",
       "<path clip-path=\"url(#clip512)\" d=\"\n",
       "M1223.39 1319.17 L2290.25 87.9763 L1273.53 214.522 L206.675 1445.72 L1223.39 1319.17 L1223.39 1319.17  Z\n",
       "  \" fill=\"#3da44d\" fill-rule=\"evenodd\" fill-opacity=\"0.5\"/>\n",
       "<polyline clip-path=\"url(#clip512)\" style=\"stroke:#000000; stroke-width:4; stroke-opacity:0.5; fill:none\" points=\"\n",
       "  1223.39,1319.17 2290.25,87.9763 1273.53,214.522 206.675,1445.72 1223.39,1319.17 \n",
       "  \"/>\n",
       "</svg>\n"
      ]
     },
     "execution_count": 14,
     "metadata": {},
     "output_type": "execute_result"
    }
   ],
   "source": [
    "plot(Z)\n",
    "plot!(box_approximation(Z))\n",
    "plot!(TZ)"
   ]
  },
  {
   "cell_type": "code",
   "execution_count": 16,
   "metadata": {},
   "outputs": [
    {
     "data": {
      "text/plain": [
       "2-element Array{TaylorModel1{TaylorN{Float64},Float64},1}:\n",
       "      0.7416970294694355 + 3.467329394961826 x₁ + 3.3043543152697543 x₂ + [0, 0]\n",
       "   - 0.06830039507963603 + 3.622970262020335 x₁ + 0.3723803564400032 x₂ + [0, 0]"
      ]
     },
     "execution_count": 16,
     "metadata": {},
     "output_type": "execute_result"
    }
   ],
   "source": [
    "set(T)"
   ]
  },
  {
   "cell_type": "code",
   "execution_count": 38,
   "metadata": {},
   "outputs": [
    {
     "data": {
      "text/plain": [
       "relu (generic function with 3 methods)"
      ]
     },
     "execution_count": 38,
     "metadata": {},
     "output_type": "execute_result"
    }
   ],
   "source": [
    "function relu(x::TaylorModel1{<:TaylorN{N}}) where N\n",
    "    t0 = 0.0 # dummy\n",
    "    y = TaylorModels.evaluate(x, t0)\n",
    "    n = get_numvars()\n",
    "    range = TaylorModels.evaluate(y, ReachabilityAnalysis.symBox(n))\n",
    "    \n",
    "    # completely contained in <= 0\n",
    "    relu(range) ≤ 0 && return interval(0.0)\n",
    "    \n",
    "    # otherwise intersect with > 0\n",
    "    return range ∩ (0 .. Inf)\n",
    "end"
   ]
  },
  {
   "cell_type": "code",
   "execution_count": 40,
   "metadata": {},
   "outputs": [
    {
     "data": {
      "text/plain": [
       "6-element Array{IntervalArithmetic.Interval{Float64},1}:\n",
       " [0, 10.1656]\n",
       " [0, 11.4565]\n",
       " [0, 10.3849]\n",
       "  [0, 1.23601]\n",
       "  [0, 3.99955]\n",
       " [0, 11.9988]"
      ]
     },
     "execution_count": 40,
     "metadata": {},
     "output_type": "execute_result"
    }
   ],
   "source": [
    "nnm = A*set(T) + b\n",
    "relu.(nnm)"
   ]
  },
  {
   "cell_type": "code",
   "execution_count": 50,
   "metadata": {},
   "outputs": [
    {
     "name": "stdout",
     "output_type": "stream",
     "text": [
      "Trelu = convert(Hyperrectangle, IntervalBox(relu.(set(T)))) = Hyperrectangle{Float64,StaticArrays.SArray{Tuple{2},Float64,1,2},StaticArrays.SArray{Tuple{2},Float64,1,2}}([3.7566903698505083, 1.9635251116903512], [3.7566903698505083, 1.9635251116903512])\n"
     ]
    },
    {
     "data": {
      "image/svg+xml": [
       "<?xml version=\"1.0\" encoding=\"utf-8\"?>\n",
       "<svg xmlns=\"http://www.w3.org/2000/svg\" xmlns:xlink=\"http://www.w3.org/1999/xlink\" width=\"600\" height=\"400\" viewBox=\"0 0 2400 1600\">\n",
       "<defs>\n",
       "  <clipPath id=\"clip710\">\n",
       "    <rect x=\"0\" y=\"0\" width=\"2400\" height=\"1600\"/>\n",
       "  </clipPath>\n",
       "</defs>\n",
       "<path clip-path=\"url(#clip710)\" d=\"\n",
       "M0 1600 L2400 1600 L2400 0 L0 0  Z\n",
       "  \" fill=\"#ffffff\" fill-rule=\"evenodd\" fill-opacity=\"1\"/>\n",
       "<defs>\n",
       "  <clipPath id=\"clip711\">\n",
       "    <rect x=\"480\" y=\"0\" width=\"1681\" height=\"1600\"/>\n",
       "  </clipPath>\n",
       "</defs>\n",
       "<path clip-path=\"url(#clip710)\" d=\"\n",
       "M144.168 1486.45 L2352.76 1486.45 L2352.76 47.2441 L144.168 47.2441  Z\n",
       "  \" fill=\"#ffffff\" fill-rule=\"evenodd\" fill-opacity=\"1\"/>\n",
       "<defs>\n",
       "  <clipPath id=\"clip712\">\n",
       "    <rect x=\"144\" y=\"47\" width=\"2210\" height=\"1440\"/>\n",
       "  </clipPath>\n",
       "</defs>\n",
       "<polyline clip-path=\"url(#clip712)\" style=\"stroke:#000000; stroke-width:2; stroke-opacity:0.1; fill:none\" points=\"\n",
       "  211.288,1486.45 211.288,47.2441 \n",
       "  \"/>\n",
       "<polyline clip-path=\"url(#clip712)\" style=\"stroke:#000000; stroke-width:2; stroke-opacity:0.1; fill:none\" points=\"\n",
       "  518.977,1486.45 518.977,47.2441 \n",
       "  \"/>\n",
       "<polyline clip-path=\"url(#clip712)\" style=\"stroke:#000000; stroke-width:2; stroke-opacity:0.1; fill:none\" points=\"\n",
       "  826.667,1486.45 826.667,47.2441 \n",
       "  \"/>\n",
       "<polyline clip-path=\"url(#clip712)\" style=\"stroke:#000000; stroke-width:2; stroke-opacity:0.1; fill:none\" points=\"\n",
       "  1134.36,1486.45 1134.36,47.2441 \n",
       "  \"/>\n",
       "<polyline clip-path=\"url(#clip712)\" style=\"stroke:#000000; stroke-width:2; stroke-opacity:0.1; fill:none\" points=\"\n",
       "  1442.04,1486.45 1442.04,47.2441 \n",
       "  \"/>\n",
       "<polyline clip-path=\"url(#clip712)\" style=\"stroke:#000000; stroke-width:2; stroke-opacity:0.1; fill:none\" points=\"\n",
       "  1749.73,1486.45 1749.73,47.2441 \n",
       "  \"/>\n",
       "<polyline clip-path=\"url(#clip712)\" style=\"stroke:#000000; stroke-width:2; stroke-opacity:0.1; fill:none\" points=\"\n",
       "  2057.42,1486.45 2057.42,47.2441 \n",
       "  \"/>\n",
       "<polyline clip-path=\"url(#clip710)\" style=\"stroke:#000000; stroke-width:4; stroke-opacity:1; fill:none\" points=\"\n",
       "  144.168,1486.45 2352.76,1486.45 \n",
       "  \"/>\n",
       "<polyline clip-path=\"url(#clip710)\" style=\"stroke:#000000; stroke-width:4; stroke-opacity:1; fill:none\" points=\"\n",
       "  211.288,1486.45 211.288,1469.18 \n",
       "  \"/>\n",
       "<polyline clip-path=\"url(#clip710)\" style=\"stroke:#000000; stroke-width:4; stroke-opacity:1; fill:none\" points=\"\n",
       "  518.977,1486.45 518.977,1469.18 \n",
       "  \"/>\n",
       "<polyline clip-path=\"url(#clip710)\" style=\"stroke:#000000; stroke-width:4; stroke-opacity:1; fill:none\" points=\"\n",
       "  826.667,1486.45 826.667,1469.18 \n",
       "  \"/>\n",
       "<polyline clip-path=\"url(#clip710)\" style=\"stroke:#000000; stroke-width:4; stroke-opacity:1; fill:none\" points=\"\n",
       "  1134.36,1486.45 1134.36,1469.18 \n",
       "  \"/>\n",
       "<polyline clip-path=\"url(#clip710)\" style=\"stroke:#000000; stroke-width:4; stroke-opacity:1; fill:none\" points=\"\n",
       "  1442.04,1486.45 1442.04,1469.18 \n",
       "  \"/>\n",
       "<polyline clip-path=\"url(#clip710)\" style=\"stroke:#000000; stroke-width:4; stroke-opacity:1; fill:none\" points=\"\n",
       "  1749.73,1486.45 1749.73,1469.18 \n",
       "  \"/>\n",
       "<polyline clip-path=\"url(#clip710)\" style=\"stroke:#000000; stroke-width:4; stroke-opacity:1; fill:none\" points=\"\n",
       "  2057.42,1486.45 2057.42,1469.18 \n",
       "  \"/>\n",
       "<path clip-path=\"url(#clip710)\" d=\"M 0 0 M182.862 1530.29 L212.538 1530.29 L212.538 1534.23 L182.862 1534.23 L182.862 1530.29 Z\" fill=\"#000000\" fill-rule=\"evenodd\" fill-opacity=\"1\" /><path clip-path=\"url(#clip710)\" d=\"M 0 0 M228.186 1527.98 Q225.038 1527.98 223.186 1530.13 Q221.358 1532.28 221.358 1536.03 Q221.358 1539.76 223.186 1541.93 Q225.038 1544.09 228.186 1544.09 Q231.334 1544.09 233.163 1541.93 Q235.015 1539.76 235.015 1536.03 Q235.015 1532.28 233.163 1530.13 Q231.334 1527.98 228.186 1527.98 M237.469 1513.32 L237.469 1517.58 Q235.709 1516.75 233.904 1516.31 Q232.121 1515.87 230.362 1515.87 Q225.733 1515.87 223.279 1519 Q220.848 1522.12 220.501 1528.44 Q221.867 1526.43 223.927 1525.36 Q225.987 1524.27 228.464 1524.27 Q233.672 1524.27 236.682 1527.44 Q239.714 1530.59 239.714 1536.03 Q239.714 1541.36 236.566 1544.57 Q233.418 1547.79 228.186 1547.79 Q222.191 1547.79 219.02 1543.21 Q215.848 1538.6 215.848 1529.87 Q215.848 1521.68 219.737 1516.82 Q223.626 1511.93 230.177 1511.93 Q231.936 1511.93 233.719 1512.28 Q235.524 1512.63 237.469 1513.32 Z\" fill=\"#000000\" fill-rule=\"evenodd\" fill-opacity=\"1\" /><path clip-path=\"url(#clip710)\" d=\"M 0 0 M490.39 1530.29 L520.065 1530.29 L520.065 1534.23 L490.39 1534.23 L490.39 1530.29 Z\" fill=\"#000000\" fill-rule=\"evenodd\" fill-opacity=\"1\" /><path clip-path=\"url(#clip710)\" d=\"M 0 0 M537.982 1516.63 L526.176 1535.08 L537.982 1535.08 L537.982 1516.63 M536.755 1512.56 L542.635 1512.56 L542.635 1535.08 L547.565 1535.08 L547.565 1538.97 L542.635 1538.97 L542.635 1547.12 L537.982 1547.12 L537.982 1538.97 L522.38 1538.97 L522.38 1534.46 L536.755 1512.56 Z\" fill=\"#000000\" fill-rule=\"evenodd\" fill-opacity=\"1\" /><path clip-path=\"url(#clip710)\" d=\"M 0 0 M799.12 1530.29 L828.796 1530.29 L828.796 1534.23 L799.12 1534.23 L799.12 1530.29 Z\" fill=\"#000000\" fill-rule=\"evenodd\" fill-opacity=\"1\" /><path clip-path=\"url(#clip710)\" d=\"M 0 0 M837.893 1543.18 L854.213 1543.18 L854.213 1547.12 L832.268 1547.12 L832.268 1543.18 Q834.93 1540.43 839.514 1535.8 Q844.12 1531.15 845.301 1529.81 Q847.546 1527.28 848.426 1525.55 Q849.329 1523.79 849.329 1522.1 Q849.329 1519.34 847.384 1517.61 Q845.463 1515.87 842.361 1515.87 Q840.162 1515.87 837.708 1516.63 Q835.278 1517.4 832.5 1518.95 L832.5 1514.23 Q835.324 1513.09 837.778 1512.51 Q840.231 1511.93 842.268 1511.93 Q847.639 1511.93 850.833 1514.62 Q854.028 1517.31 854.028 1521.8 Q854.028 1523.93 853.217 1525.85 Q852.43 1527.74 850.324 1530.34 Q849.745 1531.01 846.643 1534.23 Q843.541 1537.42 837.893 1543.18 Z\" fill=\"#000000\" fill-rule=\"evenodd\" fill-opacity=\"1\" /><path clip-path=\"url(#clip710)\" d=\"M 0 0 M1134.36 1515.64 Q1130.74 1515.64 1128.92 1519.2 Q1127.11 1522.75 1127.11 1529.87 Q1127.11 1536.98 1128.92 1540.55 Q1130.74 1544.09 1134.36 1544.09 Q1137.99 1544.09 1139.8 1540.55 Q1141.62 1536.98 1141.62 1529.87 Q1141.62 1522.75 1139.8 1519.2 Q1137.99 1515.64 1134.36 1515.64 M1134.36 1511.93 Q1140.17 1511.93 1143.22 1516.54 Q1146.3 1521.12 1146.3 1529.87 Q1146.3 1538.6 1143.22 1543.21 Q1140.17 1547.79 1134.36 1547.79 Q1128.55 1547.79 1125.47 1543.21 Q1122.41 1538.6 1122.41 1529.87 Q1122.41 1521.12 1125.47 1516.54 Q1128.55 1511.93 1134.36 1511.93 Z\" fill=\"#000000\" fill-rule=\"evenodd\" fill-opacity=\"1\" /><path clip-path=\"url(#clip710)\" d=\"M 0 0 M1436.7 1543.18 L1453.02 1543.18 L1453.02 1547.12 L1431.07 1547.12 L1431.07 1543.18 Q1433.73 1540.43 1438.32 1535.8 Q1442.92 1531.15 1444.11 1529.81 Q1446.35 1527.28 1447.23 1525.55 Q1448.13 1523.79 1448.13 1522.1 Q1448.13 1519.34 1446.19 1517.61 Q1444.27 1515.87 1441.17 1515.87 Q1438.97 1515.87 1436.51 1516.63 Q1434.08 1517.4 1431.3 1518.95 L1431.3 1514.23 Q1434.13 1513.09 1436.58 1512.51 Q1439.04 1511.93 1441.07 1511.93 Q1446.44 1511.93 1449.64 1514.62 Q1452.83 1517.31 1452.83 1521.8 Q1452.83 1523.93 1452.02 1525.85 Q1451.23 1527.74 1449.13 1530.34 Q1448.55 1531.01 1445.45 1534.23 Q1442.35 1537.42 1436.7 1543.18 Z\" fill=\"#000000\" fill-rule=\"evenodd\" fill-opacity=\"1\" /><path clip-path=\"url(#clip710)\" d=\"M 0 0 M1752.74 1516.63 L1740.94 1535.08 L1752.74 1535.08 L1752.74 1516.63 M1751.52 1512.56 L1757.4 1512.56 L1757.4 1535.08 L1762.33 1535.08 L1762.33 1538.97 L1757.4 1538.97 L1757.4 1547.12 L1752.74 1547.12 L1752.74 1538.97 L1737.14 1538.97 L1737.14 1534.46 L1751.52 1512.56 Z\" fill=\"#000000\" fill-rule=\"evenodd\" fill-opacity=\"1\" /><path clip-path=\"url(#clip710)\" d=\"M 0 0 M2057.83 1527.98 Q2054.68 1527.98 2052.83 1530.13 Q2051 1532.28 2051 1536.03 Q2051 1539.76 2052.83 1541.93 Q2054.68 1544.09 2057.83 1544.09 Q2060.98 1544.09 2062.81 1541.93 Q2064.66 1539.76 2064.66 1536.03 Q2064.66 1532.28 2062.81 1530.13 Q2060.98 1527.98 2057.83 1527.98 M2067.11 1513.32 L2067.11 1517.58 Q2065.35 1516.75 2063.55 1516.31 Q2061.76 1515.87 2060 1515.87 Q2055.37 1515.87 2052.92 1519 Q2050.49 1522.12 2050.14 1528.44 Q2051.51 1526.43 2053.57 1525.36 Q2055.63 1524.27 2058.11 1524.27 Q2063.31 1524.27 2066.32 1527.44 Q2069.36 1530.59 2069.36 1536.03 Q2069.36 1541.36 2066.21 1544.57 Q2063.06 1547.79 2057.83 1547.79 Q2051.83 1547.79 2048.66 1543.21 Q2045.49 1538.6 2045.49 1529.87 Q2045.49 1521.68 2049.38 1516.82 Q2053.27 1511.93 2059.82 1511.93 Q2061.58 1511.93 2063.36 1512.28 Q2065.17 1512.63 2067.11 1513.32 Z\" fill=\"#000000\" fill-rule=\"evenodd\" fill-opacity=\"1\" /><polyline clip-path=\"url(#clip712)\" style=\"stroke:#000000; stroke-width:2; stroke-opacity:0.1; fill:none\" points=\"\n",
       "  144.168,1434.9 2352.76,1434.9 \n",
       "  \"/>\n",
       "<polyline clip-path=\"url(#clip712)\" style=\"stroke:#000000; stroke-width:2; stroke-opacity:0.1; fill:none\" points=\"\n",
       "  144.168,1095.07 2352.76,1095.07 \n",
       "  \"/>\n",
       "<polyline clip-path=\"url(#clip712)\" style=\"stroke:#000000; stroke-width:2; stroke-opacity:0.1; fill:none\" points=\"\n",
       "  144.168,755.241 2352.76,755.241 \n",
       "  \"/>\n",
       "<polyline clip-path=\"url(#clip712)\" style=\"stroke:#000000; stroke-width:2; stroke-opacity:0.1; fill:none\" points=\"\n",
       "  144.168,415.411 2352.76,415.411 \n",
       "  \"/>\n",
       "<polyline clip-path=\"url(#clip712)\" style=\"stroke:#000000; stroke-width:2; stroke-opacity:0.1; fill:none\" points=\"\n",
       "  144.168,75.581 2352.76,75.581 \n",
       "  \"/>\n",
       "<polyline clip-path=\"url(#clip710)\" style=\"stroke:#000000; stroke-width:4; stroke-opacity:1; fill:none\" points=\"\n",
       "  144.168,1486.45 144.168,47.2441 \n",
       "  \"/>\n",
       "<polyline clip-path=\"url(#clip710)\" style=\"stroke:#000000; stroke-width:4; stroke-opacity:1; fill:none\" points=\"\n",
       "  144.168,1434.9 170.671,1434.9 \n",
       "  \"/>\n",
       "<polyline clip-path=\"url(#clip710)\" style=\"stroke:#000000; stroke-width:4; stroke-opacity:1; fill:none\" points=\"\n",
       "  144.168,1095.07 170.671,1095.07 \n",
       "  \"/>\n",
       "<polyline clip-path=\"url(#clip710)\" style=\"stroke:#000000; stroke-width:4; stroke-opacity:1; fill:none\" points=\"\n",
       "  144.168,755.241 170.671,755.241 \n",
       "  \"/>\n",
       "<polyline clip-path=\"url(#clip710)\" style=\"stroke:#000000; stroke-width:4; stroke-opacity:1; fill:none\" points=\"\n",
       "  144.168,415.411 170.671,415.411 \n",
       "  \"/>\n",
       "<polyline clip-path=\"url(#clip710)\" style=\"stroke:#000000; stroke-width:4; stroke-opacity:1; fill:none\" points=\"\n",
       "  144.168,75.581 170.671,75.581 \n",
       "  \"/>\n",
       "<path clip-path=\"url(#clip710)\" d=\"M 0 0 M50.9921 1435.35 L80.6679 1435.35 L80.6679 1439.29 L50.9921 1439.29 L50.9921 1435.35 Z\" fill=\"#000000\" fill-rule=\"evenodd\" fill-opacity=\"1\" /><path clip-path=\"url(#clip710)\" d=\"M 0 0 M98.5845 1421.69 L86.779 1440.14 L98.5845 1440.14 L98.5845 1421.69 M97.3576 1417.62 L103.237 1417.62 L103.237 1440.14 L108.168 1440.14 L108.168 1444.03 L103.237 1444.03 L103.237 1452.18 L98.5845 1452.18 L98.5845 1444.03 L82.9827 1444.03 L82.9827 1439.52 L97.3576 1417.62 Z\" fill=\"#000000\" fill-rule=\"evenodd\" fill-opacity=\"1\" /><path clip-path=\"url(#clip710)\" d=\"M 0 0 M53.0754 1095.52 L82.7512 1095.52 L82.7512 1099.46 L53.0754 1099.46 L53.0754 1095.52 Z\" fill=\"#000000\" fill-rule=\"evenodd\" fill-opacity=\"1\" /><path clip-path=\"url(#clip710)\" d=\"M 0 0 M91.8484 1108.42 L108.168 1108.42 L108.168 1112.35 L86.2234 1112.35 L86.2234 1108.42 Q88.8854 1105.66 93.4688 1101.03 Q98.0752 1096.38 99.2558 1095.04 Q101.501 1092.51 102.381 1090.78 Q103.284 1089.02 103.284 1087.33 Q103.284 1084.57 101.339 1082.84 Q99.4178 1081.1 96.316 1081.1 Q94.1169 1081.1 91.6632 1081.86 Q89.2327 1082.63 86.4549 1084.18 L86.4549 1079.46 Q89.279 1078.32 91.7326 1077.74 Q94.1863 1077.17 96.2234 1077.17 Q101.594 1077.17 104.788 1079.85 Q107.983 1082.54 107.983 1087.03 Q107.983 1089.16 107.172 1091.08 Q106.385 1092.98 104.279 1095.57 Q103.7 1096.24 100.598 1099.46 Q97.4965 1102.65 91.8484 1108.42 Z\" fill=\"#000000\" fill-rule=\"evenodd\" fill-opacity=\"1\" /><path clip-path=\"url(#clip710)\" d=\"M 0 0 M96.2234 741.039 Q92.6123 741.039 90.7836 744.604 Q88.978 748.146 88.978 755.275 Q88.978 762.382 90.7836 765.947 Q92.6123 769.488 96.2234 769.488 Q99.8576 769.488 101.663 765.947 Q103.492 762.382 103.492 755.275 Q103.492 748.146 101.663 744.604 Q99.8576 741.039 96.2234 741.039 M96.2234 737.336 Q102.034 737.336 105.089 741.942 Q108.168 746.525 108.168 755.275 Q108.168 764.002 105.089 768.609 Q102.034 773.192 96.2234 773.192 Q90.4132 773.192 87.3345 768.609 Q84.279 764.002 84.279 755.275 Q84.279 746.525 87.3345 741.942 Q90.4132 737.336 96.2234 737.336 Z\" fill=\"#000000\" fill-rule=\"evenodd\" fill-opacity=\"1\" /><path clip-path=\"url(#clip710)\" d=\"M 0 0 M91.8484 428.756 L108.168 428.756 L108.168 432.691 L86.2234 432.691 L86.2234 428.756 Q88.8854 426.001 93.4688 421.371 Q98.0752 416.719 99.2558 415.376 Q101.501 412.853 102.381 411.117 Q103.284 409.358 103.284 407.668 Q103.284 404.913 101.339 403.177 Q99.4178 401.441 96.316 401.441 Q94.1169 401.441 91.6632 402.205 Q89.2327 402.969 86.4549 404.52 L86.4549 399.798 Q89.279 398.663 91.7326 398.085 Q94.1863 397.506 96.2234 397.506 Q101.594 397.506 104.788 400.191 Q107.983 402.876 107.983 407.367 Q107.983 409.497 107.172 411.418 Q106.385 413.316 104.279 415.909 Q103.7 416.58 100.598 419.797 Q97.4965 422.992 91.8484 428.756 Z\" fill=\"#000000\" fill-rule=\"evenodd\" fill-opacity=\"1\" /><path clip-path=\"url(#clip710)\" d=\"M 0 0 M98.5845 62.3751 L86.779 80.824 L98.5845 80.824 L98.5845 62.3751 M97.3576 58.301 L103.237 58.301 L103.237 80.824 L108.168 80.824 L108.168 84.7129 L103.237 84.7129 L103.237 92.861 L98.5845 92.861 L98.5845 84.7129 L82.9827 84.7129 L82.9827 80.1991 L97.3576 58.301 Z\" fill=\"#000000\" fill-rule=\"evenodd\" fill-opacity=\"1\" /><path clip-path=\"url(#clip712)\" d=\"\n",
       "M1223.39 1319.17 L2290.25 87.9763 L1273.53 214.522 L206.675 1445.72 L1223.39 1319.17 L1223.39 1319.17  Z\n",
       "  \" fill=\"#009af9\" fill-rule=\"evenodd\" fill-opacity=\"0.5\"/>\n",
       "<polyline clip-path=\"url(#clip712)\" style=\"stroke:#000000; stroke-width:4; stroke-opacity:0.5; fill:none\" points=\"\n",
       "  1223.39,1319.17 2290.25,87.9763 1273.53,214.522 206.675,1445.72 1223.39,1319.17 \n",
       "  \"/>\n",
       "<path clip-path=\"url(#clip712)\" d=\"\n",
       "M2290.25 87.9763 L1134.36 87.9763 L1134.36 755.241 L2290.25 755.241 L2290.25 87.9763 L2290.25 87.9763  Z\n",
       "  \" fill=\"#e26f46\" fill-rule=\"evenodd\" fill-opacity=\"0.5\"/>\n",
       "<polyline clip-path=\"url(#clip712)\" style=\"stroke:#000000; stroke-width:4; stroke-opacity:0.5; fill:none\" points=\"\n",
       "  2290.25,87.9763 1134.36,87.9763 1134.36,755.241 2290.25,755.241 2290.25,87.9763 \n",
       "  \"/>\n",
       "<path clip-path=\"url(#clip712)\" d=\"\n",
       "M619.711 1094.58 L1134.36 1094.58 L1698.39 1032.39 L2290.25 427.312 L2290.25 87.9763 L1775.6 87.9763 L1211.57 150.168 L619.711 755.241 L619.711 1094.58 L619.711 1094.58 \n",
       "   Z\n",
       "  \" fill=\"#3da44d\" fill-rule=\"evenodd\" fill-opacity=\"0.5\"/>\n",
       "<polyline clip-path=\"url(#clip712)\" style=\"stroke:#000000; stroke-width:4; stroke-opacity:0.5; fill:none\" points=\"\n",
       "  619.711,1094.58 1134.36,1094.58 1698.39,1032.39 2290.25,427.312 2290.25,87.9763 1775.6,87.9763 1211.57,150.168 619.711,755.241 619.711,1094.58 \n",
       "  \n",
       "  \"/>\n",
       "<path clip-path=\"url(#clip710)\" d=\"\n",
       "M217.787 337.138 L594.829 337.138 L594.829 95.2176 L217.787 95.2176  Z\n",
       "  \" fill=\"#ffffff\" fill-rule=\"evenodd\" fill-opacity=\"1\"/>\n",
       "<polyline clip-path=\"url(#clip710)\" style=\"stroke:#000000; stroke-width:4; stroke-opacity:1; fill:none\" points=\"\n",
       "  217.787,337.138 594.829,337.138 594.829,95.2176 217.787,95.2176 217.787,337.138 \n",
       "  \"/>\n",
       "<path clip-path=\"url(#clip710)\" d=\"\n",
       "M242.327 179.89 L389.566 179.89 L389.566 131.506 L242.327 131.506 L242.327 179.89  Z\n",
       "  \" fill=\"#009af9\" fill-rule=\"evenodd\" fill-opacity=\"0.5\"/>\n",
       "<polyline clip-path=\"url(#clip710)\" style=\"stroke:#000000; stroke-width:4; stroke-opacity:1; fill:none\" points=\"\n",
       "  242.327,179.89 389.566,179.89 389.566,131.506 242.327,131.506 242.327,179.89 \n",
       "  \"/>\n",
       "<path clip-path=\"url(#clip710)\" d=\"M 0 0 M414.106 138.418 L443.342 138.418 L443.342 142.353 L431.074 142.353 L431.074 172.978 L426.375 172.978 L426.375 142.353 L414.106 142.353 L414.106 138.418 Z\" fill=\"#000000\" fill-rule=\"evenodd\" fill-opacity=\"1\" /><path clip-path=\"url(#clip710)\" d=\"M 0 0 M446.004 138.418 L473.157 138.418 L473.157 141.982 L451.305 169.042 L473.689 169.042 L473.689 172.978 L445.472 172.978 L445.472 169.413 L467.324 142.353 L446.004 142.353 L446.004 138.418 Z\" fill=\"#000000\" fill-rule=\"evenodd\" fill-opacity=\"1\" /><path clip-path=\"url(#clip710)\" d=\"\n",
       "M242.327 240.37 L389.566 240.37 L389.566 191.986 L242.327 191.986 L242.327 240.37  Z\n",
       "  \" fill=\"#e26f46\" fill-rule=\"evenodd\" fill-opacity=\"0.5\"/>\n",
       "<polyline clip-path=\"url(#clip710)\" style=\"stroke:#000000; stroke-width:4; stroke-opacity:1; fill:none\" points=\"\n",
       "  242.327,240.37 389.566,240.37 389.566,191.986 242.327,191.986 242.327,240.37 \n",
       "  \"/>\n",
       "<path clip-path=\"url(#clip710)\" d=\"M 0 0 M414.106 198.898 L443.342 198.898 L443.342 202.833 L431.074 202.833 L431.074 233.458 L426.375 233.458 L426.375 202.833 L414.106 202.833 L414.106 198.898 Z\" fill=\"#000000\" fill-rule=\"evenodd\" fill-opacity=\"1\" /><path clip-path=\"url(#clip710)\" d=\"M 0 0 M455.865 211.513 Q455.148 211.097 454.291 210.911 Q453.458 210.703 452.439 210.703 Q448.828 210.703 446.884 213.064 Q444.963 215.402 444.963 219.8 L444.963 233.458 L440.68 233.458 L440.68 207.532 L444.963 207.532 L444.963 211.56 Q446.305 209.198 448.458 208.064 Q450.611 206.907 453.689 206.907 Q454.129 206.907 454.662 206.976 Q455.194 207.023 455.842 207.138 L455.865 211.513 Z\" fill=\"#000000\" fill-rule=\"evenodd\" fill-opacity=\"1\" /><path clip-path=\"url(#clip710)\" d=\"M 0 0 M481.467 219.43 L481.467 221.513 L461.884 221.513 Q462.162 225.911 464.523 228.226 Q466.907 230.518 471.143 230.518 Q473.597 230.518 475.888 229.916 Q478.203 229.314 480.472 228.11 L480.472 232.138 Q478.18 233.11 475.773 233.62 Q473.365 234.129 470.888 234.129 Q464.685 234.129 461.05 230.518 Q457.439 226.907 457.439 220.749 Q457.439 214.384 460.865 210.657 Q464.314 206.907 470.148 206.907 Q475.379 206.907 478.412 210.286 Q481.467 213.643 481.467 219.43 M477.208 218.18 Q477.162 214.685 475.24 212.601 Q473.342 210.518 470.194 210.518 Q466.629 210.518 464.476 212.532 Q462.347 214.546 462.023 218.203 L477.208 218.18 Z\" fill=\"#000000\" fill-rule=\"evenodd\" fill-opacity=\"1\" /><path clip-path=\"url(#clip710)\" d=\"M 0 0 M485.935 197.439 L490.194 197.439 L490.194 233.458 L485.935 233.458 L485.935 197.439 Z\" fill=\"#000000\" fill-rule=\"evenodd\" fill-opacity=\"1\" /><path clip-path=\"url(#clip710)\" d=\"M 0 0 M494.222 223.226 L494.222 207.532 L498.481 207.532 L498.481 223.064 Q498.481 226.745 499.916 228.596 Q501.351 230.425 504.222 230.425 Q507.671 230.425 509.661 228.226 Q511.675 226.027 511.675 222.231 L511.675 207.532 L515.934 207.532 L515.934 233.458 L511.675 233.458 L511.675 229.476 Q510.124 231.837 508.064 232.995 Q506.027 234.129 503.319 234.129 Q498.851 234.129 496.536 231.351 Q494.222 228.573 494.222 223.226 M504.939 206.907 L504.939 206.907 Z\" fill=\"#000000\" fill-rule=\"evenodd\" fill-opacity=\"1\" /><path clip-path=\"url(#clip710)\" d=\"\n",
       "M242.327 300.85 L389.566 300.85 L389.566 252.466 L242.327 252.466 L242.327 300.85  Z\n",
       "  \" fill=\"#3da44d\" fill-rule=\"evenodd\" fill-opacity=\"0.5\"/>\n",
       "<polyline clip-path=\"url(#clip710)\" style=\"stroke:#000000; stroke-width:4; stroke-opacity:1; fill:none\" points=\"\n",
       "  242.327,300.85 389.566,300.85 389.566,252.466 242.327,252.466 242.327,300.85 \n",
       "  \"/>\n",
       "<path clip-path=\"url(#clip710)\" d=\"M 0 0 M414.106 259.378 L443.342 259.378 L443.342 263.313 L431.074 263.313 L431.074 293.938 L426.375 293.938 L426.375 263.313 L414.106 263.313 L414.106 259.378 Z\" fill=\"#000000\" fill-rule=\"evenodd\" fill-opacity=\"1\" /><path clip-path=\"url(#clip710)\" d=\"M 0 0 M445.958 268.012 L466.189 268.012 L466.189 271.901 L450.171 290.535 L466.189 290.535 L466.189 293.938 L445.379 293.938 L445.379 290.049 L461.398 271.415 L445.958 271.415 L445.958 268.012 Z\" fill=\"#000000\" fill-rule=\"evenodd\" fill-opacity=\"1\" /><path clip-path=\"url(#clip710)\" d=\"M 0 0 M485.68 271.993 Q484.962 271.577 484.106 271.391 Q483.273 271.183 482.254 271.183 Q478.643 271.183 476.699 273.544 Q474.777 275.882 474.777 280.28 L474.777 293.938 L470.495 293.938 L470.495 268.012 L474.777 268.012 L474.777 272.04 Q476.12 269.678 478.273 268.544 Q480.425 267.387 483.504 267.387 Q483.944 267.387 484.476 267.456 Q485.009 267.503 485.657 267.618 L485.68 271.993 Z\" fill=\"#000000\" fill-rule=\"evenodd\" fill-opacity=\"1\" /><path clip-path=\"url(#clip710)\" d=\"M 0 0 M511.282 279.91 L511.282 281.993 L491.698 281.993 Q491.976 286.391 494.337 288.706 Q496.722 290.998 500.958 290.998 Q503.411 290.998 505.703 290.396 Q508.018 289.794 510.286 288.59 L510.286 292.618 Q507.995 293.59 505.587 294.1 Q503.18 294.609 500.703 294.609 Q494.499 294.609 490.865 290.998 Q487.254 287.387 487.254 281.229 Q487.254 274.864 490.68 271.137 Q494.129 267.387 499.962 267.387 Q505.194 267.387 508.226 270.766 Q511.282 274.123 511.282 279.91 M507.022 278.66 Q506.976 275.165 505.055 273.081 Q503.157 270.998 500.009 270.998 Q496.444 270.998 494.291 273.012 Q492.161 275.026 491.837 278.683 L507.022 278.66 Z\" fill=\"#000000\" fill-rule=\"evenodd\" fill-opacity=\"1\" /><path clip-path=\"url(#clip710)\" d=\"M 0 0 M515.749 257.919 L520.009 257.919 L520.009 293.938 L515.749 293.938 L515.749 257.919 Z\" fill=\"#000000\" fill-rule=\"evenodd\" fill-opacity=\"1\" /><path clip-path=\"url(#clip710)\" d=\"M 0 0 M524.036 283.706 L524.036 268.012 L528.296 268.012 L528.296 283.544 Q528.296 287.225 529.731 289.076 Q531.166 290.905 534.036 290.905 Q537.485 290.905 539.476 288.706 Q541.49 286.507 541.49 282.711 L541.49 268.012 L545.749 268.012 L545.749 293.938 L541.49 293.938 L541.49 289.956 Q539.939 292.317 537.879 293.475 Q535.842 294.609 533.133 294.609 Q528.666 294.609 526.351 291.831 Q524.036 289.053 524.036 283.706 M534.754 267.387 L534.754 267.387 Z\" fill=\"#000000\" fill-rule=\"evenodd\" fill-opacity=\"1\" /></svg>\n"
      ]
     },
     "execution_count": 50,
     "metadata": {},
     "output_type": "execute_result"
    }
   ],
   "source": [
    "plot(TZ, lab=\"TZ\")\n",
    "\n",
    "@show Trelu = convert(Hyperrectangle, IntervalBox(relu.(set(T))))\n",
    "\n",
    "TZrelu = overapproximate(Rectification(TZ), Zonotope) # uses AI2\n",
    "\n",
    "plot!(Trelu, lab=\"Trelu\", legend=:topleft)\n",
    "\n",
    "plot!(TZrelu, lab=\"Tzrelu\")"
   ]
  },
  {
   "cell_type": "markdown",
   "metadata": {},
   "source": [
    "Another random example:"
   ]
  },
  {
   "cell_type": "code",
   "execution_count": 56,
   "metadata": {},
   "outputs": [
    {
     "name": "stdout",
     "output_type": "stream",
     "text": [
      "Trelu = convert(Hyperrectangle, IntervalBox(relu.(set(T)))) = Hyperrectangle{Float64,StaticArrays.SArray{Tuple{2},Float64,1,2},StaticArrays.SArray{Tuple{2},Float64,1,2}}([0.44083023623379786, 1.0129490299582236], [0.44083023623379786, 1.0129490299582236])\n"
     ]
    },
    {
     "data": {
      "image/svg+xml": [
       "<?xml version=\"1.0\" encoding=\"utf-8\"?>\n",
       "<svg xmlns=\"http://www.w3.org/2000/svg\" xmlns:xlink=\"http://www.w3.org/1999/xlink\" width=\"600\" height=\"400\" viewBox=\"0 0 2400 1600\">\n",
       "<defs>\n",
       "  <clipPath id=\"clip950\">\n",
       "    <rect x=\"0\" y=\"0\" width=\"2400\" height=\"1600\"/>\n",
       "  </clipPath>\n",
       "</defs>\n",
       "<path clip-path=\"url(#clip950)\" d=\"\n",
       "M0 1600 L2400 1600 L2400 0 L0 0  Z\n",
       "  \" fill=\"#ffffff\" fill-rule=\"evenodd\" fill-opacity=\"1\"/>\n",
       "<defs>\n",
       "  <clipPath id=\"clip951\">\n",
       "    <rect x=\"480\" y=\"0\" width=\"1681\" height=\"1600\"/>\n",
       "  </clipPath>\n",
       "</defs>\n",
       "<path clip-path=\"url(#clip950)\" d=\"\n",
       "M142.455 1486.45 L2352.76 1486.45 L2352.76 47.2441 L142.455 47.2441  Z\n",
       "  \" fill=\"#ffffff\" fill-rule=\"evenodd\" fill-opacity=\"1\"/>\n",
       "<defs>\n",
       "  <clipPath id=\"clip952\">\n",
       "    <rect x=\"142\" y=\"47\" width=\"2211\" height=\"1440\"/>\n",
       "  </clipPath>\n",
       "</defs>\n",
       "<polyline clip-path=\"url(#clip952)\" style=\"stroke:#000000; stroke-width:2; stroke-opacity:0.1; fill:none\" points=\"\n",
       "  182.383,1486.45 182.383,47.2441 \n",
       "  \"/>\n",
       "<polyline clip-path=\"url(#clip952)\" style=\"stroke:#000000; stroke-width:2; stroke-opacity:0.1; fill:none\" points=\"\n",
       "  648.03,1486.45 648.03,47.2441 \n",
       "  \"/>\n",
       "<polyline clip-path=\"url(#clip952)\" style=\"stroke:#000000; stroke-width:2; stroke-opacity:0.1; fill:none\" points=\"\n",
       "  1113.68,1486.45 1113.68,47.2441 \n",
       "  \"/>\n",
       "<polyline clip-path=\"url(#clip952)\" style=\"stroke:#000000; stroke-width:2; stroke-opacity:0.1; fill:none\" points=\"\n",
       "  1579.32,1486.45 1579.32,47.2441 \n",
       "  \"/>\n",
       "<polyline clip-path=\"url(#clip952)\" style=\"stroke:#000000; stroke-width:2; stroke-opacity:0.1; fill:none\" points=\"\n",
       "  2044.97,1486.45 2044.97,47.2441 \n",
       "  \"/>\n",
       "<polyline clip-path=\"url(#clip950)\" style=\"stroke:#000000; stroke-width:4; stroke-opacity:1; fill:none\" points=\"\n",
       "  142.455,1486.45 2352.76,1486.45 \n",
       "  \"/>\n",
       "<polyline clip-path=\"url(#clip950)\" style=\"stroke:#000000; stroke-width:4; stroke-opacity:1; fill:none\" points=\"\n",
       "  182.383,1486.45 182.383,1469.18 \n",
       "  \"/>\n",
       "<polyline clip-path=\"url(#clip950)\" style=\"stroke:#000000; stroke-width:4; stroke-opacity:1; fill:none\" points=\"\n",
       "  648.03,1486.45 648.03,1469.18 \n",
       "  \"/>\n",
       "<polyline clip-path=\"url(#clip950)\" style=\"stroke:#000000; stroke-width:4; stroke-opacity:1; fill:none\" points=\"\n",
       "  1113.68,1486.45 1113.68,1469.18 \n",
       "  \"/>\n",
       "<polyline clip-path=\"url(#clip950)\" style=\"stroke:#000000; stroke-width:4; stroke-opacity:1; fill:none\" points=\"\n",
       "  1579.32,1486.45 1579.32,1469.18 \n",
       "  \"/>\n",
       "<polyline clip-path=\"url(#clip950)\" style=\"stroke:#000000; stroke-width:4; stroke-opacity:1; fill:none\" points=\"\n",
       "  2044.97,1486.45 2044.97,1469.18 \n",
       "  \"/>\n",
       "<path clip-path=\"url(#clip950)\" d=\"M 0 0 M123.344 1530.29 L153.02 1530.29 L153.02 1534.23 L123.344 1534.23 L123.344 1530.29 Z\" fill=\"#000000\" fill-rule=\"evenodd\" fill-opacity=\"1\" /><path clip-path=\"url(#clip950)\" d=\"M 0 0 M168.089 1515.64 Q164.478 1515.64 162.65 1519.2 Q160.844 1522.75 160.844 1529.87 Q160.844 1536.98 162.65 1540.55 Q164.478 1544.09 168.089 1544.09 Q171.724 1544.09 173.529 1540.55 Q175.358 1536.98 175.358 1529.87 Q175.358 1522.75 173.529 1519.2 Q171.724 1515.64 168.089 1515.64 M168.089 1511.93 Q173.899 1511.93 176.955 1516.54 Q180.034 1521.12 180.034 1529.87 Q180.034 1538.6 176.955 1543.21 Q173.899 1547.79 168.089 1547.79 Q162.279 1547.79 159.2 1543.21 Q156.145 1538.6 156.145 1529.87 Q156.145 1521.12 159.2 1516.54 Q162.279 1511.93 168.089 1511.93 Z\" fill=\"#000000\" fill-rule=\"evenodd\" fill-opacity=\"1\" /><path clip-path=\"url(#clip950)\" d=\"M 0 0 M185.103 1541.24 L189.987 1541.24 L189.987 1547.12 L185.103 1547.12 L185.103 1541.24 Z\" fill=\"#000000\" fill-rule=\"evenodd\" fill-opacity=\"1\" /><path clip-path=\"url(#clip950)\" d=\"M 0 0 M199.085 1543.18 L215.404 1543.18 L215.404 1547.12 L193.46 1547.12 L193.46 1543.18 Q196.122 1540.43 200.705 1535.8 Q205.311 1531.15 206.492 1529.81 Q208.737 1527.28 209.617 1525.55 Q210.52 1523.79 210.52 1522.1 Q210.52 1519.34 208.575 1517.61 Q206.654 1515.87 203.552 1515.87 Q201.353 1515.87 198.899 1516.63 Q196.469 1517.4 193.691 1518.95 L193.691 1514.23 Q196.515 1513.09 198.969 1512.51 Q201.422 1511.93 203.459 1511.93 Q208.83 1511.93 212.024 1514.62 Q215.219 1517.31 215.219 1521.8 Q215.219 1523.93 214.408 1525.85 Q213.621 1527.74 211.515 1530.34 Q210.936 1531.01 207.834 1534.23 Q204.733 1537.42 199.085 1543.18 Z\" fill=\"#000000\" fill-rule=\"evenodd\" fill-opacity=\"1\" /><path clip-path=\"url(#clip950)\" d=\"M 0 0 M220.52 1512.56 L238.876 1512.56 L238.876 1516.5 L224.802 1516.5 L224.802 1524.97 Q225.82 1524.62 226.839 1524.46 Q227.858 1524.27 228.876 1524.27 Q234.663 1524.27 238.043 1527.44 Q241.422 1530.62 241.422 1536.03 Q241.422 1541.61 237.95 1544.71 Q234.478 1547.79 228.158 1547.79 Q225.983 1547.79 223.714 1547.42 Q221.469 1547.05 219.061 1546.31 L219.061 1541.61 Q221.145 1542.74 223.367 1543.3 Q225.589 1543.86 228.066 1543.86 Q232.07 1543.86 234.408 1541.75 Q236.746 1539.64 236.746 1536.03 Q236.746 1532.42 234.408 1530.31 Q232.07 1528.21 228.066 1528.21 Q226.191 1528.21 224.316 1528.62 Q222.464 1529.04 220.52 1529.92 L220.52 1512.56 Z\" fill=\"#000000\" fill-rule=\"evenodd\" fill-opacity=\"1\" /><path clip-path=\"url(#clip950)\" d=\"M 0 0 M616.04 1515.64 Q612.429 1515.64 610.6 1519.2 Q608.794 1522.75 608.794 1529.87 Q608.794 1536.98 610.6 1540.55 Q612.429 1544.09 616.04 1544.09 Q619.674 1544.09 621.479 1540.55 Q623.308 1536.98 623.308 1529.87 Q623.308 1522.75 621.479 1519.2 Q619.674 1515.64 616.04 1515.64 M616.04 1511.93 Q621.85 1511.93 624.905 1516.54 Q627.984 1521.12 627.984 1529.87 Q627.984 1538.6 624.905 1543.21 Q621.85 1547.79 616.04 1547.79 Q610.229 1547.79 607.151 1543.21 Q604.095 1538.6 604.095 1529.87 Q604.095 1521.12 607.151 1516.54 Q610.229 1511.93 616.04 1511.93 Z\" fill=\"#000000\" fill-rule=\"evenodd\" fill-opacity=\"1\" /><path clip-path=\"url(#clip950)\" d=\"M 0 0 M633.053 1541.24 L637.938 1541.24 L637.938 1547.12 L633.053 1547.12 L633.053 1541.24 Z\" fill=\"#000000\" fill-rule=\"evenodd\" fill-opacity=\"1\" /><path clip-path=\"url(#clip950)\" d=\"M 0 0 M653.007 1515.64 Q649.396 1515.64 647.567 1519.2 Q645.762 1522.75 645.762 1529.87 Q645.762 1536.98 647.567 1540.55 Q649.396 1544.09 653.007 1544.09 Q656.641 1544.09 658.447 1540.55 Q660.275 1536.98 660.275 1529.87 Q660.275 1522.75 658.447 1519.2 Q656.641 1515.64 653.007 1515.64 M653.007 1511.93 Q658.817 1511.93 661.873 1516.54 Q664.951 1521.12 664.951 1529.87 Q664.951 1538.6 661.873 1543.21 Q658.817 1547.79 653.007 1547.79 Q647.197 1547.79 644.118 1543.21 Q641.063 1538.6 641.063 1529.87 Q641.063 1521.12 644.118 1516.54 Q647.197 1511.93 653.007 1511.93 Z\" fill=\"#000000\" fill-rule=\"evenodd\" fill-opacity=\"1\" /><path clip-path=\"url(#clip950)\" d=\"M 0 0 M680.021 1515.64 Q676.41 1515.64 674.581 1519.2 Q672.775 1522.75 672.775 1529.87 Q672.775 1536.98 674.581 1540.55 Q676.41 1544.09 680.021 1544.09 Q683.655 1544.09 685.461 1540.55 Q687.289 1536.98 687.289 1529.87 Q687.289 1522.75 685.461 1519.2 Q683.655 1515.64 680.021 1515.64 M680.021 1511.93 Q685.831 1511.93 688.886 1516.54 Q691.965 1521.12 691.965 1529.87 Q691.965 1538.6 688.886 1543.21 Q685.831 1547.79 680.021 1547.79 Q674.211 1547.79 671.132 1543.21 Q668.076 1538.6 668.076 1529.87 Q668.076 1521.12 671.132 1516.54 Q674.211 1511.93 680.021 1511.93 Z\" fill=\"#000000\" fill-rule=\"evenodd\" fill-opacity=\"1\" /><path clip-path=\"url(#clip950)\" d=\"M 0 0 M1082.98 1515.64 Q1079.37 1515.64 1077.54 1519.2 Q1075.74 1522.75 1075.74 1529.87 Q1075.74 1536.98 1077.54 1540.55 Q1079.37 1544.09 1082.98 1544.09 Q1086.62 1544.09 1088.42 1540.55 Q1090.25 1536.98 1090.25 1529.87 Q1090.25 1522.75 1088.42 1519.2 Q1086.62 1515.64 1082.98 1515.64 M1082.98 1511.93 Q1088.79 1511.93 1091.85 1516.54 Q1094.93 1521.12 1094.93 1529.87 Q1094.93 1538.6 1091.85 1543.21 Q1088.79 1547.79 1082.98 1547.79 Q1077.17 1547.79 1074.09 1543.21 Q1071.04 1538.6 1071.04 1529.87 Q1071.04 1521.12 1074.09 1516.54 Q1077.17 1511.93 1082.98 1511.93 Z\" fill=\"#000000\" fill-rule=\"evenodd\" fill-opacity=\"1\" /><path clip-path=\"url(#clip950)\" d=\"M 0 0 M1100 1541.24 L1104.88 1541.24 L1104.88 1547.12 L1100 1547.12 L1100 1541.24 Z\" fill=\"#000000\" fill-rule=\"evenodd\" fill-opacity=\"1\" /><path clip-path=\"url(#clip950)\" d=\"M 0 0 M1113.98 1543.18 L1130.3 1543.18 L1130.3 1547.12 L1108.35 1547.12 L1108.35 1543.18 Q1111.02 1540.43 1115.6 1535.8 Q1120.2 1531.15 1121.39 1529.81 Q1123.63 1527.28 1124.51 1525.55 Q1125.41 1523.79 1125.41 1522.1 Q1125.41 1519.34 1123.47 1517.61 Q1121.55 1515.87 1118.45 1515.87 Q1116.25 1515.87 1113.79 1516.63 Q1111.36 1517.4 1108.58 1518.95 L1108.58 1514.23 Q1111.41 1513.09 1113.86 1512.51 Q1116.32 1511.93 1118.35 1511.93 Q1123.72 1511.93 1126.92 1514.62 Q1130.11 1517.31 1130.11 1521.8 Q1130.11 1523.93 1129.3 1525.85 Q1128.51 1527.74 1126.41 1530.34 Q1125.83 1531.01 1122.73 1534.23 Q1119.63 1537.42 1113.98 1543.18 Z\" fill=\"#000000\" fill-rule=\"evenodd\" fill-opacity=\"1\" /><path clip-path=\"url(#clip950)\" d=\"M 0 0 M1135.41 1512.56 L1153.77 1512.56 L1153.77 1516.5 L1139.7 1516.5 L1139.7 1524.97 Q1140.71 1524.62 1141.73 1524.46 Q1142.75 1524.27 1143.77 1524.27 Q1149.56 1524.27 1152.94 1527.44 Q1156.32 1530.62 1156.32 1536.03 Q1156.32 1541.61 1152.84 1544.71 Q1149.37 1547.79 1143.05 1547.79 Q1140.88 1547.79 1138.61 1547.42 Q1136.36 1547.05 1133.95 1546.31 L1133.95 1541.61 Q1136.04 1542.74 1138.26 1543.3 Q1140.48 1543.86 1142.96 1543.86 Q1146.96 1543.86 1149.3 1541.75 Q1151.64 1539.64 1151.64 1536.03 Q1151.64 1532.42 1149.3 1530.31 Q1146.96 1528.21 1142.96 1528.21 Q1141.08 1528.21 1139.21 1528.62 Q1137.36 1529.04 1135.41 1529.92 L1135.41 1512.56 Z\" fill=\"#000000\" fill-rule=\"evenodd\" fill-opacity=\"1\" /><path clip-path=\"url(#clip950)\" d=\"M 0 0 M1547.83 1515.64 Q1544.22 1515.64 1542.39 1519.2 Q1540.59 1522.75 1540.59 1529.87 Q1540.59 1536.98 1542.39 1540.55 Q1544.22 1544.09 1547.83 1544.09 Q1551.47 1544.09 1553.27 1540.55 Q1555.1 1536.98 1555.1 1529.87 Q1555.1 1522.75 1553.27 1519.2 Q1551.47 1515.64 1547.83 1515.64 M1547.83 1511.93 Q1553.64 1511.93 1556.7 1516.54 Q1559.78 1521.12 1559.78 1529.87 Q1559.78 1538.6 1556.7 1543.21 Q1553.64 1547.79 1547.83 1547.79 Q1542.02 1547.79 1538.94 1543.21 Q1535.89 1538.6 1535.89 1529.87 Q1535.89 1521.12 1538.94 1516.54 Q1542.02 1511.93 1547.83 1511.93 Z\" fill=\"#000000\" fill-rule=\"evenodd\" fill-opacity=\"1\" /><path clip-path=\"url(#clip950)\" d=\"M 0 0 M1564.84 1541.24 L1569.73 1541.24 L1569.73 1547.12 L1564.84 1547.12 L1564.84 1541.24 Z\" fill=\"#000000\" fill-rule=\"evenodd\" fill-opacity=\"1\" /><path clip-path=\"url(#clip950)\" d=\"M 0 0 M1574.84 1512.56 L1593.2 1512.56 L1593.2 1516.5 L1579.13 1516.5 L1579.13 1524.97 Q1580.15 1524.62 1581.16 1524.46 Q1582.18 1524.27 1583.2 1524.27 Q1588.99 1524.27 1592.37 1527.44 Q1595.75 1530.62 1595.75 1536.03 Q1595.75 1541.61 1592.28 1544.71 Q1588.8 1547.79 1582.48 1547.79 Q1580.31 1547.79 1578.04 1547.42 Q1575.79 1547.05 1573.39 1546.31 L1573.39 1541.61 Q1575.47 1542.74 1577.69 1543.3 Q1579.91 1543.86 1582.39 1543.86 Q1586.4 1543.86 1588.73 1541.75 Q1591.07 1539.64 1591.07 1536.03 Q1591.07 1532.42 1588.73 1530.31 Q1586.4 1528.21 1582.39 1528.21 Q1580.52 1528.21 1578.64 1528.62 Q1576.79 1529.04 1574.84 1529.92 L1574.84 1512.56 Z\" fill=\"#000000\" fill-rule=\"evenodd\" fill-opacity=\"1\" /><path clip-path=\"url(#clip950)\" d=\"M 0 0 M1610.82 1515.64 Q1607.21 1515.64 1605.38 1519.2 Q1603.57 1522.75 1603.57 1529.87 Q1603.57 1536.98 1605.38 1540.55 Q1607.21 1544.09 1610.82 1544.09 Q1614.45 1544.09 1616.26 1540.55 Q1618.09 1536.98 1618.09 1529.87 Q1618.09 1522.75 1616.26 1519.2 Q1614.45 1515.64 1610.82 1515.64 M1610.82 1511.93 Q1616.63 1511.93 1619.68 1516.54 Q1622.76 1521.12 1622.76 1529.87 Q1622.76 1538.6 1619.68 1543.21 Q1616.63 1547.79 1610.82 1547.79 Q1605.01 1547.79 1601.93 1543.21 Q1598.87 1538.6 1598.87 1529.87 Q1598.87 1521.12 1601.93 1516.54 Q1605.01 1511.93 1610.82 1511.93 Z\" fill=\"#000000\" fill-rule=\"evenodd\" fill-opacity=\"1\" /><path clip-path=\"url(#clip950)\" d=\"M 0 0 M2013.93 1515.64 Q2010.32 1515.64 2008.49 1519.2 Q2006.68 1522.75 2006.68 1529.87 Q2006.68 1536.98 2008.49 1540.55 Q2010.32 1544.09 2013.93 1544.09 Q2017.56 1544.09 2019.37 1540.55 Q2021.2 1536.98 2021.2 1529.87 Q2021.2 1522.75 2019.37 1519.2 Q2017.56 1515.64 2013.93 1515.64 M2013.93 1511.93 Q2019.74 1511.93 2022.8 1516.54 Q2025.87 1521.12 2025.87 1529.87 Q2025.87 1538.6 2022.8 1543.21 Q2019.74 1547.79 2013.93 1547.79 Q2008.12 1547.79 2005.04 1543.21 Q2001.99 1538.6 2001.99 1529.87 Q2001.99 1521.12 2005.04 1516.54 Q2008.12 1511.93 2013.93 1511.93 Z\" fill=\"#000000\" fill-rule=\"evenodd\" fill-opacity=\"1\" /><path clip-path=\"url(#clip950)\" d=\"M 0 0 M2030.94 1541.24 L2035.83 1541.24 L2035.83 1547.12 L2030.94 1547.12 L2030.94 1541.24 Z\" fill=\"#000000\" fill-rule=\"evenodd\" fill-opacity=\"1\" /><path clip-path=\"url(#clip950)\" d=\"M 0 0 M2039.72 1512.56 L2061.94 1512.56 L2061.94 1514.55 L2049.39 1547.12 L2044.51 1547.12 L2056.31 1516.5 L2039.72 1516.5 L2039.72 1512.56 Z\" fill=\"#000000\" fill-rule=\"evenodd\" fill-opacity=\"1\" /><path clip-path=\"url(#clip950)\" d=\"M 0 0 M2067.05 1512.56 L2085.41 1512.56 L2085.41 1516.5 L2071.34 1516.5 L2071.34 1524.97 Q2072.36 1524.62 2073.37 1524.46 Q2074.39 1524.27 2075.41 1524.27 Q2081.2 1524.27 2084.58 1527.44 Q2087.96 1530.62 2087.96 1536.03 Q2087.96 1541.61 2084.48 1544.71 Q2081.01 1547.79 2074.69 1547.79 Q2072.52 1547.79 2070.25 1547.42 Q2068 1547.05 2065.6 1546.31 L2065.6 1541.61 Q2067.68 1542.74 2069.9 1543.3 Q2072.12 1543.86 2074.6 1543.86 Q2078.61 1543.86 2080.94 1541.75 Q2083.28 1539.64 2083.28 1536.03 Q2083.28 1532.42 2080.94 1530.31 Q2078.61 1528.21 2074.6 1528.21 Q2072.73 1528.21 2070.85 1528.62 Q2069 1529.04 2067.05 1529.92 L2067.05 1512.56 Z\" fill=\"#000000\" fill-rule=\"evenodd\" fill-opacity=\"1\" /><polyline clip-path=\"url(#clip952)\" style=\"stroke:#000000; stroke-width:2; stroke-opacity:0.1; fill:none\" points=\"\n",
       "  142.455,1210.32 2352.76,1210.32 \n",
       "  \"/>\n",
       "<polyline clip-path=\"url(#clip952)\" style=\"stroke:#000000; stroke-width:2; stroke-opacity:0.1; fill:none\" points=\"\n",
       "  142.455,839.409 2352.76,839.409 \n",
       "  \"/>\n",
       "<polyline clip-path=\"url(#clip952)\" style=\"stroke:#000000; stroke-width:2; stroke-opacity:0.1; fill:none\" points=\"\n",
       "  142.455,468.496 2352.76,468.496 \n",
       "  \"/>\n",
       "<polyline clip-path=\"url(#clip952)\" style=\"stroke:#000000; stroke-width:2; stroke-opacity:0.1; fill:none\" points=\"\n",
       "  142.455,97.5822 2352.76,97.5822 \n",
       "  \"/>\n",
       "<polyline clip-path=\"url(#clip950)\" style=\"stroke:#000000; stroke-width:4; stroke-opacity:1; fill:none\" points=\"\n",
       "  142.455,1486.45 142.455,47.2441 \n",
       "  \"/>\n",
       "<polyline clip-path=\"url(#clip950)\" style=\"stroke:#000000; stroke-width:4; stroke-opacity:1; fill:none\" points=\"\n",
       "  142.455,1210.32 168.978,1210.32 \n",
       "  \"/>\n",
       "<polyline clip-path=\"url(#clip950)\" style=\"stroke:#000000; stroke-width:4; stroke-opacity:1; fill:none\" points=\"\n",
       "  142.455,839.409 168.978,839.409 \n",
       "  \"/>\n",
       "<polyline clip-path=\"url(#clip950)\" style=\"stroke:#000000; stroke-width:4; stroke-opacity:1; fill:none\" points=\"\n",
       "  142.455,468.496 168.978,468.496 \n",
       "  \"/>\n",
       "<polyline clip-path=\"url(#clip950)\" style=\"stroke:#000000; stroke-width:4; stroke-opacity:1; fill:none\" points=\"\n",
       "  142.455,97.5822 168.978,97.5822 \n",
       "  \"/>\n",
       "<path clip-path=\"url(#clip950)\" d=\"M 0 0 M50.9921 1210.77 L80.6679 1210.77 L80.6679 1214.71 L50.9921 1214.71 L50.9921 1210.77 Z\" fill=\"#000000\" fill-rule=\"evenodd\" fill-opacity=\"1\" /><path clip-path=\"url(#clip950)\" d=\"M 0 0 M86.5475 1223.67 L94.1863 1223.67 L94.1863 1197.3 L85.8762 1198.97 L85.8762 1194.71 L94.14 1193.04 L98.8159 1193.04 L98.8159 1223.67 L106.455 1223.67 L106.455 1227.6 L86.5475 1227.6 L86.5475 1223.67 Z\" fill=\"#000000\" fill-rule=\"evenodd\" fill-opacity=\"1\" /><path clip-path=\"url(#clip950)\" d=\"M 0 0 M94.5104 825.208 Q90.8993 825.208 89.0706 828.772 Q87.2651 832.314 87.2651 839.444 Q87.2651 846.55 89.0706 850.115 Q90.8993 853.657 94.5104 853.657 Q98.1447 853.657 99.9502 850.115 Q101.779 846.55 101.779 839.444 Q101.779 832.314 99.9502 828.772 Q98.1447 825.208 94.5104 825.208 M94.5104 821.504 Q100.321 821.504 103.376 826.11 Q106.455 830.694 106.455 839.444 Q106.455 848.171 103.376 852.777 Q100.321 857.36 94.5104 857.36 Q88.7003 857.36 85.6216 852.777 Q82.566 848.171 82.566 839.444 Q82.566 830.694 85.6216 826.11 Q88.7003 821.504 94.5104 821.504 Z\" fill=\"#000000\" fill-rule=\"evenodd\" fill-opacity=\"1\" /><path clip-path=\"url(#clip950)\" d=\"M 0 0 M86.5475 481.84 L94.1863 481.84 L94.1863 455.475 L85.8762 457.141 L85.8762 452.882 L94.14 451.216 L98.8159 451.216 L98.8159 481.84 L106.455 481.84 L106.455 485.776 L86.5475 485.776 L86.5475 481.84 Z\" fill=\"#000000\" fill-rule=\"evenodd\" fill-opacity=\"1\" /><path clip-path=\"url(#clip950)\" d=\"M 0 0 M90.1354 110.927 L106.455 110.927 L106.455 114.862 L84.5105 114.862 L84.5105 110.927 Q87.1725 108.172 91.7558 103.543 Q96.3623 98.8901 97.5428 97.5475 Q99.7882 95.0244 100.668 93.2883 Q101.571 91.529 101.571 89.8392 Q101.571 87.0846 99.6261 85.3485 Q97.7048 83.6124 94.603 83.6124 Q92.4039 83.6124 89.9503 84.3763 Q87.5197 85.1402 84.7419 86.6911 L84.7419 81.9689 Q87.566 80.8346 90.0197 80.2559 Q92.4734 79.6772 94.5104 79.6772 Q99.8808 79.6772 103.075 82.3624 Q106.27 85.0476 106.27 89.5383 Q106.27 91.6679 105.459 93.5892 Q104.672 95.4873 102.566 98.0799 Q101.987 98.7512 98.8854 101.969 Q95.7836 105.163 90.1354 110.927 Z\" fill=\"#000000\" fill-rule=\"evenodd\" fill-opacity=\"1\" /><path clip-path=\"url(#clip952)\" d=\"\n",
       "M737.855 1328.25 L2290.2 87.9763 L1757.36 205.439 L205.01 1445.72 L737.855 1328.25 L737.855 1328.25  Z\n",
       "  \" fill=\"#009af9\" fill-rule=\"evenodd\" fill-opacity=\"0.5\"/>\n",
       "<polyline clip-path=\"url(#clip952)\" style=\"stroke:#000000; stroke-width:4; stroke-opacity:0.5; fill:none\" points=\"\n",
       "  737.855,1328.25 2290.2,87.9763 1757.36,205.439 205.01,1445.72 737.855,1328.25 \n",
       "  \"/>\n",
       "<path clip-path=\"url(#clip952)\" d=\"\n",
       "M2290.2 87.9763 L648.03 87.9763 L648.03 839.409 L2290.2 839.409 L2290.2 87.9763 L2290.2 87.9763  Z\n",
       "  \" fill=\"#e26f46\" fill-rule=\"evenodd\" fill-opacity=\"0.5\"/>\n",
       "<polyline clip-path=\"url(#clip952)\" style=\"stroke:#000000; stroke-width:4; stroke-opacity:0.5; fill:none\" points=\"\n",
       "  2290.2,87.9763 648.03,87.9763 648.03,839.409 2290.2,839.409 2290.2,87.9763 \n",
       "  \"/>\n",
       "<path clip-path=\"url(#clip952)\" d=\"\n",
       "M299.135 1174.97 L648.03 1174.97 L1067.67 1109.96 L2290.2 423.533 L2290.2 87.9763 L1941.3 87.9763 L1521.67 152.985 L299.135 839.409 L299.135 1174.97 L299.135 1174.97 \n",
       "   Z\n",
       "  \" fill=\"#3da44d\" fill-rule=\"evenodd\" fill-opacity=\"0.5\"/>\n",
       "<polyline clip-path=\"url(#clip952)\" style=\"stroke:#000000; stroke-width:4; stroke-opacity:0.5; fill:none\" points=\"\n",
       "  299.135,1174.97 648.03,1174.97 1067.67,1109.96 2290.2,423.533 2290.2,87.9763 1941.3,87.9763 1521.67,152.985 299.135,839.409 299.135,1174.97 \n",
       "  \n",
       "  \"/>\n",
       "<path clip-path=\"url(#clip950)\" d=\"\n",
       "M216.131 337.138 L593.363 337.138 L593.363 95.2176 L216.131 95.2176  Z\n",
       "  \" fill=\"#ffffff\" fill-rule=\"evenodd\" fill-opacity=\"1\"/>\n",
       "<polyline clip-path=\"url(#clip950)\" style=\"stroke:#000000; stroke-width:4; stroke-opacity:1; fill:none\" points=\"\n",
       "  216.131,337.138 593.363,337.138 593.363,95.2176 216.131,95.2176 216.131,337.138 \n",
       "  \"/>\n",
       "<path clip-path=\"url(#clip950)\" d=\"\n",
       "M240.69 179.89 L388.044 179.89 L388.044 131.506 L240.69 131.506 L240.69 179.89  Z\n",
       "  \" fill=\"#009af9\" fill-rule=\"evenodd\" fill-opacity=\"0.5\"/>\n",
       "<polyline clip-path=\"url(#clip950)\" style=\"stroke:#000000; stroke-width:4; stroke-opacity:1; fill:none\" points=\"\n",
       "  240.69,179.89 388.044,179.89 388.044,131.506 240.69,131.506 240.69,179.89 \n",
       "  \"/>\n",
       "<path clip-path=\"url(#clip950)\" d=\"M 0 0 M412.603 138.418 L441.839 138.418 L441.839 142.353 L429.57 142.353 L429.57 172.978 L424.871 172.978 L424.871 142.353 L412.603 142.353 L412.603 138.418 Z\" fill=\"#000000\" fill-rule=\"evenodd\" fill-opacity=\"1\" /><path clip-path=\"url(#clip950)\" d=\"M 0 0 M444.501 138.418 L471.653 138.418 L471.653 141.982 L449.802 169.042 L472.186 169.042 L472.186 172.978 L443.968 172.978 L443.968 169.413 L465.82 142.353 L444.501 142.353 L444.501 138.418 Z\" fill=\"#000000\" fill-rule=\"evenodd\" fill-opacity=\"1\" /><path clip-path=\"url(#clip950)\" d=\"\n",
       "M240.69 240.37 L388.044 240.37 L388.044 191.986 L240.69 191.986 L240.69 240.37  Z\n",
       "  \" fill=\"#e26f46\" fill-rule=\"evenodd\" fill-opacity=\"0.5\"/>\n",
       "<polyline clip-path=\"url(#clip950)\" style=\"stroke:#000000; stroke-width:4; stroke-opacity:1; fill:none\" points=\"\n",
       "  240.69,240.37 388.044,240.37 388.044,191.986 240.69,191.986 240.69,240.37 \n",
       "  \"/>\n",
       "<path clip-path=\"url(#clip950)\" d=\"M 0 0 M412.603 198.898 L441.839 198.898 L441.839 202.833 L429.57 202.833 L429.57 233.458 L424.871 233.458 L424.871 202.833 L412.603 202.833 L412.603 198.898 Z\" fill=\"#000000\" fill-rule=\"evenodd\" fill-opacity=\"1\" /><path clip-path=\"url(#clip950)\" d=\"M 0 0 M454.362 211.513 Q453.644 211.097 452.788 210.911 Q451.954 210.703 450.936 210.703 Q447.325 210.703 445.38 213.064 Q443.459 215.402 443.459 219.8 L443.459 233.458 L439.177 233.458 L439.177 207.532 L443.459 207.532 L443.459 211.56 Q444.802 209.198 446.954 208.064 Q449.107 206.907 452.186 206.907 Q452.626 206.907 453.158 206.976 Q453.69 207.023 454.339 207.138 L454.362 211.513 Z\" fill=\"#000000\" fill-rule=\"evenodd\" fill-opacity=\"1\" /><path clip-path=\"url(#clip950)\" d=\"M 0 0 M479.963 219.43 L479.963 221.513 L460.38 221.513 Q460.658 225.911 463.019 228.226 Q465.403 230.518 469.639 230.518 Q472.093 230.518 474.385 229.916 Q476.7 229.314 478.968 228.11 L478.968 232.138 Q476.676 233.11 474.269 233.62 Q471.862 234.129 469.385 234.129 Q463.181 234.129 459.547 230.518 Q455.936 226.907 455.936 220.749 Q455.936 214.384 459.362 210.657 Q462.811 206.907 468.644 206.907 Q473.876 206.907 476.908 210.286 Q479.963 213.643 479.963 219.43 M475.704 218.18 Q475.658 214.685 473.737 212.601 Q471.838 210.518 468.69 210.518 Q465.126 210.518 462.973 212.532 Q460.843 214.546 460.519 218.203 L475.704 218.18 Z\" fill=\"#000000\" fill-rule=\"evenodd\" fill-opacity=\"1\" /><path clip-path=\"url(#clip950)\" d=\"M 0 0 M484.431 197.439 L488.69 197.439 L488.69 233.458 L484.431 233.458 L484.431 197.439 Z\" fill=\"#000000\" fill-rule=\"evenodd\" fill-opacity=\"1\" /><path clip-path=\"url(#clip950)\" d=\"M 0 0 M492.718 223.226 L492.718 207.532 L496.977 207.532 L496.977 223.064 Q496.977 226.745 498.412 228.596 Q499.848 230.425 502.718 230.425 Q506.167 230.425 508.158 228.226 Q510.172 226.027 510.172 222.231 L510.172 207.532 L514.431 207.532 L514.431 233.458 L510.172 233.458 L510.172 229.476 Q508.621 231.837 506.561 232.995 Q504.524 234.129 501.815 234.129 Q497.348 234.129 495.033 231.351 Q492.718 228.573 492.718 223.226 M503.436 206.907 L503.436 206.907 Z\" fill=\"#000000\" fill-rule=\"evenodd\" fill-opacity=\"1\" /><path clip-path=\"url(#clip950)\" d=\"\n",
       "M240.69 300.85 L388.044 300.85 L388.044 252.466 L240.69 252.466 L240.69 300.85  Z\n",
       "  \" fill=\"#3da44d\" fill-rule=\"evenodd\" fill-opacity=\"0.5\"/>\n",
       "<polyline clip-path=\"url(#clip950)\" style=\"stroke:#000000; stroke-width:4; stroke-opacity:1; fill:none\" points=\"\n",
       "  240.69,300.85 388.044,300.85 388.044,252.466 240.69,252.466 240.69,300.85 \n",
       "  \"/>\n",
       "<path clip-path=\"url(#clip950)\" d=\"M 0 0 M412.603 259.378 L441.839 259.378 L441.839 263.313 L429.57 263.313 L429.57 293.938 L424.871 293.938 L424.871 263.313 L412.603 263.313 L412.603 259.378 Z\" fill=\"#000000\" fill-rule=\"evenodd\" fill-opacity=\"1\" /><path clip-path=\"url(#clip950)\" d=\"M 0 0 M444.454 268.012 L464.686 268.012 L464.686 271.901 L448.667 290.535 L464.686 290.535 L464.686 293.938 L443.876 293.938 L443.876 290.049 L459.894 271.415 L444.454 271.415 L444.454 268.012 Z\" fill=\"#000000\" fill-rule=\"evenodd\" fill-opacity=\"1\" /><path clip-path=\"url(#clip950)\" d=\"M 0 0 M484.176 271.993 Q483.459 271.577 482.602 271.391 Q481.769 271.183 480.75 271.183 Q477.139 271.183 475.195 273.544 Q473.274 275.882 473.274 280.28 L473.274 293.938 L468.991 293.938 L468.991 268.012 L473.274 268.012 L473.274 272.04 Q474.616 269.678 476.769 268.544 Q478.922 267.387 482 267.387 Q482.44 267.387 482.973 267.456 Q483.505 267.503 484.153 267.618 L484.176 271.993 Z\" fill=\"#000000\" fill-rule=\"evenodd\" fill-opacity=\"1\" /><path clip-path=\"url(#clip950)\" d=\"M 0 0 M509.778 279.91 L509.778 281.993 L490.195 281.993 Q490.473 286.391 492.834 288.706 Q495.218 290.998 499.454 290.998 Q501.908 290.998 504.199 290.396 Q506.514 289.794 508.783 288.59 L508.783 292.618 Q506.491 293.59 504.084 294.1 Q501.676 294.609 499.199 294.609 Q492.996 294.609 489.362 290.998 Q485.75 287.387 485.75 281.229 Q485.75 274.864 489.176 271.137 Q492.625 267.387 498.459 267.387 Q503.69 267.387 506.723 270.766 Q509.778 274.123 509.778 279.91 M505.519 278.66 Q505.473 275.165 503.551 273.081 Q501.653 270.998 498.505 270.998 Q494.94 270.998 492.787 273.012 Q490.658 275.026 490.334 278.683 L505.519 278.66 Z\" fill=\"#000000\" fill-rule=\"evenodd\" fill-opacity=\"1\" /><path clip-path=\"url(#clip950)\" d=\"M 0 0 M514.246 257.919 L518.505 257.919 L518.505 293.938 L514.246 293.938 L514.246 257.919 Z\" fill=\"#000000\" fill-rule=\"evenodd\" fill-opacity=\"1\" /><path clip-path=\"url(#clip950)\" d=\"M 0 0 M522.533 283.706 L522.533 268.012 L526.792 268.012 L526.792 283.544 Q526.792 287.225 528.227 289.076 Q529.662 290.905 532.533 290.905 Q535.982 290.905 537.972 288.706 Q539.986 286.507 539.986 282.711 L539.986 268.012 L544.246 268.012 L544.246 293.938 L539.986 293.938 L539.986 289.956 Q538.435 292.317 536.375 293.475 Q534.338 294.609 531.63 294.609 Q527.162 294.609 524.847 291.831 Q522.533 289.053 522.533 283.706 M533.25 267.387 L533.25 267.387 Z\" fill=\"#000000\" fill-rule=\"evenodd\" fill-opacity=\"1\" /></svg>\n"
      ]
     },
     "execution_count": 56,
     "metadata": {},
     "output_type": "execute_result"
    }
   ],
   "source": [
    "Z = rand(Zonotope, num_generators=2)\n",
    "\n",
    "T = overapproximate(Z, TaylorModelReachSet)\n",
    "\n",
    "TZ = set(overapproximate(T, Zonotope));\n",
    "\n",
    "plot(TZ, lab=\"TZ\")\n",
    "\n",
    "@show Trelu = convert(Hyperrectangle, IntervalBox(relu.(set(T))))\n",
    "\n",
    "TZrelu = overapproximate(Rectification(TZ), Zonotope) # uses AI2\n",
    "\n",
    "plot!(Trelu, lab=\"Trelu\", legend=:topleft)\n",
    "\n",
    "plot!(TZrelu, lab=\"Tzrelu\")"
   ]
  },
  {
   "cell_type": "markdown",
   "metadata": {},
   "source": [
    "## Example with the TORA network"
   ]
  },
  {
   "cell_type": "markdown",
   "metadata": {},
   "source": [
    "<<<"
   ]
  }
 ],
 "metadata": {
  "@webio": {
   "lastCommId": null,
   "lastKernelId": null
  },
  "kernelspec": {
   "display_name": "Julia 1.5.2",
   "language": "julia",
   "name": "julia-1.5"
  },
  "language_info": {
   "file_extension": ".jl",
   "mimetype": "application/julia",
   "name": "julia",
   "version": "1.5.2"
  }
 },
 "nbformat": 4,
 "nbformat_minor": 4
}
