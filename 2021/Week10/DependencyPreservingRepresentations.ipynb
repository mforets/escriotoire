{
 "cells": [
  {
   "cell_type": "markdown",
   "metadata": {},
   "source": [
    "# Dependency Preserving Representations"
   ]
  },
  {
   "cell_type": "markdown",
   "metadata": {},
   "source": [
    "In this post we explore how to extract additional information from flowpipes that *preserve dependency relations* between the parameters used to represent the set. An important advantage of such property is that we can reason about *subsets of the flowpipe* without actually having to recompute anything!\n",
    "\n",
    "However, not all set representations have such distinctive feature and we will discuss at depth which sets have the property and which not. The notion of dependency preserving representations and its application to reachability analysis was presented by the HSCC'20 article by N. Kochdumper, B. Schürmann, and M. Althoff [1].\n",
    "\n",
    "[1] Kochdumper, Niklas, Bastian Schürmann, and Matthias Althoff. \"Utilizing dependencies to obtain subsets of reachable sets.\" Proceedings of the 23rd International Conference on Hybrid Systems: Computation and Control. 2020."
   ]
  },
  {
   "cell_type": "markdown",
   "metadata": {},
   "source": [
    "## On parametric representations"
   ]
  },
  {
   "cell_type": "markdown",
   "metadata": {},
   "source": [
    "Let $X \\subseteq \\mathbb{R}^n$ be a set. The set $X$ is said to be parameterized by the tuple $(f_X, D)$ where $f_X : D \\to \\mathbb{R}^m$ is the evaluation function and $D \\subseteq \\mathbb{R}^n$ is the parameter domain if it holds that for all $x \\in X$ there exists at least one $d \\in D$ such that $f_X(d) = x$."
   ]
  },
  {
   "cell_type": "code",
   "execution_count": null,
   "metadata": {},
   "outputs": [],
   "source": [
    "] add ReachabilityAnalysis"
   ]
  },
  {
   "cell_type": "markdown",
   "metadata": {},
   "source": [
    "As our running example, consider the set-based recurrence\n",
    "\n",
    "$$\n",
    "X_{k+1} = \\Phi X_k \\oplus V_k\n",
    "$$"
   ]
  },
  {
   "cell_type": "markdown",
   "metadata": {},
   "source": [
    "As our running example we consider the simple harmonic oscillator without forcing term."
   ]
  },
  {
   "cell_type": "markdown",
   "metadata": {},
   "source": [
    "## Convex representations"
   ]
  },
  {
   "cell_type": "markdown",
   "metadata": {},
   "source": [
    "**Proposition.** If $P \\subset \\mathbb{R}^n$ is a polytope in vertex representation and $M \\in \\mathbb{R}^{m \\times n}$, the linear map operation $MX$ is dependency preserving."
   ]
  },
  {
   "cell_type": "markdown",
   "metadata": {},
   "source": [
    "**Proposition.** If $P, Q \\subset \\mathbb{R}^n$ are polytopes in vertex representation the Minkowski sum $P \\oplus Q$ is not dependency preserving."
   ]
  },
  {
   "cell_type": "markdown",
   "metadata": {},
   "source": [
    "**Proposition.** Let $Z \\subset \\mathbb{R}^n$ be a zonotope. All the following operations are dependency preserving:\n",
    "\n",
    "- (i) Linear map.\n",
    "- (ii) Minkowski sum.\n",
    "- (iii) Quadratic map."
   ]
  },
  {
   "cell_type": "markdown",
   "metadata": {},
   "source": [
    "## Non-convex representations"
   ]
  },
  {
   "cell_type": "markdown",
   "metadata": {},
   "source": [
    "### Taylor models"
   ]
  },
  {
   "cell_type": "code",
   "execution_count": null,
   "metadata": {},
   "outputs": [],
   "source": []
  },
  {
   "cell_type": "code",
   "execution_count": null,
   "metadata": {},
   "outputs": [],
   "source": []
  },
  {
   "cell_type": "code",
   "execution_count": null,
   "metadata": {},
   "outputs": [],
   "source": []
  },
  {
   "cell_type": "markdown",
   "metadata": {},
   "source": [
    "### Polynomial zonotopes"
   ]
  },
  {
   "cell_type": "code",
   "execution_count": null,
   "metadata": {},
   "outputs": [],
   "source": []
  },
  {
   "cell_type": "code",
   "execution_count": null,
   "metadata": {},
   "outputs": [],
   "source": []
  }
 ],
 "metadata": {
  "kernelspec": {
   "display_name": "Julia 1.5.2",
   "language": "julia",
   "name": "julia-1.5"
  },
  "language_info": {
   "file_extension": ".jl",
   "mimetype": "application/julia",
   "name": "julia",
   "version": "1.5.2"
  }
 },
 "nbformat": 4,
 "nbformat_minor": 2
}
