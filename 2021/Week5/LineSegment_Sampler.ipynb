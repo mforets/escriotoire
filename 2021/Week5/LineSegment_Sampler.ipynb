{
 "cells": [
  {
   "cell_type": "code",
   "execution_count": 16,
   "metadata": {},
   "outputs": [],
   "source": [
    "using Revise, LazySets, Plots"
   ]
  },
  {
   "cell_type": "code",
   "execution_count": 33,
   "metadata": {},
   "outputs": [
    {
     "data": {
      "text/plain": [
       "LineSegment{Float64,Array{Float64,1}}([0.3240393041924337, -0.5877704497849471], [0.7439416177574582, -0.6383690721653849])"
      ]
     },
     "execution_count": 33,
     "metadata": {},
     "output_type": "execute_result"
    }
   ],
   "source": [
    "x = rand(LineSegment)"
   ]
  },
  {
   "cell_type": "code",
   "execution_count": 34,
   "metadata": {},
   "outputs": [
    {
     "data": {
      "text/plain": [
       "10-element Array{Singleton{Float64,Array{Float64,1}},1}:\n",
       " Singleton{Float64,Array{Float64,1}}([0.7124307446291445, -0.6345719824166747])\n",
       " Singleton{Float64,Array{Float64,1}}([0.6334080759513717, -0.6250496767690258])\n",
       " Singleton{Float64,Array{Float64,1}}([0.4251885389535905, -0.5999590273860025])\n",
       " Singleton{Float64,Array{Float64,1}}([0.3397870077099944, -0.5896680628199388])\n",
       " Singleton{Float64,Array{Float64,1}}([0.6244925167017576, -0.623975343522439])\n",
       " Singleton{Float64,Array{Float64,1}}([0.3965027983067009, -0.5965023687494447])\n",
       " Singleton{Float64,Array{Float64,1}}([0.6442146340943427, -0.6263518771547919])\n",
       " Singleton{Float64,Array{Float64,1}}([0.6567266511663129, -0.6278595869401159])\n",
       " Singleton{Float64,Array{Float64,1}}([0.5624858537580792, -0.6165034825157184])\n",
       " Singleton{Float64,Array{Float64,1}}([0.36333983902536615, -0.592506201070711])"
      ]
     },
     "execution_count": 34,
     "metadata": {},
     "output_type": "execute_result"
    }
   ],
   "source": [
    "Singleton.(sample(x, 10))"
   ]
  },
  {
   "cell_type": "code",
   "execution_count": 37,
   "metadata": {},
   "outputs": [
    {
     "data": {
      "image/svg+xml": [
       "<?xml version=\"1.0\" encoding=\"utf-8\"?>\n",
       "<svg xmlns=\"http://www.w3.org/2000/svg\" xmlns:xlink=\"http://www.w3.org/1999/xlink\" width=\"600\" height=\"400\" viewBox=\"0 0 2400 1600\">\n",
       "<defs>\n",
       "  <clipPath id=\"clip860\">\n",
       "    <rect x=\"0\" y=\"0\" width=\"2400\" height=\"1600\"/>\n",
       "  </clipPath>\n",
       "</defs>\n",
       "<path clip-path=\"url(#clip860)\" d=\"\n",
       "M0 1600 L2400 1600 L2400 0 L0 0  Z\n",
       "  \" fill=\"#ffffff\" fill-rule=\"evenodd\" fill-opacity=\"1\"/>\n",
       "<defs>\n",
       "  <clipPath id=\"clip861\">\n",
       "    <rect x=\"480\" y=\"0\" width=\"1681\" height=\"1600\"/>\n",
       "  </clipPath>\n",
       "</defs>\n",
       "<path clip-path=\"url(#clip860)\" d=\"\n",
       "M207.825 1486.45 L2352.76 1486.45 L2352.76 47.2441 L207.825 47.2441  Z\n",
       "  \" fill=\"#ffffff\" fill-rule=\"evenodd\" fill-opacity=\"1\"/>\n",
       "<defs>\n",
       "  <clipPath id=\"clip862\">\n",
       "    <rect x=\"207\" y=\"47\" width=\"2146\" height=\"1440\"/>\n",
       "  </clipPath>\n",
       "</defs>\n",
       "<polyline clip-path=\"url(#clip862)\" style=\"stroke:#000000; stroke-width:2; stroke-opacity:0.1; fill:none\" points=\"\n",
       "  634.587,1486.45 634.587,47.2441 \n",
       "  \"/>\n",
       "<polyline clip-path=\"url(#clip862)\" style=\"stroke:#000000; stroke-width:2; stroke-opacity:0.1; fill:none\" points=\"\n",
       "  1116.49,1486.45 1116.49,47.2441 \n",
       "  \"/>\n",
       "<polyline clip-path=\"url(#clip862)\" style=\"stroke:#000000; stroke-width:2; stroke-opacity:0.1; fill:none\" points=\"\n",
       "  1598.39,1486.45 1598.39,47.2441 \n",
       "  \"/>\n",
       "<polyline clip-path=\"url(#clip862)\" style=\"stroke:#000000; stroke-width:2; stroke-opacity:0.1; fill:none\" points=\"\n",
       "  2080.29,1486.45 2080.29,47.2441 \n",
       "  \"/>\n",
       "<polyline clip-path=\"url(#clip860)\" style=\"stroke:#000000; stroke-width:4; stroke-opacity:1; fill:none\" points=\"\n",
       "  207.825,1486.45 2352.76,1486.45 \n",
       "  \"/>\n",
       "<polyline clip-path=\"url(#clip860)\" style=\"stroke:#000000; stroke-width:4; stroke-opacity:1; fill:none\" points=\"\n",
       "  634.587,1486.45 634.587,1469.18 \n",
       "  \"/>\n",
       "<polyline clip-path=\"url(#clip860)\" style=\"stroke:#000000; stroke-width:4; stroke-opacity:1; fill:none\" points=\"\n",
       "  1116.49,1486.45 1116.49,1469.18 \n",
       "  \"/>\n",
       "<polyline clip-path=\"url(#clip860)\" style=\"stroke:#000000; stroke-width:4; stroke-opacity:1; fill:none\" points=\"\n",
       "  1598.39,1486.45 1598.39,1469.18 \n",
       "  \"/>\n",
       "<polyline clip-path=\"url(#clip860)\" style=\"stroke:#000000; stroke-width:4; stroke-opacity:1; fill:none\" points=\"\n",
       "  2080.29,1486.45 2080.29,1469.18 \n",
       "  \"/>\n",
       "<path clip-path=\"url(#clip860)\" d=\"M 0 0 M615.86 1515.64 Q612.249 1515.64 610.42 1519.2 Q608.615 1522.75 608.615 1529.87 Q608.615 1536.98 610.42 1540.55 Q612.249 1544.09 615.86 1544.09 Q619.494 1544.09 621.3 1540.55 Q623.129 1536.98 623.129 1529.87 Q623.129 1522.75 621.3 1519.2 Q619.494 1515.64 615.86 1515.64 M615.86 1511.93 Q621.67 1511.93 624.726 1516.54 Q627.805 1521.12 627.805 1529.87 Q627.805 1538.6 624.726 1543.21 Q621.67 1547.79 615.86 1547.79 Q610.05 1547.79 606.971 1543.21 Q603.916 1538.6 603.916 1529.87 Q603.916 1521.12 606.971 1516.54 Q610.05 1511.93 615.86 1511.93 Z\" fill=\"#000000\" fill-rule=\"evenodd\" fill-opacity=\"1\" /><path clip-path=\"url(#clip860)\" d=\"M 0 0 M632.874 1541.24 L637.758 1541.24 L637.758 1547.12 L632.874 1547.12 L632.874 1541.24 Z\" fill=\"#000000\" fill-rule=\"evenodd\" fill-opacity=\"1\" /><path clip-path=\"url(#clip860)\" d=\"M 0 0 M655.675 1516.63 L643.869 1535.08 L655.675 1535.08 L655.675 1516.63 M654.448 1512.56 L660.328 1512.56 L660.328 1535.08 L665.258 1535.08 L665.258 1538.97 L660.328 1538.97 L660.328 1547.12 L655.675 1547.12 L655.675 1538.97 L640.073 1538.97 L640.073 1534.46 L654.448 1512.56 Z\" fill=\"#000000\" fill-rule=\"evenodd\" fill-opacity=\"1\" /><path clip-path=\"url(#clip860)\" d=\"M 0 0 M1098.5 1515.64 Q1094.89 1515.64 1093.06 1519.2 Q1091.26 1522.75 1091.26 1529.87 Q1091.26 1536.98 1093.06 1540.55 Q1094.89 1544.09 1098.5 1544.09 Q1102.14 1544.09 1103.94 1540.55 Q1105.77 1536.98 1105.77 1529.87 Q1105.77 1522.75 1103.94 1519.2 Q1102.14 1515.64 1098.5 1515.64 M1098.5 1511.93 Q1104.31 1511.93 1107.37 1516.54 Q1110.45 1521.12 1110.45 1529.87 Q1110.45 1538.6 1107.37 1543.21 Q1104.31 1547.79 1098.5 1547.79 Q1092.69 1547.79 1089.61 1543.21 Q1086.56 1538.6 1086.56 1529.87 Q1086.56 1521.12 1089.61 1516.54 Q1092.69 1511.93 1098.5 1511.93 Z\" fill=\"#000000\" fill-rule=\"evenodd\" fill-opacity=\"1\" /><path clip-path=\"url(#clip860)\" d=\"M 0 0 M1115.52 1541.24 L1120.4 1541.24 L1120.4 1547.12 L1115.52 1547.12 L1115.52 1541.24 Z\" fill=\"#000000\" fill-rule=\"evenodd\" fill-opacity=\"1\" /><path clip-path=\"url(#clip860)\" d=\"M 0 0 M1125.52 1512.56 L1143.87 1512.56 L1143.87 1516.5 L1129.8 1516.5 L1129.8 1524.97 Q1130.82 1524.62 1131.84 1524.46 Q1132.86 1524.27 1133.87 1524.27 Q1139.66 1524.27 1143.04 1527.44 Q1146.42 1530.62 1146.42 1536.03 Q1146.42 1541.61 1142.95 1544.71 Q1139.48 1547.79 1133.16 1547.79 Q1130.98 1547.79 1128.71 1547.42 Q1126.47 1547.05 1124.06 1546.31 L1124.06 1541.61 Q1126.14 1542.74 1128.36 1543.3 Q1130.59 1543.86 1133.06 1543.86 Q1137.07 1543.86 1139.41 1541.75 Q1141.74 1539.64 1141.74 1536.03 Q1141.74 1532.42 1139.41 1530.31 Q1137.07 1528.21 1133.06 1528.21 Q1131.19 1528.21 1129.31 1528.62 Q1127.46 1529.04 1125.52 1529.92 L1125.52 1512.56 Z\" fill=\"#000000\" fill-rule=\"evenodd\" fill-opacity=\"1\" /><path clip-path=\"url(#clip860)\" d=\"M 0 0 M1579.83 1515.64 Q1576.22 1515.64 1574.39 1519.2 Q1572.58 1522.75 1572.58 1529.87 Q1572.58 1536.98 1574.39 1540.55 Q1576.22 1544.09 1579.83 1544.09 Q1583.46 1544.09 1585.27 1540.55 Q1587.1 1536.98 1587.1 1529.87 Q1587.1 1522.75 1585.27 1519.2 Q1583.46 1515.64 1579.83 1515.64 M1579.83 1511.93 Q1585.64 1511.93 1588.69 1516.54 Q1591.77 1521.12 1591.77 1529.87 Q1591.77 1538.6 1588.69 1543.21 Q1585.64 1547.79 1579.83 1547.79 Q1574.02 1547.79 1570.94 1543.21 Q1567.88 1538.6 1567.88 1529.87 Q1567.88 1521.12 1570.94 1516.54 Q1574.02 1511.93 1579.83 1511.93 Z\" fill=\"#000000\" fill-rule=\"evenodd\" fill-opacity=\"1\" /><path clip-path=\"url(#clip860)\" d=\"M 0 0 M1596.84 1541.24 L1601.73 1541.24 L1601.73 1547.12 L1596.84 1547.12 L1596.84 1541.24 Z\" fill=\"#000000\" fill-rule=\"evenodd\" fill-opacity=\"1\" /><path clip-path=\"url(#clip860)\" d=\"M 0 0 M1617.37 1527.98 Q1614.23 1527.98 1612.37 1530.13 Q1610.54 1532.28 1610.54 1536.03 Q1610.54 1539.76 1612.37 1541.93 Q1614.23 1544.09 1617.37 1544.09 Q1620.52 1544.09 1622.35 1541.93 Q1624.2 1539.76 1624.2 1536.03 Q1624.2 1532.28 1622.35 1530.13 Q1620.52 1527.98 1617.37 1527.98 M1626.66 1513.32 L1626.66 1517.58 Q1624.9 1516.75 1623.09 1516.31 Q1621.31 1515.87 1619.55 1515.87 Q1614.92 1515.87 1612.47 1519 Q1610.04 1522.12 1609.69 1528.44 Q1611.05 1526.43 1613.11 1525.36 Q1615.17 1524.27 1617.65 1524.27 Q1622.86 1524.27 1625.87 1527.44 Q1628.9 1530.59 1628.9 1536.03 Q1628.9 1541.36 1625.75 1544.57 Q1622.6 1547.79 1617.37 1547.79 Q1611.38 1547.79 1608.21 1543.21 Q1605.04 1538.6 1605.04 1529.87 Q1605.04 1521.68 1608.92 1516.82 Q1612.81 1511.93 1619.36 1511.93 Q1621.12 1511.93 1622.91 1512.28 Q1624.71 1512.63 1626.66 1513.32 Z\" fill=\"#000000\" fill-rule=\"evenodd\" fill-opacity=\"1\" /><path clip-path=\"url(#clip860)\" d=\"M 0 0 M2062.26 1515.64 Q2058.65 1515.64 2056.82 1519.2 Q2055.02 1522.75 2055.02 1529.87 Q2055.02 1536.98 2056.82 1540.55 Q2058.65 1544.09 2062.26 1544.09 Q2065.9 1544.09 2067.7 1540.55 Q2069.53 1536.98 2069.53 1529.87 Q2069.53 1522.75 2067.7 1519.2 Q2065.9 1515.64 2062.26 1515.64 M2062.26 1511.93 Q2068.07 1511.93 2071.13 1516.54 Q2074.21 1521.12 2074.21 1529.87 Q2074.21 1538.6 2071.13 1543.21 Q2068.07 1547.79 2062.26 1547.79 Q2056.45 1547.79 2053.37 1543.21 Q2050.32 1538.6 2050.32 1529.87 Q2050.32 1521.12 2053.37 1516.54 Q2056.45 1511.93 2062.26 1511.93 Z\" fill=\"#000000\" fill-rule=\"evenodd\" fill-opacity=\"1\" /><path clip-path=\"url(#clip860)\" d=\"M 0 0 M2079.28 1541.24 L2084.16 1541.24 L2084.16 1547.12 L2079.28 1547.12 L2079.28 1541.24 Z\" fill=\"#000000\" fill-rule=\"evenodd\" fill-opacity=\"1\" /><path clip-path=\"url(#clip860)\" d=\"M 0 0 M2088.05 1512.56 L2110.27 1512.56 L2110.27 1514.55 L2097.73 1547.12 L2092.84 1547.12 L2104.65 1516.5 L2088.05 1516.5 L2088.05 1512.56 Z\" fill=\"#000000\" fill-rule=\"evenodd\" fill-opacity=\"1\" /><polyline clip-path=\"url(#clip862)\" style=\"stroke:#000000; stroke-width:2; stroke-opacity:0.1; fill:none\" points=\"\n",
       "  207.825,1221.14 2352.76,1221.14 \n",
       "  \"/>\n",
       "<polyline clip-path=\"url(#clip862)\" style=\"stroke:#000000; stroke-width:2; stroke-opacity:0.1; fill:none\" points=\"\n",
       "  207.825,952.809 2352.76,952.809 \n",
       "  \"/>\n",
       "<polyline clip-path=\"url(#clip862)\" style=\"stroke:#000000; stroke-width:2; stroke-opacity:0.1; fill:none\" points=\"\n",
       "  207.825,684.473 2352.76,684.473 \n",
       "  \"/>\n",
       "<polyline clip-path=\"url(#clip862)\" style=\"stroke:#000000; stroke-width:2; stroke-opacity:0.1; fill:none\" points=\"\n",
       "  207.825,416.138 2352.76,416.138 \n",
       "  \"/>\n",
       "<polyline clip-path=\"url(#clip862)\" style=\"stroke:#000000; stroke-width:2; stroke-opacity:0.1; fill:none\" points=\"\n",
       "  207.825,147.803 2352.76,147.803 \n",
       "  \"/>\n",
       "<polyline clip-path=\"url(#clip860)\" style=\"stroke:#000000; stroke-width:4; stroke-opacity:1; fill:none\" points=\"\n",
       "  207.825,1486.45 207.825,47.2441 \n",
       "  \"/>\n",
       "<polyline clip-path=\"url(#clip860)\" style=\"stroke:#000000; stroke-width:4; stroke-opacity:1; fill:none\" points=\"\n",
       "  207.825,1221.14 233.564,1221.14 \n",
       "  \"/>\n",
       "<polyline clip-path=\"url(#clip860)\" style=\"stroke:#000000; stroke-width:4; stroke-opacity:1; fill:none\" points=\"\n",
       "  207.825,952.809 233.564,952.809 \n",
       "  \"/>\n",
       "<polyline clip-path=\"url(#clip860)\" style=\"stroke:#000000; stroke-width:4; stroke-opacity:1; fill:none\" points=\"\n",
       "  207.825,684.473 233.564,684.473 \n",
       "  \"/>\n",
       "<polyline clip-path=\"url(#clip860)\" style=\"stroke:#000000; stroke-width:4; stroke-opacity:1; fill:none\" points=\"\n",
       "  207.825,416.138 233.564,416.138 \n",
       "  \"/>\n",
       "<polyline clip-path=\"url(#clip860)\" style=\"stroke:#000000; stroke-width:4; stroke-opacity:1; fill:none\" points=\"\n",
       "  207.825,147.803 233.564,147.803 \n",
       "  \"/>\n",
       "<path clip-path=\"url(#clip860)\" d=\"M 0 0 M51.6403 1221.6 L81.316 1221.6 L81.316 1225.53 L51.6403 1225.53 L51.6403 1221.6 Z\" fill=\"#000000\" fill-rule=\"evenodd\" fill-opacity=\"1\" /><path clip-path=\"url(#clip860)\" d=\"M 0 0 M96.3854 1206.94 Q92.7743 1206.94 90.9456 1210.51 Q89.1401 1214.05 89.1401 1221.18 Q89.1401 1228.29 90.9456 1231.85 Q92.7743 1235.39 96.3854 1235.39 Q100.02 1235.39 101.825 1231.85 Q103.654 1228.29 103.654 1221.18 Q103.654 1214.05 101.825 1210.51 Q100.02 1206.94 96.3854 1206.94 M96.3854 1203.24 Q102.196 1203.24 105.251 1207.85 Q108.33 1212.43 108.33 1221.18 Q108.33 1229.91 105.251 1234.51 Q102.196 1239.1 96.3854 1239.1 Q90.5752 1239.1 87.4966 1234.51 Q84.441 1229.91 84.441 1221.18 Q84.441 1212.43 87.4966 1207.85 Q90.5752 1203.24 96.3854 1203.24 Z\" fill=\"#000000\" fill-rule=\"evenodd\" fill-opacity=\"1\" /><path clip-path=\"url(#clip860)\" d=\"M 0 0 M113.399 1232.54 L118.283 1232.54 L118.283 1238.42 L113.399 1238.42 L113.399 1232.54 Z\" fill=\"#000000\" fill-rule=\"evenodd\" fill-opacity=\"1\" /><path clip-path=\"url(#clip860)\" d=\"M 0 0 M133.931 1219.28 Q130.783 1219.28 128.932 1221.43 Q127.103 1223.59 127.103 1227.34 Q127.103 1231.06 128.932 1233.24 Q130.783 1235.39 133.931 1235.39 Q137.08 1235.39 138.908 1233.24 Q140.76 1231.06 140.76 1227.34 Q140.76 1223.59 138.908 1221.43 Q137.08 1219.28 133.931 1219.28 M143.214 1204.63 L143.214 1208.89 Q141.455 1208.05 139.649 1207.61 Q137.867 1207.17 136.107 1207.17 Q131.478 1207.17 129.024 1210.3 Q126.594 1213.42 126.246 1219.74 Q127.612 1217.73 129.672 1216.66 Q131.732 1215.58 134.209 1215.58 Q139.418 1215.58 142.427 1218.75 Q145.459 1221.9 145.459 1227.34 Q145.459 1232.66 142.311 1235.88 Q139.163 1239.1 133.931 1239.1 Q127.936 1239.1 124.765 1234.51 Q121.594 1229.91 121.594 1221.18 Q121.594 1212.98 125.482 1208.12 Q129.371 1203.24 135.922 1203.24 Q137.681 1203.24 139.464 1203.59 Q141.269 1203.93 143.214 1204.63 Z\" fill=\"#000000\" fill-rule=\"evenodd\" fill-opacity=\"1\" /><path clip-path=\"url(#clip860)\" d=\"M 0 0 M164.695 1219.79 Q168.052 1220.51 169.927 1222.78 Q171.825 1225.04 171.825 1228.38 Q171.825 1233.49 168.306 1236.29 Q164.788 1239.1 158.306 1239.1 Q156.13 1239.1 153.816 1238.66 Q151.524 1238.24 149.07 1237.38 L149.07 1232.87 Q151.015 1234 153.33 1234.58 Q155.644 1235.16 158.167 1235.16 Q162.566 1235.16 164.857 1233.42 Q167.172 1231.69 167.172 1228.38 Q167.172 1225.32 165.019 1223.61 Q162.89 1221.87 159.07 1221.87 L155.042 1221.87 L155.042 1218.03 L159.255 1218.03 Q162.704 1218.03 164.533 1216.66 Q166.362 1215.28 166.362 1212.68 Q166.362 1210.02 164.464 1208.61 Q162.589 1207.17 159.07 1207.17 Q157.149 1207.17 154.95 1207.59 Q152.751 1208.01 150.112 1208.89 L150.112 1204.72 Q152.774 1203.98 155.089 1203.61 Q157.427 1203.24 159.487 1203.24 Q164.811 1203.24 167.913 1205.67 Q171.015 1208.08 171.015 1212.2 Q171.015 1215.07 169.371 1217.06 Q167.728 1219.03 164.695 1219.79 Z\" fill=\"#000000\" fill-rule=\"evenodd\" fill-opacity=\"1\" /><path clip-path=\"url(#clip860)\" d=\"M 0 0 M52.5893 953.26 L82.2651 953.26 L82.2651 957.195 L52.5893 957.195 L52.5893 953.26 Z\" fill=\"#000000\" fill-rule=\"evenodd\" fill-opacity=\"1\" /><path clip-path=\"url(#clip860)\" d=\"M 0 0 M97.3345 938.607 Q93.7234 938.607 91.8947 942.172 Q90.0891 945.714 90.0891 952.843 Q90.0891 959.95 91.8947 963.515 Q93.7234 967.056 97.3345 967.056 Q100.969 967.056 102.774 963.515 Q104.603 959.95 104.603 952.843 Q104.603 945.714 102.774 942.172 Q100.969 938.607 97.3345 938.607 M97.3345 934.904 Q103.145 934.904 106.2 939.51 Q109.279 944.093 109.279 952.843 Q109.279 961.57 106.2 966.177 Q103.145 970.76 97.3345 970.76 Q91.5243 970.76 88.4456 966.177 Q85.3901 961.57 85.3901 952.843 Q85.3901 944.093 88.4456 939.51 Q91.5243 934.904 97.3345 934.904 Z\" fill=\"#000000\" fill-rule=\"evenodd\" fill-opacity=\"1\" /><path clip-path=\"url(#clip860)\" d=\"M 0 0 M114.348 964.209 L119.233 964.209 L119.233 970.089 L114.348 970.089 L114.348 964.209 Z\" fill=\"#000000\" fill-rule=\"evenodd\" fill-opacity=\"1\" /><path clip-path=\"url(#clip860)\" d=\"M 0 0 M134.881 950.945 Q131.732 950.945 129.881 953.098 Q128.052 955.251 128.052 959.001 Q128.052 962.728 129.881 964.904 Q131.732 967.056 134.881 967.056 Q138.029 967.056 139.857 964.904 Q141.709 962.728 141.709 959.001 Q141.709 955.251 139.857 953.098 Q138.029 950.945 134.881 950.945 M144.163 936.293 L144.163 940.552 Q142.404 939.719 140.598 939.279 Q138.816 938.839 137.056 938.839 Q132.427 938.839 129.973 941.964 Q127.543 945.089 127.195 951.408 Q128.561 949.394 130.621 948.33 Q132.682 947.242 135.158 947.242 Q140.367 947.242 143.376 950.413 Q146.408 953.561 146.408 959.001 Q146.408 964.325 143.26 967.542 Q140.112 970.76 134.881 970.76 Q128.885 970.76 125.714 966.177 Q122.543 961.57 122.543 952.843 Q122.543 944.649 126.432 939.788 Q130.32 934.904 136.871 934.904 Q138.631 934.904 140.413 935.251 Q142.218 935.598 144.163 936.293 Z\" fill=\"#000000\" fill-rule=\"evenodd\" fill-opacity=\"1\" /><path clip-path=\"url(#clip860)\" d=\"M 0 0 M155.505 966.154 L171.825 966.154 L171.825 970.089 L149.88 970.089 L149.88 966.154 Q152.543 963.399 157.126 958.769 Q161.732 954.117 162.913 952.774 Q165.158 950.251 166.038 948.515 Q166.941 946.756 166.941 945.066 Q166.941 942.311 164.996 940.575 Q163.075 938.839 159.973 938.839 Q157.774 938.839 155.32 939.603 Q152.89 940.367 150.112 941.918 L150.112 937.195 Q152.936 936.061 155.39 935.482 Q157.843 934.904 159.88 934.904 Q165.251 934.904 168.445 937.589 Q171.64 940.274 171.64 944.765 Q171.64 946.894 170.829 948.816 Q170.042 950.714 167.936 953.306 Q167.357 953.978 164.255 957.195 Q161.154 960.39 155.505 966.154 Z\" fill=\"#000000\" fill-rule=\"evenodd\" fill-opacity=\"1\" /><path clip-path=\"url(#clip860)\" d=\"M 0 0 M52.219 684.925 L81.8947 684.925 L81.8947 688.86 L52.219 688.86 L52.219 684.925 Z\" fill=\"#000000\" fill-rule=\"evenodd\" fill-opacity=\"1\" /><path clip-path=\"url(#clip860)\" d=\"M 0 0 M96.9641 670.272 Q93.353 670.272 91.5243 673.837 Q89.7188 677.379 89.7188 684.508 Q89.7188 691.615 91.5243 695.179 Q93.353 698.721 96.9641 698.721 Q100.598 698.721 102.404 695.179 Q104.233 691.615 104.233 684.508 Q104.233 677.379 102.404 673.837 Q100.598 670.272 96.9641 670.272 M96.9641 666.568 Q102.774 666.568 105.83 671.175 Q108.908 675.758 108.908 684.508 Q108.908 693.235 105.83 697.841 Q102.774 702.425 96.9641 702.425 Q91.1539 702.425 88.0753 697.841 Q85.0197 693.235 85.0197 684.508 Q85.0197 675.758 88.0753 671.175 Q91.1539 666.568 96.9641 666.568 Z\" fill=\"#000000\" fill-rule=\"evenodd\" fill-opacity=\"1\" /><path clip-path=\"url(#clip860)\" d=\"M 0 0 M113.978 695.874 L118.862 695.874 L118.862 701.753 L113.978 701.753 L113.978 695.874 Z\" fill=\"#000000\" fill-rule=\"evenodd\" fill-opacity=\"1\" /><path clip-path=\"url(#clip860)\" d=\"M 0 0 M134.51 682.61 Q131.362 682.61 129.51 684.763 Q127.682 686.916 127.682 690.666 Q127.682 694.392 129.51 696.568 Q131.362 698.721 134.51 698.721 Q137.658 698.721 139.487 696.568 Q141.339 694.392 141.339 690.666 Q141.339 686.916 139.487 684.763 Q137.658 682.61 134.51 682.61 M143.793 667.957 L143.793 672.217 Q142.033 671.383 140.228 670.943 Q138.445 670.504 136.686 670.504 Q132.057 670.504 129.603 673.629 Q127.172 676.754 126.825 683.073 Q128.191 681.059 130.251 679.994 Q132.311 678.906 134.788 678.906 Q139.996 678.906 143.006 682.078 Q146.038 685.226 146.038 690.666 Q146.038 695.99 142.89 699.207 Q139.742 702.425 134.51 702.425 Q128.515 702.425 125.344 697.841 Q122.172 693.235 122.172 684.508 Q122.172 676.314 126.061 671.453 Q129.95 666.568 136.501 666.568 Q138.26 666.568 140.043 666.916 Q141.848 667.263 143.793 667.957 Z\" fill=\"#000000\" fill-rule=\"evenodd\" fill-opacity=\"1\" /><path clip-path=\"url(#clip860)\" d=\"M 0 0 M151.918 697.818 L159.556 697.818 L159.556 671.453 L151.246 673.119 L151.246 668.86 L159.51 667.193 L164.186 667.193 L164.186 697.818 L171.825 697.818 L171.825 701.753 L151.918 701.753 L151.918 697.818 Z\" fill=\"#000000\" fill-rule=\"evenodd\" fill-opacity=\"1\" /><path clip-path=\"url(#clip860)\" d=\"M 0 0 M50.9921 416.59 L80.6679 416.59 L80.6679 420.525 L50.9921 420.525 L50.9921 416.59 Z\" fill=\"#000000\" fill-rule=\"evenodd\" fill-opacity=\"1\" /><path clip-path=\"url(#clip860)\" d=\"M 0 0 M95.7373 401.937 Q92.1262 401.937 90.2975 405.502 Q88.4919 409.043 88.4919 416.173 Q88.4919 423.279 90.2975 426.844 Q92.1262 430.386 95.7373 430.386 Q99.3715 430.386 101.177 426.844 Q103.006 423.279 103.006 416.173 Q103.006 409.043 101.177 405.502 Q99.3715 401.937 95.7373 401.937 M95.7373 398.233 Q101.547 398.233 104.603 402.84 Q107.682 407.423 107.682 416.173 Q107.682 424.9 104.603 429.506 Q101.547 434.09 95.7373 434.09 Q89.9271 434.09 86.8484 429.506 Q83.7929 424.9 83.7929 416.173 Q83.7929 407.423 86.8484 402.84 Q89.9271 398.233 95.7373 398.233 Z\" fill=\"#000000\" fill-rule=\"evenodd\" fill-opacity=\"1\" /><path clip-path=\"url(#clip860)\" d=\"M 0 0 M112.751 427.539 L117.635 427.539 L117.635 433.418 L112.751 433.418 L112.751 427.539 Z\" fill=\"#000000\" fill-rule=\"evenodd\" fill-opacity=\"1\" /><path clip-path=\"url(#clip860)\" d=\"M 0 0 M133.283 414.275 Q130.135 414.275 128.283 416.428 Q126.455 418.58 126.455 422.33 Q126.455 426.057 128.283 428.233 Q130.135 430.386 133.283 430.386 Q136.431 430.386 138.26 428.233 Q140.112 426.057 140.112 422.33 Q140.112 418.58 138.26 416.428 Q136.431 414.275 133.283 414.275 M142.566 399.622 L142.566 403.881 Q140.806 403.048 139.001 402.608 Q137.219 402.168 135.459 402.168 Q130.83 402.168 128.376 405.293 Q125.945 408.418 125.598 414.738 Q126.964 412.724 129.024 411.659 Q131.084 410.571 133.561 410.571 Q138.769 410.571 141.779 413.742 Q144.811 416.891 144.811 422.33 Q144.811 427.654 141.663 430.872 Q138.515 434.09 133.283 434.09 Q127.288 434.09 124.117 429.506 Q120.945 424.9 120.945 416.173 Q120.945 407.979 124.834 403.117 Q128.723 398.233 135.274 398.233 Q137.033 398.233 138.816 398.58 Q140.621 398.928 142.566 399.622 Z\" fill=\"#000000\" fill-rule=\"evenodd\" fill-opacity=\"1\" /><path clip-path=\"url(#clip860)\" d=\"M 0 0 M159.88 401.937 Q156.269 401.937 154.441 405.502 Q152.635 409.043 152.635 416.173 Q152.635 423.279 154.441 426.844 Q156.269 430.386 159.88 430.386 Q163.515 430.386 165.32 426.844 Q167.149 423.279 167.149 416.173 Q167.149 409.043 165.32 405.502 Q163.515 401.937 159.88 401.937 M159.88 398.233 Q165.691 398.233 168.746 402.84 Q171.825 407.423 171.825 416.173 Q171.825 424.9 168.746 429.506 Q165.691 434.09 159.88 434.09 Q154.07 434.09 150.992 429.506 Q147.936 424.9 147.936 416.173 Q147.936 407.423 150.992 402.84 Q154.07 398.233 159.88 398.233 Z\" fill=\"#000000\" fill-rule=\"evenodd\" fill-opacity=\"1\" /><path clip-path=\"url(#clip860)\" d=\"M 0 0 M52.3347 148.254 L82.0105 148.254 L82.0105 152.19 L52.3347 152.19 L52.3347 148.254 Z\" fill=\"#000000\" fill-rule=\"evenodd\" fill-opacity=\"1\" /><path clip-path=\"url(#clip860)\" d=\"M 0 0 M97.0798 133.602 Q93.4688 133.602 91.6401 137.166 Q89.8345 140.708 89.8345 147.838 Q89.8345 154.944 91.6401 158.509 Q93.4688 162.051 97.0798 162.051 Q100.714 162.051 102.52 158.509 Q104.348 154.944 104.348 147.838 Q104.348 140.708 102.52 137.166 Q100.714 133.602 97.0798 133.602 M97.0798 129.898 Q102.89 129.898 105.946 134.504 Q109.024 139.088 109.024 147.838 Q109.024 156.564 105.946 161.171 Q102.89 165.754 97.0798 165.754 Q91.2697 165.754 88.191 161.171 Q85.1355 156.564 85.1355 147.838 Q85.1355 139.088 88.191 134.504 Q91.2697 129.898 97.0798 129.898 Z\" fill=\"#000000\" fill-rule=\"evenodd\" fill-opacity=\"1\" /><path clip-path=\"url(#clip860)\" d=\"M 0 0 M114.094 159.203 L118.978 159.203 L118.978 165.083 L114.094 165.083 L114.094 159.203 Z\" fill=\"#000000\" fill-rule=\"evenodd\" fill-opacity=\"1\" /><path clip-path=\"url(#clip860)\" d=\"M 0 0 M124.094 130.523 L142.45 130.523 L142.45 134.458 L128.376 134.458 L128.376 142.93 Q129.394 142.583 130.413 142.421 Q131.432 142.236 132.45 142.236 Q138.237 142.236 141.617 145.407 Q144.996 148.578 144.996 153.995 Q144.996 159.574 141.524 162.676 Q138.052 165.754 131.732 165.754 Q129.557 165.754 127.288 165.384 Q125.043 165.014 122.635 164.273 L122.635 159.574 Q124.719 160.708 126.941 161.264 Q129.163 161.819 131.64 161.819 Q135.644 161.819 137.982 159.713 Q140.32 157.606 140.32 153.995 Q140.32 150.384 137.982 148.278 Q135.644 146.171 131.64 146.171 Q129.765 146.171 127.89 146.588 Q126.038 147.004 124.094 147.884 L124.094 130.523 Z\" fill=\"#000000\" fill-rule=\"evenodd\" fill-opacity=\"1\" /><path clip-path=\"url(#clip860)\" d=\"M 0 0 M150.205 164.365 L150.205 160.106 Q151.964 160.939 153.769 161.379 Q155.575 161.819 157.311 161.819 Q161.941 161.819 164.371 158.717 Q166.825 155.592 167.172 149.25 Q165.829 151.24 163.769 152.305 Q161.709 153.37 159.209 153.37 Q154.024 153.37 150.992 150.245 Q147.982 147.097 147.982 141.657 Q147.982 136.333 151.13 133.116 Q154.279 129.898 159.51 129.898 Q165.505 129.898 168.654 134.504 Q171.825 139.088 171.825 147.838 Q171.825 156.009 167.936 160.893 Q164.07 165.754 157.519 165.754 Q155.76 165.754 153.955 165.407 Q152.149 165.06 150.205 164.365 M159.51 149.713 Q162.658 149.713 164.487 147.56 Q166.339 145.407 166.339 141.657 Q166.339 137.93 164.487 135.778 Q162.658 133.602 159.51 133.602 Q156.362 133.602 154.51 135.778 Q152.681 137.93 152.681 141.657 Q152.681 145.407 154.51 147.56 Q156.362 149.713 159.51 149.713 Z\" fill=\"#000000\" fill-rule=\"evenodd\" fill-opacity=\"1\" /><polyline clip-path=\"url(#clip862)\" style=\"stroke:#009af9; stroke-width:4; stroke-opacity:0.5; fill:none\" points=\"\n",
       "  268.53,87.9763 2292.05,1445.72 \n",
       "  \"/>\n",
       "<circle clip-path=\"url(#clip862)\" cx=\"268.53\" cy=\"87.9763\" r=\"14\" fill=\"#009af9\" fill-rule=\"evenodd\" fill-opacity=\"0.5\" stroke=\"#000000\" stroke-opacity=\"0.5\" stroke-width=\"3.2\"/>\n",
       "<circle clip-path=\"url(#clip862)\" cx=\"2292.05\" cy=\"1445.72\" r=\"14\" fill=\"#009af9\" fill-rule=\"evenodd\" fill-opacity=\"0.5\" stroke=\"#000000\" stroke-opacity=\"0.5\" stroke-width=\"3.2\"/>\n",
       "<circle clip-path=\"url(#clip862)\" cx=\"578.478\" cy=\"295.945\" r=\"14\" fill=\"#e26f46\" fill-rule=\"evenodd\" fill-opacity=\"0.5\" stroke=\"#000000\" stroke-opacity=\"0.5\" stroke-width=\"3.2\"/>\n",
       "<circle clip-path=\"url(#clip862)\" cx=\"1904.48\" cy=\"1185.66\" r=\"14\" fill=\"#e26f46\" fill-rule=\"evenodd\" fill-opacity=\"0.5\" stroke=\"#000000\" stroke-opacity=\"0.5\" stroke-width=\"3.2\"/>\n",
       "<circle clip-path=\"url(#clip862)\" cx=\"2113.18\" cy=\"1325.7\" r=\"14\" fill=\"#e26f46\" fill-rule=\"evenodd\" fill-opacity=\"0.5\" stroke=\"#000000\" stroke-opacity=\"0.5\" stroke-width=\"3.2\"/>\n",
       "<circle clip-path=\"url(#clip862)\" cx=\"925.873\" cy=\"529.039\" r=\"14\" fill=\"#e26f46\" fill-rule=\"evenodd\" fill-opacity=\"0.5\" stroke=\"#000000\" stroke-opacity=\"0.5\" stroke-width=\"3.2\"/>\n",
       "<circle clip-path=\"url(#clip862)\" cx=\"854.868\" cy=\"481.396\" r=\"14\" fill=\"#e26f46\" fill-rule=\"evenodd\" fill-opacity=\"0.5\" stroke=\"#000000\" stroke-opacity=\"0.5\" stroke-width=\"3.2\"/>\n",
       "<circle clip-path=\"url(#clip862)\" cx=\"281.747\" cy=\"96.8446\" r=\"14\" fill=\"#e26f46\" fill-rule=\"evenodd\" fill-opacity=\"0.5\" stroke=\"#000000\" stroke-opacity=\"0.5\" stroke-width=\"3.2\"/>\n",
       "<circle clip-path=\"url(#clip862)\" cx=\"872.514\" cy=\"493.237\" r=\"14\" fill=\"#e26f46\" fill-rule=\"evenodd\" fill-opacity=\"0.5\" stroke=\"#000000\" stroke-opacity=\"0.5\" stroke-width=\"3.2\"/>\n",
       "<circle clip-path=\"url(#clip862)\" cx=\"1781.88\" cy=\"1103.4\" r=\"14\" fill=\"#e26f46\" fill-rule=\"evenodd\" fill-opacity=\"0.5\" stroke=\"#000000\" stroke-opacity=\"0.5\" stroke-width=\"3.2\"/>\n",
       "<circle clip-path=\"url(#clip862)\" cx=\"507.458\" cy=\"248.292\" r=\"14\" fill=\"#e26f46\" fill-rule=\"evenodd\" fill-opacity=\"0.5\" stroke=\"#000000\" stroke-opacity=\"0.5\" stroke-width=\"3.2\"/>\n",
       "<circle clip-path=\"url(#clip862)\" cx=\"2092.49\" cy=\"1311.81\" r=\"14\" fill=\"#e26f46\" fill-rule=\"evenodd\" fill-opacity=\"0.5\" stroke=\"#000000\" stroke-opacity=\"0.5\" stroke-width=\"3.2\"/>\n",
       "<circle clip-path=\"url(#clip862)\" cx=\"1621.16\" cy=\"995.565\" r=\"14\" fill=\"#e26f46\" fill-rule=\"evenodd\" fill-opacity=\"0.5\" stroke=\"#000000\" stroke-opacity=\"0.5\" stroke-width=\"3.2\"/>\n",
       "<circle clip-path=\"url(#clip862)\" cx=\"605.438\" cy=\"314.034\" r=\"14\" fill=\"#e26f46\" fill-rule=\"evenodd\" fill-opacity=\"0.5\" stroke=\"#000000\" stroke-opacity=\"0.5\" stroke-width=\"3.2\"/>\n",
       "<circle clip-path=\"url(#clip862)\" cx=\"1970.2\" cy=\"1229.76\" r=\"14\" fill=\"#e26f46\" fill-rule=\"evenodd\" fill-opacity=\"0.5\" stroke=\"#000000\" stroke-opacity=\"0.5\" stroke-width=\"3.2\"/>\n",
       "<circle clip-path=\"url(#clip862)\" cx=\"661.476\" cy=\"351.635\" r=\"14\" fill=\"#e26f46\" fill-rule=\"evenodd\" fill-opacity=\"0.5\" stroke=\"#000000\" stroke-opacity=\"0.5\" stroke-width=\"3.2\"/>\n",
       "<circle clip-path=\"url(#clip862)\" cx=\"1877.89\" cy=\"1167.82\" r=\"14\" fill=\"#e26f46\" fill-rule=\"evenodd\" fill-opacity=\"0.5\" stroke=\"#000000\" stroke-opacity=\"0.5\" stroke-width=\"3.2\"/>\n",
       "<circle clip-path=\"url(#clip862)\" cx=\"1454.58\" cy=\"883.793\" r=\"14\" fill=\"#e26f46\" fill-rule=\"evenodd\" fill-opacity=\"0.5\" stroke=\"#000000\" stroke-opacity=\"0.5\" stroke-width=\"3.2\"/>\n",
       "<circle clip-path=\"url(#clip862)\" cx=\"1382.09\" cy=\"835.152\" r=\"14\" fill=\"#e26f46\" fill-rule=\"evenodd\" fill-opacity=\"0.5\" stroke=\"#000000\" stroke-opacity=\"0.5\" stroke-width=\"3.2\"/>\n",
       "<circle clip-path=\"url(#clip862)\" cx=\"1707.12\" cy=\"1053.24\" r=\"14\" fill=\"#e26f46\" fill-rule=\"evenodd\" fill-opacity=\"0.5\" stroke=\"#000000\" stroke-opacity=\"0.5\" stroke-width=\"3.2\"/>\n",
       "<circle clip-path=\"url(#clip862)\" cx=\"1988.06\" cy=\"1241.75\" r=\"14\" fill=\"#e26f46\" fill-rule=\"evenodd\" fill-opacity=\"0.5\" stroke=\"#000000\" stroke-opacity=\"0.5\" stroke-width=\"3.2\"/>\n",
       "<circle clip-path=\"url(#clip862)\" cx=\"1716.09\" cy=\"1059.26\" r=\"14\" fill=\"#e26f46\" fill-rule=\"evenodd\" fill-opacity=\"0.5\" stroke=\"#000000\" stroke-opacity=\"0.5\" stroke-width=\"3.2\"/>\n",
       "<circle clip-path=\"url(#clip862)\" cx=\"1535.3\" cy=\"937.95\" r=\"14\" fill=\"#e26f46\" fill-rule=\"evenodd\" fill-opacity=\"0.5\" stroke=\"#000000\" stroke-opacity=\"0.5\" stroke-width=\"3.2\"/>\n",
       "<circle clip-path=\"url(#clip862)\" cx=\"1809.61\" cy=\"1122.01\" r=\"14\" fill=\"#e26f46\" fill-rule=\"evenodd\" fill-opacity=\"0.5\" stroke=\"#000000\" stroke-opacity=\"0.5\" stroke-width=\"3.2\"/>\n",
       "<circle clip-path=\"url(#clip862)\" cx=\"904.538\" cy=\"514.724\" r=\"14\" fill=\"#e26f46\" fill-rule=\"evenodd\" fill-opacity=\"0.5\" stroke=\"#000000\" stroke-opacity=\"0.5\" stroke-width=\"3.2\"/>\n",
       "<circle clip-path=\"url(#clip862)\" cx=\"2245.24\" cy=\"1414.31\" r=\"14\" fill=\"#e26f46\" fill-rule=\"evenodd\" fill-opacity=\"0.5\" stroke=\"#000000\" stroke-opacity=\"0.5\" stroke-width=\"3.2\"/>\n",
       "<circle clip-path=\"url(#clip862)\" cx=\"888.736\" cy=\"504.121\" r=\"14\" fill=\"#e26f46\" fill-rule=\"evenodd\" fill-opacity=\"0.5\" stroke=\"#000000\" stroke-opacity=\"0.5\" stroke-width=\"3.2\"/>\n",
       "<circle clip-path=\"url(#clip862)\" cx=\"1399.13\" cy=\"846.585\" r=\"14\" fill=\"#e26f46\" fill-rule=\"evenodd\" fill-opacity=\"0.5\" stroke=\"#000000\" stroke-opacity=\"0.5\" stroke-width=\"3.2\"/>\n",
       "<circle clip-path=\"url(#clip862)\" cx=\"1821.74\" cy=\"1130.15\" r=\"14\" fill=\"#e26f46\" fill-rule=\"evenodd\" fill-opacity=\"0.5\" stroke=\"#000000\" stroke-opacity=\"0.5\" stroke-width=\"3.2\"/>\n",
       "<circle clip-path=\"url(#clip862)\" cx=\"522.206\" cy=\"258.187\" r=\"14\" fill=\"#e26f46\" fill-rule=\"evenodd\" fill-opacity=\"0.5\" stroke=\"#000000\" stroke-opacity=\"0.5\" stroke-width=\"3.2\"/>\n",
       "<circle clip-path=\"url(#clip862)\" cx=\"407.548\" cy=\"181.254\" r=\"14\" fill=\"#e26f46\" fill-rule=\"evenodd\" fill-opacity=\"0.5\" stroke=\"#000000\" stroke-opacity=\"0.5\" stroke-width=\"3.2\"/>\n",
       "<circle clip-path=\"url(#clip862)\" cx=\"728.943\" cy=\"396.903\" r=\"14\" fill=\"#e26f46\" fill-rule=\"evenodd\" fill-opacity=\"0.5\" stroke=\"#000000\" stroke-opacity=\"0.5\" stroke-width=\"3.2\"/>\n",
       "<circle clip-path=\"url(#clip862)\" cx=\"1359.99\" cy=\"820.32\" r=\"14\" fill=\"#e26f46\" fill-rule=\"evenodd\" fill-opacity=\"0.5\" stroke=\"#000000\" stroke-opacity=\"0.5\" stroke-width=\"3.2\"/>\n",
       "<circle clip-path=\"url(#clip862)\" cx=\"887.575\" cy=\"503.342\" r=\"14\" fill=\"#e26f46\" fill-rule=\"evenodd\" fill-opacity=\"0.5\" stroke=\"#000000\" stroke-opacity=\"0.5\" stroke-width=\"3.2\"/>\n",
       "<circle clip-path=\"url(#clip862)\" cx=\"2117.3\" cy=\"1328.46\" r=\"14\" fill=\"#e26f46\" fill-rule=\"evenodd\" fill-opacity=\"0.5\" stroke=\"#000000\" stroke-opacity=\"0.5\" stroke-width=\"3.2\"/>\n",
       "<circle clip-path=\"url(#clip862)\" cx=\"1962.19\" cy=\"1224.39\" r=\"14\" fill=\"#e26f46\" fill-rule=\"evenodd\" fill-opacity=\"0.5\" stroke=\"#000000\" stroke-opacity=\"0.5\" stroke-width=\"3.2\"/>\n",
       "<circle clip-path=\"url(#clip862)\" cx=\"1272.32\" cy=\"761.497\" r=\"14\" fill=\"#e26f46\" fill-rule=\"evenodd\" fill-opacity=\"0.5\" stroke=\"#000000\" stroke-opacity=\"0.5\" stroke-width=\"3.2\"/>\n",
       "<circle clip-path=\"url(#clip862)\" cx=\"2090.64\" cy=\"1310.57\" r=\"14\" fill=\"#e26f46\" fill-rule=\"evenodd\" fill-opacity=\"0.5\" stroke=\"#000000\" stroke-opacity=\"0.5\" stroke-width=\"3.2\"/>\n",
       "<circle clip-path=\"url(#clip862)\" cx=\"331.691\" cy=\"130.356\" r=\"14\" fill=\"#e26f46\" fill-rule=\"evenodd\" fill-opacity=\"0.5\" stroke=\"#000000\" stroke-opacity=\"0.5\" stroke-width=\"3.2\"/>\n",
       "<circle clip-path=\"url(#clip862)\" cx=\"1899.87\" cy=\"1182.57\" r=\"14\" fill=\"#e26f46\" fill-rule=\"evenodd\" fill-opacity=\"0.5\" stroke=\"#000000\" stroke-opacity=\"0.5\" stroke-width=\"3.2\"/>\n",
       "<circle clip-path=\"url(#clip862)\" cx=\"500.858\" cy=\"243.863\" r=\"14\" fill=\"#e26f46\" fill-rule=\"evenodd\" fill-opacity=\"0.5\" stroke=\"#000000\" stroke-opacity=\"0.5\" stroke-width=\"3.2\"/>\n",
       "<circle clip-path=\"url(#clip862)\" cx=\"1823.32\" cy=\"1131.21\" r=\"14\" fill=\"#e26f46\" fill-rule=\"evenodd\" fill-opacity=\"0.5\" stroke=\"#000000\" stroke-opacity=\"0.5\" stroke-width=\"3.2\"/>\n",
       "<circle clip-path=\"url(#clip862)\" cx=\"1631.47\" cy=\"1002.48\" r=\"14\" fill=\"#e26f46\" fill-rule=\"evenodd\" fill-opacity=\"0.5\" stroke=\"#000000\" stroke-opacity=\"0.5\" stroke-width=\"3.2\"/>\n",
       "<circle clip-path=\"url(#clip862)\" cx=\"461.8\" cy=\"217.656\" r=\"14\" fill=\"#e26f46\" fill-rule=\"evenodd\" fill-opacity=\"0.5\" stroke=\"#000000\" stroke-opacity=\"0.5\" stroke-width=\"3.2\"/>\n",
       "<circle clip-path=\"url(#clip862)\" cx=\"319.472\" cy=\"122.157\" r=\"14\" fill=\"#e26f46\" fill-rule=\"evenodd\" fill-opacity=\"0.5\" stroke=\"#000000\" stroke-opacity=\"0.5\" stroke-width=\"3.2\"/>\n",
       "<circle clip-path=\"url(#clip862)\" cx=\"537.793\" cy=\"268.646\" r=\"14\" fill=\"#e26f46\" fill-rule=\"evenodd\" fill-opacity=\"0.5\" stroke=\"#000000\" stroke-opacity=\"0.5\" stroke-width=\"3.2\"/>\n",
       "<circle clip-path=\"url(#clip862)\" cx=\"491.477\" cy=\"237.569\" r=\"14\" fill=\"#e26f46\" fill-rule=\"evenodd\" fill-opacity=\"0.5\" stroke=\"#000000\" stroke-opacity=\"0.5\" stroke-width=\"3.2\"/>\n",
       "<circle clip-path=\"url(#clip862)\" cx=\"1310.86\" cy=\"787.36\" r=\"14\" fill=\"#e26f46\" fill-rule=\"evenodd\" fill-opacity=\"0.5\" stroke=\"#000000\" stroke-opacity=\"0.5\" stroke-width=\"3.2\"/>\n",
       "<circle clip-path=\"url(#clip862)\" cx=\"2075.33\" cy=\"1300.3\" r=\"14\" fill=\"#e26f46\" fill-rule=\"evenodd\" fill-opacity=\"0.5\" stroke=\"#000000\" stroke-opacity=\"0.5\" stroke-width=\"3.2\"/>\n",
       "<circle clip-path=\"url(#clip862)\" cx=\"1759.05\" cy=\"1088.08\" r=\"14\" fill=\"#e26f46\" fill-rule=\"evenodd\" fill-opacity=\"0.5\" stroke=\"#000000\" stroke-opacity=\"0.5\" stroke-width=\"3.2\"/>\n",
       "<circle clip-path=\"url(#clip862)\" cx=\"304.541\" cy=\"112.139\" r=\"14\" fill=\"#e26f46\" fill-rule=\"evenodd\" fill-opacity=\"0.5\" stroke=\"#000000\" stroke-opacity=\"0.5\" stroke-width=\"3.2\"/>\n",
       "<circle clip-path=\"url(#clip862)\" cx=\"833.375\" cy=\"466.975\" r=\"14\" fill=\"#e26f46\" fill-rule=\"evenodd\" fill-opacity=\"0.5\" stroke=\"#000000\" stroke-opacity=\"0.5\" stroke-width=\"3.2\"/>\n",
       "<circle clip-path=\"url(#clip862)\" cx=\"1538.11\" cy=\"939.835\" r=\"14\" fill=\"#e26f46\" fill-rule=\"evenodd\" fill-opacity=\"0.5\" stroke=\"#000000\" stroke-opacity=\"0.5\" stroke-width=\"3.2\"/>\n",
       "<circle clip-path=\"url(#clip862)\" cx=\"541.66\" cy=\"271.24\" r=\"14\" fill=\"#e26f46\" fill-rule=\"evenodd\" fill-opacity=\"0.5\" stroke=\"#000000\" stroke-opacity=\"0.5\" stroke-width=\"3.2\"/>\n",
       "<circle clip-path=\"url(#clip862)\" cx=\"435.707\" cy=\"200.148\" r=\"14\" fill=\"#e26f46\" fill-rule=\"evenodd\" fill-opacity=\"0.5\" stroke=\"#000000\" stroke-opacity=\"0.5\" stroke-width=\"3.2\"/>\n",
       "<circle clip-path=\"url(#clip862)\" cx=\"1179.71\" cy=\"699.36\" r=\"14\" fill=\"#e26f46\" fill-rule=\"evenodd\" fill-opacity=\"0.5\" stroke=\"#000000\" stroke-opacity=\"0.5\" stroke-width=\"3.2\"/>\n",
       "<circle clip-path=\"url(#clip862)\" cx=\"1317.08\" cy=\"791.534\" r=\"14\" fill=\"#e26f46\" fill-rule=\"evenodd\" fill-opacity=\"0.5\" stroke=\"#000000\" stroke-opacity=\"0.5\" stroke-width=\"3.2\"/>\n",
       "<circle clip-path=\"url(#clip862)\" cx=\"2097.61\" cy=\"1315.25\" r=\"14\" fill=\"#e26f46\" fill-rule=\"evenodd\" fill-opacity=\"0.5\" stroke=\"#000000\" stroke-opacity=\"0.5\" stroke-width=\"3.2\"/>\n",
       "<circle clip-path=\"url(#clip862)\" cx=\"656.929\" cy=\"348.584\" r=\"14\" fill=\"#e26f46\" fill-rule=\"evenodd\" fill-opacity=\"0.5\" stroke=\"#000000\" stroke-opacity=\"0.5\" stroke-width=\"3.2\"/>\n",
       "<circle clip-path=\"url(#clip862)\" cx=\"781.137\" cy=\"431.925\" r=\"14\" fill=\"#e26f46\" fill-rule=\"evenodd\" fill-opacity=\"0.5\" stroke=\"#000000\" stroke-opacity=\"0.5\" stroke-width=\"3.2\"/>\n",
       "<circle clip-path=\"url(#clip862)\" cx=\"1783.57\" cy=\"1104.54\" r=\"14\" fill=\"#e26f46\" fill-rule=\"evenodd\" fill-opacity=\"0.5\" stroke=\"#000000\" stroke-opacity=\"0.5\" stroke-width=\"3.2\"/>\n",
       "<circle clip-path=\"url(#clip862)\" cx=\"1003.45\" cy=\"581.094\" r=\"14\" fill=\"#e26f46\" fill-rule=\"evenodd\" fill-opacity=\"0.5\" stroke=\"#000000\" stroke-opacity=\"0.5\" stroke-width=\"3.2\"/>\n",
       "<circle clip-path=\"url(#clip862)\" cx=\"2069.18\" cy=\"1296.17\" r=\"14\" fill=\"#e26f46\" fill-rule=\"evenodd\" fill-opacity=\"0.5\" stroke=\"#000000\" stroke-opacity=\"0.5\" stroke-width=\"3.2\"/>\n",
       "<circle clip-path=\"url(#clip862)\" cx=\"884.361\" cy=\"501.186\" r=\"14\" fill=\"#e26f46\" fill-rule=\"evenodd\" fill-opacity=\"0.5\" stroke=\"#000000\" stroke-opacity=\"0.5\" stroke-width=\"3.2\"/>\n",
       "<circle clip-path=\"url(#clip862)\" cx=\"345.277\" cy=\"139.472\" r=\"14\" fill=\"#e26f46\" fill-rule=\"evenodd\" fill-opacity=\"0.5\" stroke=\"#000000\" stroke-opacity=\"0.5\" stroke-width=\"3.2\"/>\n",
       "<circle clip-path=\"url(#clip862)\" cx=\"296.156\" cy=\"106.512\" r=\"14\" fill=\"#e26f46\" fill-rule=\"evenodd\" fill-opacity=\"0.5\" stroke=\"#000000\" stroke-opacity=\"0.5\" stroke-width=\"3.2\"/>\n",
       "<circle clip-path=\"url(#clip862)\" cx=\"1218.03\" cy=\"725.067\" r=\"14\" fill=\"#e26f46\" fill-rule=\"evenodd\" fill-opacity=\"0.5\" stroke=\"#000000\" stroke-opacity=\"0.5\" stroke-width=\"3.2\"/>\n",
       "<circle clip-path=\"url(#clip862)\" cx=\"2173.96\" cy=\"1366.48\" r=\"14\" fill=\"#e26f46\" fill-rule=\"evenodd\" fill-opacity=\"0.5\" stroke=\"#000000\" stroke-opacity=\"0.5\" stroke-width=\"3.2\"/>\n",
       "<circle clip-path=\"url(#clip862)\" cx=\"1808.62\" cy=\"1121.35\" r=\"14\" fill=\"#e26f46\" fill-rule=\"evenodd\" fill-opacity=\"0.5\" stroke=\"#000000\" stroke-opacity=\"0.5\" stroke-width=\"3.2\"/>\n",
       "<circle clip-path=\"url(#clip862)\" cx=\"1411.85\" cy=\"855.119\" r=\"14\" fill=\"#e26f46\" fill-rule=\"evenodd\" fill-opacity=\"0.5\" stroke=\"#000000\" stroke-opacity=\"0.5\" stroke-width=\"3.2\"/>\n",
       "<circle clip-path=\"url(#clip862)\" cx=\"1137.49\" cy=\"671.029\" r=\"14\" fill=\"#e26f46\" fill-rule=\"evenodd\" fill-opacity=\"0.5\" stroke=\"#000000\" stroke-opacity=\"0.5\" stroke-width=\"3.2\"/>\n",
       "<circle clip-path=\"url(#clip862)\" cx=\"1458.19\" cy=\"886.214\" r=\"14\" fill=\"#e26f46\" fill-rule=\"evenodd\" fill-opacity=\"0.5\" stroke=\"#000000\" stroke-opacity=\"0.5\" stroke-width=\"3.2\"/>\n",
       "<circle clip-path=\"url(#clip862)\" cx=\"2019.11\" cy=\"1262.58\" r=\"14\" fill=\"#e26f46\" fill-rule=\"evenodd\" fill-opacity=\"0.5\" stroke=\"#000000\" stroke-opacity=\"0.5\" stroke-width=\"3.2\"/>\n",
       "<circle clip-path=\"url(#clip862)\" cx=\"1350.98\" cy=\"814.277\" r=\"14\" fill=\"#e26f46\" fill-rule=\"evenodd\" fill-opacity=\"0.5\" stroke=\"#000000\" stroke-opacity=\"0.5\" stroke-width=\"3.2\"/>\n",
       "<circle clip-path=\"url(#clip862)\" cx=\"1813.63\" cy=\"1124.71\" r=\"14\" fill=\"#e26f46\" fill-rule=\"evenodd\" fill-opacity=\"0.5\" stroke=\"#000000\" stroke-opacity=\"0.5\" stroke-width=\"3.2\"/>\n",
       "<circle clip-path=\"url(#clip862)\" cx=\"739.139\" cy=\"403.745\" r=\"14\" fill=\"#e26f46\" fill-rule=\"evenodd\" fill-opacity=\"0.5\" stroke=\"#000000\" stroke-opacity=\"0.5\" stroke-width=\"3.2\"/>\n",
       "<circle clip-path=\"url(#clip862)\" cx=\"497.857\" cy=\"241.849\" r=\"14\" fill=\"#e26f46\" fill-rule=\"evenodd\" fill-opacity=\"0.5\" stroke=\"#000000\" stroke-opacity=\"0.5\" stroke-width=\"3.2\"/>\n",
       "<circle clip-path=\"url(#clip862)\" cx=\"1730.11\" cy=\"1068.66\" r=\"14\" fill=\"#e26f46\" fill-rule=\"evenodd\" fill-opacity=\"0.5\" stroke=\"#000000\" stroke-opacity=\"0.5\" stroke-width=\"3.2\"/>\n",
       "<circle clip-path=\"url(#clip862)\" cx=\"1127.95\" cy=\"664.626\" r=\"14\" fill=\"#e26f46\" fill-rule=\"evenodd\" fill-opacity=\"0.5\" stroke=\"#000000\" stroke-opacity=\"0.5\" stroke-width=\"3.2\"/>\n",
       "<circle clip-path=\"url(#clip862)\" cx=\"2054.65\" cy=\"1286.42\" r=\"14\" fill=\"#e26f46\" fill-rule=\"evenodd\" fill-opacity=\"0.5\" stroke=\"#000000\" stroke-opacity=\"0.5\" stroke-width=\"3.2\"/>\n",
       "<circle clip-path=\"url(#clip862)\" cx=\"614.211\" cy=\"319.92\" r=\"14\" fill=\"#e26f46\" fill-rule=\"evenodd\" fill-opacity=\"0.5\" stroke=\"#000000\" stroke-opacity=\"0.5\" stroke-width=\"3.2\"/>\n",
       "<circle clip-path=\"url(#clip862)\" cx=\"344.742\" cy=\"139.113\" r=\"14\" fill=\"#e26f46\" fill-rule=\"evenodd\" fill-opacity=\"0.5\" stroke=\"#000000\" stroke-opacity=\"0.5\" stroke-width=\"3.2\"/>\n",
       "<circle clip-path=\"url(#clip862)\" cx=\"1055.62\" cy=\"616.094\" r=\"14\" fill=\"#e26f46\" fill-rule=\"evenodd\" fill-opacity=\"0.5\" stroke=\"#000000\" stroke-opacity=\"0.5\" stroke-width=\"3.2\"/>\n",
       "<circle clip-path=\"url(#clip862)\" cx=\"1419.8\" cy=\"860.451\" r=\"14\" fill=\"#e26f46\" fill-rule=\"evenodd\" fill-opacity=\"0.5\" stroke=\"#000000\" stroke-opacity=\"0.5\" stroke-width=\"3.2\"/>\n",
       "<circle clip-path=\"url(#clip862)\" cx=\"1995.54\" cy=\"1246.76\" r=\"14\" fill=\"#e26f46\" fill-rule=\"evenodd\" fill-opacity=\"0.5\" stroke=\"#000000\" stroke-opacity=\"0.5\" stroke-width=\"3.2\"/>\n",
       "<circle clip-path=\"url(#clip862)\" cx=\"2280.28\" cy=\"1437.82\" r=\"14\" fill=\"#e26f46\" fill-rule=\"evenodd\" fill-opacity=\"0.5\" stroke=\"#000000\" stroke-opacity=\"0.5\" stroke-width=\"3.2\"/>\n",
       "<circle clip-path=\"url(#clip862)\" cx=\"893.373\" cy=\"507.233\" r=\"14\" fill=\"#e26f46\" fill-rule=\"evenodd\" fill-opacity=\"0.5\" stroke=\"#000000\" stroke-opacity=\"0.5\" stroke-width=\"3.2\"/>\n",
       "<circle clip-path=\"url(#clip862)\" cx=\"950.758\" cy=\"545.737\" r=\"14\" fill=\"#e26f46\" fill-rule=\"evenodd\" fill-opacity=\"0.5\" stroke=\"#000000\" stroke-opacity=\"0.5\" stroke-width=\"3.2\"/>\n",
       "<circle clip-path=\"url(#clip862)\" cx=\"2102.54\" cy=\"1318.56\" r=\"14\" fill=\"#e26f46\" fill-rule=\"evenodd\" fill-opacity=\"0.5\" stroke=\"#000000\" stroke-opacity=\"0.5\" stroke-width=\"3.2\"/>\n",
       "<circle clip-path=\"url(#clip862)\" cx=\"695.469\" cy=\"374.443\" r=\"14\" fill=\"#e26f46\" fill-rule=\"evenodd\" fill-opacity=\"0.5\" stroke=\"#000000\" stroke-opacity=\"0.5\" stroke-width=\"3.2\"/>\n",
       "<circle clip-path=\"url(#clip862)\" cx=\"1130.04\" cy=\"666.028\" r=\"14\" fill=\"#e26f46\" fill-rule=\"evenodd\" fill-opacity=\"0.5\" stroke=\"#000000\" stroke-opacity=\"0.5\" stroke-width=\"3.2\"/>\n",
       "<circle clip-path=\"url(#clip862)\" cx=\"2270.1\" cy=\"1430.99\" r=\"14\" fill=\"#e26f46\" fill-rule=\"evenodd\" fill-opacity=\"0.5\" stroke=\"#000000\" stroke-opacity=\"0.5\" stroke-width=\"3.2\"/>\n",
       "<circle clip-path=\"url(#clip862)\" cx=\"1004.8\" cy=\"581.996\" r=\"14\" fill=\"#e26f46\" fill-rule=\"evenodd\" fill-opacity=\"0.5\" stroke=\"#000000\" stroke-opacity=\"0.5\" stroke-width=\"3.2\"/>\n",
       "<circle clip-path=\"url(#clip862)\" cx=\"1312.4\" cy=\"788.392\" r=\"14\" fill=\"#e26f46\" fill-rule=\"evenodd\" fill-opacity=\"0.5\" stroke=\"#000000\" stroke-opacity=\"0.5\" stroke-width=\"3.2\"/>\n",
       "<circle clip-path=\"url(#clip862)\" cx=\"818.961\" cy=\"457.303\" r=\"14\" fill=\"#e26f46\" fill-rule=\"evenodd\" fill-opacity=\"0.5\" stroke=\"#000000\" stroke-opacity=\"0.5\" stroke-width=\"3.2\"/>\n",
       "<circle clip-path=\"url(#clip862)\" cx=\"391.52\" cy=\"170.5\" r=\"14\" fill=\"#e26f46\" fill-rule=\"evenodd\" fill-opacity=\"0.5\" stroke=\"#000000\" stroke-opacity=\"0.5\" stroke-width=\"3.2\"/>\n",
       "<circle clip-path=\"url(#clip862)\" cx=\"1655.9\" cy=\"1018.88\" r=\"14\" fill=\"#e26f46\" fill-rule=\"evenodd\" fill-opacity=\"0.5\" stroke=\"#000000\" stroke-opacity=\"0.5\" stroke-width=\"3.2\"/>\n",
       "<circle clip-path=\"url(#clip862)\" cx=\"1953.5\" cy=\"1218.56\" r=\"14\" fill=\"#e26f46\" fill-rule=\"evenodd\" fill-opacity=\"0.5\" stroke=\"#000000\" stroke-opacity=\"0.5\" stroke-width=\"3.2\"/>\n",
       "<circle clip-path=\"url(#clip862)\" cx=\"1104.35\" cy=\"648.794\" r=\"14\" fill=\"#e26f46\" fill-rule=\"evenodd\" fill-opacity=\"0.5\" stroke=\"#000000\" stroke-opacity=\"0.5\" stroke-width=\"3.2\"/>\n",
       "<circle clip-path=\"url(#clip862)\" cx=\"794.801\" cy=\"441.093\" r=\"14\" fill=\"#e26f46\" fill-rule=\"evenodd\" fill-opacity=\"0.5\" stroke=\"#000000\" stroke-opacity=\"0.5\" stroke-width=\"3.2\"/>\n",
       "<circle clip-path=\"url(#clip862)\" cx=\"1197.06\" cy=\"710.997\" r=\"14\" fill=\"#e26f46\" fill-rule=\"evenodd\" fill-opacity=\"0.5\" stroke=\"#000000\" stroke-opacity=\"0.5\" stroke-width=\"3.2\"/>\n",
       "<circle clip-path=\"url(#clip862)\" cx=\"1023.72\" cy=\"594.692\" r=\"14\" fill=\"#e26f46\" fill-rule=\"evenodd\" fill-opacity=\"0.5\" stroke=\"#000000\" stroke-opacity=\"0.5\" stroke-width=\"3.2\"/>\n",
       "</svg>\n"
      ]
     },
     "execution_count": 37,
     "metadata": {},
     "output_type": "execute_result"
    }
   ],
   "source": [
    "plot(x)\n",
    "plot!(Singleton.(sample(x, 100)))"
   ]
  },
  {
   "cell_type": "code",
   "execution_count": 38,
   "metadata": {},
   "outputs": [
    {
     "data": {
      "text/plain": [
       "\u001b[32m\u001b[1mTest Passed\u001b[22m\u001b[39m"
      ]
     },
     "execution_count": 38,
     "metadata": {},
     "output_type": "execute_result"
    }
   ],
   "source": [
    "using Test\n",
    "N = Rational{Int}\n",
    "\n",
    "L = LineSegment(N[0, 0], N[1, 1])\n",
    "@test sample(L) ∈ L\n",
    "@test all(x -> x ∈ L, sample(L, 10))"
   ]
  },
  {
   "cell_type": "code",
   "execution_count": 39,
   "metadata": {},
   "outputs": [
    {
     "data": {
      "text/plain": [
       "10-element Array{Array{Rational{Int64},1},1}:\n",
       " [285207598265119//1125899906842624, 285207598265119//1125899906842624]\n",
       " [3791145729789367//4503599627370496, 3791145729789367//4503599627370496]\n",
       " [1873235723980841//2251799813685248, 1873235723980841//2251799813685248]\n",
       " [2109776582688459//4503599627370496, 2109776582688459//4503599627370496]\n",
       " [399536472253563//562949953421312, 399536472253563//562949953421312]\n",
       " [929369694350285//4503599627370496, 929369694350285//4503599627370496]\n",
       " [49387810490623//1125899906842624, 49387810490623//1125899906842624]\n",
       " [637136694856779//1125899906842624, 637136694856779//1125899906842624]\n",
       " [286905609172281//4503599627370496, 286905609172281//4503599627370496]\n",
       " [1463387881269203//2251799813685248, 1463387881269203//2251799813685248]"
      ]
     },
     "execution_count": 39,
     "metadata": {},
     "output_type": "execute_result"
    }
   ],
   "source": [
    "sample(L, 10)"
   ]
  },
  {
   "cell_type": "code",
   "execution_count": 19,
   "metadata": {},
   "outputs": [
    {
     "data": {
      "text/plain": [
       "10-element Array{Array{Float64,1},1}:\n",
       " [-0.44548183533898333, -0.7632919162774628]\n",
       " [0.32509119524900265, -0.1676036178095881]\n",
       " [2.614895399544137, -0.7385695489080838]\n",
       " [0.6719601152768417, -0.4654840449079378]\n",
       " [1.2411343042155512, -1.4215544962446873]\n",
       " [1.547057021702189, -0.8607335990766827]\n",
       " [0.1701135285425487, -1.2799908180429214]\n",
       " [1.8223686307722957, -0.25077107409343147]\n",
       " [-0.16654297310253652, -0.38591815945134855]\n",
       " [-0.3615861639628528, -1.1901591438133854]"
      ]
     },
     "execution_count": 19,
     "metadata": {},
     "output_type": "execute_result"
    }
   ],
   "source": [
    "x = rand(VPolygon)\n",
    "sample(x, 10)"
   ]
  }
 ],
 "metadata": {
  "@webio": {
   "lastCommId": null,
   "lastKernelId": null
  },
  "kernelspec": {
   "display_name": "Julia 1.5.2",
   "language": "julia",
   "name": "julia-1.5"
  },
  "language_info": {
   "file_extension": ".jl",
   "mimetype": "application/julia",
   "name": "julia",
   "version": "1.5.2"
  }
 },
 "nbformat": 4,
 "nbformat_minor": 2
}
