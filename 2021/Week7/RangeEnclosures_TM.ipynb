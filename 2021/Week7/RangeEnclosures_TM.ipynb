{
 "cells": [
  {
   "cell_type": "code",
   "execution_count": 1,
   "metadata": {},
   "outputs": [],
   "source": [
    "using TaylorModels"
   ]
  },
  {
   "cell_type": "code",
   "execution_count": 77,
   "metadata": {},
   "outputs": [],
   "source": [
    "#=\n",
    "ord = 3\n",
    "\n",
    "set_variables(Interval{Float64}, [:x, :y], order=2(ord+1))\n",
    "\n",
    "x = TaylorN(Interval{Float64}, 1, order=ord)\n",
    "y = TaylorN(Interval{Float64}, 2, order=ord)\n",
    "\n",
    "b0 = 0 .. 1\n",
    "ib0 = 0.0\n",
    "xm = TaylorModelN(x, 0..0, b0, ib0)\n",
    "=#"
   ]
  },
  {
   "cell_type": "markdown",
   "metadata": {},
   "source": [
    "(These methods are adapted from RangeEnclosures.jl)"
   ]
  },
  {
   "cell_type": "code",
   "execution_count": 62,
   "metadata": {},
   "outputs": [
    {
     "data": {
      "text/plain": [
       "enclose_TM_normalized (generic function with 1 method)"
      ]
     },
     "execution_count": 62,
     "metadata": {},
     "output_type": "execute_result"
    }
   ],
   "source": [
    "function enclose_IA(f::Function, dom::IntervalBox{N}, m::Int=1) where {N}\n",
    "    val = [f(d...) for d in mince(dom, m)]\n",
    "    lo = minimum(v.lo for v in val)\n",
    "    hi = maximum(v.hi for v in val)\n",
    "    return interval(lo, hi)\n",
    "end\n",
    "\n",
    "# multivariate\n",
    "function enclose_TM(f::Function, dom::IntervalBox{N}, order::Int) where {N}\n",
    "    x0 = mid(dom)\n",
    "    set_variables(Float64, \"x\", order=2order, numvars=N)\n",
    "    x = [TaylorModelN(i, order, IntervalBox(x0), dom) for i=1:N]\n",
    "    return evaluate(f(x...), dom - x0)\n",
    "end\n",
    "\n",
    "@inline zeroBox(N) = IntervalBox(0..0, N)\n",
    "@inline symBox(N) = IntervalBox(-1..1, N)\n",
    "\n",
    "# normalized multivariate\n",
    "function enclose_TM_normalized(f::Function, dom::IntervalBox{N}, order::Int) where {N}\n",
    "    x0 = mid(dom)\n",
    "    set_variables(Float64, \"x\", order=2order, numvars=N)\n",
    "\n",
    "    zBoxN = zeroBox(N)\n",
    "    sBoxN = symBox(N)\n",
    "    x = [TaylorModelN(i, order, IntervalBox(x0), dom) for i=1:N]\n",
    "    xnorm = [normalize_taylor(xi.pol, dom - x0, true) for xi in x]\n",
    "    xnormTM = [TaylorModelN(xi_norm, 0..0, zBoxN, sBoxN) for xi_norm in xnorm]\n",
    "    return evaluate(f(xnormTM...), sBoxN)\n",
    "end"
   ]
  },
  {
   "cell_type": "code",
   "execution_count": 63,
   "metadata": {},
   "outputs": [
    {
     "data": {
      "text/plain": [
       "[0.899999, 1.10001] × [0.899999, 1.10001]"
      ]
     },
     "execution_count": 63,
     "metadata": {},
     "output_type": "execute_result"
    }
   ],
   "source": [
    "f(x, y) = y  * exp(x * log(sin(x)))\n",
    "\n",
    "dom = (0.9 .. 1.1) × (0.9 .. 1.1)"
   ]
  },
  {
   "cell_type": "code",
   "execution_count": 75,
   "metadata": {},
   "outputs": [
    {
     "data": {
      "text/plain": [
       "[0.713423, 0.969894]"
      ]
     },
     "execution_count": 75,
     "metadata": {},
     "output_type": "execute_result"
    }
   ],
   "source": [
    "enclose_TM(f, dom, 4)"
   ]
  },
  {
   "cell_type": "code",
   "execution_count": 76,
   "metadata": {},
   "outputs": [
    {
     "data": {
      "text/plain": [
       "[0.713423, 0.969894]"
      ]
     },
     "execution_count": 76,
     "metadata": {},
     "output_type": "execute_result"
    }
   ],
   "source": [
    "enclose_TM_normalized(f, dom, 4)"
   ]
  },
  {
   "cell_type": "code",
   "execution_count": 66,
   "metadata": {},
   "outputs": [
    {
     "data": {
      "text/plain": [
       "[0.687986, 0.991685]"
      ]
     },
     "execution_count": 66,
     "metadata": {},
     "output_type": "execute_result"
    }
   ],
   "source": [
    "enclose_IA(f, dom, 1)"
   ]
  },
  {
   "cell_type": "code",
   "execution_count": 67,
   "metadata": {},
   "outputs": [
    {
     "data": {
      "text/plain": [
       "[0.718902, 0.971337]"
      ]
     },
     "execution_count": 67,
     "metadata": {},
     "output_type": "execute_result"
    }
   ],
   "source": [
    "enclose_IA(f, dom, 10)"
   ]
  }
 ],
 "metadata": {
  "kernelspec": {
   "display_name": "Julia 1.5.2",
   "language": "julia",
   "name": "julia-1.5"
  },
  "language_info": {
   "file_extension": ".jl",
   "mimetype": "application/julia",
   "name": "julia",
   "version": "1.5.2"
  }
 },
 "nbformat": 4,
 "nbformat_minor": 2
}
