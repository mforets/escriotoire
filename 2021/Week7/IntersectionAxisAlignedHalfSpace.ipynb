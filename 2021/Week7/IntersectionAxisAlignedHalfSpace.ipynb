{
 "cells": [
  {
   "cell_type": "markdown",
   "metadata": {},
   "source": [
    "## Faster intersection between a hyperrectangular set and an axis-aligned halfspace #1800\n"
   ]
  },
  {
   "cell_type": "markdown",
   "metadata": {},
   "source": [
    "- https://github.com/JuliaReach/LazySets.jl/issues/1800"
   ]
  },
  {
   "cell_type": "code",
   "execution_count": 1,
   "metadata": {},
   "outputs": [
    {
     "name": "stderr",
     "output_type": "stream",
     "text": [
      "┌ Info: Precompiling LazySets [b4f0291d-fe17-52bc-9479-3d1a343d9043]\n",
      "└ @ Base loading.jl:1278\n"
     ]
    }
   ],
   "source": [
    "using Revise, LazySets, BenchmarkTools, StaticArrays"
   ]
  },
  {
   "cell_type": "code",
   "execution_count": 13,
   "metadata": {},
   "outputs": [
    {
     "data": {
      "text/plain": [
       "Hyperrectangle{Float64,Array{Float64,1},Array{Float64,1}}([-0.3412273406525914, -0.511324484110687], [0.6860678348031224, 2.1614143501749137])"
      ]
     },
     "execution_count": 13,
     "metadata": {},
     "output_type": "execute_result"
    }
   ],
   "source": [
    "H = rand(Hyperrectangle)"
   ]
  },
  {
   "cell_type": "code",
   "execution_count": 14,
   "metadata": {},
   "outputs": [
    {
     "data": {
      "text/plain": [
       "HalfSpace{Float64,Array{Float64,1}}([1.0, 0.0], 0.0)"
      ]
     },
     "execution_count": 14,
     "metadata": {},
     "output_type": "execute_result"
    }
   ],
   "source": [
    "G = HalfSpace([1.0, 0.0], 0.0)"
   ]
  },
  {
   "cell_type": "code",
   "execution_count": 15,
   "metadata": {},
   "outputs": [
    {
     "data": {
      "text/plain": [
       "HalfSpace{Float64,SingleEntryVector{Float64}}([1.0, 0.0], 0.0)"
      ]
     },
     "execution_count": 15,
     "metadata": {},
     "output_type": "execute_result"
    }
   ],
   "source": [
    "Gs = HalfSpace(SingleEntryVector(1, 2, 1.0), 0.0)"
   ]
  },
  {
   "cell_type": "code",
   "execution_count": 4,
   "metadata": {},
   "outputs": [
    {
     "name": "stdout",
     "output_type": "stream",
     "text": [
      "  55.856 μs (299 allocations: 23.34 KiB)\n"
     ]
    },
    {
     "data": {
      "text/plain": [
       "HPolytope{Float64,Array{Float64,1}}(HalfSpace{Float64,Array{Float64,1}}[HalfSpace{Float64,Array{Float64,1}}([1.0, 0.0], -0.2294435195476123), HalfSpace{Float64,Array{Float64,1}}([0.0, 1.0], -0.46442130050505004), HalfSpace{Float64,Array{Float64,1}}([-1.0, 0.0], 0.5843407933477632), HalfSpace{Float64,Array{Float64,1}}([0.0, -1.0], 0.5116373283465727)])"
      ]
     },
     "execution_count": 4,
     "metadata": {},
     "output_type": "execute_result"
    }
   ],
   "source": [
    "@btime intersection($G, $H)"
   ]
  },
  {
   "cell_type": "code",
   "execution_count": 5,
   "metadata": {},
   "outputs": [
    {
     "name": "stdout",
     "output_type": "stream",
     "text": [
      "  127.377 ns (5 allocations: 416 bytes)\n"
     ]
    },
    {
     "data": {
      "text/plain": [
       "Hyperrectangle{Float64,Array{Float64,1},Array{Float64,1}}([-0.4068921564476878, -0.4880293144258114], [0.17744863690007548, 0.02360801392076134])"
      ]
     },
     "execution_count": 5,
     "metadata": {},
     "output_type": "execute_result"
    }
   ],
   "source": [
    "Q = Hyperrectangle(low=[-10., -10.], high=[0., 10]);\n",
    "\n",
    "@btime intersection($Q, $H)"
   ]
  },
  {
   "cell_type": "markdown",
   "metadata": {},
   "source": [
    "## New method"
   ]
  },
  {
   "cell_type": "code",
   "execution_count": 6,
   "metadata": {},
   "outputs": [
    {
     "data": {
      "text/plain": [
       "2.9223898714343677"
      ]
     },
     "execution_count": 6,
     "metadata": {},
     "output_type": "execute_result"
    }
   ],
   "source": [
    "B = rand(Hyperrectangle, dim=10)\n",
    "\n",
    "high(B, 4)"
   ]
  },
  {
   "cell_type": "code",
   "execution_count": 7,
   "metadata": {},
   "outputs": [
    {
     "name": "stdout",
     "output_type": "stream",
     "text": [
      "  0.004618 seconds (4.81 k allocations: 297.468 KiB)\n"
     ]
    },
    {
     "data": {
      "text/plain": [
       "1.5766675476693899"
      ]
     },
     "execution_count": 7,
     "metadata": {},
     "output_type": "execute_result"
    }
   ],
   "source": [
    "B = rand(BallInf, dim=10)\n",
    "@time high(B, 4)"
   ]
  },
  {
   "cell_type": "code",
   "execution_count": 19,
   "metadata": {},
   "outputs": [
    {
     "data": {
      "text/plain": [
       "_intersection (generic function with 2 methods)"
      ]
     },
     "execution_count": 19,
     "metadata": {},
     "output_type": "execute_result"
    }
   ],
   "source": [
    "using LazySets: _intersection_interval_halfspace\n",
    "using LazySets.Arrays\n",
    "\n",
    "# intersection between an axis-aligned half-space and a hyperrectangular set\n",
    "function _intersection(B::AbstractHyperrectangle, H::HalfSpace{N, <:SingleEntryVector{N}}) where {N}\n",
    "    n = dim(H)\n",
    "    a = H.a\n",
    "    b = H.b\n",
    "    i = a.i\n",
    "    ai = a.v\n",
    "\n",
    "    v_high_i = high(B, i)\n",
    "    v_low_i = low(B, i)\n",
    "    \n",
    "    # intersect the half-space with the hyperrectangle's interval side\n",
    "    (empty, lo, hi) = _intersection_interval_halfspace(v_low_i, v_high_i, ai, b, N)\n",
    "\n",
    "    if empty\n",
    "        return EmptySet{N}(n)\n",
    "\n",
    "    else\n",
    "        v_low′ = copy(low(B))\n",
    "        v_low′[i] = lo\n",
    "\n",
    "        v_high′ = copy(high(B))\n",
    "        v_high′[i] = hi\n",
    "        \n",
    "        return Hyperrectangle(low=v_low′, high=v_high′)\n",
    "    end\n",
    " end\n",
    "\n",
    "# symmetric method\n",
    "_intersection(H::HalfSpace{N, <:SingleEntryVector{N}}, B::AbstractHyperrectangle) where {N} = _intersection(B, H)"
   ]
  },
  {
   "cell_type": "code",
   "execution_count": 20,
   "metadata": {},
   "outputs": [
    {
     "data": {
      "text/plain": [
       "HalfSpace{Float64,SingleEntryVector{Float64}}([1.0, 0.0], 0.0)"
      ]
     },
     "execution_count": 20,
     "metadata": {},
     "output_type": "execute_result"
    }
   ],
   "source": [
    "Gs"
   ]
  },
  {
   "cell_type": "code",
   "execution_count": 21,
   "metadata": {},
   "outputs": [
    {
     "data": {
      "text/plain": [
       "Hyperrectangle{Float64,Array{Float64,1},Array{Float64,1}}([-0.3412273406525914, -0.511324484110687], [0.6860678348031224, 2.1614143501749137])"
      ]
     },
     "execution_count": 21,
     "metadata": {},
     "output_type": "execute_result"
    }
   ],
   "source": [
    "H"
   ]
  },
  {
   "cell_type": "code",
   "execution_count": 26,
   "metadata": {},
   "outputs": [
    {
     "name": "stdout",
     "output_type": "stream",
     "text": [
      "  244.244 ns (8 allocations: 624 bytes)\n"
     ]
    },
    {
     "data": {
      "text/plain": [
       "Hyperrectangle{Float64,Array{Float64,1},Array{Float64,1}}([-0.5136475877278569, -0.5113244841106869], [0.5136475877278569, 2.1614143501749137])"
      ]
     },
     "execution_count": 26,
     "metadata": {},
     "output_type": "execute_result"
    }
   ],
   "source": [
    "@btime _intersection($Gs, $H)"
   ]
  },
  {
   "cell_type": "code",
   "execution_count": 27,
   "metadata": {},
   "outputs": [
    {
     "name": "stdout",
     "output_type": "stream",
     "text": [
      "  52.012 μs (300 allocations: 23.56 KiB)\n"
     ]
    },
    {
     "data": {
      "text/plain": [
       "HPolytope{Float64,Array{Float64,1}}(HalfSpace{Float64,Array{Float64,1}}[HalfSpace{Float64,Array{Float64,1}}([1.0, 0.0], 0.0), HalfSpace{Float64,Array{Float64,1}}([0.0, 1.0], 1.6500898660642267), HalfSpace{Float64,Array{Float64,1}}([-1.0, 0.0], 1.0272951754557138), HalfSpace{Float64,Array{Float64,1}}([0.0, -1.0], 2.6727388342856004)])"
      ]
     },
     "execution_count": 27,
     "metadata": {},
     "output_type": "execute_result"
    }
   ],
   "source": [
    "@btime intersection($Gs, $H)"
   ]
  },
  {
   "cell_type": "code",
   "execution_count": 29,
   "metadata": {},
   "outputs": [
    {
     "name": "stdout",
     "output_type": "stream",
     "text": [
      "  38.065 μs (213 allocations: 15.25 KiB)\n"
     ]
    },
    {
     "data": {
      "text/plain": [
       "Hyperrectangle{Float64,Array{Float64,1},Array{Float64,1}}([-0.5136475877278569, -0.5113244841106869], [0.5136475877278569, 2.1614143501749137])"
      ]
     },
     "execution_count": 29,
     "metadata": {},
     "output_type": "execute_result"
    }
   ],
   "source": [
    "V = intersection(Gs, H)\n",
    "@btime box_approximation($V)"
   ]
  },
  {
   "cell_type": "markdown",
   "metadata": {},
   "source": [
    "- total (master) `90us`\n",
    "\n",
    "- new: `~250ns`"
   ]
  }
 ],
 "metadata": {
  "@webio": {
   "lastCommId": null,
   "lastKernelId": null
  },
  "kernelspec": {
   "display_name": "Julia 1.5.2",
   "language": "julia",
   "name": "julia-1.5"
  },
  "language_info": {
   "file_extension": ".jl",
   "mimetype": "application/julia",
   "name": "julia",
   "version": "1.5.2"
  }
 },
 "nbformat": 4,
 "nbformat_minor": 2
}
