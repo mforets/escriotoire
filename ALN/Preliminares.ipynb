{
 "cells": [
  {
   "cell_type": "markdown",
   "metadata": {},
   "source": [
    "# Notación"
   ]
  },
  {
   "cell_type": "markdown",
   "metadata": {},
   "source": [
    "Referencias:\n",
    "\n",
    "- Golan, Chapter 1.\n",
    "- Wendland, Chapter 1."
   ]
  },
  {
   "cell_type": "markdown",
   "metadata": {},
   "source": [
    "En esta seccion vamos a hacer un repasito de la notacion matematica que usaremos."
   ]
  },
  {
   "cell_type": "markdown",
   "metadata": {},
   "source": [
    "**Cuerpos** (volveremos sobe esto mas adelante):\n",
    "\n",
    "- $\\mathbb{R}$\n",
    "- $\\mathbb{Z}$\n",
    "- $\\mathbb{N}$\n",
    "- $\\mathbb{C}$\n",
    "- $\\mathbb{Q}$"
   ]
  },
  {
   "cell_type": "markdown",
   "metadata": {},
   "source": [
    "**Simbolos**\n",
    "\n",
    "- $\\vert \\cdot \\vert$: valor absoluto\n",
    "- $\\langle \\cdot, \\cdot \\rangle$: producto interno\n",
    "- $\\Vert \\cdot \\Vert$: norma"
   ]
  },
  {
   "cell_type": "markdown",
   "metadata": {},
   "source": [
    "**Algunas abreviaciones comunes**"
   ]
  },
  {
   "cell_type": "markdown",
   "metadata": {},
   "source": [
    "- ALN: algebra lineal numerica\n",
    "- LI: linealmente independiente\n",
    "- LD: linealmente dependiente\n",
    "- v.p.: valores propios\n",
    "- e.v.: espacio vectorial\n",
    "- e.v.p.i: espacio vectorial con producto interno\n",
    "- LQQD: lo que queda demostrado (tambien, QED) o el simbolo $\\blacksquare$ para indicar el final de una demostracion"
   ]
  },
  {
   "cell_type": "markdown",
   "metadata": {},
   "source": [
    "**Abreviaciones que designan algoritmos**\n",
    "\n",
    "- SVD: descomposicion en valores singulares\n",
    "- QR: descomposicion QR"
   ]
  },
  {
   "cell_type": "markdown",
   "metadata": {},
   "source": [
    "# Tipos básicos de matrices"
   ]
  },
  {
   "cell_type": "code",
   "execution_count": null,
   "metadata": {},
   "outputs": [],
   "source": []
  },
  {
   "cell_type": "markdown",
   "metadata": {},
   "source": [
    "# Cuerpos\n",
    "\n",
    "*Nota.* En ingles el concepto que vamos a considerar en esta seccion se llama *field*, por eso algunos lo traducen como *campo*. Ver [Cuerpo (matematicas)](https://es.wikipedia.org/wiki/Cuerpo_(matem%C3%A1ticas))."
   ]
  },
  {
   "cell_type": "code",
   "execution_count": null,
   "metadata": {},
   "outputs": [],
   "source": []
  },
  {
   "cell_type": "markdown",
   "metadata": {},
   "source": [
    "# Números complejos"
   ]
  },
  {
   "cell_type": "markdown",
   "metadata": {},
   "source": [
    "- Un número complejo tiene la forma $z = a + bi$ siendo $a$ y $b$ reales, e $i$ es un simbolo formal que satisface $i^2 = -1$.\n",
    "\n",
    "- $a$ es la parte real de $z$, denotada $Re(z)$\n",
    "\n",
    "- $b$ es la parte imaginaria de $z$, denotada $Im(z)$"
   ]
  },
  {
   "cell_type": "markdown",
   "metadata": {},
   "source": [
    "- El complejo conjugado de $z = a + bi$ es $\\bar{z} = a - bi$."
   ]
  },
  {
   "cell_type": "markdown",
   "metadata": {},
   "source": [
    "- La adicion de numeros complejos $z_1 = a_1 + i b_1$ y $z_1 = a_2 + i b_2$ es\n",
    "$$\n",
    "z_1 + z_2 = (a_1 + a_2) + i(b_1 + b_2)\n",
    "$$\n",
    "Notar que la adicion es el resultado de sumar las partes real e imaginaria de forma separada."
   ]
  },
  {
   "cell_type": "markdown",
   "metadata": {},
   "source": [
    "- La multiplicacion de numeros complejos $z_1 = a_1 + i b_1$ y $z_1 = a_2 + i b_2$ es\n",
    "$$\n",
    "z_1 * z_2 = (a_1a_2-b_1b_2) + i(a_1b_2 + b_1 a_2)\n",
    "$$\n",
    "La multiplicacion es el resultado de la expansion algebraica del producto, utilizando que $i^2 = -1$."
   ]
  },
  {
   "cell_type": "code",
   "execution_count": null,
   "metadata": {},
   "outputs": [],
   "source": []
  },
  {
   "cell_type": "markdown",
   "metadata": {},
   "source": [
    "**Prop. (desigualdad triangular)** Sean $z_1, \\ldots, z_m$ numeros complejos. Entonces\n",
    "$$\n",
    "\\vert z_1 + \\ldots + z_m \\vert \\leq \\vert z_1 \\vert + \\ldots + \\vert z_m \\vert.\n",
    "$$"
   ]
  },
  {
   "cell_type": "markdown",
   "metadata": {},
   "source": [
    "<details><summary>Demostracion.</summary>\n",
    "<p>\n",
    "\n",
    "Sea $\\theta \\in \\mathbb{R}$ tal que $e^{-i\\theta}(z_1 + \\ldots + z_m) = \\vert z_1 + \\ldots + z_m\\vert$.\n",
    "\n",
    "</p>\n",
    "</details>"
   ]
  },
  {
   "cell_type": "markdown",
   "metadata": {},
   "source": [
    "# Polinomios"
   ]
  },
  {
   "cell_type": "code",
   "execution_count": null,
   "metadata": {},
   "outputs": [],
   "source": []
  }
 ],
 "metadata": {
  "kernelspec": {
   "display_name": "Julia 1.3.1",
   "language": "julia",
   "name": "julia-1.3"
  },
  "language_info": {
   "file_extension": ".jl",
   "mimetype": "application/julia",
   "name": "julia",
   "version": "1.3.1"
  }
 },
 "nbformat": 4,
 "nbformat_minor": 2
}
