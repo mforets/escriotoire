{
 "cells": [
  {
   "cell_type": "markdown",
   "metadata": {},
   "source": [
    "# Notación"
   ]
  },
  {
   "cell_type": "markdown",
   "metadata": {},
   "source": [
    "Referencias:\n",
    "\n",
    "- Golan, Chapter 1.\n",
    "- Wendland, Chapter 1.\n",
    "- Horn & Johnson, Chapter 0."
   ]
  },
  {
   "cell_type": "markdown",
   "metadata": {},
   "source": [
    "En esta seccion vamos a hacer un repasito de la notacion matematica que usaremos."
   ]
  },
  {
   "cell_type": "markdown",
   "metadata": {},
   "source": [
    "**Cuerpos**\n",
    "\n",
    "- $\\mathbb{R}$: números reales\n",
    "- $\\mathbb{Z}$: números enteros\n",
    "- $\\mathbb{N}$: números naturales (no incluye el cero)\n",
    "- $\\mathbb{N}_0$: números naturales incluyendo el cero\n",
    "- $\\mathbb{C}$: números complejos\n",
    "- $\\mathbb{Q}$: números racionales"
   ]
  },
  {
   "cell_type": "markdown",
   "metadata": {},
   "source": [
    "$\\mathbb{R}^n$: vector de $n$ componentes en $\\mathbb{R}^n$"
   ]
  },
  {
   "cell_type": "markdown",
   "metadata": {},
   "source": [
    "Las componentes de un vectoe $x \\in \\mathbb{R}^n$ son $x_j \\in \\mathbb{R}$, i.e. $x = (x_1, \\ldots, x_n)^T$ o\n",
    "$$\n",
    "x = \\begin{pmatrix} x_1 \\\\ x_2 \\\\ \\vdots \\\\ x_n \\end{pmatrix}.\n",
    "$$"
   ]
  },
  {
   "cell_type": "markdown",
   "metadata": {},
   "source": [
    "- Los \"vectores\" son vectores columna.\n",
    "\n",
    "- La base canonica de $\\mathbb{R}^n$ es $e_1, \\ldots, e_n$, i.e. $e_i$ tiene todas las componentes $0$ salvo la i-esima que vale $1$."
   ]
  },
  {
   "cell_type": "markdown",
   "metadata": {},
   "source": [
    "- Producto interno o escalar entre vectores de $\\mathbb{R}^n$: para todos $x, y \\in \\mathbb{R}^n$, $x^T y = \\langle x , y \\rangle_2$ definido como\n",
    "\n",
    "$$\n",
    "\\langle x, y \\rangle = \\sum_{j=1}^n x_j y_j.\n",
    "$$"
   ]
  },
  {
   "cell_type": "markdown",
   "metadata": {},
   "source": [
    "- Notamos $A \\in \\mathbb{R}^{m \\times n}$ a una matrix $A$ de componentes reales, con $m$ filas y $n$ columnas."
   ]
  },
  {
   "cell_type": "markdown",
   "metadata": {},
   "source": [
    "- Notamos con $A = (a_{ij})$ donde el indice $i$ refiere al a i-esima fila de $A$ y el indice $j$ refiere a la j-esima columna de $A$."
   ]
  },
  {
   "cell_type": "markdown",
   "metadata": {},
   "source": [
    "- Es decir,\n",
    "\n",
    "$$\n",
    "A = (a_{ij}) = \\begin{pmatrix} a_{11} & a_{12} & \\cdots  & a_{1n} \\\\\n",
    "a_{21} & a_{22} & \\cdots & a_{2n} \\\\\n",
    "\\vdots &  & & \\vdots \\\\\n",
    "a_{m1} & a_{m2}& \\cdots& a_{mn} \\end{pmatrix}\n",
    "$$"
   ]
  },
  {
   "cell_type": "markdown",
   "metadata": {},
   "source": [
    "- Notar que $a_{ij} = e_i^T A e_j$.\n",
    "\n",
    "- Si $A$ no es cuadrada, digamos es $A \\in \\mathbb{R}^{m\\times n}$, tambien podemos escribir $a_{ij} = e_i^{(m)T} A e_j^{(n)}$ o simplemente abusando un poco de la notacion, $a_{ij} = e_i^T A e_j$."
   ]
  },
  {
   "cell_type": "markdown",
   "metadata": {},
   "source": [
    "- El *simbolo de Kronecker* $\\delta_{ij}$ se define como $\\delta_{ii} = 1$ (es decir $i = j$) y $0$ si $i \\neq j$."
   ]
  },
  {
   "cell_type": "markdown",
   "metadata": {},
   "source": [
    "- La matriz identidad en $\\mathbb{R}^n$ se denota con $I_n \\in \\mathbb{R}^{n\\times n}$ o simplemente $I \\in \\mathbb{R}^{n\\times n}$."
   ]
  },
  {
   "cell_type": "markdown",
   "metadata": {},
   "source": [
    "- Notar que $I = (\\delta_{ij})_{1 \\leq i, j \\leq n}$."
   ]
  },
  {
   "cell_type": "markdown",
   "metadata": {},
   "source": [
    "- Columnas de $A \\in \\mathbb{R}^{m \\times n}$: $A_j := Ae_j \\in \\mathbb{R}^m$, $1 \\leq j \\leq n$."
   ]
  },
  {
   "cell_type": "markdown",
   "metadata": {},
   "source": [
    "- En particular, $A = (A_1, A_2, \\ldots, A_n)$."
   ]
  },
  {
   "cell_type": "markdown",
   "metadata": {},
   "source": [
    "- Producto matriz por vector: sea $A \\in \\mathbb{R}^{m \\times n}$ y sea $x \\in \\mathbb{R}^n$. Entonces\n",
    "\n",
    "$$\n",
    "Ax = A\\sum_j x_j e_j = \\sum_j x_j A_j.\n",
    "$$"
   ]
  },
  {
   "cell_type": "markdown",
   "metadata": {},
   "source": [
    "**Simbolos**\n",
    "\n",
    "- $\\vert \\cdot \\vert$: valor absoluto\n",
    "- $\\langle \\cdot, \\cdot \\rangle$: producto interno\n",
    "- $\\Vert \\cdot \\Vert$: norma"
   ]
  },
  {
   "cell_type": "markdown",
   "metadata": {},
   "source": [
    "**Algunas abreviaciones comunes**"
   ]
  },
  {
   "cell_type": "markdown",
   "metadata": {},
   "source": [
    "- ALN: algebra lineal numerica\n",
    "- LI: linealmente independiente\n",
    "- LD: linealmente dependiente\n",
    "- v.p.: valores propios\n",
    "- e.v.: espacio vectorial\n",
    "- e.v.p.i: espacio vectorial con producto interno\n",
    "- LQQD: lo que queda demostrado (tambien, QED) o el simbolo $\\blacksquare$ para indicar el final de una demostracion\n",
    "- flops: floating-point operations"
   ]
  },
  {
   "cell_type": "markdown",
   "metadata": {},
   "source": [
    "**Abreviaciones que designan algoritmos**\n",
    "\n",
    "- SVD: descomposicion en valores singulares\n",
    "- QR: descomposicion QR"
   ]
  },
  {
   "cell_type": "markdown",
   "metadata": {},
   "source": [
    "# Tipos especiales de matrices"
   ]
  },
  {
   "cell_type": "markdown",
   "metadata": {},
   "source": [
    "- Matriz cuadrada: $m = n$"
   ]
  },
  {
   "cell_type": "markdown",
   "metadata": {},
   "source": [
    "- Matriz diagonal, $a_{ij} = 0$ para $i \\neq j$.\n",
    "    - Si $a_{ii} = \\lambda_i$, notamos $A = diag(\\lambda_1, \\ldots, \\lambda_n)$"
   ]
  },
  {
   "cell_type": "markdown",
   "metadata": {},
   "source": [
    "- Matriz triangular superior: $a_{ij} = 0$ para $i > j$."
   ]
  },
  {
   "cell_type": "markdown",
   "metadata": {},
   "source": [
    "- Matriz triangular inferior: $a_{ij} = 0$ para $i < j$."
   ]
  },
  {
   "cell_type": "markdown",
   "metadata": {},
   "source": [
    "- Matriz en banda: existen $k, l \\in \\mathbb{N}_0$ tales que $a_{ij} = 0$ si $j < i - k$ o $j > i + l$.\n",
    "    - Tengo a lo sumo $k$ sub-diagonales y $l$ super-diagonales con entrada (posiblemente) no nulas."
   ]
  },
  {
   "cell_type": "markdown",
   "metadata": {},
   "source": [
    "- Matriz esparsa/rala/dispersa (en ingles, *sparse matrix*): \"muchas\" entradas son cero, digamos, mas de la mitad"
   ]
  },
  {
   "cell_type": "markdown",
   "metadata": {},
   "source": [
    "- Densa/full : si no es esparsa."
   ]
  },
  {
   "cell_type": "markdown",
   "metadata": {},
   "source": [
    "Notas:\n",
    "\n",
    "- La matriz identidad es $I = diag(1, \\ldots, 1) \\in \\mathbb{R}^n$."
   ]
  },
  {
   "cell_type": "markdown",
   "metadata": {},
   "source": [
    "- Matriz en banda con $k = l = 1$: **tridiagonal**"
   ]
  },
  {
   "cell_type": "markdown",
   "metadata": {},
   "source": [
    "- La matriz transpuesta de $A =  (a_{ij}) \\in \\mathbb{R}^{m \\times n}$ se denota $A^T$ y se define intercambiando las filas y las columnas de $A$, es decir, $A^T = (a_{ji}) \\in \\mathbb{R}^{n \\times m}$.\n",
    "\n",
    "- Una matriz cuadrada $A \\in \\mathbb{R}^{n\\times n}$ se dice **simetrica** si $A^T = A$."
   ]
  },
  {
   "cell_type": "markdown",
   "metadata": {},
   "source": [
    "### Ejercicios para resolver con computadora\n",
    "\n",
    "- Construir matrices de los distintos tipos en Julia.\n",
    "- Investigar los comandos `rand`, `randn` para generar vectores y matrices aleatorias.\n",
    "- Investigar los comandos `sprand`, `sprandn` para generar vectores y matrices esparsas aleatorios.\n",
    "- Visualizar las matrices generadas anteriormente con el comando `spy` de la libreria `PyPlot`.\n",
    "- Escribir una funcion que recibe una matriz y un vector y devuelve el producto entre $A$ y $x$.\n",
    "- Observar que Julia ya \"sabe\" calcular $Ax$.\n",
    "- Escribir una funcion que recibe una matriz y devuelve la matriz transpuesta.\n",
    "- Escribir una funcion que determina si una matriz es simetrica o no."
   ]
  },
  {
   "cell_type": "markdown",
   "metadata": {},
   "source": [
    "### Ejercicios teoricos"
   ]
  },
  {
   "cell_type": "markdown",
   "metadata": {},
   "source": [
    "- Si una matriz $A \\in \\mathbb{R}^{n\\times n}$ es simetrica e invertible, entonces $A^{-1}$ tambien lo es.\n",
    "- La transpuesta y la inversa de una matriz satisfacen (mientras que las inversas esten definidas):\n",
    "    - (i) $(AB)^T = B^T A^T$\n",
    "    - (ii) $(AB)^{-1} = B^{-1} A^{-1}$."
   ]
  },
  {
   "cell_type": "markdown",
   "metadata": {},
   "source": [
    "# Algoritmos"
   ]
  },
  {
   "cell_type": "markdown",
   "metadata": {},
   "source": [
    "En esta parte vamos a familiarizarnos con algunas tecnicas basicas de programacion. En particular:\n",
    "\n",
    "- `for`, `while`: iteracion\n",
    "- `if`, `then`, `else`: condicionales"
   ]
  },
  {
   "cell_type": "markdown",
   "metadata": {},
   "source": [
    "- Asignar un nuevo valor a una variable $x$, por ejemplo\n",
    "    - `x := x + y` que significa que primero evaluo la suma de $x$ con $y$ y luego, este resultado es asignado a $x$."
   ]
  },
  {
   "cell_type": "markdown",
   "metadata": {},
   "source": [
    "- Input/Output en un algoritmo."
   ]
  },
  {
   "cell_type": "markdown",
   "metadata": {},
   "source": [
    "- Un algoritmo debe tener un *criterio de terminacion*."
   ]
  },
  {
   "cell_type": "markdown",
   "metadata": {},
   "source": [
    "### Ejemplo: producto escalar"
   ]
  },
  {
   "cell_type": "markdown",
   "metadata": {},
   "source": [
    "Pseudo-codigo:\n",
    "\n",
    "- Entrada: $x, y \\in \\mathbb{R}^n$\n",
    "- Salida: $x = x^T y$\n",
    "\n",
    "```julia\n",
    "s := 0\n",
    "for j = 1 to n do\n",
    "    s := s + xj * yj\n",
    "```"
   ]
  },
  {
   "cell_type": "markdown",
   "metadata": {},
   "source": [
    "### Ejercicio\n",
    "\n",
    "Implementar este algoritmo en Julia."
   ]
  },
  {
   "cell_type": "markdown",
   "metadata": {},
   "source": [
    "# Simbols de Landau y costo computacional"
   ]
  },
  {
   "cell_type": "markdown",
   "metadata": {},
   "source": [
    "- Como analizar el costo de un algoritmo?\n",
    "\n",
    "- Como analizar la estabilidad de un algoritmo?\n",
    "\n",
    "- Runtime $\\neq$ costo computacional, en particular interesa entender como varia el costo para distintas instancias del problema, e.g. como escala un problema para resolver un sistema lineal, con el numero de variables."
   ]
  },
  {
   "cell_type": "markdown",
   "metadata": {},
   "source": [
    "**Ejemplo.** Sea $A \\in \\mathbb{R}^{m \\times n}$ con $x \\in \\mathbb{R}^n$ que da $b = Ax \\in \\mathbb{R}^m$, con componentes\n",
    "\n",
    "$$\n",
    "b_i = (Ax)_i = \\sum_{j=1}^n a_{ij} x_j,\\qquad 1 \\leq i \\leq m.\n",
    "$$"
   ]
  },
  {
   "cell_type": "markdown",
   "metadata": {},
   "source": [
    "- El producto de $A  \\in \\mathbb{R}^{m \\times n}$ con $B \\in \\mathbb{R}^{n \\times p}$ da $C = AB \\in \\mathbb{R}^{m \\times p}$ con componentes\n",
    "\n",
    "$$\n",
    "c_{ij} = \\sum_{k=1}^n a_{ij} b_{kj},\\qquad 1\\leq i \\leq m, 1 \\leq j \\leq p.\n",
    "$$"
   ]
  },
  {
   "cell_type": "markdown",
   "metadata": {},
   "source": [
    "- Cual es el costo computacional de este calculo? Como se mide?"
   ]
  },
  {
   "cell_type": "markdown",
   "metadata": {},
   "source": [
    "- En general el costo se mide en *flops*: floating-point operations (operaciones de punto flotante)."
   ]
  },
  {
   "cell_type": "markdown",
   "metadata": {},
   "source": [
    "- Una flop se define como una adicion *y* una multiplicacion. En general, no se distingue entre operaciones de adicion y de multiplicacion, ya que las multiplicaciones en las computadoras modernas se efectuan (con buena aproximacion) de manera tan eficiente como las sumas."
   ]
  },
  {
   "cell_type": "markdown",
   "metadata": {},
   "source": [
    "- La substraccion es tambien tan eficiente como la suma y el producto."
   ]
  },
  {
   "cell_type": "markdown",
   "metadata": {},
   "source": [
    "- La division es mas lenta que las anteriores."
   ]
  },
  {
   "cell_type": "markdown",
   "metadata": {},
   "source": [
    "- En los desarrollos teoricos en general nos interesa mas bien el *comportamiento asintotico*, mas que el valor concreto del numero de flops para un algoritmo dado."
   ]
  },
  {
   "cell_type": "markdown",
   "metadata": {},
   "source": [
    "De vuelta al ejemplo:\n",
    "\n",
    "- $b = Ax$, para cada indice $i$ debemos calcular $\\sum_{j=1}^n a_{ij} x_j$\n",
    "\n",
    "- Hay $n$ multiplicaciones y $n-1$ sumas, es decir hay $n$ flops."
   ]
  },
  {
   "cell_type": "markdown",
   "metadata": {},
   "source": [
    "- Si duplico el tamaño de la matriz, eso requiere el doble de flops para cada componente."
   ]
  },
  {
   "cell_type": "markdown",
   "metadata": {},
   "source": [
    "**Def (simbolos de Landau)** Dadas $f, g : \\mathbb{N}^d \\to \\mathbb{R}$ escribimos\n",
    "$$\n",
    "f(n) = \\mathcal{O}(g(n))\n",
    "$$\n",
    "si existe $c > 0$ tal que $\\vert f(n) \\vert \\leq c \\vert g(n) \\vert$, $n \\in \\mathbb{N}^d$."
   ]
  },
  {
   "cell_type": "markdown",
   "metadata": {},
   "source": [
    "# Introduccion a Julia"
   ]
  },
  {
   "cell_type": "markdown",
   "metadata": {},
   "source": [
    "- Numeros\n",
    "- Vectores\n",
    "- Matrices"
   ]
  },
  {
   "cell_type": "markdown",
   "metadata": {},
   "source": [
    "- Creacion de funciones"
   ]
  },
  {
   "cell_type": "markdown",
   "metadata": {},
   "source": [
    "# Iteracion "
   ]
  },
  {
   "cell_type": "code",
   "execution_count": null,
   "metadata": {},
   "outputs": [],
   "source": []
  },
  {
   "cell_type": "markdown",
   "metadata": {},
   "source": [
    "# Condicionales"
   ]
  },
  {
   "cell_type": "code",
   "execution_count": null,
   "metadata": {},
   "outputs": [],
   "source": []
  },
  {
   "cell_type": "markdown",
   "metadata": {},
   "source": [
    "## Ejercicios\n",
    "\n",
    "- Escribir una funcion que calcula el triangulo de Pascal hasta un orden dado.\n",
    "\n",
    "- Implementar un algoritmo que devuelve el maximo de una lista de numeros.\n",
    "\n",
    "- Implementar una [busqueda binaria](https://es.wikipedia.org/wiki/B%C3%BAsqueda_binaria) en una lista de numeros enteros.\n",
    "\n",
    "- Implementar el metodo de [busqueda binaria o biseccion](https://es.wikipedia.org/wiki/M%C3%A9todo_de_bisecci%C3%B3n) par ahallar una raiz $x$ de una funcion dada $f$ que se asumaria continua en el intervalo cerrado $[a, b] \\in \\mathbb{R}$."
   ]
  },
  {
   "cell_type": "code",
   "execution_count": null,
   "metadata": {},
   "outputs": [],
   "source": []
  }
 ],
 "metadata": {
  "kernelspec": {
   "display_name": "Julia 1.3.1",
   "language": "julia",
   "name": "julia-1.3"
  },
  "language_info": {
   "file_extension": ".jl",
   "mimetype": "application/julia",
   "name": "julia",
   "version": "1.3.1"
  }
 },
 "nbformat": 4,
 "nbformat_minor": 2
}
