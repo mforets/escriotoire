{
 "cells": [
  {
   "cell_type": "markdown",
   "metadata": {},
   "source": [
    "# Introducción al curso"
   ]
  },
  {
   "cell_type": "markdown",
   "metadata": {},
   "source": [
    "- Indicaciones para organizarnos.\n",
    "    - Es importante que si no están acostumbrados a revisar su correo electrónico lo hagan ya que es nuestra principal vía de comunicación.\n",
    "    - Transmitimos las clases por el grupo `AlgebraLinealNumerica` de google hangouts.\n",
    "    - Más adelante, cuando todos los estudiantes estén dados de alta en el [portal EVA de la UdelaR](https://eva.udelar.edu.uy/) consideraremos dar la clase por la app BigBlueButton que se puede usar desde EVA.\n",
    "    - El curso en EVA se llama \"Álgebra Lineal Numérica\", ver https://eva.udelar.edu.uy/course/view.php?id=9690\n",
    "    - Hice una copia del material del curso (planificacion, libros) en github, https://github.com/mforets/AlgebraLinealNumerica\n",
    "    - Las clases las [grabamos](https://support.google.com/meet/answer/9308681?hl=en) utilizando la app de google meet, y las subimos a google drive.\n",
    "    - Los libros estan en ingles. El material que preparo, que le llamo \"las notas del curso\", esta en español y lo tendran a su disposicion. Este material en general tiene hipervinculos (el texto aparece en azul y pueden clickear para ir a otra pagina web)."
   ]
  },
  {
   "cell_type": "markdown",
   "metadata": {},
   "source": [
    "- Generalidades.\n",
    "    - En el curso hay 11 inscriptos de _ localidades distintas.\n",
    "    - El curso comienza el 16 de marzo y termina el 10 de julio.\n",
    "    - Hay 2 x 1h30 clases de \"teorico\" por semana, y 1h30 de \"practico\" por semana. Eso hace 4.5h por semana. Para un total de 16 semanas de curso, el curso dura 72h."
   ]
  },
  {
   "cell_type": "markdown",
   "metadata": {},
   "source": [
    "- Arme una encuesta, de caracater anonimo, para conocerlos un poquito mas. Por favor no se olviden de completar la encuesta! "
   ]
  },
  {
   "cell_type": "markdown",
   "metadata": {},
   "source": [
    "- En las notas, perdon por los tildes (o mas bien, la ausencia de). Utilizo ingles para escribir y trabajar, y cambiar constantemente de distribucion de ingles a español y viceversa es un poco (bastante) engorroso.\n",
    "\n",
    "- Ustedes son bienvenidos a contribuir mejorando las notas, por amor al arte. Solo hace falta que aprendan algunas herramientas colaborativas estandard en informatica (notablemente, git). No es \"dificil\", pero tiene su curva de aprendizaje."
   ]
  },
  {
   "cell_type": "markdown",
   "metadata": {},
   "source": [
    "## ¿Qué es el Álgebra Lineal Numérica?"
   ]
  },
  {
   "cell_type": "markdown",
   "metadata": {},
   "source": [
    "- El algebra lineal numerica (ALN) en ingles Numerical Linear Algebra, es una sub-area de la Matematica Aplicada, en ingles Applied Mathematics.\n",
    "- Recomiendo ojear los articulos de wikipedia asociados,\n",
    "   - https://en.wikipedia.org/wiki/Numerical_linear_algebra\n",
    "   - https://en.wikipedia.org/wiki/Applied_mathematics\n",
    "- En particular alli encontraran referencias historicas que pueden ser de interes. Ver tambien:\n",
    "    - [The history of numerical linear algebra](https://archive.siam.org/meetings/la09/history_talks.php)."
   ]
  },
  {
   "cell_type": "markdown",
   "metadata": {},
   "source": [
    "En pocas palabras... \n",
    "\n",
    "> *El Algebra Lineal Numerica se ocupa de desarrollar, implementar y analizar algoritmos numericos para resolver problemas lineales.*"
   ]
  },
  {
   "cell_type": "markdown",
   "metadata": {},
   "source": [
    "... A quien le interesan esos \"problemas lineales\"?"
   ]
  },
  {
   "cell_type": "markdown",
   "metadata": {},
   "source": [
    "El ALN es utilizada en casi cualquier rama de las ciencias y la ingenieria, en economia y finanzas, etc."
   ]
  },
  {
   "cell_type": "markdown",
   "metadata": {},
   "source": [
    "Es una [area de investigacion muy activa](https://gist.github.com/mforets/a5bdd7ff87745b868bd4cb35f240a97f)."
   ]
  },
  {
   "cell_type": "markdown",
   "metadata": {},
   "source": [
    "En el curso veremos algunos ejemplos concretos de problemas donde surgen naturalmente la necesidad de resolver problemas lineales."
   ]
  },
  {
   "cell_type": "markdown",
   "metadata": {},
   "source": [
    "Algunos \"fun facts\" interesantes, sacado de [Ten surprises from numerical linear algebra](https://www.johndcook.com/blog/2010/01/20/ten-surprises-from-numerical-linear-algebra/):"
   ]
  },
  {
   "cell_type": "markdown",
   "metadata": {},
   "source": [
    "- Es frecuente encontrar que el ALN aplica matematica muy avanzada para resolver problemas que se pueden enunciar utilizando matematica que se aprende en el liceo."
   ]
  },
  {
   "cell_type": "markdown",
   "metadata": {},
   "source": [
    "- Las aplicaciones practicas a menudo requieren resolver sistemas enormes de ecuaciones, con millones o incluso billones de variables."
   ]
  },
  {
   "cell_type": "markdown",
   "metadata": {},
   "source": [
    "![](data:image/jpeg;base64,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)"
   ]
  },
  {
   "cell_type": "markdown",
   "metadata": {},
   "source": [
    "- En su \"corazon\", el buscador de Google no es otra cosa que un programa que resuelve problemas de algebra lineal. [PageRank](https://es.wikipedia.org/wiki/PageRank), el algoritmo utilizado por Google para devolver resultados de busquedas, es esencialmente un problema de calculo de valores propios.\n"
   ]
  },
  {
   "cell_type": "markdown",
   "metadata": {},
   "source": [
    "<img src=\"https://upload.wikimedia.org/wikipedia/commons/thumb/f/fb/PageRanks-Example.svg/440px-PageRanks-Example.svg.png\" alt=\"PageRank\" style=\"width: 500px;\"/>"
   ]
  },
  {
   "cell_type": "markdown",
   "metadata": {},
   "source": [
    "- La eficiencia en resolver sistemas de ecuciones muy grandes se ha beneficiado tanto por avances en algoritmos (podriamos decir, \"teoricos\"), como avances en hardware, eg. ver la famosa [ley de Moore](https://upload.wikimedia.org/wikipedia/commons/9/90/Ley_de_Moore.png)."
   ]
  },
  {
   "cell_type": "markdown",
   "metadata": {},
   "source": [
    "<img src=\"https://upload.wikimedia.org/wikipedia/commons/9/90/Ley_de_Moore.png\" alt=\"Ley de Moore\" style=\"width: 600px;\"/>"
   ]
  },
  {
   "cell_type": "markdown",
   "metadata": {},
   "source": [
    "- Muchos problemas practicos se \"reducen\" (en un sentido matematico, formal) a problemas de resolucion de sistemas lineales, incluso cuando el problema original no es lineal. Algunos dominios:\n",
    "\n",
    "    - Optimizacion.\n",
    "    - Ecuaciones diferenciales.\n",
    "    - Ecuaciones en derivadas parciales.\n",
    "    - Procesamiento de señales."
   ]
  },
  {
   "cell_type": "markdown",
   "metadata": {},
   "source": [
    "![](https://upload.wikimedia.org/wikipedia/commons/thumb/7/72/Max_paraboloid.svg/440px-Max_paraboloid.svg.png)"
   ]
  },
  {
   "cell_type": "markdown",
   "metadata": {},
   "source": [
    "<img src=\"https://upload.wikimedia.org/wikipedia/commons/thumb/d/d6/HD-Rayleigh-Taylor.gif/440px-HD-Rayleigh-Taylor.gif\" alt=\"Rayleigh Taylor\" style=\"width: 600px;\"/>"
   ]
  },
  {
   "cell_type": "markdown",
   "metadata": {},
   "source": [
    "![](https://upload.wikimedia.org/wikipedia/commons/thumb/c/cd/Elmer-pump-heatequation.png/440px-Elmer-pump-heatequation.png)"
   ]
  },
  {
   "cell_type": "markdown",
   "metadata": {},
   "source": [
    "![](https://upload.wikimedia.org/wikipedia/commons/thumb/1/11/Cosine_Series_Plus_Noise.png/400px-Cosine_Series_Plus_Noise.png)"
   ]
  },
  {
   "cell_type": "markdown",
   "metadata": {},
   "source": [
    "![](https://upload.wikimedia.org/wikipedia/commons/thumb/f/fd/Cosine_Series_Plus_Noise_TFM.png/400px-Cosine_Series_Plus_Noise_TFM.png)"
   ]
  },
  {
   "cell_type": "markdown",
   "metadata": {},
   "source": [
    "- En el software de [elementos finitos](https://en.wikipedia.org/wiki/Finite_element_method), el metodo mas comunmente utilizado para resolver problemas \"aplicados\", se pasa la mayor parte del tiempo en resolver sistemas de ecuaciones lineales."
   ]
  },
  {
   "cell_type": "markdown",
   "metadata": {},
   "source": [
    "<img src=\"https://upload.wikimedia.org/wikipedia/commons/thumb/3/3b/Human_knee_joint_FE_model.png/490px-Human_knee_joint_FE_model.png\" alt=\"Ley de Moore\" style=\"width: 600px;\"/>"
   ]
  },
  {
   "cell_type": "markdown",
   "metadata": {},
   "source": [
    "![](https://upload.wikimedia.org/wikipedia/commons/thumb/4/4a/FAE_visualization.jpg/500px-FAE_visualization.jpg)"
   ]
  },
  {
   "cell_type": "markdown",
   "metadata": {},
   "source": [
    "- Lo mismo se puede decir del aprendizaje por computadora (*machine learning*)."
   ]
  },
  {
   "cell_type": "markdown",
   "metadata": {},
   "source": [
    "![](data:image/jpeg;base64,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)"
   ]
  },
  {
   "cell_type": "markdown",
   "metadata": {},
   "source": [
    "- Hoy en dia, un sistema de un millon de ecuaciones se puede resolver con una PC como la de ustedes en fracciones de milisegundo (ms), dependiendo de la estructura del problema. Los dispositivos mobiles tambien cuentan con CPUs que pueden ejecutar millones de instrucciones por segundo."
   ]
  },
  {
   "cell_type": "markdown",
   "metadata": {},
   "source": [
    "![](data:image/jpeg;base64,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)"
   ]
  },
  {
   "cell_type": "markdown",
   "metadata": {},
   "source": [
    "- Los metodos iterativos son metodos que en teoria requieren un numero infinito de pasos para resolver un problema. No obstante, son a menudo mas rapidos y tambien mas exactos que los metodos directos, si bien estos ultimos producen - en teoria - un resultado exacto . . .. en un numero finito de pasos!"
   ]
  },
  {
   "cell_type": "markdown",
   "metadata": {},
   "source": [
    "<img src=\"https://upload.wikimedia.org/wikipedia/commons/thumb/2/24/Exactitud_y_precisi%C3%B3n_02.svg/600px-Exactitud_y_precisi%C3%B3n_02.svg.png\" alt=\"Ley de Moore\" style=\"width: 600px;\"/>"
   ]
  },
  {
   "cell_type": "markdown",
   "metadata": {},
   "source": [
    "- Hay muchos resultados teoricos o teoremas que dan una cota del error producido por calculos numericos en una computadora. Es decir, en dicha area los resultados no solo garantizan los resultados hipoteticos hechos con aritmetica exacta, sino que tambien acotan el error dado por la aritmetica -- ineludiblemente inexacta -- que se usa en el hardware. Estamos hablando de la [*aritmetica de punto flotante*](https://en.wikipedia.org/wiki/Floating-point_arithmetic) y veremos este tema mas adelante en el curso."
   ]
  },
  {
   "cell_type": "markdown",
   "metadata": {},
   "source": [
    "![](data:image/jpeg;base64,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)"
   ]
  },
  {
   "cell_type": "markdown",
   "metadata": {},
   "source": [
    "- En aplicaciones reales, para resolver $Ax = b$ casi nunca se precisa calcular la inversa de $A$, es decir, $A^{-1}$ de forma explicita."
   ]
  },
  {
   "cell_type": "markdown",
   "metadata": {},
   "source": [
    "![](https://encrypted-tbn0.gstatic.com/images?q=tbn%3AANd9GcSlh_lfolqHKE68kYAbK6JyVBdUcWJwwoIGAra5hc-vvkZWmXBT)"
   ]
  },
  {
   "cell_type": "markdown",
   "metadata": {},
   "source": [
    "- Existe software (de codigo libre y propietario) muy potente para hacer algebra lineal numerica. Si bien la gente genera nuevos programas constantemente, y el ALN y las aplicaciones son un area de investigacion muy activa, el conocimiento y las tecnicas son hoy en dia mas potentes que nunca antes porque el ALN es un esfuerzo colectivo que ya lleva muchas decadas de desarrollo."
   ]
  },
  {
   "cell_type": "markdown",
   "metadata": {},
   "source": [
    "Conviene resaltar que\n",
    "\n",
    "> **La eficiencia en los algoritmos proviene en gran medida de explotar la informacion disponible en los datos del problema**.\n",
    "\n",
    "En otras palabras para la resolucion efectiva de problemas en ALN es problem-dependent: cuanto mas se del problema, puedo desarrollar/aplicar una estrategia o algoritmo que se adapte mejor."
   ]
  },
  {
   "cell_type": "markdown",
   "metadata": {},
   "source": [
    "El grueso de nuestro curso consiste en estudiar el problema\n",
    "\n",
    "$$\n",
    "Ax = b,\n",
    "$$\n",
    "\n",
    "donde $A \\in \\mathbb{R}^{n\\times n}$ es una matriz invertible dada, $b \\in \\mathbb{R}^n$ es un vector dado y $x \\in \\mathbb{R}^n$ es la solucion que buscamos.\n",
    "\n",
    "Este es el problema de *resolver un sistema lineal*, cuya solucion es, por supuesto,\n",
    "\n",
    "$$\n",
    "x = A^{-1} b.\n",
    "$$"
   ]
  },
  {
   "cell_type": "markdown",
   "metadata": {},
   "source": [
    "Ahora bien, nos planteamos algunas preguntas:\n",
    "\n",
    "- En que medida $A^{-1} b$ ayuda a obtener la respuesta?\n",
    "\n",
    "- Cuales son los problemas que aparecen? Es decir, como se calcula y que dificultad tiene obtener $A^{-1} b$?"
   ]
  },
  {
   "cell_type": "markdown",
   "metadata": {},
   "source": [
    "Resolviendo problemas de matematica aplicada, tales sistemas lineales vienen de cierto contexto, y son sub-productos de otro paso matematico (profundizaremos en esto mas adelante).\n",
    "\n",
    "- Como puedo utilizar la *estructura* del problema para resolver $Ax = b$ de forma *eficiente*?"
   ]
  },
  {
   "cell_type": "markdown",
   "metadata": {},
   "source": [
    "- Es la matriz $A$ esparsa (~ contiene muchos ceros) *sparse*\n",
    "\n",
    "- La dimension $n$ es \"grande\" o \"pequeña\"?"
   ]
  },
  {
   "cell_type": "markdown",
   "metadata": {},
   "source": [
    "Veamos un ejemplo. [El siguiente diagrama de flujo](https://www.stochasticlifestyle.com/algorithm-efficiency-comes-problem-information/) es utilizado en el software MATLAB para el comando \n",
    "\n",
    "```\n",
    "A \\ b\n",
    "```\n",
    "\n",
    "que se utiliza para resolver el sistema lineal $Ax = b$:"
   ]
  },
  {
   "cell_type": "markdown",
   "metadata": {},
   "source": [
    "<img src=\"https://i1.wp.com/www.mathworks.com/help/matlab/ref/mldivide_full.png?resize=593%2C941&ssl=1\" alt=\"Diagrama de flujo para A \\ b en MATLAB\" style=\"width: 400px;\"/>"
   ]
  },
  {
   "cell_type": "markdown",
   "metadata": {},
   "source": [
    "![](data:image/jpeg;base64,/9j/4AAQSkZJRgABAQAAAQABAAD/2wCEAAkGBxITEhUSEhIVFRUVFRUVFRUVFRUVFRUWFRUXFxUVFRcYHSggGBolGxUVITEhJSkrLi4uFx8zODMtNygtLisBCgoKDg0OGhAQGi0lHSUtLS0tLS0tLS0tLS0tLS0tLS0tLS0tLS0tLS0tLS0tLS0tLS0tLS0tLS0tLS0tLS0tLf/AABEIAMMBAgMBEQACEQEDEQH/xAAbAAACAwEBAQAAAAAAAAAAAAADBAECBQYAB//EAEIQAAEDAgMFBQUFBQYHAAAAAAEAAgMEERIhMQUGQVFhEyJxgZEUMqHB0SNCUmKxB5Lh8PEzQ2Nyc4IVFiRTorLC/8QAGgEAAgMBAQAAAAAAAAAAAAAAAgMBBAUABv/EADERAAICAQQBAgUDBAIDAQAAAAABAgMRBBIhMUETUQUiMmGBFEJxI5GhscHRUmLwM//aAAwDAQACEQMRAD8A+Grjjy44LExDJjqoZY92oYOvAfMpO3ezTdy08P8A2fQhJIXG5NyU9JJYRlTnKbcm8srZcDjJdoUDYxDsjQNlmFQ1HElSkX66sI9JO1vU8lyhKRFmorq47YnLVOPGw5BOjBIzrdVZZ5wvsCsiK6iSGKMhqDLCNRuDVTLCJRuD9Fk9iu3E+gz3ZLtxzpI7JduI9IgxqcgOplC1TkBwIAUgYfgYirXDXvDrr6oJVplynXWV/VyvuOxStfpry4pEouJp1XVXL5e/YrJEpjIiykVkjTUyhZVgC4I0yrKOChCkW0Xp5yw3HmOBCiUVJYGUXypluj+V7j0pDhiH9EhZi8M1JuN0N8TPlYnxZk2wwwRCMrs8uOPLjiFxxZgUMKKyxtlmi58uqX9TwX44qjuf4FXvJNymJY4KE5ubyzwC45Iu1qFsbGIxHGgbLcK8jLWgC5yCW8suxioxy+hWerJybkOfEpka8dlG7WOXyw4QuAmMqJNl2xoWxsaw7IUDkWYUBmwIHIsx04VsCHePjpi4gQ7hy05JhXKRLoPdgu3EfpyDAp3gvT+wIwItwmWnBPhRKRXnQBfEjUivOnAJ0aLIh1tFbWRC0nHlDsFZwf6/VJnX5RpUa79tv9w0kaWmW7K89CksacmZ9lYFwRplWUShUimi9PNhPTiFEo5Q2i51Sz4GZowcwlReOGXbq1Jbl0JSNTkzNsjhlEQohccSuOGIGc0uTLlMF2+gc0lz04IlHCEW2OcvsUAUgJBGNQtjYRyMRsS2y5XWHyAuUHLfBazGEd0uhOeYu8OAToxUTNuula/sUaxS2BGGRiOJA5FyunI1HClORdroGGRJbkXIUkyPY3VwHTiuUZM6y2mr6n+ADtos4NJ9AmKl+WVJfFK19EWwTtpO4NA9Si9GPkS/ilr+mKRQ7Qk6ein0oC38Q1H2/seG0JOnou9KBy+IXr2/sEbtE8WjyyUOleGMj8Tn+6KYZlaw63b8UDqkuizDX1S4kmgwYCLgg+CDlFpRjYsxaYJ8KJSEzpAPiRqRVnSAfEjUipOoC5qNMrSjgLT1BbkdP0QyhnodRqXXw/pG3sBzCUng0ZwUlldCkrExMo2VgCEwqNFCFItoYpJfunTggnHyW9Lbj5H0TURqIsK+rDFHBNRnyRCkEtG1Q2HCOWFmdYWHmhivI+6W1bF+QICIrpBGhQxsYh42JbZbrgMAAC5QdltJRWWJTylx6cAmxjgzLrZWv7HmNUtnQhkaiiSpSL9VI5HEkuRo11BJHtYLuNunEqFFy6G2210xzJiM9c52Te6Pj6p8a1Hsyb9dbbxHhCwiJR7irGmTCtp0DmWIaZhm0yFzHrSfYkUyjeGtKe9mXeod+kKmmU7wHpAboESmIlp2igaW5g28EWUxShODyuBqCu4PHmPmEuVfsXqde1xavyOYQRcG45pTyjRShYsxF5I0SZWsqFZIkyMihZULOYmplKcMBaWfDkdD8EM4ZHabUem9sumNSsSky/bDPKFJGJqZn2QAkIys0UUi+h5rsTb8dCktbWacJerDPnyKStTYso2wwwNkRWGIhYX5IHy8FutKMdzAk3N0fRXb3PLLAKAkg0bUDZZriMxsS2y9XAXqpbmw0CZCOOSnqbt72rpA2NUtiYQyNwxJcpGhTUOwxJLkadVSIqaoMyGbvgFMK88sXqdZGr5YcsziC43JuU/KXRk7Z2S3SeWMxU6XKZdq0w0ynSnIvQ0+EHbTdEOR6piiSGjUhdyTuhHtnu0j5/AqcMF21kY2fi+BUYZPqV+5YNadCCu5CWyXTKPp124GVKF5KdGpFWzTCssKYplK3T4BxSOYbj04FG0pLkr1znRLMTShlDxca8RySJRcTZpvhfHK79gcsa5MC2sTmjTYyM22oUe1NTKE44GqKa/dPl9EuyPku6O/P9OX4LysQxY62Aq9qamUJwwCIRortBKWSx6HIoZrKHaezZMLUMQRY/UQEyE4zWuQs50CGPuWLnhKANoUiUgjWoWPhEYiYltlyuBeofhFuJ/m66Cy8h6iz04YXbE2tTWZ0YjUUaVKReqqyPQRpMmalNWCKyowd0e8fgprhnlgavU+mtkOxGOIlNbwZtdTk8sehgSZSNSqhIcjh48EHZejBR5KyVAGTc+q7aLld4iBcXO1P0RcIU1KXZ4QqNxKoLiBduGKg8YF2SfQK9kuyA6SWSOb9Cuxk5SlEOyVrsjl+i7A2Nil3wVlgXZIlUnyIzwJkZFC6j7Cou03GSZw1hmfiVUt0TShkD2348QkSW1mzTbG6GfIGaNSmJurEpo0+LMu6vAucimdlJpxeUaMbsTb+viq7W1m1VNXV7vICViOLKtsMCzwmIpTQMhEJaHWnE2/LJJfDNKL9SrIk4Zpxmyjyzz3XN1y4REpbpNktChhxQZgQMs1xG42pTL9cfIlM/E4nyHgnxWEZls/Um348F4mIZMbVAegjSJM1KKxiWXA2/HghjHcyzdcqYZ8vhGfGwk3OpT5PCMmutzllj0EKRKRq00YHQA0XP8AFDgttqC5FpHl3QcAi6K73TZeODooY6FI5FSHkuxksKMV2F7Fo1I8Bn+i7AX8E2Z19FOEdyeIZ19F3B3JUwA6EFRg7ACWmXYYEq0xZ8S7IiVZMUpGRzH6eC4iM3HhhZYQRcaFQMlCMkZ88CZGRn3UCsbyx1x5jmExrcsFCEpUT3I0nWIuNCkdGzlTjleRSZiZFlG6sQlYnRZlWwwEopLOtwP6qLFlB6OzZPa+mMStS4svWxFJGpqZnWRAlGV2g1I7MjmEFi4yWdJL5tvuUeMz4ol0JkvmYEIiukFYELHwQzE1LbL1UQlS6zPHJDBZkN1M9lWF2xJgTmZsIjkTEmTNGqA7CxJfJqVRx2J1D8bugyCfFbUZd03dZnwhmniSpMvaeo0Y2BoudEBf4ihZxLjc+Q5KRKTm8jMNOuSLMYJcjoaG65nl9VOMB5b6Iwud9Bl6813JKSXYZlIjUDnNBPZFO0H1EQaXou2keoDfSrtmQtyKFpGouOuqHDQTimDfECLjz5ocZI/kSlhUdCpVlYZC3I6H+brhccx/gJPCoClFMy6iJNjIy76ey+zpdWHxb8wusjnk7Q24brf4DTxpa4LtsBCeNOizKvrE3CxTkZslh5RpA4mgqu1h4NqMvUrUhaViZFlKyAs8JiKU0Qw2N1z5QMHtkmGeMz4lQkOnjcxZoRsrRQeNqBlmuI3E1JkzQqiArnd4DkEytYWSprZ5sUfYpE1TJgVRHoWpEmatMA1U7Czqch81FazIbqp+nVx2xSnYjmynp6zWpY0rtmxXHCPVb7nCNBr4qQJNyeC9NDdQuSxCOFk0T3chqfgixgJZkWgpr68eaJQJcsIanMcTcUjsI+JPJo1KdGpy6KOo1ldKzNmNU7ynSKMAfifmf3QcvUq3DTe5g3fG5Pitf3EH7cqD/eW8Gt+YTVRD2KEvimpf7i8W3qgaua7/ADNH/wA2UPTwCh8W1Mf3Z/k06LeFjspG4D+Id5t+vEfFJlpmlwaen+NRbxYsfdGq6IEAixBsQRYg+BCrNNPDN6u+M1mLyAZRyF32THvI1DGud5ENCF1t9IbK6EV8zS/ljMmwah4u2lnHTspPmFHpSfgr/rKE+Zr+4Mbl17tKWQdX4WAdTiIUfp5vwLs+IaVcKWf4MmNnvRkglhIuDdpANjhI1HI8QlNYeCxXLdFNeRGqjXLsXbHKMyS7SCNQbhOjysGRYnXJSXg1nODgCOIuktc4NiM1OKkvIhUNRRZSviZ8rU9GRbHAzQOyLeWfqgtXkuaGeYygelCiJNqFZAmooWIEUQhkF6kjcSwKGTBDEQS5FytDkQSWaNaM+Q3cT1VhcIx7Husb+4eFqCRbpiPwtSJM1akBr3XcByHxKZWsLJV1r3WbfYJTtQSY/TwNOPutLuQ+PBCi/J4iLQMuVzBqh5NaljDRiOgRpDm/CL08dzco4rLCfyobr6ptPHjdmTkxt83H5AXzVqqlyf2MnX66NEMvl+DjKqofI7G83PwA5AcAr8YJcI8fdfO2TlN5BAIsCMnUbi7stq5XvmcWU1OztJ3jIkZ4YweBNnEkZ2B4kIJywHBJ8s0Krc5h2yaCO4hxtccySyLs2yPGI53zLQfzBTKXy59zkvm/g1v2n1FNNQUc1OwMYJpoogAB9nHiYcNvukxNI8Qhrysr2Cn0cFsfaTonAE/ZuPeB0bfV7eRGvWyG2pSWSzo9bOiWE+PY+t74T1FORFAXQ07WtEZi7okJbclzxmXXvlfhfiq9iaitpt/DlTe3K3Dk/f8A4MnYEs7+0qKisqG00IHaETSYnvPuxMz1OV/Ec7hMN0nnPCLmt9KG2uutOcuuOvuYe8NY6V7rOlEZPdjkmklsLcS4553Pml3Sz0WtLpoxglKK3fwc+04XA8v0VYstcn03dDY1NE1stTG18ksUszWvaC2KmYBeQg6F2JvWzrcCr1Fa4b8nm/iOrssk4V/Sv8s+bbu7vurKhsIOFti+R5/u42+84345gDqQlRW6bSLGrl6dacuze3x2ZSQOhjpL4DAyQkucS7tHOLH97S4F7ZcMkWorjFLHfIfwm6c4yUuk+DkZwqyL1qM6dqdFmRfEmlYWuGIEYm3FwRcHQjmLg5orF8ovRzxdgPM1JiaFyE5QnRM2xACjKzKFSKCsQsfEZiCXIu1IZGQJ6FK7Zd6g39jOYrLMaHLHYAkTZp0RHoAks1KlwJSG7yeqd0jMfzWNjlM1KZo0IcrDZrRzz9P6qRthNGzNd5HVLCNOo0a3z9Mh801+xMOW2bGxtkSSMklaBghGJ5JGQsTkOOTSU+mvcUtZrIUtKfk4fbFcZpS/7o7rByaND56+a04RSieL1mpd9rk+vAkAiwVCzQpSIZ9P2NSmOk2bRM9/aFQKqfW/s8ZD7dLsYz0dzSHypSf8FlLGEAO0hfbW0gdf+lhcP8V3Z4h/tZG5G4rek/CA8Mwt9X9nDQUWhgpRJIOUtSRIWnqAB+8or6z7sixnJBGLOz3RqqypjNN9vNEzNlg97IyMsGK1hkcgTlmq10OODZ+FXwhP5/wzoN6oXQU1NTFpaA0zykggGWQnC0nS7W3FvBIlFqvHubWgnG7Uzub+y/g5z3mA8svT+FlVwa7+WROwNle0VUMJ91zwX8gxnef/AOII80MYbpJCNdb6VEp+fB1O9G0z2UrtJK0gMH/aoYyREOnaZutyeeSu2y2xf9kYWgo9Scc/THl/eT/6Ft3dntZQPc8ljapxM8mf2dFAbSAfmkcSwAZntAfuoNPHEXID4lZvv2r9v+ziq3bDqqrmmIwiT3WfgYyzY2DwaAPG6TdLc8rrwW/hsXXLa/PLFKgKuatiCbv7GNVVQ0+dnv75HBje88/ug+dk6tZZj617YNjn7R9rNm2gRHYR04bTRgaWjJxWHLEXDwAVm9/t9jM0mYyU37mJOFSRvWoRmCdEzLQBTEVGUKkUFYhZZgNRBKkXqkHmyY7wQR+pFm7imQhGE9mTWh6AJEjVpQ/A39Eo0o8RM6MJzZl1x5Oo3X2E6omZG4mNhYZnyOFg2FurxfUE5A6XUQrc5JFm3VRoqc1y+vyTvhswU1W+BpLmsw4SbXIc0PF7cRit5I7q1CWF7EaPUvUwU5LnlC9AxLgjUXETf2Fsh1VUtjAdhu0Pe0XDGgXNzoCdBfiQrEINv7FTU6mOnpcvPhfcd3spDRU84bMwmUGHA113tie8WxkWFyAAfE24q9VBRllM89rNX+oo3Sj158ZPmdlbPPDWz9mzTuwQRPlda+FjS4gczbQeKh4XZKTYSs2RURBnaQvYZQ7sw8YS6zsPunMd7LOy7Kwztrykz6TvBMKaWqqQbey00Oy6T/VfEHSPaDxYxxPmkwWWl7csfJpJsQ3e2Uw7JidKbU4rJKuoPOKnjEQiHMveGtA6nkollya/hf8AJEek3/Jwm2NovqJpaiTJ0jy88mjg0dA2w8An4SEt5fBvwbiSdmx09VS0z5G444Z5cEhadC4W7vx6pe9MNx4D7vbbrpqmloGT4ImyNiwQWYwsjuZHYmZvu1jje+eqCyKUX9xlcvmR9Bg2tK6WoqXTObSRON2Wa4SZ4WRsDgbX7pJFveHO4S87uOkbfpQVUK4xzZL/AAZMOzP+IRTVDOzZMH4RTsDGNawaFxyu43JxHI2t4LW2zPgtyuloZxrllx8t+/2+xSioRs2KermMUkhb7OyFjw4NdJZxEjhxwtvYcL80EYbG5vwRqr/1s4U1ppZy2zlKR01XK4El800mttLgC9hoxoA6ABV9zskaW2vS1ZXCX+Tvd49n01T2ey46wRvjYGtiDCQ98bbtEr9Mhc4b8Scza1tqO1Vt4Z5yuVkW9Q45T8/9HxukiLagMI72JzC0ZnFmMItqb5KrKO3K9jTpsXqKb6NzeLYctKWNmDQ6RmPCHBzmi9rPHA+qGyqUEmy9Vqq9RnZ48mhufL7LTVm0PvNYKaD/AFZbEm3QYD4XTtPxmb8GR8R+earR8+ec1AhrDRpTKujZs6EJgnRM21C7kaKbBlEKDsQMswGo0qReqCz+4fL9UMfqH3//AIyE4wnMzq0auy6KSZ4jiY57zo1oJPjloOqVtlJ4RoRnGCzJ4Ozh3LdE3FW1MNKCPdc4Pl04NBsfIlMWnxzOWDpfE1JONMHL/QxTUdBT0z6unh9oDDhZPWksjkff3YIGi8hH5gLWOeRTlGCjuX+TLU7pzUJPGfC7Gd0mTVYnlkdd1RLFE92QEcEP2s9uDWYeyZYfiCindPMmWNYq6XCC8Jv+X0v8nM737QFRWzTD3XuGH/K1oY0+YaD5pN8lKfBpaCh01JS7fL/lmnu4+jYwPmZJNLcgRAhkQGVi92rvAeimnYu+x+pWql8tTSj7+TrNibxzufUGzI4aemke2KJga3GbCO51J976K1XNuWDJ1uhhCEOW5ykllmfsDd6OrBbKCYmYSWtOF0r7Oc2MHrhJNs8ut0VUnkH4tKMa1D/7g+WvIJJDcAubNJJLBc2aSczbS55LQR5eXZ3e2WyUlHRUFO50c1WGz1D2Ete50rmthjLhY4Rci35BzKR9SlJj+mkN704qrbkNOzE8QPp4zx7sbhLM8+RNz+Vd9NR3diE96xPtLaMlPC3BFTvlDnONo4++TPUTO0FyDbo0AcUX0oh/N30H3rpnvZQbLoC6WMxduOHamSR9pn/hZk92eQxjjZBGSScvcKSzwujja2ligquzLxNHFKwPe0d14aWmUNGdxfG0c7dUyTzH8ClhSR0n7TNm1Mlc+obFJLDK2MwSRMdIwx9m3IFoNu9iNut+Kiv6UHZFt8FdlU79mUk1ZM0x1NQx0FHG4FsjQ7+1nc05tAFrXH/shfzP7L/YUVtR2FPSOn2c+GAYpGT43MBAc5uGwtfXK37hVZNPcj0CmqdVCyzhY7M+GmdR0s4mGGaqwsbGbYmwsJLnvA0uXOFvDqlR+TMn30i7bNavUQVfMYct/cLVbu46CkJnigh79RM9+pfLhwYWj3iGDDa6jbmvGcc8lf8AVuOrnLa5PpYCbq7Sp4W1MlLG7saeO75ZP7WpldcRMHBkdwe6M7lpNuPU7E8R8dsRrYX2OKsfzPpLpA97drNopRUU1HDiqGY4qrvON3jvWZoH53y1xeKmyeMTSznyDp63dBwsnhR8HL7NiGzsNRM0PrpQXU8L8zA0g3nnGuM/dbrqT0FZinOXZzSvsVUfpQ3+02ICr7Zpu2eKOUdBhw28O6D5oNVztl7ovfCpf0pR9mY29cvZ09LRN+4z2iYf41QA4B3VsZaPNc/lgolWMfUsna/4Rx0ihCJ9mlKkI2JvgSmTYmdaKlMRRZQohYdiBlmAzElSL9YaT3HeCGP1Fi1ZqkJRprM2pn0ls76PZED6c4H1cj+2mb7wDS4NjDtW5D4O5przGrMe2DDbdq9lj4Xj3Obhje5+EgmRxw96+IudkL3zvchU+XLns9DHZGvMekvBr7+OPtMVBCC5lJHHAxrRcvlcGue4AauJLR4gq1f4gjB0GPmul5/0jp56Kpgp4NlQNxTTNdNUFptgY51izFwbkAXccNhqjUZQioLyTXZTdfLUW/THCX3Oco925Jq1tM/uWxdq7I4Gxk4yOB4AH8wSFS3PYzUt1sIU+vH8HSUjaAU1VUUscgsPZWmUhwd2paO1ZyOG56DlcqzBVrLS6KMrdVOyuu18N7uP9C0H2dFUSaGeaCEHpGDK74Lqvpb/AAWb36mqqh/4psdfPJTRQOa0/YyCaTm6VzQ4w21xCmdh8XnkmxWEUNVtvnOWeuEvsu2ch+1TZ7ItoTNjyEjWykaAPeCHW8SC7/crkJZgmednxI6zbO0NmOqKXaT6oPwRwtbSxgF4cx5IfJY3aGYiS0gXLBa97FKy4bcDG1uyZe2N86aCpc/Z7C7tJhLUzuvimAeHmCLFmyM8TbPLhqW1yXIG9J8GPvdvxJWYo42CCFxDnsbbFM78UzgBi0GXTO+VjhHHYMp56KVG/lSaWOkjDImsiZA6VgPbSRsGFrcX3RbW3XS6GMFFhSsycqjQs1Nlby1lM3BT1Msbfwg3aL62a4EDyQOMWEpMHFNLVVLDNI+R73NxOe4uOFuZGegABy0XTltix2ng7LYxOuqqlzDiY5zXc2OLT4XBWfJnuqqoySUkn/IlHI52N7nOcTYFziXONuZOfFIzl8lhwjHEYpIzaqQm1yTbIXJy8OSVKT6GbIrlLkPSVTxC6PEezdJjLeBcGgAnnZdGTSwiu6oOe9r5vcZpt9KyCLsY5BgHuYmNe6O/4CdOmtkcLZRWEUNToaZT9RrkBu3tyIipgrBK/wBpMchmjLTMHREuzMmRBv8Ar5NjZhPd5KHoT9WPo4WP7De0dowVdZF25dDTNDIRbNzIo2nDcgHMu1IGV+NkE5xnJLpIuxos01EtvM28v2OT2sWdpJ2Zc5mN2BzveczEcBd1tZQ8buOhUsqCysMzCM0a6KEuZGhMkI1rOhGZOiZ1ouUaKciiISHYgZbgMxJTL1YyBcEdCl5wy5tzBr7GfGrDMeHDwdNsPeqrp4zFDNhYSThLWPwk6luIHCh9SUVhMtLTV2vMkbG4sJmr4nPJdZ7p5HE3PcBficeJxW9UNOZ2rJc1ko06RqPHhGbQ7Wm9vdNCG9tPI8Rue3EY3VDrNe0cHAOyvdMc3vyig6FGn05eEfRa7bF9qQ0lMSLPibPID35BC0uEOLXA0YiRxc519E6yx74xX5KtGmj+mndPrwhNk+I7WqGg3bFPG1w4B7y3I87RtKnPzza8L/gbZFKmit+Xz+Sm7WwXy7MAdI2FpqvaHPff+wbF2Ydb/MCRfLK6GqOa2n5H6nWRhrFJLc1HCS9zQmq6A0kbgThp5XvbAffqHi7WOk5NdcOPAAkZWTN0NuAI16z9Q+OZLGfbP/RkbJ27K1z3Esf2j+0eJGYm9pr2gH3XDx0AHBLU3nJo3fD69qXWOMo4neztTUySSuLzKcYeeIsAG5ZDDYNsOAC0apqUeDyWt0ros2+H0Yt0RUJBUo4hQcQVBJ667J2Dy446nc/Z5AdUOGt2R+vfd8Leqr3S8G58J03PqP8AA3XyKjNnr6o4QKTusA46nxP8gJWXgnG6WTLlckthSGCLMA42/XNSuhaMiqcuRU1EsFdlDvOPIW9T/BMl0VtGs2Nh6hyUi/Y+DOnKbEyrmLxi7h4pj6KUFmxfyOTFKRpWsSlKajNtYApiKjZQqRQZiBlqDGIylsuVsciKUy/Wx3d/dWaqL3tcyKGN1nzSuwxtJtZvV2Yy6i5zCtwg5rJiX2KqxrzktvDsF9FMIZHsfdgka5huC1xIBtqDdpS7a9pc0l6sXWDpNyvsqauqtC2EQMP55jbLwIZ6rtP8qlJ+A9fL1JV0ry/8FNxNnh+0oHn3I2vld07Jtmn95zFGn5kg/i/yQb9+Cm4+2YhtEVU7gwPdM/EdGulDiL8veI81MZJXbmLtrnLRenDvCNz/AJjZBJ2dFZ0LQ8OMoLhUPksXveMiQMLQNMgeBRTvSfyDKvh8rq91/D4SXskcrtTbM9RK58zszhaWN7rGtj9xobe1gSbXvmSeKrztlJ5bNDSaWulYivy+xugluLHQo4Syi5an2gjHYXYTw06hGmd9aG6qlZUR9m7I6tdxaefhzCfVY4Mytbo1fDa+/DOJr6J8L8EjbHgeDhzaeKvxmpLKPIX6adMsSQrdFkQVJUMnB5QcSuONrd7YLpzjfdsIObtC/oz5nghlZhcF/SaKVzTfR19ZI1rQ1oAAFgBoANAFTnI9dpqFFJLoxYxjdc6DM/IKpJ5Zfk9qwgNdNmgkzorCEYY8TgOGp8BqlgSYStkUnN4RjVLkyKMzUzGqFto7/iN/Lgom+Ruijtr3e5SZyFB2yEJinRRl3SK0g73gFM+helWbM+wWYoIli6QnIU1GfYwJRlZlVIAVpQsfFjERS2i3UxuIpTNCtnWb8gs2ds1jMontfI+2hlIYbnr3pFcxipYMKcnLVScvwcVCVXkjQpeD6DthnsuzKWmOUlQ81Mo4hoFmB3LIs82FMs+SrHlkaV+trHPxEytlbafTtn7NoLpYXxAnVgda7m8zlp4clXqs9ORq6/TLUV4z1yc3C9TJFamzHBq0c+YSejWrnlB6+O/2g/3ePAowZLDKUs9lyeGNjLKwbDSHgDQ8D8k5PIDTg8romCUtNjkVKeAmlJZQ84slbhkaHNPA/qOIPgmxm1ymUb9LGxYksoxavdRhzhlw/lkFx5OGfqCrMdT7ow7/AIN5gzPdupU8Aw9Q8fMBM9aLKMvhd69gkW6U5950bRxOIuPo0LnfFEx+FXPvCNai3bp4+9I4ynkRhZ+6Mz5myRLUPwaOn+EQXMuWaU1cALCwAFgBkB0ASfU9zcq0yXBlPkdIbDzPAeKVKblwXPlgiJ5Q1uFun68yUtvCBjFt5ZkyvulN5JkxmBuBtzq74Dh9VK4Axkz6qXVchds8IzSC5waOJsmrhZMieZzUUak2QsNBkEt8mthRjhCEz0SRSumIyuTkjLsmGpBYE80M3zgdpViLkVlcuiiLZCrymopTYIlEV2G7JDkd6QNpUsXGQeNyBot1yGo3JbRdrkdZsjbkDqY0Vc17oL445I7drA7m0HUZu9SLEHJlVuPll0I1mjc36tfa7+5akqNiUpErDU1j2m7I3tEcYcNC+4F8/HwTv6ceTOUrp8LgxNs7blq53TynvOsAB7rGj3Wt6C58yTxVa2Tk8mvo4KmOERTvVdmzXLPAlWRYHZaHMfRNg9yMzUV+lZ9mFppEEkWtPaa9JPwOYORQJl9/MgFTAWG4zadD8j1RCs4C0tTbiuTwPTUuDYZM14s7yI1CapZ7FOMoPKIMbhmO8OmvoiCVkZd8MllWpUiJVphW1vVTlAeiir61RlEqkA+pJ0vfpmhyMUYrsqKdxzf3Ry4/wXckO2KWIlZ6hrRZosB/OfNC3jo6MW+WZc0tylN5DbCUsP33aDQc/wCC4U3kpVzKTm8IyqiVHFGdqLQmzorXeeOTfmV034R2ir7sl+C80iFIs2TM+Z6bFGXdMVOZTUZ8nl4HDkLJXbNH6IpIWkcmJFOyQu4o0inJkRC5Ut4RFa3SwMkoC2+xdwsbI1yVJJxk0y7ChY2DGI3pbLtchqJ6XJF6uYnOzC7ocwmxeUZt8PTsa8PotE9Q0MqsH4ZEmSNSqwbc0PbhPkeRS09rLVlathhmYLtNjqE/hrJlRbrlhj1PKlSRpU25RqQTAjCcwdQhLTW5AZ6Mt7zc2/EeP1RClmLKw1BCjoepprDH4K8hEpsGVcZDQq2u94A+KPcLdUl9LJHZH7voT9VOUD/VXk8TEPu+pPzUcHf1n5IfXAZNAHhku3JE+k39QhUVpKFyGqMUJPkugOcw8dNxf6cfPkuwBnJSpqLrjujOqJUcUU77cC8ERe7pxKY3tRSrrd88eDQmflYeST2zVliKwhCZ6ZFGddMSkcnRRm2TJpWXN+S6bwidLDc9z6ReVyGKG2zFXuTEihOQIlGhDYelbqUE/Ys6aPciC5cc5BKxmjueqiD8DNXDlTXkA0oyqmFY5A0WYSGI3pbRbrmFnZib1GiiL2sddX6sOO0ItdZNZmxljsaikS5RL1Vo5DKkuJo1WB54cY/MNOvQqIy2sZdQro5X1CLXEGx4JrWShCbg8MdhmSpI0qrcmjTVZCFcFh4YWSKN+Y7p6aeYRZQDi0KvpXjhccxn8NV2DlJg+0I5qA1MuJyuC3njMV2SN5QOJ0z8M1xDmFjpnHXujr9FOBbmFbgZmMzzPy5KDuWLz1F1xLkkITTI0inZchdjC82HmeSZ9JTxK6WI9D7bNGEf16pTeWaVcY1R2oWlkUpFe20QlkTooyrbOQFrmwTOio8ylhDlrABJ7ZpJKEMIWlcmxRStmLuKNFOTKogO2NvyFkrtl9/JDaLYkZUyPNGJtknp5NNJW17REhOMtpp4ZZpUMZGQZjkDRZhIaielyReqmCrIvvDzRwl4ZW1dP74gGORNFaExqKRLlEv1XD0MqTJGnVaGliDxyPA/VRGTiMtpjasrsScHMNj/AF8E3iRQe+p4kGjnQOJZheMR1CDBajchhlUeajAW5MKau+ufjmp5OwiRMz8DfQWXZIx9zwmZ+BvoFKZ237njWW0FlOSMYAyVa7J25IUknUJC52pC0kyYolSy8iGAvz0bz+iltRFV1TuefHuOXDRZun85lLfLNCKjXHCFZZUSRWstE5JU1RM223Is9yYkUpyyMU8dhc6lBN54LenrUFufbKyvXJA2TFXuTUilOWSiIQw1KzO/Afqgm/BZ00Mvc+kTO5RFBXzyxdMwVMjUEiVJF7T2YLVbPvDzXQfgLVV5+dC4RlRF2lC0NjIOxyFoswmMRuS2i7CSawxWohw6aJsZZKF9HpvK6KMcpaFQngZilSnEvV3DkUyU4mjVdkaDwRY5hB0W24zWJAZKPiw+R+RRqfuVZ6RrmDF3EtyII8UeE+iu5ShxJEiZQ4Bq9lxMh2hq8nt120JXnjOu2ku9FTOp2gO8o6dSoCpXkMjc7QZczkFPCAjGyz6UMx0zRm7M/D+KBzfgtV6WMeZ8stJKoxkbKaS4FZZUaiVLLhSWVNUTPsuyAc5GkU5SYSCLifJDKXhD6Ks/NIJI9QkOnYLPcjSKU55BFGIZDW3NlzeAYxcnhDju6LJXbyaLxXHahR5TEihOWWVsiALMcoaDhLDHIngix4pLWDSrmpR2sXkZYpieSnZW4PBAUgoI0oWh0WGY5A0WITDsdwKB8FuMlJYYtNT2zGiZGWeyldp3DldA2lE0JTaDRyIHEsV2NDEcyW4lyu9oZjnQOJcheGbODrn4ocNDvUjJYZR8TDwt4FFuaFSoql4BmlHBx8wp3iXpV4kV9l/MPQqd5H6WXuT7L+f4Lt5P6Z+ZE+zM5k+gUb2StNBdss3A3QDx1/VRlsZGFUfB59QuSJlcvAF86JRK87xeSZGolSd7F3yo1EqytyDJRldyyGhi4n0QSl7Fmqn90gkj0KQ6cxZ7kxIpTnkEUQhshSCNQx2FzqUuTzwXqa9i3PsDM9FFCLZ5YFGVjy448uOCRvQtDq54Yz7wsl9MvcWrHkAWo8lRxafJLVDJiEaVA6LDMKBosQkHY5Ay1CWeGDlpeLfRFGfuJt0meYCxajyU3FrssCuCUsFw9RgbvZdspQ4GRuaL9so2jVeyRMu2nK8nt1G0L1yDOp2kO8gzLtoDvBmYotot3sqZFOBbtYNzlOBUptlCiFvJ5rCdF2cAxg5PCGI4QMzmUtyyXYUKHL5ZD3rkiJzAPKNIrTkDKMQytlwOA8EXE6IZS8FimrPzSPTSKIoK6wXcUxFOTyyqkAmygnBCkg8uOGISlyLVLYSYZIYli1ZWQIRlZBWoWPgEahY6IZiAfAM0oWWos9M0EZrovki6KccsSITjNaJXHHlBJK4khcRnklcdkhcceK5EFSiBPFQciCFJHksxqglJNjQaBolZL6iorgFIjQibF3o0VJMGUSEsqVIBLBmoYUOxmUpaLs3hYFHpqM+bKFEhZC4glcEf/9k=)"
   ]
  },
  {
   "cell_type": "markdown",
   "metadata": {},
   "source": [
    ".. NO, eso no es todo!!!"
   ]
  },
  {
   "cell_type": "markdown",
   "metadata": {},
   "source": [
    "Eso solo cubre el caso en que la matriz es densa. Si $A$ es [esparsa](https://en.wikipedia.org/wiki/Sparse_matrix) ( = sparse en ingles) hay otro diagrama de flujo. Estudiaremos los distintos tipos de matrices mas adelante en el curso."
   ]
  },
  {
   "cell_type": "markdown",
   "metadata": {},
   "source": [
    "<img src=\"https://wikimedia.org/api/rest_v1/media/math/render/svg/6f9ffcea50d5da4133ded17f526333fdda87f702\" alt=\"Diagrama de flujo para A \\ b en MATLAB\" style=\"width: 400px;\"/>"
   ]
  },
  {
   "cell_type": "markdown",
   "metadata": {},
   "source": [
    "<img src=\"https://upload.wikimedia.org/wikipedia/commons/8/8a/Finite_element_sparse_matrix.png\" alt=\"Diagrama de flujo para A \\ b en MATLAB\" style=\"width: 400px;\"/>"
   ]
  },
  {
   "cell_type": "markdown",
   "metadata": {},
   "source": [
    "<img src=\"https://i1.wp.com/www.mathworks.com/help/matlab/ref/mldivide_sparse.png?resize=594%2C1404&ssl=1\" alt=\"Diagrama de flujo para A \\ b en MATLAB\" style=\"width: 400px;\"/>"
   ]
  },
  {
   "cell_type": "markdown",
   "metadata": {},
   "source": [
    "En sintesis, para problemas reales *es imposible* (o para ser mas preciso, no es practico en un tiempo razonable) resolver $Ax = b$ a mano y se requiere elaborar una descripcion algoritmica del proceso de solucion, y una computadora para realizar el calculo.\n",
    "\n",
    "- Ok, y con eso alcanza? Resulta que utilizar una computadora para realizar el calculo nos \"compramos\" otro problema: los numeros reales no se pueden representar de manera exacta en una computadora, simplemente porque el sistema numerico en una computadora es finito.\n",
    "\n",
    "- De hecho, cada calculo (cada operacion elemental) puede dar lugar a un numero que no se representa de manera exacta en el sistema numerico utilizado por la computadora, y en ese caso, estaria agregando error a mi calculo."
   ]
  },
  {
   "cell_type": "markdown",
   "metadata": {},
   "source": [
    "### Algunas consideraciones preliminares para el problema $Ax = b$"
   ]
  },
  {
   "cell_type": "markdown",
   "metadata": {},
   "source": [
    "- Si la matriz es invertible en los numeros reales, tambien lo es en el *sistema numerico utilizado por la computadora*?\n",
    "\n",
    "- Que *errores* cometemos representando nuestra matriz $A$ en la computadora?\n",
    "\n",
    "- Que *errores* cometemos cuando utilizamos nuestro algoritmo para calcular la solucion?\n",
    "\n",
    "- Cuan *costoso* es el algoritmo?\n",
    "    - Tiempo\n",
    "    - Espacio (memoria)\n",
    "    - Como se mide el costo de un algoritmo?\n",
    "    \n",
    "- Cuan *estable* es el algoritmo?\n",
    "    - Si cambio un poco los datos, eg. un coeficiente o el lado derecho $b$, como esto afecta mi solucion?\n",
    "\n",
    "- Puedo explotar la *estructura* de la matriz $A$ en caso de que la tenga?\n",
    "\n",
    "- Que pasa si no tengo un sistema cuadrado sino que tengo una matriz $A \\in \\mathbb{R}^{m \\times n}$ y un vector $b \\in \\mathbb{R}^m$?\n",
    "    - Si $m > n$ el sistema es sobre-determinado y en general no puedo encontar una solucion unica pero me puede interesar encontrar un vector que se aproxima a una solucion.\n",
    "    - Si $m < n$ tenemos un sistema sub-determinado y debemos elegir una entre muchas posibles soluciones."
   ]
  },
  {
   "cell_type": "markdown",
   "metadata": {},
   "source": [
    "### Problemas de valores propios"
   ]
  },
  {
   "cell_type": "markdown",
   "metadata": {},
   "source": [
    "Otro problema que estudiaremos en este curso es el problema de valores propios: encontrar numeros $\\lambda \\in \\mathbb{C}$ y vectores $x \\in \\mathbb{C}^n \\setminus \\{ 0 \\}$ tales que\n",
    "\n",
    "$$\n",
    "Ax = \\lambda x.\n",
    "$$"
   ]
  },
  {
   "cell_type": "markdown",
   "metadata": {},
   "source": [
    "- Encontrar valores y vectores propios esta motivado por las *aplicaciones* del ALN."
   ]
  },
  {
   "cell_type": "markdown",
   "metadata": {},
   "source": [
    "![](data:image/jpeg;base64,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)"
   ]
  },
  {
   "cell_type": "markdown",
   "metadata": {},
   "source": [
    "- Por otro lado, los valores propios tambien tienen un rol importante en la estimacion de errores de los algoritmos y en particular su estabilidad."
   ]
  },
  {
   "cell_type": "markdown",
   "metadata": {},
   "source": [
    "### Temario\n",
    "\n",
    "1. Introducción al lenguaje de computación científica Julia.\n",
    "2. Métodos directos para la resolución de sistemas lineales.\n",
    "3. Estabilidad y precisión de algoritmos numéricos.\n",
    "4. Análisis de errores. Aritmética de punto flotante y estándar IEEE-754.\n",
    "5. Descomposición en valores propios. Factorización SVD y QR.\n",
    "6. Métodos iterativos. Métodos del subespacio de Krylov.\n",
    "7. Matrices estructuradas. Matrices esparsas. Matrices no normales. Pseudoespectro.\n",
    "8. Aplicaciones modernas. Transformada de Fourier. Filtro de Kalman. Redes neuronales profundas. Control predictivo por modelo. Integración validada."
   ]
  },
  {
   "cell_type": "markdown",
   "metadata": {},
   "source": [
    "-> 4 semanas: Fundamentos.\n",
    "\n",
    "-> 8 semanas: Problemas lineales.\n",
    "\n",
    "-> 4 semanas: Aplicaciones."
   ]
  },
  {
   "cell_type": "markdown",
   "metadata": {},
   "source": [
    "### Objetivo\n",
    "\n",
    "Introducir a los estudiantes a la teoría fundamental del análisis numérico con vistas a algunas aplicaciones modernas del álgebra en espacios de dimensión finita. Construir y profundizar sobre los conocimientos de álgebra lineal que los estudiantes poseen, desarrollando pruebas de concepto computacionales."
   ]
  },
  {
   "cell_type": "markdown",
   "metadata": {},
   "source": [
    "## Bibliografia"
   ]
  },
  {
   "cell_type": "markdown",
   "metadata": {},
   "source": [
    "### Basica"
   ]
  },
  {
   "cell_type": "markdown",
   "metadata": {},
   "source": [
    "- Wendland, Holger. Numerical linear algebra: an introduction. Vol. 56. Cambridge University Press, 2017.\n",
    "\n",
    "- Beilina, Larisa, Evgenii Karchevskii, and Mikhail Karchevskii. Numerical linear algebra: Theory and applications. Springer International Publishing, 2017.\n",
    "\n",
    "- Bornemann, F. Numerical Linear Algebra."
   ]
  },
  {
   "cell_type": "markdown",
   "metadata": {},
   "source": [
    "### Referencia"
   ]
  },
  {
   "cell_type": "markdown",
   "metadata": {},
   "source": [
    "- Golan, J. The linear algebra a beginning graduate student ought to know.\n",
    "- G. Golub and C. Van Loan, Matrix Computations, 3rd Ed., Johns Hopkins Series in the Mathematical Sciences, 3, Johns Hopkins University Press, Baltimore, MD, 1996.\n",
    "\n",
    "- L.N. Trefethen and D. Bau, Numerical Linear Algebra, SIAM, Philadelphia, PA, 1997.\n",
    "\n",
    "- J. Demmel, Applied Numerical Linear Algebra, SIAM, Philadelphia, PA, 1997.\n",
    "\n",
    "- N.J. Higham, Accuracy and Stability of Numerical Algorithms, 2nd Ed., SIAM, Philadelphia, PA, 2002. \n",
    "\n",
    "- Lloyd N. Trefethen, Spectra and pseudospectra, The Graduate Student’s Guide to Numerical Analysis, 98. Springer, Berlin, Heidelberg, 217-250, 1999.\n",
    "\n",
    "- Ian Goodfellow, Yoshua Bengio, and Aaron Courville. Deep learning. MIT press, 2016.\n",
    "\n",
    "- Blanchini, Franco, and Stefano Miani. Set-theoretic methods in control. Boston: Birkhäuser, 2008.\n",
    "- E. F. Camacho, C. Bordons, Model Predictive Control, Advanced Textbooks in Control and Signal Processing. Springer, 2007"
   ]
  },
  {
   "cell_type": "markdown",
   "metadata": {},
   "source": [
    "# ¿Qué sigue?"
   ]
  },
  {
   "cell_type": "markdown",
   "metadata": {},
   "source": [
    "- Notacion. Tipos basicos de matrices.\n",
    "- Repaso de numeros complejos.\n",
    "- Repaso de polinomios."
   ]
  }
 ],
 "metadata": {
  "kernelspec": {
   "display_name": "Julia 1.3.1",
   "language": "julia",
   "name": "julia-1.3"
  },
  "language_info": {
   "file_extension": ".jl",
   "mimetype": "application/julia",
   "name": "julia",
   "version": "1.3.1"
  }
 },
 "nbformat": 4,
 "nbformat_minor": 2
}
